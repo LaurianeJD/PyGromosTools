{
 "cells": [
  {
   "cell_type": "code",
   "execution_count": 1,
   "metadata": {},
   "outputs": [],
   "source": [
    "import os"
   ]
  },
  {
   "cell_type": "code",
   "execution_count": 2,
   "metadata": {},
   "outputs": [
    {
     "name": "stderr",
     "output_type": "stream",
     "text": [
      "Warning: importing 'simtk.openmm' is deprecated.  Import 'openmm' instead.\n",
      "Warning: Unable to load toolkit 'OpenEye Toolkit'. The Open Force Field Toolkit does not require the OpenEye Toolkits, and can use RDKit/AmberTools instead. However, if you have a valid license for the OpenEye Toolkits, consider installing them for faster performance and additional file format support: https://docs.eyesopen.com/toolkits/python/quickstart-python/linuxosx.html OpenEye offers free Toolkit licenses for academics: https://www.eyesopen.com/academic-licensing\n"
     ]
    },
    {
     "data": {
      "application/vnd.jupyter.widget-view+json": {
       "model_id": "1b59f78d10684821bb791eeeec6731f7",
       "version_major": 2,
       "version_minor": 0
      },
      "text/plain": []
     },
     "metadata": {},
     "output_type": "display_data"
    }
   ],
   "source": [
    "from pygromos.files.gromos_system.ff.forcefield_system import forcefield_system\n",
    "from pygromos.files.gromos_system.gromos_system import Gromos_System\n",
    "from pygromos.simulations.approaches.hvap_calculation.hvap_calculation import Hvap_calculation\n",
    "from pygromos.data.simulation_parameters_templates import template_sd"
   ]
  },
  {
   "cell_type": "code",
   "execution_count": 3,
   "metadata": {},
   "outputs": [],
   "source": [
    "work_dir=os.getcwd()+\"/example_files/Hvap_files/\"\n",
    "gromosXX_path=None \n",
    "gromosPP_path=None"
   ]
  },
  {
   "cell_type": "code",
   "execution_count": 4,
   "metadata": {},
   "outputs": [],
   "source": [
    "ff = forcefield_system(name=\"54A7\")\n",
    "ff.mol_name = \"H2O\""
   ]
  },
  {
   "cell_type": "code",
   "execution_count": 5,
   "metadata": {},
   "outputs": [],
   "source": [
    "groSys = Gromos_System(work_folder=work_dir+\"init/\", system_name=\"Hvap_test\", in_smiles=\"O\",\n",
    "                       auto_convert=True, Forcefield=ff, in_imd_path=template_sd,\n",
    "                       in_gromosPP_bin_dir=gromosPP_path, in_gromosXX_bin_dir=gromosXX_path)"
   ]
  },
  {
   "cell_type": "code",
   "execution_count": 6,
   "metadata": {},
   "outputs": [],
   "source": [
    "hvap_sys=Hvap_calculation(input_system=groSys, work_folder=work_dir+\"hvap\", forcefield=ff, system_name=\"test\", useGromosPlsPls=True)"
   ]
  },
  {
   "cell_type": "code",
   "execution_count": 7,
   "metadata": {},
   "outputs": [
    {
     "name": "stdout",
     "output_type": "stream",
     "text": [
      "ran_box @topo /home/bschroed/Documents/projects/PyGromosTools/examples/example_files/Hvap_files/hvap/test_gas/Hvap_test.top @pbc r @pos /home/bschroed/Documents/projects/PyGromosTools/examples/example_files/Hvap_files/hvap/test_gas/Hvap_test.cnf @nsm 700 @dens 700  @thresh 0.1 @layer  > /home/bschroed/Documents/projects/PyGromosTools/examples/example_files/Hvap_files/hvap/temp.cnf \n",
      "\n"
     ]
    }
   ],
   "source": [
    "hvap_sys.create_liq()"
   ]
  },
  {
   "cell_type": "code",
   "execution_count": 8,
   "metadata": {},
   "outputs": [
    {
     "name": "stdout",
     "output_type": "stream",
     "text": [
      "################################################################################\n",
      "\n",
      "1_emin\n",
      "################################################################################\n",
      "\n",
      "Script:  /home/bschroed/Documents/projects/PyGromosTools/pygromos/simulations/hpc_queuing/job_scheduling/schedulers/simulation_scheduler.py\n",
      "\n",
      "################################################################################\n",
      "Simulation Setup:\n",
      "################################################################################\n",
      "\n",
      "steps_per_run:  3000\n",
      "equis:  0\n",
      "simulation runs:  1\n",
      "################################################################################\n",
      "\n",
      " submit final analysis part \n",
      "\n",
      "/home/bschroed/Documents/projects/PyGromosTools/examples/example_files/Hvap_files/hvap/test_gas/1_emin/ana_out.log\n",
      "/home/bschroed/Documents/projects/PyGromosTools/examples/example_files/Hvap_files/hvap/test_gas/1_emin/job_analysis.py\n",
      "ANA jobID: 0\n"
     ]
    },
    {
     "name": "stderr",
     "output_type": "stream",
     "text": [
      "sh: 0: getcwd() failed: No such file or directory\n",
      "sh: 0: getcwd() failed: No such file or directory\n",
      "sh: 0: getcwd() failed: No such file or directory\n",
      "sh: 0: getcwd() failed: No such file or directory\n",
      "sh: 0: getcwd() failed: No such file or directory\n",
      "sh: 0: getcwd() failed: No such file or directory\n"
     ]
    },
    {
     "name": "stdout",
     "output_type": "stream",
     "text": [
      "################################################################################\n",
      "\n",
      "2_eq\n",
      "################################################################################\n",
      "\n",
      "Script:  /home/bschroed/Documents/projects/PyGromosTools/pygromos/simulations/hpc_queuing/job_scheduling/schedulers/simulation_scheduler.py\n",
      "\n",
      "################################################################################\n",
      "Simulation Setup:\n",
      "################################################################################\n",
      "\n",
      "steps_per_run:  20000\n",
      "equis:  0\n",
      "simulation runs:  1\n",
      "################################################################################\n",
      "\n",
      " submit final analysis part \n",
      "\n",
      "/home/bschroed/Documents/projects/PyGromosTools/examples/example_files/Hvap_files/hvap/test_gas/2_eq/ana_out.log\n",
      "/home/bschroed/Documents/projects/PyGromosTools/examples/example_files/Hvap_files/hvap/test_gas/2_eq/job_analysis.py\n",
      "ANA jobID: 0\n"
     ]
    },
    {
     "name": "stderr",
     "output_type": "stream",
     "text": [
      "sh: 0: getcwd() failed: No such file or directory\n",
      "sh: 0: getcwd() failed: No such file or directory\n",
      "sh: 0: getcwd() failed: No such file or directory\n",
      "sh: 0: getcwd() failed: No such file or directory\n",
      "sh: 0: getcwd() failed: No such file or directory\n",
      "sh: 0: getcwd() failed: No such file or directory\n"
     ]
    },
    {
     "name": "stdout",
     "output_type": "stream",
     "text": [
      "################################################################################\n",
      "\n",
      "3_sd\n",
      "################################################################################\n",
      "\n",
      "Script:  /home/bschroed/Documents/projects/PyGromosTools/pygromos/simulations/hpc_queuing/job_scheduling/schedulers/simulation_scheduler.py\n",
      "\n",
      "################################################################################\n",
      "Simulation Setup:\n",
      "################################################################################\n",
      "\n",
      "steps_per_run:  20000\n",
      "equis:  0\n",
      "simulation runs:  1\n",
      "################################################################################\n",
      "\n",
      " submit final analysis part \n",
      "\n",
      "/home/bschroed/Documents/projects/PyGromosTools/examples/example_files/Hvap_files/hvap/test_gas/3_sd/ana_out.log\n",
      "/home/bschroed/Documents/projects/PyGromosTools/examples/example_files/Hvap_files/hvap/test_gas/3_sd/job_analysis.py\n",
      "ANA jobID: 0\n"
     ]
    }
   ],
   "source": [
    "hvap_sys.run_gas()"
   ]
  },
  {
   "cell_type": "code",
   "execution_count": 9,
   "metadata": {},
   "outputs": [
    {
     "name": "stderr",
     "output_type": "stream",
     "text": [
      "sh: 0: getcwd() failed: No such file or directory\n",
      "sh: 0: getcwd() failed: No such file or directory\n",
      "sh: 0: getcwd() failed: No such file or directory\n",
      "sh: 0: getcwd() failed: No such file or directory\n",
      "sh: 0: getcwd() failed: No such file or directory\n",
      "sh: 0: getcwd() failed: No such file or directory\n"
     ]
    },
    {
     "name": "stdout",
     "output_type": "stream",
     "text": [
      "################################################################################\n",
      "\n",
      "1_emin\n",
      "################################################################################\n",
      "\n",
      "Script:  /home/bschroed/Documents/projects/PyGromosTools/pygromos/simulations/hpc_queuing/job_scheduling/schedulers/simulation_scheduler.py\n",
      "\n",
      "################################################################################\n",
      "Simulation Setup:\n",
      "################################################################################\n",
      "\n",
      "steps_per_run:  3000\n",
      "equis:  0\n",
      "simulation runs:  1\n",
      "################################################################################\n",
      "\n",
      " submit final analysis part \n",
      "\n",
      "/home/bschroed/Documents/projects/PyGromosTools/examples/example_files/Hvap_files/hvap/test_liq/1_emin/ana_out.log\n",
      "/home/bschroed/Documents/projects/PyGromosTools/examples/example_files/Hvap_files/hvap/test_liq/1_emin/job_analysis.py\n",
      "ANA jobID: 0\n"
     ]
    },
    {
     "name": "stderr",
     "output_type": "stream",
     "text": [
      "sh: 0: getcwd() failed: No such file or directory\n",
      "sh: 0: getcwd() failed: No such file or directory\n",
      "sh: 0: getcwd() failed: No such file or directory\n",
      "sh: 0: getcwd() failed: No such file or directory\n",
      "sh: 0: getcwd() failed: No such file or directory\n",
      "sh: 0: getcwd() failed: No such file or directory\n"
     ]
    },
    {
     "name": "stdout",
     "output_type": "stream",
     "text": [
      "################################################################################\n",
      "\n",
      "2_eq\n",
      "################################################################################\n",
      "\n",
      "Script:  /home/bschroed/Documents/projects/PyGromosTools/pygromos/simulations/hpc_queuing/job_scheduling/schedulers/simulation_scheduler.py\n",
      "\n",
      "################################################################################\n",
      "Simulation Setup:\n",
      "################################################################################\n",
      "\n",
      "steps_per_run:  50000\n",
      "equis:  0\n",
      "simulation runs:  1\n"
     ]
    },
    {
     "name": "stderr",
     "output_type": "stream",
     "text": [
      "/home/bschroed/Documents/projects/PyGromosTools/pygromos/utils/bash.py:815: UserWarning: TIME OUT WITH: /home/bschroed/Documents/projects/PyGromosTools/examples/example_files/Hvap_files/hvap/test_liq/2_eq/simulation/2_eq_1/job_2_eq_1.sh\n",
      "  warnings.warn(\"TIME OUT WITH: \" + str(command))\n"
     ]
    },
    {
     "name": "stdout",
     "output_type": "stream",
     "text": [
      "Continue Waiting: \n",
      "################################################################################\n",
      "\n",
      " submit final analysis part \n",
      "\n",
      "/home/bschroed/Documents/projects/PyGromosTools/examples/example_files/Hvap_files/hvap/test_liq/2_eq/ana_out.log\n",
      "/home/bschroed/Documents/projects/PyGromosTools/examples/example_files/Hvap_files/hvap/test_liq/2_eq/job_analysis.py\n",
      "ANA jobID: 0\n"
     ]
    },
    {
     "name": "stderr",
     "output_type": "stream",
     "text": [
      "sh: 0: getcwd() failed: No such file or directory\n",
      "sh: 0: getcwd() failed: No such file or directory\n",
      "sh: 0: getcwd() failed: No such file or directory\n",
      "sh: 0: getcwd() failed: No such file or directory\n",
      "sh: 0: getcwd() failed: No such file or directory\n",
      "sh: 0: getcwd() failed: No such file or directory\n"
     ]
    },
    {
     "name": "stdout",
     "output_type": "stream",
     "text": [
      "################################################################################\n",
      "\n",
      "3_sd\n",
      "################################################################################\n",
      "\n",
      "Script:  /home/bschroed/Documents/projects/PyGromosTools/pygromos/simulations/hpc_queuing/job_scheduling/schedulers/simulation_scheduler.py\n",
      "\n",
      "################################################################################\n",
      "Simulation Setup:\n",
      "################################################################################\n",
      "\n",
      "steps_per_run:  50000\n",
      "equis:  0\n",
      "simulation runs:  1\n"
     ]
    },
    {
     "name": "stderr",
     "output_type": "stream",
     "text": [
      "/home/bschroed/Documents/projects/PyGromosTools/pygromos/utils/bash.py:815: UserWarning: TIME OUT WITH: /home/bschroed/Documents/projects/PyGromosTools/examples/example_files/Hvap_files/hvap/test_liq/3_sd/simulation/3_sd_1/job_3_sd_1.sh\n",
      "  warnings.warn(\"TIME OUT WITH: \" + str(command))\n"
     ]
    },
    {
     "name": "stdout",
     "output_type": "stream",
     "text": [
      "Continue Waiting: \n"
     ]
    },
    {
     "ename": "KeyboardInterrupt",
     "evalue": "",
     "output_type": "error",
     "traceback": [
      "\u001b[0;31m---------------------------------------------------------------------------\u001b[0m",
      "\u001b[0;31mTimeoutExpired\u001b[0m                            Traceback (most recent call last)",
      "File \u001b[0;32m~/Documents/projects/PyGromosTools/pygromos/utils/bash.py:813\u001b[0m, in \u001b[0;36mexecute_subprocess\u001b[0;34m(command, catch_STD, env, verbose)\u001b[0m\n\u001b[1;32m    <a href='file:///home/bschroed/Documents/projects/PyGromosTools/pygromos/utils/bash.py?line=811'>812</a>\u001b[0m \u001b[39mtry\u001b[39;00m:\n\u001b[0;32m--> <a href='file:///home/bschroed/Documents/projects/PyGromosTools/pygromos/utils/bash.py?line=812'>813</a>\u001b[0m     p\u001b[39m.\u001b[39;49mwait(\u001b[39m120\u001b[39;49m)  \u001b[39m# Wait for process to finish\u001b[39;00m\n\u001b[1;32m    <a href='file:///home/bschroed/Documents/projects/PyGromosTools/pygromos/utils/bash.py?line=813'>814</a>\u001b[0m \u001b[39mexcept\u001b[39;00m sub\u001b[39m.\u001b[39mTimeoutExpired:\n",
      "File \u001b[0;32m~/anaconda3/envs/pygromosDev/lib/python3.9/subprocess.py:1189\u001b[0m, in \u001b[0;36mPopen.wait\u001b[0;34m(self, timeout)\u001b[0m\n\u001b[1;32m   <a href='file:///home/bschroed/anaconda3/envs/pygromosDev/lib/python3.9/subprocess.py?line=1187'>1188</a>\u001b[0m \u001b[39mtry\u001b[39;00m:\n\u001b[0;32m-> <a href='file:///home/bschroed/anaconda3/envs/pygromosDev/lib/python3.9/subprocess.py?line=1188'>1189</a>\u001b[0m     \u001b[39mreturn\u001b[39;00m \u001b[39mself\u001b[39;49m\u001b[39m.\u001b[39;49m_wait(timeout\u001b[39m=\u001b[39;49mtimeout)\n\u001b[1;32m   <a href='file:///home/bschroed/anaconda3/envs/pygromosDev/lib/python3.9/subprocess.py?line=1189'>1190</a>\u001b[0m \u001b[39mexcept\u001b[39;00m \u001b[39mKeyboardInterrupt\u001b[39;00m:\n\u001b[1;32m   <a href='file:///home/bschroed/anaconda3/envs/pygromosDev/lib/python3.9/subprocess.py?line=1190'>1191</a>\u001b[0m     \u001b[39m# https://bugs.python.org/issue25942\u001b[39;00m\n\u001b[1;32m   <a href='file:///home/bschroed/anaconda3/envs/pygromosDev/lib/python3.9/subprocess.py?line=1191'>1192</a>\u001b[0m     \u001b[39m# The first keyboard interrupt waits briefly for the child to\u001b[39;00m\n\u001b[1;32m   <a href='file:///home/bschroed/anaconda3/envs/pygromosDev/lib/python3.9/subprocess.py?line=1192'>1193</a>\u001b[0m     \u001b[39m# exit under the common assumption that it also received the ^C\u001b[39;00m\n\u001b[1;32m   <a href='file:///home/bschroed/anaconda3/envs/pygromosDev/lib/python3.9/subprocess.py?line=1193'>1194</a>\u001b[0m     \u001b[39m# generated SIGINT and will exit rapidly.\u001b[39;00m\n",
      "File \u001b[0;32m~/anaconda3/envs/pygromosDev/lib/python3.9/subprocess.py:1909\u001b[0m, in \u001b[0;36mPopen._wait\u001b[0;34m(self, timeout)\u001b[0m\n\u001b[1;32m   <a href='file:///home/bschroed/anaconda3/envs/pygromosDev/lib/python3.9/subprocess.py?line=1907'>1908</a>\u001b[0m \u001b[39mif\u001b[39;00m remaining \u001b[39m<\u001b[39m\u001b[39m=\u001b[39m \u001b[39m0\u001b[39m:\n\u001b[0;32m-> <a href='file:///home/bschroed/anaconda3/envs/pygromosDev/lib/python3.9/subprocess.py?line=1908'>1909</a>\u001b[0m     \u001b[39mraise\u001b[39;00m TimeoutExpired(\u001b[39mself\u001b[39m\u001b[39m.\u001b[39margs, timeout)\n\u001b[1;32m   <a href='file:///home/bschroed/anaconda3/envs/pygromosDev/lib/python3.9/subprocess.py?line=1909'>1910</a>\u001b[0m delay \u001b[39m=\u001b[39m \u001b[39mmin\u001b[39m(delay \u001b[39m*\u001b[39m \u001b[39m2\u001b[39m, remaining, \u001b[39m.05\u001b[39m)\n",
      "\u001b[0;31mTimeoutExpired\u001b[0m: Command '/home/bschroed/Documents/projects/PyGromosTools/examples/example_files/Hvap_files/hvap/test_liq/3_sd/simulation/3_sd_1/job_3_sd_1.sh' timed out after 120 seconds",
      "\nDuring handling of the above exception, another exception occurred:\n",
      "\u001b[0;31mKeyboardInterrupt\u001b[0m                         Traceback (most recent call last)",
      "\u001b[1;32m/home/bschroed/Documents/projects/PyGromosTools/examples/example_hvap.ipynb Cell 9'\u001b[0m in \u001b[0;36m<cell line: 1>\u001b[0;34m()\u001b[0m\n\u001b[0;32m----> <a href='vscode-notebook-cell://wsl%2Bubuntu/home/bschroed/Documents/projects/PyGromosTools/examples/example_hvap.ipynb#ch0000010vscode-remote?line=0'>1</a>\u001b[0m hvap_sys\u001b[39m.\u001b[39;49mrun_liq()\n",
      "File \u001b[0;32m~/Documents/projects/PyGromosTools/pygromos/simulations/approaches/hvap_calculation/hvap_calculation.py:237\u001b[0m, in \u001b[0;36mHvap_calculation.run_liq\u001b[0;34m(self)\u001b[0m\n\u001b[1;32m    <a href='file:///home/bschroed/Documents/projects/PyGromosTools/pygromos/simulations/approaches/hvap_calculation/hvap_calculation.py?line=234'>235</a>\u001b[0m sys_eq_liq\u001b[39m.\u001b[39mimd \u001b[39m=\u001b[39m \u001b[39mself\u001b[39m\u001b[39m.\u001b[39mimd_liq_md\n\u001b[1;32m    <a href='file:///home/bschroed/Documents/projects/PyGromosTools/pygromos/simulations/approaches/hvap_calculation/hvap_calculation.py?line=235'>236</a>\u001b[0m sys_eq_liq\u001b[39m.\u001b[39mprepare_for_simulation()\n\u001b[0;32m--> <a href='file:///home/bschroed/Documents/projects/PyGromosTools/pygromos/simulations/approaches/hvap_calculation/hvap_calculation.py?line=236'>237</a>\u001b[0m sys_md_liq \u001b[39m=\u001b[39m simulation(\n\u001b[1;32m    <a href='file:///home/bschroed/Documents/projects/PyGromosTools/pygromos/simulations/approaches/hvap_calculation/hvap_calculation.py?line=237'>238</a>\u001b[0m     in_gromos_simulation_system\u001b[39m=\u001b[39;49msys_eq_liq,\n\u001b[1;32m    <a href='file:///home/bschroed/Documents/projects/PyGromosTools/pygromos/simulations/approaches/hvap_calculation/hvap_calculation.py?line=238'>239</a>\u001b[0m     override_project_dir\u001b[39m=\u001b[39;49m\u001b[39mself\u001b[39;49m\u001b[39m.\u001b[39;49mgroSys_liq\u001b[39m.\u001b[39;49mwork_folder,\n\u001b[1;32m    <a href='file:///home/bschroed/Documents/projects/PyGromosTools/pygromos/simulations/approaches/hvap_calculation/hvap_calculation.py?line=239'>240</a>\u001b[0m     step_name\u001b[39m=\u001b[39;49m\u001b[39m\"\u001b[39;49m\u001b[39m3_sd\u001b[39;49m\u001b[39m\"\u001b[39;49m,\n\u001b[1;32m    <a href='file:///home/bschroed/Documents/projects/PyGromosTools/pygromos/simulations/approaches/hvap_calculation/hvap_calculation.py?line=240'>241</a>\u001b[0m     submission_system\u001b[39m=\u001b[39;49m\u001b[39mself\u001b[39;49m\u001b[39m.\u001b[39;49msubmissonSystem,\n\u001b[1;32m    <a href='file:///home/bschroed/Documents/projects/PyGromosTools/pygromos/simulations/approaches/hvap_calculation/hvap_calculation.py?line=241'>242</a>\u001b[0m     analysis_script\u001b[39m=\u001b[39;49msimulation_analysis\u001b[39m.\u001b[39;49mdo,\n\u001b[1;32m    <a href='file:///home/bschroed/Documents/projects/PyGromosTools/pygromos/simulations/approaches/hvap_calculation/hvap_calculation.py?line=242'>243</a>\u001b[0m     verbose\u001b[39m=\u001b[39;49m\u001b[39mself\u001b[39;49m\u001b[39m.\u001b[39;49mverbose,\n\u001b[1;32m    <a href='file:///home/bschroed/Documents/projects/PyGromosTools/pygromos/simulations/approaches/hvap_calculation/hvap_calculation.py?line=243'>244</a>\u001b[0m )\n\u001b[1;32m    <a href='file:///home/bschroed/Documents/projects/PyGromosTools/pygromos/simulations/approaches/hvap_calculation/hvap_calculation.py?line=245'>246</a>\u001b[0m \u001b[39mself\u001b[39m\u001b[39m.\u001b[39mgroSys_liq_final \u001b[39m=\u001b[39m sys_md_liq\n",
      "File \u001b[0;32m~/Documents/projects/PyGromosTools/pygromos/simulations/modules/general_simulation_modules.py:198\u001b[0m, in \u001b[0;36msimulation\u001b[0;34m(in_gromos_simulation_system, override_project_dir, step_name, in_imd_path, submission_system, simulation_runs, equilibration_runs, previous_simulation_run, force_simulation, initialize_first_run, reinitialize_every_run, analysis_script, analysis_control_dict, verbose, verbose_lvl, _template_imd_path)\u001b[0m\n\u001b[1;32m    <a href='file:///home/bschroed/Documents/projects/PyGromosTools/pygromos/simulations/modules/general_simulation_modules.py?line=195'>196</a>\u001b[0m         last_jobID \u001b[39m=\u001b[39m \u001b[39m0\u001b[39m\n\u001b[1;32m    <a href='file:///home/bschroed/Documents/projects/PyGromosTools/pygromos/simulations/modules/general_simulation_modules.py?line=196'>197</a>\u001b[0m     \u001b[39melse\u001b[39;00m:\n\u001b[0;32m--> <a href='file:///home/bschroed/Documents/projects/PyGromosTools/pygromos/simulations/modules/general_simulation_modules.py?line=197'>198</a>\u001b[0m         last_jobID \u001b[39m=\u001b[39m simulation_scheduler\u001b[39m.\u001b[39;49mdo(\n\u001b[1;32m    <a href='file:///home/bschroed/Documents/projects/PyGromosTools/pygromos/simulations/modules/general_simulation_modules.py?line=198'>199</a>\u001b[0m             in_simSystem\u001b[39m=\u001b[39;49mgromos_system,\n\u001b[1;32m    <a href='file:///home/bschroed/Documents/projects/PyGromosTools/pygromos/simulations/modules/general_simulation_modules.py?line=199'>200</a>\u001b[0m             out_dir_path\u001b[39m=\u001b[39;49mout_simulation_dir,\n\u001b[1;32m    <a href='file:///home/bschroed/Documents/projects/PyGromosTools/pygromos/simulations/modules/general_simulation_modules.py?line=200'>201</a>\u001b[0m             simulation_run_num\u001b[39m=\u001b[39;49msimulation_runs,\n\u001b[1;32m    <a href='file:///home/bschroed/Documents/projects/PyGromosTools/pygromos/simulations/modules/general_simulation_modules.py?line=201'>202</a>\u001b[0m             equilibration_run_num\u001b[39m=\u001b[39;49mequilibration_runs,\n\u001b[1;32m    <a href='file:///home/bschroed/Documents/projects/PyGromosTools/pygromos/simulations/modules/general_simulation_modules.py?line=202'>203</a>\u001b[0m             submission_system\u001b[39m=\u001b[39;49msubmission_system,\n\u001b[1;32m    <a href='file:///home/bschroed/Documents/projects/PyGromosTools/pygromos/simulations/modules/general_simulation_modules.py?line=203'>204</a>\u001b[0m             previous_job_ID\u001b[39m=\u001b[39;49mprevious_simulation_run,\n\u001b[1;32m    <a href='file:///home/bschroed/Documents/projects/PyGromosTools/pygromos/simulations/modules/general_simulation_modules.py?line=204'>205</a>\u001b[0m             initialize_first_run\u001b[39m=\u001b[39;49minitialize_first_run,\n\u001b[1;32m    <a href='file:///home/bschroed/Documents/projects/PyGromosTools/pygromos/simulations/modules/general_simulation_modules.py?line=205'>206</a>\u001b[0m             reinitialize_every_run\u001b[39m=\u001b[39;49mreinitialize_every_run,\n\u001b[1;32m    <a href='file:///home/bschroed/Documents/projects/PyGromosTools/pygromos/simulations/modules/general_simulation_modules.py?line=206'>207</a>\u001b[0m             analysis_script_path\u001b[39m=\u001b[39;49min_analysis_script_path,\n\u001b[1;32m    <a href='file:///home/bschroed/Documents/projects/PyGromosTools/pygromos/simulations/modules/general_simulation_modules.py?line=207'>208</a>\u001b[0m             verbose\u001b[39m=\u001b[39;49mverbose,\n\u001b[1;32m    <a href='file:///home/bschroed/Documents/projects/PyGromosTools/pygromos/simulations/modules/general_simulation_modules.py?line=208'>209</a>\u001b[0m             verbose_lvl\u001b[39m=\u001b[39;49mverbose_lvl,\n\u001b[1;32m    <a href='file:///home/bschroed/Documents/projects/PyGromosTools/pygromos/simulations/modules/general_simulation_modules.py?line=209'>210</a>\u001b[0m         )\n\u001b[1;32m    <a href='file:///home/bschroed/Documents/projects/PyGromosTools/pygromos/simulations/modules/general_simulation_modules.py?line=210'>211</a>\u001b[0m \u001b[39mexcept\u001b[39;00m \u001b[39mException\u001b[39;00m \u001b[39mas\u001b[39;00m err:\n\u001b[1;32m    <a href='file:///home/bschroed/Documents/projects/PyGromosTools/pygromos/simulations/modules/general_simulation_modules.py?line=211'>212</a>\u001b[0m     traceback\u001b[39m.\u001b[39mprint_exception(\u001b[39m*\u001b[39msys\u001b[39m.\u001b[39mexc_info())\n",
      "File \u001b[0;32m~/Documents/projects/PyGromosTools/pygromos/simulations/hpc_queuing/job_scheduling/schedulers/simulation_scheduler.py:171\u001b[0m, in \u001b[0;36mdo\u001b[0;34m(in_simSystem, out_dir_path, simulation_run_num, equilibration_run_num, work_dir, initialize_first_run, reinitialize_every_run, analysis_script_path, submission_system, previous_job_ID, no_double_submit, verbose, verbose_lvl)\u001b[0m\n\u001b[1;32m    <a href='file:///home/bschroed/Documents/projects/PyGromosTools/pygromos/simulations/hpc_queuing/job_scheduling/schedulers/simulation_scheduler.py?line=168'>169</a>\u001b[0m tmp_jobname \u001b[39m=\u001b[39m in_simSystem\u001b[39m.\u001b[39mname\n\u001b[1;32m    <a href='file:///home/bschroed/Documents/projects/PyGromosTools/pygromos/simulations/hpc_queuing/job_scheduling/schedulers/simulation_scheduler.py?line=169'>170</a>\u001b[0m previous_job_ID \u001b[39m=\u001b[39m previous_job_ID \u001b[39mif\u001b[39;00m (eq_job_id \u001b[39mis\u001b[39;00m \u001b[39mNone\u001b[39;00m) \u001b[39melse\u001b[39;00m eq_job_id\n\u001b[0;32m--> <a href='file:///home/bschroed/Documents/projects/PyGromosTools/pygromos/simulations/hpc_queuing/job_scheduling/schedulers/simulation_scheduler.py?line=170'>171</a>\u001b[0m previous_job_ID, tmp_jobname, in_simSystem \u001b[39m=\u001b[39m chain_submission(\n\u001b[1;32m    <a href='file:///home/bschroed/Documents/projects/PyGromosTools/pygromos/simulations/hpc_queuing/job_scheduling/schedulers/simulation_scheduler.py?line=171'>172</a>\u001b[0m     simSystem\u001b[39m=\u001b[39;49min_simSystem,\n\u001b[1;32m    <a href='file:///home/bschroed/Documents/projects/PyGromosTools/pygromos/simulations/hpc_queuing/job_scheduling/schedulers/simulation_scheduler.py?line=172'>173</a>\u001b[0m     out_dir_path\u001b[39m=\u001b[39;49mout_dir_path,\n\u001b[1;32m    <a href='file:///home/bschroed/Documents/projects/PyGromosTools/pygromos/simulations/hpc_queuing/job_scheduling/schedulers/simulation_scheduler.py?line=173'>174</a>\u001b[0m     out_prefix\u001b[39m=\u001b[39;49mtmp_outprefix,\n\u001b[1;32m    <a href='file:///home/bschroed/Documents/projects/PyGromosTools/pygromos/simulations/hpc_queuing/job_scheduling/schedulers/simulation_scheduler.py?line=174'>175</a>\u001b[0m     jobname\u001b[39m=\u001b[39;49mtmp_jobname,\n\u001b[1;32m    <a href='file:///home/bschroed/Documents/projects/PyGromosTools/pygromos/simulations/hpc_queuing/job_scheduling/schedulers/simulation_scheduler.py?line=175'>176</a>\u001b[0m     chain_job_repetitions\u001b[39m=\u001b[39;49mequilibration_run_num \u001b[39m+\u001b[39;49m simulation_run_num,\n\u001b[1;32m    <a href='file:///home/bschroed/Documents/projects/PyGromosTools/pygromos/simulations/hpc_queuing/job_scheduling/schedulers/simulation_scheduler.py?line=176'>177</a>\u001b[0m     start_run_index\u001b[39m=\u001b[39;49mequilibration_run_num \u001b[39m+\u001b[39;49m \u001b[39m1\u001b[39;49m,\n\u001b[1;32m    <a href='file:///home/bschroed/Documents/projects/PyGromosTools/pygromos/simulations/hpc_queuing/job_scheduling/schedulers/simulation_scheduler.py?line=177'>178</a>\u001b[0m     worker_script\u001b[39m=\u001b[39;49mworkerScript\u001b[39m.\u001b[39;49m\u001b[39m__file__\u001b[39;49m,\n\u001b[1;32m    <a href='file:///home/bschroed/Documents/projects/PyGromosTools/pygromos/simulations/hpc_queuing/job_scheduling/schedulers/simulation_scheduler.py?line=178'>179</a>\u001b[0m     job_submission_system\u001b[39m=\u001b[39;49msubmission_system,\n\u001b[1;32m    <a href='file:///home/bschroed/Documents/projects/PyGromosTools/pygromos/simulations/hpc_queuing/job_scheduling/schedulers/simulation_scheduler.py?line=179'>180</a>\u001b[0m     prefix_command\u001b[39m=\u001b[39;49m\u001b[39m\"\u001b[39;49m\u001b[39m\"\u001b[39;49m,\n\u001b[1;32m    <a href='file:///home/bschroed/Documents/projects/PyGromosTools/pygromos/simulations/hpc_queuing/job_scheduling/schedulers/simulation_scheduler.py?line=180'>181</a>\u001b[0m     previous_job_ID\u001b[39m=\u001b[39;49mprevious_job_ID,\n\u001b[1;32m    <a href='file:///home/bschroed/Documents/projects/PyGromosTools/pygromos/simulations/hpc_queuing/job_scheduling/schedulers/simulation_scheduler.py?line=181'>182</a>\u001b[0m     work_dir\u001b[39m=\u001b[39;49m\u001b[39mNone\u001b[39;49;00m,\n\u001b[1;32m    <a href='file:///home/bschroed/Documents/projects/PyGromosTools/pygromos/simulations/hpc_queuing/job_scheduling/schedulers/simulation_scheduler.py?line=182'>183</a>\u001b[0m     initialize_first_run\u001b[39m=\u001b[39;49minitialize_first_run,\n\u001b[1;32m    <a href='file:///home/bschroed/Documents/projects/PyGromosTools/pygromos/simulations/hpc_queuing/job_scheduling/schedulers/simulation_scheduler.py?line=183'>184</a>\u001b[0m     reinitialize_every_run\u001b[39m=\u001b[39;49mreinitialize_every_run,\n\u001b[1;32m    <a href='file:///home/bschroed/Documents/projects/PyGromosTools/pygromos/simulations/hpc_queuing/job_scheduling/schedulers/simulation_scheduler.py?line=184'>185</a>\u001b[0m     verbose\u001b[39m=\u001b[39;49mjob_verb,\n\u001b[1;32m    <a href='file:///home/bschroed/Documents/projects/PyGromosTools/pygromos/simulations/hpc_queuing/job_scheduling/schedulers/simulation_scheduler.py?line=185'>186</a>\u001b[0m )\n\u001b[1;32m    <a href='file:///home/bschroed/Documents/projects/PyGromosTools/pygromos/simulations/hpc_queuing/job_scheduling/schedulers/simulation_scheduler.py?line=187'>188</a>\u001b[0m ana_previous_job_ID \u001b[39m=\u001b[39m previous_job_ID\n\u001b[1;32m    <a href='file:///home/bschroed/Documents/projects/PyGromosTools/pygromos/simulations/hpc_queuing/job_scheduling/schedulers/simulation_scheduler.py?line=188'>189</a>\u001b[0m \u001b[39mif\u001b[39;00m analysis_script_path \u001b[39mis\u001b[39;00m \u001b[39mnot\u001b[39;00m \u001b[39mNone\u001b[39;00m:\n",
      "File \u001b[0;32m~/Documents/projects/PyGromosTools/pygromos/simulations/hpc_queuing/job_scheduling/schedulers/scheduler_functions.py:261\u001b[0m, in \u001b[0;36mchain_submission\u001b[0;34m(simSystem, out_dir_path, out_prefix, chain_job_repetitions, worker_script, job_submission_system, jobname, run_analysis_script_every_x_runs, in_analysis_script_path, start_run_index, prefix_command, previous_job_ID, work_dir, initialize_first_run, reinitialize_every_run, verbose, verbose_lvl)\u001b[0m\n\u001b[1;32m    <a href='file:///home/bschroed/Documents/projects/PyGromosTools/pygromos/simulations/hpc_queuing/job_scheduling/schedulers/scheduler_functions.py?line=250'>251</a>\u001b[0m os\u001b[39m.\u001b[39mchdir(tmp_outdir)\n\u001b[1;32m    <a href='file:///home/bschroed/Documents/projects/PyGromosTools/pygromos/simulations/hpc_queuing/job_scheduling/schedulers/scheduler_functions.py?line=251'>252</a>\u001b[0m sub_job \u001b[39m=\u001b[39m Submission_job(\n\u001b[1;32m    <a href='file:///home/bschroed/Documents/projects/PyGromosTools/pygromos/simulations/hpc_queuing/job_scheduling/schedulers/scheduler_functions.py?line=252'>253</a>\u001b[0m     command\u001b[39m=\u001b[39mmd_script_command,\n\u001b[1;32m    <a href='file:///home/bschroed/Documents/projects/PyGromosTools/pygromos/simulations/hpc_queuing/job_scheduling/schedulers/scheduler_functions.py?line=253'>254</a>\u001b[0m     jobName\u001b[39m=\u001b[39mtmp_jobname,\n\u001b[0;32m   (...)\u001b[0m\n\u001b[1;32m    <a href='file:///home/bschroed/Documents/projects/PyGromosTools/pygromos/simulations/hpc_queuing/job_scheduling/schedulers/scheduler_functions.py?line=258'>259</a>\u001b[0m     sumbit_from_file\u001b[39m=\u001b[39m\u001b[39mTrue\u001b[39;00m,\n\u001b[1;32m    <a href='file:///home/bschroed/Documents/projects/PyGromosTools/pygromos/simulations/hpc_queuing/job_scheduling/schedulers/scheduler_functions.py?line=259'>260</a>\u001b[0m )\n\u001b[0;32m--> <a href='file:///home/bschroed/Documents/projects/PyGromosTools/pygromos/simulations/hpc_queuing/job_scheduling/schedulers/scheduler_functions.py?line=260'>261</a>\u001b[0m previous_job_ID \u001b[39m=\u001b[39m job_submission_system\u001b[39m.\u001b[39;49msubmit_to_queue(sub_job)\n\u001b[1;32m    <a href='file:///home/bschroed/Documents/projects/PyGromosTools/pygromos/simulations/hpc_queuing/job_scheduling/schedulers/scheduler_functions.py?line=261'>262</a>\u001b[0m \u001b[39mif\u001b[39;00m verbose:\n\u001b[1;32m    <a href='file:///home/bschroed/Documents/projects/PyGromosTools/pygromos/simulations/hpc_queuing/job_scheduling/schedulers/scheduler_functions.py?line=262'>263</a>\u001b[0m     \u001b[39mprint\u001b[39m(\u001b[39m\"\u001b[39m\u001b[39mSIMULATION ID: \u001b[39m\u001b[39m\"\u001b[39m, previous_job_ID)\n",
      "File \u001b[0;32m~/Documents/projects/PyGromosTools/pygromos/simulations/hpc_queuing/submission_systems/local.py:71\u001b[0m, in \u001b[0;36mLOCAL.submit_to_queue\u001b[0;34m(self, sub_job)\u001b[0m\n\u001b[1;32m     <a href='file:///home/bschroed/Documents/projects/PyGromosTools/pygromos/simulations/hpc_queuing/submission_systems/local.py?line=68'>69</a>\u001b[0m \u001b[39mif\u001b[39;00m \u001b[39mself\u001b[39m\u001b[39m.\u001b[39msubmission:\n\u001b[1;32m     <a href='file:///home/bschroed/Documents/projects/PyGromosTools/pygromos/simulations/hpc_queuing/submission_systems/local.py?line=69'>70</a>\u001b[0m     \u001b[39mtry\u001b[39;00m:\n\u001b[0;32m---> <a href='file:///home/bschroed/Documents/projects/PyGromosTools/pygromos/simulations/hpc_queuing/submission_systems/local.py?line=70'>71</a>\u001b[0m         process \u001b[39m=\u001b[39m bash\u001b[39m.\u001b[39;49mexecute(command\u001b[39m=\u001b[39;49mcommand, catch_STD\u001b[39m=\u001b[39;49m\u001b[39mTrue\u001b[39;49;00m, env\u001b[39m=\u001b[39;49m\u001b[39mself\u001b[39;49m\u001b[39m.\u001b[39;49m_enviroment)\n\u001b[1;32m     <a href='file:///home/bschroed/Documents/projects/PyGromosTools/pygromos/simulations/hpc_queuing/submission_systems/local.py?line=71'>72</a>\u001b[0m         std_out_buff \u001b[39m=\u001b[39m \u001b[39mmap\u001b[39m(\u001b[39mstr\u001b[39m, process\u001b[39m.\u001b[39mstdout\u001b[39m.\u001b[39mreadlines())\n\u001b[1;32m     <a href='file:///home/bschroed/Documents/projects/PyGromosTools/pygromos/simulations/hpc_queuing/submission_systems/local.py?line=72'>73</a>\u001b[0m         std_out \u001b[39m=\u001b[39m \u001b[39m\"\u001b[39m\u001b[39m\\t\u001b[39;00m\u001b[39m\"\u001b[39m \u001b[39m+\u001b[39m \u001b[39m\"\u001b[39m\u001b[39m\\n\u001b[39;00m\u001b[39m\\t\u001b[39;00m\u001b[39m\"\u001b[39m\u001b[39m.\u001b[39mjoin(std_out_buff)\n",
      "File \u001b[0;32m~/Documents/projects/PyGromosTools/pygromos/utils/bash.py:930\u001b[0m, in \u001b[0;36mexecute\u001b[0;34m(command, verbose, catch_STD, env)\u001b[0m\n\u001b[1;32m    <a href='file:///home/bschroed/Documents/projects/PyGromosTools/pygromos/utils/bash.py?line=928'>929</a>\u001b[0m \u001b[39mdef\u001b[39;00m \u001b[39mexecute\u001b[39m(command: (\u001b[39mstr\u001b[39m \u001b[39mor\u001b[39;00m List[\u001b[39mstr\u001b[39m]), verbose: \u001b[39mbool\u001b[39m \u001b[39m=\u001b[39m \u001b[39mFalse\u001b[39;00m, catch_STD: Union[\u001b[39mbool\u001b[39m, \u001b[39mstr\u001b[39m] \u001b[39m=\u001b[39m \u001b[39mFalse\u001b[39;00m, env: \u001b[39mdict\u001b[39m \u001b[39m=\u001b[39m \u001b[39mNone\u001b[39;00m):\n\u001b[0;32m--> <a href='file:///home/bschroed/Documents/projects/PyGromosTools/pygromos/utils/bash.py?line=929'>930</a>\u001b[0m     \u001b[39mreturn\u001b[39;00m execute_subprocess(command\u001b[39m=\u001b[39;49mcommand, verbose\u001b[39m=\u001b[39;49mverbose, catch_STD\u001b[39m=\u001b[39;49mcatch_STD, env\u001b[39m=\u001b[39;49menv)\n",
      "File \u001b[0;32m~/Documents/projects/PyGromosTools/pygromos/utils/bash.py:817\u001b[0m, in \u001b[0;36mexecute_subprocess\u001b[0;34m(command, catch_STD, env, verbose)\u001b[0m\n\u001b[1;32m    <a href='file:///home/bschroed/Documents/projects/PyGromosTools/pygromos/utils/bash.py?line=814'>815</a>\u001b[0m     warnings\u001b[39m.\u001b[39mwarn(\u001b[39m\"\u001b[39m\u001b[39mTIME OUT WITH: \u001b[39m\u001b[39m\"\u001b[39m \u001b[39m+\u001b[39m \u001b[39mstr\u001b[39m(command))\n\u001b[1;32m    <a href='file:///home/bschroed/Documents/projects/PyGromosTools/pygromos/utils/bash.py?line=815'>816</a>\u001b[0m     \u001b[39mprint\u001b[39m(\u001b[39m\"\u001b[39m\u001b[39mContinue Waiting: \u001b[39m\u001b[39m\"\u001b[39m)\n\u001b[0;32m--> <a href='file:///home/bschroed/Documents/projects/PyGromosTools/pygromos/utils/bash.py?line=816'>817</a>\u001b[0m     p\u001b[39m.\u001b[39;49mwait()  \u001b[39m# Wait for process to finish\u001b[39;00m\n\u001b[1;32m    <a href='file:///home/bschroed/Documents/projects/PyGromosTools/pygromos/utils/bash.py?line=817'>818</a>\u001b[0m p\u001b[39m.\u001b[39mterminate()  \u001b[39m# Make sure its terminated\u001b[39;00m\n\u001b[1;32m    <a href='file:///home/bschroed/Documents/projects/PyGromosTools/pygromos/utils/bash.py?line=818'>819</a>\u001b[0m r \u001b[39m=\u001b[39m p\u001b[39m.\u001b[39mpoll()\n",
      "File \u001b[0;32m~/anaconda3/envs/pygromosDev/lib/python3.9/subprocess.py:1189\u001b[0m, in \u001b[0;36mPopen.wait\u001b[0;34m(self, timeout)\u001b[0m\n\u001b[1;32m   <a href='file:///home/bschroed/anaconda3/envs/pygromosDev/lib/python3.9/subprocess.py?line=1186'>1187</a>\u001b[0m     endtime \u001b[39m=\u001b[39m _time() \u001b[39m+\u001b[39m timeout\n\u001b[1;32m   <a href='file:///home/bschroed/anaconda3/envs/pygromosDev/lib/python3.9/subprocess.py?line=1187'>1188</a>\u001b[0m \u001b[39mtry\u001b[39;00m:\n\u001b[0;32m-> <a href='file:///home/bschroed/anaconda3/envs/pygromosDev/lib/python3.9/subprocess.py?line=1188'>1189</a>\u001b[0m     \u001b[39mreturn\u001b[39;00m \u001b[39mself\u001b[39;49m\u001b[39m.\u001b[39;49m_wait(timeout\u001b[39m=\u001b[39;49mtimeout)\n\u001b[1;32m   <a href='file:///home/bschroed/anaconda3/envs/pygromosDev/lib/python3.9/subprocess.py?line=1189'>1190</a>\u001b[0m \u001b[39mexcept\u001b[39;00m \u001b[39mKeyboardInterrupt\u001b[39;00m:\n\u001b[1;32m   <a href='file:///home/bschroed/anaconda3/envs/pygromosDev/lib/python3.9/subprocess.py?line=1190'>1191</a>\u001b[0m     \u001b[39m# https://bugs.python.org/issue25942\u001b[39;00m\n\u001b[1;32m   <a href='file:///home/bschroed/anaconda3/envs/pygromosDev/lib/python3.9/subprocess.py?line=1191'>1192</a>\u001b[0m     \u001b[39m# The first keyboard interrupt waits briefly for the child to\u001b[39;00m\n\u001b[1;32m   <a href='file:///home/bschroed/anaconda3/envs/pygromosDev/lib/python3.9/subprocess.py?line=1192'>1193</a>\u001b[0m     \u001b[39m# exit under the common assumption that it also received the ^C\u001b[39;00m\n\u001b[1;32m   <a href='file:///home/bschroed/anaconda3/envs/pygromosDev/lib/python3.9/subprocess.py?line=1193'>1194</a>\u001b[0m     \u001b[39m# generated SIGINT and will exit rapidly.\u001b[39;00m\n\u001b[1;32m   <a href='file:///home/bschroed/anaconda3/envs/pygromosDev/lib/python3.9/subprocess.py?line=1194'>1195</a>\u001b[0m     \u001b[39mif\u001b[39;00m timeout \u001b[39mis\u001b[39;00m \u001b[39mnot\u001b[39;00m \u001b[39mNone\u001b[39;00m:\n",
      "File \u001b[0;32m~/anaconda3/envs/pygromosDev/lib/python3.9/subprocess.py:1917\u001b[0m, in \u001b[0;36mPopen._wait\u001b[0;34m(self, timeout)\u001b[0m\n\u001b[1;32m   <a href='file:///home/bschroed/anaconda3/envs/pygromosDev/lib/python3.9/subprocess.py?line=1914'>1915</a>\u001b[0m \u001b[39mif\u001b[39;00m \u001b[39mself\u001b[39m\u001b[39m.\u001b[39mreturncode \u001b[39mis\u001b[39;00m \u001b[39mnot\u001b[39;00m \u001b[39mNone\u001b[39;00m:\n\u001b[1;32m   <a href='file:///home/bschroed/anaconda3/envs/pygromosDev/lib/python3.9/subprocess.py?line=1915'>1916</a>\u001b[0m     \u001b[39mbreak\u001b[39;00m  \u001b[39m# Another thread waited.\u001b[39;00m\n\u001b[0;32m-> <a href='file:///home/bschroed/anaconda3/envs/pygromosDev/lib/python3.9/subprocess.py?line=1916'>1917</a>\u001b[0m (pid, sts) \u001b[39m=\u001b[39m \u001b[39mself\u001b[39;49m\u001b[39m.\u001b[39;49m_try_wait(\u001b[39m0\u001b[39;49m)\n\u001b[1;32m   <a href='file:///home/bschroed/anaconda3/envs/pygromosDev/lib/python3.9/subprocess.py?line=1917'>1918</a>\u001b[0m \u001b[39m# Check the pid and loop as waitpid has been known to\u001b[39;00m\n\u001b[1;32m   <a href='file:///home/bschroed/anaconda3/envs/pygromosDev/lib/python3.9/subprocess.py?line=1918'>1919</a>\u001b[0m \u001b[39m# return 0 even without WNOHANG in odd situations.\u001b[39;00m\n\u001b[1;32m   <a href='file:///home/bschroed/anaconda3/envs/pygromosDev/lib/python3.9/subprocess.py?line=1919'>1920</a>\u001b[0m \u001b[39m# http://bugs.python.org/issue14396.\u001b[39;00m\n\u001b[1;32m   <a href='file:///home/bschroed/anaconda3/envs/pygromosDev/lib/python3.9/subprocess.py?line=1920'>1921</a>\u001b[0m \u001b[39mif\u001b[39;00m pid \u001b[39m==\u001b[39m \u001b[39mself\u001b[39m\u001b[39m.\u001b[39mpid:\n",
      "File \u001b[0;32m~/anaconda3/envs/pygromosDev/lib/python3.9/subprocess.py:1875\u001b[0m, in \u001b[0;36mPopen._try_wait\u001b[0;34m(self, wait_flags)\u001b[0m\n\u001b[1;32m   <a href='file:///home/bschroed/anaconda3/envs/pygromosDev/lib/python3.9/subprocess.py?line=1872'>1873</a>\u001b[0m \u001b[39m\"\"\"All callers to this function MUST hold self._waitpid_lock.\"\"\"\u001b[39;00m\n\u001b[1;32m   <a href='file:///home/bschroed/anaconda3/envs/pygromosDev/lib/python3.9/subprocess.py?line=1873'>1874</a>\u001b[0m \u001b[39mtry\u001b[39;00m:\n\u001b[0;32m-> <a href='file:///home/bschroed/anaconda3/envs/pygromosDev/lib/python3.9/subprocess.py?line=1874'>1875</a>\u001b[0m     (pid, sts) \u001b[39m=\u001b[39m os\u001b[39m.\u001b[39;49mwaitpid(\u001b[39mself\u001b[39;49m\u001b[39m.\u001b[39;49mpid, wait_flags)\n\u001b[1;32m   <a href='file:///home/bschroed/anaconda3/envs/pygromosDev/lib/python3.9/subprocess.py?line=1875'>1876</a>\u001b[0m \u001b[39mexcept\u001b[39;00m \u001b[39mChildProcessError\u001b[39;00m:\n\u001b[1;32m   <a href='file:///home/bschroed/anaconda3/envs/pygromosDev/lib/python3.9/subprocess.py?line=1876'>1877</a>\u001b[0m     \u001b[39m# This happens if SIGCLD is set to be ignored or waiting\u001b[39;00m\n\u001b[1;32m   <a href='file:///home/bschroed/anaconda3/envs/pygromosDev/lib/python3.9/subprocess.py?line=1877'>1878</a>\u001b[0m     \u001b[39m# for child processes has otherwise been disabled for our\u001b[39;00m\n\u001b[1;32m   <a href='file:///home/bschroed/anaconda3/envs/pygromosDev/lib/python3.9/subprocess.py?line=1878'>1879</a>\u001b[0m     \u001b[39m# process.  This child is dead, we can't get the status.\u001b[39;00m\n\u001b[1;32m   <a href='file:///home/bschroed/anaconda3/envs/pygromosDev/lib/python3.9/subprocess.py?line=1879'>1880</a>\u001b[0m     pid \u001b[39m=\u001b[39m \u001b[39mself\u001b[39m\u001b[39m.\u001b[39mpid\n",
      "\u001b[0;31mKeyboardInterrupt\u001b[0m: "
     ]
    }
   ],
   "source": [
    "hvap_sys.run_liq()"
   ]
  },
  {
   "cell_type": "code",
   "execution_count": null,
   "metadata": {},
   "outputs": [],
   "source": [
    "hvap_sys.calc_hvap()\n"
   ]
  },
  {
   "cell_type": "markdown",
   "metadata": {},
   "source": [
    "## How to deactivate binary checks:"
   ]
  },
  {
   "cell_type": "code",
   "execution_count": null,
   "metadata": {},
   "outputs": [],
   "source": [
    "#GromosLayer\n",
    "from pygromos.gromos.gromosXX import GromosXX\n",
    "\n",
    "grom = GromosXX(_dont_check_binary=True)\n",
    "\n",
    "\n",
    "#System Layer\n",
    "from pygromos.files.gromos_system.gromos_system import Gromos_System\n",
    "\n",
    "Gromos_System._gromos_noBinary_checks = True\n",
    "sys = Gromos_System()"
   ]
  },
  {
   "cell_type": "code",
   "execution_count": null,
   "metadata": {},
   "outputs": [],
   "source": []
  }
 ],
 "metadata": {
  "interpreter": {
   "hash": "b1b7b2ea43b8e767316eee98e01335d045804d2d47db68b6a5827e187ee91a7e"
  },
  "kernelspec": {
   "display_name": "Python 3.9.7 ('pygro2')",
   "language": "python",
   "name": "python3"
  },
  "language_info": {
   "codemirror_mode": {
    "name": "ipython",
    "version": 3
   },
   "file_extension": ".py",
   "mimetype": "text/x-python",
   "name": "python",
   "nbconvert_exporter": "python",
   "pygments_lexer": "ipython3",
   "version": "3.9.10"
  }
 },
 "nbformat": 4,
 "nbformat_minor": 4
}
