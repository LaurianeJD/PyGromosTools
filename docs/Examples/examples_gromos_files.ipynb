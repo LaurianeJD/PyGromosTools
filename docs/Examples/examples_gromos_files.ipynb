{
 "cells": [
  {
   "cell_type": "markdown",
   "metadata": {
    "collapsed": true,
    "pycharm": {
     "name": "#%% md\n"
    }
   },
   "source": [
    "# PyGromos File Examples"
   ]
  },
  {
   "cell_type": "code",
   "execution_count": 1,
   "metadata": {
    "collapsed": false,
    "pycharm": {
     "name": "#%%\n"
    }
   },
   "outputs": [],
   "source": [
    "import os, sys\n",
    "root_dir = os.getcwd()\n",
    "\n",
    "#if package is not installed and path not set correct - this helps you out :)\n",
    "sys.path.append(root_dir+\"/..\")"
   ]
  },
  {
   "cell_type": "markdown",
   "metadata": {
    "collapsed": false,
    "pycharm": {
     "name": "#%% md\n"
    }
   },
   "source": [
    "## IMD - Simulation Paramter File"
   ]
  },
  {
   "cell_type": "code",
   "execution_count": null,
   "metadata": {
    "collapsed": false,
    "pycharm": {
     "name": "#%%\n"
    }
   },
   "outputs": [],
   "source": [
    "from pygromos import files\n",
    "\n",
    "in_imd = \"../pygromos/data/imd_templates/md.imd\"\n",
    "out_imd=\"test.imd\"\n",
    "\n",
    "#load\n",
    "imd = files.Imd(in_imd)\n",
    "\n",
    "#change Solvent number in system:\n",
    "imd.SYSTEM.NSM = 500\n",
    "\n",
    "#add EDS block\n",
    "imd.edit_EDS(NUMSTATES=2, S=1.0, EIR=[0.0 for x in range(2)])\n",
    "\n",
    "#get_file content:\n",
    "print(imd)\n",
    "\n",
    "#store again\n",
    "out_imd = imd.write(out_imd)"
   ]
  },
  {
   "cell_type": "markdown",
   "metadata": {
    "collapsed": false,
    "pycharm": {
     "name": "#%% md\n"
    }
   },
   "source": [
    "## CNF - Coordinate File"
   ]
  },
  {
   "cell_type": "code",
   "execution_count": null,
   "metadata": {
    "collapsed": false,
    "pycharm": {
     "name": "#%%\n"
    }
   },
   "outputs": [],
   "source": [
    "\"\"\"\n",
    "    CNF\n",
    "\"\"\"\n",
    "from pygromos import files\n",
    "\n",
    "#load_cnf\n",
    "in_cnf=\"in_dir/to/my.cnf\"\n",
    "out_cnf=\"in_dir/to/new.cnf\"\n",
    "\n",
    "cnf = files.Cnf(in_cnf)\n",
    "\n",
    "#get residues of cnf\n",
    "residues = cnf.get_residues()\n",
    "\n",
    "#Delete Residues\n",
    "delete_ligands = [\"delete ME!\"]\n",
    "for resn in delete_ligands:\n",
    "    cnf.delete_residue(resName=resn)\n",
    "\n",
    "#set new title\n",
    "cnf._blocks[\"TITLE\"].content = \"  Ligands:\\t \" + \" \".join(lig_sys) + \"\\n\"\n",
    "\n",
    "#cleaning\n",
    "cnf.clean_posiResNums()\n",
    "\n",
    "#get_file content:\n",
    "print(cnf)\n",
    "\n",
    "#store again\n",
    "out_cnf = cnf.write(out_path=out_cnf)"
   ]
  },
  {
   "cell_type": "markdown",
   "metadata": {
    "collapsed": false
   },
   "source": [
    "## TRC - Coordinate Trajectory File"
   ]
  },
  {
   "cell_type": "code",
   "execution_count": null,
   "metadata": {
    "collapsed": false,
    "pycharm": {
     "name": "#%%\n"
    }
   },
   "outputs": [],
   "source": [
    "#This snippet converts multiple cnfs to a trajectory.\n",
    "import glob\n",
    "from pygromos import files\n",
    "\n",
    "in_cnfs_reg = \"*.cnf\"\n",
    "out_trc_path = \"concat_cnfs.trc\"\n",
    "cnfs = glob.glob(in_cnfs_reg)\n",
    "out_trc = files.Trc.cnfs_to_trc(cnfs)\n",
    "print(out_trc)\n",
    "out_trc.write(out_trc_path)\n"
   ]
  },
  {
   "cell_type": "markdown",
   "metadata": {
    "collapsed": false,
    "pycharm": {
     "name": "#%% md\n"
    }
   },
   "source": [
    "## TOP - topology File\n"
   ]
  },
  {
   "cell_type": "markdown",
   "metadata": {
    "collapsed": false,
    "pycharm": {
     "name": "#%% md\n"
    }
   },
   "source": [
    "## Other Files\n",
    "\n",
    "### MTB - topology building block file\n",
    "\n",
    "### IFP - topology parameter file"
   ]
  },
  {
   "cell_type": "code",
   "execution_count": null,
   "metadata": {
    "collapsed": false,
    "pycharm": {
     "name": "#%%\n"
    }
   },
   "outputs": [],
   "source": [
    "ifp_path = root+\"\\\\examples\\\\test\\\\54a7.ifp\"\n",
    "\n",
    "sys.path.append(root+\"/../../\")\n",
    "\n",
    "import pygromos\n",
    "from pygromos.files.topology import ifp\n",
    "#parse forcefield file\n",
    "myfp = ifp.ifp(ifp_path)\n",
    "myfp.write(os.getcwd()+\"/fun.ifp\")"
   ]
  },
  {
   "cell_type": "code",
   "execution_count": null,
   "metadata": {
    "collapsed": false,
    "pycharm": {
     "name": "#%%\n"
    }
   },
   "outputs": [],
   "source": [
    "#parse output and write out again\n",
    "test = ifp.ifp(os.getcwd()+\"/fun.ifp\")\n",
    "\n",
    "test.write(os.getcwd()+\"/fun.ifp\")"
   ]
  },
  {
   "cell_type": "markdown",
   "metadata": {
    "collapsed": false,
    "pycharm": {
     "name": "#%% md\n"
    }
   },
   "source": [
    "### disres - distance restraint file"
   ]
  }
 ],
 "metadata": {
  "kernelspec": {
   "display_name": "Python 3",
   "language": "python",
   "name": "python3"
  },
  "language_info": {
   "codemirror_mode": {
    "name": "ipython",
    "version": 2
   },
   "file_extension": ".py",
   "mimetype": "text/x-python",
   "name": "python",
   "nbconvert_exporter": "python",
   "pygments_lexer": "ipython2",
   "version": "2.7.6"
  }
 },
 "nbformat": 4,
 "nbformat_minor": 0
}
