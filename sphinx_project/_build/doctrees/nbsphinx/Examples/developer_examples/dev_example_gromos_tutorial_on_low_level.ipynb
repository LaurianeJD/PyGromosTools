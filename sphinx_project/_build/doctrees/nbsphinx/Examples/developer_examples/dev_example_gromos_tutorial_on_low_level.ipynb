{
 "cells": [
  {
   "cell_type": "markdown",
   "metadata": {
    "pycharm": {
     "name": "#%% md\n"
    }
   },
   "source": [
    "\n",
    "# Gromos Tutorial Pipeline - OLD\n",
    "\n",
    "**NOTE** This is the old way on how to do the Tutorial for Gromos! We want to remove this for the future, please checkout the new Tutorial!\n"
   ]
  },
  {
   "cell_type": "code",
   "execution_count": 1,
   "metadata": {
    "execution": {
     "iopub.execute_input": "2022-04-04T15:46:24.668947Z",
     "iopub.status.busy": "2022-04-04T15:46:24.668312Z",
     "iopub.status.idle": "2022-04-04T15:46:25.421986Z",
     "shell.execute_reply": "2022-04-04T15:46:25.421303Z"
    }
   },
   "outputs": [
    {
     "data": {
      "application/vnd.jupyter.widget-view+json": {
       "model_id": "6192db0db52c4baf9ed956db584d5b57",
       "version_major": 2,
       "version_minor": 0
      },
      "text/plain": []
     },
     "metadata": {},
     "output_type": "display_data"
    }
   ],
   "source": [
    "import os, sys\n",
    "from pygromos.utils import bash\n",
    "root_dir = os.getcwd()\n",
    "\n",
    "#if package is not installed and path not set correct - this helps you out :)\n",
    "sys.path.append(root_dir+\"/..\")\n",
    "\n",
    "\n",
    "import pygromos\n",
    "from pygromos.gromos.gromosPP import GromosPP\n",
    "from pygromos.gromos.gromosXX import GromosXX\n",
    "from pygromos.files.coord.cnf import Cnf\n",
    "from pygromos.files.trajectory.trc import Trc\n",
    "\n",
    "gromosPP_bin = None\n",
    "gromosXX_bin = None\n",
    "gromPP = GromosPP(gromosPP_bin)\n",
    "gromXX = GromosXX(gromosXX_bin)\n",
    "\n",
    "project_dir = os.path.abspath(os.path.dirname(pygromos.__file__)+\"/../examples/example_files/Tutorial_System\")\n",
    "input_dir = project_dir+\"/input\""
   ]
  },
  {
   "cell_type": "markdown",
   "metadata": {
    "pycharm": {
     "name": "#%% md\n"
    }
   },
   "source": [
    "## Build initial files\n",
    "### generate Topology\n",
    "#### build single topologies"
   ]
  },
  {
   "cell_type": "code",
   "execution_count": 2,
   "metadata": {
    "execution": {
     "iopub.execute_input": "2022-04-04T15:46:25.426290Z",
     "iopub.status.busy": "2022-04-04T15:46:25.426081Z",
     "iopub.status.idle": "2022-04-04T15:46:26.066134Z",
     "shell.execute_reply": "2022-04-04T15:46:26.065408Z"
    }
   },
   "outputs": [
    {
     "name": "stderr",
     "output_type": "stream",
     "text": [
      "mkdir: cannot create directory ‘/home/runner/micromamba/envs/pygromosTest/lib/python3.9/site-packages/examples/example_files/Tutorial_System/a_topo’: No such file or directory\n"
     ]
    },
    {
     "ename": "OSError",
     "evalue": "could not make folder:\n /home/runner/micromamba/envs/pygromosTest/lib/python3.9/site-packages/examples/example_files/Tutorial_System/a_topo",
     "output_type": "error",
     "traceback": [
      "\u001b[0;31m---------------------------------------------------------------------------\u001b[0m",
      "\u001b[0;31mOSError\u001b[0m                                   Traceback (most recent call last)",
      "Input \u001b[0;32mIn [2]\u001b[0m, in \u001b[0;36m<cell line: 3>\u001b[0;34m()\u001b[0m\n\u001b[1;32m      1\u001b[0m \u001b[38;5;28;01mfrom\u001b[39;00m \u001b[38;5;21;01mpygromos\u001b[39;00m\u001b[38;5;21;01m.\u001b[39;00m\u001b[38;5;21;01mdata\u001b[39;00m\u001b[38;5;21;01m.\u001b[39;00m\u001b[38;5;21;01mff\u001b[39;00m \u001b[38;5;28;01mimport\u001b[39;00m Gromos54A7\n\u001b[0;32m----> 3\u001b[0m topo_dir \u001b[38;5;241m=\u001b[39m \u001b[43mbash\u001b[49m\u001b[38;5;241;43m.\u001b[39;49m\u001b[43mmake_folder\u001b[49m\u001b[43m(\u001b[49m\u001b[43mproject_dir\u001b[49m\u001b[38;5;241;43m+\u001b[39;49m\u001b[38;5;124;43m'\u001b[39;49m\u001b[38;5;124;43m/a_topo\u001b[39;49m\u001b[38;5;124;43m'\u001b[39;49m\u001b[43m)\u001b[49m\n\u001b[1;32m      5\u001b[0m \u001b[38;5;66;03m## Make Cl-\u001b[39;00m\n\u001b[1;32m      6\u001b[0m sequence \u001b[38;5;241m=\u001b[39m \u001b[38;5;124m\"\u001b[39m\u001b[38;5;124mCL-\u001b[39m\u001b[38;5;124m\"\u001b[39m\n",
      "File \u001b[0;32m~/micromamba/envs/pygromosTest/lib/python3.9/site-packages/pygromos/utils/bash.py:558\u001b[0m, in \u001b[0;36mmake_folder\u001b[0;34m(in_directory_path, additional_option, verbose)\u001b[0m\n\u001b[1;32m    556\u001b[0m \u001b[38;5;28;01mif\u001b[39;00m \u001b[38;5;129;01mnot\u001b[39;00m os\u001b[38;5;241m.\u001b[39mpath\u001b[38;5;241m.\u001b[39misdir(in_directory_path):\n\u001b[1;32m    557\u001b[0m     \u001b[38;5;28;01mif\u001b[39;00m os\u001b[38;5;241m.\u001b[39msystem(mk_folder):\n\u001b[0;32m--> 558\u001b[0m         \u001b[38;5;28;01mraise\u001b[39;00m \u001b[38;5;167;01mOSError\u001b[39;00m(\u001b[38;5;124m\"\u001b[39m\u001b[38;5;124mcould not make folder:\u001b[39m\u001b[38;5;130;01m\\n\u001b[39;00m\u001b[38;5;124m \u001b[39m\u001b[38;5;124m\"\u001b[39m \u001b[38;5;241m+\u001b[39m \u001b[38;5;28mstr\u001b[39m(in_directory_path))\n\u001b[1;32m    560\u001b[0m \u001b[38;5;28;01melif\u001b[39;00m verbose:\n\u001b[1;32m    561\u001b[0m     warnings\u001b[38;5;241m.\u001b[39mwarn(\u001b[38;5;124m\"\u001b[39m\u001b[38;5;124mWARNING:\u001b[39m\u001b[38;5;130;01m\\n\u001b[39;00m\u001b[38;5;130;01m\\t\u001b[39;00m\u001b[38;5;124m Did not build already existing folder: \u001b[39m\u001b[38;5;124m\"\u001b[39m \u001b[38;5;241m+\u001b[39m in_directory_path, category\u001b[38;5;241m=\u001b[39m\u001b[38;5;167;01mUserWarning\u001b[39;00m)\n",
      "\u001b[0;31mOSError\u001b[0m: could not make folder:\n /home/runner/micromamba/envs/pygromosTest/lib/python3.9/site-packages/examples/example_files/Tutorial_System/a_topo"
     ]
    }
   ],
   "source": [
    "from pygromos.data.ff import Gromos54A7\n",
    "\n",
    "topo_dir = bash.make_folder(project_dir+'/a_topo')\n",
    "\n",
    "## Make Cl-\n",
    "sequence = \"CL-\"\n",
    "solvent = \"H2O\"\n",
    "top_cl = topo_dir+\"/cl.top\"\n",
    "\n",
    "gromPP.make_top(in_building_block_lib_path=Gromos54A7.mtb,\n",
    "                in_parameter_lib_path=Gromos54A7.ifp,\n",
    "                in_sequence=sequence, in_solvent=solvent,out_top_path=top_cl)\n",
    "\n",
    "## Make Peptide\n",
    "sequence = \"NH3+ VAL TYR ARG LYSH GLN COO-\"\n",
    "solvent = \"H2O\"\n",
    "top_peptide = topo_dir+\"/peptide.top\"\n",
    "\n",
    "gromPP.make_top(in_building_block_lib_path=Gromos54A7.mtb,\n",
    "                in_parameter_lib_path=Gromos54A7.ifp,\n",
    "                in_sequence=sequence,\n",
    "                in_solvent=solvent,out_top_path=top_peptide)\n"
   ]
  },
  {
   "cell_type": "markdown",
   "metadata": {
    "pycharm": {
     "name": "#%% md\n"
    }
   },
   "source": [
    "#### combine topology"
   ]
  },
  {
   "cell_type": "code",
   "execution_count": 3,
   "metadata": {
    "execution": {
     "iopub.execute_input": "2022-04-04T15:46:26.069735Z",
     "iopub.status.busy": "2022-04-04T15:46:26.069322Z",
     "iopub.status.idle": "2022-04-04T15:46:26.086311Z",
     "shell.execute_reply": "2022-04-04T15:46:26.085754Z"
    }
   },
   "outputs": [
    {
     "ename": "NameError",
     "evalue": "name 'topo_dir' is not defined",
     "output_type": "error",
     "traceback": [
      "\u001b[0;31m---------------------------------------------------------------------------\u001b[0m",
      "\u001b[0;31mNameError\u001b[0m                                 Traceback (most recent call last)",
      "Input \u001b[0;32mIn [3]\u001b[0m, in \u001b[0;36m<cell line: 1>\u001b[0;34m()\u001b[0m\n\u001b[0;32m----> 1\u001b[0m top_system \u001b[38;5;241m=\u001b[39m \u001b[43mtopo_dir\u001b[49m\u001b[38;5;241m+\u001b[39m\u001b[38;5;124m\"\u001b[39m\u001b[38;5;124m/vac_sys.top\u001b[39m\u001b[38;5;124m\"\u001b[39m\n\u001b[1;32m      2\u001b[0m gromPP\u001b[38;5;241m.\u001b[39mcom_top(in_topo_paths\u001b[38;5;241m=\u001b[39m[top_peptide, top_cl], topo_multiplier\u001b[38;5;241m=\u001b[39m[\u001b[38;5;241m1\u001b[39m,\u001b[38;5;241m2\u001b[39m], out_top_path\u001b[38;5;241m=\u001b[39mtop_system)\n",
      "\u001b[0;31mNameError\u001b[0m: name 'topo_dir' is not defined"
     ]
    }
   ],
   "source": [
    "top_system = topo_dir+\"/vac_sys.top\"\n",
    "gromPP.com_top(in_topo_paths=[top_peptide, top_cl], topo_multiplier=[1,2], out_top_path=top_system)\n"
   ]
  },
  {
   "cell_type": "markdown",
   "metadata": {},
   "source": [
    "### generate coordinates\n"
   ]
  },
  {
   "cell_type": "code",
   "execution_count": 4,
   "metadata": {
    "execution": {
     "iopub.execute_input": "2022-04-04T15:46:26.089296Z",
     "iopub.status.busy": "2022-04-04T15:46:26.088970Z",
     "iopub.status.idle": "2022-04-04T15:46:26.118175Z",
     "shell.execute_reply": "2022-04-04T15:46:26.117414Z"
    }
   },
   "outputs": [
    {
     "name": "stderr",
     "output_type": "stream",
     "text": [
      "mkdir: cannot create directory ‘/home/runner/micromamba/envs/pygromosTest/lib/python3.9/site-packages/examples/example_files/Tutorial_System/b_coord’: No such file or directory\n"
     ]
    },
    {
     "ename": "OSError",
     "evalue": "could not make folder:\n /home/runner/micromamba/envs/pygromosTest/lib/python3.9/site-packages/examples/example_files/Tutorial_System/b_coord",
     "output_type": "error",
     "traceback": [
      "\u001b[0;31m---------------------------------------------------------------------------\u001b[0m",
      "\u001b[0;31mOSError\u001b[0m                                   Traceback (most recent call last)",
      "Input \u001b[0;32mIn [4]\u001b[0m, in \u001b[0;36m<cell line: 1>\u001b[0;34m()\u001b[0m\n\u001b[0;32m----> 1\u001b[0m coord_dir \u001b[38;5;241m=\u001b[39m \u001b[43mbash\u001b[49m\u001b[38;5;241;43m.\u001b[39;49m\u001b[43mmake_folder\u001b[49m\u001b[43m(\u001b[49m\u001b[43mproject_dir\u001b[49m\u001b[38;5;241;43m+\u001b[39;49m\u001b[38;5;124;43m\"\u001b[39;49m\u001b[38;5;124;43m/b_coord\u001b[39;49m\u001b[38;5;124;43m\"\u001b[39;49m\u001b[43m)\u001b[49m\n\u001b[1;32m      2\u001b[0m in_pdb \u001b[38;5;241m=\u001b[39m input_dir\u001b[38;5;241m+\u001b[39m\u001b[38;5;124m\"\u001b[39m\u001b[38;5;124m/peptide.pdb\u001b[39m\u001b[38;5;124m\"\u001b[39m\n\u001b[1;32m      3\u001b[0m cnf_peptide \u001b[38;5;241m=\u001b[39m coord_dir\u001b[38;5;241m+\u001b[39m\u001b[38;5;124m\"\u001b[39m\u001b[38;5;124m/cnf_vacuum_peptide.cnf\u001b[39m\u001b[38;5;124m\"\u001b[39m\n",
      "File \u001b[0;32m~/micromamba/envs/pygromosTest/lib/python3.9/site-packages/pygromos/utils/bash.py:558\u001b[0m, in \u001b[0;36mmake_folder\u001b[0;34m(in_directory_path, additional_option, verbose)\u001b[0m\n\u001b[1;32m    556\u001b[0m \u001b[38;5;28;01mif\u001b[39;00m \u001b[38;5;129;01mnot\u001b[39;00m os\u001b[38;5;241m.\u001b[39mpath\u001b[38;5;241m.\u001b[39misdir(in_directory_path):\n\u001b[1;32m    557\u001b[0m     \u001b[38;5;28;01mif\u001b[39;00m os\u001b[38;5;241m.\u001b[39msystem(mk_folder):\n\u001b[0;32m--> 558\u001b[0m         \u001b[38;5;28;01mraise\u001b[39;00m \u001b[38;5;167;01mOSError\u001b[39;00m(\u001b[38;5;124m\"\u001b[39m\u001b[38;5;124mcould not make folder:\u001b[39m\u001b[38;5;130;01m\\n\u001b[39;00m\u001b[38;5;124m \u001b[39m\u001b[38;5;124m\"\u001b[39m \u001b[38;5;241m+\u001b[39m \u001b[38;5;28mstr\u001b[39m(in_directory_path))\n\u001b[1;32m    560\u001b[0m \u001b[38;5;28;01melif\u001b[39;00m verbose:\n\u001b[1;32m    561\u001b[0m     warnings\u001b[38;5;241m.\u001b[39mwarn(\u001b[38;5;124m\"\u001b[39m\u001b[38;5;124mWARNING:\u001b[39m\u001b[38;5;130;01m\\n\u001b[39;00m\u001b[38;5;130;01m\\t\u001b[39;00m\u001b[38;5;124m Did not build already existing folder: \u001b[39m\u001b[38;5;124m\"\u001b[39m \u001b[38;5;241m+\u001b[39m in_directory_path, category\u001b[38;5;241m=\u001b[39m\u001b[38;5;167;01mUserWarning\u001b[39;00m)\n",
      "\u001b[0;31mOSError\u001b[0m: could not make folder:\n /home/runner/micromamba/envs/pygromosTest/lib/python3.9/site-packages/examples/example_files/Tutorial_System/b_coord"
     ]
    }
   ],
   "source": [
    "coord_dir = bash.make_folder(project_dir+\"/b_coord\")\n",
    "in_pdb = input_dir+\"/peptide.pdb\"\n",
    "cnf_peptide = coord_dir+\"/cnf_vacuum_peptide.cnf\"\n",
    "\n",
    "cnf_peptide = gromPP.pdb2gromos(in_pdb_path=in_pdb, in_top_path=top_peptide, out_cnf_path=cnf_peptide)\n",
    "Cnf(cnf_peptide).visualize()"
   ]
  },
  {
   "cell_type": "markdown",
   "metadata": {
    "pycharm": {
     "name": "#%% md\n"
    }
   },
   "source": [
    "#### add hydrogens"
   ]
  },
  {
   "cell_type": "code",
   "execution_count": 5,
   "metadata": {
    "execution": {
     "iopub.execute_input": "2022-04-04T15:46:26.121507Z",
     "iopub.status.busy": "2022-04-04T15:46:26.121210Z",
     "iopub.status.idle": "2022-04-04T15:46:26.138637Z",
     "shell.execute_reply": "2022-04-04T15:46:26.137842Z"
    }
   },
   "outputs": [
    {
     "ename": "NameError",
     "evalue": "name 'coord_dir' is not defined",
     "output_type": "error",
     "traceback": [
      "\u001b[0;31m---------------------------------------------------------------------------\u001b[0m",
      "\u001b[0;31mNameError\u001b[0m                                 Traceback (most recent call last)",
      "Input \u001b[0;32mIn [5]\u001b[0m, in \u001b[0;36m<cell line: 1>\u001b[0;34m()\u001b[0m\n\u001b[0;32m----> 1\u001b[0m cnf_hpeptide \u001b[38;5;241m=\u001b[39m \u001b[43mcoord_dir\u001b[49m\u001b[38;5;241m+\u001b[39m\u001b[38;5;124m\"\u001b[39m\u001b[38;5;124m/vacuum_hpeptide.cnf\u001b[39m\u001b[38;5;124m\"\u001b[39m\n\u001b[1;32m      2\u001b[0m cnf_hpeptide \u001b[38;5;241m=\u001b[39m gromPP\u001b[38;5;241m.\u001b[39mprotonate(in_cnf_path\u001b[38;5;241m=\u001b[39mcnf_peptide, in_top_path\u001b[38;5;241m=\u001b[39mtop_peptide, out_cnf_path\u001b[38;5;241m=\u001b[39mcnf_hpeptide)\n\u001b[1;32m      4\u001b[0m Cnf(cnf_hpeptide)\u001b[38;5;241m.\u001b[39mvisualize()\n",
      "\u001b[0;31mNameError\u001b[0m: name 'coord_dir' is not defined"
     ]
    }
   ],
   "source": [
    "cnf_hpeptide = coord_dir+\"/vacuum_hpeptide.cnf\"\n",
    "cnf_hpeptide = gromPP.protonate(in_cnf_path=cnf_peptide, in_top_path=top_peptide, out_cnf_path=cnf_hpeptide)\n",
    "\n",
    "Cnf(cnf_hpeptide).visualize()"
   ]
  },
  {
   "cell_type": "markdown",
   "metadata": {},
   "source": [
    "#### cnf to pdb"
   ]
  },
  {
   "cell_type": "code",
   "execution_count": 6,
   "metadata": {
    "execution": {
     "iopub.execute_input": "2022-04-04T15:46:26.141584Z",
     "iopub.status.busy": "2022-04-04T15:46:26.141401Z",
     "iopub.status.idle": "2022-04-04T15:46:26.157757Z",
     "shell.execute_reply": "2022-04-04T15:46:26.157243Z"
    }
   },
   "outputs": [
    {
     "ename": "NameError",
     "evalue": "name 'coord_dir' is not defined",
     "output_type": "error",
     "traceback": [
      "\u001b[0;31m---------------------------------------------------------------------------\u001b[0m",
      "\u001b[0;31mNameError\u001b[0m                                 Traceback (most recent call last)",
      "Input \u001b[0;32mIn [6]\u001b[0m, in \u001b[0;36m<cell line: 1>\u001b[0;34m()\u001b[0m\n\u001b[0;32m----> 1\u001b[0m out_pdb \u001b[38;5;241m=\u001b[39m \u001b[43mcoord_dir\u001b[49m\u001b[38;5;241m+\u001b[39m\u001b[38;5;124m\"\u001b[39m\u001b[38;5;124m/vacuum_hpeptide.pdb\u001b[39m\u001b[38;5;124m\"\u001b[39m\n\u001b[1;32m      2\u001b[0m out_pdb \u001b[38;5;241m=\u001b[39m gromPP\u001b[38;5;241m.\u001b[39mframeout(in_coord_path\u001b[38;5;241m=\u001b[39mcnf_hpeptide, in_top_path\u001b[38;5;241m=\u001b[39mtop_peptide, out_file_path\u001b[38;5;241m=\u001b[39mout_pdb,\n\u001b[1;32m      3\u001b[0m                                periodic_boundary_condition\u001b[38;5;241m=\u001b[39m\u001b[38;5;124m\"\u001b[39m\u001b[38;5;124mv\u001b[39m\u001b[38;5;124m\"\u001b[39m, out_file_format\u001b[38;5;241m=\u001b[39m\u001b[38;5;124m\"\u001b[39m\u001b[38;5;124mpdb\u001b[39m\u001b[38;5;124m\"\u001b[39m, time\u001b[38;5;241m=\u001b[39m\u001b[38;5;241m0\u001b[39m)\n",
      "\u001b[0;31mNameError\u001b[0m: name 'coord_dir' is not defined"
     ]
    }
   ],
   "source": [
    "out_pdb = coord_dir+\"/vacuum_hpeptide.pdb\"\n",
    "out_pdb = gromPP.frameout(in_coord_path=cnf_hpeptide, in_top_path=top_peptide, out_file_path=out_pdb,\n",
    "                               periodic_boundary_condition=\"v\", out_file_format=\"pdb\", time=0)"
   ]
  },
  {
   "cell_type": "markdown",
   "metadata": {},
   "source": [
    "### energy minimization - Vacuum"
   ]
  },
  {
   "cell_type": "code",
   "execution_count": 7,
   "metadata": {
    "execution": {
     "iopub.execute_input": "2022-04-04T15:46:26.160953Z",
     "iopub.status.busy": "2022-04-04T15:46:26.160438Z",
     "iopub.status.idle": "2022-04-04T15:46:26.200256Z",
     "shell.execute_reply": "2022-04-04T15:46:26.199726Z"
    }
   },
   "outputs": [
    {
     "name": "stderr",
     "output_type": "stream",
     "text": [
      "mkdir: cannot create directory ‘/home/runner/micromamba/envs/pygromosTest/lib/python3.9/site-packages/examples/example_files/Tutorial_System/c_vacuum_emin’: No such file or directory\n"
     ]
    },
    {
     "ename": "OSError",
     "evalue": "could not make folder:\n /home/runner/micromamba/envs/pygromosTest/lib/python3.9/site-packages/examples/example_files/Tutorial_System/c_vacuum_emin",
     "output_type": "error",
     "traceback": [
      "\u001b[0;31m---------------------------------------------------------------------------\u001b[0m",
      "\u001b[0;31mOSError\u001b[0m                                   Traceback (most recent call last)",
      "Input \u001b[0;32mIn [7]\u001b[0m, in \u001b[0;36m<cell line: 5>\u001b[0;34m()\u001b[0m\n\u001b[1;32m      2\u001b[0m \u001b[38;5;28;01mfrom\u001b[39;00m \u001b[38;5;21;01mpygromos\u001b[39;00m\u001b[38;5;21;01m.\u001b[39;00m\u001b[38;5;21;01mfiles\u001b[39;00m\u001b[38;5;21;01m.\u001b[39;00m\u001b[38;5;21;01mgromos_system\u001b[39;00m \u001b[38;5;28;01mimport\u001b[39;00m gromos_system\n\u001b[1;32m      4\u001b[0m out_prefix \u001b[38;5;241m=\u001b[39m \u001b[38;5;124m\"\u001b[39m\u001b[38;5;124mvacuum_emin\u001b[39m\u001b[38;5;124m\"\u001b[39m\n\u001b[0;32m----> 5\u001b[0m vacuum_emin_dir \u001b[38;5;241m=\u001b[39m \u001b[43mbash\u001b[49m\u001b[38;5;241;43m.\u001b[39;49m\u001b[43mmake_folder\u001b[49m\u001b[43m(\u001b[49m\u001b[43mproject_dir\u001b[49m\u001b[38;5;241;43m+\u001b[39;49m\u001b[38;5;124;43m\"\u001b[39;49m\u001b[38;5;124;43m/c_\u001b[39;49m\u001b[38;5;124;43m\"\u001b[39;49m\u001b[38;5;241;43m+\u001b[39;49m\u001b[43mout_prefix\u001b[49m\u001b[43m)\u001b[49m\n\u001b[1;32m      6\u001b[0m os\u001b[38;5;241m.\u001b[39mchdir(vacuum_emin_dir)\n\u001b[1;32m      8\u001b[0m grom_system \u001b[38;5;241m=\u001b[39m gromos_system\u001b[38;5;241m.\u001b[39mGromos_System(work_folder\u001b[38;5;241m=\u001b[39mvacuum_emin_dir,\n\u001b[1;32m      9\u001b[0m                                           system_name\u001b[38;5;241m=\u001b[39m\u001b[38;5;124m\"\u001b[39m\u001b[38;5;124min_\u001b[39m\u001b[38;5;124m\"\u001b[39m\u001b[38;5;241m+\u001b[39mout_prefix,\n\u001b[1;32m     10\u001b[0m                                           in_top_path\u001b[38;5;241m=\u001b[39mtop_peptide,\n\u001b[1;32m     11\u001b[0m                                           in_cnf_path\u001b[38;5;241m=\u001b[39mcnf_hpeptide,\n\u001b[1;32m     12\u001b[0m                                           in_imd_path\u001b[38;5;241m=\u001b[39mtemplate_emin_vac,\n\u001b[1;32m     13\u001b[0m                                          verbose\u001b[38;5;241m=\u001b[39m\u001b[38;5;28;01mFalse\u001b[39;00m)\n",
      "File \u001b[0;32m~/micromamba/envs/pygromosTest/lib/python3.9/site-packages/pygromos/utils/bash.py:558\u001b[0m, in \u001b[0;36mmake_folder\u001b[0;34m(in_directory_path, additional_option, verbose)\u001b[0m\n\u001b[1;32m    556\u001b[0m \u001b[38;5;28;01mif\u001b[39;00m \u001b[38;5;129;01mnot\u001b[39;00m os\u001b[38;5;241m.\u001b[39mpath\u001b[38;5;241m.\u001b[39misdir(in_directory_path):\n\u001b[1;32m    557\u001b[0m     \u001b[38;5;28;01mif\u001b[39;00m os\u001b[38;5;241m.\u001b[39msystem(mk_folder):\n\u001b[0;32m--> 558\u001b[0m         \u001b[38;5;28;01mraise\u001b[39;00m \u001b[38;5;167;01mOSError\u001b[39;00m(\u001b[38;5;124m\"\u001b[39m\u001b[38;5;124mcould not make folder:\u001b[39m\u001b[38;5;130;01m\\n\u001b[39;00m\u001b[38;5;124m \u001b[39m\u001b[38;5;124m\"\u001b[39m \u001b[38;5;241m+\u001b[39m \u001b[38;5;28mstr\u001b[39m(in_directory_path))\n\u001b[1;32m    560\u001b[0m \u001b[38;5;28;01melif\u001b[39;00m verbose:\n\u001b[1;32m    561\u001b[0m     warnings\u001b[38;5;241m.\u001b[39mwarn(\u001b[38;5;124m\"\u001b[39m\u001b[38;5;124mWARNING:\u001b[39m\u001b[38;5;130;01m\\n\u001b[39;00m\u001b[38;5;130;01m\\t\u001b[39;00m\u001b[38;5;124m Did not build already existing folder: \u001b[39m\u001b[38;5;124m\"\u001b[39m \u001b[38;5;241m+\u001b[39m in_directory_path, category\u001b[38;5;241m=\u001b[39m\u001b[38;5;167;01mUserWarning\u001b[39;00m)\n",
      "\u001b[0;31mOSError\u001b[0m: could not make folder:\n /home/runner/micromamba/envs/pygromosTest/lib/python3.9/site-packages/examples/example_files/Tutorial_System/c_vacuum_emin"
     ]
    }
   ],
   "source": [
    "from pygromos.data.simulation_parameters_templates import template_emin_vac\n",
    "from pygromos.files.gromos_system import gromos_system\n",
    "\n",
    "out_prefix = \"vacuum_emin\"\n",
    "vacuum_emin_dir = bash.make_folder(project_dir+\"/c_\"+out_prefix)\n",
    "os.chdir(vacuum_emin_dir)\n",
    "\n",
    "grom_system = gromos_system.Gromos_System(work_folder=vacuum_emin_dir,\n",
    "                                          system_name=\"in_\"+out_prefix,\n",
    "                                          in_top_path=top_peptide,\n",
    "                                          in_cnf_path=cnf_hpeptide,\n",
    "                                          in_imd_path=template_emin_vac,\n",
    "                                         verbose=False)\n",
    "\n",
    "grom_system.adapt_imd()\n",
    "#del grom_system.imd.POSITIONRES\n",
    "grom_system.imd.BOUNDCOND.NTB = 0\n",
    "grom_system.write_files()\n",
    "\n",
    "\n",
    "out_emin_vacuum = vacuum_emin_dir + \"/\" + out_prefix\n",
    "gromXX.md_run(in_imd_path=grom_system.imd.path,\n",
    "              in_topo_path=grom_system.top.path,\n",
    "              in_coord_path=grom_system.cnf.path,\n",
    "              out_prefix=out_emin_vacuum, verbose=True)\n",
    "cnf_emin_vacuum = out_emin_vacuum+\".cnf\"\n",
    "cnf_emin_vacuum\n"
   ]
  },
  {
   "cell_type": "code",
   "execution_count": 8,
   "metadata": {
    "execution": {
     "iopub.execute_input": "2022-04-04T15:46:26.203292Z",
     "iopub.status.busy": "2022-04-04T15:46:26.202900Z",
     "iopub.status.idle": "2022-04-04T15:46:26.224686Z",
     "shell.execute_reply": "2022-04-04T15:46:26.224091Z"
    }
   },
   "outputs": [
    {
     "ename": "NameError",
     "evalue": "name 'grom_system' is not defined",
     "output_type": "error",
     "traceback": [
      "\u001b[0;31m---------------------------------------------------------------------------\u001b[0m",
      "\u001b[0;31mNameError\u001b[0m                                 Traceback (most recent call last)",
      "Input \u001b[0;32mIn [8]\u001b[0m, in \u001b[0;36m<cell line: 3>\u001b[0;34m()\u001b[0m\n\u001b[1;32m      1\u001b[0m \u001b[38;5;28;01mfrom\u001b[39;00m \u001b[38;5;21;01mpygromos\u001b[39;00m\u001b[38;5;21;01m.\u001b[39;00m\u001b[38;5;21;01msimulations\u001b[39;00m\u001b[38;5;21;01m.\u001b[39;00m\u001b[38;5;21;01mmodules\u001b[39;00m\u001b[38;5;21;01m.\u001b[39;00m\u001b[38;5;21;01mpreset_simulation_modules\u001b[39;00m \u001b[38;5;28;01mimport\u001b[39;00m emin\n\u001b[0;32m----> 3\u001b[0m emin_gromos_system, jobID \u001b[38;5;241m=\u001b[39m emin(in_gromos_system\u001b[38;5;241m=\u001b[39m\u001b[43mgrom_system\u001b[49m, project_dir\u001b[38;5;241m=\u001b[39mproject_dir)\n\u001b[1;32m      4\u001b[0m emin_gromos_system\n",
      "\u001b[0;31mNameError\u001b[0m: name 'grom_system' is not defined"
     ]
    }
   ],
   "source": [
    "from pygromos.simulations.modules.preset_simulation_modules import emin\n",
    "\n",
    "emin_gromos_system, jobID = emin(in_gromos_system=grom_system, project_dir=project_dir)\n",
    "emin_gromos_system\n"
   ]
  },
  {
   "cell_type": "code",
   "execution_count": 9,
   "metadata": {
    "execution": {
     "iopub.execute_input": "2022-04-04T15:46:26.227709Z",
     "iopub.status.busy": "2022-04-04T15:46:26.227289Z",
     "iopub.status.idle": "2022-04-04T15:46:26.242883Z",
     "shell.execute_reply": "2022-04-04T15:46:26.242355Z"
    }
   },
   "outputs": [
    {
     "ename": "NameError",
     "evalue": "name 'emin_gromos_system' is not defined",
     "output_type": "error",
     "traceback": [
      "\u001b[0;31m---------------------------------------------------------------------------\u001b[0m",
      "\u001b[0;31mNameError\u001b[0m                                 Traceback (most recent call last)",
      "Input \u001b[0;32mIn [9]\u001b[0m, in \u001b[0;36m<cell line: 1>\u001b[0;34m()\u001b[0m\n\u001b[0;32m----> 1\u001b[0m \u001b[43memin_gromos_system\u001b[49m\u001b[38;5;241m.\u001b[39mcnf\u001b[38;5;241m.\u001b[39mvisualize()\n",
      "\u001b[0;31mNameError\u001b[0m: name 'emin_gromos_system' is not defined"
     ]
    }
   ],
   "source": [
    "emin_gromos_system.cnf.visualize()"
   ]
  },
  {
   "cell_type": "markdown",
   "metadata": {
    "pycharm": {
     "name": "#%% md\n"
    }
   },
   "source": [
    "## Solvatistation and Solvent Energy Minimization\n",
    "### build box system"
   ]
  },
  {
   "cell_type": "code",
   "execution_count": 10,
   "metadata": {
    "execution": {
     "iopub.execute_input": "2022-04-04T15:46:26.246833Z",
     "iopub.status.busy": "2022-04-04T15:46:26.245802Z",
     "iopub.status.idle": "2022-04-04T15:46:26.276074Z",
     "shell.execute_reply": "2022-04-04T15:46:26.275415Z"
    }
   },
   "outputs": [
    {
     "name": "stderr",
     "output_type": "stream",
     "text": [
      "mkdir: cannot create directory ‘/home/runner/micromamba/envs/pygromosTest/lib/python3.9/site-packages/examples/example_files/Tutorial_System/d_box’: No such file or directory\n"
     ]
    },
    {
     "ename": "OSError",
     "evalue": "could not make folder:\n /home/runner/micromamba/envs/pygromosTest/lib/python3.9/site-packages/examples/example_files/Tutorial_System/d_box",
     "output_type": "error",
     "traceback": [
      "\u001b[0;31m---------------------------------------------------------------------------\u001b[0m",
      "\u001b[0;31mOSError\u001b[0m                                   Traceback (most recent call last)",
      "Input \u001b[0;32mIn [10]\u001b[0m, in \u001b[0;36m<cell line: 3>\u001b[0;34m()\u001b[0m\n\u001b[1;32m      1\u001b[0m \u001b[38;5;28;01mfrom\u001b[39;00m \u001b[38;5;21;01mpygromos\u001b[39;00m\u001b[38;5;21;01m.\u001b[39;00m\u001b[38;5;21;01mdata\u001b[39;00m\u001b[38;5;21;01m.\u001b[39;00m\u001b[38;5;21;01msolvent_coordinates\u001b[39;00m \u001b[38;5;28;01mimport\u001b[39;00m spc\n\u001b[1;32m      2\u001b[0m out_prefix \u001b[38;5;241m=\u001b[39m \u001b[38;5;124m\"\u001b[39m\u001b[38;5;124mbox\u001b[39m\u001b[38;5;124m\"\u001b[39m\n\u001b[0;32m----> 3\u001b[0m box_dir \u001b[38;5;241m=\u001b[39m \u001b[43mbash\u001b[49m\u001b[38;5;241;43m.\u001b[39;49m\u001b[43mmake_folder\u001b[49m\u001b[43m(\u001b[49m\u001b[43mproject_dir\u001b[49m\u001b[38;5;241;43m+\u001b[39;49m\u001b[38;5;124;43m\"\u001b[39;49m\u001b[38;5;124;43m/d_\u001b[39;49m\u001b[38;5;124;43m\"\u001b[39;49m\u001b[38;5;241;43m+\u001b[39;49m\u001b[43mout_prefix\u001b[49m\u001b[43m)\u001b[49m\n\u001b[1;32m      5\u001b[0m cnf_box \u001b[38;5;241m=\u001b[39m gromPP\u001b[38;5;241m.\u001b[39msim_box(in_top_path\u001b[38;5;241m=\u001b[39mtop_peptide, in_cnf_path\u001b[38;5;241m=\u001b[39mcnf_emin_vacuum,in_solvent_cnf_file_path\u001b[38;5;241m=\u001b[39mspc,\n\u001b[1;32m      6\u001b[0m                           out_cnf_path\u001b[38;5;241m=\u001b[39mbox_dir\u001b[38;5;241m+\u001b[39m\u001b[38;5;124m\"\u001b[39m\u001b[38;5;124m/\u001b[39m\u001b[38;5;124m\"\u001b[39m\u001b[38;5;241m+\u001b[39mout_prefix\u001b[38;5;241m+\u001b[39m\u001b[38;5;124m\"\u001b[39m\u001b[38;5;124m.cnf\u001b[39m\u001b[38;5;124m\"\u001b[39m,\n\u001b[1;32m      7\u001b[0m                          periodic_boundary_condition\u001b[38;5;241m=\u001b[39m\u001b[38;5;124m\"\u001b[39m\u001b[38;5;124mr\u001b[39m\u001b[38;5;124m\"\u001b[39m, minwall\u001b[38;5;241m=\u001b[39m\u001b[38;5;241m0.8\u001b[39m, threshold\u001b[38;5;241m=\u001b[39m\u001b[38;5;241m0.23\u001b[39m, rotate\u001b[38;5;241m=\u001b[39m\u001b[38;5;28;01mTrue\u001b[39;00m)\n\u001b[1;32m      9\u001b[0m Cnf(cnf_box)\u001b[38;5;241m.\u001b[39mvisualize()\n",
      "File \u001b[0;32m~/micromamba/envs/pygromosTest/lib/python3.9/site-packages/pygromos/utils/bash.py:558\u001b[0m, in \u001b[0;36mmake_folder\u001b[0;34m(in_directory_path, additional_option, verbose)\u001b[0m\n\u001b[1;32m    556\u001b[0m \u001b[38;5;28;01mif\u001b[39;00m \u001b[38;5;129;01mnot\u001b[39;00m os\u001b[38;5;241m.\u001b[39mpath\u001b[38;5;241m.\u001b[39misdir(in_directory_path):\n\u001b[1;32m    557\u001b[0m     \u001b[38;5;28;01mif\u001b[39;00m os\u001b[38;5;241m.\u001b[39msystem(mk_folder):\n\u001b[0;32m--> 558\u001b[0m         \u001b[38;5;28;01mraise\u001b[39;00m \u001b[38;5;167;01mOSError\u001b[39;00m(\u001b[38;5;124m\"\u001b[39m\u001b[38;5;124mcould not make folder:\u001b[39m\u001b[38;5;130;01m\\n\u001b[39;00m\u001b[38;5;124m \u001b[39m\u001b[38;5;124m\"\u001b[39m \u001b[38;5;241m+\u001b[39m \u001b[38;5;28mstr\u001b[39m(in_directory_path))\n\u001b[1;32m    560\u001b[0m \u001b[38;5;28;01melif\u001b[39;00m verbose:\n\u001b[1;32m    561\u001b[0m     warnings\u001b[38;5;241m.\u001b[39mwarn(\u001b[38;5;124m\"\u001b[39m\u001b[38;5;124mWARNING:\u001b[39m\u001b[38;5;130;01m\\n\u001b[39;00m\u001b[38;5;130;01m\\t\u001b[39;00m\u001b[38;5;124m Did not build already existing folder: \u001b[39m\u001b[38;5;124m\"\u001b[39m \u001b[38;5;241m+\u001b[39m in_directory_path, category\u001b[38;5;241m=\u001b[39m\u001b[38;5;167;01mUserWarning\u001b[39;00m)\n",
      "\u001b[0;31mOSError\u001b[0m: could not make folder:\n /home/runner/micromamba/envs/pygromosTest/lib/python3.9/site-packages/examples/example_files/Tutorial_System/d_box"
     ]
    }
   ],
   "source": [
    "from pygromos.data.solvent_coordinates import spc\n",
    "out_prefix = \"box\"\n",
    "box_dir = bash.make_folder(project_dir+\"/d_\"+out_prefix)\n",
    "\n",
    "cnf_box = gromPP.sim_box(in_top_path=top_peptide, in_cnf_path=cnf_emin_vacuum,in_solvent_cnf_file_path=spc,\n",
    "                          out_cnf_path=box_dir+\"/\"+out_prefix+\".cnf\",\n",
    "                         periodic_boundary_condition=\"r\", minwall=0.8, threshold=0.23, rotate=True)\n",
    "\n",
    "Cnf(cnf_box).visualize()"
   ]
  },
  {
   "cell_type": "markdown",
   "metadata": {},
   "source": [
    "#### to pdb"
   ]
  },
  {
   "cell_type": "code",
   "execution_count": 11,
   "metadata": {
    "execution": {
     "iopub.execute_input": "2022-04-04T15:46:26.279017Z",
     "iopub.status.busy": "2022-04-04T15:46:26.278662Z",
     "iopub.status.idle": "2022-04-04T15:46:26.296796Z",
     "shell.execute_reply": "2022-04-04T15:46:26.296294Z"
    }
   },
   "outputs": [
    {
     "ename": "NameError",
     "evalue": "name 'box_dir' is not defined",
     "output_type": "error",
     "traceback": [
      "\u001b[0;31m---------------------------------------------------------------------------\u001b[0m",
      "\u001b[0;31mNameError\u001b[0m                                 Traceback (most recent call last)",
      "Input \u001b[0;32mIn [11]\u001b[0m, in \u001b[0;36m<cell line: 1>\u001b[0;34m()\u001b[0m\n\u001b[0;32m----> 1\u001b[0m out_pdb \u001b[38;5;241m=\u001b[39m \u001b[43mbox_dir\u001b[49m\u001b[38;5;241m+\u001b[39m\u001b[38;5;124m\"\u001b[39m\u001b[38;5;124m/\u001b[39m\u001b[38;5;124m\"\u001b[39m\u001b[38;5;241m+\u001b[39mout_prefix\u001b[38;5;241m+\u001b[39m\u001b[38;5;124m\"\u001b[39m\u001b[38;5;124m.pdb\u001b[39m\u001b[38;5;124m\"\u001b[39m\n\u001b[1;32m      3\u001b[0m out_pdb \u001b[38;5;241m=\u001b[39m gromPP\u001b[38;5;241m.\u001b[39mframeout(in_coord_path\u001b[38;5;241m=\u001b[39mcnf_box, in_top_path\u001b[38;5;241m=\u001b[39mtop_peptide, out_file_path\u001b[38;5;241m=\u001b[39mout_pdb,\n\u001b[1;32m      4\u001b[0m                                periodic_boundary_condition\u001b[38;5;241m=\u001b[39m\u001b[38;5;124m\"\u001b[39m\u001b[38;5;124mr\u001b[39m\u001b[38;5;124m\"\u001b[39m, out_file_format\u001b[38;5;241m=\u001b[39m\u001b[38;5;124m\"\u001b[39m\u001b[38;5;124mpdb\u001b[39m\u001b[38;5;124m\"\u001b[39m, include\u001b[38;5;241m=\u001b[39m\u001b[38;5;124m\"\u001b[39m\u001b[38;5;124mALL\u001b[39m\u001b[38;5;124m\"\u001b[39m, time\u001b[38;5;241m=\u001b[39m\u001b[38;5;241m0\u001b[39m)\n",
      "\u001b[0;31mNameError\u001b[0m: name 'box_dir' is not defined"
     ]
    }
   ],
   "source": [
    "out_pdb = box_dir+\"/\"+out_prefix+\".pdb\"\n",
    "\n",
    "out_pdb = gromPP.frameout(in_coord_path=cnf_box, in_top_path=top_peptide, out_file_path=out_pdb,\n",
    "                               periodic_boundary_condition=\"r\", out_file_format=\"pdb\", include=\"ALL\", time=0)"
   ]
  },
  {
   "cell_type": "markdown",
   "metadata": {
    "pycharm": {
     "name": "#%% md\n"
    }
   },
   "source": [
    "### Add Ions"
   ]
  },
  {
   "cell_type": "code",
   "execution_count": 12,
   "metadata": {
    "execution": {
     "iopub.execute_input": "2022-04-04T15:46:26.299529Z",
     "iopub.status.busy": "2022-04-04T15:46:26.299154Z",
     "iopub.status.idle": "2022-04-04T15:46:26.315591Z",
     "shell.execute_reply": "2022-04-04T15:46:26.315043Z"
    }
   },
   "outputs": [
    {
     "ename": "NameError",
     "evalue": "name 'cnf_box' is not defined",
     "output_type": "error",
     "traceback": [
      "\u001b[0;31m---------------------------------------------------------------------------\u001b[0m",
      "\u001b[0;31mNameError\u001b[0m                                 Traceback (most recent call last)",
      "Input \u001b[0;32mIn [12]\u001b[0m, in \u001b[0;36m<cell line: 2>\u001b[0;34m()\u001b[0m\n\u001b[1;32m      1\u001b[0m out_prefix \u001b[38;5;241m=\u001b[39m \u001b[38;5;124m\"\u001b[39m\u001b[38;5;124mion\u001b[39m\u001b[38;5;124m\"\u001b[39m\n\u001b[0;32m----> 2\u001b[0m cnf_ion \u001b[38;5;241m=\u001b[39m gromPP\u001b[38;5;241m.\u001b[39mion(in_cnf_path\u001b[38;5;241m=\u001b[39m\u001b[43mcnf_box\u001b[49m,\n\u001b[1;32m      3\u001b[0m                      in_top_path\u001b[38;5;241m=\u001b[39mtop_peptide,\n\u001b[1;32m      4\u001b[0m                      out_cnf_path\u001b[38;5;241m=\u001b[39mbox_dir\u001b[38;5;241m+\u001b[39m\u001b[38;5;124m\"\u001b[39m\u001b[38;5;124m/\u001b[39m\u001b[38;5;124m\"\u001b[39m\u001b[38;5;241m+\u001b[39mout_prefix\u001b[38;5;241m+\u001b[39m\u001b[38;5;124m\"\u001b[39m\u001b[38;5;124m.cnf\u001b[39m\u001b[38;5;124m\"\u001b[39m,\n\u001b[1;32m      5\u001b[0m                      negative\u001b[38;5;241m=\u001b[39m[\u001b[38;5;241m2\u001b[39m, \u001b[38;5;124m\"\u001b[39m\u001b[38;5;124mCL-\u001b[39m\u001b[38;5;124m\"\u001b[39m],verbose\u001b[38;5;241m=\u001b[39m\u001b[38;5;28;01mTrue\u001b[39;00m           )\n\u001b[1;32m      7\u001b[0m Cnf(cnf_ion)\u001b[38;5;241m.\u001b[39mvisualize()\n",
      "\u001b[0;31mNameError\u001b[0m: name 'cnf_box' is not defined"
     ]
    }
   ],
   "source": [
    "out_prefix = \"ion\"\n",
    "cnf_ion = gromPP.ion(in_cnf_path=cnf_box,\n",
    "                     in_top_path=top_peptide,\n",
    "                     out_cnf_path=box_dir+\"/\"+out_prefix+\".cnf\",\n",
    "                     negative=[2, \"CL-\"],verbose=True           )\n",
    "\n",
    "Cnf(cnf_ion).visualize()"
   ]
  },
  {
   "cell_type": "markdown",
   "metadata": {
    "pycharm": {
     "name": "#%% md\n"
    }
   },
   "source": [
    "### Energy Minimization BOX"
   ]
  },
  {
   "cell_type": "code",
   "execution_count": 13,
   "metadata": {
    "execution": {
     "iopub.execute_input": "2022-04-04T15:46:26.318914Z",
     "iopub.status.busy": "2022-04-04T15:46:26.318470Z",
     "iopub.status.idle": "2022-04-04T15:46:26.353627Z",
     "shell.execute_reply": "2022-04-04T15:46:26.352878Z"
    }
   },
   "outputs": [
    {
     "name": "stderr",
     "output_type": "stream",
     "text": [
      "mkdir: cannot create directory ‘/home/runner/micromamba/envs/pygromosTest/lib/python3.9/site-packages/examples/example_files/Tutorial_System/e_box_emin’: No such file or directory\n"
     ]
    },
    {
     "ename": "OSError",
     "evalue": "could not make folder:\n /home/runner/micromamba/envs/pygromosTest/lib/python3.9/site-packages/examples/example_files/Tutorial_System/e_box_emin",
     "output_type": "error",
     "traceback": [
      "\u001b[0;31m---------------------------------------------------------------------------\u001b[0m",
      "\u001b[0;31mOSError\u001b[0m                                   Traceback (most recent call last)",
      "Input \u001b[0;32mIn [13]\u001b[0m, in \u001b[0;36m<cell line: 5>\u001b[0;34m()\u001b[0m\n\u001b[1;32m      2\u001b[0m \u001b[38;5;28;01mfrom\u001b[39;00m \u001b[38;5;21;01mpygromos\u001b[39;00m\u001b[38;5;21;01m.\u001b[39;00m\u001b[38;5;21;01mfiles\u001b[39;00m\u001b[38;5;21;01m.\u001b[39;00m\u001b[38;5;21;01mgromos_system\u001b[39;00m \u001b[38;5;28;01mimport\u001b[39;00m gromos_system\n\u001b[1;32m      4\u001b[0m out_prefix \u001b[38;5;241m=\u001b[39m \u001b[38;5;124m\"\u001b[39m\u001b[38;5;124mbox_emin\u001b[39m\u001b[38;5;124m\"\u001b[39m\n\u001b[0;32m----> 5\u001b[0m box_emin_dir \u001b[38;5;241m=\u001b[39m \u001b[43mbash\u001b[49m\u001b[38;5;241;43m.\u001b[39;49m\u001b[43mmake_folder\u001b[49m\u001b[43m(\u001b[49m\u001b[43mproject_dir\u001b[49m\u001b[38;5;241;43m+\u001b[39;49m\u001b[38;5;124;43m\"\u001b[39;49m\u001b[38;5;124;43m/e_\u001b[39;49m\u001b[38;5;124;43m\"\u001b[39;49m\u001b[38;5;241;43m+\u001b[39;49m\u001b[43mout_prefix\u001b[49m\u001b[43m)\u001b[49m\n\u001b[1;32m      6\u001b[0m os\u001b[38;5;241m.\u001b[39mchdir(box_emin_dir)\n\u001b[1;32m      8\u001b[0m grom_system \u001b[38;5;241m=\u001b[39m gromos_system\u001b[38;5;241m.\u001b[39mGromos_System(work_folder\u001b[38;5;241m=\u001b[39mbox_emin_dir,\n\u001b[1;32m      9\u001b[0m                                           system_name\u001b[38;5;241m=\u001b[39m\u001b[38;5;124m\"\u001b[39m\u001b[38;5;124min_\u001b[39m\u001b[38;5;124m\"\u001b[39m\u001b[38;5;241m+\u001b[39mout_prefix,\n\u001b[1;32m     10\u001b[0m                                           in_top_path\u001b[38;5;241m=\u001b[39mtop_system,\n\u001b[1;32m     11\u001b[0m                                           in_cnf_path\u001b[38;5;241m=\u001b[39mcnf_ion,\n\u001b[1;32m     12\u001b[0m                                           in_imd_path\u001b[38;5;241m=\u001b[39mtemplate_emin)\n",
      "File \u001b[0;32m~/micromamba/envs/pygromosTest/lib/python3.9/site-packages/pygromos/utils/bash.py:558\u001b[0m, in \u001b[0;36mmake_folder\u001b[0;34m(in_directory_path, additional_option, verbose)\u001b[0m\n\u001b[1;32m    556\u001b[0m \u001b[38;5;28;01mif\u001b[39;00m \u001b[38;5;129;01mnot\u001b[39;00m os\u001b[38;5;241m.\u001b[39mpath\u001b[38;5;241m.\u001b[39misdir(in_directory_path):\n\u001b[1;32m    557\u001b[0m     \u001b[38;5;28;01mif\u001b[39;00m os\u001b[38;5;241m.\u001b[39msystem(mk_folder):\n\u001b[0;32m--> 558\u001b[0m         \u001b[38;5;28;01mraise\u001b[39;00m \u001b[38;5;167;01mOSError\u001b[39;00m(\u001b[38;5;124m\"\u001b[39m\u001b[38;5;124mcould not make folder:\u001b[39m\u001b[38;5;130;01m\\n\u001b[39;00m\u001b[38;5;124m \u001b[39m\u001b[38;5;124m\"\u001b[39m \u001b[38;5;241m+\u001b[39m \u001b[38;5;28mstr\u001b[39m(in_directory_path))\n\u001b[1;32m    560\u001b[0m \u001b[38;5;28;01melif\u001b[39;00m verbose:\n\u001b[1;32m    561\u001b[0m     warnings\u001b[38;5;241m.\u001b[39mwarn(\u001b[38;5;124m\"\u001b[39m\u001b[38;5;124mWARNING:\u001b[39m\u001b[38;5;130;01m\\n\u001b[39;00m\u001b[38;5;130;01m\\t\u001b[39;00m\u001b[38;5;124m Did not build already existing folder: \u001b[39m\u001b[38;5;124m\"\u001b[39m \u001b[38;5;241m+\u001b[39m in_directory_path, category\u001b[38;5;241m=\u001b[39m\u001b[38;5;167;01mUserWarning\u001b[39;00m)\n",
      "\u001b[0;31mOSError\u001b[0m: could not make folder:\n /home/runner/micromamba/envs/pygromosTest/lib/python3.9/site-packages/examples/example_files/Tutorial_System/e_box_emin"
     ]
    }
   ],
   "source": [
    "from pygromos.data.simulation_parameters_templates import template_emin\n",
    "from pygromos.files.gromos_system import gromos_system\n",
    "\n",
    "out_prefix = \"box_emin\"\n",
    "box_emin_dir = bash.make_folder(project_dir+\"/e_\"+out_prefix)\n",
    "os.chdir(box_emin_dir)\n",
    "\n",
    "grom_system = gromos_system.Gromos_System(work_folder=box_emin_dir,\n",
    "                                          system_name=\"in_\"+out_prefix,\n",
    "                                          in_top_path=top_system,\n",
    "                                          in_cnf_path=cnf_ion,\n",
    "                                          in_imd_path=template_emin)\n",
    "\n",
    "grom_system.adapt_imd()\n",
    "grom_system.imd.STEP.NSTLIM = 3000\n",
    "grom_system.imd.PRINTOUT.NTPR = 300\n",
    "grom_system.write_files()\n",
    "\n",
    "cnf_reference_position = grom_system.cnf.write_refpos(box_emin_dir+\"/\"+out_prefix+\"_refpos.rpf\")\n",
    "cnf_position_restraint = grom_system.cnf.write_possrespec(box_emin_dir+\"/\"+out_prefix+\"_posres.pos\", residues=list(filter(lambda x: x != \"SOLV\", grom_system.cnf.get_residues())))\n",
    "\n",
    "out_emin_box = box_emin_dir + \"/\" + out_prefix\n",
    "gromXX.md_run(in_imd_path=grom_system.imd.path,\n",
    "              in_topo_path=grom_system.top.path,\n",
    "              in_coord_path=grom_system.cnf.path,\n",
    "              in_refpos_path=cnf_reference_position,\n",
    "              in_posresspec_path=cnf_position_restraint,\n",
    "              out_prefix=out_emin_box, verbose=True)\n",
    "\n",
    "cnf_emin_box =out_emin_box+\".cnf\"\n",
    "cnf_emin_box = gromPP.frameout(in_coord_path=cnf_emin_box, in_top_path=top_system, out_file_path=cnf_emin_box,\n",
    "                               periodic_boundary_condition=\"r cog\", out_file_format=\"cnf\", include=\"ALL\", time=0)\n"
   ]
  },
  {
   "cell_type": "code",
   "execution_count": 14,
   "metadata": {
    "execution": {
     "iopub.execute_input": "2022-04-04T15:46:26.357059Z",
     "iopub.status.busy": "2022-04-04T15:46:26.356593Z",
     "iopub.status.idle": "2022-04-04T15:46:26.369859Z",
     "shell.execute_reply": "2022-04-04T15:46:26.369291Z"
    }
   },
   "outputs": [
    {
     "ename": "NameError",
     "evalue": "name 'cnf_emin_box' is not defined",
     "output_type": "error",
     "traceback": [
      "\u001b[0;31m---------------------------------------------------------------------------\u001b[0m",
      "\u001b[0;31mNameError\u001b[0m                                 Traceback (most recent call last)",
      "Input \u001b[0;32mIn [14]\u001b[0m, in \u001b[0;36m<cell line: 1>\u001b[0;34m()\u001b[0m\n\u001b[0;32m----> 1\u001b[0m Cnf(\u001b[43mcnf_emin_box\u001b[49m)\u001b[38;5;241m.\u001b[39mvisualize()\n",
      "\u001b[0;31mNameError\u001b[0m: name 'cnf_emin_box' is not defined"
     ]
    }
   ],
   "source": [
    "Cnf(cnf_emin_box).visualize()"
   ]
  },
  {
   "cell_type": "markdown",
   "metadata": {
    "pycharm": {
     "name": "#%% md\n"
    }
   },
   "source": [
    "## Simulation\n",
    "\n",
    "### Equilibration NVP"
   ]
  },
  {
   "cell_type": "code",
   "execution_count": 15,
   "metadata": {
    "execution": {
     "iopub.execute_input": "2022-04-04T15:46:26.373023Z",
     "iopub.status.busy": "2022-04-04T15:46:26.372492Z",
     "iopub.status.idle": "2022-04-04T15:46:26.409791Z",
     "shell.execute_reply": "2022-04-04T15:46:26.409170Z"
    }
   },
   "outputs": [
    {
     "name": "stderr",
     "output_type": "stream",
     "text": [
      "mkdir: cannot create directory ‘/home/runner/micromamba/envs/pygromosTest/lib/python3.9/site-packages/examples/example_files/Tutorial_System/f_eq_NVP’: No such file or directory\n"
     ]
    },
    {
     "ename": "OSError",
     "evalue": "could not make folder:\n /home/runner/micromamba/envs/pygromosTest/lib/python3.9/site-packages/examples/example_files/Tutorial_System/f_eq_NVP",
     "output_type": "error",
     "traceback": [
      "\u001b[0;31m---------------------------------------------------------------------------\u001b[0m",
      "\u001b[0;31mOSError\u001b[0m                                   Traceback (most recent call last)",
      "Input \u001b[0;32mIn [15]\u001b[0m, in \u001b[0;36m<cell line: 5>\u001b[0;34m()\u001b[0m\n\u001b[1;32m      2\u001b[0m \u001b[38;5;28;01mfrom\u001b[39;00m \u001b[38;5;21;01mpygromos\u001b[39;00m\u001b[38;5;21;01m.\u001b[39;00m\u001b[38;5;21;01mfiles\u001b[39;00m\u001b[38;5;21;01m.\u001b[39;00m\u001b[38;5;21;01mgromos_system\u001b[39;00m \u001b[38;5;28;01mimport\u001b[39;00m gromos_system\n\u001b[1;32m      4\u001b[0m out_prefix \u001b[38;5;241m=\u001b[39m \u001b[38;5;124m\"\u001b[39m\u001b[38;5;124meq_NVP\u001b[39m\u001b[38;5;124m\"\u001b[39m\n\u001b[0;32m----> 5\u001b[0m eq_NVP_dir \u001b[38;5;241m=\u001b[39m \u001b[43mbash\u001b[49m\u001b[38;5;241;43m.\u001b[39;49m\u001b[43mmake_folder\u001b[49m\u001b[43m(\u001b[49m\u001b[43mproject_dir\u001b[49m\u001b[38;5;241;43m+\u001b[39;49m\u001b[38;5;124;43m\"\u001b[39;49m\u001b[38;5;124;43m/f_\u001b[39;49m\u001b[38;5;124;43m\"\u001b[39;49m\u001b[38;5;241;43m+\u001b[39;49m\u001b[43mout_prefix\u001b[49m\u001b[43m)\u001b[49m\n\u001b[1;32m      6\u001b[0m os\u001b[38;5;241m.\u001b[39mchdir(eq_NVP_dir)\n\u001b[1;32m      8\u001b[0m grom_system \u001b[38;5;241m=\u001b[39m gromos_system\u001b[38;5;241m.\u001b[39mGromos_System(work_folder\u001b[38;5;241m=\u001b[39meq_NVP_dir,\n\u001b[1;32m      9\u001b[0m                                           system_name\u001b[38;5;241m=\u001b[39m\u001b[38;5;124m\"\u001b[39m\u001b[38;5;124min_\u001b[39m\u001b[38;5;124m\"\u001b[39m\u001b[38;5;241m+\u001b[39mout_prefix,\n\u001b[1;32m     10\u001b[0m                                           in_top_path\u001b[38;5;241m=\u001b[39mtop_system,\n\u001b[1;32m     11\u001b[0m                                           in_cnf_path\u001b[38;5;241m=\u001b[39mcnf_emin_box,\n\u001b[1;32m     12\u001b[0m                                           in_imd_path\u001b[38;5;241m=\u001b[39mtemplate_md)\n",
      "File \u001b[0;32m~/micromamba/envs/pygromosTest/lib/python3.9/site-packages/pygromos/utils/bash.py:558\u001b[0m, in \u001b[0;36mmake_folder\u001b[0;34m(in_directory_path, additional_option, verbose)\u001b[0m\n\u001b[1;32m    556\u001b[0m \u001b[38;5;28;01mif\u001b[39;00m \u001b[38;5;129;01mnot\u001b[39;00m os\u001b[38;5;241m.\u001b[39mpath\u001b[38;5;241m.\u001b[39misdir(in_directory_path):\n\u001b[1;32m    557\u001b[0m     \u001b[38;5;28;01mif\u001b[39;00m os\u001b[38;5;241m.\u001b[39msystem(mk_folder):\n\u001b[0;32m--> 558\u001b[0m         \u001b[38;5;28;01mraise\u001b[39;00m \u001b[38;5;167;01mOSError\u001b[39;00m(\u001b[38;5;124m\"\u001b[39m\u001b[38;5;124mcould not make folder:\u001b[39m\u001b[38;5;130;01m\\n\u001b[39;00m\u001b[38;5;124m \u001b[39m\u001b[38;5;124m\"\u001b[39m \u001b[38;5;241m+\u001b[39m \u001b[38;5;28mstr\u001b[39m(in_directory_path))\n\u001b[1;32m    560\u001b[0m \u001b[38;5;28;01melif\u001b[39;00m verbose:\n\u001b[1;32m    561\u001b[0m     warnings\u001b[38;5;241m.\u001b[39mwarn(\u001b[38;5;124m\"\u001b[39m\u001b[38;5;124mWARNING:\u001b[39m\u001b[38;5;130;01m\\n\u001b[39;00m\u001b[38;5;130;01m\\t\u001b[39;00m\u001b[38;5;124m Did not build already existing folder: \u001b[39m\u001b[38;5;124m\"\u001b[39m \u001b[38;5;241m+\u001b[39m in_directory_path, category\u001b[38;5;241m=\u001b[39m\u001b[38;5;167;01mUserWarning\u001b[39;00m)\n",
      "\u001b[0;31mOSError\u001b[0m: could not make folder:\n /home/runner/micromamba/envs/pygromosTest/lib/python3.9/site-packages/examples/example_files/Tutorial_System/f_eq_NVP"
     ]
    }
   ],
   "source": [
    "from pygromos.data.simulation_parameters_templates import template_md_tut as template_md\n",
    "from pygromos.files.gromos_system import gromos_system\n",
    "\n",
    "out_prefix = \"eq_NVP\"\n",
    "eq_NVP_dir = bash.make_folder(project_dir+\"/f_\"+out_prefix)\n",
    "os.chdir(eq_NVP_dir)\n",
    "\n",
    "grom_system = gromos_system.Gromos_System(work_folder=eq_NVP_dir,\n",
    "                                          system_name=\"in_\"+out_prefix,\n",
    "                                          in_top_path=top_system,\n",
    "                                          in_cnf_path=cnf_emin_box,\n",
    "                                          in_imd_path=template_md)\n",
    "\n",
    "grom_system.adapt_imd(not_ligand_residues=\"CL-\")\n",
    "grom_system.imd.STEP.NSTLIM = 1000\n",
    "grom_system.imd.WRITETRAJ.NTWX = 10\n",
    "grom_system.imd.WRITETRAJ.NTWE = 10\n",
    "grom_system.imd.INITIALISE.NTIVEL = 1\n",
    "grom_system.imd.INITIALISE.NTISHK = 1\n",
    "grom_system.imd.INITIALISE.NTISHI = 1\n",
    "grom_system.imd.INITIALISE.NTIRTC = 1\n",
    "\n",
    "grom_system.imd.randomize_seed()\n",
    "grom_system.rebase_files()\n",
    "grom_system.write_files()\n",
    "\n",
    "out_eq_NVP = eq_NVP_dir + \"/\" + out_prefix\n",
    "gromXX.md_run(in_imd_path=grom_system.imd.path,\n",
    "              in_topo_path=grom_system.top.path,\n",
    "              in_coord_path=grom_system.cnf.path,\n",
    "              out_tre=True, out_trc=True,\n",
    "              out_prefix=out_eq_NVP)\n",
    "\n",
    "cnf_eq_NVP = out_eq_NVP+\".cnf\"\n",
    "cnf_eq_NVP\n"
   ]
  },
  {
   "cell_type": "code",
   "execution_count": 16,
   "metadata": {
    "execution": {
     "iopub.execute_input": "2022-04-04T15:46:26.412823Z",
     "iopub.status.busy": "2022-04-04T15:46:26.412514Z",
     "iopub.status.idle": "2022-04-04T15:46:26.428860Z",
     "shell.execute_reply": "2022-04-04T15:46:26.428353Z"
    }
   },
   "outputs": [
    {
     "ename": "NameError",
     "evalue": "name 'cnf_eq_NVP' is not defined",
     "output_type": "error",
     "traceback": [
      "\u001b[0;31m---------------------------------------------------------------------------\u001b[0m",
      "\u001b[0;31mNameError\u001b[0m                                 Traceback (most recent call last)",
      "Input \u001b[0;32mIn [16]\u001b[0m, in \u001b[0;36m<cell line: 1>\u001b[0;34m()\u001b[0m\n\u001b[0;32m----> 1\u001b[0m cnf \u001b[38;5;241m=\u001b[39m Cnf(\u001b[43mcnf_eq_NVP\u001b[49m)\n\u001b[1;32m      2\u001b[0m trc \u001b[38;5;241m=\u001b[39m Trc(out_eq_NVP\u001b[38;5;241m+\u001b[39m\u001b[38;5;124m\"\u001b[39m\u001b[38;5;124m.trc\u001b[39m\u001b[38;5;124m\"\u001b[39m)\n\u001b[1;32m      3\u001b[0m trc\u001b[38;5;241m.\u001b[39mcog_reframe(cnf)\n",
      "\u001b[0;31mNameError\u001b[0m: name 'cnf_eq_NVP' is not defined"
     ]
    }
   ],
   "source": [
    "cnf = Cnf(cnf_eq_NVP)\n",
    "trc = Trc(out_eq_NVP+\".trc\")\n",
    "trc.cog_reframe(cnf)\n",
    "trc.visualize(cnf)"
   ]
  },
  {
   "cell_type": "markdown",
   "metadata": {
    "pycharm": {
     "name": "#%% md\n"
    }
   },
   "source": [
    "### MD NVP"
   ]
  },
  {
   "cell_type": "code",
   "execution_count": 17,
   "metadata": {
    "execution": {
     "iopub.execute_input": "2022-04-04T15:46:26.431884Z",
     "iopub.status.busy": "2022-04-04T15:46:26.431596Z",
     "iopub.status.idle": "2022-04-04T15:46:26.447053Z",
     "shell.execute_reply": "2022-04-04T15:46:26.446551Z"
    }
   },
   "outputs": [
    {
     "ename": "NameError",
     "evalue": "name 'grom_system' is not defined",
     "output_type": "error",
     "traceback": [
      "\u001b[0;31m---------------------------------------------------------------------------\u001b[0m",
      "\u001b[0;31mNameError\u001b[0m                                 Traceback (most recent call last)",
      "Input \u001b[0;32mIn [17]\u001b[0m, in \u001b[0;36m<cell line: 1>\u001b[0;34m()\u001b[0m\n\u001b[0;32m----> 1\u001b[0m \u001b[43mgrom_system\u001b[49m\n",
      "\u001b[0;31mNameError\u001b[0m: name 'grom_system' is not defined"
     ]
    }
   ],
   "source": [
    "grom_system"
   ]
  },
  {
   "cell_type": "code",
   "execution_count": 18,
   "metadata": {
    "execution": {
     "iopub.execute_input": "2022-04-04T15:46:26.449770Z",
     "iopub.status.busy": "2022-04-04T15:46:26.449506Z",
     "iopub.status.idle": "2022-04-04T15:46:26.484706Z",
     "shell.execute_reply": "2022-04-04T15:46:26.484064Z"
    }
   },
   "outputs": [
    {
     "name": "stderr",
     "output_type": "stream",
     "text": [
      "mkdir: cannot create directory ‘/home/runner/micromamba/envs/pygromosTest/lib/python3.9/site-packages/examples/example_files/Tutorial_System/g_md’: No such file or directory\n"
     ]
    },
    {
     "ename": "OSError",
     "evalue": "could not make folder:\n /home/runner/micromamba/envs/pygromosTest/lib/python3.9/site-packages/examples/example_files/Tutorial_System/g_md",
     "output_type": "error",
     "traceback": [
      "\u001b[0;31m---------------------------------------------------------------------------\u001b[0m",
      "\u001b[0;31mOSError\u001b[0m                                   Traceback (most recent call last)",
      "Input \u001b[0;32mIn [18]\u001b[0m, in \u001b[0;36m<cell line: 5>\u001b[0;34m()\u001b[0m\n\u001b[1;32m      2\u001b[0m \u001b[38;5;28;01mfrom\u001b[39;00m \u001b[38;5;21;01mpygromos\u001b[39;00m\u001b[38;5;21;01m.\u001b[39;00m\u001b[38;5;21;01mfiles\u001b[39;00m\u001b[38;5;21;01m.\u001b[39;00m\u001b[38;5;21;01mgromos_system\u001b[39;00m \u001b[38;5;28;01mimport\u001b[39;00m gromos_system\n\u001b[1;32m      4\u001b[0m out_prefix \u001b[38;5;241m=\u001b[39m \u001b[38;5;124m\"\u001b[39m\u001b[38;5;124mmd\u001b[39m\u001b[38;5;124m\"\u001b[39m\n\u001b[0;32m----> 5\u001b[0m md_dir \u001b[38;5;241m=\u001b[39m \u001b[43mbash\u001b[49m\u001b[38;5;241;43m.\u001b[39;49m\u001b[43mmake_folder\u001b[49m\u001b[43m(\u001b[49m\u001b[43mproject_dir\u001b[49m\u001b[38;5;241;43m+\u001b[39;49m\u001b[38;5;124;43m\"\u001b[39;49m\u001b[38;5;124;43m/g_\u001b[39;49m\u001b[38;5;124;43m\"\u001b[39;49m\u001b[38;5;241;43m+\u001b[39;49m\u001b[43mout_prefix\u001b[49m\u001b[43m)\u001b[49m\n\u001b[1;32m      6\u001b[0m os\u001b[38;5;241m.\u001b[39mchdir(md_dir)\n\u001b[1;32m      8\u001b[0m grom_system \u001b[38;5;241m=\u001b[39m gromos_system\u001b[38;5;241m.\u001b[39mGromos_System(work_folder\u001b[38;5;241m=\u001b[39mmd_dir,\n\u001b[1;32m      9\u001b[0m                                           system_name\u001b[38;5;241m=\u001b[39m\u001b[38;5;124m\"\u001b[39m\u001b[38;5;124min_\u001b[39m\u001b[38;5;124m\"\u001b[39m\u001b[38;5;241m+\u001b[39mout_prefix,\n\u001b[1;32m     10\u001b[0m                                           in_top_path\u001b[38;5;241m=\u001b[39mtop_system,\n\u001b[1;32m     11\u001b[0m                                           in_cnf_path\u001b[38;5;241m=\u001b[39mcnf_eq_NVP,\n\u001b[1;32m     12\u001b[0m                                           in_imd_path\u001b[38;5;241m=\u001b[39mtemplate_md)\n",
      "File \u001b[0;32m~/micromamba/envs/pygromosTest/lib/python3.9/site-packages/pygromos/utils/bash.py:558\u001b[0m, in \u001b[0;36mmake_folder\u001b[0;34m(in_directory_path, additional_option, verbose)\u001b[0m\n\u001b[1;32m    556\u001b[0m \u001b[38;5;28;01mif\u001b[39;00m \u001b[38;5;129;01mnot\u001b[39;00m os\u001b[38;5;241m.\u001b[39mpath\u001b[38;5;241m.\u001b[39misdir(in_directory_path):\n\u001b[1;32m    557\u001b[0m     \u001b[38;5;28;01mif\u001b[39;00m os\u001b[38;5;241m.\u001b[39msystem(mk_folder):\n\u001b[0;32m--> 558\u001b[0m         \u001b[38;5;28;01mraise\u001b[39;00m \u001b[38;5;167;01mOSError\u001b[39;00m(\u001b[38;5;124m\"\u001b[39m\u001b[38;5;124mcould not make folder:\u001b[39m\u001b[38;5;130;01m\\n\u001b[39;00m\u001b[38;5;124m \u001b[39m\u001b[38;5;124m\"\u001b[39m \u001b[38;5;241m+\u001b[39m \u001b[38;5;28mstr\u001b[39m(in_directory_path))\n\u001b[1;32m    560\u001b[0m \u001b[38;5;28;01melif\u001b[39;00m verbose:\n\u001b[1;32m    561\u001b[0m     warnings\u001b[38;5;241m.\u001b[39mwarn(\u001b[38;5;124m\"\u001b[39m\u001b[38;5;124mWARNING:\u001b[39m\u001b[38;5;130;01m\\n\u001b[39;00m\u001b[38;5;130;01m\\t\u001b[39;00m\u001b[38;5;124m Did not build already existing folder: \u001b[39m\u001b[38;5;124m\"\u001b[39m \u001b[38;5;241m+\u001b[39m in_directory_path, category\u001b[38;5;241m=\u001b[39m\u001b[38;5;167;01mUserWarning\u001b[39;00m)\n",
      "\u001b[0;31mOSError\u001b[0m: could not make folder:\n /home/runner/micromamba/envs/pygromosTest/lib/python3.9/site-packages/examples/example_files/Tutorial_System/g_md"
     ]
    }
   ],
   "source": [
    "from pygromos.data.simulation_parameters_templates import template_md\n",
    "from pygromos.files.gromos_system import gromos_system\n",
    "\n",
    "out_prefix = \"md\"\n",
    "md_dir = bash.make_folder(project_dir+\"/g_\"+out_prefix)\n",
    "os.chdir(md_dir)\n",
    "\n",
    "grom_system = gromos_system.Gromos_System(work_folder=md_dir,\n",
    "                                          system_name=\"in_\"+out_prefix,\n",
    "                                          in_top_path=top_system,\n",
    "                                          in_cnf_path=cnf_eq_NVP,\n",
    "                                          in_imd_path=template_md)\n",
    "\n",
    "grom_system.adapt_imd(not_ligand_residues=\"CL-\")\n",
    "grom_system.imd.STEP.NSTLIM = 1000\n",
    "grom_system.imd.WRITETRAJ.NTWX = 10\n",
    "grom_system.imd.WRITETRAJ.NTWE = 10\n",
    "grom_system.imd.INITIALISE.NTIVEL = 0\n",
    "\n",
    "grom_system.rebase_files()\n",
    "grom_system.write_files()\n",
    "\n",
    "out_md = md_dir + \"/\" + out_prefix\n",
    "gromXX.md_run(in_imd_path=grom_system.imd.path,\n",
    "              in_topo_path=grom_system.top.path,\n",
    "              in_coord_path=grom_system.cnf.path,\n",
    "              out_tre=True, out_trc=True,\n",
    "              out_prefix=out_md, verbose=True)\n",
    "\n",
    "cnf_md = out_md+\".cnf\"\n",
    "cnf_md"
   ]
  },
  {
   "cell_type": "markdown",
   "metadata": {
    "pycharm": {
     "name": "#%% md\n"
    }
   },
   "source": [
    "## Analysis"
   ]
  },
  {
   "cell_type": "code",
   "execution_count": 19,
   "metadata": {
    "execution": {
     "iopub.execute_input": "2022-04-04T15:46:26.487598Z",
     "iopub.status.busy": "2022-04-04T15:46:26.487138Z",
     "iopub.status.idle": "2022-04-04T15:46:26.502108Z",
     "shell.execute_reply": "2022-04-04T15:46:26.501576Z"
    }
   },
   "outputs": [
    {
     "ename": "NameError",
     "evalue": "name 'cnf_md' is not defined",
     "output_type": "error",
     "traceback": [
      "\u001b[0;31m---------------------------------------------------------------------------\u001b[0m",
      "\u001b[0;31mNameError\u001b[0m                                 Traceback (most recent call last)",
      "Input \u001b[0;32mIn [19]\u001b[0m, in \u001b[0;36m<cell line: 1>\u001b[0;34m()\u001b[0m\n\u001b[0;32m----> 1\u001b[0m cnf \u001b[38;5;241m=\u001b[39m Cnf(\u001b[43mcnf_md\u001b[49m)\n\u001b[1;32m      2\u001b[0m cnf\u001b[38;5;241m.\u001b[39mvisualize()\n",
      "\u001b[0;31mNameError\u001b[0m: name 'cnf_md' is not defined"
     ]
    }
   ],
   "source": [
    "cnf = Cnf(cnf_md)\n",
    "cnf.visualize()\n",
    "\n",
    "#shows pbc :)"
   ]
  },
  {
   "cell_type": "code",
   "execution_count": 20,
   "metadata": {
    "execution": {
     "iopub.execute_input": "2022-04-04T15:46:26.505133Z",
     "iopub.status.busy": "2022-04-04T15:46:26.504683Z",
     "iopub.status.idle": "2022-04-04T15:46:26.519559Z",
     "shell.execute_reply": "2022-04-04T15:46:26.518980Z"
    }
   },
   "outputs": [
    {
     "ename": "NameError",
     "evalue": "name 'out_md' is not defined",
     "output_type": "error",
     "traceback": [
      "\u001b[0;31m---------------------------------------------------------------------------\u001b[0m",
      "\u001b[0;31mNameError\u001b[0m                                 Traceback (most recent call last)",
      "Input \u001b[0;32mIn [20]\u001b[0m, in \u001b[0;36m<cell line: 1>\u001b[0;34m()\u001b[0m\n\u001b[0;32m----> 1\u001b[0m trc \u001b[38;5;241m=\u001b[39m Trc(\u001b[43mout_md\u001b[49m\u001b[38;5;241m+\u001b[39m\u001b[38;5;124m\"\u001b[39m\u001b[38;5;124m.trc\u001b[39m\u001b[38;5;124m\"\u001b[39m)\n\u001b[1;32m      2\u001b[0m trc\u001b[38;5;241m.\u001b[39mTITLE \u001b[38;5;241m=\u001b[39m \u001b[38;5;124m\"\u001b[39m\u001b[38;5;130;01m\\n\u001b[39;00m\u001b[38;5;124m\"\u001b[39m\u001b[38;5;241m.\u001b[39mjoin(trc\u001b[38;5;241m.\u001b[39mTITLE)\n\u001b[1;32m      3\u001b[0m trc\u001b[38;5;241m.\u001b[39mcog_reframe(cnf)\n",
      "\u001b[0;31mNameError\u001b[0m: name 'out_md' is not defined"
     ]
    }
   ],
   "source": [
    "trc = Trc(out_md+\".trc\")\n",
    "trc.TITLE = \"\\n\".join(trc.TITLE)\n",
    "trc.cog_reframe(cnf)\n",
    "trc.visualize(cnf)"
   ]
  },
  {
   "cell_type": "code",
   "execution_count": 21,
   "metadata": {
    "execution": {
     "iopub.execute_input": "2022-04-04T15:46:26.522104Z",
     "iopub.status.busy": "2022-04-04T15:46:26.521684Z",
     "iopub.status.idle": "2022-04-04T15:46:26.547577Z",
     "shell.execute_reply": "2022-04-04T15:46:26.546912Z"
    }
   },
   "outputs": [
    {
     "name": "stderr",
     "output_type": "stream",
     "text": [
      "mkdir: cannot create directory ‘/home/runner/micromamba/envs/pygromosTest/lib/python3.9/site-packages/examples/example_files/Tutorial_System/h_ana’: No such file or directory\n"
     ]
    },
    {
     "ename": "OSError",
     "evalue": "could not make folder:\n /home/runner/micromamba/envs/pygromosTest/lib/python3.9/site-packages/examples/example_files/Tutorial_System/h_ana",
     "output_type": "error",
     "traceback": [
      "\u001b[0;31m---------------------------------------------------------------------------\u001b[0m",
      "\u001b[0;31mOSError\u001b[0m                                   Traceback (most recent call last)",
      "Input \u001b[0;32mIn [21]\u001b[0m, in \u001b[0;36m<cell line: 2>\u001b[0;34m()\u001b[0m\n\u001b[1;32m      1\u001b[0m out_prefix \u001b[38;5;241m=\u001b[39m \u001b[38;5;124m\"\u001b[39m\u001b[38;5;124mana\u001b[39m\u001b[38;5;124m\"\u001b[39m\n\u001b[0;32m----> 2\u001b[0m md_dir \u001b[38;5;241m=\u001b[39m \u001b[43mbash\u001b[49m\u001b[38;5;241;43m.\u001b[39;49m\u001b[43mmake_folder\u001b[49m\u001b[43m(\u001b[49m\u001b[43mproject_dir\u001b[49m\u001b[38;5;241;43m+\u001b[39;49m\u001b[38;5;124;43m\"\u001b[39;49m\u001b[38;5;124;43m/h_\u001b[39;49m\u001b[38;5;124;43m\"\u001b[39;49m\u001b[38;5;241;43m+\u001b[39;49m\u001b[43mout_prefix\u001b[49m\u001b[43m)\u001b[49m\n\u001b[1;32m      3\u001b[0m os\u001b[38;5;241m.\u001b[39mchdir(md_dir)\n",
      "File \u001b[0;32m~/micromamba/envs/pygromosTest/lib/python3.9/site-packages/pygromos/utils/bash.py:558\u001b[0m, in \u001b[0;36mmake_folder\u001b[0;34m(in_directory_path, additional_option, verbose)\u001b[0m\n\u001b[1;32m    556\u001b[0m \u001b[38;5;28;01mif\u001b[39;00m \u001b[38;5;129;01mnot\u001b[39;00m os\u001b[38;5;241m.\u001b[39mpath\u001b[38;5;241m.\u001b[39misdir(in_directory_path):\n\u001b[1;32m    557\u001b[0m     \u001b[38;5;28;01mif\u001b[39;00m os\u001b[38;5;241m.\u001b[39msystem(mk_folder):\n\u001b[0;32m--> 558\u001b[0m         \u001b[38;5;28;01mraise\u001b[39;00m \u001b[38;5;167;01mOSError\u001b[39;00m(\u001b[38;5;124m\"\u001b[39m\u001b[38;5;124mcould not make folder:\u001b[39m\u001b[38;5;130;01m\\n\u001b[39;00m\u001b[38;5;124m \u001b[39m\u001b[38;5;124m\"\u001b[39m \u001b[38;5;241m+\u001b[39m \u001b[38;5;28mstr\u001b[39m(in_directory_path))\n\u001b[1;32m    560\u001b[0m \u001b[38;5;28;01melif\u001b[39;00m verbose:\n\u001b[1;32m    561\u001b[0m     warnings\u001b[38;5;241m.\u001b[39mwarn(\u001b[38;5;124m\"\u001b[39m\u001b[38;5;124mWARNING:\u001b[39m\u001b[38;5;130;01m\\n\u001b[39;00m\u001b[38;5;130;01m\\t\u001b[39;00m\u001b[38;5;124m Did not build already existing folder: \u001b[39m\u001b[38;5;124m\"\u001b[39m \u001b[38;5;241m+\u001b[39m in_directory_path, category\u001b[38;5;241m=\u001b[39m\u001b[38;5;167;01mUserWarning\u001b[39;00m)\n",
      "\u001b[0;31mOSError\u001b[0m: could not make folder:\n /home/runner/micromamba/envs/pygromosTest/lib/python3.9/site-packages/examples/example_files/Tutorial_System/h_ana"
     ]
    }
   ],
   "source": [
    "out_prefix = \"ana\"\n",
    "md_dir = bash.make_folder(project_dir+\"/h_\"+out_prefix)\n",
    "os.chdir(md_dir)"
   ]
  },
  {
   "cell_type": "code",
   "execution_count": null,
   "metadata": {},
   "outputs": [],
   "source": []
  }
 ],
 "metadata": {
  "language_info": {
   "codemirror_mode": {
    "name": "ipython",
    "version": 3
   },
   "file_extension": ".py",
   "mimetype": "text/x-python",
   "name": "python",
   "nbconvert_exporter": "python",
   "pygments_lexer": "ipython3",
   "version": "3.9.12"
  },
  "widgets": {
   "application/vnd.jupyter.widget-state+json": {
    "state": {
     "114b1facadc2473aa33e39e9d1b4b8a5": {
      "model_module": "@jupyter-widgets/base",
      "model_module_version": "1.2.0",
      "model_name": "LayoutModel",
      "state": {
       "_model_module": "@jupyter-widgets/base",
       "_model_module_version": "1.2.0",
       "_model_name": "LayoutModel",
       "_view_count": null,
       "_view_module": "@jupyter-widgets/base",
       "_view_module_version": "1.2.0",
       "_view_name": "LayoutView",
       "align_content": null,
       "align_items": null,
       "align_self": null,
       "border": null,
       "bottom": null,
       "display": null,
       "flex": null,
       "flex_flow": null,
       "grid_area": null,
       "grid_auto_columns": null,
       "grid_auto_flow": null,
       "grid_auto_rows": null,
       "grid_column": null,
       "grid_gap": null,
       "grid_row": null,
       "grid_template_areas": null,
       "grid_template_columns": null,
       "grid_template_rows": null,
       "height": null,
       "justify_content": null,
       "justify_items": null,
       "left": null,
       "margin": null,
       "max_height": null,
       "max_width": null,
       "min_height": null,
       "min_width": null,
       "object_fit": null,
       "object_position": null,
       "order": null,
       "overflow": null,
       "overflow_x": null,
       "overflow_y": null,
       "padding": null,
       "right": null,
       "top": null,
       "visibility": null,
       "width": null
      }
     },
     "6192db0db52c4baf9ed956db584d5b57": {
      "model_module": "nglview-js-widgets",
      "model_module_version": "3.0.1",
      "model_name": "ColormakerRegistryModel",
      "state": {
       "_dom_classes": [],
       "_model_module": "nglview-js-widgets",
       "_model_module_version": "3.0.1",
       "_model_name": "ColormakerRegistryModel",
       "_msg_ar": [],
       "_msg_q": [],
       "_ready": false,
       "_view_count": null,
       "_view_module": "nglview-js-widgets",
       "_view_module_version": "3.0.1",
       "_view_name": "ColormakerRegistryView",
       "layout": "IPY_MODEL_114b1facadc2473aa33e39e9d1b4b8a5"
      }
     }
    },
    "version_major": 2,
    "version_minor": 0
   }
  }
 },
 "nbformat": 4,
 "nbformat_minor": 4
}
