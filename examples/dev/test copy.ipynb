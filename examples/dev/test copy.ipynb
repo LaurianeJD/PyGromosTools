{
 "cells": [
  {
   "cell_type": "code",
   "execution_count": 14,
   "metadata": {},
   "outputs": [],
   "source": [
    "import pygromos\n",
    "from pygromos import files\n",
    "from pygromos.files.topology import *\n",
    "from pygromos.files.blocks.topology_blocks import *\n",
    "from rdkit import Chem\n",
    "from rdkit.Chem import AllChem"
   ]
  },
  {
   "cell_type": "code",
   "execution_count": 2,
   "metadata": {
    "tags": []
   },
   "outputs": [
    {
     "output_type": "stream",
     "name": "stdout",
     "text": "[&lt;pygromos.files.blocks.topology_blocks.atom_mass_type object at 0x7f5568d92cd0&gt;, &lt;pygromos.files.blocks.topology_blocks.atom_mass_type object at 0x7f5568d92c90&gt;, &lt;pygromos.files.blocks.topology_blocks.atom_mass_type object at 0x7f5568d92d10&gt;, &lt;pygromos.files.blocks.topology_blocks.atom_mass_type object at 0x7f5568d92d90&gt;, &lt;pygromos.files.blocks.topology_blocks.atom_mass_type object at 0x7f5568d92e10&gt;, &lt;pygromos.files.blocks.topology_blocks.atom_mass_type object at 0x7f5568d92e90&gt;, &lt;pygromos.files.blocks.topology_blocks.atom_mass_type object at 0x7f5568d92f50&gt;, &lt;pygromos.files.blocks.topology_blocks.atom_mass_type object at 0x7f5568d92fd0&gt;, &lt;pygromos.files.blocks.topology_blocks.atom_mass_type object at 0x7f5568d9a0d0&gt;, &lt;pygromos.files.blocks.topology_blocks.atom_mass_type object at 0x7f5568d9a110&gt;, &lt;pygromos.files.blocks.topology_blocks.atom_mass_type object at 0x7f5568d92f10&gt;, &lt;pygromos.files.blocks.topology_blocks.atom_mass_type object at 0x7f5568d9a150&gt;, &lt;pygromos.files.blocks.topology_blocks.atom_mass_type object at 0x7f5568d9a1d0&gt;, &lt;pygromos.files.blocks.topology_blocks.atom_mass_type object at 0x7f5568d9a250&gt;, &lt;pygromos.files.blocks.topology_blocks.atom_mass_type object at 0x7f5568d9a2d0&gt;, &lt;pygromos.files.blocks.topology_blocks.atom_mass_type object at 0x7f5568d9a310&gt;, &lt;pygromos.files.blocks.topology_blocks.atom_mass_type object at 0x7f5568d9a350&gt;, &lt;pygromos.files.blocks.topology_blocks.atom_mass_type object at 0x7f5568d9a3d0&gt;, &lt;pygromos.files.blocks.topology_blocks.atom_mass_type object at 0x7f5568d9a410&gt;, &lt;pygromos.files.blocks.topology_blocks.atom_mass_type object at 0x7f5568d9a490&gt;, &lt;pygromos.files.blocks.topology_blocks.atom_mass_type object at 0x7f5568d9a510&gt;, &lt;pygromos.files.blocks.topology_blocks.atom_mass_type object at 0x7f5568d9a590&gt;, &lt;pygromos.files.blocks.topology_blocks.atom_mass_type object at 0x7f5568d9a610&gt;, &lt;pygromos.files.blocks.topology_blocks.atom_mass_type object at 0x7f5568d9a690&gt;, &lt;pygromos.files.blocks.topology_blocks.atom_mass_type object at 0x7f5568d9a710&gt;, &lt;pygromos.files.blocks.topology_blocks.atom_mass_type object at 0x7f5568d9a790&gt;]\n[&lt;pygromos.files.blocks.topology_blocks.improper_dihedral_type object at 0x7f5568da89d0&gt;, &lt;pygromos.files.blocks.topology_blocks.improper_dihedral_type object at 0x7f5568da8890&gt;, &lt;pygromos.files.blocks.topology_blocks.improper_dihedral_type object at 0x7f5568da8a90&gt;, &lt;pygromos.files.blocks.topology_blocks.improper_dihedral_type object at 0x7f5568da8ad0&gt;, &lt;pygromos.files.blocks.topology_blocks.improper_dihedral_type object at 0x7f5568da8b50&gt;]\n"
    }
   ],
   "source": [
    "ifp=files.topology.ifp(\"/home/thierry/pygromos/pygromos/data/ff/Gromos2016H66/2016H66.ifp\")"
   ]
  },
  {
   "cell_type": "code",
   "execution_count": 3,
   "metadata": {},
   "outputs": [
    {
     "output_type": "execute_result",
     "data": {
      "text/plain": "0"
     },
     "metadata": {},
     "execution_count": 3
    }
   ],
   "source": [
    "mol = Chem.MolFromSmiles(\"c1(C)ccccc1\")\n",
    "Chem.AddHs(mol)\n",
    "AllChem.EmbedMolecule(mol)"
   ]
  },
  {
   "cell_type": "code",
   "execution_count": 4,
   "metadata": {
    "tags": []
   },
   "outputs": [
    {
     "output_type": "stream",
     "name": "stdout",
     "text": "0\n1\n2\n3\n4\n5\n6\n"
    }
   ],
   "source": [
    "for a in mol.GetAtoms():\n",
    "    print(a.GetIdx())"
   ]
  },
  {
   "cell_type": "code",
   "execution_count": 8,
   "metadata": {
    "tags": []
   },
   "outputs": [
    {
     "output_type": "stream",
     "name": "stderr",
     "text": "RDKit INFO: Atoms:\nRDKit INFO: \t0 6 C chg: 0  deg: 3 exp: 4 imp: 0 hyb: 3 arom?: 1 chi: 0\nRDKit INFO: \t1 6 C chg: 0  deg: 1 exp: 1 imp: 3 hyb: 4 arom?: 0 chi: 0\nRDKit INFO: \t2 6 C chg: 0  deg: 2 exp: 3 imp: 1 hyb: 3 arom?: 1 chi: 0\nRDKit INFO: \t3 6 C chg: 0  deg: 2 exp: 3 imp: 1 hyb: 3 arom?: 1 chi: 0\nRDKit INFO: \t4 6 C chg: 0  deg: 2 exp: 3 imp: 1 hyb: 3 arom?: 1 chi: 0\nRDKit INFO: \t5 6 C chg: 0  deg: 2 exp: 3 imp: 1 hyb: 3 arom?: 1 chi: 0\nRDKit INFO: \t6 6 C chg: 0  deg: 2 exp: 3 imp: 1 hyb: 3 arom?: 1 chi: 0\nRDKit INFO: Bonds:\nRDKit INFO: \t0 0-&gt;1 order: 1 conj?: 0 aromatic?: 0\nRDKit INFO: \t1 0-&gt;2 order: 12 conj?: 1 aromatic?: 1\nRDKit INFO: \t2 2-&gt;3 order: 12 conj?: 1 aromatic?: 1\nRDKit INFO: \t3 3-&gt;4 order: 12 conj?: 1 aromatic?: 1\nRDKit INFO: \t4 4-&gt;5 order: 12 conj?: 1 aromatic?: 1\nRDKit INFO: \t5 5-&gt;6 order: 12 conj?: 1 aromatic?: 1\nRDKit INFO: \t6 6-&gt;0 order: 12 conj?: 1 aromatic?: 1\n"
    }
   ],
   "source": [
    "mol.Debug()"
   ]
  },
  {
   "cell_type": "code",
   "execution_count": 13,
   "metadata": {},
   "outputs": [],
   "source": [
    "for atom in mol.GetAtoms():\n",
    "    ATNM = atom.GetIdx()\n",
    "    MRES = 1\n",
    "    PANM = atom.GetSymbol()\n",
    "    IAC = 1\n",
    "    MASS = atom.GetMass()\n",
    "    CG = atom.GetFormalCharge()\n",
    "    CGC = 0\n",
    "    INE = atom.GetNeighbors()\n",
    "\n"
   ]
  },
  {
   "cell_type": "code",
   "execution_count": 15,
   "metadata": {},
   "outputs": [
    {
     "output_type": "execute_result",
     "data": {
      "text/plain": "True"
     },
     "metadata": {},
     "execution_count": 15
    }
   ],
   "source": [
    "AllChem.MMFFHasAllMoleculeParams(mol)"
   ]
  },
  {
   "cell_type": "code",
   "execution_count": 17,
   "metadata": {},
   "outputs": [],
   "source": [
    "molm = AllChem.MMFFGetMoleculeProperties(mol)"
   ]
  },
  {
   "cell_type": "code",
   "execution_count": 27,
   "metadata": {},
   "outputs": [
    {
     "output_type": "execute_result",
     "data": {
      "text/plain": "1"
     },
     "metadata": {},
     "execution_count": 27
    }
   ],
   "source": [
    "molm.GetMMFFAtomType(1)"
   ]
  },
  {
   "cell_type": "code",
   "execution_count": 30,
   "metadata": {},
   "outputs": [],
   "source": [
    "ff=AllChem.MMFFGetMoleculeForceField(mol, molm)"
   ]
  },
  {
   "cell_type": "code",
   "execution_count": 31,
   "metadata": {
    "tags": []
   },
   "outputs": [
    {
     "output_type": "stream",
     "name": "stdout",
     "text": "&lt;rdkit.ForceField.rdForceField.ForceField object at 0x7f5566920760&gt;\n"
    }
   ],
   "source": [
    "print(ff)"
   ]
  },
  {
   "cell_type": "code",
   "execution_count": 32,
   "metadata": {},
   "outputs": [
    {
     "output_type": "execute_result",
     "data": {
      "text/plain": "0"
     },
     "metadata": {},
     "execution_count": 32
    }
   ],
   "source": [
    "AllChem.MMFFSanitizeMolecule(mol)"
   ]
  },
  {
   "cell_type": "code",
   "execution_count": 35,
   "metadata": {},
   "outputs": [
    {
     "output_type": "execute_result",
     "data": {
      "text/plain": "37"
     },
     "metadata": {},
     "execution_count": 35
    }
   ],
   "source": [
    "molm.GetMMFFAtomType(0)"
   ]
  },
  {
   "cell_type": "code",
   "execution_count": null,
   "metadata": {},
   "outputs": [],
   "source": []
  }
 ],
 "metadata": {
  "language_info": {
   "codemirror_mode": {
    "name": "ipython",
    "version": 3
   },
   "file_extension": ".py",
   "mimetype": "text/x-python",
   "name": "python",
   "nbconvert_exporter": "python",
   "pygments_lexer": "ipython3",
   "version": "3.7.8-final"
  },
  "orig_nbformat": 2,
  "kernelspec": {
   "name": "Python 3.7.8 64-bit ('gromos': conda)",
   "display_name": "Python 3.7.8 64-bit ('gromos': conda)",
   "metadata": {
    "interpreter": {
     "hash": "8dba6a64eb508a1cfa4b2d200af08c140b214d929439af43ae4caed23fca3f5c"
    }
   }
  }
 },
 "nbformat": 4,
 "nbformat_minor": 2
}
