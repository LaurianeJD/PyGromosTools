{
 "cells": [
  {
   "cell_type": "markdown",
   "metadata": {},
   "source": [
    "# Topology creation and modifications with PyGromosTools"
   ]
  },
  {
   "cell_type": "markdown",
   "metadata": {},
   "source": [
    "PyGromosTools offers a wide variaty of tools and functions to assist in the creation and modification of specialized topologies.\n",
    "\n",
    "In the following notebook we will demonstrate some of the functions and theire usage. These functions and workflows should work with all supported forcfields, but we will use OpenForceField due to the fact that it is independant of make_top and a Gromos++ installation."
   ]
  },
  {
   "cell_type": "code",
   "execution_count": 1,
   "metadata": {
    "execution": {
     "iopub.execute_input": "2022-04-05T06:11:31.368246Z",
     "iopub.status.busy": "2022-04-05T06:11:31.367717Z",
     "iopub.status.idle": "2022-04-05T06:11:31.517544Z",
     "shell.execute_reply": "2022-04-05T06:11:31.516936Z"
    }
   },
   "outputs": [],
   "source": [
    "import os\n",
    "from rdkit.Chem import AllChem"
   ]
  },
  {
   "cell_type": "code",
   "execution_count": 2,
   "metadata": {
    "execution": {
     "iopub.execute_input": "2022-04-05T06:11:31.520871Z",
     "iopub.status.busy": "2022-04-05T06:11:31.520542Z",
     "iopub.status.idle": "2022-04-05T06:11:32.683436Z",
     "shell.execute_reply": "2022-04-05T06:11:32.682664Z"
    }
   },
   "outputs": [
    {
     "data": {
      "application/vnd.jupyter.widget-view+json": {
       "model_id": "de2b92e53eac49d88334c3c4575c16e0",
       "version_major": 2,
       "version_minor": 0
      },
      "text/plain": []
     },
     "metadata": {},
     "output_type": "display_data"
    },
    {
     "ename": "ModuleNotFoundError",
     "evalue": "No module named 'pygromos.files.gromos_system.ff'",
     "output_type": "error",
     "traceback": [
      "\u001b[0;31m---------------------------------------------------------------------------\u001b[0m",
      "\u001b[0;31mModuleNotFoundError\u001b[0m                       Traceback (most recent call last)",
      "Input \u001b[0;32mIn [2]\u001b[0m, in \u001b[0;36m<cell line: 2>\u001b[0;34m()\u001b[0m\n\u001b[1;32m      1\u001b[0m \u001b[38;5;28;01mfrom\u001b[39;00m \u001b[38;5;21;01mpygromos\u001b[39;00m\u001b[38;5;21;01m.\u001b[39;00m\u001b[38;5;21;01mfiles\u001b[39;00m\u001b[38;5;21;01m.\u001b[39;00m\u001b[38;5;21;01mgromos_system\u001b[39;00m\u001b[38;5;21;01m.\u001b[39;00m\u001b[38;5;21;01mgromos_system\u001b[39;00m \u001b[38;5;28;01mimport\u001b[39;00m Gromos_System\n\u001b[0;32m----> 2\u001b[0m \u001b[38;5;28;01mfrom\u001b[39;00m \u001b[38;5;21;01mpygromos\u001b[39;00m\u001b[38;5;21;01m.\u001b[39;00m\u001b[38;5;21;01mfiles\u001b[39;00m\u001b[38;5;21;01m.\u001b[39;00m\u001b[38;5;21;01mgromos_system\u001b[39;00m\u001b[38;5;21;01m.\u001b[39;00m\u001b[38;5;21;01mff\u001b[39;00m\u001b[38;5;21;01m.\u001b[39;00m\u001b[38;5;21;01mforcefield_system\u001b[39;00m \u001b[38;5;28;01mimport\u001b[39;00m forcefield_system\n\u001b[1;32m      3\u001b[0m \u001b[38;5;28;01mfrom\u001b[39;00m \u001b[38;5;21;01mpygromos\u001b[39;00m\u001b[38;5;21;01m.\u001b[39;00m\u001b[38;5;21;01mfiles\u001b[39;00m\u001b[38;5;21;01m.\u001b[39;00m\u001b[38;5;21;01mtopology\u001b[39;00m\u001b[38;5;21;01m.\u001b[39;00m\u001b[38;5;21;01mtop\u001b[39;00m \u001b[38;5;28;01mimport\u001b[39;00m Top\n",
      "\u001b[0;31mModuleNotFoundError\u001b[0m: No module named 'pygromos.files.gromos_system.ff'"
     ]
    }
   ],
   "source": [
    "from pygromos.files.gromos_system.gromos_system import Gromos_System\n",
    "from pygromos.files.gromos_system.ff.forcefield_system import forcefield_system\n",
    "from pygromos.files.topology.top import Top"
   ]
  },
  {
   "cell_type": "code",
   "execution_count": 3,
   "metadata": {
    "execution": {
     "iopub.execute_input": "2022-04-05T06:11:32.687910Z",
     "iopub.status.busy": "2022-04-05T06:11:32.687508Z",
     "iopub.status.idle": "2022-04-05T06:11:32.690832Z",
     "shell.execute_reply": "2022-04-05T06:11:32.690254Z"
    }
   },
   "outputs": [],
   "source": [
    "# setting the work directory\n",
    "root_dir = os.path.abspath(\"../example_files/topo_tutorial/\")"
   ]
  },
  {
   "cell_type": "markdown",
   "metadata": {},
   "source": [
    "## Automatic System generation and combining of topologies"
   ]
  },
  {
   "cell_type": "markdown",
   "metadata": {},
   "source": [
    "In the first part of this notebbok we demonstrate some automatic tools to create and modifie topologies."
   ]
  },
  {
   "cell_type": "code",
   "execution_count": 4,
   "metadata": {
    "execution": {
     "iopub.execute_input": "2022-04-05T06:11:32.693735Z",
     "iopub.status.busy": "2022-04-05T06:11:32.693269Z",
     "iopub.status.idle": "2022-04-05T06:11:32.707668Z",
     "shell.execute_reply": "2022-04-05T06:11:32.707087Z"
    }
   },
   "outputs": [
    {
     "ename": "NameError",
     "evalue": "name 'forcefield_system' is not defined",
     "output_type": "error",
     "traceback": [
      "\u001b[0;31m---------------------------------------------------------------------------\u001b[0m",
      "\u001b[0;31mNameError\u001b[0m                                 Traceback (most recent call last)",
      "Input \u001b[0;32mIn [4]\u001b[0m, in \u001b[0;36m<cell line: 2>\u001b[0;34m()\u001b[0m\n\u001b[1;32m      1\u001b[0m \u001b[38;5;66;03m# defining the forcefield we want to use. In case a Gromos system is used make sure to have a valid Gromos++ installation and define the gromos++ path in Gromos_System or add it to you Path.\u001b[39;00m\n\u001b[0;32m----> 2\u001b[0m ff \u001b[38;5;241m=\u001b[39m \u001b[43mforcefield_system\u001b[49m(name\u001b[38;5;241m=\u001b[39m\u001b[38;5;124m\"\u001b[39m\u001b[38;5;124moff\u001b[39m\u001b[38;5;124m\"\u001b[39m)\n",
      "\u001b[0;31mNameError\u001b[0m: name 'forcefield_system' is not defined"
     ]
    }
   ],
   "source": [
    "# defining the forcefield we want to use. In case a Gromos system is used make sure to have a valid Gromos++ installation and define the gromos++ path in Gromos_System or add it to you Path.\n",
    "ff = forcefield_system(name=\"off\")"
   ]
  },
  {
   "cell_type": "code",
   "execution_count": 5,
   "metadata": {
    "execution": {
     "iopub.execute_input": "2022-04-05T06:11:32.710939Z",
     "iopub.status.busy": "2022-04-05T06:11:32.710375Z",
     "iopub.status.idle": "2022-04-05T06:11:32.732806Z",
     "shell.execute_reply": "2022-04-05T06:11:32.732169Z"
    }
   },
   "outputs": [
    {
     "data": {
      "text/plain": [
       "0"
      ]
     },
     "execution_count": 5,
     "metadata": {},
     "output_type": "execute_result"
    }
   ],
   "source": [
    "# We define a molecule in RDKit. Note that this molecule could be modified in RDKit or read from sdf, pdb, ... files\n",
    "mol = AllChem.MolFromSmiles(\"C1CCCCC1\")\n",
    "mol = AllChem.AddHs(mol)\n",
    "AllChem.EmbedMolecule(mol)\n"
   ]
  },
  {
   "cell_type": "code",
   "execution_count": 6,
   "metadata": {
    "execution": {
     "iopub.execute_input": "2022-04-05T06:11:32.736260Z",
     "iopub.status.busy": "2022-04-05T06:11:32.735781Z",
     "iopub.status.idle": "2022-04-05T06:11:32.751316Z",
     "shell.execute_reply": "2022-04-05T06:11:32.750696Z"
    }
   },
   "outputs": [
    {
     "ename": "NameError",
     "evalue": "name 'ff' is not defined",
     "output_type": "error",
     "traceback": [
      "\u001b[0;31m---------------------------------------------------------------------------\u001b[0m",
      "\u001b[0;31mNameError\u001b[0m                                 Traceback (most recent call last)",
      "Input \u001b[0;32mIn [6]\u001b[0m, in \u001b[0;36m<cell line: 2>\u001b[0;34m()\u001b[0m\n\u001b[1;32m      1\u001b[0m \u001b[38;5;66;03m# We define our Gromos_system. Note the option auto_convert=True to automatically genarte a valid topology from the molecule defined in mol and the forcefield defined in ff.\u001b[39;00m\n\u001b[0;32m----> 2\u001b[0m grosys \u001b[38;5;241m=\u001b[39m Gromos_System(work_folder\u001b[38;5;241m=\u001b[39mroot_dir, system_name\u001b[38;5;241m=\u001b[39m\u001b[38;5;124m\"\u001b[39m\u001b[38;5;124mtest\u001b[39m\u001b[38;5;124m\"\u001b[39m, Forcefield\u001b[38;5;241m=\u001b[39m\u001b[43mff\u001b[49m, rdkitMol\u001b[38;5;241m=\u001b[39mmol, auto_convert\u001b[38;5;241m=\u001b[39m\u001b[38;5;28;01mTrue\u001b[39;00m)\n",
      "\u001b[0;31mNameError\u001b[0m: name 'ff' is not defined"
     ]
    }
   ],
   "source": [
    "# We define our Gromos_system. Note the option auto_convert=True to automatically genarte a valid topology from the molecule defined in mol and the forcefield defined in ff.\n",
    "grosys = Gromos_System(work_folder=root_dir, system_name=\"test\", Forcefield=ff, rdkitMol=mol, auto_convert=True)"
   ]
  },
  {
   "cell_type": "code",
   "execution_count": 7,
   "metadata": {
    "execution": {
     "iopub.execute_input": "2022-04-05T06:11:32.754271Z",
     "iopub.status.busy": "2022-04-05T06:11:32.753802Z",
     "iopub.status.idle": "2022-04-05T06:11:32.768164Z",
     "shell.execute_reply": "2022-04-05T06:11:32.767577Z"
    }
   },
   "outputs": [
    {
     "ename": "NameError",
     "evalue": "name 'grosys' is not defined",
     "output_type": "error",
     "traceback": [
      "\u001b[0;31m---------------------------------------------------------------------------\u001b[0m",
      "\u001b[0;31mNameError\u001b[0m                                 Traceback (most recent call last)",
      "Input \u001b[0;32mIn [7]\u001b[0m, in \u001b[0;36m<cell line: 2>\u001b[0;34m()\u001b[0m\n\u001b[1;32m      1\u001b[0m \u001b[38;5;66;03m# The topology created in the last step printed\u001b[39;00m\n\u001b[0;32m----> 2\u001b[0m \u001b[43mgrosys\u001b[49m\u001b[38;5;241m.\u001b[39mtop\u001b[38;5;241m.\u001b[39mTITLE\n",
      "\u001b[0;31mNameError\u001b[0m: name 'grosys' is not defined"
     ]
    }
   ],
   "source": [
    "# The topology created in the last step printed\n",
    "grosys.top.TITLE"
   ]
  },
  {
   "cell_type": "markdown",
   "metadata": {},
   "source": [
    "After the automatic creation of this topology for a Cyclohexan molecule we could try to make a liquid topology. Therefore we want to have multiple copies of our topology in one single topology."
   ]
  },
  {
   "cell_type": "code",
   "execution_count": 8,
   "metadata": {
    "execution": {
     "iopub.execute_input": "2022-04-05T06:11:32.771090Z",
     "iopub.status.busy": "2022-04-05T06:11:32.770537Z",
     "iopub.status.idle": "2022-04-05T06:11:32.784701Z",
     "shell.execute_reply": "2022-04-05T06:11:32.784110Z"
    }
   },
   "outputs": [
    {
     "ename": "NameError",
     "evalue": "name 'Top' is not defined",
     "output_type": "error",
     "traceback": [
      "\u001b[0;31m---------------------------------------------------------------------------\u001b[0m",
      "\u001b[0;31mNameError\u001b[0m                                 Traceback (most recent call last)",
      "Input \u001b[0;32mIn [8]\u001b[0m, in \u001b[0;36m<cell line: 2>\u001b[0;34m()\u001b[0m\n\u001b[1;32m      1\u001b[0m \u001b[38;5;66;03m# define a new, empty top\u001b[39;00m\n\u001b[0;32m----> 2\u001b[0m retTop\u001b[38;5;241m=\u001b[39m\u001b[43mTop\u001b[49m(in_value\u001b[38;5;241m=\u001b[39m\u001b[38;5;28;01mNone\u001b[39;00m)\n",
      "\u001b[0;31mNameError\u001b[0m: name 'Top' is not defined"
     ]
    }
   ],
   "source": [
    "# define a new, empty top\n",
    "retTop=Top(in_value=None)"
   ]
  },
  {
   "cell_type": "markdown",
   "metadata": {},
   "source": [
    "With the \"+=\" operator we can add multiple topologies to a single topology. Or multiply the topology in a for loop. This alows costum topologies for liquids. After the loop we can reasign the variable to our Gromos_System and check if the additional molecules were added."
   ]
  },
  {
   "cell_type": "code",
   "execution_count": 9,
   "metadata": {
    "execution": {
     "iopub.execute_input": "2022-04-05T06:11:32.787483Z",
     "iopub.status.busy": "2022-04-05T06:11:32.787178Z",
     "iopub.status.idle": "2022-04-05T06:11:32.802115Z",
     "shell.execute_reply": "2022-04-05T06:11:32.801518Z"
    }
   },
   "outputs": [
    {
     "ename": "NameError",
     "evalue": "name 'retTop' is not defined",
     "output_type": "error",
     "traceback": [
      "\u001b[0;31m---------------------------------------------------------------------------\u001b[0m",
      "\u001b[0;31mNameError\u001b[0m                                 Traceback (most recent call last)",
      "Input \u001b[0;32mIn [9]\u001b[0m, in \u001b[0;36m<cell line: 1>\u001b[0;34m()\u001b[0m\n\u001b[1;32m      1\u001b[0m \u001b[38;5;28;01mfor\u001b[39;00m _ \u001b[38;5;129;01min\u001b[39;00m \u001b[38;5;28mrange\u001b[39m(\u001b[38;5;241m10\u001b[39m):\n\u001b[0;32m----> 2\u001b[0m     retTop \u001b[38;5;241m+\u001b[39m\u001b[38;5;241m=\u001b[39m grosys\u001b[38;5;241m.\u001b[39mtop\n\u001b[1;32m      3\u001b[0m grosys\u001b[38;5;241m.\u001b[39mtop \u001b[38;5;241m=\u001b[39m retTop\n",
      "\u001b[0;31mNameError\u001b[0m: name 'retTop' is not defined"
     ]
    }
   ],
   "source": [
    "for _ in range(10):\n",
    "    retTop += grosys.top\n",
    "grosys.top = retTop"
   ]
  },
  {
   "cell_type": "code",
   "execution_count": 10,
   "metadata": {
    "execution": {
     "iopub.execute_input": "2022-04-05T06:11:32.804993Z",
     "iopub.status.busy": "2022-04-05T06:11:32.804531Z",
     "iopub.status.idle": "2022-04-05T06:11:32.818381Z",
     "shell.execute_reply": "2022-04-05T06:11:32.817800Z"
    }
   },
   "outputs": [
    {
     "ename": "NameError",
     "evalue": "name 'grosys' is not defined",
     "output_type": "error",
     "traceback": [
      "\u001b[0;31m---------------------------------------------------------------------------\u001b[0m",
      "\u001b[0;31mNameError\u001b[0m                                 Traceback (most recent call last)",
      "Input \u001b[0;32mIn [10]\u001b[0m, in \u001b[0;36m<cell line: 2>\u001b[0;34m()\u001b[0m\n\u001b[1;32m      1\u001b[0m \u001b[38;5;66;03m# we added 10 copies of the initial moleucle to retTop and our new topology now contains 10 molecules in the RESNAME block.\u001b[39;00m\n\u001b[0;32m----> 2\u001b[0m \u001b[43mgrosys\u001b[49m\u001b[38;5;241m.\u001b[39mtop\u001b[38;5;241m.\u001b[39mRESNAME\n",
      "\u001b[0;31mNameError\u001b[0m: name 'grosys' is not defined"
     ]
    }
   ],
   "source": [
    "# we added 10 copies of the initial moleucle to retTop and our new topology now contains 10 molecules in the RESNAME block.\n",
    "grosys.top.RESNAME"
   ]
  },
  {
   "cell_type": "code",
   "execution_count": 11,
   "metadata": {
    "execution": {
     "iopub.execute_input": "2022-04-05T06:11:32.821413Z",
     "iopub.status.busy": "2022-04-05T06:11:32.820933Z",
     "iopub.status.idle": "2022-04-05T06:11:32.835159Z",
     "shell.execute_reply": "2022-04-05T06:11:32.834517Z"
    }
   },
   "outputs": [
    {
     "ename": "NameError",
     "evalue": "name 'grosys' is not defined",
     "output_type": "error",
     "traceback": [
      "\u001b[0;31m---------------------------------------------------------------------------\u001b[0m",
      "\u001b[0;31mNameError\u001b[0m                                 Traceback (most recent call last)",
      "Input \u001b[0;32mIn [11]\u001b[0m, in \u001b[0;36m<cell line: 1>\u001b[0;34m()\u001b[0m\n\u001b[0;32m----> 1\u001b[0m \u001b[43mgrosys\u001b[49m\u001b[38;5;241m.\u001b[39mtop\u001b[38;5;241m.\u001b[39mmake_ordered()\n",
      "\u001b[0;31mNameError\u001b[0m: name 'grosys' is not defined"
     ]
    }
   ],
   "source": [
    "grosys.top.make_ordered()"
   ]
  },
  {
   "cell_type": "markdown",
   "metadata": {},
   "source": [
    "We can also add different molecules in our system. For example we could add a Toluene to our Cyclohexane system."
   ]
  },
  {
   "cell_type": "code",
   "execution_count": 12,
   "metadata": {
    "execution": {
     "iopub.execute_input": "2022-04-05T06:11:32.838071Z",
     "iopub.status.busy": "2022-04-05T06:11:32.837534Z",
     "iopub.status.idle": "2022-04-05T06:11:32.852873Z",
     "shell.execute_reply": "2022-04-05T06:11:32.852277Z"
    }
   },
   "outputs": [
    {
     "ename": "NameError",
     "evalue": "name 'ff' is not defined",
     "output_type": "error",
     "traceback": [
      "\u001b[0;31m---------------------------------------------------------------------------\u001b[0m",
      "\u001b[0;31mNameError\u001b[0m                                 Traceback (most recent call last)",
      "Input \u001b[0;32mIn [12]\u001b[0m, in \u001b[0;36m<cell line: 2>\u001b[0;34m()\u001b[0m\n\u001b[1;32m      1\u001b[0m \u001b[38;5;66;03m# create a topology for Toluene\u001b[39;00m\n\u001b[0;32m----> 2\u001b[0m tolTop \u001b[38;5;241m=\u001b[39m Gromos_System(work_folder\u001b[38;5;241m=\u001b[39mroot_dir, system_name\u001b[38;5;241m=\u001b[39m\u001b[38;5;124m\"\u001b[39m\u001b[38;5;124mTOL\u001b[39m\u001b[38;5;124m\"\u001b[39m, in_smiles\u001b[38;5;241m=\u001b[39m\u001b[38;5;124m\"\u001b[39m\u001b[38;5;124mc1ccccc1C\u001b[39m\u001b[38;5;124m\"\u001b[39m, Forcefield\u001b[38;5;241m=\u001b[39m\u001b[43mff\u001b[49m, auto_convert\u001b[38;5;241m=\u001b[39m\u001b[38;5;28;01mTrue\u001b[39;00m)\u001b[38;5;241m.\u001b[39mtop\n",
      "\u001b[0;31mNameError\u001b[0m: name 'ff' is not defined"
     ]
    }
   ],
   "source": [
    "# create a topology for Toluene\n",
    "tolTop = Gromos_System(work_folder=root_dir, system_name=\"TOL\", in_smiles=\"c1ccccc1C\", Forcefield=ff, auto_convert=True).top"
   ]
  },
  {
   "cell_type": "code",
   "execution_count": 13,
   "metadata": {
    "execution": {
     "iopub.execute_input": "2022-04-05T06:11:32.855807Z",
     "iopub.status.busy": "2022-04-05T06:11:32.855331Z",
     "iopub.status.idle": "2022-04-05T06:11:32.869143Z",
     "shell.execute_reply": "2022-04-05T06:11:32.868546Z"
    }
   },
   "outputs": [
    {
     "ename": "NameError",
     "evalue": "name 'grosys' is not defined",
     "output_type": "error",
     "traceback": [
      "\u001b[0;31m---------------------------------------------------------------------------\u001b[0m",
      "\u001b[0;31mNameError\u001b[0m                                 Traceback (most recent call last)",
      "Input \u001b[0;32mIn [13]\u001b[0m, in \u001b[0;36m<cell line: 2>\u001b[0;34m()\u001b[0m\n\u001b[1;32m      1\u001b[0m \u001b[38;5;66;03m# add the toluene topology to our main topology\u001b[39;00m\n\u001b[0;32m----> 2\u001b[0m \u001b[43mgrosys\u001b[49m\u001b[38;5;241m.\u001b[39mtop \u001b[38;5;241m+\u001b[39m\u001b[38;5;241m=\u001b[39m tolTop\n",
      "\u001b[0;31mNameError\u001b[0m: name 'grosys' is not defined"
     ]
    }
   ],
   "source": [
    "# add the toluene topology to our main topology\n",
    "grosys.top += tolTop"
   ]
  },
  {
   "cell_type": "code",
   "execution_count": 14,
   "metadata": {
    "execution": {
     "iopub.execute_input": "2022-04-05T06:11:32.871820Z",
     "iopub.status.busy": "2022-04-05T06:11:32.871510Z",
     "iopub.status.idle": "2022-04-05T06:11:32.886730Z",
     "shell.execute_reply": "2022-04-05T06:11:32.886127Z"
    }
   },
   "outputs": [
    {
     "ename": "NameError",
     "evalue": "name 'tolTop' is not defined",
     "output_type": "error",
     "traceback": [
      "\u001b[0;31m---------------------------------------------------------------------------\u001b[0m",
      "\u001b[0;31mNameError\u001b[0m                                 Traceback (most recent call last)",
      "Input \u001b[0;32mIn [14]\u001b[0m, in \u001b[0;36m<cell line: 1>\u001b[0;34m()\u001b[0m\n\u001b[0;32m----> 1\u001b[0m \u001b[43mtolTop\u001b[49m\u001b[38;5;241m.\u001b[39mLJPARAMETERS\u001b[38;5;241m.\u001b[39mcontent[\u001b[38;5;241m0\u001b[39m]\u001b[38;5;241m.\u001b[39mC6\n",
      "\u001b[0;31mNameError\u001b[0m: name 'tolTop' is not defined"
     ]
    }
   ],
   "source": [
    "tolTop.LJPARAMETERS.content[0].C6"
   ]
  },
  {
   "cell_type": "code",
   "execution_count": 15,
   "metadata": {
    "execution": {
     "iopub.execute_input": "2022-04-05T06:11:32.889649Z",
     "iopub.status.busy": "2022-04-05T06:11:32.889335Z",
     "iopub.status.idle": "2022-04-05T06:11:32.904890Z",
     "shell.execute_reply": "2022-04-05T06:11:32.904366Z"
    }
   },
   "outputs": [
    {
     "ename": "NameError",
     "evalue": "name 'grosys' is not defined",
     "output_type": "error",
     "traceback": [
      "\u001b[0;31m---------------------------------------------------------------------------\u001b[0m",
      "\u001b[0;31mNameError\u001b[0m                                 Traceback (most recent call last)",
      "Input \u001b[0;32mIn [15]\u001b[0m, in \u001b[0;36m<cell line: 2>\u001b[0;34m()\u001b[0m\n\u001b[1;32m      1\u001b[0m \u001b[38;5;66;03m# check if it was added properly\u001b[39;00m\n\u001b[0;32m----> 2\u001b[0m \u001b[43mgrosys\u001b[49m\u001b[38;5;241m.\u001b[39mtop\u001b[38;5;241m.\u001b[39mRESNAME\n",
      "\u001b[0;31mNameError\u001b[0m: name 'grosys' is not defined"
     ]
    }
   ],
   "source": [
    "# check if it was added properly\n",
    "grosys.top.RESNAME"
   ]
  },
  {
   "cell_type": "markdown",
   "metadata": {},
   "source": [
    "If many topologies should be added to a single topology the PyGromosTools version of com_top can be used which directly implements multipliers. Instead of for loops."
   ]
  },
  {
   "cell_type": "markdown",
   "metadata": {},
   "source": [
    "## Manual topology modifications"
   ]
  },
  {
   "cell_type": "markdown",
   "metadata": {},
   "source": [
    "In this second part of the notebook we demonstrate some functions to manually tweek topologies.\n",
    "\n",
    "Like with any othe PyGromosTools file class we have the option to brute force rewrite blocks. However, this often requires advanced knowlede of the block structure. Except for a few simple cases like the TITLE block."
   ]
  },
  {
   "cell_type": "code",
   "execution_count": 16,
   "metadata": {
    "execution": {
     "iopub.execute_input": "2022-04-05T06:11:32.907989Z",
     "iopub.status.busy": "2022-04-05T06:11:32.907596Z",
     "iopub.status.idle": "2022-04-05T06:11:32.924232Z",
     "shell.execute_reply": "2022-04-05T06:11:32.923708Z"
    }
   },
   "outputs": [
    {
     "ename": "NameError",
     "evalue": "name 'grosys' is not defined",
     "output_type": "error",
     "traceback": [
      "\u001b[0;31m---------------------------------------------------------------------------\u001b[0m",
      "\u001b[0;31mNameError\u001b[0m                                 Traceback (most recent call last)",
      "Input \u001b[0;32mIn [16]\u001b[0m, in \u001b[0;36m<cell line: 1>\u001b[0;34m()\u001b[0m\n\u001b[0;32m----> 1\u001b[0m \u001b[43mgrosys\u001b[49m\u001b[38;5;241m.\u001b[39mtop\u001b[38;5;241m.\u001b[39madd_block(blocktitle\u001b[38;5;241m=\u001b[39m\u001b[38;5;124m\"\u001b[39m\u001b[38;5;124mTITLE\u001b[39m\u001b[38;5;124m\"\u001b[39m, content\u001b[38;5;241m=\u001b[39m[\u001b[38;5;124m\"\u001b[39m\u001b[38;5;124mThis is a new Title\u001b[39m\u001b[38;5;124m\"\u001b[39m])\n",
      "\u001b[0;31mNameError\u001b[0m: name 'grosys' is not defined"
     ]
    }
   ],
   "source": [
    "grosys.top.add_block(blocktitle=\"TITLE\", content=[\"This is a new Title\"])"
   ]
  },
  {
   "cell_type": "code",
   "execution_count": 17,
   "metadata": {
    "execution": {
     "iopub.execute_input": "2022-04-05T06:11:32.927599Z",
     "iopub.status.busy": "2022-04-05T06:11:32.927154Z",
     "iopub.status.idle": "2022-04-05T06:11:32.942337Z",
     "shell.execute_reply": "2022-04-05T06:11:32.941824Z"
    }
   },
   "outputs": [
    {
     "ename": "NameError",
     "evalue": "name 'grosys' is not defined",
     "output_type": "error",
     "traceback": [
      "\u001b[0;31m---------------------------------------------------------------------------\u001b[0m",
      "\u001b[0;31mNameError\u001b[0m                                 Traceback (most recent call last)",
      "Input \u001b[0;32mIn [17]\u001b[0m, in \u001b[0;36m<cell line: 1>\u001b[0;34m()\u001b[0m\n\u001b[0;32m----> 1\u001b[0m \u001b[43mgrosys\u001b[49m\u001b[38;5;241m.\u001b[39mtop\u001b[38;5;241m.\u001b[39mmake_ordered()\n",
      "\u001b[0;31mNameError\u001b[0m: name 'grosys' is not defined"
     ]
    }
   ],
   "source": [
    "grosys.top.make_ordered()"
   ]
  },
  {
   "cell_type": "code",
   "execution_count": 18,
   "metadata": {
    "execution": {
     "iopub.execute_input": "2022-04-05T06:11:32.945282Z",
     "iopub.status.busy": "2022-04-05T06:11:32.944816Z",
     "iopub.status.idle": "2022-04-05T06:11:32.960120Z",
     "shell.execute_reply": "2022-04-05T06:11:32.959590Z"
    }
   },
   "outputs": [
    {
     "ename": "NameError",
     "evalue": "name 'grosys' is not defined",
     "output_type": "error",
     "traceback": [
      "\u001b[0;31m---------------------------------------------------------------------------\u001b[0m",
      "\u001b[0;31mNameError\u001b[0m                                 Traceback (most recent call last)",
      "Input \u001b[0;32mIn [18]\u001b[0m, in \u001b[0;36m<cell line: 1>\u001b[0;34m()\u001b[0m\n\u001b[0;32m----> 1\u001b[0m \u001b[43mgrosys\u001b[49m\u001b[38;5;241m.\u001b[39mtop\u001b[38;5;241m.\u001b[39mTITLE\n",
      "\u001b[0;31mNameError\u001b[0m: name 'grosys' is not defined"
     ]
    }
   ],
   "source": [
    "grosys.top.TITLE"
   ]
  },
  {
   "cell_type": "markdown",
   "metadata": {},
   "source": [
    "For more complexe blocks PyGromosTools provides many functions to modify topologies. For example we could simply add a new soluteatom to the system. This would be relevant if you want to manually add a ion with very specific Nonbonded values to you system. These tools are vary powrful, but don't do any sanity checks on the values or compatibility to your forcefields."
   ]
  },
  {
   "cell_type": "code",
   "execution_count": 19,
   "metadata": {
    "execution": {
     "iopub.execute_input": "2022-04-05T06:11:32.963312Z",
     "iopub.status.busy": "2022-04-05T06:11:32.962844Z",
     "iopub.status.idle": "2022-04-05T06:11:32.979896Z",
     "shell.execute_reply": "2022-04-05T06:11:32.979346Z"
    }
   },
   "outputs": [
    {
     "ename": "NameError",
     "evalue": "name 'grosys' is not defined",
     "output_type": "error",
     "traceback": [
      "\u001b[0;31m---------------------------------------------------------------------------\u001b[0m",
      "\u001b[0;31mNameError\u001b[0m                                 Traceback (most recent call last)",
      "Input \u001b[0;32mIn [19]\u001b[0m, in \u001b[0;36m<cell line: 2>\u001b[0;34m()\u001b[0m\n\u001b[1;32m      1\u001b[0m \u001b[38;5;66;03m# We add a ion named 'XX' with charge +1 and certain LJ-Parameters to the main topology\u001b[39;00m\n\u001b[0;32m----> 2\u001b[0m \u001b[43mgrosys\u001b[49m\u001b[38;5;241m.\u001b[39mtop\u001b[38;5;241m.\u001b[39madd_new_atom(PANM\u001b[38;5;241m=\u001b[39m\u001b[38;5;124m\"\u001b[39m\u001b[38;5;124mXX\u001b[39m\u001b[38;5;124m\"\u001b[39m, CG\u001b[38;5;241m=\u001b[39m\u001b[38;5;241m1\u001b[39m, C6\u001b[38;5;241m=\u001b[39m\u001b[38;5;241m1e-3\u001b[39m, C12\u001b[38;5;241m=\u001b[39m\u001b[38;5;241m1e-6\u001b[39m, verbose\u001b[38;5;241m=\u001b[39m\u001b[38;5;28;01mTrue\u001b[39;00m)\n",
      "\u001b[0;31mNameError\u001b[0m: name 'grosys' is not defined"
     ]
    }
   ],
   "source": [
    "# We add a ion named 'XX' with charge +1 and certain LJ-Parameters to the main topology\n",
    "grosys.top.add_new_atom(PANM=\"XX\", CG=1, C6=1e-3, C12=1e-6, verbose=True)"
   ]
  },
  {
   "cell_type": "code",
   "execution_count": 20,
   "metadata": {
    "execution": {
     "iopub.execute_input": "2022-04-05T06:11:32.982874Z",
     "iopub.status.busy": "2022-04-05T06:11:32.982587Z",
     "iopub.status.idle": "2022-04-05T06:11:32.998091Z",
     "shell.execute_reply": "2022-04-05T06:11:32.997439Z"
    }
   },
   "outputs": [
    {
     "ename": "NameError",
     "evalue": "name 'grosys' is not defined",
     "output_type": "error",
     "traceback": [
      "\u001b[0;31m---------------------------------------------------------------------------\u001b[0m",
      "\u001b[0;31mNameError\u001b[0m                                 Traceback (most recent call last)",
      "Input \u001b[0;32mIn [20]\u001b[0m, in \u001b[0;36m<cell line: 2>\u001b[0;34m()\u001b[0m\n\u001b[1;32m      1\u001b[0m \u001b[38;5;66;03m# Check for the new Atomtype 'XX'\u001b[39;00m\n\u001b[0;32m----> 2\u001b[0m \u001b[43mgrosys\u001b[49m\u001b[38;5;241m.\u001b[39mtop\u001b[38;5;241m.\u001b[39mATOMTYPENAME\n",
      "\u001b[0;31mNameError\u001b[0m: name 'grosys' is not defined"
     ]
    }
   ],
   "source": [
    "# Check for the new Atomtype 'XX'\n",
    "grosys.top.ATOMTYPENAME"
   ]
  },
  {
   "cell_type": "code",
   "execution_count": 21,
   "metadata": {
    "execution": {
     "iopub.execute_input": "2022-04-05T06:11:33.001388Z",
     "iopub.status.busy": "2022-04-05T06:11:33.000772Z",
     "iopub.status.idle": "2022-04-05T06:11:33.016004Z",
     "shell.execute_reply": "2022-04-05T06:11:33.015471Z"
    }
   },
   "outputs": [
    {
     "ename": "NameError",
     "evalue": "name 'grosys' is not defined",
     "output_type": "error",
     "traceback": [
      "\u001b[0;31m---------------------------------------------------------------------------\u001b[0m",
      "\u001b[0;31mNameError\u001b[0m                                 Traceback (most recent call last)",
      "Input \u001b[0;32mIn [21]\u001b[0m, in \u001b[0;36m<cell line: 1>\u001b[0;34m()\u001b[0m\n\u001b[0;32m----> 1\u001b[0m \u001b[43mgrosys\u001b[49m\u001b[38;5;241m.\u001b[39mtop\u001b[38;5;241m.\u001b[39mSOLUTEATOM\n",
      "\u001b[0;31mNameError\u001b[0m: name 'grosys' is not defined"
     ]
    }
   ],
   "source": [
    "grosys.top.SOLUTEATOM"
   ]
  },
  {
   "cell_type": "code",
   "execution_count": 22,
   "metadata": {
    "execution": {
     "iopub.execute_input": "2022-04-05T06:11:33.019229Z",
     "iopub.status.busy": "2022-04-05T06:11:33.018939Z",
     "iopub.status.idle": "2022-04-05T06:11:33.035647Z",
     "shell.execute_reply": "2022-04-05T06:11:33.035129Z"
    }
   },
   "outputs": [
    {
     "ename": "NameError",
     "evalue": "name 'grosys' is not defined",
     "output_type": "error",
     "traceback": [
      "\u001b[0;31m---------------------------------------------------------------------------\u001b[0m",
      "\u001b[0;31mNameError\u001b[0m                                 Traceback (most recent call last)",
      "Input \u001b[0;32mIn [22]\u001b[0m, in \u001b[0;36m<cell line: 1>\u001b[0;34m()\u001b[0m\n\u001b[0;32m----> 1\u001b[0m \u001b[43mgrosys\u001b[49m\u001b[38;5;241m.\u001b[39mrebase_files()\n",
      "\u001b[0;31mNameError\u001b[0m: name 'grosys' is not defined"
     ]
    }
   ],
   "source": [
    "grosys.rebase_files()"
   ]
  },
  {
   "cell_type": "code",
   "execution_count": null,
   "metadata": {},
   "outputs": [],
   "source": []
  }
 ],
 "metadata": {
  "language_info": {
   "codemirror_mode": {
    "name": "ipython",
    "version": 3
   },
   "file_extension": ".py",
   "mimetype": "text/x-python",
   "name": "python",
   "nbconvert_exporter": "python",
   "pygments_lexer": "ipython3",
   "version": "3.9.12"
  },
  "widgets": {
   "application/vnd.jupyter.widget-state+json": {
    "state": {
     "1947e2efa24840c093def1b23c33004f": {
      "model_module": "@jupyter-widgets/base",
      "model_module_version": "1.2.0",
      "model_name": "LayoutModel",
      "state": {
       "_model_module": "@jupyter-widgets/base",
       "_model_module_version": "1.2.0",
       "_model_name": "LayoutModel",
       "_view_count": null,
       "_view_module": "@jupyter-widgets/base",
       "_view_module_version": "1.2.0",
       "_view_name": "LayoutView",
       "align_content": null,
       "align_items": null,
       "align_self": null,
       "border": null,
       "bottom": null,
       "display": null,
       "flex": null,
       "flex_flow": null,
       "grid_area": null,
       "grid_auto_columns": null,
       "grid_auto_flow": null,
       "grid_auto_rows": null,
       "grid_column": null,
       "grid_gap": null,
       "grid_row": null,
       "grid_template_areas": null,
       "grid_template_columns": null,
       "grid_template_rows": null,
       "height": null,
       "justify_content": null,
       "justify_items": null,
       "left": null,
       "margin": null,
       "max_height": null,
       "max_width": null,
       "min_height": null,
       "min_width": null,
       "object_fit": null,
       "object_position": null,
       "order": null,
       "overflow": null,
       "overflow_x": null,
       "overflow_y": null,
       "padding": null,
       "right": null,
       "top": null,
       "visibility": null,
       "width": null
      }
     },
     "de2b92e53eac49d88334c3c4575c16e0": {
      "model_module": "nglview-js-widgets",
      "model_module_version": "3.0.1",
      "model_name": "ColormakerRegistryModel",
      "state": {
       "_dom_classes": [],
       "_model_module": "nglview-js-widgets",
       "_model_module_version": "3.0.1",
       "_model_name": "ColormakerRegistryModel",
       "_msg_ar": [],
       "_msg_q": [],
       "_ready": false,
       "_view_count": null,
       "_view_module": "nglview-js-widgets",
       "_view_module_version": "3.0.1",
       "_view_name": "ColormakerRegistryView",
       "layout": "IPY_MODEL_1947e2efa24840c093def1b23c33004f"
      }
     }
    },
    "version_major": 2,
    "version_minor": 0
   }
  }
 },
 "nbformat": 4,
 "nbformat_minor": 2
}
