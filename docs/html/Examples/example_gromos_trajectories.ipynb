{
 "cells": [
  {
   "cell_type": "markdown",
   "metadata": {},
   "source": [
    "# Gromos Trajectory evaluation with Pygromos and Pandas\n",
    "\n",
    "## Example file for the evaluation of GROMOS trajectory files in pygromos"
   ]
  },
  {
   "cell_type": "markdown",
   "metadata": {},
   "source": [
    "1. Analysis of a GROMOS trc file (position trajectory)\n",
    "    1. Import\n",
    "    2. Common Functions\n",
    "2. Analysis of a GROMOS tre file (energy trajectory)\n",
    "    1. Import\n",
    "    2. Common Functions"
   ]
  },
  {
   "cell_type": "code",
   "execution_count": 1,
   "metadata": {},
   "outputs": [],
   "source": [
    "# general imports for manual data manipulations. Not needed if only provided functions are used\n",
    "import numpy as np\n",
    "import pandas as pd"
   ]
  },
  {
   "cell_type": "code",
   "execution_count": 2,
   "metadata": {},
   "outputs": [],
   "source": [
    "#specific imports from pygromos for trc and tre file support\n",
    "import pygromos.files.trajectory.trc as traj_trc\n",
    "import pygromos.files.trajectory.tre as traj_tre"
   ]
  },
  {
   "cell_type": "markdown",
   "metadata": {},
   "source": [
    "## 1) TRC"
   ]
  },
  {
   "cell_type": "markdown",
   "metadata": {},
   "source": [
    "### 1.1) TRC import"
   ]
  },
  {
   "cell_type": "code",
   "execution_count": 3,
   "metadata": {},
   "outputs": [
    {
     "name": "stdout",
     "output_type": "stream",
     "text": [
      "example_files/test_CHE_vacuum_sd.trc\n"
     ]
    }
   ],
   "source": [
    "# import the trajectory file into a Trc class\n",
    "trc = traj_trc.Trc(input_value=\"example_files/test_CHE_vacuum_sd.trc\")"
   ]
  },
  {
   "cell_type": "markdown",
   "metadata": {},
   "source": [
    "Trc class offers the normal gromos block structure and additionaly a pandas DataFrame called database where all the timesteps are stored.\n",
    "For typical trc files the only classic block is the TITLE block, and all the other blocks are stored inside the database.\n",
    "\n",
    "Additionally many common functions are offered to evaluate the given data. If a needed function is not provided the normal pandas syntax can be used to create costum functions.\n",
    "\n",
    "If you have a function generally usefull pleas contact the developers to possibly add them to the pygromos code to help other people :)"
   ]
  },
  {
   "cell_type": "code",
   "execution_count": 4,
   "metadata": {},
   "outputs": [
    {
     "data": {
      "text/plain": [
       "['TITLE',\n",
       " 'add_traj',\n",
       " 'database',\n",
       " 'get_atom_movement_length_mean',\n",
       " 'get_atom_movement_length_series',\n",
       " 'get_atom_movement_length_total',\n",
       " 'get_atom_movement_series',\n",
       " 'get_atom_pair_distance_mean',\n",
       " 'get_atom_pair_distance_series',\n",
       " 'get_cog_movement_total_series_for_atom_group',\n",
       " 'get_cog_movement_vector_series_for_atom_group',\n",
       " 'path',\n",
       " 'radial_distribution',\n",
       " 'write',\n",
       " 'write_pdb']"
      ]
     },
     "execution_count": 4,
     "metadata": {},
     "output_type": "execute_result"
    }
   ],
   "source": [
    "[x for x in dir(trc) if not x.startswith(\"_\")]"
   ]
  },
  {
   "cell_type": "markdown",
   "metadata": {},
   "source": [
    "### 1.2) Common trc functions"
   ]
  },
  {
   "cell_type": "code",
   "execution_count": 5,
   "metadata": {},
   "outputs": [
    {
     "data": {
      "text/plain": [
       "0.03818326045999198"
      ]
     },
     "execution_count": 5,
     "metadata": {},
     "output_type": "execute_result"
    }
   ],
   "source": [
    "# Get the average movement legth between two frames\n",
    "trc.get_atom_movement_length_mean(atomI=1)"
   ]
  },
  {
   "cell_type": "code",
   "execution_count": 6,
   "metadata": {},
   "outputs": [
    {
     "data": {
      "text/plain": [
       "0.029582014393078063"
      ]
     },
     "execution_count": 6,
     "metadata": {},
     "output_type": "execute_result"
    }
   ],
   "source": [
    "# Or get the center of mass movement for a hole group of atoms. The atoms are provided as numbers in a list.\n",
    "trc.get_cog_movement_total_series_for_atom_group(atoms=[1,2,5]).mean()"
   ]
  },
  {
   "cell_type": "code",
   "execution_count": 7,
   "metadata": {},
   "outputs": [
    {
     "data": {
      "text/plain": [
       "0.15260032608007468"
      ]
     },
     "execution_count": 7,
     "metadata": {},
     "output_type": "execute_result"
    }
   ],
   "source": [
    "# Get the average distance between to atoms over all time frames\n",
    "trc.get_atom_pair_distance_mean(atomI=1, atomJ=2)"
   ]
  },
  {
   "cell_type": "markdown",
   "metadata": {},
   "source": [
    "## 2) TRE"
   ]
  },
  {
   "cell_type": "markdown",
   "metadata": {},
   "source": [
    "### 2.1) Tre import and structure"
   ]
  },
  {
   "cell_type": "code",
   "execution_count": 8,
   "metadata": {},
   "outputs": [
    {
     "name": "stdout",
     "output_type": "stream",
     "text": [
      "example_files/test_CHE_H2O_bilayer.tre\n"
     ]
    }
   ],
   "source": [
    "# import the trajectory file into a Tre class\n",
    "tre = traj_tre.Tre(input_value=\"example_files/test_CHE_H2O_bilayer.tre\")"
   ]
  },
  {
   "cell_type": "code",
   "execution_count": 9,
   "metadata": {},
   "outputs": [
    {
     "data": {
      "text/plain": [
       "['ENEVERSION',\n",
       " 'TITLE',\n",
       " 'add_traj',\n",
       " 'database',\n",
       " 'get_density',\n",
       " 'get_temperature',\n",
       " 'get_totals',\n",
       " 'path',\n",
       " 'totals_subblock_names',\n",
       " 'write']"
      ]
     },
     "execution_count": 9,
     "metadata": {},
     "output_type": "execute_result"
    }
   ],
   "source": [
    "[x for x in dir(tre) if not x.startswith(\"_\")]"
   ]
  },
  {
   "cell_type": "markdown",
   "metadata": {},
   "source": [
    "Tre files contain all energy related data (like split up energy terms, temperature, pressure, .....). In PyGromos they generally share the same block structure as other files, but all the data inside the specific timesteps is stored efficently inside a pandas DataFrame, here called tre.database . This database offers manipulation with all pandas functions. Alternatively many common functions are provided inside the Tre class. \n",
    "\n",
    "This class should in principle replace further usage of the gromos++ ene_ana function, since all these operation can be done efficently on the pandas DataFrame. \n",
    "\n",
    "We are currently working on adding more common functions to the Tre class. If you find a useful function please contact the developers so the function can be added for general usage :)"
   ]
  },
  {
   "cell_type": "markdown",
   "metadata": {},
   "source": [
    "### 2.2) Common Tre functions"
   ]
  },
  {
   "cell_type": "code",
   "execution_count": 10,
   "metadata": {},
   "outputs": [
    {
     "data": {
      "text/plain": [
       "874.6182260652407"
      ]
     },
     "execution_count": 10,
     "metadata": {},
     "output_type": "execute_result"
    }
   ],
   "source": [
    "# calculate the average density over all timesteps\n",
    "tre.get_density().mean()"
   ]
  },
  {
   "cell_type": "code",
   "execution_count": 11,
   "metadata": {},
   "outputs": [
    {
     "data": {
      "text/plain": [
       "array([297.7702854 , 297.71343093])"
      ]
     },
     "execution_count": 11,
     "metadata": {},
     "output_type": "execute_result"
    }
   ],
   "source": [
    "# calculate the mean temperature over all frames for all baths in the system. In this example two baths with slightly different temperatures.\n",
    "tre.get_temperature().mean()"
   ]
  },
  {
   "cell_type": "markdown",
   "metadata": {},
   "source": [
    "Tables and lists inside the database are stored in numpy arrays. For example the two temperatures from the previos example are stored in a numpy array of size 2 since it has two temperature baths"
   ]
  },
  {
   "cell_type": "markdown",
   "metadata": {},
   "source": [
    "Specific values inside a tre file can also be directly accesed with numpy and pandas syntax"
   ]
  },
  {
   "cell_type": "code",
   "execution_count": 12,
   "metadata": {},
   "outputs": [
    {
     "data": {
      "text/plain": [
       "TIMESTEP_step                                                 2000\n",
       "TIMESTEP_time                                                    4\n",
       "totals           [-409167.9172, 392370.1191, -801538.0363, 1389...\n",
       "baths            [[100096.9564, 29163.29693, 70933.65948], [292...\n",
       "bonded                 [[0.0, 50155.81989, 0.0, 88764.59053, 0.0]]\n",
       "nonbonded                  [[983688.8106, -1924147.257, 0.0, 0.0]]\n",
       "special          [[0.0, 0.0, 0.0, 0.0, 0.0, 0.0, 0.0, 0.0, 0.0,...\n",
       "eds                                                             []\n",
       "numstates                                                      WIP\n",
       "mass                                                 [1277287.736]\n",
       "temperature      [[297.2614008, 346.4257383, 280.8695397, 0.999...\n",
       "volume           [2425.07286, 8.463596169, 0.0, 0.0, 0.0, 8.463...\n",
       "pressure         [28.23515616, 96520.43393, 130756.5894, 30.172...\n",
       "Name: 2, dtype: object"
      ]
     },
     "execution_count": 12,
     "metadata": {},
     "output_type": "execute_result"
    }
   ],
   "source": [
    "tre.database.iloc[2]"
   ]
  },
  {
   "cell_type": "code",
   "execution_count": 13,
   "metadata": {},
   "outputs": [
    {
     "data": {
      "text/plain": [
       "0    984602.6158\n",
       "1    988489.6284\n",
       "2    983688.8106\n",
       "3    984891.3076\n",
       "4    980597.3587\n",
       "5    980518.6316\n",
       "6    980975.7104\n",
       "7    979207.7071\n",
       "8    977305.7837\n",
       "9    976722.0947\n",
       "Name: nonbonded, dtype: float64"
      ]
     },
     "execution_count": 13,
     "metadata": {},
     "output_type": "execute_result"
    }
   ],
   "source": [
    "# select the first nonbonded energy value for the first force group over all time frames\n",
    "tre.database[\"nonbonded\"].apply(lambda x: x[0][0])"
   ]
  },
  {
   "cell_type": "markdown",
   "metadata": {},
   "source": [
    "## Concatenate  and Copy multiple Trajectories"
   ]
  },
  {
   "cell_type": "markdown",
   "metadata": {},
   "source": [
    "Trajectories offer a wide range of additional file manipulations. Trajectory classes can be copied (deep) and added to each other to concatenate multiple small simulation pieces into one large trajectory. "
   ]
  },
  {
   "cell_type": "code",
   "execution_count": 14,
   "metadata": {},
   "outputs": [],
   "source": [
    "tre_copy = traj_tre.Tre(input_value=tre)"
   ]
  },
  {
   "cell_type": "code",
   "execution_count": 15,
   "metadata": {},
   "outputs": [
    {
     "data": {
      "text/plain": [
       "(10, 13)"
      ]
     },
     "execution_count": 15,
     "metadata": {},
     "output_type": "execute_result"
    }
   ],
   "source": [
    "tre_copy.database.shape"
   ]
  },
  {
   "cell_type": "code",
   "execution_count": 16,
   "metadata": {},
   "outputs": [],
   "source": [
    "tre_combined = tre + tre_copy"
   ]
  },
  {
   "cell_type": "code",
   "execution_count": 17,
   "metadata": {},
   "outputs": [
    {
     "data": {
      "text/plain": [
       "(19, 13)"
      ]
     },
     "execution_count": 17,
     "metadata": {},
     "output_type": "execute_result"
    }
   ],
   "source": [
    "tre_combined.database.shape"
   ]
  },
  {
   "cell_type": "markdown",
   "metadata": {},
   "source": [
    "In the new combined trajectory we have one long trajectory made from the two smaller ones. The lenght is one element shorter, since normally the last element of the first trajectory and the first element of the second trajectory is the same element. This can be controlled via the option \"skip_new_0=True\" in the add_traj() function which is the core of the \"+\" operator for trajectories. In the following line the default behavior can be seen as a smooth numbering in the TIMESTEPs."
   ]
  },
  {
   "cell_type": "code",
   "execution_count": 18,
   "metadata": {},
   "outputs": [
    {
     "data": {
      "text/plain": [
       "0      0.0\n",
       "1      2.0\n",
       "2      4.0\n",
       "3      6.0\n",
       "4      8.0\n",
       "5     10.0\n",
       "6     12.0\n",
       "7     14.0\n",
       "8     16.0\n",
       "9     18.0\n",
       "10    20.0\n",
       "11    22.0\n",
       "12    24.0\n",
       "13    26.0\n",
       "14    28.0\n",
       "15    30.0\n",
       "16    32.0\n",
       "17    34.0\n",
       "18    36.0\n",
       "Name: TIMESTEP_time, dtype: float64"
      ]
     },
     "execution_count": 18,
     "metadata": {},
     "output_type": "execute_result"
    }
   ],
   "source": [
    "tre_combined.database.TIMESTEP_time"
   ]
  },
  {
   "cell_type": "code",
   "execution_count": 18,
   "metadata": {},
   "outputs": [],
   "source": []
  }
 ],
 "metadata": {
  "kernelspec": {
   "display_name": "Python 3",
   "language": "python",
   "name": "python3"
  },
  "language_info": {
   "codemirror_mode": {
    "name": "ipython",
    "version": 3
   },
   "file_extension": ".py",
   "mimetype": "text/x-python",
   "name": "python",
   "nbconvert_exporter": "python",
   "pygments_lexer": "ipython3",
   "version": "3.7.8-final"
  }
 },
 "nbformat": 4,
 "nbformat_minor": 2
}
