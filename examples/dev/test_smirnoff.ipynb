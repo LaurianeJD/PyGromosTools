{
 "metadata": {
  "language_info": {
   "codemirror_mode": {
    "name": "ipython",
    "version": 3
   },
   "file_extension": ".py",
   "mimetype": "text/x-python",
   "name": "python",
   "nbconvert_exporter": "python",
   "pygments_lexer": "ipython3",
   "version": "3.7.8-final"
  },
  "orig_nbformat": 2,
  "kernelspec": {
   "name": "python3",
   "display_name": "Python 3.7.8 64-bit ('gromos': conda)",
   "metadata": {
    "interpreter": {
     "hash": "dac47a1ae3952cc73a9eea31de3bc6187ef6b1432c671fa6982a63d891ab3a07"
    }
   }
  }
 },
 "nbformat": 4,
 "nbformat_minor": 2,
 "cells": [
  {
   "cell_type": "code",
   "execution_count": 1,
   "metadata": {},
   "outputs": [
    {
     "output_type": "stream",
     "name": "stderr",
     "text": [
      "Warning: Unable to load toolkit 'OpenEye Toolkit'. The Open Force Field Toolkit does not require the OpenEye Toolkits, and can use RDKit/AmberTools instead. However, if you have a valid license for the OpenEye Toolkits, consider installing them for faster performance and additional file format support: https://docs.eyesopen.com/toolkits/python/quickstart-python/linuxosx.html OpenEye offers free Toolkit licenses for academics: https://www.eyesopen.com/academic-licensing\n"
     ]
    },
    {
     "output_type": "display_data",
     "data": {
      "text/plain": "",
      "application/vnd.jupyter.widget-view+json": {
       "version_major": 2,
       "version_minor": 0,
       "model_id": "e83378d312e54c1eb994d077fe7e90e8"
      }
     },
     "metadata": {}
    }
   ],
   "source": [
    "import pygromos\n",
    "from pygromos import files\n",
    "from pygromos.files.topology import *\n",
    "from pygromos.files.blocks.topology_blocks import *\n",
    "from rdkit import Chem\n",
    "from rdkit.Chem import AllChem\n",
    "from openforcefield.topology import Molecule, Topology\n",
    "from openforcefield.typing.engines import smirnoff\n",
    "from pygromos import data\n",
    "from pygromos.files.gromos_system import *\n",
    "from simtk.unit import *\n"
   ]
  },
  {
   "cell_type": "code",
   "execution_count": 2,
   "metadata": {},
   "outputs": [
    {
     "output_type": "stream",
     "name": "stderr",
     "text": [
      "0.1 SMIRNOFF spec file does not contain 'potential' attribute for 'Bonds' tag. The SMIRNOFF spec converter is assuming it has a value of 'harmonic'\n",
      "0.1 SMIRNOFF spec file does not contain 'potential' attribute for 'Angles' tag. The SMIRNOFF spec converter is assuming it has a value of 'harmonic'\n",
      "0.1 SMIRNOFF spec file does not contain 'potential' attribute for 'ProperTorsions' tag. The SMIRNOFF spec converter is assuming it has a value of 'charmm'\n",
      "0.1 SMIRNOFF spec file does not contain 'potential' attribute for 'vdW' tag. The SMIRNOFF spec converter is assuming it has a value of 'Lennard-Jones-12-6'\n",
      "0.1 SMIRNOFF spec did not allow the 'Electrostatics' tag. Adding it in 0.2 spec conversion, and assuming the following values:\n",
      "\tmethod: PME\n",
      "\tscale12: 0.0\n",
      "\tscale13: 0.0\n",
      "\tscale15: 1.0\n",
      "\tcutoff: 9.0\n",
      "\tcutoff_unit: angstrom\n",
      "0.1 SMIRNOFF spec file does not contain 'method' attribute for 'NonBondedMethod/vdW'' tag. The SMIRNOFF spec converter is assuming it has a value of 'cutoff'\n",
      "0.1 SMIRNOFF spec file does not contain 'combining_rules' attribute for 'NonBondedMethod/vdW'' tag. The SMIRNOFF spec converter is assuming it has a value of 'Lorentz-Berthelot'\n",
      "0.1 SMIRNOFF spec file does not contain 'scale12' attribute for 'NonBondedMethod/vdW'' tag. The SMIRNOFF spec converter is assuming it has a value of '0.0'\n",
      "0.1 SMIRNOFF spec file does not contain 'scale13' attribute for 'NonBondedMethod/vdW'' tag. The SMIRNOFF spec converter is assuming it has a value of '0.0'\n",
      "0.1 SMIRNOFF spec file does not contain 'scale15' attribute for 'NonBondedMethod/vdW'' tag. The SMIRNOFF spec converter is assuming it has a value of '1'\n",
      "0.1 SMIRNOFF spec file does not contain 'switch_width' attribute for 'NonBondedMethod/vdW'' tag. The SMIRNOFF spec converter is assuming it has a value of '1.0'\n",
      "0.1 SMIRNOFF spec file does not contain 'switch_width_unit' attribute for 'NonBondedMethod/vdW'' tag. The SMIRNOFF spec converter is assuming it has a value of 'angstrom'\n",
      "0.1 SMIRNOFF spec file does not contain 'cutoff' attribute for 'NonBondedMethod/vdW'' tag. The SMIRNOFF spec converter is assuming it has a value of '9.0'\n",
      "0.1 SMIRNOFF spec file does not contain 'cutoff_unit' attribute for 'NonBondedMethod/vdW'' tag. The SMIRNOFF spec converter is assuming it has a value of 'angstrom'\n"
     ]
    }
   ],
   "source": [
    "ff = data.data_dir + \"/ff/SMIRNOFF/frosst_12-12-18.xml\"\n",
    "forcefield = smirnoff.ForceField(ff)"
   ]
  },
  {
   "cell_type": "code",
   "execution_count": 3,
   "metadata": {},
   "outputs": [],
   "source": [
    "rdkmol=Chem.MolFromMolFile(\"/home/mlehner/Documents/dev/molecule_174.sdf\", removeHs = False)"
   ]
  },
  {
   "cell_type": "code",
   "execution_count": 4,
   "metadata": {},
   "outputs": [],
   "source": [
    "moleculeFF = Molecule.from_rdkit(rdkmol)\n",
    "topology = Topology.from_molecules(moleculeFF)"
   ]
  },
  {
   "cell_type": "code",
   "execution_count": 5,
   "metadata": {},
   "outputs": [
    {
     "output_type": "execute_result",
     "data": {
      "text/plain": [
       "''"
      ]
     },
     "metadata": {},
     "execution_count": 5
    }
   ],
   "source": [
    "moleculeFF.name"
   ]
  },
  {
   "cell_type": "code",
   "execution_count": 6,
   "metadata": {},
   "outputs": [],
   "source": [
    "molecule_force_list = forcefield.label_molecules(topology)"
   ]
  },
  {
   "source": [
    "top = Top(input=data.data_dir+\"/topology_templates/blank_template.top\")"
   ],
   "cell_type": "code",
   "metadata": {},
   "execution_count": 7,
   "outputs": [
    {
     "output_type": "stream",
     "name": "stdout",
     "text": [
      "TITLE\nPHYSICALCONSTANTS\nTOPVERSION\nSOLUTEMOLECULES\nTEMPERATUREGROUPS\nPRESSUREGROUPS\nLJEXCEPTIONS\nSOLVENTATOM\nSOLVENTCONSTR\n"
     ]
    }
   ]
  },
  {
   "cell_type": "code",
   "execution_count": 8,
   "metadata": {},
   "outputs": [],
   "source": [
    "for molecule in molecule_force_list:\n",
    "    for key in molecule[\"Bonds\"]:\n",
    "        force = molecule[\"Bonds\"][key]\n",
    "        #hQ = topology.atom(force[0]).atomic_number == 1 or topology.atom(force[1]).atomic_number == 1\n",
    "        hQ =  not all([topology.atom(x).atomic_number != 1 for x in key]) \n",
    "        top.add_new_bond(k=force.k.value_in_unit(kilojoule / (mole * nanometer ** 2)), b0=force.length.value_in_unit(nanometer), atomI=key[0]+1, atomJ=key[1]+1, includesH=hQ)"
   ]
  },
  {
   "cell_type": "code",
   "execution_count": 9,
   "metadata": {},
   "outputs": [],
   "source": [
    "for molecule in molecule_force_list:\n",
    "    for key in molecule[\"Angles\"]:\n",
    "        force = molecule[\"Angles\"][key]\n",
    "        hQ =  not all([topology.atom(x).atomic_number != 1 for x in key])\n",
    "        top.add_new_angle(k=force.k.value_in_unit(kilojoule / (mole * radian ** 2)), b0=force.angle.value_in_unit(degree), atomI=key[0]+1, atomJ=key[1]+1, atomK=key[2]+1, includesH=hQ)"
   ]
  },
  {
   "cell_type": "code",
   "execution_count": 10,
   "metadata": {},
   "outputs": [],
   "source": [
    "for molecule in molecule_force_list:\n",
    "    for key in molecule[\"ProperTorsions\"]:\n",
    "        force = molecule[\"ProperTorsions\"][key]\n",
    "        hQ =  not all([topology.atom(x).atomic_number != 1 for x in key])\n",
    "        atomI=key[0]+1\n",
    "        atomJ=key[1]+1\n",
    "        atomK=key[2]+1\n",
    "        atomL=key[3]+1\n",
    "        k_list = force.k\n",
    "        phase_list = force.phase\n",
    "        per_list = force.periodicity\n",
    "        for t in range(len(k_list)):\n",
    "            CP=k_list[t].value_in_unit(kilojoule/mole)\n",
    "            PD=phase_list[t].value_in_unit(degree)\n",
    "            NP=per_list[t]\n",
    "            top.add_new_torsiondihedral(CP=CP, PD=PD, NP=NP, atomI=atomI, atomJ=atomJ, atomK=atomK, atomL=atomL, includesH=hQ)"
   ]
  },
  {
   "cell_type": "code",
   "execution_count": 11,
   "metadata": {},
   "outputs": [],
   "source": [
    "for molecule in molecule_force_list:\n",
    "    for key in molecule[\"ImproperTorsions\"]:\n",
    "        force = molecule[\"ImproperTorsions\"][key]\n",
    "        hQ =  not all([topology.atom(x).atomic_number != 1 for x in key])\n",
    "        atomI=key[0]+1\n",
    "        atomJ=key[1]+1\n",
    "        atomK=key[2]+1\n",
    "        atomL=key[3]+1\n",
    "        k_list = force.k\n",
    "        phase_list = force.phase\n",
    "        per_list = force.periodicity\n",
    "        for t in range(len(k_list)):\n",
    "            CP=k_list[t].value_in_unit(kilojoule/mole)\n",
    "            PD=phase_list[t].value_in_unit(degree)\n",
    "            NP=per_list[t]\n",
    "            top.add_new_torsiondihedral(CP=CP, PD=PD, NP=NP, atomI=atomI, atomJ=atomJ, atomK=atomK, atomL=atomL, includesH=hQ)\n",
    "if not hasattr(top, \"IMPDIHEDRALTYPE\"):\n",
    "    top.add_block(blocktitle=\"IMPDIHEDRALTYPE\", content=[])\n",
    "if not hasattr(top, \"IMPDIHEDRALH\"):\n",
    "    top.add_block(blocktitle=\"IMPDIHEDRALH\", content=[])\n",
    "if not hasattr(top, \"IMPDIHEDRAL\"):\n",
    "    top.add_block(blocktitle=\"IMPDIHEDRAL\", content=[])"
   ]
  },
  {
   "cell_type": "code",
   "execution_count": 12,
   "metadata": {},
   "outputs": [],
   "source": [
    "exclusionlist=dict()"
   ]
  },
  {
   "cell_type": "code",
   "execution_count": 13,
   "metadata": {},
   "outputs": [
    {
     "output_type": "execute_result",
     "data": {
      "text/plain": [
       "{}"
      ]
     },
     "metadata": {},
     "execution_count": 13
    }
   ],
   "source": [
    "exclusionlist"
   ]
  },
  {
   "cell_type": "code",
   "execution_count": 14,
   "metadata": {},
   "outputs": [],
   "source": [
    "exclusionlist=dict()\n",
    "for molecule in molecule_force_list:\n",
    "    for key in molecule[\"Bonds\"]:\n",
    "        if not str(key[0]) in exclusionlist.keys():\n",
    "            exclusionlist[str(key[0])] = {key[1]}\n",
    "        exclusionlist[str(key[0])].add(key[1])\n",
    "    for key in molecule[\"Angles\"]:\n",
    "        if not str(key[0]) in exclusionlist.keys():\n",
    "            exclusionlist[str(key[0])] = {key[1]}\n",
    "        exclusionlist[str(key[0])].add(key[1])\n",
    "        exclusionlist[str(key[0])].add(key[2])\n",
    "    for key in molecule[\"ProperTorsions\"]:\n",
    "        if not str(key[0]) in exclusionlist.keys():\n",
    "            exclusionlist[str(key[0])] = {key[1]}\n",
    "        exclusionlist[str(key[0])].add(key[1])\n",
    "        exclusionlist[str(key[0])].add(key[2])\n",
    "        exclusionlist[str(key[0])].add(key[3])\n",
    "    for key in molecule[\"ImproperTorsions\"]:\n",
    "        if not str(key[0]) in exclusionlist.keys():\n",
    "            exclusionlist[str(key[0])] = {key[1]}\n",
    "        exclusionlist[str(key[0])].add(key[1])\n",
    "        exclusionlist[str(key[0])].add(key[2])\n",
    "        exclusionlist[str(key[0])].add(key[3])"
   ]
  },
  {
   "cell_type": "code",
   "execution_count": 15,
   "metadata": {},
   "outputs": [
    {
     "output_type": "execute_result",
     "data": {
      "text/plain": [
       "{'0': {1, 2, 3, 4, 5, 6, 7, 8, 9, 10, 11, 14, 15, 16, 17},\n",
       " '1': {0, 2, 3, 4, 5, 6, 7, 8, 9, 10, 11, 12, 13, 16, 17},\n",
       " '2': {0, 1, 3, 4, 5, 6, 7, 8, 9, 10, 11, 12, 13, 14, 15},\n",
       " '3': {1, 2, 4, 5, 8, 9, 10, 11, 12, 13, 14, 15, 16, 17},\n",
       " '4': {0, 2, 3, 5, 6, 7, 10, 11, 12, 13, 14, 15, 16, 17},\n",
       " '5': {0, 1, 3, 4, 6, 7, 8, 9, 12, 13, 14, 15, 16, 17},\n",
       " '6': {0, 1, 5, 7, 8, 9, 16, 17},\n",
       " '8': {1, 2, 9, 10, 11},\n",
       " '10': {2, 3, 11, 12, 13},\n",
       " '12': {3, 4, 13, 14, 15},\n",
       " '14': {4, 5, 15, 16, 17},\n",
       " '16': {5, 17},\n",
       " '7': {0, 1, 5, 8, 9, 16, 17},\n",
       " '9': {1, 2, 10, 11},\n",
       " '11': {2, 3, 12, 13},\n",
       " '13': {3, 4, 14, 15},\n",
       " '15': {4, 5, 16, 17}}"
      ]
     },
     "metadata": {},
     "execution_count": 15
    }
   ],
   "source": [
    "exclusionlist"
   ]
  },
  {
   "cell_type": "code",
   "execution_count": 16,
   "metadata": {},
   "outputs": [
    {
     "output_type": "execute_result",
     "data": {
      "text/plain": [
       "12.01078"
      ]
     },
     "metadata": {},
     "execution_count": 16
    }
   ],
   "source": [
    "moleculeFF.atoms[0].mass.value_in_unit(dalton)"
   ]
  },
  {
   "cell_type": "code",
   "execution_count": 17,
   "metadata": {},
   "outputs": [
    {
     "output_type": "execute_result",
     "data": {
      "text/plain": [
       "6"
      ]
     },
     "metadata": {},
     "execution_count": 17
    }
   ],
   "source": [
    "moleculeFF.atoms[0].atomic_number"
   ]
  },
  {
   "cell_type": "code",
   "execution_count": 18,
   "metadata": {},
   "outputs": [
    {
     "output_type": "stream",
     "name": "stdout",
     "text": [
      "[#6X4:1]\n[#6X4:1]\n[#6X4:1]\n[#6X4:1]\n[#6X4:1]\n[#6X4:1]\n[#1:1]-[#6X4]\n[#1:1]-[#6X4]\n[#1:1]-[#6X4]\n[#1:1]-[#6X4]\n[#1:1]-[#6X4]\n[#1:1]-[#6X4]\n[#1:1]-[#6X4]\n[#1:1]-[#6X4]\n[#1:1]-[#6X4]\n[#1:1]-[#6X4]\n[#1:1]-[#6X4]\n[#1:1]-[#6X4]\n"
     ]
    }
   ],
   "source": [
    "moleculeItr = 1\n",
    "for molecule in molecule_force_list:\n",
    "    for key in molecule[\"vdW\"]:\n",
    "        force = molecule[\"vdW\"][key]\n",
    "        ATNM = int(key[0]) + 1\n",
    "        MRES = moleculeItr\n",
    "        IAC = 0\n",
    "        MASS = moleculeFF.atoms[int(key[0])].mass.value_in_unit(dalton)\n",
    "        CG = 0\n",
    "        CGC = 0\n",
    "        if str(key[0]) in exclusionlist:\n",
    "            INE = list(exclusionlist[str(key[0])])\n",
    "        else:\n",
    "            INE = list()\n",
    "        INE14 = list()\n",
    "        epsilon = float(force.epsilon.value_in_unit(kilojoule_per_mole))\n",
    "        rmin = 2 * force.rmin_half.value_in_unit(nanometer)\n",
    "        C6 = 2 * epsilon * (rmin**6)\n",
    "        C12 = epsilon * (rmin**12)\n",
    "        IACname = force.id\n",
    "        print(force.smirks)\n",
    "        top.add_new_SOLUTEATOM(ATNM=ATNM, MRES=MRES, IAC=IAC, MASS=MASS, CG=CG, CGC=CGC, INE=INE, INE14=INE14, C6=C6, C12=C12, IACname=IACname)\n",
    "    moleculeItr += 1 "
   ]
  },
  {
   "cell_type": "code",
   "execution_count": 19,
   "metadata": {},
   "outputs": [
    {
     "output_type": "execute_result",
     "data": {
      "text/plain": [
       "0"
      ]
     },
     "metadata": {},
     "execution_count": 19
    }
   ],
   "source": [
    "len(moleculeFF.name)"
   ]
  },
  {
   "cell_type": "code",
   "execution_count": 20,
   "metadata": {},
   "outputs": [],
   "source": [
    "if len(moleculeFF.name) >= 1:\n",
    "    top.add_new_resname(moleculeFF.name)\n",
    "else:\n",
    "    top.add_new_resname(moleculeFF.hill_formula)"
   ]
  },
  {
   "cell_type": "code",
   "execution_count": 21,
   "metadata": {},
   "outputs": [
    {
     "output_type": "execute_result",
     "data": {
      "text/plain": [
       "[['1'], ['1']]"
      ]
     },
     "metadata": {},
     "execution_count": 21
    }
   ],
   "source": [
    "top.TEMPERATUREGROUPS.content"
   ]
  },
  {
   "cell_type": "code",
   "execution_count": 22,
   "metadata": {},
   "outputs": [
    {
     "output_type": "execute_result",
     "data": {
      "text/plain": [
       "18"
      ]
     },
     "metadata": {},
     "execution_count": 22
    }
   ],
   "source": [
    "moleculeFF.n_atoms"
   ]
  },
  {
   "cell_type": "code",
   "execution_count": 23,
   "metadata": {},
   "outputs": [],
   "source": [
    "top.make_ordered()"
   ]
  },
  {
   "cell_type": "code",
   "execution_count": 24,
   "metadata": {},
   "outputs": [
    {
     "output_type": "stream",
     "name": "stdout",
     "text": [
      "TITLE\nBlank Template created with Pygromos\n\n\t >>> Generated with python lib function_libs utilities. (riniker group)\n\t >>> line_seperator: '\\n'\t field_seperator: '\\t'\nEND\nPHYSICALCONSTANTS\n# FPEPSI: 1.0/(4.0*PI*EPS0) (EPS0 is the permittivity of vacuum)\n138.9354\n# HBAR: Planck's constant HBAR = H/(2* PI)\n0.0635078\n# SPDL: Speed of light (nm/ps)\n299792.458\n# BOLTZ: Boltzmann's constant kB\n0.00831441\nEND\nTOPVERSION\n2.0\nEND\nATOMTYPENAME\n2\nn16\nn2\nEND\nRESNAME\n1\nC6H12\nEND\nSOLUTEATOM\n#   NRP: number of solute atoms\n \t 18\n#  ATNM: atom number\n#  MRES: residue number\n#  PANM: atom name of solute atom\n#   IAC: integer (van der Waals) atom type code\n#  MASS: mass of solute atom\n#    CG: charge of solute atom\n#   CGC: charge group code (0 or 1)\n#   INE: number of excluded atoms\n# INE14: number of 1-4 interactions\n# ATNM MRES PANM IAC     MASS       CG  CGC INE\n#                                           INE14\n\t1\t1\t_\t1\t12.01078\t0\t0\t15\t1\t2\t3\t4\t5\t6\n\t\t\t\t\t\t\t\t\t7\t8\t9\t10\t11\t14\n\t\t\t\t\t\t\t\t\t15\t16\t17\n\t\t\t\t\t\t\t\t0\n\t2\t1\t_\t1\t12.01078\t0\t0\t15\t0\t2\t3\t4\t5\t6\n\t\t\t\t\t\t\t\t\t7\t8\t9\t10\t11\t12\n\t\t\t\t\t\t\t\t\t13\t16\t17\n\t\t\t\t\t\t\t\t0\n\t3\t1\t_\t1\t12.01078\t0\t0\t15\t0\t1\t3\t4\t5\t6\n\t\t\t\t\t\t\t\t\t7\t8\t9\t10\t11\t12\n\t\t\t\t\t\t\t\t\t13\t14\t15\n\t\t\t\t\t\t\t\t0\n\t4\t1\t_\t1\t12.01078\t0\t0\t14\t1\t2\t4\t5\t8\t9\n\t\t\t\t\t\t\t\t\t10\t11\t12\t13\t14\t15\n\t\t\t\t\t\t\t\t\t16\t17\n\t\t\t\t\t\t\t\t0\n\t5\t1\t_\t1\t12.01078\t0\t0\t14\t0\t2\t3\t5\t6\t7\n\t\t\t\t\t\t\t\t\t10\t11\t12\t13\t14\t15\n\t\t\t\t\t\t\t\t\t16\t17\n\t\t\t\t\t\t\t\t0\n\t6\t1\t_\t1\t12.01078\t0\t0\t14\t0\t1\t3\t4\t6\t7\n\t\t\t\t\t\t\t\t\t8\t9\t12\t13\t14\t15\n\t\t\t\t\t\t\t\t\t16\t17\n\t\t\t\t\t\t\t\t0\n\t7\t1\t_\t2\t1.007947\t0\t0\t8\t0\t1\t5\t7\t8\t9\n\t\t\t\t\t\t\t\t\t16\t17\n\t\t\t\t\t\t\t\t0\n\t8\t1\t_\t2\t1.007947\t0\t0\t7\t0\t1\t5\t8\t9\t16\n\t\t\t\t\t\t\t\t\t17\n\t\t\t\t\t\t\t\t0\n\t9\t1\t_\t2\t1.007947\t0\t0\t5\t1\t2\t9\t10\t11\n\t\t\t\t\t\t\t\t0\n\t10\t1\t_\t2\t1.007947\t0\t0\t4\t11\t1\t2\t10\n\t\t\t\t\t\t\t\t0\n\t11\t1\t_\t2\t1.007947\t0\t0\t5\t2\t3\t11\t12\t13\n\t\t\t\t\t\t\t\t0\n\t12\t1\t_\t2\t1.007947\t0\t0\t4\t2\t3\t12\t13\n\t\t\t\t\t\t\t\t0\n\t13\t1\t_\t2\t1.007947\t0\t0\t5\t3\t4\t13\t14\t15\n\t\t\t\t\t\t\t\t0\n\t14\t1\t_\t2\t1.007947\t0\t0\t4\t3\t4\t14\t15\n\t\t\t\t\t\t\t\t0\n\t15\t1\t_\t2\t1.007947\t0\t0\t5\t4\t5\t15\t16\t17\n\t\t\t\t\t\t\t\t0\n\t16\t1\t_\t2\t1.007947\t0\t0\t4\t16\t17\t4\t5\n\t\t\t\t\t\t\t\t0\n\t17\t1\t_\t2\t1.007947\t0\t0\t2\t17\t5\n\t\t\t\t\t\t\t\t0\n\t18\t1\t_\t2\t1.007947\t0\t0\t0\n\t\t\t\t\t\t\t\t0\nEND\nBONDSTRETCHTYPE\n# \t NBTY: number of covalent bond types\n \t 2\n# \t CB \t CHB \t B0\n\t5.56986e+06\t2.59408e+05\t1.52600e-01\n\t1.19734e+07\t2.84512e+05\t1.09000e-01\nEND\nBONDH\n# \t NBONH: number of bonds involving H atoms in solute\n \t 12\n# \t IBH \t JBH \t ICBH\n\t1\t7\t2\n\t1\t8\t2\n\t2\t9\t2\n\t2\t10\t2\n\t3\t11\t2\n\t3\t12\t2\n\t4\t13\t2\n\t4\t14\t2\n\t5\t15\t2\n\t5\t16\t2\n\t6\t17\t2\n\t6\t18\t2\nEND\nBOND\n# \t NBON: number of bonds NOT involving H atoms in solute\n \t 6\n# \t IB \t JB \t ICB\n\t1\t2\t1\n\t1\t6\t1\n\t2\t3\t1\n\t3\t4\t1\n\t4\t5\t1\n\t5\t6\t1\nEND\nBONDANGLEBENDTYPE\n# \t NBTY: number of angle types\n \t 2\n# \t CT \t CHT \t T0\n\t0.00000e+00\t4.18400e+02\t1.09500e+02\n\t0.00000e+00\t2.92880e+02\t1.09500e+02\nEND\nBONDANGLEH\n# \t NTHEH: number of bondangles involving a H\n \t 30\n# \t ITH \t JTH \t KTH \t ICTH\n\t1\t2\t9\t1\n\t1\t2\t10\t1\n\t1\t6\t17\t1\n\t1\t6\t18\t1\n\t2\t1\t7\t1\n\t2\t1\t8\t1\n\t2\t3\t11\t1\n\t2\t3\t12\t1\n\t3\t2\t9\t1\n\t3\t2\t10\t1\n\t3\t4\t13\t1\n\t3\t4\t14\t1\n\t4\t3\t11\t1\n\t4\t3\t12\t1\n\t4\t5\t15\t1\n\t4\t5\t16\t1\n\t5\t4\t13\t1\n\t5\t4\t14\t1\n\t5\t6\t17\t1\n\t5\t6\t18\t1\n\t6\t1\t7\t1\n\t6\t1\t8\t1\n\t6\t5\t15\t1\n\t6\t5\t16\t1\n\t7\t1\t8\t2\n\t9\t2\t10\t2\n\t11\t3\t12\t2\n\t13\t4\t14\t2\n\t15\t5\t16\t2\n\t17\t6\t18\t2\nEND\nBONDANGLE\n# \t NTHE: number of angles\n \t 6\n# \t IT \t JT \t KT \t ICT\n\t1\t2\t3\t1\n\t1\t6\t5\t1\n\t2\t1\t6\t1\n\t2\t3\t4\t1\n\t3\t4\t5\t1\n\t4\t5\t6\t1\nEND\nIMPDIHEDRALTYPE\n# \t NQTY: number of improper dihedrals\n \t 0\n# \t CQ \t Q0\nEND\nIMPDIHEDRALH\n# \t NQHIH: number of improper dihedrals involving H atoms\n \t 0\n# \t IQH \t JQH \t KQH \t LQH \t ICQH\nEND\nIMPDIHEDRAL\n# \t #  NQHI: number of improper dihedrals\n \t 0\n# \t IQ \t JQ \t KQ \t LQ \t ICQ\nEND\nTORSDIHEDRALTYPE\n# \t NPTY: number of torsion dihedrals\n \t 5\n# \t CP \t PD \t NP\n\t7.53120e-01\t0.00000e+00\t3\n\t1.04600e+00\t1.80000e+02\t2\n\t8.36800e-01\t1.80000e+02\t1\n\t6.69440e-01\t0.00000e+00\t3\n\t6.27600e-01\t0.00000e+00\t3\nEND\nDIHEDRALH\n# \t NPHIH: number of torsion dihedrals involving H atoms\n \t 48\n# \t IPH \t JPH \t KPH \t LPH \t ICPH\n\t1\t2\t3\t11\t4\n\t1\t2\t3\t12\t4\n\t1\t6\t5\t15\t4\n\t1\t6\t5\t16\t4\n\t2\t1\t6\t17\t4\n\t2\t1\t6\t18\t4\n\t2\t3\t4\t13\t4\n\t2\t3\t4\t14\t4\n\t3\t2\t1\t7\t4\n\t3\t2\t1\t8\t4\n\t3\t4\t5\t15\t4\n\t3\t4\t5\t16\t4\n\t4\t3\t2\t9\t4\n\t4\t3\t2\t10\t4\n\t4\t5\t6\t17\t4\n\t4\t5\t6\t18\t4\n\t5\t4\t3\t11\t4\n\t5\t4\t3\t12\t4\n\t5\t6\t1\t7\t4\n\t5\t6\t1\t8\t4\n\t6\t1\t2\t9\t4\n\t6\t1\t2\t10\t4\n\t6\t5\t4\t13\t4\n\t6\t5\t4\t14\t4\n\t7\t1\t2\t9\t5\n\t7\t1\t2\t10\t5\n\t7\t1\t6\t17\t5\n\t7\t1\t6\t18\t5\n\t8\t1\t2\t9\t5\n\t8\t1\t2\t10\t5\n\t8\t1\t6\t17\t5\n\t8\t1\t6\t18\t5\n\t9\t2\t3\t11\t5\n\t9\t2\t3\t12\t5\n\t10\t2\t3\t11\t5\n\t10\t2\t3\t12\t5\n\t11\t3\t4\t13\t5\n\t11\t3\t4\t14\t5\n\t12\t3\t4\t13\t5\n\t12\t3\t4\t14\t5\n\t13\t4\t5\t15\t5\n\t13\t4\t5\t16\t5\n\t14\t4\t5\t15\t5\n\t14\t4\t5\t16\t5\n\t15\t5\t6\t17\t5\n\t15\t5\t6\t18\t5\n\t16\t5\t6\t17\t5\n\t16\t5\t6\t18\t5\nEND\nDIHEDRAL\n# \t NPHI: number of dihedrals NOT involving H atoms\n \t 18\n# \t IP \t JP \t KP \t LP \t ICP\n\t1\t2\t3\t4\t1\n\t1\t2\t3\t4\t2\n\t1\t2\t3\t4\t3\n\t1\t6\t5\t4\t1\n\t1\t6\t5\t4\t2\n\t1\t6\t5\t4\t3\n\t2\t1\t6\t5\t1\n\t2\t1\t6\t5\t2\n\t2\t1\t6\t5\t3\n\t2\t3\t4\t5\t1\n\t2\t3\t4\t5\t2\n\t2\t3\t4\t5\t3\n\t3\t2\t1\t6\t1\n\t3\t2\t1\t6\t2\n\t3\t2\t1\t6\t3\n\t3\t4\t5\t6\t1\n\t3\t4\t5\t6\t2\n\t3\t4\t5\t6\t3\nEND\nLJPARAMETERS\n# \t NRATT2: number of LJ interaction types = NRATT*(NRATT+1)/2\n \t 3\n# \t IAC \t JAC \t C12 \t C6 \t CS12 \t CS6\n\t1\t1\t4.364248e-06\t2.826762e-03\t0.000000e+00\t0.000000e+00\n\t1\t2\t3.704641e-07\t5.069068e-04\t0.000000e+00\t0.000000e+00\n\t2\t2\t3.144727e-08\t9.090068e-05\t0.000000e+00\t0.000000e+00\nEND\nSOLUTEMOLECULES\n1\n1\nEND\nTEMPERATUREGROUPS\n1\n1\nEND\nPRESSUREGROUPS\n1\n1\nEND\nLJEXCEPTIONS\n# This block defines special LJ-interactions based on atom numbers \n# This overrules the normal LJ-parameters (including 1-4 interactions)\n# \t NEX: number of exceptions\n \t 0\n# \t AT1 \t AT2 \t C12 \t C6\nEND\nSOLVENTATOM\n# \t NRAM: number of atoms per solvent molecule\n \t 3\n# \t I \t ANMS \t IACS \t MASS \t CGS\n\t1\tOW\t999\t1.59994e+01\t-8.20000e-01\n\t2\tHW1\t998\t1.00800e+00\t4.10000e-01\n\t3\tHW2\t998\t1.00800e+00\t4.10000e-01\nEND\nSOLVENTCONSTR\n# \t NCONS: number of constraints\n \t 3\n# \t ICONS \t JCONS \t CONS\n\t1\t2\t0.1\n\t1\t3\t0.1\n\t2\t3\t0.163299\nEND\n\n"
     ]
    }
   ],
   "source": [
    "print(top)"
   ]
  },
  {
   "cell_type": "code",
   "execution_count": 25,
   "metadata": {},
   "outputs": [
    {
     "output_type": "stream",
     "name": "stdout",
     "text": [
      "TITLE\nPHYSICALCONSTANTS\nTOPVERSION\nSOLUTEMOLECULES\nTEMPERATUREGROUPS\nPRESSUREGROUPS\nLJEXCEPTIONS\nSOLVENTATOM\nSOLVENTCONSTR\n"
     ]
    }
   ],
   "source": [
    "top2 = Top(input=data.data_dir+\"/topology_templates/blank_template.top\")"
   ]
  },
  {
   "cell_type": "code",
   "execution_count": 27,
   "metadata": {},
   "outputs": [
    {
     "output_type": "stream",
     "name": "stderr",
     "text": [
      "0.1 SMIRNOFF spec file does not contain 'potential' attribute for 'Bonds' tag. The SMIRNOFF spec converter is assuming it has a value of 'harmonic'\n",
      "0.1 SMIRNOFF spec file does not contain 'potential' attribute for 'Angles' tag. The SMIRNOFF spec converter is assuming it has a value of 'harmonic'\n",
      "0.1 SMIRNOFF spec file does not contain 'potential' attribute for 'ProperTorsions' tag. The SMIRNOFF spec converter is assuming it has a value of 'charmm'\n",
      "0.1 SMIRNOFF spec file does not contain 'potential' attribute for 'vdW' tag. The SMIRNOFF spec converter is assuming it has a value of 'Lennard-Jones-12-6'\n",
      "0.1 SMIRNOFF spec did not allow the 'Electrostatics' tag. Adding it in 0.2 spec conversion, and assuming the following values:\n",
      "\tmethod: PME\n",
      "\tscale12: 0.0\n",
      "\tscale13: 0.0\n",
      "\tscale15: 1.0\n",
      "\tcutoff: 9.0\n",
      "\tcutoff_unit: angstrom\n",
      "0.1 SMIRNOFF spec file does not contain 'method' attribute for 'NonBondedMethod/vdW'' tag. The SMIRNOFF spec converter is assuming it has a value of 'cutoff'\n",
      "0.1 SMIRNOFF spec file does not contain 'combining_rules' attribute for 'NonBondedMethod/vdW'' tag. The SMIRNOFF spec converter is assuming it has a value of 'Lorentz-Berthelot'\n",
      "0.1 SMIRNOFF spec file does not contain 'scale12' attribute for 'NonBondedMethod/vdW'' tag. The SMIRNOFF spec converter is assuming it has a value of '0.0'\n",
      "0.1 SMIRNOFF spec file does not contain 'scale13' attribute for 'NonBondedMethod/vdW'' tag. The SMIRNOFF spec converter is assuming it has a value of '0.0'\n",
      "0.1 SMIRNOFF spec file does not contain 'scale15' attribute for 'NonBondedMethod/vdW'' tag. The SMIRNOFF spec converter is assuming it has a value of '1'\n",
      "0.1 SMIRNOFF spec file does not contain 'switch_width' attribute for 'NonBondedMethod/vdW'' tag. The SMIRNOFF spec converter is assuming it has a value of '1.0'\n",
      "0.1 SMIRNOFF spec file does not contain 'switch_width_unit' attribute for 'NonBondedMethod/vdW'' tag. The SMIRNOFF spec converter is assuming it has a value of 'angstrom'\n",
      "0.1 SMIRNOFF spec file does not contain 'cutoff' attribute for 'NonBondedMethod/vdW'' tag. The SMIRNOFF spec converter is assuming it has a value of '9.0'\n",
      "0.1 SMIRNOFF spec file does not contain 'cutoff_unit' attribute for 'NonBondedMethod/vdW'' tag. The SMIRNOFF spec converter is assuming it has a value of 'angstrom'\n"
     ]
    }
   ],
   "source": [
    "top3 = openforcefield2gromos.openforcefield2gromos(moleculeFF, gromosTop=top2, forcefield_name=data.data_dir + \"/ff/SMIRNOFF/frosst_12-12-18.xml\").convert_return()"
   ]
  },
  {
   "cell_type": "code",
   "execution_count": 28,
   "metadata": {},
   "outputs": [],
   "source": [
    "top3.make_ordered()"
   ]
  },
  {
   "cell_type": "code",
   "execution_count": 29,
   "metadata": {},
   "outputs": [
    {
     "output_type": "stream",
     "name": "stdout",
     "text": [
      "TITLE\nBlank Template created with Pygromos\n\n\tname: \t hill_formula: C6H12\n\t----------------------------------------\n\t| created from OpenForceField topology |\n\t| use Amber Block for OpenFF topology! |\n\t----------------------------------------\n\n\t >>> Generated with python lib function_libs utilities. (riniker group)\n\t >>> line_seperator: '\\n'\t field_seperator: '\\t'\nEND\nPHYSICALCONSTANTS\n# FPEPSI: 1.0/(4.0*PI*EPS0) (EPS0 is the permittivity of vacuum)\n138.9354\n# HBAR: Planck's constant HBAR = H/(2* PI)\n0.0635078\n# SPDL: Speed of light (nm/ps)\n299792.458\n# BOLTZ: Boltzmann's constant kB\n0.00831441\nEND\nTOPVERSION\n2.0\nEND\nATOMTYPENAME\n2\nn16\nn2\nEND\nRESNAME\n1\nC6H12\nEND\nSOLUTEATOM\n#   NRP: number of solute atoms\n \t 18\n#  ATNM: atom number\n#  MRES: residue number\n#  PANM: atom name of solute atom\n#   IAC: integer (van der Waals) atom type code\n#  MASS: mass of solute atom\n#    CG: charge of solute atom\n#   CGC: charge group code (0 or 1)\n#   INE: number of excluded atoms\n# INE14: number of 1-4 interactions\n# ATNM MRES PANM IAC     MASS       CG  CGC INE\n#                                           INE14\n\t1\t1\tC1\t1\t12.01078\t0\t1\t10\t2\t3\t5\t6\t7\t8\n\t\t\t\t\t\t\t\t\t9\t10\t17\t18\n\t\t\t\t\t\t\t\t5\t4\t11\t12\t15\t16\n\t2\t1\tC2\t1\t12.01078\t0\t1\t9\t3\t4\t6\t7\t8\t9\n\t\t\t\t\t\t\t\t\t10\t11\t12\n\t\t\t\t\t\t\t\t5\t5\t13\t14\t17\t18\n\t3\t1\tC3\t1\t12.01078\t0\t1\t8\t4\t5\t9\t10\t11\t12\n\t\t\t\t\t\t\t\t\t13\t14\n\t\t\t\t\t\t\t\t5\t6\t7\t8\t15\t16\n\t4\t1\tC4\t1\t12.01078\t0\t1\t8\t5\t6\t11\t12\t13\t14\n\t\t\t\t\t\t\t\t\t15\t16\n\t\t\t\t\t\t\t\t4\t9\t10\t17\t18\n\t5\t1\tC5\t1\t12.01078\t0\t1\t7\t6\t13\t14\t15\t16\t17\n\t\t\t\t\t\t\t\t\t18\n\t\t\t\t\t\t\t\t4\t7\t8\t11\t12\n\t6\t1\tC6\t1\t12.01078\t0\t1\t6\t7\t8\t15\t16\t17\t18\n\t\t\t\t\t\t\t\t\n\t\t\t\t\t\t\t\t4\t9\t10\t13\t14\n\t7\t1\tH1\t2\t1.007947\t0\t1\t1\t8\n\t\t\t\t\t\t\t\t4\t9\t10\t17\t18\n\t8\t1\tH2\t2\t1.007947\t0\t1\t0\n\t\t\t\t\t\t\t\t4\t9\t10\t17\t18\n\t9\t1\tH3\t2\t1.007947\t0\t1\t1\t10\n\t\t\t\t\t\t\t\t2\t11\t12\n\t10\t1\tH4\t2\t1.007947\t0\t1\t0\n\t\t\t\t\t\t\t\t2\t11\t12\n\t11\t1\tH5\t2\t1.007947\t0\t1\t1\t12\n\t\t\t\t\t\t\t\t2\t13\t14\n\t12\t1\tH6\t2\t1.007947\t0\t1\t0\n\t\t\t\t\t\t\t\t2\t13\t14\n\t13\t1\tH7\t2\t1.007947\t0\t1\t1\t14\n\t\t\t\t\t\t\t\t2\t15\t16\n\t14\t1\tH8\t2\t1.007947\t0\t1\t0\n\t\t\t\t\t\t\t\t2\t15\t16\n\t15\t1\tH9\t2\t1.007947\t0\t1\t1\t16\n\t\t\t\t\t\t\t\t2\t17\t18\n\t16\t1\tH10\t2\t1.007947\t0\t1\t0\n\t\t\t\t\t\t\t\t2\t17\t18\n\t17\t1\tH11\t2\t1.007947\t0\t1\t1\t18\n\t\t\t\t\t\t\t\t0\n\t18\t1\tH12\t2\t1.007947\t0\t1\t0\n\t\t\t\t\t\t\t\t0\nEND\nBONDSTRETCHTYPE\n# \t NBTY: number of covalent bond types\n \t 2\n# \t CB \t CHB \t B0\n\t5.56986e+06\t2.59408e+05\t1.52600e-01\n\t1.19734e+07\t2.84512e+05\t1.09000e-01\nEND\nBONDH\n# \t NBONH: number of bonds involving H atoms in solute\n \t 12\n# \t IBH \t JBH \t ICBH\n\t1\t7\t2\n\t1\t8\t2\n\t2\t9\t2\n\t2\t10\t2\n\t3\t11\t2\n\t3\t12\t2\n\t4\t13\t2\n\t4\t14\t2\n\t5\t15\t2\n\t5\t16\t2\n\t6\t17\t2\n\t6\t18\t2\nEND\nBOND\n# \t NBON: number of bonds NOT involving H atoms in solute\n \t 6\n# \t IB \t JB \t ICB\n\t1\t2\t1\n\t1\t6\t1\n\t2\t3\t1\n\t3\t4\t1\n\t4\t5\t1\n\t5\t6\t1\nEND\nBONDANGLEBENDTYPE\n# \t NBTY: number of angle types\n \t 2\n# \t CT \t CHT \t T0\n\t0.00000e+00\t4.18400e+02\t1.09500e+02\n\t0.00000e+00\t2.92880e+02\t1.09500e+02\nEND\nBONDANGLEH\n# \t NTHEH: number of bondangles involving a H\n \t 30\n# \t ITH \t JTH \t KTH \t ICTH\n\t1\t2\t9\t1\n\t1\t2\t10\t1\n\t1\t6\t17\t1\n\t1\t6\t18\t1\n\t2\t1\t7\t1\n\t2\t1\t8\t1\n\t2\t3\t11\t1\n\t2\t3\t12\t1\n\t3\t2\t9\t1\n\t3\t2\t10\t1\n\t3\t4\t13\t1\n\t3\t4\t14\t1\n\t4\t3\t11\t1\n\t4\t3\t12\t1\n\t4\t5\t15\t1\n\t4\t5\t16\t1\n\t5\t4\t13\t1\n\t5\t4\t14\t1\n\t5\t6\t17\t1\n\t5\t6\t18\t1\n\t6\t1\t7\t1\n\t6\t1\t8\t1\n\t6\t5\t15\t1\n\t6\t5\t16\t1\n\t7\t1\t8\t2\n\t9\t2\t10\t2\n\t11\t3\t12\t2\n\t13\t4\t14\t2\n\t15\t5\t16\t2\n\t17\t6\t18\t2\nEND\nBONDANGLE\n# \t NTHE: number of angles\n \t 6\n# \t IT \t JT \t KT \t ICT\n\t1\t2\t3\t1\n\t1\t6\t5\t1\n\t2\t1\t6\t1\n\t2\t3\t4\t1\n\t3\t4\t5\t1\n\t4\t5\t6\t1\nEND\nIMPDIHEDRALTYPE\n# \t NQTY: number of improper dihedrals\n \t 0\n# \t CQ \t Q0\nEND\nIMPDIHEDRALH\n# \t NQHIH: number of improper dihedrals involving H atoms\n \t 0\n# \t IQH \t JQH \t KQH \t LQH \t ICQH\nEND\nIMPDIHEDRAL\n# \t #  NQHI: number of improper dihedrals\n \t 0\n# \t IQ \t JQ \t KQ \t LQ \t ICQ\nEND\nTORSDIHEDRALTYPE\n# \t NPTY: number of torsion dihedrals\n \t 5\n# \t CP \t PD \t NP\n\t7.53120e-01\t0.00000e+00\t3\n\t1.04600e+00\t1.80000e+02\t2\n\t8.36800e-01\t1.80000e+02\t1\n\t6.69440e-01\t0.00000e+00\t3\n\t6.27600e-01\t0.00000e+00\t3\nEND\nDIHEDRALH\n# \t NPHIH: number of torsion dihedrals involving H atoms\n \t 48\n# \t IPH \t JPH \t KPH \t LPH \t ICPH\n\t1\t2\t3\t11\t4\n\t1\t2\t3\t12\t4\n\t1\t6\t5\t15\t4\n\t1\t6\t5\t16\t4\n\t2\t1\t6\t17\t4\n\t2\t1\t6\t18\t4\n\t2\t3\t4\t13\t4\n\t2\t3\t4\t14\t4\n\t3\t2\t1\t7\t4\n\t3\t2\t1\t8\t4\n\t3\t4\t5\t15\t4\n\t3\t4\t5\t16\t4\n\t4\t3\t2\t9\t4\n\t4\t3\t2\t10\t4\n\t4\t5\t6\t17\t4\n\t4\t5\t6\t18\t4\n\t5\t4\t3\t11\t4\n\t5\t4\t3\t12\t4\n\t5\t6\t1\t7\t4\n\t5\t6\t1\t8\t4\n\t6\t1\t2\t9\t4\n\t6\t1\t2\t10\t4\n\t6\t5\t4\t13\t4\n\t6\t5\t4\t14\t4\n\t7\t1\t2\t9\t5\n\t7\t1\t2\t10\t5\n\t7\t1\t6\t17\t5\n\t7\t1\t6\t18\t5\n\t8\t1\t2\t9\t5\n\t8\t1\t2\t10\t5\n\t8\t1\t6\t17\t5\n\t8\t1\t6\t18\t5\n\t9\t2\t3\t11\t5\n\t9\t2\t3\t12\t5\n\t10\t2\t3\t11\t5\n\t10\t2\t3\t12\t5\n\t11\t3\t4\t13\t5\n\t11\t3\t4\t14\t5\n\t12\t3\t4\t13\t5\n\t12\t3\t4\t14\t5\n\t13\t4\t5\t15\t5\n\t13\t4\t5\t16\t5\n\t14\t4\t5\t15\t5\n\t14\t4\t5\t16\t5\n\t15\t5\t6\t17\t5\n\t15\t5\t6\t18\t5\n\t16\t5\t6\t17\t5\n\t16\t5\t6\t18\t5\nEND\nDIHEDRAL\n# \t NPHI: number of dihedrals NOT involving H atoms\n \t 18\n# \t IP \t JP \t KP \t LP \t ICP\n\t1\t2\t3\t4\t1\n\t1\t2\t3\t4\t2\n\t1\t2\t3\t4\t3\n\t1\t6\t5\t4\t1\n\t1\t6\t5\t4\t2\n\t1\t6\t5\t4\t3\n\t2\t1\t6\t5\t1\n\t2\t1\t6\t5\t2\n\t2\t1\t6\t5\t3\n\t2\t3\t4\t5\t1\n\t2\t3\t4\t5\t2\n\t2\t3\t4\t5\t3\n\t3\t2\t1\t6\t1\n\t3\t2\t1\t6\t2\n\t3\t2\t1\t6\t3\n\t3\t4\t5\t6\t1\n\t3\t4\t5\t6\t2\n\t3\t4\t5\t6\t3\nEND\nLJPARAMETERS\n# \t NRATT2: number of LJ interaction types = NRATT*(NRATT+1)/2\n \t 3\n# \t IAC \t JAC \t C12 \t C6 \t CS12 \t CS6\n\t1\t1\t4.364248e-06\t2.826762e-03\t0.000000e+00\t0.000000e+00\n\t1\t2\t3.704641e-07\t5.069068e-04\t0.000000e+00\t0.000000e+00\n\t2\t2\t3.144727e-08\t9.090068e-05\t0.000000e+00\t0.000000e+00\nEND\nSOLUTEMOLECULES\n1\n18\nEND\nTEMPERATUREGROUPS\n1\n18\nEND\nPRESSUREGROUPS\n1\n18\nEND\nLJEXCEPTIONS\n# This block defines special LJ-interactions based on atom numbers \n# This overrules the normal LJ-parameters (including 1-4 interactions)\n# \t NEX: number of exceptions\n \t 0\n# \t AT1 \t AT2 \t C12 \t C6\nEND\nSOLVENTATOM\n# \t NRAM: number of atoms per solvent molecule\n \t 3\n# \t I \t ANMS \t IACS \t MASS \t CGS\n\t1\tOW\t999\t1.59994e+01\t-8.20000e-01\n\t2\tHW1\t998\t1.00800e+00\t4.10000e-01\n\t3\tHW2\t998\t1.00800e+00\t4.10000e-01\nEND\nSOLVENTCONSTR\n# \t NCONS: number of constraints\n \t 3\n# \t ICONS \t JCONS \t CONS\n\t1\t2\t0.1\n\t1\t3\t0.1\n\t2\t3\t0.163299\nEND\n\n"
     ]
    }
   ],
   "source": [
    "print(top3)"
   ]
  },
  {
   "cell_type": "code",
   "execution_count": 28,
   "metadata": {},
   "outputs": [],
   "source": [
    "from pygromos.gromos import gromosPP, gromosXX"
   ]
  },
  {
   "cell_type": "code",
   "execution_count": 29,
   "metadata": {},
   "outputs": [
    {
     "output_type": "execute_result",
     "data": {
      "text/plain": [
       "\n",
       "    GromosPP\n",
       "\n",
       "    This is the class represents gromosPP.\n",
       "\n",
       "    Attributes:\n",
       "    -----------\n",
       "    bin :   str, optional\n",
       "        This is the path to the folder containing the binaries of gromosPP If None, the bash enviroment variables  will be used.\n",
       "    \n",
       "    Methods:\n",
       "    ---------\n",
       "\t\tcom_top\n",
       "\t\tdfmult\n",
       "\t\tene_ana\n",
       "\t\tframeout\n",
       "\t\tjval\n",
       "\t\tmake_top\n",
       "\t\tnoe\n",
       "\t\tpdb2gromos\n",
       "\t\tpdb2seq\n",
       "\t\tprep_eds\n",
       "\t\tprep_noe\n",
       "\t\tprotonate\n",
       "\t\tred_top\n",
       "\t\tsim_box\n",
       "\t\ttser"
      ]
     },
     "metadata": {},
     "execution_count": 29
    }
   ],
   "source": [
    "gromosPP.GromosPP(bin_path=\"/home/mlehner/gromosPlsPls/gromos++/BUILD/programs\")"
   ]
  },
  {
   "cell_type": "code",
   "execution_count": 30,
   "metadata": {},
   "outputs": [],
   "source": [
    "top3._orig_file_path = \"/home/mlehner/Documents/dev/temp19/top3.top\""
   ]
  },
  {
   "cell_type": "code",
   "execution_count": 31,
   "metadata": {},
   "outputs": [
    {
     "output_type": "execute_result",
     "data": {
      "text/plain": [
       "'/home/mlehner/Documents/dev/temp19/top3.top'"
      ]
     },
     "metadata": {},
     "execution_count": 31
    }
   ],
   "source": [
    "top3.write(\"/home/mlehner/Documents/dev/temp19/top3.top\")"
   ]
  },
  {
   "cell_type": "code",
   "execution_count": 32,
   "metadata": {},
   "outputs": [
    {
     "output_type": "stream",
     "name": "stderr",
     "text": [
      "0.1 SMIRNOFF spec file does not contain 'potential' attribute for 'Bonds' tag. The SMIRNOFF spec converter is assuming it has a value of 'harmonic'\n",
      "0.1 SMIRNOFF spec file does not contain 'potential' attribute for 'Angles' tag. The SMIRNOFF spec converter is assuming it has a value of 'harmonic'\n",
      "0.1 SMIRNOFF spec file does not contain 'potential' attribute for 'ProperTorsions' tag. The SMIRNOFF spec converter is assuming it has a value of 'charmm'\n",
      "0.1 SMIRNOFF spec file does not contain 'potential' attribute for 'vdW' tag. The SMIRNOFF spec converter is assuming it has a value of 'Lennard-Jones-12-6'\n",
      "0.1 SMIRNOFF spec did not allow the 'Electrostatics' tag. Adding it in 0.2 spec conversion, and assuming the following values:\n",
      "\tmethod: PME\n",
      "\tscale12: 0.0\n",
      "\tscale13: 0.0\n",
      "\tscale15: 1.0\n",
      "\tcutoff: 9.0\n",
      "\tcutoff_unit: angstrom\n",
      "0.1 SMIRNOFF spec file does not contain 'method' attribute for 'NonBondedMethod/vdW'' tag. The SMIRNOFF spec converter is assuming it has a value of 'cutoff'\n",
      "0.1 SMIRNOFF spec file does not contain 'combining_rules' attribute for 'NonBondedMethod/vdW'' tag. The SMIRNOFF spec converter is assuming it has a value of 'Lorentz-Berthelot'\n",
      "0.1 SMIRNOFF spec file does not contain 'scale12' attribute for 'NonBondedMethod/vdW'' tag. The SMIRNOFF spec converter is assuming it has a value of '0.0'\n",
      "0.1 SMIRNOFF spec file does not contain 'scale13' attribute for 'NonBondedMethod/vdW'' tag. The SMIRNOFF spec converter is assuming it has a value of '0.0'\n",
      "0.1 SMIRNOFF spec file does not contain 'scale15' attribute for 'NonBondedMethod/vdW'' tag. The SMIRNOFF spec converter is assuming it has a value of '1'\n",
      "0.1 SMIRNOFF spec file does not contain 'switch_width' attribute for 'NonBondedMethod/vdW'' tag. The SMIRNOFF spec converter is assuming it has a value of '1.0'\n",
      "0.1 SMIRNOFF spec file does not contain 'switch_width_unit' attribute for 'NonBondedMethod/vdW'' tag. The SMIRNOFF spec converter is assuming it has a value of 'angstrom'\n",
      "0.1 SMIRNOFF spec file does not contain 'cutoff' attribute for 'NonBondedMethod/vdW'' tag. The SMIRNOFF spec converter is assuming it has a value of '9.0'\n",
      "0.1 SMIRNOFF spec file does not contain 'cutoff_unit' attribute for 'NonBondedMethod/vdW'' tag. The SMIRNOFF spec converter is assuming it has a value of 'angstrom'\n",
      "TITLE\n",
      "PHYSICALCONSTANTS\n",
      "TOPVERSION\n",
      "SOLUTEMOLECULES\n",
      "TEMPERATUREGROUPS\n",
      "PRESSUREGROUPS\n",
      "LJEXCEPTIONS\n",
      "SOLVENTATOM\n",
      "SOLVENTCONSTR\n"
     ]
    }
   ],
   "source": [
    "top4 = openforcefield2gromos(moleculeFF).convert_return()"
   ]
  },
  {
   "cell_type": "code",
   "execution_count": 33,
   "metadata": {},
   "outputs": [],
   "source": [
    "top4.make_ordered()"
   ]
  },
  {
   "cell_type": "code",
   "execution_count": 34,
   "metadata": {},
   "outputs": [
    {
     "output_type": "stream",
     "name": "stdout",
     "text": [
      "TITLE\nBlank Template created with Pygromos\n\n\tname: \t hill_formula: C6H12\n\t----------------------------------------\n\t| created from OpenForceField topology |\n\t| use Amber Block for OpenFF topology! |\n\t----------------------------------------\n\n\t >>> Generated with python lib function_libs utilities. (riniker group)\n\t >>> line_seperator: '\\n'\t field_seperator: '\\t'\nEND\nPHYSICALCONSTANTS\n# FPEPSI: 1.0/(4.0*PI*EPS0) (EPS0 is the permittivity of vacuum)\n138.9354\n# HBAR: Planck's constant HBAR = H/(2* PI)\n0.0635078\n# SPDL: Speed of light (nm/ps)\n299792.458\n# BOLTZ: Boltzmann's constant kB\n0.00831441\nEND\nTOPVERSION\n2.0\nEND\nATOMTYPENAME\n2\nn16\nn2\nEND\nRESNAME\n1\nC6H12\nEND\nSOLUTEATOM\n#   NRP: number of solute atoms\n \t 18\n#  ATNM: atom number\n#  MRES: residue number\n#  PANM: atom name of solute atom\n#   IAC: integer (van der Waals) atom type code\n#  MASS: mass of solute atom\n#    CG: charge of solute atom\n#   CGC: charge group code (0 or 1)\n#   INE: number of excluded atoms\n# INE14: number of 1-4 interactions\n# ATNM MRES PANM IAC     MASS       CG  CGC INE\n#                                           INE14\n\t1\t1\tn16\t1\t12.01078\t0\t1\t10\t2\t3\t5\t6\t7\t8\n\t\t\t\t\t\t\t\t\t9\t10\t17\t18\n\t\t\t\t\t\t\t\t5\t4\t11\t12\t15\t16\n\t2\t1\tn16\t1\t12.01078\t0\t1\t9\t3\t4\t6\t7\t8\t9\n\t\t\t\t\t\t\t\t\t10\t11\t12\n\t\t\t\t\t\t\t\t5\t5\t13\t14\t17\t18\n\t3\t1\tn16\t1\t12.01078\t0\t1\t8\t4\t5\t9\t10\t11\t12\n\t\t\t\t\t\t\t\t\t13\t14\n\t\t\t\t\t\t\t\t5\t6\t7\t8\t15\t16\n\t4\t1\tn16\t1\t12.01078\t0\t1\t8\t5\t6\t11\t12\t13\t14\n\t\t\t\t\t\t\t\t\t15\t16\n\t\t\t\t\t\t\t\t4\t9\t10\t17\t18\n\t5\t1\tn16\t1\t12.01078\t0\t1\t7\t6\t13\t14\t15\t16\t17\n\t\t\t\t\t\t\t\t\t18\n\t\t\t\t\t\t\t\t4\t7\t8\t11\t12\n\t6\t1\tn16\t1\t12.01078\t0\t1\t6\t7\t8\t15\t16\t17\t18\n\t\t\t\t\t\t\t\t\n\t\t\t\t\t\t\t\t4\t9\t10\t13\t14\n\t7\t1\tn2\t2\t1.007947\t0\t1\t1\t8\n\t\t\t\t\t\t\t\t4\t9\t10\t17\t18\n\t8\t1\tn2\t2\t1.007947\t0\t1\t0\n\t\t\t\t\t\t\t\t4\t9\t10\t17\t18\n\t9\t1\tn2\t2\t1.007947\t0\t1\t1\t10\n\t\t\t\t\t\t\t\t2\t11\t12\n\t10\t1\tn2\t2\t1.007947\t0\t1\t0\n\t\t\t\t\t\t\t\t2\t11\t12\n\t11\t1\tn2\t2\t1.007947\t0\t1\t1\t12\n\t\t\t\t\t\t\t\t2\t13\t14\n\t12\t1\tn2\t2\t1.007947\t0\t1\t0\n\t\t\t\t\t\t\t\t2\t13\t14\n\t13\t1\tn2\t2\t1.007947\t0\t1\t1\t14\n\t\t\t\t\t\t\t\t2\t15\t16\n\t14\t1\tn2\t2\t1.007947\t0\t1\t0\n\t\t\t\t\t\t\t\t2\t15\t16\n\t15\t1\tn2\t2\t1.007947\t0\t1\t1\t16\n\t\t\t\t\t\t\t\t2\t17\t18\n\t16\t1\tn2\t2\t1.007947\t0\t1\t0\n\t\t\t\t\t\t\t\t2\t17\t18\n\t17\t1\tn2\t2\t1.007947\t0\t1\t1\t18\n\t\t\t\t\t\t\t\t0\n\t18\t1\tn2\t2\t1.007947\t0\t1\t0\n\t\t\t\t\t\t\t\t0\nEND\nBONDSTRETCHTYPE\n# \t NBTY: number of covalent bond types\n \t 2\n# \t CB \t CHB \t B0\n\t5.56986e+06\t2.59408e+05\t1.52600e-01\n\t1.19734e+07\t2.84512e+05\t1.09000e-01\nEND\nBONDH\n# \t NBONH: number of bonds involving H atoms in solute\n \t 12\n# \t IBH \t JBH \t ICBH\n\t1\t7\t2\n\t1\t8\t2\n\t2\t9\t2\n\t2\t10\t2\n\t3\t11\t2\n\t3\t12\t2\n\t4\t13\t2\n\t4\t14\t2\n\t5\t15\t2\n\t5\t16\t2\n\t6\t17\t2\n\t6\t18\t2\nEND\nBOND\n# \t NBON: number of bonds NOT involving H atoms in solute\n \t 6\n# \t IB \t JB \t ICB\n\t1\t2\t1\n\t1\t6\t1\n\t2\t3\t1\n\t3\t4\t1\n\t4\t5\t1\n\t5\t6\t1\nEND\nBONDANGLEBENDTYPE\n# \t NBTY: number of angle types\n \t 2\n# \t CT \t CHT \t T0\n\t0.00000e+00\t4.18400e+02\t1.09500e+02\n\t0.00000e+00\t2.92880e+02\t1.09500e+02\nEND\nBONDANGLEH\n# \t NTHEH: number of bondangles involving a H\n \t 30\n# \t ITH \t JTH \t KTH \t ICTH\n\t1\t2\t9\t1\n\t1\t2\t10\t1\n\t1\t6\t17\t1\n\t1\t6\t18\t1\n\t2\t1\t7\t1\n\t2\t1\t8\t1\n\t2\t3\t11\t1\n\t2\t3\t12\t1\n\t3\t2\t9\t1\n\t3\t2\t10\t1\n\t3\t4\t13\t1\n\t3\t4\t14\t1\n\t4\t3\t11\t1\n\t4\t3\t12\t1\n\t4\t5\t15\t1\n\t4\t5\t16\t1\n\t5\t4\t13\t1\n\t5\t4\t14\t1\n\t5\t6\t17\t1\n\t5\t6\t18\t1\n\t6\t1\t7\t1\n\t6\t1\t8\t1\n\t6\t5\t15\t1\n\t6\t5\t16\t1\n\t7\t1\t8\t2\n\t9\t2\t10\t2\n\t11\t3\t12\t2\n\t13\t4\t14\t2\n\t15\t5\t16\t2\n\t17\t6\t18\t2\nEND\nBONDANGLE\n# \t NTHE: number of angles\n \t 6\n# \t IT \t JT \t KT \t ICT\n\t1\t2\t3\t1\n\t1\t6\t5\t1\n\t2\t1\t6\t1\n\t2\t3\t4\t1\n\t3\t4\t5\t1\n\t4\t5\t6\t1\nEND\nIMPDIHEDRALTYPE\n# \t NQTY: number of improper dihedrals\n \t 0\n# \t CQ \t Q0\nEND\nIMPDIHEDRALH\n# \t NQHIH: number of improper dihedrals involving H atoms\n \t 0\n# \t IQH \t JQH \t KQH \t LQH \t ICQH\nEND\nIMPDIHEDRAL\n# \t #  NQHI: number of improper dihedrals\n \t 0\n# \t IQ \t JQ \t KQ \t LQ \t ICQ\nEND\nTORSDIHEDRALTYPE\n# \t NPTY: number of torsion dihedrals\n \t 5\n# \t CP \t PD \t NP\n\t7.53120e-01\t0.00000e+00\t3\n\t1.04600e+00\t1.80000e+02\t2\n\t8.36800e-01\t1.80000e+02\t1\n\t6.69440e-01\t0.00000e+00\t3\n\t6.27600e-01\t0.00000e+00\t3\nEND\nDIHEDRALH\n# \t NPHIH: number of torsion dihedrals involving H atoms\n \t 48\n# \t IPH \t JPH \t KPH \t LPH \t ICPH\n\t1\t2\t3\t11\t4\n\t1\t2\t3\t12\t4\n\t1\t6\t5\t15\t4\n\t1\t6\t5\t16\t4\n\t2\t1\t6\t17\t4\n\t2\t1\t6\t18\t4\n\t2\t3\t4\t13\t4\n\t2\t3\t4\t14\t4\n\t3\t2\t1\t7\t4\n\t3\t2\t1\t8\t4\n\t3\t4\t5\t15\t4\n\t3\t4\t5\t16\t4\n\t4\t3\t2\t9\t4\n\t4\t3\t2\t10\t4\n\t4\t5\t6\t17\t4\n\t4\t5\t6\t18\t4\n\t5\t4\t3\t11\t4\n\t5\t4\t3\t12\t4\n\t5\t6\t1\t7\t4\n\t5\t6\t1\t8\t4\n\t6\t1\t2\t9\t4\n\t6\t1\t2\t10\t4\n\t6\t5\t4\t13\t4\n\t6\t5\t4\t14\t4\n\t7\t1\t2\t9\t5\n\t7\t1\t2\t10\t5\n\t7\t1\t6\t17\t5\n\t7\t1\t6\t18\t5\n\t8\t1\t2\t9\t5\n\t8\t1\t2\t10\t5\n\t8\t1\t6\t17\t5\n\t8\t1\t6\t18\t5\n\t9\t2\t3\t11\t5\n\t9\t2\t3\t12\t5\n\t10\t2\t3\t11\t5\n\t10\t2\t3\t12\t5\n\t11\t3\t4\t13\t5\n\t11\t3\t4\t14\t5\n\t12\t3\t4\t13\t5\n\t12\t3\t4\t14\t5\n\t13\t4\t5\t15\t5\n\t13\t4\t5\t16\t5\n\t14\t4\t5\t15\t5\n\t14\t4\t5\t16\t5\n\t15\t5\t6\t17\t5\n\t15\t5\t6\t18\t5\n\t16\t5\t6\t17\t5\n\t16\t5\t6\t18\t5\nEND\nDIHEDRAL\n# \t NPHI: number of dihedrals NOT involving H atoms\n \t 18\n# \t IP \t JP \t KP \t LP \t ICP\n\t1\t2\t3\t4\t1\n\t1\t2\t3\t4\t2\n\t1\t2\t3\t4\t3\n\t1\t6\t5\t4\t1\n\t1\t6\t5\t4\t2\n\t1\t6\t5\t4\t3\n\t2\t1\t6\t5\t1\n\t2\t1\t6\t5\t2\n\t2\t1\t6\t5\t3\n\t2\t3\t4\t5\t1\n\t2\t3\t4\t5\t2\n\t2\t3\t4\t5\t3\n\t3\t2\t1\t6\t1\n\t3\t2\t1\t6\t2\n\t3\t2\t1\t6\t3\n\t3\t4\t5\t6\t1\n\t3\t4\t5\t6\t2\n\t3\t4\t5\t6\t3\nEND\nLJPARAMETERS\n# \t NRATT2: number of LJ interaction types = NRATT*(NRATT+1)/2\n \t 3\n# \t IAC \t JAC \t C12 \t C6 \t CS12 \t CS6\n\t1\t1\t4.364248e-06\t2.826762e-03\t0.000000e+00\t0.000000e+00\n\t1\t2\t3.704641e-07\t5.069068e-04\t0.000000e+00\t0.000000e+00\n\t2\t2\t3.144727e-08\t9.090068e-05\t0.000000e+00\t0.000000e+00\nEND\nSOLUTEMOLECULES\n1\n18\nEND\nTEMPERATUREGROUPS\n1\n18\nEND\nPRESSUREGROUPS\n1\n18\nEND\nLJEXCEPTIONS\n# This block defines special LJ-interactions based on atom numbers \n# This overrules the normal LJ-parameters (including 1-4 interactions)\n# \t NEX: number of exceptions\n \t 0\n# \t AT1 \t AT2 \t C12 \t C6\nEND\nSOLVENTATOM\n# \t NRAM: number of atoms per solvent molecule\n \t 0\n# \t I \t ANMS \t IACS \t MASS \t CGS\nEND\nSOLVENTCONSTR\n# \t NCONS: number of constraints\n \t 0\n# \t ICONS \t JCONS \t CONS\nEND\n\n"
     ]
    }
   ],
   "source": [
    "print(top4)"
   ]
  },
  {
   "cell_type": "code",
   "execution_count": 35,
   "metadata": {},
   "outputs": [
    {
     "output_type": "stream",
     "name": "stderr",
     "text": [
      "0.1 SMIRNOFF spec file does not contain 'potential' attribute for 'Bonds' tag. The SMIRNOFF spec converter is assuming it has a value of 'harmonic'\n",
      "0.1 SMIRNOFF spec file does not contain 'potential' attribute for 'Angles' tag. The SMIRNOFF spec converter is assuming it has a value of 'harmonic'\n",
      "0.1 SMIRNOFF spec file does not contain 'potential' attribute for 'ProperTorsions' tag. The SMIRNOFF spec converter is assuming it has a value of 'charmm'\n",
      "0.1 SMIRNOFF spec file does not contain 'potential' attribute for 'vdW' tag. The SMIRNOFF spec converter is assuming it has a value of 'Lennard-Jones-12-6'\n",
      "0.1 SMIRNOFF spec did not allow the 'Electrostatics' tag. Adding it in 0.2 spec conversion, and assuming the following values:\n",
      "\tmethod: PME\n",
      "\tscale12: 0.0\n",
      "\tscale13: 0.0\n",
      "\tscale15: 1.0\n",
      "\tcutoff: 9.0\n",
      "\tcutoff_unit: angstrom\n",
      "0.1 SMIRNOFF spec file does not contain 'method' attribute for 'NonBondedMethod/vdW'' tag. The SMIRNOFF spec converter is assuming it has a value of 'cutoff'\n",
      "0.1 SMIRNOFF spec file does not contain 'combining_rules' attribute for 'NonBondedMethod/vdW'' tag. The SMIRNOFF spec converter is assuming it has a value of 'Lorentz-Berthelot'\n",
      "0.1 SMIRNOFF spec file does not contain 'scale12' attribute for 'NonBondedMethod/vdW'' tag. The SMIRNOFF spec converter is assuming it has a value of '0.0'\n",
      "0.1 SMIRNOFF spec file does not contain 'scale13' attribute for 'NonBondedMethod/vdW'' tag. The SMIRNOFF spec converter is assuming it has a value of '0.0'\n",
      "0.1 SMIRNOFF spec file does not contain 'scale15' attribute for 'NonBondedMethod/vdW'' tag. The SMIRNOFF spec converter is assuming it has a value of '1'\n",
      "0.1 SMIRNOFF spec file does not contain 'switch_width' attribute for 'NonBondedMethod/vdW'' tag. The SMIRNOFF spec converter is assuming it has a value of '1.0'\n",
      "0.1 SMIRNOFF spec file does not contain 'switch_width_unit' attribute for 'NonBondedMethod/vdW'' tag. The SMIRNOFF spec converter is assuming it has a value of 'angstrom'\n",
      "0.1 SMIRNOFF spec file does not contain 'cutoff' attribute for 'NonBondedMethod/vdW'' tag. The SMIRNOFF spec converter is assuming it has a value of '9.0'\n",
      "0.1 SMIRNOFF spec file does not contain 'cutoff_unit' attribute for 'NonBondedMethod/vdW'' tag. The SMIRNOFF spec converter is assuming it has a value of 'angstrom'\n"
     ]
    }
   ],
   "source": [
    "top5 = openforcefield2gromos(moleculeFF, gromosTop=Top(input=None)).convert_return()"
   ]
  },
  {
   "cell_type": "code",
   "execution_count": 36,
   "metadata": {},
   "outputs": [],
   "source": [
    "top5.make_ordered()"
   ]
  },
  {
   "cell_type": "code",
   "execution_count": 37,
   "metadata": {},
   "outputs": [
    {
     "output_type": "stream",
     "name": "stdout",
     "text": [
      "TITLE\n\n\tname: \t hill_formula: C6H12\n\t----------------------------------------\n\t| created from OpenForceField topology |\n\t| use Amber Block for OpenFF topology! |\n\t----------------------------------------\n\n\t >>> Generated with python lib function_libs utilities. (riniker group)\n\t >>> line_seperator: '\\n'\t field_seperator: '\\t'\nEND\nPHYSICALCONSTANTS\n# FPEPSI: 1.0/(4.0*PI*EPS0) (EPS0 is the permittivity of vacuum)\n138.9354\n# HBAR: Planck's constant HBAR = H/(2* PI)\n0.0635078\n# SPDL: Speed of light (nm/ps)\n299792.458\n# BOLTZ: Boltzmann's constant kB\n0.00831441\nEND\nTOPVERSION\n2.0\nEND\nATOMTYPENAME\n2\nn16\nn2\nEND\nRESNAME\n1\nC6H12\nEND\nSOLUTEATOM\n#   NRP: number of solute atoms\n \t 18\n#  ATNM: atom number\n#  MRES: residue number\n#  PANM: atom name of solute atom\n#   IAC: integer (van der Waals) atom type code\n#  MASS: mass of solute atom\n#    CG: charge of solute atom\n#   CGC: charge group code (0 or 1)\n#   INE: number of excluded atoms\n# INE14: number of 1-4 interactions\n# ATNM MRES PANM IAC     MASS       CG  CGC INE\n#                                           INE14\n\t1\t1\tn16\t1\t12.01078\t0\t1\t10\t2\t3\t5\t6\t7\t8\n\t\t\t\t\t\t\t\t\t9\t10\t17\t18\n\t\t\t\t\t\t\t\t5\t4\t11\t12\t15\t16\n\t2\t1\tn16\t1\t12.01078\t0\t1\t9\t3\t4\t6\t7\t8\t9\n\t\t\t\t\t\t\t\t\t10\t11\t12\n\t\t\t\t\t\t\t\t5\t5\t13\t14\t17\t18\n\t3\t1\tn16\t1\t12.01078\t0\t1\t8\t4\t5\t9\t10\t11\t12\n\t\t\t\t\t\t\t\t\t13\t14\n\t\t\t\t\t\t\t\t5\t6\t7\t8\t15\t16\n\t4\t1\tn16\t1\t12.01078\t0\t1\t8\t5\t6\t11\t12\t13\t14\n\t\t\t\t\t\t\t\t\t15\t16\n\t\t\t\t\t\t\t\t4\t9\t10\t17\t18\n\t5\t1\tn16\t1\t12.01078\t0\t1\t7\t6\t13\t14\t15\t16\t17\n\t\t\t\t\t\t\t\t\t18\n\t\t\t\t\t\t\t\t4\t7\t8\t11\t12\n\t6\t1\tn16\t1\t12.01078\t0\t1\t6\t7\t8\t15\t16\t17\t18\n\t\t\t\t\t\t\t\t\n\t\t\t\t\t\t\t\t4\t9\t10\t13\t14\n\t7\t1\tn2\t2\t1.007947\t0\t1\t1\t8\n\t\t\t\t\t\t\t\t4\t9\t10\t17\t18\n\t8\t1\tn2\t2\t1.007947\t0\t1\t0\n\t\t\t\t\t\t\t\t4\t9\t10\t17\t18\n\t9\t1\tn2\t2\t1.007947\t0\t1\t1\t10\n\t\t\t\t\t\t\t\t2\t11\t12\n\t10\t1\tn2\t2\t1.007947\t0\t1\t0\n\t\t\t\t\t\t\t\t2\t11\t12\n\t11\t1\tn2\t2\t1.007947\t0\t1\t1\t12\n\t\t\t\t\t\t\t\t2\t13\t14\n\t12\t1\tn2\t2\t1.007947\t0\t1\t0\n\t\t\t\t\t\t\t\t2\t13\t14\n\t13\t1\tn2\t2\t1.007947\t0\t1\t1\t14\n\t\t\t\t\t\t\t\t2\t15\t16\n\t14\t1\tn2\t2\t1.007947\t0\t1\t0\n\t\t\t\t\t\t\t\t2\t15\t16\n\t15\t1\tn2\t2\t1.007947\t0\t1\t1\t16\n\t\t\t\t\t\t\t\t2\t17\t18\n\t16\t1\tn2\t2\t1.007947\t0\t1\t0\n\t\t\t\t\t\t\t\t2\t17\t18\n\t17\t1\tn2\t2\t1.007947\t0\t1\t1\t18\n\t\t\t\t\t\t\t\t0\n\t18\t1\tn2\t2\t1.007947\t0\t1\t0\n\t\t\t\t\t\t\t\t0\nEND\nBONDSTRETCHTYPE\n# \t NBTY: number of covalent bond types\n \t 2\n# \t CB \t CHB \t B0\n\t5.56986e+06\t2.59408e+05\t1.52600e-01\n\t1.19734e+07\t2.84512e+05\t1.09000e-01\nEND\nBONDH\n# \t NBONH: number of bonds involving H atoms in solute\n \t 12\n# \t IBH \t JBH \t ICBH\n\t1\t7\t2\n\t1\t8\t2\n\t2\t9\t2\n\t2\t10\t2\n\t3\t11\t2\n\t3\t12\t2\n\t4\t13\t2\n\t4\t14\t2\n\t5\t15\t2\n\t5\t16\t2\n\t6\t17\t2\n\t6\t18\t2\nEND\nBOND\n# \t NBON: number of bonds NOT involving H atoms in solute\n \t 6\n# \t IB \t JB \t ICB\n\t1\t2\t1\n\t1\t6\t1\n\t2\t3\t1\n\t3\t4\t1\n\t4\t5\t1\n\t5\t6\t1\nEND\nBONDANGLEBENDTYPE\n# \t NBTY: number of angle types\n \t 2\n# \t CT \t CHT \t T0\n\t0.00000e+00\t4.18400e+02\t1.09500e+02\n\t0.00000e+00\t2.92880e+02\t1.09500e+02\nEND\nBONDANGLEH\n# \t NTHEH: number of bondangles involving a H\n \t 30\n# \t ITH \t JTH \t KTH \t ICTH\n\t1\t2\t9\t1\n\t1\t2\t10\t1\n\t1\t6\t17\t1\n\t1\t6\t18\t1\n\t2\t1\t7\t1\n\t2\t1\t8\t1\n\t2\t3\t11\t1\n\t2\t3\t12\t1\n\t3\t2\t9\t1\n\t3\t2\t10\t1\n\t3\t4\t13\t1\n\t3\t4\t14\t1\n\t4\t3\t11\t1\n\t4\t3\t12\t1\n\t4\t5\t15\t1\n\t4\t5\t16\t1\n\t5\t4\t13\t1\n\t5\t4\t14\t1\n\t5\t6\t17\t1\n\t5\t6\t18\t1\n\t6\t1\t7\t1\n\t6\t1\t8\t1\n\t6\t5\t15\t1\n\t6\t5\t16\t1\n\t7\t1\t8\t2\n\t9\t2\t10\t2\n\t11\t3\t12\t2\n\t13\t4\t14\t2\n\t15\t5\t16\t2\n\t17\t6\t18\t2\nEND\nBONDANGLE\n# \t NTHE: number of angles\n \t 6\n# \t IT \t JT \t KT \t ICT\n\t1\t2\t3\t1\n\t1\t6\t5\t1\n\t2\t1\t6\t1\n\t2\t3\t4\t1\n\t3\t4\t5\t1\n\t4\t5\t6\t1\nEND\nIMPDIHEDRALTYPE\n# \t NQTY: number of improper dihedrals\n \t 0\n# \t CQ \t Q0\nEND\nIMPDIHEDRALH\n# \t NQHIH: number of improper dihedrals involving H atoms\n \t 0\n# \t IQH \t JQH \t KQH \t LQH \t ICQH\nEND\nIMPDIHEDRAL\n# \t #  NQHI: number of improper dihedrals\n \t 0\n# \t IQ \t JQ \t KQ \t LQ \t ICQ\nEND\nTORSDIHEDRALTYPE\n# \t NPTY: number of torsion dihedrals\n \t 5\n# \t CP \t PD \t NP\n\t7.53120e-01\t0.00000e+00\t3\n\t1.04600e+00\t1.80000e+02\t2\n\t8.36800e-01\t1.80000e+02\t1\n\t6.69440e-01\t0.00000e+00\t3\n\t6.27600e-01\t0.00000e+00\t3\nEND\nDIHEDRALH\n# \t NPHIH: number of torsion dihedrals involving H atoms\n \t 48\n# \t IPH \t JPH \t KPH \t LPH \t ICPH\n\t1\t2\t3\t11\t4\n\t1\t2\t3\t12\t4\n\t1\t6\t5\t15\t4\n\t1\t6\t5\t16\t4\n\t2\t1\t6\t17\t4\n\t2\t1\t6\t18\t4\n\t2\t3\t4\t13\t4\n\t2\t3\t4\t14\t4\n\t3\t2\t1\t7\t4\n\t3\t2\t1\t8\t4\n\t3\t4\t5\t15\t4\n\t3\t4\t5\t16\t4\n\t4\t3\t2\t9\t4\n\t4\t3\t2\t10\t4\n\t4\t5\t6\t17\t4\n\t4\t5\t6\t18\t4\n\t5\t4\t3\t11\t4\n\t5\t4\t3\t12\t4\n\t5\t6\t1\t7\t4\n\t5\t6\t1\t8\t4\n\t6\t1\t2\t9\t4\n\t6\t1\t2\t10\t4\n\t6\t5\t4\t13\t4\n\t6\t5\t4\t14\t4\n\t7\t1\t2\t9\t5\n\t7\t1\t2\t10\t5\n\t7\t1\t6\t17\t5\n\t7\t1\t6\t18\t5\n\t8\t1\t2\t9\t5\n\t8\t1\t2\t10\t5\n\t8\t1\t6\t17\t5\n\t8\t1\t6\t18\t5\n\t9\t2\t3\t11\t5\n\t9\t2\t3\t12\t5\n\t10\t2\t3\t11\t5\n\t10\t2\t3\t12\t5\n\t11\t3\t4\t13\t5\n\t11\t3\t4\t14\t5\n\t12\t3\t4\t13\t5\n\t12\t3\t4\t14\t5\n\t13\t4\t5\t15\t5\n\t13\t4\t5\t16\t5\n\t14\t4\t5\t15\t5\n\t14\t4\t5\t16\t5\n\t15\t5\t6\t17\t5\n\t15\t5\t6\t18\t5\n\t16\t5\t6\t17\t5\n\t16\t5\t6\t18\t5\nEND\nDIHEDRAL\n# \t NPHI: number of dihedrals NOT involving H atoms\n \t 18\n# \t IP \t JP \t KP \t LP \t ICP\n\t1\t2\t3\t4\t1\n\t1\t2\t3\t4\t2\n\t1\t2\t3\t4\t3\n\t1\t6\t5\t4\t1\n\t1\t6\t5\t4\t2\n\t1\t6\t5\t4\t3\n\t2\t1\t6\t5\t1\n\t2\t1\t6\t5\t2\n\t2\t1\t6\t5\t3\n\t2\t3\t4\t5\t1\n\t2\t3\t4\t5\t2\n\t2\t3\t4\t5\t3\n\t3\t2\t1\t6\t1\n\t3\t2\t1\t6\t2\n\t3\t2\t1\t6\t3\n\t3\t4\t5\t6\t1\n\t3\t4\t5\t6\t2\n\t3\t4\t5\t6\t3\nEND\nLJPARAMETERS\n# \t NRATT2: number of LJ interaction types = NRATT*(NRATT+1)/2\n \t 3\n# \t IAC \t JAC \t C12 \t C6 \t CS12 \t CS6\n\t1\t1\t4.364248e-06\t2.826762e-03\t0.000000e+00\t0.000000e+00\n\t1\t2\t3.704641e-07\t5.069068e-04\t0.000000e+00\t0.000000e+00\n\t2\t2\t3.144727e-08\t9.090068e-05\t0.000000e+00\t0.000000e+00\nEND\nSOLUTEMOLECULES\n1\n18\nEND\nTEMPERATUREGROUPS\n1\n18\nEND\nPRESSUREGROUPS\n1\n18\nEND\nLJEXCEPTIONS\n# This block defines special LJ-interactions based on atom numbers \n# This overrules the normal LJ-parameters (including 1-4 interactions)\n# \t NEX: number of exceptions\n \t 0\n# \t AT1 \t AT2 \t C12 \t C6\nEND\nSOLVENTATOM\n# \t NRAM: number of atoms per solvent molecule\n \t 0\n# \t I \t ANMS \t IACS \t MASS \t CGS\nEND\nSOLVENTCONSTR\n# \t NCONS: number of constraints\n \t 0\n# \t ICONS \t JCONS \t CONS\nEND\n\n"
     ]
    }
   ],
   "source": [
    "print(top5)"
   ]
  },
  {
   "cell_type": "code",
   "execution_count": 38,
   "metadata": {},
   "outputs": [
    {
     "output_type": "execute_result",
     "data": {
      "text/plain": [
       "'/home/mlehner/Documents/dev/test2.top'"
      ]
     },
     "metadata": {},
     "execution_count": 38
    }
   ],
   "source": [
    "top5.write(\"/home/mlehner/Documents/dev/test2.top\")"
   ]
  },
  {
   "cell_type": "code",
   "execution_count": 39,
   "metadata": {},
   "outputs": [],
   "source": [
    "mol2=AllChem.MolFromSmarts(\"[C:1]=C(C)C(=O)OC\")"
   ]
  },
  {
   "cell_type": "code",
   "execution_count": 40,
   "metadata": {},
   "outputs": [
    {
     "output_type": "execute_result",
     "data": {
      "text/plain": [
       "<rdkit.Chem.rdchem.Mol at 0x7fcf2c9a7350>"
      ],
      "image/png": "[encoded data removed]"
     },
     "metadata": {},
     "execution_count": 40
    }
   ],
   "source": [
    "mol2"
   ]
  },
  {
   "cell_type": "code",
   "execution_count": 41,
   "metadata": {},
   "outputs": [
    {
     "output_type": "stream",
     "name": "stdout",
     "text": [
      "6\n0\n2\n1\n----------------\n6\n1\n0\n0\n----------------\n6\n2\n3\n0\n----------------\n6\n3\n0\n0\n----------------\n8\n4\n0\n0\n----------------\n8\n5\n0\n0\n----------------\n6\n6\n3\n0\n----------------\n"
     ]
    }
   ],
   "source": [
    "for a in mol2.GetAtoms():\n",
    "    print(a.GetAtomicNum())\n",
    "    print(a.GetIdx())\n",
    "    print(a.GetTotalNumHs())\n",
    "    print(a.GetAtomMapNum())\n",
    "    print(\"----------------\")"
   ]
  },
  {
   "cell_type": "code",
   "execution_count": 42,
   "metadata": {},
   "outputs": [
    {
     "output_type": "execute_result",
     "data": {
      "text/plain": [
       "<rdkit.Chem.rdchem.Mol at 0x7fcf2c977170>"
      ],
      "image/png": "[encoded data removed]"
     },
     "metadata": {},
     "execution_count": 42
    }
   ],
   "source": [
    "AllChem.MolFromSmarts(\"[#16][#6]=[#6:1]([#6])[#8][#6]\")"
   ]
  },
  {
   "cell_type": "code",
   "execution_count": null,
   "metadata": {},
   "outputs": [],
   "source": []
  }
 ]
}
