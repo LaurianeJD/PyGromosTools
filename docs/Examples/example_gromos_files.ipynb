{
 "cells": [
  {
   "cell_type": "markdown",
   "metadata": {
    "collapsed": true,
    "pycharm": {
     "name": "#%% md\n"
    }
   },
   "source": [
    "# PyGromos File Examples"
   ]
  },
  {
   "cell_type": "code",
   "execution_count": 1,
   "metadata": {
    "collapsed": false,
    "execution": {
     "iopub.execute_input": "2021-02-28T21:03:44.888982Z",
     "iopub.status.busy": "2021-02-28T21:03:44.888456Z",
     "iopub.status.idle": "2021-02-28T21:03:44.890612Z",
     "shell.execute_reply": "2021-02-28T21:03:44.889736Z"
    },
    "pycharm": {
     "name": "#%%\n"
    }
   },
   "outputs": [],
   "source": [
    "import os, sys\n",
    "root_dir = os.getcwd()\n",
    "\n",
    "#if package is not installed and path not set correct - this helps you out :)\n",
    "sys.path.append(root_dir+\"/..\")"
   ]
  },
  {
   "cell_type": "markdown",
   "metadata": {
    "collapsed": false,
    "pycharm": {
     "name": "#%% md\n"
    }
   },
   "source": [
    "## IMD - Simulation Paramter File"
   ]
  },
  {
   "cell_type": "code",
   "execution_count": 2,
   "metadata": {
    "collapsed": false,
    "execution": {
     "iopub.execute_input": "2021-02-28T21:03:44.900590Z",
     "iopub.status.busy": "2021-02-28T21:03:44.900094Z",
     "iopub.status.idle": "2021-02-28T21:03:44.955980Z",
     "shell.execute_reply": "2021-02-28T21:03:44.956379Z"
    },
    "pycharm": {
     "name": "#%%\n"
    }
   },
   "outputs": [
    {
     "ename": "ModuleNotFoundError",
     "evalue": "No module named 'pygromos'",
     "output_type": "error",
     "traceback": [
      "\u001b[0;31m---------------------------------------------------------------------------\u001b[0m",
      "\u001b[0;31mModuleNotFoundError\u001b[0m                       Traceback (most recent call last)",
      "\u001b[0;32m<ipython-input-1-8f19e252e392>\u001b[0m in \u001b[0;36m<module>\u001b[0;34m\u001b[0m\n\u001b[0;32m----> 1\u001b[0;31m \u001b[0;32mfrom\u001b[0m \u001b[0mpygromos\u001b[0m \u001b[0;32mimport\u001b[0m \u001b[0mfiles\u001b[0m\u001b[0;34m\u001b[0m\u001b[0;34m\u001b[0m\u001b[0m\n\u001b[0m\u001b[1;32m      2\u001b[0m \u001b[0;34m\u001b[0m\u001b[0m\n\u001b[1;32m      3\u001b[0m \u001b[0min_imd\u001b[0m \u001b[0;34m=\u001b[0m \u001b[0;34m\"../pygromos/data/imd_templates/md.imd\"\u001b[0m\u001b[0;34m\u001b[0m\u001b[0;34m\u001b[0m\u001b[0m\n\u001b[1;32m      4\u001b[0m \u001b[0mout_imd\u001b[0m\u001b[0;34m=\u001b[0m\u001b[0;34m\"test.imd\"\u001b[0m\u001b[0;34m\u001b[0m\u001b[0;34m\u001b[0m\u001b[0m\n\u001b[1;32m      5\u001b[0m \u001b[0;34m\u001b[0m\u001b[0m\n",
      "\u001b[0;31mModuleNotFoundError\u001b[0m: No module named 'pygromos'"
     ]
    }
   ],
   "source": [
    "from pygromos import files\n",
    "\n",
    "in_imd = \"../pygromos/data/imd_templates/md.imd\"\n",
    "out_imd=\"test.imd\"\n",
    "\n",
    "#load\n",
    "imd = files.Imd(in_imd)\n",
    "\n",
    "#change Solvent number in system:\n",
    "imd.SYSTEM.NSM = 500\n",
    "\n",
    "#add EDS block\n",
    "imd.edit_EDS(NUMSTATES=2, S=1.0, EIR=[0.0 for x in range(2)])\n",
    "\n",
    "#get_file content:\n",
    "print(imd)\n",
    "\n",
    "#store again\n",
    "out_imd = imd.write(out_imd)"
   ]
  },
  {
   "cell_type": "markdown",
   "metadata": {
    "collapsed": false,
    "pycharm": {
     "name": "#%% md\n"
    }
   },
   "source": [
    "## CNF - Coordinate File"
   ]
  },
  {
   "cell_type": "code",
   "execution_count": 3,
   "metadata": {
    "collapsed": false,
    "execution": {
     "iopub.execute_input": "2021-02-28T21:03:44.963888Z",
     "iopub.status.busy": "2021-02-28T21:03:44.963120Z",
     "iopub.status.idle": "2021-02-28T21:03:44.970126Z",
     "shell.execute_reply": "2021-02-28T21:03:44.970654Z"
    },
    "pycharm": {
     "name": "#%%\n"
    }
   },
   "outputs": [
    {
     "ename": "ModuleNotFoundError",
     "evalue": "No module named 'pygromos'",
     "output_type": "error",
     "traceback": [
      "\u001b[0;31m---------------------------------------------------------------------------\u001b[0m",
      "\u001b[0;31mModuleNotFoundError\u001b[0m                       Traceback (most recent call last)",
      "\u001b[0;32m<ipython-input-1-eda99ae6237b>\u001b[0m in \u001b[0;36m<module>\u001b[0;34m\u001b[0m\n\u001b[1;32m      2\u001b[0m     \u001b[0mCNF\u001b[0m\u001b[0;34m\u001b[0m\u001b[0;34m\u001b[0m\u001b[0m\n\u001b[1;32m      3\u001b[0m \"\"\"\n\u001b[0;32m----> 4\u001b[0;31m \u001b[0;32mfrom\u001b[0m \u001b[0mpygromos\u001b[0m \u001b[0;32mimport\u001b[0m \u001b[0mfiles\u001b[0m\u001b[0;34m\u001b[0m\u001b[0;34m\u001b[0m\u001b[0m\n\u001b[0m\u001b[1;32m      5\u001b[0m \u001b[0;34m\u001b[0m\u001b[0m\n\u001b[1;32m      6\u001b[0m \u001b[0;31m#load_cnf\u001b[0m\u001b[0;34m\u001b[0m\u001b[0;34m\u001b[0m\u001b[0;34m\u001b[0m\u001b[0m\n",
      "\u001b[0;31mModuleNotFoundError\u001b[0m: No module named 'pygromos'"
     ]
    }
   ],
   "source": [
    "\"\"\"\n",
    "    CNF\n",
    "\"\"\"\n",
    "from pygromos import files\n",
    "\n",
    "#load_cnf\n",
    "in_cnf=\"in_dir/to/my.cnf\"\n",
    "out_cnf=\"in_dir/to/new.cnf\"\n",
    "\n",
    "cnf = files.Cnf(in_cnf)\n",
    "\n",
    "#get residues of cnf\n",
    "residues = cnf.get_residues()\n",
    "\n",
    "#Delete Residues\n",
    "delete_ligands = [\"delete ME!\"]\n",
    "for resn in delete_ligands:\n",
    "    cnf.delete_residue(resName=resn)\n",
    "\n",
    "#set new title\n",
    "cnf._blocks[\"TITLE\"].content = \"  Ligands:\\t \" + \" \".join(lig_sys) + \"\\n\"\n",
    "\n",
    "#cleaning\n",
    "cnf.clean_posiResNums()\n",
    "\n",
    "#get_file content:\n",
    "print(cnf)\n",
    "\n",
    "#store again\n",
    "out_cnf = cnf.write(out_path=out_cnf)"
   ]
  },
  {
   "cell_type": "markdown",
   "metadata": {
    "collapsed": false
   },
   "source": [
    "## TRC - Coordinate Trajectory File"
   ]
  },
  {
   "cell_type": "code",
   "execution_count": 4,
   "metadata": {
    "collapsed": false,
    "execution": {
     "iopub.execute_input": "2021-02-28T21:03:44.976236Z",
     "iopub.status.busy": "2021-02-28T21:03:44.975647Z",
     "iopub.status.idle": "2021-02-28T21:03:44.985031Z",
     "shell.execute_reply": "2021-02-28T21:03:44.984410Z"
    },
    "pycharm": {
     "name": "#%%\n"
    }
   },
   "outputs": [
    {
     "ename": "ModuleNotFoundError",
     "evalue": "No module named 'pygromos'",
     "output_type": "error",
     "traceback": [
      "\u001b[0;31m---------------------------------------------------------------------------\u001b[0m",
      "\u001b[0;31mModuleNotFoundError\u001b[0m                       Traceback (most recent call last)",
      "\u001b[0;32m<ipython-input-1-9bb6117f0d4f>\u001b[0m in \u001b[0;36m<module>\u001b[0;34m\u001b[0m\n\u001b[1;32m      1\u001b[0m \u001b[0;31m#This snippet converts multiple cnfs to a trajectory.\u001b[0m\u001b[0;34m\u001b[0m\u001b[0;34m\u001b[0m\u001b[0;34m\u001b[0m\u001b[0m\n\u001b[1;32m      2\u001b[0m \u001b[0;32mimport\u001b[0m \u001b[0mglob\u001b[0m\u001b[0;34m\u001b[0m\u001b[0;34m\u001b[0m\u001b[0m\n\u001b[0;32m----> 3\u001b[0;31m \u001b[0;32mfrom\u001b[0m \u001b[0mpygromos\u001b[0m \u001b[0;32mimport\u001b[0m \u001b[0mfiles\u001b[0m\u001b[0;34m\u001b[0m\u001b[0;34m\u001b[0m\u001b[0m\n\u001b[0m\u001b[1;32m      4\u001b[0m \u001b[0;34m\u001b[0m\u001b[0m\n\u001b[1;32m      5\u001b[0m \u001b[0min_cnfs_reg\u001b[0m \u001b[0;34m=\u001b[0m \u001b[0;34m\"*.cnf\"\u001b[0m\u001b[0;34m\u001b[0m\u001b[0;34m\u001b[0m\u001b[0m\n",
      "\u001b[0;31mModuleNotFoundError\u001b[0m: No module named 'pygromos'"
     ]
    }
   ],
   "source": [
    "#This snippet converts multiple cnfs to a trajectory.\n",
    "import glob\n",
    "from pygromos import files\n",
    "\n",
    "in_cnfs_reg = \"*.cnf\"\n",
    "out_trc_path = \"concat_cnfs.trc\"\n",
    "cnfs = glob.glob(in_cnfs_reg)\n",
    "out_trc = files.Trc.cnfs_to_trc(cnfs)\n",
    "print(out_trc)\n",
    "out_trc.write(out_trc_path)\n"
   ]
  },
  {
   "cell_type": "markdown",
   "metadata": {
    "collapsed": false,
    "pycharm": {
     "name": "#%% md\n"
    }
   },
   "source": [
    "## TOP - topology File\n"
   ]
  },
  {
   "cell_type": "markdown",
   "metadata": {
    "collapsed": false,
    "pycharm": {
     "name": "#%% md\n"
    }
   },
   "source": [
    "## Other Files\n",
    "\n",
    "### MTB - topology building block file\n",
    "\n",
    "### IFP - topology parameter file"
   ]
  },
  {
   "cell_type": "code",
   "execution_count": 5,
   "metadata": {
    "collapsed": false,
    "execution": {
     "iopub.execute_input": "2021-02-28T21:03:44.992667Z",
     "iopub.status.busy": "2021-02-28T21:03:44.991998Z",
     "iopub.status.idle": "2021-02-28T21:03:44.994624Z",
     "shell.execute_reply": "2021-02-28T21:03:44.995218Z"
    },
    "pycharm": {
     "name": "#%%\n"
    }
   },
   "outputs": [
    {
     "ename": "NameError",
     "evalue": "name 'root' is not defined",
     "output_type": "error",
     "traceback": [
      "\u001b[0;31m---------------------------------------------------------------------------\u001b[0m",
      "\u001b[0;31mNameError\u001b[0m                                 Traceback (most recent call last)",
      "\u001b[0;32m<ipython-input-1-8f263f121a84>\u001b[0m in \u001b[0;36m<module>\u001b[0;34m\u001b[0m\n\u001b[0;32m----> 1\u001b[0;31m \u001b[0mifp_path\u001b[0m \u001b[0;34m=\u001b[0m \u001b[0mroot\u001b[0m\u001b[0;34m+\u001b[0m\u001b[0;34m\"\\\\examples\\\\test\\\\54a7.ifp\"\u001b[0m\u001b[0;34m\u001b[0m\u001b[0;34m\u001b[0m\u001b[0m\n\u001b[0m\u001b[1;32m      2\u001b[0m \u001b[0;34m\u001b[0m\u001b[0m\n\u001b[1;32m      3\u001b[0m \u001b[0msys\u001b[0m\u001b[0;34m.\u001b[0m\u001b[0mpath\u001b[0m\u001b[0;34m.\u001b[0m\u001b[0mappend\u001b[0m\u001b[0;34m(\u001b[0m\u001b[0mroot\u001b[0m\u001b[0;34m+\u001b[0m\u001b[0;34m\"/../../\"\u001b[0m\u001b[0;34m)\u001b[0m\u001b[0;34m\u001b[0m\u001b[0;34m\u001b[0m\u001b[0m\n\u001b[1;32m      4\u001b[0m \u001b[0;34m\u001b[0m\u001b[0m\n\u001b[1;32m      5\u001b[0m \u001b[0;32mimport\u001b[0m \u001b[0mpygromos\u001b[0m\u001b[0;34m\u001b[0m\u001b[0;34m\u001b[0m\u001b[0m\n",
      "\u001b[0;31mNameError\u001b[0m: name 'root' is not defined"
     ]
    }
   ],
   "source": [
    "ifp_path = root+\"\\\\examples\\\\test\\\\54a7.ifp\"\n",
    "\n",
    "sys.path.append(root+\"/../../\")\n",
    "\n",
    "import pygromos\n",
    "from pygromos.files.topology import ifp\n",
    "#parse forcefield file\n",
    "myfp = ifp.ifp(ifp_path)\n",
    "myfp.write(os.getcwd()+\"/fun.ifp\")"
   ]
  },
  {
   "cell_type": "code",
   "execution_count": 6,
   "metadata": {
    "collapsed": false,
    "execution": {
     "iopub.execute_input": "2021-02-28T21:03:45.002593Z",
     "iopub.status.busy": "2021-02-28T21:03:45.001795Z",
     "iopub.status.idle": "2021-02-28T21:03:45.005754Z",
     "shell.execute_reply": "2021-02-28T21:03:45.005007Z"
    },
    "pycharm": {
     "name": "#%%\n"
    }
   },
   "outputs": [
    {
     "ename": "NameError",
     "evalue": "name 'ifp' is not defined",
     "output_type": "error",
     "traceback": [
      "\u001b[0;31m---------------------------------------------------------------------------\u001b[0m",
      "\u001b[0;31mNameError\u001b[0m                                 Traceback (most recent call last)",
      "\u001b[0;32m<ipython-input-1-95fee8347a66>\u001b[0m in \u001b[0;36m<module>\u001b[0;34m\u001b[0m\n\u001b[1;32m      1\u001b[0m \u001b[0;31m#parse output and write out again\u001b[0m\u001b[0;34m\u001b[0m\u001b[0;34m\u001b[0m\u001b[0;34m\u001b[0m\u001b[0m\n\u001b[0;32m----> 2\u001b[0;31m \u001b[0mtest\u001b[0m \u001b[0;34m=\u001b[0m \u001b[0mifp\u001b[0m\u001b[0;34m.\u001b[0m\u001b[0mifp\u001b[0m\u001b[0;34m(\u001b[0m\u001b[0mos\u001b[0m\u001b[0;34m.\u001b[0m\u001b[0mgetcwd\u001b[0m\u001b[0;34m(\u001b[0m\u001b[0;34m)\u001b[0m\u001b[0;34m+\u001b[0m\u001b[0;34m\"/fun.ifp\"\u001b[0m\u001b[0;34m)\u001b[0m\u001b[0;34m\u001b[0m\u001b[0;34m\u001b[0m\u001b[0m\n\u001b[0m\u001b[1;32m      3\u001b[0m \u001b[0;34m\u001b[0m\u001b[0m\n\u001b[1;32m      4\u001b[0m \u001b[0mtest\u001b[0m\u001b[0;34m.\u001b[0m\u001b[0mwrite\u001b[0m\u001b[0;34m(\u001b[0m\u001b[0mos\u001b[0m\u001b[0;34m.\u001b[0m\u001b[0mgetcwd\u001b[0m\u001b[0;34m(\u001b[0m\u001b[0;34m)\u001b[0m\u001b[0;34m+\u001b[0m\u001b[0;34m\"/fun.ifp\"\u001b[0m\u001b[0;34m)\u001b[0m\u001b[0;34m\u001b[0m\u001b[0;34m\u001b[0m\u001b[0m\n",
      "\u001b[0;31mNameError\u001b[0m: name 'ifp' is not defined"
     ]
    }
   ],
   "source": [
    "#parse output and write out again\n",
    "test = ifp.ifp(os.getcwd()+\"/fun.ifp\")\n",
    "\n",
    "test.write(os.getcwd()+\"/fun.ifp\")"
   ]
  },
  {
   "cell_type": "markdown",
   "metadata": {
    "collapsed": false,
    "pycharm": {
     "name": "#%% md\n"
    }
   },
   "source": [
    "### disres - distance restraint file"
   ]
  },
  {
   "cell_type": "markdown",
   "metadata": {
    "collapsed": false
   },
   "source": [
    "## PTP-Files in PyGromos\n",
    "\n",
    "Here I try to give a few example on what s possible with the ptp obj in pygromos."
   ]
  },
  {
   "cell_type": "code",
   "execution_count": 7,
   "metadata": {
    "collapsed": false,
    "execution": {
     "iopub.execute_input": "2021-02-28T21:03:45.013317Z",
     "iopub.status.busy": "2021-02-28T21:03:45.012459Z",
     "iopub.status.idle": "2021-02-28T21:03:45.015720Z",
     "shell.execute_reply": "2021-02-28T21:03:45.015112Z"
    },
    "pycharm": {
     "name": "#%%\n"
    }
   },
   "outputs": [
    {
     "ename": "ModuleNotFoundError",
     "evalue": "No module named 'pygromos'",
     "output_type": "error",
     "traceback": [
      "\u001b[0;31m---------------------------------------------------------------------------\u001b[0m",
      "\u001b[0;31mModuleNotFoundError\u001b[0m                       Traceback (most recent call last)",
      "\u001b[0;32m<ipython-input-1-a3961513f73c>\u001b[0m in \u001b[0;36m<module>\u001b[0;34m\u001b[0m\n\u001b[0;32m----> 1\u001b[0;31m \u001b[0;32mfrom\u001b[0m \u001b[0mpygromos\u001b[0m\u001b[0;34m.\u001b[0m\u001b[0mfiles\u001b[0m\u001b[0;34m.\u001b[0m\u001b[0mtopology\u001b[0m\u001b[0;34m.\u001b[0m\u001b[0mptp\u001b[0m \u001b[0;32mimport\u001b[0m \u001b[0mPertubation_topology\u001b[0m \u001b[0;32mas\u001b[0m \u001b[0mPTP\u001b[0m\u001b[0;34m\u001b[0m\u001b[0;34m\u001b[0m\u001b[0m\n\u001b[0m\u001b[1;32m      2\u001b[0m \u001b[0;32mfrom\u001b[0m \u001b[0mpygromos\u001b[0m\u001b[0;34m.\u001b[0m\u001b[0mfiles\u001b[0m\u001b[0;34m.\u001b[0m\u001b[0mblocks\u001b[0m\u001b[0;34m.\u001b[0m\u001b[0mtopology_blocks\u001b[0m \u001b[0;32mimport\u001b[0m  \u001b[0mMPERTATOM\u001b[0m\u001b[0;34m,\u001b[0m \u001b[0matom_eds_pertubation_state\u001b[0m\u001b[0;34m,\u001b[0m \u001b[0mpertubation_eds_state\u001b[0m\u001b[0;34m\u001b[0m\u001b[0;34m\u001b[0m\u001b[0m\n",
      "\u001b[0;31mModuleNotFoundError\u001b[0m: No module named 'pygromos'"
     ]
    }
   ],
   "source": [
    "from pygromos.files.topology.ptp import Pertubation_topology as PTP\n",
    "from pygromos.files.blocks.topology_blocks import  MPERTATOM, atom_eds_pertubation_state, pertubation_eds_state\n"
   ]
  },
  {
   "cell_type": "markdown",
   "metadata": {
    "collapsed": false
   },
   "source": [
    "## defining some state types for later use :)"
   ]
  },
  {
   "cell_type": "code",
   "execution_count": 8,
   "metadata": {
    "collapsed": false,
    "execution": {
     "iopub.execute_input": "2021-02-28T21:03:45.022745Z",
     "iopub.status.busy": "2021-02-28T21:03:45.022143Z",
     "iopub.status.idle": "2021-02-28T21:03:45.025338Z",
     "shell.execute_reply": "2021-02-28T21:03:45.024680Z"
    },
    "pycharm": {
     "name": "#%%\n"
    }
   },
   "outputs": [
    {
     "ename": "NameError",
     "evalue": "name 'pertubation_eds_state' is not defined",
     "output_type": "error",
     "traceback": [
      "\u001b[0;31m---------------------------------------------------------------------------\u001b[0m",
      "\u001b[0;31mNameError\u001b[0m                                 Traceback (most recent call last)",
      "\u001b[0;32m<ipython-input-1-2bc8379c7ed9>\u001b[0m in \u001b[0;36m<module>\u001b[0;34m\u001b[0m\n\u001b[0;32m----> 1\u001b[0;31m \u001b[0mdummy_type\u001b[0m \u001b[0;34m=\u001b[0m \u001b[0mpertubation_eds_state\u001b[0m\u001b[0;34m(\u001b[0m\u001b[0mIAC\u001b[0m\u001b[0;34m=\u001b[0m\u001b[0;36m22\u001b[0m\u001b[0;34m,\u001b[0m \u001b[0mCHARGE\u001b[0m\u001b[0;34m=\u001b[0m\u001b[0;36m0.0\u001b[0m\u001b[0;34m)\u001b[0m\u001b[0;34m\u001b[0m\u001b[0;34m\u001b[0m\u001b[0m\n\u001b[0m\u001b[1;32m      2\u001b[0m \u001b[0mmy_type\u001b[0m \u001b[0;34m=\u001b[0m \u001b[0mpertubation_eds_state\u001b[0m\u001b[0;34m(\u001b[0m\u001b[0mIAC\u001b[0m\u001b[0;34m=\u001b[0m\u001b[0;36m99\u001b[0m\u001b[0;34m,\u001b[0m \u001b[0mCHARGE\u001b[0m\u001b[0;34m=\u001b[0m\u001b[0;34m-\u001b[0m\u001b[0;36m1.0\u001b[0m\u001b[0;34m)\u001b[0m\u001b[0;34m\u001b[0m\u001b[0;34m\u001b[0m\u001b[0m\n",
      "\u001b[0;31mNameError\u001b[0m: name 'pertubation_eds_state' is not defined"
     ]
    }
   ],
   "source": [
    "dummy_type = pertubation_eds_state(IAC=22, CHARGE=0.0)\n",
    "my_type = pertubation_eds_state(IAC=99, CHARGE=-1.0)"
   ]
  },
  {
   "cell_type": "markdown",
   "metadata": {
    "collapsed": false
   },
   "source": [
    "## Read in ptp file:"
   ]
  },
  {
   "cell_type": "code",
   "execution_count": 9,
   "metadata": {
    "collapsed": false,
    "execution": {
     "iopub.execute_input": "2021-02-28T21:03:45.032107Z",
     "iopub.status.busy": "2021-02-28T21:03:45.031544Z",
     "iopub.status.idle": "2021-02-28T21:03:45.035132Z",
     "shell.execute_reply": "2021-02-28T21:03:45.035758Z"
    },
    "pycharm": {
     "name": "#%%\n"
    }
   },
   "outputs": [
    {
     "ename": "NameError",
     "evalue": "name 'PTP' is not defined",
     "output_type": "error",
     "traceback": [
      "\u001b[0;31m---------------------------------------------------------------------------\u001b[0m",
      "\u001b[0;31mNameError\u001b[0m                                 Traceback (most recent call last)",
      "\u001b[0;32m<ipython-input-1-8a7a5fd8808c>\u001b[0m in \u001b[0;36m<module>\u001b[0;34m\u001b[0m\n\u001b[1;32m      1\u001b[0m \u001b[0;31m#Read in ptp file:\u001b[0m\u001b[0;34m\u001b[0m\u001b[0;34m\u001b[0m\u001b[0;34m\u001b[0m\u001b[0m\n\u001b[1;32m      2\u001b[0m \u001b[0mpath\u001b[0m\u001b[0;34m=\u001b[0m \u001b[0;34m\"../pygromos/tests/testfiles/ptp/eds_short.ptp\"\u001b[0m\u001b[0;34m\u001b[0m\u001b[0;34m\u001b[0m\u001b[0m\n\u001b[0;32m----> 3\u001b[0;31m \u001b[0mptp\u001b[0m \u001b[0;34m=\u001b[0m \u001b[0mPTP\u001b[0m\u001b[0;34m(\u001b[0m\u001b[0mpath\u001b[0m\u001b[0;34m)\u001b[0m\u001b[0;34m\u001b[0m\u001b[0;34m\u001b[0m\u001b[0m\n\u001b[0m\u001b[1;32m      4\u001b[0m \u001b[0mprint\u001b[0m\u001b[0;34m(\u001b[0m\u001b[0mptp\u001b[0m\u001b[0;34m)\u001b[0m\u001b[0;34m\u001b[0m\u001b[0;34m\u001b[0m\u001b[0m\n",
      "\u001b[0;31mNameError\u001b[0m: name 'PTP' is not defined"
     ]
    }
   ],
   "source": [
    "#Read in ptp file:\n",
    "path= \"../pygromos/tests/testfiles/ptp/eds_short.ptp\"\n",
    "ptp = PTP(path)\n",
    "print(ptp)\n"
   ]
  },
  {
   "cell_type": "markdown",
   "metadata": {
    "collapsed": false
   },
   "source": [
    "## Add atom or state or overwrite atominformation (except atom.NR)"
   ]
  },
  {
   "cell_type": "code",
   "execution_count": 10,
   "metadata": {
    "collapsed": false,
    "execution": {
     "iopub.execute_input": "2021-02-28T21:03:45.048419Z",
     "iopub.status.busy": "2021-02-28T21:03:45.047648Z",
     "iopub.status.idle": "2021-02-28T21:03:45.051157Z",
     "shell.execute_reply": "2021-02-28T21:03:45.050524Z"
    },
    "pycharm": {
     "name": "#%%\n"
    }
   },
   "outputs": [
    {
     "ename": "NameError",
     "evalue": "name 'atom_eds_pertubation_state' is not defined",
     "output_type": "error",
     "traceback": [
      "\u001b[0;31m---------------------------------------------------------------------------\u001b[0m",
      "\u001b[0;31mNameError\u001b[0m                                 Traceback (most recent call last)",
      "\u001b[0;32m<ipython-input-1-e6678d33c35e>\u001b[0m in \u001b[0;36m<module>\u001b[0;34m\u001b[0m\n\u001b[0;32m----> 1\u001b[0;31m \u001b[0mnew_atoms_state\u001b[0m \u001b[0;34m=\u001b[0m \u001b[0;34m[\u001b[0m\u001b[0matom_eds_pertubation_state\u001b[0m\u001b[0;34m(\u001b[0m\u001b[0mNR\u001b[0m\u001b[0;34m=\u001b[0m\u001b[0mx\u001b[0m\u001b[0;34m,\u001b[0m \u001b[0mNAME\u001b[0m\u001b[0;34m=\u001b[0m\u001b[0;34m\"H\"\u001b[0m\u001b[0;34m,\u001b[0m \u001b[0mSTATES\u001b[0m\u001b[0;34m=\u001b[0m\u001b[0;34m{\u001b[0m\u001b[0;36m7\u001b[0m\u001b[0;34m:\u001b[0m \u001b[0mmy_type\u001b[0m\u001b[0;34m}\u001b[0m\u001b[0;34m)\u001b[0m \u001b[0;32mfor\u001b[0m \u001b[0mx\u001b[0m \u001b[0;32min\u001b[0m \u001b[0mrange\u001b[0m\u001b[0;34m(\u001b[0m\u001b[0;36m1\u001b[0m\u001b[0;34m,\u001b[0m \u001b[0;36m4\u001b[0m\u001b[0;34m)\u001b[0m\u001b[0;34m]\u001b[0m\u001b[0;34m\u001b[0m\u001b[0;34m\u001b[0m\u001b[0m\n\u001b[0m\u001b[1;32m      2\u001b[0m \u001b[0mptp\u001b[0m\u001b[0;34m.\u001b[0m\u001b[0madd_block\u001b[0m\u001b[0;34m(\u001b[0m\u001b[0mbloc\u001b[0m\u001b[0;34m=\u001b[0m\u001b[0mMPERTATOM\u001b[0m\u001b[0;34m(\u001b[0m\u001b[0mnew_atoms_state\u001b[0m\u001b[0;34m)\u001b[0m\u001b[0;34m)\u001b[0m\u001b[0;34m\u001b[0m\u001b[0;34m\u001b[0m\u001b[0m\n\u001b[1;32m      3\u001b[0m \u001b[0;34m\u001b[0m\u001b[0m\n\u001b[1;32m      4\u001b[0m \u001b[0mprint\u001b[0m\u001b[0;34m(\u001b[0m\u001b[0mptp\u001b[0m\u001b[0;34m)\u001b[0m\u001b[0;34m\u001b[0m\u001b[0;34m\u001b[0m\u001b[0m\n",
      "\u001b[0;32m<ipython-input-1-e6678d33c35e>\u001b[0m in \u001b[0;36m<listcomp>\u001b[0;34m(.0)\u001b[0m\n\u001b[0;32m----> 1\u001b[0;31m \u001b[0mnew_atoms_state\u001b[0m \u001b[0;34m=\u001b[0m \u001b[0;34m[\u001b[0m\u001b[0matom_eds_pertubation_state\u001b[0m\u001b[0;34m(\u001b[0m\u001b[0mNR\u001b[0m\u001b[0;34m=\u001b[0m\u001b[0mx\u001b[0m\u001b[0;34m,\u001b[0m \u001b[0mNAME\u001b[0m\u001b[0;34m=\u001b[0m\u001b[0;34m\"H\"\u001b[0m\u001b[0;34m,\u001b[0m \u001b[0mSTATES\u001b[0m\u001b[0;34m=\u001b[0m\u001b[0;34m{\u001b[0m\u001b[0;36m7\u001b[0m\u001b[0;34m:\u001b[0m \u001b[0mmy_type\u001b[0m\u001b[0;34m}\u001b[0m\u001b[0;34m)\u001b[0m \u001b[0;32mfor\u001b[0m \u001b[0mx\u001b[0m \u001b[0;32min\u001b[0m \u001b[0mrange\u001b[0m\u001b[0;34m(\u001b[0m\u001b[0;36m1\u001b[0m\u001b[0;34m,\u001b[0m \u001b[0;36m4\u001b[0m\u001b[0;34m)\u001b[0m\u001b[0;34m]\u001b[0m\u001b[0;34m\u001b[0m\u001b[0;34m\u001b[0m\u001b[0m\n\u001b[0m\u001b[1;32m      2\u001b[0m \u001b[0mptp\u001b[0m\u001b[0;34m.\u001b[0m\u001b[0madd_block\u001b[0m\u001b[0;34m(\u001b[0m\u001b[0mbloc\u001b[0m\u001b[0;34m=\u001b[0m\u001b[0mMPERTATOM\u001b[0m\u001b[0;34m(\u001b[0m\u001b[0mnew_atoms_state\u001b[0m\u001b[0;34m)\u001b[0m\u001b[0;34m)\u001b[0m\u001b[0;34m\u001b[0m\u001b[0;34m\u001b[0m\u001b[0m\n\u001b[1;32m      3\u001b[0m \u001b[0;34m\u001b[0m\u001b[0m\n\u001b[1;32m      4\u001b[0m \u001b[0mprint\u001b[0m\u001b[0;34m(\u001b[0m\u001b[0mptp\u001b[0m\u001b[0;34m)\u001b[0m\u001b[0;34m\u001b[0m\u001b[0;34m\u001b[0m\u001b[0m\n",
      "\u001b[0;31mNameError\u001b[0m: name 'atom_eds_pertubation_state' is not defined"
     ]
    }
   ],
   "source": [
    "new_atoms_state = [atom_eds_pertubation_state(NR=x, NAME=\"H\", STATES={7: my_type}) for x in range(1, 4)]\n",
    "ptp.add_block(bloc=MPERTATOM(new_atoms_state))\n",
    "\n",
    "print(ptp)"
   ]
  },
  {
   "cell_type": "markdown",
   "metadata": {
    "collapsed": false
   },
   "source": [
    "## delete full state"
   ]
  },
  {
   "cell_type": "code",
   "execution_count": 11,
   "metadata": {
    "collapsed": false,
    "execution": {
     "iopub.execute_input": "2021-02-28T21:03:45.057447Z",
     "iopub.status.busy": "2021-02-28T21:03:45.056848Z",
     "iopub.status.idle": "2021-02-28T21:03:45.061524Z",
     "shell.execute_reply": "2021-02-28T21:03:45.062337Z"
    },
    "pycharm": {
     "name": "#%%\n"
    }
   },
   "outputs": [
    {
     "ename": "NameError",
     "evalue": "name 'ptp' is not defined",
     "output_type": "error",
     "traceback": [
      "\u001b[0;31m---------------------------------------------------------------------------\u001b[0m",
      "\u001b[0;31mNameError\u001b[0m                                 Traceback (most recent call last)",
      "\u001b[0;32m<ipython-input-1-6ac92d8fac32>\u001b[0m in \u001b[0;36m<module>\u001b[0;34m\u001b[0m\n\u001b[0;32m----> 1\u001b[0;31m \u001b[0mptp\u001b[0m\u001b[0;34m.\u001b[0m\u001b[0mMPERTATOM\u001b[0m\u001b[0;34m.\u001b[0m\u001b[0mdelete_state\u001b[0m\u001b[0;34m(\u001b[0m\u001b[0mstateIDs\u001b[0m\u001b[0;34m=\u001b[0m\u001b[0;34m[\u001b[0m\u001b[0;36m1\u001b[0m\u001b[0;34m,\u001b[0m\u001b[0;36m3\u001b[0m\u001b[0;34m]\u001b[0m\u001b[0;34m)\u001b[0m\u001b[0;34m\u001b[0m\u001b[0;34m\u001b[0m\u001b[0m\n\u001b[0m\u001b[1;32m      2\u001b[0m \u001b[0;34m\u001b[0m\u001b[0m\n\u001b[1;32m      3\u001b[0m \u001b[0mprint\u001b[0m\u001b[0;34m(\u001b[0m\u001b[0mptp\u001b[0m\u001b[0;34m)\u001b[0m\u001b[0;34m\u001b[0m\u001b[0;34m\u001b[0m\u001b[0m\n",
      "\u001b[0;31mNameError\u001b[0m: name 'ptp' is not defined"
     ]
    }
   ],
   "source": [
    "ptp.MPERTATOM.delete_state(stateIDs=[1,3])\n",
    "\n",
    "print(ptp)"
   ]
  },
  {
   "cell_type": "markdown",
   "metadata": {
    "collapsed": false
   },
   "source": [
    "## delete specific atoms"
   ]
  },
  {
   "cell_type": "code",
   "execution_count": 12,
   "metadata": {
    "collapsed": false,
    "execution": {
     "iopub.execute_input": "2021-02-28T21:03:45.072040Z",
     "iopub.status.busy": "2021-02-28T21:03:45.071381Z",
     "iopub.status.idle": "2021-02-28T21:03:45.074406Z",
     "shell.execute_reply": "2021-02-28T21:03:45.075034Z"
    },
    "pycharm": {
     "name": "#%%\n"
    }
   },
   "outputs": [
    {
     "ename": "NameError",
     "evalue": "name 'ptp' is not defined",
     "output_type": "error",
     "traceback": [
      "\u001b[0;31m---------------------------------------------------------------------------\u001b[0m",
      "\u001b[0;31mNameError\u001b[0m                                 Traceback (most recent call last)",
      "\u001b[0;32m<ipython-input-1-d043397e2750>\u001b[0m in \u001b[0;36m<module>\u001b[0;34m\u001b[0m\n\u001b[0;32m----> 1\u001b[0;31m \u001b[0mptp\u001b[0m\u001b[0;34m.\u001b[0m\u001b[0mMPERTATOM\u001b[0m\u001b[0;34m.\u001b[0m\u001b[0mdelete_atom\u001b[0m\u001b[0;34m(\u001b[0m\u001b[0matomNR\u001b[0m\u001b[0;34m=\u001b[0m\u001b[0;34m[\u001b[0m\u001b[0;36m1\u001b[0m\u001b[0;34m,\u001b[0m\u001b[0;36m2\u001b[0m\u001b[0;34m,\u001b[0m\u001b[0;36m7\u001b[0m\u001b[0;34m,\u001b[0m\u001b[0;36m8\u001b[0m\u001b[0;34m,\u001b[0m\u001b[0;36m9\u001b[0m\u001b[0;34m]\u001b[0m\u001b[0;34m)\u001b[0m\u001b[0;34m\u001b[0m\u001b[0;34m\u001b[0m\u001b[0m\n\u001b[0m\u001b[1;32m      2\u001b[0m \u001b[0mprint\u001b[0m\u001b[0;34m(\u001b[0m\u001b[0mptp\u001b[0m\u001b[0;34m)\u001b[0m\u001b[0;34m\u001b[0m\u001b[0;34m\u001b[0m\u001b[0m\n",
      "\u001b[0;31mNameError\u001b[0m: name 'ptp' is not defined"
     ]
    }
   ],
   "source": [
    "ptp.MPERTATOM.delete_atom(atomNR=[1,2,7,8,9])\n",
    "print(ptp)"
   ]
  },
  {
   "cell_type": "markdown",
   "metadata": {
    "collapsed": false
   },
   "source": [
    "## Write out ptp file"
   ]
  },
  {
   "cell_type": "code",
   "execution_count": 13,
   "metadata": {
    "collapsed": false,
    "execution": {
     "iopub.execute_input": "2021-02-28T21:03:45.083012Z",
     "iopub.status.busy": "2021-02-28T21:03:45.079869Z",
     "iopub.status.idle": "2021-02-28T21:03:45.086156Z",
     "shell.execute_reply": "2021-02-28T21:03:45.086702Z"
    },
    "pycharm": {
     "name": "#%%\n"
    }
   },
   "outputs": [
    {
     "ename": "NameError",
     "evalue": "name 'ptp' is not defined",
     "output_type": "error",
     "traceback": [
      "\u001b[0;31m---------------------------------------------------------------------------\u001b[0m",
      "\u001b[0;31mNameError\u001b[0m                                 Traceback (most recent call last)",
      "\u001b[0;32m<ipython-input-1-0d3fd991c07b>\u001b[0m in \u001b[0;36m<module>\u001b[0;34m\u001b[0m\n\u001b[0;32m----> 1\u001b[0;31m \u001b[0mptp\u001b[0m\u001b[0;34m.\u001b[0m\u001b[0mwrite\u001b[0m\u001b[0;34m(\u001b[0m\u001b[0;34m\"fun.ptp\"\u001b[0m\u001b[0;34m)\u001b[0m\u001b[0;34m\u001b[0m\u001b[0;34m\u001b[0m\u001b[0m\n\u001b[0m",
      "\u001b[0;31mNameError\u001b[0m: name 'ptp' is not defined"
     ]
    }
   ],
   "source": [
    "ptp.write(\"fun.ptp\")"
   ]
  },
  {
   "cell_type": "markdown",
   "metadata": {
    "collapsed": false
   },
   "source": [
    "## Building ptp from scratch and generate all possible state combinations:"
   ]
  },
  {
   "cell_type": "code",
   "execution_count": 14,
   "metadata": {
    "collapsed": false,
    "execution": {
     "iopub.execute_input": "2021-02-28T21:03:45.094353Z",
     "iopub.status.busy": "2021-02-28T21:03:45.093636Z",
     "iopub.status.idle": "2021-02-28T21:03:45.097789Z",
     "shell.execute_reply": "2021-02-28T21:03:45.096957Z"
    },
    "pycharm": {
     "name": "#%%\n"
    }
   },
   "outputs": [
    {
     "ename": "NameError",
     "evalue": "name 'ptp' is not defined",
     "output_type": "error",
     "traceback": [
      "\u001b[0;31m---------------------------------------------------------------------------\u001b[0m",
      "\u001b[0;31mNameError\u001b[0m                                 Traceback (most recent call last)",
      "\u001b[0;32m<ipython-input-1-6f635a7d48fe>\u001b[0m in \u001b[0;36m<module>\u001b[0;34m\u001b[0m\n\u001b[0;32m----> 1\u001b[0;31m \u001b[0mprint\u001b[0m\u001b[0;34m(\u001b[0m\u001b[0mptp\u001b[0m\u001b[0;34m.\u001b[0m\u001b[0mMPERTATOM\u001b[0m\u001b[0;34m.\u001b[0m\u001b[0mSTATEATOMHEADER\u001b[0m\u001b[0;34m)\u001b[0m\u001b[0;34m\u001b[0m\u001b[0;34m\u001b[0m\u001b[0m\n\u001b[0m",
      "\u001b[0;31mNameError\u001b[0m: name 'ptp' is not defined"
     ]
    }
   ],
   "source": [
    "print(ptp.MPERTATOM.STATEATOMHEADER)"
   ]
  },
  {
   "cell_type": "code",
   "execution_count": 15,
   "metadata": {
    "collapsed": false,
    "execution": {
     "iopub.execute_input": "2021-02-28T21:03:45.110890Z",
     "iopub.status.busy": "2021-02-28T21:03:45.110181Z",
     "iopub.status.idle": "2021-02-28T21:03:45.191794Z",
     "shell.execute_reply": "2021-02-28T21:03:45.192286Z"
    },
    "pycharm": {
     "name": "#%%\n"
    }
   },
   "outputs": [
    {
     "ename": "ModuleNotFoundError",
     "evalue": "No module named 'pygromos'",
     "output_type": "error",
     "traceback": [
      "\u001b[0;31m---------------------------------------------------------------------------\u001b[0m",
      "\u001b[0;31mModuleNotFoundError\u001b[0m                       Traceback (most recent call last)",
      "\u001b[0;32m<ipython-input-1-cb4f5b5f7eea>\u001b[0m in \u001b[0;36m<module>\u001b[0;34m\u001b[0m\n\u001b[1;32m      1\u001b[0m \u001b[0;32mimport\u001b[0m \u001b[0mnumpy\u001b[0m \u001b[0;32mas\u001b[0m \u001b[0mnp\u001b[0m\u001b[0;34m\u001b[0m\u001b[0;34m\u001b[0m\u001b[0m\n\u001b[1;32m      2\u001b[0m \u001b[0;32mfrom\u001b[0m \u001b[0mitertools\u001b[0m \u001b[0;32mimport\u001b[0m \u001b[0mcombinations\u001b[0m\u001b[0;34m\u001b[0m\u001b[0;34m\u001b[0m\u001b[0m\n\u001b[0;32m----> 3\u001b[0;31m \u001b[0;32mfrom\u001b[0m \u001b[0mpygromos\u001b[0m\u001b[0;34m.\u001b[0m\u001b[0mfiles\u001b[0m\u001b[0;34m.\u001b[0m\u001b[0mtopology\u001b[0m\u001b[0;34m.\u001b[0m\u001b[0mptp\u001b[0m \u001b[0;32mimport\u001b[0m \u001b[0mPertubation_topology\u001b[0m \u001b[0;32mas\u001b[0m \u001b[0mPTP\u001b[0m\u001b[0;34m\u001b[0m\u001b[0;34m\u001b[0m\u001b[0m\n\u001b[0m\u001b[1;32m      4\u001b[0m \u001b[0;32mfrom\u001b[0m \u001b[0mpygromos\u001b[0m\u001b[0;34m.\u001b[0m\u001b[0mfiles\u001b[0m\u001b[0;34m.\u001b[0m\u001b[0mblocks\u001b[0m\u001b[0;34m.\u001b[0m\u001b[0mtopology_blocks\u001b[0m \u001b[0;32mimport\u001b[0m  \u001b[0matom_eds_pertubation_state\u001b[0m\u001b[0;34m,\u001b[0m \u001b[0mpertubation_eds_state\u001b[0m\u001b[0;34m\u001b[0m\u001b[0;34m\u001b[0m\u001b[0m\n\u001b[1;32m      5\u001b[0m \u001b[0;34m\u001b[0m\u001b[0m\n",
      "\u001b[0;31mModuleNotFoundError\u001b[0m: No module named 'pygromos'"
     ]
    }
   ],
   "source": [
    "import numpy as np\n",
    "from itertools import combinations\n",
    "from pygromos.files.topology.ptp import Pertubation_topology as PTP\n",
    "from pygromos.files.blocks.topology_blocks import  atom_eds_pertubation_state, pertubation_eds_state\n",
    "\n",
    "#INPUT:\n",
    "## parameters\n",
    "outpath_new_ptp = \"fun.ptp\"\n",
    "\n",
    "## the states to use:\n",
    "o_state = pertubation_eds_state(IAC=16, CHARGE=-1.0)\n",
    "h_state = pertubation_eds_state(IAC=33, CHARGE=-2.0)\n",
    "\n",
    "## Map for molecule ID with Atom IDS\n",
    "### First atom assumed to be O and last two Hs\n",
    "molecules_atoms = {1: [1,2,3],\n",
    "             2: [4,5,6],\n",
    "             3: [7,8,9],}\n",
    "\n",
    "\n",
    "#BUILD UP STATES\n",
    "## Generate active state mapping:\n",
    "max_active_mols_same_time = len(molecules_atoms)\n",
    "molecule_states={}\n",
    "state_ID=1\n",
    "for active_mols in range(1, max_active_mols_same_time+1):\n",
    "    combis = list(combinations(molecules_atoms, active_mols))\n",
    "    molecule_states.update({state_ID+ind: x for ind, x in enumerate(combis)})\n",
    "    state_ID = state_ID+len(combis)\n",
    "#gives the state number as key and all the active molecules in this state\n",
    "print(\"gives the state number as key and all the active molecules in this state\")\n",
    "print(molecule_states)\n",
    "print()\n",
    "\n",
    "#build state atoms for ptp\n",
    "new_atoms_state_dict = {}\n",
    "for state, molecules in molecule_states.items():\n",
    "    for molecule in molecules:\n",
    "        if(molecule in new_atoms_state_dict):\n",
    "            atoms = new_atoms_state_dict[molecule]\n",
    "            atoms[0].STATES.update({state: o_state})\n",
    "            atoms[1].STATES.update({state: h_state})\n",
    "            atoms[2].STATES.update({state: h_state})\n",
    "        else:\n",
    "            atoms = [atom_eds_pertubation_state(NR=molecules_atoms[molecule][0], NAME=\"O\", STATES={state: o_state}),\n",
    "                     atom_eds_pertubation_state(NR=molecules_atoms[molecule][1], NAME=\"H1\", STATES={state: h_state}) ,\n",
    "                     atom_eds_pertubation_state(NR=molecules_atoms[molecule][2], NAME=\"H2\", STATES={state: h_state})]\n",
    "            new_atoms_state_dict.update({molecule: atoms})\n",
    "\n",
    "print(\"gives the atom_perttubation states for all mols\")\n",
    "print(new_atoms_state_dict)\n",
    "print()\n",
    "\n",
    "##finally make a list for our ptp file (#ThanksGromos)\n",
    "new_atoms_state = np.concatenate(list(new_atoms_state_dict.values()))\n",
    "#print(list(map(lambda x: x.STATES, new_atoms_state)))\n",
    "\n",
    "#BUILD PTP\n",
    "ptp = PTP()\n",
    "ptp.MPERTATOM.add_state_atoms(state_atoms=new_atoms_state)\n",
    "print(ptp)\n",
    "ptp.write(outpath_new_ptp)\n",
    "\n",
    "#TADAAAAA - DONE"
   ]
  }
 ],
 "metadata": {
  "kernelspec": {
   "display_name": "Python 3",
   "language": "python",
   "name": "python3"
  },
  "language_info": {
   "codemirror_mode": {
    "name": "ipython",
    "version": 3
   },
   "file_extension": ".py",
   "mimetype": "text/x-python",
   "name": "python",
   "nbconvert_exporter": "python",
   "pygments_lexer": "ipython3",
   "version": "3.7.10"
  }
 },
 "nbformat": 4,
 "nbformat_minor": 0
}
