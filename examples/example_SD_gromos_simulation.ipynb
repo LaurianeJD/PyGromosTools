{
 "cells": [
  {
   "cell_type": "markdown",
   "metadata": {
    "collapsed": true,
    "pycharm": {
     "name": "#%% md\n"
    }
   },
   "source": [
    "# SD Simulations with Submission System\n"
   ]
  },
  {
   "cell_type": "markdown",
   "source": [
    "## Imports"
   ],
   "metadata": {
    "collapsed": false
   }
  },
  {
   "cell_type": "code",
   "execution_count": 1,
   "outputs": [
    {
     "name": "stderr",
     "output_type": "stream",
     "text": [
      "/home/bschroed/Documents/code/pygromos/pygromos/files/topology/top.py:18: UserWarning: Module topo-files is under Development and not entirely implemented!\n",
      "  warnings.warn(\"Module topo-files is under Development and not entirely implemented!\")\n"
     ]
    }
   ],
   "source": [
    "import os\n",
    "#for analysis\n",
    "import numpy as np\n",
    "from matplotlib import pyplot as plt\n",
    "%matplotlib inline\n",
    "\n",
    "import pygromos\n",
    "from pygromos.files.gromos_system import Gromos_System\n",
    "from pygromos.files.blocks import imd_blocks\n",
    "from pygromos.data.simulation_parameters_templates import template_emin"
   ],
   "metadata": {
    "collapsed": false,
    "pycharm": {
     "name": "#%%\n"
    }
   }
  },
  {
   "cell_type": "markdown",
   "source": [
    "## Input files"
   ],
   "metadata": {
    "collapsed": false,
    "pycharm": {
     "name": "#%% md\n"
    }
   }
  },
  {
   "cell_type": "code",
   "execution_count": 2,
   "outputs": [],
   "source": [
    "root_dir = project_dir = os.path.abspath(os.path.dirname(pygromos.__file__)+\"/../examples/example_files/SD_Simulation\")\n",
    "root_in_dir = root_dir+\"/SD_input\"\n",
    "cnf_path = root_in_dir+\"/6J29_unitedatom_optimised_geometry.cnf\"\n",
    "top_path = root_in_dir + \"/6J29.top\"\n",
    "sys_name = \"6J29\"\n",
    "\n",
    "#External imd_changes:\n",
    "grom_system = Gromos_System(in_cnf_path=cnf_path, in_top_path=top_path, in_imd_path=template_emin,\n",
    "                            system_name=sys_name, work_folder=root_in_dir)\n",
    "\n"
   ],
   "metadata": {
    "collapsed": false,
    "pycharm": {
     "name": "#%%\n"
    }
   }
  },
  {
   "cell_type": "markdown",
   "source": [
    "## RUN Emin"
   ],
   "metadata": {
    "collapsed": false
   }
  },
  {
   "cell_type": "code",
   "execution_count": 3,
   "outputs": [],
   "source": [
    "from pygromos.hpc_queuing.submission_systems.Submission_Systems import LOCAL as subSystem\n",
    "from pygromos.simulation_runner.simulation_building_blocks import emin\n",
    "step_name  = \"a_vacuum_emin\"\n",
    "\n",
    "#Some special adaptation\n",
    "grom_system.imd.BOUNDCOND.NTB =0\n",
    "grom_system.imd.BOUNDCOND.NDFMIN = 0\n",
    "grom_system.imd.WRITETRAJ = imd_blocks.WRITETRAJ()\n",
    "grom_system.imd.WRITETRAJ.NTWX = 100\n",
    "grom_system.imd.WRITETRAJ.NTWE = 100\n",
    "del grom_system.imd.POSITIONRES\n",
    "grom_system.adapt_imd()"
   ],
   "metadata": {
    "collapsed": false,
    "pycharm": {
     "name": "#%%\n"
    }
   }
  },
  {
   "cell_type": "code",
   "execution_count": 4,
   "outputs": [
    {
     "ename": "PicklingError",
     "evalue": "Can't pickle <class '__main__.ligands_info'>: it's not the same object as __main__.ligands_info",
     "output_type": "error",
     "traceback": [
      "\u001B[0;31m---------------------------------------------------------------------------\u001B[0m",
      "\u001B[0;31mPicklingError\u001B[0m                             Traceback (most recent call last)",
      "\u001B[0;32m<ipython-input-4-cc5ebc6e945a>\u001B[0m in \u001B[0;36m<module>\u001B[0;34m\u001B[0m\n\u001B[0;32m----> 1\u001B[0;31m \u001B[0mgrom_system\u001B[0m\u001B[0;34m.\u001B[0m\u001B[0msave\u001B[0m\u001B[0;34m(\u001B[0m\u001B[0;34m\"test.obj\"\u001B[0m\u001B[0;34m,\u001B[0m \u001B[0msafe\u001B[0m\u001B[0;34m=\u001B[0m\u001B[0;32mFalse\u001B[0m\u001B[0;34m)\u001B[0m\u001B[0;34m\u001B[0m\u001B[0;34m\u001B[0m\u001B[0m\n\u001B[0m\u001B[1;32m      2\u001B[0m \u001B[0;34m\u001B[0m\u001B[0m\n",
      "\u001B[0;32m~/Documents/code/pygromos/pygromos/files/gromos_system/gromos_system.py\u001B[0m in \u001B[0;36msave\u001B[0;34m(self, path, safe)\u001B[0m\n\u001B[1;32m    765\u001B[0m \u001B[0;34m\u001B[0m\u001B[0m\n\u001B[1;32m    766\u001B[0m         \u001B[0;32mif\u001B[0m\u001B[0;34m(\u001B[0m\u001B[0;32mnot\u001B[0m \u001B[0msafe_skip\u001B[0m\u001B[0;34m)\u001B[0m\u001B[0;34m:\u001B[0m\u001B[0;34m\u001B[0m\u001B[0;34m\u001B[0m\u001B[0m\n\u001B[0;32m--> 767\u001B[0;31m             \u001B[0mpickle\u001B[0m\u001B[0;34m.\u001B[0m\u001B[0mdump\u001B[0m\u001B[0;34m(\u001B[0m\u001B[0mobj\u001B[0m\u001B[0;34m=\u001B[0m\u001B[0mself\u001B[0m\u001B[0;34m,\u001B[0m \u001B[0mfile\u001B[0m\u001B[0;34m=\u001B[0m\u001B[0mbufferdWriter\u001B[0m\u001B[0;34m)\u001B[0m\u001B[0;34m\u001B[0m\u001B[0;34m\u001B[0m\u001B[0m\n\u001B[0m\u001B[1;32m    768\u001B[0m             \u001B[0mbufferdWriter\u001B[0m\u001B[0;34m.\u001B[0m\u001B[0mclose\u001B[0m\u001B[0;34m(\u001B[0m\u001B[0;34m)\u001B[0m\u001B[0;34m\u001B[0m\u001B[0;34m\u001B[0m\u001B[0m\n\u001B[1;32m    769\u001B[0m             \u001B[0mself\u001B[0m\u001B[0;34m.\u001B[0m\u001B[0mcheckpoint_path\u001B[0m \u001B[0;34m=\u001B[0m \u001B[0mpath\u001B[0m\u001B[0;34m\u001B[0m\u001B[0;34m\u001B[0m\u001B[0m\n",
      "\u001B[0;31mPicklingError\u001B[0m: Can't pickle <class '__main__.ligands_info'>: it's not the same object as __main__.ligands_info"
     ]
    }
   ],
   "source": [
    "grom_system.save(\"test.obj\", safe=False)"
   ],
   "metadata": {
    "collapsed": false,
    "pycharm": {
     "name": "#%%\n"
    }
   }
  },
  {
   "cell_type": "code",
   "execution_count": 5,
   "outputs": [
    {
     "ename": "EOFError",
     "evalue": "Ran out of input",
     "output_type": "error",
     "traceback": [
      "\u001B[0;31m---------------------------------------------------------------------------\u001B[0m",
      "\u001B[0;31mEOFError\u001B[0m                                  Traceback (most recent call last)",
      "\u001B[0;32m<ipython-input-5-0810bc48c5bc>\u001B[0m in \u001B[0;36m<module>\u001B[0;34m\u001B[0m\n\u001B[0;32m----> 1\u001B[0;31m \u001B[0mgrom_system\u001B[0m \u001B[0;34m=\u001B[0m \u001B[0mGromos_System\u001B[0m\u001B[0;34m.\u001B[0m\u001B[0mload\u001B[0m\u001B[0;34m(\u001B[0m\u001B[0;34m\"test.obj\"\u001B[0m\u001B[0;34m)\u001B[0m\u001B[0;34m\u001B[0m\u001B[0;34m\u001B[0m\u001B[0m\n\u001B[0m\u001B[1;32m      2\u001B[0m \u001B[0;34m\u001B[0m\u001B[0m\n",
      "\u001B[0;32m~/Documents/code/pygromos/pygromos/files/gromos_system/gromos_system.py\u001B[0m in \u001B[0;36mload\u001B[0;34m(cls, path)\u001B[0m\n\u001B[1;32m    772\u001B[0m             \u001B[0;32mraise\u001B[0m \u001B[0mIOError\u001B[0m\u001B[0;34m(\u001B[0m\u001B[0;34m\"Please give as parameter a path:str or a File Buffer.\"\u001B[0m\u001B[0;34m)\u001B[0m\u001B[0;34m\u001B[0m\u001B[0;34m\u001B[0m\u001B[0m\n\u001B[1;32m    773\u001B[0m \u001B[0;34m\u001B[0m\u001B[0m\n\u001B[0;32m--> 774\u001B[0;31m         \u001B[0mobj\u001B[0m \u001B[0;34m=\u001B[0m \u001B[0mpickle\u001B[0m\u001B[0;34m.\u001B[0m\u001B[0mload\u001B[0m\u001B[0;34m(\u001B[0m\u001B[0mfile\u001B[0m\u001B[0;34m=\u001B[0m\u001B[0mbufferedReader\u001B[0m\u001B[0;34m)\u001B[0m\u001B[0;34m\u001B[0m\u001B[0;34m\u001B[0m\u001B[0m\n\u001B[0m\u001B[1;32m    775\u001B[0m \u001B[0;34m\u001B[0m\u001B[0m\n\u001B[1;32m    776\u001B[0m         \u001B[0mbufferedReader\u001B[0m\u001B[0;34m.\u001B[0m\u001B[0mclose\u001B[0m\u001B[0;34m(\u001B[0m\u001B[0;34m)\u001B[0m\u001B[0;34m\u001B[0m\u001B[0;34m\u001B[0m\u001B[0m\n",
      "\u001B[0;31mEOFError\u001B[0m: Ran out of input"
     ]
    }
   ],
   "source": [
    "grom_system = Gromos_System.load(\"test.obj\")"
   ],
   "metadata": {
    "collapsed": false,
    "pycharm": {
     "name": "#%%\n"
    }
   }
  },
  {
   "cell_type": "code",
   "execution_count": 10,
   "outputs": [
    {
     "data": {
      "text/plain": "OrderedDict([('names', ['6J29']),\n             ('number', 1),\n             ('positions', [1]),\n             ('number_of_atoms', 27)])"
     },
     "execution_count": 10,
     "metadata": {},
     "output_type": "execute_result"
    }
   ],
   "source": [
    "grom_system.ligand_info._asdict()"
   ],
   "metadata": {
    "collapsed": false,
    "pycharm": {
     "name": "#%%\n"
    }
   }
  },
  {
   "cell_type": "code",
   "execution_count": 8,
   "outputs": [
    {
     "name": "stdout",
     "output_type": "stream",
     "text": [
      "################################################################################\n",
      "\n",
      "a_vacuum_emin\n",
      "################################################################################\n",
      "\n",
      "Script:  /home/bschroed/Documents/code/pygromos/pygromos/hpc_queuing/job_scheduling/schedulers/simulation_scheduler.py\n",
      "################################################################################\n",
      "Simulation PREPERATION\n",
      "################################################################################\n",
      "\n",
      "\n",
      "\n",
      "################################################################################\n",
      "Simulation Setup:\n",
      "################################################################################\n",
      "\n",
      "steps_per_run:  3000\n",
      "equis:  0\n",
      "simulation runs:  1\n",
      "\n",
      "ChainSubmission - a_vacuum_emin\n",
      "==============================\n",
      "\n",
      "\n",
      " submit  a_vacuum_emin_1\n",
      "________________________________________\n",
      "\n",
      "PREVIOUS ID:  None\n",
      "#####################################################################################\n",
      "\t\tERROR in Submission\n",
      "#####################################################################################\n"
     ]
    },
    {
     "name": "stderr",
     "output_type": "stream",
     "text": [
      "/home/bschroed/Documents/code/pygromos/pygromos/hpc_queuing/submission_systems/Submission_Systems.py:632: UserWarning: Queue search was called, but no queue present!\n",
      "  warnings.warn(\"Queue search was called, but no queue present!\")\n",
      "Traceback (most recent call last):\n",
      "  File \"/home/bschroed/Documents/code/pygromos/pygromos/hpc_queuing/submission_systems/Submission_Systems.py\", line 538, in submit_to_queue\n",
      "    process = bash.execute(command=command, catch_STD=True)\n",
      "  File \"/home/bschroed/Documents/code/pygromos/pygromos/utils/bash.py\", line 805, in execute\n",
      "    return execute_subprocess(command=command, verbose=verbose, catch_STD=catch_STD)\n",
      "  File \"/home/bschroed/Documents/code/pygromos/pygromos/utils/bash.py\", line 719, in execute_subprocess\n",
      "    p.wait() # Wait for process to finish\n",
      "  File \"/home/bschroed/anaconda3/envs/pygromos/lib/python3.7/subprocess.py\", line 1019, in wait\n",
      "    return self._wait(timeout=timeout)\n",
      "  File \"/home/bschroed/anaconda3/envs/pygromos/lib/python3.7/subprocess.py\", line 1653, in _wait\n",
      "    (pid, sts) = self._try_wait(0)\n",
      "  File \"/home/bschroed/anaconda3/envs/pygromos/lib/python3.7/subprocess.py\", line 1611, in _try_wait\n",
      "    (pid, sts) = os.waitpid(self.pid, wait_flags)\n",
      "KeyboardInterrupt\n",
      "\n",
      "During handling of the above exception, another exception occurred:\n",
      "\n",
      "Traceback (most recent call last):\n",
      "  File \"/home/bschroed/Documents/code/pygromos/pygromos/hpc_queuing/job_scheduling/schedulers/simulation_scheduler.py\", line 152, in do\n",
      "    verbose = job_verb)\n",
      "  File \"/home/bschroed/Documents/code/pygromos/pygromos/hpc_queuing/job_scheduling/schedulers/scheduler_functions.py\", line 186, in chain_submission\n",
      "    nmpi=nmpi, end_mail=True, verbose=verbose)\n",
      "  File \"/home/bschroed/Documents/code/pygromos/pygromos/hpc_queuing/submission_systems/Submission_Systems.py\", line 553, in submit_to_queue\n",
      "    str(command))\n",
      "ChildProcessError: command failed: \n",
      "/home/bschroed/Documents/code/pygromos/examples/example_files/SD_Simulation/a_vacuum_emin/simulation/a_vacuum_emin_1/job_a_vacuum_emin_1.sh\n"
     ]
    },
    {
     "data": {
      "text/plain": "\nGROMOS SYSTEM: a_vacuum_emin\n################################################################################\nWORKDIR: /home/bschroed/Documents/code/pygromos/examples/example_files/SD_Simulation/a_vacuum_emin/input\nLAST CHECKPOINT: None\nFILES: \n\timd: /home/bschroed/Documents/code/pygromos/examples/example_files/SD_Simulation/a_vacuum_emin/input/a_vacuum_emin.imd\n\ttop: /home/bschroed/Documents/code/pygromos/examples/example_files/SD_Simulation/a_vacuum_emin/input/a_vacuum_emin.top\n\tcnf: /home/bschroed/Documents/code/pygromos/examples/example_files/SD_Simulation/a_vacuum_emin/analysis/data/a_vacuum_emin.cnf\nFUTURE PROMISE: True\nSYSTEM: \n\tLIGANDS:\t['6J29']  resID: [1]  natoms: 27\n\tPROTEIN:\t  nresidues: 0 natoms: 0\n\tNon-LIGANDS:\t[]  nmolecules: 0  natoms: 0\n\tSOLVENT:\t[]  nmolecules: 0  natoms: 0\n\n"
     },
     "execution_count": 8,
     "metadata": {},
     "output_type": "execute_result"
    }
   ],
   "source": [
    "emin_gromos_system, jobID = emin(in_gromos_system=grom_system, project_dir=project_dir,\n",
    "                          step_name=step_name, submission_system=subSystem, in_imd_path=None)\n",
    "emin_gromos_system\n"
   ],
   "metadata": {
    "collapsed": false,
    "pycharm": {
     "name": "#%%\n"
    }
   }
  },
  {
   "cell_type": "code",
   "execution_count": 5,
   "outputs": [
    {
     "name": "stdout",
     "output_type": "stream",
     "text": [
      "ligands_info(names=['6J29'], number=1, positions=[1], number_of_atoms=27)\n"
     ]
    }
   ],
   "source": [
    "t = emin_gromos_system.ligand_info\n",
    "print(t)"
   ],
   "metadata": {
    "collapsed": false,
    "pycharm": {
     "name": "#%%\n"
    }
   }
  },
  {
   "cell_type": "code",
   "execution_count": 6,
   "outputs": [
    {
     "data": {
      "text/plain": "\nGROMOS SYSTEM: a_vacuum_emin\n################################################################################\nworkDir: /home/bschroed/Documents/code/pygromos/examples/example_files/SD_Simulation/a_vacuum_emin/input\nFiles: \n\timd: /home/bschroed/Documents/code/pygromos/examples/example_files/SD_Simulation/a_vacuum_emin/input/a_vacuum_emin.imd\n\ttop: /home/bschroed/Documents/code/pygromos/examples/example_files/SD_Simulation/a_vacuum_emin/input/a_vacuum_emin.top\n\tcnf: /home/bschroed/Documents/code/pygromos/examples/example_files/SD_Simulation/a_vacuum_emin/analysis/data/a_vacuum_emin.cnf\nFuture promise: True\n\n"
     },
     "execution_count": 6,
     "metadata": {},
     "output_type": "execute_result"
    }
   ],
   "source": [
    "emin_gromos_system"
   ],
   "metadata": {
    "collapsed": false,
    "pycharm": {
     "name": "#%%\n"
    }
   }
  },
  {
   "cell_type": "markdown",
   "source": [
    "## RUN SD Simulation"
   ],
   "metadata": {
    "collapsed": false
   }
  },
  {
   "cell_type": "code",
   "execution_count": 7,
   "outputs": [
    {
     "name": "stdout",
     "output_type": "stream",
     "text": [
      "b_vacuum_sd\n",
      "{'imd': '/home/bschroed/Documents/code/pygromos/pygromos/data/imd_templates/vacuum_sd.imd', 'top': '/home/bschroed/Documents/code/pygromos/examples/example_files/SD_Simulation/b_vacuum_sd/input/a_vacuum_emin.top', 'cnf': '/home/bschroed/Documents/code/pygromos/examples/example_files/SD_Simulation/b_vacuum_sd/input/a_vacuum_emin.cnf'}\n",
      "{'imd': '/home/bschroed/Documents/code/pygromos/examples/example_files/SD_Simulation/b_vacuum_sd/input/b_vacuum_sd.imd', 'top': '/home/bschroed/Documents/code/pygromos/examples/example_files/SD_Simulation/b_vacuum_sd/input/b_vacuum_sd.top', 'cnf': '/home/bschroed/Documents/code/pygromos/examples/example_files/SD_Simulation/b_vacuum_sd/input/b_vacuum_sd.cnf'}\n",
      "Script:  /home/bschroed/Documents/code/pygromos/pygromos/hpc_queuing/job_scheduling/schedulers/MD_simulation_scheduler.py\n",
      "################################################################################\n",
      "Simulation PREPERATION\n",
      "################################################################################\n",
      "\n",
      "\n",
      "\n",
      "################################################################################\n",
      "Simulation Setup:\n",
      "################################################################################\n",
      "\n",
      "steps_per_run:  100\n",
      "equis:  1\n",
      "simulation runs:  3\n",
      "\n",
      "ChainSubmission - eq_b_vacuum_sd\n",
      "==============================\n",
      "\n",
      "\n",
      " submit  b_vacuum_sd_eq_1\n",
      "________________________________________\n",
      "\n",
      "/home/bschroed/Documents/code/pygromos/examples/example_files/SD_Simulation/b_vacuum_sd/simulation/eq_b_vacuum_sd_1/eq_b_vacuum_sd_1.cnf\n",
      "/home/bschroed/Documents/code/pygromos/examples/example_files/SD_Simulation/b_vacuum_sd/simulation/eq_b_vacuum_sd_1/eq_b_vacuum_sd_1.cnf\n",
      "\n",
      "ChainSubmission - b_vacuum_sd\n",
      "==============================\n",
      "\n",
      "\n",
      " submit  b_vacuum_sd_2\n",
      "________________________________________\n",
      "\n",
      "/home/bschroed/Documents/code/pygromos/examples/example_files/SD_Simulation/b_vacuum_sd/simulation/b_vacuum_sd_2/b_vacuum_sd_2.cnf\n",
      "/home/bschroed/Documents/code/pygromos/examples/example_files/SD_Simulation/b_vacuum_sd/simulation/b_vacuum_sd_2/b_vacuum_sd_2.cnf\n",
      "\n",
      " submit  b_vacuum_sd_3\n",
      "________________________________________\n",
      "\n",
      "/home/bschroed/Documents/code/pygromos/examples/example_files/SD_Simulation/b_vacuum_sd/simulation/b_vacuum_sd_3/b_vacuum_sd_3.cnf\n",
      "/home/bschroed/Documents/code/pygromos/examples/example_files/SD_Simulation/b_vacuum_sd/simulation/b_vacuum_sd_3/b_vacuum_sd_3.cnf\n",
      "\n",
      " submit  b_vacuum_sd_4\n",
      "________________________________________\n",
      "\n",
      "/home/bschroed/Documents/code/pygromos/examples/example_files/SD_Simulation/b_vacuum_sd/simulation/b_vacuum_sd_4/b_vacuum_sd_4.cnf\n",
      "/home/bschroed/Documents/code/pygromos/examples/example_files/SD_Simulation/b_vacuum_sd/simulation/b_vacuum_sd_4/b_vacuum_sd_4.cnf\n",
      "################################################################################\n",
      "\n",
      " submit Final AnaLysis part \n",
      "\n",
      "/home/bschroed/Documents/code/pygromos/examples/example_files/SD_Simulation/b_vacuum_sd/ana_out.log\n",
      "/home/bschroed/Documents/code/pygromos/examples/example_files/SD_Simulation/b_vacuum_sd/job_analysis.py\n",
      "ANA jobID: 0\n"
     ]
    },
    {
     "data": {
      "text/plain": "\nGROMOS SYSTEM: b_vacuum_sd\n################################################################################\nworkDir: /home/bschroed/Documents/code/pygromos/examples/example_files/SD_Simulation/b_vacuum_sd/input\nFiles: \n\timd: /home/bschroed/Documents/code/pygromos/examples/example_files/SD_Simulation/b_vacuum_sd/input/b_vacuum_sd.imd\n\ttop: /home/bschroed/Documents/code/pygromos/examples/example_files/SD_Simulation/b_vacuum_sd/input/b_vacuum_sd.top\n\tcnf: /home/bschroed/Documents/code/pygromos/examples/example_files/SD_Simulation/b_vacuum_sd/analysis/data/b_vacuum_sd.cnf\nFuture promise: True\n\n"
     },
     "execution_count": 7,
     "metadata": {},
     "output_type": "execute_result"
    }
   ],
   "source": [
    "from pygromos.simulation_runner.simulation_building_blocks import sd\n",
    "\n",
    "step_name  = \"b_vacuum_sd\"\n",
    "\n",
    "sd_gromos_system, jobID  = sd(in_gromos_system=grom_system, project_dir=project_dir,\n",
    "                              step_name=step_name, submission_system=subSystem,\n",
    "                      equilibration_runs=1, simulation_runs=3)\n",
    "sd_gromos_system\n",
    "\n"
   ],
   "metadata": {
    "collapsed": false,
    "pycharm": {
     "name": "#%%\n"
    }
   }
  },
  {
   "cell_type": "markdown",
   "source": [
    "## Further Analysis:\n",
    "Transform the trc into a pdb traj to check it out with pymol :!)"
   ],
   "metadata": {
    "collapsed": false,
    "pycharm": {
     "name": "#%% md\n"
    }
   }
  },
  {
   "cell_type": "code",
   "execution_count": 8,
   "outputs": [],
   "source": [
    "#final analysis dir:\n",
    "from pygromos.utils import bash\n",
    "\n",
    "out_ana = project_dir+\"/c_ana\"\n",
    "if(not os.path.exists(out_ana)):\n",
    "    bash.make_folder(out_ana)"
   ],
   "metadata": {
    "collapsed": false,
    "pycharm": {
     "name": "#%%\n"
    }
   }
  },
  {
   "cell_type": "code",
   "execution_count": 9,
   "outputs": [
    {
     "data": {
      "text/plain": "Trajectory: \n\tRead from hdf save \n\tContains only database\n\t\nType: \n\tTrc\nFrames: \t300\t Columns:\t29\n"
     },
     "execution_count": 9,
     "metadata": {},
     "output_type": "execute_result"
    }
   ],
   "source": [
    "from pygromos.files.trajectory.trc import Trc\n",
    "\n",
    "in_path=project_dir+\"/b_vacuum_sd/analysis/data/b_vacuum_sd.trc.h5\"\n",
    "\n",
    "trc = Trc(input_value=in_path)\n",
    "trc.write_pdb(out_ana+\"/sd_traj.pdb\", cnf_file=cnf_path)#grom_system.cnf.path)\n",
    "trc"
   ],
   "metadata": {
    "collapsed": false,
    "pycharm": {
     "name": "#%%\n"
    }
   }
  },
  {
   "cell_type": "code",
   "execution_count": 10,
   "outputs": [
    {
     "data": {
      "text/plain": "Trajectory: \n\tRead from hdf save \n\tContains only database\n\t\nType: \n\tTre\nFrames: \t300\t Columns:\t16\n"
     },
     "execution_count": 10,
     "metadata": {},
     "output_type": "execute_result"
    }
   ],
   "source": [
    "from pygromos.files.trajectory.tre import Tre\n",
    "in_path=project_dir+\"/b_vacuum_sd/analysis/data/b_vacuum_sd.tre.h5\"\n",
    "\n",
    "tre = Tre(input_value=in_path)\n",
    "tre\n",
    "\n"
   ],
   "metadata": {
    "collapsed": false,
    "pycharm": {
     "name": "#%%\n"
    }
   }
  },
  {
   "cell_type": "code",
   "execution_count": 12,
   "outputs": [
    {
     "data": {
      "text/plain": "<Figure size 432x288 with 1 Axes>",
      "image/png": "[encoded data removed]"
     },
     "metadata": {
      "needs_background": "light"
     },
     "output_type": "display_data"
    }
   ],
   "source": [
    "#Plot Potential Energies\n",
    "V_tot = np.array(list(map(lambda x: x[2], tre.database.totals)))\n",
    "step = len(tre.database.TIMESTEP_time)//10\n",
    "\n",
    "plt.plot(tre.database.TIMESTEP_time, V_tot)\n",
    "plt.xticks(np.round(list(tre.database.TIMESTEP_time[::step]),2))\n",
    "plt.xlabel(\"$t~[ps]$\")\n",
    "plt.ylabel(\"$V~[kJ]$\")\n",
    "plt.title(\"V total timeseries\")\n",
    "plt.savefig(out_ana+\"/potential_energy_timeseries.png\")"
   ],
   "metadata": {
    "collapsed": false,
    "pycharm": {
     "name": "#%%\n"
    }
   }
  },
  {
   "cell_type": "code",
   "execution_count": 8,
   "outputs": [],
   "source": [],
   "metadata": {
    "collapsed": false,
    "pycharm": {
     "name": "#%%\n"
    }
   }
  }
 ],
 "metadata": {
  "kernelspec": {
   "display_name": "Python 3",
   "language": "python",
   "name": "python3"
  },
  "language_info": {
   "codemirror_mode": {
    "name": "ipython",
    "version": 2
   },
   "file_extension": ".py",
   "mimetype": "text/x-python",
   "name": "python",
   "nbconvert_exporter": "python",
   "pygments_lexer": "ipython2",
   "version": "2.7.6"
  }
 },
 "nbformat": 4,
 "nbformat_minor": 0
}