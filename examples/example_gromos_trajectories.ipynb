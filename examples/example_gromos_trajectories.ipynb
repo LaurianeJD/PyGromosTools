{
 "cells": [
  {
   "cell_type": "markdown",
   "metadata": {},
   "source": [
    "# Gromos Trajectory evaluation with Pygromos and Pandas\n",
    "\n",
    "## Example file for the evaluation of GROMOS trajectory files in pygromos"
   ]
  },
  {
   "cell_type": "markdown",
   "metadata": {},
   "source": [
    "1. Analysis of a GROMOS trc file (position trajectory)\n",
    "    1. Import\n",
    "    2. Common Functions\n",
    "2. Analysis of a GROMOS tre file (energy trajectory)\n",
    "    1. Import\n",
    "    2. Common Functions"
   ]
  },
  {
   "cell_type": "code",
   "execution_count": 2,
   "metadata": {
    "pycharm": {
     "is_executing": true
    }
   },
   "outputs": [],
   "source": [
    "# general imports for manual data manipulations. Not needed if only provided functions are used\n",
    "import numpy as np\n",
    "import pandas as pd"
   ]
  },
  {
   "cell_type": "code",
   "execution_count": 3,
   "metadata": {},
   "outputs": [
    {
     "name": "stdout",
     "output_type": "stream",
     "text": [
      "0\ttotene\n",
      "1\ttotkin\n",
      "2\ttotpot\n",
      "3\ttotcov\n",
      "4\ttotbond\n",
      "5\ttotangle\n",
      "6\ttotimproper\n",
      "7\ttotdihedral\n",
      "8\ttotcrossdihedral\n",
      "9\ttotnonbonded\n",
      "10\ttotlj\n",
      "11\ttotcrf\n",
      "12\ttotls\n",
      "13\ttotlspair\n",
      "14\ttotlsreal\n",
      "15\ttotlsk\n",
      "16\ttotlsa\n",
      "17\ttotlsself\n",
      "18\ttotlssurf\n",
      "19\ttotpolself\n",
      "20\ttotspecial\n",
      "21\ttotsasa\n",
      "22\ttotsasavol\n",
      "23\ttotconstraint\n",
      "24\ttotdisres\n",
      "25\ttotdisfieldres\n",
      "26\ttotdihres\n",
      "27\ttotposres\n",
      "28\ttotjval\n",
      "29\ttotxray\n",
      "30\ttotle\n",
      "31\ttotorder\n",
      "32\ttotsymm\n",
      "33\teds_vr,entropy\n",
      "34\ttotqm\n",
      "35\ttotbsleus\n",
      "36\ttotrdc\n",
      "37\twip1\n",
      "38\twip2\n",
      "39\twip3\n",
      "40\twip4\n",
      "41\twip5\n",
      "42\twip6\n"
     ]
    }
   ],
   "source": [
    "\n",
    "#specific imports from pygromos for trc and tre file support\n",
    "import pygromos.files.trajectory.trc as traj_trc\n",
    "import pygromos.files.trajectory.tre as traj_tre\n",
    "\n"
   ]
  },
  {
   "cell_type": "markdown",
   "metadata": {},
   "source": [
    "## 1) TRC"
   ]
  },
  {
   "cell_type": "markdown",
   "metadata": {},
   "source": [
    "### 1.1) TRC import"
   ]
  },
  {
   "cell_type": "code",
   "execution_count": 4,
   "metadata": {},
   "outputs": [
    {
     "name": "stderr",
     "output_type": "stream",
     "text": [
      "/cluster/work/igc/wsalome/anaconda3/envs/pygromos/lib/python3.7/site-packages/pandas/core/generic.py:2621: PerformanceWarning: \n",
      "your performance may suffer as PyTables will pickle object types that it cannot\n",
      "map directly to c-types [inferred_type->mixed,key->block2_values] [items->Index(['POS_1', 'POS_2', 'POS_3', 'POS_4', 'POS_5', 'POS_6', 'POS_7', 'POS_8',\n",
      "       'POS_9', 'POS_10', 'POS_11', 'POS_12', 'POS_13', 'POS_14', 'POS_15',\n",
      "       'POS_16', 'POS_17', 'POS_18'],\n",
      "      dtype='object')]\n",
      "\n",
      "  encoding=encoding,\n"
     ]
    }
   ],
   "source": [
    "# import the trajectory file into a Trc class\n",
    "trc = traj_trc.Trc(input_value=\"example_files/Traj_files/test_CHE_vacuum_sd.trc\")"
   ]
  },
  {
   "cell_type": "markdown",
   "metadata": {},
   "source": [
    "The Trc class offers the normal gromos block structure and additionally a pandas DataFrame called database where all the timesteps are stored.\n",
    "For typical trc files the only classic block is the TITLE block, and all the other blocks are stored inside the database.\n",
    "\n",
    "Additionally many common functions are offered to evaluate the given data. If a needed function is not provided, the normal pandas syntax can be used to create custom functions.\n",
    "\n",
    "If you have a function that's generally useful, please contact the developers to possibly add it to the pygromos code to help other people :)"
   ]
  },
  {
   "cell_type": "code",
   "execution_count": 5,
   "metadata": {},
   "outputs": [
    {
     "data": {
      "text/plain": [
       "['TITLE',\n",
       " 'add_traj',\n",
       " 'database',\n",
       " 'get_atom_movement_length_mean',\n",
       " 'get_atom_movement_length_series',\n",
       " 'get_atom_movement_length_total',\n",
       " 'get_atom_movement_series',\n",
       " 'get_atom_pair_distance_mean',\n",
       " 'get_atom_pair_distance_series',\n",
       " 'get_cog_movement_total_series_for_atom_group',\n",
       " 'get_cog_movement_vector_series_for_atom_group',\n",
       " 'get_pdb',\n",
       " 'path',\n",
       " 'radial_distribution',\n",
       " 'rmsd',\n",
       " 'visualize',\n",
       " 'write',\n",
       " 'write_pdb']"
      ]
     },
     "execution_count": 5,
     "metadata": {},
     "output_type": "execute_result"
    }
   ],
   "source": [
    "[x for x in dir(trc) if not x.startswith(\"_\")]"
   ]
  },
  {
   "cell_type": "markdown",
   "metadata": {},
   "source": [
    "### 1.2) Common trc functions"
   ]
  },
  {
   "cell_type": "code",
   "execution_count": 6,
   "metadata": {},
   "outputs": [
    {
     "data": {
      "text/plain": [
       "0.03803161677595912"
      ]
     },
     "execution_count": 6,
     "metadata": {},
     "output_type": "execute_result"
    }
   ],
   "source": [
    "# Get the average movement length between two frames\n",
    "trc.get_atom_movement_length_mean(atomI=1)"
   ]
  },
  {
   "cell_type": "code",
   "execution_count": 7,
   "metadata": {},
   "outputs": [
    {
     "data": {
      "text/plain": [
       "0.029597332762906308"
      ]
     },
     "execution_count": 7,
     "metadata": {},
     "output_type": "execute_result"
    }
   ],
   "source": [
    "# Or get the center of mass movement for a whole group of atoms. The atoms are provided as numbers in a list.\n",
    "trc.get_cog_movement_total_series_for_atom_group(atoms=[1,2,5]).mean()"
   ]
  },
  {
   "cell_type": "code",
   "execution_count": 8,
   "metadata": {},
   "outputs": [
    {
     "data": {
      "text/plain": [
       "0.15259971796798974"
      ]
     },
     "execution_count": 8,
     "metadata": {},
     "output_type": "execute_result"
    }
   ],
   "source": [
    "# Get the average distance between two atoms over all time frames\n",
    "trc.get_atom_pair_distance_mean(atomI=1, atomJ=2)"
   ]
  },
  {
   "cell_type": "markdown",
   "metadata": {},
   "source": [
    "#### RMSD"
   ]
  },
  {
   "cell_type": "code",
   "execution_count": 9,
   "metadata": {},
   "outputs": [],
   "source": [
    "# Calculate the rmsd to the initial frame (0th frame).\n",
    "# Alternatively a different trajectory can be provide as argument to the rmsd function.\n",
    "# The accepted arguments are integer or single trajectory frame.\n",
    "rmsd = trc.rmsd(0)"
   ]
  },
  {
   "cell_type": "code",
   "execution_count": 10,
   "metadata": {},
   "outputs": [
    {
     "data": {
      "text/plain": [
       "0      0.000000\n",
       "1      0.029114\n",
       "2      0.090643\n",
       "3      0.136652\n",
       "4      0.143205\n",
       "         ...   \n",
       "413    0.469253\n",
       "414    0.473791\n",
       "415    0.516979\n",
       "416    0.510561\n",
       "417    0.542082\n",
       "Length: 418, dtype: float64"
      ]
     },
     "execution_count": 10,
     "metadata": {},
     "output_type": "execute_result"
    }
   ],
   "source": [
    "# Which returns the rmsd for every time frame to the initial frame.\n",
    "# It can be seen how the rmsd slowly gets larger as the simulations get farther away from the initial setup.\n",
    "rmsd"
   ]
  },
  {
   "cell_type": "code",
   "execution_count": 11,
   "metadata": {},
   "outputs": [
    {
     "data": {
      "text/plain": [
       "0.45100360300648046"
      ]
     },
     "execution_count": 11,
     "metadata": {},
     "output_type": "execute_result"
    }
   ],
   "source": [
    "# The mean over all frames can be easily taken with the pandas function mean()\n",
    "rmsd.mean()"
   ]
  },
  {
   "cell_type": "markdown",
   "metadata": {},
   "source": [
    "#### RDF"
   ]
  },
  {
   "cell_type": "code",
   "execution_count": 12,
   "metadata": {},
   "outputs": [],
   "source": [
    "# This functionality is still under development"
   ]
  },
  {
   "cell_type": "markdown",
   "metadata": {},
   "source": [
    "## 2) TRE"
   ]
  },
  {
   "cell_type": "markdown",
   "metadata": {},
   "source": [
    "### 2.1) Tre import and structure"
   ]
  },
  {
   "cell_type": "code",
   "execution_count": 12,
   "metadata": {},
   "outputs": [
    {
     "name": "stderr",
     "output_type": "stream",
     "text": [
      "/cluster/work/igc/wsalome/anaconda3/envs/pygromos/lib/python3.7/site-packages/pandas/core/generic.py:2621: PerformanceWarning: \n",
      "your performance may suffer as PyTables will pickle object types that it cannot\n",
      "map directly to c-types [inferred_type->mixed,key->block2_values] [items->Index(['totals', 'baths', 'bonded', 'nonbonded', 'special', 'eds', 'mass',\n",
      "       'temperature', 'volume', 'pressure'],\n",
      "      dtype='object')]\n",
      "\n",
      "  encoding=encoding,\n"
     ]
    }
   ],
   "source": [
    "# import the trajectory file into a Tre class\n",
    "from pygromos.files.trajectory.tre_field_libs.ene_fields import gromos_2015_tre_block_names_table\n",
    "\n",
    "tre = traj_tre.Tre(input_value=\"example_files/Traj_files/test_CHE_H2O_bilayer.tre\", _ene_ana_names=gromos_2015_tre_block_names_table)"
   ]
  },
  {
   "cell_type": "code",
   "execution_count": 13,
   "metadata": {
    "jupyter": {
     "outputs_hidden": false
    },
    "pycharm": {
     "name": "#%%\n"
    }
   },
   "outputs": [
    {
     "data": {
      "text/html": [
       "<div>\n",
       "<style scoped>\n",
       "    .dataframe tbody tr th:only-of-type {\n",
       "        vertical-align: middle;\n",
       "    }\n",
       "\n",
       "    .dataframe tbody tr th {\n",
       "        vertical-align: top;\n",
       "    }\n",
       "\n",
       "    .dataframe thead th {\n",
       "        text-align: right;\n",
       "    }\n",
       "</style>\n",
       "<table border=\"1\" class=\"dataframe\">\n",
       "  <thead>\n",
       "    <tr style=\"text-align: right;\">\n",
       "      <th></th>\n",
       "      <th>TIMESTEP_step</th>\n",
       "      <th>TIMESTEP_time</th>\n",
       "      <th>totals</th>\n",
       "      <th>baths</th>\n",
       "      <th>bonded</th>\n",
       "      <th>nonbonded</th>\n",
       "      <th>special</th>\n",
       "      <th>eds</th>\n",
       "      <th>mass</th>\n",
       "      <th>temperature</th>\n",
       "      <th>volume</th>\n",
       "      <th>pressure</th>\n",
       "    </tr>\n",
       "  </thead>\n",
       "  <tbody>\n",
       "    <tr>\n",
       "      <th>0</th>\n",
       "      <td>0</td>\n",
       "      <td>0.0</td>\n",
       "      <td>[-408806.2436, 393521.852, -802328.0956, 13840...</td>\n",
       "      <td>[[99739.83003, 29519.49412, 70220.33591], [293...</td>\n",
       "      <td>[[0.0, 49931.35526, 0.0, 88472.52195, 0.0]]</td>\n",
       "      <td>[[984602.6158, -1925334.589, 0.0, 0.0]]</td>\n",
       "      <td>[[0.0, 0.0, 0.0, 0.0, 0.0, 0.0, 0.0, 0.0, 0.0,...</td>\n",
       "      <td>[0.0]</td>\n",
       "      <td>[1277287.736]</td>\n",
       "      <td>[[296.2008302, 350.6569429, 278.0450574, 1.000...</td>\n",
       "      <td>[2425.07286, 8.463596169, 0.0, 0.0, 0.0, 8.463...</td>\n",
       "      <td>[29.98293036, 94773.2037, 131128.599, 30.37611...</td>\n",
       "    </tr>\n",
       "    <tr>\n",
       "      <th>1</th>\n",
       "      <td>1000</td>\n",
       "      <td>2.0</td>\n",
       "      <td>[-411576.4224, 392980.7347, -804557.157, 13955...</td>\n",
       "      <td>[[99960.45845, 29481.77196, 70478.6865], [2930...</td>\n",
       "      <td>[[0.0, 50409.38587, 0.0, 89141.04865, 0.0]]</td>\n",
       "      <td>[[988489.6284, -1932597.22, 0.0, 0.0]]</td>\n",
       "      <td>[[0.0, 0.0, 0.0, 0.0, 0.0, 0.0, 0.0, 0.0, 0.0,...</td>\n",
       "      <td>[0.0]</td>\n",
       "      <td>[1277287.736]</td>\n",
       "      <td>[[296.8560381, 350.2088478, 279.0680247, 1.000...</td>\n",
       "      <td>[2425.07286, 8.463596169, 0.0, 0.0, 0.0, 8.463...</td>\n",
       "      <td>[32.10481199, 92112.53213, 131040.7862, 26.183...</td>\n",
       "    </tr>\n",
       "    <tr>\n",
       "      <th>2</th>\n",
       "      <td>2000</td>\n",
       "      <td>4.0</td>\n",
       "      <td>[-409167.9172, 392370.1191, -801538.0363, 1389...</td>\n",
       "      <td>[[100096.9564, 29163.29693, 70933.65948], [292...</td>\n",
       "      <td>[[0.0, 50155.81989, 0.0, 88764.59053, 0.0]]</td>\n",
       "      <td>[[983688.8106, -1924147.257, 0.0, 0.0]]</td>\n",
       "      <td>[[0.0, 0.0, 0.0, 0.0, 0.0, 0.0, 0.0, 0.0, 0.0,...</td>\n",
       "      <td>[0.0]</td>\n",
       "      <td>[1277287.736]</td>\n",
       "      <td>[[297.2614008, 346.4257383, 280.8695397, 0.999...</td>\n",
       "      <td>[2425.07286, 8.463596169, 0.0, 0.0, 0.0, 8.463...</td>\n",
       "      <td>[28.23515616, 96520.43393, 130756.5894, 30.172...</td>\n",
       "    </tr>\n",
       "    <tr>\n",
       "      <th>3</th>\n",
       "      <td>3000</td>\n",
       "      <td>6.0</td>\n",
       "      <td>[-408468.813, 392911.3266, -801380.1396, 13890...</td>\n",
       "      <td>[[100572.3051, 29097.77284, 71474.53225], [292...</td>\n",
       "      <td>[[0.0, 50205.91055, 0.0, 88694.38663, 0.0]]</td>\n",
       "      <td>[[984891.3076, -1925171.744, 0.0, 0.0]]</td>\n",
       "      <td>[[0.0, 0.0, 0.0, 0.0, 0.0, 0.0, 0.0, 0.0, 0.0,...</td>\n",
       "      <td>[0.0]</td>\n",
       "      <td>[1277287.736]</td>\n",
       "      <td>[[298.6730603, 345.647389, 283.0111843, 1.0000...</td>\n",
       "      <td>[2425.07286, 8.463596169, 0.0, 0.0, 0.0, 8.463...</td>\n",
       "      <td>[28.79320593, 96009.21744, 130922.0286, 24.551...</td>\n",
       "    </tr>\n",
       "    <tr>\n",
       "      <th>4</th>\n",
       "      <td>4000</td>\n",
       "      <td>8.0</td>\n",
       "      <td>[-409322.7261, 391652.3813, -800975.1074, 1398...</td>\n",
       "      <td>[[100279.2719, 28656.33854, 71622.93335], [291...</td>\n",
       "      <td>[[0.0, 50608.00218, 0.0, 89216.65927, 0.0]]</td>\n",
       "      <td>[[980597.3587, -1921397.128, 0.0, 0.0]]</td>\n",
       "      <td>[[0.0, 0.0, 0.0, 0.0, 0.0, 0.0, 0.0, 0.0, 0.0,...</td>\n",
       "      <td>[0.0]</td>\n",
       "      <td>[1277287.736]</td>\n",
       "      <td>[[297.8028294, 340.4036676, 283.5987946, 0.999...</td>\n",
       "      <td>[2425.07286, 8.463596169, 0.0, 0.0, 0.0, 8.463...</td>\n",
       "      <td>[24.7954137, 100472.9563, 130538.2987, 27.3050...</td>\n",
       "    </tr>\n",
       "    <tr>\n",
       "      <th>5</th>\n",
       "      <td>5000</td>\n",
       "      <td>10.0</td>\n",
       "      <td>[-409060.5321, 391503.6168, -800564.1489, 1401...</td>\n",
       "      <td>[[99621.54627, 28465.00254, 71156.54373], [291...</td>\n",
       "      <td>[[0.0, 50668.20147, 0.0, 89507.19113, 0.0]]</td>\n",
       "      <td>[[980518.6316, -1921258.173, 0.0, 0.0]]</td>\n",
       "      <td>[[0.0, 0.0, 0.0, 0.0, 0.0, 0.0, 0.0, 0.0, 0.0,...</td>\n",
       "      <td>[0.0]</td>\n",
       "      <td>[1277287.736]</td>\n",
       "      <td>[[295.8495588, 338.1308206, 281.7520741, 1.000...</td>\n",
       "      <td>[2425.07286, 8.463596169, 0.0, 0.0, 0.0, 8.463...</td>\n",
       "      <td>[24.44895665, 100856.1354, 130501.386, 20.8121...</td>\n",
       "    </tr>\n",
       "    <tr>\n",
       "      <th>6</th>\n",
       "      <td>6000</td>\n",
       "      <td>12.0</td>\n",
       "      <td>[-407724.5301, 393376.3395, -801100.8696, 1399...</td>\n",
       "      <td>[[100618.1056, 29001.93804, 71616.16754], [292...</td>\n",
       "      <td>[[0.0, 50612.96859, 0.0, 89338.70979, 0.0]]</td>\n",
       "      <td>[[980975.7104, -1922028.258, 0.0, 0.0]]</td>\n",
       "      <td>[[0.0, 0.0, 0.0, 0.0, 0.0, 0.0, 0.0, 0.0, 0.0,...</td>\n",
       "      <td>[0.0]</td>\n",
       "      <td>[1277287.736]</td>\n",
       "      <td>[[298.8090756, 344.5089841, 283.5720046, 0.999...</td>\n",
       "      <td>[2425.07286, 8.463596169, 0.0, 0.0, 0.0, 8.463...</td>\n",
       "      <td>[24.88400774, 100946.7969, 131119.5628, 21.646...</td>\n",
       "    </tr>\n",
       "    <tr>\n",
       "      <th>7</th>\n",
       "      <td>7000</td>\n",
       "      <td>14.0</td>\n",
       "      <td>[-406045.9433, 393472.141, -799518.0842, 14009...</td>\n",
       "      <td>[[101200.4734, 29288.55636, 71911.91706], [292...</td>\n",
       "      <td>[[0.0, 50652.38951, 0.0, 89438.21007, 0.0]]</td>\n",
       "      <td>[[979207.7071, -1918816.391, 0.0, 0.0]]</td>\n",
       "      <td>[[0.0, 0.0, 0.0, 0.0, 0.0, 0.0, 0.0, 0.0, 0.0,...</td>\n",
       "      <td>[0.0]</td>\n",
       "      <td>[1277287.736]</td>\n",
       "      <td>[[300.5385535, 347.9136733, 284.743057, 1.0000...</td>\n",
       "      <td>[2425.07286, 8.463596169, 0.0, 0.0, 0.0, 8.463...</td>\n",
       "      <td>[22.9661595, 103318.3573, 131165.6623, 27.4988...</td>\n",
       "    </tr>\n",
       "    <tr>\n",
       "      <th>8</th>\n",
       "      <td>8000</td>\n",
       "      <td>16.0</td>\n",
       "      <td>[-408499.0398, 391678.3093, -800177.3491, 1397...</td>\n",
       "      <td>[[100402.1573, 28648.71805, 71753.43928], [291...</td>\n",
       "      <td>[[0.0, 50465.54724, 0.0, 89294.44028, 0.0]]</td>\n",
       "      <td>[[977305.7837, -1917243.12, 0.0, 0.0]]</td>\n",
       "      <td>[[0.0, 0.0, 0.0, 0.0, 0.0, 0.0, 0.0, 0.0, 0.0,...</td>\n",
       "      <td>[0.0]</td>\n",
       "      <td>[1277287.736]</td>\n",
       "      <td>[[298.1677666, 340.3131452, 284.115547, 0.9999...</td>\n",
       "      <td>[2425.07286, 8.463596169, 0.0, 0.0, 0.0, 8.463...</td>\n",
       "      <td>[19.87564957, 106444.6562, 130544.6054, 14.226...</td>\n",
       "    </tr>\n",
       "    <tr>\n",
       "      <th>9</th>\n",
       "      <td>9000</td>\n",
       "      <td>18.0</td>\n",
       "      <td>[-406991.4101, 392482.0724, -799473.4824, 1399...</td>\n",
       "      <td>[[100192.0289, 28084.21204, 72107.81681], [292...</td>\n",
       "      <td>[[0.0, 50693.74147, 0.0, 89209.25341, 0.0]]</td>\n",
       "      <td>[[976722.0947, -1916098.572, 0.0, 0.0]]</td>\n",
       "      <td>[[0.0, 0.0, 0.0, 0.0, 0.0, 0.0, 0.0, 0.0, 0.0,...</td>\n",
       "      <td>[0.0]</td>\n",
       "      <td>[1277287.736]</td>\n",
       "      <td>[[297.5437407, 333.6074763, 285.5187434, 1.000...</td>\n",
       "      <td>[2425.07286, 8.463596169, 0.0, 0.0, 0.0, 8.463...</td>\n",
       "      <td>[18.24226614, 108700.5608, 130819.9731, 21.832...</td>\n",
       "    </tr>\n",
       "  </tbody>\n",
       "</table>\n",
       "</div>"
      ],
      "text/plain": [
       "   TIMESTEP_step  TIMESTEP_time  \\\n",
       "0              0            0.0   \n",
       "1           1000            2.0   \n",
       "2           2000            4.0   \n",
       "3           3000            6.0   \n",
       "4           4000            8.0   \n",
       "5           5000           10.0   \n",
       "6           6000           12.0   \n",
       "7           7000           14.0   \n",
       "8           8000           16.0   \n",
       "9           9000           18.0   \n",
       "\n",
       "                                              totals  \\\n",
       "0  [-408806.2436, 393521.852, -802328.0956, 13840...   \n",
       "1  [-411576.4224, 392980.7347, -804557.157, 13955...   \n",
       "2  [-409167.9172, 392370.1191, -801538.0363, 1389...   \n",
       "3  [-408468.813, 392911.3266, -801380.1396, 13890...   \n",
       "4  [-409322.7261, 391652.3813, -800975.1074, 1398...   \n",
       "5  [-409060.5321, 391503.6168, -800564.1489, 1401...   \n",
       "6  [-407724.5301, 393376.3395, -801100.8696, 1399...   \n",
       "7  [-406045.9433, 393472.141, -799518.0842, 14009...   \n",
       "8  [-408499.0398, 391678.3093, -800177.3491, 1397...   \n",
       "9  [-406991.4101, 392482.0724, -799473.4824, 1399...   \n",
       "\n",
       "                                               baths  \\\n",
       "0  [[99739.83003, 29519.49412, 70220.33591], [293...   \n",
       "1  [[99960.45845, 29481.77196, 70478.6865], [2930...   \n",
       "2  [[100096.9564, 29163.29693, 70933.65948], [292...   \n",
       "3  [[100572.3051, 29097.77284, 71474.53225], [292...   \n",
       "4  [[100279.2719, 28656.33854, 71622.93335], [291...   \n",
       "5  [[99621.54627, 28465.00254, 71156.54373], [291...   \n",
       "6  [[100618.1056, 29001.93804, 71616.16754], [292...   \n",
       "7  [[101200.4734, 29288.55636, 71911.91706], [292...   \n",
       "8  [[100402.1573, 28648.71805, 71753.43928], [291...   \n",
       "9  [[100192.0289, 28084.21204, 72107.81681], [292...   \n",
       "\n",
       "                                        bonded  \\\n",
       "0  [[0.0, 49931.35526, 0.0, 88472.52195, 0.0]]   \n",
       "1  [[0.0, 50409.38587, 0.0, 89141.04865, 0.0]]   \n",
       "2  [[0.0, 50155.81989, 0.0, 88764.59053, 0.0]]   \n",
       "3  [[0.0, 50205.91055, 0.0, 88694.38663, 0.0]]   \n",
       "4  [[0.0, 50608.00218, 0.0, 89216.65927, 0.0]]   \n",
       "5  [[0.0, 50668.20147, 0.0, 89507.19113, 0.0]]   \n",
       "6  [[0.0, 50612.96859, 0.0, 89338.70979, 0.0]]   \n",
       "7  [[0.0, 50652.38951, 0.0, 89438.21007, 0.0]]   \n",
       "8  [[0.0, 50465.54724, 0.0, 89294.44028, 0.0]]   \n",
       "9  [[0.0, 50693.74147, 0.0, 89209.25341, 0.0]]   \n",
       "\n",
       "                                 nonbonded  \\\n",
       "0  [[984602.6158, -1925334.589, 0.0, 0.0]]   \n",
       "1   [[988489.6284, -1932597.22, 0.0, 0.0]]   \n",
       "2  [[983688.8106, -1924147.257, 0.0, 0.0]]   \n",
       "3  [[984891.3076, -1925171.744, 0.0, 0.0]]   \n",
       "4  [[980597.3587, -1921397.128, 0.0, 0.0]]   \n",
       "5  [[980518.6316, -1921258.173, 0.0, 0.0]]   \n",
       "6  [[980975.7104, -1922028.258, 0.0, 0.0]]   \n",
       "7  [[979207.7071, -1918816.391, 0.0, 0.0]]   \n",
       "8   [[977305.7837, -1917243.12, 0.0, 0.0]]   \n",
       "9  [[976722.0947, -1916098.572, 0.0, 0.0]]   \n",
       "\n",
       "                                             special    eds           mass  \\\n",
       "0  [[0.0, 0.0, 0.0, 0.0, 0.0, 0.0, 0.0, 0.0, 0.0,...  [0.0]  [1277287.736]   \n",
       "1  [[0.0, 0.0, 0.0, 0.0, 0.0, 0.0, 0.0, 0.0, 0.0,...  [0.0]  [1277287.736]   \n",
       "2  [[0.0, 0.0, 0.0, 0.0, 0.0, 0.0, 0.0, 0.0, 0.0,...  [0.0]  [1277287.736]   \n",
       "3  [[0.0, 0.0, 0.0, 0.0, 0.0, 0.0, 0.0, 0.0, 0.0,...  [0.0]  [1277287.736]   \n",
       "4  [[0.0, 0.0, 0.0, 0.0, 0.0, 0.0, 0.0, 0.0, 0.0,...  [0.0]  [1277287.736]   \n",
       "5  [[0.0, 0.0, 0.0, 0.0, 0.0, 0.0, 0.0, 0.0, 0.0,...  [0.0]  [1277287.736]   \n",
       "6  [[0.0, 0.0, 0.0, 0.0, 0.0, 0.0, 0.0, 0.0, 0.0,...  [0.0]  [1277287.736]   \n",
       "7  [[0.0, 0.0, 0.0, 0.0, 0.0, 0.0, 0.0, 0.0, 0.0,...  [0.0]  [1277287.736]   \n",
       "8  [[0.0, 0.0, 0.0, 0.0, 0.0, 0.0, 0.0, 0.0, 0.0,...  [0.0]  [1277287.736]   \n",
       "9  [[0.0, 0.0, 0.0, 0.0, 0.0, 0.0, 0.0, 0.0, 0.0,...  [0.0]  [1277287.736]   \n",
       "\n",
       "                                         temperature  \\\n",
       "0  [[296.2008302, 350.6569429, 278.0450574, 1.000...   \n",
       "1  [[296.8560381, 350.2088478, 279.0680247, 1.000...   \n",
       "2  [[297.2614008, 346.4257383, 280.8695397, 0.999...   \n",
       "3  [[298.6730603, 345.647389, 283.0111843, 1.0000...   \n",
       "4  [[297.8028294, 340.4036676, 283.5987946, 0.999...   \n",
       "5  [[295.8495588, 338.1308206, 281.7520741, 1.000...   \n",
       "6  [[298.8090756, 344.5089841, 283.5720046, 0.999...   \n",
       "7  [[300.5385535, 347.9136733, 284.743057, 1.0000...   \n",
       "8  [[298.1677666, 340.3131452, 284.115547, 0.9999...   \n",
       "9  [[297.5437407, 333.6074763, 285.5187434, 1.000...   \n",
       "\n",
       "                                              volume  \\\n",
       "0  [2425.07286, 8.463596169, 0.0, 0.0, 0.0, 8.463...   \n",
       "1  [2425.07286, 8.463596169, 0.0, 0.0, 0.0, 8.463...   \n",
       "2  [2425.07286, 8.463596169, 0.0, 0.0, 0.0, 8.463...   \n",
       "3  [2425.07286, 8.463596169, 0.0, 0.0, 0.0, 8.463...   \n",
       "4  [2425.07286, 8.463596169, 0.0, 0.0, 0.0, 8.463...   \n",
       "5  [2425.07286, 8.463596169, 0.0, 0.0, 0.0, 8.463...   \n",
       "6  [2425.07286, 8.463596169, 0.0, 0.0, 0.0, 8.463...   \n",
       "7  [2425.07286, 8.463596169, 0.0, 0.0, 0.0, 8.463...   \n",
       "8  [2425.07286, 8.463596169, 0.0, 0.0, 0.0, 8.463...   \n",
       "9  [2425.07286, 8.463596169, 0.0, 0.0, 0.0, 8.463...   \n",
       "\n",
       "                                            pressure  \n",
       "0  [29.98293036, 94773.2037, 131128.599, 30.37611...  \n",
       "1  [32.10481199, 92112.53213, 131040.7862, 26.183...  \n",
       "2  [28.23515616, 96520.43393, 130756.5894, 30.172...  \n",
       "3  [28.79320593, 96009.21744, 130922.0286, 24.551...  \n",
       "4  [24.7954137, 100472.9563, 130538.2987, 27.3050...  \n",
       "5  [24.44895665, 100856.1354, 130501.386, 20.8121...  \n",
       "6  [24.88400774, 100946.7969, 131119.5628, 21.646...  \n",
       "7  [22.9661595, 103318.3573, 131165.6623, 27.4988...  \n",
       "8  [19.87564957, 106444.6562, 130544.6054, 14.226...  \n",
       "9  [18.24226614, 108700.5608, 130819.9731, 21.832...  "
      ]
     },
     "execution_count": 13,
     "metadata": {},
     "output_type": "execute_result"
    }
   ],
   "source": [
    "tre.database"
   ]
  },
  {
   "cell_type": "code",
   "execution_count": 15,
   "metadata": {},
   "outputs": [
    {
     "data": {
      "text/plain": [
       "['ENEVERSION',\n",
       " 'TITLE',\n",
       " 'add_traj',\n",
       " 'database',\n",
       " 'get_Hvap',\n",
       " 'get_density',\n",
       " 'get_eds',\n",
       " 'get_precalclam',\n",
       " 'get_temperature',\n",
       " 'get_totals',\n",
       " 'get_totals_bonded',\n",
       " 'get_totals_nonbonded',\n",
       " 'get_totals_total',\n",
       " 'path',\n",
       " 'tre_block_name_table',\n",
       " 'write']"
      ]
     },
     "execution_count": 15,
     "metadata": {},
     "output_type": "execute_result"
    }
   ],
   "source": [
    "[x for x in dir(tre) if not x.startswith(\"_\")]"
   ]
  },
  {
   "cell_type": "markdown",
   "metadata": {},
   "source": [
    "Tre files contain all energy related data (like split up energy terms, temperature, pressure, .....). In PyGromos they generally share the same block structure as other files, but all the data inside the specific timesteps is stored efficiently inside a pandas DataFrame, here called tre.database . This database offers manipulation with all pandas functions. Alternatively many common functions are provided inside the Tre class. \n",
    "\n",
    "This class should in principle replace further usage of the gromos++ ene_ana function, since all these operation can be done efficiently on the pandas DataFrame. \n",
    "\n",
    "We are currently working on adding more common functions to the Tre class. If you find a useful function please contact the developers so the function can be added for general usage :)"
   ]
  },
  {
   "cell_type": "markdown",
   "metadata": {},
   "source": [
    "### 2.2) Common Tre functions"
   ]
  },
  {
   "cell_type": "code",
   "execution_count": 16,
   "outputs": [
    {
     "data": {
      "text/plain": [
       "874.6182260652407"
      ]
     },
     "execution_count": 16,
     "metadata": {},
     "output_type": "execute_result"
    }
   ],
   "source": [
    "# calculate the average density over all timesteps\n",
    "tre.get_density().mean()"
   ]
  },
  {
   "cell_type": "code",
   "execution_count": 17,
   "metadata": {},
   "outputs": [
    {
     "data": {
      "text/plain": [
       "array([297.7702854 , 297.71343093])"
      ]
     },
     "execution_count": 17,
     "metadata": {},
     "output_type": "execute_result"
    }
   ],
   "source": [
    "# calculate the mean temperature over all frames for all baths in the system. In this example two baths with slightly different temperatures.\n",
    "tre.get_temperature().mean()"
   ]
  },
  {
   "cell_type": "markdown",
   "metadata": {},
   "source": [
    "Tables and lists inside the database are stored in numpy arrays. For example the two temperatures from the previous example are stored in a numpy array of size 2 since it has two temperature baths"
   ]
  },
  {
   "cell_type": "markdown",
   "metadata": {},
   "source": [
    "Specific values inside a tre file can also be directly accessed with numpy and pandas syntax"
   ]
  },
  {
   "cell_type": "code",
   "execution_count": 18,
   "metadata": {},
   "outputs": [
    {
     "data": {
      "text/plain": [
       "TIMESTEP_step                                                 2000\n",
       "TIMESTEP_time                                                  4.0\n",
       "totals           [-409167.9172, 392370.1191, -801538.0363, 1389...\n",
       "baths            [[100096.9564, 29163.29693, 70933.65948], [292...\n",
       "bonded                 [[0.0, 50155.81989, 0.0, 88764.59053, 0.0]]\n",
       "nonbonded                  [[983688.8106, -1924147.257, 0.0, 0.0]]\n",
       "special          [[0.0, 0.0, 0.0, 0.0, 0.0, 0.0, 0.0, 0.0, 0.0,...\n",
       "eds                                                          [0.0]\n",
       "mass                                                 [1277287.736]\n",
       "temperature      [[297.2614008, 346.4257383, 280.8695397, 0.999...\n",
       "volume           [2425.07286, 8.463596169, 0.0, 0.0, 0.0, 8.463...\n",
       "pressure         [28.23515616, 96520.43393, 130756.5894, 30.172...\n",
       "Name: 2, dtype: object"
      ]
     },
     "execution_count": 18,
     "metadata": {},
     "output_type": "execute_result"
    }
   ],
   "source": [
    "tre.database.iloc[2]"
   ]
  },
  {
   "cell_type": "code",
   "execution_count": 19,
   "metadata": {},
   "outputs": [
    {
     "data": {
      "text/plain": [
       "0    984602.6158\n",
       "1    988489.6284\n",
       "2    983688.8106\n",
       "3    984891.3076\n",
       "4    980597.3587\n",
       "5    980518.6316\n",
       "6    980975.7104\n",
       "7    979207.7071\n",
       "8    977305.7837\n",
       "9    976722.0947\n",
       "Name: nonbonded, dtype: float64"
      ]
     },
     "execution_count": 19,
     "metadata": {},
     "output_type": "execute_result"
    }
   ],
   "source": [
    "# select the first nonbonded energy value for the first force group over all time frames\n",
    "tre.database[\"nonbonded\"].apply(lambda x: x[0][0])"
   ]
  },
  {
   "cell_type": "code",
   "execution_count": 20,
   "metadata": {
    "pycharm": {
     "name": "#%%\n"
    }
   },
   "outputs": [
    {
     "name": "stdout",
     "output_type": "stream",
     "text": [
      "(38,) [ -408806.2436    393521.852    -802328.0956    138403.8772\n",
      "        0.         49931.35526        0.         88472.52195\n",
      "        0.       -940731.9728    984602.6158  -1925334.589\n",
      "        0.             0.             0.             0.\n",
      "        0.             0.             0.             0.\n",
      "        0.             0.             0.             0.\n",
      "        0.             0.             0.             0.\n",
      "        0.             0.             0.             0.\n",
      "        0.             0.             0.             0.\n",
      "        0.             0.     ]\n"
     ]
    },
    {
     "ename": "ValueError",
     "evalue": "Shape of passed values is (10, 38), indices imply (10, 43)",
     "output_type": "error",
     "traceback": [
      "\u001b[0;31m---------------------------------------------------------------------------\u001b[0m",
      "\u001b[0;31mValueError\u001b[0m                                Traceback (most recent call last)",
      "\u001b[0;32m/cluster/work/igc/wsalome/anaconda3/envs/pygromos/lib/python3.7/site-packages/pandas/core/internals/managers.py\u001b[0m in \u001b[0;36mcreate_block_manager_from_blocks\u001b[0;34m(blocks, axes)\u001b[0m\n\u001b[1;32m   1675\u001b[0m                     make_block(\n\u001b[0;32m-> 1676\u001b[0;31m                         \u001b[0mvalues\u001b[0m\u001b[0;34m=\u001b[0m\u001b[0mblocks\u001b[0m\u001b[0;34m[\u001b[0m\u001b[0;36m0\u001b[0m\u001b[0;34m]\u001b[0m\u001b[0;34m,\u001b[0m \u001b[0mplacement\u001b[0m\u001b[0;34m=\u001b[0m\u001b[0mslice\u001b[0m\u001b[0;34m(\u001b[0m\u001b[0;36m0\u001b[0m\u001b[0;34m,\u001b[0m \u001b[0mlen\u001b[0m\u001b[0;34m(\u001b[0m\u001b[0maxes\u001b[0m\u001b[0;34m[\u001b[0m\u001b[0;36m0\u001b[0m\u001b[0;34m]\u001b[0m\u001b[0;34m)\u001b[0m\u001b[0;34m)\u001b[0m\u001b[0;34m,\u001b[0m \u001b[0mndim\u001b[0m\u001b[0;34m=\u001b[0m\u001b[0;36m2\u001b[0m\u001b[0;34m\u001b[0m\u001b[0;34m\u001b[0m\u001b[0m\n\u001b[0m\u001b[1;32m   1677\u001b[0m                     )\n",
      "\u001b[0;32m/cluster/work/igc/wsalome/anaconda3/envs/pygromos/lib/python3.7/site-packages/pandas/core/internals/blocks.py\u001b[0m in \u001b[0;36mmake_block\u001b[0;34m(values, placement, klass, ndim, dtype)\u001b[0m\n\u001b[1;32m   2741\u001b[0m \u001b[0;34m\u001b[0m\u001b[0m\n\u001b[0;32m-> 2742\u001b[0;31m     \u001b[0;32mreturn\u001b[0m \u001b[0mklass\u001b[0m\u001b[0;34m(\u001b[0m\u001b[0mvalues\u001b[0m\u001b[0;34m,\u001b[0m \u001b[0mndim\u001b[0m\u001b[0;34m=\u001b[0m\u001b[0mndim\u001b[0m\u001b[0;34m,\u001b[0m \u001b[0mplacement\u001b[0m\u001b[0;34m=\u001b[0m\u001b[0mplacement\u001b[0m\u001b[0;34m)\u001b[0m\u001b[0;34m\u001b[0m\u001b[0;34m\u001b[0m\u001b[0m\n\u001b[0m\u001b[1;32m   2743\u001b[0m \u001b[0;34m\u001b[0m\u001b[0m\n",
      "\u001b[0;32m/cluster/work/igc/wsalome/anaconda3/envs/pygromos/lib/python3.7/site-packages/pandas/core/internals/blocks.py\u001b[0m in \u001b[0;36m__init__\u001b[0;34m(self, values, placement, ndim)\u001b[0m\n\u001b[1;32m    142\u001b[0m             raise ValueError(\n\u001b[0;32m--> 143\u001b[0;31m                 \u001b[0;34mf\"Wrong number of items passed {len(self.values)}, \"\u001b[0m\u001b[0;34m\u001b[0m\u001b[0;34m\u001b[0m\u001b[0m\n\u001b[0m\u001b[1;32m    144\u001b[0m                 \u001b[0;34mf\"placement implies {len(self.mgr_locs)}\"\u001b[0m\u001b[0;34m\u001b[0m\u001b[0;34m\u001b[0m\u001b[0m\n",
      "\u001b[0;31mValueError\u001b[0m: Wrong number of items passed 38, placement implies 43",
      "\nDuring handling of the above exception, another exception occurred:\n",
      "\u001b[0;31mValueError\u001b[0m                                Traceback (most recent call last)",
      "\u001b[0;32m<ipython-input-20-9af2843bceb9>\u001b[0m in \u001b[0;36m<module>\u001b[0;34m\u001b[0m\n\u001b[0;32m----> 1\u001b[0;31m \u001b[0mtre\u001b[0m\u001b[0;34m.\u001b[0m\u001b[0mget_totals\u001b[0m\u001b[0;34m(\u001b[0m\u001b[0;34m)\u001b[0m\u001b[0;34m\u001b[0m\u001b[0;34m\u001b[0m\u001b[0m\n\u001b[0m",
      "\u001b[0;32m/cluster/work/igc/wsalome/anaconda3/envs/pygromos/lib/python3.7/site-packages/PyGromos-0+untagged.176.g9b9886d-py3.7.egg/pygromos/files/trajectory/tre.py\u001b[0m in \u001b[0;36mget_totals\u001b[0;34m(self)\u001b[0m\n\u001b[1;32m     36\u001b[0m     \u001b[0;32mdef\u001b[0m \u001b[0mget_totals\u001b[0m\u001b[0;34m(\u001b[0m\u001b[0mself\u001b[0m\u001b[0;34m)\u001b[0m \u001b[0;34m->\u001b[0m \u001b[0mpd\u001b[0m\u001b[0;34m.\u001b[0m\u001b[0mDataFrame\u001b[0m\u001b[0;34m:\u001b[0m\u001b[0;34m\u001b[0m\u001b[0;34m\u001b[0m\u001b[0m\n\u001b[1;32m     37\u001b[0m         \u001b[0mprint\u001b[0m\u001b[0;34m(\u001b[0m\u001b[0mself\u001b[0m\u001b[0;34m.\u001b[0m\u001b[0mdatabase\u001b[0m\u001b[0;34m[\u001b[0m\u001b[0;34m\"totals\"\u001b[0m\u001b[0;34m]\u001b[0m\u001b[0;34m[\u001b[0m\u001b[0;36m0\u001b[0m\u001b[0;34m]\u001b[0m\u001b[0;34m.\u001b[0m\u001b[0mshape\u001b[0m\u001b[0;34m,\u001b[0m \u001b[0mself\u001b[0m\u001b[0;34m.\u001b[0m\u001b[0mdatabase\u001b[0m\u001b[0;34m[\u001b[0m\u001b[0;34m\"totals\"\u001b[0m\u001b[0;34m]\u001b[0m\u001b[0;34m[\u001b[0m\u001b[0;36m0\u001b[0m\u001b[0;34m]\u001b[0m\u001b[0;34m)\u001b[0m\u001b[0;34m\u001b[0m\u001b[0;34m\u001b[0m\u001b[0m\n\u001b[0;32m---> 38\u001b[0;31m         \u001b[0mself\u001b[0m\u001b[0;34m.\u001b[0m\u001b[0mtotals\u001b[0m \u001b[0;34m=\u001b[0m \u001b[0mpd\u001b[0m\u001b[0;34m.\u001b[0m\u001b[0mDataFrame\u001b[0m\u001b[0;34m(\u001b[0m\u001b[0mdata\u001b[0m \u001b[0;34m=\u001b[0m \u001b[0mnp\u001b[0m\u001b[0;34m.\u001b[0m\u001b[0mstack\u001b[0m\u001b[0;34m(\u001b[0m\u001b[0mself\u001b[0m\u001b[0;34m.\u001b[0m\u001b[0mdatabase\u001b[0m\u001b[0;34m[\u001b[0m\u001b[0;34m\"totals\"\u001b[0m\u001b[0;34m]\u001b[0m\u001b[0;34m.\u001b[0m\u001b[0mto_numpy\u001b[0m\u001b[0;34m(\u001b[0m\u001b[0;34m)\u001b[0m\u001b[0;34m)\u001b[0m\u001b[0;34m,\u001b[0m \u001b[0mcolumns\u001b[0m\u001b[0;34m=\u001b[0m\u001b[0mself\u001b[0m\u001b[0;34m.\u001b[0m\u001b[0mtre_block_name_table\u001b[0m\u001b[0;34m.\u001b[0m\u001b[0mtotals_subblock_names\u001b[0m\u001b[0;34m)\u001b[0m\u001b[0;34m\u001b[0m\u001b[0;34m\u001b[0m\u001b[0m\n\u001b[0m\u001b[1;32m     39\u001b[0m         \u001b[0;32mreturn\u001b[0m \u001b[0mself\u001b[0m\u001b[0;34m.\u001b[0m\u001b[0mtotals\u001b[0m\u001b[0;34m\u001b[0m\u001b[0;34m\u001b[0m\u001b[0m\n\u001b[1;32m     40\u001b[0m \u001b[0;34m\u001b[0m\u001b[0m\n",
      "\u001b[0;32m/cluster/work/igc/wsalome/anaconda3/envs/pygromos/lib/python3.7/site-packages/pandas/core/frame.py\u001b[0m in \u001b[0;36m__init__\u001b[0;34m(self, data, index, columns, dtype, copy)\u001b[0m\n\u001b[1;32m    556\u001b[0m                 \u001b[0mmgr\u001b[0m \u001b[0;34m=\u001b[0m \u001b[0minit_dict\u001b[0m\u001b[0;34m(\u001b[0m\u001b[0;34m{\u001b[0m\u001b[0mdata\u001b[0m\u001b[0;34m.\u001b[0m\u001b[0mname\u001b[0m\u001b[0;34m:\u001b[0m \u001b[0mdata\u001b[0m\u001b[0;34m}\u001b[0m\u001b[0;34m,\u001b[0m \u001b[0mindex\u001b[0m\u001b[0;34m,\u001b[0m \u001b[0mcolumns\u001b[0m\u001b[0;34m,\u001b[0m \u001b[0mdtype\u001b[0m\u001b[0;34m=\u001b[0m\u001b[0mdtype\u001b[0m\u001b[0;34m)\u001b[0m\u001b[0;34m\u001b[0m\u001b[0;34m\u001b[0m\u001b[0m\n\u001b[1;32m    557\u001b[0m             \u001b[0;32melse\u001b[0m\u001b[0;34m:\u001b[0m\u001b[0;34m\u001b[0m\u001b[0;34m\u001b[0m\u001b[0m\n\u001b[0;32m--> 558\u001b[0;31m                 \u001b[0mmgr\u001b[0m \u001b[0;34m=\u001b[0m \u001b[0minit_ndarray\u001b[0m\u001b[0;34m(\u001b[0m\u001b[0mdata\u001b[0m\u001b[0;34m,\u001b[0m \u001b[0mindex\u001b[0m\u001b[0;34m,\u001b[0m \u001b[0mcolumns\u001b[0m\u001b[0;34m,\u001b[0m \u001b[0mdtype\u001b[0m\u001b[0;34m=\u001b[0m\u001b[0mdtype\u001b[0m\u001b[0;34m,\u001b[0m \u001b[0mcopy\u001b[0m\u001b[0;34m=\u001b[0m\u001b[0mcopy\u001b[0m\u001b[0;34m)\u001b[0m\u001b[0;34m\u001b[0m\u001b[0;34m\u001b[0m\u001b[0m\n\u001b[0m\u001b[1;32m    559\u001b[0m \u001b[0;34m\u001b[0m\u001b[0m\n\u001b[1;32m    560\u001b[0m         \u001b[0;31m# For data is list-like, or Iterable (will consume into list)\u001b[0m\u001b[0;34m\u001b[0m\u001b[0;34m\u001b[0m\u001b[0;34m\u001b[0m\u001b[0m\n",
      "\u001b[0;32m/cluster/work/igc/wsalome/anaconda3/envs/pygromos/lib/python3.7/site-packages/pandas/core/internals/construction.py\u001b[0m in \u001b[0;36minit_ndarray\u001b[0;34m(values, index, columns, dtype, copy)\u001b[0m\n\u001b[1;32m    236\u001b[0m         \u001b[0mblock_values\u001b[0m \u001b[0;34m=\u001b[0m \u001b[0;34m[\u001b[0m\u001b[0mvalues\u001b[0m\u001b[0;34m]\u001b[0m\u001b[0;34m\u001b[0m\u001b[0;34m\u001b[0m\u001b[0m\n\u001b[1;32m    237\u001b[0m \u001b[0;34m\u001b[0m\u001b[0m\n\u001b[0;32m--> 238\u001b[0;31m     \u001b[0;32mreturn\u001b[0m \u001b[0mcreate_block_manager_from_blocks\u001b[0m\u001b[0;34m(\u001b[0m\u001b[0mblock_values\u001b[0m\u001b[0;34m,\u001b[0m \u001b[0;34m[\u001b[0m\u001b[0mcolumns\u001b[0m\u001b[0;34m,\u001b[0m \u001b[0mindex\u001b[0m\u001b[0;34m]\u001b[0m\u001b[0;34m)\u001b[0m\u001b[0;34m\u001b[0m\u001b[0;34m\u001b[0m\u001b[0m\n\u001b[0m\u001b[1;32m    239\u001b[0m \u001b[0;34m\u001b[0m\u001b[0m\n\u001b[1;32m    240\u001b[0m \u001b[0;34m\u001b[0m\u001b[0m\n",
      "\u001b[0;32m/cluster/work/igc/wsalome/anaconda3/envs/pygromos/lib/python3.7/site-packages/pandas/core/internals/managers.py\u001b[0m in \u001b[0;36mcreate_block_manager_from_blocks\u001b[0;34m(blocks, axes)\u001b[0m\n\u001b[1;32m   1685\u001b[0m         \u001b[0mblocks\u001b[0m \u001b[0;34m=\u001b[0m \u001b[0;34m[\u001b[0m\u001b[0mgetattr\u001b[0m\u001b[0;34m(\u001b[0m\u001b[0mb\u001b[0m\u001b[0;34m,\u001b[0m \u001b[0;34m\"values\"\u001b[0m\u001b[0;34m,\u001b[0m \u001b[0mb\u001b[0m\u001b[0;34m)\u001b[0m \u001b[0;32mfor\u001b[0m \u001b[0mb\u001b[0m \u001b[0;32min\u001b[0m \u001b[0mblocks\u001b[0m\u001b[0;34m]\u001b[0m\u001b[0;34m\u001b[0m\u001b[0;34m\u001b[0m\u001b[0m\n\u001b[1;32m   1686\u001b[0m         \u001b[0mtot_items\u001b[0m \u001b[0;34m=\u001b[0m \u001b[0msum\u001b[0m\u001b[0;34m(\u001b[0m\u001b[0mb\u001b[0m\u001b[0;34m.\u001b[0m\u001b[0mshape\u001b[0m\u001b[0;34m[\u001b[0m\u001b[0;36m0\u001b[0m\u001b[0;34m]\u001b[0m \u001b[0;32mfor\u001b[0m \u001b[0mb\u001b[0m \u001b[0;32min\u001b[0m \u001b[0mblocks\u001b[0m\u001b[0;34m)\u001b[0m\u001b[0;34m\u001b[0m\u001b[0;34m\u001b[0m\u001b[0m\n\u001b[0;32m-> 1687\u001b[0;31m         \u001b[0;32mraise\u001b[0m \u001b[0mconstruction_error\u001b[0m\u001b[0;34m(\u001b[0m\u001b[0mtot_items\u001b[0m\u001b[0;34m,\u001b[0m \u001b[0mblocks\u001b[0m\u001b[0;34m[\u001b[0m\u001b[0;36m0\u001b[0m\u001b[0;34m]\u001b[0m\u001b[0;34m.\u001b[0m\u001b[0mshape\u001b[0m\u001b[0;34m[\u001b[0m\u001b[0;36m1\u001b[0m\u001b[0;34m:\u001b[0m\u001b[0;34m]\u001b[0m\u001b[0;34m,\u001b[0m \u001b[0maxes\u001b[0m\u001b[0;34m,\u001b[0m \u001b[0me\u001b[0m\u001b[0;34m)\u001b[0m\u001b[0;34m\u001b[0m\u001b[0;34m\u001b[0m\u001b[0m\n\u001b[0m\u001b[1;32m   1688\u001b[0m \u001b[0;34m\u001b[0m\u001b[0m\n\u001b[1;32m   1689\u001b[0m \u001b[0;34m\u001b[0m\u001b[0m\n",
      "\u001b[0;31mValueError\u001b[0m: Shape of passed values is (10, 38), indices imply (10, 43)"
     ]
    },
    {
     "data": {
      "text/html": [
       "<div>\n",
       "<style scoped>\n",
       "    .dataframe tbody tr th:only-of-type {\n",
       "        vertical-align: middle;\n",
       "    }\n",
       "\n",
       "    .dataframe tbody tr th {\n",
       "        vertical-align: top;\n",
       "    }\n",
       "\n",
       "    .dataframe thead th {\n",
       "        text-align: right;\n",
       "    }\n",
       "</style>\n",
       "<table border=\"1\" class=\"dataframe\">\n",
       "  <thead>\n",
       "    <tr style=\"text-align: right;\">\n",
       "      <th></th>\n",
       "      <th>totene</th>\n",
       "      <th>totkin</th>\n",
       "      <th>totpot</th>\n",
       "      <th>totcov</th>\n",
       "      <th>totbond</th>\n",
       "      <th>totangle</th>\n",
       "      <th>totimproper</th>\n",
       "      <th>totdihedral</th>\n",
       "      <th>totcrossdihedral</th>\n",
       "      <th>totnonbonded</th>\n",
       "      <th>...</th>\n",
       "      <th>totjval</th>\n",
       "      <th>totxray</th>\n",
       "      <th>totle</th>\n",
       "      <th>totorder</th>\n",
       "      <th>totsymm</th>\n",
       "      <th>eds_vr,entropy</th>\n",
       "      <th>totqm</th>\n",
       "      <th>totbsleus</th>\n",
       "      <th>totrdc</th>\n",
       "      <th>wip1</th>\n",
       "    </tr>\n",
       "  </thead>\n",
       "  <tbody>\n",
       "    <tr>\n",
       "      <th>0</th>\n",
       "      <td>-408806.2436</td>\n",
       "      <td>393521.8520</td>\n",
       "      <td>-802328.0956</td>\n",
       "      <td>138403.8772</td>\n",
       "      <td>0.0</td>\n",
       "      <td>49931.35526</td>\n",
       "      <td>0.0</td>\n",
       "      <td>88472.52195</td>\n",
       "      <td>0.0</td>\n",
       "      <td>-940731.9728</td>\n",
       "      <td>...</td>\n",
       "      <td>0.0</td>\n",
       "      <td>0.0</td>\n",
       "      <td>0.0</td>\n",
       "      <td>0.0</td>\n",
       "      <td>0.0</td>\n",
       "      <td>0.0</td>\n",
       "      <td>0.0</td>\n",
       "      <td>0.0</td>\n",
       "      <td>0.0</td>\n",
       "      <td>0.0</td>\n",
       "    </tr>\n",
       "    <tr>\n",
       "      <th>1</th>\n",
       "      <td>-411576.4224</td>\n",
       "      <td>392980.7347</td>\n",
       "      <td>-804557.1570</td>\n",
       "      <td>139550.4345</td>\n",
       "      <td>0.0</td>\n",
       "      <td>50409.38587</td>\n",
       "      <td>0.0</td>\n",
       "      <td>89141.04865</td>\n",
       "      <td>0.0</td>\n",
       "      <td>-944107.5915</td>\n",
       "      <td>...</td>\n",
       "      <td>0.0</td>\n",
       "      <td>0.0</td>\n",
       "      <td>0.0</td>\n",
       "      <td>0.0</td>\n",
       "      <td>0.0</td>\n",
       "      <td>0.0</td>\n",
       "      <td>0.0</td>\n",
       "      <td>0.0</td>\n",
       "      <td>0.0</td>\n",
       "      <td>0.0</td>\n",
       "    </tr>\n",
       "    <tr>\n",
       "      <th>2</th>\n",
       "      <td>-409167.9172</td>\n",
       "      <td>392370.1191</td>\n",
       "      <td>-801538.0363</td>\n",
       "      <td>138920.4104</td>\n",
       "      <td>0.0</td>\n",
       "      <td>50155.81989</td>\n",
       "      <td>0.0</td>\n",
       "      <td>88764.59053</td>\n",
       "      <td>0.0</td>\n",
       "      <td>-940458.4467</td>\n",
       "      <td>...</td>\n",
       "      <td>0.0</td>\n",
       "      <td>0.0</td>\n",
       "      <td>0.0</td>\n",
       "      <td>0.0</td>\n",
       "      <td>0.0</td>\n",
       "      <td>0.0</td>\n",
       "      <td>0.0</td>\n",
       "      <td>0.0</td>\n",
       "      <td>0.0</td>\n",
       "      <td>0.0</td>\n",
       "    </tr>\n",
       "    <tr>\n",
       "      <th>3</th>\n",
       "      <td>-408468.8130</td>\n",
       "      <td>392911.3266</td>\n",
       "      <td>-801380.1396</td>\n",
       "      <td>138900.2972</td>\n",
       "      <td>0.0</td>\n",
       "      <td>50205.91055</td>\n",
       "      <td>0.0</td>\n",
       "      <td>88694.38663</td>\n",
       "      <td>0.0</td>\n",
       "      <td>-940280.4368</td>\n",
       "      <td>...</td>\n",
       "      <td>0.0</td>\n",
       "      <td>0.0</td>\n",
       "      <td>0.0</td>\n",
       "      <td>0.0</td>\n",
       "      <td>0.0</td>\n",
       "      <td>0.0</td>\n",
       "      <td>0.0</td>\n",
       "      <td>0.0</td>\n",
       "      <td>0.0</td>\n",
       "      <td>0.0</td>\n",
       "    </tr>\n",
       "    <tr>\n",
       "      <th>4</th>\n",
       "      <td>-409322.7261</td>\n",
       "      <td>391652.3813</td>\n",
       "      <td>-800975.1074</td>\n",
       "      <td>139824.6615</td>\n",
       "      <td>0.0</td>\n",
       "      <td>50608.00218</td>\n",
       "      <td>0.0</td>\n",
       "      <td>89216.65927</td>\n",
       "      <td>0.0</td>\n",
       "      <td>-940799.7689</td>\n",
       "      <td>...</td>\n",
       "      <td>0.0</td>\n",
       "      <td>0.0</td>\n",
       "      <td>0.0</td>\n",
       "      <td>0.0</td>\n",
       "      <td>0.0</td>\n",
       "      <td>0.0</td>\n",
       "      <td>0.0</td>\n",
       "      <td>0.0</td>\n",
       "      <td>0.0</td>\n",
       "      <td>0.0</td>\n",
       "    </tr>\n",
       "    <tr>\n",
       "      <th>5</th>\n",
       "      <td>-409060.5321</td>\n",
       "      <td>391503.6168</td>\n",
       "      <td>-800564.1489</td>\n",
       "      <td>140175.3926</td>\n",
       "      <td>0.0</td>\n",
       "      <td>50668.20147</td>\n",
       "      <td>0.0</td>\n",
       "      <td>89507.19113</td>\n",
       "      <td>0.0</td>\n",
       "      <td>-940739.5415</td>\n",
       "      <td>...</td>\n",
       "      <td>0.0</td>\n",
       "      <td>0.0</td>\n",
       "      <td>0.0</td>\n",
       "      <td>0.0</td>\n",
       "      <td>0.0</td>\n",
       "      <td>0.0</td>\n",
       "      <td>0.0</td>\n",
       "      <td>0.0</td>\n",
       "      <td>0.0</td>\n",
       "      <td>0.0</td>\n",
       "    </tr>\n",
       "    <tr>\n",
       "      <th>6</th>\n",
       "      <td>-407724.5301</td>\n",
       "      <td>393376.3395</td>\n",
       "      <td>-801100.8696</td>\n",
       "      <td>139951.6784</td>\n",
       "      <td>0.0</td>\n",
       "      <td>50612.96859</td>\n",
       "      <td>0.0</td>\n",
       "      <td>89338.70979</td>\n",
       "      <td>0.0</td>\n",
       "      <td>-941052.5480</td>\n",
       "      <td>...</td>\n",
       "      <td>0.0</td>\n",
       "      <td>0.0</td>\n",
       "      <td>0.0</td>\n",
       "      <td>0.0</td>\n",
       "      <td>0.0</td>\n",
       "      <td>0.0</td>\n",
       "      <td>0.0</td>\n",
       "      <td>0.0</td>\n",
       "      <td>0.0</td>\n",
       "      <td>0.0</td>\n",
       "    </tr>\n",
       "    <tr>\n",
       "      <th>7</th>\n",
       "      <td>-406045.9433</td>\n",
       "      <td>393472.1410</td>\n",
       "      <td>-799518.0842</td>\n",
       "      <td>140090.5996</td>\n",
       "      <td>0.0</td>\n",
       "      <td>50652.38951</td>\n",
       "      <td>0.0</td>\n",
       "      <td>89438.21007</td>\n",
       "      <td>0.0</td>\n",
       "      <td>-939608.6838</td>\n",
       "      <td>...</td>\n",
       "      <td>0.0</td>\n",
       "      <td>0.0</td>\n",
       "      <td>0.0</td>\n",
       "      <td>0.0</td>\n",
       "      <td>0.0</td>\n",
       "      <td>0.0</td>\n",
       "      <td>0.0</td>\n",
       "      <td>0.0</td>\n",
       "      <td>0.0</td>\n",
       "      <td>0.0</td>\n",
       "    </tr>\n",
       "    <tr>\n",
       "      <th>8</th>\n",
       "      <td>-408499.0398</td>\n",
       "      <td>391678.3093</td>\n",
       "      <td>-800177.3491</td>\n",
       "      <td>139759.9875</td>\n",
       "      <td>0.0</td>\n",
       "      <td>50465.54724</td>\n",
       "      <td>0.0</td>\n",
       "      <td>89294.44028</td>\n",
       "      <td>0.0</td>\n",
       "      <td>-939937.3367</td>\n",
       "      <td>...</td>\n",
       "      <td>0.0</td>\n",
       "      <td>0.0</td>\n",
       "      <td>0.0</td>\n",
       "      <td>0.0</td>\n",
       "      <td>0.0</td>\n",
       "      <td>0.0</td>\n",
       "      <td>0.0</td>\n",
       "      <td>0.0</td>\n",
       "      <td>0.0</td>\n",
       "      <td>0.0</td>\n",
       "    </tr>\n",
       "    <tr>\n",
       "      <th>9</th>\n",
       "      <td>-406991.4101</td>\n",
       "      <td>392482.0724</td>\n",
       "      <td>-799473.4824</td>\n",
       "      <td>139902.9949</td>\n",
       "      <td>0.0</td>\n",
       "      <td>50693.74147</td>\n",
       "      <td>0.0</td>\n",
       "      <td>89209.25341</td>\n",
       "      <td>0.0</td>\n",
       "      <td>-939376.4773</td>\n",
       "      <td>...</td>\n",
       "      <td>0.0</td>\n",
       "      <td>0.0</td>\n",
       "      <td>0.0</td>\n",
       "      <td>0.0</td>\n",
       "      <td>0.0</td>\n",
       "      <td>0.0</td>\n",
       "      <td>0.0</td>\n",
       "      <td>0.0</td>\n",
       "      <td>0.0</td>\n",
       "      <td>0.0</td>\n",
       "    </tr>\n",
       "  </tbody>\n",
       "</table>\n",
       "<p>10 rows × 38 columns</p>\n",
       "</div>"
      ],
      "text/plain": [
       "        totene       totkin       totpot       totcov  totbond     totangle  \\\n",
       "0 -408806.2436  393521.8520 -802328.0956  138403.8772      0.0  49931.35526   \n",
       "1 -411576.4224  392980.7347 -804557.1570  139550.4345      0.0  50409.38587   \n",
       "2 -409167.9172  392370.1191 -801538.0363  138920.4104      0.0  50155.81989   \n",
       "3 -408468.8130  392911.3266 -801380.1396  138900.2972      0.0  50205.91055   \n",
       "4 -409322.7261  391652.3813 -800975.1074  139824.6615      0.0  50608.00218   \n",
       "5 -409060.5321  391503.6168 -800564.1489  140175.3926      0.0  50668.20147   \n",
       "6 -407724.5301  393376.3395 -801100.8696  139951.6784      0.0  50612.96859   \n",
       "7 -406045.9433  393472.1410 -799518.0842  140090.5996      0.0  50652.38951   \n",
       "8 -408499.0398  391678.3093 -800177.3491  139759.9875      0.0  50465.54724   \n",
       "9 -406991.4101  392482.0724 -799473.4824  139902.9949      0.0  50693.74147   \n",
       "\n",
       "   totimproper  totdihedral  totcrossdihedral  totnonbonded  ...  totjval  \\\n",
       "0          0.0  88472.52195               0.0  -940731.9728  ...      0.0   \n",
       "1          0.0  89141.04865               0.0  -944107.5915  ...      0.0   \n",
       "2          0.0  88764.59053               0.0  -940458.4467  ...      0.0   \n",
       "3          0.0  88694.38663               0.0  -940280.4368  ...      0.0   \n",
       "4          0.0  89216.65927               0.0  -940799.7689  ...      0.0   \n",
       "5          0.0  89507.19113               0.0  -940739.5415  ...      0.0   \n",
       "6          0.0  89338.70979               0.0  -941052.5480  ...      0.0   \n",
       "7          0.0  89438.21007               0.0  -939608.6838  ...      0.0   \n",
       "8          0.0  89294.44028               0.0  -939937.3367  ...      0.0   \n",
       "9          0.0  89209.25341               0.0  -939376.4773  ...      0.0   \n",
       "\n",
       "   totxray  totle  totorder  totsymm  eds_vr,entropy  totqm  totbsleus  \\\n",
       "0      0.0    0.0       0.0      0.0             0.0    0.0        0.0   \n",
       "1      0.0    0.0       0.0      0.0             0.0    0.0        0.0   \n",
       "2      0.0    0.0       0.0      0.0             0.0    0.0        0.0   \n",
       "3      0.0    0.0       0.0      0.0             0.0    0.0        0.0   \n",
       "4      0.0    0.0       0.0      0.0             0.0    0.0        0.0   \n",
       "5      0.0    0.0       0.0      0.0             0.0    0.0        0.0   \n",
       "6      0.0    0.0       0.0      0.0             0.0    0.0        0.0   \n",
       "7      0.0    0.0       0.0      0.0             0.0    0.0        0.0   \n",
       "8      0.0    0.0       0.0      0.0             0.0    0.0        0.0   \n",
       "9      0.0    0.0       0.0      0.0             0.0    0.0        0.0   \n",
       "\n",
       "   totrdc  wip1  \n",
       "0     0.0   0.0  \n",
       "1     0.0   0.0  \n",
       "2     0.0   0.0  \n",
       "3     0.0   0.0  \n",
       "4     0.0   0.0  \n",
       "5     0.0   0.0  \n",
       "6     0.0   0.0  \n",
       "7     0.0   0.0  \n",
       "8     0.0   0.0  \n",
       "9     0.0   0.0  \n",
       "\n",
       "[10 rows x 38 columns]"
      ]
     },
     "execution_count": 19,
     "metadata": {},
     "output_type": "execute_result"
    }
   ],
   "source": [
    "tre.get_totals()"
   ]
  },
  {
   "cell_type": "markdown",
   "metadata": {},
   "source": [
    "### $\\lambda$-Sampling & TREs"
   ]
  },
  {
   "cell_type": "code",
   "execution_count": null,
   "metadata": {},
   "outputs": [],
   "source": [
    "# import the trajectory file into a Tre class\n",
    "tre = traj_tre.Tre(input_value=\"example_files/Traj_files/RAFE_TI_l0_5.tre\")\n",
    "tre.get_precalclam()"
   ]
  },
  {
   "cell_type": "markdown",
   "metadata": {
    "pycharm": {
     "name": "#%% md\n"
    }
   },
   "source": [
    "### EDS in TREs"
   ]
  },
  {
   "cell_type": "code",
   "execution_count": null,
   "metadata": {},
   "outputs": [],
   "source": [
    "# import the trajectory file into a Tre class\n",
    "tre = traj_tre.Tre(input_value=\"example_files/Traj_files/RAFE_eds.tre\")\n",
    "tre.get_eds()"
   ]
  },
  {
   "cell_type": "markdown",
   "metadata": {
    "pycharm": {
     "name": "#%% md\n"
    }
   },
   "source": [
    "## Concatenate  and Copy multiple Trajectories"
   ]
  },
  {
   "cell_type": "markdown",
   "metadata": {},
   "source": [
    "Trajectories offer a wide range of additional file manipulations. Trajectory classes can be copied (deep) and added to each other to concatenate multiple small simulation pieces into one large trajectory. "
   ]
  },
  {
   "cell_type": "code",
   "execution_count": 24,
   "metadata": {},
   "outputs": [],
   "source": [
    "tre_copy = traj_tre.Tre(input_value=tre)"
   ]
  },
  {
   "cell_type": "code",
   "execution_count": 25,
   "metadata": {
    "pycharm": {
     "name": "#%%\n"
    }
   },
   "outputs": [
    {
     "data": {
      "text/plain": [
       "(10, 12)"
      ]
     },
     "execution_count": 25,
     "metadata": {},
     "output_type": "execute_result"
    }
   ],
   "source": [
    "tre_copy.database.shape"
   ]
  },
  {
   "cell_type": "code",
   "execution_count": 26,
   "metadata": {
    "pycharm": {
     "name": "#%%\n"
    }
   },
   "outputs": [],
   "source": [
    "tre_combined = tre + tre_copy"
   ]
  },
  {
   "cell_type": "code",
   "execution_count": 27,
   "metadata": {
    "pycharm": {
     "name": "#%%\n"
    }
   },
   "outputs": [
    {
     "data": {
      "text/plain": [
       "(19, 12)"
      ]
     },
     "execution_count": 27,
     "metadata": {},
     "output_type": "execute_result"
    }
   ],
   "source": [
    "tre_combined.database.shape"
   ]
  },
  {
   "cell_type": "markdown",
   "metadata": {},
   "source": [
    "In the new combined trajectory we have one long trajectory made from the two smaller ones. The length is one element shorter, since normally the last element of the first trajectory and the first element of the second trajectory is the same element. This can be controlled via the option \"skip_new_0=True\" in the add_traj() function which is the core of the \"+\" operator for trajectories. In the following line the default behavior can be seen as a smooth numbering in the TIMESTEPs."
   ]
  },
  {
   "cell_type": "code",
   "execution_count": 28,
   "metadata": {
    "pycharm": {
     "name": "#%%\n"
    }
   },
   "outputs": [
    {
     "data": {
      "text/plain": [
       "0     0.00\n",
       "1     0.04\n",
       "2     0.08\n",
       "3     0.12\n",
       "4     0.16\n",
       "5     0.20\n",
       "6     0.24\n",
       "7     0.28\n",
       "8     0.32\n",
       "9     0.36\n",
       "10    0.40\n",
       "11    0.44\n",
       "12    0.48\n",
       "13    0.52\n",
       "14    0.56\n",
       "15    0.60\n",
       "16    0.64\n",
       "17    0.68\n",
       "18    0.72\n",
       "Name: TIMESTEP_time, dtype: float64"
      ]
     },
     "execution_count": 28,
     "metadata": {},
     "output_type": "execute_result"
    }
   ],
   "source": [
    "tre_combined.database.TIMESTEP_time"
   ]
  },
  {
   "cell_type": "code",
   "execution_count": null,
   "metadata": {},
   "outputs": [],
   "source": []
  }
 ],
 "metadata": {
  "kernelspec": {
   "display_name": "pygromos",
   "language": "python",
   "name": "pygromos"
  },
  "language_info": {
   "codemirror_mode": {
    "name": "ipython",
    "version": 3
   },
   "file_extension": ".py",
   "mimetype": "text/x-python",
   "name": "python",
   "nbconvert_exporter": "python",
   "pygments_lexer": "ipython3",
   "version": "3.7.10"
  }
 },
 "nbformat": 4,
 "nbformat_minor": 4
}
