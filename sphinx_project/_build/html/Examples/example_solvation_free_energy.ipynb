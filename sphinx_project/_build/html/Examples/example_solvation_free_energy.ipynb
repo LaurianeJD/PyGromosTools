{
 "cells": [
  {
   "cell_type": "markdown",
   "id": "72f1ce38-58d7-4a3b-9d3a-dce74d35aa63",
   "metadata": {
    "tags": []
   },
   "source": [
    "# Calculation of Self Solvation Free Energy"
   ]
  },
  {
   "cell_type": "markdown",
   "id": "75236443-70b8-4449-80b2-25860d238d7f",
   "metadata": {},
   "source": [
    "## Do Imports"
   ]
  },
  {
   "cell_type": "code",
   "execution_count": 1,
   "id": "94d48e51-6f17-4dec-ac58-a9fc8e5f43f8",
   "metadata": {
    "execution": {
     "iopub.execute_input": "2022-04-04T16:01:01.889367Z",
     "iopub.status.busy": "2022-04-04T16:01:01.889157Z",
     "iopub.status.idle": "2022-04-04T16:01:02.701592Z",
     "shell.execute_reply": "2022-04-04T16:01:02.700877Z"
    }
   },
   "outputs": [
    {
     "name": "stderr",
     "output_type": "stream",
     "text": [
      "Warning: importing 'simtk.openmm' is deprecated.  Import 'openmm' instead.\n"
     ]
    },
    {
     "name": "stderr",
     "output_type": "stream",
     "text": [
      "Warning: Unable to load toolkit 'OpenEye Toolkit'. The Open Force Field Toolkit does not require the OpenEye Toolkits, and can use RDKit/AmberTools instead. However, if you have a valid license for the OpenEye Toolkits, consider installing them for faster performance and additional file format support: https://docs.eyesopen.com/toolkits/python/quickstart-python/linuxosx.html OpenEye offers free Toolkit licenses for academics: https://www.eyesopen.com/academic-licensing\n"
     ]
    },
    {
     "data": {
      "application/vnd.jupyter.widget-view+json": {
       "model_id": "7bb033a3b8dc4e1ea0e9a9d744f8ba61",
       "version_major": 2,
       "version_minor": 0
      },
      "text/plain": []
     },
     "metadata": {},
     "output_type": "display_data"
    }
   ],
   "source": [
    "import os\n",
    "from rdkit import Chem\n",
    "import pygromos\n",
    "from pygromos.files.forcefield.openff.openff import OpenFF\n",
    "from pygromos.files.gromos_system.gromos_system import Gromos_System\n",
    "from pygromos.simulations.approaches.solvation_free_energy_calculation.solvation_free_energy import Solvation_free_energy_calculation\n",
    "from pygromos.simulations.hpc_queuing.submission_systems.local import LOCAL"
   ]
  },
  {
   "cell_type": "markdown",
   "id": "052c5ab1-b4e7-4b35-bff8-7b59ed59208b",
   "metadata": {},
   "source": [
    "## Choose Molecule to run calculation for"
   ]
  },
  {
   "cell_type": "code",
   "execution_count": 2,
   "id": "5df95e95-01e7-4092-85e3-e3cf1323981b",
   "metadata": {
    "execution": {
     "iopub.execute_input": "2022-04-04T16:01:02.706187Z",
     "iopub.status.busy": "2022-04-04T16:01:02.706005Z",
     "iopub.status.idle": "2022-04-04T16:01:02.709378Z",
     "shell.execute_reply": "2022-04-04T16:01:02.708813Z"
    }
   },
   "outputs": [],
   "source": [
    "smiles = \"c1ccccc1\"\n",
    "workfolder = project_dir = os.path.abspath(os.path.dirname(pygromos.__file__)+\"/../examples/example_files/solvation_free_energy\")"
   ]
  },
  {
   "cell_type": "markdown",
   "id": "ba09b82b-1c1f-48ef-be77-0b0f91d126ed",
   "metadata": {},
   "source": [
    "### create the gromos_system from a smile and get the number of atoms"
   ]
  },
  {
   "cell_type": "code",
   "execution_count": 3,
   "id": "ca203374",
   "metadata": {
    "execution": {
     "iopub.execute_input": "2022-04-04T16:01:02.711779Z",
     "iopub.status.busy": "2022-04-04T16:01:02.711503Z",
     "iopub.status.idle": "2022-04-04T16:01:04.015001Z",
     "shell.execute_reply": "2022-04-04T16:01:04.014382Z"
    }
   },
   "outputs": [
    {
     "name": "stdout",
     "output_type": "stream",
     "text": [
      "Found off: /home/runner/work/PyGromosTools/PyGromosTools/pygromos/data/ff/SMIRNOFF/openff_unconstrained-2.0.0.offxml\n"
     ]
    },
    {
     "name": "stdout",
     "output_type": "stream",
     "text": [
      "Found off: /home/runner/work/PyGromosTools/PyGromosTools/pygromos/data/ff/SMIRNOFF/openff_unconstrained-2.0.0.offxml\n"
     ]
    },
    {
     "name": "stdout",
     "output_type": "stream",
     "text": [
      "Number of atoms: 12\n"
     ]
    },
    {
     "name": "stderr",
     "output_type": "stream",
     "text": [
      "/bin/bash: /home/runner/micromamba/envs/pygromosTest/lib/libtinfo.so.6: no version information available (required by /bin/bash)\n",
      "/bin/bash: /home/runner/micromamba/envs/pygromosTest/lib/libtinfo.so.6: no version information available (required by /bin/bash)\n",
      "/bin/bash: /home/runner/micromamba/envs/pygromosTest/lib/libtinfo.so.6: no version information available (required by /bin/bash)\n",
      "/bin/bash: /home/runner/micromamba/envs/pygromosTest/lib/libtinfo.so.6: no version information available (required by /bin/bash)\n",
      "/bin/bash: /home/runner/micromamba/envs/pygromosTest/lib/libtinfo.so.6: no version information available (required by /bin/bash)\n",
      "/bin/bash: /home/runner/micromamba/envs/pygromosTest/lib/libtinfo.so.6: no version information available (required by /bin/bash)\n"
     ]
    }
   ],
   "source": [
    "groSys = Gromos_System(work_folder=workfolder, system_name=\"test\", in_smiles=smiles, forcefield=OpenFF(), auto_convert=True)\n",
    "number_of_atoms = groSys.mol.GetNumAtoms()\n",
    "print(\"Number of atoms:\", number_of_atoms)"
   ]
  },
  {
   "cell_type": "code",
   "execution_count": 4,
   "id": "a5122674",
   "metadata": {
    "execution": {
     "iopub.execute_input": "2022-04-04T16:01:04.017958Z",
     "iopub.status.busy": "2022-04-04T16:01:04.017607Z",
     "iopub.status.idle": "2022-04-04T16:01:04.022345Z",
     "shell.execute_reply": "2022-04-04T16:01:04.021792Z"
    }
   },
   "outputs": [],
   "source": [
    "subSys = LOCAL() # use the local submission system (for cluster use LSF)"
   ]
  },
  {
   "cell_type": "code",
   "execution_count": 5,
   "id": "8895b4c7",
   "metadata": {
    "execution": {
     "iopub.execute_input": "2022-04-04T16:01:04.025130Z",
     "iopub.status.busy": "2022-04-04T16:01:04.024594Z",
     "iopub.status.idle": "2022-04-04T16:01:04.027704Z",
     "shell.execute_reply": "2022-04-04T16:01:04.027146Z"
    }
   },
   "outputs": [],
   "source": [
    "n_points = 5 # Number of Lambda points to calculate (typically 21)"
   ]
  },
  {
   "cell_type": "markdown",
   "id": "b6e2e24b-e946-4e3d-8d26-73a4406ed3b3",
   "metadata": {},
   "source": [
    "## Create The Solvation free energy calculation system"
   ]
  },
  {
   "cell_type": "code",
   "execution_count": 6,
   "id": "4d40ad51-654a-4594-b4a3-2133a369abe3",
   "metadata": {
    "execution": {
     "iopub.execute_input": "2022-04-04T16:01:04.030531Z",
     "iopub.status.busy": "2022-04-04T16:01:04.030269Z",
     "iopub.status.idle": "2022-04-04T16:01:04.224414Z",
     "shell.execute_reply": "2022-04-04T16:01:04.223553Z"
    }
   },
   "outputs": [
    {
     "name": "stdout",
     "output_type": "stream",
     "text": [
      "Found off: /home/runner/work/PyGromosTools/PyGromosTools/pygromos/data/ff/SMIRNOFF/openff_unconstrained-2.0.0.offxml\n"
     ]
    },
    {
     "name": "stdout",
     "output_type": "stream",
     "text": [
      "File imd is empty , can not be written!\n"
     ]
    },
    {
     "name": "stderr",
     "output_type": "stream",
     "text": [
      "/home/runner/work/PyGromosTools/PyGromosTools/pygromos/simulations/approaches/solvation_free_energy_calculation/solvation_free_energy.py:146: UserWarning: Folder does already exist\n",
      "  warnings.warn(\"Folder does already exist\")\n",
      "/home/runner/work/PyGromosTools/PyGromosTools/pygromos/files/gromos_system/gromos_system.py:869: UserWarning: Did not change file path as its only promised None\n",
      "  warnings.warn(\"Did not change file path as its only promised \" + str(file_obj.path))\n"
     ]
    }
   ],
   "source": [
    "sf = Solvation_free_energy_calculation(input_system=groSys, # Gromos_System, SMILES (str) or rdkit Mol\n",
    "                                       work_folder=workfolder, # Folder to do calculations in\n",
    "                                       system_name=\"test\", # Name of the system (does not need to be smiles but convenient)\n",
    "                                       forcefield=OpenFF(), # Force field to use\n",
    "                                       density=789, # density of the liquid in kg/L\n",
    "                                       num_molecules=512, # number of molecules used for the calculation\n",
    "                                       num_atoms=number_of_atoms, # number of atoms in one molecule\n",
    "                                       subsystem=subSys, # Subsystem to use for calculation local or lsf\n",
    "                                       amberscaling=False, # Whether to use amberscaling (for openforcefield recommended)\n",
    "                                       n_points=n_points) # Number of Lambda points to calculate (typically 21)"
   ]
  },
  {
   "cell_type": "markdown",
   "id": "b2f60e6e-ddd6-4083-94c7-34b34703e3ab",
   "metadata": {},
   "source": [
    "### Create Liquid"
   ]
  },
  {
   "cell_type": "code",
   "execution_count": 7,
   "id": "014136a1-8d0b-435c-b7d9-65c53e93d6b6",
   "metadata": {
    "execution": {
     "iopub.execute_input": "2022-04-04T16:01:04.227735Z",
     "iopub.status.busy": "2022-04-04T16:01:04.227325Z",
     "iopub.status.idle": "2022-04-04T16:01:05.032101Z",
     "shell.execute_reply": "2022-04-04T16:01:05.031334Z"
    }
   },
   "outputs": [],
   "source": [
    "sf.create_liq()"
   ]
  },
  {
   "cell_type": "markdown",
   "id": "5837a049-0596-46bd-89f6-5b48e32abb0b",
   "metadata": {},
   "source": [
    "### Minimize Liquid"
   ]
  },
  {
   "cell_type": "code",
   "execution_count": 8,
   "id": "d2e42771-a59f-4cc8-a8fe-cfcd4594bf2a",
   "metadata": {
    "execution": {
     "iopub.execute_input": "2022-04-04T16:01:05.036613Z",
     "iopub.status.busy": "2022-04-04T16:01:05.036119Z",
     "iopub.status.idle": "2022-04-04T16:01:08.014008Z",
     "shell.execute_reply": "2022-04-04T16:01:08.012661Z"
    }
   },
   "outputs": [
    {
     "name": "stdout",
     "output_type": "stream",
     "text": [
      "################################################################################\n",
      "\n",
      "test_emin\n",
      "################################################################################\n",
      "\n",
      "Script:  /home/runner/work/PyGromosTools/PyGromosTools/pygromos/simulations/hpc_queuing/job_scheduling/schedulers/simulation_scheduler.py\n",
      "\n",
      "################################################################################\n",
      "Simulation Setup:\n",
      "################################################################################\n",
      "\n",
      "steps_per_run:  20000\n",
      "equis:  0\n",
      "simulation runs:  1\n"
     ]
    },
    {
     "name": "stdout",
     "output_type": "stream",
     "text": [
      "#####################################################################################\n",
      "\t\tERROR in Submission\n",
      "#####################################################################################\n"
     ]
    },
    {
     "name": "stderr",
     "output_type": "stream",
     "text": [
      "Traceback (most recent call last):\n",
      "  File \"/home/runner/work/PyGromosTools/PyGromosTools/pygromos/simulations/hpc_queuing/submission_systems/local.py\", line 71, in submit_to_queue\n",
      "    process = bash.execute(command=command, catch_STD=True, env=self.environment)\n",
      "  File \"/home/runner/work/PyGromosTools/PyGromosTools/pygromos/utils/bash.py\", line 935, in execute\n",
      "    return execute_subprocess(command=command, verbose=verbose, catch_STD=catch_STD, env=env)\n",
      "  File \"/home/runner/work/PyGromosTools/PyGromosTools/pygromos/utils/bash.py\", line 829, in execute_subprocess\n",
      "    raise ChildProcessError(msg)\n",
      "ChildProcessError: SubProcess Failed due to returncode: 1\n",
      " COMMAND: \n",
      "\t/home/runner/work/PyGromosTools/PyGromosTools/examples/example_files/solvation_free_energy/test_liq/test_emin/simulation/test_emin_1/job_test_emin_1.sh\n",
      "STDOUT:\n",
      "\tb'Could not find TMPDIR!\\n'\n",
      "\tb' Switched to outdir for work\\n'\n",
      "\tb'workDIR: /home/runner/work/PyGromosTools/PyGromosTools/examples/example_files/solvation_free_energy/test_liq/test_emin/simulation/test_emin_1\\n'\n",
      "\tb\"input:  <class 'str'> None\\n\"\n",
      "\tb\"gromosXX._bin:  <class 'str'> \\n\"\n",
      "\tb\"gromosXX.bin:  <class 'NoneType'> None\\n\"\n",
      "\tb'________________________________________\\n'\n",
      "\tb'\\n'\n",
      "\tb' start MD test_emin_1.imd\\n'\n",
      "\tb'\\n'\n",
      "\tb'COMMAND:  export OMP_NUM_THREADS=1  &&  md @topo /home/runner/work/PyGromosTools/PyGromosTools/examples/example_files/solvation_free_energy/test_liq/test_emin/input/test_emin.top @conf /home/runner/work/PyGromosTools/PyGromosTools/examples/example_files/solvation_free_energy/test_liq/test_emin/input/test_emin.cnf @input /home/runner/work/PyGromosTools/PyGromosTools/examples/example_files/solvation_free_energy/test_liq/test_emin/simulation/test_emin_1/test_emin_1.imd @fin test_emin_1.cnf > test_emin_1.omd\\n'\n",
      "\tb'\\n'\n",
      "\tb'Failed! process returned: \\n'\n",
      "\tb' Err: \\n'\n",
      "\tb'SubProcess Failed due to returncode: 127\\n'\n",
      "\tb' COMMAND: \\n'\n",
      "\tb'\\texport OMP_NUM_THREADS=1  &&  md @topo /home/runner/work/PyGromosTools/PyGromosTools/examples/example_files/solvation_free_energy/test_liq/test_emin/input/test_emin.top @conf /home/runner/work/PyGromosTools/PyGromosTools/examples/example_files/solvation_free_energy/test_liq/test_emin/input/test_emin.cnf @input /home/runner/work/PyGromosTools/PyGromosTools/examples/example_files/solvation_free_energy/test_liq/test_emin/simulation/test_emin_1/test_emin_1.imd @fin test_emin_1.cnf > test_emin_1.omd\\n'\n",
      "\tb'\\n'\n",
      "\tb'STDOUT:\\n'\n",
      "\tb'\\t\\n'\n",
      "\tb'STDERR:\\n'\n",
      "\tb\"\\tb'/bin/sh: 1: md: not found\\\\n'\\n\"\n",
      "\tb'GROMOS OUTPUT:\\n'\n",
      "STDERR:\n",
      "\tb'Traceback (most recent call last):\\n'\n",
      "\tb'  File \"/home/runner/work/PyGromosTools/PyGromosTools/pygromos/simulations/hpc_queuing/job_scheduling/workers/simulation_workers/simulation_run_worker.py\", line 202, in work\\n'\n",
      "\tb'    omd_file_path = gromosXX.md_run(\\n'\n",
      "\tb'  File \"/home/runner/work/PyGromosTools/PyGromosTools/pygromos/gromos/_gromosClass.py\", line 78, in convert_pyGromos_types\\n'\n",
      "\tb'    return func(self, *nargs, **kwargs)\\n'\n",
      "\tb'  File \"/home/runner/work/PyGromosTools/PyGromosTools/pygromos/gromos/gromosXX.py\", line 215, in md_run\\n'\n",
      "\tb'    process = bash.execute(command_text)\\n'\n",
      "\tb'  File \"/home/runner/work/PyGromosTools/PyGromosTools/pygromos/utils/bash.py\", line 935, in execute\\n'\n",
      "\tb'    return execute_subprocess(command=command, verbose=verbose, catch_STD=catch_STD, env=env)\\n'\n",
      "\tb'  File \"/home/runner/work/PyGromosTools/PyGromosTools/pygromos/utils/bash.py\", line 829, in execute_subprocess\\n'\n",
      "\tb'    raise ChildProcessError(msg)\\n'\n",
      "\tb'ChildProcessError: SubProcess Failed due to returncode: 127\\n'\n",
      "\tb' COMMAND: \\n'\n",
      "\tb'\\texport OMP_NUM_THREADS=1  &&  md @topo /home/runner/work/PyGromosTools/PyGromosTools/examples/example_files/solvation_free_energy/test_liq/test_emin/input/test_emin.top @conf /home/runner/work/PyGromosTools/PyGromosTools/examples/example_files/solvation_free_energy/test_liq/test_emin/input/test_emin.cnf @input /home/runner/work/PyGromosTools/PyGromosTools/examples/example_files/solvation_free_energy/test_liq/test_emin/simulation/test_emin_1/test_emin_1.imd @fin test_emin_1.cnf > test_emin_1.omd\\n'\n",
      "\tb'\\n'\n",
      "\tb'STDOUT:\\n'\n",
      "\tb'\\t\\n'\n",
      "\tb'STDERR:\\n'\n",
      "\tb\"\\tb'/bin/sh: 1: md: not found\\\\n'\\n\"\n",
      "\tb'\\n'\n",
      "\tb'Failed during simulations: \\n'\n",
      "\tb\"<class 'ChildProcessError'>\\n\"\n",
      "\tb'(\"SubProcess Failed due to returncode: 127\\\\n COMMAND: \\\\n\\\\texport OMP_NUM_THREADS=1  &&  md @topo /home/runner/work/PyGromosTools/PyGromosTools/examples/example_files/solvation_free_energy/test_liq/test_emin/input/test_emin.top @conf /home/runner/work/PyGromosTools/PyGromosTools/examples/example_files/solvation_free_energy/test_liq/test_emin/input/test_emin.cnf @input /home/runner/work/PyGromosTools/PyGromosTools/examples/example_files/solvation_free_energy/test_liq/test_emin/simulation/test_emin_1/test_emin_1.imd @fin test_emin_1.cnf > test_emin_1.omd\\\\n\\\\nSTDOUT:\\\\n\\\\t\\\\nSTDERR:\\\\n\\\\tb\\'/bin/sh: 1: md: not found\\\\\\\\n\\'\",)\\n'\n",
      "\n",
      "During handling of the above exception, another exception occurred:\n",
      "\n",
      "Traceback (most recent call last):\n",
      "  File \"/home/runner/work/PyGromosTools/PyGromosTools/pygromos/simulations/hpc_queuing/job_scheduling/schedulers/simulation_scheduler.py\", line 188, in do\n",
      "    previous_job_ID, tmp_jobname, in_simSystem = chain_submission(\n",
      "  File \"/home/runner/work/PyGromosTools/PyGromosTools/pygromos/simulations/hpc_queuing/job_scheduling/schedulers/scheduler_functions.py\", line 308, in chain_submission\n",
      "    previous_job_ID = job_submission_system.submit_to_queue(sub_job)\n",
      "  File \"/home/runner/work/PyGromosTools/PyGromosTools/pygromos/simulations/hpc_queuing/submission_systems/local.py\", line 84, in submit_to_queue\n",
      "    print(process)\n",
      "UnboundLocalError: local variable 'process' referenced before assignment\n",
      "Traceback (most recent call last):\n",
      "  File \"/home/runner/work/PyGromosTools/PyGromosTools/pygromos/simulations/hpc_queuing/submission_systems/local.py\", line 71, in submit_to_queue\n",
      "    process = bash.execute(command=command, catch_STD=True, env=self.environment)\n",
      "  File \"/home/runner/work/PyGromosTools/PyGromosTools/pygromos/utils/bash.py\", line 935, in execute\n",
      "    return execute_subprocess(command=command, verbose=verbose, catch_STD=catch_STD, env=env)\n",
      "  File \"/home/runner/work/PyGromosTools/PyGromosTools/pygromos/utils/bash.py\", line 829, in execute_subprocess\n",
      "    raise ChildProcessError(msg)\n",
      "ChildProcessError: SubProcess Failed due to returncode: 1\n",
      " COMMAND: \n",
      "\t/home/runner/work/PyGromosTools/PyGromosTools/examples/example_files/solvation_free_energy/test_liq/test_emin/simulation/test_emin_1/job_test_emin_1.sh\n",
      "STDOUT:\n",
      "\tb'Could not find TMPDIR!\\n'\n",
      "\tb' Switched to outdir for work\\n'\n",
      "\tb'workDIR: /home/runner/work/PyGromosTools/PyGromosTools/examples/example_files/solvation_free_energy/test_liq/test_emin/simulation/test_emin_1\\n'\n",
      "\tb\"input:  <class 'str'> None\\n\"\n",
      "\tb\"gromosXX._bin:  <class 'str'> \\n\"\n",
      "\tb\"gromosXX.bin:  <class 'NoneType'> None\\n\"\n",
      "\tb'________________________________________\\n'\n",
      "\tb'\\n'\n",
      "\tb' start MD test_emin_1.imd\\n'\n",
      "\tb'\\n'\n",
      "\tb'COMMAND:  export OMP_NUM_THREADS=1  &&  md @topo /home/runner/work/PyGromosTools/PyGromosTools/examples/example_files/solvation_free_energy/test_liq/test_emin/input/test_emin.top @conf /home/runner/work/PyGromosTools/PyGromosTools/examples/example_files/solvation_free_energy/test_liq/test_emin/input/test_emin.cnf @input /home/runner/work/PyGromosTools/PyGromosTools/examples/example_files/solvation_free_energy/test_liq/test_emin/simulation/test_emin_1/test_emin_1.imd @fin test_emin_1.cnf > test_emin_1.omd\\n'\n",
      "\tb'\\n'\n",
      "\tb'Failed! process returned: \\n'\n",
      "\tb' Err: \\n'\n",
      "\tb'SubProcess Failed due to returncode: 127\\n'\n",
      "\tb' COMMAND: \\n'\n",
      "\tb'\\texport OMP_NUM_THREADS=1  &&  md @topo /home/runner/work/PyGromosTools/PyGromosTools/examples/example_files/solvation_free_energy/test_liq/test_emin/input/test_emin.top @conf /home/runner/work/PyGromosTools/PyGromosTools/examples/example_files/solvation_free_energy/test_liq/test_emin/input/test_emin.cnf @input /home/runner/work/PyGromosTools/PyGromosTools/examples/example_files/solvation_free_energy/test_liq/test_emin/simulation/test_emin_1/test_emin_1.imd @fin test_emin_1.cnf > test_emin_1.omd\\n'\n",
      "\tb'\\n'\n",
      "\tb'STDOUT:\\n'\n",
      "\tb'\\t\\n'\n",
      "\tb'STDERR:\\n'\n",
      "\tb\"\\tb'/bin/sh: 1: md: not found\\\\n'\\n\"\n",
      "\tb'GROMOS OUTPUT:\\n'\n",
      "STDERR:\n",
      "\tb'Traceback (most recent call last):\\n'\n",
      "\tb'  File \"/home/runner/work/PyGromosTools/PyGromosTools/pygromos/simulations/hpc_queuing/job_scheduling/workers/simulation_workers/simulation_run_worker.py\", line 202, in work\\n'\n",
      "\tb'    omd_file_path = gromosXX.md_run(\\n'\n",
      "\tb'  File \"/home/runner/work/PyGromosTools/PyGromosTools/pygromos/gromos/_gromosClass.py\", line 78, in convert_pyGromos_types\\n'\n",
      "\tb'    return func(self, *nargs, **kwargs)\\n'\n",
      "\tb'  File \"/home/runner/work/PyGromosTools/PyGromosTools/pygromos/gromos/gromosXX.py\", line 215, in md_run\\n'\n",
      "\tb'    process = bash.execute(command_text)\\n'\n",
      "\tb'  File \"/home/runner/work/PyGromosTools/PyGromosTools/pygromos/utils/bash.py\", line 935, in execute\\n'\n",
      "\tb'    return execute_subprocess(command=command, verbose=verbose, catch_STD=catch_STD, env=env)\\n'\n",
      "\tb'  File \"/home/runner/work/PyGromosTools/PyGromosTools/pygromos/utils/bash.py\", line 829, in execute_subprocess\\n'\n",
      "\tb'    raise ChildProcessError(msg)\\n'\n",
      "\tb'ChildProcessError: SubProcess Failed due to returncode: 127\\n'\n",
      "\tb' COMMAND: \\n'\n",
      "\tb'\\texport OMP_NUM_THREADS=1  &&  md @topo /home/runner/work/PyGromosTools/PyGromosTools/examples/example_files/solvation_free_energy/test_liq/test_emin/input/test_emin.top @conf /home/runner/work/PyGromosTools/PyGromosTools/examples/example_files/solvation_free_energy/test_liq/test_emin/input/test_emin.cnf @input /home/runner/work/PyGromosTools/PyGromosTools/examples/example_files/solvation_free_energy/test_liq/test_emin/simulation/test_emin_1/test_emin_1.imd @fin test_emin_1.cnf > test_emin_1.omd\\n'\n",
      "\tb'\\n'\n",
      "\tb'STDOUT:\\n'\n",
      "\tb'\\t\\n'\n",
      "\tb'STDERR:\\n'\n",
      "\tb\"\\tb'/bin/sh: 1: md: not found\\\\n'\\n\"\n",
      "\tb'\\n'\n",
      "\tb'Failed during simulations: \\n'\n",
      "\tb\"<class 'ChildProcessError'>\\n\"\n",
      "\tb'(\"SubProcess Failed due to returncode: 127\\\\n COMMAND: \\\\n\\\\texport OMP_NUM_THREADS=1  &&  md @topo /home/runner/work/PyGromosTools/PyGromosTools/examples/example_files/solvation_free_energy/test_liq/test_emin/input/test_emin.top @conf /home/runner/work/PyGromosTools/PyGromosTools/examples/example_files/solvation_free_energy/test_liq/test_emin/input/test_emin.cnf @input /home/runner/work/PyGromosTools/PyGromosTools/examples/example_files/solvation_free_energy/test_liq/test_emin/simulation/test_emin_1/test_emin_1.imd @fin test_emin_1.cnf > test_emin_1.omd\\\\n\\\\nSTDOUT:\\\\n\\\\t\\\\nSTDERR:\\\\n\\\\tb\\'/bin/sh: 1: md: not found\\\\\\\\n\\'\",)\\n'\n",
      "\n",
      "During handling of the above exception, another exception occurred:\n",
      "\n",
      "Traceback (most recent call last):\n",
      "  File \"/home/runner/work/PyGromosTools/PyGromosTools/pygromos/simulations/hpc_queuing/job_scheduling/schedulers/simulation_scheduler.py\", line 188, in do\n",
      "    previous_job_ID, tmp_jobname, in_simSystem = chain_submission(\n",
      "  File \"/home/runner/work/PyGromosTools/PyGromosTools/pygromos/simulations/hpc_queuing/job_scheduling/schedulers/scheduler_functions.py\", line 308, in chain_submission\n",
      "    previous_job_ID = job_submission_system.submit_to_queue(sub_job)\n",
      "  File \"/home/runner/work/PyGromosTools/PyGromosTools/pygromos/simulations/hpc_queuing/submission_systems/local.py\", line 84, in submit_to_queue\n",
      "    print(process)\n",
      "UnboundLocalError: local variable 'process' referenced before assignment\n",
      "\n",
      "The above exception was the direct cause of the following exception:\n",
      "\n",
      "Traceback (most recent call last):\n",
      "  File \"/home/runner/work/PyGromosTools/PyGromosTools/pygromos/simulations/modules/general_simulation_modules.py\", line 208, in simulation\n",
      "    last_jobID = simulation_scheduler.do(**MD_job_vars)\n",
      "  File \"/home/runner/work/PyGromosTools/PyGromosTools/pygromos/simulations/hpc_queuing/job_scheduling/schedulers/simulation_scheduler.py\", line 234, in do\n",
      "    raise IOError(\"ERROR in SUBMISSION!\") from err\n",
      "OSError: ERROR in SUBMISSION!\n"
     ]
    },
    {
     "ename": "Exception",
     "evalue": "Could not submit the commands\n\tERROR in SUBMISSION!",
     "output_type": "error",
     "traceback": [
      "\u001b[0;31m---------------------------------------------------------------------------\u001b[0m",
      "\u001b[0;31mChildProcessError\u001b[0m                         Traceback (most recent call last)",
      "File \u001b[0;32m~/work/PyGromosTools/PyGromosTools/pygromos/simulations/hpc_queuing/submission_systems/local.py:71\u001b[0m, in \u001b[0;36mLOCAL.submit_to_queue\u001b[0;34m(self, sub_job)\u001b[0m\n\u001b[1;32m     70\u001b[0m \u001b[38;5;28;01mtry\u001b[39;00m:\n\u001b[0;32m---> 71\u001b[0m     process \u001b[38;5;241m=\u001b[39m \u001b[43mbash\u001b[49m\u001b[38;5;241;43m.\u001b[39;49m\u001b[43mexecute\u001b[49m\u001b[43m(\u001b[49m\u001b[43mcommand\u001b[49m\u001b[38;5;241;43m=\u001b[39;49m\u001b[43mcommand\u001b[49m\u001b[43m,\u001b[49m\u001b[43m \u001b[49m\u001b[43mcatch_STD\u001b[49m\u001b[38;5;241;43m=\u001b[39;49m\u001b[38;5;28;43;01mTrue\u001b[39;49;00m\u001b[43m,\u001b[49m\u001b[43m \u001b[49m\u001b[43menv\u001b[49m\u001b[38;5;241;43m=\u001b[39;49m\u001b[38;5;28;43mself\u001b[39;49m\u001b[38;5;241;43m.\u001b[39;49m\u001b[43menvironment\u001b[49m\u001b[43m)\u001b[49m\n\u001b[1;32m     72\u001b[0m     std_out_buff \u001b[38;5;241m=\u001b[39m \u001b[38;5;28mmap\u001b[39m(\u001b[38;5;28mstr\u001b[39m, process\u001b[38;5;241m.\u001b[39mstdout\u001b[38;5;241m.\u001b[39mreadlines())\n",
      "File \u001b[0;32m~/work/PyGromosTools/PyGromosTools/pygromos/utils/bash.py:935\u001b[0m, in \u001b[0;36mexecute\u001b[0;34m(command, verbose, catch_STD, env)\u001b[0m\n\u001b[1;32m    932\u001b[0m \u001b[38;5;28;01mdef\u001b[39;00m \u001b[38;5;21mexecute\u001b[39m(\n\u001b[1;32m    933\u001b[0m     command: Union[\u001b[38;5;28mstr\u001b[39m, List[\u001b[38;5;28mstr\u001b[39m]], verbose: \u001b[38;5;28mbool\u001b[39m \u001b[38;5;241m=\u001b[39m \u001b[38;5;28;01mFalse\u001b[39;00m, catch_STD: Union[\u001b[38;5;28mbool\u001b[39m, \u001b[38;5;28mstr\u001b[39m] \u001b[38;5;241m=\u001b[39m \u001b[38;5;28;01mFalse\u001b[39;00m, env: \u001b[38;5;28mdict\u001b[39m \u001b[38;5;241m=\u001b[39m \u001b[38;5;28;01mNone\u001b[39;00m\n\u001b[1;32m    934\u001b[0m ):\n\u001b[0;32m--> 935\u001b[0m     \u001b[38;5;28;01mreturn\u001b[39;00m \u001b[43mexecute_subprocess\u001b[49m\u001b[43m(\u001b[49m\u001b[43mcommand\u001b[49m\u001b[38;5;241;43m=\u001b[39;49m\u001b[43mcommand\u001b[49m\u001b[43m,\u001b[49m\u001b[43m \u001b[49m\u001b[43mverbose\u001b[49m\u001b[38;5;241;43m=\u001b[39;49m\u001b[43mverbose\u001b[49m\u001b[43m,\u001b[49m\u001b[43m \u001b[49m\u001b[43mcatch_STD\u001b[49m\u001b[38;5;241;43m=\u001b[39;49m\u001b[43mcatch_STD\u001b[49m\u001b[43m,\u001b[49m\u001b[43m \u001b[49m\u001b[43menv\u001b[49m\u001b[38;5;241;43m=\u001b[39;49m\u001b[43menv\u001b[49m\u001b[43m)\u001b[49m\n",
      "File \u001b[0;32m~/work/PyGromosTools/PyGromosTools/pygromos/utils/bash.py:829\u001b[0m, in \u001b[0;36mexecute_subprocess\u001b[0;34m(command, catch_STD, env, verbose)\u001b[0m\n\u001b[1;32m    828\u001b[0m     msg \u001b[38;5;241m+\u001b[39m\u001b[38;5;241m=\u001b[39m \u001b[38;5;124m\"\u001b[39m\u001b[38;5;124mNONE\u001b[39m\u001b[38;5;124m\"\u001b[39m \u001b[38;5;28;01mif\u001b[39;00m (p\u001b[38;5;241m.\u001b[39mstdout \u001b[38;5;129;01mis\u001b[39;00m \u001b[38;5;28;01mNone\u001b[39;00m) \u001b[38;5;28;01melse\u001b[39;00m \u001b[38;5;124m\"\u001b[39m\u001b[38;5;130;01m\\n\u001b[39;00m\u001b[38;5;130;01m\\t\u001b[39;00m\u001b[38;5;124m\"\u001b[39m\u001b[38;5;241m.\u001b[39mjoin(\u001b[38;5;28mmap\u001b[39m(\u001b[38;5;28mstr\u001b[39m, p\u001b[38;5;241m.\u001b[39mstderr\u001b[38;5;241m.\u001b[39mreadlines()))\n\u001b[0;32m--> 829\u001b[0m     \u001b[38;5;28;01mraise\u001b[39;00m \u001b[38;5;167;01mChildProcessError\u001b[39;00m(msg)\n\u001b[1;32m    830\u001b[0m \u001b[38;5;28;01mif\u001b[39;00m verbose:\n",
      "\u001b[0;31mChildProcessError\u001b[0m: SubProcess Failed due to returncode: 1\n COMMAND: \n\t/home/runner/work/PyGromosTools/PyGromosTools/examples/example_files/solvation_free_energy/test_liq/test_emin/simulation/test_emin_1/job_test_emin_1.sh\nSTDOUT:\n\tb'Could not find TMPDIR!\\n'\n\tb' Switched to outdir for work\\n'\n\tb'workDIR: /home/runner/work/PyGromosTools/PyGromosTools/examples/example_files/solvation_free_energy/test_liq/test_emin/simulation/test_emin_1\\n'\n\tb\"input:  <class 'str'> None\\n\"\n\tb\"gromosXX._bin:  <class 'str'> \\n\"\n\tb\"gromosXX.bin:  <class 'NoneType'> None\\n\"\n\tb'________________________________________\\n'\n\tb'\\n'\n\tb' start MD test_emin_1.imd\\n'\n\tb'\\n'\n\tb'COMMAND:  export OMP_NUM_THREADS=1  &&  md @topo /home/runner/work/PyGromosTools/PyGromosTools/examples/example_files/solvation_free_energy/test_liq/test_emin/input/test_emin.top @conf /home/runner/work/PyGromosTools/PyGromosTools/examples/example_files/solvation_free_energy/test_liq/test_emin/input/test_emin.cnf @input /home/runner/work/PyGromosTools/PyGromosTools/examples/example_files/solvation_free_energy/test_liq/test_emin/simulation/test_emin_1/test_emin_1.imd @fin test_emin_1.cnf > test_emin_1.omd\\n'\n\tb'\\n'\n\tb'Failed! process returned: \\n'\n\tb' Err: \\n'\n\tb'SubProcess Failed due to returncode: 127\\n'\n\tb' COMMAND: \\n'\n\tb'\\texport OMP_NUM_THREADS=1  &&  md @topo /home/runner/work/PyGromosTools/PyGromosTools/examples/example_files/solvation_free_energy/test_liq/test_emin/input/test_emin.top @conf /home/runner/work/PyGromosTools/PyGromosTools/examples/example_files/solvation_free_energy/test_liq/test_emin/input/test_emin.cnf @input /home/runner/work/PyGromosTools/PyGromosTools/examples/example_files/solvation_free_energy/test_liq/test_emin/simulation/test_emin_1/test_emin_1.imd @fin test_emin_1.cnf > test_emin_1.omd\\n'\n\tb'\\n'\n\tb'STDOUT:\\n'\n\tb'\\t\\n'\n\tb'STDERR:\\n'\n\tb\"\\tb'/bin/sh: 1: md: not found\\\\n'\\n\"\n\tb'GROMOS OUTPUT:\\n'\nSTDERR:\n\tb'Traceback (most recent call last):\\n'\n\tb'  File \"/home/runner/work/PyGromosTools/PyGromosTools/pygromos/simulations/hpc_queuing/job_scheduling/workers/simulation_workers/simulation_run_worker.py\", line 202, in work\\n'\n\tb'    omd_file_path = gromosXX.md_run(\\n'\n\tb'  File \"/home/runner/work/PyGromosTools/PyGromosTools/pygromos/gromos/_gromosClass.py\", line 78, in convert_pyGromos_types\\n'\n\tb'    return func(self, *nargs, **kwargs)\\n'\n\tb'  File \"/home/runner/work/PyGromosTools/PyGromosTools/pygromos/gromos/gromosXX.py\", line 215, in md_run\\n'\n\tb'    process = bash.execute(command_text)\\n'\n\tb'  File \"/home/runner/work/PyGromosTools/PyGromosTools/pygromos/utils/bash.py\", line 935, in execute\\n'\n\tb'    return execute_subprocess(command=command, verbose=verbose, catch_STD=catch_STD, env=env)\\n'\n\tb'  File \"/home/runner/work/PyGromosTools/PyGromosTools/pygromos/utils/bash.py\", line 829, in execute_subprocess\\n'\n\tb'    raise ChildProcessError(msg)\\n'\n\tb'ChildProcessError: SubProcess Failed due to returncode: 127\\n'\n\tb' COMMAND: \\n'\n\tb'\\texport OMP_NUM_THREADS=1  &&  md @topo /home/runner/work/PyGromosTools/PyGromosTools/examples/example_files/solvation_free_energy/test_liq/test_emin/input/test_emin.top @conf /home/runner/work/PyGromosTools/PyGromosTools/examples/example_files/solvation_free_energy/test_liq/test_emin/input/test_emin.cnf @input /home/runner/work/PyGromosTools/PyGromosTools/examples/example_files/solvation_free_energy/test_liq/test_emin/simulation/test_emin_1/test_emin_1.imd @fin test_emin_1.cnf > test_emin_1.omd\\n'\n\tb'\\n'\n\tb'STDOUT:\\n'\n\tb'\\t\\n'\n\tb'STDERR:\\n'\n\tb\"\\tb'/bin/sh: 1: md: not found\\\\n'\\n\"\n\tb'\\n'\n\tb'Failed during simulations: \\n'\n\tb\"<class 'ChildProcessError'>\\n\"\n\tb'(\"SubProcess Failed due to returncode: 127\\\\n COMMAND: \\\\n\\\\texport OMP_NUM_THREADS=1  &&  md @topo /home/runner/work/PyGromosTools/PyGromosTools/examples/example_files/solvation_free_energy/test_liq/test_emin/input/test_emin.top @conf /home/runner/work/PyGromosTools/PyGromosTools/examples/example_files/solvation_free_energy/test_liq/test_emin/input/test_emin.cnf @input /home/runner/work/PyGromosTools/PyGromosTools/examples/example_files/solvation_free_energy/test_liq/test_emin/simulation/test_emin_1/test_emin_1.imd @fin test_emin_1.cnf > test_emin_1.omd\\\\n\\\\nSTDOUT:\\\\n\\\\t\\\\nSTDERR:\\\\n\\\\tb\\'/bin/sh: 1: md: not found\\\\\\\\n\\'\",)\\n'",
      "\nDuring handling of the above exception, another exception occurred:\n",
      "\u001b[0;31mUnboundLocalError\u001b[0m                         Traceback (most recent call last)",
      "File \u001b[0;32m~/work/PyGromosTools/PyGromosTools/pygromos/simulations/hpc_queuing/job_scheduling/schedulers/simulation_scheduler.py:188\u001b[0m, in \u001b[0;36mdo\u001b[0;34m(in_simSystem, out_dir_path, simulation_run_num, equilibration_run_num, initialize_first_run, reinitialize_every_run, analysis_script_path, submission_system, previous_job_ID, _no_double_submit_check, _work_dir, verbose, verbose_lvl)\u001b[0m\n\u001b[1;32m    187\u001b[0m previous_job_ID \u001b[38;5;241m=\u001b[39m previous_job_ID \u001b[38;5;28;01mif\u001b[39;00m (eq_job_id \u001b[38;5;129;01mis\u001b[39;00m \u001b[38;5;28;01mNone\u001b[39;00m) \u001b[38;5;28;01melse\u001b[39;00m eq_job_id\n\u001b[0;32m--> 188\u001b[0m previous_job_ID, tmp_jobname, in_simSystem \u001b[38;5;241m=\u001b[39m \u001b[43mchain_submission\u001b[49m\u001b[43m(\u001b[49m\n\u001b[1;32m    189\u001b[0m \u001b[43m    \u001b[49m\u001b[43msimSystem\u001b[49m\u001b[38;5;241;43m=\u001b[39;49m\u001b[43min_simSystem\u001b[49m\u001b[43m,\u001b[49m\n\u001b[1;32m    190\u001b[0m \u001b[43m    \u001b[49m\u001b[43mout_dir_path\u001b[49m\u001b[38;5;241;43m=\u001b[39;49m\u001b[43mout_dir_path\u001b[49m\u001b[43m,\u001b[49m\n\u001b[1;32m    191\u001b[0m \u001b[43m    \u001b[49m\u001b[43mout_prefix\u001b[49m\u001b[38;5;241;43m=\u001b[39;49m\u001b[43mtmp_outprefix\u001b[49m\u001b[43m,\u001b[49m\n\u001b[1;32m    192\u001b[0m \u001b[43m    \u001b[49m\u001b[43mjobname\u001b[49m\u001b[38;5;241;43m=\u001b[39;49m\u001b[43mtmp_jobname\u001b[49m\u001b[43m,\u001b[49m\n\u001b[1;32m    193\u001b[0m \u001b[43m    \u001b[49m\u001b[43mchain_job_repetitions\u001b[49m\u001b[38;5;241;43m=\u001b[39;49m\u001b[43mequilibration_run_num\u001b[49m\u001b[43m \u001b[49m\u001b[38;5;241;43m+\u001b[39;49m\u001b[43m \u001b[49m\u001b[43msimulation_run_num\u001b[49m\u001b[43m,\u001b[49m\n\u001b[1;32m    194\u001b[0m \u001b[43m    \u001b[49m\u001b[43mstart_run_index\u001b[49m\u001b[38;5;241;43m=\u001b[39;49m\u001b[43mequilibration_run_num\u001b[49m\u001b[43m \u001b[49m\u001b[38;5;241;43m+\u001b[39;49m\u001b[43m \u001b[49m\u001b[38;5;241;43m1\u001b[39;49m\u001b[43m,\u001b[49m\n\u001b[1;32m    195\u001b[0m \u001b[43m    \u001b[49m\u001b[43mworker_script\u001b[49m\u001b[38;5;241;43m=\u001b[39;49m\u001b[43mworkerScript\u001b[49m\u001b[38;5;241;43m.\u001b[39;49m\u001b[38;5;18;43m__file__\u001b[39;49m\u001b[43m,\u001b[49m\n\u001b[1;32m    196\u001b[0m \u001b[43m    \u001b[49m\u001b[43mjob_submission_system\u001b[49m\u001b[38;5;241;43m=\u001b[39;49m\u001b[43msubmission_system\u001b[49m\u001b[43m,\u001b[49m\n\u001b[1;32m    197\u001b[0m \u001b[43m    \u001b[49m\u001b[43mprefix_command\u001b[49m\u001b[38;5;241;43m=\u001b[39;49m\u001b[38;5;124;43m\"\u001b[39;49m\u001b[38;5;124;43m\"\u001b[39;49m\u001b[43m,\u001b[49m\n\u001b[1;32m    198\u001b[0m \u001b[43m    \u001b[49m\u001b[43mprevious_job_ID\u001b[49m\u001b[38;5;241;43m=\u001b[39;49m\u001b[43mprevious_job_ID\u001b[49m\u001b[43m,\u001b[49m\n\u001b[1;32m    199\u001b[0m \u001b[43m    \u001b[49m\u001b[43mwork_dir\u001b[49m\u001b[38;5;241;43m=\u001b[39;49m\u001b[43m_work_dir\u001b[49m\u001b[43m,\u001b[49m\n\u001b[1;32m    200\u001b[0m \u001b[43m    \u001b[49m\u001b[43minitialize_first_run\u001b[49m\u001b[38;5;241;43m=\u001b[39;49m\u001b[43minitialize_first_run\u001b[49m\u001b[43m,\u001b[49m\n\u001b[1;32m    201\u001b[0m \u001b[43m    \u001b[49m\u001b[43mreinitialize_every_run\u001b[49m\u001b[38;5;241;43m=\u001b[39;49m\u001b[43mreinitialize_every_run\u001b[49m\u001b[43m,\u001b[49m\n\u001b[1;32m    202\u001b[0m \u001b[43m    \u001b[49m\u001b[43mverbose\u001b[49m\u001b[38;5;241;43m=\u001b[39;49m\u001b[43mjob_verb\u001b[49m\u001b[43m,\u001b[49m\n\u001b[1;32m    203\u001b[0m \u001b[43m\u001b[49m\u001b[43m)\u001b[49m\n\u001b[1;32m    205\u001b[0m ana_previous_job_ID \u001b[38;5;241m=\u001b[39m previous_job_ID\n",
      "File \u001b[0;32m~/work/PyGromosTools/PyGromosTools/pygromos/simulations/hpc_queuing/job_scheduling/schedulers/scheduler_functions.py:308\u001b[0m, in \u001b[0;36mchain_submission\u001b[0;34m(simSystem, out_dir_path, out_prefix, chain_job_repetitions, worker_script, job_submission_system, jobname, run_analysis_script_every_x_runs, in_analysis_script_path, start_run_index, prefix_command, previous_job_ID, work_dir, initialize_first_run, reinitialize_every_run, verbose, verbose_lvl)\u001b[0m\n\u001b[1;32m    299\u001b[0m sub_job \u001b[38;5;241m=\u001b[39m Submission_job(\n\u001b[1;32m    300\u001b[0m     command\u001b[38;5;241m=\u001b[39mmd_script_command,\n\u001b[1;32m    301\u001b[0m     jobName\u001b[38;5;241m=\u001b[39mtmp_jobname,\n\u001b[0;32m   (...)\u001b[0m\n\u001b[1;32m    306\u001b[0m     sumbit_from_file\u001b[38;5;241m=\u001b[39m\u001b[38;5;28;01mTrue\u001b[39;00m,\n\u001b[1;32m    307\u001b[0m )\n\u001b[0;32m--> 308\u001b[0m previous_job_ID \u001b[38;5;241m=\u001b[39m \u001b[43mjob_submission_system\u001b[49m\u001b[38;5;241;43m.\u001b[39;49m\u001b[43msubmit_to_queue\u001b[49m\u001b[43m(\u001b[49m\u001b[43msub_job\u001b[49m\u001b[43m)\u001b[49m\n\u001b[1;32m    309\u001b[0m \u001b[38;5;28;01mif\u001b[39;00m verbose:\n",
      "File \u001b[0;32m~/work/PyGromosTools/PyGromosTools/pygromos/simulations/hpc_queuing/submission_systems/local.py:84\u001b[0m, in \u001b[0;36mLOCAL.submit_to_queue\u001b[0;34m(self, sub_job)\u001b[0m\n\u001b[1;32m     83\u001b[0m \u001b[38;5;28;01mtry\u001b[39;00m:\n\u001b[0;32m---> 84\u001b[0m     \u001b[38;5;28mprint\u001b[39m(\u001b[43mprocess\u001b[49m)\n\u001b[1;32m     85\u001b[0m \u001b[38;5;28;01mexcept\u001b[39;00m \u001b[38;5;167;01mChildProcessError\u001b[39;00m:\n",
      "\u001b[0;31mUnboundLocalError\u001b[0m: local variable 'process' referenced before assignment",
      "\nThe above exception was the direct cause of the following exception:\n",
      "\u001b[0;31mOSError\u001b[0m                                   Traceback (most recent call last)",
      "File \u001b[0;32m~/work/PyGromosTools/PyGromosTools/pygromos/simulations/modules/general_simulation_modules.py:208\u001b[0m, in \u001b[0;36msimulation\u001b[0;34m(in_gromos_simulation_system, override_project_dir, step_name, in_imd_path, submission_system, simulation_runs, equilibration_runs, previous_simulation_run, force_simulation, initialize_first_run, reinitialize_every_run, analysis_script, analysis_control_dict, _no_double_submit_check, _work_dir, verbose, verbose_lvl, _template_imd_path)\u001b[0m\n\u001b[1;32m    207\u001b[0m     \u001b[38;5;28;01melse\u001b[39;00m:\n\u001b[0;32m--> 208\u001b[0m         last_jobID \u001b[38;5;241m=\u001b[39m \u001b[43msimulation_scheduler\u001b[49m\u001b[38;5;241;43m.\u001b[39;49m\u001b[43mdo\u001b[49m\u001b[43m(\u001b[49m\u001b[38;5;241;43m*\u001b[39;49m\u001b[38;5;241;43m*\u001b[39;49m\u001b[43mMD_job_vars\u001b[49m\u001b[43m)\u001b[49m\n\u001b[1;32m    209\u001b[0m \u001b[38;5;28;01mexcept\u001b[39;00m \u001b[38;5;167;01mException\u001b[39;00m \u001b[38;5;28;01mas\u001b[39;00m err:\n",
      "File \u001b[0;32m~/work/PyGromosTools/PyGromosTools/pygromos/simulations/hpc_queuing/job_scheduling/schedulers/simulation_scheduler.py:234\u001b[0m, in \u001b[0;36mdo\u001b[0;34m(in_simSystem, out_dir_path, simulation_run_num, equilibration_run_num, initialize_first_run, reinitialize_every_run, analysis_script_path, submission_system, previous_job_ID, _no_double_submit_check, _work_dir, verbose, verbose_lvl)\u001b[0m\n\u001b[1;32m    233\u001b[0m     traceback\u001b[38;5;241m.\u001b[39mprint_exception(\u001b[38;5;241m*\u001b[39msys\u001b[38;5;241m.\u001b[39mexc_info())\n\u001b[0;32m--> 234\u001b[0m     \u001b[38;5;28;01mraise\u001b[39;00m \u001b[38;5;167;01mIOError\u001b[39;00m(\u001b[38;5;124m\"\u001b[39m\u001b[38;5;124mERROR in SUBMISSION!\u001b[39m\u001b[38;5;124m\"\u001b[39m) \u001b[38;5;28;01mfrom\u001b[39;00m \u001b[38;5;21;01merr\u001b[39;00m\n\u001b[1;32m    236\u001b[0m \u001b[38;5;66;03m# in_simSystem._future_promise = False #reset future promising if necessary\u001b[39;00m\n",
      "\u001b[0;31mOSError\u001b[0m: ERROR in SUBMISSION!",
      "\nDuring handling of the above exception, another exception occurred:\n",
      "\u001b[0;31mException\u001b[0m                                 Traceback (most recent call last)",
      "Input \u001b[0;32mIn [8]\u001b[0m, in \u001b[0;36m<cell line: 1>\u001b[0;34m()\u001b[0m\n\u001b[0;32m----> 1\u001b[0m emin_sys, jobID \u001b[38;5;241m=\u001b[39m \u001b[43msf\u001b[49m\u001b[38;5;241;43m.\u001b[39;49m\u001b[43mminimize_liq\u001b[49m\u001b[43m(\u001b[49m\u001b[43min_gromos_simulation_system\u001b[49m\u001b[38;5;241;43m=\u001b[39;49m\u001b[43msf\u001b[49m\u001b[38;5;241;43m.\u001b[39;49m\u001b[43mgroSys_liq\u001b[49m\u001b[43m,\u001b[49m\u001b[43mprev_JobID\u001b[49m\u001b[38;5;241;43m=\u001b[39;49m\u001b[38;5;241;43m-\u001b[39;49m\u001b[38;5;241;43m1\u001b[39;49m\u001b[43m)\u001b[49m\n",
      "File \u001b[0;32m~/work/PyGromosTools/PyGromosTools/pygromos/simulations/approaches/solvation_free_energy_calculation/solvation_free_energy.py:263\u001b[0m, in \u001b[0;36mSolvation_free_energy_calculation.minimize_liq\u001b[0;34m(self, in_gromos_simulation_system, prev_JobID)\u001b[0m\n\u001b[1;32m    261\u001b[0m in_gromos_simulation_system\u001b[38;5;241m.\u001b[39madapt_imd_automatically \u001b[38;5;241m=\u001b[39m \u001b[38;5;28;01mFalse\u001b[39;00m\n\u001b[1;32m    262\u001b[0m in_gromos_simulation_system\u001b[38;5;241m.\u001b[39mimd \u001b[38;5;241m=\u001b[39m \u001b[38;5;28mself\u001b[39m\u001b[38;5;241m.\u001b[39mimd_liq_min\n\u001b[0;32m--> 263\u001b[0m emin_sys \u001b[38;5;241m=\u001b[39m \u001b[43msimulation\u001b[49m\u001b[43m(\u001b[49m\n\u001b[1;32m    264\u001b[0m \u001b[43m    \u001b[49m\u001b[43min_gromos_simulation_system\u001b[49m\u001b[38;5;241;43m=\u001b[39;49m\u001b[43min_gromos_simulation_system\u001b[49m\u001b[43m,\u001b[49m\n\u001b[1;32m    265\u001b[0m \u001b[43m    \u001b[49m\u001b[43moverride_project_dir\u001b[49m\u001b[38;5;241;43m=\u001b[39;49m\u001b[38;5;28;43mself\u001b[39;49m\u001b[38;5;241;43m.\u001b[39;49m\u001b[43mgroSys_liq\u001b[49m\u001b[38;5;241;43m.\u001b[39;49m\u001b[43mwork_folder\u001b[49m\u001b[43m,\u001b[49m\n\u001b[1;32m    266\u001b[0m \u001b[43m    \u001b[49m\u001b[43mstep_name\u001b[49m\u001b[38;5;241;43m=\u001b[39;49m\u001b[38;5;28;43mself\u001b[39;49m\u001b[38;5;241;43m.\u001b[39;49m\u001b[43msystem_name\u001b[49m\u001b[43m \u001b[49m\u001b[38;5;241;43m+\u001b[39;49m\u001b[43m \u001b[49m\u001b[38;5;124;43m\"\u001b[39;49m\u001b[38;5;124;43m_emin\u001b[39;49m\u001b[38;5;124;43m\"\u001b[39;49m\u001b[43m,\u001b[49m\n\u001b[1;32m    267\u001b[0m \u001b[43m    \u001b[49m\u001b[43msubmission_system\u001b[49m\u001b[38;5;241;43m=\u001b[39;49m\u001b[38;5;28;43mself\u001b[39;49m\u001b[38;5;241;43m.\u001b[39;49m\u001b[43m_subsystem\u001b[49m\u001b[43m,\u001b[49m\n\u001b[1;32m    268\u001b[0m \u001b[43m    \u001b[49m\u001b[43manalysis_script\u001b[49m\u001b[38;5;241;43m=\u001b[39;49m\u001b[43msimulation_analysis\u001b[49m\u001b[38;5;241;43m.\u001b[39;49m\u001b[43mdo\u001b[49m\u001b[43m,\u001b[49m\n\u001b[1;32m    269\u001b[0m \u001b[43m    \u001b[49m\u001b[43mverbose\u001b[49m\u001b[38;5;241;43m=\u001b[39;49m\u001b[38;5;28;43mself\u001b[39;49m\u001b[38;5;241;43m.\u001b[39;49m\u001b[43mverbose\u001b[49m\u001b[43m,\u001b[49m\n\u001b[1;32m    270\u001b[0m \u001b[43m\u001b[49m\u001b[43m)\u001b[49m\n\u001b[1;32m    272\u001b[0m \u001b[38;5;28;01mreturn\u001b[39;00m emin_sys, emin_sys\u001b[38;5;241m.\u001b[39m_last_jobID\n",
      "File \u001b[0;32m~/work/PyGromosTools/PyGromosTools/pygromos/simulations/modules/general_simulation_modules.py:211\u001b[0m, in \u001b[0;36msimulation\u001b[0;34m(in_gromos_simulation_system, override_project_dir, step_name, in_imd_path, submission_system, simulation_runs, equilibration_runs, previous_simulation_run, force_simulation, initialize_first_run, reinitialize_every_run, analysis_script, analysis_control_dict, _no_double_submit_check, _work_dir, verbose, verbose_lvl, _template_imd_path)\u001b[0m\n\u001b[1;32m    209\u001b[0m \u001b[38;5;28;01mexcept\u001b[39;00m \u001b[38;5;167;01mException\u001b[39;00m \u001b[38;5;28;01mas\u001b[39;00m err:\n\u001b[1;32m    210\u001b[0m     traceback\u001b[38;5;241m.\u001b[39mprint_exception(\u001b[38;5;241m*\u001b[39msys\u001b[38;5;241m.\u001b[39mexc_info())\n\u001b[0;32m--> 211\u001b[0m     \u001b[38;5;28;01mraise\u001b[39;00m \u001b[38;5;167;01mException\u001b[39;00m(\u001b[38;5;124m\"\u001b[39m\u001b[38;5;124mCould not submit the commands\u001b[39m\u001b[38;5;130;01m\\n\u001b[39;00m\u001b[38;5;130;01m\\t\u001b[39;00m\u001b[38;5;124m\"\u001b[39m \u001b[38;5;241m+\u001b[39m \u001b[38;5;124m\"\u001b[39m\u001b[38;5;130;01m\\n\u001b[39;00m\u001b[38;5;130;01m\\t\u001b[39;00m\u001b[38;5;124m\"\u001b[39m\u001b[38;5;241m.\u001b[39mjoin(\u001b[38;5;28mmap\u001b[39m(\u001b[38;5;28mstr\u001b[39m, err\u001b[38;5;241m.\u001b[39margs)))\n\u001b[1;32m    213\u001b[0m time\u001b[38;5;241m.\u001b[39msleep(time_wait_s_for_filesystem)\n\u001b[1;32m    215\u001b[0m \u001b[38;5;66;03m# Return the promise final system\u001b[39;00m\n",
      "\u001b[0;31mException\u001b[0m: Could not submit the commands\n\tERROR in SUBMISSION!"
     ]
    }
   ],
   "source": [
    "emin_sys, jobID = sf.minimize_liq(in_gromos_simulation_system=sf.groSys_liq,prev_JobID=-1)"
   ]
  },
  {
   "cell_type": "markdown",
   "id": "00828090-cfe4-4a5f-95b8-e95888601c00",
   "metadata": {},
   "source": [
    "### Change the number of cores for longer runs"
   ]
  },
  {
   "cell_type": "code",
   "execution_count": 9,
   "id": "fa47f5ce-5bcb-4ead-8dfe-1e8daeac6ce7",
   "metadata": {
    "execution": {
     "iopub.execute_input": "2022-04-04T16:01:08.017999Z",
     "iopub.status.busy": "2022-04-04T16:01:08.017523Z",
     "iopub.status.idle": "2022-04-04T16:01:08.022010Z",
     "shell.execute_reply": "2022-04-04T16:01:08.021511Z"
    }
   },
   "outputs": [],
   "source": [
    "sf.subsystem.nomp = 6"
   ]
  },
  {
   "cell_type": "markdown",
   "id": "8378b895-17f6-4afa-bb4f-4b970d6ee7fe",
   "metadata": {},
   "source": [
    "## Equilibrate System"
   ]
  },
  {
   "cell_type": "code",
   "execution_count": 10,
   "id": "44e50e70-93fb-4010-bc6f-81cdbce7bbd4",
   "metadata": {
    "execution": {
     "iopub.execute_input": "2022-04-04T16:01:08.024803Z",
     "iopub.status.busy": "2022-04-04T16:01:08.024374Z",
     "iopub.status.idle": "2022-04-04T16:01:08.040515Z",
     "shell.execute_reply": "2022-04-04T16:01:08.040027Z"
    }
   },
   "outputs": [
    {
     "ename": "NameError",
     "evalue": "name 'emin_sys' is not defined",
     "output_type": "error",
     "traceback": [
      "\u001b[0;31m---------------------------------------------------------------------------\u001b[0m",
      "\u001b[0;31mNameError\u001b[0m                                 Traceback (most recent call last)",
      "Input \u001b[0;32mIn [10]\u001b[0m, in \u001b[0;36m<cell line: 1>\u001b[0;34m()\u001b[0m\n\u001b[0;32m----> 1\u001b[0m eq_sys, jobID \u001b[38;5;241m=\u001b[39m sf\u001b[38;5;241m.\u001b[39meq_liq(in_gromos_simulation_system\u001b[38;5;241m=\u001b[39m\u001b[43memin_sys\u001b[49m,prev_JobID\u001b[38;5;241m=\u001b[39mjobID)\n",
      "\u001b[0;31mNameError\u001b[0m: name 'emin_sys' is not defined"
     ]
    }
   ],
   "source": [
    "eq_sys, jobID = sf.eq_liq(in_gromos_simulation_system=emin_sys,prev_JobID=jobID)"
   ]
  },
  {
   "cell_type": "markdown",
   "id": "2b48e02f-7e66-4d16-bb7c-05248b4ba7dc",
   "metadata": {},
   "source": [
    "## Do TI calculation"
   ]
  },
  {
   "cell_type": "code",
   "execution_count": 11,
   "id": "99c54250-dabe-48fa-a26f-966516569bca",
   "metadata": {
    "execution": {
     "iopub.execute_input": "2022-04-04T16:01:08.043763Z",
     "iopub.status.busy": "2022-04-04T16:01:08.043306Z",
     "iopub.status.idle": "2022-04-04T16:01:08.064376Z",
     "shell.execute_reply": "2022-04-04T16:01:08.063401Z"
    }
   },
   "outputs": [
    {
     "ename": "NameError",
     "evalue": "name 'eq_sys' is not defined",
     "output_type": "error",
     "traceback": [
      "\u001b[0;31m---------------------------------------------------------------------------\u001b[0m",
      "\u001b[0;31mNameError\u001b[0m                                 Traceback (most recent call last)",
      "Input \u001b[0;32mIn [11]\u001b[0m, in \u001b[0;36m<cell line: 1>\u001b[0;34m()\u001b[0m\n\u001b[0;32m----> 1\u001b[0m ti_sys, jobID \u001b[38;5;241m=\u001b[39m sf\u001b[38;5;241m.\u001b[39mti_liq(in_gromos_simulation_system\u001b[38;5;241m=\u001b[39m\u001b[43meq_sys\u001b[49m,\n\u001b[1;32m      2\u001b[0m                           prev_JobID\u001b[38;5;241m=\u001b[39mjobID,\n\u001b[1;32m      3\u001b[0m                           n_points\u001b[38;5;241m=\u001b[39mn_points)\n",
      "\u001b[0;31mNameError\u001b[0m: name 'eq_sys' is not defined"
     ]
    }
   ],
   "source": [
    "ti_sys, jobID = sf.ti_liq(in_gromos_simulation_system=eq_sys,\n",
    "                          prev_JobID=jobID,\n",
    "                          n_points=n_points)"
   ]
  },
  {
   "cell_type": "markdown",
   "id": "ac9fc432-63ff-476a-aeb4-b1fe028873e8",
   "metadata": {},
   "source": [
    "## Read out results"
   ]
  },
  {
   "cell_type": "code",
   "execution_count": 12,
   "id": "0ae0200b-7c7f-4a74-94e5-b7801f31b6ba",
   "metadata": {
    "execution": {
     "iopub.execute_input": "2022-04-04T16:01:08.068048Z",
     "iopub.status.busy": "2022-04-04T16:01:08.067595Z",
     "iopub.status.idle": "2022-04-04T16:01:08.107076Z",
     "shell.execute_reply": "2022-04-04T16:01:08.106520Z"
    }
   },
   "outputs": [
    {
     "name": "stdout",
     "output_type": "stream",
     "text": [
      "/home/runner/work/PyGromosTools/PyGromosTools/examples/example_files/solvation_free_energy/test_liq/ti/test_L0.0_2/test_L0.0_2/simulation/test_L0.0_2_1/test_L0.0_2\n"
     ]
    },
    {
     "ename": "NameError",
     "evalue": "name 'exit' is not defined",
     "output_type": "error",
     "traceback": [
      "\u001b[0;31m---------------------------------------------------------------------------\u001b[0m",
      "\u001b[0;31mNameError\u001b[0m                                 Traceback (most recent call last)",
      "Input \u001b[0;32mIn [12]\u001b[0m, in \u001b[0;36m<cell line: 1>\u001b[0;34m()\u001b[0m\n\u001b[0;32m----> 1\u001b[0m \u001b[43msf\u001b[49m\u001b[38;5;241;43m.\u001b[39;49m\u001b[43mcalculate_solvation_free_energy\u001b[49m\u001b[43m(\u001b[49m\u001b[43mn_points\u001b[49m\u001b[38;5;241;43m=\u001b[39;49m\u001b[43mn_points\u001b[49m\u001b[43m)\u001b[49m\n",
      "File \u001b[0;32m~/work/PyGromosTools/PyGromosTools/pygromos/simulations/approaches/solvation_free_energy_calculation/solvation_free_energy.py:882\u001b[0m, in \u001b[0;36mSolvation_free_energy_calculation.calculate_solvation_free_energy\u001b[0;34m(self, n_points)\u001b[0m\n\u001b[1;32m    880\u001b[0m \u001b[38;5;28;01melse\u001b[39;00m:\n\u001b[1;32m    881\u001b[0m     \u001b[38;5;28mprint\u001b[39m(path \u001b[38;5;241m+\u001b[39m \u001b[38;5;124m\"\u001b[39m\u001b[38;5;124msimulation/\u001b[39m\u001b[38;5;124m\"\u001b[39m \u001b[38;5;241m+\u001b[39m system_name \u001b[38;5;241m+\u001b[39m \u001b[38;5;124m\"\u001b[39m\u001b[38;5;124m_1/\u001b[39m\u001b[38;5;124m\"\u001b[39m \u001b[38;5;241m+\u001b[39m system_name)\n\u001b[0;32m--> 882\u001b[0m     \u001b[43mexit\u001b[49m(\u001b[38;5;124m\"\u001b[39m\u001b[38;5;124mNo Files have been found\u001b[39m\u001b[38;5;124m\"\u001b[39m)\n\u001b[1;32m    884\u001b[0m dhdls \u001b[38;5;241m=\u001b[39m [trg\u001b[38;5;241m.\u001b[39mdatabase\u001b[38;5;241m.\u001b[39mtotals[i][\u001b[38;5;241m2\u001b[39m] \u001b[38;5;28;01mfor\u001b[39;00m i \u001b[38;5;129;01min\u001b[39;00m \u001b[38;5;28mrange\u001b[39m(\u001b[38;5;28mlen\u001b[39m(trg\u001b[38;5;241m.\u001b[39mdatabase\u001b[38;5;241m.\u001b[39mtotals))]\n\u001b[1;32m    886\u001b[0m \u001b[38;5;66;03m# Remove simulation directory\u001b[39;00m\n",
      "\u001b[0;31mNameError\u001b[0m: name 'exit' is not defined"
     ]
    }
   ],
   "source": [
    "sf.calculate_solvation_free_energy(n_points=n_points)"
   ]
  }
 ],
 "metadata": {
  "interpreter": {
   "hash": "b1b7b2ea43b8e767316eee98e01335d045804d2d47db68b6a5827e187ee91a7e"
  },
  "kernelspec": {
   "display_name": "Python 3.9.7 ('pygro2')",
   "language": "python",
   "name": "python3"
  },
  "language_info": {
   "codemirror_mode": {
    "name": "ipython",
    "version": 3
   },
   "file_extension": ".py",
   "mimetype": "text/x-python",
   "name": "python",
   "nbconvert_exporter": "python",
   "pygments_lexer": "ipython3",
   "version": "3.9.12"
  },
  "widgets": {
   "application/vnd.jupyter.widget-state+json": {
    "state": {
     "05b6b67f17064b508efac0137cb075d8": {
      "model_module": "@jupyter-widgets/base",
      "model_module_version": "1.2.0",
      "model_name": "LayoutModel",
      "state": {
       "_model_module": "@jupyter-widgets/base",
       "_model_module_version": "1.2.0",
       "_model_name": "LayoutModel",
       "_view_count": null,
       "_view_module": "@jupyter-widgets/base",
       "_view_module_version": "1.2.0",
       "_view_name": "LayoutView",
       "align_content": null,
       "align_items": null,
       "align_self": null,
       "border": null,
       "bottom": null,
       "display": null,
       "flex": null,
       "flex_flow": null,
       "grid_area": null,
       "grid_auto_columns": null,
       "grid_auto_flow": null,
       "grid_auto_rows": null,
       "grid_column": null,
       "grid_gap": null,
       "grid_row": null,
       "grid_template_areas": null,
       "grid_template_columns": null,
       "grid_template_rows": null,
       "height": null,
       "justify_content": null,
       "justify_items": null,
       "left": null,
       "margin": null,
       "max_height": null,
       "max_width": null,
       "min_height": null,
       "min_width": null,
       "object_fit": null,
       "object_position": null,
       "order": null,
       "overflow": null,
       "overflow_x": null,
       "overflow_y": null,
       "padding": null,
       "right": null,
       "top": null,
       "visibility": null,
       "width": null
      }
     },
     "7bb033a3b8dc4e1ea0e9a9d744f8ba61": {
      "model_module": "nglview-js-widgets",
      "model_module_version": "3.0.1",
      "model_name": "ColormakerRegistryModel",
      "state": {
       "_dom_classes": [],
       "_model_module": "nglview-js-widgets",
       "_model_module_version": "3.0.1",
       "_model_name": "ColormakerRegistryModel",
       "_msg_ar": [],
       "_msg_q": [],
       "_ready": false,
       "_view_count": null,
       "_view_module": "nglview-js-widgets",
       "_view_module_version": "3.0.1",
       "_view_name": "ColormakerRegistryView",
       "layout": "IPY_MODEL_05b6b67f17064b508efac0137cb075d8"
      }
     }
    },
    "version_major": 2,
    "version_minor": 0
   }
  }
 },
 "nbformat": 4,
 "nbformat_minor": 5
}
