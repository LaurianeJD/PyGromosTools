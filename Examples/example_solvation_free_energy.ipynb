{
 "cells": [
  {
   "cell_type": "markdown",
   "id": "72f1ce38-58d7-4a3b-9d3a-dce74d35aa63",
   "metadata": {
    "tags": []
   },
   "source": [
    "# Calculation of Self Solvation Free Energy"
   ]
  },
  {
   "cell_type": "markdown",
   "id": "75236443-70b8-4449-80b2-25860d238d7f",
   "metadata": {},
   "source": [
    "## Do Imports"
   ]
  },
  {
   "cell_type": "code",
   "execution_count": 1,
   "id": "94d48e51-6f17-4dec-ac58-a9fc8e5f43f8",
   "metadata": {
    "execution": {
     "iopub.execute_input": "2022-04-04T15:47:02.909791Z",
     "iopub.status.busy": "2022-04-04T15:47:02.908804Z",
     "iopub.status.idle": "2022-04-04T15:47:03.784289Z",
     "shell.execute_reply": "2022-04-04T15:47:03.783544Z"
    }
   },
   "outputs": [
    {
     "name": "stderr",
     "output_type": "stream",
     "text": [
      "Warning: importing 'simtk.openmm' is deprecated.  Import 'openmm' instead.\n"
     ]
    },
    {
     "name": "stderr",
     "output_type": "stream",
     "text": [
      "Warning: Unable to load toolkit 'OpenEye Toolkit'. The Open Force Field Toolkit does not require the OpenEye Toolkits, and can use RDKit/AmberTools instead. However, if you have a valid license for the OpenEye Toolkits, consider installing them for faster performance and additional file format support: https://docs.eyesopen.com/toolkits/python/quickstart-python/linuxosx.html OpenEye offers free Toolkit licenses for academics: https://www.eyesopen.com/academic-licensing\n"
     ]
    },
    {
     "data": {
      "application/vnd.jupyter.widget-view+json": {
       "model_id": "45d81238b9784465972d178dfde93195",
       "version_major": 2,
       "version_minor": 0
      },
      "text/plain": []
     },
     "metadata": {},
     "output_type": "display_data"
    }
   ],
   "source": [
    "import os\n",
    "from rdkit import Chem\n",
    "import pygromos\n",
    "from pygromos.files.forcefield.openff.openff import OpenFF\n",
    "from pygromos.files.gromos_system.gromos_system import Gromos_System\n",
    "from pygromos.simulations.approaches.solvation_free_energy_calculation.solvation_free_energy import Solvation_free_energy_calculation\n",
    "from pygromos.simulations.hpc_queuing.submission_systems.local import LOCAL"
   ]
  },
  {
   "cell_type": "markdown",
   "id": "052c5ab1-b4e7-4b35-bff8-7b59ed59208b",
   "metadata": {},
   "source": [
    "## Choose Molecule to run calculation for"
   ]
  },
  {
   "cell_type": "code",
   "execution_count": 2,
   "id": "5df95e95-01e7-4092-85e3-e3cf1323981b",
   "metadata": {
    "execution": {
     "iopub.execute_input": "2022-04-04T15:47:03.788504Z",
     "iopub.status.busy": "2022-04-04T15:47:03.788074Z",
     "iopub.status.idle": "2022-04-04T15:47:03.792686Z",
     "shell.execute_reply": "2022-04-04T15:47:03.792173Z"
    }
   },
   "outputs": [],
   "source": [
    "smiles = \"c1ccccc1\"\n",
    "workfolder = project_dir = os.path.abspath(os.path.dirname(pygromos.__file__)+\"/../examples/example_files/solvation_free_energy\")"
   ]
  },
  {
   "cell_type": "markdown",
   "id": "ba09b82b-1c1f-48ef-be77-0b0f91d126ed",
   "metadata": {},
   "source": [
    "### create the gromos_system from a smile and get the number of atoms"
   ]
  },
  {
   "cell_type": "code",
   "execution_count": 3,
   "id": "ca203374",
   "metadata": {
    "execution": {
     "iopub.execute_input": "2022-04-04T15:47:03.795694Z",
     "iopub.status.busy": "2022-04-04T15:47:03.795241Z",
     "iopub.status.idle": "2022-04-04T15:47:05.045320Z",
     "shell.execute_reply": "2022-04-04T15:47:05.044176Z"
    }
   },
   "outputs": [
    {
     "name": "stdout",
     "output_type": "stream",
     "text": [
      "Found off: /home/runner/micromamba/envs/pygromosTest/lib/python3.9/site-packages/pygromos/data/ff/SMIRNOFF/openff_unconstrained-2.0.0.offxml\n"
     ]
    },
    {
     "name": "stderr",
     "output_type": "stream",
     "text": [
      "mkdir: cannot create directory ‘/home/runner/micromamba/envs/pygromosTest/lib/python3.9/site-packages/examples/example_files/solvation_free_energy’: No such file or directory\n"
     ]
    },
    {
     "ename": "OSError",
     "evalue": "could not make folder:\n /home/runner/micromamba/envs/pygromosTest/lib/python3.9/site-packages/examples/example_files/solvation_free_energy",
     "output_type": "error",
     "traceback": [
      "\u001b[0;31m---------------------------------------------------------------------------\u001b[0m",
      "\u001b[0;31mOSError\u001b[0m                                   Traceback (most recent call last)",
      "Input \u001b[0;32mIn [3]\u001b[0m, in \u001b[0;36m<cell line: 1>\u001b[0;34m()\u001b[0m\n\u001b[0;32m----> 1\u001b[0m groSys \u001b[38;5;241m=\u001b[39m \u001b[43mGromos_System\u001b[49m\u001b[43m(\u001b[49m\u001b[43mwork_folder\u001b[49m\u001b[38;5;241;43m=\u001b[39;49m\u001b[43mworkfolder\u001b[49m\u001b[43m,\u001b[49m\u001b[43m \u001b[49m\u001b[43msystem_name\u001b[49m\u001b[38;5;241;43m=\u001b[39;49m\u001b[38;5;124;43m\"\u001b[39;49m\u001b[38;5;124;43mtest\u001b[39;49m\u001b[38;5;124;43m\"\u001b[39;49m\u001b[43m,\u001b[49m\u001b[43m \u001b[49m\u001b[43min_smiles\u001b[49m\u001b[38;5;241;43m=\u001b[39;49m\u001b[43msmiles\u001b[49m\u001b[43m,\u001b[49m\u001b[43m \u001b[49m\u001b[43mforcefield\u001b[49m\u001b[38;5;241;43m=\u001b[39;49m\u001b[43mOpenFF\u001b[49m\u001b[43m(\u001b[49m\u001b[43m)\u001b[49m\u001b[43m,\u001b[49m\u001b[43m \u001b[49m\u001b[43mauto_convert\u001b[49m\u001b[38;5;241;43m=\u001b[39;49m\u001b[38;5;28;43;01mTrue\u001b[39;49;00m\u001b[43m)\u001b[49m\n\u001b[1;32m      2\u001b[0m number_of_atoms \u001b[38;5;241m=\u001b[39m groSys\u001b[38;5;241m.\u001b[39mmol\u001b[38;5;241m.\u001b[39mGetNumAtoms()\n\u001b[1;32m      3\u001b[0m \u001b[38;5;28mprint\u001b[39m(\u001b[38;5;124m\"\u001b[39m\u001b[38;5;124mNumber of atoms:\u001b[39m\u001b[38;5;124m\"\u001b[39m, number_of_atoms)\n",
      "File \u001b[0;32m~/micromamba/envs/pygromosTest/lib/python3.9/site-packages/pygromos/files/gromos_system/gromos_system.py:228\u001b[0m, in \u001b[0;36mGromos_System.__init__\u001b[0;34m(self, work_folder, system_name, rdkitMol, in_mol2_file, readIn, forcefield, auto_convert, adapt_imd_automatically, verbose, in_smiles, in_residue_list, in_top_path, in_cnf_path, in_imd_path, in_disres_path, in_ptp_path, in_posres_path, in_refpos_path, in_qmmm_path, in_gromosXX_bin_dir, in_gromosPP_bin_dir)\u001b[0m\n\u001b[1;32m    217\u001b[0m \u001b[38;5;66;03m# import files:\u001b[39;00m\n\u001b[1;32m    218\u001b[0m file_mapping \u001b[38;5;241m=\u001b[39m {\n\u001b[1;32m    219\u001b[0m     \u001b[38;5;124m\"\u001b[39m\u001b[38;5;124mimd\u001b[39m\u001b[38;5;124m\"\u001b[39m: in_imd_path,\n\u001b[1;32m    220\u001b[0m     \u001b[38;5;124m\"\u001b[39m\u001b[38;5;124mtop\u001b[39m\u001b[38;5;124m\"\u001b[39m: in_top_path,\n\u001b[0;32m   (...)\u001b[0m\n\u001b[1;32m    226\u001b[0m     \u001b[38;5;124m\"\u001b[39m\u001b[38;5;124mqmmm\u001b[39m\u001b[38;5;124m\"\u001b[39m: in_qmmm_path,\n\u001b[1;32m    227\u001b[0m }\n\u001b[0;32m--> 228\u001b[0m \u001b[38;5;28;43mself\u001b[39;49m\u001b[38;5;241;43m.\u001b[39;49m\u001b[43mparse_attribute_files\u001b[49m\u001b[43m(\u001b[49m\u001b[43mfile_mapping\u001b[49m\u001b[43m,\u001b[49m\u001b[43m \u001b[49m\u001b[43mreadIn\u001b[49m\u001b[38;5;241;43m=\u001b[39;49m\u001b[43mreadIn\u001b[49m\u001b[43m,\u001b[49m\u001b[43m \u001b[49m\u001b[43mverbose\u001b[49m\u001b[38;5;241;43m=\u001b[39;49m\u001b[43mverbose\u001b[49m\u001b[43m)\u001b[49m\n\u001b[1;32m    230\u001b[0m \u001b[38;5;66;03m# System Information:\u001b[39;00m\n\u001b[1;32m    231\u001b[0m \u001b[38;5;28;01mif\u001b[39;00m \u001b[38;5;129;01mnot\u001b[39;00m \u001b[38;5;28mself\u001b[39m\u001b[38;5;241m.\u001b[39m_cnf\u001b[38;5;241m.\u001b[39m_future_file:\n",
      "File \u001b[0;32m~/micromamba/envs/pygromosTest/lib/python3.9/site-packages/pygromos/files/gromos_system/gromos_system.py:830\u001b[0m, in \u001b[0;36mGromos_System.parse_attribute_files\u001b[0;34m(self, file_mapping, readIn, verbose)\u001b[0m\n\u001b[1;32m    828\u001b[0m \u001b[38;5;66;03m# Check if system folder is present\u001b[39;00m\n\u001b[1;32m    829\u001b[0m \u001b[38;5;28;01mif\u001b[39;00m \u001b[38;5;129;01mnot\u001b[39;00m os\u001b[38;5;241m.\u001b[39mpath\u001b[38;5;241m.\u001b[39mexists(\u001b[38;5;28mself\u001b[39m\u001b[38;5;241m.\u001b[39m_work_folder):\n\u001b[0;32m--> 830\u001b[0m     \u001b[43mbash\u001b[49m\u001b[38;5;241;43m.\u001b[39;49m\u001b[43mmake_folder\u001b[49m\u001b[43m(\u001b[49m\u001b[38;5;28;43mself\u001b[39;49m\u001b[38;5;241;43m.\u001b[39;49m\u001b[43m_work_folder\u001b[49m\u001b[43m)\u001b[49m\n\u001b[1;32m    831\u001b[0m check_file_paths\u001b[38;5;241m.\u001b[39mappend(\u001b[38;5;28mself\u001b[39m\u001b[38;5;241m.\u001b[39m_work_folder)\n\u001b[1;32m    833\u001b[0m \u001b[38;5;66;03m# Check if file- paths are valid\u001b[39;00m\n",
      "File \u001b[0;32m~/micromamba/envs/pygromosTest/lib/python3.9/site-packages/pygromos/utils/bash.py:558\u001b[0m, in \u001b[0;36mmake_folder\u001b[0;34m(in_directory_path, additional_option, verbose)\u001b[0m\n\u001b[1;32m    556\u001b[0m \u001b[38;5;28;01mif\u001b[39;00m \u001b[38;5;129;01mnot\u001b[39;00m os\u001b[38;5;241m.\u001b[39mpath\u001b[38;5;241m.\u001b[39misdir(in_directory_path):\n\u001b[1;32m    557\u001b[0m     \u001b[38;5;28;01mif\u001b[39;00m os\u001b[38;5;241m.\u001b[39msystem(mk_folder):\n\u001b[0;32m--> 558\u001b[0m         \u001b[38;5;28;01mraise\u001b[39;00m \u001b[38;5;167;01mOSError\u001b[39;00m(\u001b[38;5;124m\"\u001b[39m\u001b[38;5;124mcould not make folder:\u001b[39m\u001b[38;5;130;01m\\n\u001b[39;00m\u001b[38;5;124m \u001b[39m\u001b[38;5;124m\"\u001b[39m \u001b[38;5;241m+\u001b[39m \u001b[38;5;28mstr\u001b[39m(in_directory_path))\n\u001b[1;32m    560\u001b[0m \u001b[38;5;28;01melif\u001b[39;00m verbose:\n\u001b[1;32m    561\u001b[0m     warnings\u001b[38;5;241m.\u001b[39mwarn(\u001b[38;5;124m\"\u001b[39m\u001b[38;5;124mWARNING:\u001b[39m\u001b[38;5;130;01m\\n\u001b[39;00m\u001b[38;5;130;01m\\t\u001b[39;00m\u001b[38;5;124m Did not build already existing folder: \u001b[39m\u001b[38;5;124m\"\u001b[39m \u001b[38;5;241m+\u001b[39m in_directory_path, category\u001b[38;5;241m=\u001b[39m\u001b[38;5;167;01mUserWarning\u001b[39;00m)\n",
      "\u001b[0;31mOSError\u001b[0m: could not make folder:\n /home/runner/micromamba/envs/pygromosTest/lib/python3.9/site-packages/examples/example_files/solvation_free_energy"
     ]
    }
   ],
   "source": [
    "groSys = Gromos_System(work_folder=workfolder, system_name=\"test\", in_smiles=smiles, forcefield=OpenFF(), auto_convert=True)\n",
    "number_of_atoms = groSys.mol.GetNumAtoms()\n",
    "print(\"Number of atoms:\", number_of_atoms)"
   ]
  },
  {
   "cell_type": "code",
   "execution_count": 4,
   "id": "a5122674",
   "metadata": {
    "execution": {
     "iopub.execute_input": "2022-04-04T15:47:05.049890Z",
     "iopub.status.busy": "2022-04-04T15:47:05.049251Z",
     "iopub.status.idle": "2022-04-04T15:47:05.053673Z",
     "shell.execute_reply": "2022-04-04T15:47:05.053087Z"
    }
   },
   "outputs": [],
   "source": [
    "subSys = LOCAL() # use the local submission system (for cluster use LSF)"
   ]
  },
  {
   "cell_type": "code",
   "execution_count": 5,
   "id": "8895b4c7",
   "metadata": {
    "execution": {
     "iopub.execute_input": "2022-04-04T15:47:05.056456Z",
     "iopub.status.busy": "2022-04-04T15:47:05.056163Z",
     "iopub.status.idle": "2022-04-04T15:47:05.060289Z",
     "shell.execute_reply": "2022-04-04T15:47:05.059790Z"
    }
   },
   "outputs": [],
   "source": [
    "n_points = 5 # Number of Lambda points to calculate (typically 21)"
   ]
  },
  {
   "cell_type": "markdown",
   "id": "b6e2e24b-e946-4e3d-8d26-73a4406ed3b3",
   "metadata": {},
   "source": [
    "## Create The Solvation free energy calculation system"
   ]
  },
  {
   "cell_type": "code",
   "execution_count": 6,
   "id": "4d40ad51-654a-4594-b4a3-2133a369abe3",
   "metadata": {
    "execution": {
     "iopub.execute_input": "2022-04-04T15:47:05.062924Z",
     "iopub.status.busy": "2022-04-04T15:47:05.062743Z",
     "iopub.status.idle": "2022-04-04T15:47:05.081150Z",
     "shell.execute_reply": "2022-04-04T15:47:05.080586Z"
    }
   },
   "outputs": [
    {
     "ename": "NameError",
     "evalue": "name 'groSys' is not defined",
     "output_type": "error",
     "traceback": [
      "\u001b[0;31m---------------------------------------------------------------------------\u001b[0m",
      "\u001b[0;31mNameError\u001b[0m                                 Traceback (most recent call last)",
      "Input \u001b[0;32mIn [6]\u001b[0m, in \u001b[0;36m<cell line: 1>\u001b[0;34m()\u001b[0m\n\u001b[0;32m----> 1\u001b[0m sf \u001b[38;5;241m=\u001b[39m Solvation_free_energy_calculation(input_system\u001b[38;5;241m=\u001b[39m\u001b[43mgroSys\u001b[49m, \u001b[38;5;66;03m# Gromos_System, SMILES (str) or rdkit Mol\u001b[39;00m\n\u001b[1;32m      2\u001b[0m                                        work_folder\u001b[38;5;241m=\u001b[39mworkfolder, \u001b[38;5;66;03m# Folder to do calculations in\u001b[39;00m\n\u001b[1;32m      3\u001b[0m                                        system_name\u001b[38;5;241m=\u001b[39m\u001b[38;5;124m\"\u001b[39m\u001b[38;5;124mtest\u001b[39m\u001b[38;5;124m\"\u001b[39m, \u001b[38;5;66;03m# Name of the system (does not need to be smiles but convenient)\u001b[39;00m\n\u001b[1;32m      4\u001b[0m                                        forcefield\u001b[38;5;241m=\u001b[39mOpenFF(), \u001b[38;5;66;03m# Force field to use\u001b[39;00m\n\u001b[1;32m      5\u001b[0m                                        density\u001b[38;5;241m=\u001b[39m\u001b[38;5;241m789\u001b[39m, \u001b[38;5;66;03m# density of the liquid in kg/L\u001b[39;00m\n\u001b[1;32m      6\u001b[0m                                        num_molecules\u001b[38;5;241m=\u001b[39m\u001b[38;5;241m512\u001b[39m, \u001b[38;5;66;03m# number of molecules used for the calculation\u001b[39;00m\n\u001b[1;32m      7\u001b[0m                                        num_atoms\u001b[38;5;241m=\u001b[39mnumber_of_atoms, \u001b[38;5;66;03m# number of atoms in one molecule\u001b[39;00m\n\u001b[1;32m      8\u001b[0m                                        subsystem\u001b[38;5;241m=\u001b[39msubSys, \u001b[38;5;66;03m# Subsystem to use for calculation local or lsf\u001b[39;00m\n\u001b[1;32m      9\u001b[0m                                        amberscaling\u001b[38;5;241m=\u001b[39m\u001b[38;5;28;01mFalse\u001b[39;00m, \u001b[38;5;66;03m# Whether to use amberscaling (for openforcefield recommended)\u001b[39;00m\n\u001b[1;32m     10\u001b[0m                                        n_points\u001b[38;5;241m=\u001b[39mn_points)\n",
      "\u001b[0;31mNameError\u001b[0m: name 'groSys' is not defined"
     ]
    }
   ],
   "source": [
    "sf = Solvation_free_energy_calculation(input_system=groSys, # Gromos_System, SMILES (str) or rdkit Mol\n",
    "                                       work_folder=workfolder, # Folder to do calculations in\n",
    "                                       system_name=\"test\", # Name of the system (does not need to be smiles but convenient)\n",
    "                                       forcefield=OpenFF(), # Force field to use\n",
    "                                       density=789, # density of the liquid in kg/L\n",
    "                                       num_molecules=512, # number of molecules used for the calculation\n",
    "                                       num_atoms=number_of_atoms, # number of atoms in one molecule\n",
    "                                       subsystem=subSys, # Subsystem to use for calculation local or lsf\n",
    "                                       amberscaling=False, # Whether to use amberscaling (for openforcefield recommended)\n",
    "                                       n_points=n_points) # Number of Lambda points to calculate (typically 21)"
   ]
  },
  {
   "cell_type": "markdown",
   "id": "b2f60e6e-ddd6-4083-94c7-34b34703e3ab",
   "metadata": {},
   "source": [
    "### Create Liquid"
   ]
  },
  {
   "cell_type": "code",
   "execution_count": 7,
   "id": "014136a1-8d0b-435c-b7d9-65c53e93d6b6",
   "metadata": {
    "execution": {
     "iopub.execute_input": "2022-04-04T15:47:05.084094Z",
     "iopub.status.busy": "2022-04-04T15:47:05.083809Z",
     "iopub.status.idle": "2022-04-04T15:47:05.098976Z",
     "shell.execute_reply": "2022-04-04T15:47:05.098457Z"
    }
   },
   "outputs": [
    {
     "ename": "NameError",
     "evalue": "name 'sf' is not defined",
     "output_type": "error",
     "traceback": [
      "\u001b[0;31m---------------------------------------------------------------------------\u001b[0m",
      "\u001b[0;31mNameError\u001b[0m                                 Traceback (most recent call last)",
      "Input \u001b[0;32mIn [7]\u001b[0m, in \u001b[0;36m<cell line: 1>\u001b[0;34m()\u001b[0m\n\u001b[0;32m----> 1\u001b[0m \u001b[43msf\u001b[49m\u001b[38;5;241m.\u001b[39mcreate_liq()\n",
      "\u001b[0;31mNameError\u001b[0m: name 'sf' is not defined"
     ]
    }
   ],
   "source": [
    "sf.create_liq()"
   ]
  },
  {
   "cell_type": "markdown",
   "id": "5837a049-0596-46bd-89f6-5b48e32abb0b",
   "metadata": {},
   "source": [
    "### Minimize Liquid"
   ]
  },
  {
   "cell_type": "code",
   "execution_count": 8,
   "id": "d2e42771-a59f-4cc8-a8fe-cfcd4594bf2a",
   "metadata": {
    "execution": {
     "iopub.execute_input": "2022-04-04T15:47:05.101995Z",
     "iopub.status.busy": "2022-04-04T15:47:05.101555Z",
     "iopub.status.idle": "2022-04-04T15:47:05.119381Z",
     "shell.execute_reply": "2022-04-04T15:47:05.118612Z"
    }
   },
   "outputs": [
    {
     "ename": "NameError",
     "evalue": "name 'sf' is not defined",
     "output_type": "error",
     "traceback": [
      "\u001b[0;31m---------------------------------------------------------------------------\u001b[0m",
      "\u001b[0;31mNameError\u001b[0m                                 Traceback (most recent call last)",
      "Input \u001b[0;32mIn [8]\u001b[0m, in \u001b[0;36m<cell line: 1>\u001b[0;34m()\u001b[0m\n\u001b[0;32m----> 1\u001b[0m emin_sys, jobID \u001b[38;5;241m=\u001b[39m \u001b[43msf\u001b[49m\u001b[38;5;241m.\u001b[39mminimize_liq(in_gromos_simulation_system\u001b[38;5;241m=\u001b[39msf\u001b[38;5;241m.\u001b[39mgroSys_liq,prev_JobID\u001b[38;5;241m=\u001b[39m\u001b[38;5;241m-\u001b[39m\u001b[38;5;241m1\u001b[39m)\n",
      "\u001b[0;31mNameError\u001b[0m: name 'sf' is not defined"
     ]
    }
   ],
   "source": [
    "emin_sys, jobID = sf.minimize_liq(in_gromos_simulation_system=sf.groSys_liq,prev_JobID=-1)"
   ]
  },
  {
   "cell_type": "markdown",
   "id": "00828090-cfe4-4a5f-95b8-e95888601c00",
   "metadata": {},
   "source": [
    "### Change the number of cores for longer runs"
   ]
  },
  {
   "cell_type": "code",
   "execution_count": 9,
   "id": "fa47f5ce-5bcb-4ead-8dfe-1e8daeac6ce7",
   "metadata": {
    "execution": {
     "iopub.execute_input": "2022-04-04T15:47:05.124971Z",
     "iopub.status.busy": "2022-04-04T15:47:05.123442Z",
     "iopub.status.idle": "2022-04-04T15:47:05.139741Z",
     "shell.execute_reply": "2022-04-04T15:47:05.139241Z"
    }
   },
   "outputs": [
    {
     "ename": "NameError",
     "evalue": "name 'sf' is not defined",
     "output_type": "error",
     "traceback": [
      "\u001b[0;31m---------------------------------------------------------------------------\u001b[0m",
      "\u001b[0;31mNameError\u001b[0m                                 Traceback (most recent call last)",
      "Input \u001b[0;32mIn [9]\u001b[0m, in \u001b[0;36m<cell line: 1>\u001b[0;34m()\u001b[0m\n\u001b[0;32m----> 1\u001b[0m \u001b[43msf\u001b[49m\u001b[38;5;241m.\u001b[39msubsystem\u001b[38;5;241m.\u001b[39mnomp \u001b[38;5;241m=\u001b[39m \u001b[38;5;241m6\u001b[39m\n",
      "\u001b[0;31mNameError\u001b[0m: name 'sf' is not defined"
     ]
    }
   ],
   "source": [
    "sf.subsystem.nomp = 6"
   ]
  },
  {
   "cell_type": "markdown",
   "id": "8378b895-17f6-4afa-bb4f-4b970d6ee7fe",
   "metadata": {},
   "source": [
    "## Equilibrate System"
   ]
  },
  {
   "cell_type": "code",
   "execution_count": 10,
   "id": "44e50e70-93fb-4010-bc6f-81cdbce7bbd4",
   "metadata": {
    "execution": {
     "iopub.execute_input": "2022-04-04T15:47:05.142823Z",
     "iopub.status.busy": "2022-04-04T15:47:05.142519Z",
     "iopub.status.idle": "2022-04-04T15:47:05.158409Z",
     "shell.execute_reply": "2022-04-04T15:47:05.157810Z"
    }
   },
   "outputs": [
    {
     "ename": "NameError",
     "evalue": "name 'sf' is not defined",
     "output_type": "error",
     "traceback": [
      "\u001b[0;31m---------------------------------------------------------------------------\u001b[0m",
      "\u001b[0;31mNameError\u001b[0m                                 Traceback (most recent call last)",
      "Input \u001b[0;32mIn [10]\u001b[0m, in \u001b[0;36m<cell line: 1>\u001b[0;34m()\u001b[0m\n\u001b[0;32m----> 1\u001b[0m eq_sys, jobID \u001b[38;5;241m=\u001b[39m \u001b[43msf\u001b[49m\u001b[38;5;241m.\u001b[39meq_liq(in_gromos_simulation_system\u001b[38;5;241m=\u001b[39memin_sys,prev_JobID\u001b[38;5;241m=\u001b[39mjobID)\n",
      "\u001b[0;31mNameError\u001b[0m: name 'sf' is not defined"
     ]
    }
   ],
   "source": [
    "eq_sys, jobID = sf.eq_liq(in_gromos_simulation_system=emin_sys,prev_JobID=jobID)"
   ]
  },
  {
   "cell_type": "markdown",
   "id": "2b48e02f-7e66-4d16-bb7c-05248b4ba7dc",
   "metadata": {},
   "source": [
    "## Do TI calculation"
   ]
  },
  {
   "cell_type": "code",
   "execution_count": 11,
   "id": "99c54250-dabe-48fa-a26f-966516569bca",
   "metadata": {
    "execution": {
     "iopub.execute_input": "2022-04-04T15:47:05.161592Z",
     "iopub.status.busy": "2022-04-04T15:47:05.161311Z",
     "iopub.status.idle": "2022-04-04T15:47:05.177663Z",
     "shell.execute_reply": "2022-04-04T15:47:05.177138Z"
    }
   },
   "outputs": [
    {
     "ename": "NameError",
     "evalue": "name 'sf' is not defined",
     "output_type": "error",
     "traceback": [
      "\u001b[0;31m---------------------------------------------------------------------------\u001b[0m",
      "\u001b[0;31mNameError\u001b[0m                                 Traceback (most recent call last)",
      "Input \u001b[0;32mIn [11]\u001b[0m, in \u001b[0;36m<cell line: 1>\u001b[0;34m()\u001b[0m\n\u001b[0;32m----> 1\u001b[0m ti_sys, jobID \u001b[38;5;241m=\u001b[39m \u001b[43msf\u001b[49m\u001b[38;5;241m.\u001b[39mti_liq(in_gromos_simulation_system\u001b[38;5;241m=\u001b[39meq_sys,\n\u001b[1;32m      2\u001b[0m                           prev_JobID\u001b[38;5;241m=\u001b[39mjobID,\n\u001b[1;32m      3\u001b[0m                           n_points\u001b[38;5;241m=\u001b[39mn_points)\n",
      "\u001b[0;31mNameError\u001b[0m: name 'sf' is not defined"
     ]
    }
   ],
   "source": [
    "ti_sys, jobID = sf.ti_liq(in_gromos_simulation_system=eq_sys,\n",
    "                          prev_JobID=jobID,\n",
    "                          n_points=n_points)"
   ]
  },
  {
   "cell_type": "markdown",
   "id": "ac9fc432-63ff-476a-aeb4-b1fe028873e8",
   "metadata": {},
   "source": [
    "## Read out results"
   ]
  },
  {
   "cell_type": "code",
   "execution_count": 12,
   "id": "0ae0200b-7c7f-4a74-94e5-b7801f31b6ba",
   "metadata": {
    "execution": {
     "iopub.execute_input": "2022-04-04T15:47:05.181896Z",
     "iopub.status.busy": "2022-04-04T15:47:05.181585Z",
     "iopub.status.idle": "2022-04-04T15:47:05.197579Z",
     "shell.execute_reply": "2022-04-04T15:47:05.197029Z"
    }
   },
   "outputs": [
    {
     "ename": "NameError",
     "evalue": "name 'sf' is not defined",
     "output_type": "error",
     "traceback": [
      "\u001b[0;31m---------------------------------------------------------------------------\u001b[0m",
      "\u001b[0;31mNameError\u001b[0m                                 Traceback (most recent call last)",
      "Input \u001b[0;32mIn [12]\u001b[0m, in \u001b[0;36m<cell line: 1>\u001b[0;34m()\u001b[0m\n\u001b[0;32m----> 1\u001b[0m \u001b[43msf\u001b[49m\u001b[38;5;241m.\u001b[39mcalculate_solvation_free_energy(n_points\u001b[38;5;241m=\u001b[39mn_points)\n",
      "\u001b[0;31mNameError\u001b[0m: name 'sf' is not defined"
     ]
    }
   ],
   "source": [
    "sf.calculate_solvation_free_energy(n_points=n_points)"
   ]
  }
 ],
 "metadata": {
  "interpreter": {
   "hash": "b1b7b2ea43b8e767316eee98e01335d045804d2d47db68b6a5827e187ee91a7e"
  },
  "kernelspec": {
   "display_name": "Python 3.9.7 ('pygro2')",
   "language": "python",
   "name": "python3"
  },
  "language_info": {
   "codemirror_mode": {
    "name": "ipython",
    "version": 3
   },
   "file_extension": ".py",
   "mimetype": "text/x-python",
   "name": "python",
   "nbconvert_exporter": "python",
   "pygments_lexer": "ipython3",
   "version": "3.9.12"
  },
  "widgets": {
   "application/vnd.jupyter.widget-state+json": {
    "state": {
     "45d81238b9784465972d178dfde93195": {
      "model_module": "nglview-js-widgets",
      "model_module_version": "3.0.1",
      "model_name": "ColormakerRegistryModel",
      "state": {
       "_dom_classes": [],
       "_model_module": "nglview-js-widgets",
       "_model_module_version": "3.0.1",
       "_model_name": "ColormakerRegistryModel",
       "_msg_ar": [],
       "_msg_q": [],
       "_ready": false,
       "_view_count": null,
       "_view_module": "nglview-js-widgets",
       "_view_module_version": "3.0.1",
       "_view_name": "ColormakerRegistryView",
       "layout": "IPY_MODEL_83d9e5341fee4b039ae0acac1d0af6b6"
      }
     },
     "83d9e5341fee4b039ae0acac1d0af6b6": {
      "model_module": "@jupyter-widgets/base",
      "model_module_version": "1.2.0",
      "model_name": "LayoutModel",
      "state": {
       "_model_module": "@jupyter-widgets/base",
       "_model_module_version": "1.2.0",
       "_model_name": "LayoutModel",
       "_view_count": null,
       "_view_module": "@jupyter-widgets/base",
       "_view_module_version": "1.2.0",
       "_view_name": "LayoutView",
       "align_content": null,
       "align_items": null,
       "align_self": null,
       "border": null,
       "bottom": null,
       "display": null,
       "flex": null,
       "flex_flow": null,
       "grid_area": null,
       "grid_auto_columns": null,
       "grid_auto_flow": null,
       "grid_auto_rows": null,
       "grid_column": null,
       "grid_gap": null,
       "grid_row": null,
       "grid_template_areas": null,
       "grid_template_columns": null,
       "grid_template_rows": null,
       "height": null,
       "justify_content": null,
       "justify_items": null,
       "left": null,
       "margin": null,
       "max_height": null,
       "max_width": null,
       "min_height": null,
       "min_width": null,
       "object_fit": null,
       "object_position": null,
       "order": null,
       "overflow": null,
       "overflow_x": null,
       "overflow_y": null,
       "padding": null,
       "right": null,
       "top": null,
       "visibility": null,
       "width": null
      }
     }
    },
    "version_major": 2,
    "version_minor": 0
   }
  }
 },
 "nbformat": 4,
 "nbformat_minor": 5
}
