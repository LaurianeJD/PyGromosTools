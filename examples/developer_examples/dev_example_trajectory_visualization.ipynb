{
 "cells": [
  {
   "cell_type": "markdown",
   "id": "8239abda-7611-444e-92cb-05963c470bd7",
   "metadata": {
    "tags": []
   },
   "source": [
    "# PyGromos Visualization Example"
   ]
  },
  {
   "cell_type": "markdown",
   "id": "82900ea0-c687-4563-b0f6-8eac53934556",
   "metadata": {},
   "source": [
    "### Author: Paul Katzberger"
   ]
  },
  {
   "cell_type": "code",
   "execution_count": 1,
   "id": "70aa47e8-1233-42ec-a6b2-85fc29197d5a",
   "metadata": {},
   "outputs": [
    {
     "data": {
      "application/vnd.jupyter.widget-view+json": {
       "model_id": "573f3479b8eb400fa9b769a5fcd17bbd",
       "version_major": 2,
       "version_minor": 0
      },
      "text/plain": []
     },
     "metadata": {},
     "output_type": "display_data"
    }
   ],
   "source": [
    "from pygromos.files.trajectory.trc import Trc\n",
    "import sys"
   ]
  },
  {
   "cell_type": "markdown",
   "id": "369107eb-036d-4e00-8430-a81b7af3c728",
   "metadata": {},
   "source": [
    "## Load Trajectory"
   ]
  },
  {
   "cell_type": "code",
   "execution_count": 2,
   "id": "b337c5ad-fe17-48a9-a764-2e7cfe3f8e2d",
   "metadata": {},
   "outputs": [],
   "source": [
    "t = Trc(traj_path='../example_files/Traj_files/b_emin_vacuum_1.trc',\n",
    "          in_cnf='../example_files/Traj_files/b_emin_vacuum.cnf')"
   ]
  },
  {
   "cell_type": "code",
   "execution_count": 3,
   "id": "409e958b",
   "metadata": {},
   "outputs": [
    {
     "data": {
      "text/plain": [
       "GENBOX\n",
       "    0\n",
       "    0.000000000    0.000000000    0.000000000\n",
       "    0.000000000    0.000000000    0.000000000\n",
       "    0.000000000    0.000000000    0.000000000\n",
       "    0.000000000    0.000000000    0.000000000\n",
       "END"
      ]
     },
     "execution_count": 3,
     "metadata": {},
     "output_type": "execute_result"
    }
   ],
   "source": [
    "from pygromos.files.coord.cnf import Cnf\n",
    "Cnf('../example_files/Traj_files/b_emin_vacuum.cnf').GENBOX"
   ]
  },
  {
   "cell_type": "code",
   "execution_count": 4,
   "id": "da5fc3a1",
   "metadata": {},
   "outputs": [
    {
     "data": {
      "text/plain": [
       "TITLE\n",
       "THIS IS THE FRAME AT TIMESTEP: 0.0 OF THE TRAJECTORY WITH TITLE:TITLEMD++steepest descent energy minimization of the peptide in vacuum>>> Generated with PyGromosTools (riniker group) <<<position trajectoryENDEND\n",
       "POSITION\n",
       "# \t \n",
       "    1 VAL   H1         0    1.241783619    1.501556754    1.518273115\n",
       "    1 VAL   H2         1    1.221597552    1.373896718    1.618130922\n",
       "    1 VAL   N          2    1.196200013    1.413300037    1.529800057\n",
       "    1 VAL   H3         3    1.097093344    1.426247716    1.526603222\n",
       "    1 VAL   CA         4    1.237300038    1.322399974    1.421900034\n",
       "    1 VAL   CB         5    1.116099954    1.268700004    1.345399976\n",
       "    1 VAL   CG1        6    1.041700006    1.369500041    1.257599950\n",
       "    1 VAL   CG2        7    1.157799959    1.148100019    1.261100054\n",
       "    1 VAL   C          8    1.335700035    1.393300056    1.328600049\n",
       "    1 VAL   O          9    1.447800040    1.344200015    1.316599965\n",
       "    2 TYR   N         10    1.297799945    1.514299989    1.288499951\n",
       "    2 TYR   H         11    1.210575342    1.551469564    1.320284724\n",
       "    2 TYR   CA        12    1.381800056    1.594400048    1.198300004\n",
       "    2 TYR   CB        13    1.320799947    1.731299996    1.167700052\n",
       "    2 TYR   CG        14    1.316699982    1.828699946    1.285500050\n",
       "    2 TYR   CD1       15    1.209300041    1.823699951    1.373600006\n",
       "    2 TYR   HD1       16    1.130290031    1.749796510    1.360307336\n",
       "    2 TYR   CD2       17    1.420400023    1.919600010    1.302999973\n",
       "    2 TYR   HD2       18    1.504990935    1.920076966    1.234260201\n",
       "    2 TYR   CE1       19    1.204100013    1.914299965    1.478899956\n",
       "    2 TYR   HE1       20    1.120330811    1.912712812    1.548622251\n",
       "    2 TYR   CE2       21    1.415699959    2.009900093    1.408599973\n",
       "    2 TYR   HE2       22    1.496221900    2.081795692    1.423707128\n",
       "    2 TYR   CZ        23    1.306499958    2.006900072    1.494600058\n",
       "    2 TYR   OH        24    1.302999973    2.103699923    1.590000033\n",
       "    2 TYR   HH        25    1.385890961    2.159332991    1.584162593\n",
       "    2 TYR   C         26    1.517899990    1.617699981    1.264199972\n",
       "    2 TYR   O         27    1.624899983    1.586099982    1.212399960\n",
       "    3 ARG   N         28    1.514400005    1.657099962    1.391100049\n",
       "    3 ARG   H         29    1.427383900    1.670744777    1.438449860\n",
       "    3 ARG   CA        30    1.642400026    1.679999948    1.459699988\n",
       "    3 ARG   CB        31    1.616999984    1.721099973    1.604799986\n",
       "    3 ARG   CG        32    1.539899945    1.617300034    1.686499953\n",
       "    3 ARG   CD        33    1.608899951    1.605999947    1.822499990\n",
       "    3 ARG   NE        34    1.527400017    1.525500059    1.914700031\n",
       "    3 ARG   HE        35    1.438096762    1.493764281    1.882797241\n",
       "    3 ARG   CZ        36    1.565299988    1.491999984    2.038800001\n",
       "    3 ARG   NH1       37    1.686400056    1.525699973    2.085099936\n",
       "    3 ARG   HH11      38    1.713360906    1.500046372    2.177917004\n",
       "    3 ARG   HH12      39    1.749840856    1.576510906    2.026846170\n",
       "    3 ARG   NH2       40    1.485200047    1.418599963    2.117199898\n",
       "    3 ARG   HH21      41    1.514453769    1.394156218    2.209648371\n",
       "    3 ARG   HH22      42    1.396160364    1.388258696    2.083268642\n",
       "    3 ARG   C         43    1.729900002    1.554499984    1.457100034\n",
       "    3 ARG   O         44    1.845399976    1.559499979    1.414999962\n",
       "    4 LYSH  N         45    1.668200016    1.443600059    1.496999979\n",
       "    4 LYSH  H         46    1.571910381    1.447946429    1.523634791\n",
       "    4 LYSH  CA        47    1.738800049    1.314800024    1.502699971\n",
       "    4 LYSH  CB        48    1.646499991    1.196799994    1.533800006\n",
       "    4 LYSH  CG        49    1.572299957    1.213000059    1.666700006\n",
       "    4 LYSH  CD        50    1.497099996    1.082100034    1.691400051\n",
       "    4 LYSH  CE        51    1.396499991    1.097200036    1.805600047\n",
       "    4 LYSH  NZ        52    1.320999980    0.974500000    1.834699988\n",
       "    4 LYSH  HZ1       53    1.350271821    0.901778340    1.772613525\n",
       "    4 LYSH  HZ2       54    1.223278522    0.991693079    1.822253942\n",
       "    4 LYSH  HZ3       55    1.337909222    0.946523368    1.929206014\n",
       "    4 LYSH  C         56    1.798300028    1.287600040    1.364400029\n",
       "    4 LYSH  O         57    1.917500019    1.258100033    1.358999968\n",
       "    5 GLN   N         58    1.716099977    1.293599963    1.259999990\n",
       "    5 GLN   H         59    1.618525863    1.310613275    1.273778439\n",
       "    5 GLN   CA        60    1.769400001    1.275099993    1.124300003\n",
       "    5 GLN   CB        61    1.656700015    1.300199986    1.023800015\n",
       "    5 GLN   CG        62    1.626999974    1.446799994    0.991699994\n",
       "    5 GLN   CD        63    1.523100019    1.473500013    0.882700026\n",
       "    5 GLN   OE1       64    1.501500010    1.390900016    0.794200003\n",
       "    5 GLN   NE2       65    1.460299969    1.590499997    0.891200006\n",
       "    5 GLN   HE21      66    1.390971780    1.615073204    0.823452234\n",
       "    5 GLN   HE22      67    1.482431531    1.653856635    0.965335846\n",
       "    5 GLN   C         68    1.892899990    1.359899998    1.093299985\n",
       "    5 GLN   O1        69    1.991899967    1.296800017    1.050300002\n",
       "    5 GLN   O2        70    1.885100007    1.482599974    1.116000056\n",
       "END\n",
       "GENBOX\n",
       "    0\n",
       "    0.000000000    0.000000000    0.000000000\n",
       "    0.000000000    0.000000000    0.000000000\n",
       "    0.000000000    0.000000000    0.000000000\n",
       "    0.000000000    0.000000000    0.000000000\n",
       "END"
      ]
     },
     "execution_count": 4,
     "metadata": {},
     "output_type": "execute_result"
    }
   ],
   "source": [
    "t.to_conf(base_cnf='../example_files/Traj_files/b_emin_vacuum.cnf')"
   ]
  },
  {
   "cell_type": "code",
   "execution_count": 8,
   "id": "132f8441",
   "metadata": {},
   "outputs": [
    {
     "data": {
      "text/plain": [
       "True"
      ]
     },
     "execution_count": 8,
     "metadata": {},
     "output_type": "execute_result"
    }
   ],
   "source": [
    "t.unitcell_lengths[60]"
   ]
  },
  {
   "cell_type": "code",
   "execution_count": null,
   "id": "b6779e4d",
   "metadata": {},
   "outputs": [],
   "source": [
    "t._unitcell_lengths"
   ]
  },
  {
   "cell_type": "markdown",
   "id": "f365f7b1-ca81-42eb-9fdb-f5f1775cc416",
   "metadata": {},
   "source": [
    "## Create Visualization"
   ]
  },
  {
   "cell_type": "code",
   "execution_count": null,
   "id": "b1200a58-b534-41c3-b351-f2927126a28f",
   "metadata": {},
   "outputs": [],
   "source": [
    "t.view"
   ]
  },
  {
   "cell_type": "markdown",
   "id": "ae53eead-5654-435d-804c-5b34297f1ca5",
   "metadata": {},
   "source": [
    "## Do some changes and see how the visualization changes"
   ]
  },
  {
   "cell_type": "markdown",
   "id": "4a339b02-35b4-4063-8920-f6e1de81792b",
   "metadata": {},
   "source": [
    "### press play or select frame directly (i.e. 70)"
   ]
  },
  {
   "cell_type": "code",
   "execution_count": null,
   "id": "bc3169c8-e7f8-4759-a12a-374de9857646",
   "metadata": {},
   "outputs": [],
   "source": [
    "t.view.frame = 70"
   ]
  },
  {
   "cell_type": "markdown",
   "id": "98a13ac6-e07a-4bb3-966c-0b4ef636b612",
   "metadata": {},
   "source": [
    "### show hydrogen Bonds"
   ]
  },
  {
   "cell_type": "code",
   "execution_count": null,
   "id": "8834362f-50f1-42e1-90b1-2f1bf82a1b9a",
   "metadata": {},
   "outputs": [],
   "source": [
    "t.view.add_contact(hydrogenBond=True)"
   ]
  },
  {
   "cell_type": "markdown",
   "id": "4a9ba34d-06a2-4d3e-90d6-ee9f4a7cbfab",
   "metadata": {},
   "source": [
    "### add surface"
   ]
  },
  {
   "cell_type": "code",
   "execution_count": null,
   "id": "9a52832b-851b-4950-b7d4-013baad9074e",
   "metadata": {},
   "outputs": [],
   "source": [
    "t.view.add_surface(color=\"lightgrey\",opacity=0.3)"
   ]
  },
  {
   "cell_type": "markdown",
   "id": "c8814049-8c91-469a-9366-fe06e5d3a4f8",
   "metadata": {},
   "source": [
    "### remove surface"
   ]
  },
  {
   "cell_type": "code",
   "execution_count": null,
   "id": "10b257b9-7f15-4e95-9d3a-7457dbe8bcb4",
   "metadata": {},
   "outputs": [],
   "source": [
    "t.view.remove_surface()"
   ]
  },
  {
   "cell_type": "markdown",
   "id": "3f0fe172-840e-4385-98b3-662458d51662",
   "metadata": {},
   "source": [
    "### add transperent cartoon"
   ]
  },
  {
   "cell_type": "code",
   "execution_count": null,
   "id": "f918bc36-8317-4e29-b5e9-9a3d9bd20c98",
   "metadata": {},
   "outputs": [],
   "source": [
    "t.view.add_representation(\"cartoon\",selection=\"protein\",color='lightblue',opacity=0.3)"
   ]
  },
  {
   "cell_type": "markdown",
   "id": "13c34b80-3eb2-4477-ace9-6996d8671575",
   "metadata": {},
   "source": [
    "### show distance between atom pair"
   ]
  },
  {
   "cell_type": "code",
   "execution_count": null,
   "id": "ab63d665-939d-4e1d-af44-c53e76f0a3b1",
   "metadata": {},
   "outputs": [],
   "source": [
    "t.view.add_distance(atom_pair=[[10,16]], label_color=\"black\",color=\"darkgrey\")"
   ]
  },
  {
   "cell_type": "markdown",
   "id": "056334dd-3af9-4ce6-aec9-9ccbc2e546f7",
   "metadata": {},
   "source": [
    "### once you are happy with the result render and download image"
   ]
  },
  {
   "cell_type": "code",
   "execution_count": null,
   "id": "85c9a824-0b0f-4aeb-970a-5c52e9ecf290",
   "metadata": {},
   "outputs": [],
   "source": [
    "t.view.download_image('first_protein.png')"
   ]
  },
  {
   "cell_type": "markdown",
   "id": "6c7eb674-800a-4416-8377-2ce819a0bc24",
   "metadata": {},
   "source": [
    "### Go crazy and make a movie to show off"
   ]
  },
  {
   "cell_type": "code",
   "execution_count": null,
   "id": "88ae0440-91f0-41de-8d85-e632e537f00d",
   "metadata": {},
   "outputs": [],
   "source": [
    "### uncomment this for fast installation of NOT provided package\n",
    "# import sys\n",
    "# !{sys.executable} -m pip install moviepy\n",
    "\n",
    "import moviepy.editor as mpy\n",
    "from IPython import display\n",
    "from time import sleep\n",
    "import tqdm\n",
    "import os\n",
    "\n",
    "# Setup frames\n",
    "frames = len(t.step)\n",
    "template = '0image{}.png'\n",
    "download_dir = '/localhome/kpaul/Downloads/'\n",
    "imagefiles = [download_dir + template.format(str(i)) for i in range(0, frames, 1)]\n",
    "\n",
    "# render frames\n",
    "for frame in tqdm.tqdm(range(0, frames)):\n",
    "    t.view.frame = frame\n",
    "    sleep(0.2) # depending on the speed of the computer this might need to be increased\n",
    "    t.view.download_image(filename=template.format(frame))\n",
    "    sleep(1) # depending on the speed of the computer this might need to be increased\n",
    "\n",
    "# set frames per second and generate object\n",
    "frame_per_second = 8\n",
    "im = mpy.ImageSequenceClip(imagefiles, fps=frame_per_second)\n",
    "im.write_gif('protein.gif', fps=frame_per_second)\n",
    "\n",
    "# show movie\n",
    "display.HTML(\"<img src='protein.gif'></img>\")"
   ]
  },
  {
   "cell_type": "code",
   "execution_count": null,
   "id": "9ff538c0-74b4-42cb-bc49-6cbf61ad6b44",
   "metadata": {},
   "outputs": [],
   "source": []
  }
 ],
 "metadata": {
  "kernelspec": {
   "display_name": "Python 3 (ipykernel)",
   "language": "python",
   "name": "python3"
  },
  "language_info": {
   "codemirror_mode": {
    "name": "ipython",
    "version": 3
   },
   "file_extension": ".py",
   "mimetype": "text/x-python",
   "name": "python",
   "nbconvert_exporter": "python",
   "pygments_lexer": "ipython3",
   "version": "3.9.10"
  }
 },
 "nbformat": 4,
 "nbformat_minor": 5
}
