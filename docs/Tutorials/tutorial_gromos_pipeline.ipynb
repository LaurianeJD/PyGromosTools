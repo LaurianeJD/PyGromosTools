{
 "cells": [
  {
   "cell_type": "markdown",
   "metadata": {
    "collapsed": true,
    "pycharm": {
     "name": "#%% md\n"
    }
   },
   "source": [
    "# Gromos Tutorial Pipeline"
   ]
  },
  {
   "cell_type": "code",
   "execution_count": 3,
   "metadata": {
    "collapsed": false,
    "pycharm": {
     "name": "#%%\n"
    }
   },
   "outputs": [
    {
     "name": "stdout",
     "output_type": "stream",
     "text": [
      "C:\\Users\\benja\\OneDrive - ETH Zürich\\PhD\\Code\\pygromos\\examples\n",
      "\n",
      "GROMOSPATH \n"
     ]
    }
   ],
   "source": [
    "import os, sys\n",
    "root_dir = os.getcwd()\n",
    "\n",
    "#if package is not installed and path not set correct - this helps you out :)\n",
    "sys.path.append(root_dir+\"/..\")"
   ]
  },
  {
   "cell_type": "code",
   "execution_count": null,
   "metadata": {
    "collapsed": false,
    "pycharm": {
     "name": "#%%\n"
    }
   },
   "outputs": [],
   "source": [
    "print(orig_dir)\n",
    "from pygromos.gromos.gromosPP import GromosPP\n",
    "from pygromos.gromos.gromosXX import GromosXX\n",
    "\n",
    "gromosPP_bin = None\n",
    "gromosXX_bin = None\n",
    "gromPP = GromosPP(gromosPP_bin)\n",
    "gromXX = GromosXX(gromosXX_bin)\n",
    "gromPP = GromosPP()"
   ]
  },
  {
   "cell_type": "markdown",
   "metadata": {
    "collapsed": false,
    "pycharm": {
     "name": "#%% md\n"
    }
   },
   "source": [
    "## generate Topology\n",
    "### build single topologies"
   ]
  },
  {
   "cell_type": "code",
   "execution_count": null,
   "metadata": {
    "collapsed": false,
    "pycharm": {
     "name": "#%%\n"
    }
   },
   "outputs": [],
   "source": [
    "from pygromos.data.ff import Gromos54A7\n",
    "\n",
    "## Make Cl-\n",
    "sequence = \"CL-\"\n",
    "solvent = \"H2O\"\n",
    "top_cl = \"example_files/topo/cl.top\"\n",
    "\n",
    "gromPP.make_top(in_building_block_lib_path=Gromos54A7.mtb, in_parameter_lib_path=Gromos54A7.ifp,\n",
    "                in_sequence=sequence, in_solvent=\"\",out_top_path=top_cl)\n",
    "\n",
    "## Make Peptide\n",
    "sequence = \"NH3+ VAL TYR ARG LYSH GLN COO-\"\n",
    "solvent = \"H2O\"\n",
    "top_peptide = \"example_files/topo/peptide.top\"\n",
    "\n",
    "gromPP.make_top(in_building_block_lib_path=Gromos54A7.mtb, in_parameter_lib_path=Gromos54A7.ifp,\n",
    "                in_sequence=sequence, in_solvent=\"\",out_top_path=top_peptide)\n"
   ]
  },
  {
   "cell_type": "markdown",
   "metadata": {
    "collapsed": false,
    "pycharm": {
     "name": "#%% md\n"
    }
   },
   "source": [
    "### combine topology"
   ]
  },
  {
   "cell_type": "code",
   "execution_count": null,
   "metadata": {
    "collapsed": false,
    "pycharm": {
     "name": "#%%\n"
    }
   },
   "outputs": [],
   "source": [
    "top_vacuum_system = \"example_files/topo/vac_sys.top\"\n",
    "gromPP.com_top(top_peptide, top_cl, out_top_path=top_vacuum_system)\n"
   ]
  },
  {
   "cell_type": "markdown",
   "metadata": {
    "collapsed": false
   },
   "source": [
    "## generate coordinates\n"
   ]
  },
  {
   "cell_type": "code",
   "execution_count": null,
   "metadata": {
    "collapsed": false,
    "pycharm": {
     "name": "#%%\n"
    }
   },
   "outputs": [],
   "source": [
    "in_pdb = \"example_files/coord/peptide.pdb\"\n",
    "cnf_peptide = \"examples/example_files/coord/cnf_vacuum_peptide.cnf\"\n",
    "\n",
    "cnf_peptide = gromPP.pdb2gromos(in_pdb_path=in_pdb, in_top_path=top_peptide, out_cnf_path=cnf_peptide)"
   ]
  },
  {
   "cell_type": "markdown",
   "metadata": {
    "collapsed": false,
    "pycharm": {
     "name": "#%% md\n"
    }
   },
   "source": [
    "### add hydrogens"
   ]
  },
  {
   "cell_type": "code",
   "execution_count": null,
   "metadata": {
    "collapsed": false,
    "pycharm": {
     "name": "#%%\n"
    }
   },
   "outputs": [],
   "source": [
    "cnf_hpeptide = \"example_files/coord/cnf_vacuum_hpeptide.cnf\"\n",
    "cnf_hpeptide = gromPP.protonate(in_cnf_path=cnf_peptide, in_top_path=top_peptide, out_cnf_path=cnf_hpeptide)"
   ]
  },
  {
   "cell_type": "markdown",
   "metadata": {
    "collapsed": false
   },
   "source": [
    "### cnf to pdb"
   ]
  },
  {
   "cell_type": "code",
   "execution_count": null,
   "metadata": {
    "collapsed": false,
    "pycharm": {
     "name": "#%%\n"
    }
   },
   "outputs": [],
   "source": [
    "out_pdb = \"example_files/coord/cnf_vacuum_hpeptide.pdb\"\n",
    "out_pdb = gromPP.frameout(in_coord_path=cnf_hpeptide, in_top_path=top_peptide, out_file_path=out_pdb,\n",
    "                               periodic_boundary_condition=\"v\", out_file_format=\"pdb\", notimeblock=True)"
   ]
  },
  {
   "cell_type": "markdown",
   "metadata": {
    "collapsed": false
   },
   "source": [
    "### Vacuum energy minimization"
   ]
  },
  {
   "cell_type": "code",
   "execution_count": null,
   "metadata": {
    "collapsed": false,
    "pycharm": {
     "name": "#%%\n"
    }
   },
   "outputs": [],
   "source": [
    "from pygromos.data.imd_templates import template_emin\n",
    "from pygromos.files import imd\n",
    "\n",
    "vacuum_emin_dir = \"example_files/box\"\n",
    "out_prefix = \"vacuum_emin\"\n",
    "\n",
    "vacuum_emin_imd_file = imd.Imd(template_emin)\n",
    "imd_emin_vacuum = vacuum_emin_imd_file.write(vacuum_emin_dir+\"/\"+out_prefix+\".imd\")\n",
    "os.chdir(vacuum_emin_dir)\n",
    "\n",
    "\n",
    "cnf_emin_vacuum = vacuum_emin_dir + \"/\" + out_prefix+\".cnf\""
   ]
  },
  {
   "cell_type": "markdown",
   "metadata": {
    "collapsed": false,
    "pycharm": {
     "name": "#%% md\n"
    }
   },
   "source": [
    "### build box system"
   ]
  },
  {
   "cell_type": "code",
   "execution_count": null,
   "metadata": {
    "collapsed": false,
    "pycharm": {
     "name": "#%%\n"
    }
   },
   "outputs": [],
   "source": [
    "from pygromos.data.solvents import spc\n",
    "cnf_box = gromPP.sim_box(in_top_path=top_vacuum_system, in_cnf_path=cnf_emin_vacuum,in_solvent_cnf_file_path=spc,\n",
    "                         periodic_boundary_condition=\"r\", minwall=0.8, threshold=0.23, rotate=True)"
   ]
  },
  {
   "cell_type": "markdown",
   "metadata": {
    "collapsed": false,
    "pycharm": {
     "name": "#%% md\n"
    }
   },
   "source": [
    "## run Energy Minimization"
   ]
  },
  {
   "cell_type": "code",
   "execution_count": null,
   "metadata": {
    "collapsed": false,
    "pycharm": {
     "name": "#%%\n"
    }
   },
   "outputs": [],
   "source": [
    "from pygromos.files import imd\n",
    "from pygromos.files.coord import cnf\n",
    "from pygromos.data.imd_templates import template_emin\n",
    "\n",
    "emin_dir = \"example_files/min\"\n",
    "out_prefix = \"emin\"\n",
    "\n",
    "cnf_box = cnf.Cnf(input=cnf_box)\n",
    "residues = cnf_box.get_residues()\n",
    "\n",
    "emin_imd = imd.Imd(template_emin)\n",
    "imd_emin_box = emin_imd.write(emin_dir+\"/\"+out_prefix+\".imd\")\n",
    "#TODO: add solv num\n",
    "cnf_reference_position = cnf_box.write_refpos(out_prefix+\"/refpos.rpf\")\n",
    "cnf_position_restraint = cnf_box.write_possrespec(out_prefix+\"/posres.pos\")\n",
    "\n",
    "os.chdir(emin_dir)\n",
    "\n",
    "gromXX.md_run(in_coord_path=cnf_box, in_topo_path=top_vacuum_system,\n",
    "              in_refpos_path=cnf_reference_position, cnf_position_restraint=cnf_position_restraint,\n",
    "              in_imd_path=imd_emin_box,\n",
    "              out_prefix=out_prefix)\n"
   ]
  },
  {
   "cell_type": "markdown",
   "metadata": {
    "collapsed": false,
    "pycharm": {
     "name": "#%% md\n"
    }
   },
   "source": [
    "## Equilibration\n",
    " To be implemented!"
   ]
  },
  {
   "cell_type": "code",
   "execution_count": 6,
   "metadata": {
    "collapsed": false,
    "pycharm": {
     "name": "#%%\n"
    }
   },
   "outputs": [
    {
     "name": "stdout",
     "output_type": "stream",
     "text": [
      "New file generated: example_files/min/emin.imd\n"
     ]
    },
    {
     "ename": "NameError",
     "evalue": "name 'cnf_box' is not defined",
     "output_type": "error",
     "traceback": [
      "\u001b[1;31m---------------------------------------------------------------------------\u001b[0m",
      "\u001b[1;31mNameError\u001b[0m                                 Traceback (most recent call last)",
      "\u001b[1;32m<ipython-input-6-efde95f5d21a>\u001b[0m in \u001b[0;36m<module>\u001b[1;34m\u001b[0m\n\u001b[0;32m      9\u001b[0m \u001b[0mimd_emin_box\u001b[0m \u001b[1;33m=\u001b[0m \u001b[0memin_imd\u001b[0m\u001b[1;33m.\u001b[0m\u001b[0mwrite\u001b[0m\u001b[1;33m(\u001b[0m\u001b[0memin_dir\u001b[0m\u001b[1;33m+\u001b[0m\u001b[1;34m\"/\"\u001b[0m\u001b[1;33m+\u001b[0m\u001b[0mout_prefix\u001b[0m\u001b[1;33m+\u001b[0m\u001b[1;34m\".imd\"\u001b[0m\u001b[1;33m)\u001b[0m\u001b[1;33m\u001b[0m\u001b[1;33m\u001b[0m\u001b[0m\n\u001b[0;32m     10\u001b[0m \u001b[1;33m\u001b[0m\u001b[0m\n\u001b[1;32m---> 11\u001b[1;33m \u001b[0mcnf_box\u001b[0m \u001b[1;33m=\u001b[0m \u001b[0mcnf\u001b[0m\u001b[1;33m.\u001b[0m\u001b[0mCnf\u001b[0m\u001b[1;33m(\u001b[0m\u001b[0minput\u001b[0m\u001b[1;33m=\u001b[0m\u001b[0mcnf_box\u001b[0m\u001b[1;33m)\u001b[0m\u001b[1;33m\u001b[0m\u001b[1;33m\u001b[0m\u001b[0m\n\u001b[0m\u001b[0;32m     12\u001b[0m \u001b[0mresidues\u001b[0m \u001b[1;33m=\u001b[0m \u001b[0mcnf_box\u001b[0m\u001b[1;33m.\u001b[0m\u001b[0mget_residues\u001b[0m\u001b[1;33m(\u001b[0m\u001b[1;33m)\u001b[0m\u001b[1;33m\u001b[0m\u001b[1;33m\u001b[0m\u001b[0m\n\u001b[0;32m     13\u001b[0m \u001b[0mout\u001b[0m \u001b[1;33m=\u001b[0m \u001b[0memin_imd\u001b[0m\u001b[1;33m.\u001b[0m\u001b[0mclean_residue_list_for_imd\u001b[0m\u001b[1;33m(\u001b[0m\u001b[0mresidues\u001b[0m\u001b[1;33m)\u001b[0m\u001b[1;33m\u001b[0m\u001b[1;33m\u001b[0m\u001b[0m\n",
      "\u001b[1;31mNameError\u001b[0m: name 'cnf_box' is not defined"
     ]
    }
   ],
   "source": [
    "from pygromos.files import imd\n",
    "from pygromos.files.coord import cnf\n",
    "from pygromos.data.imd_templates import template_emin\n",
    "\n",
    "emin_dir = \"example_files/min\"\n",
    "out_prefix = \"emin\"\n",
    "\n",
    "emin_imd = imd.Imd(template_emin)\n",
    "emin_imd.STEP.NSTLIM = 10000\n",
    "imd_emin_box = emin_imd.write(emin_dir+\"/\"+out_prefix+\".imd\")\n",
    "\n",
    "cnf_box = cnf.Cnf(input=cnf_box)\n",
    "residues = cnf_box.get_residues()\n",
    "out = emin_imd.clean_residue_list_for_imd(residues)\n"
   ]
  }
 ],
 "metadata": {
  "kernelspec": {
   "display_name": "Python 3.7(pygromos)",
   "language": "python",
   "name": "pygromos"
  },
  "language_info": {
   "codemirror_mode": {
    "name": "ipython",
    "version": 2
   },
   "file_extension": ".py",
   "mimetype": "text/x-python",
   "name": "python",
   "nbconvert_exporter": "python",
   "pygments_lexer": "ipython2",
   "version": "2.7.6"
  }
 },
 "nbformat": 4,
 "nbformat_minor": 0
}
