{
 "cells": [
  {
   "cell_type": "markdown",
   "metadata": {},
   "source": [
    "### Imports and settings for this notebool"
   ]
  },
  {
   "cell_type": "code",
   "execution_count": 1,
   "metadata": {},
   "outputs": [],
   "source": [
    "# general notebook formatting for markdown and plots\n",
    "%matplotlib inline\n",
    "%config InlineBackend.figure_format = 'retina'\n",
    "import warnings\n",
    "\n",
    "import matplotlib.pyplot as plt\n",
    "\n",
    "warnings.filterwarnings(\"ignore\", category=FutureWarning)\n",
    "warnings.filterwarnings = lambda *a, **kw: None\n",
    "from IPython.core.display import HTML"
   ]
  },
  {
   "cell_type": "code",
   "execution_count": 2,
   "metadata": {},
   "outputs": [
    {
     "name": "stderr",
     "output_type": "stream",
     "text": [
      "Warning: Unable to load toolkit 'OpenEye Toolkit'. The Open Force Field Toolkit does not require the OpenEye Toolkits, and can use RDKit/AmberTools instead. However, if you have a valid license for the OpenEye Toolkits, consider installing them for faster performance and additional file format support: https://docs.eyesopen.com/toolkits/python/quickstart-python/linuxosx.html OpenEye offers free Toolkit licenses for academics: https://www.eyesopen.com/academic-licensing\n"
     ]
    }
   ],
   "source": [
    "# imports for code examples\n",
    "import os\n",
    "\n",
    "from pygromos.files.gromos_system.gromos_system import Gromos_System\n",
    "from pygromos.files.gromos_system.ff.forcefield_system import forcefield_system\n",
    "from pygromos.files.simulation_parameters.imd import Imd\n",
    "\n",
    "from pygromos.simulations.modules.preset_simulation_modules import sd\n",
    "from pygromos.simulations.modules.preset_simulation_modules import emin\n",
    "from pygromos.data.simulation_parameters_templates import template_sd, template_emin_vac"
   ]
  },
  {
   "cell_type": "markdown",
   "metadata": {},
   "source": [
    "# PyGromosToolsDay"
   ]
  },
  {
   "cell_type": "markdown",
   "metadata": {},
   "source": [
    "## Introduction"
   ]
  },
  {
   "cell_type": "markdown",
   "metadata": {},
   "source": [
    "This notebook is created for the PyGromosToolsDay 17.02.2022    \n",
    "Author: Marc Thierry Lehner  \n",
    "\n",
    "This notbook is part of the PyGromosTools and can be found under:\n",
    "https://github.com/rinikerlab/PyGromosTools/blob/pygromosDay/examples/PyGromosToolsDay/pyGromosToolsDay.ipynb"
   ]
  },
  {
   "cell_type": "markdown",
   "metadata": {},
   "source": [
    "### Schedul for the day"
   ]
  },
  {
   "cell_type": "markdown",
   "metadata": {},
   "source": [
    "1. [Introduction](#Introduction)\n",
    "    1. [Schedule](#Schedule)\n",
    "    2. [Tutorial](#Tutorial)\n",
    "2. [PyGromosTools](#PyGromosTools)\n",
    "    1. [PyGromosTools](#PyGromosTools)\n",
    "    2. [PyGromosTools](#PyGromosTools)"
   ]
  },
  {
   "cell_type": "markdown",
   "metadata": {},
   "source": [
    "## PyGromosTools - a Python package for GROMOS users"
   ]
  },
  {
   "cell_type": "markdown",
   "metadata": {},
   "source": [
    "PyGromosTools is a Python package for GROMOS users. It tries to provide a easy to use unified interface to the GROMOS users in python. Leading to a better readability and reproducability of code, as well as easier pipelining of GROMOS simulations."
   ]
  },
  {
   "cell_type": "markdown",
   "metadata": {},
   "source": [
    "PyGromosTools is a natural grown package which tries to adhere to all GROMOS user's needs."
   ]
  },
  {
   "cell_type": "markdown",
   "metadata": {},
   "source": [
    "At the current state PyGromosTools provides:\n",
    "1. GROMOSxx wrappers\n",
    "2. GROMOS++ wrappers\n",
    "3. File handling of all GROMOS file types for automated creation/modification/analysis\n",
    "4. Automation and file management system gromos_system\n",
    "5. Simulation Submission and Execution\n",
    "6. etc.\n",
    "\n",
    "In the following sections we will see how to use PyGromosTools to automate the creation of GROMOS simulations and how these tools are intended to be used. We will show simple uscase and how to adjust existing classes to fit more complex simulations or new blocks and finally show how you can contribute to PyGromosTools."
   ]
  },
  {
   "cell_type": "markdown",
   "metadata": {},
   "source": [
    "### General File Structure"
   ]
  },
  {
   "cell_type": "markdown",
   "metadata": {},
   "source": [
    "Since the second major relase (TODO: date???) PyGromosTools is focused around a class called `gromos_system`. This class is the main class of PyGromosTools and is used to create, manage and analyse GROMOS simulations.  \n",
    "\n",
    "`gromos_system` stores information of all files of a simulation and provides methods to create, modify and analyse these files.\n",
    "\n",
    "\n",
    "<p style=\"text-align:center;\">\n",
    "    <img src=\"./figures/gromos_system_overview.png\" width=900 alt=\"gromos_system_overview\"/>\n",
    "    <div style=\"text-align:center;\">Based on B. Ries Thesis</div>\n",
    "</p> "
   ]
  },
  {
   "cell_type": "markdown",
   "metadata": {},
   "source": [
    "`gromos_system` can be create in many different ways. The simplest way is from existing files. However, it also provides the option to be created from only a smiles and a forcfield.  \n",
    "\n",
    "Although it has to be mentioned, that for all GROMOS types forcefields the correct MTB name is required.  \n",
    "\n",
    "In the following example we create first a `forcefield_system` that holds all informations about the forcfield we want to use, and then use this `forcefield_system` to create a `gromos_system` from a smiles.   \n",
    "\n",
    "If we tick the option `adapt_imd_automatically` and `auto_convert` in `gromos_system` we will automatically create not only the topology, but also the coordinate file and a adjusted INPUT file."
   ]
  },
  {
   "cell_type": "code",
   "execution_count": 3,
   "metadata": {},
   "outputs": [],
   "source": [
    "work_dir = os.path.abspath(\"./example_sys/\")"
   ]
  },
  {
   "cell_type": "code",
   "execution_count": 4,
   "metadata": {},
   "outputs": [],
   "source": [
    "ff = forcefield_system(name=\"2016H66\")\n",
    "ff.mol_name = \"BZN\""
   ]
  },
  {
   "cell_type": "code",
   "execution_count": 5,
   "metadata": {},
   "outputs": [],
   "source": [
    "groSys = Gromos_System(work_folder=work_dir,\n",
    "                system_name=\"test_system\",\n",
    "                in_smiles=\"c1ccccc1\", \n",
    "                Forcefield=ff, \n",
    "                adapt_imd_automatically=True,\n",
    "                in_imd_path=template_emin_vac, \n",
    "                auto_convert=True)"
   ]
  },
  {
   "cell_type": "markdown",
   "metadata": {},
   "source": [
    "This `gromos_system` called `groSys` now contains a topology, coordinate and a input file for Cyclohexane. All automatically generated.  \n",
    "\n",
    "We can access all these files as python classes by accessing the `groSys.top`, `groSys.cnf` and `groSys.imd` attributes.  \n",
    "All these classe are instances of the `gromos_file` class and have attributes on their own which are the gromos blocks (and of course somties additional content).  \n",
    "\n",
    "For example we can check if the new topology has a proper TITLE block by accessing the attribute `groSys.top.TITLE`. And we can see, that as expected the title block was automatically generated."
   ]
  },
  {
   "cell_type": "code",
   "execution_count": 6,
   "metadata": {},
   "outputs": [],
   "source": [
    "#help(groSys.top.TITLE)"
   ]
  },
  {
   "cell_type": "code",
   "execution_count": 7,
   "metadata": {},
   "outputs": [
    {
     "data": {
      "text/plain": [
       "TITLE\n",
       "MAKE_TOP topology, using:\n",
       "/home/mlehner/PyGromosTools/pygromos/data/ff/Gromos2016H66/2016H66.mtb\n",
       "/home/mlehner/PyGromosTools/pygromos/data/ff/Gromos2016H66/2016H66_orga.mtb\n",
       "/home/mlehner/PyGromosTools/pygromos/data/ff/Gromos2016H66/2016H66.ifp\n",
       "\n",
       "Force-field code: 2016H66\n",
       "\n",
       "\t >>> Generated with PyGromosTools (riniker group) <<< \n",
       "END"
      ]
     },
     "execution_count": 7,
     "metadata": {},
     "output_type": "execute_result"
    }
   ],
   "source": [
    "groSys.top.TITLE"
   ]
  },
  {
   "cell_type": "markdown",
   "metadata": {},
   "source": [
    "The same is also true for the other files. It's espicially worth to mention that coordinate file is automatically generated, using the RDKit conformer generator."
   ]
  },
  {
   "cell_type": "code",
   "execution_count": 8,
   "metadata": {},
   "outputs": [
    {
     "data": {
      "text/plain": [
       "POSITION\n",
       "# \t \n",
       "    1 BZN   C1         1    0.080600000   -0.114300000    0.001500000\n",
       "    1 BZN   H1         2    0.143435194   -0.203358253    0.002668736\n",
       "    1 BZN   C2         3    0.139300000    0.012700000   -0.000200000\n",
       "    1 BZN   H2         4    0.247852856    0.022561710   -0.000355389\n",
       "    1 BZN   C3         5    0.058700000    0.127000000   -0.001700000\n",
       "    1 BZN   H3         6    0.104422350    0.225937924   -0.003024364\n",
       "    1 BZN   C4         7   -0.080600000    0.114300000   -0.001500000\n",
       "    1 BZN   H4         8   -0.143435194    0.203358253   -0.002668736\n",
       "    1 BZN   C5         9   -0.139300000   -0.012700000    0.000200000\n",
       "    1 BZN   H5        10   -0.247852856   -0.022561710    0.000355389\n",
       "    1 BZN   C6        11   -0.058700000   -0.127000000    0.001700000\n",
       "    1 BZN   H6        12   -0.104422350   -0.225937924    0.003024364\n",
       "END"
      ]
     },
     "execution_count": 8,
     "metadata": {},
     "output_type": "execute_result"
    }
   ],
   "source": [
    "groSys.cnf.POSITION"
   ]
  },
  {
   "cell_type": "markdown",
   "metadata": {},
   "source": [
    "All these blocks the contain classes for the specific fields. In the case of the POSITION block we have a list of atoms. And each atom stores the name, the type and the position. This makes it easy to make adjustments, search for specific atoms or do some general scripted modifiactions to the positions.\n",
    "\n",
    "<p style=\"text-align:center;\">\n",
    "    <img src=\"./figures/gromos_file.png\" height=300 alt=\"gromos file structure\"/>\n",
    "    <div style=\"text-align:center;\">Based on B. Ries Thesis</div>\n",
    "</p> \n",
    "\n",
    "All the fields have theire own attributs and sometimes functions to modify them. For example the `POSITION` block has a `atomP` that store all the information."
   ]
  },
  {
   "cell_type": "code",
   "execution_count": 9,
   "metadata": {},
   "outputs": [
    {
     "name": "stdout",
     "output_type": "stream",
     "text": [
      "2 H1 BZN 0.143435194\n"
     ]
    }
   ],
   "source": [
    "atomP = groSys.cnf.POSITION[1]\n",
    "print(atomP.atomID, atomP.atomType, atomP.resName, atomP.xp)"
   ]
  },
  {
   "cell_type": "markdown",
   "metadata": {},
   "source": [
    "All cnf files can be easily converted to differet file types (eg. pdb) and checked via the handy `visualize` function. The `visualize` function is intended for notebooks and prototyping, but can be used for any other purpose. It's a fully interactive 3D view."
   ]
  },
  {
   "cell_type": "code",
   "execution_count": 10,
   "metadata": {},
   "outputs": [
    {
     "data": {
      "application/3dmoljs_load.v0": "<div id=\"3dmolviewer_1645016393284105\"  style=\"position: relative; width: 400px; height: 400px\">\n        <p id=\"3dmolwarning_1645016393284105\" style=\"background-color:#ffcccc;color:black\">You appear to be running in JupyterLab (or JavaScript failed to load for some other reason).  You need to install the 3dmol extension: <br>\n        <tt>jupyter labextension install jupyterlab_3dmol</tt></p>\n        </div>\n<script>\n\nvar loadScriptAsync = function(uri){\n  return new Promise((resolve, reject) => {\n    var tag = document.createElement('script');\n    tag.src = uri;\n    tag.async = true;\n    tag.onload = () => {\n      resolve();\n    };\n  var firstScriptTag = document.getElementsByTagName('script')[0];\n  firstScriptTag.parentNode.insertBefore(tag, firstScriptTag);\n});\n};\n\nif(typeof $3Dmolpromise === 'undefined') {\n$3Dmolpromise = null;\n  $3Dmolpromise = loadScriptAsync('https://3dmol.org/build/3Dmol.js');\n}\n\nvar viewer_1645016393284105 = null;\nvar warn = document.getElementById(\"3dmolwarning_1645016393284105\");\nif(warn) {\n    warn.parentNode.removeChild(warn);\n}\n$3Dmolpromise.then(function() {\nviewer_1645016393284105 = $3Dmol.createViewer($(\"#3dmolviewer_1645016393284105\"),{backgroundColor:\"white\"});\nviewer_1645016393284105.zoomTo();\n\tviewer_1645016393284105.addModel(\"12\\n# gch found 6 hydrogen atoms in /home/mlehner/PyGromosTools/examples/PyGromosToolsDay/example_sys/tmp_in_file.cnf\\n# exported wit PyGromosTools\\nC  \\t 0.806000000   -1.143000000    0.015000000\\nH  \\t 1.434351940   -2.033582530    0.026687360\\nC  \\t 1.393000000    0.127000000   -0.002000000\\nH  \\t 2.478528560    0.225617100   -0.003553890\\nC  \\t 0.587000000    1.270000000   -0.017000000\\nH  \\t 1.044223500    2.259379240   -0.030243640\\nC  \\t-0.806000000    1.143000000   -0.015000000\\nH  \\t-1.434351940    2.033582530   -0.026687360\\nC  \\t-1.393000000   -0.127000000    0.002000000\\nH  \\t-2.478528560   -0.225617100    0.003553890\\nC  \\t-0.587000000   -1.270000000    0.017000000\\nH  \\t-1.044223500   -2.259379240    0.030243640\\n\");\n\tviewer_1645016393284105.setStyle({\"model\": -1},{\"stick\": {}});\n\tviewer_1645016393284105.zoomTo();\nviewer_1645016393284105.render();\n});\n</script>",
      "text/html": [
       "<div id=\"3dmolviewer_1645016393284105\"  style=\"position: relative; width: 400px; height: 400px\">\n",
       "        <p id=\"3dmolwarning_1645016393284105\" style=\"background-color:#ffcccc;color:black\">You appear to be running in JupyterLab (or JavaScript failed to load for some other reason).  You need to install the 3dmol extension: <br>\n",
       "        <tt>jupyter labextension install jupyterlab_3dmol</tt></p>\n",
       "        </div>\n",
       "<script>\n",
       "\n",
       "var loadScriptAsync = function(uri){\n",
       "  return new Promise((resolve, reject) => {\n",
       "    var tag = document.createElement('script');\n",
       "    tag.src = uri;\n",
       "    tag.async = true;\n",
       "    tag.onload = () => {\n",
       "      resolve();\n",
       "    };\n",
       "  var firstScriptTag = document.getElementsByTagName('script')[0];\n",
       "  firstScriptTag.parentNode.insertBefore(tag, firstScriptTag);\n",
       "});\n",
       "};\n",
       "\n",
       "if(typeof $3Dmolpromise === 'undefined') {\n",
       "$3Dmolpromise = null;\n",
       "  $3Dmolpromise = loadScriptAsync('https://3dmol.org/build/3Dmol.js');\n",
       "}\n",
       "\n",
       "var viewer_1645016393284105 = null;\n",
       "var warn = document.getElementById(\"3dmolwarning_1645016393284105\");\n",
       "if(warn) {\n",
       "    warn.parentNode.removeChild(warn);\n",
       "}\n",
       "$3Dmolpromise.then(function() {\n",
       "viewer_1645016393284105 = $3Dmol.createViewer($(\"#3dmolviewer_1645016393284105\"),{backgroundColor:\"white\"});\n",
       "viewer_1645016393284105.zoomTo();\n",
       "\tviewer_1645016393284105.addModel(\"12\\n# gch found 6 hydrogen atoms in /home/mlehner/PyGromosTools/examples/PyGromosToolsDay/example_sys/tmp_in_file.cnf\\n# exported wit PyGromosTools\\nC  \\t 0.806000000   -1.143000000    0.015000000\\nH  \\t 1.434351940   -2.033582530    0.026687360\\nC  \\t 1.393000000    0.127000000   -0.002000000\\nH  \\t 2.478528560    0.225617100   -0.003553890\\nC  \\t 0.587000000    1.270000000   -0.017000000\\nH  \\t 1.044223500    2.259379240   -0.030243640\\nC  \\t-0.806000000    1.143000000   -0.015000000\\nH  \\t-1.434351940    2.033582530   -0.026687360\\nC  \\t-1.393000000   -0.127000000    0.002000000\\nH  \\t-2.478528560   -0.225617100    0.003553890\\nC  \\t-0.587000000   -1.270000000    0.017000000\\nH  \\t-1.044223500   -2.259379240    0.030243640\\n\");\n",
       "\tviewer_1645016393284105.setStyle({\"model\": -1},{\"stick\": {}});\n",
       "\tviewer_1645016393284105.zoomTo();\n",
       "viewer_1645016393284105.render();\n",
       "});\n",
       "</script>"
      ]
     },
     "metadata": {},
     "output_type": "display_data"
    },
    {
     "data": {
      "text/plain": [
       "<py3Dmol.view at 0x7f935c700d90>"
      ]
     },
     "execution_count": 10,
     "metadata": {},
     "output_type": "execute_result"
    }
   ],
   "source": [
    "groSys.cnf.visualize()"
   ]
  },
  {
   "cell_type": "markdown",
   "metadata": {},
   "source": [
    "### Simple Simulation"
   ]
  },
  {
   "cell_type": "markdown",
   "metadata": {},
   "source": [
    "PyGromosTools provides a simple way to create a GROMOS simulation. This is done by creating a `gromos_system` and then adding the necessary files to it and then simply selecting one of the preset modules.  \n",
    "\n",
    "PyGromosTools offers a wide range of preset simulations, but also general simulation templates, which can be easily modified.  \n",
    "\n",
    "These simulation modules take care of the creation of the necessary files, the execution/scheduling of the simulation, cleaning up the files and the analysis of the results.\n",
    "\n",
    "<p style=\"text-align:center;\">\n",
    "    <img src=\"./figures/simulation_structure.png\" width=600 alt=\"gromos simulation structure\"/>\n",
    "    <div style=\"text-align:center;\">Based on B. Ries Thesis</div>\n",
    "</p> \n",
    "\n",
    "The core of of all simulations is a `general_simulation` class. This class is the base class for all simulations. It provides the basic functionality to create the necessary files, the execution/scheduling of the simulation, cleaning up the files and the analysis of the results. Simple extensions to this class are classes like `MD`, `SD` and `EMIN` which manly provide preset changes in the IMD file. However PyGrromosTools also provides a wide range of more complex simulation approaches like `Hvap`, `TI`, etc. wich often require multiple lower level simulations to be run.\n",
    "\n",
    "But in all simulation modules the date is always stored and returned in a `gromos_system` object. This is done to make it easy for users to keeep files clean and analyse the results. And all simulation modules use a so called `submission_system`. These classes store the information about the submission of the simulation on a specific platform.\n"
   ]
  },
  {
   "cell_type": "code",
   "execution_count": 11,
   "metadata": {},
   "outputs": [
    {
     "name": "stdout",
     "output_type": "stream",
     "text": [
      "################################################################################\n",
      "\n",
      "emin\n",
      "################################################################################\n",
      "\n",
      "============================================================\n",
      "FOUND RESULT: /home/mlehner/PyGromosTools/examples/PyGromosToolsDay/example_sys/emin/analysis/data/emin.cnf\n",
      " GOING TO SKIPT THIS SUBMISSION!\n"
     ]
    }
   ],
   "source": [
    "eminGroSys = emin(groSys, in_imd_path=template_emin_vac)"
   ]
  },
  {
   "cell_type": "code",
   "execution_count": 12,
   "metadata": {},
   "outputs": [
    {
     "name": "stdout",
     "output_type": "stream",
     "text": [
      "################################################################################\n",
      "\n",
      "sd\n",
      "################################################################################\n",
      "\n",
      "============================================================\n",
      "FOUND RESULT: /home/mlehner/PyGromosTools/examples/PyGromosToolsDay/example_sys/sd/analysis/data/sd.cnf\n",
      " GOING TO SKIPT THIS SUBMISSION!\n"
     ]
    }
   ],
   "source": [
    "sdGroSys = sd(eminGroSys, in_imd_path=template_sd)"
   ]
  },
  {
   "cell_type": "markdown",
   "metadata": {},
   "source": [
    "After some simulations we still have a `gromos_system` object. This object contains all the files of the simulation. Even trajectories are added to the `gromos_system` object automatically.  \n",
    "In case files are not automatically attached (for example due to scheduling on a cluster) they can be added automatically via the function `_check_promises()`. This function will go through all files and update them. Some files might only be attached as `future_files` and read in after this function call. `future_files` are files that are not yet available and allow for more flexibility on clusters where jobs might be submitted before the files are available."
   ]
  },
  {
   "cell_type": "code",
   "execution_count": 13,
   "metadata": {},
   "outputs": [],
   "source": [
    "sdGroSys._check_promises()"
   ]
  },
  {
   "cell_type": "markdown",
   "metadata": {},
   "source": [
    "### Simple analysis"
   ]
  },
  {
   "cell_type": "markdown",
   "metadata": {},
   "source": [
    "At this stage we successfully ran a GROMOS simulation with PyGromosTools. But we still have to analyse the results. Most analysis is done using the trajectories and these classes offer a lot of helping functions.  \n",
    "Trajectories are in PyGromosTools stored as Pandas DataFrames. This makes it easy and fast to analyse the results. Every type of trajectoriy contains a attribute called `database` which is a Pandas DataFrame. This DataFrame contains all the information of the trajectory. And a user could access it in any way he likes, like a normal DataFrame. However, for most common analysis tasks functions are already provided by the respective trajectory class.  \n",
    "For example, if we want to compare the distance of a atom to another atom during the simulation we could use the following lines of code:"
   ]
  },
  {
   "cell_type": "code",
   "execution_count": 14,
   "metadata": {},
   "outputs": [
    {
     "data": {
      "application/3dmoljs_load.v0": "<div id=\"3dmolviewer_1645016395007212\"  style=\"position: relative; width: 400px; height: 400px\">\n        <p id=\"3dmolwarning_1645016395007212\" style=\"background-color:#ffcccc;color:black\">You appear to be running in JupyterLab (or JavaScript failed to load for some other reason).  You need to install the 3dmol extension: <br>\n        <tt>jupyter labextension install jupyterlab_3dmol</tt></p>\n        </div>\n<script>\n\nvar loadScriptAsync = function(uri){\n  return new Promise((resolve, reject) => {\n    var tag = document.createElement('script');\n    tag.src = uri;\n    tag.async = true;\n    tag.onload = () => {\n      resolve();\n    };\n  var firstScriptTag = document.getElementsByTagName('script')[0];\n  firstScriptTag.parentNode.insertBefore(tag, firstScriptTag);\n});\n};\n\nif(typeof $3Dmolpromise === 'undefined') {\n$3Dmolpromise = null;\n  $3Dmolpromise = loadScriptAsync('https://3dmol.org/build/3Dmol.js');\n}\n\nvar viewer_1645016395007212 = null;\nvar warn = document.getElementById(\"3dmolwarning_1645016395007212\");\nif(warn) {\n    warn.parentNode.removeChild(warn);\n}\n$3Dmolpromise.then(function() {\nviewer_1645016395007212 = $3Dmol.createViewer($(\"#3dmolviewer_1645016395007212\"),{backgroundColor:\"white\"});\nviewer_1645016395007212.zoomTo();\n\tviewer_1645016395007212.addModel(\"12\\n# \\tMD++\\n# exported wit PyGromosTools\\nC  \\t 1.083692290   -0.975871770   -0.012168160\\nH  \\t 1.800758510   -1.795680460   -0.055119250\\nC  \\t 1.472672840    0.339109710    0.011059470\\nH  \\t 2.488147580    0.631707790    0.278408470\\nC  \\t 0.557385860    1.430620320   -0.018865400\\nH  \\t 0.822742230    2.443837990    0.282922620\\nC  \\t-0.784518580    1.107334340   -0.091724660\\nH  \\t-1.542949060    1.887399610   -0.157954830\\nC  \\t-1.176768570   -0.243889080   -0.039655290\\nH  \\t-2.194754340   -0.567302410   -0.256944270\\nC  \\t-0.271893740   -1.337663800    0.033883210\\nH  \\t-0.696269530   -2.328884820    0.193541840\\n\");\n\tviewer_1645016395007212.setStyle({\"model\": -1},{\"stick\": {}});\n\tviewer_1645016395007212.zoomTo();\nviewer_1645016395007212.render();\n});\n</script>",
      "text/html": [
       "<div id=\"3dmolviewer_1645016395007212\"  style=\"position: relative; width: 400px; height: 400px\">\n",
       "        <p id=\"3dmolwarning_1645016395007212\" style=\"background-color:#ffcccc;color:black\">You appear to be running in JupyterLab (or JavaScript failed to load for some other reason).  You need to install the 3dmol extension: <br>\n",
       "        <tt>jupyter labextension install jupyterlab_3dmol</tt></p>\n",
       "        </div>\n",
       "<script>\n",
       "\n",
       "var loadScriptAsync = function(uri){\n",
       "  return new Promise((resolve, reject) => {\n",
       "    var tag = document.createElement('script');\n",
       "    tag.src = uri;\n",
       "    tag.async = true;\n",
       "    tag.onload = () => {\n",
       "      resolve();\n",
       "    };\n",
       "  var firstScriptTag = document.getElementsByTagName('script')[0];\n",
       "  firstScriptTag.parentNode.insertBefore(tag, firstScriptTag);\n",
       "});\n",
       "};\n",
       "\n",
       "if(typeof $3Dmolpromise === 'undefined') {\n",
       "$3Dmolpromise = null;\n",
       "  $3Dmolpromise = loadScriptAsync('https://3dmol.org/build/3Dmol.js');\n",
       "}\n",
       "\n",
       "var viewer_1645016395007212 = null;\n",
       "var warn = document.getElementById(\"3dmolwarning_1645016395007212\");\n",
       "if(warn) {\n",
       "    warn.parentNode.removeChild(warn);\n",
       "}\n",
       "$3Dmolpromise.then(function() {\n",
       "viewer_1645016395007212 = $3Dmol.createViewer($(\"#3dmolviewer_1645016395007212\"),{backgroundColor:\"white\"});\n",
       "viewer_1645016395007212.zoomTo();\n",
       "\tviewer_1645016395007212.addModel(\"12\\n# \\tMD++\\n# exported wit PyGromosTools\\nC  \\t 1.083692290   -0.975871770   -0.012168160\\nH  \\t 1.800758510   -1.795680460   -0.055119250\\nC  \\t 1.472672840    0.339109710    0.011059470\\nH  \\t 2.488147580    0.631707790    0.278408470\\nC  \\t 0.557385860    1.430620320   -0.018865400\\nH  \\t 0.822742230    2.443837990    0.282922620\\nC  \\t-0.784518580    1.107334340   -0.091724660\\nH  \\t-1.542949060    1.887399610   -0.157954830\\nC  \\t-1.176768570   -0.243889080   -0.039655290\\nH  \\t-2.194754340   -0.567302410   -0.256944270\\nC  \\t-0.271893740   -1.337663800    0.033883210\\nH  \\t-0.696269530   -2.328884820    0.193541840\\n\");\n",
       "\tviewer_1645016395007212.setStyle({\"model\": -1},{\"stick\": {}});\n",
       "\tviewer_1645016395007212.zoomTo();\n",
       "viewer_1645016395007212.render();\n",
       "});\n",
       "</script>"
      ]
     },
     "metadata": {},
     "output_type": "display_data"
    },
    {
     "data": {
      "text/plain": [
       "<py3Dmol.view at 0x7f935b82b640>"
      ]
     },
     "execution_count": 14,
     "metadata": {},
     "output_type": "execute_result"
    }
   ],
   "source": [
    "sdGroSys.cnf.visualize()"
   ]
  },
  {
   "cell_type": "code",
   "execution_count": 15,
   "metadata": {},
   "outputs": [
    {
     "data": {
      "text/html": [
       "<div>\n",
       "<style scoped>\n",
       "    .dataframe tbody tr th:only-of-type {\n",
       "        vertical-align: middle;\n",
       "    }\n",
       "\n",
       "    .dataframe tbody tr th {\n",
       "        vertical-align: top;\n",
       "    }\n",
       "\n",
       "    .dataframe thead th {\n",
       "        text-align: right;\n",
       "    }\n",
       "</style>\n",
       "<table border=\"1\" class=\"dataframe\">\n",
       "  <thead>\n",
       "    <tr style=\"text-align: right;\">\n",
       "      <th></th>\n",
       "      <th>TIMESTEP_step</th>\n",
       "      <th>TIMESTEP_time</th>\n",
       "      <th>POS_1</th>\n",
       "      <th>POS_2</th>\n",
       "      <th>POS_3</th>\n",
       "      <th>POS_4</th>\n",
       "      <th>POS_5</th>\n",
       "      <th>POS_6</th>\n",
       "      <th>POS_7</th>\n",
       "      <th>POS_8</th>\n",
       "      <th>POS_9</th>\n",
       "      <th>POS_10</th>\n",
       "      <th>POS_11</th>\n",
       "      <th>POS_12</th>\n",
       "    </tr>\n",
       "  </thead>\n",
       "  <tbody>\n",
       "    <tr>\n",
       "      <th>0</th>\n",
       "      <td>0</td>\n",
       "      <td>0.000</td>\n",
       "      <td>[0.079293949, -0.115350911, 0.001069465]</td>\n",
       "      <td>[0.142141436, -0.204390119, 0.002038194]</td>\n",
       "      <td>[0.137561643, 0.010824028, -0.000732479]</td>\n",
       "      <td>[0.246110591, 0.020729732, -0.000677102]</td>\n",
       "      <td>[0.057415117, 0.124380084, -0.00180149]</td>\n",
       "      <td>[0.103104793, 0.223323376, -0.00308404]</td>\n",
       "      <td>[-0.081009078, 0.111743506, -0.00204579]</td>\n",
       "      <td>[-0.143854971, 0.200790872, -0.003018626]</td>\n",
       "      <td>[-0.139274691, -0.014427247, -0.000244167]</td>\n",
       "      <td>[-0.247823617, -0.024333163, -0.000306279]</td>\n",
       "      <td>[-0.059130551, -0.127984375, 0.000838247]</td>\n",
       "      <td>[-0.104827497, -0.226930389, 0.002110119]</td>\n",
       "    </tr>\n",
       "    <tr>\n",
       "      <th>1</th>\n",
       "      <td>1</td>\n",
       "      <td>0.001</td>\n",
       "      <td>[0.079278068, -0.113983263, 0.00116419]</td>\n",
       "      <td>[0.142830725, -0.202507232, 0.003633213]</td>\n",
       "      <td>[0.137727436, 0.010563691, -0.000813528]</td>\n",
       "      <td>[0.246211768, 0.021076942, 0.000537359]</td>\n",
       "      <td>[0.059184559, 0.124660831, -0.002701836]</td>\n",
       "      <td>[0.106007722, 0.223090246, -0.003366005]</td>\n",
       "      <td>[-0.081463221, 0.111815707, -0.000746384]</td>\n",
       "      <td>[-0.145161109, 0.200237398, -0.003023504]</td>\n",
       "      <td>[-0.138389573, -0.013518925, -2.6415e-05]</td>\n",
       "      <td>[-0.246803034, -0.023766872, -0.004806668]</td>\n",
       "      <td>[-0.058694813, -0.128575615, 0.000789086]</td>\n",
       "      <td>[-0.103891493, -0.227748292, -0.000990459]</td>\n",
       "    </tr>\n",
       "    <tr>\n",
       "      <th>2</th>\n",
       "      <td>2</td>\n",
       "      <td>0.002</td>\n",
       "      <td>[0.079359804, -0.112867892, 0.001443057]</td>\n",
       "      <td>[0.144477771, -0.200198761, 0.005181344]</td>\n",
       "      <td>[0.1378592, 0.010313039, -0.000842636]</td>\n",
       "      <td>[0.24635752, 0.020492367, 0.001531612]</td>\n",
       "      <td>[0.060629828, 0.125039045, -0.003803059]</td>\n",
       "      <td>[0.108495517, 0.222966905, -0.0039326]</td>\n",
       "      <td>[-0.081796806, 0.112124923, 0.000425624]</td>\n",
       "      <td>[-0.146275922, 0.199956587, -0.00258521]</td>\n",
       "      <td>[-0.137390219, -0.012756159, 1.2355e-05]</td>\n",
       "      <td>[-0.245443327, -0.023926582, -0.008977645]</td>\n",
       "      <td>[-0.058472575, -0.129223395, 0.000591432]</td>\n",
       "      <td>[-0.102946977, -0.228646736, -0.003654699]</td>\n",
       "    </tr>\n",
       "    <tr>\n",
       "      <th>3</th>\n",
       "      <td>3</td>\n",
       "      <td>0.003</td>\n",
       "      <td>[0.079407188, -0.111995171, 0.001806067]</td>\n",
       "      <td>[0.14634435, -0.197935175, 0.005655246]</td>\n",
       "      <td>[0.137893657, 0.010429766, -0.000963031]</td>\n",
       "      <td>[0.246446107, 0.019455242, 0.003031625]</td>\n",
       "      <td>[0.061742068, 0.125519076, -0.004800577]</td>\n",
       "      <td>[0.110906, 0.222800511, -0.0052925]</td>\n",
       "      <td>[-0.082100551, 0.112522133, 0.001542179]</td>\n",
       "      <td>[-0.147522593, 0.199665228, -0.001111745]</td>\n",
       "      <td>[-0.136483329, -0.01225655, -6.4365e-05]</td>\n",
       "      <td>[-0.244160349, -0.022867689, -0.013257693]</td>\n",
       "      <td>[-0.058520322, -0.129891214, 0.000288167]</td>\n",
       "      <td>[-0.101662216, -0.229834963, -0.005284002]</td>\n",
       "    </tr>\n",
       "    <tr>\n",
       "      <th>4</th>\n",
       "      <td>4</td>\n",
       "      <td>0.004</td>\n",
       "      <td>[0.079574905, -0.111417416, 0.002188221]</td>\n",
       "      <td>[0.148073312, -0.196103779, 0.006339564]</td>\n",
       "      <td>[0.137752347, 0.010560604, -0.000982489]</td>\n",
       "      <td>[0.246333301, 0.017983854, 0.005023715]</td>\n",
       "      <td>[0.06288677, 0.126100645, -0.005777064]</td>\n",
       "      <td>[0.113583072, 0.222581095, -0.007340681]</td>\n",
       "      <td>[-0.082306297, 0.113037783, 0.002485077]</td>\n",
       "      <td>[-0.149784924, 0.198615097, 0.000444639]</td>\n",
       "      <td>[-0.135741189, -0.012133984, -0.000400216]</td>\n",
       "      <td>[-0.242997066, -0.021091254, -0.017632336]</td>\n",
       "      <td>[-0.058498638, -0.130520462, -9.7311e-05]</td>\n",
       "      <td>[-0.100129976, -0.231045093, -0.006628481]</td>\n",
       "    </tr>\n",
       "    <tr>\n",
       "      <th>...</th>\n",
       "      <td>...</td>\n",
       "      <td>...</td>\n",
       "      <td>...</td>\n",
       "      <td>...</td>\n",
       "      <td>...</td>\n",
       "      <td>...</td>\n",
       "      <td>...</td>\n",
       "      <td>...</td>\n",
       "      <td>...</td>\n",
       "      <td>...</td>\n",
       "      <td>...</td>\n",
       "      <td>...</td>\n",
       "      <td>...</td>\n",
       "      <td>...</td>\n",
       "    </tr>\n",
       "    <tr>\n",
       "      <th>95</th>\n",
       "      <td>95</td>\n",
       "      <td>0.095</td>\n",
       "      <td>[0.108138026, -0.100965956, -0.00133106]</td>\n",
       "      <td>[0.179346537, -0.183038819, 0.007294287]</td>\n",
       "      <td>[0.143419603, 0.034476719, 0.001848471]</td>\n",
       "      <td>[0.247560214, 0.057113405, 0.024732052]</td>\n",
       "      <td>[0.054009963, 0.137804425, 0.000144716]</td>\n",
       "      <td>[0.080511293, 0.241610219, 0.020222434]</td>\n",
       "      <td>[-0.080101149, 0.109911479, -0.011804003]</td>\n",
       "      <td>[-0.159650467, 0.184222222, -0.017370888]</td>\n",
       "      <td>[-0.115424239, -0.027545732, -0.006780056]</td>\n",
       "      <td>[-0.221788469, -0.049893521, -0.015042862]</td>\n",
       "      <td>[-0.028572892, -0.131726507, 0.00350057]</td>\n",
       "      <td>[-0.058937798, -0.235401983, 0.01800557]</td>\n",
       "    </tr>\n",
       "    <tr>\n",
       "      <th>96</th>\n",
       "      <td>96</td>\n",
       "      <td>0.096</td>\n",
       "      <td>[0.108356696, -0.100037307, -0.001458296]</td>\n",
       "      <td>[0.178572992, -0.18322993, 0.003851748]</td>\n",
       "      <td>[0.14377582, 0.034292503, 0.00157822]</td>\n",
       "      <td>[0.247120266, 0.059032214, 0.025845005]</td>\n",
       "      <td>[0.054528814, 0.13906628, -0.000151529]</td>\n",
       "      <td>[0.080244204, 0.242764395, 0.021445228]</td>\n",
       "      <td>[-0.079447229, 0.110224112, -0.01148075]</td>\n",
       "      <td>[-0.158551942, 0.184978013, -0.017423108]</td>\n",
       "      <td>[-0.115898214, -0.026980966, -0.006055717]</td>\n",
       "      <td>[-0.22136199, -0.052377104, -0.016789022]</td>\n",
       "      <td>[-0.028264015, -0.132167939, 0.00355255]</td>\n",
       "      <td>[-0.059183235, -0.235733205, 0.017668843]</td>\n",
       "    </tr>\n",
       "    <tr>\n",
       "      <th>97</th>\n",
       "      <td>97</td>\n",
       "      <td>0.097</td>\n",
       "      <td>[0.108309809, -0.099316216, -0.001454185]</td>\n",
       "      <td>[0.177988139, -0.183103572, 0.000928125]</td>\n",
       "      <td>[0.144509747, 0.034066205, 0.001264579]</td>\n",
       "      <td>[0.246970529, 0.060547763, 0.027370551]</td>\n",
       "      <td>[0.05521268, 0.14012898, -0.00038168]</td>\n",
       "      <td>[0.080308242, 0.243564531, 0.023119471]</td>\n",
       "      <td>[-0.07910005, 0.110481788, -0.011074524]</td>\n",
       "      <td>[-0.157469063, 0.186001485, -0.017082108]</td>\n",
       "      <td>[-0.116374545, -0.026387848, -0.00547613]</td>\n",
       "      <td>[-0.220645927, -0.054835678, -0.019590308]</td>\n",
       "      <td>[-0.027777498, -0.132750802, 0.003668291]</td>\n",
       "      <td>[-0.060896957, -0.235597355, 0.018009925]</td>\n",
       "    </tr>\n",
       "    <tr>\n",
       "      <th>98</th>\n",
       "      <td>98</td>\n",
       "      <td>0.098</td>\n",
       "      <td>[0.108377834, -0.09853959, -0.001484836]</td>\n",
       "      <td>[0.177944373, -0.182453111, -0.001168595]</td>\n",
       "      <td>[0.145389839, 0.0339099, 0.00099235]</td>\n",
       "      <td>[0.247388424, 0.061563043, 0.02768807]</td>\n",
       "      <td>[0.055599243, 0.141256712, -0.00075887]</td>\n",
       "      <td>[0.080401438, 0.244286778, 0.024750902]</td>\n",
       "      <td>[-0.078917958, 0.110568995, -0.01059418]</td>\n",
       "      <td>[-0.156723904, 0.186667989, -0.016609057]</td>\n",
       "      <td>[-0.116880944, -0.025744925, -0.005005944]</td>\n",
       "      <td>[-0.22005831, -0.056602626, -0.021838227]</td>\n",
       "      <td>[-0.027519166, -0.133513625, 0.003746412]</td>\n",
       "      <td>[-0.064258783, -0.235097938, 0.018305464]</td>\n",
       "    </tr>\n",
       "    <tr>\n",
       "      <th>99</th>\n",
       "      <td>99</td>\n",
       "      <td>0.099</td>\n",
       "      <td>[0.108552743, -0.097932028, -0.001553072]</td>\n",
       "      <td>[0.178552232, -0.181464029, -0.00343323]</td>\n",
       "      <td>[0.14627432, 0.033836236, 0.000987005]</td>\n",
       "      <td>[0.24805388, 0.062472704, 0.027480755]</td>\n",
       "      <td>[0.055648556, 0.142253782, -0.001348035]</td>\n",
       "      <td>[0.081021531, 0.244421994, 0.026916578]</td>\n",
       "      <td>[-0.078770173, 0.110645072, -0.009915615]</td>\n",
       "      <td>[-0.155664824, 0.187642191, -0.016214038]</td>\n",
       "      <td>[-0.117252232, -0.024998699, -0.004562257]</td>\n",
       "      <td>[-0.219677484, -0.057070629, -0.023526496]</td>\n",
       "      <td>[-0.027367492, -0.133933888, 0.003665807]</td>\n",
       "      <td>[-0.067560026, -0.234112815, 0.018824991]</td>\n",
       "    </tr>\n",
       "  </tbody>\n",
       "</table>\n",
       "<p>100 rows × 14 columns</p>\n",
       "</div>"
      ],
      "text/plain": [
       "    TIMESTEP_step  TIMESTEP_time                                      POS_1  \\\n",
       "0               0          0.000   [0.079293949, -0.115350911, 0.001069465]   \n",
       "1               1          0.001    [0.079278068, -0.113983263, 0.00116419]   \n",
       "2               2          0.002   [0.079359804, -0.112867892, 0.001443057]   \n",
       "3               3          0.003   [0.079407188, -0.111995171, 0.001806067]   \n",
       "4               4          0.004   [0.079574905, -0.111417416, 0.002188221]   \n",
       "..            ...            ...                                        ...   \n",
       "95             95          0.095   [0.108138026, -0.100965956, -0.00133106]   \n",
       "96             96          0.096  [0.108356696, -0.100037307, -0.001458296]   \n",
       "97             97          0.097  [0.108309809, -0.099316216, -0.001454185]   \n",
       "98             98          0.098   [0.108377834, -0.09853959, -0.001484836]   \n",
       "99             99          0.099  [0.108552743, -0.097932028, -0.001553072]   \n",
       "\n",
       "                                        POS_2  \\\n",
       "0    [0.142141436, -0.204390119, 0.002038194]   \n",
       "1    [0.142830725, -0.202507232, 0.003633213]   \n",
       "2    [0.144477771, -0.200198761, 0.005181344]   \n",
       "3     [0.14634435, -0.197935175, 0.005655246]   \n",
       "4    [0.148073312, -0.196103779, 0.006339564]   \n",
       "..                                        ...   \n",
       "95   [0.179346537, -0.183038819, 0.007294287]   \n",
       "96    [0.178572992, -0.18322993, 0.003851748]   \n",
       "97   [0.177988139, -0.183103572, 0.000928125]   \n",
       "98  [0.177944373, -0.182453111, -0.001168595]   \n",
       "99   [0.178552232, -0.181464029, -0.00343323]   \n",
       "\n",
       "                                       POS_3  \\\n",
       "0   [0.137561643, 0.010824028, -0.000732479]   \n",
       "1   [0.137727436, 0.010563691, -0.000813528]   \n",
       "2     [0.1378592, 0.010313039, -0.000842636]   \n",
       "3   [0.137893657, 0.010429766, -0.000963031]   \n",
       "4   [0.137752347, 0.010560604, -0.000982489]   \n",
       "..                                       ...   \n",
       "95   [0.143419603, 0.034476719, 0.001848471]   \n",
       "96     [0.14377582, 0.034292503, 0.00157822]   \n",
       "97   [0.144509747, 0.034066205, 0.001264579]   \n",
       "98      [0.145389839, 0.0339099, 0.00099235]   \n",
       "99    [0.14627432, 0.033836236, 0.000987005]   \n",
       "\n",
       "                                       POS_4  \\\n",
       "0   [0.246110591, 0.020729732, -0.000677102]   \n",
       "1    [0.246211768, 0.021076942, 0.000537359]   \n",
       "2     [0.24635752, 0.020492367, 0.001531612]   \n",
       "3    [0.246446107, 0.019455242, 0.003031625]   \n",
       "4    [0.246333301, 0.017983854, 0.005023715]   \n",
       "..                                       ...   \n",
       "95   [0.247560214, 0.057113405, 0.024732052]   \n",
       "96   [0.247120266, 0.059032214, 0.025845005]   \n",
       "97   [0.246970529, 0.060547763, 0.027370551]   \n",
       "98    [0.247388424, 0.061563043, 0.02768807]   \n",
       "99    [0.24805388, 0.062472704, 0.027480755]   \n",
       "\n",
       "                                       POS_5  \\\n",
       "0    [0.057415117, 0.124380084, -0.00180149]   \n",
       "1   [0.059184559, 0.124660831, -0.002701836]   \n",
       "2   [0.060629828, 0.125039045, -0.003803059]   \n",
       "3   [0.061742068, 0.125519076, -0.004800577]   \n",
       "4    [0.06288677, 0.126100645, -0.005777064]   \n",
       "..                                       ...   \n",
       "95   [0.054009963, 0.137804425, 0.000144716]   \n",
       "96   [0.054528814, 0.13906628, -0.000151529]   \n",
       "97     [0.05521268, 0.14012898, -0.00038168]   \n",
       "98   [0.055599243, 0.141256712, -0.00075887]   \n",
       "99  [0.055648556, 0.142253782, -0.001348035]   \n",
       "\n",
       "                                       POS_6  \\\n",
       "0    [0.103104793, 0.223323376, -0.00308404]   \n",
       "1   [0.106007722, 0.223090246, -0.003366005]   \n",
       "2     [0.108495517, 0.222966905, -0.0039326]   \n",
       "3        [0.110906, 0.222800511, -0.0052925]   \n",
       "4   [0.113583072, 0.222581095, -0.007340681]   \n",
       "..                                       ...   \n",
       "95   [0.080511293, 0.241610219, 0.020222434]   \n",
       "96   [0.080244204, 0.242764395, 0.021445228]   \n",
       "97   [0.080308242, 0.243564531, 0.023119471]   \n",
       "98   [0.080401438, 0.244286778, 0.024750902]   \n",
       "99   [0.081021531, 0.244421994, 0.026916578]   \n",
       "\n",
       "                                        POS_7  \\\n",
       "0    [-0.081009078, 0.111743506, -0.00204579]   \n",
       "1   [-0.081463221, 0.111815707, -0.000746384]   \n",
       "2    [-0.081796806, 0.112124923, 0.000425624]   \n",
       "3    [-0.082100551, 0.112522133, 0.001542179]   \n",
       "4    [-0.082306297, 0.113037783, 0.002485077]   \n",
       "..                                        ...   \n",
       "95  [-0.080101149, 0.109911479, -0.011804003]   \n",
       "96   [-0.079447229, 0.110224112, -0.01148075]   \n",
       "97   [-0.07910005, 0.110481788, -0.011074524]   \n",
       "98   [-0.078917958, 0.110568995, -0.01059418]   \n",
       "99  [-0.078770173, 0.110645072, -0.009915615]   \n",
       "\n",
       "                                        POS_8  \\\n",
       "0   [-0.143854971, 0.200790872, -0.003018626]   \n",
       "1   [-0.145161109, 0.200237398, -0.003023504]   \n",
       "2    [-0.146275922, 0.199956587, -0.00258521]   \n",
       "3   [-0.147522593, 0.199665228, -0.001111745]   \n",
       "4    [-0.149784924, 0.198615097, 0.000444639]   \n",
       "..                                        ...   \n",
       "95  [-0.159650467, 0.184222222, -0.017370888]   \n",
       "96  [-0.158551942, 0.184978013, -0.017423108]   \n",
       "97  [-0.157469063, 0.186001485, -0.017082108]   \n",
       "98  [-0.156723904, 0.186667989, -0.016609057]   \n",
       "99  [-0.155664824, 0.187642191, -0.016214038]   \n",
       "\n",
       "                                         POS_9  \\\n",
       "0   [-0.139274691, -0.014427247, -0.000244167]   \n",
       "1    [-0.138389573, -0.013518925, -2.6415e-05]   \n",
       "2     [-0.137390219, -0.012756159, 1.2355e-05]   \n",
       "3     [-0.136483329, -0.01225655, -6.4365e-05]   \n",
       "4   [-0.135741189, -0.012133984, -0.000400216]   \n",
       "..                                         ...   \n",
       "95  [-0.115424239, -0.027545732, -0.006780056]   \n",
       "96  [-0.115898214, -0.026980966, -0.006055717]   \n",
       "97   [-0.116374545, -0.026387848, -0.00547613]   \n",
       "98  [-0.116880944, -0.025744925, -0.005005944]   \n",
       "99  [-0.117252232, -0.024998699, -0.004562257]   \n",
       "\n",
       "                                        POS_10  \\\n",
       "0   [-0.247823617, -0.024333163, -0.000306279]   \n",
       "1   [-0.246803034, -0.023766872, -0.004806668]   \n",
       "2   [-0.245443327, -0.023926582, -0.008977645]   \n",
       "3   [-0.244160349, -0.022867689, -0.013257693]   \n",
       "4   [-0.242997066, -0.021091254, -0.017632336]   \n",
       "..                                         ...   \n",
       "95  [-0.221788469, -0.049893521, -0.015042862]   \n",
       "96   [-0.22136199, -0.052377104, -0.016789022]   \n",
       "97  [-0.220645927, -0.054835678, -0.019590308]   \n",
       "98   [-0.22005831, -0.056602626, -0.021838227]   \n",
       "99  [-0.219677484, -0.057070629, -0.023526496]   \n",
       "\n",
       "                                       POS_11  \\\n",
       "0   [-0.059130551, -0.127984375, 0.000838247]   \n",
       "1   [-0.058694813, -0.128575615, 0.000789086]   \n",
       "2   [-0.058472575, -0.129223395, 0.000591432]   \n",
       "3   [-0.058520322, -0.129891214, 0.000288167]   \n",
       "4   [-0.058498638, -0.130520462, -9.7311e-05]   \n",
       "..                                        ...   \n",
       "95   [-0.028572892, -0.131726507, 0.00350057]   \n",
       "96   [-0.028264015, -0.132167939, 0.00355255]   \n",
       "97  [-0.027777498, -0.132750802, 0.003668291]   \n",
       "98  [-0.027519166, -0.133513625, 0.003746412]   \n",
       "99  [-0.027367492, -0.133933888, 0.003665807]   \n",
       "\n",
       "                                        POS_12  \n",
       "0    [-0.104827497, -0.226930389, 0.002110119]  \n",
       "1   [-0.103891493, -0.227748292, -0.000990459]  \n",
       "2   [-0.102946977, -0.228646736, -0.003654699]  \n",
       "3   [-0.101662216, -0.229834963, -0.005284002]  \n",
       "4   [-0.100129976, -0.231045093, -0.006628481]  \n",
       "..                                         ...  \n",
       "95    [-0.058937798, -0.235401983, 0.01800557]  \n",
       "96   [-0.059183235, -0.235733205, 0.017668843]  \n",
       "97   [-0.060896957, -0.235597355, 0.018009925]  \n",
       "98   [-0.064258783, -0.235097938, 0.018305464]  \n",
       "99   [-0.067560026, -0.234112815, 0.018824991]  \n",
       "\n",
       "[100 rows x 14 columns]"
      ]
     },
     "execution_count": 15,
     "metadata": {},
     "output_type": "execute_result"
    }
   ],
   "source": [
    "sdGroSys.trc.database"
   ]
  },
  {
   "cell_type": "code",
   "execution_count": 16,
   "metadata": {},
   "outputs": [
    {
     "ename": "AttributeError",
     "evalue": "'Trc' object has no attribute 'get_atom_distance'",
     "output_type": "error",
     "traceback": [
      "\u001b[0;31m---------------------------------------------------------------------------\u001b[0m",
      "\u001b[0;31mAttributeError\u001b[0m                            Traceback (most recent call last)",
      "\u001b[0;32m/tmp/ipykernel_32679/78946798.py\u001b[0m in \u001b[0;36m<module>\u001b[0;34m\u001b[0m\n\u001b[0;32m----> 1\u001b[0;31m \u001b[0msdGroSys\u001b[0m\u001b[0;34m.\u001b[0m\u001b[0mtrc\u001b[0m\u001b[0;34m.\u001b[0m\u001b[0mget_atom_distance\u001b[0m\u001b[0;34m(\u001b[0m\u001b[0;36m1\u001b[0m\u001b[0;34m,\u001b[0m \u001b[0;36m2\u001b[0m\u001b[0;34m)\u001b[0m\u001b[0;34m\u001b[0m\u001b[0;34m\u001b[0m\u001b[0m\n\u001b[0m",
      "\u001b[0;31mAttributeError\u001b[0m: 'Trc' object has no attribute 'get_atom_distance'"
     ]
    }
   ],
   "source": [
    "sdGroSys.trc.get_atom_distance(1, 2)"
   ]
  },
  {
   "cell_type": "markdown",
   "metadata": {},
   "source": [
    "Similar to cnf files trc files also provide a `visualize` function. The function will show a 3D video of the trajectory."
   ]
  },
  {
   "cell_type": "code",
   "execution_count": null,
   "metadata": {},
   "outputs": [],
   "source": [
    "sdGroSys.trc.visualize()"
   ]
  },
  {
   "cell_type": "markdown",
   "metadata": {},
   "source": [
    "And similar to the trc files tre files also provide a wide selection of analysis tools out of the box."
   ]
  },
  {
   "cell_type": "code",
   "execution_count": null,
   "metadata": {},
   "outputs": [],
   "source": [
    "sdGroSys.tre.get_total_energy().plot()"
   ]
  },
  {
   "cell_type": "markdown",
   "metadata": {},
   "source": [
    "### Non standart blocks and modifications"
   ]
  },
  {
   "cell_type": "markdown",
   "metadata": {},
   "source": [
    "When devloping with Gromos or experimenting with new features it can happen that we need to use blocks which are not default blocks in Gromos, and therefore not out of the box supported by PyGromosTools. However, PyGromosTools is build up highly modular and flexible and many exstenions are easy to implement.  \n",
    "This can normally be done at very different levels. All files classes in PyGromosTools follow a specific structure and offer different implementations to read/write/modifie the files.  \n",
    "\n",
    "In the following section we will have a look at a possible modification to a IMD file and the structure of IMD files."
   ]
  },
  {
   "cell_type": "code",
   "execution_count": null,
   "metadata": {},
   "outputs": [],
   "source": [
    "test_imd = Imd(template_sd)"
   ]
  },
  {
   "cell_type": "markdown",
   "metadata": {},
   "source": [
    "`Imd`is a `_general_gromos_file` class. While the `_general_gromos_file` class already has default implementations for reading and writing (`read_file`and `to_string`) these are mostly overwritten by the `Imd` class to suit the special needs of IMD files.  \n",
    "\n",
    "The `Imd` class then contains all the IMD-blocks as attributes. These attributes are instances of the `pygromos.files.blocks.imd_blocks` classes. These blocks the again contain theire own read/write functions which are called from the `Imd` class top down. And every block again may have smaller classes for individual fields with theire own read/write functions.  \n",
    "\n",
    "If we look at a simple example of a block like the SYSTEM block we can achive a deeper understanding of the underlying structure."
   ]
  },
  {
   "cell_type": "code",
   "execution_count": null,
   "metadata": {},
   "outputs": [],
   "source": [
    "from pygromos.files.blocks.imd_blocks import _generic_imd_block\n",
    "class testSYSTEM(_generic_imd_block):\n",
    "    #removed documentation for this example. Original code can be found in pygromos.files.blocks.imd_blocks:145\n",
    "    name: str = \"testSYSTEM\"\n",
    "    # fields\n",
    "    NPM: int  # number of Solute Molecules\n",
    "    NSM: int  # number of Solvent Molecules\n",
    "\n",
    "    _order = [[[\"NPM\", \"NSM\"]]]\n",
    "\n",
    "    def __init__(self, NPM:int=0, NSM:int=0, content=None):\n",
    "        super().__init__(used=True, content=content)\n",
    "        if content is None:\n",
    "            self.NPM = int(NPM)\n",
    "            self.NSM = int(NSM)"
   ]
  },
  {
   "cell_type": "markdown",
   "metadata": {},
   "source": [
    "The `SYSTEM` block is a `_generic_imd_block` class. And in this simple case we can use the default implemnation of all block specific functions like `read_content_from_str`and `block_to_string` provided by `_generic_imd_block`. These functions are set by the `super` call in the `__init__` function.  \n",
    "All we are doing is telling the super class the keys to expect via the `_order` list and the conversion of the attributes to the right types. The `_order` attribute allways is a 3D list. Where th inner 2D are corresponding to lines and fields in the block. For example we could add another field called \"test\" which we expect to be in the next line by writting:"
   ]
  },
  {
   "cell_type": "code",
   "execution_count": null,
   "metadata": {},
   "outputs": [],
   "source": [
    "_order = [[[\"NPM\", \"NSM\"][\"test\"]]]"
   ]
  },
  {
   "cell_type": "markdown",
   "metadata": {},
   "source": [
    "As long as the block does not contain matrices (like PRESSURESCALE) the default implementation of read/write functions should be sufficient. However, with more complex blocks there might be a need to overload these functions."
   ]
  },
  {
   "cell_type": "markdown",
   "metadata": {},
   "source": [
    "Since `_order`is a attribute of the block class we can easily modify it on the fly. Or if we are always using a specific order we can simply overwrite the `_order` attribute in the file. This is also a easy way to update PyGromosTools to new versions of Gromos blocks."
   ]
  },
  {
   "cell_type": "markdown",
   "metadata": {},
   "source": [
    "### New files for new gromos functionality"
   ]
  },
  {
   "cell_type": "markdown",
   "metadata": {},
   "source": [
    "## Release 3"
   ]
  },
  {
   "cell_type": "markdown",
   "metadata": {},
   "source": [
    "## Hackathlon"
   ]
  },
  {
   "cell_type": "markdown",
   "metadata": {},
   "source": [
    "## Final Disscussion"
   ]
  }
 ],
 "metadata": {
  "interpreter": {
   "hash": "b1b7b2ea43b8e767316eee98e01335d045804d2d47db68b6a5827e187ee91a7e"
  },
  "kernelspec": {
   "display_name": "Python 3.9.7 ('pygro2')",
   "language": "python",
   "name": "python3"
  },
  "language_info": {
   "codemirror_mode": {
    "name": "ipython",
    "version": 3
   },
   "file_extension": ".py",
   "mimetype": "text/x-python",
   "name": "python",
   "nbconvert_exporter": "python",
   "pygments_lexer": "ipython3",
   "version": "3.9.7"
  },
  "orig_nbformat": 4
 },
 "nbformat": 4,
 "nbformat_minor": 2
}
