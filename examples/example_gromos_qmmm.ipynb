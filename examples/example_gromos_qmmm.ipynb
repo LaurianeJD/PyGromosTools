{
 "cells": [
  {
   "cell_type": "code",
   "execution_count": 1,
   "id": "e12b44c0-182f-49b3-b005-2ee1bf705a80",
   "metadata": {},
   "outputs": [],
   "source": [
    "from pygromos.files.simulation_parameters.imd import Imd\n",
    "from pygromos.files.qmmm.qmmm import QMMM\n",
    "\n",
    "# unclear why \"from pygromos.simulations.modules.preset_simulation_modules import emin, md\" causes three the path to the package be printed out three times"
   ]
  },
  {
   "cell_type": "markdown",
   "id": "ea7f87a7-1869-4560-a6cc-5511179addee",
   "metadata": {
    "tags": []
   },
   "source": [
    "## Support for QMMM functionality in Gromos input files\n",
    "### Load an imd file containing a QMMM block"
   ]
  },
  {
   "cell_type": "code",
   "execution_count": 2,
   "id": "dbbf090b-19c7-48b5-86ac-ca0f6d1be117",
   "metadata": {},
   "outputs": [
    {
     "data": {
      "text/plain": [
       "TITLE\n",
       "Demonstration of a Gromos imd file containing a QMMM block\n",
       "\t >>> Generated with PyGromosTools (riniker group) <<< \n",
       "END\n",
       "BOUNDCOND\n",
       "# \t NTB \t NDFMIN\n",
       " \t 1 \t 3 \t \n",
       "END\n",
       "COMTRANSROT\n",
       "# \t NSCM\n",
       " \t 1000 \t \n",
       "END\n",
       "CONSTRAINT\n",
       "# \t NTC\n",
       " \t 3 \t \n",
       "# \t NTCP \t NTCP0(1)\n",
       " \t 1 \t 0.000100 \t \n",
       "# \t NTCS \t NTCS0(1)\n",
       " \t 1 \t 0.000100 \t \n",
       "END\n",
       "FORCE\n",
       "# \t BONDS \t ANGLES \t IMPROPER \t DIHEDRAL \t ELECTROSTATIC \t VDW\n",
       " \t 0 \t 1 \t 1 \t 1 \t 1 \t 1 \t \n",
       "# \t NEGR \t NRE\n",
       " \t 1 \t 3613 \t \n",
       "END\n",
       "INITIALISE\n",
       "# \t NTIVEL \t NTISHK \t NTINHT \t NTINHB\n",
       " \t 1 \t 3 \t 0 \t 0 \t \n",
       "# \t NTISHI \t NTIRTC \t NTICOM\n",
       " \t 1 \t 0 \t 0 \t \n",
       "# \t NTISTI\n",
       " \t 0 \t \n",
       "# \t IG \t TEMPI\n",
       " \t 210185 \t 298.000000 \t \n",
       "END\n",
       "MULTIBATH\n",
       "# ALGORITHM\n",
       "  0\n",
       "# NBATHS\n",
       "  1\n",
       "# TEMP0(1 ... NBATHS) \t TAU(1 ... NBATHS)\n",
       "  298.0 \t 0.1\n",
       "# DOFSET\n",
       "  1\n",
       "# LAST(1 ... DOFSET) \t COMBATH(1 ... DOFSET) \t IRBATH(1 ... DOFSET)\n",
       "  3613 \t 1 \t 1\n",
       "END\n",
       "NONBONDED\n",
       "# \t NLRELE\n",
       " \t 1 \t \n",
       "# \t APPAK \t RCRF \t EPSRF \t NSLFEXCL\n",
       " \t 0.000000 \t 1.400000 \t 66.700000 \t 1 \t \n",
       "# \t NSHAPE \t ASHAPE \t NA2CLC \t TOLA2 \t EPSLS\n",
       " \t 3 \t 1.400000 \t 2 \t 1e-10 \t 0.000000 \t \n",
       "# \t NKX \t NKY \t NKZ \t KCUT\n",
       " \t 10 \t 10 \t 10 \t 100.000000 \t \n",
       "# \t NGX \t NGY \t NGZ \t NASORD \t NFDORD \t NALIAS \t NSPORD\n",
       " \t 32 \t 32 \t 32 \t 3 \t 2 \t 3 \t 4 \t \n",
       "# \t NQEVAL \t FACCUR \t NRDGRD \t NWRGRD\n",
       " \t 1000 \t 1.600000 \t 0 \t 0 \t \n",
       "# \t NLRLJ \t SLVDNS\n",
       " \t 0 \t 33.300000 \t \n",
       "END\n",
       "PAIRLIST\n",
       "# \t ALGORITHM \t NSNB \t RCUTP \t RCUTL \t SIZE \t TYPE\n",
       " \t 0 \t 5 \t 0.800000 \t 1.400000 \t 0.4 \t 0 \t \n",
       "END\n",
       "PRESSURESCALE\n",
       "# \t COUPLE \t SCALE \t COMP \t TAUP \t VIRIAL\n",
       " \t 2 \t 1 \t 0.000458 \t 0.500000 \t 2 \t \n",
       "# \t SEMIANISOTROPIC COUPLINGS(X, Y, Z)\n",
       " \t 1 \t 1 \t 1 \t \n",
       "# \t PRES0(1...3,1...3)\n",
       " \t 0.06102 \t 0.0 \t 0.0\n",
       " \t 0.0 \t 0.06102 \t 0.0\n",
       " \t 0.0 \t 0.0 \t 0.06102 \t \n",
       "END\n",
       "PRINTOUT\n",
       "# \t NTPR \t NTPP\n",
       " \t 10 \t 0 \t \n",
       "END\n",
       "QMMM\n",
       "# \t NTQMMM \t NTQMSW \t RCUTQ \t NTWQMMM \t QMLJ \t MMSCAL\n",
       " \t 1 \t 5 \t 1.400000 \t 0 \t 0 \t -1.000000 \t \n",
       "END\n",
       "STEP\n",
       "# \t NSTLIM \t T \t DT\n",
       " \t 100000 \t 0.000000 \t 0.002000 \t \n",
       "END\n",
       "SYSTEM\n",
       "# \t NPM \t NSM\n",
       " \t 1 \t 0 \t \n",
       "END\n",
       "WRITETRAJ\n",
       "# \t NTWX \t NTWSE \t NTWV \t NTWF \t NTWE \t NTWG \t NTWB\n",
       " \t 200 \t 0 \t 0 \t 0 \t 100 \t 0 \t 0 \t \n",
       "END"
      ]
     },
     "execution_count": 2,
     "metadata": {},
     "output_type": "execute_result"
    }
   ],
   "source": [
    "imd_path = \"example_files/QMMM_files/md.imd\"\n",
    "imd_file = Imd(imd_path)\n",
    "imd_file.TITLE.content = \"Demonstration of a Gromos imd file containing a QMMM block\"\n",
    "imd_file"
   ]
  },
  {
   "cell_type": "markdown",
   "id": "f48a2e4c-9b54-4c9c-9064-df84826b7b19",
   "metadata": {},
   "source": [
    "### Print out different sections of the QMMM block"
   ]
  },
  {
   "cell_type": "code",
   "execution_count": 3,
   "id": "0794168f-e5ee-402d-aad9-a456ff4df6f8",
   "metadata": {},
   "outputs": [
    {
     "name": "stdout",
     "output_type": "stream",
     "text": [
      "1\n",
      "5\n",
      "-1.0\n"
     ]
    }
   ],
   "source": [
    "print(imd_file.QMMM.NTQMMM)\n",
    "print(imd_file.QMMM.NTQMSW)\n",
    "print(imd_file.QMMM.MMSCAL)"
   ]
  },
  {
   "cell_type": "markdown",
   "id": "e9ef2fb7-0205-4a34-8024-fff058a1bab8",
   "metadata": {},
   "source": [
    "### Change a block value and print again"
   ]
  },
  {
   "cell_type": "code",
   "execution_count": 4,
   "id": "34e14585-76c7-4509-a121-17c58b56262b",
   "metadata": {},
   "outputs": [
    {
     "data": {
      "text/plain": [
       "TITLE\n",
       "Demonstration of a Gromos imd file containing a QMMM block\n",
       "\t >>> Generated with PyGromosTools (riniker group) <<< \n",
       "END\n",
       "BOUNDCOND\n",
       "# \t NTB \t NDFMIN\n",
       " \t 1 \t 3 \t \n",
       "END\n",
       "COMTRANSROT\n",
       "# \t NSCM\n",
       " \t 1000 \t \n",
       "END\n",
       "CONSTRAINT\n",
       "# \t NTC\n",
       " \t 3 \t \n",
       "# \t NTCP \t NTCP0(1)\n",
       " \t 1 \t 0.000100 \t \n",
       "# \t NTCS \t NTCS0(1)\n",
       " \t 1 \t 0.000100 \t \n",
       "END\n",
       "FORCE\n",
       "# \t BONDS \t ANGLES \t IMPROPER \t DIHEDRAL \t ELECTROSTATIC \t VDW\n",
       " \t 0 \t 1 \t 1 \t 1 \t 1 \t 1 \t \n",
       "# \t NEGR \t NRE\n",
       " \t 1 \t 3613 \t \n",
       "END\n",
       "INITIALISE\n",
       "# \t NTIVEL \t NTISHK \t NTINHT \t NTINHB\n",
       " \t 1 \t 3 \t 0 \t 0 \t \n",
       "# \t NTISHI \t NTIRTC \t NTICOM\n",
       " \t 1 \t 0 \t 0 \t \n",
       "# \t NTISTI\n",
       " \t 0 \t \n",
       "# \t IG \t TEMPI\n",
       " \t 210185 \t 298.000000 \t \n",
       "END\n",
       "MULTIBATH\n",
       "# ALGORITHM\n",
       "  0\n",
       "# NBATHS\n",
       "  1\n",
       "# TEMP0(1 ... NBATHS) \t TAU(1 ... NBATHS)\n",
       "  298.0 \t 0.1\n",
       "# DOFSET\n",
       "  1\n",
       "# LAST(1 ... DOFSET) \t COMBATH(1 ... DOFSET) \t IRBATH(1 ... DOFSET)\n",
       "  3613 \t 1 \t 1\n",
       "END\n",
       "NONBONDED\n",
       "# \t NLRELE\n",
       " \t 1 \t \n",
       "# \t APPAK \t RCRF \t EPSRF \t NSLFEXCL\n",
       " \t 0.000000 \t 1.400000 \t 66.700000 \t 1 \t \n",
       "# \t NSHAPE \t ASHAPE \t NA2CLC \t TOLA2 \t EPSLS\n",
       " \t 3 \t 1.400000 \t 2 \t 1e-10 \t 0.000000 \t \n",
       "# \t NKX \t NKY \t NKZ \t KCUT\n",
       " \t 10 \t 10 \t 10 \t 100.000000 \t \n",
       "# \t NGX \t NGY \t NGZ \t NASORD \t NFDORD \t NALIAS \t NSPORD\n",
       " \t 32 \t 32 \t 32 \t 3 \t 2 \t 3 \t 4 \t \n",
       "# \t NQEVAL \t FACCUR \t NRDGRD \t NWRGRD\n",
       " \t 1000 \t 1.600000 \t 0 \t 0 \t \n",
       "# \t NLRLJ \t SLVDNS\n",
       " \t 0 \t 33.300000 \t \n",
       "END\n",
       "PAIRLIST\n",
       "# \t ALGORITHM \t NSNB \t RCUTP \t RCUTL \t SIZE \t TYPE\n",
       " \t 0 \t 5 \t 0.800000 \t 1.400000 \t 0.4 \t 0 \t \n",
       "END\n",
       "PRESSURESCALE\n",
       "# \t COUPLE \t SCALE \t COMP \t TAUP \t VIRIAL\n",
       " \t 2 \t 1 \t 0.000458 \t 0.500000 \t 2 \t \n",
       "# \t SEMIANISOTROPIC COUPLINGS(X, Y, Z)\n",
       " \t 1 \t 1 \t 1 \t \n",
       "# \t PRES0(1...3,1...3)\n",
       " \t 0.06102 \t 0.0 \t 0.0\n",
       " \t 0.0 \t 0.06102 \t 0.0\n",
       " \t 0.0 \t 0.0 \t 0.06102 \t \n",
       "END\n",
       "PRINTOUT\n",
       "# \t NTPR \t NTPP\n",
       " \t 10 \t 0 \t \n",
       "END\n",
       "QMMM\n",
       "# \t NTQMMM \t NTQMSW \t RCUTQ \t NTWQMMM \t QMLJ \t MMSCAL\n",
       " \t 1 \t 4 \t 1.400000 \t 0 \t 0 \t -1.000000 \t \n",
       "END\n",
       "STEP\n",
       "# \t NSTLIM \t T \t DT\n",
       " \t 100000 \t 0.000000 \t 0.002000 \t \n",
       "END\n",
       "SYSTEM\n",
       "# \t NPM \t NSM\n",
       " \t 1 \t 0 \t \n",
       "END\n",
       "WRITETRAJ\n",
       "# \t NTWX \t NTWSE \t NTWV \t NTWF \t NTWE \t NTWG \t NTWB\n",
       " \t 200 \t 0 \t 0 \t 0 \t 100 \t 0 \t 0 \t \n",
       "END"
      ]
     },
     "execution_count": 4,
     "metadata": {},
     "output_type": "execute_result"
    }
   ],
   "source": [
    "imd_file.QMMM.NTQMSW = 4\n",
    "imd_file"
   ]
  },
  {
   "cell_type": "markdown",
   "id": "27bbd639-1a57-4be3-aea5-67517721a6ed",
   "metadata": {},
   "source": [
    "## Directly manipulate a QMMM specification file"
   ]
  },
  {
   "cell_type": "markdown",
   "id": "9d70086b-f262-4ec7-b7d7-d636eb8a08e8",
   "metadata": {},
   "source": [
    "Not implemented yet - currently being considered how much work that would be"
   ]
  },
  {
   "cell_type": "code",
   "execution_count": 5,
   "id": "025685f2-7888-43d1-8815-78bd6182d610",
   "metadata": {},
   "outputs": [
    {
     "ename": "TypeError",
     "evalue": "int() argument must be a string, a bytes-like object or a number, not 'list'",
     "output_type": "error",
     "traceback": [
      "\u001b[0;31m---------------------------------------------------------------------------\u001b[0m",
      "\u001b[0;31mTypeError\u001b[0m                                 Traceback (most recent call last)",
      "\u001b[0;32m/tmp/ipykernel_24240/2637682631.py\u001b[0m in \u001b[0;36m<module>\u001b[0;34m\u001b[0m\n\u001b[0;32m----> 1\u001b[0;31m \u001b[0mqmmm_file\u001b[0m \u001b[0;34m=\u001b[0m \u001b[0mQMMM\u001b[0m\u001b[0;34m(\u001b[0m\u001b[0;34m\"example_files/QMMM_files/menthol-methanol-dmf.qmmm\"\u001b[0m\u001b[0;34m)\u001b[0m\u001b[0;34m\u001b[0m\u001b[0;34m\u001b[0m\u001b[0m\n\u001b[0m",
      "\u001b[0;32m~/Documents/repos/PyGromosTools/pygromos/files/qmmm/qmmm.py\u001b[0m in \u001b[0;36m__init__\u001b[0;34m(self, in_value, _future_file)\u001b[0m\n\u001b[1;32m     27\u001b[0m \u001b[0;34m\u001b[0m\u001b[0m\n\u001b[1;32m     28\u001b[0m     \u001b[0;32mdef\u001b[0m \u001b[0m__init__\u001b[0m\u001b[0;34m(\u001b[0m\u001b[0mself\u001b[0m\u001b[0;34m,\u001b[0m \u001b[0min_value\u001b[0m\u001b[0;34m:\u001b[0m\u001b[0mstr\u001b[0m\u001b[0;34m,\u001b[0m \u001b[0m_future_file\u001b[0m\u001b[0;34m:\u001b[0m\u001b[0mbool\u001b[0m\u001b[0;34m=\u001b[0m\u001b[0;32mFalse\u001b[0m\u001b[0;34m)\u001b[0m\u001b[0;34m:\u001b[0m\u001b[0;34m\u001b[0m\u001b[0;34m\u001b[0m\u001b[0m\n\u001b[0;32m---> 29\u001b[0;31m         \u001b[0msuper\u001b[0m\u001b[0;34m(\u001b[0m\u001b[0;34m)\u001b[0m\u001b[0;34m.\u001b[0m\u001b[0m__init__\u001b[0m\u001b[0;34m(\u001b[0m\u001b[0min_value\u001b[0m\u001b[0;34m=\u001b[0m\u001b[0min_value\u001b[0m\u001b[0;34m,\u001b[0m \u001b[0m_future_file\u001b[0m\u001b[0;34m=\u001b[0m\u001b[0m_future_file\u001b[0m\u001b[0;34m)\u001b[0m\u001b[0;34m\u001b[0m\u001b[0;34m\u001b[0m\u001b[0m\n\u001b[0m\u001b[1;32m     30\u001b[0m \u001b[0;34m\u001b[0m\u001b[0m\n\u001b[1;32m     31\u001b[0m         \u001b[0;31m#TODO: maybe somebody can make a better solution for this. This is a ugly fix to unify the structure of the blocks\u001b[0m\u001b[0;34m\u001b[0m\u001b[0;34m\u001b[0m\u001b[0m\n",
      "\u001b[0;32m~/Documents/repos/PyGromosTools/pygromos/files/_basics/_general_gromos_file.py\u001b[0m in \u001b[0;36m__init__\u001b[0;34m(self, in_value, _future_file)\u001b[0m\n\u001b[1;32m     37\u001b[0m                 \u001b[0;32mpass\u001b[0m\u001b[0;34m\u001b[0m\u001b[0;34m\u001b[0m\u001b[0m\n\u001b[1;32m     38\u001b[0m             \u001b[0;32melif\u001b[0m \u001b[0;34m(\u001b[0m\u001b[0mos\u001b[0m\u001b[0;34m.\u001b[0m\u001b[0mpath\u001b[0m\u001b[0;34m.\u001b[0m\u001b[0mexists\u001b[0m\u001b[0;34m(\u001b[0m\u001b[0min_value\u001b[0m\u001b[0;34m)\u001b[0m\u001b[0;34m)\u001b[0m\u001b[0;34m:\u001b[0m\u001b[0;34m\u001b[0m\u001b[0;34m\u001b[0m\u001b[0m\n\u001b[0;32m---> 39\u001b[0;31m                 \u001b[0mself\u001b[0m\u001b[0;34m.\u001b[0m\u001b[0mread_blocks\u001b[0m\u001b[0;34m(\u001b[0m\u001b[0;34m)\u001b[0m\u001b[0;34m\u001b[0m\u001b[0;34m\u001b[0m\u001b[0m\n\u001b[0m\u001b[1;32m     40\u001b[0m             \u001b[0;32melse\u001b[0m\u001b[0;34m:\u001b[0m\u001b[0;34m\u001b[0m\u001b[0;34m\u001b[0m\u001b[0m\n\u001b[1;32m     41\u001b[0m                 \u001b[0;32mraise\u001b[0m \u001b[0mIOError\u001b[0m\u001b[0;34m(\u001b[0m\u001b[0;34m\"Could not find File: \"\u001b[0m\u001b[0;34m,\u001b[0m \u001b[0min_value\u001b[0m\u001b[0;34m)\u001b[0m\u001b[0;34m\u001b[0m\u001b[0;34m\u001b[0m\u001b[0m\n",
      "\u001b[0;32m~/Documents/repos/PyGromosTools/pygromos/files/_basics/_general_gromos_file.py\u001b[0m in \u001b[0;36mread_blocks\u001b[0;34m(self)\u001b[0m\n\u001b[1;32m     51\u001b[0m \u001b[0;34m\u001b[0m\u001b[0m\n\u001b[1;32m     52\u001b[0m     \u001b[0;32mdef\u001b[0m \u001b[0mread_blocks\u001b[0m\u001b[0;34m(\u001b[0m\u001b[0mself\u001b[0m\u001b[0;34m)\u001b[0m\u001b[0;34m:\u001b[0m\u001b[0;34m\u001b[0m\u001b[0;34m\u001b[0m\u001b[0m\n\u001b[0;32m---> 53\u001b[0;31m         \u001b[0mself\u001b[0m\u001b[0;34m.\u001b[0m\u001b[0m_blocks\u001b[0m \u001b[0;34m=\u001b[0m \u001b[0mself\u001b[0m\u001b[0;34m.\u001b[0m\u001b[0mread_file\u001b[0m\u001b[0;34m(\u001b[0m\u001b[0;34m)\u001b[0m\u001b[0;34m\u001b[0m\u001b[0;34m\u001b[0m\u001b[0m\n\u001b[0m\u001b[1;32m     54\u001b[0m         \u001b[0mself\u001b[0m\u001b[0;34m.\u001b[0m\u001b[0m_blocksset_names\u001b[0m \u001b[0;34m=\u001b[0m \u001b[0mlist\u001b[0m\u001b[0;34m(\u001b[0m\u001b[0mself\u001b[0m\u001b[0;34m.\u001b[0m\u001b[0m_blocks\u001b[0m\u001b[0;34m.\u001b[0m\u001b[0mkeys\u001b[0m\u001b[0;34m(\u001b[0m\u001b[0;34m)\u001b[0m\u001b[0;34m)\u001b[0m\u001b[0;34m\u001b[0m\u001b[0;34m\u001b[0m\u001b[0m\n\u001b[1;32m     55\u001b[0m         \u001b[0;34m[\u001b[0m\u001b[0msetattr\u001b[0m\u001b[0;34m(\u001b[0m\u001b[0mself\u001b[0m\u001b[0;34m,\u001b[0m \u001b[0mkey\u001b[0m\u001b[0;34m,\u001b[0m \u001b[0mvalue\u001b[0m\u001b[0;34m)\u001b[0m \u001b[0;32mfor\u001b[0m \u001b[0mkey\u001b[0m\u001b[0;34m,\u001b[0m \u001b[0mvalue\u001b[0m \u001b[0;32min\u001b[0m \u001b[0mself\u001b[0m\u001b[0;34m.\u001b[0m\u001b[0m_blocks\u001b[0m\u001b[0;34m.\u001b[0m\u001b[0mitems\u001b[0m\u001b[0;34m(\u001b[0m\u001b[0;34m)\u001b[0m\u001b[0;34m]\u001b[0m\u001b[0;34m\u001b[0m\u001b[0;34m\u001b[0m\u001b[0m\n",
      "\u001b[0;32m~/Documents/repos/PyGromosTools/pygromos/files/qmmm/qmmm.py\u001b[0m in \u001b[0;36mread_file\u001b[0;34m(self)\u001b[0m\n\u001b[1;32m     51\u001b[0m         \u001b[0;32mfor\u001b[0m \u001b[0mblock_title\u001b[0m \u001b[0;32min\u001b[0m \u001b[0mdata\u001b[0m\u001b[0;34m:\u001b[0m\u001b[0;34m\u001b[0m\u001b[0;34m\u001b[0m\u001b[0m\n\u001b[1;32m     52\u001b[0m             \u001b[0;31m#print(block_title)\u001b[0m\u001b[0;34m\u001b[0m\u001b[0;34m\u001b[0m\u001b[0m\n\u001b[0;32m---> 53\u001b[0;31m             \u001b[0mself\u001b[0m\u001b[0;34m.\u001b[0m\u001b[0madd_block\u001b[0m\u001b[0;34m(\u001b[0m\u001b[0mblocktitle\u001b[0m\u001b[0;34m=\u001b[0m\u001b[0mblock_title\u001b[0m\u001b[0;34m,\u001b[0m \u001b[0mcontent\u001b[0m\u001b[0;34m=\u001b[0m\u001b[0mdata\u001b[0m\u001b[0;34m[\u001b[0m\u001b[0mblock_title\u001b[0m\u001b[0;34m]\u001b[0m\u001b[0;34m)\u001b[0m\u001b[0;34m\u001b[0m\u001b[0;34m\u001b[0m\u001b[0m\n\u001b[0m\u001b[1;32m     54\u001b[0m             \u001b[0mblocks\u001b[0m\u001b[0;34m.\u001b[0m\u001b[0mupdate\u001b[0m\u001b[0;34m(\u001b[0m\u001b[0;34m{\u001b[0m\u001b[0mblock_title\u001b[0m\u001b[0;34m:\u001b[0m \u001b[0mself\u001b[0m\u001b[0;34m.\u001b[0m\u001b[0m__getattribute__\u001b[0m\u001b[0;34m(\u001b[0m\u001b[0mblock_title\u001b[0m\u001b[0;34m)\u001b[0m\u001b[0;34m}\u001b[0m\u001b[0;34m)\u001b[0m\u001b[0;34m\u001b[0m\u001b[0;34m\u001b[0m\u001b[0m\n\u001b[1;32m     55\u001b[0m         \u001b[0;32mreturn\u001b[0m \u001b[0mblocks\u001b[0m\u001b[0;34m\u001b[0m\u001b[0;34m\u001b[0m\u001b[0m\n",
      "\u001b[0;32m~/Documents/repos/PyGromosTools/pygromos/files/_basics/_general_gromos_file.py\u001b[0m in \u001b[0;36madd_block\u001b[0;34m(self, blocktitle, content, block, verbose)\u001b[0m\n\u001b[1;32m    196\u001b[0m             \u001b[0;32melif\u001b[0m\u001b[0;34m(\u001b[0m\u001b[0misinstance\u001b[0m\u001b[0;34m(\u001b[0m\u001b[0mcontent\u001b[0m\u001b[0;34m,\u001b[0m \u001b[0mlist\u001b[0m\u001b[0;34m)\u001b[0m\u001b[0;34m)\u001b[0m\u001b[0;34m:\u001b[0m\u001b[0;34m\u001b[0m\u001b[0;34m\u001b[0m\u001b[0m\n\u001b[1;32m    197\u001b[0m                 \u001b[0mblock_class\u001b[0m \u001b[0;34m=\u001b[0m \u001b[0mblocks\u001b[0m\u001b[0;34m.\u001b[0m\u001b[0m__getattribute__\u001b[0m\u001b[0;34m(\u001b[0m\u001b[0mblocktitle\u001b[0m\u001b[0;34m)\u001b[0m\u001b[0;34m\u001b[0m\u001b[0;34m\u001b[0m\u001b[0m\n\u001b[0;32m--> 198\u001b[0;31m                 \u001b[0mblock\u001b[0m \u001b[0;34m=\u001b[0m \u001b[0mblock_class\u001b[0m\u001b[0;34m(\u001b[0m\u001b[0mcontent\u001b[0m\u001b[0;34m)\u001b[0m\u001b[0;34m\u001b[0m\u001b[0;34m\u001b[0m\u001b[0m\n\u001b[0m\u001b[1;32m    199\u001b[0m \u001b[0;34m\u001b[0m\u001b[0m\n\u001b[1;32m    200\u001b[0m                 \u001b[0mself\u001b[0m\u001b[0;34m.\u001b[0m\u001b[0m__setattr__\u001b[0m\u001b[0;34m(\u001b[0m\u001b[0mblocktitle\u001b[0m\u001b[0;34m,\u001b[0m \u001b[0mblock\u001b[0m\u001b[0;34m)\u001b[0m\u001b[0;34m\u001b[0m\u001b[0;34m\u001b[0m\u001b[0m\n",
      "\u001b[0;32m~/Documents/repos/PyGromosTools/pygromos/files/blocks/qmmm_blocks.py\u001b[0m in \u001b[0;36m__init__\u001b[0;34m(self, NPM, NSM, content)\u001b[0m\n\u001b[1;32m     31\u001b[0m         \u001b[0msuper\u001b[0m\u001b[0;34m(\u001b[0m\u001b[0;34m)\u001b[0m\u001b[0;34m.\u001b[0m\u001b[0m__init__\u001b[0m\u001b[0;34m(\u001b[0m\u001b[0mused\u001b[0m\u001b[0;34m=\u001b[0m\u001b[0;32mTrue\u001b[0m\u001b[0;34m,\u001b[0m \u001b[0mcontent\u001b[0m\u001b[0;34m=\u001b[0m\u001b[0mcontent\u001b[0m\u001b[0;34m)\u001b[0m\u001b[0;34m\u001b[0m\u001b[0;34m\u001b[0m\u001b[0m\n\u001b[1;32m     32\u001b[0m         \u001b[0;32mif\u001b[0m \u001b[0mcontent\u001b[0m \u001b[0;32mis\u001b[0m \u001b[0;32mNone\u001b[0m\u001b[0;34m:\u001b[0m\u001b[0;34m\u001b[0m\u001b[0;34m\u001b[0m\u001b[0m\n\u001b[0;32m---> 33\u001b[0;31m             \u001b[0mself\u001b[0m\u001b[0;34m.\u001b[0m\u001b[0mNPM\u001b[0m \u001b[0;34m=\u001b[0m \u001b[0mint\u001b[0m\u001b[0;34m(\u001b[0m\u001b[0mNPM\u001b[0m\u001b[0;34m)\u001b[0m\u001b[0;34m\u001b[0m\u001b[0;34m\u001b[0m\u001b[0m\n\u001b[0m\u001b[1;32m     34\u001b[0m             \u001b[0mself\u001b[0m\u001b[0;34m.\u001b[0m\u001b[0mNSM\u001b[0m \u001b[0;34m=\u001b[0m \u001b[0mint\u001b[0m\u001b[0;34m(\u001b[0m\u001b[0mNSM\u001b[0m\u001b[0;34m)\u001b[0m\u001b[0;34m\u001b[0m\u001b[0;34m\u001b[0m\u001b[0m\n\u001b[1;32m     35\u001b[0m \u001b[0;34m\u001b[0m\u001b[0m\n",
      "\u001b[0;31mTypeError\u001b[0m: int() argument must be a string, a bytes-like object or a number, not 'list'"
     ]
    }
   ],
   "source": [
    "qmmm_file = QMMM(\"example_files/QMMM_files/menthol-methanol-dmf.qmmm\")"
   ]
  },
  {
   "cell_type": "code",
   "execution_count": null,
   "id": "ed139717-b743-4bf8-99e4-3732cd02f1ff",
   "metadata": {},
   "outputs": [],
   "source": []
  }
 ],
 "metadata": {
  "kernelspec": {
   "display_name": "Python 3 (ipykernel)",
   "language": "python",
   "name": "python3"
  },
  "language_info": {
   "codemirror_mode": {
    "name": "ipython",
    "version": 3
   },
   "file_extension": ".py",
   "mimetype": "text/x-python",
   "name": "python",
   "nbconvert_exporter": "python",
   "pygments_lexer": "ipython3",
   "version": "3.9.7"
  }
 },
 "nbformat": 4,
 "nbformat_minor": 5
}
