{
 "cells": [
  {
   "cell_type": "markdown",
   "metadata": {
    "pycharm": {
     "name": "#%% md\n"
    }
   },
   "source": [
    "# Gromos Tutorial\n",
    "This tutorial will provide a quick introduction to how to setup, perform and analyze a MD simulation of a peptide in Gromos.\n",
    "\n",
    "First we will generated the required input files, afterwards the simulation will be prepared with energy minimizations and equilibration.\n",
    "Finally a short MD simulation will be executed and quickly analyzed.\n",
    "\n",
    "But first some minor definitions will be prepared."
   ]
  },
  {
   "cell_type": "code",
   "execution_count": 1,
   "metadata": {
    "execution": {
     "iopub.execute_input": "2022-04-04T16:01:10.324668Z",
     "iopub.status.busy": "2022-04-04T16:01:10.323993Z",
     "iopub.status.idle": "2022-04-04T16:01:10.655424Z",
     "shell.execute_reply": "2022-04-04T16:01:10.654475Z"
    }
   },
   "outputs": [],
   "source": [
    "import os\n",
    "# Check if the path to this pacakge is set, else try to add it.\n",
    "try:\n",
    "    import pygromos\n",
    "except:\n",
    "    import os, sys, copy\n",
    "    root_dir = os.getcwd()\n",
    "    sys.path.append(root_dir+\"/..\")\n",
    "\n",
    "    #if package is not installed and path not set correct - this helps you out :)\n",
    "    import pygromos\n",
    "\n",
    "from pygromos.utils import bash\n"
   ]
  },
  {
   "cell_type": "code",
   "execution_count": 2,
   "metadata": {
    "execution": {
     "iopub.execute_input": "2022-04-04T16:01:10.659107Z",
     "iopub.status.busy": "2022-04-04T16:01:10.658637Z",
     "iopub.status.idle": "2022-04-04T16:01:10.662897Z",
     "shell.execute_reply": "2022-04-04T16:01:10.662037Z"
    }
   },
   "outputs": [],
   "source": [
    "#General path definitions:\n",
    "## Project dir - The project dir will contain  all files and results generated from this notebook. \n",
    "project_dir = os.path.abspath(os.path.dirname(pygromos.__file__)+\"/../examples/example_files/Tutorial_System\")\n",
    "input_dir = project_dir+\"/input\" # contains prepared files (pdb of the peptide)\n",
    "\n",
    "## Gromos Bin Path\n",
    "gromosXX_bin = \"/home/bschroed/Documents/projects/gromosXX/gromosXX/build/bin\"\n",
    "gromosPP_bin = None #None uses the Path variable - can be used . if you require a specific compiled gromos version, add a path here.\n",
    "\n"
   ]
  },
  {
   "cell_type": "markdown",
   "metadata": {
    "pycharm": {
     "name": "#%% md\n"
    }
   },
   "source": [
    "## Build the input files\n",
    "When a simulation study of a particular system or process is to be carried out, a number of choices have to\n",
    "be made with respect to the set-up of the simulation. \n",
    "\n",
    "In PyGromosTools, the central hub to manage all these files is a GromosSystem object. Each file can be stored or generated with this object and it can be used to construct the system, that should be simulated.\n",
    "\n",
    "\n",
    "The essential files of a Simulation are:\n",
    "* a topology file, containing all the topological and force-field information of the molecular system to be studied.\n",
    "* a coordinate file, representing the system of interest.\n",
    "* a simulation parameter file, telling the simulation engine, which simulation technique should be used and which physical parameters should be set.\n",
    "  \n"
   ]
  },
  {
   "cell_type": "code",
   "execution_count": 3,
   "metadata": {
    "execution": {
     "iopub.execute_input": "2022-04-04T16:01:10.665508Z",
     "iopub.status.busy": "2022-04-04T16:01:10.665064Z",
     "iopub.status.idle": "2022-04-04T16:01:11.017415Z",
     "shell.execute_reply": "2022-04-04T16:01:11.017009Z"
    }
   },
   "outputs": [
    {
     "data": {
      "application/vnd.jupyter.widget-view+json": {
       "model_id": "a6cdbfd6285140f3a9ca3d3e6623b341",
       "version_major": 2,
       "version_minor": 0
      },
      "text/plain": []
     },
     "metadata": {},
     "output_type": "display_data"
    },
    {
     "name": "stderr",
     "output_type": "stream",
     "text": [
      "/home/runner/work/PyGromosTools/PyGromosTools/pygromos/files/gromos_system/gromos_system.py:869: UserWarning: Did not change file path as its only promised None\n",
      "  warnings.warn(\"Did not change file path as its only promised \" + str(file_obj.path))\n"
     ]
    }
   ],
   "source": [
    "from pygromos.files.gromos_system import Gromos_System\n",
    "\n",
    "# Build Gromos System object\n",
    "build_system = Gromos_System(work_folder=project_dir, system_name='peptide')\n",
    "\n",
    "#set file building folder\n",
    "build_system.work_folder = bash.make_folder(project_dir+\"/a_build_initial_files\")\n"
   ]
  },
  {
   "cell_type": "markdown",
   "metadata": {},
   "source": [
    "**Expert Tip**:\n",
    "Whenever you wonder about what a class or a function in our package does, you can use the standard help function of Python to get the information of the Docstring of the source code! This often helps understanding the code."
   ]
  },
  {
   "cell_type": "code",
   "execution_count": 4,
   "metadata": {
    "execution": {
     "iopub.execute_input": "2022-04-04T16:01:11.021895Z",
     "iopub.status.busy": "2022-04-04T16:01:11.021719Z",
     "iopub.status.idle": "2022-04-04T16:01:11.038990Z",
     "shell.execute_reply": "2022-04-04T16:01:11.038501Z"
    }
   },
   "outputs": [
    {
     "name": "stdout",
     "output_type": "stream",
     "text": [
      "Help on Gromos_System in module pygromos.files.gromos_system.gromos_system object:\n",
      "\n",
      "class Gromos_System(builtins.object)\n",
      " |  Gromos_System(work_folder: str, system_name: str, rdkitMol: rdkit.Chem.rdchem.Mol = None, in_mol2_file: str = None, readIn: bool = True, forcefield: pygromos.files.forcefield._generic_force_field._generic_force_field = <pygromos.files.forcefield._generic_force_field._generic_force_field object at 0x7f4c924ba9a0>, auto_convert: bool = False, adapt_imd_automatically: bool = True, verbose: bool = False, in_smiles: str = None, in_residue_list: List = None, in_top_path: str = None, in_cnf_path: str = None, in_imd_path: str = None, in_disres_path: str = None, in_ptp_path: str = None, in_posres_path: str = None, in_refpos_path: str = None, in_qmmm_path: str = None, in_gromosXX_bin_dir: str = None, in_gromosPP_bin_dir: str = None)\n",
      " |  \n",
      " |  Methods defined here:\n",
      " |  \n",
      " |  __deepcopy__(self, memo)\n",
      " |  \n",
      " |  __getstate__(self)\n",
      " |      preperation for pickling:\n",
      " |      remove the non trivial pickling parts\n",
      " |  \n",
      " |  __init__(self, work_folder: str, system_name: str, rdkitMol: rdkit.Chem.rdchem.Mol = None, in_mol2_file: str = None, readIn: bool = True, forcefield: pygromos.files.forcefield._generic_force_field._generic_force_field = <pygromos.files.forcefield._generic_force_field._generic_force_field object at 0x7f4c924ba9a0>, auto_convert: bool = False, adapt_imd_automatically: bool = True, verbose: bool = False, in_smiles: str = None, in_residue_list: List = None, in_top_path: str = None, in_cnf_path: str = None, in_imd_path: str = None, in_disres_path: str = None, in_ptp_path: str = None, in_posres_path: str = None, in_refpos_path: str = None, in_qmmm_path: str = None, in_gromosXX_bin_dir: str = None, in_gromosPP_bin_dir: str = None)\n",
      " |          The Gromos_System class is the central unit of PyGromosTools for files and states.\n",
      " |          With this class all files can be read-in or the files can be automatically generated from smiles.\n",
      " |          Additionally to that can all gromos++ functions be used from the Gromos System, so system generation can be easily accomplished.\n",
      " |      \n",
      " |          if you want to remove all binary checks, do the following:\n",
      " |          >>> from pygromos.files.gromos_system.gromos_system import Gromos_System\n",
      " |          >>> Gromos_System._gromos_noBinary_checks = True\n",
      " |          >>> sys = Gromos_System()\n",
      " |      \n",
      " |      Parameters\n",
      " |      ----------\n",
      " |      work_folder : str\n",
      " |          This gives the initial working folder for the system.\n",
      " |      system_name : str\n",
      " |          the name of the system, also used as file prefix\n",
      " |      in_smiles : str, optional\n",
      " |          Molecule input SMILES for file generation, by default None\n",
      " |      in_top_path : str, optional\n",
      " |          input Gromos topology path (.top), by default None\n",
      " |      in_cnf_path : str, optional\n",
      " |          input Gromos coordinate path (.cnf), by default None\n",
      " |      in_imd_path : str, optional\n",
      " |          input Gromos simulation parameters path (.imd), by default None\n",
      " |      in_disres_path : str, optional\n",
      " |          input Gromos distance restraint path (.disres), by default None\n",
      " |      in_ptp_path : str, optional\n",
      " |          input pertubation file for free energy calculations (.ptp), by default None\n",
      " |      in_posres_path : str, optional\n",
      " |          input position restraints file (.por), by default None\n",
      " |      in_qmmm_path: str, optional\n",
      " |          qmmm parameter file (.qmmm), by default None\n",
      " |      in_refpos_path : str, optional\n",
      " |          input reference position file (.rpf), by default None\n",
      " |      in_gromosXX_bin_dir : str, optional\n",
      " |          path to the binary dir of GromosXX, by default None -> uses the set binaries in the PATH variable\n",
      " |      in_gromosPP_bin_dir : str, optional\n",
      " |          path to the binary dir of GromosPP, by default None -> uses the set binaries in the PATH variable\n",
      " |      rdkitMol : Chem.rdchem.Mol, optional\n",
      " |          input rdkit Molecule, by default None\n",
      " |      in_mol2_file : str, optional\n",
      " |          path to input mol2 file, by default None\n",
      " |      readIn : bool, optional\n",
      " |          readIn all provided files?, by default True\n",
      " |      Forcefield : forcefield_system, optional\n",
      " |          input PyGromos - forcefield Class , by default forcefield_system()\n",
      " |      auto_convert : bool, optional\n",
      " |          automatically convert rdkit MOL and smiles to gromos files, by default False\n",
      " |      adapt_imd_automatically : bool, optional\n",
      " |          adjust the input imd file to the GromosSystem, by default True\n",
      " |      verbose : bool, optional\n",
      " |          Stay a while and listen!, by default False\n",
      " |      \n",
      " |      Raises\n",
      " |      ------\n",
      " |      Warning\n",
      " |          Rises warning if files are not present.\n",
      " |  \n",
      " |  __repr__(self) -> str\n",
      " |      Return repr(self).\n",
      " |  \n",
      " |  __setstate__(self, state)\n",
      " |  \n",
      " |  __str__(self) -> str\n",
      " |      Return str(self).\n",
      " |  \n",
      " |  adapt_imd(self, not_ligand_residues: List[str] = [])\n",
      " |  \n",
      " |  auto_convert(self)\n",
      " |  \n",
      " |  copy(self)\n",
      " |  \n",
      " |  generate_posres(self, residues: List = [<class 'int'>], keep_residues: bool = True, verbose: bool = False)\n",
      " |  \n",
      " |  get_file_paths(self) -> Dict[str, str]\n",
      " |          get the paths of the files in a dict.\n",
      " |      Returns\n",
      " |      -------\n",
      " |      Dict[str, str]\n",
      " |          returns alle file paths, with attribute file name as key.\n",
      " |  \n",
      " |  get_script_generation_command(self, var_name: str = None, var_prefixes: str = '') -> str\n",
      " |  \n",
      " |  parse_attribute_files(self, file_mapping: Dict[str, str], readIn: bool = True, verbose: bool = False)\n",
      " |          This function sets dynamically builds the output folder, the file objs of this class and checks their dependencies.\n",
      " |      \n",
      " |      Parameters\n",
      " |      ----------\n",
      " |      file_mapping: Dict[str, Union[str, None]]\n",
      " |          attribute name: input path\n",
      " |      \n",
      " |      Returns\n",
      " |      -------\n",
      " |  \n",
      " |  prepare_for_simulation(self, not_ligand_residues: List[str] = [])\n",
      " |  \n",
      " |  rdkit2Gromos(self)\n",
      " |  \n",
      " |  rdkit2GromosName(self) -> str\n",
      " |  \n",
      " |  rdkitImport(self, inputMol: rdkit.Chem.rdchem.Mol)\n",
      " |  \n",
      " |  read_files(self, verbose: bool = False)\n",
      " |  \n",
      " |  rebase_files(self)\n",
      " |  \n",
      " |  save(self, path: Union[str, _io.FileIO] = None, safe: bool = True) -> str\n",
      " |      This method stores the Class as binary obj to a given path or fileBuffer.\n",
      " |  \n",
      " |  work_folder_no_update(self, work_folder: str)\n",
      " |      # Updates the work folder without updating all file paths\n",
      " |  \n",
      " |  write_files(self, cnf: bool = False, imd: bool = False, top: bool = False, ptp: bool = False, disres: bool = False, posres: bool = False, refpos: bool = False, qmmm: bool = False, mol: bool = False, all: bool = True, verbose: bool = False)\n",
      " |  \n",
      " |  ----------------------------------------------------------------------\n",
      " |  Class methods defined here:\n",
      " |  \n",
      " |  load(path: Union[str, _io.FileIO] = None) -> object from builtins.type\n",
      " |      This method stores the Class as binary obj to a given path or fileBuffer.\n",
      " |  \n",
      " |  ----------------------------------------------------------------------\n",
      " |  Readonly properties defined here:\n",
      " |  \n",
      " |  all_file_paths\n",
      " |      Returns\n",
      " |      -------\n",
      " |  \n",
      " |  all_files\n",
      " |      Returns\n",
      " |      -------\n",
      " |  \n",
      " |  ----------------------------------------------------------------------\n",
      " |  Data descriptors defined here:\n",
      " |  \n",
      " |  __dict__\n",
      " |      dictionary for instance variables (if defined)\n",
      " |  \n",
      " |  __weakref__\n",
      " |      list of weak references to the object (if defined)\n",
      " |  \n",
      " |  cnf\n",
      " |  \n",
      " |  disres\n",
      " |  \n",
      " |  gromosPP\n",
      " |  \n",
      " |  gromosPP_bin_dir\n",
      " |  \n",
      " |  gromosXX\n",
      " |  \n",
      " |  gromosXX_bin_dir\n",
      " |  \n",
      " |  imd\n",
      " |  \n",
      " |  name\n",
      " |  \n",
      " |  posres\n",
      " |  \n",
      " |  ptp\n",
      " |  \n",
      " |  qmmm\n",
      " |  \n",
      " |  refpos\n",
      " |  \n",
      " |  top\n",
      " |  \n",
      " |  trc\n",
      " |  \n",
      " |  tre\n",
      " |  \n",
      " |  work_folder\n",
      " |  \n",
      " |  ----------------------------------------------------------------------\n",
      " |  Data and other attributes defined here:\n",
      " |  \n",
      " |  __annotations__ = {'_checkpoint_path': <class 'str'>, '_future_promise...\n",
      " |  \n",
      " |  optional_files = {'disres': <class 'pygromos.files.topology.disres.Dis...\n",
      " |  \n",
      " |  required_files = {'cnf': <class 'pygromos.files.coord.cnf.Cnf'>, 'imd'...\n",
      " |  \n",
      " |  traj_files = {'trc': <class 'pygromos.files.trajectory.trc.Trc'>, 'tre...\n",
      "\n"
     ]
    }
   ],
   "source": [
    "help(build_system)"
   ]
  },
  {
   "cell_type": "markdown",
   "metadata": {},
   "source": [
    "### The Topology File\n",
    "The first task is to generate a molecular topology file containing the topological and force-field data concerning the molecular system under consideration. Specifying a complete molecular topology for a large molecule, however, is a tedious task.\n",
    "Therefore, in GROMOS a molecular topology is generated from molecular topology building blocks which carry the topological\n",
    "information of molecules like amino acid residues, nucleotides, etc., see Vol. 3. The molecular topology building blocks can be linked together into a complete molecular topology file using the GROMOS++ program *make_top*.\n",
    "\n",
    "Many molecular topology building blocks are available in the molecular topology building block files (*\\*.mtb*), which are standard data files that come together with the GROMOS package. \n",
    "\n",
    "\n",
    "In case the needed molecular topology building blocks are not part of the standard distribution, they must be constructed. \n",
    "Constructing a new topology building block may require estimation of additional force-field parameters, which have to be added to the interaction function parameter file (*\\*.ifp*).\n",
    " \n",
    "When generating a molecular topology for the system of interest one should also address the protonation state of the molecular groups according to the pH and of the solvent and counter ions that need to be included in the simulation box. \n",
    "In case of a molecular complex, e.g. a DNA-protein complex, the two separately generated molecular topologies for the protein and the DNA can be merged using the GROMOS++ program com top.\n",
    "\n",
    "\n",
    "\n",
    "#### Building the Topology File\n",
    "In this section you should build a molecular topology of a linear charged penta-peptide with water as a solvent, including two Cl− counter ions.\n",
    "\n",
    "**programs: make_top, check_top**\n",
    "\n",
    "##### build topology for single molecule\n",
    "You will build the molecular topology file of the linear charged penta-peptide Val-Tyr-Arg-Lys-Gln by\n",
    "using the GROMOS++ program *make_top*. As input following parameters will be provided:\n",
    "* **in_building_block_lib_path**: the molecular topology building block file is specified. In the code below, you will see, that we gather the forcefield information from the *Gromos54A7* force field, which is directly provided by PyGromosTools\n",
    "* **in_parameter_lib_path**: specifies the interaction function parameter file. Also here we take the parameters directly from the *Gromos54A7* forcefield from PyGromosTools.\n",
    "* **in_solvent**: The string name of the desired solvent.\n",
    "* **in_sequence**: the sequence of the building blocks for the amino acid residues, including the amino and carboxy terminus\n",
    "is specified (*NH3+ VAL TYR ARG LYSH GLN COO-*). (Notice that both termini are charged)"
   ]
  },
  {
   "cell_type": "code",
   "execution_count": 5,
   "metadata": {
    "execution": {
     "iopub.execute_input": "2022-04-04T16:01:11.041543Z",
     "iopub.status.busy": "2022-04-04T16:01:11.041393Z",
     "iopub.status.idle": "2022-04-04T16:01:12.049721Z",
     "shell.execute_reply": "2022-04-04T16:01:12.048805Z"
    }
   },
   "outputs": [
    {
     "ename": "ChildProcessError",
     "evalue": "SubProcess Failed due to returncode: 127\n COMMAND: \n\tmake_top @build /home/runner/work/PyGromosTools/PyGromosTools/pygromos/data/ff/Gromos54A7/54a7.mtb @param /home/runner/work/PyGromosTools/PyGromosTools/pygromos/data/ff/Gromos54A7/54a7.ifp @seq NH3+ VAL TYR ARG LYSH GLN COO- @solv H2O\nSTDOUT:\n\tNONE\nSTDERR:\n\tNONE",
     "output_type": "error",
     "traceback": [
      "\u001b[0;31m---------------------------------------------------------------------------\u001b[0m",
      "\u001b[0;31mChildProcessError\u001b[0m                         Traceback (most recent call last)",
      "Input \u001b[0;32mIn [5]\u001b[0m, in \u001b[0;36m<cell line: 4>\u001b[0;34m()\u001b[0m\n\u001b[1;32m      1\u001b[0m \u001b[38;5;28;01mfrom\u001b[39;00m \u001b[38;5;21;01mpygromos\u001b[39;00m\u001b[38;5;21;01m.\u001b[39;00m\u001b[38;5;21;01mdata\u001b[39;00m\u001b[38;5;21;01m.\u001b[39;00m\u001b[38;5;21;01mff\u001b[39;00m \u001b[38;5;28;01mimport\u001b[39;00m Gromos54A7 \u001b[38;5;66;03m#Get standard information of the GROMOS54A7 force field.\u001b[39;00m\n\u001b[1;32m      3\u001b[0m \u001b[38;5;66;03m#Generate the topology\u001b[39;00m\n\u001b[0;32m----> 4\u001b[0m \u001b[43mbuild_system\u001b[49m\u001b[38;5;241;43m.\u001b[39;49m\u001b[43mmake_top\u001b[49m\u001b[43m(\u001b[49m\u001b[43min_sequence\u001b[49m\u001b[38;5;241;43m=\u001b[39;49m\u001b[38;5;124;43m\"\u001b[39;49m\u001b[38;5;124;43mNH3+ VAL TYR ARG LYSH GLN COO-\u001b[39;49m\u001b[38;5;124;43m\"\u001b[39;49m\u001b[43m,\u001b[49m\n\u001b[1;32m      5\u001b[0m \u001b[43m                     \u001b[49m\u001b[43min_solvent\u001b[49m\u001b[38;5;241;43m=\u001b[39;49m\u001b[38;5;124;43m\"\u001b[39;49m\u001b[38;5;124;43mH2O\u001b[39;49m\u001b[38;5;124;43m\"\u001b[39;49m\u001b[43m,\u001b[49m\n\u001b[1;32m      6\u001b[0m \u001b[43m                     \u001b[49m\u001b[43min_building_block_lib_path\u001b[49m\u001b[43m \u001b[49m\u001b[38;5;241;43m=\u001b[39;49m\u001b[43m \u001b[49m\u001b[43mGromos54A7\u001b[49m\u001b[38;5;241;43m.\u001b[39;49m\u001b[43mmtb\u001b[49m\u001b[43m,\u001b[49m\n\u001b[1;32m      7\u001b[0m \u001b[43m                     \u001b[49m\u001b[43min_parameter_lib_path\u001b[49m\u001b[38;5;241;43m=\u001b[39;49m\u001b[43m \u001b[49m\u001b[43mGromos54A7\u001b[49m\u001b[38;5;241;43m.\u001b[39;49m\u001b[43mifp\u001b[49m\u001b[43m)\u001b[49m\n\u001b[1;32m      9\u001b[0m \u001b[38;5;66;03m#Here the residues in the topology file will be printed out :)  - this corresponds to the RESNAME Block in the topology file:\u001b[39;00m\n\u001b[1;32m     10\u001b[0m build_system\u001b[38;5;241m.\u001b[39mtop\u001b[38;5;241m.\u001b[39mRESNAME\n",
      "File \u001b[0;32m~/work/PyGromosTools/PyGromosTools/pygromos/files/gromos_system/gromos_system.py:1317\u001b[0m, in \u001b[0;36mGromos_System.__SystemConstructionUpdater.<locals>._updateGromosSystem\u001b[0;34m(*args, **kwargs)\u001b[0m\n\u001b[1;32m   1313\u001b[0m         update_dict\u001b[38;5;241m.\u001b[39mupdate({k: attr_key})\n\u001b[1;32m   1315\u001b[0m \u001b[38;5;66;03m# execute function\u001b[39;00m\n\u001b[1;32m   1316\u001b[0m \u001b[38;5;66;03m# print(\"updater2\", func.__name__, args, kwargs)\u001b[39;00m\n\u001b[0;32m-> 1317\u001b[0m r \u001b[38;5;241m=\u001b[39m \u001b[43mfunc\u001b[49m\u001b[43m(\u001b[49m\u001b[38;5;241;43m*\u001b[39;49m\u001b[43margs\u001b[49m\u001b[43m,\u001b[49m\u001b[43m \u001b[49m\u001b[38;5;241;43m*\u001b[39;49m\u001b[38;5;241;43m*\u001b[39;49m\u001b[43mkwargs\u001b[49m\u001b[43m)\u001b[49m\n\u001b[1;32m   1318\u001b[0m \u001b[38;5;66;03m# print(\"updater3\", func.__name__, args, kwargs)\u001b[39;00m\n\u001b[1;32m   1319\u001b[0m \n\u001b[1;32m   1320\u001b[0m \u001b[38;5;66;03m# update attribute states and remove tmp files.\u001b[39;00m\n\u001b[1;32m   1321\u001b[0m \u001b[38;5;28;01mfor\u001b[39;00m k \u001b[38;5;129;01min\u001b[39;00m update_dict:\n",
      "File \u001b[0;32m~/work/PyGromosTools/PyGromosTools/pygromos/files/gromos_system/gromos_system.py:1265\u001b[0m, in \u001b[0;36mGromos_System.__SystemConstructionAttributeFinder.<locals>._findGromosSystemAttributes\u001b[0;34m(*args, **kwargs)\u001b[0m\n\u001b[1;32m   1261\u001b[0m args \u001b[38;5;241m=\u001b[39m \u001b[38;5;28mlist\u001b[39m(\u001b[38;5;28mfilter\u001b[39m(\u001b[38;5;28;01mlambda\u001b[39;00m x: \u001b[38;5;28misinstance\u001b[39m(x, \u001b[38;5;28mself\u001b[39m\u001b[38;5;241m.\u001b[39mgromosPP\u001b[38;5;241m.\u001b[39m\u001b[38;5;18m__class__\u001b[39m), args))\n\u001b[1;32m   1263\u001b[0m \u001b[38;5;66;03m# execute function\u001b[39;00m\n\u001b[1;32m   1264\u001b[0m \u001b[38;5;66;03m# print(\"attibuteFinder 2:\", func.__name__, args, kwargs)\u001b[39;00m\n\u001b[0;32m-> 1265\u001b[0m r \u001b[38;5;241m=\u001b[39m \u001b[43mfunc\u001b[49m\u001b[43m(\u001b[49m\u001b[38;5;28;43mself\u001b[39;49m\u001b[38;5;241;43m.\u001b[39;49m\u001b[43mgromosPP\u001b[49m\u001b[43m,\u001b[49m\u001b[43m \u001b[49m\u001b[38;5;241;43m*\u001b[39;49m\u001b[43margs\u001b[49m\u001b[43m,\u001b[49m\u001b[43m \u001b[49m\u001b[38;5;241;43m*\u001b[39;49m\u001b[38;5;241;43m*\u001b[39;49m\u001b[43mkwargs\u001b[49m\u001b[43m)\u001b[49m\n\u001b[1;32m   1267\u001b[0m \u001b[38;5;66;03m# remove tmp_files\u001b[39;00m\n\u001b[1;32m   1268\u001b[0m [bash\u001b[38;5;241m.\u001b[39mremove_file(p) \u001b[38;5;28;01mfor\u001b[39;00m p \u001b[38;5;129;01min\u001b[39;00m tmp_files]\n",
      "File \u001b[0;32m~/work/PyGromosTools/PyGromosTools/pygromos/gromos/_gromosClass.py:78\u001b[0m, in \u001b[0;36m_gromosClass._gromosTypeConverter.<locals>.convert_pyGromos_types\u001b[0;34m(self, *args, **kwargs)\u001b[0m\n\u001b[1;32m     75\u001b[0m         kwargs[k] \u001b[38;5;241m=\u001b[39m v\u001b[38;5;241m.\u001b[39mpath\n\u001b[1;32m     77\u001b[0m \u001b[38;5;66;03m# print(\"Converter2: \", func.__name__, self, nargs, kwargs)\u001b[39;00m\n\u001b[0;32m---> 78\u001b[0m \u001b[38;5;28;01mreturn\u001b[39;00m \u001b[43mfunc\u001b[49m\u001b[43m(\u001b[49m\u001b[38;5;28;43mself\u001b[39;49m\u001b[43m,\u001b[49m\u001b[43m \u001b[49m\u001b[38;5;241;43m*\u001b[39;49m\u001b[43mnargs\u001b[49m\u001b[43m,\u001b[49m\u001b[43m \u001b[49m\u001b[38;5;241;43m*\u001b[39;49m\u001b[38;5;241;43m*\u001b[39;49m\u001b[43mkwargs\u001b[49m\u001b[43m)\u001b[49m\n",
      "File \u001b[0;32m~/work/PyGromosTools/PyGromosTools/pygromos/gromos/gromosPP.py:284\u001b[0m, in \u001b[0;36m_gromosPPbase.make_top\u001b[0;34m(self, out_top_path, in_building_block_lib_path, in_parameter_lib_path, in_sequence, in_solvent, _binary_name)\u001b[0m\n\u001b[1;32m    278\u001b[0m \u001b[38;5;66;03m# arg_path = os.path.dirname(out_top_path) + \"/topargs.arg\"\u001b[39;00m\n\u001b[1;32m    279\u001b[0m \u001b[38;5;66;03m# arg_file = open(arg_path, \"w\")\u001b[39;00m\n\u001b[1;32m    280\u001b[0m \u001b[38;5;66;03m# arg_file.write(\"\\n\".join(args))\u001b[39;00m\n\u001b[1;32m    281\u001b[0m \u001b[38;5;66;03m# arg_file.close()\u001b[39;00m\n\u001b[1;32m    282\u001b[0m \u001b[38;5;66;03m# \"@f \" + arg_path\u001b[39;00m\n\u001b[1;32m    283\u001b[0m command \u001b[38;5;241m=\u001b[39m \u001b[38;5;28mself\u001b[39m\u001b[38;5;241m.\u001b[39m_bin \u001b[38;5;241m+\u001b[39m _binary_name \u001b[38;5;241m+\u001b[39m \u001b[38;5;124m\"\u001b[39m\u001b[38;5;124m \u001b[39m\u001b[38;5;124m\"\u001b[39m \u001b[38;5;241m+\u001b[39m \u001b[38;5;124m\"\u001b[39m\u001b[38;5;124m \u001b[39m\u001b[38;5;124m\"\u001b[39m\u001b[38;5;241m.\u001b[39mjoin(args)\n\u001b[0;32m--> 284\u001b[0m \u001b[43mbash\u001b[49m\u001b[38;5;241;43m.\u001b[39;49m\u001b[43mexecute\u001b[49m\u001b[43m(\u001b[49m\u001b[43mcommand\u001b[49m\u001b[43m,\u001b[49m\u001b[43m \u001b[49m\u001b[43mcatch_STD\u001b[49m\u001b[38;5;241;43m=\u001b[39;49m\u001b[43mout_top_path\u001b[49m\u001b[43m)\u001b[49m\n\u001b[1;32m    285\u001b[0m \u001b[38;5;28;01mreturn\u001b[39;00m out_top_path\n",
      "File \u001b[0;32m~/work/PyGromosTools/PyGromosTools/pygromos/utils/bash.py:935\u001b[0m, in \u001b[0;36mexecute\u001b[0;34m(command, verbose, catch_STD, env)\u001b[0m\n\u001b[1;32m    932\u001b[0m \u001b[38;5;28;01mdef\u001b[39;00m \u001b[38;5;21mexecute\u001b[39m(\n\u001b[1;32m    933\u001b[0m     command: Union[\u001b[38;5;28mstr\u001b[39m, List[\u001b[38;5;28mstr\u001b[39m]], verbose: \u001b[38;5;28mbool\u001b[39m \u001b[38;5;241m=\u001b[39m \u001b[38;5;28;01mFalse\u001b[39;00m, catch_STD: Union[\u001b[38;5;28mbool\u001b[39m, \u001b[38;5;28mstr\u001b[39m] \u001b[38;5;241m=\u001b[39m \u001b[38;5;28;01mFalse\u001b[39;00m, env: \u001b[38;5;28mdict\u001b[39m \u001b[38;5;241m=\u001b[39m \u001b[38;5;28;01mNone\u001b[39;00m\n\u001b[1;32m    934\u001b[0m ):\n\u001b[0;32m--> 935\u001b[0m     \u001b[38;5;28;01mreturn\u001b[39;00m \u001b[43mexecute_subprocess\u001b[49m\u001b[43m(\u001b[49m\u001b[43mcommand\u001b[49m\u001b[38;5;241;43m=\u001b[39;49m\u001b[43mcommand\u001b[49m\u001b[43m,\u001b[49m\u001b[43m \u001b[49m\u001b[43mverbose\u001b[49m\u001b[38;5;241;43m=\u001b[39;49m\u001b[43mverbose\u001b[49m\u001b[43m,\u001b[49m\u001b[43m \u001b[49m\u001b[43mcatch_STD\u001b[49m\u001b[38;5;241;43m=\u001b[39;49m\u001b[43mcatch_STD\u001b[49m\u001b[43m,\u001b[49m\u001b[43m \u001b[49m\u001b[43menv\u001b[49m\u001b[38;5;241;43m=\u001b[39;49m\u001b[43menv\u001b[49m\u001b[43m)\u001b[49m\n",
      "File \u001b[0;32m~/work/PyGromosTools/PyGromosTools/pygromos/utils/bash.py:829\u001b[0m, in \u001b[0;36mexecute_subprocess\u001b[0;34m(command, catch_STD, env, verbose)\u001b[0m\n\u001b[1;32m    827\u001b[0m     msg \u001b[38;5;241m+\u001b[39m\u001b[38;5;241m=\u001b[39m \u001b[38;5;124m\"\u001b[39m\u001b[38;5;130;01m\\n\u001b[39;00m\u001b[38;5;124mSTDERR:\u001b[39m\u001b[38;5;130;01m\\n\u001b[39;00m\u001b[38;5;130;01m\\t\u001b[39;00m\u001b[38;5;124m\"\u001b[39m\n\u001b[1;32m    828\u001b[0m     msg \u001b[38;5;241m+\u001b[39m\u001b[38;5;241m=\u001b[39m \u001b[38;5;124m\"\u001b[39m\u001b[38;5;124mNONE\u001b[39m\u001b[38;5;124m\"\u001b[39m \u001b[38;5;28;01mif\u001b[39;00m (p\u001b[38;5;241m.\u001b[39mstdout \u001b[38;5;129;01mis\u001b[39;00m \u001b[38;5;28;01mNone\u001b[39;00m) \u001b[38;5;28;01melse\u001b[39;00m \u001b[38;5;124m\"\u001b[39m\u001b[38;5;130;01m\\n\u001b[39;00m\u001b[38;5;130;01m\\t\u001b[39;00m\u001b[38;5;124m\"\u001b[39m\u001b[38;5;241m.\u001b[39mjoin(\u001b[38;5;28mmap\u001b[39m(\u001b[38;5;28mstr\u001b[39m, p\u001b[38;5;241m.\u001b[39mstderr\u001b[38;5;241m.\u001b[39mreadlines()))\n\u001b[0;32m--> 829\u001b[0m     \u001b[38;5;28;01mraise\u001b[39;00m \u001b[38;5;167;01mChildProcessError\u001b[39;00m(msg)\n\u001b[1;32m    830\u001b[0m \u001b[38;5;28;01mif\u001b[39;00m verbose:\n\u001b[1;32m    831\u001b[0m     \u001b[38;5;28mprint\u001b[39m(\u001b[38;5;124m\"\u001b[39m\u001b[38;5;124mRETURN: \u001b[39m\u001b[38;5;124m\"\u001b[39m, r)\n",
      "\u001b[0;31mChildProcessError\u001b[0m: SubProcess Failed due to returncode: 127\n COMMAND: \n\tmake_top @build /home/runner/work/PyGromosTools/PyGromosTools/pygromos/data/ff/Gromos54A7/54a7.mtb @param /home/runner/work/PyGromosTools/PyGromosTools/pygromos/data/ff/Gromos54A7/54a7.ifp @seq NH3+ VAL TYR ARG LYSH GLN COO- @solv H2O\nSTDOUT:\n\tNONE\nSTDERR:\n\tNONE"
     ]
    }
   ],
   "source": [
    "from pygromos.data.ff import Gromos54A7 #Get standard information of the GROMOS54A7 force field.\n",
    "\n",
    "#Generate the topology\n",
    "build_system.make_top(in_sequence=\"NH3+ VAL TYR ARG LYSH GLN COO-\",\n",
    "                     in_solvent=\"H2O\",\n",
    "                     in_building_block_lib_path = Gromos54A7.mtb,\n",
    "                     in_parameter_lib_path= Gromos54A7.ifp)\n",
    "\n",
    "#Here the residues in the topology file will be printed out :)  - this corresponds to the RESNAME Block in the topology file:\n",
    "build_system.top.RESNAME"
   ]
  },
  {
   "cell_type": "markdown",
   "metadata": {},
   "source": [
    "### The Coordinate File\n",
    "Coordinates for biomolecules are often available from X-ray or NMR experiments and can be obtained in\n",
    "*Protein Data Bank* (*PDB*) format, which can be converted to *GROMOS* format using the GROMOS++\n",
    "program *pdb2g96*. However, the conversion is not always straightforward since the naming and numbering\n",
    "of the atoms in the *PDB* format usually do not match the *GROMOS* format. \n",
    "\n",
    "Moreover, the coordinates for hydrogen atoms are not present in the *PDB* files \n",
    "(when the structure was determined using X-ray diffraction data) and have to be generated using the GROMOS++ program *gch*.\n",
    "\n",
    "When the structure is determined using NMR data, the PDB structure often contains more hydrogen atoms than are needed for GROMOS,\n",
    "as in the GROMOS force field only polar and aromatic hydrogens are explicitly represented. Aliphatic\n",
    "hydrogens are non-existing due to the use of so-called united atoms. The aliphatic hydrogen and carbon\n",
    "atoms are merged to form united atoms which have their own parameters. If no atomic coordinates for the\n",
    "solute are available from experimental data, the coordinates have to be generated using molecular modeling\n",
    "software. Often parts of the structure (e.g. flexible loops) are not resolved in the experiment and therefore\n",
    "not available in the PDB and have to be modeled as well. \n",
    "\n",
    "#### Periodic Boxes\n",
    "When a simulation of a solute in solution is to be carried out, a (periodic) box (be it rectangular, triclinic or truncated octahedral) is put around the solute\n",
    "and filled with solvent molecules up to the required density. The solvent coordinates can e.g. be generated using the GROMOS++ program sim box. The generated box should be sufficiently large to allow the use of a reasonable non-bonded interaction cut-off radius. Putting the solute in a box of solvent using the *sim_box* program will result in several high-energy atom-atom contacts at the solute-solvent interface and at the box edges. In order to relax the generated configuration the solvent configuration should be energy minimized while positionally restraining the solute. Counter-ion atomic coordinates can then be generated using the GROMOS++ program *ion*, which can replace a number of solvent molecules by ions.\n",
    "\n",
    "**programs: pdb2g96, gch**\n",
    "\n",
    "\n",
    "#### Building the Coordinate File\n",
    "The initial coordinate *.pdb* file is already provided in the *input* directory as *peptide.pdb*. \n",
    "Open the file *peptide.pdb* and check if the atom names match the names in the molecular topology object **SOLUTEATOM** block.\n",
    "In the pdb file *peptide.pdb* the coordinates for hydrogen atoms are not given and have to be generated.\n",
    "If the atom names are correct, you can continue in the second next cell by converting the *PDB* file *peptide.pdb* into the GROMOS format using the GROMOS++ program *pdb2g96*.\n",
    "The hydrogen atoms will be added to the coordinate file according to the topological requirements.\n",
    "\n",
    "***\n",
    "**Warning**: When converting coordinate files from the Protein Data Bank to GROMOS format many difficulties may emerge. If you encounter problems using the pdb2g96 program, have a look at Sec. 4-7.3. There you can find further documentation on the advanced usage of this program. Especially the use of a library\n",
    "that matches residue and atom names might be useful in many cases. pdb2g96.lib which you can find in the directory is an example of the PDB library file.\n",
    "***\n"
   ]
  },
  {
   "cell_type": "code",
   "execution_count": 6,
   "metadata": {
    "execution": {
     "iopub.execute_input": "2022-04-04T16:01:12.052841Z",
     "iopub.status.busy": "2022-04-04T16:01:12.052408Z",
     "iopub.status.idle": "2022-04-04T16:01:12.065303Z",
     "shell.execute_reply": "2022-04-04T16:01:12.064820Z"
    }
   },
   "outputs": [
    {
     "ename": "AttributeError",
     "evalue": "'Top' object has no attribute 'SOLUTEATOM'",
     "output_type": "error",
     "traceback": [
      "\u001b[0;31m---------------------------------------------------------------------------\u001b[0m",
      "\u001b[0;31mAttributeError\u001b[0m                            Traceback (most recent call last)",
      "Input \u001b[0;32mIn [6]\u001b[0m, in \u001b[0;36m<cell line: 2>\u001b[0;34m()\u001b[0m\n\u001b[1;32m      1\u001b[0m \u001b[38;5;66;03m#Compare the atom names of the pdb file input/peptide.pdb with the printed ones here:\u001b[39;00m\n\u001b[0;32m----> 2\u001b[0m \u001b[43mbuild_system\u001b[49m\u001b[38;5;241;43m.\u001b[39;49m\u001b[43mtop\u001b[49m\u001b[38;5;241;43m.\u001b[39;49m\u001b[43mSOLUTEATOM\u001b[49m\n",
      "\u001b[0;31mAttributeError\u001b[0m: 'Top' object has no attribute 'SOLUTEATOM'"
     ]
    }
   ],
   "source": [
    "#Compare the atom names of the pdb file input/peptide.pdb with the printed ones here:\n",
    "build_system.top.SOLUTEATOM"
   ]
  },
  {
   "cell_type": "code",
   "execution_count": 7,
   "metadata": {
    "execution": {
     "iopub.execute_input": "2022-04-04T16:01:12.068306Z",
     "iopub.status.busy": "2022-04-04T16:01:12.067804Z",
     "iopub.status.idle": "2022-04-04T16:01:12.147240Z",
     "shell.execute_reply": "2022-04-04T16:01:12.146286Z"
    }
   },
   "outputs": [
    {
     "ename": "ChildProcessError",
     "evalue": "SubProcess Failed due to returncode: 127\n COMMAND: \n\tpdb2g96 @pdb /home/runner/work/PyGromosTools/PyGromosTools/examples/example_files/Tutorial_System/input/peptide.pdb @topo /home/runner/work/PyGromosTools/PyGromosTools/examples/example_files/Tutorial_System/a_build_initial_files/peptide.top @out /home/runner/work/PyGromosTools/PyGromosTools/examples/example_files/Tutorial_System/a_build_initial_files/tmp_out_file.cnf @lib /home/runner/work/PyGromosTools/PyGromosTools/pygromos/data/pdb2g96.lib\n\nSTDOUT:\n\t\nSTDERR:\n\tb'/bin/sh: 1: pdb2g96: not found\\n'",
     "output_type": "error",
     "traceback": [
      "\u001b[0;31m---------------------------------------------------------------------------\u001b[0m",
      "\u001b[0;31mChildProcessError\u001b[0m                         Traceback (most recent call last)",
      "Input \u001b[0;32mIn [7]\u001b[0m, in \u001b[0;36m<cell line: 2>\u001b[0;34m()\u001b[0m\n\u001b[1;32m      1\u001b[0m \u001b[38;5;66;03m# Generate coordinate file:\u001b[39;00m\n\u001b[0;32m----> 2\u001b[0m \u001b[43mbuild_system\u001b[49m\u001b[38;5;241;43m.\u001b[39;49m\u001b[43mpdb2gromos\u001b[49m\u001b[43m(\u001b[49m\u001b[43min_pdb_path\u001b[49m\u001b[38;5;241;43m=\u001b[39;49m\u001b[43minput_dir\u001b[49m\u001b[38;5;241;43m+\u001b[39;49m\u001b[38;5;124;43m\"\u001b[39;49m\u001b[38;5;124;43m/peptide.pdb\u001b[39;49m\u001b[38;5;124;43m\"\u001b[39;49m\u001b[43m)\u001b[49m\n\u001b[1;32m      4\u001b[0m \u001b[38;5;66;03m#show the coordinates that were generated.\u001b[39;00m\n\u001b[1;32m      5\u001b[0m build_system\u001b[38;5;241m.\u001b[39mcnf\u001b[38;5;241m.\u001b[39mview\n",
      "File \u001b[0;32m~/work/PyGromosTools/PyGromosTools/pygromos/files/gromos_system/gromos_system.py:1317\u001b[0m, in \u001b[0;36mGromos_System.__SystemConstructionUpdater.<locals>._updateGromosSystem\u001b[0;34m(*args, **kwargs)\u001b[0m\n\u001b[1;32m   1313\u001b[0m         update_dict\u001b[38;5;241m.\u001b[39mupdate({k: attr_key})\n\u001b[1;32m   1315\u001b[0m \u001b[38;5;66;03m# execute function\u001b[39;00m\n\u001b[1;32m   1316\u001b[0m \u001b[38;5;66;03m# print(\"updater2\", func.__name__, args, kwargs)\u001b[39;00m\n\u001b[0;32m-> 1317\u001b[0m r \u001b[38;5;241m=\u001b[39m \u001b[43mfunc\u001b[49m\u001b[43m(\u001b[49m\u001b[38;5;241;43m*\u001b[39;49m\u001b[43margs\u001b[49m\u001b[43m,\u001b[49m\u001b[43m \u001b[49m\u001b[38;5;241;43m*\u001b[39;49m\u001b[38;5;241;43m*\u001b[39;49m\u001b[43mkwargs\u001b[49m\u001b[43m)\u001b[49m\n\u001b[1;32m   1318\u001b[0m \u001b[38;5;66;03m# print(\"updater3\", func.__name__, args, kwargs)\u001b[39;00m\n\u001b[1;32m   1319\u001b[0m \n\u001b[1;32m   1320\u001b[0m \u001b[38;5;66;03m# update attribute states and remove tmp files.\u001b[39;00m\n\u001b[1;32m   1321\u001b[0m \u001b[38;5;28;01mfor\u001b[39;00m k \u001b[38;5;129;01min\u001b[39;00m update_dict:\n",
      "File \u001b[0;32m~/work/PyGromosTools/PyGromosTools/pygromos/files/gromos_system/gromos_system.py:1265\u001b[0m, in \u001b[0;36mGromos_System.__SystemConstructionAttributeFinder.<locals>._findGromosSystemAttributes\u001b[0;34m(*args, **kwargs)\u001b[0m\n\u001b[1;32m   1261\u001b[0m args \u001b[38;5;241m=\u001b[39m \u001b[38;5;28mlist\u001b[39m(\u001b[38;5;28mfilter\u001b[39m(\u001b[38;5;28;01mlambda\u001b[39;00m x: \u001b[38;5;28misinstance\u001b[39m(x, \u001b[38;5;28mself\u001b[39m\u001b[38;5;241m.\u001b[39mgromosPP\u001b[38;5;241m.\u001b[39m\u001b[38;5;18m__class__\u001b[39m), args))\n\u001b[1;32m   1263\u001b[0m \u001b[38;5;66;03m# execute function\u001b[39;00m\n\u001b[1;32m   1264\u001b[0m \u001b[38;5;66;03m# print(\"attibuteFinder 2:\", func.__name__, args, kwargs)\u001b[39;00m\n\u001b[0;32m-> 1265\u001b[0m r \u001b[38;5;241m=\u001b[39m \u001b[43mfunc\u001b[49m\u001b[43m(\u001b[49m\u001b[38;5;28;43mself\u001b[39;49m\u001b[38;5;241;43m.\u001b[39;49m\u001b[43mgromosPP\u001b[49m\u001b[43m,\u001b[49m\u001b[43m \u001b[49m\u001b[38;5;241;43m*\u001b[39;49m\u001b[43margs\u001b[49m\u001b[43m,\u001b[49m\u001b[43m \u001b[49m\u001b[38;5;241;43m*\u001b[39;49m\u001b[38;5;241;43m*\u001b[39;49m\u001b[43mkwargs\u001b[49m\u001b[43m)\u001b[49m\n\u001b[1;32m   1267\u001b[0m \u001b[38;5;66;03m# remove tmp_files\u001b[39;00m\n\u001b[1;32m   1268\u001b[0m [bash\u001b[38;5;241m.\u001b[39mremove_file(p) \u001b[38;5;28;01mfor\u001b[39;00m p \u001b[38;5;129;01min\u001b[39;00m tmp_files]\n",
      "File \u001b[0;32m~/work/PyGromosTools/PyGromosTools/pygromos/gromos/_gromosClass.py:78\u001b[0m, in \u001b[0;36m_gromosClass._gromosTypeConverter.<locals>.convert_pyGromos_types\u001b[0;34m(self, *args, **kwargs)\u001b[0m\n\u001b[1;32m     75\u001b[0m         kwargs[k] \u001b[38;5;241m=\u001b[39m v\u001b[38;5;241m.\u001b[39mpath\n\u001b[1;32m     77\u001b[0m \u001b[38;5;66;03m# print(\"Converter2: \", func.__name__, self, nargs, kwargs)\u001b[39;00m\n\u001b[0;32m---> 78\u001b[0m \u001b[38;5;28;01mreturn\u001b[39;00m \u001b[43mfunc\u001b[49m\u001b[43m(\u001b[49m\u001b[38;5;28;43mself\u001b[39;49m\u001b[43m,\u001b[49m\u001b[43m \u001b[49m\u001b[38;5;241;43m*\u001b[39;49m\u001b[43mnargs\u001b[49m\u001b[43m,\u001b[49m\u001b[43m \u001b[49m\u001b[38;5;241;43m*\u001b[39;49m\u001b[38;5;241;43m*\u001b[39;49m\u001b[43mkwargs\u001b[49m\u001b[43m)\u001b[49m\n",
      "File \u001b[0;32m~/work/PyGromosTools/PyGromosTools/pygromos/gromos/gromosPP.py:160\u001b[0m, in \u001b[0;36m_gromosPPbase.pdb2gromos\u001b[0;34m(self, in_pdb_path, in_top_path, out_cnf_path, in_lib_path, _binary_name, verbose)\u001b[0m\n\u001b[1;32m    158\u001b[0m \u001b[38;5;28;01mif\u001b[39;00m verbose:\n\u001b[1;32m    159\u001b[0m     \u001b[38;5;28mprint\u001b[39m(command)\n\u001b[0;32m--> 160\u001b[0m p \u001b[38;5;241m=\u001b[39m \u001b[43mbash\u001b[49m\u001b[38;5;241;43m.\u001b[39;49m\u001b[43mexecute\u001b[49m\u001b[43m(\u001b[49m\u001b[43mcommand\u001b[49m\u001b[43m,\u001b[49m\u001b[43m \u001b[49m\u001b[43mcatch_STD\u001b[49m\u001b[38;5;241;43m=\u001b[39;49m\u001b[38;5;28;43;01mTrue\u001b[39;49;00m\u001b[43m)\u001b[49m\n\u001b[1;32m    161\u001b[0m \u001b[38;5;28;01mif\u001b[39;00m verbose:\n\u001b[1;32m    162\u001b[0m     \u001b[38;5;28mprint\u001b[39m(p\u001b[38;5;241m.\u001b[39mstdout\u001b[38;5;241m.\u001b[39mreadlines())\n",
      "File \u001b[0;32m~/work/PyGromosTools/PyGromosTools/pygromos/utils/bash.py:935\u001b[0m, in \u001b[0;36mexecute\u001b[0;34m(command, verbose, catch_STD, env)\u001b[0m\n\u001b[1;32m    932\u001b[0m \u001b[38;5;28;01mdef\u001b[39;00m \u001b[38;5;21mexecute\u001b[39m(\n\u001b[1;32m    933\u001b[0m     command: Union[\u001b[38;5;28mstr\u001b[39m, List[\u001b[38;5;28mstr\u001b[39m]], verbose: \u001b[38;5;28mbool\u001b[39m \u001b[38;5;241m=\u001b[39m \u001b[38;5;28;01mFalse\u001b[39;00m, catch_STD: Union[\u001b[38;5;28mbool\u001b[39m, \u001b[38;5;28mstr\u001b[39m] \u001b[38;5;241m=\u001b[39m \u001b[38;5;28;01mFalse\u001b[39;00m, env: \u001b[38;5;28mdict\u001b[39m \u001b[38;5;241m=\u001b[39m \u001b[38;5;28;01mNone\u001b[39;00m\n\u001b[1;32m    934\u001b[0m ):\n\u001b[0;32m--> 935\u001b[0m     \u001b[38;5;28;01mreturn\u001b[39;00m \u001b[43mexecute_subprocess\u001b[49m\u001b[43m(\u001b[49m\u001b[43mcommand\u001b[49m\u001b[38;5;241;43m=\u001b[39;49m\u001b[43mcommand\u001b[49m\u001b[43m,\u001b[49m\u001b[43m \u001b[49m\u001b[43mverbose\u001b[49m\u001b[38;5;241;43m=\u001b[39;49m\u001b[43mverbose\u001b[49m\u001b[43m,\u001b[49m\u001b[43m \u001b[49m\u001b[43mcatch_STD\u001b[49m\u001b[38;5;241;43m=\u001b[39;49m\u001b[43mcatch_STD\u001b[49m\u001b[43m,\u001b[49m\u001b[43m \u001b[49m\u001b[43menv\u001b[49m\u001b[38;5;241;43m=\u001b[39;49m\u001b[43menv\u001b[49m\u001b[43m)\u001b[49m\n",
      "File \u001b[0;32m~/work/PyGromosTools/PyGromosTools/pygromos/utils/bash.py:829\u001b[0m, in \u001b[0;36mexecute_subprocess\u001b[0;34m(command, catch_STD, env, verbose)\u001b[0m\n\u001b[1;32m    827\u001b[0m     msg \u001b[38;5;241m+\u001b[39m\u001b[38;5;241m=\u001b[39m \u001b[38;5;124m\"\u001b[39m\u001b[38;5;130;01m\\n\u001b[39;00m\u001b[38;5;124mSTDERR:\u001b[39m\u001b[38;5;130;01m\\n\u001b[39;00m\u001b[38;5;130;01m\\t\u001b[39;00m\u001b[38;5;124m\"\u001b[39m\n\u001b[1;32m    828\u001b[0m     msg \u001b[38;5;241m+\u001b[39m\u001b[38;5;241m=\u001b[39m \u001b[38;5;124m\"\u001b[39m\u001b[38;5;124mNONE\u001b[39m\u001b[38;5;124m\"\u001b[39m \u001b[38;5;28;01mif\u001b[39;00m (p\u001b[38;5;241m.\u001b[39mstdout \u001b[38;5;129;01mis\u001b[39;00m \u001b[38;5;28;01mNone\u001b[39;00m) \u001b[38;5;28;01melse\u001b[39;00m \u001b[38;5;124m\"\u001b[39m\u001b[38;5;130;01m\\n\u001b[39;00m\u001b[38;5;130;01m\\t\u001b[39;00m\u001b[38;5;124m\"\u001b[39m\u001b[38;5;241m.\u001b[39mjoin(\u001b[38;5;28mmap\u001b[39m(\u001b[38;5;28mstr\u001b[39m, p\u001b[38;5;241m.\u001b[39mstderr\u001b[38;5;241m.\u001b[39mreadlines()))\n\u001b[0;32m--> 829\u001b[0m     \u001b[38;5;28;01mraise\u001b[39;00m \u001b[38;5;167;01mChildProcessError\u001b[39;00m(msg)\n\u001b[1;32m    830\u001b[0m \u001b[38;5;28;01mif\u001b[39;00m verbose:\n\u001b[1;32m    831\u001b[0m     \u001b[38;5;28mprint\u001b[39m(\u001b[38;5;124m\"\u001b[39m\u001b[38;5;124mRETURN: \u001b[39m\u001b[38;5;124m\"\u001b[39m, r)\n",
      "\u001b[0;31mChildProcessError\u001b[0m: SubProcess Failed due to returncode: 127\n COMMAND: \n\tpdb2g96 @pdb /home/runner/work/PyGromosTools/PyGromosTools/examples/example_files/Tutorial_System/input/peptide.pdb @topo /home/runner/work/PyGromosTools/PyGromosTools/examples/example_files/Tutorial_System/a_build_initial_files/peptide.top @out /home/runner/work/PyGromosTools/PyGromosTools/examples/example_files/Tutorial_System/a_build_initial_files/tmp_out_file.cnf @lib /home/runner/work/PyGromosTools/PyGromosTools/pygromos/data/pdb2g96.lib\n\nSTDOUT:\n\t\nSTDERR:\n\tb'/bin/sh: 1: pdb2g96: not found\\n'"
     ]
    }
   ],
   "source": [
    "# Generate coordinate file:\n",
    "build_system.pdb2gromos(in_pdb_path=input_dir+\"/peptide.pdb\")\n",
    "\n",
    "#show the coordinates that were generated.\n",
    "build_system.cnf.view"
   ]
  },
  {
   "cell_type": "markdown",
   "metadata": {},
   "source": [
    "##### Initial Write out\n",
    " Next we will write out all generated files, such we have the initial products of our efforts."
   ]
  },
  {
   "cell_type": "code",
   "execution_count": 8,
   "metadata": {
    "execution": {
     "iopub.execute_input": "2022-04-04T16:01:12.151678Z",
     "iopub.status.busy": "2022-04-04T16:01:12.150592Z",
     "iopub.status.idle": "2022-04-04T16:01:12.167693Z",
     "shell.execute_reply": "2022-04-04T16:01:12.167229Z"
    }
   },
   "outputs": [
    {
     "name": "stdout",
     "output_type": "stream",
     "text": [
      "Path before rebase: None\n",
      "File imd is empty , can not be written!\n",
      "File cnf is empty , can not be written!\n"
     ]
    },
    {
     "ename": "TypeError",
     "evalue": "can only concatenate str (not \"NoneType\") to str",
     "output_type": "error",
     "traceback": [
      "\u001b[0;31m---------------------------------------------------------------------------\u001b[0m",
      "\u001b[0;31mTypeError\u001b[0m                                 Traceback (most recent call last)",
      "Input \u001b[0;32mIn [8]\u001b[0m, in \u001b[0;36m<cell line: 6>\u001b[0;34m()\u001b[0m\n\u001b[1;32m      3\u001b[0m build_system\u001b[38;5;241m.\u001b[39mrebase_files()\n\u001b[1;32m      5\u001b[0m \u001b[38;5;66;03m#check this \u001b[39;00m\n\u001b[0;32m----> 6\u001b[0m \u001b[38;5;28mprint\u001b[39m(\u001b[38;5;124;43m\"\u001b[39;49m\u001b[38;5;124;43mPath after rebase: \u001b[39;49m\u001b[38;5;124;43m\"\u001b[39;49m\u001b[38;5;241;43m+\u001b[39;49m\u001b[43mbuild_system\u001b[49m\u001b[38;5;241;43m.\u001b[39;49m\u001b[43mcnf\u001b[49m\u001b[38;5;241;43m.\u001b[39;49m\u001b[43mpath\u001b[49m)\n\u001b[1;32m      8\u001b[0m \u001b[38;5;66;03m#Check also how the system path and attributes were automatically updated.\u001b[39;00m\n\u001b[1;32m      9\u001b[0m build_system\n",
      "\u001b[0;31mTypeError\u001b[0m: can only concatenate str (not \"NoneType\") to str"
     ]
    }
   ],
   "source": [
    "# Now write all files, such that you can check them directly.\n",
    "print(\"Path before rebase: \"+str(build_system.cnf.path))\n",
    "build_system.rebase_files()\n",
    "\n",
    "#check this \n",
    "print(\"Path after rebase: \"+build_system.cnf.path)\n",
    "\n",
    "#Check also how the system path and attributes were automatically updated.\n",
    "build_system\n"
   ]
  },
  {
   "cell_type": "markdown",
   "metadata": {
    "pycharm": {
     "name": "#%% md\n"
    }
   },
   "source": [
    "#### add hydrogens\n",
    "Have a look at the cnf coordinates in the GromosSystem (next cell). You will notice that the hydrogen atoms have been added\n",
    "to the coordinate file with the Cartesian coordinates being set to zero. \n"
   ]
  },
  {
   "cell_type": "code",
   "execution_count": 9,
   "metadata": {
    "execution": {
     "iopub.execute_input": "2022-04-04T16:01:12.170524Z",
     "iopub.status.busy": "2022-04-04T16:01:12.170253Z",
     "iopub.status.idle": "2022-04-04T16:01:12.184849Z",
     "shell.execute_reply": "2022-04-04T16:01:12.184394Z"
    }
   },
   "outputs": [
    {
     "ename": "AttributeError",
     "evalue": "'Cnf' object has no attribute 'POSITION'",
     "output_type": "error",
     "traceback": [
      "\u001b[0;31m---------------------------------------------------------------------------\u001b[0m",
      "\u001b[0;31mAttributeError\u001b[0m                            Traceback (most recent call last)",
      "Input \u001b[0;32mIn [9]\u001b[0m, in \u001b[0;36m<cell line: 2>\u001b[0;34m()\u001b[0m\n\u001b[1;32m      1\u001b[0m \u001b[38;5;66;03m#print x lines of the Position Block of valine\u001b[39;00m\n\u001b[0;32m----> 2\u001b[0m \u001b[38;5;28mprint\u001b[39m(\u001b[38;5;124m\"\u001b[39m\u001b[38;5;124m\"\u001b[39m\u001b[38;5;241m.\u001b[39mjoin([\u001b[38;5;28mstr\u001b[39m(atomP) \u001b[38;5;28;01mfor\u001b[39;00m atomP \u001b[38;5;129;01min\u001b[39;00m \u001b[43mbuild_system\u001b[49m\u001b[38;5;241;43m.\u001b[39;49m\u001b[43mcnf\u001b[49m\u001b[38;5;241;43m.\u001b[39;49m\u001b[43mPOSITION\u001b[49m \u001b[38;5;28;01mif\u001b[39;00m(\u001b[38;5;124m\"\u001b[39m\u001b[38;5;124mVAL\u001b[39m\u001b[38;5;124m\"\u001b[39m \u001b[38;5;241m==\u001b[39m atomP\u001b[38;5;241m.\u001b[39mresName)]))\n",
      "\u001b[0;31mAttributeError\u001b[0m: 'Cnf' object has no attribute 'POSITION'"
     ]
    }
   ],
   "source": [
    "#print x lines of the Position Block of valine\n",
    "print(\"\".join([str(atomP) for atomP in build_system.cnf.POSITION if(\"VAL\" == atomP.resName)]))"
   ]
  },
  {
   "cell_type": "markdown",
   "metadata": {},
   "source": [
    "\n",
    "In order to generate meaningful coordinates for the hydrogen atoms run the GROMOS++ program *protonate* (or gch). It will generate the coordinates\n",
    "for hydrogen atoms by geometric means using the information from the molecular topology file.\n",
    "The argument *tolerance* sets the tolerance that is used for keeping the coordinates of hydrogens that are already present in the coordinate file.\n"
   ]
  },
  {
   "cell_type": "code",
   "execution_count": 10,
   "metadata": {
    "execution": {
     "iopub.execute_input": "2022-04-04T16:01:12.187428Z",
     "iopub.status.busy": "2022-04-04T16:01:12.187157Z",
     "iopub.status.idle": "2022-04-04T16:01:12.265851Z",
     "shell.execute_reply": "2022-04-04T16:01:12.264756Z"
    }
   },
   "outputs": [
    {
     "ename": "ChildProcessError",
     "evalue": "SubProcess Failed due to returncode: 127\n COMMAND: \n\tgch @topo /home/runner/work/PyGromosTools/PyGromosTools/examples/example_files/Tutorial_System/a_build_initial_files/peptide.top @pos /home/runner/work/PyGromosTools/PyGromosTools/examples/example_files/Tutorial_System/a_build_initial_files/tmp_in_file.cnf @tol 0.1  @pbc v cog\nSTDOUT:\n\tNONE\nSTDERR:\n\tNONE",
     "output_type": "error",
     "traceback": [
      "\u001b[0;31m---------------------------------------------------------------------------\u001b[0m",
      "\u001b[0;31mChildProcessError\u001b[0m                         Traceback (most recent call last)",
      "Input \u001b[0;32mIn [10]\u001b[0m, in \u001b[0;36m<cell line: 2>\u001b[0;34m()\u001b[0m\n\u001b[1;32m      1\u001b[0m \u001b[38;5;66;03m# Add the hydrogen positions\u001b[39;00m\n\u001b[0;32m----> 2\u001b[0m \u001b[43mbuild_system\u001b[49m\u001b[38;5;241;43m.\u001b[39;49m\u001b[43madd_hydrogens\u001b[49m\u001b[43m(\u001b[49m\u001b[43m)\u001b[49m\n\u001b[1;32m      4\u001b[0m \u001b[38;5;66;03m#store the current files with a different name:\u001b[39;00m\n\u001b[1;32m      5\u001b[0m build_system\u001b[38;5;241m.\u001b[39mname \u001b[38;5;241m=\u001b[39m \u001b[38;5;124m\"\u001b[39m\u001b[38;5;124mpeptideH\u001b[39m\u001b[38;5;124m\"\u001b[39m\n",
      "File \u001b[0;32m~/work/PyGromosTools/PyGromosTools/pygromos/files/gromos_system/gromos_system.py:1317\u001b[0m, in \u001b[0;36mGromos_System.__SystemConstructionUpdater.<locals>._updateGromosSystem\u001b[0;34m(*args, **kwargs)\u001b[0m\n\u001b[1;32m   1313\u001b[0m         update_dict\u001b[38;5;241m.\u001b[39mupdate({k: attr_key})\n\u001b[1;32m   1315\u001b[0m \u001b[38;5;66;03m# execute function\u001b[39;00m\n\u001b[1;32m   1316\u001b[0m \u001b[38;5;66;03m# print(\"updater2\", func.__name__, args, kwargs)\u001b[39;00m\n\u001b[0;32m-> 1317\u001b[0m r \u001b[38;5;241m=\u001b[39m \u001b[43mfunc\u001b[49m\u001b[43m(\u001b[49m\u001b[38;5;241;43m*\u001b[39;49m\u001b[43margs\u001b[49m\u001b[43m,\u001b[49m\u001b[43m \u001b[49m\u001b[38;5;241;43m*\u001b[39;49m\u001b[38;5;241;43m*\u001b[39;49m\u001b[43mkwargs\u001b[49m\u001b[43m)\u001b[49m\n\u001b[1;32m   1318\u001b[0m \u001b[38;5;66;03m# print(\"updater3\", func.__name__, args, kwargs)\u001b[39;00m\n\u001b[1;32m   1319\u001b[0m \n\u001b[1;32m   1320\u001b[0m \u001b[38;5;66;03m# update attribute states and remove tmp files.\u001b[39;00m\n\u001b[1;32m   1321\u001b[0m \u001b[38;5;28;01mfor\u001b[39;00m k \u001b[38;5;129;01min\u001b[39;00m update_dict:\n",
      "File \u001b[0;32m~/work/PyGromosTools/PyGromosTools/pygromos/files/gromos_system/gromos_system.py:1265\u001b[0m, in \u001b[0;36mGromos_System.__SystemConstructionAttributeFinder.<locals>._findGromosSystemAttributes\u001b[0;34m(*args, **kwargs)\u001b[0m\n\u001b[1;32m   1261\u001b[0m args \u001b[38;5;241m=\u001b[39m \u001b[38;5;28mlist\u001b[39m(\u001b[38;5;28mfilter\u001b[39m(\u001b[38;5;28;01mlambda\u001b[39;00m x: \u001b[38;5;28misinstance\u001b[39m(x, \u001b[38;5;28mself\u001b[39m\u001b[38;5;241m.\u001b[39mgromosPP\u001b[38;5;241m.\u001b[39m\u001b[38;5;18m__class__\u001b[39m), args))\n\u001b[1;32m   1263\u001b[0m \u001b[38;5;66;03m# execute function\u001b[39;00m\n\u001b[1;32m   1264\u001b[0m \u001b[38;5;66;03m# print(\"attibuteFinder 2:\", func.__name__, args, kwargs)\u001b[39;00m\n\u001b[0;32m-> 1265\u001b[0m r \u001b[38;5;241m=\u001b[39m \u001b[43mfunc\u001b[49m\u001b[43m(\u001b[49m\u001b[38;5;28;43mself\u001b[39;49m\u001b[38;5;241;43m.\u001b[39;49m\u001b[43mgromosPP\u001b[49m\u001b[43m,\u001b[49m\u001b[43m \u001b[49m\u001b[38;5;241;43m*\u001b[39;49m\u001b[43margs\u001b[49m\u001b[43m,\u001b[49m\u001b[43m \u001b[49m\u001b[38;5;241;43m*\u001b[39;49m\u001b[38;5;241;43m*\u001b[39;49m\u001b[43mkwargs\u001b[49m\u001b[43m)\u001b[49m\n\u001b[1;32m   1267\u001b[0m \u001b[38;5;66;03m# remove tmp_files\u001b[39;00m\n\u001b[1;32m   1268\u001b[0m [bash\u001b[38;5;241m.\u001b[39mremove_file(p) \u001b[38;5;28;01mfor\u001b[39;00m p \u001b[38;5;129;01min\u001b[39;00m tmp_files]\n",
      "File \u001b[0;32m~/work/PyGromosTools/PyGromosTools/pygromos/gromos/_gromosClass.py:78\u001b[0m, in \u001b[0;36m_gromosClass._gromosTypeConverter.<locals>.convert_pyGromos_types\u001b[0;34m(self, *args, **kwargs)\u001b[0m\n\u001b[1;32m     75\u001b[0m         kwargs[k] \u001b[38;5;241m=\u001b[39m v\u001b[38;5;241m.\u001b[39mpath\n\u001b[1;32m     77\u001b[0m \u001b[38;5;66;03m# print(\"Converter2: \", func.__name__, self, nargs, kwargs)\u001b[39;00m\n\u001b[0;32m---> 78\u001b[0m \u001b[38;5;28;01mreturn\u001b[39;00m \u001b[43mfunc\u001b[49m\u001b[43m(\u001b[49m\u001b[38;5;28;43mself\u001b[39;49m\u001b[43m,\u001b[49m\u001b[43m \u001b[49m\u001b[38;5;241;43m*\u001b[39;49m\u001b[43mnargs\u001b[49m\u001b[43m,\u001b[49m\u001b[43m \u001b[49m\u001b[38;5;241;43m*\u001b[39;49m\u001b[38;5;241;43m*\u001b[39;49m\u001b[43mkwargs\u001b[49m\u001b[43m)\u001b[49m\n",
      "File \u001b[0;32m~/work/PyGromosTools/PyGromosTools/pygromos/gromos/gromosPP.py:826\u001b[0m, in \u001b[0;36m_gromosPPbase.add_hydrogens\u001b[0;34m(self, in_cnf_path, in_top_path, out_cnf_path, tolerance, periodic_boundary_condition, gathering, _binary_name)\u001b[0m\n\u001b[1;32m    795\u001b[0m \u001b[38;5;124;03m\"\"\"\u001b[39;00m\n\u001b[1;32m    796\u001b[0m \u001b[38;5;124;03m            This function protonates a coordinate file.\u001b[39;00m\n\u001b[1;32m    797\u001b[0m \n\u001b[0;32m   (...)\u001b[0m\n\u001b[1;32m    811\u001b[0m \n\u001b[1;32m    812\u001b[0m \u001b[38;5;124;03m\"\"\"\u001b[39;00m\n\u001b[1;32m    813\u001b[0m command \u001b[38;5;241m=\u001b[39m (\n\u001b[1;32m    814\u001b[0m     \u001b[38;5;28mself\u001b[39m\u001b[38;5;241m.\u001b[39m_bin\n\u001b[1;32m    815\u001b[0m     \u001b[38;5;241m+\u001b[39m _binary_name\n\u001b[0;32m   (...)\u001b[0m\n\u001b[1;32m    823\u001b[0m     \u001b[38;5;124m\"\u001b[39m\u001b[38;5;124m@pbc \u001b[39m\u001b[38;5;124m\"\u001b[39m \u001b[38;5;241m+\u001b[39m periodic_boundary_condition \u001b[38;5;241m+\u001b[39m \u001b[38;5;124m\"\u001b[39m\u001b[38;5;124m \u001b[39m\u001b[38;5;124m\"\u001b[39m \u001b[38;5;241m+\u001b[39m gathering\n\u001b[1;32m    824\u001b[0m )\n\u001b[0;32m--> 826\u001b[0m \u001b[43mbash\u001b[49m\u001b[38;5;241;43m.\u001b[39;49m\u001b[43mexecute\u001b[49m\u001b[43m(\u001b[49m\u001b[43mcommand\u001b[49m\u001b[43m,\u001b[49m\u001b[43m \u001b[49m\u001b[43mcatch_STD\u001b[49m\u001b[38;5;241;43m=\u001b[39;49m\u001b[43mout_cnf_path\u001b[49m\u001b[43m)\u001b[49m\n\u001b[1;32m    828\u001b[0m \u001b[38;5;28;01mreturn\u001b[39;00m out_cnf_path\n",
      "File \u001b[0;32m~/work/PyGromosTools/PyGromosTools/pygromos/utils/bash.py:935\u001b[0m, in \u001b[0;36mexecute\u001b[0;34m(command, verbose, catch_STD, env)\u001b[0m\n\u001b[1;32m    932\u001b[0m \u001b[38;5;28;01mdef\u001b[39;00m \u001b[38;5;21mexecute\u001b[39m(\n\u001b[1;32m    933\u001b[0m     command: Union[\u001b[38;5;28mstr\u001b[39m, List[\u001b[38;5;28mstr\u001b[39m]], verbose: \u001b[38;5;28mbool\u001b[39m \u001b[38;5;241m=\u001b[39m \u001b[38;5;28;01mFalse\u001b[39;00m, catch_STD: Union[\u001b[38;5;28mbool\u001b[39m, \u001b[38;5;28mstr\u001b[39m] \u001b[38;5;241m=\u001b[39m \u001b[38;5;28;01mFalse\u001b[39;00m, env: \u001b[38;5;28mdict\u001b[39m \u001b[38;5;241m=\u001b[39m \u001b[38;5;28;01mNone\u001b[39;00m\n\u001b[1;32m    934\u001b[0m ):\n\u001b[0;32m--> 935\u001b[0m     \u001b[38;5;28;01mreturn\u001b[39;00m \u001b[43mexecute_subprocess\u001b[49m\u001b[43m(\u001b[49m\u001b[43mcommand\u001b[49m\u001b[38;5;241;43m=\u001b[39;49m\u001b[43mcommand\u001b[49m\u001b[43m,\u001b[49m\u001b[43m \u001b[49m\u001b[43mverbose\u001b[49m\u001b[38;5;241;43m=\u001b[39;49m\u001b[43mverbose\u001b[49m\u001b[43m,\u001b[49m\u001b[43m \u001b[49m\u001b[43mcatch_STD\u001b[49m\u001b[38;5;241;43m=\u001b[39;49m\u001b[43mcatch_STD\u001b[49m\u001b[43m,\u001b[49m\u001b[43m \u001b[49m\u001b[43menv\u001b[49m\u001b[38;5;241;43m=\u001b[39;49m\u001b[43menv\u001b[49m\u001b[43m)\u001b[49m\n",
      "File \u001b[0;32m~/work/PyGromosTools/PyGromosTools/pygromos/utils/bash.py:829\u001b[0m, in \u001b[0;36mexecute_subprocess\u001b[0;34m(command, catch_STD, env, verbose)\u001b[0m\n\u001b[1;32m    827\u001b[0m     msg \u001b[38;5;241m+\u001b[39m\u001b[38;5;241m=\u001b[39m \u001b[38;5;124m\"\u001b[39m\u001b[38;5;130;01m\\n\u001b[39;00m\u001b[38;5;124mSTDERR:\u001b[39m\u001b[38;5;130;01m\\n\u001b[39;00m\u001b[38;5;130;01m\\t\u001b[39;00m\u001b[38;5;124m\"\u001b[39m\n\u001b[1;32m    828\u001b[0m     msg \u001b[38;5;241m+\u001b[39m\u001b[38;5;241m=\u001b[39m \u001b[38;5;124m\"\u001b[39m\u001b[38;5;124mNONE\u001b[39m\u001b[38;5;124m\"\u001b[39m \u001b[38;5;28;01mif\u001b[39;00m (p\u001b[38;5;241m.\u001b[39mstdout \u001b[38;5;129;01mis\u001b[39;00m \u001b[38;5;28;01mNone\u001b[39;00m) \u001b[38;5;28;01melse\u001b[39;00m \u001b[38;5;124m\"\u001b[39m\u001b[38;5;130;01m\\n\u001b[39;00m\u001b[38;5;130;01m\\t\u001b[39;00m\u001b[38;5;124m\"\u001b[39m\u001b[38;5;241m.\u001b[39mjoin(\u001b[38;5;28mmap\u001b[39m(\u001b[38;5;28mstr\u001b[39m, p\u001b[38;5;241m.\u001b[39mstderr\u001b[38;5;241m.\u001b[39mreadlines()))\n\u001b[0;32m--> 829\u001b[0m     \u001b[38;5;28;01mraise\u001b[39;00m \u001b[38;5;167;01mChildProcessError\u001b[39;00m(msg)\n\u001b[1;32m    830\u001b[0m \u001b[38;5;28;01mif\u001b[39;00m verbose:\n\u001b[1;32m    831\u001b[0m     \u001b[38;5;28mprint\u001b[39m(\u001b[38;5;124m\"\u001b[39m\u001b[38;5;124mRETURN: \u001b[39m\u001b[38;5;124m\"\u001b[39m, r)\n",
      "\u001b[0;31mChildProcessError\u001b[0m: SubProcess Failed due to returncode: 127\n COMMAND: \n\tgch @topo /home/runner/work/PyGromosTools/PyGromosTools/examples/example_files/Tutorial_System/a_build_initial_files/peptide.top @pos /home/runner/work/PyGromosTools/PyGromosTools/examples/example_files/Tutorial_System/a_build_initial_files/tmp_in_file.cnf @tol 0.1  @pbc v cog\nSTDOUT:\n\tNONE\nSTDERR:\n\tNONE"
     ]
    }
   ],
   "source": [
    "# Add the hydrogen positions\n",
    "build_system.add_hydrogens()\n",
    "\n",
    "#store the current files with a different name:\n",
    "build_system.name = \"peptideH\"\n",
    "build_system.rebase_files()\n",
    "\n",
    "#visualize again the nice structure\n",
    "build_system.cnf.view\n"
   ]
  },
  {
   "cell_type": "markdown",
   "metadata": {},
   "source": [
    "#### Optional: Convert cnf to pdb\n",
    "\n"
   ]
  },
  {
   "cell_type": "code",
   "execution_count": 11,
   "metadata": {
    "execution": {
     "iopub.execute_input": "2022-04-04T16:01:12.270091Z",
     "iopub.status.busy": "2022-04-04T16:01:12.269476Z",
     "iopub.status.idle": "2022-04-04T16:01:12.492442Z",
     "shell.execute_reply": "2022-04-04T16:01:12.491754Z"
    }
   },
   "outputs": [
    {
     "ename": "AttributeError",
     "evalue": "'Cnf' object has no attribute 'POSITION'",
     "output_type": "error",
     "traceback": [
      "\u001b[0;31m---------------------------------------------------------------------------\u001b[0m",
      "\u001b[0;31mAttributeError\u001b[0m                            Traceback (most recent call last)",
      "Input \u001b[0;32mIn [11]\u001b[0m, in \u001b[0;36m<cell line: 1>\u001b[0;34m()\u001b[0m\n\u001b[0;32m----> 1\u001b[0m pdb_path \u001b[38;5;241m=\u001b[39m \u001b[43mbuild_system\u001b[49m\u001b[38;5;241;43m.\u001b[39;49m\u001b[43mcnf\u001b[49m\u001b[38;5;241;43m.\u001b[39;49m\u001b[43mwrite_pdb\u001b[49m\u001b[43m(\u001b[49m\u001b[43mbuild_system\u001b[49m\u001b[38;5;241;43m.\u001b[39;49m\u001b[43mwork_folder\u001b[49m\u001b[38;5;241;43m+\u001b[39;49m\u001b[38;5;124;43m\"\u001b[39;49m\u001b[38;5;124;43m/vacuum_hpeptide.pdb\u001b[39;49m\u001b[38;5;124;43m\"\u001b[39;49m\u001b[43m)\u001b[49m\n\u001b[1;32m      2\u001b[0m pdb_path\n",
      "File \u001b[0;32m~/work/PyGromosTools/PyGromosTools/pygromos/files/coord/cnf.py:1186\u001b[0m, in \u001b[0;36mCnf.write_pdb\u001b[0;34m(self, out_path)\u001b[0m\n\u001b[1;32m   1171\u001b[0m \u001b[38;5;28;01mdef\u001b[39;00m \u001b[38;5;21mwrite_pdb\u001b[39m(\u001b[38;5;28mself\u001b[39m, out_path: \u001b[38;5;28mstr\u001b[39m) \u001b[38;5;241m-\u001b[39m\u001b[38;5;241m>\u001b[39m \u001b[38;5;28mstr\u001b[39m:\n\u001b[1;32m   1172\u001b[0m     \u001b[38;5;124;03m\"\"\"\u001b[39;00m\n\u001b[1;32m   1173\u001b[0m \u001b[38;5;124;03m        This function converts the atom POS db of the traj into a pdb traj.\u001b[39;00m\n\u001b[1;32m   1174\u001b[0m \n\u001b[0;32m   (...)\u001b[0m\n\u001b[1;32m   1184\u001b[0m \n\u001b[1;32m   1185\u001b[0m \u001b[38;5;124;03m    \"\"\"\u001b[39;00m\n\u001b[0;32m-> 1186\u001b[0m     \u001b[38;5;28;01mreturn\u001b[39;00m \u001b[38;5;28mself\u001b[39m\u001b[38;5;241m.\u001b[39m_write_to_file(out_path\u001b[38;5;241m=\u001b[39mout_path, content_str\u001b[38;5;241m=\u001b[39m\u001b[38;5;28;43mself\u001b[39;49m\u001b[38;5;241;43m.\u001b[39;49m\u001b[43mget_pdb\u001b[49m\u001b[43m(\u001b[49m\u001b[43m)\u001b[49m)\n",
      "File \u001b[0;32m~/work/PyGromosTools/PyGromosTools/pygromos/files/coord/cnf.py:1096\u001b[0m, in \u001b[0;36mCnf.get_pdb\u001b[0;34m(self, rdkit_ready, connectivity_top)\u001b[0m\n\u001b[1;32m   1093\u001b[0m \u001b[38;5;66;03m# pdb_format =  \"ATOM  %5d %-4s %3s %1s%4d   %s%s%s  1.00 %5s      %-4s%2s  \"\u001b[39;00m\n\u001b[1;32m   1095\u001b[0m frame_positions \u001b[38;5;241m=\u001b[39m []\n\u001b[0;32m-> 1096\u001b[0m \u001b[38;5;28;01mfor\u001b[39;00m ind, atom \u001b[38;5;129;01min\u001b[39;00m \u001b[38;5;28menumerate\u001b[39m(\u001b[38;5;28;43mself\u001b[39;49m\u001b[38;5;241;43m.\u001b[39;49m\u001b[43mPOSITION\u001b[49m):\n\u001b[1;32m   1097\u001b[0m     frame_positions\u001b[38;5;241m.\u001b[39mappend(\n\u001b[1;32m   1098\u001b[0m         pdb_format\u001b[38;5;241m.\u001b[39mformat(\n\u001b[1;32m   1099\u001b[0m             atom\u001b[38;5;241m.\u001b[39matomID \u001b[38;5;241m%\u001b[39m \u001b[38;5;241m100000\u001b[39m,\n\u001b[0;32m   (...)\u001b[0m\n\u001b[1;32m   1111\u001b[0m         )\n\u001b[1;32m   1112\u001b[0m     )  \u001b[38;5;66;03m# times *10 because pdb is in A\u001b[39;00m\n\u001b[1;32m   1114\u001b[0m pdb_str \u001b[38;5;241m=\u001b[39m \u001b[38;5;124m\"\u001b[39m\u001b[38;5;124mTITLE \u001b[39m\u001b[38;5;124m\"\u001b[39m \u001b[38;5;241m+\u001b[39m \u001b[38;5;28mstr\u001b[39m(\u001b[38;5;28mself\u001b[39m\u001b[38;5;241m.\u001b[39mTITLE)\u001b[38;5;241m.\u001b[39mreplace(\u001b[38;5;124m\"\u001b[39m\u001b[38;5;124mEND\u001b[39m\u001b[38;5;124m\"\u001b[39m, \u001b[38;5;124m\"\u001b[39m\u001b[38;5;124m\"\u001b[39m) \u001b[38;5;241m+\u001b[39m \u001b[38;5;124m\"\u001b[39m\u001b[38;5;130;01m\\n\u001b[39;00m\u001b[38;5;124m\"\u001b[39m\n",
      "\u001b[0;31mAttributeError\u001b[0m: 'Cnf' object has no attribute 'POSITION'"
     ]
    }
   ],
   "source": [
    "pdb_path = build_system.cnf.write_pdb(build_system.work_folder+\"/vacuum_hpeptide.pdb\")\n",
    "pdb_path"
   ]
  },
  {
   "cell_type": "markdown",
   "metadata": {},
   "source": [
    "### Energy Minimization - Vacuum\n",
    "\n",
    "Before putting the penta-peptide into a box of solvent, its configuration can be relaxed by energy minimisation.\n",
    "\n",
    "#### Simulation Parameter File\n",
    "The GROMOS simulation parameter file (also called imd) template_emin_vac can be parsed like follows and contains the following blocks:"
   ]
  },
  {
   "cell_type": "code",
   "execution_count": 12,
   "metadata": {
    "execution": {
     "iopub.execute_input": "2022-04-04T16:01:12.495657Z",
     "iopub.status.busy": "2022-04-04T16:01:12.495154Z",
     "iopub.status.idle": "2022-04-04T16:01:12.609932Z",
     "shell.execute_reply": "2022-04-04T16:01:12.608958Z"
    }
   },
   "outputs": [
    {
     "ename": "ValueError",
     "evalue": "NO POSITION block in cnf-Object: /home/runner/work/PyGromosTools/PyGromosTools/examples/example_files/Tutorial_System/a_build_initial_files/tmp_in_file.cnf",
     "output_type": "error",
     "traceback": [
      "\u001b[0;31m---------------------------------------------------------------------------\u001b[0m",
      "\u001b[0;31mValueError\u001b[0m                                Traceback (most recent call last)",
      "Input \u001b[0;32mIn [12]\u001b[0m, in \u001b[0;36m<cell line: 4>\u001b[0;34m()\u001b[0m\n\u001b[1;32m      1\u001b[0m \u001b[38;5;28;01mfrom\u001b[39;00m \u001b[38;5;21;01mpygromos\u001b[39;00m\u001b[38;5;21;01m.\u001b[39;00m\u001b[38;5;21;01mdata\u001b[39;00m\u001b[38;5;21;01m.\u001b[39;00m\u001b[38;5;21;01msimulation_parameters_templates\u001b[39;00m \u001b[38;5;28;01mimport\u001b[39;00m  template_emin_vac\n\u001b[1;32m      3\u001b[0m \u001b[38;5;66;03m#load simulation parameter file (Imd) File\u001b[39;00m\n\u001b[0;32m----> 4\u001b[0m build_system\u001b[38;5;241m.\u001b[39mimd \u001b[38;5;241m=\u001b[39m template_emin_vac\n\u001b[1;32m      6\u001b[0m \u001b[38;5;66;03m#for nicer code we will store the simulation parameter file in a variable.\u001b[39;00m\n\u001b[1;32m      7\u001b[0m emin_vac_imd_file \u001b[38;5;241m=\u001b[39m build_system\u001b[38;5;241m.\u001b[39mimd\n",
      "File \u001b[0;32m~/work/PyGromosTools/PyGromosTools/pygromos/files/gromos_system/gromos_system.py:566\u001b[0m, in \u001b[0;36mGromos_System.imd\u001b[0;34m(self, input_value)\u001b[0m\n\u001b[1;32m    564\u001b[0m     \u001b[38;5;28mself\u001b[39m\u001b[38;5;241m.\u001b[39m_imd \u001b[38;5;241m=\u001b[39m Imd(in_value\u001b[38;5;241m=\u001b[39minput_value)\n\u001b[1;32m    565\u001b[0m     \u001b[38;5;28;01mif\u001b[39;00m is_adaptable:\n\u001b[0;32m--> 566\u001b[0m         \u001b[38;5;28;43mself\u001b[39;49m\u001b[38;5;241;43m.\u001b[39;49m\u001b[43madapt_imd\u001b[49m\u001b[43m(\u001b[49m\u001b[43m)\u001b[49m\n\u001b[1;32m    567\u001b[0m \u001b[38;5;28;01melif\u001b[39;00m \u001b[38;5;28mself\u001b[39m\u001b[38;5;241m.\u001b[39m_future_promise:\n\u001b[1;32m    568\u001b[0m     \u001b[38;5;28mself\u001b[39m\u001b[38;5;241m.\u001b[39m_imd \u001b[38;5;241m=\u001b[39m Imd(in_value\u001b[38;5;241m=\u001b[39minput_value, _future_file\u001b[38;5;241m=\u001b[39m\u001b[38;5;28mself\u001b[39m\u001b[38;5;241m.\u001b[39m_future_promise)\n",
      "File \u001b[0;32m~/work/PyGromosTools/PyGromosTools/pygromos/files/gromos_system/gromos_system.py:945\u001b[0m, in \u001b[0;36mGromos_System.adapt_imd\u001b[0;34m(self, not_ligand_residues)\u001b[0m\n\u001b[1;32m    943\u001b[0m \u001b[38;5;28;01melse\u001b[39;00m:\n\u001b[1;32m    944\u001b[0m     \u001b[38;5;28;01mif\u001b[39;00m \u001b[38;5;129;01mnot\u001b[39;00m \u001b[38;5;28mself\u001b[39m\u001b[38;5;241m.\u001b[39mcnf\u001b[38;5;241m.\u001b[39m_future_file:\n\u001b[0;32m--> 945\u001b[0m         cres, lig, prot, nonLig, solvent \u001b[38;5;241m=\u001b[39m \u001b[38;5;28;43mself\u001b[39;49m\u001b[38;5;241;43m.\u001b[39;49m\u001b[43mcnf\u001b[49m\u001b[38;5;241;43m.\u001b[39;49m\u001b[43mget_system_information\u001b[49m\u001b[43m(\u001b[49m\n\u001b[1;32m    946\u001b[0m \u001b[43m            \u001b[49m\u001b[43mnot_ligand_residues\u001b[49m\u001b[38;5;241;43m=\u001b[39;49m\u001b[43mnot_ligand_residues\u001b[49m\n\u001b[1;32m    947\u001b[0m \u001b[43m        \u001b[49m\u001b[43m)\u001b[49m\n\u001b[1;32m    948\u001b[0m         \u001b[38;5;28mself\u001b[39m\u001b[38;5;241m.\u001b[39mresidue_list \u001b[38;5;241m=\u001b[39m cres\n\u001b[1;32m    949\u001b[0m         \u001b[38;5;28mself\u001b[39m\u001b[38;5;241m.\u001b[39msolute_info \u001b[38;5;241m=\u001b[39m lig\n",
      "File \u001b[0;32m~/work/PyGromosTools/PyGromosTools/pygromos/files/coord/cnf.py:163\u001b[0m, in \u001b[0;36mCnf.get_system_information\u001b[0;34m(self, not_ligand_residues, ligand_resn_prefix, solvent_name)\u001b[0m\n\u001b[1;32m    133\u001b[0m \u001b[38;5;28;01mdef\u001b[39;00m \u001b[38;5;21mget_system_information\u001b[39m(\n\u001b[1;32m    134\u001b[0m     \u001b[38;5;28mself\u001b[39m,\n\u001b[1;32m    135\u001b[0m     not_ligand_residues: List[\u001b[38;5;28mstr\u001b[39m] \u001b[38;5;241m=\u001b[39m [],\n\u001b[1;32m    136\u001b[0m     ligand_resn_prefix: Union[\u001b[38;5;28mstr\u001b[39m, List[\u001b[38;5;28mstr\u001b[39m]] \u001b[38;5;241m=\u001b[39m \u001b[38;5;28;01mNone\u001b[39;00m,\n\u001b[1;32m    137\u001b[0m     solvent_name: \u001b[38;5;28mstr\u001b[39m \u001b[38;5;241m=\u001b[39m \u001b[38;5;124m\"\u001b[39m\u001b[38;5;124mSOLV\u001b[39m\u001b[38;5;124m\"\u001b[39m,\n\u001b[1;32m    138\u001b[0m ) \u001b[38;5;241m-\u001b[39m\u001b[38;5;241m>\u001b[39m Tuple[Dict[\u001b[38;5;28mstr\u001b[39m, Dict[\u001b[38;5;28mint\u001b[39m, \u001b[38;5;28mint\u001b[39m]], namedtuple, namedtuple, namedtuple, namedtuple]:\n\u001b[1;32m    139\u001b[0m     \u001b[38;5;124;03m\"\"\"get_system_information\u001b[39;00m\n\u001b[1;32m    140\u001b[0m \u001b[38;5;124;03m    This function utilizes a dictionary containing all residues and atom numbers (e.g. cnf.get_residues()) and modifies them such, that the result can be used to set up a standard REEDS gromos_simulation\u001b[39;00m\n\u001b[1;32m    141\u001b[0m \n\u001b[0;32m   (...)\u001b[0m\n\u001b[1;32m    160\u001b[0m \u001b[38;5;124;03m        non_ligands\u001b[39;00m\n\u001b[1;32m    161\u001b[0m \u001b[38;5;124;03m    \"\"\"\u001b[39;00m\n\u001b[0;32m--> 163\u001b[0m     residues \u001b[38;5;241m=\u001b[39m \u001b[38;5;28;43mself\u001b[39;49m\u001b[38;5;241;43m.\u001b[39;49m\u001b[43mget_residues\u001b[49m\u001b[43m(\u001b[49m\u001b[43m)\u001b[49m\n\u001b[1;32m    164\u001b[0m     \u001b[38;5;66;03m# Build Up new list\u001b[39;00m\n\u001b[1;32m    165\u001b[0m     \u001b[38;5;66;03m# Criterium, when a ligand is considered\u001b[39;00m\n\u001b[1;32m    166\u001b[0m     \u001b[38;5;28;01mif\u001b[39;00m \u001b[38;5;28misinstance\u001b[39m(ligand_resn_prefix, \u001b[38;5;28mstr\u001b[39m):\n",
      "File \u001b[0;32m~/work/PyGromosTools/PyGromosTools/pygromos/files/coord/cnf.py:579\u001b[0m, in \u001b[0;36mCnf.get_residues\u001b[0;34m(self, verbose)\u001b[0m\n\u001b[1;32m    577\u001b[0m     \u001b[38;5;28;01mreturn\u001b[39;00m counts\n\u001b[1;32m    578\u001b[0m \u001b[38;5;28;01melse\u001b[39;00m:\n\u001b[0;32m--> 579\u001b[0m     \u001b[38;5;28;01mraise\u001b[39;00m \u001b[38;5;167;01mValueError\u001b[39;00m(\u001b[38;5;124m\"\u001b[39m\u001b[38;5;124mNO POSITION block in cnf-Object: \u001b[39m\u001b[38;5;124m\"\u001b[39m \u001b[38;5;241m+\u001b[39m \u001b[38;5;28mself\u001b[39m\u001b[38;5;241m.\u001b[39mpath)\n",
      "\u001b[0;31mValueError\u001b[0m: NO POSITION block in cnf-Object: /home/runner/work/PyGromosTools/PyGromosTools/examples/example_files/Tutorial_System/a_build_initial_files/tmp_in_file.cnf"
     ]
    }
   ],
   "source": [
    "from pygromos.data.simulation_parameters_templates import  template_emin_vac\n",
    "\n",
    "#load simulation parameter file (Imd) File\n",
    "build_system.imd = template_emin_vac\n",
    "\n",
    "#for nicer code we will store the simulation parameter file in a variable.\n",
    "emin_vac_imd_file = build_system.imd\n"
   ]
  },
  {
   "cell_type": "markdown",
   "metadata": {},
   "source": [
    "##### TITLE Block\n",
    "In the TITLE block you specify what is done with following input file, so you know what you did with it later and can easily reuse it."
   ]
  },
  {
   "cell_type": "code",
   "execution_count": 13,
   "metadata": {
    "execution": {
     "iopub.execute_input": "2022-04-04T16:01:12.613856Z",
     "iopub.status.busy": "2022-04-04T16:01:12.613278Z",
     "iopub.status.idle": "2022-04-04T16:01:12.628538Z",
     "shell.execute_reply": "2022-04-04T16:01:12.628017Z"
    }
   },
   "outputs": [
    {
     "ename": "NameError",
     "evalue": "name 'emin_vac_imd_file' is not defined",
     "output_type": "error",
     "traceback": [
      "\u001b[0;31m---------------------------------------------------------------------------\u001b[0m",
      "\u001b[0;31mNameError\u001b[0m                                 Traceback (most recent call last)",
      "Input \u001b[0;32mIn [13]\u001b[0m, in \u001b[0;36m<cell line: 1>\u001b[0;34m()\u001b[0m\n\u001b[0;32m----> 1\u001b[0m \u001b[43memin_vac_imd_file\u001b[49m\u001b[38;5;241m.\u001b[39mTITLE\n",
      "\u001b[0;31mNameError\u001b[0m: name 'emin_vac_imd_file' is not defined"
     ]
    }
   ],
   "source": [
    "emin_vac_imd_file.TITLE"
   ]
  },
  {
   "cell_type": "markdown",
   "metadata": {},
   "source": [
    "##### ENERGYMIN Block\n",
    "\n",
    "The existence of the ENERGYMIN block means that Gromos will perform an energy minimisation\n",
    "(EM) run. The NTEM switch indicates which minimisation algorithm to be used. With NTEM = 1 we indicate\n",
    "that the steepest-descent algorithm (Sec. 2-11.2) is used. NCYC gives the number of steps before resetting of\n",
    "conjugate-gradient search direction in case we would use the conjugate gradient method (NTEM = 2). Using\n",
    "DELE the energy threshold (the difference in energy between two energy minimisation steps) for stopping the\n",
    "minimisation process (convergence) is specified. The initial step size and maximum step size is given in DX0\n",
    "and DXM, respectively. Using FLIM the absolute value of the forces can be limited to a maximum value before\n",
    "the algorithm is applied (see also 4-93)."
   ]
  },
  {
   "cell_type": "code",
   "execution_count": 14,
   "metadata": {
    "execution": {
     "iopub.execute_input": "2022-04-04T16:01:12.631405Z",
     "iopub.status.busy": "2022-04-04T16:01:12.631122Z",
     "iopub.status.idle": "2022-04-04T16:01:12.646617Z",
     "shell.execute_reply": "2022-04-04T16:01:12.646101Z"
    }
   },
   "outputs": [
    {
     "ename": "NameError",
     "evalue": "name 'emin_vac_imd_file' is not defined",
     "output_type": "error",
     "traceback": [
      "\u001b[0;31m---------------------------------------------------------------------------\u001b[0m",
      "\u001b[0;31mNameError\u001b[0m                                 Traceback (most recent call last)",
      "Input \u001b[0;32mIn [14]\u001b[0m, in \u001b[0;36m<cell line: 1>\u001b[0;34m()\u001b[0m\n\u001b[0;32m----> 1\u001b[0m help(\u001b[43memin_vac_imd_file\u001b[49m\u001b[38;5;241m.\u001b[39mENERGYMIN)\n",
      "\u001b[0;31mNameError\u001b[0m: name 'emin_vac_imd_file' is not defined"
     ]
    }
   ],
   "source": [
    "help(emin_vac_imd_file.ENERGYMIN)"
   ]
  },
  {
   "cell_type": "code",
   "execution_count": 15,
   "metadata": {
    "execution": {
     "iopub.execute_input": "2022-04-04T16:01:12.649715Z",
     "iopub.status.busy": "2022-04-04T16:01:12.649217Z",
     "iopub.status.idle": "2022-04-04T16:01:12.664832Z",
     "shell.execute_reply": "2022-04-04T16:01:12.664298Z"
    }
   },
   "outputs": [
    {
     "ename": "NameError",
     "evalue": "name 'emin_vac_imd_file' is not defined",
     "output_type": "error",
     "traceback": [
      "\u001b[0;31m---------------------------------------------------------------------------\u001b[0m",
      "\u001b[0;31mNameError\u001b[0m                                 Traceback (most recent call last)",
      "Input \u001b[0;32mIn [15]\u001b[0m, in \u001b[0;36m<cell line: 2>\u001b[0;34m()\u001b[0m\n\u001b[1;32m      1\u001b[0m \u001b[38;5;66;03m# The current ENERGYMIN Block\u001b[39;00m\n\u001b[0;32m----> 2\u001b[0m \u001b[43memin_vac_imd_file\u001b[49m\u001b[38;5;241m.\u001b[39mENERGYMIN\n",
      "\u001b[0;31mNameError\u001b[0m: name 'emin_vac_imd_file' is not defined"
     ]
    }
   ],
   "source": [
    "# The current ENERGYMIN Block\n",
    "emin_vac_imd_file.ENERGYMIN"
   ]
  },
  {
   "cell_type": "markdown",
   "metadata": {},
   "source": [
    "##### SYSTEM Block\n",
    "In the SYSTEM block you specify the number of solutes (NPM) and solvent (NSM) molecules. You only have\n",
    "one solute NPM = 1 and no solvent molecules NSM = 0 because you still did not add any solvent molecules\n",
    "to the configuration file and the peptide is still in vacuum. Otherwise you would have to tell MD++ how\n",
    "many solvent molecules you are using."
   ]
  },
  {
   "cell_type": "code",
   "execution_count": 16,
   "metadata": {
    "execution": {
     "iopub.execute_input": "2022-04-04T16:01:12.667835Z",
     "iopub.status.busy": "2022-04-04T16:01:12.667514Z",
     "iopub.status.idle": "2022-04-04T16:01:12.683519Z",
     "shell.execute_reply": "2022-04-04T16:01:12.682990Z"
    }
   },
   "outputs": [
    {
     "ename": "NameError",
     "evalue": "name 'emin_vac_imd_file' is not defined",
     "output_type": "error",
     "traceback": [
      "\u001b[0;31m---------------------------------------------------------------------------\u001b[0m",
      "\u001b[0;31mNameError\u001b[0m                                 Traceback (most recent call last)",
      "Input \u001b[0;32mIn [16]\u001b[0m, in \u001b[0;36m<cell line: 1>\u001b[0;34m()\u001b[0m\n\u001b[0;32m----> 1\u001b[0m help(\u001b[43memin_vac_imd_file\u001b[49m\u001b[38;5;241m.\u001b[39mSYSTEM)\n",
      "\u001b[0;31mNameError\u001b[0m: name 'emin_vac_imd_file' is not defined"
     ]
    }
   ],
   "source": [
    "help(emin_vac_imd_file.SYSTEM)"
   ]
  },
  {
   "cell_type": "code",
   "execution_count": 17,
   "metadata": {
    "execution": {
     "iopub.execute_input": "2022-04-04T16:01:12.686406Z",
     "iopub.status.busy": "2022-04-04T16:01:12.685972Z",
     "iopub.status.idle": "2022-04-04T16:01:12.700638Z",
     "shell.execute_reply": "2022-04-04T16:01:12.700162Z"
    }
   },
   "outputs": [
    {
     "ename": "NameError",
     "evalue": "name 'emin_vac_imd_file' is not defined",
     "output_type": "error",
     "traceback": [
      "\u001b[0;31m---------------------------------------------------------------------------\u001b[0m",
      "\u001b[0;31mNameError\u001b[0m                                 Traceback (most recent call last)",
      "Input \u001b[0;32mIn [17]\u001b[0m, in \u001b[0;36m<cell line: 1>\u001b[0;34m()\u001b[0m\n\u001b[0;32m----> 1\u001b[0m \u001b[43memin_vac_imd_file\u001b[49m\u001b[38;5;241m.\u001b[39mSYSTEM\n",
      "\u001b[0;31mNameError\u001b[0m: name 'emin_vac_imd_file' is not defined"
     ]
    }
   ],
   "source": [
    "emin_vac_imd_file.SYSTEM\n"
   ]
  },
  {
   "cell_type": "markdown",
   "metadata": {},
   "source": [
    "##### STEP Block\n",
    "\n",
    "The step block takes core of how long and with "
   ]
  },
  {
   "cell_type": "code",
   "execution_count": 18,
   "metadata": {
    "execution": {
     "iopub.execute_input": "2022-04-04T16:01:12.703370Z",
     "iopub.status.busy": "2022-04-04T16:01:12.702940Z",
     "iopub.status.idle": "2022-04-04T16:01:12.717678Z",
     "shell.execute_reply": "2022-04-04T16:01:12.717216Z"
    }
   },
   "outputs": [
    {
     "ename": "NameError",
     "evalue": "name 'emin_vac_imd_file' is not defined",
     "output_type": "error",
     "traceback": [
      "\u001b[0;31m---------------------------------------------------------------------------\u001b[0m",
      "\u001b[0;31mNameError\u001b[0m                                 Traceback (most recent call last)",
      "Input \u001b[0;32mIn [18]\u001b[0m, in \u001b[0;36m<cell line: 1>\u001b[0;34m()\u001b[0m\n\u001b[0;32m----> 1\u001b[0m help(\u001b[43memin_vac_imd_file\u001b[49m\u001b[38;5;241m.\u001b[39mSTEP)\n",
      "\u001b[0;31mNameError\u001b[0m: name 'emin_vac_imd_file' is not defined"
     ]
    }
   ],
   "source": [
    "help(emin_vac_imd_file.STEP)"
   ]
  },
  {
   "cell_type": "code",
   "execution_count": 19,
   "metadata": {
    "execution": {
     "iopub.execute_input": "2022-04-04T16:01:12.720386Z",
     "iopub.status.busy": "2022-04-04T16:01:12.719944Z",
     "iopub.status.idle": "2022-04-04T16:01:12.733804Z",
     "shell.execute_reply": "2022-04-04T16:01:12.733296Z"
    }
   },
   "outputs": [
    {
     "ename": "NameError",
     "evalue": "name 'emin_vac_imd_file' is not defined",
     "output_type": "error",
     "traceback": [
      "\u001b[0;31m---------------------------------------------------------------------------\u001b[0m",
      "\u001b[0;31mNameError\u001b[0m                                 Traceback (most recent call last)",
      "Input \u001b[0;32mIn [19]\u001b[0m, in \u001b[0;36m<cell line: 1>\u001b[0;34m()\u001b[0m\n\u001b[0;32m----> 1\u001b[0m \u001b[43memin_vac_imd_file\u001b[49m\u001b[38;5;241m.\u001b[39mSTEP\n",
      "\u001b[0;31mNameError\u001b[0m: name 'emin_vac_imd_file' is not defined"
     ]
    }
   ],
   "source": [
    "emin_vac_imd_file.STEP"
   ]
  },
  {
   "cell_type": "markdown",
   "metadata": {},
   "source": [
    "In the BOUNDCOND block you specify which periodic boundary conditions (PBC) you are going to use in the\n",
    "EM procedure. NTB = 0 defines a vacuum simulation: PBC are not applied. To indicate the truncated\n",
    "octahedron (t) PBC, NTB is set to -1, for rectangular (r) PBC NTB is 1, and for the triclinic (c) PBC NTB is\n",
    "2. NDFMIN defines the number of degrees of freedom subtracted from the total number of degrees of freedom\n",
    "for the calculation of the temperature.\n"
   ]
  },
  {
   "cell_type": "code",
   "execution_count": 20,
   "metadata": {
    "execution": {
     "iopub.execute_input": "2022-04-04T16:01:12.736867Z",
     "iopub.status.busy": "2022-04-04T16:01:12.736420Z",
     "iopub.status.idle": "2022-04-04T16:01:12.750501Z",
     "shell.execute_reply": "2022-04-04T16:01:12.750048Z"
    }
   },
   "outputs": [
    {
     "ename": "NameError",
     "evalue": "name 'emin_vac_imd_file' is not defined",
     "output_type": "error",
     "traceback": [
      "\u001b[0;31m---------------------------------------------------------------------------\u001b[0m",
      "\u001b[0;31mNameError\u001b[0m                                 Traceback (most recent call last)",
      "Input \u001b[0;32mIn [20]\u001b[0m, in \u001b[0;36m<cell line: 1>\u001b[0;34m()\u001b[0m\n\u001b[0;32m----> 1\u001b[0m help(\u001b[43memin_vac_imd_file\u001b[49m\u001b[38;5;241m.\u001b[39mBOUNDCOND)\n",
      "\u001b[0;31mNameError\u001b[0m: name 'emin_vac_imd_file' is not defined"
     ]
    }
   ],
   "source": [
    "help(emin_vac_imd_file.BOUNDCOND)"
   ]
  },
  {
   "cell_type": "code",
   "execution_count": 21,
   "metadata": {
    "execution": {
     "iopub.execute_input": "2022-04-04T16:01:12.753522Z",
     "iopub.status.busy": "2022-04-04T16:01:12.753062Z",
     "iopub.status.idle": "2022-04-04T16:01:12.767722Z",
     "shell.execute_reply": "2022-04-04T16:01:12.767232Z"
    }
   },
   "outputs": [
    {
     "ename": "NameError",
     "evalue": "name 'emin_vac_imd_file' is not defined",
     "output_type": "error",
     "traceback": [
      "\u001b[0;31m---------------------------------------------------------------------------\u001b[0m",
      "\u001b[0;31mNameError\u001b[0m                                 Traceback (most recent call last)",
      "Input \u001b[0;32mIn [21]\u001b[0m, in \u001b[0;36m<cell line: 1>\u001b[0;34m()\u001b[0m\n\u001b[0;32m----> 1\u001b[0m \u001b[43memin_vac_imd_file\u001b[49m\u001b[38;5;241m.\u001b[39mBOUNDCOND\n",
      "\u001b[0;31mNameError\u001b[0m: name 'emin_vac_imd_file' is not defined"
     ]
    }
   ],
   "source": [
    "emin_vac_imd_file.BOUNDCOND"
   ]
  },
  {
   "cell_type": "markdown",
   "metadata": {},
   "source": [
    "With the PRINTOUT block you can specify how often (every NTPRth step) you are printing out the energies\n",
    "to the output file."
   ]
  },
  {
   "cell_type": "code",
   "execution_count": 22,
   "metadata": {
    "execution": {
     "iopub.execute_input": "2022-04-04T16:01:12.771355Z",
     "iopub.status.busy": "2022-04-04T16:01:12.770294Z",
     "iopub.status.idle": "2022-04-04T16:01:12.785967Z",
     "shell.execute_reply": "2022-04-04T16:01:12.785496Z"
    }
   },
   "outputs": [
    {
     "ename": "NameError",
     "evalue": "name 'emin_vac_imd_file' is not defined",
     "output_type": "error",
     "traceback": [
      "\u001b[0;31m---------------------------------------------------------------------------\u001b[0m",
      "\u001b[0;31mNameError\u001b[0m                                 Traceback (most recent call last)",
      "Input \u001b[0;32mIn [22]\u001b[0m, in \u001b[0;36m<cell line: 1>\u001b[0;34m()\u001b[0m\n\u001b[0;32m----> 1\u001b[0m help(\u001b[43memin_vac_imd_file\u001b[49m\u001b[38;5;241m.\u001b[39mPRINTOUT)\n",
      "\u001b[0;31mNameError\u001b[0m: name 'emin_vac_imd_file' is not defined"
     ]
    }
   ],
   "source": [
    "help(emin_vac_imd_file.PRINTOUT)"
   ]
  },
  {
   "cell_type": "code",
   "execution_count": 23,
   "metadata": {
    "execution": {
     "iopub.execute_input": "2022-04-04T16:01:12.788653Z",
     "iopub.status.busy": "2022-04-04T16:01:12.788365Z",
     "iopub.status.idle": "2022-04-04T16:01:12.801366Z",
     "shell.execute_reply": "2022-04-04T16:01:12.800793Z"
    }
   },
   "outputs": [
    {
     "ename": "NameError",
     "evalue": "name 'emin_vac_imd_file' is not defined",
     "output_type": "error",
     "traceback": [
      "\u001b[0;31m---------------------------------------------------------------------------\u001b[0m",
      "\u001b[0;31mNameError\u001b[0m                                 Traceback (most recent call last)",
      "Input \u001b[0;32mIn [23]\u001b[0m, in \u001b[0;36m<cell line: 1>\u001b[0;34m()\u001b[0m\n\u001b[0;32m----> 1\u001b[0m \u001b[43memin_vac_imd_file\u001b[49m\u001b[38;5;241m.\u001b[39mPRINTOUT\n",
      "\u001b[0;31mNameError\u001b[0m: name 'emin_vac_imd_file' is not defined"
     ]
    }
   ],
   "source": [
    "emin_vac_imd_file.PRINTOUT"
   ]
  },
  {
   "cell_type": "markdown",
   "metadata": {},
   "source": [
    "Bonds vibrate at high frequencies (hν ≫ kBT ). Therefore, these vibrations are of quantum-mechanical\n",
    "nature. So constraining the bond lengths is a better approximation than treating them as classical harmonic\n",
    "oscillators. Constraining all bond lengths of the solute and solvent (NTC=3) allows the use of a rather large\n",
    "time step of 2 fs. In this example the constraints are imposed by the SHAKE algorithm for both solute\n",
    "(NTCP=1) and solvent (NTCS=1) with a tolerance of 0.0001. See 4-90 for more information."
   ]
  },
  {
   "cell_type": "code",
   "execution_count": 24,
   "metadata": {
    "execution": {
     "iopub.execute_input": "2022-04-04T16:01:12.804252Z",
     "iopub.status.busy": "2022-04-04T16:01:12.803959Z",
     "iopub.status.idle": "2022-04-04T16:01:12.817729Z",
     "shell.execute_reply": "2022-04-04T16:01:12.817248Z"
    }
   },
   "outputs": [
    {
     "ename": "NameError",
     "evalue": "name 'emin_vac_imd_file' is not defined",
     "output_type": "error",
     "traceback": [
      "\u001b[0;31m---------------------------------------------------------------------------\u001b[0m",
      "\u001b[0;31mNameError\u001b[0m                                 Traceback (most recent call last)",
      "Input \u001b[0;32mIn [24]\u001b[0m, in \u001b[0;36m<cell line: 1>\u001b[0;34m()\u001b[0m\n\u001b[0;32m----> 1\u001b[0m help(\u001b[43memin_vac_imd_file\u001b[49m\u001b[38;5;241m.\u001b[39mCONSTRAINT)\n",
      "\u001b[0;31mNameError\u001b[0m: name 'emin_vac_imd_file' is not defined"
     ]
    }
   ],
   "source": [
    "help(emin_vac_imd_file.CONSTRAINT)"
   ]
  },
  {
   "cell_type": "code",
   "execution_count": 25,
   "metadata": {
    "execution": {
     "iopub.execute_input": "2022-04-04T16:01:12.820280Z",
     "iopub.status.busy": "2022-04-04T16:01:12.819958Z",
     "iopub.status.idle": "2022-04-04T16:01:12.833929Z",
     "shell.execute_reply": "2022-04-04T16:01:12.833406Z"
    }
   },
   "outputs": [
    {
     "ename": "NameError",
     "evalue": "name 'emin_vac_imd_file' is not defined",
     "output_type": "error",
     "traceback": [
      "\u001b[0;31m---------------------------------------------------------------------------\u001b[0m",
      "\u001b[0;31mNameError\u001b[0m                                 Traceback (most recent call last)",
      "Input \u001b[0;32mIn [25]\u001b[0m, in \u001b[0;36m<cell line: 1>\u001b[0;34m()\u001b[0m\n\u001b[0;32m----> 1\u001b[0m \u001b[43memin_vac_imd_file\u001b[49m\u001b[38;5;241m.\u001b[39mCONSTRAINT\n",
      "\u001b[0;31mNameError\u001b[0m: name 'emin_vac_imd_file' is not defined"
     ]
    }
   ],
   "source": [
    "emin_vac_imd_file.CONSTRAINT"
   ]
  },
  {
   "cell_type": "markdown",
   "metadata": {},
   "source": [
    "In the FORCE block you tell MD++ which terms it should use for the energy and force calculation. For bond\n",
    "angles, improper dihedrals, torsional dihedrals and the non-bonded interactions the standard terms of the\n",
    "GROMOS force field are switched on (1). Because we are using bond-length constraints and the SHAKE\n",
    "algorithm, we have to switch off (0) the bond-stretching terms for the bonds involving hydrogen atoms and\n",
    "not involving hydrogen atoms..\n",
    "In the last line of this block, the energy groups are defined. In general, we define one or more energy\n",
    "groups for every molecule, and one comprising all the solvent molecules. The first integer is the number of\n",
    "energy groups we want to use (in the present case we only have one energy group). The following numbers\n",
    "are the atom sequence numbers of the last atom of each energy group. By defining these energy groups we\n",
    "7-9\n",
    "tell MD++ to sum up the energies between the atoms within these groups and calculate the inter-group\n",
    "energies, which can be very useful."
   ]
  },
  {
   "cell_type": "code",
   "execution_count": 26,
   "metadata": {
    "execution": {
     "iopub.execute_input": "2022-04-04T16:01:12.837055Z",
     "iopub.status.busy": "2022-04-04T16:01:12.836785Z",
     "iopub.status.idle": "2022-04-04T16:01:12.850881Z",
     "shell.execute_reply": "2022-04-04T16:01:12.850354Z"
    }
   },
   "outputs": [
    {
     "ename": "NameError",
     "evalue": "name 'emin_vac_imd_file' is not defined",
     "output_type": "error",
     "traceback": [
      "\u001b[0;31m---------------------------------------------------------------------------\u001b[0m",
      "\u001b[0;31mNameError\u001b[0m                                 Traceback (most recent call last)",
      "Input \u001b[0;32mIn [26]\u001b[0m, in \u001b[0;36m<cell line: 1>\u001b[0;34m()\u001b[0m\n\u001b[0;32m----> 1\u001b[0m \u001b[43memin_vac_imd_file\u001b[49m\u001b[38;5;241m.\u001b[39mFORCE\n",
      "\u001b[0;31mNameError\u001b[0m: name 'emin_vac_imd_file' is not defined"
     ]
    }
   ],
   "source": [
    "emin_vac_imd_file.FORCE"
   ]
  },
  {
   "cell_type": "markdown",
   "metadata": {},
   "source": [
    "In the PAIRLIST block you specify which algorithm you will use for the pairlist generation. The cut-off used\n",
    "in the short-range pairlist construction is given by RCUTP and for GROMOS it is usually 0.8 nm. The cut-off\n",
    "used in the long-range interactions is given by RCUTL and for GROMOS it is usually 1.4 nm. The pairlist is\n",
    "generated every 5th (NSNB) step. TYPE specifies the type of the cut-off, whether it is based on the distance\n",
    "between charge-groups (0) or on the distance between atoms (1).\n",
    "\n",
    "***\n",
    "**Warning**: Think very carefully about the definition of energy groups before running the simulation. Energies\n",
    "of energy groups can not be calculated from the trajectories in an efficient way. So, changing an energy-group\n",
    "definition will result in rerunning the simulation.\n",
    "***\n"
   ]
  },
  {
   "cell_type": "code",
   "execution_count": 27,
   "metadata": {
    "execution": {
     "iopub.execute_input": "2022-04-04T16:01:12.853661Z",
     "iopub.status.busy": "2022-04-04T16:01:12.853301Z",
     "iopub.status.idle": "2022-04-04T16:01:12.868174Z",
     "shell.execute_reply": "2022-04-04T16:01:12.867672Z"
    }
   },
   "outputs": [
    {
     "ename": "NameError",
     "evalue": "name 'emin_vac_imd_file' is not defined",
     "output_type": "error",
     "traceback": [
      "\u001b[0;31m---------------------------------------------------------------------------\u001b[0m",
      "\u001b[0;31mNameError\u001b[0m                                 Traceback (most recent call last)",
      "Input \u001b[0;32mIn [27]\u001b[0m, in \u001b[0;36m<cell line: 1>\u001b[0;34m()\u001b[0m\n\u001b[0;32m----> 1\u001b[0m help(\u001b[43memin_vac_imd_file\u001b[49m\u001b[38;5;241m.\u001b[39mPAIRLIST)\n",
      "\u001b[0;31mNameError\u001b[0m: name 'emin_vac_imd_file' is not defined"
     ]
    }
   ],
   "source": [
    "help(emin_vac_imd_file.PAIRLIST)"
   ]
  },
  {
   "cell_type": "code",
   "execution_count": 28,
   "metadata": {
    "execution": {
     "iopub.execute_input": "2022-04-04T16:01:12.870767Z",
     "iopub.status.busy": "2022-04-04T16:01:12.870470Z",
     "iopub.status.idle": "2022-04-04T16:01:12.884894Z",
     "shell.execute_reply": "2022-04-04T16:01:12.884410Z"
    }
   },
   "outputs": [
    {
     "ename": "NameError",
     "evalue": "name 'emin_vac_imd_file' is not defined",
     "output_type": "error",
     "traceback": [
      "\u001b[0;31m---------------------------------------------------------------------------\u001b[0m",
      "\u001b[0;31mNameError\u001b[0m                                 Traceback (most recent call last)",
      "Input \u001b[0;32mIn [28]\u001b[0m, in \u001b[0;36m<cell line: 1>\u001b[0;34m()\u001b[0m\n\u001b[0;32m----> 1\u001b[0m \u001b[43memin_vac_imd_file\u001b[49m\u001b[38;5;241m.\u001b[39mPAIRLIST\n",
      "\u001b[0;31mNameError\u001b[0m: name 'emin_vac_imd_file' is not defined"
     ]
    }
   ],
   "source": [
    "emin_vac_imd_file.PAIRLIST"
   ]
  },
  {
   "cell_type": "markdown",
   "metadata": {},
   "source": [
    "In the NONBONDED block you specify using NLRELE which method for the evaluation of long-range electrostatic\n",
    "interactions is used. Since you will use the reaction-field method, the value of NLRELE should be equal to\n",
    "1. The long-range electrostatic interactions are truncated beyond a certain cutoff (RCUTL in the PAIRLIST\n",
    "block). Beyond the reaction-field cut-off radius (RCRF) the electrostatic interactions are replaced by a static\n",
    "reaction field with a dielectric permittivity of EPSRF. RCRF and RCUTL should be identical. Because we are\n",
    "doing the energy minimisation in vacuo EPSRF is set to 1. With NSLFEXCL equal to 1, you include the\n",
    "contributions of excluded atoms to the electrostatic energy. The ionic strength of the continuum is set to 0\n",
    "(APPAK). All other switches are not used for the reaction-field method. See 4-98 for more information.\n"
   ]
  },
  {
   "cell_type": "code",
   "execution_count": 29,
   "metadata": {
    "execution": {
     "iopub.execute_input": "2022-04-04T16:01:12.887335Z",
     "iopub.status.busy": "2022-04-04T16:01:12.887093Z",
     "iopub.status.idle": "2022-04-04T16:01:12.901010Z",
     "shell.execute_reply": "2022-04-04T16:01:12.900530Z"
    }
   },
   "outputs": [
    {
     "ename": "NameError",
     "evalue": "name 'emin_vac_imd_file' is not defined",
     "output_type": "error",
     "traceback": [
      "\u001b[0;31m---------------------------------------------------------------------------\u001b[0m",
      "\u001b[0;31mNameError\u001b[0m                                 Traceback (most recent call last)",
      "Input \u001b[0;32mIn [29]\u001b[0m, in \u001b[0;36m<cell line: 1>\u001b[0;34m()\u001b[0m\n\u001b[0;32m----> 1\u001b[0m help(\u001b[43memin_vac_imd_file\u001b[49m\u001b[38;5;241m.\u001b[39mNONBONDED)\n",
      "\u001b[0;31mNameError\u001b[0m: name 'emin_vac_imd_file' is not defined"
     ]
    }
   ],
   "source": [
    "help(emin_vac_imd_file.NONBONDED)"
   ]
  },
  {
   "cell_type": "code",
   "execution_count": 30,
   "metadata": {
    "execution": {
     "iopub.execute_input": "2022-04-04T16:01:12.904453Z",
     "iopub.status.busy": "2022-04-04T16:01:12.903427Z",
     "iopub.status.idle": "2022-04-04T16:01:12.918808Z",
     "shell.execute_reply": "2022-04-04T16:01:12.918318Z"
    }
   },
   "outputs": [
    {
     "ename": "NameError",
     "evalue": "name 'emin_vac_imd_file' is not defined",
     "output_type": "error",
     "traceback": [
      "\u001b[0;31m---------------------------------------------------------------------------\u001b[0m",
      "\u001b[0;31mNameError\u001b[0m                                 Traceback (most recent call last)",
      "Input \u001b[0;32mIn [30]\u001b[0m, in \u001b[0;36m<cell line: 1>\u001b[0;34m()\u001b[0m\n\u001b[0;32m----> 1\u001b[0m \u001b[43memin_vac_imd_file\u001b[49m\u001b[38;5;241m.\u001b[39mNONBONDED\n",
      "\u001b[0;31mNameError\u001b[0m: name 'emin_vac_imd_file' is not defined"
     ]
    }
   ],
   "source": [
    "emin_vac_imd_file.NONBONDED"
   ]
  },
  {
   "cell_type": "markdown",
   "metadata": {},
   "source": [
    "#### Perform Emin\n",
    "In order to run the MD++ program, a shell script needs to be prepared. Open the shell script em peptide.\n",
    "run and adapt the paths and the names of the files according to your system.\n"
   ]
  },
  {
   "cell_type": "code",
   "execution_count": 31,
   "metadata": {
    "execution": {
     "iopub.execute_input": "2022-04-04T16:01:12.921302Z",
     "iopub.status.busy": "2022-04-04T16:01:12.920855Z",
     "iopub.status.idle": "2022-04-04T16:01:12.967833Z",
     "shell.execute_reply": "2022-04-04T16:01:12.967202Z"
    }
   },
   "outputs": [
    {
     "ename": "NameError",
     "evalue": "name 'emin_vac_imd_file' is not defined",
     "output_type": "error",
     "traceback": [
      "\u001b[0;31m---------------------------------------------------------------------------\u001b[0m",
      "\u001b[0;31mNameError\u001b[0m                                 Traceback (most recent call last)",
      "Input \u001b[0;32mIn [31]\u001b[0m, in \u001b[0;36m<cell line: 9>\u001b[0;34m()\u001b[0m\n\u001b[1;32m      7\u001b[0m in_emin_system\u001b[38;5;241m.\u001b[39mwork_folder \u001b[38;5;241m=\u001b[39m project_dir\n\u001b[1;32m      8\u001b[0m in_emin_system\u001b[38;5;241m.\u001b[39m_gromosXX_bin_dir \u001b[38;5;241m=\u001b[39m gromosXX_bin\n\u001b[0;32m----> 9\u001b[0m in_emin_system\u001b[38;5;241m.\u001b[39mimd \u001b[38;5;241m=\u001b[39m \u001b[43memin_vac_imd_file\u001b[49m \u001b[38;5;66;03m# This step is not necessary, as we did this before\u001b[39;00m\n\u001b[1;32m     11\u001b[0m \u001b[38;5;28;01mfrom\u001b[39;00m \u001b[38;5;21;01mpygromos\u001b[39;00m\u001b[38;5;21;01m.\u001b[39;00m\u001b[38;5;21;01mfiles\u001b[39;00m\u001b[38;5;21;01m.\u001b[39;00m\u001b[38;5;21;01mblocks\u001b[39;00m\u001b[38;5;21;01m.\u001b[39;00m\u001b[38;5;21;01mimd_blocks\u001b[39;00m \u001b[38;5;28;01mimport\u001b[39;00m WRITETRAJ\n\u001b[1;32m     12\u001b[0m in_emin_system\u001b[38;5;241m.\u001b[39mimd\u001b[38;5;241m.\u001b[39madd_block(block\u001b[38;5;241m=\u001b[39mWRITETRAJ(NTWE\u001b[38;5;241m=\u001b[39m\u001b[38;5;241m25\u001b[39m, NTWX\u001b[38;5;241m=\u001b[39m\u001b[38;5;241m25\u001b[39m))\n",
      "\u001b[0;31mNameError\u001b[0m: name 'emin_vac_imd_file' is not defined"
     ]
    }
   ],
   "source": [
    "from pygromos.simulations.modules.preset_simulation_modules import emin\n",
    "\n",
    "out_prefix = \"emin_vacuum\"\n",
    "\n",
    "## Preparing emin gromos system\n",
    "in_emin_system = build_system.copy()\n",
    "in_emin_system.work_folder = project_dir\n",
    "in_emin_system._gromosXX_bin_dir = gromosXX_bin\n",
    "in_emin_system.imd = emin_vac_imd_file # This step is not necessary, as we did this before\n",
    "\n",
    "from pygromos.files.blocks.imd_blocks import WRITETRAJ\n",
    "in_emin_system.imd.add_block(block=WRITETRAJ(NTWE=25, NTWX=25))\n",
    "\n",
    "in_emin_system.prepare_for_simulation()\n",
    "\n",
    "in_emin_system"
   ]
  },
  {
   "cell_type": "code",
   "execution_count": 32,
   "metadata": {
    "execution": {
     "iopub.execute_input": "2022-04-04T16:01:12.971668Z",
     "iopub.status.busy": "2022-04-04T16:01:12.970589Z",
     "iopub.status.idle": "2022-04-04T16:01:14.810075Z",
     "shell.execute_reply": "2022-04-04T16:01:14.809029Z"
    }
   },
   "outputs": [
    {
     "name": "stdout",
     "output_type": "stream",
     "text": [
      "################################################################################\n",
      "\n",
      "b_emin_vacuum\n",
      "################################################################################\n",
      "\n",
      "Script:  /home/runner/work/PyGromosTools/PyGromosTools/pygromos/simulations/hpc_queuing/job_scheduling/schedulers/simulation_scheduler.py\n",
      "\n",
      "################################################################################\n",
      "Simulation Setup:\n",
      "################################################################################\n",
      "\n",
      "steps_per_run:  3000\n",
      "equis:  0\n",
      "simulation runs:  1\n"
     ]
    },
    {
     "name": "stdout",
     "output_type": "stream",
     "text": [
      "#####################################################################################\n",
      "\t\tERROR in Submission\n",
      "#####################################################################################\n"
     ]
    },
    {
     "name": "stderr",
     "output_type": "stream",
     "text": [
      "Traceback (most recent call last):\n",
      "  File \"/home/runner/work/PyGromosTools/PyGromosTools/pygromos/simulations/hpc_queuing/submission_systems/local.py\", line 71, in submit_to_queue\n",
      "    process = bash.execute(command=command, catch_STD=True, env=self.environment)\n",
      "  File \"/home/runner/work/PyGromosTools/PyGromosTools/pygromos/utils/bash.py\", line 935, in execute\n",
      "    return execute_subprocess(command=command, verbose=verbose, catch_STD=catch_STD, env=env)\n",
      "  File \"/home/runner/work/PyGromosTools/PyGromosTools/pygromos/utils/bash.py\", line 829, in execute_subprocess\n",
      "    raise ChildProcessError(msg)\n",
      "ChildProcessError: SubProcess Failed due to returncode: 1\n",
      " COMMAND: \n",
      "\t/home/runner/work/PyGromosTools/PyGromosTools/examples/example_files/Tutorial_System/b_emin_vacuum/simulation/b_emin_vacuum_1/job_b_emin_vacuum_1.sh\n",
      "STDOUT:\n",
      "\tb'Could not find TMPDIR!\\n'\n",
      "\tb' Switched to outdir for work\\n'\n",
      "\tb'workDIR: /home/runner/work/PyGromosTools/PyGromosTools/examples/example_files/Tutorial_System/b_emin_vacuum/simulation/b_emin_vacuum_1\\n'\n",
      "\tb\"input:  <class 'str'> /home/bschroed/Documents/projects/gromosXX/gromosXX/build/bin/\\n\"\n",
      "\tb\"gromosXX._bin:  <class 'str'> /home/bschroed/Documents/projects/gromosXX/gromosXX/build/bin/\\n\"\n",
      "\tb\"gromosXX.bin:  <class 'str'> /home/bschroed/Documents/projects/gromosXX/gromosXX/build/bin/\\n\"\n",
      "\tb'________________________________________\\n'\n",
      "\tb'\\n'\n",
      "\tb' start MD b_emin_vacuum_1.imd\\n'\n",
      "\tb'\\n'\n",
      "\tb'COMMAND:  export OMP_NUM_THREADS=1  &&  /home/bschroed/Documents/projects/gromosXX/gromosXX/build/bin/md @topo /home/runner/work/PyGromosTools/PyGromosTools/examples/example_files/Tutorial_System/b_emin_vacuum/input/b_emin_vacuum.top @conf /home/runner/work/PyGromosTools/PyGromosTools/examples/example_files/Tutorial_System/b_emin_vacuum/input/b_emin_vacuum.cnf @input /home/runner/work/PyGromosTools/PyGromosTools/examples/example_files/Tutorial_System/b_emin_vacuum/simulation/b_emin_vacuum_1/b_emin_vacuum_1.imd @fin b_emin_vacuum_1.cnf > b_emin_vacuum_1.omd\\n'\n",
      "\tb'\\n'\n",
      "\tb'Failed! process returned: \\n'\n",
      "\tb' Err: \\n'\n",
      "\tb'SubProcess Failed due to returncode: 127\\n'\n",
      "\tb' COMMAND: \\n'\n",
      "\tb'\\texport OMP_NUM_THREADS=1  &&  /home/bschroed/Documents/projects/gromosXX/gromosXX/build/bin/md @topo /home/runner/work/PyGromosTools/PyGromosTools/examples/example_files/Tutorial_System/b_emin_vacuum/input/b_emin_vacuum.top @conf /home/runner/work/PyGromosTools/PyGromosTools/examples/example_files/Tutorial_System/b_emin_vacuum/input/b_emin_vacuum.cnf @input /home/runner/work/PyGromosTools/PyGromosTools/examples/example_files/Tutorial_System/b_emin_vacuum/simulation/b_emin_vacuum_1/b_emin_vacuum_1.imd @fin b_emin_vacuum_1.cnf > b_emin_vacuum_1.omd\\n'\n",
      "\tb'\\n'\n",
      "\tb'STDOUT:\\n'\n",
      "\tb'\\t\\n'\n",
      "\tb'STDERR:\\n'\n",
      "\tb\"\\tb'/bin/sh: 1: /home/bschroed/Documents/projects/gromosXX/gromosXX/build/bin/md: not found\\\\n'\\n\"\n",
      "\tb'GROMOS OUTPUT:\\n'\n",
      "STDERR:\n",
      "\tb'Traceback (most recent call last):\\n'\n",
      "\tb'  File \"/home/runner/work/PyGromosTools/PyGromosTools/pygromos/simulations/hpc_queuing/job_scheduling/workers/simulation_workers/simulation_run_worker.py\", line 202, in work\\n'\n",
      "\tb'    omd_file_path = gromosXX.md_run(\\n'\n",
      "\tb'  File \"/home/runner/work/PyGromosTools/PyGromosTools/pygromos/gromos/_gromosClass.py\", line 78, in convert_pyGromos_types\\n'\n",
      "\tb'    return func(self, *nargs, **kwargs)\\n'\n",
      "\tb'  File \"/home/runner/work/PyGromosTools/PyGromosTools/pygromos/gromos/gromosXX.py\", line 215, in md_run\\n'\n",
      "\tb'    process = bash.execute(command_text)\\n'\n",
      "\tb'  File \"/home/runner/work/PyGromosTools/PyGromosTools/pygromos/utils/bash.py\", line 935, in execute\\n'\n",
      "\tb'    return execute_subprocess(command=command, verbose=verbose, catch_STD=catch_STD, env=env)\\n'\n",
      "\tb'  File \"/home/runner/work/PyGromosTools/PyGromosTools/pygromos/utils/bash.py\", line 829, in execute_subprocess\\n'\n",
      "\tb'    raise ChildProcessError(msg)\\n'\n",
      "\tb'ChildProcessError: SubProcess Failed due to returncode: 127\\n'\n",
      "\tb' COMMAND: \\n'\n",
      "\tb'\\texport OMP_NUM_THREADS=1  &&  /home/bschroed/Documents/projects/gromosXX/gromosXX/build/bin/md @topo /home/runner/work/PyGromosTools/PyGromosTools/examples/example_files/Tutorial_System/b_emin_vacuum/input/b_emin_vacuum.top @conf /home/runner/work/PyGromosTools/PyGromosTools/examples/example_files/Tutorial_System/b_emin_vacuum/input/b_emin_vacuum.cnf @input /home/runner/work/PyGromosTools/PyGromosTools/examples/example_files/Tutorial_System/b_emin_vacuum/simulation/b_emin_vacuum_1/b_emin_vacuum_1.imd @fin b_emin_vacuum_1.cnf > b_emin_vacuum_1.omd\\n'\n",
      "\tb'\\n'\n",
      "\tb'STDOUT:\\n'\n",
      "\tb'\\t\\n'\n",
      "\tb'STDERR:\\n'\n",
      "\tb\"\\tb'/bin/sh: 1: /home/bschroed/Documents/projects/gromosXX/gromosXX/build/bin/md: not found\\\\n'\\n\"\n",
      "\tb'\\n'\n",
      "\tb'Failed during simulations: \\n'\n",
      "\tb\"<class 'ChildProcessError'>\\n\"\n",
      "\tb'(\"SubProcess Failed due to returncode: 127\\\\n COMMAND: \\\\n\\\\texport OMP_NUM_THREADS=1  &&  /home/bschroed/Documents/projects/gromosXX/gromosXX/build/bin/md @topo /home/runner/work/PyGromosTools/PyGromosTools/examples/example_files/Tutorial_System/b_emin_vacuum/input/b_emin_vacuum.top @conf /home/runner/work/PyGromosTools/PyGromosTools/examples/example_files/Tutorial_System/b_emin_vacuum/input/b_emin_vacuum.cnf @input /home/runner/work/PyGromosTools/PyGromosTools/examples/example_files/Tutorial_System/b_emin_vacuum/simulation/b_emin_vacuum_1/b_emin_vacuum_1.imd @fin b_emin_vacuum_1.cnf > b_emin_vacuum_1.omd\\\\n\\\\nSTDOUT:\\\\n\\\\t\\\\nSTDERR:\\\\n\\\\tb\\'/bin/sh: 1: /home/bschroed/Documents/projects/gromosXX/gromosXX/build/bin/md: not found\\\\\\\\n\\'\",)\\n'\n",
      "\n",
      "During handling of the above exception, another exception occurred:\n",
      "\n",
      "Traceback (most recent call last):\n",
      "  File \"/home/runner/work/PyGromosTools/PyGromosTools/pygromos/simulations/hpc_queuing/job_scheduling/schedulers/simulation_scheduler.py\", line 188, in do\n",
      "    previous_job_ID, tmp_jobname, in_simSystem = chain_submission(\n",
      "  File \"/home/runner/work/PyGromosTools/PyGromosTools/pygromos/simulations/hpc_queuing/job_scheduling/schedulers/scheduler_functions.py\", line 308, in chain_submission\n",
      "    previous_job_ID = job_submission_system.submit_to_queue(sub_job)\n",
      "  File \"/home/runner/work/PyGromosTools/PyGromosTools/pygromos/simulations/hpc_queuing/submission_systems/local.py\", line 84, in submit_to_queue\n",
      "    print(process)\n",
      "UnboundLocalError: local variable 'process' referenced before assignment\n",
      "Traceback (most recent call last):\n",
      "  File \"/home/runner/work/PyGromosTools/PyGromosTools/pygromos/simulations/hpc_queuing/submission_systems/local.py\", line 71, in submit_to_queue\n",
      "    process = bash.execute(command=command, catch_STD=True, env=self.environment)\n",
      "  File \"/home/runner/work/PyGromosTools/PyGromosTools/pygromos/utils/bash.py\", line 935, in execute\n",
      "    return execute_subprocess(command=command, verbose=verbose, catch_STD=catch_STD, env=env)\n",
      "  File \"/home/runner/work/PyGromosTools/PyGromosTools/pygromos/utils/bash.py\", line 829, in execute_subprocess\n",
      "    raise ChildProcessError(msg)\n",
      "ChildProcessError: SubProcess Failed due to returncode: 1\n",
      " COMMAND: \n",
      "\t/home/runner/work/PyGromosTools/PyGromosTools/examples/example_files/Tutorial_System/b_emin_vacuum/simulation/b_emin_vacuum_1/job_b_emin_vacuum_1.sh\n",
      "STDOUT:\n",
      "\tb'Could not find TMPDIR!\\n'\n",
      "\tb' Switched to outdir for work\\n'\n",
      "\tb'workDIR: /home/runner/work/PyGromosTools/PyGromosTools/examples/example_files/Tutorial_System/b_emin_vacuum/simulation/b_emin_vacuum_1\\n'\n",
      "\tb\"input:  <class 'str'> /home/bschroed/Documents/projects/gromosXX/gromosXX/build/bin/\\n\"\n",
      "\tb\"gromosXX._bin:  <class 'str'> /home/bschroed/Documents/projects/gromosXX/gromosXX/build/bin/\\n\"\n",
      "\tb\"gromosXX.bin:  <class 'str'> /home/bschroed/Documents/projects/gromosXX/gromosXX/build/bin/\\n\"\n",
      "\tb'________________________________________\\n'\n",
      "\tb'\\n'\n",
      "\tb' start MD b_emin_vacuum_1.imd\\n'\n",
      "\tb'\\n'\n",
      "\tb'COMMAND:  export OMP_NUM_THREADS=1  &&  /home/bschroed/Documents/projects/gromosXX/gromosXX/build/bin/md @topo /home/runner/work/PyGromosTools/PyGromosTools/examples/example_files/Tutorial_System/b_emin_vacuum/input/b_emin_vacuum.top @conf /home/runner/work/PyGromosTools/PyGromosTools/examples/example_files/Tutorial_System/b_emin_vacuum/input/b_emin_vacuum.cnf @input /home/runner/work/PyGromosTools/PyGromosTools/examples/example_files/Tutorial_System/b_emin_vacuum/simulation/b_emin_vacuum_1/b_emin_vacuum_1.imd @fin b_emin_vacuum_1.cnf > b_emin_vacuum_1.omd\\n'\n",
      "\tb'\\n'\n",
      "\tb'Failed! process returned: \\n'\n",
      "\tb' Err: \\n'\n",
      "\tb'SubProcess Failed due to returncode: 127\\n'\n",
      "\tb' COMMAND: \\n'\n",
      "\tb'\\texport OMP_NUM_THREADS=1  &&  /home/bschroed/Documents/projects/gromosXX/gromosXX/build/bin/md @topo /home/runner/work/PyGromosTools/PyGromosTools/examples/example_files/Tutorial_System/b_emin_vacuum/input/b_emin_vacuum.top @conf /home/runner/work/PyGromosTools/PyGromosTools/examples/example_files/Tutorial_System/b_emin_vacuum/input/b_emin_vacuum.cnf @input /home/runner/work/PyGromosTools/PyGromosTools/examples/example_files/Tutorial_System/b_emin_vacuum/simulation/b_emin_vacuum_1/b_emin_vacuum_1.imd @fin b_emin_vacuum_1.cnf > b_emin_vacuum_1.omd\\n'\n",
      "\tb'\\n'\n",
      "\tb'STDOUT:\\n'\n",
      "\tb'\\t\\n'\n",
      "\tb'STDERR:\\n'\n",
      "\tb\"\\tb'/bin/sh: 1: /home/bschroed/Documents/projects/gromosXX/gromosXX/build/bin/md: not found\\\\n'\\n\"\n",
      "\tb'GROMOS OUTPUT:\\n'\n",
      "STDERR:\n",
      "\tb'Traceback (most recent call last):\\n'\n",
      "\tb'  File \"/home/runner/work/PyGromosTools/PyGromosTools/pygromos/simulations/hpc_queuing/job_scheduling/workers/simulation_workers/simulation_run_worker.py\", line 202, in work\\n'\n",
      "\tb'    omd_file_path = gromosXX.md_run(\\n'\n",
      "\tb'  File \"/home/runner/work/PyGromosTools/PyGromosTools/pygromos/gromos/_gromosClass.py\", line 78, in convert_pyGromos_types\\n'\n",
      "\tb'    return func(self, *nargs, **kwargs)\\n'\n",
      "\tb'  File \"/home/runner/work/PyGromosTools/PyGromosTools/pygromos/gromos/gromosXX.py\", line 215, in md_run\\n'\n",
      "\tb'    process = bash.execute(command_text)\\n'\n",
      "\tb'  File \"/home/runner/work/PyGromosTools/PyGromosTools/pygromos/utils/bash.py\", line 935, in execute\\n'\n",
      "\tb'    return execute_subprocess(command=command, verbose=verbose, catch_STD=catch_STD, env=env)\\n'\n",
      "\tb'  File \"/home/runner/work/PyGromosTools/PyGromosTools/pygromos/utils/bash.py\", line 829, in execute_subprocess\\n'\n",
      "\tb'    raise ChildProcessError(msg)\\n'\n",
      "\tb'ChildProcessError: SubProcess Failed due to returncode: 127\\n'\n",
      "\tb' COMMAND: \\n'\n",
      "\tb'\\texport OMP_NUM_THREADS=1  &&  /home/bschroed/Documents/projects/gromosXX/gromosXX/build/bin/md @topo /home/runner/work/PyGromosTools/PyGromosTools/examples/example_files/Tutorial_System/b_emin_vacuum/input/b_emin_vacuum.top @conf /home/runner/work/PyGromosTools/PyGromosTools/examples/example_files/Tutorial_System/b_emin_vacuum/input/b_emin_vacuum.cnf @input /home/runner/work/PyGromosTools/PyGromosTools/examples/example_files/Tutorial_System/b_emin_vacuum/simulation/b_emin_vacuum_1/b_emin_vacuum_1.imd @fin b_emin_vacuum_1.cnf > b_emin_vacuum_1.omd\\n'\n",
      "\tb'\\n'\n",
      "\tb'STDOUT:\\n'\n",
      "\tb'\\t\\n'\n",
      "\tb'STDERR:\\n'\n",
      "\tb\"\\tb'/bin/sh: 1: /home/bschroed/Documents/projects/gromosXX/gromosXX/build/bin/md: not found\\\\n'\\n\"\n",
      "\tb'\\n'\n",
      "\tb'Failed during simulations: \\n'\n",
      "\tb\"<class 'ChildProcessError'>\\n\"\n",
      "\tb'(\"SubProcess Failed due to returncode: 127\\\\n COMMAND: \\\\n\\\\texport OMP_NUM_THREADS=1  &&  /home/bschroed/Documents/projects/gromosXX/gromosXX/build/bin/md @topo /home/runner/work/PyGromosTools/PyGromosTools/examples/example_files/Tutorial_System/b_emin_vacuum/input/b_emin_vacuum.top @conf /home/runner/work/PyGromosTools/PyGromosTools/examples/example_files/Tutorial_System/b_emin_vacuum/input/b_emin_vacuum.cnf @input /home/runner/work/PyGromosTools/PyGromosTools/examples/example_files/Tutorial_System/b_emin_vacuum/simulation/b_emin_vacuum_1/b_emin_vacuum_1.imd @fin b_emin_vacuum_1.cnf > b_emin_vacuum_1.omd\\\\n\\\\nSTDOUT:\\\\n\\\\t\\\\nSTDERR:\\\\n\\\\tb\\'/bin/sh: 1: /home/bschroed/Documents/projects/gromosXX/gromosXX/build/bin/md: not found\\\\\\\\n\\'\",)\\n'\n",
      "\n",
      "During handling of the above exception, another exception occurred:\n",
      "\n",
      "Traceback (most recent call last):\n",
      "  File \"/home/runner/work/PyGromosTools/PyGromosTools/pygromos/simulations/hpc_queuing/job_scheduling/schedulers/simulation_scheduler.py\", line 188, in do\n",
      "    previous_job_ID, tmp_jobname, in_simSystem = chain_submission(\n",
      "  File \"/home/runner/work/PyGromosTools/PyGromosTools/pygromos/simulations/hpc_queuing/job_scheduling/schedulers/scheduler_functions.py\", line 308, in chain_submission\n",
      "    previous_job_ID = job_submission_system.submit_to_queue(sub_job)\n",
      "  File \"/home/runner/work/PyGromosTools/PyGromosTools/pygromos/simulations/hpc_queuing/submission_systems/local.py\", line 84, in submit_to_queue\n",
      "    print(process)\n",
      "UnboundLocalError: local variable 'process' referenced before assignment\n",
      "\n",
      "The above exception was the direct cause of the following exception:\n",
      "\n",
      "Traceback (most recent call last):\n",
      "  File \"/home/runner/work/PyGromosTools/PyGromosTools/pygromos/simulations/modules/general_simulation_modules.py\", line 208, in simulation\n",
      "    last_jobID = simulation_scheduler.do(**MD_job_vars)\n",
      "  File \"/home/runner/work/PyGromosTools/PyGromosTools/pygromos/simulations/hpc_queuing/job_scheduling/schedulers/simulation_scheduler.py\", line 234, in do\n",
      "    raise IOError(\"ERROR in SUBMISSION!\") from err\n",
      "OSError: ERROR in SUBMISSION!\n"
     ]
    },
    {
     "ename": "Exception",
     "evalue": "Could not submit the commands\n\tERROR in SUBMISSION!",
     "output_type": "error",
     "traceback": [
      "\u001b[0;31m---------------------------------------------------------------------------\u001b[0m",
      "\u001b[0;31mChildProcessError\u001b[0m                         Traceback (most recent call last)",
      "File \u001b[0;32m~/work/PyGromosTools/PyGromosTools/pygromos/simulations/hpc_queuing/submission_systems/local.py:71\u001b[0m, in \u001b[0;36mLOCAL.submit_to_queue\u001b[0;34m(self, sub_job)\u001b[0m\n\u001b[1;32m     70\u001b[0m \u001b[38;5;28;01mtry\u001b[39;00m:\n\u001b[0;32m---> 71\u001b[0m     process \u001b[38;5;241m=\u001b[39m \u001b[43mbash\u001b[49m\u001b[38;5;241;43m.\u001b[39;49m\u001b[43mexecute\u001b[49m\u001b[43m(\u001b[49m\u001b[43mcommand\u001b[49m\u001b[38;5;241;43m=\u001b[39;49m\u001b[43mcommand\u001b[49m\u001b[43m,\u001b[49m\u001b[43m \u001b[49m\u001b[43mcatch_STD\u001b[49m\u001b[38;5;241;43m=\u001b[39;49m\u001b[38;5;28;43;01mTrue\u001b[39;49;00m\u001b[43m,\u001b[49m\u001b[43m \u001b[49m\u001b[43menv\u001b[49m\u001b[38;5;241;43m=\u001b[39;49m\u001b[38;5;28;43mself\u001b[39;49m\u001b[38;5;241;43m.\u001b[39;49m\u001b[43menvironment\u001b[49m\u001b[43m)\u001b[49m\n\u001b[1;32m     72\u001b[0m     std_out_buff \u001b[38;5;241m=\u001b[39m \u001b[38;5;28mmap\u001b[39m(\u001b[38;5;28mstr\u001b[39m, process\u001b[38;5;241m.\u001b[39mstdout\u001b[38;5;241m.\u001b[39mreadlines())\n",
      "File \u001b[0;32m~/work/PyGromosTools/PyGromosTools/pygromos/utils/bash.py:935\u001b[0m, in \u001b[0;36mexecute\u001b[0;34m(command, verbose, catch_STD, env)\u001b[0m\n\u001b[1;32m    932\u001b[0m \u001b[38;5;28;01mdef\u001b[39;00m \u001b[38;5;21mexecute\u001b[39m(\n\u001b[1;32m    933\u001b[0m     command: Union[\u001b[38;5;28mstr\u001b[39m, List[\u001b[38;5;28mstr\u001b[39m]], verbose: \u001b[38;5;28mbool\u001b[39m \u001b[38;5;241m=\u001b[39m \u001b[38;5;28;01mFalse\u001b[39;00m, catch_STD: Union[\u001b[38;5;28mbool\u001b[39m, \u001b[38;5;28mstr\u001b[39m] \u001b[38;5;241m=\u001b[39m \u001b[38;5;28;01mFalse\u001b[39;00m, env: \u001b[38;5;28mdict\u001b[39m \u001b[38;5;241m=\u001b[39m \u001b[38;5;28;01mNone\u001b[39;00m\n\u001b[1;32m    934\u001b[0m ):\n\u001b[0;32m--> 935\u001b[0m     \u001b[38;5;28;01mreturn\u001b[39;00m \u001b[43mexecute_subprocess\u001b[49m\u001b[43m(\u001b[49m\u001b[43mcommand\u001b[49m\u001b[38;5;241;43m=\u001b[39;49m\u001b[43mcommand\u001b[49m\u001b[43m,\u001b[49m\u001b[43m \u001b[49m\u001b[43mverbose\u001b[49m\u001b[38;5;241;43m=\u001b[39;49m\u001b[43mverbose\u001b[49m\u001b[43m,\u001b[49m\u001b[43m \u001b[49m\u001b[43mcatch_STD\u001b[49m\u001b[38;5;241;43m=\u001b[39;49m\u001b[43mcatch_STD\u001b[49m\u001b[43m,\u001b[49m\u001b[43m \u001b[49m\u001b[43menv\u001b[49m\u001b[38;5;241;43m=\u001b[39;49m\u001b[43menv\u001b[49m\u001b[43m)\u001b[49m\n",
      "File \u001b[0;32m~/work/PyGromosTools/PyGromosTools/pygromos/utils/bash.py:829\u001b[0m, in \u001b[0;36mexecute_subprocess\u001b[0;34m(command, catch_STD, env, verbose)\u001b[0m\n\u001b[1;32m    828\u001b[0m     msg \u001b[38;5;241m+\u001b[39m\u001b[38;5;241m=\u001b[39m \u001b[38;5;124m\"\u001b[39m\u001b[38;5;124mNONE\u001b[39m\u001b[38;5;124m\"\u001b[39m \u001b[38;5;28;01mif\u001b[39;00m (p\u001b[38;5;241m.\u001b[39mstdout \u001b[38;5;129;01mis\u001b[39;00m \u001b[38;5;28;01mNone\u001b[39;00m) \u001b[38;5;28;01melse\u001b[39;00m \u001b[38;5;124m\"\u001b[39m\u001b[38;5;130;01m\\n\u001b[39;00m\u001b[38;5;130;01m\\t\u001b[39;00m\u001b[38;5;124m\"\u001b[39m\u001b[38;5;241m.\u001b[39mjoin(\u001b[38;5;28mmap\u001b[39m(\u001b[38;5;28mstr\u001b[39m, p\u001b[38;5;241m.\u001b[39mstderr\u001b[38;5;241m.\u001b[39mreadlines()))\n\u001b[0;32m--> 829\u001b[0m     \u001b[38;5;28;01mraise\u001b[39;00m \u001b[38;5;167;01mChildProcessError\u001b[39;00m(msg)\n\u001b[1;32m    830\u001b[0m \u001b[38;5;28;01mif\u001b[39;00m verbose:\n",
      "\u001b[0;31mChildProcessError\u001b[0m: SubProcess Failed due to returncode: 1\n COMMAND: \n\t/home/runner/work/PyGromosTools/PyGromosTools/examples/example_files/Tutorial_System/b_emin_vacuum/simulation/b_emin_vacuum_1/job_b_emin_vacuum_1.sh\nSTDOUT:\n\tb'Could not find TMPDIR!\\n'\n\tb' Switched to outdir for work\\n'\n\tb'workDIR: /home/runner/work/PyGromosTools/PyGromosTools/examples/example_files/Tutorial_System/b_emin_vacuum/simulation/b_emin_vacuum_1\\n'\n\tb\"input:  <class 'str'> /home/bschroed/Documents/projects/gromosXX/gromosXX/build/bin/\\n\"\n\tb\"gromosXX._bin:  <class 'str'> /home/bschroed/Documents/projects/gromosXX/gromosXX/build/bin/\\n\"\n\tb\"gromosXX.bin:  <class 'str'> /home/bschroed/Documents/projects/gromosXX/gromosXX/build/bin/\\n\"\n\tb'________________________________________\\n'\n\tb'\\n'\n\tb' start MD b_emin_vacuum_1.imd\\n'\n\tb'\\n'\n\tb'COMMAND:  export OMP_NUM_THREADS=1  &&  /home/bschroed/Documents/projects/gromosXX/gromosXX/build/bin/md @topo /home/runner/work/PyGromosTools/PyGromosTools/examples/example_files/Tutorial_System/b_emin_vacuum/input/b_emin_vacuum.top @conf /home/runner/work/PyGromosTools/PyGromosTools/examples/example_files/Tutorial_System/b_emin_vacuum/input/b_emin_vacuum.cnf @input /home/runner/work/PyGromosTools/PyGromosTools/examples/example_files/Tutorial_System/b_emin_vacuum/simulation/b_emin_vacuum_1/b_emin_vacuum_1.imd @fin b_emin_vacuum_1.cnf > b_emin_vacuum_1.omd\\n'\n\tb'\\n'\n\tb'Failed! process returned: \\n'\n\tb' Err: \\n'\n\tb'SubProcess Failed due to returncode: 127\\n'\n\tb' COMMAND: \\n'\n\tb'\\texport OMP_NUM_THREADS=1  &&  /home/bschroed/Documents/projects/gromosXX/gromosXX/build/bin/md @topo /home/runner/work/PyGromosTools/PyGromosTools/examples/example_files/Tutorial_System/b_emin_vacuum/input/b_emin_vacuum.top @conf /home/runner/work/PyGromosTools/PyGromosTools/examples/example_files/Tutorial_System/b_emin_vacuum/input/b_emin_vacuum.cnf @input /home/runner/work/PyGromosTools/PyGromosTools/examples/example_files/Tutorial_System/b_emin_vacuum/simulation/b_emin_vacuum_1/b_emin_vacuum_1.imd @fin b_emin_vacuum_1.cnf > b_emin_vacuum_1.omd\\n'\n\tb'\\n'\n\tb'STDOUT:\\n'\n\tb'\\t\\n'\n\tb'STDERR:\\n'\n\tb\"\\tb'/bin/sh: 1: /home/bschroed/Documents/projects/gromosXX/gromosXX/build/bin/md: not found\\\\n'\\n\"\n\tb'GROMOS OUTPUT:\\n'\nSTDERR:\n\tb'Traceback (most recent call last):\\n'\n\tb'  File \"/home/runner/work/PyGromosTools/PyGromosTools/pygromos/simulations/hpc_queuing/job_scheduling/workers/simulation_workers/simulation_run_worker.py\", line 202, in work\\n'\n\tb'    omd_file_path = gromosXX.md_run(\\n'\n\tb'  File \"/home/runner/work/PyGromosTools/PyGromosTools/pygromos/gromos/_gromosClass.py\", line 78, in convert_pyGromos_types\\n'\n\tb'    return func(self, *nargs, **kwargs)\\n'\n\tb'  File \"/home/runner/work/PyGromosTools/PyGromosTools/pygromos/gromos/gromosXX.py\", line 215, in md_run\\n'\n\tb'    process = bash.execute(command_text)\\n'\n\tb'  File \"/home/runner/work/PyGromosTools/PyGromosTools/pygromos/utils/bash.py\", line 935, in execute\\n'\n\tb'    return execute_subprocess(command=command, verbose=verbose, catch_STD=catch_STD, env=env)\\n'\n\tb'  File \"/home/runner/work/PyGromosTools/PyGromosTools/pygromos/utils/bash.py\", line 829, in execute_subprocess\\n'\n\tb'    raise ChildProcessError(msg)\\n'\n\tb'ChildProcessError: SubProcess Failed due to returncode: 127\\n'\n\tb' COMMAND: \\n'\n\tb'\\texport OMP_NUM_THREADS=1  &&  /home/bschroed/Documents/projects/gromosXX/gromosXX/build/bin/md @topo /home/runner/work/PyGromosTools/PyGromosTools/examples/example_files/Tutorial_System/b_emin_vacuum/input/b_emin_vacuum.top @conf /home/runner/work/PyGromosTools/PyGromosTools/examples/example_files/Tutorial_System/b_emin_vacuum/input/b_emin_vacuum.cnf @input /home/runner/work/PyGromosTools/PyGromosTools/examples/example_files/Tutorial_System/b_emin_vacuum/simulation/b_emin_vacuum_1/b_emin_vacuum_1.imd @fin b_emin_vacuum_1.cnf > b_emin_vacuum_1.omd\\n'\n\tb'\\n'\n\tb'STDOUT:\\n'\n\tb'\\t\\n'\n\tb'STDERR:\\n'\n\tb\"\\tb'/bin/sh: 1: /home/bschroed/Documents/projects/gromosXX/gromosXX/build/bin/md: not found\\\\n'\\n\"\n\tb'\\n'\n\tb'Failed during simulations: \\n'\n\tb\"<class 'ChildProcessError'>\\n\"\n\tb'(\"SubProcess Failed due to returncode: 127\\\\n COMMAND: \\\\n\\\\texport OMP_NUM_THREADS=1  &&  /home/bschroed/Documents/projects/gromosXX/gromosXX/build/bin/md @topo /home/runner/work/PyGromosTools/PyGromosTools/examples/example_files/Tutorial_System/b_emin_vacuum/input/b_emin_vacuum.top @conf /home/runner/work/PyGromosTools/PyGromosTools/examples/example_files/Tutorial_System/b_emin_vacuum/input/b_emin_vacuum.cnf @input /home/runner/work/PyGromosTools/PyGromosTools/examples/example_files/Tutorial_System/b_emin_vacuum/simulation/b_emin_vacuum_1/b_emin_vacuum_1.imd @fin b_emin_vacuum_1.cnf > b_emin_vacuum_1.omd\\\\n\\\\nSTDOUT:\\\\n\\\\t\\\\nSTDERR:\\\\n\\\\tb\\'/bin/sh: 1: /home/bschroed/Documents/projects/gromosXX/gromosXX/build/bin/md: not found\\\\\\\\n\\'\",)\\n'",
      "\nDuring handling of the above exception, another exception occurred:\n",
      "\u001b[0;31mUnboundLocalError\u001b[0m                         Traceback (most recent call last)",
      "File \u001b[0;32m~/work/PyGromosTools/PyGromosTools/pygromos/simulations/hpc_queuing/job_scheduling/schedulers/simulation_scheduler.py:188\u001b[0m, in \u001b[0;36mdo\u001b[0;34m(in_simSystem, out_dir_path, simulation_run_num, equilibration_run_num, initialize_first_run, reinitialize_every_run, analysis_script_path, submission_system, previous_job_ID, _no_double_submit_check, _work_dir, verbose, verbose_lvl)\u001b[0m\n\u001b[1;32m    187\u001b[0m previous_job_ID \u001b[38;5;241m=\u001b[39m previous_job_ID \u001b[38;5;28;01mif\u001b[39;00m (eq_job_id \u001b[38;5;129;01mis\u001b[39;00m \u001b[38;5;28;01mNone\u001b[39;00m) \u001b[38;5;28;01melse\u001b[39;00m eq_job_id\n\u001b[0;32m--> 188\u001b[0m previous_job_ID, tmp_jobname, in_simSystem \u001b[38;5;241m=\u001b[39m \u001b[43mchain_submission\u001b[49m\u001b[43m(\u001b[49m\n\u001b[1;32m    189\u001b[0m \u001b[43m    \u001b[49m\u001b[43msimSystem\u001b[49m\u001b[38;5;241;43m=\u001b[39;49m\u001b[43min_simSystem\u001b[49m\u001b[43m,\u001b[49m\n\u001b[1;32m    190\u001b[0m \u001b[43m    \u001b[49m\u001b[43mout_dir_path\u001b[49m\u001b[38;5;241;43m=\u001b[39;49m\u001b[43mout_dir_path\u001b[49m\u001b[43m,\u001b[49m\n\u001b[1;32m    191\u001b[0m \u001b[43m    \u001b[49m\u001b[43mout_prefix\u001b[49m\u001b[38;5;241;43m=\u001b[39;49m\u001b[43mtmp_outprefix\u001b[49m\u001b[43m,\u001b[49m\n\u001b[1;32m    192\u001b[0m \u001b[43m    \u001b[49m\u001b[43mjobname\u001b[49m\u001b[38;5;241;43m=\u001b[39;49m\u001b[43mtmp_jobname\u001b[49m\u001b[43m,\u001b[49m\n\u001b[1;32m    193\u001b[0m \u001b[43m    \u001b[49m\u001b[43mchain_job_repetitions\u001b[49m\u001b[38;5;241;43m=\u001b[39;49m\u001b[43mequilibration_run_num\u001b[49m\u001b[43m \u001b[49m\u001b[38;5;241;43m+\u001b[39;49m\u001b[43m \u001b[49m\u001b[43msimulation_run_num\u001b[49m\u001b[43m,\u001b[49m\n\u001b[1;32m    194\u001b[0m \u001b[43m    \u001b[49m\u001b[43mstart_run_index\u001b[49m\u001b[38;5;241;43m=\u001b[39;49m\u001b[43mequilibration_run_num\u001b[49m\u001b[43m \u001b[49m\u001b[38;5;241;43m+\u001b[39;49m\u001b[43m \u001b[49m\u001b[38;5;241;43m1\u001b[39;49m\u001b[43m,\u001b[49m\n\u001b[1;32m    195\u001b[0m \u001b[43m    \u001b[49m\u001b[43mworker_script\u001b[49m\u001b[38;5;241;43m=\u001b[39;49m\u001b[43mworkerScript\u001b[49m\u001b[38;5;241;43m.\u001b[39;49m\u001b[38;5;18;43m__file__\u001b[39;49m\u001b[43m,\u001b[49m\n\u001b[1;32m    196\u001b[0m \u001b[43m    \u001b[49m\u001b[43mjob_submission_system\u001b[49m\u001b[38;5;241;43m=\u001b[39;49m\u001b[43msubmission_system\u001b[49m\u001b[43m,\u001b[49m\n\u001b[1;32m    197\u001b[0m \u001b[43m    \u001b[49m\u001b[43mprefix_command\u001b[49m\u001b[38;5;241;43m=\u001b[39;49m\u001b[38;5;124;43m\"\u001b[39;49m\u001b[38;5;124;43m\"\u001b[39;49m\u001b[43m,\u001b[49m\n\u001b[1;32m    198\u001b[0m \u001b[43m    \u001b[49m\u001b[43mprevious_job_ID\u001b[49m\u001b[38;5;241;43m=\u001b[39;49m\u001b[43mprevious_job_ID\u001b[49m\u001b[43m,\u001b[49m\n\u001b[1;32m    199\u001b[0m \u001b[43m    \u001b[49m\u001b[43mwork_dir\u001b[49m\u001b[38;5;241;43m=\u001b[39;49m\u001b[43m_work_dir\u001b[49m\u001b[43m,\u001b[49m\n\u001b[1;32m    200\u001b[0m \u001b[43m    \u001b[49m\u001b[43minitialize_first_run\u001b[49m\u001b[38;5;241;43m=\u001b[39;49m\u001b[43minitialize_first_run\u001b[49m\u001b[43m,\u001b[49m\n\u001b[1;32m    201\u001b[0m \u001b[43m    \u001b[49m\u001b[43mreinitialize_every_run\u001b[49m\u001b[38;5;241;43m=\u001b[39;49m\u001b[43mreinitialize_every_run\u001b[49m\u001b[43m,\u001b[49m\n\u001b[1;32m    202\u001b[0m \u001b[43m    \u001b[49m\u001b[43mverbose\u001b[49m\u001b[38;5;241;43m=\u001b[39;49m\u001b[43mjob_verb\u001b[49m\u001b[43m,\u001b[49m\n\u001b[1;32m    203\u001b[0m \u001b[43m\u001b[49m\u001b[43m)\u001b[49m\n\u001b[1;32m    205\u001b[0m ana_previous_job_ID \u001b[38;5;241m=\u001b[39m previous_job_ID\n",
      "File \u001b[0;32m~/work/PyGromosTools/PyGromosTools/pygromos/simulations/hpc_queuing/job_scheduling/schedulers/scheduler_functions.py:308\u001b[0m, in \u001b[0;36mchain_submission\u001b[0;34m(simSystem, out_dir_path, out_prefix, chain_job_repetitions, worker_script, job_submission_system, jobname, run_analysis_script_every_x_runs, in_analysis_script_path, start_run_index, prefix_command, previous_job_ID, work_dir, initialize_first_run, reinitialize_every_run, verbose, verbose_lvl)\u001b[0m\n\u001b[1;32m    299\u001b[0m sub_job \u001b[38;5;241m=\u001b[39m Submission_job(\n\u001b[1;32m    300\u001b[0m     command\u001b[38;5;241m=\u001b[39mmd_script_command,\n\u001b[1;32m    301\u001b[0m     jobName\u001b[38;5;241m=\u001b[39mtmp_jobname,\n\u001b[0;32m   (...)\u001b[0m\n\u001b[1;32m    306\u001b[0m     sumbit_from_file\u001b[38;5;241m=\u001b[39m\u001b[38;5;28;01mTrue\u001b[39;00m,\n\u001b[1;32m    307\u001b[0m )\n\u001b[0;32m--> 308\u001b[0m previous_job_ID \u001b[38;5;241m=\u001b[39m \u001b[43mjob_submission_system\u001b[49m\u001b[38;5;241;43m.\u001b[39;49m\u001b[43msubmit_to_queue\u001b[49m\u001b[43m(\u001b[49m\u001b[43msub_job\u001b[49m\u001b[43m)\u001b[49m\n\u001b[1;32m    309\u001b[0m \u001b[38;5;28;01mif\u001b[39;00m verbose:\n",
      "File \u001b[0;32m~/work/PyGromosTools/PyGromosTools/pygromos/simulations/hpc_queuing/submission_systems/local.py:84\u001b[0m, in \u001b[0;36mLOCAL.submit_to_queue\u001b[0;34m(self, sub_job)\u001b[0m\n\u001b[1;32m     83\u001b[0m \u001b[38;5;28;01mtry\u001b[39;00m:\n\u001b[0;32m---> 84\u001b[0m     \u001b[38;5;28mprint\u001b[39m(\u001b[43mprocess\u001b[49m)\n\u001b[1;32m     85\u001b[0m \u001b[38;5;28;01mexcept\u001b[39;00m \u001b[38;5;167;01mChildProcessError\u001b[39;00m:\n",
      "\u001b[0;31mUnboundLocalError\u001b[0m: local variable 'process' referenced before assignment",
      "\nThe above exception was the direct cause of the following exception:\n",
      "\u001b[0;31mOSError\u001b[0m                                   Traceback (most recent call last)",
      "File \u001b[0;32m~/work/PyGromosTools/PyGromosTools/pygromos/simulations/modules/general_simulation_modules.py:208\u001b[0m, in \u001b[0;36msimulation\u001b[0;34m(in_gromos_simulation_system, override_project_dir, step_name, in_imd_path, submission_system, simulation_runs, equilibration_runs, previous_simulation_run, force_simulation, initialize_first_run, reinitialize_every_run, analysis_script, analysis_control_dict, _no_double_submit_check, _work_dir, verbose, verbose_lvl, _template_imd_path)\u001b[0m\n\u001b[1;32m    207\u001b[0m     \u001b[38;5;28;01melse\u001b[39;00m:\n\u001b[0;32m--> 208\u001b[0m         last_jobID \u001b[38;5;241m=\u001b[39m \u001b[43msimulation_scheduler\u001b[49m\u001b[38;5;241;43m.\u001b[39;49m\u001b[43mdo\u001b[49m\u001b[43m(\u001b[49m\u001b[38;5;241;43m*\u001b[39;49m\u001b[38;5;241;43m*\u001b[39;49m\u001b[43mMD_job_vars\u001b[49m\u001b[43m)\u001b[49m\n\u001b[1;32m    209\u001b[0m \u001b[38;5;28;01mexcept\u001b[39;00m \u001b[38;5;167;01mException\u001b[39;00m \u001b[38;5;28;01mas\u001b[39;00m err:\n",
      "File \u001b[0;32m~/work/PyGromosTools/PyGromosTools/pygromos/simulations/hpc_queuing/job_scheduling/schedulers/simulation_scheduler.py:234\u001b[0m, in \u001b[0;36mdo\u001b[0;34m(in_simSystem, out_dir_path, simulation_run_num, equilibration_run_num, initialize_first_run, reinitialize_every_run, analysis_script_path, submission_system, previous_job_ID, _no_double_submit_check, _work_dir, verbose, verbose_lvl)\u001b[0m\n\u001b[1;32m    233\u001b[0m     traceback\u001b[38;5;241m.\u001b[39mprint_exception(\u001b[38;5;241m*\u001b[39msys\u001b[38;5;241m.\u001b[39mexc_info())\n\u001b[0;32m--> 234\u001b[0m     \u001b[38;5;28;01mraise\u001b[39;00m \u001b[38;5;167;01mIOError\u001b[39;00m(\u001b[38;5;124m\"\u001b[39m\u001b[38;5;124mERROR in SUBMISSION!\u001b[39m\u001b[38;5;124m\"\u001b[39m) \u001b[38;5;28;01mfrom\u001b[39;00m \u001b[38;5;21;01merr\u001b[39;00m\n\u001b[1;32m    236\u001b[0m \u001b[38;5;66;03m# in_simSystem._future_promise = False #reset future promising if necessary\u001b[39;00m\n",
      "\u001b[0;31mOSError\u001b[0m: ERROR in SUBMISSION!",
      "\nDuring handling of the above exception, another exception occurred:\n",
      "\u001b[0;31mException\u001b[0m                                 Traceback (most recent call last)",
      "Input \u001b[0;32mIn [32]\u001b[0m, in \u001b[0;36m<cell line: 1>\u001b[0;34m()\u001b[0m\n\u001b[0;32m----> 1\u001b[0m out_emin_system \u001b[38;5;241m=\u001b[39m \u001b[43memin\u001b[49m\u001b[43m(\u001b[49m\u001b[43min_gromos_system\u001b[49m\u001b[38;5;241;43m=\u001b[39;49m\u001b[43min_emin_system\u001b[49m\u001b[43m,\u001b[49m\n\u001b[1;32m      2\u001b[0m \u001b[43m                       \u001b[49m\u001b[43mstep_name\u001b[49m\u001b[38;5;241;43m=\u001b[39;49m\u001b[38;5;124;43m\"\u001b[39;49m\u001b[38;5;124;43mb_\u001b[39;49m\u001b[38;5;124;43m\"\u001b[39;49m\u001b[38;5;241;43m+\u001b[39;49m\u001b[43mout_prefix\u001b[49m\u001b[43m)\u001b[49m\n",
      "File \u001b[0;32m~/work/PyGromosTools/PyGromosTools/pygromos/simulations/modules/preset_simulation_modules.py:44\u001b[0m, in \u001b[0;36memin\u001b[0;34m(in_gromos_system, step_name, override_project_dir, in_imd_path, submission_system, simulation_runs, equilibration_runs, previous_simulation_run, _template_imd_path, _no_double_submit_check, initialize_first_run, analysis_script, verbose)\u001b[0m\n\u001b[1;32m     41\u001b[0m     \u001b[38;5;28;01mif\u001b[39;00m in_gromos_system\u001b[38;5;241m.\u001b[39mimd\u001b[38;5;241m.\u001b[39mWRITETRAJ\u001b[38;5;241m.\u001b[39mNTWG \u001b[38;5;241m>\u001b[39m \u001b[38;5;241m0\u001b[39m:\n\u001b[1;32m     42\u001b[0m         template_emin_control_dict[\u001b[38;5;124m\"\u001b[39m\u001b[38;5;124mconcat\u001b[39m\u001b[38;5;124m\"\u001b[39m][\u001b[38;5;124m\"\u001b[39m\u001b[38;5;124mcat_trg\u001b[39m\u001b[38;5;124m\"\u001b[39m] \u001b[38;5;241m=\u001b[39m \u001b[38;5;28;01mFalse\u001b[39;00m\n\u001b[0;32m---> 44\u001b[0m \u001b[38;5;28;01mreturn\u001b[39;00m \u001b[43msimulation\u001b[49m\u001b[43m(\u001b[49m\n\u001b[1;32m     45\u001b[0m \u001b[43m    \u001b[49m\u001b[43min_gromos_simulation_system\u001b[49m\u001b[38;5;241;43m=\u001b[39;49m\u001b[43min_gromos_system\u001b[49m\u001b[43m,\u001b[49m\n\u001b[1;32m     46\u001b[0m \u001b[43m    \u001b[49m\u001b[43moverride_project_dir\u001b[49m\u001b[38;5;241;43m=\u001b[39;49m\u001b[43moverride_project_dir\u001b[49m\u001b[43m,\u001b[49m\n\u001b[1;32m     47\u001b[0m \u001b[43m    \u001b[49m\u001b[43mprevious_simulation_run\u001b[49m\u001b[38;5;241;43m=\u001b[39;49m\u001b[43mprevious_simulation_run\u001b[49m\u001b[43m,\u001b[49m\n\u001b[1;32m     48\u001b[0m \u001b[43m    \u001b[49m\u001b[43mstep_name\u001b[49m\u001b[38;5;241;43m=\u001b[39;49m\u001b[43mstep_name\u001b[49m\u001b[43m,\u001b[49m\n\u001b[1;32m     49\u001b[0m \u001b[43m    \u001b[49m\u001b[43min_imd_path\u001b[49m\u001b[38;5;241;43m=\u001b[39;49m\u001b[43min_imd_path\u001b[49m\u001b[43m,\u001b[49m\n\u001b[1;32m     50\u001b[0m \u001b[43m    \u001b[49m\u001b[43msubmission_system\u001b[49m\u001b[38;5;241;43m=\u001b[39;49m\u001b[43msubmission_system\u001b[49m\u001b[43m,\u001b[49m\n\u001b[1;32m     51\u001b[0m \u001b[43m    \u001b[49m\u001b[43minitialize_first_run\u001b[49m\u001b[38;5;241;43m=\u001b[39;49m\u001b[43minitialize_first_run\u001b[49m\u001b[43m,\u001b[49m\n\u001b[1;32m     52\u001b[0m \u001b[43m    \u001b[49m\u001b[43msimulation_runs\u001b[49m\u001b[38;5;241;43m=\u001b[39;49m\u001b[43msimulation_runs\u001b[49m\u001b[43m,\u001b[49m\n\u001b[1;32m     53\u001b[0m \u001b[43m    \u001b[49m\u001b[43mequilibration_runs\u001b[49m\u001b[38;5;241;43m=\u001b[39;49m\u001b[43mequilibration_runs\u001b[49m\u001b[43m,\u001b[49m\n\u001b[1;32m     54\u001b[0m \u001b[43m    \u001b[49m\u001b[43manalysis_control_dict\u001b[49m\u001b[38;5;241;43m=\u001b[39;49m\u001b[43mtemplate_emin_control_dict\u001b[49m\u001b[43m,\u001b[49m\n\u001b[1;32m     55\u001b[0m \u001b[43m    \u001b[49m\u001b[43manalysis_script\u001b[49m\u001b[38;5;241;43m=\u001b[39;49m\u001b[43manalysis_script\u001b[49m\u001b[43m,\u001b[49m\n\u001b[1;32m     56\u001b[0m \u001b[43m    \u001b[49m\u001b[43m_template_imd_path\u001b[49m\u001b[38;5;241;43m=\u001b[39;49m\u001b[43m_template_imd_path\u001b[49m\u001b[43m,\u001b[49m\n\u001b[1;32m     57\u001b[0m \u001b[43m    \u001b[49m\u001b[43m_no_double_submit_check\u001b[49m\u001b[38;5;241;43m=\u001b[39;49m\u001b[43m_no_double_submit_check\u001b[49m\u001b[43m,\u001b[49m\n\u001b[1;32m     58\u001b[0m \u001b[43m    \u001b[49m\u001b[43mverbose\u001b[49m\u001b[38;5;241;43m=\u001b[39;49m\u001b[43mverbose\u001b[49m\u001b[43m,\u001b[49m\n\u001b[1;32m     59\u001b[0m \u001b[43m\u001b[49m\u001b[43m)\u001b[49m\n",
      "File \u001b[0;32m~/work/PyGromosTools/PyGromosTools/pygromos/simulations/modules/general_simulation_modules.py:211\u001b[0m, in \u001b[0;36msimulation\u001b[0;34m(in_gromos_simulation_system, override_project_dir, step_name, in_imd_path, submission_system, simulation_runs, equilibration_runs, previous_simulation_run, force_simulation, initialize_first_run, reinitialize_every_run, analysis_script, analysis_control_dict, _no_double_submit_check, _work_dir, verbose, verbose_lvl, _template_imd_path)\u001b[0m\n\u001b[1;32m    209\u001b[0m \u001b[38;5;28;01mexcept\u001b[39;00m \u001b[38;5;167;01mException\u001b[39;00m \u001b[38;5;28;01mas\u001b[39;00m err:\n\u001b[1;32m    210\u001b[0m     traceback\u001b[38;5;241m.\u001b[39mprint_exception(\u001b[38;5;241m*\u001b[39msys\u001b[38;5;241m.\u001b[39mexc_info())\n\u001b[0;32m--> 211\u001b[0m     \u001b[38;5;28;01mraise\u001b[39;00m \u001b[38;5;167;01mException\u001b[39;00m(\u001b[38;5;124m\"\u001b[39m\u001b[38;5;124mCould not submit the commands\u001b[39m\u001b[38;5;130;01m\\n\u001b[39;00m\u001b[38;5;130;01m\\t\u001b[39;00m\u001b[38;5;124m\"\u001b[39m \u001b[38;5;241m+\u001b[39m \u001b[38;5;124m\"\u001b[39m\u001b[38;5;130;01m\\n\u001b[39;00m\u001b[38;5;130;01m\\t\u001b[39;00m\u001b[38;5;124m\"\u001b[39m\u001b[38;5;241m.\u001b[39mjoin(\u001b[38;5;28mmap\u001b[39m(\u001b[38;5;28mstr\u001b[39m, err\u001b[38;5;241m.\u001b[39margs)))\n\u001b[1;32m    213\u001b[0m time\u001b[38;5;241m.\u001b[39msleep(time_wait_s_for_filesystem)\n\u001b[1;32m    215\u001b[0m \u001b[38;5;66;03m# Return the promise final system\u001b[39;00m\n",
      "\u001b[0;31mException\u001b[0m: Could not submit the commands\n\tERROR in SUBMISSION!"
     ]
    }
   ],
   "source": [
    "out_emin_system = emin(in_gromos_system=in_emin_system,\n",
    "                       step_name=\"b_\"+out_prefix)"
   ]
  },
  {
   "cell_type": "markdown",
   "metadata": {},
   "source": [
    "#### Analysis \n",
    "Once the energy minimisation is finished, the file with the minimized coordinates, peptide min.cnf, and the general output file, em peptide.omd, that reports the progress of the minimisation, will be written out.\n",
    "Have a look at both files and check if the minimisation has finished successfully. \n",
    "\n"
   ]
  },
  {
   "cell_type": "code",
   "execution_count": 33,
   "metadata": {
    "execution": {
     "iopub.execute_input": "2022-04-04T16:01:14.813487Z",
     "iopub.status.busy": "2022-04-04T16:01:14.812896Z",
     "iopub.status.idle": "2022-04-04T16:01:14.826700Z",
     "shell.execute_reply": "2022-04-04T16:01:14.826170Z"
    }
   },
   "outputs": [
    {
     "ename": "NameError",
     "evalue": "name 'out_emin_system' is not defined",
     "output_type": "error",
     "traceback": [
      "\u001b[0;31m---------------------------------------------------------------------------\u001b[0m",
      "\u001b[0;31mNameError\u001b[0m                                 Traceback (most recent call last)",
      "Input \u001b[0;32mIn [33]\u001b[0m, in \u001b[0;36m<cell line: 1>\u001b[0;34m()\u001b[0m\n\u001b[0;32m----> 1\u001b[0m \u001b[43mout_emin_system\u001b[49m\u001b[38;5;241m.\u001b[39mcnf\u001b[38;5;241m.\u001b[39mview\n",
      "\u001b[0;31mNameError\u001b[0m: name 'out_emin_system' is not defined"
     ]
    }
   ],
   "source": [
    "out_emin_system.cnf.view"
   ]
  },
  {
   "cell_type": "markdown",
   "metadata": {},
   "source": [
    "This is nice, but how do we actually get to this structure! In the next cell the development of the total Potential  energy over the energyminimization steps is shown. As you can see, the Potential energy of the whole system is decreasing, which indicates a relaxatio of the peptide structure and an optimization of the different forcefield terms. Ergo finding a minimal total potential system energy as possible is desirable in energyminimizations."
   ]
  },
  {
   "cell_type": "code",
   "execution_count": 34,
   "metadata": {
    "execution": {
     "iopub.execute_input": "2022-04-04T16:01:14.829665Z",
     "iopub.status.busy": "2022-04-04T16:01:14.829134Z",
     "iopub.status.idle": "2022-04-04T16:01:14.842982Z",
     "shell.execute_reply": "2022-04-04T16:01:14.842453Z"
    }
   },
   "outputs": [
    {
     "ename": "NameError",
     "evalue": "name 'out_emin_system' is not defined",
     "output_type": "error",
     "traceback": [
      "\u001b[0;31m---------------------------------------------------------------------------\u001b[0m",
      "\u001b[0;31mNameError\u001b[0m                                 Traceback (most recent call last)",
      "Input \u001b[0;32mIn [34]\u001b[0m, in \u001b[0;36m<cell line: 1>\u001b[0;34m()\u001b[0m\n\u001b[0;32m----> 1\u001b[0m \u001b[43mout_emin_system\u001b[49m\u001b[38;5;241m.\u001b[39mtre\u001b[38;5;241m.\u001b[39mget_totals()\u001b[38;5;241m.\u001b[39mtotene\u001b[38;5;241m.\u001b[39mplot(xlabel\u001b[38;5;241m=\u001b[39m\u001b[38;5;124m\"\u001b[39m\u001b[38;5;124msteps\u001b[39m\u001b[38;5;124m\"\u001b[39m, ylabel\u001b[38;5;241m=\u001b[39m\u001b[38;5;124m\"\u001b[39m\u001b[38;5;124m$V_\u001b[39m\u001b[38;5;132;01m{tot}\u001b[39;00m\u001b[38;5;124m~[kJ/mol]$\u001b[39m\u001b[38;5;124m\"\u001b[39m)\n",
      "\u001b[0;31mNameError\u001b[0m: name 'out_emin_system' is not defined"
     ]
    }
   ],
   "source": [
    "out_emin_system.tre.get_totals().totene.plot(xlabel=\"steps\", ylabel=\"$V_{tot}~[kJ/mol]$\")\n"
   ]
  },
  {
   "cell_type": "markdown",
   "metadata": {},
   "source": [
    "The effect seend in the total potential energy can also be observed of course in the peptide molecue coordinats."
   ]
  },
  {
   "cell_type": "code",
   "execution_count": 35,
   "metadata": {
    "execution": {
     "iopub.execute_input": "2022-04-04T16:01:14.845555Z",
     "iopub.status.busy": "2022-04-04T16:01:14.845280Z",
     "iopub.status.idle": "2022-04-04T16:01:14.858233Z",
     "shell.execute_reply": "2022-04-04T16:01:14.857700Z"
    }
   },
   "outputs": [
    {
     "ename": "NameError",
     "evalue": "name 'out_emin_system' is not defined",
     "output_type": "error",
     "traceback": [
      "\u001b[0;31m---------------------------------------------------------------------------\u001b[0m",
      "\u001b[0;31mNameError\u001b[0m                                 Traceback (most recent call last)",
      "Input \u001b[0;32mIn [35]\u001b[0m, in \u001b[0;36m<cell line: 1>\u001b[0;34m()\u001b[0m\n\u001b[0;32m----> 1\u001b[0m view \u001b[38;5;241m=\u001b[39m \u001b[43mout_emin_system\u001b[49m\u001b[38;5;241m.\u001b[39mtrc\u001b[38;5;241m.\u001b[39mview\n\u001b[1;32m      2\u001b[0m view\n",
      "\u001b[0;31mNameError\u001b[0m: name 'out_emin_system' is not defined"
     ]
    }
   ],
   "source": [
    "view = out_emin_system.trc.view\n",
    "view"
   ]
  },
  {
   "cell_type": "markdown",
   "metadata": {},
   "source": [
    "Finally we wan to store our energy minimization results as a python pickle obj."
   ]
  },
  {
   "cell_type": "code",
   "execution_count": 36,
   "metadata": {
    "execution": {
     "iopub.execute_input": "2022-04-04T16:01:14.861265Z",
     "iopub.status.busy": "2022-04-04T16:01:14.860985Z",
     "iopub.status.idle": "2022-04-04T16:01:14.874185Z",
     "shell.execute_reply": "2022-04-04T16:01:14.873658Z"
    }
   },
   "outputs": [
    {
     "ename": "NameError",
     "evalue": "name 'out_emin_system' is not defined",
     "output_type": "error",
     "traceback": [
      "\u001b[0;31m---------------------------------------------------------------------------\u001b[0m",
      "\u001b[0;31mNameError\u001b[0m                                 Traceback (most recent call last)",
      "Input \u001b[0;32mIn [36]\u001b[0m, in \u001b[0;36m<cell line: 1>\u001b[0;34m()\u001b[0m\n\u001b[0;32m----> 1\u001b[0m out_emin_system_path \u001b[38;5;241m=\u001b[39m \u001b[43mout_emin_system\u001b[49m\u001b[38;5;241m.\u001b[39msave(out_emin_system\u001b[38;5;241m.\u001b[39mwork_folder\u001b[38;5;241m+\u001b[39m\u001b[38;5;124m\"\u001b[39m\u001b[38;5;124m/emin_vac_result.obj\u001b[39m\u001b[38;5;124m\"\u001b[39m)\n",
      "\u001b[0;31mNameError\u001b[0m: name 'out_emin_system' is not defined"
     ]
    }
   ],
   "source": [
    "out_emin_system_path = out_emin_system.save(out_emin_system.work_folder+\"/emin_vac_result.obj\")\n"
   ]
  },
  {
   "cell_type": "code",
   "execution_count": 37,
   "metadata": {
    "execution": {
     "iopub.execute_input": "2022-04-04T16:01:14.876707Z",
     "iopub.status.busy": "2022-04-04T16:01:14.876425Z",
     "iopub.status.idle": "2022-04-04T16:01:14.878977Z",
     "shell.execute_reply": "2022-04-04T16:01:14.878445Z"
    }
   },
   "outputs": [],
   "source": [
    "#if you want to load the file:\n",
    "#out_emin_system = Gromos_System.load(out_emin_system.work_folder+\"/emin_vac_result.obj\")"
   ]
  },
  {
   "cell_type": "markdown",
   "metadata": {
    "pycharm": {
     "name": "#%% md\n"
    }
   },
   "source": [
    "## Solvatistation and Solvent Energy Minimization\n",
    "\n",
    "Now you can put the energy minimized penta-peptide in a box of solvent to simulate an aequos environment. This can be done with the *sim_box* function of the gromosSyste, which can solvate the solute in a pre-equilibrated box of solvent molecules. As input for the function *sim_box* you have to specify the following input arguments:\n",
    "* **periodic_boundary_condition**: the resulting box shape under the argument (r - rectangular, t - truncated octahedron, c - triclinic)\n",
    "* **in_solvent_cnf_file_path**: the coordinate file of the pre-equilibrated box of solvent molecules under the argument (we are using a template $H_2O$ of the SPC model provided in pygromos.data.solvent_coordinates)\n",
    "* **minwall**: minimum solute-to-wall distance in $nm$\n",
    "* **threshold**: the minimum solute-to-solvent distance ins $nm$\n",
    "* **rotate**: If you are using a rectangular box (@pbc r) it is recommended to use an additional argument. With this additional argument the solute can be rotated (before solvating) such that the largest distance between any two solute atoms is directed along the z-axis, and the largest atom-atom distance in the xy-plane lies in the y-direction. An input file sim box peptide.arg is already prepared. \n"
   ]
  },
  {
   "cell_type": "code",
   "execution_count": 38,
   "metadata": {
    "execution": {
     "iopub.execute_input": "2022-04-04T16:01:14.881681Z",
     "iopub.status.busy": "2022-04-04T16:01:14.881386Z",
     "iopub.status.idle": "2022-04-04T16:01:14.894851Z",
     "shell.execute_reply": "2022-04-04T16:01:14.894332Z"
    }
   },
   "outputs": [
    {
     "ename": "NameError",
     "evalue": "name 'out_emin_system' is not defined",
     "output_type": "error",
     "traceback": [
      "\u001b[0;31m---------------------------------------------------------------------------\u001b[0m",
      "\u001b[0;31mNameError\u001b[0m                                 Traceback (most recent call last)",
      "Input \u001b[0;32mIn [38]\u001b[0m, in \u001b[0;36m<cell line: 1>\u001b[0;34m()\u001b[0m\n\u001b[0;32m----> 1\u001b[0m help(\u001b[43mout_emin_system\u001b[49m\u001b[38;5;241m.\u001b[39msim_box)\n",
      "\u001b[0;31mNameError\u001b[0m: name 'out_emin_system' is not defined"
     ]
    }
   ],
   "source": [
    "help(out_emin_system.sim_box)"
   ]
  },
  {
   "cell_type": "code",
   "execution_count": 39,
   "metadata": {
    "execution": {
     "iopub.execute_input": "2022-04-04T16:01:14.897872Z",
     "iopub.status.busy": "2022-04-04T16:01:14.897441Z",
     "iopub.status.idle": "2022-04-04T16:01:14.910790Z",
     "shell.execute_reply": "2022-04-04T16:01:14.910176Z"
    }
   },
   "outputs": [
    {
     "ename": "NameError",
     "evalue": "name 'out_emin_system' is not defined",
     "output_type": "error",
     "traceback": [
      "\u001b[0;31m---------------------------------------------------------------------------\u001b[0m",
      "\u001b[0;31mNameError\u001b[0m                                 Traceback (most recent call last)",
      "Input \u001b[0;32mIn [39]\u001b[0m, in \u001b[0;36m<cell line: 1>\u001b[0;34m()\u001b[0m\n\u001b[0;32m----> 1\u001b[0m \u001b[38;5;28mvars\u001b[39m(\u001b[43mout_emin_system\u001b[49m\u001b[38;5;241m.\u001b[39mtrc)\u001b[38;5;241m.\u001b[39mkeys()\n",
      "\u001b[0;31mNameError\u001b[0m: name 'out_emin_system' is not defined"
     ]
    }
   ],
   "source": [
    "vars(out_emin_system.trc).keys()"
   ]
  },
  {
   "cell_type": "markdown",
   "metadata": {},
   "source": [
    "### build box system\n",
    "To put the solvent box around the penta-peptide use following commands:\n"
   ]
  },
  {
   "cell_type": "code",
   "execution_count": 40,
   "metadata": {
    "execution": {
     "iopub.execute_input": "2022-04-04T16:01:14.913554Z",
     "iopub.status.busy": "2022-04-04T16:01:14.913121Z",
     "iopub.status.idle": "2022-04-04T16:01:14.931135Z",
     "shell.execute_reply": "2022-04-04T16:01:14.930532Z"
    }
   },
   "outputs": [
    {
     "ename": "NameError",
     "evalue": "name 'out_emin_system' is not defined",
     "output_type": "error",
     "traceback": [
      "\u001b[0;31m---------------------------------------------------------------------------\u001b[0m",
      "\u001b[0;31mNameError\u001b[0m                                 Traceback (most recent call last)",
      "Input \u001b[0;32mIn [40]\u001b[0m, in \u001b[0;36m<cell line: 4>\u001b[0;34m()\u001b[0m\n\u001b[1;32m      1\u001b[0m \u001b[38;5;28;01mfrom\u001b[39;00m \u001b[38;5;21;01mpygromos\u001b[39;00m\u001b[38;5;21;01m.\u001b[39;00m\u001b[38;5;21;01mdata\u001b[39;00m\u001b[38;5;21;01m.\u001b[39;00m\u001b[38;5;21;01msolvent_coordinates\u001b[39;00m \u001b[38;5;28;01mimport\u001b[39;00m spc\n\u001b[1;32m      3\u001b[0m \u001b[38;5;66;03m#setup a fresh gromos System:\u001b[39;00m\n\u001b[0;32m----> 4\u001b[0m box_system \u001b[38;5;241m=\u001b[39m \u001b[43mout_emin_system\u001b[49m\u001b[38;5;241m.\u001b[39mcopy()\n\u001b[1;32m      5\u001b[0m \u001b[38;5;66;03m#box_system = gromos_system.Gromos_System.load(out_emin_system_path) #if you do this step after a break, you could also decide to load the serialized obj from before.\u001b[39;00m\n\u001b[1;32m      7\u001b[0m box_system\u001b[38;5;241m.\u001b[39mimd \u001b[38;5;241m=\u001b[39m \u001b[38;5;28;01mNone\u001b[39;00m\n",
      "\u001b[0;31mNameError\u001b[0m: name 'out_emin_system' is not defined"
     ]
    }
   ],
   "source": [
    "from pygromos.data.solvent_coordinates import spc\n",
    "\n",
    "#setup a fresh gromos System:\n",
    "box_system = out_emin_system.copy()\n",
    "#box_system = gromos_system.Gromos_System.load(out_emin_system_path) #if you do this step after a break, you could also decide to load the serialized obj from before.\n",
    "\n",
    "box_system.imd = None\n",
    "box_system.name = \"solvate_box\"\n",
    "box_system.work_folder = bash.make_folder(project_dir+\"/c_\"+box_system.name)\n",
    "\n",
    "\n",
    "## set box and solvate the system\n",
    "box_system.cnf.add_empty_box()\n",
    "box_system.sim_box(in_solvent_cnf_file_path=spc,\n",
    "                 periodic_boundary_condition=\"r\",\n",
    "                 minwall=0.8,\n",
    "                 threshold=0.23,\n",
    "                 rotate=False)\n",
    "\n",
    "#box_system.cnf\n",
    "box_system.rebase_files() #write out the files (optional) - so you can check them in the folder\n",
    "box_system.cnf.view #show the results"
   ]
  },
  {
   "cell_type": "markdown",
   "metadata": {
    "pycharm": {
     "name": "#%% md\n"
    }
   },
   "source": [
    "### Add Ions\n",
    "After solvating the system, two $Cl-$ ions shall be added to the box as counter charges for the two positive peptide residues (Arginine and Lysine).\n",
    "\n",
    "To add the ions, we need to know the name of the building block in Gromos54A7. We can checkout the names of the Atomtype names in the topology of our system: "
   ]
  },
  {
   "cell_type": "code",
   "execution_count": 41,
   "metadata": {
    "execution": {
     "iopub.execute_input": "2022-04-04T16:01:14.933814Z",
     "iopub.status.busy": "2022-04-04T16:01:14.933382Z",
     "iopub.status.idle": "2022-04-04T16:01:14.947238Z",
     "shell.execute_reply": "2022-04-04T16:01:14.946707Z"
    }
   },
   "outputs": [
    {
     "ename": "NameError",
     "evalue": "name 'box_system' is not defined",
     "output_type": "error",
     "traceback": [
      "\u001b[0;31m---------------------------------------------------------------------------\u001b[0m",
      "\u001b[0;31mNameError\u001b[0m                                 Traceback (most recent call last)",
      "Input \u001b[0;32mIn [41]\u001b[0m, in \u001b[0;36m<cell line: 1>\u001b[0;34m()\u001b[0m\n\u001b[0;32m----> 1\u001b[0m \u001b[38;5;28mprint\u001b[39m([ a \u001b[38;5;28;01mfor\u001b[39;00m a \u001b[38;5;129;01min\u001b[39;00m \u001b[43mbox_system\u001b[49m\u001b[38;5;241m.\u001b[39mtop\u001b[38;5;241m.\u001b[39mATOMTYPENAME])\n",
      "\u001b[0;31mNameError\u001b[0m: name 'box_system' is not defined"
     ]
    }
   ],
   "source": [
    "print([ a for a in box_system.top.ATOMTYPENAME])"
   ]
  },
  {
   "cell_type": "markdown",
   "metadata": {},
   "source": [
    "After finding the atomtype name (hint: 'CL-'), we next can use it to add two of these ions to our system with the ion function."
   ]
  },
  {
   "cell_type": "code",
   "execution_count": 42,
   "metadata": {
    "execution": {
     "iopub.execute_input": "2022-04-04T16:01:14.949773Z",
     "iopub.status.busy": "2022-04-04T16:01:14.949344Z",
     "iopub.status.idle": "2022-04-04T16:01:14.962317Z",
     "shell.execute_reply": "2022-04-04T16:01:14.961757Z"
    }
   },
   "outputs": [
    {
     "ename": "NameError",
     "evalue": "name 'box_system' is not defined",
     "output_type": "error",
     "traceback": [
      "\u001b[0;31m---------------------------------------------------------------------------\u001b[0m",
      "\u001b[0;31mNameError\u001b[0m                                 Traceback (most recent call last)",
      "Input \u001b[0;32mIn [42]\u001b[0m, in \u001b[0;36m<cell line: 1>\u001b[0;34m()\u001b[0m\n\u001b[0;32m----> 1\u001b[0m help(\u001b[43mbox_system\u001b[49m\u001b[38;5;241m.\u001b[39mion)\n",
      "\u001b[0;31mNameError\u001b[0m: name 'box_system' is not defined"
     ]
    }
   ],
   "source": [
    "help(box_system.ion)"
   ]
  },
  {
   "cell_type": "code",
   "execution_count": 43,
   "metadata": {
    "execution": {
     "iopub.execute_input": "2022-04-04T16:01:14.964988Z",
     "iopub.status.busy": "2022-04-04T16:01:14.964494Z",
     "iopub.status.idle": "2022-04-04T16:01:14.979871Z",
     "shell.execute_reply": "2022-04-04T16:01:14.979338Z"
    }
   },
   "outputs": [
    {
     "ename": "NameError",
     "evalue": "name 'box_system' is not defined",
     "output_type": "error",
     "traceback": [
      "\u001b[0;31m---------------------------------------------------------------------------\u001b[0m",
      "\u001b[0;31mNameError\u001b[0m                                 Traceback (most recent call last)",
      "Input \u001b[0;32mIn [43]\u001b[0m, in \u001b[0;36m<cell line: 4>\u001b[0;34m()\u001b[0m\n\u001b[1;32m      1\u001b[0m \u001b[38;5;28;01mfrom\u001b[39;00m \u001b[38;5;21;01mpygromos\u001b[39;00m\u001b[38;5;21;01m.\u001b[39;00m\u001b[38;5;21;01mdata\u001b[39;00m\u001b[38;5;21;01m.\u001b[39;00m\u001b[38;5;21;01msolvent_coordinates\u001b[39;00m \u001b[38;5;28;01mimport\u001b[39;00m spc\n\u001b[1;32m      3\u001b[0m \u001b[38;5;66;03m## Build directory and setup a fresh Gromos System\u001b[39;00m\n\u001b[0;32m----> 4\u001b[0m ion_system \u001b[38;5;241m=\u001b[39m \u001b[43mbox_system\u001b[49m\u001b[38;5;241m.\u001b[39mcopy() \n\u001b[1;32m      5\u001b[0m ion_system\u001b[38;5;241m.\u001b[39mname \u001b[38;5;241m=\u001b[39m \u001b[38;5;124m\"\u001b[39m\u001b[38;5;124mion\u001b[39m\u001b[38;5;124m\"\u001b[39m\n\u001b[1;32m      6\u001b[0m ion_system\u001b[38;5;241m.\u001b[39mwork_folder \u001b[38;5;241m=\u001b[39m bash\u001b[38;5;241m.\u001b[39mmake_folder(project_dir\u001b[38;5;241m+\u001b[39m\u001b[38;5;124m\"\u001b[39m\u001b[38;5;124m/d_\u001b[39m\u001b[38;5;124m\"\u001b[39m\u001b[38;5;241m+\u001b[39mion_system\u001b[38;5;241m.\u001b[39mname)\n",
      "\u001b[0;31mNameError\u001b[0m: name 'box_system' is not defined"
     ]
    }
   ],
   "source": [
    "from pygromos.data.solvent_coordinates import spc\n",
    "\n",
    "## Build directory and setup a fresh Gromos System\n",
    "ion_system = box_system.copy() \n",
    "ion_system.name = \"ion\"\n",
    "ion_system.work_folder = bash.make_folder(project_dir+\"/d_\"+ion_system.name)\n",
    "\n",
    "#Add the ions to the System\n",
    "ion_system.ion(negative=[2, \"CL-\"])\n",
    "\n",
    "\n",
    "ion_system.rebase_files()   #write out the files, so you can check them (optional)\n",
    "ion_system.cnf.view  #show the results."
   ]
  },
  {
   "cell_type": "markdown",
   "metadata": {
    "pycharm": {
     "name": "#%% md\n"
    }
   },
   "source": [
    "### Energy Minimization BOX\n",
    "\n",
    "In order to relax the unfavorable atom-atom contacts between the solute and the solvent, energy minimization of the solvent should be performed while keeping the solute positionally restrained (i.e. connecting the atom to a reference position by a spring). In order to do that two additional files, in which the positionally restrained atoms and the reference coordinates are specified, have to be generated from the coordinate file in our gromos system. Afterwards, we are going to run the second energy minimization"
   ]
  },
  {
   "cell_type": "markdown",
   "metadata": {},
   "source": [
    "#### build posistion restraints\n",
    "To apply position restraints to our simulation for the peptide, we first need to generate a selection of residues, that shall not be modified by the energyminimization. This translates to the residues of the peptide. After this the function generate_posres can be used to generate two files.\n",
    "* **position restraints - posres(.por)**\n",
    "    This file defines the selection of atoms, that shall be restrained during the simulation.\n",
    "* **reference position - refpos (.rpf)**\n",
    "    This files defines a reference position for the system. Gromos will restrain the selected atoms in the posres file to the reference position file. So if the atom position during the simulation deviates from the refpos file, the program will restrain the atom, such it moves towards the reference position.\n"
   ]
  },
  {
   "cell_type": "code",
   "execution_count": 44,
   "metadata": {
    "execution": {
     "iopub.execute_input": "2022-04-04T16:01:14.982552Z",
     "iopub.status.busy": "2022-04-04T16:01:14.982266Z",
     "iopub.status.idle": "2022-04-04T16:01:14.998982Z",
     "shell.execute_reply": "2022-04-04T16:01:14.998501Z"
    }
   },
   "outputs": [
    {
     "ename": "NameError",
     "evalue": "name 'ion_system' is not defined",
     "output_type": "error",
     "traceback": [
      "\u001b[0;31m---------------------------------------------------------------------------\u001b[0m",
      "\u001b[0;31mNameError\u001b[0m                                 Traceback (most recent call last)",
      "Input \u001b[0;32mIn [44]\u001b[0m, in \u001b[0;36m<cell line: 5>\u001b[0;34m()\u001b[0m\n\u001b[1;32m      2\u001b[0m \u001b[38;5;28;01mfrom\u001b[39;00m \u001b[38;5;21;01mpygromos\u001b[39;00m\u001b[38;5;21;01m.\u001b[39;00m\u001b[38;5;21;01mdata\u001b[39;00m\u001b[38;5;21;01m.\u001b[39;00m\u001b[38;5;21;01msimulation_parameters_templates\u001b[39;00m \u001b[38;5;28;01mimport\u001b[39;00m template_emin\n\u001b[1;32m      4\u001b[0m \u001b[38;5;66;03m# Preparing emin gromos system\u001b[39;00m\n\u001b[0;32m----> 5\u001b[0m in_eminBox_system \u001b[38;5;241m=\u001b[39m \u001b[43mion_system\u001b[49m\u001b[38;5;241m.\u001b[39mcopy()\n\u001b[1;32m      6\u001b[0m in_eminBox_system\u001b[38;5;241m.\u001b[39mname \u001b[38;5;241m=\u001b[39m \u001b[38;5;124m\"\u001b[39m\u001b[38;5;124memin_solvBox\u001b[39m\u001b[38;5;124m\"\u001b[39m\n\u001b[1;32m      7\u001b[0m in_eminBox_system\u001b[38;5;241m.\u001b[39mwork_folder \u001b[38;5;241m=\u001b[39m project_dir\n",
      "\u001b[0;31mNameError\u001b[0m: name 'ion_system' is not defined"
     ]
    }
   ],
   "source": [
    "\n",
    "from pygromos.simulations.modules.preset_simulation_modules import emin\n",
    "from pygromos.data.simulation_parameters_templates import template_emin\n",
    "\n",
    "# Preparing emin gromos system\n",
    "in_eminBox_system = ion_system.copy()\n",
    "in_eminBox_system.name = \"emin_solvBox\"\n",
    "in_eminBox_system.work_folder = project_dir\n",
    "\n",
    "# Build position restraints\n",
    "## Build selection for residues\n",
    "restrain_res = [k for k in in_eminBox_system.cnf.residues if(not k in (\"CL-\", \"SOLV\"))]\n",
    "print(\"Selection of residues: \", restrain_res)\n",
    "## Build the restrain files\n",
    "in_eminBox_system.generate_posres(residues=restrain_res)\n",
    "\n",
    "# Check simulation params\n",
    "in_eminBox_system.imd = template_emin   #Here we use template simulation parameters, The blocks are the same as above in the vacuum case with slight deviations.\n",
    "in_eminBox_system.imd.INITIALISE.NTISHI = 1\n",
    "\n",
    "in_eminBox_system.prepare_for_simulation()\n",
    "\n",
    "in_eminBox_system"
   ]
  },
  {
   "cell_type": "markdown",
   "metadata": {},
   "source": [
    "In the ouptut of the in_eminBox_system two new files appeared the posres and refpos file:\n"
   ]
  },
  {
   "cell_type": "code",
   "execution_count": 45,
   "metadata": {
    "execution": {
     "iopub.execute_input": "2022-04-04T16:01:15.001722Z",
     "iopub.status.busy": "2022-04-04T16:01:15.001263Z",
     "iopub.status.idle": "2022-04-04T16:01:15.013207Z",
     "shell.execute_reply": "2022-04-04T16:01:15.012628Z"
    }
   },
   "outputs": [
    {
     "ename": "NameError",
     "evalue": "name 'in_eminBox_system' is not defined",
     "output_type": "error",
     "traceback": [
      "\u001b[0;31m---------------------------------------------------------------------------\u001b[0m",
      "\u001b[0;31mNameError\u001b[0m                                 Traceback (most recent call last)",
      "Input \u001b[0;32mIn [45]\u001b[0m, in \u001b[0;36m<cell line: 1>\u001b[0;34m()\u001b[0m\n\u001b[0;32m----> 1\u001b[0m \u001b[38;5;28mprint\u001b[39m(\u001b[43min_eminBox_system\u001b[49m\u001b[38;5;241m.\u001b[39mposres)\n",
      "\u001b[0;31mNameError\u001b[0m: name 'in_eminBox_system' is not defined"
     ]
    }
   ],
   "source": [
    "print(in_eminBox_system.posres)"
   ]
  },
  {
   "cell_type": "code",
   "execution_count": 46,
   "metadata": {
    "execution": {
     "iopub.execute_input": "2022-04-04T16:01:15.015863Z",
     "iopub.status.busy": "2022-04-04T16:01:15.015611Z",
     "iopub.status.idle": "2022-04-04T16:01:15.027398Z",
     "shell.execute_reply": "2022-04-04T16:01:15.026915Z"
    }
   },
   "outputs": [
    {
     "ename": "NameError",
     "evalue": "name 'in_eminBox_system' is not defined",
     "output_type": "error",
     "traceback": [
      "\u001b[0;31m---------------------------------------------------------------------------\u001b[0m",
      "\u001b[0;31mNameError\u001b[0m                                 Traceback (most recent call last)",
      "Input \u001b[0;32mIn [46]\u001b[0m, in \u001b[0;36m<cell line: 1>\u001b[0;34m()\u001b[0m\n\u001b[0;32m----> 1\u001b[0m \u001b[43min_eminBox_system\u001b[49m\u001b[38;5;241m.\u001b[39mrefpos\n",
      "\u001b[0;31mNameError\u001b[0m: name 'in_eminBox_system' is not defined"
     ]
    }
   ],
   "source": [
    "in_eminBox_system.refpos "
   ]
  },
  {
   "cell_type": "markdown",
   "metadata": {},
   "source": [
    "#### Perform Emin\n",
    "Now we will perform the solvent box energy minimization with the restrained peptide."
   ]
  },
  {
   "cell_type": "code",
   "execution_count": 47,
   "metadata": {
    "execution": {
     "iopub.execute_input": "2022-04-04T16:01:15.030029Z",
     "iopub.status.busy": "2022-04-04T16:01:15.029643Z",
     "iopub.status.idle": "2022-04-04T16:01:15.045402Z",
     "shell.execute_reply": "2022-04-04T16:01:15.043748Z"
    }
   },
   "outputs": [
    {
     "ename": "NameError",
     "evalue": "name 'in_eminBox_system' is not defined",
     "output_type": "error",
     "traceback": [
      "\u001b[0;31m---------------------------------------------------------------------------\u001b[0m",
      "\u001b[0;31mNameError\u001b[0m                                 Traceback (most recent call last)",
      "Input \u001b[0;32mIn [47]\u001b[0m, in \u001b[0;36m<cell line: 2>\u001b[0;34m()\u001b[0m\n\u001b[1;32m      1\u001b[0m \u001b[38;5;66;03m# run emin\u001b[39;00m\n\u001b[0;32m----> 2\u001b[0m out_eminBox_system \u001b[38;5;241m=\u001b[39m emin(in_gromos_system\u001b[38;5;241m=\u001b[39m\u001b[43min_eminBox_system\u001b[49m, \n\u001b[1;32m      3\u001b[0m                           step_name\u001b[38;5;241m=\u001b[39m\u001b[38;5;124m\"\u001b[39m\u001b[38;5;124me_\u001b[39m\u001b[38;5;124m\"\u001b[39m\u001b[38;5;241m+\u001b[39min_eminBox_system\u001b[38;5;241m.\u001b[39mname)\n",
      "\u001b[0;31mNameError\u001b[0m: name 'in_eminBox_system' is not defined"
     ]
    }
   ],
   "source": [
    "# run emin\n",
    "out_eminBox_system = emin(in_gromos_system=in_eminBox_system, \n",
    "                          step_name=\"e_\"+in_eminBox_system.name)\n",
    "\n"
   ]
  },
  {
   "cell_type": "markdown",
   "metadata": {},
   "source": [
    "Whoops what happened here? What you see is the effect of the periodic box and the  peptide placed directly at the corners of the box. \n",
    "This is absolutely ok and there is nothing to worry about. We can recenter the peptide and then we see the expected same configuration like from the vacuum emin."
   ]
  },
  {
   "cell_type": "code",
   "execution_count": 48,
   "metadata": {
    "execution": {
     "iopub.execute_input": "2022-04-04T16:01:15.048039Z",
     "iopub.status.busy": "2022-04-04T16:01:15.047607Z",
     "iopub.status.idle": "2022-04-04T16:01:15.063475Z",
     "shell.execute_reply": "2022-04-04T16:01:15.062893Z"
    }
   },
   "outputs": [
    {
     "ename": "NameError",
     "evalue": "name 'out_eminBox_system' is not defined",
     "output_type": "error",
     "traceback": [
      "\u001b[0;31m---------------------------------------------------------------------------\u001b[0m",
      "\u001b[0;31mNameError\u001b[0m                                 Traceback (most recent call last)",
      "Input \u001b[0;32mIn [48]\u001b[0m, in \u001b[0;36m<cell line: 2>\u001b[0;34m()\u001b[0m\n\u001b[1;32m      1\u001b[0m \u001b[38;5;66;03m#show resulting coordinates\u001b[39;00m\n\u001b[0;32m----> 2\u001b[0m view \u001b[38;5;241m=\u001b[39m \u001b[43mout_eminBox_system\u001b[49m\u001b[38;5;241m.\u001b[39mcnf\u001b[38;5;241m.\u001b[39mview\n\u001b[1;32m      3\u001b[0m view\n",
      "\u001b[0;31mNameError\u001b[0m: name 'out_eminBox_system' is not defined"
     ]
    }
   ],
   "source": [
    "#show resulting coordinates\n",
    "view = out_eminBox_system.cnf.view\n",
    "view"
   ]
  },
  {
   "cell_type": "markdown",
   "metadata": {},
   "source": [
    "Now lets fix that!"
   ]
  },
  {
   "cell_type": "code",
   "execution_count": 49,
   "metadata": {
    "execution": {
     "iopub.execute_input": "2022-04-04T16:01:15.066716Z",
     "iopub.status.busy": "2022-04-04T16:01:15.066276Z",
     "iopub.status.idle": "2022-04-04T16:01:15.078569Z",
     "shell.execute_reply": "2022-04-04T16:01:15.078093Z"
    }
   },
   "outputs": [
    {
     "ename": "NameError",
     "evalue": "name 'out_eminBox_system' is not defined",
     "output_type": "error",
     "traceback": [
      "\u001b[0;31m---------------------------------------------------------------------------\u001b[0m",
      "\u001b[0;31mNameError\u001b[0m                                 Traceback (most recent call last)",
      "Input \u001b[0;32mIn [49]\u001b[0m, in \u001b[0;36m<cell line: 3>\u001b[0;34m()\u001b[0m\n\u001b[1;32m      1\u001b[0m \u001b[38;5;66;03m#out_eminBox_system.cnf.recenter_pbc()\u001b[39;00m\n\u001b[0;32m----> 3\u001b[0m \u001b[43mout_eminBox_system\u001b[49m\u001b[38;5;241m.\u001b[39mcnf\u001b[38;5;241m.\u001b[39mrecreate_view()\n\u001b[1;32m      4\u001b[0m recentered_view \u001b[38;5;241m=\u001b[39m out_eminBox_system\u001b[38;5;241m.\u001b[39mcnf\u001b[38;5;241m.\u001b[39mview\n\u001b[1;32m      5\u001b[0m recentered_view\n",
      "\u001b[0;31mNameError\u001b[0m: name 'out_eminBox_system' is not defined"
     ]
    }
   ],
   "source": [
    "#out_eminBox_system.cnf.recenter_pbc()\n",
    "\n",
    "out_eminBox_system.cnf.recreate_view()\n",
    "recentered_view = out_eminBox_system.cnf.view\n",
    "recentered_view"
   ]
  },
  {
   "cell_type": "code",
   "execution_count": 50,
   "metadata": {
    "execution": {
     "iopub.execute_input": "2022-04-04T16:01:15.081194Z",
     "iopub.status.busy": "2022-04-04T16:01:15.080811Z",
     "iopub.status.idle": "2022-04-04T16:01:15.093131Z",
     "shell.execute_reply": "2022-04-04T16:01:15.092603Z"
    }
   },
   "outputs": [
    {
     "ename": "NameError",
     "evalue": "name 'out_eminBox_system' is not defined",
     "output_type": "error",
     "traceback": [
      "\u001b[0;31m---------------------------------------------------------------------------\u001b[0m",
      "\u001b[0;31mNameError\u001b[0m                                 Traceback (most recent call last)",
      "Input \u001b[0;32mIn [50]\u001b[0m, in \u001b[0;36m<cell line: 1>\u001b[0;34m()\u001b[0m\n\u001b[0;32m----> 1\u001b[0m out_eminBox_system_path \u001b[38;5;241m=\u001b[39m \u001b[43mout_eminBox_system\u001b[49m\u001b[38;5;241m.\u001b[39msave(out_eminBox_system\u001b[38;5;241m.\u001b[39mwork_folder\u001b[38;5;241m+\u001b[39m\u001b[38;5;124m\"\u001b[39m\u001b[38;5;124m/emin_box_result.obj\u001b[39m\u001b[38;5;124m\"\u001b[39m)\n",
      "\u001b[0;31mNameError\u001b[0m: name 'out_eminBox_system' is not defined"
     ]
    }
   ],
   "source": [
    "out_eminBox_system_path = out_eminBox_system.save(out_eminBox_system.work_folder+\"/emin_box_result.obj\")"
   ]
  },
  {
   "cell_type": "markdown",
   "metadata": {
    "pycharm": {
     "name": "#%% md\n"
    }
   },
   "source": [
    "## Thermalisation and equilibration.\n",
    "\n",
    "In the previous steps you have generated a topology and initial coordinates of your system. At this point,\n",
    "you have to generate initial velocities. In the process of thermalisation and equilibration, initial velocities\n",
    "are sampled from a Maxwell-Boltzmann distribution at a low temperature and the system is slowly heated\n",
    "up to the final production simulation temperature. The atoms of the solute are again positionally restrained and\n",
    "these restraints are loosened while heating up. With the help of these restraints you make sure that the\n",
    "random initial velocities do not disrupt the initial conformation too much.\n",
    "\n",
    "### Simulation Paramters\n",
    "To performe the described equilibration we require additional Simulation Parameter blocks that will be described in the following. First we will load a simulation parameter template for MD simulations."
   ]
  },
  {
   "cell_type": "code",
   "execution_count": 51,
   "metadata": {
    "execution": {
     "iopub.execute_input": "2022-04-04T16:01:15.095922Z",
     "iopub.status.busy": "2022-04-04T16:01:15.095667Z",
     "iopub.status.idle": "2022-04-04T16:01:15.100623Z",
     "shell.execute_reply": "2022-04-04T16:01:15.100147Z"
    }
   },
   "outputs": [],
   "source": [
    "from pygromos.data.simulation_parameters_templates import template_md_tut as template_md\n",
    "from pygromos.files.simulation_parameters import imd\n",
    "\n",
    "\n",
    "md_imd_file = imd.Imd(template_md) #in_eq_system.imd\n"
   ]
  },
  {
   "cell_type": "markdown",
   "metadata": {},
   "source": [
    "#### Initialise Block\n",
    "In the INITIALISE block the NTIVEL tells GROMOS whether it should generate the initial velocities or\n",
    "read them from the configuration file. NTISHK is used to restore bond length constraints (SHAKE). NTINHT\n",
    "and NTINHB are only used for Nose-Hoover thermo- and barostats and can be ignored in our case. Every\n",
    "time an atom is leaving the periodic box and entering it from the opposite site this incident is recorded in\n",
    "the so-called lattice shift vectors. Using NTISHI we want to make sure that these vectors are initialised to\n",
    "zero. As you don’t want to use roto-translational constraints NTIRTC can be ignored. NTICOM is used for\n",
    "initial removal of centre of mass motion. NTISTI is used to reset the stochastic integrals used in stochastic\n",
    "dynamics (SD) simulations. IG is the random number generator seed and TEMPI the initial temperature used\n",
    "to generate the Maxwell-Boltzmann distribution for generation of initial velocities. See also 4-94 for more\n",
    "information."
   ]
  },
  {
   "cell_type": "code",
   "execution_count": 52,
   "metadata": {
    "execution": {
     "iopub.execute_input": "2022-04-04T16:01:15.102764Z",
     "iopub.status.busy": "2022-04-04T16:01:15.102442Z",
     "iopub.status.idle": "2022-04-04T16:01:15.108007Z",
     "shell.execute_reply": "2022-04-04T16:01:15.107517Z"
    }
   },
   "outputs": [
    {
     "name": "stdout",
     "output_type": "stream",
     "text": [
      "Help on INITIALISE in module pygromos.files.blocks.imd_blocks object:\n",
      "\n",
      "class INITIALISE(_generic_imd_block)\n",
      " |  INITIALISE(NTIVEL: bool = False, NTISHK: int = 0, NTINHT: bool = False, NTINHB: bool = False, NTISHI: bool = False, NTIRTC: bool = False, NTICOM: int = 0, NTISTI: bool = False, IG: int = 0, TEMPI: float = 0, content: List[str] = None)\n",
      " |  \n",
      " |  INITIALISE block\n",
      " |  \n",
      " |      This block controls the Initialisation of a simulation.\n",
      " |  \n",
      " |  Attributes\n",
      " |  ----------\n",
      " |  NTIVEL: bool\n",
      " |      0,1 controls generation of initial velocities\n",
      " |      0: read from configuration (default)\n",
      " |      1: generate from Maxell distribution at temperature TEMPI\n",
      " |  NTISHK: int\n",
      " |      0..3 controls shaking of initial configuration\n",
      " |      0: no intial SHAKE (default)\n",
      " |      1: initial SHAKE on coordinates only\n",
      " |      2: initial SHAKE on velocities only\n",
      " |      3: initial SHAKE on coordinates and velocities\n",
      " |  NTINHT: bool\n",
      " |      0,1 controls generation of initial Nose-Hoover chain variables\n",
      " |      0: read from configuration (default)\n",
      " |      1: reset variables to zero.\n",
      " |  NTINHB: bool\n",
      " |      0,1 controls generation of initial Nose-Hoover (chain) barostat variables\n",
      " |      0: read from strartup file (if applicable) (default)\n",
      " |      1: reset variables to zero\n",
      " |  NTISHI: bool\n",
      " |      0,1 controls initial setting for lattice shift vectors\n",
      " |      0: read from configuration (default)\n",
      " |      1: reset shifts to zero.\n",
      " |  NTIRTC: bool\n",
      " |      0,1 controls initial setting of positions and orientations for roto-translational constraints\n",
      " |      0: read from configuration (default)\n",
      " |      1: reset based on initial configuraion of startup file\n",
      " |  NTICOM: int\n",
      " |      0,1,2 controls initial removal of COM motion\n",
      " |      0: no initial system COM motion removal (default)\n",
      " |      1: initial COM translation is removed\n",
      " |      2: initial COM rotation is removed\n",
      " |  NTISTI: bool\n",
      " |      0,1 controls generation of stochastic integrals\n",
      " |      0: read stochastic integrals and IG from configuration (default)\n",
      " |      1: set stochastic integrals to zero and use IG from here.\n",
      " |  IG: int\n",
      " |      random number generator seed\n",
      " |  TEMPI:  float\n",
      " |      initial temperature\n",
      " |  \n",
      " |  Method resolution order:\n",
      " |      INITIALISE\n",
      " |      _generic_imd_block\n",
      " |      pygromos.files.blocks._general_blocks._generic_gromos_block\n",
      " |      builtins.object\n",
      " |  \n",
      " |  Methods defined here:\n",
      " |  \n",
      " |  __init__(self, NTIVEL: bool = False, NTISHK: int = 0, NTINHT: bool = False, NTINHB: bool = False, NTISHI: bool = False, NTIRTC: bool = False, NTICOM: int = 0, NTISTI: bool = False, IG: int = 0, TEMPI: float = 0, content: List[str] = None)\n",
      " |      Args:\n",
      " |          NTIVEL:\n",
      " |          NTISHK:\n",
      " |          NTINHT:\n",
      " |          NTINHB:\n",
      " |          NTISHI:\n",
      " |          NTIRTC:\n",
      " |          NTICOM:\n",
      " |          NTISTI:\n",
      " |          IG:\n",
      " |          TEMPI:\n",
      " |  \n",
      " |  ----------------------------------------------------------------------\n",
      " |  Data and other attributes defined here:\n",
      " |  \n",
      " |  __annotations__ = {'IG': <class 'int'>, 'NTICOM': <class 'int'>, 'NTIN...\n",
      " |  \n",
      " |  name = 'INITIALISE'\n",
      " |  \n",
      " |  ----------------------------------------------------------------------\n",
      " |  Methods inherited from _generic_imd_block:\n",
      " |  \n",
      " |  block_to_string(self) -> str\n",
      " |  \n",
      " |  read_content_from_str(self, content: List[str])\n",
      " |  \n",
      " |  ----------------------------------------------------------------------\n",
      " |  Methods inherited from pygromos.files.blocks._general_blocks._generic_gromos_block:\n",
      " |  \n",
      " |  __copy__(self)\n",
      " |  \n",
      " |  __deepcopy__(self, memo)\n",
      " |  \n",
      " |  __eq__(self, _generic_gromos_block__o: object) -> bool\n",
      " |      Return self==value.\n",
      " |  \n",
      " |  __iter__(self)\n",
      " |  \n",
      " |  __repr__(self)\n",
      " |      Return repr(self).\n",
      " |  \n",
      " |  __str__(self)\n",
      " |      Return str(self).\n",
      " |  \n",
      " |  get_name(self)\n",
      " |  \n",
      " |  ----------------------------------------------------------------------\n",
      " |  Data descriptors inherited from pygromos.files.blocks._general_blocks._generic_gromos_block:\n",
      " |  \n",
      " |  __dict__\n",
      " |      dictionary for instance variables (if defined)\n",
      " |  \n",
      " |  __weakref__\n",
      " |      list of weak references to the object (if defined)\n",
      " |  \n",
      " |  ----------------------------------------------------------------------\n",
      " |  Data and other attributes inherited from pygromos.files.blocks._general_blocks._generic_gromos_block:\n",
      " |  \n",
      " |  __hash__ = None\n",
      "\n"
     ]
    }
   ],
   "source": [
    "help(md_imd_file.INITIALISE)"
   ]
  },
  {
   "cell_type": "markdown",
   "metadata": {},
   "source": [
    "And now we will check the set options in our template:"
   ]
  },
  {
   "cell_type": "code",
   "execution_count": 53,
   "metadata": {
    "execution": {
     "iopub.execute_input": "2022-04-04T16:01:15.110380Z",
     "iopub.status.busy": "2022-04-04T16:01:15.110057Z",
     "iopub.status.idle": "2022-04-04T16:01:15.118301Z",
     "shell.execute_reply": "2022-04-04T16:01:15.117839Z"
    }
   },
   "outputs": [
    {
     "data": {
      "text/plain": [
       "INITIALISE\n",
       "# \t NTIVEL \t NTISHK \t NTINHT \t NTINHB\n",
       " \t 1 \t 0 \t 0 \t 0 \t \n",
       "# \t NTISHI \t NTIRTC \t NTICOM\n",
       " \t 1 \t 0 \t 1 \t \n",
       "# \t NTISTI\n",
       " \t 0 \t \n",
       "# \t IG \t TEMPI\n",
       " \t 12416 \t 300.000000 \t \n",
       "END"
      ]
     },
     "execution_count": 53,
     "metadata": {},
     "output_type": "execute_result"
    }
   ],
   "source": [
    "md_imd_file.INITIALISE"
   ]
  },
  {
   "cell_type": "markdown",
   "metadata": {},
   "source": [
    "### System Block\n",
    "In the SYSTEM block you would need to replace NSM with the number of solvent molecules in your system, but the *prepare_simulation* function takes care of that for you. \n"
   ]
  },
  {
   "cell_type": "code",
   "execution_count": 54,
   "metadata": {
    "execution": {
     "iopub.execute_input": "2022-04-04T16:01:15.121069Z",
     "iopub.status.busy": "2022-04-04T16:01:15.120626Z",
     "iopub.status.idle": "2022-04-04T16:01:15.132997Z",
     "shell.execute_reply": "2022-04-04T16:01:15.132491Z"
    }
   },
   "outputs": [
    {
     "ename": "NameError",
     "evalue": "name 'out_eminBox_system' is not defined",
     "output_type": "error",
     "traceback": [
      "\u001b[0;31m---------------------------------------------------------------------------\u001b[0m",
      "\u001b[0;31mNameError\u001b[0m                                 Traceback (most recent call last)",
      "Input \u001b[0;32mIn [54]\u001b[0m, in \u001b[0;36m<cell line: 2>\u001b[0;34m()\u001b[0m\n\u001b[1;32m      1\u001b[0m \u001b[38;5;66;03m#The last SOLV molecule can be found out like this:\u001b[39;00m\n\u001b[0;32m----> 2\u001b[0m \u001b[38;5;28mstr\u001b[39m(\u001b[43mout_eminBox_system\u001b[49m\u001b[38;5;241m.\u001b[39mcnf\u001b[38;5;241m.\u001b[39mPOSITION[\u001b[38;5;241m-\u001b[39m\u001b[38;5;241m1\u001b[39m])\n",
      "\u001b[0;31mNameError\u001b[0m: name 'out_eminBox_system' is not defined"
     ]
    }
   ],
   "source": [
    "#The last SOLV molecule can be found out like this:\n",
    "str(out_eminBox_system.cnf.POSITION[-1])"
   ]
  },
  {
   "cell_type": "code",
   "execution_count": 55,
   "metadata": {
    "execution": {
     "iopub.execute_input": "2022-04-04T16:01:15.135595Z",
     "iopub.status.busy": "2022-04-04T16:01:15.135120Z",
     "iopub.status.idle": "2022-04-04T16:01:15.138641Z",
     "shell.execute_reply": "2022-04-04T16:01:15.138167Z"
    }
   },
   "outputs": [
    {
     "data": {
      "text/plain": [
       "SYSTEM\n",
       "# \t NPM \t NSM\n",
       " \t 1 \t 5 \t \n",
       "END"
      ]
     },
     "execution_count": 55,
     "metadata": {},
     "output_type": "execute_result"
    }
   ],
   "source": [
    "#the template currently contains these values - note NSM is 1172, which is wrong!\n",
    "md_imd_file.SYSTEM"
   ]
  },
  {
   "cell_type": "markdown",
   "metadata": {},
   "source": [
    "#### STEP Block\n",
    "In the STEP block you specify how many steps you want to simulate (NSTLIM), at what time your simulation\n",
    "starts (T) and how big the integration time step (DT) is. In this case you want to start at time 0 and you\n",
    "want to carry out a 20 ps simulation, because the time unit happens to be ps."
   ]
  },
  {
   "cell_type": "code",
   "execution_count": 56,
   "metadata": {
    "execution": {
     "iopub.execute_input": "2022-04-04T16:01:15.140833Z",
     "iopub.status.busy": "2022-04-04T16:01:15.140583Z",
     "iopub.status.idle": "2022-04-04T16:01:15.145369Z",
     "shell.execute_reply": "2022-04-04T16:01:15.144735Z"
    }
   },
   "outputs": [
    {
     "name": "stdout",
     "output_type": "stream",
     "text": [
      "Help on STEP in module pygromos.files.blocks.imd_blocks object:\n",
      "\n",
      "class STEP(_generic_imd_block)\n",
      " |  STEP(NSTLIM: int = 0, T: float = 0, DT: float = 0, content: List[str] = None)\n",
      " |  \n",
      " |  Step Block\n",
      " |  \n",
      " |      This Block gives the number of simulation steps,\n",
      " |  \n",
      " |  Attributes\n",
      " |  -----------\n",
      " |  NSTLIM: int\n",
      " |      number of simulations Step till terminating.\n",
      " |  T:  float\n",
      " |      Starting Time\n",
      " |  DT: float\n",
      " |      time step [fs]\n",
      " |  \n",
      " |  Method resolution order:\n",
      " |      STEP\n",
      " |      _generic_imd_block\n",
      " |      pygromos.files.blocks._general_blocks._generic_gromos_block\n",
      " |      builtins.object\n",
      " |  \n",
      " |  Methods defined here:\n",
      " |  \n",
      " |  __init__(self, NSTLIM: int = 0, T: float = 0, DT: float = 0, content: List[str] = None)\n",
      " |      Initialize self.  See help(type(self)) for accurate signature.\n",
      " |  \n",
      " |  ----------------------------------------------------------------------\n",
      " |  Data and other attributes defined here:\n",
      " |  \n",
      " |  __annotations__ = {'DT': <class 'float'>, 'NSTLIM': <class 'int'>, 'T'...\n",
      " |  \n",
      " |  name = 'STEP'\n",
      " |  \n",
      " |  ----------------------------------------------------------------------\n",
      " |  Methods inherited from _generic_imd_block:\n",
      " |  \n",
      " |  block_to_string(self) -> str\n",
      " |  \n",
      " |  read_content_from_str(self, content: List[str])\n",
      " |  \n",
      " |  ----------------------------------------------------------------------\n",
      " |  Methods inherited from pygromos.files.blocks._general_blocks._generic_gromos_block:\n",
      " |  \n",
      " |  __copy__(self)\n",
      " |  \n",
      " |  __deepcopy__(self, memo)\n",
      " |  \n",
      " |  __eq__(self, _generic_gromos_block__o: object) -> bool\n",
      " |      Return self==value.\n",
      " |  \n",
      " |  __iter__(self)\n",
      " |  \n",
      " |  __repr__(self)\n",
      " |      Return repr(self).\n",
      " |  \n",
      " |  __str__(self)\n",
      " |      Return str(self).\n",
      " |  \n",
      " |  get_name(self)\n",
      " |  \n",
      " |  ----------------------------------------------------------------------\n",
      " |  Data descriptors inherited from pygromos.files.blocks._general_blocks._generic_gromos_block:\n",
      " |  \n",
      " |  __dict__\n",
      " |      dictionary for instance variables (if defined)\n",
      " |  \n",
      " |  __weakref__\n",
      " |      list of weak references to the object (if defined)\n",
      " |  \n",
      " |  ----------------------------------------------------------------------\n",
      " |  Data and other attributes inherited from pygromos.files.blocks._general_blocks._generic_gromos_block:\n",
      " |  \n",
      " |  __hash__ = None\n",
      "\n"
     ]
    }
   ],
   "source": [
    "help(md_imd_file.STEP)"
   ]
  },
  {
   "cell_type": "code",
   "execution_count": 57,
   "metadata": {
    "execution": {
     "iopub.execute_input": "2022-04-04T16:01:15.148356Z",
     "iopub.status.busy": "2022-04-04T16:01:15.147981Z",
     "iopub.status.idle": "2022-04-04T16:01:15.153392Z",
     "shell.execute_reply": "2022-04-04T16:01:15.152834Z"
    }
   },
   "outputs": [
    {
     "data": {
      "text/plain": [
       "STEP\n",
       "# \t NSTLIM \t T \t DT\n",
       " \t 1000 \t 0.000000 \t 0.002000 \t \n",
       "END"
      ]
     },
     "execution_count": 57,
     "metadata": {},
     "output_type": "execute_result"
    }
   ],
   "source": [
    "md_imd_file.STEP"
   ]
  },
  {
   "cell_type": "markdown",
   "metadata": {},
   "source": [
    "#### BOUNDCOND Block\n",
    "As previously described, with the BOUNDCOND block you specify which PBC you will use. With NTB=1 you\n",
    "specify rectangular PBC."
   ]
  },
  {
   "cell_type": "code",
   "execution_count": 58,
   "metadata": {
    "execution": {
     "iopub.execute_input": "2022-04-04T16:01:15.159352Z",
     "iopub.status.busy": "2022-04-04T16:01:15.158848Z",
     "iopub.status.idle": "2022-04-04T16:01:15.166079Z",
     "shell.execute_reply": "2022-04-04T16:01:15.165487Z"
    }
   },
   "outputs": [
    {
     "name": "stdout",
     "output_type": "stream",
     "text": [
      "Help on BOUNDCOND in module pygromos.files.blocks.imd_blocks object:\n",
      "\n",
      "class BOUNDCOND(_generic_imd_block)\n",
      " |  BOUNDCOND(NTB: int = 0, NDFMIN: int = 0, content: List[str] = None)\n",
      " |  \n",
      " |  Boundary Condition Block\n",
      " |  \n",
      " |      This block describes the boundary condition of the coordinate system.\n",
      " |  \n",
      " |  Attributes\n",
      " |  ----------\n",
      " |      NTB : int, optional\n",
      " |          Boundary conditions, by default 0\n",
      " |          -1 : truncated octahedral\n",
      " |           0 : vacuum\n",
      " |           1 : rectangular\n",
      " |           2 : triclinic\n",
      " |      NDFMIN : int, optional\n",
      " |          number of degrees of freedom subtracted for temperature, by default 0\n",
      " |  \n",
      " |  Method resolution order:\n",
      " |      BOUNDCOND\n",
      " |      _generic_imd_block\n",
      " |      pygromos.files.blocks._general_blocks._generic_gromos_block\n",
      " |      builtins.object\n",
      " |  \n",
      " |  Methods defined here:\n",
      " |  \n",
      " |  __init__(self, NTB: int = 0, NDFMIN: int = 0, content: List[str] = None)\n",
      " |      Initialize self.  See help(type(self)) for accurate signature.\n",
      " |  \n",
      " |  ----------------------------------------------------------------------\n",
      " |  Data and other attributes defined here:\n",
      " |  \n",
      " |  __annotations__ = {'NDFMIN': <class 'int'>, 'NTB': <class 'int'>, 'nam...\n",
      " |  \n",
      " |  name = 'BOUNDCOND'\n",
      " |  \n",
      " |  ----------------------------------------------------------------------\n",
      " |  Methods inherited from _generic_imd_block:\n",
      " |  \n",
      " |  block_to_string(self) -> str\n",
      " |  \n",
      " |  read_content_from_str(self, content: List[str])\n",
      " |  \n",
      " |  ----------------------------------------------------------------------\n",
      " |  Methods inherited from pygromos.files.blocks._general_blocks._generic_gromos_block:\n",
      " |  \n",
      " |  __copy__(self)\n",
      " |  \n",
      " |  __deepcopy__(self, memo)\n",
      " |  \n",
      " |  __eq__(self, _generic_gromos_block__o: object) -> bool\n",
      " |      Return self==value.\n",
      " |  \n",
      " |  __iter__(self)\n",
      " |  \n",
      " |  __repr__(self)\n",
      " |      Return repr(self).\n",
      " |  \n",
      " |  __str__(self)\n",
      " |      Return str(self).\n",
      " |  \n",
      " |  get_name(self)\n",
      " |  \n",
      " |  ----------------------------------------------------------------------\n",
      " |  Data descriptors inherited from pygromos.files.blocks._general_blocks._generic_gromos_block:\n",
      " |  \n",
      " |  __dict__\n",
      " |      dictionary for instance variables (if defined)\n",
      " |  \n",
      " |  __weakref__\n",
      " |      list of weak references to the object (if defined)\n",
      " |  \n",
      " |  ----------------------------------------------------------------------\n",
      " |  Data and other attributes inherited from pygromos.files.blocks._general_blocks._generic_gromos_block:\n",
      " |  \n",
      " |  __hash__ = None\n",
      "\n"
     ]
    }
   ],
   "source": [
    "help(md_imd_file.BOUNDCOND)"
   ]
  },
  {
   "cell_type": "code",
   "execution_count": 59,
   "metadata": {
    "execution": {
     "iopub.execute_input": "2022-04-04T16:01:15.168792Z",
     "iopub.status.busy": "2022-04-04T16:01:15.168239Z",
     "iopub.status.idle": "2022-04-04T16:01:15.172980Z",
     "shell.execute_reply": "2022-04-04T16:01:15.172442Z"
    }
   },
   "outputs": [
    {
     "data": {
      "text/plain": [
       "BOUNDCOND\n",
       "# \t NTB \t NDFMIN\n",
       " \t 1 \t 3 \t \n",
       "END"
      ]
     },
     "execution_count": 59,
     "metadata": {},
     "output_type": "execute_result"
    }
   ],
   "source": [
    "md_imd_file.BOUNDCOND"
   ]
  },
  {
   "cell_type": "markdown",
   "metadata": {},
   "source": [
    "#### MULTIBATH Block\n",
    "\n",
    "In our case we want to run the simulation at constant temperature. For this purpose, we have to add the\n",
    "MULTIBATH input block (see 4-96). First we specify which algorithm we will use. In this case we will use\n",
    "the weak-coupling scheme (ALGORITHM=0). How many temperature baths we want to couple to the system\n",
    "is specified by NBATHS. You can specify the temperature using the TEMP0 parameter. TAUT is the coupling\n",
    "time used in the weak-coupling method for this bath. DOFSET specifies the number of distiguishable sets\n",
    "of degrees of freedom. LAST is pointing to the last atom for the set of degrees of freedom; thus, you put\n",
    "the number of last atom of your system instead of LSTATM. COMBATH is the temperature bath to which we\n",
    "want to couple the centre of mass motion of this set of degrees of freedom IRBATH is the temperature bath\n",
    "to which the internal and rotational degrees of freedom of this set of degrees of freedom are coupled."
   ]
  },
  {
   "cell_type": "code",
   "execution_count": 60,
   "metadata": {
    "execution": {
     "iopub.execute_input": "2022-04-04T16:01:15.176470Z",
     "iopub.status.busy": "2022-04-04T16:01:15.175724Z",
     "iopub.status.idle": "2022-04-04T16:01:15.181500Z",
     "shell.execute_reply": "2022-04-04T16:01:15.180971Z"
    }
   },
   "outputs": [
    {
     "name": "stdout",
     "output_type": "stream",
     "text": [
      "Help on MULTIBATH in module pygromos.files.blocks.imd_blocks object:\n",
      "\n",
      "class MULTIBATH(_generic_imd_block)\n",
      " |  MULTIBATH(ALGORITHM: int = 0, NBATHS: int = 0, TEMP0: List[float] = [], TAU: List[float] = [], DOFSET: int = 0, LAST: List[int] = [], COMBATH: List[int] = [], IRBATH: List[int] = [], NUM: int = None, content: List[str] = None)\n",
      " |  \n",
      " |  MULTIBATH Block\n",
      " |  \n",
      " |      This block controls the Thermostat of a simulation. Multiple temperature baths can be coupled.\n",
      " |  \n",
      " |  Attributes\n",
      " |  ----------\n",
      " |  ALGORITHM:  int\n",
      " |      temperature coupling algorithm\n",
      " |      weak-coupling(0)\n",
      " |      nose-hoover(1)\n",
      " |      nose-hoover-chains(2)   num\n",
      " |      (where num is the number of chains to use)\n",
      " |  NUM: int, optional\n",
      " |      Mumber of chains in Nosé Hoover chains scheme [only specify when needed]\n",
      " |  NBATHS: int\n",
      " |      Number of temperature baths\n",
      " |  TEMP0:  List[float]\n",
      " |      temperature of each bath (list len == NBATHS)\n",
      " |  TAU:    List[float]\n",
      " |          coupling of the temperaturebath to the system  (list len == NBATHS)\n",
      " |  DOFSET: int\n",
      " |      Number of set of Degrees of freedom.\n",
      " |  LAST:   List[int]   (list len == DOFSET)\n",
      " |      Last atoms of each DOFSet\n",
      " |  COMBATH:    List[int]   (list len == DOFSET)\n",
      " |      Index of the temperature baths\n",
      " |  IRBATH: List[int]   (list len == DOFSET)\n",
      " |      IRBAHT?\n",
      " |  \n",
      " |  See Also\n",
      " |  --------\n",
      " |      _generic_imd_block, _generic_gromos_block\n",
      " |  \n",
      " |  Method resolution order:\n",
      " |      MULTIBATH\n",
      " |      _generic_imd_block\n",
      " |      pygromos.files.blocks._general_blocks._generic_gromos_block\n",
      " |      builtins.object\n",
      " |  \n",
      " |  Methods defined here:\n",
      " |  \n",
      " |  __init__(self, ALGORITHM: int = 0, NBATHS: int = 0, TEMP0: List[float] = [], TAU: List[float] = [], DOFSET: int = 0, LAST: List[int] = [], COMBATH: List[int] = [], IRBATH: List[int] = [], NUM: int = None, content: List[str] = None)\n",
      " |      Initialize self.  See help(type(self)) for accurate signature.\n",
      " |  \n",
      " |  adapt_multibath(self, last_atoms_bath: Dict[int, int], algorithm: int = None, num: int = None, T: Union[float, List[float]] = None, TAU: float = None) -> None\n",
      " |      adapt_multibath\n",
      " |              This function is adding each atom set into a single multibath.\n",
      " |              #TODO implementation not correct with com_bath and irbath! Works for super simple cases though\n",
      " |      \n",
      " |      Parameters\n",
      " |      ----------\n",
      " |      last_atoms_bath :   Dict[int,int]\n",
      " |          lastatom:bath\n",
      " |      algorithm : int\n",
      " |          int code for algorihtm\n",
      " |      T : float,List[float], optional\n",
      " |          temperature value\n",
      " |      TAU :   float, optional\n",
      " |          coupling var\n",
      " |      \n",
      " |      Returns\n",
      " |      -------\n",
      " |      None\n",
      " |  \n",
      " |  block_to_string(self) -> str\n",
      " |  \n",
      " |  read_content_from_str(self, content: List[str])\n",
      " |  \n",
      " |  ----------------------------------------------------------------------\n",
      " |  Data and other attributes defined here:\n",
      " |  \n",
      " |  __annotations__ = {'ALGORITHM': <class 'int'>, 'COMBATH': typing.List[...\n",
      " |  \n",
      " |  name = 'MULTIBATH'\n",
      " |  \n",
      " |  ----------------------------------------------------------------------\n",
      " |  Methods inherited from pygromos.files.blocks._general_blocks._generic_gromos_block:\n",
      " |  \n",
      " |  __copy__(self)\n",
      " |  \n",
      " |  __deepcopy__(self, memo)\n",
      " |  \n",
      " |  __eq__(self, _generic_gromos_block__o: object) -> bool\n",
      " |      Return self==value.\n",
      " |  \n",
      " |  __iter__(self)\n",
      " |  \n",
      " |  __repr__(self)\n",
      " |      Return repr(self).\n",
      " |  \n",
      " |  __str__(self)\n",
      " |      Return str(self).\n",
      " |  \n",
      " |  get_name(self)\n",
      " |  \n",
      " |  ----------------------------------------------------------------------\n",
      " |  Data descriptors inherited from pygromos.files.blocks._general_blocks._generic_gromos_block:\n",
      " |  \n",
      " |  __dict__\n",
      " |      dictionary for instance variables (if defined)\n",
      " |  \n",
      " |  __weakref__\n",
      " |      list of weak references to the object (if defined)\n",
      " |  \n",
      " |  ----------------------------------------------------------------------\n",
      " |  Data and other attributes inherited from pygromos.files.blocks._general_blocks._generic_gromos_block:\n",
      " |  \n",
      " |  __hash__ = None\n",
      "\n"
     ]
    }
   ],
   "source": [
    "help(md_imd_file.MULTIBATH)"
   ]
  },
  {
   "cell_type": "code",
   "execution_count": 61,
   "metadata": {
    "execution": {
     "iopub.execute_input": "2022-04-04T16:01:15.184128Z",
     "iopub.status.busy": "2022-04-04T16:01:15.183585Z",
     "iopub.status.idle": "2022-04-04T16:01:15.187728Z",
     "shell.execute_reply": "2022-04-04T16:01:15.187197Z"
    }
   },
   "outputs": [
    {
     "data": {
      "text/plain": [
       "MULTIBATH\n",
       "# ALGORITHM\n",
       "  0\n",
       "# NBATHS\n",
       "  2\n",
       "# TEMP0(1 ... NBATHS) \t TAU(1 ... NBATHS)\n",
       "  300.0 \t 0.1\n",
       "  300.0 \t 0.1\n",
       "# DOFSET\n",
       "  2\n",
       "# LAST(1 ... DOFSET) \t COMBATH(1 ... DOFSET) \t IRBATH(1 ... DOFSET)\n",
       "  73 \t 1 \t 1\n",
       "  2863 \t 2 \t 2\n",
       "END"
      ]
     },
     "execution_count": 61,
     "metadata": {},
     "output_type": "execute_result"
    }
   ],
   "source": [
    "md_imd_file.MULTIBATH"
   ]
  },
  {
   "cell_type": "markdown",
   "metadata": {},
   "source": [
    "### COMTRANSROT Block\n",
    "This block is needed to remove the centre of mass motion (translation and rotation). Without this block it\n",
    "can happen that all the kinetic energy is converted to centre of mass translation (flying ice cube problem).\n",
    "With *NSCM* we specify how often the center-of-mass (COM) motion is removed. If *NSCM* is $< 0$ translation\n",
    "and rotation motion are removed every $|$ *NSCM* $|$ th step. If *NSCM* is $> 0$ only translation motion is removed\n",
    "every *NSCM*th step."
   ]
  },
  {
   "cell_type": "code",
   "execution_count": 62,
   "metadata": {
    "execution": {
     "iopub.execute_input": "2022-04-04T16:01:15.190183Z",
     "iopub.status.busy": "2022-04-04T16:01:15.189931Z",
     "iopub.status.idle": "2022-04-04T16:01:15.194594Z",
     "shell.execute_reply": "2022-04-04T16:01:15.193983Z"
    }
   },
   "outputs": [
    {
     "name": "stdout",
     "output_type": "stream",
     "text": [
      "Help on COMTRANSROT in module pygromos.files.blocks.imd_blocks object:\n",
      "\n",
      "class COMTRANSROT(_generic_imd_block)\n",
      " |  COMTRANSROT(NSCM: int = 0, content: List[str] = None)\n",
      " |  \n",
      " |  COMTRANSROT block\n",
      " |  \n",
      " |  This block controls the center of mass translation and rotation removal. (flying ice cube problem)\n",
      " |  \n",
      " |  Attributes\n",
      " |  ----------\n",
      " |  \n",
      " |  NSCM : int\n",
      " |      controls system centre-of-mass (com) motion removal\n",
      " |      0: no com motion removal (default)\n",
      " |      < 0: com translation and rotation are removed every abs(NSCM) steps.\n",
      " |      > 0: com translation is removed every NSCM steps.\n",
      " |  \n",
      " |  Method resolution order:\n",
      " |      COMTRANSROT\n",
      " |      _generic_imd_block\n",
      " |      pygromos.files.blocks._general_blocks._generic_gromos_block\n",
      " |      builtins.object\n",
      " |  \n",
      " |  Methods defined here:\n",
      " |  \n",
      " |  __init__(self, NSCM: int = 0, content: List[str] = None)\n",
      " |      Initialize self.  See help(type(self)) for accurate signature.\n",
      " |  \n",
      " |  ----------------------------------------------------------------------\n",
      " |  Data and other attributes defined here:\n",
      " |  \n",
      " |  __annotations__ = {'NSCM': <class 'int'>, 'name': <class 'str'>}\n",
      " |  \n",
      " |  name = 'COMTRANSROT'\n",
      " |  \n",
      " |  ----------------------------------------------------------------------\n",
      " |  Methods inherited from _generic_imd_block:\n",
      " |  \n",
      " |  block_to_string(self) -> str\n",
      " |  \n",
      " |  read_content_from_str(self, content: List[str])\n",
      " |  \n",
      " |  ----------------------------------------------------------------------\n",
      " |  Methods inherited from pygromos.files.blocks._general_blocks._generic_gromos_block:\n",
      " |  \n",
      " |  __copy__(self)\n",
      " |  \n",
      " |  __deepcopy__(self, memo)\n",
      " |  \n",
      " |  __eq__(self, _generic_gromos_block__o: object) -> bool\n",
      " |      Return self==value.\n",
      " |  \n",
      " |  __iter__(self)\n",
      " |  \n",
      " |  __repr__(self)\n",
      " |      Return repr(self).\n",
      " |  \n",
      " |  __str__(self)\n",
      " |      Return str(self).\n",
      " |  \n",
      " |  get_name(self)\n",
      " |  \n",
      " |  ----------------------------------------------------------------------\n",
      " |  Data descriptors inherited from pygromos.files.blocks._general_blocks._generic_gromos_block:\n",
      " |  \n",
      " |  __dict__\n",
      " |      dictionary for instance variables (if defined)\n",
      " |  \n",
      " |  __weakref__\n",
      " |      list of weak references to the object (if defined)\n",
      " |  \n",
      " |  ----------------------------------------------------------------------\n",
      " |  Data and other attributes inherited from pygromos.files.blocks._general_blocks._generic_gromos_block:\n",
      " |  \n",
      " |  __hash__ = None\n",
      "\n"
     ]
    }
   ],
   "source": [
    "help(md_imd_file.COMTRANSROT)"
   ]
  },
  {
   "cell_type": "code",
   "execution_count": 63,
   "metadata": {
    "execution": {
     "iopub.execute_input": "2022-04-04T16:01:15.197760Z",
     "iopub.status.busy": "2022-04-04T16:01:15.197482Z",
     "iopub.status.idle": "2022-04-04T16:01:15.201401Z",
     "shell.execute_reply": "2022-04-04T16:01:15.200861Z"
    }
   },
   "outputs": [
    {
     "data": {
      "text/plain": [
       "COMTRANSROT\n",
       "# \t NSCM\n",
       " \t 1000 \t \n",
       "END"
      ]
     },
     "execution_count": 63,
     "metadata": {},
     "output_type": "execute_result"
    }
   ],
   "source": [
    "md_imd_file.COMTRANSROT"
   ]
  },
  {
   "cell_type": "markdown",
   "metadata": {},
   "source": [
    "### COVALENTFORM Block\n",
    "This block is needed to define which functional form we will use for bond-stretching (NTBBH), bond-angle\n",
    "bending (NTBAH) and for torsional dihedral (NTBDN). We just use the default options for all functional forms."
   ]
  },
  {
   "cell_type": "code",
   "execution_count": 64,
   "metadata": {
    "execution": {
     "iopub.execute_input": "2022-04-04T16:01:15.204305Z",
     "iopub.status.busy": "2022-04-04T16:01:15.203928Z",
     "iopub.status.idle": "2022-04-04T16:01:15.209058Z",
     "shell.execute_reply": "2022-04-04T16:01:15.208468Z"
    }
   },
   "outputs": [
    {
     "name": "stdout",
     "output_type": "stream",
     "text": [
      "Help on COVALENTFORM in module pygromos.files.blocks.imd_blocks object:\n",
      "\n",
      "class COVALENTFORM(_generic_imd_block)\n",
      " |  COVALENTFORM(NTBBH: int = 0, NTBAH: int = 0, NTBDN: int = 0, content: List[str] = None)\n",
      " |  \n",
      " |  COVALENTFORM Block\n",
      " |  \n",
      " |      The COVALENTFORM Block manages the functional form of the Bonded contributions to the force field.\n",
      " |      It is optional in an imd file to define the block.\n",
      " |  \n",
      " |  Attributes\n",
      " |  ----------\n",
      " |  NTBBH:  int\n",
      " |      0,1 controls bond-stretching potential\n",
      " |      0: quartic form (default)\n",
      " |      1: harmonic form\n",
      " |  NTBAH:  int\n",
      " |      0,1 controls bond-angle bending potential\n",
      " |      0: cosine-harmonic (default)\n",
      " |      1: harmonic\n",
      " |  NTBDN:  int\n",
      " |      0,1 controls torsional dihedral potential\n",
      " |      0: arbitrary phase shifts (default)\n",
      " |      1: phase shifts limited to 0 and 180 degrees.\n",
      " |  \n",
      " |  Method resolution order:\n",
      " |      COVALENTFORM\n",
      " |      _generic_imd_block\n",
      " |      pygromos.files.blocks._general_blocks._generic_gromos_block\n",
      " |      builtins.object\n",
      " |  \n",
      " |  Methods defined here:\n",
      " |  \n",
      " |  __init__(self, NTBBH: int = 0, NTBAH: int = 0, NTBDN: int = 0, content: List[str] = None)\n",
      " |      Initialize self.  See help(type(self)) for accurate signature.\n",
      " |  \n",
      " |  ----------------------------------------------------------------------\n",
      " |  Data and other attributes defined here:\n",
      " |  \n",
      " |  __annotations__ = {'NTBAH': <class 'int'>, 'NTBBH': <class 'int'>, 'NT...\n",
      " |  \n",
      " |  name = 'COVALENTFORM'\n",
      " |  \n",
      " |  ----------------------------------------------------------------------\n",
      " |  Methods inherited from _generic_imd_block:\n",
      " |  \n",
      " |  block_to_string(self) -> str\n",
      " |  \n",
      " |  read_content_from_str(self, content: List[str])\n",
      " |  \n",
      " |  ----------------------------------------------------------------------\n",
      " |  Methods inherited from pygromos.files.blocks._general_blocks._generic_gromos_block:\n",
      " |  \n",
      " |  __copy__(self)\n",
      " |  \n",
      " |  __deepcopy__(self, memo)\n",
      " |  \n",
      " |  __eq__(self, _generic_gromos_block__o: object) -> bool\n",
      " |      Return self==value.\n",
      " |  \n",
      " |  __iter__(self)\n",
      " |  \n",
      " |  __repr__(self)\n",
      " |      Return repr(self).\n",
      " |  \n",
      " |  __str__(self)\n",
      " |      Return str(self).\n",
      " |  \n",
      " |  get_name(self)\n",
      " |  \n",
      " |  ----------------------------------------------------------------------\n",
      " |  Data descriptors inherited from pygromos.files.blocks._general_blocks._generic_gromos_block:\n",
      " |  \n",
      " |  __dict__\n",
      " |      dictionary for instance variables (if defined)\n",
      " |  \n",
      " |  __weakref__\n",
      " |      list of weak references to the object (if defined)\n",
      " |  \n",
      " |  ----------------------------------------------------------------------\n",
      " |  Data and other attributes inherited from pygromos.files.blocks._general_blocks._generic_gromos_block:\n",
      " |  \n",
      " |  __hash__ = None\n",
      "\n"
     ]
    }
   ],
   "source": [
    "help(md_imd_file.COVALENTFORM)"
   ]
  },
  {
   "cell_type": "code",
   "execution_count": 65,
   "metadata": {
    "execution": {
     "iopub.execute_input": "2022-04-04T16:01:15.212178Z",
     "iopub.status.busy": "2022-04-04T16:01:15.211648Z",
     "iopub.status.idle": "2022-04-04T16:01:15.215775Z",
     "shell.execute_reply": "2022-04-04T16:01:15.215040Z"
    }
   },
   "outputs": [
    {
     "data": {
      "text/plain": [
       "COVALENTFORM\n",
       "# \t NTBBH \t NTBAH \t NTBDN\n",
       " \t 0 \t 0 \t 0 \t \n",
       "END"
      ]
     },
     "execution_count": 65,
     "metadata": {},
     "output_type": "execute_result"
    }
   ],
   "source": [
    "md_imd_file.COVALENTFORM"
   ]
  },
  {
   "cell_type": "markdown",
   "metadata": {},
   "source": [
    "### WRITETRAJ Block\n",
    "Gromos MD simulations produce a massive amount of data and it is impossible to store all the data it produces. The\n",
    "WRITETRAJ block meets this demand: Here you specify how often the coordinate trajectory (*NTWX*), the\n",
    "velocity trajectory (*NTWV*), the force trajectory (*NTWF*), the energy trajectory (*NTWE*), the free energy trajectory\n",
    "(*NTWG*) and the block averaged energy trajectory (*NTWB*) are written out. In the present case, we are only\n",
    "interested in the coordinates (*NTWX*) and energies (*NTWE*) and we write them every 100th step. The second\n",
    "switch (*NTWSE*) defines selection criterion for trajectories: if NTWSE = 0 the normal coordinate trajectory will\n",
    "be written, or if *NTWSE* $> 0$ a minimum energy trajectory will be written.\n",
    "\n",
    "***\n",
    "\n",
    "**Warning**: It makes no sense to write out configurations too often. First, it needs a lot of disk space. Second,\n",
    "the data is highly correlated and so no additional information is gained from it\n",
    "***"
   ]
  },
  {
   "cell_type": "code",
   "execution_count": 66,
   "metadata": {
    "execution": {
     "iopub.execute_input": "2022-04-04T16:01:15.218378Z",
     "iopub.status.busy": "2022-04-04T16:01:15.218024Z",
     "iopub.status.idle": "2022-04-04T16:01:15.223010Z",
     "shell.execute_reply": "2022-04-04T16:01:15.222481Z"
    }
   },
   "outputs": [
    {
     "name": "stdout",
     "output_type": "stream",
     "text": [
      "Help on WRITETRAJ in module pygromos.files.blocks.imd_blocks object:\n",
      "\n",
      "class WRITETRAJ(_generic_imd_block)\n",
      " |  WRITETRAJ(NTWX: int = 0, NTWSE: int = 0, NTWV: int = 0, NTWF: int = 0, NTWE: int = 0, NTWG: int = 0, NTWB: int = 0, content: List[str] = None)\n",
      " |  \n",
      " |  WRITETRAJ\n",
      " |  \n",
      " |      The WRITETRAJ Block manages the output frequency of GROMOS. Here you can determine how often a file should be written.\n",
      " |  \n",
      " |  Attributes\n",
      " |  ----------\n",
      " |  NTWX:   int\n",
      " |      controls writing of coordinate trajectory\n",
      " |      0: no coordinate trajectory is written (default)\n",
      " |      >0: write solute and solvent coordinates every NTWX steps\n",
      " |      <0: write solute coordinates every |NTWX| steps\n",
      " |  NTWSE:   int\n",
      " |      >= 0 selection criteria for coordinate trajectory writing\n",
      " |      0: write normal coordinate trajectory\n",
      " |      >0: write minimum-energy coordinate and energy trajectory (based on the\n",
      " |      energy entry selected by NTWSE and as blocks of length NTWX)\n",
      " |      (see configuration/energy.cc or ene_ana library for indices)\n",
      " |  NTWV:   int\n",
      " |      controls writing of velocity trajectory\n",
      " |      0: no velocity trajectory is written (default)\n",
      " |      >0: write solute and solvent velocities every NTWV steps\n",
      " |      <0: write solute velocities every |NTWV| steps\n",
      " |  NTWF:   int\n",
      " |      controls writing of force trajectory\n",
      " |      0: no force trajectory is written (default)\n",
      " |      >0: write solute and solvent forces every NTWF steps\n",
      " |      <0: write solute forces every |NTWF| steps\n",
      " |  NTWE:   int\n",
      " |      >= 0 controls writing of energy trajectory\n",
      " |      0: no energy trajectory is written (default)\n",
      " |      >0: write energy trajectory every NTWE steps\n",
      " |  NTWG:   int\n",
      " |      >= 0 controls writing of free energy trajectory\n",
      " |      0: no free energy trajectory is written (default)\n",
      " |      >0: write free energy trajectory every NTWG steps\n",
      " |  NTWB:   int\n",
      " |      >= 0 controls writing of block-averaged energy trajectory\n",
      " |      0: no block averaged energy trajectory is written (default)\n",
      " |      >0: write block-averaged energy variables every |NTWB| steps\n",
      " |          (and free energies if NTWG > 0) trajectory\n",
      " |  \n",
      " |  Method resolution order:\n",
      " |      WRITETRAJ\n",
      " |      _generic_imd_block\n",
      " |      pygromos.files.blocks._general_blocks._generic_gromos_block\n",
      " |      builtins.object\n",
      " |  \n",
      " |  Methods defined here:\n",
      " |  \n",
      " |  __init__(self, NTWX: int = 0, NTWSE: int = 0, NTWV: int = 0, NTWF: int = 0, NTWE: int = 0, NTWG: int = 0, NTWB: int = 0, content: List[str] = None)\n",
      " |      Args:\n",
      " |          NTWX:\n",
      " |          NTWSE:\n",
      " |          NTWV:\n",
      " |          NTWF:\n",
      " |          NTWE:\n",
      " |          NTWG:\n",
      " |          NTWB:\n",
      " |  \n",
      " |  ----------------------------------------------------------------------\n",
      " |  Data and other attributes defined here:\n",
      " |  \n",
      " |  __annotations__ = {'NTWB': <class 'int'>, 'NTWE': <class 'int'>, 'NTWF...\n",
      " |  \n",
      " |  name = 'WRITETRAJ'\n",
      " |  \n",
      " |  ----------------------------------------------------------------------\n",
      " |  Methods inherited from _generic_imd_block:\n",
      " |  \n",
      " |  block_to_string(self) -> str\n",
      " |  \n",
      " |  read_content_from_str(self, content: List[str])\n",
      " |  \n",
      " |  ----------------------------------------------------------------------\n",
      " |  Methods inherited from pygromos.files.blocks._general_blocks._generic_gromos_block:\n",
      " |  \n",
      " |  __copy__(self)\n",
      " |  \n",
      " |  __deepcopy__(self, memo)\n",
      " |  \n",
      " |  __eq__(self, _generic_gromos_block__o: object) -> bool\n",
      " |      Return self==value.\n",
      " |  \n",
      " |  __iter__(self)\n",
      " |  \n",
      " |  __repr__(self)\n",
      " |      Return repr(self).\n",
      " |  \n",
      " |  __str__(self)\n",
      " |      Return str(self).\n",
      " |  \n",
      " |  get_name(self)\n",
      " |  \n",
      " |  ----------------------------------------------------------------------\n",
      " |  Data descriptors inherited from pygromos.files.blocks._general_blocks._generic_gromos_block:\n",
      " |  \n",
      " |  __dict__\n",
      " |      dictionary for instance variables (if defined)\n",
      " |  \n",
      " |  __weakref__\n",
      " |      list of weak references to the object (if defined)\n",
      " |  \n",
      " |  ----------------------------------------------------------------------\n",
      " |  Data and other attributes inherited from pygromos.files.blocks._general_blocks._generic_gromos_block:\n",
      " |  \n",
      " |  __hash__ = None\n",
      "\n"
     ]
    }
   ],
   "source": [
    "help(md_imd_file.WRITETRAJ)"
   ]
  },
  {
   "cell_type": "code",
   "execution_count": 67,
   "metadata": {
    "execution": {
     "iopub.execute_input": "2022-04-04T16:01:15.226121Z",
     "iopub.status.busy": "2022-04-04T16:01:15.225260Z",
     "iopub.status.idle": "2022-04-04T16:01:15.231077Z",
     "shell.execute_reply": "2022-04-04T16:01:15.230333Z"
    }
   },
   "outputs": [
    {
     "data": {
      "text/plain": [
       "WRITETRAJ\n",
       "# \t NTWX \t NTWSE \t NTWV \t NTWF \t NTWE \t NTWG \t NTWB\n",
       " \t 10 \t 0 \t 0 \t 0 \t 10 \t 0 \t 0 \t \n",
       "END"
      ]
     },
     "execution_count": 67,
     "metadata": {},
     "output_type": "execute_result"
    }
   ],
   "source": [
    "md_imd_file.WRITETRAJ"
   ]
  },
  {
   "cell_type": "markdown",
   "metadata": {},
   "source": [
    "### PRINTOUT Block\n",
    "This block is very similar to the *WRITETRAJ* block but the information about the energies (*NTPR*) is printed\n",
    "to the output file (.omd). By giving *NTPP*, dihedral angle transitions are written to the special trajectory (.trs).\n"
   ]
  },
  {
   "cell_type": "code",
   "execution_count": 68,
   "metadata": {
    "execution": {
     "iopub.execute_input": "2022-04-04T16:01:15.234348Z",
     "iopub.status.busy": "2022-04-04T16:01:15.233709Z",
     "iopub.status.idle": "2022-04-04T16:01:15.239895Z",
     "shell.execute_reply": "2022-04-04T16:01:15.239368Z"
    }
   },
   "outputs": [
    {
     "name": "stdout",
     "output_type": "stream",
     "text": [
      "Help on PRINTOUT in module pygromos.files.blocks.imd_blocks object:\n",
      "\n",
      "class PRINTOUT(_generic_imd_block)\n",
      " |  PRINTOUT(NTPR: int = 0, NTPP: int = 0, content: List[str] = None)\n",
      " |  \n",
      " |  PRINTOUT block\n",
      " |  \n",
      " |      This Block manages the output frequency into the .omd/std-out file.\n",
      " |  \n",
      " |  Attributes\n",
      " |  ----------\n",
      " |  NTPR: int\n",
      " |      print out energies, etc. every NTPR steps\n",
      " |  NTPP: int\n",
      " |      =1 perform dihedral angle transition monitoring\n",
      " |  \n",
      " |  Method resolution order:\n",
      " |      PRINTOUT\n",
      " |      _generic_imd_block\n",
      " |      pygromos.files.blocks._general_blocks._generic_gromos_block\n",
      " |      builtins.object\n",
      " |  \n",
      " |  Methods defined here:\n",
      " |  \n",
      " |  __init__(self, NTPR: int = 0, NTPP: int = 0, content: List[str] = None)\n",
      " |      Initialize self.  See help(type(self)) for accurate signature.\n",
      " |  \n",
      " |  ----------------------------------------------------------------------\n",
      " |  Data and other attributes defined here:\n",
      " |  \n",
      " |  __annotations__ = {'NTPP': <class 'int'>, 'NTPR': <class 'int'>, 'name...\n",
      " |  \n",
      " |  name = 'PRINTOUT'\n",
      " |  \n",
      " |  ----------------------------------------------------------------------\n",
      " |  Methods inherited from _generic_imd_block:\n",
      " |  \n",
      " |  block_to_string(self) -> str\n",
      " |  \n",
      " |  read_content_from_str(self, content: List[str])\n",
      " |  \n",
      " |  ----------------------------------------------------------------------\n",
      " |  Methods inherited from pygromos.files.blocks._general_blocks._generic_gromos_block:\n",
      " |  \n",
      " |  __copy__(self)\n",
      " |  \n",
      " |  __deepcopy__(self, memo)\n",
      " |  \n",
      " |  __eq__(self, _generic_gromos_block__o: object) -> bool\n",
      " |      Return self==value.\n",
      " |  \n",
      " |  __iter__(self)\n",
      " |  \n",
      " |  __repr__(self)\n",
      " |      Return repr(self).\n",
      " |  \n",
      " |  __str__(self)\n",
      " |      Return str(self).\n",
      " |  \n",
      " |  get_name(self)\n",
      " |  \n",
      " |  ----------------------------------------------------------------------\n",
      " |  Data descriptors inherited from pygromos.files.blocks._general_blocks._generic_gromos_block:\n",
      " |  \n",
      " |  __dict__\n",
      " |      dictionary for instance variables (if defined)\n",
      " |  \n",
      " |  __weakref__\n",
      " |      list of weak references to the object (if defined)\n",
      " |  \n",
      " |  ----------------------------------------------------------------------\n",
      " |  Data and other attributes inherited from pygromos.files.blocks._general_blocks._generic_gromos_block:\n",
      " |  \n",
      " |  __hash__ = None\n",
      "\n"
     ]
    }
   ],
   "source": [
    "help(md_imd_file.PRINTOUT)"
   ]
  },
  {
   "cell_type": "code",
   "execution_count": 69,
   "metadata": {
    "execution": {
     "iopub.execute_input": "2022-04-04T16:01:15.242540Z",
     "iopub.status.busy": "2022-04-04T16:01:15.242260Z",
     "iopub.status.idle": "2022-04-04T16:01:15.246104Z",
     "shell.execute_reply": "2022-04-04T16:01:15.245455Z"
    }
   },
   "outputs": [
    {
     "data": {
      "text/plain": [
       "PRINTOUT\n",
       "# \t NTPR \t NTPP\n",
       " \t 250 \t 0 \t \n",
       "END"
      ]
     },
     "execution_count": 69,
     "metadata": {},
     "output_type": "execute_result"
    }
   ],
   "source": [
    "md_imd_file.PRINTOUT"
   ]
  },
  {
   "cell_type": "markdown",
   "metadata": {},
   "source": [
    "### PAIRLIST Block\n",
    "MD++ knows different algorithms for the generation of the pairlist, a list containing the atoms interacting\n",
    "with each other. Here, we use a grid based pairlist generation: \n",
    "the space is discretized into grid cells and only the neighboring cells are searched for interacting partners. \n",
    "The use of this algorithm results in a\n",
    "The pairlist is generated every 5th (*NSNB*) step. \n",
    "*RCUTP* and *RCUTL* are the cutoffs for the pairlist construction for the short-range and the long-range interactions.\n",
    "The pairlist is generated every 5th (*NSNB*) step. *RCUTP* and *RCUTL* are the cutoffs for the pairlist construction for\n",
    "the short-range and the long-range interactions."
   ]
  },
  {
   "cell_type": "code",
   "execution_count": 70,
   "metadata": {
    "execution": {
     "iopub.execute_input": "2022-04-04T16:01:15.249278Z",
     "iopub.status.busy": "2022-04-04T16:01:15.248794Z",
     "iopub.status.idle": "2022-04-04T16:01:15.253731Z",
     "shell.execute_reply": "2022-04-04T16:01:15.253199Z"
    }
   },
   "outputs": [
    {
     "name": "stdout",
     "output_type": "stream",
     "text": [
      "Help on PAIRLIST in module pygromos.files.blocks.imd_blocks object:\n",
      "\n",
      "class PAIRLIST(_generic_imd_block)\n",
      " |  PAIRLIST(ALGORITHM: int = 0, NSNB: int = 0, RCUTP: float = 0, RCUTL: float = 0, SIZE: Union[str, float] = 0, TYPE: Union[str, bool] = False, content: List[str] = None)\n",
      " |  \n",
      " |  PAIRLIST Block\n",
      " |  \n",
      " |          This block is controlling the pairlist control.\n",
      " |  \n",
      " |  Attributes\n",
      " |  ----------\n",
      " |  ALGORITHM: int\n",
      " |      standard(0) (gromos96 like pairlist)\n",
      " |      grid(1) (md++ grid pairlist)\n",
      " |      grid_cell(2) (creates a mask)\n",
      " |  NSNB:   int\n",
      " |      frequency (number of steps) a pairlist is constructed\n",
      " |  RCUTPL: float\n",
      " |      short-range cut-off in twin-range\n",
      " |  RCUTL:  float\n",
      " |      intermediate-range cut-off in twin-range\n",
      " |  SIZE:   str, float\n",
      " |      grid cell size (or auto = 0.5 * RCUTP)\n",
      " |  TYPE:   str, bool\n",
      " |      chargegoup(0) (chargegroup based cutoff)\n",
      " |      atomic(1)     (atom based cutoff)\n",
      " |  \n",
      " |  Method resolution order:\n",
      " |      PAIRLIST\n",
      " |      _generic_imd_block\n",
      " |      pygromos.files.blocks._general_blocks._generic_gromos_block\n",
      " |      builtins.object\n",
      " |  \n",
      " |  Methods defined here:\n",
      " |  \n",
      " |  __init__(self, ALGORITHM: int = 0, NSNB: int = 0, RCUTP: float = 0, RCUTL: float = 0, SIZE: Union[str, float] = 0, TYPE: Union[str, bool] = False, content: List[str] = None)\n",
      " |      Args:\n",
      " |          ALGORITHM:\n",
      " |          NSNB:\n",
      " |          RCUTP:\n",
      " |          RCUTL:\n",
      " |          SIZE:\n",
      " |          TYPE:\n",
      " |  \n",
      " |  ----------------------------------------------------------------------\n",
      " |  Data and other attributes defined here:\n",
      " |  \n",
      " |  __annotations__ = {'ALGORITHM': <class 'int'>, 'NSNB': <class 'int'>, ...\n",
      " |  \n",
      " |  name = 'PAIRLIST'\n",
      " |  \n",
      " |  ----------------------------------------------------------------------\n",
      " |  Methods inherited from _generic_imd_block:\n",
      " |  \n",
      " |  block_to_string(self) -> str\n",
      " |  \n",
      " |  read_content_from_str(self, content: List[str])\n",
      " |  \n",
      " |  ----------------------------------------------------------------------\n",
      " |  Methods inherited from pygromos.files.blocks._general_blocks._generic_gromos_block:\n",
      " |  \n",
      " |  __copy__(self)\n",
      " |  \n",
      " |  __deepcopy__(self, memo)\n",
      " |  \n",
      " |  __eq__(self, _generic_gromos_block__o: object) -> bool\n",
      " |      Return self==value.\n",
      " |  \n",
      " |  __iter__(self)\n",
      " |  \n",
      " |  __repr__(self)\n",
      " |      Return repr(self).\n",
      " |  \n",
      " |  __str__(self)\n",
      " |      Return str(self).\n",
      " |  \n",
      " |  get_name(self)\n",
      " |  \n",
      " |  ----------------------------------------------------------------------\n",
      " |  Data descriptors inherited from pygromos.files.blocks._general_blocks._generic_gromos_block:\n",
      " |  \n",
      " |  __dict__\n",
      " |      dictionary for instance variables (if defined)\n",
      " |  \n",
      " |  __weakref__\n",
      " |      list of weak references to the object (if defined)\n",
      " |  \n",
      " |  ----------------------------------------------------------------------\n",
      " |  Data and other attributes inherited from pygromos.files.blocks._general_blocks._generic_gromos_block:\n",
      " |  \n",
      " |  __hash__ = None\n",
      "\n"
     ]
    }
   ],
   "source": [
    "help(md_imd_file.PAIRLIST)"
   ]
  },
  {
   "cell_type": "code",
   "execution_count": 71,
   "metadata": {
    "execution": {
     "iopub.execute_input": "2022-04-04T16:01:15.256527Z",
     "iopub.status.busy": "2022-04-04T16:01:15.256073Z",
     "iopub.status.idle": "2022-04-04T16:01:15.259868Z",
     "shell.execute_reply": "2022-04-04T16:01:15.259335Z"
    }
   },
   "outputs": [
    {
     "data": {
      "text/plain": [
       "PAIRLIST\n",
       "# \t ALGORITHM \t NSNB \t RCUTP \t RCUTL \t SIZE \t TYPE\n",
       " \t 1 \t 5 \t 0.800000 \t 1.400000 \t 0.4 \t 0 \t \n",
       "END"
      ]
     },
     "execution_count": 71,
     "metadata": {},
     "output_type": "execute_result"
    }
   ],
   "source": [
    "md_imd_file.PAIRLIST"
   ]
  },
  {
   "cell_type": "markdown",
   "metadata": {},
   "source": [
    "### POSITIONRES Block\n",
    "Finally, we want to restrain the position of our solute. The restraining is achieved by a harmonic special\n",
    "force term with a force constant of *CPOR*."
   ]
  },
  {
   "cell_type": "code",
   "execution_count": 72,
   "metadata": {
    "execution": {
     "iopub.execute_input": "2022-04-04T16:01:15.262953Z",
     "iopub.status.busy": "2022-04-04T16:01:15.262529Z",
     "iopub.status.idle": "2022-04-04T16:01:15.267643Z",
     "shell.execute_reply": "2022-04-04T16:01:15.267115Z"
    }
   },
   "outputs": [
    {
     "name": "stdout",
     "output_type": "stream",
     "text": [
      "Help on class POSITIONRES in module pygromos.files.blocks.imd_blocks:\n",
      "\n",
      "class POSITIONRES(_generic_imd_block)\n",
      " |  POSITIONRES(NTPOR: int = 0, NTPORB: int = 0, NTPORS: int = 0, CPOR: int = 0, content: List[str] = None)\n",
      " |  \n",
      " |  POSITIONRES block\n",
      " |  \n",
      " |      This block allows the managment of the Position Restraints during the Simulation.\n",
      " |  \n",
      " |  Attributes\n",
      " |  ----------\n",
      " |  NTPOR:\n",
      " |      0..3 controls atom positions re(con)straining.\n",
      " |      0: no position re(con)straints (default)\n",
      " |      1: restraining with force constant CPOR\n",
      " |      2: restraining with force constant CPOR weighted by atomic B-factors\n",
      " |      3: constraining\n",
      " |  NTPORB:\n",
      " |      0,1 controls reading of reference positions and B-factors\n",
      " |      0: read reference positions from startup file.\n",
      " |      1: read reference positions and B-factors from special file\n",
      " |  NTPORS:\n",
      " |      0,1 controls scaling of reference positions upon pressure scaling\n",
      " |      0: do not scale reference positions\n",
      " |      1: scale reference positions\n",
      " |  CPOR:\n",
      " |      >= 0 position restraining force constant\n",
      " |  \n",
      " |  Method resolution order:\n",
      " |      POSITIONRES\n",
      " |      _generic_imd_block\n",
      " |      pygromos.files.blocks._general_blocks._generic_gromos_block\n",
      " |      builtins.object\n",
      " |  \n",
      " |  Methods defined here:\n",
      " |  \n",
      " |  __init__(self, NTPOR: int = 0, NTPORB: int = 0, NTPORS: int = 0, CPOR: int = 0, content: List[str] = None)\n",
      " |      Initialize self.  See help(type(self)) for accurate signature.\n",
      " |  \n",
      " |  ----------------------------------------------------------------------\n",
      " |  Data and other attributes defined here:\n",
      " |  \n",
      " |  __annotations__ = {'CPOR': <class 'int'>, 'NTPOR': <class 'int'>, 'NTP...\n",
      " |  \n",
      " |  name = 'POSITIONRES'\n",
      " |  \n",
      " |  ----------------------------------------------------------------------\n",
      " |  Methods inherited from _generic_imd_block:\n",
      " |  \n",
      " |  block_to_string(self) -> str\n",
      " |  \n",
      " |  read_content_from_str(self, content: List[str])\n",
      " |  \n",
      " |  ----------------------------------------------------------------------\n",
      " |  Methods inherited from pygromos.files.blocks._general_blocks._generic_gromos_block:\n",
      " |  \n",
      " |  __copy__(self)\n",
      " |  \n",
      " |  __deepcopy__(self, memo)\n",
      " |  \n",
      " |  __eq__(self, _generic_gromos_block__o: object) -> bool\n",
      " |      Return self==value.\n",
      " |  \n",
      " |  __iter__(self)\n",
      " |  \n",
      " |  __repr__(self)\n",
      " |      Return repr(self).\n",
      " |  \n",
      " |  __str__(self)\n",
      " |      Return str(self).\n",
      " |  \n",
      " |  get_name(self)\n",
      " |  \n",
      " |  ----------------------------------------------------------------------\n",
      " |  Data descriptors inherited from pygromos.files.blocks._general_blocks._generic_gromos_block:\n",
      " |  \n",
      " |  __dict__\n",
      " |      dictionary for instance variables (if defined)\n",
      " |  \n",
      " |  __weakref__\n",
      " |      list of weak references to the object (if defined)\n",
      " |  \n",
      " |  ----------------------------------------------------------------------\n",
      " |  Data and other attributes inherited from pygromos.files.blocks._general_blocks._generic_gromos_block:\n",
      " |  \n",
      " |  __hash__ = None\n",
      "\n"
     ]
    }
   ],
   "source": [
    "from pygromos.files.blocks.imd_blocks import POSITIONRES\n",
    "\n",
    "help(POSITIONRES)"
   ]
  },
  {
   "cell_type": "code",
   "execution_count": 73,
   "metadata": {
    "execution": {
     "iopub.execute_input": "2022-04-04T16:01:15.270349Z",
     "iopub.status.busy": "2022-04-04T16:01:15.269925Z",
     "iopub.status.idle": "2022-04-04T16:01:15.274159Z",
     "shell.execute_reply": "2022-04-04T16:01:15.273643Z"
    }
   },
   "outputs": [
    {
     "data": {
      "text/plain": [
       "POSITIONRES\n",
       "# \t NTPOR \t NTPORB \t NTPORS \t CPOR\n",
       " \t 1 \t 1 \t 0 \t 25000 \t \n",
       "END"
      ]
     },
     "execution_count": 73,
     "metadata": {},
     "output_type": "execute_result"
    }
   ],
   "source": [
    "md_imd_file.add_block(block=POSITIONRES(NTPOR=1, NTPORB=1, CPOR=25000))\n",
    "\n",
    "md_imd_file.POSITIONRES"
   ]
  },
  {
   "cell_type": "markdown",
   "metadata": {},
   "source": [
    "Now you should know the main blocks of the Gromos input files.\n"
   ]
  },
  {
   "cell_type": "markdown",
   "metadata": {
    "tags": []
   },
   "source": [
    "### Perform Thermalisation\n",
    "Next we will run multiple simulations, which will slowly heat up the simulation system. This can easily be done by modifying parameters on the run. First we will setup a gromos system and prepare it. Next we will perform the simulations.\n",
    "\n",
    "***\n",
    "**Warning**: Depending on your system’s speed this will take up to five hours. As we are using the simulation\n",
    "directory as the working directory there will be an error message after every job which can be ignored.\n",
    "***\n",
    "\n",
    "***\n",
    " *Hint* : Have a look at all the output files eq peptide *.omd. If anything goes wrong, a message will be\n",
    "printed to the output file.\n",
    "***"
   ]
  },
  {
   "cell_type": "code",
   "execution_count": 74,
   "metadata": {
    "execution": {
     "iopub.execute_input": "2022-04-04T16:01:15.277250Z",
     "iopub.status.busy": "2022-04-04T16:01:15.276954Z",
     "iopub.status.idle": "2022-04-04T16:01:15.294998Z",
     "shell.execute_reply": "2022-04-04T16:01:15.294444Z"
    }
   },
   "outputs": [
    {
     "ename": "NameError",
     "evalue": "name 'out_eminBox_system' is not defined",
     "output_type": "error",
     "traceback": [
      "\u001b[0;31m---------------------------------------------------------------------------\u001b[0m",
      "\u001b[0;31mNameError\u001b[0m                                 Traceback (most recent call last)",
      "Input \u001b[0;32mIn [74]\u001b[0m, in \u001b[0;36m<cell line: 4>\u001b[0;34m()\u001b[0m\n\u001b[1;32m      1\u001b[0m \u001b[38;5;28;01mfrom\u001b[39;00m \u001b[38;5;21;01mpygromos\u001b[39;00m\u001b[38;5;21;01m.\u001b[39;00m\u001b[38;5;21;01msimulations\u001b[39;00m\u001b[38;5;21;01m.\u001b[39;00m\u001b[38;5;21;01mmodules\u001b[39;00m\u001b[38;5;21;01m.\u001b[39;00m\u001b[38;5;21;01mpreset_simulation_modules\u001b[39;00m \u001b[38;5;28;01mimport\u001b[39;00m md\n\u001b[1;32m      3\u001b[0m \u001b[38;5;66;03m## Preparing emin gromos system\u001b[39;00m\n\u001b[0;32m----> 4\u001b[0m in_eq_system \u001b[38;5;241m=\u001b[39m \u001b[43mout_eminBox_system\u001b[49m\u001b[38;5;241m.\u001b[39mcopy()\n\u001b[1;32m      5\u001b[0m in_eq_system\u001b[38;5;241m.\u001b[39mname \u001b[38;5;241m=\u001b[39m \u001b[38;5;124m\"\u001b[39m\u001b[38;5;124meq_thermalisation\u001b[39m\u001b[38;5;124m\"\u001b[39m\n\u001b[1;32m      6\u001b[0m in_eq_system\u001b[38;5;241m.\u001b[39mwork_folder \u001b[38;5;241m=\u001b[39m project_dir\n",
      "\u001b[0;31mNameError\u001b[0m: name 'out_eminBox_system' is not defined"
     ]
    }
   ],
   "source": [
    "from pygromos.simulations.modules.preset_simulation_modules import md\n",
    "\n",
    "## Preparing emin gromos system\n",
    "in_eq_system = out_eminBox_system.copy()\n",
    "in_eq_system.name = \"eq_thermalisation\"\n",
    "in_eq_system.work_folder = project_dir\n",
    "\n",
    "### Build position restraints\n",
    "restrain_res = [k for k in in_eq_system.cnf.residues if(not k in (\"CL-\", \"SOLV\"))]\n",
    "in_eq_system.generate_posres(residues=restrain_res)\n",
    "\n",
    "### Check simulation params\n",
    "in_eq_system.imd = md_imd_file\n",
    "\n",
    "### Set simulation lengths: \n",
    "in_eq_system.imd.STEP.NSTLIM = 1000 # each temperature will do 1000 steps, this might take some time!\n",
    "\n",
    "in_eq_system.prepare_for_simulation(not_ligand_residues=[\"CL-\"])\n",
    "sys_same = in_eq_system.name\n",
    "\n",
    "in_eq_system"
   ]
  },
  {
   "cell_type": "markdown",
   "metadata": {},
   "source": [
    "After preparing the system we can now start simulating."
   ]
  },
  {
   "cell_type": "code",
   "execution_count": 75,
   "metadata": {
    "execution": {
     "iopub.execute_input": "2022-04-04T16:01:15.298047Z",
     "iopub.status.busy": "2022-04-04T16:01:15.297666Z",
     "iopub.status.idle": "2022-04-04T16:01:15.322535Z",
     "shell.execute_reply": "2022-04-04T16:01:15.321791Z"
    }
   },
   "outputs": [
    {
     "name": "stdout",
     "output_type": "stream",
     "text": [
      "Heating upt to: \t60\t"
     ]
    },
    {
     "ename": "NameError",
     "evalue": "name 'in_eq_system' is not defined",
     "output_type": "error",
     "traceback": [
      "\u001b[0;31m---------------------------------------------------------------------------\u001b[0m",
      "\u001b[0;31mNameError\u001b[0m                                 Traceback (most recent call last)",
      "Input \u001b[0;32mIn [75]\u001b[0m, in \u001b[0;36m<cell line: 7>\u001b[0;34m()\u001b[0m\n\u001b[1;32m      8\u001b[0m \u001b[38;5;28mprint\u001b[39m(temperature, end\u001b[38;5;241m=\u001b[39m\u001b[38;5;124m\"\u001b[39m\u001b[38;5;130;01m\\t\u001b[39;00m\u001b[38;5;124m\"\u001b[39m)\n\u001b[1;32m     10\u001b[0m \u001b[38;5;66;03m#adapt temperature\u001b[39;00m\n\u001b[0;32m---> 11\u001b[0m in_eq_system\u001b[38;5;241m.\u001b[39mimd\u001b[38;5;241m.\u001b[39mMULTIBATH\u001b[38;5;241m.\u001b[39mTEMP0 \u001b[38;5;241m=\u001b[39m [temperature \u001b[38;5;28;01mfor\u001b[39;00m x \u001b[38;5;129;01min\u001b[39;00m \u001b[38;5;28mrange\u001b[39m(\u001b[43min_eq_system\u001b[49m\u001b[38;5;241m.\u001b[39mimd\u001b[38;5;241m.\u001b[39mMULTIBATH\u001b[38;5;241m.\u001b[39mNBATHS)]\n\u001b[1;32m     13\u001b[0m \u001b[38;5;66;03m#turn off the posres for the last run.\u001b[39;00m\n\u001b[1;32m     14\u001b[0m \u001b[38;5;28;01mif\u001b[39;00m(runID\u001b[38;5;241m+\u001b[39m\u001b[38;5;241m1\u001b[39m \u001b[38;5;241m==\u001b[39m \u001b[38;5;28mlen\u001b[39m(temperatures)): \u001b[38;5;66;03m#Last Run\u001b[39;00m\n",
      "\u001b[0;31mNameError\u001b[0m: name 'in_eq_system' is not defined"
     ]
    }
   ],
   "source": [
    "## run Thermalisation.\n",
    "from pygromos.simulations.modules.preset_simulation_modules import simulation\n",
    "\n",
    "temperatures = [60, 120, 180, 240, 300] #the temperatures we want to simulate.\n",
    "\n",
    "print(\"Heating upt to: \", end=\"\\t\")\n",
    "for runID, temperature in enumerate(temperatures):\n",
    "    print(temperature, end=\"\\t\")\n",
    "    \n",
    "    #adapt temperature\n",
    "    in_eq_system.imd.MULTIBATH.TEMP0 = [temperature for x in range(in_eq_system.imd.MULTIBATH.NBATHS)]\n",
    "\n",
    "    #turn off the posres for the last run.\n",
    "    if(runID+1 == len(temperatures)): #Last Run\n",
    "        in_eq_system.imd.POSITIONRES.NTPOR = 0\n",
    "        in_eq_system.imd.POSITIONRES.CPOR = 0\n",
    "\n",
    "        out_eq_system = simulation(in_gromos_simulation_system=in_eq_system,\n",
    "                                   step_name=\"f_\"+sys_same,\n",
    "                                   simulation_runs=runID+1)\n",
    "        break\n",
    "    else:\n",
    "        out_eq_system = simulation(in_gromos_simulation_system=in_eq_system,\n",
    "                                   step_name=\"f_\"+sys_same,\n",
    "                                   simulation_runs=runID+1,\n",
    "                                   analysis_script=None,\n",
    "                                   verbose=False)\n",
    "    \n",
    "    in_eq_system = out_eq_system\n",
    "\n",
    "    \n",
    "print(\"done\")"
   ]
  },
  {
   "cell_type": "code",
   "execution_count": 76,
   "metadata": {
    "execution": {
     "iopub.execute_input": "2022-04-04T16:01:15.330222Z",
     "iopub.status.busy": "2022-04-04T16:01:15.329356Z",
     "iopub.status.idle": "2022-04-04T16:01:15.344216Z",
     "shell.execute_reply": "2022-04-04T16:01:15.343621Z"
    }
   },
   "outputs": [
    {
     "ename": "NameError",
     "evalue": "name 'out_eq_system' is not defined",
     "output_type": "error",
     "traceback": [
      "\u001b[0;31m---------------------------------------------------------------------------\u001b[0m",
      "\u001b[0;31mNameError\u001b[0m                                 Traceback (most recent call last)",
      "Input \u001b[0;32mIn [76]\u001b[0m, in \u001b[0;36m<cell line: 2>\u001b[0;34m()\u001b[0m\n\u001b[1;32m      1\u001b[0m \u001b[38;5;66;03m#This took some time, so lets store it! So we can use it later again.\u001b[39;00m\n\u001b[0;32m----> 2\u001b[0m out_eq_therm_system_path \u001b[38;5;241m=\u001b[39m \u001b[43mout_eq_system\u001b[49m\u001b[38;5;241m.\u001b[39msave(out_eq_system\u001b[38;5;241m.\u001b[39mwork_folder\u001b[38;5;241m+\u001b[39m\u001b[38;5;124m\"\u001b[39m\u001b[38;5;124m/eq_therm_result2.obj\u001b[39m\u001b[38;5;124m\"\u001b[39m)\n",
      "\u001b[0;31mNameError\u001b[0m: name 'out_eq_system' is not defined"
     ]
    }
   ],
   "source": [
    "#This took some time, so lets store it! So we can use it later again.\n",
    "out_eq_therm_system_path = out_eq_system.save(out_eq_system.work_folder+\"/eq_therm_result2.obj\")\n"
   ]
  },
  {
   "cell_type": "markdown",
   "metadata": {},
   "source": [
    "### Analysis of Thermalisation:\n",
    "Next we want to check the results of our Thermalisation. We will have a look at the coordinate trajectory and the temperatures of the system."
   ]
  },
  {
   "cell_type": "markdown",
   "metadata": {},
   "source": [
    "#### Check the coordinate traj\n",
    "First we will check the trajectory of the termalisation. Again we first need to shift the coordinates, so we can se the fully connected peptide."
   ]
  },
  {
   "cell_type": "code",
   "execution_count": 77,
   "metadata": {
    "execution": {
     "iopub.execute_input": "2022-04-04T16:01:15.347020Z",
     "iopub.status.busy": "2022-04-04T16:01:15.346375Z",
     "iopub.status.idle": "2022-04-04T16:01:15.362485Z",
     "shell.execute_reply": "2022-04-04T16:01:15.362021Z"
    }
   },
   "outputs": [
    {
     "ename": "NameError",
     "evalue": "name 'out_eq_system' is not defined",
     "output_type": "error",
     "traceback": [
      "\u001b[0;31m---------------------------------------------------------------------------\u001b[0m",
      "\u001b[0;31mNameError\u001b[0m                                 Traceback (most recent call last)",
      "Input \u001b[0;32mIn [77]\u001b[0m, in \u001b[0;36m<cell line: 1>\u001b[0;34m()\u001b[0m\n\u001b[0;32m----> 1\u001b[0m coordinate_traj \u001b[38;5;241m=\u001b[39m \u001b[43mout_eq_system\u001b[49m\u001b[38;5;241m.\u001b[39mtrc\n\u001b[1;32m      2\u001b[0m coordinate_traj\u001b[38;5;241m.\u001b[39mimage_molecules()\n\u001b[1;32m      3\u001b[0m view \u001b[38;5;241m=\u001b[39m coordinate_traj\u001b[38;5;241m.\u001b[39mview\n",
      "\u001b[0;31mNameError\u001b[0m: name 'out_eq_system' is not defined"
     ]
    }
   ],
   "source": [
    "coordinate_traj = out_eq_system.trc\n",
    "coordinate_traj.image_molecules()\n",
    "view = coordinate_traj.view\n",
    "view"
   ]
  },
  {
   "cell_type": "markdown",
   "metadata": {},
   "source": [
    "#### Check the temperature\n",
    "After this, we would like to see the temperature development. \n",
    "First lets collect all temperature calculations from the simulation:"
   ]
  },
  {
   "cell_type": "code",
   "execution_count": 78,
   "metadata": {
    "execution": {
     "iopub.execute_input": "2022-04-04T16:01:15.365052Z",
     "iopub.status.busy": "2022-04-04T16:01:15.364740Z",
     "iopub.status.idle": "2022-04-04T16:01:15.378675Z",
     "shell.execute_reply": "2022-04-04T16:01:15.378174Z"
    }
   },
   "outputs": [
    {
     "ename": "NameError",
     "evalue": "name 'out_eq_system' is not defined",
     "output_type": "error",
     "traceback": [
      "\u001b[0;31m---------------------------------------------------------------------------\u001b[0m",
      "\u001b[0;31mNameError\u001b[0m                                 Traceback (most recent call last)",
      "Input \u001b[0;32mIn [78]\u001b[0m, in \u001b[0;36m<cell line: 1>\u001b[0;34m()\u001b[0m\n\u001b[0;32m----> 1\u001b[0m energy_traj \u001b[38;5;241m=\u001b[39m \u001b[43mout_eq_system\u001b[49m\u001b[38;5;241m.\u001b[39mtre\n\u001b[1;32m      2\u001b[0m temperatures\u001b[38;5;241m=\u001b[39m energy_traj\u001b[38;5;241m.\u001b[39mget_temperature()\n\u001b[1;32m      3\u001b[0m temperatures\n",
      "\u001b[0;31mNameError\u001b[0m: name 'out_eq_system' is not defined"
     ]
    }
   ],
   "source": [
    "energy_traj = out_eq_system.tre\n",
    "temperatures= energy_traj.get_temperature()\n",
    "temperatures"
   ]
  },
  {
   "cell_type": "markdown",
   "metadata": {},
   "source": [
    "Next we want to visualize the data to get an impresstionof what happened. \n",
    "Can you see how the Temperature was constantly raised per simulation and started to equilibrate forming plateus?"
   ]
  },
  {
   "cell_type": "code",
   "execution_count": 79,
   "metadata": {
    "execution": {
     "iopub.execute_input": "2022-04-04T16:01:15.381537Z",
     "iopub.status.busy": "2022-04-04T16:01:15.381276Z",
     "iopub.status.idle": "2022-04-04T16:01:15.878946Z",
     "shell.execute_reply": "2022-04-04T16:01:15.878088Z"
    }
   },
   "outputs": [
    {
     "ename": "AttributeError",
     "evalue": "'list' object has no attribute 'bath1'",
     "output_type": "error",
     "traceback": [
      "\u001b[0;31m---------------------------------------------------------------------------\u001b[0m",
      "\u001b[0;31mAttributeError\u001b[0m                            Traceback (most recent call last)",
      "Input \u001b[0;32mIn [79]\u001b[0m, in \u001b[0;36m<cell line: 3>\u001b[0;34m()\u001b[0m\n\u001b[1;32m      1\u001b[0m \u001b[38;5;28;01mfrom\u001b[39;00m \u001b[38;5;21;01mmatplotlib\u001b[39;00m \u001b[38;5;28;01mimport\u001b[39;00m pyplot \u001b[38;5;28;01mas\u001b[39;00m plt\n\u001b[0;32m----> 3\u001b[0m plt\u001b[38;5;241m.\u001b[39mplot(\u001b[43mtemperatures\u001b[49m\u001b[38;5;241;43m.\u001b[39;49m\u001b[43mbath1\u001b[49m, label\u001b[38;5;241m=\u001b[39m\u001b[38;5;124m\"\u001b[39m\u001b[38;5;124mTBath1\u001b[39m\u001b[38;5;124m\"\u001b[39m)\n\u001b[1;32m      4\u001b[0m plt\u001b[38;5;241m.\u001b[39mplot(temperatures\u001b[38;5;241m.\u001b[39mbath2, label\u001b[38;5;241m=\u001b[39m\u001b[38;5;124m\"\u001b[39m\u001b[38;5;124mTBath2\u001b[39m\u001b[38;5;124m\"\u001b[39m)\n\u001b[1;32m      6\u001b[0m plt\u001b[38;5;241m.\u001b[39mlegend()\n",
      "\u001b[0;31mAttributeError\u001b[0m: 'list' object has no attribute 'bath1'"
     ]
    }
   ],
   "source": [
    "from matplotlib import pyplot as plt\n",
    "\n",
    "plt.plot(temperatures.bath1, label=\"TBath1\")\n",
    "plt.plot(temperatures.bath2, label=\"TBath2\")\n",
    "\n",
    "plt.legend()\n",
    "plt.ylabel(\"$T~[K]$\")\n",
    "plt.xlabel(\"$t~[ps]$\")"
   ]
  },
  {
   "cell_type": "markdown",
   "metadata": {},
   "source": [
    "## Molecular dynamics sampling simulation.\n",
    "The equilibration period already produced a short simulation at constant temperature and volume. At\n",
    "this point we want to elongate the simulation to a nanosecond under constant temperature and pressure.\n",
    "\n",
    "### Simulation Paramters\n",
    "First, we don’t use position restraining anymore and so, the POSITIONRES block in the next step.\n",
    "Next we want to simulate under constant pressure rather than constant volume (NVT-> NPT). For this purpose we have to add\n",
    "an additional block:\n",
    "\n"
   ]
  },
  {
   "cell_type": "code",
   "execution_count": 80,
   "metadata": {
    "execution": {
     "iopub.execute_input": "2022-04-04T16:01:15.882825Z",
     "iopub.status.busy": "2022-04-04T16:01:15.882256Z",
     "iopub.status.idle": "2022-04-04T16:01:15.891711Z",
     "shell.execute_reply": "2022-04-04T16:01:15.891251Z"
    }
   },
   "outputs": [
    {
     "name": "stdout",
     "output_type": "stream",
     "text": [
      "Help on PRESSURESCALE in module pygromos.files.blocks.imd_blocks object:\n",
      "\n",
      "class PRESSURESCALE(_generic_imd_block)\n",
      " |  PRESSURESCALE(COUPLE: int = 0, SCALE: int = 0, COMP: float = 0, TAUP: float = 0, VIRIAL: int = 0, SEMIANISOTROPIC: List[int] = [], PRES0: List[List[float]] = [[0, 0, 0], [0, 0, 0], [0, 0, 0]], content: List[str] = None)\n",
      " |  \n",
      " |  PRESSURESCALE Block\n",
      " |  This block controls the barostat of the simulation\n",
      " |  \n",
      " |  Attributes\n",
      " |  -----------\n",
      " |  COUPLE: int\n",
      " |      off(0), calc(1), scale(2)\n",
      " |  SCALE:  int\n",
      " |      off(0), iso(1), aniso(2), full(3), semianiso(4)\n",
      " |  COMP:   float\n",
      " |      compessibility\n",
      " |  TAUP:   float\n",
      " |      coupling strength\n",
      " |  VIRIAL: int\n",
      " |      none(0), atomic(1), group(2)\n",
      " |  SEMIANISOTROPIC:    List[int]\n",
      " |      (semianisotropic couplings: X, Y, Z)\n",
      " |      e.g. 1 1 2: x and y jointly coupled and z separately coupled\n",
      " |      e.g. 0 0 1: constant area (xy-plane) and z coupled to a bath\n",
      " |  PRES0:  List[List[float]]\n",
      " |      reference pressure\n",
      " |  \n",
      " |  Method resolution order:\n",
      " |      PRESSURESCALE\n",
      " |      _generic_imd_block\n",
      " |      pygromos.files.blocks._general_blocks._generic_gromos_block\n",
      " |      builtins.object\n",
      " |  \n",
      " |  Methods defined here:\n",
      " |  \n",
      " |  __init__(self, COUPLE: int = 0, SCALE: int = 0, COMP: float = 0, TAUP: float = 0, VIRIAL: int = 0, SEMIANISOTROPIC: List[int] = [], PRES0: List[List[float]] = [[0, 0, 0], [0, 0, 0], [0, 0, 0]], content: List[str] = None)\n",
      " |      Initialize self.  See help(type(self)) for accurate signature.\n",
      " |  \n",
      " |  read_content_from_str(self, content: List[str])\n",
      " |  \n",
      " |  ----------------------------------------------------------------------\n",
      " |  Data and other attributes defined here:\n",
      " |  \n",
      " |  __annotations__ = {'COMP': <class 'float'>, 'COUPLE': <class 'int'>, '...\n",
      " |  \n",
      " |  name = 'PRESSURESCALE'\n",
      " |  \n",
      " |  ----------------------------------------------------------------------\n",
      " |  Methods inherited from _generic_imd_block:\n",
      " |  \n",
      " |  block_to_string(self) -> str\n",
      " |  \n",
      " |  ----------------------------------------------------------------------\n",
      " |  Methods inherited from pygromos.files.blocks._general_blocks._generic_gromos_block:\n",
      " |  \n",
      " |  __copy__(self)\n",
      " |  \n",
      " |  __deepcopy__(self, memo)\n",
      " |  \n",
      " |  __eq__(self, _generic_gromos_block__o: object) -> bool\n",
      " |      Return self==value.\n",
      " |  \n",
      " |  __iter__(self)\n",
      " |  \n",
      " |  __repr__(self)\n",
      " |      Return repr(self).\n",
      " |  \n",
      " |  __str__(self)\n",
      " |      Return str(self).\n",
      " |  \n",
      " |  get_name(self)\n",
      " |  \n",
      " |  ----------------------------------------------------------------------\n",
      " |  Data descriptors inherited from pygromos.files.blocks._general_blocks._generic_gromos_block:\n",
      " |  \n",
      " |  __dict__\n",
      " |      dictionary for instance variables (if defined)\n",
      " |  \n",
      " |  __weakref__\n",
      " |      list of weak references to the object (if defined)\n",
      " |  \n",
      " |  ----------------------------------------------------------------------\n",
      " |  Data and other attributes inherited from pygromos.files.blocks._general_blocks._generic_gromos_block:\n",
      " |  \n",
      " |  __hash__ = None\n",
      "\n"
     ]
    }
   ],
   "source": [
    "from pygromos.data.simulation_parameters_templates import template_md_tut as template_md\n",
    "from pygromos.files.simulation_parameters.imd import Imd\n",
    "\n",
    "imd_file = Imd(template_md)\n",
    "\n",
    "help(imd_file.PRESSURESCALE)"
   ]
  },
  {
   "cell_type": "markdown",
   "metadata": {},
   "source": [
    "In the PRESSURESCALE block we tell Gromos to calculate and scale the pressure by setting *COUPLE* to $2$. As\n",
    "the box should be isotropically scaled we set *SCALE* equal to $1$. The weak-coupling method (Sec. 2-12.2.2)\n",
    "uses two additional parameters: *COMP* is the isothermal compressibility and *TAUP* is the coupling time. We\n",
    "are calculating the molecular virial (*VIRIAL* is equal to $2$), so intramolecular forces don’t contribute to the\n",
    "pressure. The next line is only used for semi-anisotropic pressure coupling and can be ignored in our case.\n",
    "Finally, we have to specify the reference pressure in a tensor form\n"
   ]
  },
  {
   "cell_type": "code",
   "execution_count": 81,
   "metadata": {
    "execution": {
     "iopub.execute_input": "2022-04-04T16:01:15.894338Z",
     "iopub.status.busy": "2022-04-04T16:01:15.893955Z",
     "iopub.status.idle": "2022-04-04T16:01:15.899766Z",
     "shell.execute_reply": "2022-04-04T16:01:15.899346Z"
    }
   },
   "outputs": [
    {
     "data": {
      "text/plain": [
       "PRESSURESCALE\n",
       "# \t COUPLE \t SCALE \t COMP \t TAUP \t VIRIAL\n",
       " \t 2 \t 1 \t 0.000458 \t 0.500000 \t 2 \t \n",
       "# \t SEMIANISOTROPIC COUPLINGS(X, Y, Z)\n",
       " \t 1 \t 1 \t 1 \t \n",
       "# \t PRES0(1...3,1...3)\n",
       " \t 0.06102 \t 0.0 \t 0.0\n",
       " \t 0.0 \t 0.06102 \t 0.0\n",
       " \t 0.0 \t 0.0 \t 0.06102 \t \n",
       "END"
      ]
     },
     "execution_count": 81,
     "metadata": {},
     "output_type": "execute_result"
    }
   ],
   "source": [
    "imd_file.PRESSURESCALE"
   ]
  },
  {
   "cell_type": "markdown",
   "metadata": {},
   "source": [
    "### Perform MD - Production\n",
    "In the other blocks only minor things have changed: the temperature was set to 300K and the trajectories\n",
    "are written out less often (every 250th step only). Next we are going to set up the Gromos System. We will remove the position restraints and the old trajectories."
   ]
  },
  {
   "cell_type": "code",
   "execution_count": 82,
   "metadata": {
    "execution": {
     "iopub.execute_input": "2022-04-04T16:01:15.902355Z",
     "iopub.status.busy": "2022-04-04T16:01:15.902121Z",
     "iopub.status.idle": "2022-04-04T16:01:15.920451Z",
     "shell.execute_reply": "2022-04-04T16:01:15.919965Z"
    }
   },
   "outputs": [
    {
     "ename": "NameError",
     "evalue": "name 'out_eq_system' is not defined",
     "output_type": "error",
     "traceback": [
      "\u001b[0;31m---------------------------------------------------------------------------\u001b[0m",
      "\u001b[0;31mNameError\u001b[0m                                 Traceback (most recent call last)",
      "Input \u001b[0;32mIn [82]\u001b[0m, in \u001b[0;36m<cell line: 3>\u001b[0;34m()\u001b[0m\n\u001b[1;32m      1\u001b[0m \u001b[38;5;28;01mfrom\u001b[39;00m \u001b[38;5;21;01mpygromos\u001b[39;00m\u001b[38;5;21;01m.\u001b[39;00m\u001b[38;5;21;01msimulations\u001b[39;00m\u001b[38;5;21;01m.\u001b[39;00m\u001b[38;5;21;01mmodules\u001b[39;00m\u001b[38;5;21;01m.\u001b[39;00m\u001b[38;5;21;01mpreset_simulation_modules\u001b[39;00m \u001b[38;5;28;01mimport\u001b[39;00m md\n\u001b[0;32m----> 3\u001b[0m in_md_system \u001b[38;5;241m=\u001b[39m \u001b[43mout_eq_system\u001b[49m\u001b[38;5;241m.\u001b[39mcopy()\n\u001b[1;32m      5\u001b[0m in_md_system\u001b[38;5;241m.\u001b[39mwork_folder \u001b[38;5;241m=\u001b[39m project_dir\n\u001b[1;32m      6\u001b[0m in_md_system\u001b[38;5;241m.\u001b[39mname \u001b[38;5;241m=\u001b[39m \u001b[38;5;124m\"\u001b[39m\u001b[38;5;124mmd\u001b[39m\u001b[38;5;124m\"\u001b[39m\n",
      "\u001b[0;31mNameError\u001b[0m: name 'out_eq_system' is not defined"
     ]
    }
   ],
   "source": [
    "from pygromos.simulations.modules.preset_simulation_modules import md\n",
    "\n",
    "in_md_system = out_eq_system.copy()\n",
    "\n",
    "in_md_system.work_folder = project_dir\n",
    "in_md_system.name = \"md\"\n",
    "\n",
    "### Check simulation params\n",
    "in_md_system.imd = imd_file \n",
    "\n",
    "## imd parameters\n",
    "in_md_system.imd.STEP.NSTLIM = 1000\n",
    "in_md_system.imd.WRITETRAJ.NTWX = 10\n",
    "in_md_system.imd.WRITETRAJ.NTWE = 10\n",
    "in_md_system.imd.INITIALISE.NTIVEL = 0\n",
    "\n",
    "in_md_system.prepare_for_simulation()\n",
    "\n",
    "in_md_system"
   ]
  },
  {
   "cell_type": "code",
   "execution_count": 83,
   "metadata": {
    "execution": {
     "iopub.execute_input": "2022-04-04T16:01:15.922728Z",
     "iopub.status.busy": "2022-04-04T16:01:15.922473Z",
     "iopub.status.idle": "2022-04-04T16:01:15.938652Z",
     "shell.execute_reply": "2022-04-04T16:01:15.938200Z"
    }
   },
   "outputs": [
    {
     "ename": "NameError",
     "evalue": "name 'in_md_system' is not defined",
     "output_type": "error",
     "traceback": [
      "\u001b[0;31m---------------------------------------------------------------------------\u001b[0m",
      "\u001b[0;31mNameError\u001b[0m                                 Traceback (most recent call last)",
      "Input \u001b[0;32mIn [83]\u001b[0m, in \u001b[0;36m<cell line: 1>\u001b[0;34m()\u001b[0m\n\u001b[0;32m----> 1\u001b[0m out_md_system \u001b[38;5;241m=\u001b[39m md(in_gromos_system\u001b[38;5;241m=\u001b[39m\u001b[43min_md_system\u001b[49m,\n\u001b[1;32m      2\u001b[0m                    step_name\u001b[38;5;241m=\u001b[39m\u001b[38;5;124m\"\u001b[39m\u001b[38;5;124mg_\u001b[39m\u001b[38;5;124m\"\u001b[39m\u001b[38;5;241m+\u001b[39min_md_system\u001b[38;5;241m.\u001b[39mname,\n\u001b[1;32m      3\u001b[0m                    simulation_runs\u001b[38;5;241m=\u001b[39m\u001b[38;5;241m3\u001b[39m)\n\u001b[1;32m      4\u001b[0m out_md_system\n",
      "\u001b[0;31mNameError\u001b[0m: name 'in_md_system' is not defined"
     ]
    }
   ],
   "source": [
    "out_md_system = md(in_gromos_system=in_md_system,\n",
    "                   step_name=\"g_\"+in_md_system.name,\n",
    "                   simulation_runs=3)\n",
    "out_md_system"
   ]
  },
  {
   "cell_type": "code",
   "execution_count": 84,
   "metadata": {
    "execution": {
     "iopub.execute_input": "2022-04-04T16:01:15.940879Z",
     "iopub.status.busy": "2022-04-04T16:01:15.940493Z",
     "iopub.status.idle": "2022-04-04T16:01:15.954228Z",
     "shell.execute_reply": "2022-04-04T16:01:15.953767Z"
    }
   },
   "outputs": [
    {
     "ename": "NameError",
     "evalue": "name 'out_md_system' is not defined",
     "output_type": "error",
     "traceback": [
      "\u001b[0;31m---------------------------------------------------------------------------\u001b[0m",
      "\u001b[0;31mNameError\u001b[0m                                 Traceback (most recent call last)",
      "Input \u001b[0;32mIn [84]\u001b[0m, in \u001b[0;36m<cell line: 1>\u001b[0;34m()\u001b[0m\n\u001b[0;32m----> 1\u001b[0m out_md_system_path \u001b[38;5;241m=\u001b[39m \u001b[43mout_md_system\u001b[49m\u001b[38;5;241m.\u001b[39msave(out_md_system\u001b[38;5;241m.\u001b[39mwork_folder\u001b[38;5;241m+\u001b[39m\u001b[38;5;124m\"\u001b[39m\u001b[38;5;124m/md_result.obj\u001b[39m\u001b[38;5;124m\"\u001b[39m)\n",
      "\u001b[0;31mNameError\u001b[0m: name 'out_md_system' is not defined"
     ]
    }
   ],
   "source": [
    "out_md_system_path = out_md_system.save(out_md_system.work_folder+\"/md_result.obj\")\n"
   ]
  },
  {
   "cell_type": "markdown",
   "metadata": {},
   "source": [
    "After all the jobs are finished, you should start to analyse the trajectories.\n"
   ]
  },
  {
   "cell_type": "markdown",
   "metadata": {},
   "source": [
    "### Analysis\n",
    "\n",
    "#### First Look Analysis\n",
    "Let's first have a look on the final coordinates."
   ]
  },
  {
   "cell_type": "code",
   "execution_count": 85,
   "metadata": {
    "execution": {
     "iopub.execute_input": "2022-04-04T16:01:15.956741Z",
     "iopub.status.busy": "2022-04-04T16:01:15.956439Z",
     "iopub.status.idle": "2022-04-04T16:01:15.971597Z",
     "shell.execute_reply": "2022-04-04T16:01:15.971148Z"
    }
   },
   "outputs": [
    {
     "ename": "NameError",
     "evalue": "name 'out_md_system' is not defined",
     "output_type": "error",
     "traceback": [
      "\u001b[0;31m---------------------------------------------------------------------------\u001b[0m",
      "\u001b[0;31mNameError\u001b[0m                                 Traceback (most recent call last)",
      "Input \u001b[0;32mIn [85]\u001b[0m, in \u001b[0;36m<cell line: 1>\u001b[0;34m()\u001b[0m\n\u001b[0;32m----> 1\u001b[0m \u001b[43mout_md_system\u001b[49m\u001b[38;5;241m.\u001b[39mcnf\u001b[38;5;241m.\u001b[39mshift_periodic_boundary()\n\u001b[1;32m      2\u001b[0m out_md_system\u001b[38;5;241m.\u001b[39mcnf\u001b[38;5;241m.\u001b[39mrecenter_pbc()\n\u001b[1;32m      3\u001b[0m out_md_system\u001b[38;5;241m.\u001b[39mcnf\u001b[38;5;241m.\u001b[39mrecreate_view()\n",
      "\u001b[0;31mNameError\u001b[0m: name 'out_md_system' is not defined"
     ]
    }
   ],
   "source": [
    "out_md_system.cnf.shift_periodic_boundary()\n",
    "out_md_system.cnf.recenter_pbc()\n",
    "out_md_system.cnf.recreate_view()\n",
    "out_md_system.cnf.view"
   ]
  },
  {
   "cell_type": "code",
   "execution_count": 86,
   "metadata": {
    "execution": {
     "iopub.execute_input": "2022-04-04T16:01:15.974362Z",
     "iopub.status.busy": "2022-04-04T16:01:15.974079Z",
     "iopub.status.idle": "2022-04-04T16:01:15.988033Z",
     "shell.execute_reply": "2022-04-04T16:01:15.987539Z"
    }
   },
   "outputs": [
    {
     "ename": "NameError",
     "evalue": "name 'out_md_system' is not defined",
     "output_type": "error",
     "traceback": [
      "\u001b[0;31m---------------------------------------------------------------------------\u001b[0m",
      "\u001b[0;31mNameError\u001b[0m                                 Traceback (most recent call last)",
      "Input \u001b[0;32mIn [86]\u001b[0m, in \u001b[0;36m<cell line: 1>\u001b[0;34m()\u001b[0m\n\u001b[0;32m----> 1\u001b[0m coordinate_traj \u001b[38;5;241m=\u001b[39m \u001b[43mout_md_system\u001b[49m\u001b[38;5;241m.\u001b[39mtrc\n\u001b[1;32m      3\u001b[0m coordinate_traj\u001b[38;5;241m.\u001b[39mimage_molecules()\n\u001b[1;32m      4\u001b[0m coordinate_traj\u001b[38;5;241m.\u001b[39mrecreate_view()\n",
      "\u001b[0;31mNameError\u001b[0m: name 'out_md_system' is not defined"
     ]
    }
   ],
   "source": [
    "coordinate_traj = out_md_system.trc\n",
    "\n",
    "coordinate_traj.image_molecules()\n",
    "coordinate_traj.recreate_view()\n",
    "view = coordinate_traj.view\n",
    "view"
   ]
  },
  {
   "cell_type": "markdown",
   "metadata": {
    "pycharm": {
     "name": "#%% md\n"
    }
   },
   "source": [
    "\n",
    "#### Energy Analysis\n",
    "The program calculates the average of the specified properties as well as the root-mean-square deviations\n",
    "(rmsd) and a statistical error estimate (error est.). The error estimate is calculated from block averages\n",
    "of growing sizes extrapolating to infinite block size1\n",
    "\n",
    "***\n",
    "**Warning:** Sometimes the error estimates are NaN (not a number), which is due to the fact that we do not\n",
    "have enough values to calculate a meaningful error estimate.\n",
    "***"
   ]
  },
  {
   "cell_type": "code",
   "execution_count": 87,
   "metadata": {
    "execution": {
     "iopub.execute_input": "2022-04-04T16:01:15.990754Z",
     "iopub.status.busy": "2022-04-04T16:01:15.990349Z",
     "iopub.status.idle": "2022-04-04T16:01:16.003657Z",
     "shell.execute_reply": "2022-04-04T16:01:16.003222Z"
    }
   },
   "outputs": [
    {
     "ename": "NameError",
     "evalue": "name 'out_md_system' is not defined",
     "output_type": "error",
     "traceback": [
      "\u001b[0;31m---------------------------------------------------------------------------\u001b[0m",
      "\u001b[0;31mNameError\u001b[0m                                 Traceback (most recent call last)",
      "Input \u001b[0;32mIn [87]\u001b[0m, in \u001b[0;36m<cell line: 1>\u001b[0;34m()\u001b[0m\n\u001b[0;32m----> 1\u001b[0m energy_traj \u001b[38;5;241m=\u001b[39m \u001b[43mout_md_system\u001b[49m\u001b[38;5;241m.\u001b[39mtre\n\u001b[1;32m      2\u001b[0m total_energies \u001b[38;5;241m=\u001b[39m energy_traj\u001b[38;5;241m.\u001b[39mget_totals()\n\u001b[1;32m      3\u001b[0m total_energies\n",
      "\u001b[0;31mNameError\u001b[0m: name 'out_md_system' is not defined"
     ]
    }
   ],
   "source": [
    "energy_traj = out_md_system.tre\n",
    "total_energies = energy_traj.get_totals()\n",
    "total_energies"
   ]
  },
  {
   "cell_type": "code",
   "execution_count": 88,
   "metadata": {
    "execution": {
     "iopub.execute_input": "2022-04-04T16:01:16.006254Z",
     "iopub.status.busy": "2022-04-04T16:01:16.005797Z",
     "iopub.status.idle": "2022-04-04T16:01:16.020803Z",
     "shell.execute_reply": "2022-04-04T16:01:16.020326Z"
    }
   },
   "outputs": [
    {
     "ename": "NameError",
     "evalue": "name 'energy_traj' is not defined",
     "output_type": "error",
     "traceback": [
      "\u001b[0;31m---------------------------------------------------------------------------\u001b[0m",
      "\u001b[0;31mNameError\u001b[0m                                 Traceback (most recent call last)",
      "Input \u001b[0;32mIn [88]\u001b[0m, in \u001b[0;36m<cell line: 3>\u001b[0;34m()\u001b[0m\n\u001b[1;32m      1\u001b[0m \u001b[38;5;66;03m#Next we plot some data of the energies to se their development.\u001b[39;00m\n\u001b[0;32m----> 3\u001b[0m time_axis \u001b[38;5;241m=\u001b[39m \u001b[43menergy_traj\u001b[49m\u001b[38;5;241m.\u001b[39mtime\n\u001b[1;32m      4\u001b[0m total_energies\u001b[38;5;241m.\u001b[39mtotpot\u001b[38;5;241m.\u001b[39mplot(legend\u001b[38;5;241m=\u001b[39m\u001b[38;5;28;01mTrue\u001b[39;00m)\n\u001b[1;32m      5\u001b[0m total_energies\u001b[38;5;241m.\u001b[39mtotkin\u001b[38;5;241m.\u001b[39mplot(legend\u001b[38;5;241m=\u001b[39m\u001b[38;5;28;01mTrue\u001b[39;00m)\n",
      "\u001b[0;31mNameError\u001b[0m: name 'energy_traj' is not defined"
     ]
    }
   ],
   "source": [
    "#Next we plot some data of the energies to se their development.\n",
    "\n",
    "time_axis = energy_traj.time\n",
    "total_energies.totpot.plot(legend=True)\n",
    "total_energies.totkin.plot(legend=True)\n",
    "total_energies.totene.plot(xlabel=\"t [ps]\", ylabel=\"V [kJ/mol]\", title=\"Simulation Data\", legend=True)\n"
   ]
  },
  {
   "cell_type": "markdown",
   "metadata": {},
   "source": [
    "In the Following we want to see the different contributions of the molecules with their VdW and Culomb interaxtions.\n",
    " we add up the van der Waals and Coulomb energies of the peptide-peptide interactions.\n",
    "\n",
    "Now we want to look at two variables:\n",
    "* peptide_water_nonbonded\n",
    "* peptide_Cl_nonbonded\n",
    "\n",
    "The information about the nonbondeds can be retrieved from the ForceGroup Nonbonded contributions.\n",
    "If you check the used imd file, you reckognize three Force groups in the FORCEGROUP block. These are limited by the last atom of the group and you can check the group atoms in the topology or coordinate file. \n",
    "They should correspond here to:\n",
    "1. Peptide\n",
    "2. 2 Cl- ions\n",
    "3. Water molecules\n",
    "\n",
    "The interactions of these forcegroups are stored in the following pattern, which can be adapted to any force group number (PseudoCode: for i in range(1+nFroceGroups) for j in range(i, nFroceGroups)):\n",
    "\n",
    "1. ForceGroup - 1. ForceGroup: intra force group nonbondeds (peptide - peptide)\n",
    "1. ForceGroup - 2. ForceGroup: inter force group nonbondeds between force group 1 and 2 (peptide - Cl-)\n",
    "1. ForceGroup - 3. ForceGroup: inter force group nonbondeds between force group 1 and 3 (peptide - Water)\n",
    "2. ForceGroup - 2. ForceGroup: intra force group nonbondeds (Cl- - Cl-)\n",
    "3. ForceGroup - 3. ForceGroup: inter force group nonbondeds between force group 2 and 3 (Cl- - Water)\n",
    "4. ForceGroup - 3. ForceGroup: intra force group nonbondeds (Water - Water)"
   ]
  },
  {
   "cell_type": "code",
   "execution_count": 89,
   "metadata": {
    "execution": {
     "iopub.execute_input": "2022-04-04T16:01:16.023651Z",
     "iopub.status.busy": "2022-04-04T16:01:16.023238Z",
     "iopub.status.idle": "2022-04-04T16:01:16.040207Z",
     "shell.execute_reply": "2022-04-04T16:01:16.039695Z"
    }
   },
   "outputs": [
    {
     "ename": "NameError",
     "evalue": "name 'energy_traj' is not defined",
     "output_type": "error",
     "traceback": [
      "\u001b[0;31m---------------------------------------------------------------------------\u001b[0m",
      "\u001b[0;31mNameError\u001b[0m                                 Traceback (most recent call last)",
      "Input \u001b[0;32mIn [89]\u001b[0m, in \u001b[0;36m<cell line: 2>\u001b[0;34m()\u001b[0m\n\u001b[1;32m      1\u001b[0m \u001b[38;5;66;03m#First lets get the Force Group Energy contributions:\u001b[39;00m\n\u001b[0;32m----> 2\u001b[0m forceGroupNonbondedContributions \u001b[38;5;241m=\u001b[39m \u001b[43menergy_traj\u001b[49m\u001b[38;5;241m.\u001b[39mget_nonbondedContributions()\n\u001b[1;32m      4\u001b[0m \u001b[38;5;66;03m#Here we give each Force Group contribution category nice names:\u001b[39;00m\n\u001b[1;32m      5\u001b[0m peptide_peptide_nonbonded \u001b[38;5;241m=\u001b[39m forceGroupNonbondedContributions[\u001b[38;5;241m1\u001b[39m][\u001b[38;5;241m1\u001b[39m]\n",
      "\u001b[0;31mNameError\u001b[0m: name 'energy_traj' is not defined"
     ]
    }
   ],
   "source": [
    "#First lets get the Force Group Energy contributions:\n",
    "forceGroupNonbondedContributions = energy_traj.get_nonbondedContributions()\n",
    "\n",
    "#Here we give each Force Group contribution category nice names:\n",
    "peptide_peptide_nonbonded = forceGroupNonbondedContributions[1][1]\n",
    "peptide_Cl_nonbonded = forceGroupNonbondedContributions[1][2]\n",
    "peptide_water_nonbonded = forceGroupNonbondedContributions[1][3]\n",
    "\n",
    "Cl_Cl_nonbonded = forceGroupNonbondedContributions[2][2]\n",
    "Cl_water_nonbonded = forceGroupNonbondedContributions[2][3]\n",
    "\n",
    "water_water_nonbonded = forceGroupNonbondedContributions[3][3]"
   ]
  },
  {
   "cell_type": "code",
   "execution_count": 90,
   "metadata": {
    "execution": {
     "iopub.execute_input": "2022-04-04T16:01:16.042992Z",
     "iopub.status.busy": "2022-04-04T16:01:16.042546Z",
     "iopub.status.idle": "2022-04-04T16:01:16.059869Z",
     "shell.execute_reply": "2022-04-04T16:01:16.059338Z"
    }
   },
   "outputs": [
    {
     "ename": "NameError",
     "evalue": "name 'peptide_peptide_nonbonded' is not defined",
     "output_type": "error",
     "traceback": [
      "\u001b[0;31m---------------------------------------------------------------------------\u001b[0m",
      "\u001b[0;31mNameError\u001b[0m                                 Traceback (most recent call last)",
      "Input \u001b[0;32mIn [90]\u001b[0m, in \u001b[0;36m<cell line: 2>\u001b[0;34m()\u001b[0m\n\u001b[1;32m      1\u001b[0m \u001b[38;5;66;03m#Here we look at the different Nonbonded contributions of each \u001b[39;00m\n\u001b[0;32m----> 2\u001b[0m \u001b[43mpeptide_peptide_nonbonded\u001b[49m\u001b[38;5;241m.\u001b[39mplot(title\u001b[38;5;241m=\u001b[39m\u001b[38;5;124m\"\u001b[39m\u001b[38;5;124mPeptide_intra_Nonbondeds\u001b[39m\u001b[38;5;124m\"\u001b[39m, ylabel\u001b[38;5;241m=\u001b[39m\u001b[38;5;124m\"\u001b[39m\u001b[38;5;124mV [kJ/mol]\u001b[39m\u001b[38;5;124m\"\u001b[39m, xlabel\u001b[38;5;241m=\u001b[39m\u001b[38;5;124m\"\u001b[39m\u001b[38;5;124mwriteOuts\u001b[39m\u001b[38;5;124m\"\u001b[39m, subplots\u001b[38;5;241m=\u001b[39m\u001b[38;5;28;01mTrue\u001b[39;00m)\n\u001b[1;32m      3\u001b[0m Cl_Cl_nonbonded\u001b[38;5;241m.\u001b[39mplot(title\u001b[38;5;241m=\u001b[39m\u001b[38;5;124m\"\u001b[39m\u001b[38;5;124mCL_intra_Nonbondeds\u001b[39m\u001b[38;5;124m\"\u001b[39m, ylabel\u001b[38;5;241m=\u001b[39m\u001b[38;5;124m\"\u001b[39m\u001b[38;5;124mV [kJ/mol]\u001b[39m\u001b[38;5;124m\"\u001b[39m, xlabel\u001b[38;5;241m=\u001b[39m\u001b[38;5;124m\"\u001b[39m\u001b[38;5;124mwriteOuts\u001b[39m\u001b[38;5;124m\"\u001b[39m, subplots\u001b[38;5;241m=\u001b[39m\u001b[38;5;28;01mTrue\u001b[39;00m)\n\u001b[1;32m      4\u001b[0m water_water_nonbonded\u001b[38;5;241m.\u001b[39mplot(title\u001b[38;5;241m=\u001b[39m\u001b[38;5;124m\"\u001b[39m\u001b[38;5;124mWater_intra_Nonbondeds\u001b[39m\u001b[38;5;124m\"\u001b[39m, ylabel\u001b[38;5;241m=\u001b[39m\u001b[38;5;124m\"\u001b[39m\u001b[38;5;124mV [kJ/mol]\u001b[39m\u001b[38;5;124m\"\u001b[39m, xlabel\u001b[38;5;241m=\u001b[39m\u001b[38;5;124m\"\u001b[39m\u001b[38;5;124mwriteOuts\u001b[39m\u001b[38;5;124m\"\u001b[39m, subplots\u001b[38;5;241m=\u001b[39m\u001b[38;5;28;01mTrue\u001b[39;00m)\n",
      "\u001b[0;31mNameError\u001b[0m: name 'peptide_peptide_nonbonded' is not defined"
     ]
    }
   ],
   "source": [
    "#Here we look at the different Nonbonded contributions of each \n",
    "peptide_peptide_nonbonded.plot(title=\"Peptide_intra_Nonbondeds\", ylabel=\"V [kJ/mol]\", xlabel=\"writeOuts\", subplots=True)\n",
    "Cl_Cl_nonbonded.plot(title=\"CL_intra_Nonbondeds\", ylabel=\"V [kJ/mol]\", xlabel=\"writeOuts\", subplots=True)\n",
    "water_water_nonbonded.plot(title=\"Water_intra_Nonbondeds\", ylabel=\"V [kJ/mol]\", xlabel=\"writeOuts\", subplots=True)"
   ]
  },
  {
   "cell_type": "code",
   "execution_count": 91,
   "metadata": {
    "execution": {
     "iopub.execute_input": "2022-04-04T16:01:16.062693Z",
     "iopub.status.busy": "2022-04-04T16:01:16.062410Z",
     "iopub.status.idle": "2022-04-04T16:01:16.082007Z",
     "shell.execute_reply": "2022-04-04T16:01:16.081481Z"
    }
   },
   "outputs": [
    {
     "ename": "NameError",
     "evalue": "name 'peptide_peptide_nonbonded' is not defined",
     "output_type": "error",
     "traceback": [
      "\u001b[0;31m---------------------------------------------------------------------------\u001b[0m",
      "\u001b[0;31mNameError\u001b[0m                                 Traceback (most recent call last)",
      "Input \u001b[0;32mIn [91]\u001b[0m, in \u001b[0;36m<cell line: 3>\u001b[0;34m()\u001b[0m\n\u001b[1;32m      1\u001b[0m \u001b[38;5;66;03m#Next we calculate the sum of all contributions\u001b[39;00m\n\u001b[1;32m      2\u001b[0m \u001b[38;5;66;03m#The sum over the axis 1 sums up all contribution types for a timestep t.\u001b[39;00m\n\u001b[0;32m----> 3\u001b[0m \u001b[43mpeptide_peptide_nonbonded\u001b[49m\u001b[38;5;241m.\u001b[39msum(axis\u001b[38;5;241m=\u001b[39m\u001b[38;5;241m1\u001b[39m)\u001b[38;5;241m.\u001b[39mplot(label\u001b[38;5;241m=\u001b[39m\u001b[38;5;124m\"\u001b[39m\u001b[38;5;124mpeptide - peptide\u001b[39m\u001b[38;5;124m\"\u001b[39m, legend\u001b[38;5;241m=\u001b[39m\u001b[38;5;28;01mTrue\u001b[39;00m)\n\u001b[1;32m      4\u001b[0m peptide_Cl_nonbonded\u001b[38;5;241m.\u001b[39msum(axis\u001b[38;5;241m=\u001b[39m\u001b[38;5;241m1\u001b[39m)\u001b[38;5;241m.\u001b[39mplot(label\u001b[38;5;241m=\u001b[39m\u001b[38;5;124m\"\u001b[39m\u001b[38;5;124mpeptide - Cl-\u001b[39m\u001b[38;5;124m\"\u001b[39m, legend\u001b[38;5;241m=\u001b[39m\u001b[38;5;28;01mTrue\u001b[39;00m)\n\u001b[1;32m      5\u001b[0m peptide_water_nonbonded\u001b[38;5;241m.\u001b[39msum(axis\u001b[38;5;241m=\u001b[39m\u001b[38;5;241m1\u001b[39m)\u001b[38;5;241m.\u001b[39mplot(label\u001b[38;5;241m=\u001b[39m\u001b[38;5;124m\"\u001b[39m\u001b[38;5;124mpeptide - Water\u001b[39m\u001b[38;5;124m\"\u001b[39m, ylabel\u001b[38;5;241m=\u001b[39m\u001b[38;5;124m\"\u001b[39m\u001b[38;5;124mV [kJ/mol]\u001b[39m\u001b[38;5;124m\"\u001b[39m, xlabel\u001b[38;5;241m=\u001b[39m\u001b[38;5;124m\"\u001b[39m\u001b[38;5;124mwriteOuts\u001b[39m\u001b[38;5;124m\"\u001b[39m, title\u001b[38;5;241m=\u001b[39m\u001b[38;5;124m\"\u001b[39m\u001b[38;5;124mPeptide Nonbondeds\u001b[39m\u001b[38;5;124m\"\u001b[39m, legend\u001b[38;5;241m=\u001b[39m\u001b[38;5;28;01mTrue\u001b[39;00m)\n",
      "\u001b[0;31mNameError\u001b[0m: name 'peptide_peptide_nonbonded' is not defined"
     ]
    }
   ],
   "source": [
    "#Next we calculate the sum of all contributions\n",
    "#The sum over the axis 1 sums up all contribution types for a timestep t.\n",
    "peptide_peptide_nonbonded.sum(axis=1).plot(label=\"peptide - peptide\", legend=True)\n",
    "peptide_Cl_nonbonded.sum(axis=1).plot(label=\"peptide - Cl-\", legend=True)\n",
    "peptide_water_nonbonded.sum(axis=1).plot(label=\"peptide - Water\", ylabel=\"V [kJ/mol]\", xlabel=\"writeOuts\", title=\"Peptide Nonbondeds\", legend=True)"
   ]
  },
  {
   "cell_type": "code",
   "execution_count": 92,
   "metadata": {
    "execution": {
     "iopub.execute_input": "2022-04-04T16:01:16.084930Z",
     "iopub.status.busy": "2022-04-04T16:01:16.084629Z",
     "iopub.status.idle": "2022-04-04T16:01:16.101633Z",
     "shell.execute_reply": "2022-04-04T16:01:16.101157Z"
    }
   },
   "outputs": [
    {
     "ename": "NameError",
     "evalue": "name 'peptide_peptide_nonbonded' is not defined",
     "output_type": "error",
     "traceback": [
      "\u001b[0;31m---------------------------------------------------------------------------\u001b[0m",
      "\u001b[0;31mNameError\u001b[0m                                 Traceback (most recent call last)",
      "Input \u001b[0;32mIn [92]\u001b[0m, in \u001b[0;36m<cell line: 2>\u001b[0;34m()\u001b[0m\n\u001b[1;32m      1\u001b[0m \u001b[38;5;66;03m# Here we look at the total nonbonded Contributions of the peptide \u001b[39;00m\n\u001b[0;32m----> 2\u001b[0m peptide_nonbonded \u001b[38;5;241m=\u001b[39m \u001b[43mpeptide_peptide_nonbonded\u001b[49m\u001b[38;5;241m+\u001b[39mpeptide_Cl_nonbonded\u001b[38;5;241m+\u001b[39mpeptide_water_nonbonded\n\u001b[1;32m      3\u001b[0m \u001b[38;5;66;03m#The sum over the axis 1 sums up all contribution types for a timestep t.\u001b[39;00m\n\u001b[1;32m      4\u001b[0m peptide_nonbonded\u001b[38;5;241m.\u001b[39msum(axis\u001b[38;5;241m=\u001b[39m\u001b[38;5;241m1\u001b[39m)\u001b[38;5;241m.\u001b[39mplot( label\u001b[38;5;241m=\u001b[39m\u001b[38;5;124m\"\u001b[39m\u001b[38;5;124mpeptide\u001b[39m\u001b[38;5;124m\"\u001b[39m, ylabel\u001b[38;5;241m=\u001b[39m\u001b[38;5;124m\"\u001b[39m\u001b[38;5;124mV [kJ/mol]\u001b[39m\u001b[38;5;124m\"\u001b[39m, xlabel\u001b[38;5;241m=\u001b[39m\u001b[38;5;124m\"\u001b[39m\u001b[38;5;124msteps\u001b[39m\u001b[38;5;124m\"\u001b[39m, title\u001b[38;5;241m=\u001b[39m\u001b[38;5;124m\"\u001b[39m\u001b[38;5;124mTotal Nonbonded Contributions of peptide\u001b[39m\u001b[38;5;124m\"\u001b[39m, legend\u001b[38;5;241m=\u001b[39m\u001b[38;5;28;01mTrue\u001b[39;00m)\n",
      "\u001b[0;31mNameError\u001b[0m: name 'peptide_peptide_nonbonded' is not defined"
     ]
    }
   ],
   "source": [
    "# Here we look at the total nonbonded Contributions of the peptide \n",
    "peptide_nonbonded = peptide_peptide_nonbonded+peptide_Cl_nonbonded+peptide_water_nonbonded\n",
    "#The sum over the axis 1 sums up all contribution types for a timestep t.\n",
    "peptide_nonbonded.sum(axis=1).plot( label=\"peptide\", ylabel=\"V [kJ/mol]\", xlabel=\"steps\", title=\"Total Nonbonded Contributions of peptide\", legend=True)\n"
   ]
  },
  {
   "cell_type": "markdown",
   "metadata": {
    "pycharm": {
     "name": "#%%\n"
    }
   },
   "source": [
    "#### Coordinate Analysis\n",
    "In the next step, we want to have a look at the coordinates of our simulation.\n",
    "first we will dcalculate the rmsd, second we will analyse the distance of the CL- to the positive charged atoms in the peptide. \n",
    "\n",
    "\n",
    "\n",
    "***\n",
    "**Warning**: Under Development ;)\n",
    "***"
   ]
  },
  {
   "cell_type": "code",
   "execution_count": 93,
   "metadata": {
    "execution": {
     "iopub.execute_input": "2022-04-04T16:01:16.104407Z",
     "iopub.status.busy": "2022-04-04T16:01:16.103948Z",
     "iopub.status.idle": "2022-04-04T16:01:16.118936Z",
     "shell.execute_reply": "2022-04-04T16:01:16.118457Z"
    }
   },
   "outputs": [
    {
     "ename": "NameError",
     "evalue": "name 'out_md_system' is not defined",
     "output_type": "error",
     "traceback": [
      "\u001b[0;31m---------------------------------------------------------------------------\u001b[0m",
      "\u001b[0;31mNameError\u001b[0m                                 Traceback (most recent call last)",
      "Input \u001b[0;32mIn [93]\u001b[0m, in \u001b[0;36m<cell line: 1>\u001b[0;34m()\u001b[0m\n\u001b[0;32m----> 1\u001b[0m final_coordinate \u001b[38;5;241m=\u001b[39m \u001b[43mout_md_system\u001b[49m\u001b[38;5;241m.\u001b[39mcnf\n\u001b[1;32m      2\u001b[0m coordinate_traj \u001b[38;5;241m=\u001b[39m out_md_system\u001b[38;5;241m.\u001b[39mtrc\n",
      "\u001b[0;31mNameError\u001b[0m: name 'out_md_system' is not defined"
     ]
    }
   ],
   "source": [
    "final_coordinate = out_md_system.cnf\n",
    "coordinate_traj = out_md_system.trc\n"
   ]
  },
  {
   "cell_type": "code",
   "execution_count": 94,
   "metadata": {
    "execution": {
     "iopub.execute_input": "2022-04-04T16:01:16.121294Z",
     "iopub.status.busy": "2022-04-04T16:01:16.121132Z",
     "iopub.status.idle": "2022-04-04T16:01:16.137397Z",
     "shell.execute_reply": "2022-04-04T16:01:16.136834Z"
    }
   },
   "outputs": [
    {
     "ename": "NameError",
     "evalue": "name 'coordinate_traj' is not defined",
     "output_type": "error",
     "traceback": [
      "\u001b[0;31m---------------------------------------------------------------------------\u001b[0m",
      "\u001b[0;31mNameError\u001b[0m                                 Traceback (most recent call last)",
      "Input \u001b[0;32mIn [94]\u001b[0m, in \u001b[0;36m<cell line: 1>\u001b[0;34m()\u001b[0m\n\u001b[0;32m----> 1\u001b[0m \u001b[43mcoordinate_traj\u001b[49m\u001b[38;5;241m.\u001b[39mrmsd(\u001b[38;5;241m1\u001b[39m)\u001b[38;5;241m.\u001b[39msum(axis\u001b[38;5;241m=\u001b[39m\u001b[38;5;241m1\u001b[39m)\u001b[38;5;241m.\u001b[39mplot(ylabel\u001b[38;5;241m=\u001b[39m\u001b[38;5;124m\"\u001b[39m\u001b[38;5;124mRMSD\u001b[39m\u001b[38;5;124m\"\u001b[39m, xlabel\u001b[38;5;241m=\u001b[39m\u001b[38;5;124m\"\u001b[39m\u001b[38;5;124mt [ps]\u001b[39m\u001b[38;5;124m\"\u001b[39m)\n",
      "\u001b[0;31mNameError\u001b[0m: name 'coordinate_traj' is not defined"
     ]
    }
   ],
   "source": [
    "coordinate_traj.rmsd(1).sum(axis=1).plot(ylabel=\"RMSD\", xlabel=\"t [ps]\")"
   ]
  },
  {
   "cell_type": "markdown",
   "metadata": {},
   "source": [
    "#### Distance CL- to the peptide"
   ]
  },
  {
   "cell_type": "markdown",
   "metadata": {},
   "source": [
    "#"
   ]
  },
  {
   "cell_type": "code",
   "execution_count": 95,
   "metadata": {
    "execution": {
     "iopub.execute_input": "2022-04-04T16:01:16.140134Z",
     "iopub.status.busy": "2022-04-04T16:01:16.139805Z",
     "iopub.status.idle": "2022-04-04T16:01:16.161095Z",
     "shell.execute_reply": "2022-04-04T16:01:16.160566Z"
    }
   },
   "outputs": [
    {
     "ename": "NameError",
     "evalue": "name 'final_coordinate' is not defined",
     "output_type": "error",
     "traceback": [
      "\u001b[0;31m---------------------------------------------------------------------------\u001b[0m",
      "\u001b[0;31mNameError\u001b[0m                                 Traceback (most recent call last)",
      "Input \u001b[0;32mIn [95]\u001b[0m, in \u001b[0;36m<cell line: 1>\u001b[0;34m()\u001b[0m\n\u001b[0;32m----> 1\u001b[0m \u001b[38;5;28mprint\u001b[39m(\u001b[38;5;124m\"\u001b[39m\u001b[38;5;124mCL- atoms:\u001b[39m\u001b[38;5;124m\"\u001b[39m, [(ap\u001b[38;5;241m.\u001b[39matomType, ap\u001b[38;5;241m.\u001b[39matomID) \u001b[38;5;28;01mfor\u001b[39;00m ap \u001b[38;5;129;01min\u001b[39;00m \u001b[43mfinal_coordinate\u001b[49m\u001b[38;5;241m.\u001b[39mPOSITION \u001b[38;5;28;01mif\u001b[39;00m(ap\u001b[38;5;241m.\u001b[39mresName \u001b[38;5;241m==\u001b[39m \u001b[38;5;124m\"\u001b[39m\u001b[38;5;124mCL-\u001b[39m\u001b[38;5;124m\"\u001b[39m)])\n\u001b[1;32m      2\u001b[0m \u001b[38;5;28mprint\u001b[39m(\u001b[38;5;124m\"\u001b[39m\u001b[38;5;124mARG atoms:\u001b[39m\u001b[38;5;124m\"\u001b[39m, [(ap\u001b[38;5;241m.\u001b[39matomType, ap\u001b[38;5;241m.\u001b[39matomID) \u001b[38;5;28;01mfor\u001b[39;00m ap \u001b[38;5;129;01min\u001b[39;00m final_coordinate\u001b[38;5;241m.\u001b[39mPOSITION \u001b[38;5;28;01mif\u001b[39;00m(ap\u001b[38;5;241m.\u001b[39mresName \u001b[38;5;241m==\u001b[39m \u001b[38;5;124m\"\u001b[39m\u001b[38;5;124mARG\u001b[39m\u001b[38;5;124m\"\u001b[39m)])\n\u001b[1;32m      3\u001b[0m \u001b[38;5;28mprint\u001b[39m(\u001b[38;5;124m\"\u001b[39m\u001b[38;5;124mLYSH atoms:\u001b[39m\u001b[38;5;124m\"\u001b[39m, [(ap\u001b[38;5;241m.\u001b[39matomType, ap\u001b[38;5;241m.\u001b[39matomID) \u001b[38;5;28;01mfor\u001b[39;00m ap \u001b[38;5;129;01min\u001b[39;00m final_coordinate\u001b[38;5;241m.\u001b[39mPOSITION \u001b[38;5;28;01mif\u001b[39;00m(ap\u001b[38;5;241m.\u001b[39mresName \u001b[38;5;241m==\u001b[39m \u001b[38;5;124m\"\u001b[39m\u001b[38;5;124mLYSH\u001b[39m\u001b[38;5;124m\"\u001b[39m)])\n",
      "\u001b[0;31mNameError\u001b[0m: name 'final_coordinate' is not defined"
     ]
    }
   ],
   "source": [
    "print(\"CL- atoms:\", [(ap.atomType, ap.atomID) for ap in final_coordinate.POSITION if(ap.resName == \"CL-\")])\n",
    "print(\"ARG atoms:\", [(ap.atomType, ap.atomID) for ap in final_coordinate.POSITION if(ap.resName == \"ARG\")])\n",
    "print(\"LYSH atoms:\", [(ap.atomType, ap.atomID) for ap in final_coordinate.POSITION if(ap.resName == \"LYSH\")])\n",
    "print(\"NTERM atoms:\", [(ap.atomType, ap.atomID) for ap in final_coordinate.POSITION if(ap.resName == \"VAL\")])"
   ]
  },
  {
   "cell_type": "markdown",
   "metadata": {},
   "source": [
    "Calculate the distances now to the different CL- ions."
   ]
  },
  {
   "cell_type": "code",
   "execution_count": 96,
   "metadata": {
    "execution": {
     "iopub.execute_input": "2022-04-04T16:01:16.164021Z",
     "iopub.status.busy": "2022-04-04T16:01:16.163750Z",
     "iopub.status.idle": "2022-04-04T16:01:16.180570Z",
     "shell.execute_reply": "2022-04-04T16:01:16.180076Z"
    }
   },
   "outputs": [
    {
     "ename": "NameError",
     "evalue": "name 'coordinate_traj' is not defined",
     "output_type": "error",
     "traceback": [
      "\u001b[0;31m---------------------------------------------------------------------------\u001b[0m",
      "\u001b[0;31mNameError\u001b[0m                                 Traceback (most recent call last)",
      "Input \u001b[0;32mIn [96]\u001b[0m, in \u001b[0;36m<cell line: 1>\u001b[0;34m()\u001b[0m\n\u001b[0;32m----> 1\u001b[0m \u001b[43mcoordinate_traj\u001b[49m\u001b[38;5;241m.\u001b[39mdistances(atom_pairs\u001b[38;5;241m=\u001b[39m[[\u001b[38;5;241m72\u001b[39m, \u001b[38;5;241m37\u001b[39m], [\u001b[38;5;241m73\u001b[39m, \u001b[38;5;241m37\u001b[39m]])\u001b[38;5;241m.\u001b[39mplot(label\u001b[38;5;241m=\u001b[39m\u001b[38;5;124m\"\u001b[39m\u001b[38;5;124mCL-1/2 - ARG-CZ\u001b[39m\u001b[38;5;124m\"\u001b[39m, legend\u001b[38;5;241m=\u001b[39m\u001b[38;5;28;01mTrue\u001b[39;00m, xlabel\u001b[38;5;241m=\u001b[39m\u001b[38;5;124m\"\u001b[39m\u001b[38;5;124mt [ps]\u001b[39m\u001b[38;5;124m\"\u001b[39m, ylabel\u001b[38;5;241m=\u001b[39m\u001b[38;5;124m\"\u001b[39m\u001b[38;5;124mr [nm]\u001b[39m\u001b[38;5;124m\"\u001b[39m)\n",
      "\u001b[0;31mNameError\u001b[0m: name 'coordinate_traj' is not defined"
     ]
    }
   ],
   "source": [
    "coordinate_traj.distances(atom_pairs=[[72, 37], [73, 37]]).plot(label=\"CL-1/2 - ARG-CZ\", legend=True, xlabel=\"t [ps]\", ylabel=\"r [nm]\")"
   ]
  },
  {
   "cell_type": "code",
   "execution_count": 97,
   "metadata": {
    "execution": {
     "iopub.execute_input": "2022-04-04T16:01:16.183321Z",
     "iopub.status.busy": "2022-04-04T16:01:16.183051Z",
     "iopub.status.idle": "2022-04-04T16:01:16.199310Z",
     "shell.execute_reply": "2022-04-04T16:01:16.198826Z"
    }
   },
   "outputs": [
    {
     "ename": "NameError",
     "evalue": "name 'coordinate_traj' is not defined",
     "output_type": "error",
     "traceback": [
      "\u001b[0;31m---------------------------------------------------------------------------\u001b[0m",
      "\u001b[0;31mNameError\u001b[0m                                 Traceback (most recent call last)",
      "Input \u001b[0;32mIn [97]\u001b[0m, in \u001b[0;36m<cell line: 1>\u001b[0;34m()\u001b[0m\n\u001b[0;32m----> 1\u001b[0m \u001b[43mcoordinate_traj\u001b[49m\u001b[38;5;241m.\u001b[39mdistances(atom_pairs\u001b[38;5;241m=\u001b[39m[[\u001b[38;5;241m72\u001b[39m, \u001b[38;5;241m53\u001b[39m], [\u001b[38;5;241m73\u001b[39m, \u001b[38;5;241m53\u001b[39m]])\u001b[38;5;241m.\u001b[39mplot(label\u001b[38;5;241m=\u001b[39m\u001b[38;5;124m\"\u001b[39m\u001b[38;5;124mCL-1/2 - LYSH-NZ\u001b[39m\u001b[38;5;124m\"\u001b[39m, legend\u001b[38;5;241m=\u001b[39m\u001b[38;5;28;01mTrue\u001b[39;00m, xlabel\u001b[38;5;241m=\u001b[39m\u001b[38;5;124m\"\u001b[39m\u001b[38;5;124mt [ps]\u001b[39m\u001b[38;5;124m\"\u001b[39m, ylabel\u001b[38;5;241m=\u001b[39m\u001b[38;5;124m\"\u001b[39m\u001b[38;5;124mr [nm]\u001b[39m\u001b[38;5;124m\"\u001b[39m)\n",
      "\u001b[0;31mNameError\u001b[0m: name 'coordinate_traj' is not defined"
     ]
    }
   ],
   "source": [
    "coordinate_traj.distances(atom_pairs=[[72, 53], [73, 53]]).plot(label=\"CL-1/2 - LYSH-NZ\", legend=True, xlabel=\"t [ps]\", ylabel=\"r [nm]\")"
   ]
  },
  {
   "cell_type": "code",
   "execution_count": 98,
   "metadata": {
    "execution": {
     "iopub.execute_input": "2022-04-04T16:01:16.201938Z",
     "iopub.status.busy": "2022-04-04T16:01:16.201539Z",
     "iopub.status.idle": "2022-04-04T16:01:16.218556Z",
     "shell.execute_reply": "2022-04-04T16:01:16.218056Z"
    }
   },
   "outputs": [
    {
     "ename": "NameError",
     "evalue": "name 'coordinate_traj' is not defined",
     "output_type": "error",
     "traceback": [
      "\u001b[0;31m---------------------------------------------------------------------------\u001b[0m",
      "\u001b[0;31mNameError\u001b[0m                                 Traceback (most recent call last)",
      "Input \u001b[0;32mIn [98]\u001b[0m, in \u001b[0;36m<cell line: 1>\u001b[0;34m()\u001b[0m\n\u001b[0;32m----> 1\u001b[0m \u001b[43mcoordinate_traj\u001b[49m\u001b[38;5;241m.\u001b[39mdistances(atom_pairs\u001b[38;5;241m=\u001b[39m[[\u001b[38;5;241m72\u001b[39m, \u001b[38;5;241m3\u001b[39m], [\u001b[38;5;241m73\u001b[39m, \u001b[38;5;241m3\u001b[39m]])\u001b[38;5;241m.\u001b[39mplot(label\u001b[38;5;241m=\u001b[39m\u001b[38;5;124m\"\u001b[39m\u001b[38;5;124mCL-1/2 - N-TERM\u001b[39m\u001b[38;5;124m\"\u001b[39m, legend\u001b[38;5;241m=\u001b[39m\u001b[38;5;28;01mTrue\u001b[39;00m, xlabel\u001b[38;5;241m=\u001b[39m\u001b[38;5;124m\"\u001b[39m\u001b[38;5;124mt [ps]\u001b[39m\u001b[38;5;124m\"\u001b[39m, ylabel\u001b[38;5;241m=\u001b[39m\u001b[38;5;124m\"\u001b[39m\u001b[38;5;124mr [nm]\u001b[39m\u001b[38;5;124m\"\u001b[39m)\n",
      "\u001b[0;31mNameError\u001b[0m: name 'coordinate_traj' is not defined"
     ]
    }
   ],
   "source": [
    "coordinate_traj.distances(atom_pairs=[[72, 3], [73, 3]]).plot(label=\"CL-1/2 - N-TERM\", legend=True, xlabel=\"t [ps]\", ylabel=\"r [nm]\")"
   ]
  },
  {
   "cell_type": "code",
   "execution_count": null,
   "metadata": {},
   "outputs": [],
   "source": []
  }
 ],
 "metadata": {
  "interpreter": {
   "hash": "e7d5b70120806d05daeaf98b799438b40f063b8cf99696cad03a40d92a237582"
  },
  "kernelspec": {
   "display_name": "Python 3.9.10 ('pygromosDev')",
   "language": "python",
   "name": "python3"
  },
  "language_info": {
   "codemirror_mode": {
    "name": "ipython",
    "version": 3
   },
   "file_extension": ".py",
   "mimetype": "text/x-python",
   "name": "python",
   "nbconvert_exporter": "python",
   "pygments_lexer": "ipython3",
   "version": "3.9.12"
  },
  "widgets": {
   "application/vnd.jupyter.widget-state+json": {
    "state": {
     "5e673ed944394b888420ae7ab6e85ba1": {
      "model_module": "@jupyter-widgets/base",
      "model_module_version": "1.2.0",
      "model_name": "LayoutModel",
      "state": {
       "_model_module": "@jupyter-widgets/base",
       "_model_module_version": "1.2.0",
       "_model_name": "LayoutModel",
       "_view_count": null,
       "_view_module": "@jupyter-widgets/base",
       "_view_module_version": "1.2.0",
       "_view_name": "LayoutView",
       "align_content": null,
       "align_items": null,
       "align_self": null,
       "border": null,
       "bottom": null,
       "display": null,
       "flex": null,
       "flex_flow": null,
       "grid_area": null,
       "grid_auto_columns": null,
       "grid_auto_flow": null,
       "grid_auto_rows": null,
       "grid_column": null,
       "grid_gap": null,
       "grid_row": null,
       "grid_template_areas": null,
       "grid_template_columns": null,
       "grid_template_rows": null,
       "height": null,
       "justify_content": null,
       "justify_items": null,
       "left": null,
       "margin": null,
       "max_height": null,
       "max_width": null,
       "min_height": null,
       "min_width": null,
       "object_fit": null,
       "object_position": null,
       "order": null,
       "overflow": null,
       "overflow_x": null,
       "overflow_y": null,
       "padding": null,
       "right": null,
       "top": null,
       "visibility": null,
       "width": null
      }
     },
     "a6cdbfd6285140f3a9ca3d3e6623b341": {
      "model_module": "nglview-js-widgets",
      "model_module_version": "3.0.1",
      "model_name": "ColormakerRegistryModel",
      "state": {
       "_dom_classes": [],
       "_model_module": "nglview-js-widgets",
       "_model_module_version": "3.0.1",
       "_model_name": "ColormakerRegistryModel",
       "_msg_ar": [],
       "_msg_q": [],
       "_ready": false,
       "_view_count": null,
       "_view_module": "nglview-js-widgets",
       "_view_module_version": "3.0.1",
       "_view_name": "ColormakerRegistryView",
       "layout": "IPY_MODEL_5e673ed944394b888420ae7ab6e85ba1"
      }
     }
    },
    "version_major": 2,
    "version_minor": 0
   }
  }
 },
 "nbformat": 4,
 "nbformat_minor": 4
}
