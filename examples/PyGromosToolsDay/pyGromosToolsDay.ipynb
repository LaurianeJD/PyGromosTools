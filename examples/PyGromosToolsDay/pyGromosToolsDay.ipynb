{
 "cells": [
  {
   "cell_type": "markdown",
   "metadata": {},
   "source": [
    "### Imports and settings for this notebool"
   ]
  },
  {
   "cell_type": "code",
   "execution_count": 1,
   "metadata": {},
   "outputs": [],
   "source": [
    "# general notebook formatting for markdown and plots\n",
    "%matplotlib inline\n",
    "%config InlineBackend.figure_format = 'retina'\n",
    "import warnings\n",
    "\n",
    "import matplotlib.pyplot as plt\n",
    "\n",
    "warnings.filterwarnings(\"ignore\", category=FutureWarning)\n",
    "warnings.filterwarnings = lambda *a, **kw: None\n",
    "from IPython.core.display import HTML"
   ]
  },
  {
   "cell_type": "code",
   "execution_count": 6,
   "metadata": {},
   "outputs": [],
   "source": [
    "# imports for code examples\n",
    "import os\n",
    "\n",
    "from pygromos.files.gromos_system.gromos_system import Gromos_System\n",
    "from pygromos.files.gromos_system.ff.forcefield_system import forcefield_system"
   ]
  },
  {
   "cell_type": "markdown",
   "metadata": {},
   "source": [
    "# PyGromosToolsDay"
   ]
  },
  {
   "cell_type": "markdown",
   "metadata": {},
   "source": [
    "## Introduction"
   ]
  },
  {
   "cell_type": "markdown",
   "metadata": {},
   "source": [
    "This notebook is created for the PyGromosToolsDay 17.02.2022    \n",
    "Author: Marc Thierry Lehner  \n",
    "\n",
    "This notbook is part of the PyGromosTools and can be found under:\n",
    "https://github.com/rinikerlab/PyGromosTools/blob/pygromosDay/examples/PyGromosToolsDay/pyGromosToolsDay.ipynb"
   ]
  },
  {
   "cell_type": "markdown",
   "metadata": {},
   "source": [
    "### Schedul for the day"
   ]
  },
  {
   "cell_type": "markdown",
   "metadata": {},
   "source": [
    "1. [Introduction](#Introduction)\n",
    "    1. [Schedule](#Schedule)\n",
    "    2. [Tutorial](#Tutorial)\n",
    "2. [PyGromosTools](#PyGromosTools)\n",
    "    1. [PyGromosTools](#PyGromosTools)\n",
    "    2. [PyGromosTools](#PyGromosTools)"
   ]
  },
  {
   "cell_type": "markdown",
   "metadata": {},
   "source": [
    "## PyGromosTools - a Python package for GROMOS users"
   ]
  },
  {
   "cell_type": "markdown",
   "metadata": {},
   "source": [
    "PyGromosTools is a Python package for GROMOS users. It tries to provide a easy to use unified interface to the GROMOS users in python. Leading to a better readability and reproducability of code, as well as easier pipelining of GROMOS simulations."
   ]
  },
  {
   "cell_type": "markdown",
   "metadata": {},
   "source": [
    "PyGromosTools is a natural grown package which tries to adhere to all GROMOS user's needs."
   ]
  },
  {
   "cell_type": "markdown",
   "metadata": {},
   "source": [
    "At the current state PyGromosTools provides:\n",
    "1. GROMOSxx wrappers\n",
    "2. GROMOS++ wrappers\n",
    "3. File handling of all GROMOS file types for automated creation/modification/analysis\n",
    "4. Automation and file management system gromos_system\n",
    "5. Simulation Submission and Execution\n",
    "6. etc.\n",
    "\n",
    "In the following sections we will see how to use PyGromosTools to automate the creation of GROMOS simulations and how these tools are intended to be used. We will show simple uscase and how to adjust existing classes to fit more complex simulations or new blocks and finally show how you can contribute to PyGromosTools."
   ]
  },
  {
   "cell_type": "markdown",
   "metadata": {},
   "source": [
    "### General File Structure"
   ]
  },
  {
   "cell_type": "markdown",
   "metadata": {},
   "source": [
    "Since the second major relase (TODO: date???) PyGromosTools is focused around a class called `gromos_system`. This class is the main class of PyGromosTools and is used to create, manage and analyse GROMOS simulations.  \n",
    "\n",
    "`gromos_system` stores information of all files of a simulation and provides methods to create, modify and analyse these files.\n",
    "\n",
    "\n",
    "<p style=\"text-align:center;\">\n",
    "    <img src=\"./figures/gromos_system_overview.png\" width=900 alt=\"gromos_system_overview\"/>\n",
    "    <div style=\"text-align:center;\">Based on B. Ries Thesis</div>\n",
    "</p> "
   ]
  },
  {
   "cell_type": "markdown",
   "metadata": {},
   "source": [
    "`gromos_system` can be create in many different ways. The simplest way is from existing files. However, it also provides the option to be created from only a smiles and a forcfield.  \n",
    "\n",
    "Although it has to be mentioned, that for all GROMOS types forcefields the correct MTB name is required.  \n",
    "\n",
    "In the following example we create first a `forcefield_system` that holds all informations about the forcfield we want to use, and then use this `forcefield_system` to create a `gromos_system` from a smiles.   \n",
    "\n",
    "If we tick the option `adapt_imd_automatically` and `auto_convert` in `gromos_system` we will automatically create not only the topology, but also the coordinate file and a adjusted INPUT file."
   ]
  },
  {
   "cell_type": "code",
   "execution_count": 13,
   "metadata": {},
   "outputs": [],
   "source": [
    "work_dir = os.path.abspath(\"./example_sys/\")"
   ]
  },
  {
   "cell_type": "code",
   "execution_count": 10,
   "metadata": {},
   "outputs": [
    {
     "name": "stdout",
     "output_type": "stream",
     "text": [
      "Found off: /home/mlehner/PyGromosTools/pygromos/data/ff/SMIRNOFF/openff_unconstrained-2.0.0.offxml\n"
     ]
    }
   ],
   "source": [
    "ff = forcefield_system(name=\"off\")"
   ]
  },
  {
   "cell_type": "code",
   "execution_count": 11,
   "metadata": {},
   "outputs": [],
   "source": [
    "groSys = Gromos_System(work_folder=work_dir,\n",
    "                system_name=\"test_system\",\n",
    "                in_smiles=\"C1CCCCC1\", \n",
    "                Forcefield=ff, \n",
    "                adapt_imd_automatically=True, \n",
    "                auto_convert=True)"
   ]
  },
  {
   "cell_type": "markdown",
   "metadata": {},
   "source": [
    "This `gromos_system` called `groSys` now contains a topology, coordinate and a input file for Cyclohexane. All automatically generated.  \n",
    "\n",
    "We can access all these files as python classes by accessing the `groSys.top`, `groSys.cnf` and `groSys.imd` attributes.  \n",
    "All these classe are instances of the `gromos_file` class and have attributes on their own which are the gromos blocks (and of course somties additional content).  \n",
    "\n",
    "For example we can check if the new topology has a proper TITLE block by accessing the attribute `groSys.top.TITLE`. And we can see, that as expected the title block was automatically generated."
   ]
  },
  {
   "cell_type": "code",
   "execution_count": 12,
   "metadata": {},
   "outputs": [
    {
     "data": {
      "text/plain": [
       "TITLE\n",
       "\n",
       "\tname: \t hill_formula: C6H12\n",
       "\t----------------------------------------\n",
       "\t| created from OpenForceField topology |\n",
       "\t| use Amber Block for OpenFF topology! |\n",
       "\t----------------------------------------\n",
       "\n",
       "\t >>> Generated with PyGromosTools (riniker group) <<< \n",
       "END"
      ]
     },
     "execution_count": 12,
     "metadata": {},
     "output_type": "execute_result"
    }
   ],
   "source": [
    "groSys.top.TITLE"
   ]
  },
  {
   "cell_type": "markdown",
   "metadata": {},
   "source": [
    "The same is also true for the other files. It's espicially worth to mention that coordinate file is automatically generated, using the RDKit conformer generator."
   ]
  },
  {
   "cell_type": "code",
   "execution_count": 15,
   "metadata": {},
   "outputs": [
    {
     "data": {
      "text/plain": [
       "POSITION\n",
       "# \t \n",
       "    1 C6H12 C          1    0.141846088   -0.020221766   -0.036618046\n",
       "    1 C6H12 C          2    0.055102978   -0.136624154    0.012947422\n",
       "    1 C6H12 C          3   -0.092734970   -0.113323115   -0.020692810\n",
       "    1 C6H12 C          4   -0.141846060    0.020221627    0.036618086\n",
       "    1 C6H12 C          5   -0.055102959    0.136624114   -0.012947239\n",
       "    1 C6H12 C          6    0.092735022    0.113323149    0.020692602\n",
       "    1 C6H12 H          7    0.247154682   -0.037044655   -0.005387454\n",
       "    1 C6H12 H          8    0.139249332   -0.016387287   -0.147753466\n",
       "    1 C6H12 H          9    0.067048734   -0.147903939    0.122959239\n",
       "    1 C6H12 H         10    0.089243777   -0.230855783   -0.035042794\n",
       "    1 C6H12 H         11   -0.106467011   -0.113907556   -0.131072375\n",
       "    1 C6H12 H         12   -0.153521266   -0.196066616    0.021813546\n",
       "    1 C6H12 H         13   -0.139249269    0.016386798    0.147753518\n",
       "    1 C6H12 H         14   -0.247154708    0.037044739    0.005387597\n",
       "    1 C6H12 H         15   -0.067048594    0.147904208   -0.122959008\n",
       "    1 C6H12 H         16   -0.089243941    0.230855576    0.035043226\n",
       "    1 C6H12 H         17    0.106466939    0.113908158    0.131072110\n",
       "    1 C6H12 H         18    0.153521224    0.196066503   -0.021814153\n",
       "END"
      ]
     },
     "execution_count": 15,
     "metadata": {},
     "output_type": "execute_result"
    }
   ],
   "source": [
    "groSys.cnf.POSITION"
   ]
  },
  {
   "cell_type": "markdown",
   "metadata": {},
   "source": [
    "All these blocks the contain classes for the specific fields. In the case of the POSITION block we have a list of atoms. And each atom stores the name, the type and the position. This makes it easy to make adjustments, search for specific atoms or do some general scripted modifiactions to the positions.\n",
    "\n",
    "<p style=\"text-align:center;\">\n",
    "    <img src=\"./figures/gromos_file.png\" height=300 alt=\"gromos file structure\"/>\n",
    "    <div style=\"text-align:center;\">Based on B. Ries Thesis</div>\n",
    "</p> \n",
    "\n",
    "All the fields have theire own attributs and sometimes functions to modify them. For example the `POSITION` block has a `atomP` that store all the information."
   ]
  },
  {
   "cell_type": "code",
   "execution_count": 27,
   "metadata": {},
   "outputs": [
    {
     "name": "stdout",
     "output_type": "stream",
     "text": [
      "2 C C6H12 0.05510297801999234\n"
     ]
    }
   ],
   "source": [
    "atom = groSys.cnf.POSITION[1]\n",
    "print(atom.atomID, atom.atomType, atom.resName, atom.xp)"
   ]
  },
  {
   "cell_type": "markdown",
   "metadata": {},
   "source": [
    "## Release 3"
   ]
  },
  {
   "cell_type": "markdown",
   "metadata": {},
   "source": [
    "## Hackathlon"
   ]
  },
  {
   "cell_type": "markdown",
   "metadata": {},
   "source": [
    "## Final Disscussion"
   ]
  }
 ],
 "metadata": {
  "interpreter": {
   "hash": "b1b7b2ea43b8e767316eee98e01335d045804d2d47db68b6a5827e187ee91a7e"
  },
  "kernelspec": {
   "display_name": "Python 3.9.7 ('pygro2')",
   "language": "python",
   "name": "python3"
  },
  "language_info": {
   "codemirror_mode": {
    "name": "ipython",
    "version": 3
   },
   "file_extension": ".py",
   "mimetype": "text/x-python",
   "name": "python",
   "nbconvert_exporter": "python",
   "pygments_lexer": "ipython3",
   "version": "3.9.7"
  },
  "orig_nbformat": 4
 },
 "nbformat": 4,
 "nbformat_minor": 2
}
