{
 "cells": [
  {
   "cell_type": "markdown",
   "metadata": {
    "collapsed": true,
    "pycharm": {
     "name": "#%% md\n"
    }
   },
   "source": [
    "# SD Simulations with Submission System\n"
   ]
  },
  {
   "cell_type": "markdown",
   "metadata": {},
   "source": [
    "## Imports"
   ]
  },
  {
   "cell_type": "code",
   "execution_count": 2,
   "metadata": {
    "pycharm": {
     "name": "#%%\n"
    }
   },
   "outputs": [
    {
     "name": "stderr",
     "output_type": "stream",
     "text": [
      "/home/bschroed/Documents/code/PyGromosTools/pygromos/files/blocks/topology_blocks.py:1692: UserWarning: SPECIAL LJ BLOCK IS NOT IMPLEMENTED!\n",
      "  warnings.warn(\"SPECIAL LJ BLOCK IS NOT IMPLEMENTED!\")\n"
     ]
    }
   ],
   "source": [
    "import os\n",
    "#for analysis\n",
    "import numpy as np\n",
    "from matplotlib import pyplot as plt\n",
    "%matplotlib inline\n",
    "\n",
    "import pygromos\n",
    "from pygromos.files.gromos_system import Gromos_System\n",
    "from pygromos.files.blocks import imd_blocks\n",
    "from pygromos.data.simulation_parameters_templates import template_emin"
   ]
  },
  {
   "cell_type": "markdown",
   "metadata": {
    "pycharm": {
     "name": "#%% md\n"
    }
   },
   "source": [
    "## Input files"
   ]
  },
  {
   "cell_type": "code",
   "execution_count": 3,
   "metadata": {
    "pycharm": {
     "name": "#%%\n"
    }
   },
   "outputs": [
    {
     "name": "stdout",
     "output_type": "stream",
     "text": [
      "\n",
      "\n",
      "==================\n",
      "\tCHECK dependencies\n",
      "\n",
      "Check /home/bschroed/Documents/code/PyGromosTools/examples/example_files/SD_Simulation/SD_input\n",
      "Check /home/bschroed/Documents/code/PyGromosTools/pygromos/data/simulation_parameters_templates/emin.imd\n",
      "Check /home/bschroed/Documents/code/PyGromosTools/examples/example_files/SD_Simulation/SD_input/6J29.top\n",
      "Check /home/bschroed/Documents/code/PyGromosTools/examples/example_files/SD_Simulation/SD_input/6J29_unitedatom_optimised_geometry.cnf\n",
      "/home/bschroed/Documents/code/PyGromosTools/examples/example_files/SD_Simulation/SD_input\n",
      "/home/bschroed/Documents/code/PyGromosTools/pygromos/data/simulation_parameters_templates/emin.imd\n",
      "/home/bschroed/Documents/code/PyGromosTools/examples/example_files/SD_Simulation/SD_input/6J29.top\n",
      "/home/bschroed/Documents/code/PyGromosTools/examples/example_files/SD_Simulation/SD_input/6J29_unitedatom_optimised_geometry.cnf\n",
      "All dependencies are correct! \n",
      "\n",
      "\n",
      "Parsing File:  imd\n",
      "Parsing File:  top\n",
      "Parsing File:  cnf\n"
     ]
    }
   ],
   "source": [
    "root_dir = project_dir = os.path.abspath(os.path.dirname(pygromos.__file__)+\"/../examples/example_files/SD_Simulation\")\n",
    "root_in_dir = root_dir+\"/SD_input\"\n",
    "cnf_path = root_in_dir+\"/6J29_unitedatom_optimised_geometry.cnf\"\n",
    "top_path = root_in_dir + \"/6J29.top\"\n",
    "sys_name = \"6J29\"\n",
    "\n",
    "#External imd_changes:\n",
    "grom_system = Gromos_System(in_cnf_path=cnf_path, in_top_path=top_path, in_imd_path=template_emin,\n",
    "                            system_name=sys_name, work_folder=root_in_dir)\n",
    "\n",
    "grom_system.cnf.add_empty_box()\n"
   ]
  },
  {
   "cell_type": "markdown",
   "metadata": {},
   "source": [
    "## RUN Emin"
   ]
  },
  {
   "cell_type": "code",
   "execution_count": 4,
   "metadata": {
    "pycharm": {
     "name": "#%%\n"
    }
   },
   "outputs": [],
   "source": [
    "from pygromos.hpc_queuing.submission_systems.local import LOCAL as subSystem\n",
    "from pygromos.simulations.modules.preset_simulation_modules import emin\n",
    "step_name  = \"a_vacuum_emin\"\n",
    "\n",
    "#Some special adaptation\n",
    "grom_system.imd.BOUNDCOND.NTB =0\n",
    "grom_system.imd.BOUNDCOND.NDFMIN = 0\n",
    "grom_system.imd.WRITETRAJ = imd_blocks.WRITETRAJ()\n",
    "grom_system.imd.WRITETRAJ.NTWX = 100\n",
    "grom_system.imd.WRITETRAJ.NTWE = 100\n",
    "grom_system.adapt_imd()"
   ]
  },
  {
   "cell_type": "code",
   "execution_count": 5,
   "metadata": {
    "pycharm": {
     "name": "#%%\n"
    }
   },
   "outputs": [
    {
     "data": {
      "text/plain": [
       "'/home/bschroed/Documents/code/PyGromosTools/examples/example_files/SD_Simulation/test.obj'"
      ]
     },
     "execution_count": 5,
     "metadata": {},
     "output_type": "execute_result"
    }
   ],
   "source": [
    "\n",
    "grom_system.save(root_dir+\"/test.obj\", safe=False)"
   ]
  },
  {
   "cell_type": "code",
   "execution_count": 6,
   "metadata": {
    "pycharm": {
     "name": "#%%\n"
    }
   },
   "outputs": [],
   "source": [
    "grom_system = Gromos_System.load(root_dir+\"/test.obj\")"
   ]
  },
  {
   "cell_type": "code",
   "execution_count": 7,
   "metadata": {
    "pycharm": {
     "name": "#%%\n"
    }
   },
   "outputs": [
    {
     "data": {
      "text/plain": [
       "OrderedDict([('names', ['6J29']),\n",
       "             ('number', 1),\n",
       "             ('positions', [1]),\n",
       "             ('number_of_atoms', 27)])"
      ]
     },
     "execution_count": 7,
     "metadata": {},
     "output_type": "execute_result"
    }
   ],
   "source": [
    "grom_system.solute_info._asdict()"
   ]
  },
  {
   "cell_type": "code",
   "execution_count": 8,
   "metadata": {},
   "outputs": [
    {
     "data": {
      "application/3dmoljs_load.v0": "<div id=\"3dmolviewer_16195086345412312\"  style=\"position: relative; width: 400px; height: 400px\">\n        <p id=\"3dmolwarning_16195086345412312\" style=\"background-color:#ffcccc;color:black\">You appear to be running in JupyterLab (or JavaScript failed to load for some other reason).  You need to install the 3dmol extension: <br>\n        <tt>jupyter labextension install jupyterlab_3dmol</tt></p>\n        </div>\n<script>\n\nvar loadScriptAsync = function(uri){\n  return new Promise((resolve, reject) => {\n    var tag = document.createElement('script');\n    tag.src = uri;\n    tag.async = true;\n    tag.onload = () => {\n      resolve();\n    };\n  var firstScriptTag = document.getElementsByTagName('script')[0];\n  firstScriptTag.parentNode.insertBefore(tag, firstScriptTag);\n});\n};\n\nif(typeof $3Dmolpromise === 'undefined') {\n$3Dmolpromise = null;\n  $3Dmolpromise = loadScriptAsync('https://3dmol.csb.pitt.edu/build/3Dmol.js');\n}\n\nvar viewer_16195086345412312 = null;\nvar warn = document.getElementById(\"3dmolwarning_16195086345412312\");\nif(warn) {\n    warn.parentNode.removeChild(warn);\n}\n$3Dmolpromise.then(function() {\nviewer_16195086345412312 = $3Dmol.createViewer($(\"#3dmolviewer_16195086345412312\"),{backgroundColor:\"white\"});\n\tviewer_16195086345412312.addModel(\"27\\n# \\n# exported wit PyGromosTools\\nH  \\t 3.175184250    3.236724810   -0.033147570\\nN  \\t 2.274315940    2.781606280    0.001306810\\nH  \\t 1.416782250    3.322296160    0.001713060\\nC  \\t 2.181095070    1.431374370   -0.005592500\\nC  \\t 0.937996810    0.742676090    0.006564690\\nC  \\t-0.318071970    1.485020410    0.013966050\\nO  \\t-0.367131860    2.732825070    0.019512710\\nC  \\t-1.592929090    0.712713140    0.009120890\\nC  \\t-1.598091650   -0.696622390    0.005304070\\nC  \\t-2.816056930   -1.391920040   -0.010368410\\nH  \\t-2.796905760   -2.476715640   -0.014610250\\nC  \\t-4.020182540   -0.694735830   -0.023747170\\nH  \\t-4.961151140   -1.237360100   -0.041511190\\nC  \\t-4.017015700    0.706695500   -0.016556350\\nH  \\t-4.956973490    1.251588060   -0.027009570\\nC  \\t-2.811746860    1.403925240    0.001587960\\nH  \\t-2.792327220    2.488630510    0.007939640\\nC  \\t-0.326776420   -1.447190120    0.012811670\\nO  \\t-0.340726970   -2.702340920    0.018093800\\nC  \\t 0.927949130   -0.697080310    0.007695770\\nC  \\t 2.138587500   -1.412571620   -0.001224360\\nO  \\t 2.203375570   -2.754845160    0.006330610\\nH  \\t 1.254989310   -3.073155560    0.013027370\\nC  \\t 3.368043150   -0.706522400   -0.021501740\\nH  \\t 4.290268880   -1.279174370   -0.034881510\\nC  \\t 3.386703780    0.662102630   -0.024141980\\nH  \\t 4.336111750    1.190881090   -0.038307670\\n\");\n\tviewer_16195086345412312.setStyle({\"stick\": {}});\n\tviewer_16195086345412312.zoomTo();\nviewer_16195086345412312.render();\n});\n</script>",
      "text/html": [
       "<div id=\"3dmolviewer_16195086345412312\"  style=\"position: relative; width: 400px; height: 400px\">\n",
       "        <p id=\"3dmolwarning_16195086345412312\" style=\"background-color:#ffcccc;color:black\">You appear to be running in JupyterLab (or JavaScript failed to load for some other reason).  You need to install the 3dmol extension: <br>\n",
       "        <tt>jupyter labextension install jupyterlab_3dmol</tt></p>\n",
       "        </div>\n",
       "<script>\n",
       "\n",
       "var loadScriptAsync = function(uri){\n",
       "  return new Promise((resolve, reject) => {\n",
       "    var tag = document.createElement('script');\n",
       "    tag.src = uri;\n",
       "    tag.async = true;\n",
       "    tag.onload = () => {\n",
       "      resolve();\n",
       "    };\n",
       "  var firstScriptTag = document.getElementsByTagName('script')[0];\n",
       "  firstScriptTag.parentNode.insertBefore(tag, firstScriptTag);\n",
       "});\n",
       "};\n",
       "\n",
       "if(typeof $3Dmolpromise === 'undefined') {\n",
       "$3Dmolpromise = null;\n",
       "  $3Dmolpromise = loadScriptAsync('https://3dmol.csb.pitt.edu/build/3Dmol.js');\n",
       "}\n",
       "\n",
       "var viewer_16195086345412312 = null;\n",
       "var warn = document.getElementById(\"3dmolwarning_16195086345412312\");\n",
       "if(warn) {\n",
       "    warn.parentNode.removeChild(warn);\n",
       "}\n",
       "$3Dmolpromise.then(function() {\n",
       "viewer_16195086345412312 = $3Dmol.createViewer($(\"#3dmolviewer_16195086345412312\"),{backgroundColor:\"white\"});\n",
       "\tviewer_16195086345412312.addModel(\"27\\n# \\n# exported wit PyGromosTools\\nH  \\t 3.175184250    3.236724810   -0.033147570\\nN  \\t 2.274315940    2.781606280    0.001306810\\nH  \\t 1.416782250    3.322296160    0.001713060\\nC  \\t 2.181095070    1.431374370   -0.005592500\\nC  \\t 0.937996810    0.742676090    0.006564690\\nC  \\t-0.318071970    1.485020410    0.013966050\\nO  \\t-0.367131860    2.732825070    0.019512710\\nC  \\t-1.592929090    0.712713140    0.009120890\\nC  \\t-1.598091650   -0.696622390    0.005304070\\nC  \\t-2.816056930   -1.391920040   -0.010368410\\nH  \\t-2.796905760   -2.476715640   -0.014610250\\nC  \\t-4.020182540   -0.694735830   -0.023747170\\nH  \\t-4.961151140   -1.237360100   -0.041511190\\nC  \\t-4.017015700    0.706695500   -0.016556350\\nH  \\t-4.956973490    1.251588060   -0.027009570\\nC  \\t-2.811746860    1.403925240    0.001587960\\nH  \\t-2.792327220    2.488630510    0.007939640\\nC  \\t-0.326776420   -1.447190120    0.012811670\\nO  \\t-0.340726970   -2.702340920    0.018093800\\nC  \\t 0.927949130   -0.697080310    0.007695770\\nC  \\t 2.138587500   -1.412571620   -0.001224360\\nO  \\t 2.203375570   -2.754845160    0.006330610\\nH  \\t 1.254989310   -3.073155560    0.013027370\\nC  \\t 3.368043150   -0.706522400   -0.021501740\\nH  \\t 4.290268880   -1.279174370   -0.034881510\\nC  \\t 3.386703780    0.662102630   -0.024141980\\nH  \\t 4.336111750    1.190881090   -0.038307670\\n\");\n",
       "\tviewer_16195086345412312.setStyle({\"stick\": {}});\n",
       "\tviewer_16195086345412312.zoomTo();\n",
       "viewer_16195086345412312.render();\n",
       "});\n",
       "</script>"
      ]
     },
     "metadata": {},
     "output_type": "display_data"
    },
    {
     "data": {
      "text/plain": [
       "<py3Dmol.view at 0x7f8b6f6b0c10>"
      ]
     },
     "execution_count": 8,
     "metadata": {},
     "output_type": "execute_result"
    }
   ],
   "source": [
    "grom_system.cnf.visualize()"
   ]
  },
  {
   "cell_type": "code",
   "execution_count": 9,
   "metadata": {
    "pycharm": {
     "name": "#%%\n"
    },
    "scrolled": false
   },
   "outputs": [
    {
     "name": "stderr",
     "output_type": "stream",
     "text": [
      "/home/bschroed/Documents/code/PyGromosTools/pygromos/files/gromos_system/gromos_system.py:128: UserWarning: No data provided to gromos_system\n",
      "manual work needed\n",
      "  if verbose: warnings.warn(\"No data provided to gromos_system\\nmanual work needed\")\n"
     ]
    },
    {
     "name": "stdout",
     "output_type": "stream",
     "text": [
      "\n",
      "\n",
      "==================\n",
      "\tCHECK dependencies\n",
      "\n",
      "Check /home/bschroed/Documents/code/PyGromosTools/examples/example_files/SD_Simulation/SD_input/test\n",
      "/home/bschroed/Documents/code/PyGromosTools/examples/example_files/SD_Simulation/SD_input/test\n",
      "All dependencies are correct! \n",
      "\n",
      "\n",
      "Generate Empty:  imd\n",
      "Generate Empty:  top\n",
      "Generate Empty:  cnf\n",
      "################################################################################\n",
      "\n",
      "a_vacuum_emin\n",
      "################################################################################\n",
      "\n",
      "============================================================\n",
      "FOUND RESULT: /home/bschroed/Documents/code/PyGromosTools/examples/example_files/SD_Simulation/a_vacuum_emin/analysis/data/a_vacuum_emin.cnf\n",
      " GOING TO SKIPT THIS SUBMISSION!\n"
     ]
    },
    {
     "data": {
      "text/plain": [
       "\n",
       "GROMOS SYSTEM: a_vacuum_emin\n",
       "################################################################################\n",
       "WORKDIR: /home/bschroed/Documents/code/PyGromosTools/examples/example_files/SD_Simulation/a_vacuum_emin\n",
       "LAST CHECKPOINT: /home/bschroed/Documents/code/PyGromosTools/examples/example_files/SD_Simulation/test.obj\n",
       "\n",
       "GromosXX_bin: None\n",
       "GromosPP_bin: None\n",
       "FILES: \n",
       "\timd: /home/bschroed/Documents/code/PyGromosTools/examples/example_files/SD_Simulation/a_vacuum_emin/a_vacuum_emin.imd\n",
       "\ttop: /home/bschroed/Documents/code/PyGromosTools/examples/example_files/SD_Simulation/a_vacuum_emin/a_vacuum_emin.top\n",
       "\tcnf: /home/bschroed/Documents/code/PyGromosTools/examples/example_files/SD_Simulation/a_vacuum_emin/a_vacuum_emin.cnf\n",
       "FUTURE PROMISE: False\n",
       "SYSTEM: \n",
       "\tSolute:\t['6J29']  resID: [1]  natoms: 27\n",
       "\tSOLVENT:\t[]  nmolecules: 0  natoms: 0\n",
       "\n"
      ]
     },
     "execution_count": 9,
     "metadata": {},
     "output_type": "execute_result"
    }
   ],
   "source": [
    "emin_gromos_system, jobID = emin(in_gromos_system=grom_system, project_dir=project_dir,\n",
    "                          step_name=step_name, submission_system=subSystem(), in_imd_path=None)\n",
    "emin_gromos_system\n"
   ]
  },
  {
   "cell_type": "code",
   "execution_count": 10,
   "metadata": {},
   "outputs": [
    {
     "data": {
      "application/3dmoljs_load.v0": "<div id=\"3dmolviewer_16195086634833813\"  style=\"position: relative; width: 400px; height: 400px\">\n        <p id=\"3dmolwarning_16195086634833813\" style=\"background-color:#ffcccc;color:black\">You appear to be running in JupyterLab (or JavaScript failed to load for some other reason).  You need to install the 3dmol extension: <br>\n        <tt>jupyter labextension install jupyterlab_3dmol</tt></p>\n        </div>\n<script>\n\nvar loadScriptAsync = function(uri){\n  return new Promise((resolve, reject) => {\n    var tag = document.createElement('script');\n    tag.src = uri;\n    tag.async = true;\n    tag.onload = () => {\n      resolve();\n    };\n  var firstScriptTag = document.getElementsByTagName('script')[0];\n  firstScriptTag.parentNode.insertBefore(tag, firstScriptTag);\n});\n};\n\nif(typeof $3Dmolpromise === 'undefined') {\n$3Dmolpromise = null;\n  $3Dmolpromise = loadScriptAsync('https://3dmol.csb.pitt.edu/build/3Dmol.js');\n}\n\nvar viewer_16195086634833813 = null;\nvar warn = document.getElementById(\"3dmolwarning_16195086634833813\");\nif(warn) {\n    warn.parentNode.removeChild(warn);\n}\n$3Dmolpromise.then(function() {\nviewer_16195086634833813 = $3Dmol.createViewer($(\"#3dmolviewer_16195086634833813\"),{backgroundColor:\"white\"});\n\tviewer_16195086634833813.addModel(\"27\\n# \\tMD++\\n# exported wit PyGromosTools\\nH  \\t 4.495836700    4.633694040   -1.199227380\\nN  \\t 3.725342750    4.138794570   -0.797464270\\nH  \\t 2.786621640    4.476828350   -0.865334390\\nC  \\t 3.862732410    2.960095430   -0.153691370\\nC  \\t 2.835032530    1.967600990   -0.091857080\\nC  \\t 1.414215270    2.273925180    0.046142330\\nO  \\t 1.054562530    3.439536390    0.319284560\\nC  \\t 0.375129760    1.192671690    0.085818060\\nC  \\t 0.769264540   -0.148367690    0.005238590\\nC  \\t-0.226493270   -1.131604250   -0.036141050\\nH  \\t 0.057792400   -2.182854630   -0.083375480\\nC  \\t-1.582742970   -0.827044200   -0.044370240\\nH  \\t-2.331310050   -1.617913090   -0.092054170\\nC  \\t-1.975957790    0.514885430    0.025349050\\nH  \\t-3.031419010    0.787480470    0.022125200\\nC  \\t-0.991847810    1.495221280    0.077455080\\nH  \\t-1.313207350    2.534220330    0.150960040\\nC  \\t 2.212186940   -0.476666300   -0.021382020\\nO  \\t 2.572344280   -1.671507110   -0.094836730\\nC  \\t 3.226135160    0.587548420   -0.046408820\\nC  \\t 4.589832710    0.301494650    0.090660250\\nO  \\t 5.151558860   -0.914933920    0.069403640\\nH  \\t 4.386895540   -1.555152030   -0.004882760\\nC  \\t 5.588687650    1.307344730    0.174053700\\nH  \\t 6.626524220    0.999009430    0.300949510\\nC  \\t 5.230989860    2.616206840    0.080312100\\nH  \\t 5.958590910    3.379925340    0.354958750\\n\");\n\tviewer_16195086634833813.setStyle({\"stick\": {}});\n\tviewer_16195086634833813.zoomTo();\nviewer_16195086634833813.render();\n});\n</script>",
      "text/html": [
       "<div id=\"3dmolviewer_16195086634833813\"  style=\"position: relative; width: 400px; height: 400px\">\n",
       "        <p id=\"3dmolwarning_16195086634833813\" style=\"background-color:#ffcccc;color:black\">You appear to be running in JupyterLab (or JavaScript failed to load for some other reason).  You need to install the 3dmol extension: <br>\n",
       "        <tt>jupyter labextension install jupyterlab_3dmol</tt></p>\n",
       "        </div>\n",
       "<script>\n",
       "\n",
       "var loadScriptAsync = function(uri){\n",
       "  return new Promise((resolve, reject) => {\n",
       "    var tag = document.createElement('script');\n",
       "    tag.src = uri;\n",
       "    tag.async = true;\n",
       "    tag.onload = () => {\n",
       "      resolve();\n",
       "    };\n",
       "  var firstScriptTag = document.getElementsByTagName('script')[0];\n",
       "  firstScriptTag.parentNode.insertBefore(tag, firstScriptTag);\n",
       "});\n",
       "};\n",
       "\n",
       "if(typeof $3Dmolpromise === 'undefined') {\n",
       "$3Dmolpromise = null;\n",
       "  $3Dmolpromise = loadScriptAsync('https://3dmol.csb.pitt.edu/build/3Dmol.js');\n",
       "}\n",
       "\n",
       "var viewer_16195086634833813 = null;\n",
       "var warn = document.getElementById(\"3dmolwarning_16195086634833813\");\n",
       "if(warn) {\n",
       "    warn.parentNode.removeChild(warn);\n",
       "}\n",
       "$3Dmolpromise.then(function() {\n",
       "viewer_16195086634833813 = $3Dmol.createViewer($(\"#3dmolviewer_16195086634833813\"),{backgroundColor:\"white\"});\n",
       "\tviewer_16195086634833813.addModel(\"27\\n# \\tMD++\\n# exported wit PyGromosTools\\nH  \\t 4.495836700    4.633694040   -1.199227380\\nN  \\t 3.725342750    4.138794570   -0.797464270\\nH  \\t 2.786621640    4.476828350   -0.865334390\\nC  \\t 3.862732410    2.960095430   -0.153691370\\nC  \\t 2.835032530    1.967600990   -0.091857080\\nC  \\t 1.414215270    2.273925180    0.046142330\\nO  \\t 1.054562530    3.439536390    0.319284560\\nC  \\t 0.375129760    1.192671690    0.085818060\\nC  \\t 0.769264540   -0.148367690    0.005238590\\nC  \\t-0.226493270   -1.131604250   -0.036141050\\nH  \\t 0.057792400   -2.182854630   -0.083375480\\nC  \\t-1.582742970   -0.827044200   -0.044370240\\nH  \\t-2.331310050   -1.617913090   -0.092054170\\nC  \\t-1.975957790    0.514885430    0.025349050\\nH  \\t-3.031419010    0.787480470    0.022125200\\nC  \\t-0.991847810    1.495221280    0.077455080\\nH  \\t-1.313207350    2.534220330    0.150960040\\nC  \\t 2.212186940   -0.476666300   -0.021382020\\nO  \\t 2.572344280   -1.671507110   -0.094836730\\nC  \\t 3.226135160    0.587548420   -0.046408820\\nC  \\t 4.589832710    0.301494650    0.090660250\\nO  \\t 5.151558860   -0.914933920    0.069403640\\nH  \\t 4.386895540   -1.555152030   -0.004882760\\nC  \\t 5.588687650    1.307344730    0.174053700\\nH  \\t 6.626524220    0.999009430    0.300949510\\nC  \\t 5.230989860    2.616206840    0.080312100\\nH  \\t 5.958590910    3.379925340    0.354958750\\n\");\n",
       "\tviewer_16195086634833813.setStyle({\"stick\": {}});\n",
       "\tviewer_16195086634833813.zoomTo();\n",
       "viewer_16195086634833813.render();\n",
       "});\n",
       "</script>"
      ]
     },
     "metadata": {},
     "output_type": "display_data"
    },
    {
     "data": {
      "text/plain": [
       "<py3Dmol.view at 0x7f8b6a3d5310>"
      ]
     },
     "execution_count": 10,
     "metadata": {},
     "output_type": "execute_result"
    }
   ],
   "source": [
    "emin_gromos_system.cnf.visualize()"
   ]
  },
  {
   "cell_type": "code",
   "execution_count": 9,
   "metadata": {
    "pycharm": {
     "name": "#%%\n"
    }
   },
   "outputs": [
    {
     "data": {
      "text/plain": [
       "\n",
       "GROMOS SYSTEM: a_vacuum_emin\n",
       "################################################################################\n",
       "WORKDIR: /home/bschroed/Documents/code/PyGromosTools/examples/example_files/SD_Simulation/a_vacuum_emin\n",
       "LAST CHECKPOINT: /home/bschroed/Documents/code/PyGromosTools/examples/example_files/SD_Simulation/test.obj\n",
       "\n",
       "GromosXX_bin: None\n",
       "GromosPP_bin: None\n",
       "FILES: \n",
       "\timd: /home/bschroed/Documents/code/PyGromosTools/examples/example_files/SD_Simulation/a_vacuum_emin/a_vacuum_emin.imd\n",
       "\ttop: /home/bschroed/Documents/code/PyGromosTools/examples/example_files/SD_Simulation/a_vacuum_emin/a_vacuum_emin.top\n",
       "\tcnf: /home/bschroed/Documents/code/PyGromosTools/examples/example_files/SD_Simulation/a_vacuum_emin/a_vacuum_emin.cnf\n",
       "FUTURE PROMISE: False\n",
       "SYSTEM: \n",
       "\tSolute:\t['6J29']  resID: [1]  natoms: 27\n",
       "\tSOLVENT:\t[]  nmolecules: 0  natoms: 0\n",
       "\n"
      ]
     },
     "execution_count": 9,
     "metadata": {},
     "output_type": "execute_result"
    }
   ],
   "source": [
    "emin_gromos_system"
   ]
  },
  {
   "cell_type": "code",
   "execution_count": 17,
   "metadata": {},
   "outputs": [
    {
     "data": {
      "text/plain": [
       "'/home/bschroed/Documents/code/PyGromosTools/examples/example_files/SD_Simulation/a_vacuum_emin'"
      ]
     },
     "execution_count": 17,
     "metadata": {},
     "output_type": "execute_result"
    }
   ],
   "source": [
    "emin_gromos_system.work_folder+\"/analysis/data\""
   ]
  },
  {
   "cell_type": "markdown",
   "metadata": {},
   "source": [
    "## RUN SD Simulation"
   ]
  },
  {
   "cell_type": "code",
   "execution_count": 11,
   "metadata": {
    "pycharm": {
     "name": "#%%\n"
    }
   },
   "outputs": [
    {
     "name": "stdout",
     "output_type": "stream",
     "text": [
      "\n",
      "\n",
      "==================\n",
      "\tCHECK dependencies\n",
      "\n",
      "Check /home/bschroed/Documents/code/PyGromosTools/examples/example_files/SD_Simulation/a_vacuum_emin/test\n",
      "/home/bschroed/Documents/code/PyGromosTools/examples/example_files/SD_Simulation/a_vacuum_emin/test\n",
      "All dependencies are correct! \n",
      "\n",
      "\n",
      "Generate Empty:  imd\n",
      "Generate Empty:  top\n",
      "Generate Empty:  cnf\n",
      "################################################################################\n",
      "\n",
      "b_vacuum_sd\n",
      "################################################################################\n",
      "\n",
      "============================================================\n",
      "FOUND RESULT: /home/bschroed/Documents/code/PyGromosTools/examples/example_files/SD_Simulation/b_vacuum_sd/analysis/data/b_vacuum_sd.cnf\n",
      " GOING TO SKIPT THIS SUBMISSION!\n"
     ]
    },
    {
     "name": "stderr",
     "output_type": "stream",
     "text": [
      "/home/bschroed/Documents/code/PyGromosTools/pygromos/files/gromos_system/gromos_system.py:128: UserWarning: No data provided to gromos_system\n",
      "manual work needed\n",
      "  if verbose: warnings.warn(\"No data provided to gromos_system\\nmanual work needed\")\n"
     ]
    },
    {
     "data": {
      "text/plain": [
       "\n",
       "GROMOS SYSTEM: b_vacuum_sd\n",
       "################################################################################\n",
       "WORKDIR: /home/bschroed/Documents/code/PyGromosTools/examples/example_files/SD_Simulation/b_vacuum_sd\n",
       "LAST CHECKPOINT: /home/bschroed/Documents/code/PyGromosTools/examples/example_files/SD_Simulation/test.obj\n",
       "\n",
       "GromosXX_bin: None\n",
       "GromosPP_bin: None\n",
       "FILES: \n",
       "\timd: /home/bschroed/Documents/code/PyGromosTools/examples/example_files/SD_Simulation/b_vacuum_sd/b_vacuum_sd.imd\n",
       "\ttop: /home/bschroed/Documents/code/PyGromosTools/examples/example_files/SD_Simulation/b_vacuum_sd/b_vacuum_sd.top\n",
       "\tcnf: /home/bschroed/Documents/code/PyGromosTools/examples/example_files/SD_Simulation/b_vacuum_sd/b_vacuum_sd.cnf\n",
       "FUTURE PROMISE: False\n",
       "SYSTEM: \n",
       "\tSolute:\t['6J29']  resID: [1]  natoms: 27\n",
       "\tSOLVENT:\t[]  nmolecules: 0  natoms: 0\n",
       "\n"
      ]
     },
     "execution_count": 11,
     "metadata": {},
     "output_type": "execute_result"
    }
   ],
   "source": [
    "from pygromos.simulations.modules.preset_simulation_modules import sd\n",
    "\n",
    "step_name  = \"b_vacuum_sd\"\n",
    "\n",
    "sd_gromos_system, jobID  = sd(in_gromos_system=emin_gromos_system, project_dir=project_dir,\n",
    "                              step_name=step_name, submission_system=subSystem(nmpi=1),\n",
    "                      equilibration_runs=1, simulation_runs=3)\n",
    "sd_gromos_system\n",
    "\n"
   ]
  },
  {
   "cell_type": "markdown",
   "metadata": {
    "pycharm": {
     "name": "#%% md\n"
    }
   },
   "source": [
    "## Further Analysis:\n",
    "Transform the trc into a pdb traj to check it out with pymol :!)"
   ]
  },
  {
   "cell_type": "code",
   "execution_count": 8,
   "metadata": {
    "pycharm": {
     "name": "#%%\n"
    }
   },
   "outputs": [],
   "source": [
    "#final analysis dir:\n",
    "from pygromos.utils import bash\n",
    "\n",
    "out_ana = project_dir+\"/c_ana\"\n",
    "if(not os.path.exists(out_ana)):\n",
    "    bash.make_folder(out_ana)"
   ]
  },
  {
   "cell_type": "markdown",
   "metadata": {},
   "source": [
    "### Coordinate Analysis"
   ]
  },
  {
   "cell_type": "code",
   "execution_count": 12,
   "metadata": {
    "pycharm": {
     "name": "#%%\n"
    },
    "scrolled": true
   },
   "outputs": [
    {
     "data": {
      "text/plain": [
       "Trajectory: \n",
       "\tRead from hdf save \n",
       "\tContains only database\n",
       "\t\n",
       "Type: \n",
       "\tTrc\n",
       "Frames: \t298\t Columns:\t29\n"
      ]
     },
     "execution_count": 12,
     "metadata": {},
     "output_type": "execute_result"
    }
   ],
   "source": [
    "from pygromos.files.trajectory.trc import Trc\n",
    "\n",
    "in_path=project_dir+\"/b_vacuum_sd/analysis/data/b_vacuum_sd.trc.h5\"\n",
    "\n",
    "trc = Trc(input_value=in_path)\n",
    "trc.write_pdb(out_ana+\"/sd_traj.pdb\", cnf_file=cnf_path)#grom_system.cnf.path)\n",
    "trc"
   ]
  },
  {
   "cell_type": "code",
   "execution_count": 14,
   "metadata": {},
   "outputs": [],
   "source": [
    "traj = trc.visualize(grom_system.cnf)"
   ]
  },
  {
   "cell_type": "code",
   "execution_count": 28,
   "metadata": {},
   "outputs": [
    {
     "ename": "TypeError",
     "evalue": "update() takes 1 positional argument but 2 were given",
     "output_type": "error",
     "traceback": [
      "\u001b[0;31m---------------------------------------------------------------------------\u001b[0m",
      "\u001b[0;31mTypeError\u001b[0m                                 Traceback (most recent call last)",
      "\u001b[0;32m<ipython-input-28-3439809107f6>\u001b[0m in \u001b[0;36m<module>\u001b[0;34m\u001b[0m\n\u001b[0;32m----> 1\u001b[0;31m \u001b[0mtraj\u001b[0m\u001b[0;34m.\u001b[0m\u001b[0mupdate\u001b[0m\u001b[0;34m(\u001b[0m\u001b[0;34m{\u001b[0m\u001b[0;34m\"loop\"\u001b[0m\u001b[0;34m:\u001b[0m\u001b[0;34m\"\"\u001b[0m\u001b[0;34m}\u001b[0m\u001b[0;34m)\u001b[0m\u001b[0;34m\u001b[0m\u001b[0;34m\u001b[0m\u001b[0m\n\u001b[0m",
      "\u001b[0;31mTypeError\u001b[0m: update() takes 1 positional argument but 2 were given"
     ]
    }
   ],
   "source": [
    "traj.animate({\"loop\":\"\"})"
   ]
  },
  {
   "cell_type": "markdown",
   "metadata": {},
   "source": [
    "### Energy Analysis"
   ]
  },
  {
   "cell_type": "code",
   "execution_count": 24,
   "metadata": {
    "pycharm": {
     "name": "#%%\n"
    }
   },
   "outputs": [
    {
     "data": {
      "text/plain": [
       "Trajectory: \n",
       "\tRead from hdf save \n",
       "\tContains only database\n",
       "\t\n",
       "Type: \n",
       "\tTre\n",
       "Frames: \t298\t Columns:\t13\n"
      ]
     },
     "execution_count": 24,
     "metadata": {},
     "output_type": "execute_result"
    }
   ],
   "source": [
    "from pygromos.files.trajectory.tre import Tre\n",
    "in_path=project_dir+\"/b_vacuum_sd/analysis/data/b_vacuum_sd.tre.h5\"\n",
    "\n",
    "tre = Tre(input_value=in_path)\n",
    "tre\n",
    "\n"
   ]
  },
  {
   "cell_type": "code",
   "execution_count": 25,
   "metadata": {
    "pycharm": {
     "name": "#%%\n"
    }
   },
   "outputs": [
    {
     "data": {
      "image/png": "[encoded data removed]",
      "text/plain": [
       "<Figure size 432x288 with 1 Axes>"
      ]
     },
     "metadata": {
      "needs_background": "light"
     },
     "output_type": "display_data"
    }
   ],
   "source": [
    "#Plot Potential Energies\n",
    "V_tot = np.array(list(map(lambda x: x[2], tre.database.totals)))\n",
    "step = len(tre.database.TIMESTEP_time)//10\n",
    "\n",
    "plt.plot(tre.database.TIMESTEP_time, V_tot)\n",
    "plt.xticks(np.round(list(tre.database.TIMESTEP_time[::step]),2))\n",
    "plt.xlabel(\"$t~[ps]$\")\n",
    "plt.ylabel(\"$V~[kJ]$\")\n",
    "plt.title(\"V total timeseries\")\n",
    "plt.savefig(out_ana+\"/potential_energy_timeseries.png\")"
   ]
  },
  {
   "cell_type": "code",
   "execution_count": null,
   "metadata": {},
   "outputs": [],
   "source": []
  }
 ],
 "metadata": {
  "kernelspec": {
   "display_name": "pygromos",
   "language": "python",
   "name": "python3"
  },
  "language_info": {
   "codemirror_mode": {
    "name": "ipython",
    "version": 3
   },
   "file_extension": ".py",
   "mimetype": "text/x-python",
   "name": "python",
   "nbconvert_exporter": "python",
   "pygments_lexer": "ipython3",
   "version": "3.7.10"
  }
 },
 "nbformat": 4,
 "nbformat_minor": 1
}
