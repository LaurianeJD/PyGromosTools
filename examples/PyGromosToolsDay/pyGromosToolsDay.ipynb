{
 "cells": [
  {
   "cell_type": "markdown",
   "metadata": {},
   "source": [
    "### Imports and settings for this notebool"
   ]
  },
  {
   "cell_type": "code",
   "execution_count": 1,
   "metadata": {},
   "outputs": [],
   "source": [
    "# general notebook formatting for markdown and plots\n",
    "%matplotlib inline\n",
    "%config InlineBackend.figure_format = 'retina'\n",
    "import warnings\n",
    "\n",
    "import matplotlib.pyplot as plt\n",
    "\n",
    "warnings.filterwarnings(\"ignore\", category=FutureWarning)\n",
    "warnings.filterwarnings = lambda *a, **kw: None\n",
    "from IPython.core.display import HTML"
   ]
  },
  {
   "cell_type": "code",
   "execution_count": 2,
   "metadata": {},
   "outputs": [
    {
     "name": "stderr",
     "output_type": "stream",
     "text": [
      "Warning: Unable to load toolkit 'OpenEye Toolkit'. The Open Force Field Toolkit does not require the OpenEye Toolkits, and can use RDKit/AmberTools instead. However, if you have a valid license for the OpenEye Toolkits, consider installing them for faster performance and additional file format support: https://docs.eyesopen.com/toolkits/python/quickstart-python/linuxosx.html OpenEye offers free Toolkit licenses for academics: https://www.eyesopen.com/academic-licensing\n"
     ]
    }
   ],
   "source": [
    "# imports for code examples\n",
    "import os\n",
    "\n",
    "from pygromos.files.gromos_system.gromos_system import Gromos_System\n",
    "from pygromos.files.gromos_system.ff.forcefield_system import forcefield_system\n",
    "\n",
    "from pygromos.simulations.modules.preset_simulation_modules import sd\n",
    "from pygromos.simulations.modules.preset_simulation_modules import emin\n",
    "from pygromos.data.simulation_parameters_templates import template_sd, template_emin_vac"
   ]
  },
  {
   "cell_type": "markdown",
   "metadata": {},
   "source": [
    "# PyGromosToolsDay"
   ]
  },
  {
   "cell_type": "markdown",
   "metadata": {},
   "source": [
    "## Introduction"
   ]
  },
  {
   "cell_type": "markdown",
   "metadata": {},
   "source": [
    "This notebook is created for the PyGromosToolsDay 17.02.2022    \n",
    "Author: Marc Thierry Lehner  \n",
    "\n",
    "This notbook is part of the PyGromosTools and can be found under:\n",
    "https://github.com/rinikerlab/PyGromosTools/blob/pygromosDay/examples/PyGromosToolsDay/pyGromosToolsDay.ipynb"
   ]
  },
  {
   "cell_type": "markdown",
   "metadata": {},
   "source": [
    "### Schedul for the day"
   ]
  },
  {
   "cell_type": "markdown",
   "metadata": {},
   "source": [
    "1. [Introduction](#Introduction)\n",
    "    1. [Schedule](#Schedule)\n",
    "    2. [Tutorial](#Tutorial)\n",
    "2. [PyGromosTools](#PyGromosTools)\n",
    "    1. [PyGromosTools](#PyGromosTools)\n",
    "    2. [PyGromosTools](#PyGromosTools)"
   ]
  },
  {
   "cell_type": "markdown",
   "metadata": {},
   "source": [
    "## PyGromosTools - a Python package for GROMOS users"
   ]
  },
  {
   "cell_type": "markdown",
   "metadata": {},
   "source": [
    "PyGromosTools is a Python package for GROMOS users. It tries to provide a easy to use unified interface to the GROMOS users in python. Leading to a better readability and reproducability of code, as well as easier pipelining of GROMOS simulations."
   ]
  },
  {
   "cell_type": "markdown",
   "metadata": {},
   "source": [
    "PyGromosTools is a natural grown package which tries to adhere to all GROMOS user's needs."
   ]
  },
  {
   "cell_type": "markdown",
   "metadata": {},
   "source": [
    "At the current state PyGromosTools provides:\n",
    "1. GROMOSxx wrappers\n",
    "2. GROMOS++ wrappers\n",
    "3. File handling of all GROMOS file types for automated creation/modification/analysis\n",
    "4. Automation and file management system gromos_system\n",
    "5. Simulation Submission and Execution\n",
    "6. etc.\n",
    "\n",
    "In the following sections we will see how to use PyGromosTools to automate the creation of GROMOS simulations and how these tools are intended to be used. We will show simple uscase and how to adjust existing classes to fit more complex simulations or new blocks and finally show how you can contribute to PyGromosTools."
   ]
  },
  {
   "cell_type": "markdown",
   "metadata": {},
   "source": [
    "### General File Structure"
   ]
  },
  {
   "cell_type": "markdown",
   "metadata": {},
   "source": [
    "Since the second major relase (TODO: date???) PyGromosTools is focused around a class called `gromos_system`. This class is the main class of PyGromosTools and is used to create, manage and analyse GROMOS simulations.  \n",
    "\n",
    "`gromos_system` stores information of all files of a simulation and provides methods to create, modify and analyse these files.\n",
    "\n",
    "\n",
    "<p style=\"text-align:center;\">\n",
    "    <img src=\"./figures/gromos_system_overview.png\" width=900 alt=\"gromos_system_overview\"/>\n",
    "    <div style=\"text-align:center;\">Based on B. Ries Thesis</div>\n",
    "</p> "
   ]
  },
  {
   "cell_type": "markdown",
   "metadata": {},
   "source": [
    "`gromos_system` can be create in many different ways. The simplest way is from existing files. However, it also provides the option to be created from only a smiles and a forcfield.  \n",
    "\n",
    "Although it has to be mentioned, that for all GROMOS types forcefields the correct MTB name is required.  \n",
    "\n",
    "In the following example we create first a `forcefield_system` that holds all informations about the forcfield we want to use, and then use this `forcefield_system` to create a `gromos_system` from a smiles.   \n",
    "\n",
    "If we tick the option `adapt_imd_automatically` and `auto_convert` in `gromos_system` we will automatically create not only the topology, but also the coordinate file and a adjusted INPUT file."
   ]
  },
  {
   "cell_type": "code",
   "execution_count": 3,
   "metadata": {},
   "outputs": [],
   "source": [
    "work_dir = os.path.abspath(\"./example_sys/\")"
   ]
  },
  {
   "cell_type": "code",
   "execution_count": 4,
   "metadata": {},
   "outputs": [],
   "source": [
    "ff = forcefield_system(name=\"2016H66\")\n",
    "ff.mol_name = \"BZN\""
   ]
  },
  {
   "cell_type": "code",
   "execution_count": 5,
   "metadata": {},
   "outputs": [],
   "source": [
    "groSys = Gromos_System(work_folder=work_dir,\n",
    "                system_name=\"test_system\",\n",
    "                in_smiles=\"c1ccccc1\", \n",
    "                Forcefield=ff, \n",
    "                adapt_imd_automatically=True,\n",
    "                in_imd_path=template_emin_vac, \n",
    "                auto_convert=True)"
   ]
  },
  {
   "cell_type": "markdown",
   "metadata": {},
   "source": [
    "This `gromos_system` called `groSys` now contains a topology, coordinate and a input file for Cyclohexane. All automatically generated.  \n",
    "\n",
    "We can access all these files as python classes by accessing the `groSys.top`, `groSys.cnf` and `groSys.imd` attributes.  \n",
    "All these classe are instances of the `gromos_file` class and have attributes on their own which are the gromos blocks (and of course somties additional content).  \n",
    "\n",
    "For example we can check if the new topology has a proper TITLE block by accessing the attribute `groSys.top.TITLE`. And we can see, that as expected the title block was automatically generated."
   ]
  },
  {
   "cell_type": "code",
   "execution_count": 6,
   "metadata": {},
   "outputs": [],
   "source": [
    "#help(groSys.top.TITLE)"
   ]
  },
  {
   "cell_type": "code",
   "execution_count": 7,
   "metadata": {},
   "outputs": [
    {
     "data": {
      "text/plain": [
       "TITLE\n",
       "MAKE_TOP topology, using:\n",
       "/home/mlehner/PyGromosTools/pygromos/data/ff/Gromos2016H66/2016H66.mtb\n",
       "/home/mlehner/PyGromosTools/pygromos/data/ff/Gromos2016H66/2016H66_orga.mtb\n",
       "/home/mlehner/PyGromosTools/pygromos/data/ff/Gromos2016H66/2016H66.ifp\n",
       "\n",
       "Force-field code: 2016H66\n",
       "\n",
       "\t >>> Generated with PyGromosTools (riniker group) <<< \n",
       "END"
      ]
     },
     "execution_count": 7,
     "metadata": {},
     "output_type": "execute_result"
    }
   ],
   "source": [
    "groSys.top.TITLE"
   ]
  },
  {
   "cell_type": "markdown",
   "metadata": {},
   "source": [
    "The same is also true for the other files. It's espicially worth to mention that coordinate file is automatically generated, using the RDKit conformer generator."
   ]
  },
  {
   "cell_type": "code",
   "execution_count": 8,
   "metadata": {},
   "outputs": [
    {
     "data": {
      "text/plain": [
       "POSITION\n",
       "# \t \n",
       "    1 C6H6  C          1    0.080649780   -0.114309219    0.001491900\n",
       "    1 C6H6  C          2    0.139328044    0.012683506   -0.000213298\n",
       "    1 C6H6  C          3    0.058678222    0.126992825   -0.001704768\n",
       "    1 C6H6  C          4   -0.080649753    0.114309267   -0.001491014\n",
       "    1 C6H6  C          5   -0.139327999   -0.012683547    0.000214086\n",
       "    1 C6H6  C          6   -0.058678224   -0.126992791    0.001705734\n",
       "    1 C6H6  H          7    0.143042861   -0.202741963    0.002644300\n",
       "    1 C6H6  H          8    0.247116116    0.022495575   -0.000379138\n",
       "    1 C6H6  H          9    0.104073182    0.225238122   -0.003024799\n",
       "    1 C6H6  H         10   -0.143042588    0.202742062   -0.002645445\n",
       "    1 C6H6  H         11   -0.247116080   -0.022495931    0.000378523\n",
       "    1 C6H6  H         12   -0.104073562   -0.225237908    0.003023921\n",
       "END"
      ]
     },
     "execution_count": 8,
     "metadata": {},
     "output_type": "execute_result"
    }
   ],
   "source": [
    "groSys.cnf.POSITION"
   ]
  },
  {
   "cell_type": "markdown",
   "metadata": {},
   "source": [
    "All these blocks the contain classes for the specific fields. In the case of the POSITION block we have a list of atoms. And each atom stores the name, the type and the position. This makes it easy to make adjustments, search for specific atoms or do some general scripted modifiactions to the positions.\n",
    "\n",
    "<p style=\"text-align:center;\">\n",
    "    <img src=\"./figures/gromos_file.png\" height=300 alt=\"gromos file structure\"/>\n",
    "    <div style=\"text-align:center;\">Based on B. Ries Thesis</div>\n",
    "</p> \n",
    "\n",
    "All the fields have theire own attributs and sometimes functions to modify them. For example the `POSITION` block has a `atomP` that store all the information."
   ]
  },
  {
   "cell_type": "code",
   "execution_count": 9,
   "metadata": {},
   "outputs": [
    {
     "name": "stdout",
     "output_type": "stream",
     "text": [
      "2 C C6H6 0.13932804378041846\n"
     ]
    }
   ],
   "source": [
    "atomP = groSys.cnf.POSITION[1]\n",
    "print(atomP.atomID, atomP.atomType, atomP.resName, atomP.xp)"
   ]
  },
  {
   "cell_type": "markdown",
   "metadata": {},
   "source": [
    "All cnf files can be easily converted to differet file types (eg. pdb) and checked via the handy `visualize` function. The `visualize` function is intended for notebooks and prototyping, but can be used for any other purpose. It's a fully interactive 3D view."
   ]
  },
  {
   "cell_type": "code",
   "execution_count": 10,
   "metadata": {},
   "outputs": [
    {
     "data": {
      "application/3dmoljs_load.v0": "<div id=\"3dmolviewer_1644590851787709\"  style=\"position: relative; width: 400px; height: 400px\">\n        <p id=\"3dmolwarning_1644590851787709\" style=\"background-color:#ffcccc;color:black\">You appear to be running in JupyterLab (or JavaScript failed to load for some other reason).  You need to install the 3dmol extension: <br>\n        <tt>jupyter labextension install jupyterlab_3dmol</tt></p>\n        </div>\n<script>\n\nvar loadScriptAsync = function(uri){\n  return new Promise((resolve, reject) => {\n    var tag = document.createElement('script');\n    tag.src = uri;\n    tag.async = true;\n    tag.onload = () => {\n      resolve();\n    };\n  var firstScriptTag = document.getElementsByTagName('script')[0];\n  firstScriptTag.parentNode.insertBefore(tag, firstScriptTag);\n});\n};\n\nif(typeof $3Dmolpromise === 'undefined') {\n$3Dmolpromise = null;\n  $3Dmolpromise = loadScriptAsync('https://3dmol.org/build/3Dmol.js');\n}\n\nvar viewer_1644590851787709 = null;\nvar warn = document.getElementById(\"3dmolwarning_1644590851787709\");\nif(warn) {\n    warn.parentNode.removeChild(warn);\n}\n$3Dmolpromise.then(function() {\nviewer_1644590851787709 = $3Dmol.createViewer($(\"#3dmolviewer_1644590851787709\"),{backgroundColor:\"white\"});\nviewer_1644590851787709.zoomTo();\n\tviewer_1644590851787709.addModel(\"12\\n# \\tC6H6 created from RDKit# exported wit PyGromosTools\\nC  \\t 0.806497800   -1.143092190    0.014919000\\nC  \\t 1.393280440    0.126835060   -0.002132980\\nC  \\t 0.586782220    1.269928250   -0.017047680\\nC  \\t-0.806497530    1.143092670   -0.014910140\\nC  \\t-1.393279990   -0.126835470    0.002140860\\nC  \\t-0.586782240   -1.269927910    0.017057340\\nH  \\t 1.430428610   -2.027419630    0.026443000\\nH  \\t 2.471161160    0.224955750   -0.003791380\\nH  \\t 1.040731820    2.252381220   -0.030247990\\nH  \\t-1.430425880    2.027420620   -0.026454450\\nH  \\t-2.471160800   -0.224959310    0.003785230\\nH  \\t-1.040735620   -2.252379080    0.030239210\\n\");\n\tviewer_1644590851787709.setStyle({\"model\": -1},{\"stick\": {}});\n\tviewer_1644590851787709.zoomTo();\nviewer_1644590851787709.render();\n});\n</script>",
      "text/html": [
       "<div id=\"3dmolviewer_1644590851787709\"  style=\"position: relative; width: 400px; height: 400px\">\n",
       "        <p id=\"3dmolwarning_1644590851787709\" style=\"background-color:#ffcccc;color:black\">You appear to be running in JupyterLab (or JavaScript failed to load for some other reason).  You need to install the 3dmol extension: <br>\n",
       "        <tt>jupyter labextension install jupyterlab_3dmol</tt></p>\n",
       "        </div>\n",
       "<script>\n",
       "\n",
       "var loadScriptAsync = function(uri){\n",
       "  return new Promise((resolve, reject) => {\n",
       "    var tag = document.createElement('script');\n",
       "    tag.src = uri;\n",
       "    tag.async = true;\n",
       "    tag.onload = () => {\n",
       "      resolve();\n",
       "    };\n",
       "  var firstScriptTag = document.getElementsByTagName('script')[0];\n",
       "  firstScriptTag.parentNode.insertBefore(tag, firstScriptTag);\n",
       "});\n",
       "};\n",
       "\n",
       "if(typeof $3Dmolpromise === 'undefined') {\n",
       "$3Dmolpromise = null;\n",
       "  $3Dmolpromise = loadScriptAsync('https://3dmol.org/build/3Dmol.js');\n",
       "}\n",
       "\n",
       "var viewer_1644590851787709 = null;\n",
       "var warn = document.getElementById(\"3dmolwarning_1644590851787709\");\n",
       "if(warn) {\n",
       "    warn.parentNode.removeChild(warn);\n",
       "}\n",
       "$3Dmolpromise.then(function() {\n",
       "viewer_1644590851787709 = $3Dmol.createViewer($(\"#3dmolviewer_1644590851787709\"),{backgroundColor:\"white\"});\n",
       "viewer_1644590851787709.zoomTo();\n",
       "\tviewer_1644590851787709.addModel(\"12\\n# \\tC6H6 created from RDKit# exported wit PyGromosTools\\nC  \\t 0.806497800   -1.143092190    0.014919000\\nC  \\t 1.393280440    0.126835060   -0.002132980\\nC  \\t 0.586782220    1.269928250   -0.017047680\\nC  \\t-0.806497530    1.143092670   -0.014910140\\nC  \\t-1.393279990   -0.126835470    0.002140860\\nC  \\t-0.586782240   -1.269927910    0.017057340\\nH  \\t 1.430428610   -2.027419630    0.026443000\\nH  \\t 2.471161160    0.224955750   -0.003791380\\nH  \\t 1.040731820    2.252381220   -0.030247990\\nH  \\t-1.430425880    2.027420620   -0.026454450\\nH  \\t-2.471160800   -0.224959310    0.003785230\\nH  \\t-1.040735620   -2.252379080    0.030239210\\n\");\n",
       "\tviewer_1644590851787709.setStyle({\"model\": -1},{\"stick\": {}});\n",
       "\tviewer_1644590851787709.zoomTo();\n",
       "viewer_1644590851787709.render();\n",
       "});\n",
       "</script>"
      ]
     },
     "metadata": {},
     "output_type": "display_data"
    },
    {
     "data": {
      "text/plain": [
       "<py3Dmol.view at 0x7fa91204e8b0>"
      ]
     },
     "execution_count": 10,
     "metadata": {},
     "output_type": "execute_result"
    }
   ],
   "source": [
    "groSys.cnf.visualize()"
   ]
  },
  {
   "cell_type": "markdown",
   "metadata": {},
   "source": [
    "### Simple Simulation"
   ]
  },
  {
   "cell_type": "markdown",
   "metadata": {},
   "source": [
    "PyGromosTools provides a simple way to create a GROMOS simulation. This is done by creating a `gromos_system` and then adding the necessary files to it and then simply selecting one of the preset modules.  \n",
    "\n",
    "PyGromosTools offers a wide range of preset simulations, but also general simulation templates, which can be easily modified.  \n",
    "\n",
    "These simulation modules take care of the creation of the necessary files, the execution/scheduling of the simulation, cleaning up the files and the analysis of the results.\n",
    "\n",
    "<p style=\"text-align:center;\">\n",
    "    <img src=\"./figures/simulation_structure.png\" width=600 alt=\"gromos simulation structure\"/>\n",
    "    <div style=\"text-align:center;\">Based on B. Ries Thesis</div>\n",
    "</p> \n",
    "\n",
    "The core of of all simulations is a `general_simulation` class. This class is the base class for all simulations. It provides the basic functionality to create the necessary files, the execution/scheduling of the simulation, cleaning up the files and the analysis of the results. Simple extensions to this class are classes like `MD`, `SD` and `EMIN` which manly provide preset changes in the IMD file. However PyGrromosTools also provides a wide range of more complex simulation approaches like `Hvap`, `TI`, etc. wich often require multiple lower level simulations to be run.\n",
    "\n",
    "But in all simulation modules the date is always stored and returned in a `gromos_system` object. This is done to make it easy for users to keeep files clean and analyse the results. And all simulation modules use a so called `submission_system`. These classes store the information about the submission of the simulation on a specific platform.\n"
   ]
  },
  {
   "cell_type": "code",
   "execution_count": 11,
   "metadata": {},
   "outputs": [
    {
     "name": "stdout",
     "output_type": "stream",
     "text": [
      "################################################################################\n",
      "\n",
      "emin\n",
      "################################################################################\n",
      "\n",
      "Script:  /home/mlehner/PyGromosTools/pygromos/simulations/hpc_queuing/job_scheduling/schedulers/simulation_scheduler.py\n",
      "\n",
      "################################################################################\n",
      "Simulation Setup:\n",
      "################################################################################\n",
      "\n",
      "steps_per_run:  3000\n",
      "equis:  0\n",
      "simulation runs:  1\n",
      "################################################################################\n",
      "\n",
      " submit final analysis part \n",
      "\n",
      "/home/mlehner/PyGromosTools/examples/PyGromosToolsDay/example_sys/emin/ana_out.log\n",
      "/home/mlehner/PyGromosTools/examples/PyGromosToolsDay/example_sys/emin/job_analysis.py\n",
      "ANA jobID: 0\n",
      "WARNING!: Don't know block: SHAKEFAILPOSITION. read it simple.\n",
      "WARNING!: Don't know block: SHAKEFAILPREVPOSITION. read it simple.\n"
     ]
    }
   ],
   "source": [
    "eminGroSys = emin(groSys, in_imd_path=template_emin_vac)"
   ]
  },
  {
   "cell_type": "code",
   "execution_count": null,
   "metadata": {},
   "outputs": [],
   "source": [
    "sdGroSys = emin(eminGroSys, in_imd_path=template_sd)"
   ]
  },
  {
   "cell_type": "markdown",
   "metadata": {},
   "source": [
    "After some simulations we still have a `gromos_system` object. This object contains all the files of the simulation. Even trajectories are added to the `gromos_system` object automatically.  \n",
    "In case files are not automatically attached (for example due to scheduling on a cluster) they can be added automatically via the function `_check_promises()`. This function will go through all files and update them. Some files might only be attached as `future_files` and read in after this function call. `future_files` are files that are not yet available and allow for more flexibility on clusters where jobs might be submitted before the files are available."
   ]
  },
  {
   "cell_type": "code",
   "execution_count": null,
   "metadata": {},
   "outputs": [],
   "source": [
    "sdGroSys._check_promises()"
   ]
  },
  {
   "cell_type": "markdown",
   "metadata": {},
   "source": [
    "### Simple analysis"
   ]
  },
  {
   "cell_type": "markdown",
   "metadata": {},
   "source": [
    "At this stage we successfully ran a GROMOS simulation with PyGromosTools. But we still have to analyse the results. Most analysis is done using the trajectories and these classes offer a lot of helping functions.  \n",
    "Trajectories are in PyGromosTools stored as Pandas DataFrames. This makes it easy and fast to analyse the results. Every type of trajectoriy contains a attribute called `database` which is a Pandas DataFrame. This DataFrame contains all the information of the trajectory. And a user could access it in any way he likes, like a normal DataFrame. However, for most common analysis tasks functions are already provided by the respective trajectory class.  \n",
    "For example, if we want to compare the distance of a atom to another atom during the simulation we could use the following lines of code:"
   ]
  },
  {
   "cell_type": "code",
   "execution_count": null,
   "metadata": {},
   "outputs": [],
   "source": [
    "sdGroSys.trc.database"
   ]
  },
  {
   "cell_type": "code",
   "execution_count": null,
   "metadata": {},
   "outputs": [],
   "source": [
    "sdGroSys.trc.get_atom_distance(1, 2)"
   ]
  },
  {
   "cell_type": "markdown",
   "metadata": {},
   "source": [
    "Similar to cnf files trc files also provide a `visualize` function. The function will show a 3D video of the trajectory."
   ]
  },
  {
   "cell_type": "code",
   "execution_count": null,
   "metadata": {},
   "outputs": [],
   "source": [
    "sdGroSys.trc.visualize()"
   ]
  },
  {
   "cell_type": "markdown",
   "metadata": {},
   "source": [
    "And similar to the trc files tre files also provide a wide selection of analysis tools out of the box."
   ]
  },
  {
   "cell_type": "code",
   "execution_count": null,
   "metadata": {},
   "outputs": [],
   "source": [
    "sdGroSys.tre.get_total_energy().plot()"
   ]
  },
  {
   "cell_type": "markdown",
   "metadata": {},
   "source": [
    "### Non standart blocks and modifications"
   ]
  },
  {
   "cell_type": "markdown",
   "metadata": {},
   "source": [
    "### New files for new gromos functionality"
   ]
  },
  {
   "cell_type": "markdown",
   "metadata": {},
   "source": [
    "## Release 3"
   ]
  },
  {
   "cell_type": "markdown",
   "metadata": {},
   "source": [
    "## Hackathlon"
   ]
  },
  {
   "cell_type": "markdown",
   "metadata": {},
   "source": [
    "## Final Disscussion"
   ]
  }
 ],
 "metadata": {
  "interpreter": {
   "hash": "b1b7b2ea43b8e767316eee98e01335d045804d2d47db68b6a5827e187ee91a7e"
  },
  "kernelspec": {
   "display_name": "Python 3.9.7 ('pygro2')",
   "language": "python",
   "name": "python3"
  },
  "language_info": {
   "codemirror_mode": {
    "name": "ipython",
    "version": 3
   },
   "file_extension": ".py",
   "mimetype": "text/x-python",
   "name": "python",
   "nbconvert_exporter": "python",
   "pygments_lexer": "ipython3",
   "version": "3.9.7"
  },
  "orig_nbformat": 4
 },
 "nbformat": 4,
 "nbformat_minor": 2
}
