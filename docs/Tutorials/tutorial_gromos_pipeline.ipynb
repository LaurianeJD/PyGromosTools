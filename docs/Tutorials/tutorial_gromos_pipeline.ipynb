{
 "cells": [
  {
   "cell_type": "markdown",
   "metadata": {
    "collapsed": true,
    "pycharm": {
     "name": "#%% md\n"
    }
   },
   "source": [
    "# Gromos Tutorial Pipeline"
   ]
  },
  {
   "cell_type": "code",
   "execution_count": 1,
   "outputs": [],
   "source": [
    "import os, sys\n",
    "from pygromos.utils import bash\n",
    "root_dir = os.getcwd()\n",
    "\n",
    "#if package is not installed and path not set correct - this helps you out :)\n",
    "sys.path.append(root_dir+\"/..\")\n",
    "\n",
    "\n",
    "import pygromos\n",
    "from pygromos.gromos.gromosPP import GromosPP\n",
    "from pygromos.gromos.gromosXX import GromosXX\n",
    "\n",
    "gromosPP_bin = None\n",
    "gromosXX_bin = None\n",
    "gromPP = GromosPP(gromosPP_bin)\n",
    "gromXX = GromosXX(gromosXX_bin)\n",
    "\n",
    "project_dir = os.path.abspath(os.path.dirname(pygromos.__file__)+\"/../examples/example_files/Tutorial_System\")\n",
    "input_dir = project_dir+\"/input\""
   ],
   "metadata": {
    "collapsed": false,
    "pycharm": {
     "name": "#%%\n"
    }
   }
  },
  {
   "cell_type": "markdown",
   "source": [
    "## Build initial files\n",
    "### generate Topology\n",
    "#### build single topologies"
   ],
   "metadata": {
    "collapsed": false,
    "pycharm": {
     "name": "#%% md\n"
    }
   }
  },
  {
   "cell_type": "code",
   "execution_count": 2,
   "outputs": [
    {
     "data": {
      "text/plain": "'/home/bschroed/Documents/code/pygromos/examples/example_files/Tutorial_System/a_topo/peptide.top'"
     },
     "execution_count": 2,
     "metadata": {},
     "output_type": "execute_result"
    }
   ],
   "source": [
    "from pygromos.data.ff import Gromos54A7\n",
    "\n",
    "topo_dir = bash.make_folder(project_dir+'/a_topo')\n",
    "\n",
    "## Make Cl-\n",
    "sequence = \"CL-\"\n",
    "solvent = \"H2O\"\n",
    "top_cl = topo_dir+\"/cl.top\"\n",
    "\n",
    "gromPP.make_top(in_building_block_lib_path=Gromos54A7.mtb,\n",
    "                in_parameter_lib_path=Gromos54A7.ifp,\n",
    "                in_sequence=sequence, in_solvent=solvent,out_top_path=top_cl)\n",
    "\n",
    "## Make Peptide\n",
    "sequence = \"NH3+ VAL TYR ARG LYSH GLN COO-\"\n",
    "solvent = \"H2O\"\n",
    "top_peptide = topo_dir+\"/peptide.top\"\n",
    "\n",
    "gromPP.make_top(in_building_block_lib_path=Gromos54A7.mtb, in_parameter_lib_path=Gromos54A7.ifp,\n",
    "                in_sequence=sequence, in_solvent=solvent,out_top_path=top_peptide)\n"
   ],
   "metadata": {
    "collapsed": false,
    "pycharm": {
     "name": "#%%\n"
    }
   }
  },
  {
   "cell_type": "markdown",
   "source": [
    "#### combine topology"
   ],
   "metadata": {
    "collapsed": false,
    "pycharm": {
     "name": "#%% md\n"
    }
   }
  },
  {
   "cell_type": "code",
   "execution_count": 3,
   "outputs": [
    {
     "data": {
      "text/plain": "'/home/bschroed/Documents/code/pygromos/examples/example_files/Tutorial_System/a_topo/vac_sys.top'"
     },
     "execution_count": 3,
     "metadata": {},
     "output_type": "execute_result"
    }
   ],
   "source": [
    "top_system = topo_dir+\"/vac_sys.top\"\n",
    "gromPP.com_top(in_topo_paths=[top_peptide, top_cl], topo_multiplier=[1,2], out_top_path=top_system)\n"
   ],
   "metadata": {
    "collapsed": false,
    "pycharm": {
     "name": "#%%\n"
    }
   }
  },
  {
   "cell_type": "markdown",
   "source": [
    "### generate coordinates\n"
   ],
   "metadata": {
    "collapsed": false
   }
  },
  {
   "cell_type": "code",
   "execution_count": 4,
   "outputs": [],
   "source": [
    "coord_dir = bash.make_folder(project_dir+\"/b_coord\")\n",
    "in_pdb = input_dir+\"/peptide.pdb\"\n",
    "cnf_peptide = coord_dir+\"/cnf_vacuum_peptide.cnf\"\n",
    "\n",
    "cnf_peptide = gromPP.pdb2gromos(in_pdb_path=in_pdb, in_top_path=top_peptide, out_cnf_path=cnf_peptide)"
   ],
   "metadata": {
    "collapsed": false,
    "pycharm": {
     "name": "#%%\n"
    }
   }
  },
  {
   "cell_type": "markdown",
   "source": [
    "#### add hydrogens"
   ],
   "metadata": {
    "collapsed": false,
    "pycharm": {
     "name": "#%% md\n"
    }
   }
  },
  {
   "cell_type": "code",
   "execution_count": 5,
   "outputs": [],
   "source": [
    "cnf_hpeptide = coord_dir+\"/vacuum_hpeptide.cnf\"\n",
    "cnf_hpeptide = gromPP.protonate(in_cnf_path=cnf_peptide, in_top_path=top_peptide, out_cnf_path=cnf_hpeptide)"
   ],
   "metadata": {
    "collapsed": false,
    "pycharm": {
     "name": "#%%\n"
    }
   }
  },
  {
   "cell_type": "markdown",
   "source": [
    "#### cnf to pdb"
   ],
   "metadata": {
    "collapsed": false
   }
  },
  {
   "cell_type": "code",
   "execution_count": 6,
   "outputs": [],
   "source": [
    "out_pdb = coord_dir+\"/vacuum_hpeptide.pdb\"\n",
    "out_pdb = gromPP.frameout(in_coord_path=cnf_hpeptide, in_top_path=top_peptide, out_file_path=out_pdb,\n",
    "                               periodic_boundary_condition=\"v\", out_file_format=\"pdb\", time=0)"
   ],
   "metadata": {
    "collapsed": false,
    "pycharm": {
     "name": "#%%\n"
    }
   }
  },
  {
   "cell_type": "markdown",
   "source": [
    "### energy minimization - Vacuum"
   ],
   "metadata": {
    "collapsed": false
   }
  },
  {
   "cell_type": "code",
   "execution_count": 7,
   "outputs": [
    {
     "data": {
      "text/plain": "'/home/bschroed/Documents/code/pygromos/examples/example_files/Tutorial_System/c_vacuum_emin/vacuum_emin.cnf'"
     },
     "execution_count": 7,
     "metadata": {},
     "output_type": "execute_result"
    }
   ],
   "source": [
    "from pygromos.data.simulation_parameters_templates import template_emin_vac\n",
    "from pygromos.files.gromos_system import gromos_system\n",
    "\n",
    "out_prefix = \"vacuum_emin\"\n",
    "vacuum_emin_dir = bash.make_folder(project_dir+\"/c_\"+out_prefix)\n",
    "os.chdir(vacuum_emin_dir)\n",
    "\n",
    "grom_system = gromos_system.Gromos_System(work_folder=vacuum_emin_dir,\n",
    "                                          system_name=\"in_\"+out_prefix,\n",
    "                                          in_top_path=top_peptide,\n",
    "                                          in_cnf_path=cnf_hpeptide,\n",
    "                                          in_imd_path=template_emin_vac)\n",
    "\n",
    "grom_system.adapt_imd()\n",
    "#del grom_system.imd.POSITIONRES\n",
    "grom_system.imd.BOUNDCOND.NTB = 0\n",
    "grom_system.write_files()\n",
    "\n",
    "out_emin_vacuum = vacuum_emin_dir + \"/\" + out_prefix\n",
    "gromXX.md_run(in_imd_path=grom_system.imd.path,\n",
    "              in_topo_path=grom_system.top.path,\n",
    "              in_coord_path=grom_system.cnf.path,\n",
    "              out_prefix=out_emin_vacuum)\n",
    "cnf_emin_vacuum = out_emin_vacuum+\".cnf\"\n",
    "cnf_emin_vacuum"
   ],
   "metadata": {
    "collapsed": false,
    "pycharm": {
     "name": "#%%\n"
    }
   }
  },
  {
   "cell_type": "markdown",
   "source": [
    "## Solvatistation and Solvent Energy Minimization\n",
    "### build box system"
   ],
   "metadata": {
    "collapsed": false,
    "pycharm": {
     "name": "#%% md\n"
    }
   }
  },
  {
   "cell_type": "code",
   "execution_count": 8,
   "outputs": [
    {
     "name": "stdout",
     "output_type": "stream",
     "text": [
      "sim_box @topo /home/bschroed/Documents/code/pygromos/examples/example_files/Tutorial_System/a_topo/peptide.top @pbc r @pos /home/bschroed/Documents/code/pygromos/examples/example_files/Tutorial_System/c_vacuum_emin/vacuum_emin.cnf @solvent /home/bschroed/Documents/code/pygromos/pygromos/data/solvent_coordinates/spc.cnf @minwall 0.8  @rotate  @thresh 0.23\n"
     ]
    }
   ],
   "source": [
    "from pygromos.data.solvent_coordinates import spc\n",
    "out_prefix = \"box\"\n",
    "box_dir = bash.make_folder(project_dir+\"/d_\"+out_prefix)\n",
    "\n",
    "cnf_box = gromPP.sim_box(in_top_path=top_peptide, in_cnf_path=cnf_emin_vacuum,in_solvent_cnf_file_path=spc,\n",
    "                         out_cnf_path=box_dir+\"/\"+out_prefix+\".cnf\",\n",
    "                         periodic_boundary_condition=\"r\", minwall=0.8, threshold=0.23, rotate=True)\n",
    "\n",
    "out_pdb = box_dir+\"/\"+out_prefix+\".pdb\"\n",
    "\n",
    "out_pdb = gromPP.frameout(in_coord_path=cnf_box, in_top_path=top_peptide, out_file_path=out_pdb,\n",
    "                               periodic_boundary_condition=\"r\", out_file_format=\"pdb\", include=\"ALL\", time=0)"
   ],
   "metadata": {
    "collapsed": false,
    "pycharm": {
     "name": "#%%\n"
    }
   }
  },
  {
   "cell_type": "markdown",
   "source": [
    "### Add Ions"
   ],
   "metadata": {
    "collapsed": false,
    "pycharm": {
     "name": "#%% md\n"
    }
   }
  },
  {
   "cell_type": "code",
   "execution_count": 9,
   "outputs": [
    {
     "name": "stdout",
     "output_type": "stream",
     "text": [
      "ion @topo /home/bschroed/Documents/code/pygromos/examples/example_files/Tutorial_System/a_topo/peptide.top @pos /home/bschroed/Documents/code/pygromos/examples/example_files/Tutorial_System/d_box/box.cnf @pbc v @potential 0.8 @mindist 0.8 @negative 2 CL-\n"
     ]
    }
   ],
   "source": [
    "out_prefix = \"ion\"\n",
    "cnf_ion = gromPP.ion(in_cnf_path=cnf_box,\n",
    "                     in_top_path=top_peptide,\n",
    "                     out_cnf_path=box_dir+\"/\"+out_prefix+\".cnf\",\n",
    "                     negative=[2, \"CL-\"],verbose=True           )"
   ],
   "metadata": {
    "collapsed": false,
    "pycharm": {
     "name": "#%%\n"
    }
   }
  },
  {
   "cell_type": "markdown",
   "source": [
    "### Energy Minimization BOX"
   ],
   "metadata": {
    "collapsed": false,
    "pycharm": {
     "name": "#%% md\n"
    }
   }
  },
  {
   "cell_type": "code",
   "execution_count": 10,
   "outputs": [
    {
     "name": "stdout",
     "output_type": "stream",
     "text": [
      "Cnf\n",
      "POSRES /home/bschroed/Documents/code/pygromos/examples/example_files/Tutorial_System/e_box_emin/box_emin_posres.pos\n",
      "COMMAND:  md @topo /home/bschroed/Documents/code/pygromos/examples/example_files/Tutorial_System/a_topo/vac_sys.top @conf /home/bschroed/Documents/code/pygromos/examples/example_files/Tutorial_System/d_box/ion.cnf @input /home/bschroed/Documents/code/pygromos/pygromos/data/simulation_parameters_templates/emin.imd @posresspec /home/bschroed/Documents/code/pygromos/examples/example_files/Tutorial_System/e_box_emin/box_emin_posres.pos @refpos /home/bschroed/Documents/code/pygromos/examples/example_files/Tutorial_System/e_box_emin/box_emin_refpos.rpf @fin /home/bschroed/Documents/code/pygromos/examples/example_files/Tutorial_System/e_box_emin/box_emin.cnf > /home/bschroed/Documents/code/pygromos/examples/example_files/Tutorial_System/e_box_emin/box_emin.omd\n",
      "\n"
     ]
    },
    {
     "data": {
      "text/plain": "'/home/bschroed/Documents/code/pygromos/examples/example_files/Tutorial_System/e_box_emin/box_emin.cnf'"
     },
     "execution_count": 10,
     "metadata": {},
     "output_type": "execute_result"
    }
   ],
   "source": [
    "from pygromos.data.simulation_parameters_templates import template_emin\n",
    "from pygromos.files.gromos_system import gromos_system\n",
    "\n",
    "out_prefix = \"box_emin\"\n",
    "box_emin_dir = bash.make_folder(project_dir+\"/e_\"+out_prefix)\n",
    "os.chdir(box_emin_dir)\n",
    "\n",
    "grom_system = gromos_system.Gromos_System(work_folder=box_emin_dir,\n",
    "                                          system_name=\"in_\"+out_prefix,\n",
    "                                          in_top_path=top_system,\n",
    "                                          in_cnf_path=cnf_ion,\n",
    "                                          in_imd_path=template_emin)\n",
    "\n",
    "grom_system.adapt_imd()\n",
    "grom_system.imd.STEP.NSTLIM = 3000\n",
    "grom_system.imd.PRINTOUT.NTPR = 300\n",
    "grom_system.write_files()\n",
    "\n",
    "cnf_reference_position = grom_system.cnf.write_refpos(box_emin_dir+\"/\"+out_prefix+\"_refpos.rpf\")\n",
    "cnf_position_restraint = grom_system.cnf.write_possrespec(box_emin_dir+\"/\"+out_prefix+\"_posres.pos\", residues=list(filter(lambda x: x != \"SOLV\", grom_system.cnf.get_residues())))\n",
    "\n",
    "out_emin_box = box_emin_dir + \"/\" + out_prefix\n",
    "gromXX.md_run(in_imd_path=grom_system.imd.path,\n",
    "              in_topo_path=grom_system.top.path,\n",
    "              in_coord_path=grom_system.cnf.path,\n",
    "              in_refpos_path=cnf_reference_position,\n",
    "              in_posresspec_path=cnf_position_restraint,\n",
    "              out_prefix=out_emin_box, verbose=True)\n",
    "\n",
    "cnf_emin_box =out_emin_box+\".cnf\"\n",
    "cnf_emin_box = gromPP.frameout(in_coord_path=cnf_emin_box, in_top_path=top_system, out_file_path=cnf_emin_box,\n",
    "                               periodic_boundary_condition=\"r cog\", out_file_format=\"cnf\", include=\"ALL\", time=0)\n",
    "\n",
    "out_pdb = box_emin_dir+\"/\"+out_prefix+\".pdb\"\n",
    "out_pdb = gromPP.frameout(in_coord_path=cnf_emin_box, in_top_path=top_system, out_file_path=out_pdb,\n",
    "                               periodic_boundary_condition=\"r\", out_file_format=\"pdb\", include=\"ALL\", time=0)\n",
    "\n",
    "cnf_emin_box"
   ],
   "metadata": {
    "collapsed": false,
    "pycharm": {
     "name": "#%%\n"
    }
   }
  },
  {
   "cell_type": "markdown",
   "source": [
    "## Simulation\n",
    "\n",
    "### Equilibration NVP\n",
    " To be implemented!"
   ],
   "metadata": {
    "collapsed": false,
    "pycharm": {
     "name": "#%% md\n"
    }
   }
  },
  {
   "cell_type": "code",
   "execution_count": 11,
   "outputs": [
    {
     "data": {
      "text/plain": "'/home/bschroed/Documents/code/pygromos/examples/example_files/Tutorial_System/f_eq_NVP/eq_NVP.cnf'"
     },
     "execution_count": 11,
     "metadata": {},
     "output_type": "execute_result"
    }
   ],
   "source": [
    "from pygromos.data.simulation_parameters_templates import template_md_tut as template_md\n",
    "from pygromos.files.gromos_system import gromos_system\n",
    "\n",
    "out_prefix = \"eq_NVP\"\n",
    "eq_NVP_dir = bash.make_folder(project_dir+\"/f_\"+out_prefix)\n",
    "os.chdir(eq_NVP_dir)\n",
    "\n",
    "grom_system = gromos_system.Gromos_System(work_folder=eq_NVP_dir,\n",
    "                                          system_name=\"in_\"+out_prefix,\n",
    "                                          in_top_path=top_system,\n",
    "                                          in_cnf_path=cnf_emin_box,\n",
    "                                          in_imd_path=template_md)\n",
    "\n",
    "grom_system.adapt_imd(not_ligand_residues=\"CL-\")\n",
    "grom_system.imd.STEP.NSTLIM = 1000\n",
    "grom_system.imd.WRITETRAJ.NTWX = 10\n",
    "grom_system.imd.WRITETRAJ.NTWE = 10\n",
    "grom_system.imd.INITIALISE.NTIVEL = 1\n",
    "grom_system.imd.INITIALISE.NTISHK = 1\n",
    "grom_system.imd.INITIALISE.NTISHI = 1\n",
    "grom_system.imd.INITIALISE.NTIRTC = 1\n",
    "\n",
    "grom_system.imd.randomize_seed()\n",
    "grom_system.rebase_files()\n",
    "grom_system.write_files()\n",
    "\n",
    "out_eq_NVP = eq_NVP_dir + \"/\" + out_prefix\n",
    "gromXX.md_run(in_imd_path=grom_system.imd.path,\n",
    "              in_topo_path=grom_system.top.path,\n",
    "              in_coord_path=grom_system.cnf.path,\n",
    "              out_tre=True, out_trc=True,\n",
    "              out_prefix=out_eq_NVP)\n",
    "\n",
    "cnf_eq_NVP = out_eq_NVP+\".cnf\"\n",
    "cnf_eq_NVP\n"
   ],
   "metadata": {
    "collapsed": false,
    "pycharm": {
     "name": "#%%\n"
    }
   }
  },
  {
   "cell_type": "markdown",
   "source": [
    "### MD NVP"
   ],
   "metadata": {
    "collapsed": false,
    "pycharm": {
     "name": "#%% md\n"
    }
   }
  },
  {
   "cell_type": "code",
   "execution_count": 12,
   "outputs": [
    {
     "data": {
      "text/plain": "\nGROMOS SYSTEM: in_eq_NVP\n################################################################################\nWORKDIR: /home/bschroed/Documents/code/pygromos/examples/example_files/Tutorial_System/f_eq_NVP\nLAST CHECKPOINT: None\n\nFILES: \n\timd: /home/bschroed/Documents/code/pygromos/examples/example_files/Tutorial_System/f_eq_NVP/in_eq_NVP.imd\n\ttop: /home/bschroed/Documents/code/pygromos/examples/example_files/Tutorial_System/f_eq_NVP/in_eq_NVP.top\n\tcnf: /home/bschroed/Documents/code/pygromos/examples/example_files/Tutorial_System/f_eq_NVP/in_eq_NVP.cnf\nGromosXX_bin: None\nGromosPP_bin: None\nFUTURE PROMISE: False\n\nSYSTEM: \n\tPROTEIN:\tprotein  nresidues: 5 natoms: 71\n\tNon-LIGANDS:\t['CL-']  nmolecules: 0  natoms: 2\n\tSOLVENT:\tSOLV  nmolecules: 930  natoms: 2790\n\n"
     },
     "execution_count": 12,
     "metadata": {},
     "output_type": "execute_result"
    }
   ],
   "source": [
    "grom_system"
   ],
   "metadata": {
    "collapsed": false,
    "pycharm": {
     "name": "#%%\n"
    }
   }
  },
  {
   "cell_type": "code",
   "execution_count": 13,
   "outputs": [
    {
     "name": "stdout",
     "output_type": "stream",
     "text": [
      "COMMAND:  md @topo /home/bschroed/Documents/code/pygromos/examples/example_files/Tutorial_System/g_md/in_md.top @conf /home/bschroed/Documents/code/pygromos/examples/example_files/Tutorial_System/g_md/in_md.cnf @input /home/bschroed/Documents/code/pygromos/examples/example_files/Tutorial_System/g_md/in_md.imd @fin /home/bschroed/Documents/code/pygromos/examples/example_files/Tutorial_System/g_md/md.cnf @trc /home/bschroed/Documents/code/pygromos/examples/example_files/Tutorial_System/g_md/md.trc @tre /home/bschroed/Documents/code/pygromos/examples/example_files/Tutorial_System/g_md/md.tre > /home/bschroed/Documents/code/pygromos/examples/example_files/Tutorial_System/g_md/md.omd\n",
      "\n"
     ]
    },
    {
     "data": {
      "text/plain": "'/home/bschroed/Documents/code/pygromos/examples/example_files/Tutorial_System/g_md/md.cnf'"
     },
     "execution_count": 13,
     "metadata": {},
     "output_type": "execute_result"
    }
   ],
   "source": [
    "from pygromos.data.simulation_parameters_templates import template_md\n",
    "from pygromos.files.gromos_system import gromos_system\n",
    "\n",
    "out_prefix = \"md\"\n",
    "md_dir = bash.make_folder(project_dir+\"/g_\"+out_prefix)\n",
    "os.chdir(md_dir)\n",
    "\n",
    "grom_system = gromos_system.Gromos_System(work_folder=md_dir,\n",
    "                                          system_name=\"in_\"+out_prefix,\n",
    "                                          in_top_path=top_system,\n",
    "                                          in_cnf_path=cnf_eq_NVP,\n",
    "                                          in_imd_path=template_md)\n",
    "\n",
    "grom_system.adapt_imd(not_ligand_residues=\"CL-\")\n",
    "grom_system.imd.STEP.NSTLIM = 1000\n",
    "grom_system.imd.WRITETRAJ.NTWX = 10\n",
    "grom_system.imd.WRITETRAJ.NTWE = 10\n",
    "grom_system.imd.INITIALISE.NTIVEL = 0\n",
    "\n",
    "grom_system.rebase_files()\n",
    "grom_system.write_files()\n",
    "\n",
    "out_md = md_dir + \"/\" + out_prefix\n",
    "gromXX.md_run(in_imd_path=grom_system.imd.path,\n",
    "              in_topo_path=grom_system.top.path,\n",
    "              in_coord_path=grom_system.cnf.path,\n",
    "              out_tre=True, out_trc=True,\n",
    "              out_prefix=out_md, verbose=True)\n",
    "\n",
    "cnf_md = out_md+\".cnf\"\n",
    "cnf_md"
   ],
   "metadata": {
    "collapsed": false,
    "pycharm": {
     "name": "#%%\n"
    }
   }
  },
  {
   "cell_type": "markdown",
   "source": [
    "## Analysis"
   ],
   "metadata": {
    "collapsed": false,
    "pycharm": {
     "name": "#%% md\n"
    }
   }
  },
  {
   "cell_type": "code",
   "execution_count": 14,
   "outputs": [],
   "source": [
    "out_prefix = \"ana\"\n",
    "md_dir = bash.make_folder(project_dir+\"/h_\"+out_prefix)\n",
    "os.chdir(md_dir)"
   ],
   "metadata": {
    "collapsed": false,
    "pycharm": {
     "name": "#%%\n"
    }
   }
  }
 ],
 "metadata": {
  "kernelspec": {
   "name": "python3",
   "language": "python",
   "display_name": "Python 3"
  },
  "language_info": {
   "codemirror_mode": {
    "name": "ipython",
    "version": 2
   },
   "file_extension": ".py",
   "mimetype": "text/x-python",
   "name": "python",
   "nbconvert_exporter": "python",
   "pygments_lexer": "ipython2",
   "version": "2.7.6"
  }
 },
 "nbformat": 4,
 "nbformat_minor": 0
}