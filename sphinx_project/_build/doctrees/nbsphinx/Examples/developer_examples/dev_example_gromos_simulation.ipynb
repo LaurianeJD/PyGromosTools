{
 "cells": [
  {
   "cell_type": "markdown",
   "metadata": {
    "pycharm": {
     "name": "#%% md\n"
    }
   },
   "source": [
    "# SD Simulations with Submission System\n"
   ]
  },
  {
   "cell_type": "markdown",
   "metadata": {},
   "source": [
    "## Imports"
   ]
  },
  {
   "cell_type": "code",
   "execution_count": 1,
   "metadata": {
    "execution": {
     "iopub.execute_input": "2022-04-04T16:00:15.014068Z",
     "iopub.status.busy": "2022-04-04T16:00:15.013745Z",
     "iopub.status.idle": "2022-04-04T16:00:18.268162Z",
     "shell.execute_reply": "2022-04-04T16:00:18.267529Z"
    }
   },
   "outputs": [
    {
     "data": {
      "application/vnd.jupyter.widget-view+json": {
       "model_id": "c2b7e5a305864a9ab24cb44898f9cebb",
       "version_major": 2,
       "version_minor": 0
      },
      "text/plain": []
     },
     "metadata": {},
     "output_type": "display_data"
    }
   ],
   "source": [
    "import os\n",
    "#for analysis\n",
    "import numpy as np\n",
    "from matplotlib import pyplot as plt\n",
    "%matplotlib inline\n",
    "\n",
    "import pygromos\n",
    "from pygromos.files.gromos_system import Gromos_System\n",
    "from pygromos.files.blocks import imd_blocks\n",
    "from pygromos.data.simulation_parameters_templates import template_emin"
   ]
  },
  {
   "cell_type": "markdown",
   "metadata": {
    "pycharm": {
     "name": "#%% md\n"
    }
   },
   "source": [
    "## Input files"
   ]
  },
  {
   "cell_type": "code",
   "execution_count": 2,
   "metadata": {
    "execution": {
     "iopub.execute_input": "2022-04-04T16:00:18.272112Z",
     "iopub.status.busy": "2022-04-04T16:00:18.271599Z",
     "iopub.status.idle": "2022-04-04T16:00:18.297160Z",
     "shell.execute_reply": "2022-04-04T16:00:18.296552Z"
    }
   },
   "outputs": [],
   "source": [
    "root_dir = project_dir = os.path.abspath(os.path.dirname(pygromos.__file__)+\"/../examples/example_files/SD_Simulation\")\n",
    "root_in_dir = root_dir+\"/SD_input\"\n",
    "cnf_path = root_in_dir+\"/6J29_unitedatom_optimised_geometry.cnf\"\n",
    "top_path = root_in_dir + \"/6J29.top\"\n",
    "sys_name = \"6J29\"\n",
    "\n",
    "#External imd_changes:\n",
    "grom_system = Gromos_System(in_cnf_path=cnf_path, in_top_path=top_path, in_imd_path=template_emin,\n",
    "                            system_name=sys_name, work_folder=root_in_dir)\n",
    "\n",
    "grom_system.cnf.add_empty_box()\n"
   ]
  },
  {
   "cell_type": "markdown",
   "metadata": {},
   "source": [
    "## RUN Emin"
   ]
  },
  {
   "cell_type": "code",
   "execution_count": 3,
   "metadata": {
    "execution": {
     "iopub.execute_input": "2022-04-04T16:00:18.299956Z",
     "iopub.status.busy": "2022-04-04T16:00:18.299619Z",
     "iopub.status.idle": "2022-04-04T16:00:18.310973Z",
     "shell.execute_reply": "2022-04-04T16:00:18.310500Z"
    }
   },
   "outputs": [],
   "source": [
    "from pygromos.simulations.hpc_queuing.submission_systems.local import LOCAL as subSystem\n",
    "from pygromos.simulations.modules.preset_simulation_modules import emin\n",
    "step_name  = \"a_vacuum_emin\"\n",
    "\n",
    "#Some special adaptation\n",
    "grom_system.imd.BOUNDCOND.NTB =0\n",
    "grom_system.imd.BOUNDCOND.NDFMIN = 0\n",
    "grom_system.imd.WRITETRAJ = imd_blocks.WRITETRAJ()\n",
    "grom_system.imd.WRITETRAJ.NTWX = 100\n",
    "grom_system.imd.WRITETRAJ.NTWE = 100\n",
    "grom_system.prepare_for_simulation()"
   ]
  },
  {
   "cell_type": "code",
   "execution_count": 4,
   "metadata": {
    "execution": {
     "iopub.execute_input": "2022-04-04T16:00:18.313730Z",
     "iopub.status.busy": "2022-04-04T16:00:18.313237Z",
     "iopub.status.idle": "2022-04-04T16:00:18.323752Z",
     "shell.execute_reply": "2022-04-04T16:00:18.323279Z"
    }
   },
   "outputs": [
    {
     "data": {
      "text/plain": [
       "'/home/runner/work/PyGromosTools/PyGromosTools/examples/example_files/SD_Simulation/test.obj'"
      ]
     },
     "execution_count": 4,
     "metadata": {},
     "output_type": "execute_result"
    }
   ],
   "source": [
    "\n",
    "grom_system.save(root_dir+\"/test.obj\", safe=False)"
   ]
  },
  {
   "cell_type": "code",
   "execution_count": 5,
   "metadata": {
    "execution": {
     "iopub.execute_input": "2022-04-04T16:00:18.326229Z",
     "iopub.status.busy": "2022-04-04T16:00:18.325843Z",
     "iopub.status.idle": "2022-04-04T16:00:18.345536Z",
     "shell.execute_reply": "2022-04-04T16:00:18.345060Z"
    }
   },
   "outputs": [],
   "source": [
    "grom_system = Gromos_System.load(root_dir+\"/test.obj\")"
   ]
  },
  {
   "cell_type": "code",
   "execution_count": 6,
   "metadata": {
    "execution": {
     "iopub.execute_input": "2022-04-04T16:00:18.348661Z",
     "iopub.status.busy": "2022-04-04T16:00:18.348190Z",
     "iopub.status.idle": "2022-04-04T16:00:18.352253Z",
     "shell.execute_reply": "2022-04-04T16:00:18.351724Z"
    }
   },
   "outputs": [
    {
     "data": {
      "text/plain": [
       "{'names': ['6J29'], 'number': 1, 'positions': [1], 'number_of_atoms': 27}"
      ]
     },
     "execution_count": 6,
     "metadata": {},
     "output_type": "execute_result"
    }
   ],
   "source": [
    "grom_system.solute_info._asdict()"
   ]
  },
  {
   "cell_type": "code",
   "execution_count": 7,
   "metadata": {
    "execution": {
     "iopub.execute_input": "2022-04-04T16:00:18.355303Z",
     "iopub.status.busy": "2022-04-04T16:00:18.354907Z",
     "iopub.status.idle": "2022-04-04T16:00:18.808433Z",
     "shell.execute_reply": "2022-04-04T16:00:18.807817Z"
    }
   },
   "outputs": [
    {
     "ename": "AttributeError",
     "evalue": "'Cnf' object has no attribute 'visualize'",
     "output_type": "error",
     "traceback": [
      "\u001b[0;31m---------------------------------------------------------------------------\u001b[0m",
      "\u001b[0;31mAttributeError\u001b[0m                            Traceback (most recent call last)",
      "Input \u001b[0;32mIn [7]\u001b[0m, in \u001b[0;36m<cell line: 1>\u001b[0;34m()\u001b[0m\n\u001b[0;32m----> 1\u001b[0m \u001b[43mgrom_system\u001b[49m\u001b[38;5;241;43m.\u001b[39;49m\u001b[43mcnf\u001b[49m\u001b[38;5;241;43m.\u001b[39;49m\u001b[43mvisualize\u001b[49m()\n",
      "\u001b[0;31mAttributeError\u001b[0m: 'Cnf' object has no attribute 'visualize'"
     ]
    }
   ],
   "source": [
    "grom_system.cnf.visualize()"
   ]
  },
  {
   "cell_type": "code",
   "execution_count": 8,
   "metadata": {
    "execution": {
     "iopub.execute_input": "2022-04-04T16:00:18.811561Z",
     "iopub.status.busy": "2022-04-04T16:00:18.811083Z",
     "iopub.status.idle": "2022-04-04T16:00:20.600837Z",
     "shell.execute_reply": "2022-04-04T16:00:20.600032Z"
    }
   },
   "outputs": [
    {
     "name": "stdout",
     "output_type": "stream",
     "text": [
      "################################################################################\n",
      "\n",
      "a_vacuum_emin\n",
      "################################################################################\n",
      "\n",
      "Script:  /home/runner/work/PyGromosTools/PyGromosTools/pygromos/simulations/hpc_queuing/job_scheduling/schedulers/simulation_scheduler.py\n",
      "\n",
      "################################################################################\n",
      "Simulation Setup:\n",
      "################################################################################\n",
      "\n",
      "steps_per_run:  3000\n",
      "equis:  0\n",
      "simulation runs:  1\n"
     ]
    },
    {
     "name": "stdout",
     "output_type": "stream",
     "text": [
      "#####################################################################################\n",
      "\t\tERROR in Submission\n",
      "#####################################################################################\n"
     ]
    },
    {
     "name": "stderr",
     "output_type": "stream",
     "text": [
      "Traceback (most recent call last):\n",
      "  File \"/home/runner/work/PyGromosTools/PyGromosTools/pygromos/simulations/hpc_queuing/submission_systems/local.py\", line 71, in submit_to_queue\n",
      "    process = bash.execute(command=command, catch_STD=True, env=self.environment)\n",
      "  File \"/home/runner/work/PyGromosTools/PyGromosTools/pygromos/utils/bash.py\", line 935, in execute\n",
      "    return execute_subprocess(command=command, verbose=verbose, catch_STD=catch_STD, env=env)\n",
      "  File \"/home/runner/work/PyGromosTools/PyGromosTools/pygromos/utils/bash.py\", line 829, in execute_subprocess\n",
      "    raise ChildProcessError(msg)\n",
      "ChildProcessError: SubProcess Failed due to returncode: 1\n",
      " COMMAND: \n",
      "\t/home/runner/work/PyGromosTools/PyGromosTools/examples/example_files/SD_Simulation/SD_input/a_vacuum_emin/simulation/a_vacuum_emin_1/job_a_vacuum_emin_1.sh\n",
      "STDOUT:\n",
      "\tb'Could not find TMPDIR!\\n'\n",
      "\tb' Switched to outdir for work\\n'\n",
      "\tb'workDIR: /home/runner/work/PyGromosTools/PyGromosTools/examples/example_files/SD_Simulation/SD_input/a_vacuum_emin/simulation/a_vacuum_emin_1\\n'\n",
      "\tb\"input:  <class 'str'> None\\n\"\n",
      "\tb\"gromosXX._bin:  <class 'str'> \\n\"\n",
      "\tb\"gromosXX.bin:  <class 'NoneType'> None\\n\"\n",
      "\tb'________________________________________\\n'\n",
      "\tb'\\n'\n",
      "\tb' start MD a_vacuum_emin_1.imd\\n'\n",
      "\tb'\\n'\n",
      "\tb'COMMAND:  export OMP_NUM_THREADS=1  &&  md @topo /home/runner/work/PyGromosTools/PyGromosTools/examples/example_files/SD_Simulation/SD_input/a_vacuum_emin/input/a_vacuum_emin.top @conf /home/runner/work/PyGromosTools/PyGromosTools/examples/example_files/SD_Simulation/SD_input/a_vacuum_emin/input/a_vacuum_emin.cnf @input /home/runner/work/PyGromosTools/PyGromosTools/examples/example_files/SD_Simulation/SD_input/a_vacuum_emin/simulation/a_vacuum_emin_1/a_vacuum_emin_1.imd @fin a_vacuum_emin_1.cnf @trc a_vacuum_emin_1.trc @tre a_vacuum_emin_1.tre > a_vacuum_emin_1.omd\\n'\n",
      "\tb'\\n'\n",
      "\tb'Failed! process returned: \\n'\n",
      "\tb' Err: \\n'\n",
      "\tb'SubProcess Failed due to returncode: 127\\n'\n",
      "\tb' COMMAND: \\n'\n",
      "\tb'\\texport OMP_NUM_THREADS=1  &&  md @topo /home/runner/work/PyGromosTools/PyGromosTools/examples/example_files/SD_Simulation/SD_input/a_vacuum_emin/input/a_vacuum_emin.top @conf /home/runner/work/PyGromosTools/PyGromosTools/examples/example_files/SD_Simulation/SD_input/a_vacuum_emin/input/a_vacuum_emin.cnf @input /home/runner/work/PyGromosTools/PyGromosTools/examples/example_files/SD_Simulation/SD_input/a_vacuum_emin/simulation/a_vacuum_emin_1/a_vacuum_emin_1.imd @fin a_vacuum_emin_1.cnf @trc a_vacuum_emin_1.trc @tre a_vacuum_emin_1.tre > a_vacuum_emin_1.omd\\n'\n",
      "\tb'\\n'\n",
      "\tb'STDOUT:\\n'\n",
      "\tb'\\t\\n'\n",
      "\tb'STDERR:\\n'\n",
      "\tb\"\\tb'/bin/sh: 1: md: not found\\\\n'\\n\"\n",
      "\tb'GROMOS OUTPUT:\\n'\n",
      "STDERR:\n",
      "\tb'Traceback (most recent call last):\\n'\n",
      "\tb'  File \"/home/runner/work/PyGromosTools/PyGromosTools/pygromos/simulations/hpc_queuing/job_scheduling/workers/simulation_workers/simulation_run_worker.py\", line 202, in work\\n'\n",
      "\tb'    omd_file_path = gromosXX.md_run(\\n'\n",
      "\tb'  File \"/home/runner/work/PyGromosTools/PyGromosTools/pygromos/gromos/_gromosClass.py\", line 78, in convert_pyGromos_types\\n'\n",
      "\tb'    return func(self, *nargs, **kwargs)\\n'\n",
      "\tb'  File \"/home/runner/work/PyGromosTools/PyGromosTools/pygromos/gromos/gromosXX.py\", line 215, in md_run\\n'\n",
      "\tb'    process = bash.execute(command_text)\\n'\n",
      "\tb'  File \"/home/runner/work/PyGromosTools/PyGromosTools/pygromos/utils/bash.py\", line 935, in execute\\n'\n",
      "\tb'    return execute_subprocess(command=command, verbose=verbose, catch_STD=catch_STD, env=env)\\n'\n",
      "\tb'  File \"/home/runner/work/PyGromosTools/PyGromosTools/pygromos/utils/bash.py\", line 829, in execute_subprocess\\n'\n",
      "\tb'    raise ChildProcessError(msg)\\n'\n",
      "\tb'ChildProcessError: SubProcess Failed due to returncode: 127\\n'\n",
      "\tb' COMMAND: \\n'\n",
      "\tb'\\texport OMP_NUM_THREADS=1  &&  md @topo /home/runner/work/PyGromosTools/PyGromosTools/examples/example_files/SD_Simulation/SD_input/a_vacuum_emin/input/a_vacuum_emin.top @conf /home/runner/work/PyGromosTools/PyGromosTools/examples/example_files/SD_Simulation/SD_input/a_vacuum_emin/input/a_vacuum_emin.cnf @input /home/runner/work/PyGromosTools/PyGromosTools/examples/example_files/SD_Simulation/SD_input/a_vacuum_emin/simulation/a_vacuum_emin_1/a_vacuum_emin_1.imd @fin a_vacuum_emin_1.cnf @trc a_vacuum_emin_1.trc @tre a_vacuum_emin_1.tre > a_vacuum_emin_1.omd\\n'\n",
      "\tb'\\n'\n",
      "\tb'STDOUT:\\n'\n",
      "\tb'\\t\\n'\n",
      "\tb'STDERR:\\n'\n",
      "\tb\"\\tb'/bin/sh: 1: md: not found\\\\n'\\n\"\n",
      "\tb'\\n'\n",
      "\tb'Failed during simulations: \\n'\n",
      "\tb\"<class 'ChildProcessError'>\\n\"\n",
      "\tb'(\"SubProcess Failed due to returncode: 127\\\\n COMMAND: \\\\n\\\\texport OMP_NUM_THREADS=1  &&  md @topo /home/runner/work/PyGromosTools/PyGromosTools/examples/example_files/SD_Simulation/SD_input/a_vacuum_emin/input/a_vacuum_emin.top @conf /home/runner/work/PyGromosTools/PyGromosTools/examples/example_files/SD_Simulation/SD_input/a_vacuum_emin/input/a_vacuum_emin.cnf @input /home/runner/work/PyGromosTools/PyGromosTools/examples/example_files/SD_Simulation/SD_input/a_vacuum_emin/simulation/a_vacuum_emin_1/a_vacuum_emin_1.imd @fin a_vacuum_emin_1.cnf @trc a_vacuum_emin_1.trc @tre a_vacuum_emin_1.tre > a_vacuum_emin_1.omd\\\\n\\\\nSTDOUT:\\\\n\\\\t\\\\nSTDERR:\\\\n\\\\tb\\'/bin/sh: 1: md: not found\\\\\\\\n\\'\",)\\n'\n",
      "\n",
      "During handling of the above exception, another exception occurred:\n",
      "\n",
      "Traceback (most recent call last):\n",
      "  File \"/home/runner/work/PyGromosTools/PyGromosTools/pygromos/simulations/hpc_queuing/job_scheduling/schedulers/simulation_scheduler.py\", line 188, in do\n",
      "    previous_job_ID, tmp_jobname, in_simSystem = chain_submission(\n",
      "  File \"/home/runner/work/PyGromosTools/PyGromosTools/pygromos/simulations/hpc_queuing/job_scheduling/schedulers/scheduler_functions.py\", line 308, in chain_submission\n",
      "    previous_job_ID = job_submission_system.submit_to_queue(sub_job)\n",
      "  File \"/home/runner/work/PyGromosTools/PyGromosTools/pygromos/simulations/hpc_queuing/submission_systems/local.py\", line 84, in submit_to_queue\n",
      "    print(process)\n",
      "UnboundLocalError: local variable 'process' referenced before assignment\n",
      "Traceback (most recent call last):\n",
      "  File \"/home/runner/work/PyGromosTools/PyGromosTools/pygromos/simulations/hpc_queuing/submission_systems/local.py\", line 71, in submit_to_queue\n",
      "    process = bash.execute(command=command, catch_STD=True, env=self.environment)\n",
      "  File \"/home/runner/work/PyGromosTools/PyGromosTools/pygromos/utils/bash.py\", line 935, in execute\n",
      "    return execute_subprocess(command=command, verbose=verbose, catch_STD=catch_STD, env=env)\n",
      "  File \"/home/runner/work/PyGromosTools/PyGromosTools/pygromos/utils/bash.py\", line 829, in execute_subprocess\n",
      "    raise ChildProcessError(msg)\n",
      "ChildProcessError: SubProcess Failed due to returncode: 1\n",
      " COMMAND: \n",
      "\t/home/runner/work/PyGromosTools/PyGromosTools/examples/example_files/SD_Simulation/SD_input/a_vacuum_emin/simulation/a_vacuum_emin_1/job_a_vacuum_emin_1.sh\n",
      "STDOUT:\n",
      "\tb'Could not find TMPDIR!\\n'\n",
      "\tb' Switched to outdir for work\\n'\n",
      "\tb'workDIR: /home/runner/work/PyGromosTools/PyGromosTools/examples/example_files/SD_Simulation/SD_input/a_vacuum_emin/simulation/a_vacuum_emin_1\\n'\n",
      "\tb\"input:  <class 'str'> None\\n\"\n",
      "\tb\"gromosXX._bin:  <class 'str'> \\n\"\n",
      "\tb\"gromosXX.bin:  <class 'NoneType'> None\\n\"\n",
      "\tb'________________________________________\\n'\n",
      "\tb'\\n'\n",
      "\tb' start MD a_vacuum_emin_1.imd\\n'\n",
      "\tb'\\n'\n",
      "\tb'COMMAND:  export OMP_NUM_THREADS=1  &&  md @topo /home/runner/work/PyGromosTools/PyGromosTools/examples/example_files/SD_Simulation/SD_input/a_vacuum_emin/input/a_vacuum_emin.top @conf /home/runner/work/PyGromosTools/PyGromosTools/examples/example_files/SD_Simulation/SD_input/a_vacuum_emin/input/a_vacuum_emin.cnf @input /home/runner/work/PyGromosTools/PyGromosTools/examples/example_files/SD_Simulation/SD_input/a_vacuum_emin/simulation/a_vacuum_emin_1/a_vacuum_emin_1.imd @fin a_vacuum_emin_1.cnf @trc a_vacuum_emin_1.trc @tre a_vacuum_emin_1.tre > a_vacuum_emin_1.omd\\n'\n",
      "\tb'\\n'\n",
      "\tb'Failed! process returned: \\n'\n",
      "\tb' Err: \\n'\n",
      "\tb'SubProcess Failed due to returncode: 127\\n'\n",
      "\tb' COMMAND: \\n'\n",
      "\tb'\\texport OMP_NUM_THREADS=1  &&  md @topo /home/runner/work/PyGromosTools/PyGromosTools/examples/example_files/SD_Simulation/SD_input/a_vacuum_emin/input/a_vacuum_emin.top @conf /home/runner/work/PyGromosTools/PyGromosTools/examples/example_files/SD_Simulation/SD_input/a_vacuum_emin/input/a_vacuum_emin.cnf @input /home/runner/work/PyGromosTools/PyGromosTools/examples/example_files/SD_Simulation/SD_input/a_vacuum_emin/simulation/a_vacuum_emin_1/a_vacuum_emin_1.imd @fin a_vacuum_emin_1.cnf @trc a_vacuum_emin_1.trc @tre a_vacuum_emin_1.tre > a_vacuum_emin_1.omd\\n'\n",
      "\tb'\\n'\n",
      "\tb'STDOUT:\\n'\n",
      "\tb'\\t\\n'\n",
      "\tb'STDERR:\\n'\n",
      "\tb\"\\tb'/bin/sh: 1: md: not found\\\\n'\\n\"\n",
      "\tb'GROMOS OUTPUT:\\n'\n",
      "STDERR:\n",
      "\tb'Traceback (most recent call last):\\n'\n",
      "\tb'  File \"/home/runner/work/PyGromosTools/PyGromosTools/pygromos/simulations/hpc_queuing/job_scheduling/workers/simulation_workers/simulation_run_worker.py\", line 202, in work\\n'\n",
      "\tb'    omd_file_path = gromosXX.md_run(\\n'\n",
      "\tb'  File \"/home/runner/work/PyGromosTools/PyGromosTools/pygromos/gromos/_gromosClass.py\", line 78, in convert_pyGromos_types\\n'\n",
      "\tb'    return func(self, *nargs, **kwargs)\\n'\n",
      "\tb'  File \"/home/runner/work/PyGromosTools/PyGromosTools/pygromos/gromos/gromosXX.py\", line 215, in md_run\\n'\n",
      "\tb'    process = bash.execute(command_text)\\n'\n",
      "\tb'  File \"/home/runner/work/PyGromosTools/PyGromosTools/pygromos/utils/bash.py\", line 935, in execute\\n'\n",
      "\tb'    return execute_subprocess(command=command, verbose=verbose, catch_STD=catch_STD, env=env)\\n'\n",
      "\tb'  File \"/home/runner/work/PyGromosTools/PyGromosTools/pygromos/utils/bash.py\", line 829, in execute_subprocess\\n'\n",
      "\tb'    raise ChildProcessError(msg)\\n'\n",
      "\tb'ChildProcessError: SubProcess Failed due to returncode: 127\\n'\n",
      "\tb' COMMAND: \\n'\n",
      "\tb'\\texport OMP_NUM_THREADS=1  &&  md @topo /home/runner/work/PyGromosTools/PyGromosTools/examples/example_files/SD_Simulation/SD_input/a_vacuum_emin/input/a_vacuum_emin.top @conf /home/runner/work/PyGromosTools/PyGromosTools/examples/example_files/SD_Simulation/SD_input/a_vacuum_emin/input/a_vacuum_emin.cnf @input /home/runner/work/PyGromosTools/PyGromosTools/examples/example_files/SD_Simulation/SD_input/a_vacuum_emin/simulation/a_vacuum_emin_1/a_vacuum_emin_1.imd @fin a_vacuum_emin_1.cnf @trc a_vacuum_emin_1.trc @tre a_vacuum_emin_1.tre > a_vacuum_emin_1.omd\\n'\n",
      "\tb'\\n'\n",
      "\tb'STDOUT:\\n'\n",
      "\tb'\\t\\n'\n",
      "\tb'STDERR:\\n'\n",
      "\tb\"\\tb'/bin/sh: 1: md: not found\\\\n'\\n\"\n",
      "\tb'\\n'\n",
      "\tb'Failed during simulations: \\n'\n",
      "\tb\"<class 'ChildProcessError'>\\n\"\n",
      "\tb'(\"SubProcess Failed due to returncode: 127\\\\n COMMAND: \\\\n\\\\texport OMP_NUM_THREADS=1  &&  md @topo /home/runner/work/PyGromosTools/PyGromosTools/examples/example_files/SD_Simulation/SD_input/a_vacuum_emin/input/a_vacuum_emin.top @conf /home/runner/work/PyGromosTools/PyGromosTools/examples/example_files/SD_Simulation/SD_input/a_vacuum_emin/input/a_vacuum_emin.cnf @input /home/runner/work/PyGromosTools/PyGromosTools/examples/example_files/SD_Simulation/SD_input/a_vacuum_emin/simulation/a_vacuum_emin_1/a_vacuum_emin_1.imd @fin a_vacuum_emin_1.cnf @trc a_vacuum_emin_1.trc @tre a_vacuum_emin_1.tre > a_vacuum_emin_1.omd\\\\n\\\\nSTDOUT:\\\\n\\\\t\\\\nSTDERR:\\\\n\\\\tb\\'/bin/sh: 1: md: not found\\\\\\\\n\\'\",)\\n'\n",
      "\n",
      "During handling of the above exception, another exception occurred:\n",
      "\n",
      "Traceback (most recent call last):\n",
      "  File \"/home/runner/work/PyGromosTools/PyGromosTools/pygromos/simulations/hpc_queuing/job_scheduling/schedulers/simulation_scheduler.py\", line 188, in do\n",
      "    previous_job_ID, tmp_jobname, in_simSystem = chain_submission(\n",
      "  File \"/home/runner/work/PyGromosTools/PyGromosTools/pygromos/simulations/hpc_queuing/job_scheduling/schedulers/scheduler_functions.py\", line 308, in chain_submission\n",
      "    previous_job_ID = job_submission_system.submit_to_queue(sub_job)\n",
      "  File \"/home/runner/work/PyGromosTools/PyGromosTools/pygromos/simulations/hpc_queuing/submission_systems/local.py\", line 84, in submit_to_queue\n",
      "    print(process)\n",
      "UnboundLocalError: local variable 'process' referenced before assignment\n",
      "\n",
      "The above exception was the direct cause of the following exception:\n",
      "\n",
      "Traceback (most recent call last):\n",
      "  File \"/home/runner/work/PyGromosTools/PyGromosTools/pygromos/simulations/modules/general_simulation_modules.py\", line 208, in simulation\n",
      "    last_jobID = simulation_scheduler.do(**MD_job_vars)\n",
      "  File \"/home/runner/work/PyGromosTools/PyGromosTools/pygromos/simulations/hpc_queuing/job_scheduling/schedulers/simulation_scheduler.py\", line 234, in do\n",
      "    raise IOError(\"ERROR in SUBMISSION!\") from err\n",
      "OSError: ERROR in SUBMISSION!\n"
     ]
    },
    {
     "ename": "Exception",
     "evalue": "Could not submit the commands\n\tERROR in SUBMISSION!",
     "output_type": "error",
     "traceback": [
      "\u001b[0;31m---------------------------------------------------------------------------\u001b[0m",
      "\u001b[0;31mChildProcessError\u001b[0m                         Traceback (most recent call last)",
      "File \u001b[0;32m~/work/PyGromosTools/PyGromosTools/pygromos/simulations/hpc_queuing/submission_systems/local.py:71\u001b[0m, in \u001b[0;36mLOCAL.submit_to_queue\u001b[0;34m(self, sub_job)\u001b[0m\n\u001b[1;32m     70\u001b[0m \u001b[38;5;28;01mtry\u001b[39;00m:\n\u001b[0;32m---> 71\u001b[0m     process \u001b[38;5;241m=\u001b[39m \u001b[43mbash\u001b[49m\u001b[38;5;241;43m.\u001b[39;49m\u001b[43mexecute\u001b[49m\u001b[43m(\u001b[49m\u001b[43mcommand\u001b[49m\u001b[38;5;241;43m=\u001b[39;49m\u001b[43mcommand\u001b[49m\u001b[43m,\u001b[49m\u001b[43m \u001b[49m\u001b[43mcatch_STD\u001b[49m\u001b[38;5;241;43m=\u001b[39;49m\u001b[38;5;28;43;01mTrue\u001b[39;49;00m\u001b[43m,\u001b[49m\u001b[43m \u001b[49m\u001b[43menv\u001b[49m\u001b[38;5;241;43m=\u001b[39;49m\u001b[38;5;28;43mself\u001b[39;49m\u001b[38;5;241;43m.\u001b[39;49m\u001b[43menvironment\u001b[49m\u001b[43m)\u001b[49m\n\u001b[1;32m     72\u001b[0m     std_out_buff \u001b[38;5;241m=\u001b[39m \u001b[38;5;28mmap\u001b[39m(\u001b[38;5;28mstr\u001b[39m, process\u001b[38;5;241m.\u001b[39mstdout\u001b[38;5;241m.\u001b[39mreadlines())\n",
      "File \u001b[0;32m~/work/PyGromosTools/PyGromosTools/pygromos/utils/bash.py:935\u001b[0m, in \u001b[0;36mexecute\u001b[0;34m(command, verbose, catch_STD, env)\u001b[0m\n\u001b[1;32m    932\u001b[0m \u001b[38;5;28;01mdef\u001b[39;00m \u001b[38;5;21mexecute\u001b[39m(\n\u001b[1;32m    933\u001b[0m     command: Union[\u001b[38;5;28mstr\u001b[39m, List[\u001b[38;5;28mstr\u001b[39m]], verbose: \u001b[38;5;28mbool\u001b[39m \u001b[38;5;241m=\u001b[39m \u001b[38;5;28;01mFalse\u001b[39;00m, catch_STD: Union[\u001b[38;5;28mbool\u001b[39m, \u001b[38;5;28mstr\u001b[39m] \u001b[38;5;241m=\u001b[39m \u001b[38;5;28;01mFalse\u001b[39;00m, env: \u001b[38;5;28mdict\u001b[39m \u001b[38;5;241m=\u001b[39m \u001b[38;5;28;01mNone\u001b[39;00m\n\u001b[1;32m    934\u001b[0m ):\n\u001b[0;32m--> 935\u001b[0m     \u001b[38;5;28;01mreturn\u001b[39;00m \u001b[43mexecute_subprocess\u001b[49m\u001b[43m(\u001b[49m\u001b[43mcommand\u001b[49m\u001b[38;5;241;43m=\u001b[39;49m\u001b[43mcommand\u001b[49m\u001b[43m,\u001b[49m\u001b[43m \u001b[49m\u001b[43mverbose\u001b[49m\u001b[38;5;241;43m=\u001b[39;49m\u001b[43mverbose\u001b[49m\u001b[43m,\u001b[49m\u001b[43m \u001b[49m\u001b[43mcatch_STD\u001b[49m\u001b[38;5;241;43m=\u001b[39;49m\u001b[43mcatch_STD\u001b[49m\u001b[43m,\u001b[49m\u001b[43m \u001b[49m\u001b[43menv\u001b[49m\u001b[38;5;241;43m=\u001b[39;49m\u001b[43menv\u001b[49m\u001b[43m)\u001b[49m\n",
      "File \u001b[0;32m~/work/PyGromosTools/PyGromosTools/pygromos/utils/bash.py:829\u001b[0m, in \u001b[0;36mexecute_subprocess\u001b[0;34m(command, catch_STD, env, verbose)\u001b[0m\n\u001b[1;32m    828\u001b[0m     msg \u001b[38;5;241m+\u001b[39m\u001b[38;5;241m=\u001b[39m \u001b[38;5;124m\"\u001b[39m\u001b[38;5;124mNONE\u001b[39m\u001b[38;5;124m\"\u001b[39m \u001b[38;5;28;01mif\u001b[39;00m (p\u001b[38;5;241m.\u001b[39mstdout \u001b[38;5;129;01mis\u001b[39;00m \u001b[38;5;28;01mNone\u001b[39;00m) \u001b[38;5;28;01melse\u001b[39;00m \u001b[38;5;124m\"\u001b[39m\u001b[38;5;130;01m\\n\u001b[39;00m\u001b[38;5;130;01m\\t\u001b[39;00m\u001b[38;5;124m\"\u001b[39m\u001b[38;5;241m.\u001b[39mjoin(\u001b[38;5;28mmap\u001b[39m(\u001b[38;5;28mstr\u001b[39m, p\u001b[38;5;241m.\u001b[39mstderr\u001b[38;5;241m.\u001b[39mreadlines()))\n\u001b[0;32m--> 829\u001b[0m     \u001b[38;5;28;01mraise\u001b[39;00m \u001b[38;5;167;01mChildProcessError\u001b[39;00m(msg)\n\u001b[1;32m    830\u001b[0m \u001b[38;5;28;01mif\u001b[39;00m verbose:\n",
      "\u001b[0;31mChildProcessError\u001b[0m: SubProcess Failed due to returncode: 1\n COMMAND: \n\t/home/runner/work/PyGromosTools/PyGromosTools/examples/example_files/SD_Simulation/SD_input/a_vacuum_emin/simulation/a_vacuum_emin_1/job_a_vacuum_emin_1.sh\nSTDOUT:\n\tb'Could not find TMPDIR!\\n'\n\tb' Switched to outdir for work\\n'\n\tb'workDIR: /home/runner/work/PyGromosTools/PyGromosTools/examples/example_files/SD_Simulation/SD_input/a_vacuum_emin/simulation/a_vacuum_emin_1\\n'\n\tb\"input:  <class 'str'> None\\n\"\n\tb\"gromosXX._bin:  <class 'str'> \\n\"\n\tb\"gromosXX.bin:  <class 'NoneType'> None\\n\"\n\tb'________________________________________\\n'\n\tb'\\n'\n\tb' start MD a_vacuum_emin_1.imd\\n'\n\tb'\\n'\n\tb'COMMAND:  export OMP_NUM_THREADS=1  &&  md @topo /home/runner/work/PyGromosTools/PyGromosTools/examples/example_files/SD_Simulation/SD_input/a_vacuum_emin/input/a_vacuum_emin.top @conf /home/runner/work/PyGromosTools/PyGromosTools/examples/example_files/SD_Simulation/SD_input/a_vacuum_emin/input/a_vacuum_emin.cnf @input /home/runner/work/PyGromosTools/PyGromosTools/examples/example_files/SD_Simulation/SD_input/a_vacuum_emin/simulation/a_vacuum_emin_1/a_vacuum_emin_1.imd @fin a_vacuum_emin_1.cnf @trc a_vacuum_emin_1.trc @tre a_vacuum_emin_1.tre > a_vacuum_emin_1.omd\\n'\n\tb'\\n'\n\tb'Failed! process returned: \\n'\n\tb' Err: \\n'\n\tb'SubProcess Failed due to returncode: 127\\n'\n\tb' COMMAND: \\n'\n\tb'\\texport OMP_NUM_THREADS=1  &&  md @topo /home/runner/work/PyGromosTools/PyGromosTools/examples/example_files/SD_Simulation/SD_input/a_vacuum_emin/input/a_vacuum_emin.top @conf /home/runner/work/PyGromosTools/PyGromosTools/examples/example_files/SD_Simulation/SD_input/a_vacuum_emin/input/a_vacuum_emin.cnf @input /home/runner/work/PyGromosTools/PyGromosTools/examples/example_files/SD_Simulation/SD_input/a_vacuum_emin/simulation/a_vacuum_emin_1/a_vacuum_emin_1.imd @fin a_vacuum_emin_1.cnf @trc a_vacuum_emin_1.trc @tre a_vacuum_emin_1.tre > a_vacuum_emin_1.omd\\n'\n\tb'\\n'\n\tb'STDOUT:\\n'\n\tb'\\t\\n'\n\tb'STDERR:\\n'\n\tb\"\\tb'/bin/sh: 1: md: not found\\\\n'\\n\"\n\tb'GROMOS OUTPUT:\\n'\nSTDERR:\n\tb'Traceback (most recent call last):\\n'\n\tb'  File \"/home/runner/work/PyGromosTools/PyGromosTools/pygromos/simulations/hpc_queuing/job_scheduling/workers/simulation_workers/simulation_run_worker.py\", line 202, in work\\n'\n\tb'    omd_file_path = gromosXX.md_run(\\n'\n\tb'  File \"/home/runner/work/PyGromosTools/PyGromosTools/pygromos/gromos/_gromosClass.py\", line 78, in convert_pyGromos_types\\n'\n\tb'    return func(self, *nargs, **kwargs)\\n'\n\tb'  File \"/home/runner/work/PyGromosTools/PyGromosTools/pygromos/gromos/gromosXX.py\", line 215, in md_run\\n'\n\tb'    process = bash.execute(command_text)\\n'\n\tb'  File \"/home/runner/work/PyGromosTools/PyGromosTools/pygromos/utils/bash.py\", line 935, in execute\\n'\n\tb'    return execute_subprocess(command=command, verbose=verbose, catch_STD=catch_STD, env=env)\\n'\n\tb'  File \"/home/runner/work/PyGromosTools/PyGromosTools/pygromos/utils/bash.py\", line 829, in execute_subprocess\\n'\n\tb'    raise ChildProcessError(msg)\\n'\n\tb'ChildProcessError: SubProcess Failed due to returncode: 127\\n'\n\tb' COMMAND: \\n'\n\tb'\\texport OMP_NUM_THREADS=1  &&  md @topo /home/runner/work/PyGromosTools/PyGromosTools/examples/example_files/SD_Simulation/SD_input/a_vacuum_emin/input/a_vacuum_emin.top @conf /home/runner/work/PyGromosTools/PyGromosTools/examples/example_files/SD_Simulation/SD_input/a_vacuum_emin/input/a_vacuum_emin.cnf @input /home/runner/work/PyGromosTools/PyGromosTools/examples/example_files/SD_Simulation/SD_input/a_vacuum_emin/simulation/a_vacuum_emin_1/a_vacuum_emin_1.imd @fin a_vacuum_emin_1.cnf @trc a_vacuum_emin_1.trc @tre a_vacuum_emin_1.tre > a_vacuum_emin_1.omd\\n'\n\tb'\\n'\n\tb'STDOUT:\\n'\n\tb'\\t\\n'\n\tb'STDERR:\\n'\n\tb\"\\tb'/bin/sh: 1: md: not found\\\\n'\\n\"\n\tb'\\n'\n\tb'Failed during simulations: \\n'\n\tb\"<class 'ChildProcessError'>\\n\"\n\tb'(\"SubProcess Failed due to returncode: 127\\\\n COMMAND: \\\\n\\\\texport OMP_NUM_THREADS=1  &&  md @topo /home/runner/work/PyGromosTools/PyGromosTools/examples/example_files/SD_Simulation/SD_input/a_vacuum_emin/input/a_vacuum_emin.top @conf /home/runner/work/PyGromosTools/PyGromosTools/examples/example_files/SD_Simulation/SD_input/a_vacuum_emin/input/a_vacuum_emin.cnf @input /home/runner/work/PyGromosTools/PyGromosTools/examples/example_files/SD_Simulation/SD_input/a_vacuum_emin/simulation/a_vacuum_emin_1/a_vacuum_emin_1.imd @fin a_vacuum_emin_1.cnf @trc a_vacuum_emin_1.trc @tre a_vacuum_emin_1.tre > a_vacuum_emin_1.omd\\\\n\\\\nSTDOUT:\\\\n\\\\t\\\\nSTDERR:\\\\n\\\\tb\\'/bin/sh: 1: md: not found\\\\\\\\n\\'\",)\\n'",
      "\nDuring handling of the above exception, another exception occurred:\n",
      "\u001b[0;31mUnboundLocalError\u001b[0m                         Traceback (most recent call last)",
      "File \u001b[0;32m~/work/PyGromosTools/PyGromosTools/pygromos/simulations/hpc_queuing/job_scheduling/schedulers/simulation_scheduler.py:188\u001b[0m, in \u001b[0;36mdo\u001b[0;34m(in_simSystem, out_dir_path, simulation_run_num, equilibration_run_num, initialize_first_run, reinitialize_every_run, analysis_script_path, submission_system, previous_job_ID, _no_double_submit_check, _work_dir, verbose, verbose_lvl)\u001b[0m\n\u001b[1;32m    187\u001b[0m previous_job_ID \u001b[38;5;241m=\u001b[39m previous_job_ID \u001b[38;5;28;01mif\u001b[39;00m (eq_job_id \u001b[38;5;129;01mis\u001b[39;00m \u001b[38;5;28;01mNone\u001b[39;00m) \u001b[38;5;28;01melse\u001b[39;00m eq_job_id\n\u001b[0;32m--> 188\u001b[0m previous_job_ID, tmp_jobname, in_simSystem \u001b[38;5;241m=\u001b[39m \u001b[43mchain_submission\u001b[49m\u001b[43m(\u001b[49m\n\u001b[1;32m    189\u001b[0m \u001b[43m    \u001b[49m\u001b[43msimSystem\u001b[49m\u001b[38;5;241;43m=\u001b[39;49m\u001b[43min_simSystem\u001b[49m\u001b[43m,\u001b[49m\n\u001b[1;32m    190\u001b[0m \u001b[43m    \u001b[49m\u001b[43mout_dir_path\u001b[49m\u001b[38;5;241;43m=\u001b[39;49m\u001b[43mout_dir_path\u001b[49m\u001b[43m,\u001b[49m\n\u001b[1;32m    191\u001b[0m \u001b[43m    \u001b[49m\u001b[43mout_prefix\u001b[49m\u001b[38;5;241;43m=\u001b[39;49m\u001b[43mtmp_outprefix\u001b[49m\u001b[43m,\u001b[49m\n\u001b[1;32m    192\u001b[0m \u001b[43m    \u001b[49m\u001b[43mjobname\u001b[49m\u001b[38;5;241;43m=\u001b[39;49m\u001b[43mtmp_jobname\u001b[49m\u001b[43m,\u001b[49m\n\u001b[1;32m    193\u001b[0m \u001b[43m    \u001b[49m\u001b[43mchain_job_repetitions\u001b[49m\u001b[38;5;241;43m=\u001b[39;49m\u001b[43mequilibration_run_num\u001b[49m\u001b[43m \u001b[49m\u001b[38;5;241;43m+\u001b[39;49m\u001b[43m \u001b[49m\u001b[43msimulation_run_num\u001b[49m\u001b[43m,\u001b[49m\n\u001b[1;32m    194\u001b[0m \u001b[43m    \u001b[49m\u001b[43mstart_run_index\u001b[49m\u001b[38;5;241;43m=\u001b[39;49m\u001b[43mequilibration_run_num\u001b[49m\u001b[43m \u001b[49m\u001b[38;5;241;43m+\u001b[39;49m\u001b[43m \u001b[49m\u001b[38;5;241;43m1\u001b[39;49m\u001b[43m,\u001b[49m\n\u001b[1;32m    195\u001b[0m \u001b[43m    \u001b[49m\u001b[43mworker_script\u001b[49m\u001b[38;5;241;43m=\u001b[39;49m\u001b[43mworkerScript\u001b[49m\u001b[38;5;241;43m.\u001b[39;49m\u001b[38;5;18;43m__file__\u001b[39;49m\u001b[43m,\u001b[49m\n\u001b[1;32m    196\u001b[0m \u001b[43m    \u001b[49m\u001b[43mjob_submission_system\u001b[49m\u001b[38;5;241;43m=\u001b[39;49m\u001b[43msubmission_system\u001b[49m\u001b[43m,\u001b[49m\n\u001b[1;32m    197\u001b[0m \u001b[43m    \u001b[49m\u001b[43mprefix_command\u001b[49m\u001b[38;5;241;43m=\u001b[39;49m\u001b[38;5;124;43m\"\u001b[39;49m\u001b[38;5;124;43m\"\u001b[39;49m\u001b[43m,\u001b[49m\n\u001b[1;32m    198\u001b[0m \u001b[43m    \u001b[49m\u001b[43mprevious_job_ID\u001b[49m\u001b[38;5;241;43m=\u001b[39;49m\u001b[43mprevious_job_ID\u001b[49m\u001b[43m,\u001b[49m\n\u001b[1;32m    199\u001b[0m \u001b[43m    \u001b[49m\u001b[43mwork_dir\u001b[49m\u001b[38;5;241;43m=\u001b[39;49m\u001b[43m_work_dir\u001b[49m\u001b[43m,\u001b[49m\n\u001b[1;32m    200\u001b[0m \u001b[43m    \u001b[49m\u001b[43minitialize_first_run\u001b[49m\u001b[38;5;241;43m=\u001b[39;49m\u001b[43minitialize_first_run\u001b[49m\u001b[43m,\u001b[49m\n\u001b[1;32m    201\u001b[0m \u001b[43m    \u001b[49m\u001b[43mreinitialize_every_run\u001b[49m\u001b[38;5;241;43m=\u001b[39;49m\u001b[43mreinitialize_every_run\u001b[49m\u001b[43m,\u001b[49m\n\u001b[1;32m    202\u001b[0m \u001b[43m    \u001b[49m\u001b[43mverbose\u001b[49m\u001b[38;5;241;43m=\u001b[39;49m\u001b[43mjob_verb\u001b[49m\u001b[43m,\u001b[49m\n\u001b[1;32m    203\u001b[0m \u001b[43m\u001b[49m\u001b[43m)\u001b[49m\n\u001b[1;32m    205\u001b[0m ana_previous_job_ID \u001b[38;5;241m=\u001b[39m previous_job_ID\n",
      "File \u001b[0;32m~/work/PyGromosTools/PyGromosTools/pygromos/simulations/hpc_queuing/job_scheduling/schedulers/scheduler_functions.py:308\u001b[0m, in \u001b[0;36mchain_submission\u001b[0;34m(simSystem, out_dir_path, out_prefix, chain_job_repetitions, worker_script, job_submission_system, jobname, run_analysis_script_every_x_runs, in_analysis_script_path, start_run_index, prefix_command, previous_job_ID, work_dir, initialize_first_run, reinitialize_every_run, verbose, verbose_lvl)\u001b[0m\n\u001b[1;32m    299\u001b[0m sub_job \u001b[38;5;241m=\u001b[39m Submission_job(\n\u001b[1;32m    300\u001b[0m     command\u001b[38;5;241m=\u001b[39mmd_script_command,\n\u001b[1;32m    301\u001b[0m     jobName\u001b[38;5;241m=\u001b[39mtmp_jobname,\n\u001b[0;32m   (...)\u001b[0m\n\u001b[1;32m    306\u001b[0m     sumbit_from_file\u001b[38;5;241m=\u001b[39m\u001b[38;5;28;01mTrue\u001b[39;00m,\n\u001b[1;32m    307\u001b[0m )\n\u001b[0;32m--> 308\u001b[0m previous_job_ID \u001b[38;5;241m=\u001b[39m \u001b[43mjob_submission_system\u001b[49m\u001b[38;5;241;43m.\u001b[39;49m\u001b[43msubmit_to_queue\u001b[49m\u001b[43m(\u001b[49m\u001b[43msub_job\u001b[49m\u001b[43m)\u001b[49m\n\u001b[1;32m    309\u001b[0m \u001b[38;5;28;01mif\u001b[39;00m verbose:\n",
      "File \u001b[0;32m~/work/PyGromosTools/PyGromosTools/pygromos/simulations/hpc_queuing/submission_systems/local.py:84\u001b[0m, in \u001b[0;36mLOCAL.submit_to_queue\u001b[0;34m(self, sub_job)\u001b[0m\n\u001b[1;32m     83\u001b[0m \u001b[38;5;28;01mtry\u001b[39;00m:\n\u001b[0;32m---> 84\u001b[0m     \u001b[38;5;28mprint\u001b[39m(\u001b[43mprocess\u001b[49m)\n\u001b[1;32m     85\u001b[0m \u001b[38;5;28;01mexcept\u001b[39;00m \u001b[38;5;167;01mChildProcessError\u001b[39;00m:\n",
      "\u001b[0;31mUnboundLocalError\u001b[0m: local variable 'process' referenced before assignment",
      "\nThe above exception was the direct cause of the following exception:\n",
      "\u001b[0;31mOSError\u001b[0m                                   Traceback (most recent call last)",
      "File \u001b[0;32m~/work/PyGromosTools/PyGromosTools/pygromos/simulations/modules/general_simulation_modules.py:208\u001b[0m, in \u001b[0;36msimulation\u001b[0;34m(in_gromos_simulation_system, override_project_dir, step_name, in_imd_path, submission_system, simulation_runs, equilibration_runs, previous_simulation_run, force_simulation, initialize_first_run, reinitialize_every_run, analysis_script, analysis_control_dict, _no_double_submit_check, _work_dir, verbose, verbose_lvl, _template_imd_path)\u001b[0m\n\u001b[1;32m    207\u001b[0m     \u001b[38;5;28;01melse\u001b[39;00m:\n\u001b[0;32m--> 208\u001b[0m         last_jobID \u001b[38;5;241m=\u001b[39m \u001b[43msimulation_scheduler\u001b[49m\u001b[38;5;241;43m.\u001b[39;49m\u001b[43mdo\u001b[49m\u001b[43m(\u001b[49m\u001b[38;5;241;43m*\u001b[39;49m\u001b[38;5;241;43m*\u001b[39;49m\u001b[43mMD_job_vars\u001b[49m\u001b[43m)\u001b[49m\n\u001b[1;32m    209\u001b[0m \u001b[38;5;28;01mexcept\u001b[39;00m \u001b[38;5;167;01mException\u001b[39;00m \u001b[38;5;28;01mas\u001b[39;00m err:\n",
      "File \u001b[0;32m~/work/PyGromosTools/PyGromosTools/pygromos/simulations/hpc_queuing/job_scheduling/schedulers/simulation_scheduler.py:234\u001b[0m, in \u001b[0;36mdo\u001b[0;34m(in_simSystem, out_dir_path, simulation_run_num, equilibration_run_num, initialize_first_run, reinitialize_every_run, analysis_script_path, submission_system, previous_job_ID, _no_double_submit_check, _work_dir, verbose, verbose_lvl)\u001b[0m\n\u001b[1;32m    233\u001b[0m     traceback\u001b[38;5;241m.\u001b[39mprint_exception(\u001b[38;5;241m*\u001b[39msys\u001b[38;5;241m.\u001b[39mexc_info())\n\u001b[0;32m--> 234\u001b[0m     \u001b[38;5;28;01mraise\u001b[39;00m \u001b[38;5;167;01mIOError\u001b[39;00m(\u001b[38;5;124m\"\u001b[39m\u001b[38;5;124mERROR in SUBMISSION!\u001b[39m\u001b[38;5;124m\"\u001b[39m) \u001b[38;5;28;01mfrom\u001b[39;00m \u001b[38;5;21;01merr\u001b[39;00m\n\u001b[1;32m    236\u001b[0m \u001b[38;5;66;03m# in_simSystem._future_promise = False #reset future promising if necessary\u001b[39;00m\n",
      "\u001b[0;31mOSError\u001b[0m: ERROR in SUBMISSION!",
      "\nDuring handling of the above exception, another exception occurred:\n",
      "\u001b[0;31mException\u001b[0m                                 Traceback (most recent call last)",
      "Input \u001b[0;32mIn [8]\u001b[0m, in \u001b[0;36m<cell line: 4>\u001b[0;34m()\u001b[0m\n\u001b[1;32m      1\u001b[0m \u001b[38;5;28;01mfrom\u001b[39;00m \u001b[38;5;21;01mpygromos\u001b[39;00m\u001b[38;5;21;01m.\u001b[39;00m\u001b[38;5;21;01msimulations\u001b[39;00m\u001b[38;5;21;01m.\u001b[39;00m\u001b[38;5;21;01mmodules\u001b[39;00m\u001b[38;5;21;01m.\u001b[39;00m\u001b[38;5;21;01mpreset_simulation_modules\u001b[39;00m \u001b[38;5;28;01mimport\u001b[39;00m emin\n\u001b[0;32m----> 4\u001b[0m emin_gromos_system \u001b[38;5;241m=\u001b[39m \u001b[43memin\u001b[49m\u001b[43m(\u001b[49m\u001b[43min_gromos_system\u001b[49m\u001b[38;5;241;43m=\u001b[39;49m\u001b[43mgrom_system\u001b[49m\u001b[43m,\u001b[49m\u001b[43m \u001b[49m\n\u001b[1;32m      5\u001b[0m \u001b[43m                                 \u001b[49m\u001b[43mstep_name\u001b[49m\u001b[38;5;241;43m=\u001b[39;49m\u001b[43mstep_name\u001b[49m\u001b[43m,\u001b[49m\u001b[43m \u001b[49m\n\u001b[1;32m      6\u001b[0m \u001b[43m                                 \u001b[49m\u001b[43msubmission_system\u001b[49m\u001b[38;5;241;43m=\u001b[39;49m\u001b[43msubSystem\u001b[49m\u001b[43m(\u001b[49m\u001b[43m)\u001b[49m\u001b[43m,\u001b[49m\u001b[43m \u001b[49m\n\u001b[1;32m      7\u001b[0m \u001b[43m                                 \u001b[49m\u001b[43min_imd_path\u001b[49m\u001b[38;5;241;43m=\u001b[39;49m\u001b[38;5;28;43;01mNone\u001b[39;49;00m\u001b[43m)\u001b[49m\n\u001b[1;32m      8\u001b[0m jobID \u001b[38;5;241m=\u001b[39m emin_gromos_system\u001b[38;5;241m.\u001b[39m_last_jobID\n\u001b[1;32m      9\u001b[0m emin_gromos_system\n",
      "File \u001b[0;32m~/work/PyGromosTools/PyGromosTools/pygromos/simulations/modules/preset_simulation_modules.py:44\u001b[0m, in \u001b[0;36memin\u001b[0;34m(in_gromos_system, step_name, override_project_dir, in_imd_path, submission_system, simulation_runs, equilibration_runs, previous_simulation_run, _template_imd_path, _no_double_submit_check, initialize_first_run, analysis_script, verbose)\u001b[0m\n\u001b[1;32m     41\u001b[0m     \u001b[38;5;28;01mif\u001b[39;00m in_gromos_system\u001b[38;5;241m.\u001b[39mimd\u001b[38;5;241m.\u001b[39mWRITETRAJ\u001b[38;5;241m.\u001b[39mNTWG \u001b[38;5;241m>\u001b[39m \u001b[38;5;241m0\u001b[39m:\n\u001b[1;32m     42\u001b[0m         template_emin_control_dict[\u001b[38;5;124m\"\u001b[39m\u001b[38;5;124mconcat\u001b[39m\u001b[38;5;124m\"\u001b[39m][\u001b[38;5;124m\"\u001b[39m\u001b[38;5;124mcat_trg\u001b[39m\u001b[38;5;124m\"\u001b[39m] \u001b[38;5;241m=\u001b[39m \u001b[38;5;28;01mFalse\u001b[39;00m\n\u001b[0;32m---> 44\u001b[0m \u001b[38;5;28;01mreturn\u001b[39;00m \u001b[43msimulation\u001b[49m\u001b[43m(\u001b[49m\n\u001b[1;32m     45\u001b[0m \u001b[43m    \u001b[49m\u001b[43min_gromos_simulation_system\u001b[49m\u001b[38;5;241;43m=\u001b[39;49m\u001b[43min_gromos_system\u001b[49m\u001b[43m,\u001b[49m\n\u001b[1;32m     46\u001b[0m \u001b[43m    \u001b[49m\u001b[43moverride_project_dir\u001b[49m\u001b[38;5;241;43m=\u001b[39;49m\u001b[43moverride_project_dir\u001b[49m\u001b[43m,\u001b[49m\n\u001b[1;32m     47\u001b[0m \u001b[43m    \u001b[49m\u001b[43mprevious_simulation_run\u001b[49m\u001b[38;5;241;43m=\u001b[39;49m\u001b[43mprevious_simulation_run\u001b[49m\u001b[43m,\u001b[49m\n\u001b[1;32m     48\u001b[0m \u001b[43m    \u001b[49m\u001b[43mstep_name\u001b[49m\u001b[38;5;241;43m=\u001b[39;49m\u001b[43mstep_name\u001b[49m\u001b[43m,\u001b[49m\n\u001b[1;32m     49\u001b[0m \u001b[43m    \u001b[49m\u001b[43min_imd_path\u001b[49m\u001b[38;5;241;43m=\u001b[39;49m\u001b[43min_imd_path\u001b[49m\u001b[43m,\u001b[49m\n\u001b[1;32m     50\u001b[0m \u001b[43m    \u001b[49m\u001b[43msubmission_system\u001b[49m\u001b[38;5;241;43m=\u001b[39;49m\u001b[43msubmission_system\u001b[49m\u001b[43m,\u001b[49m\n\u001b[1;32m     51\u001b[0m \u001b[43m    \u001b[49m\u001b[43minitialize_first_run\u001b[49m\u001b[38;5;241;43m=\u001b[39;49m\u001b[43minitialize_first_run\u001b[49m\u001b[43m,\u001b[49m\n\u001b[1;32m     52\u001b[0m \u001b[43m    \u001b[49m\u001b[43msimulation_runs\u001b[49m\u001b[38;5;241;43m=\u001b[39;49m\u001b[43msimulation_runs\u001b[49m\u001b[43m,\u001b[49m\n\u001b[1;32m     53\u001b[0m \u001b[43m    \u001b[49m\u001b[43mequilibration_runs\u001b[49m\u001b[38;5;241;43m=\u001b[39;49m\u001b[43mequilibration_runs\u001b[49m\u001b[43m,\u001b[49m\n\u001b[1;32m     54\u001b[0m \u001b[43m    \u001b[49m\u001b[43manalysis_control_dict\u001b[49m\u001b[38;5;241;43m=\u001b[39;49m\u001b[43mtemplate_emin_control_dict\u001b[49m\u001b[43m,\u001b[49m\n\u001b[1;32m     55\u001b[0m \u001b[43m    \u001b[49m\u001b[43manalysis_script\u001b[49m\u001b[38;5;241;43m=\u001b[39;49m\u001b[43manalysis_script\u001b[49m\u001b[43m,\u001b[49m\n\u001b[1;32m     56\u001b[0m \u001b[43m    \u001b[49m\u001b[43m_template_imd_path\u001b[49m\u001b[38;5;241;43m=\u001b[39;49m\u001b[43m_template_imd_path\u001b[49m\u001b[43m,\u001b[49m\n\u001b[1;32m     57\u001b[0m \u001b[43m    \u001b[49m\u001b[43m_no_double_submit_check\u001b[49m\u001b[38;5;241;43m=\u001b[39;49m\u001b[43m_no_double_submit_check\u001b[49m\u001b[43m,\u001b[49m\n\u001b[1;32m     58\u001b[0m \u001b[43m    \u001b[49m\u001b[43mverbose\u001b[49m\u001b[38;5;241;43m=\u001b[39;49m\u001b[43mverbose\u001b[49m\u001b[43m,\u001b[49m\n\u001b[1;32m     59\u001b[0m \u001b[43m\u001b[49m\u001b[43m)\u001b[49m\n",
      "File \u001b[0;32m~/work/PyGromosTools/PyGromosTools/pygromos/simulations/modules/general_simulation_modules.py:211\u001b[0m, in \u001b[0;36msimulation\u001b[0;34m(in_gromos_simulation_system, override_project_dir, step_name, in_imd_path, submission_system, simulation_runs, equilibration_runs, previous_simulation_run, force_simulation, initialize_first_run, reinitialize_every_run, analysis_script, analysis_control_dict, _no_double_submit_check, _work_dir, verbose, verbose_lvl, _template_imd_path)\u001b[0m\n\u001b[1;32m    209\u001b[0m \u001b[38;5;28;01mexcept\u001b[39;00m \u001b[38;5;167;01mException\u001b[39;00m \u001b[38;5;28;01mas\u001b[39;00m err:\n\u001b[1;32m    210\u001b[0m     traceback\u001b[38;5;241m.\u001b[39mprint_exception(\u001b[38;5;241m*\u001b[39msys\u001b[38;5;241m.\u001b[39mexc_info())\n\u001b[0;32m--> 211\u001b[0m     \u001b[38;5;28;01mraise\u001b[39;00m \u001b[38;5;167;01mException\u001b[39;00m(\u001b[38;5;124m\"\u001b[39m\u001b[38;5;124mCould not submit the commands\u001b[39m\u001b[38;5;130;01m\\n\u001b[39;00m\u001b[38;5;130;01m\\t\u001b[39;00m\u001b[38;5;124m\"\u001b[39m \u001b[38;5;241m+\u001b[39m \u001b[38;5;124m\"\u001b[39m\u001b[38;5;130;01m\\n\u001b[39;00m\u001b[38;5;130;01m\\t\u001b[39;00m\u001b[38;5;124m\"\u001b[39m\u001b[38;5;241m.\u001b[39mjoin(\u001b[38;5;28mmap\u001b[39m(\u001b[38;5;28mstr\u001b[39m, err\u001b[38;5;241m.\u001b[39margs)))\n\u001b[1;32m    213\u001b[0m time\u001b[38;5;241m.\u001b[39msleep(time_wait_s_for_filesystem)\n\u001b[1;32m    215\u001b[0m \u001b[38;5;66;03m# Return the promise final system\u001b[39;00m\n",
      "\u001b[0;31mException\u001b[0m: Could not submit the commands\n\tERROR in SUBMISSION!"
     ]
    }
   ],
   "source": [
    "from pygromos.simulations.modules.preset_simulation_modules import emin\n",
    "\n",
    "\n",
    "emin_gromos_system = emin(in_gromos_system=grom_system, \n",
    "                                 step_name=step_name, \n",
    "                                 submission_system=subSystem(), \n",
    "                                 in_imd_path=None)\n",
    "jobID = emin_gromos_system._last_jobID\n",
    "emin_gromos_system\n"
   ]
  },
  {
   "cell_type": "code",
   "execution_count": 9,
   "metadata": {
    "execution": {
     "iopub.execute_input": "2022-04-04T16:00:20.604243Z",
     "iopub.status.busy": "2022-04-04T16:00:20.603596Z",
     "iopub.status.idle": "2022-04-04T16:00:20.617702Z",
     "shell.execute_reply": "2022-04-04T16:00:20.616923Z"
    }
   },
   "outputs": [
    {
     "ename": "NameError",
     "evalue": "name 'emin_gromos_system' is not defined",
     "output_type": "error",
     "traceback": [
      "\u001b[0;31m---------------------------------------------------------------------------\u001b[0m",
      "\u001b[0;31mNameError\u001b[0m                                 Traceback (most recent call last)",
      "Input \u001b[0;32mIn [9]\u001b[0m, in \u001b[0;36m<cell line: 1>\u001b[0;34m()\u001b[0m\n\u001b[0;32m----> 1\u001b[0m \u001b[43memin_gromos_system\u001b[49m\u001b[38;5;241m.\u001b[39mcnf\u001b[38;5;241m.\u001b[39mvisualize()\n",
      "\u001b[0;31mNameError\u001b[0m: name 'emin_gromos_system' is not defined"
     ]
    }
   ],
   "source": [
    "emin_gromos_system.cnf.visualize()"
   ]
  },
  {
   "cell_type": "code",
   "execution_count": 10,
   "metadata": {
    "execution": {
     "iopub.execute_input": "2022-04-04T16:00:20.620567Z",
     "iopub.status.busy": "2022-04-04T16:00:20.620146Z",
     "iopub.status.idle": "2022-04-04T16:00:20.634623Z",
     "shell.execute_reply": "2022-04-04T16:00:20.634069Z"
    }
   },
   "outputs": [
    {
     "ename": "NameError",
     "evalue": "name 'emin_gromos_system' is not defined",
     "output_type": "error",
     "traceback": [
      "\u001b[0;31m---------------------------------------------------------------------------\u001b[0m",
      "\u001b[0;31mNameError\u001b[0m                                 Traceback (most recent call last)",
      "Input \u001b[0;32mIn [10]\u001b[0m, in \u001b[0;36m<cell line: 1>\u001b[0;34m()\u001b[0m\n\u001b[0;32m----> 1\u001b[0m \u001b[43memin_gromos_system\u001b[49m\n",
      "\u001b[0;31mNameError\u001b[0m: name 'emin_gromos_system' is not defined"
     ]
    }
   ],
   "source": [
    "emin_gromos_system"
   ]
  },
  {
   "cell_type": "code",
   "execution_count": 11,
   "metadata": {
    "execution": {
     "iopub.execute_input": "2022-04-04T16:00:20.637370Z",
     "iopub.status.busy": "2022-04-04T16:00:20.637100Z",
     "iopub.status.idle": "2022-04-04T16:00:20.651888Z",
     "shell.execute_reply": "2022-04-04T16:00:20.651388Z"
    }
   },
   "outputs": [
    {
     "ename": "NameError",
     "evalue": "name 'emin_gromos_system' is not defined",
     "output_type": "error",
     "traceback": [
      "\u001b[0;31m---------------------------------------------------------------------------\u001b[0m",
      "\u001b[0;31mNameError\u001b[0m                                 Traceback (most recent call last)",
      "Input \u001b[0;32mIn [11]\u001b[0m, in \u001b[0;36m<cell line: 1>\u001b[0;34m()\u001b[0m\n\u001b[0;32m----> 1\u001b[0m \u001b[43memin_gromos_system\u001b[49m\u001b[38;5;241m.\u001b[39mwork_folder\u001b[38;5;241m+\u001b[39m\u001b[38;5;124m\"\u001b[39m\u001b[38;5;124m/analysis/data\u001b[39m\u001b[38;5;124m\"\u001b[39m\n",
      "\u001b[0;31mNameError\u001b[0m: name 'emin_gromos_system' is not defined"
     ]
    }
   ],
   "source": [
    "emin_gromos_system.work_folder+\"/analysis/data\""
   ]
  },
  {
   "cell_type": "markdown",
   "metadata": {},
   "source": [
    "## RUN SD Simulation"
   ]
  },
  {
   "cell_type": "code",
   "execution_count": 12,
   "metadata": {
    "execution": {
     "iopub.execute_input": "2022-04-04T16:00:20.655123Z",
     "iopub.status.busy": "2022-04-04T16:00:20.654718Z",
     "iopub.status.idle": "2022-04-04T16:00:20.672113Z",
     "shell.execute_reply": "2022-04-04T16:00:20.671607Z"
    }
   },
   "outputs": [
    {
     "ename": "NameError",
     "evalue": "name 'emin_gromos_system' is not defined",
     "output_type": "error",
     "traceback": [
      "\u001b[0;31m---------------------------------------------------------------------------\u001b[0m",
      "\u001b[0;31mNameError\u001b[0m                                 Traceback (most recent call last)",
      "Input \u001b[0;32mIn [12]\u001b[0m, in \u001b[0;36m<cell line: 5>\u001b[0;34m()\u001b[0m\n\u001b[1;32m      1\u001b[0m \u001b[38;5;28;01mfrom\u001b[39;00m \u001b[38;5;21;01mpygromos\u001b[39;00m\u001b[38;5;21;01m.\u001b[39;00m\u001b[38;5;21;01msimulations\u001b[39;00m\u001b[38;5;21;01m.\u001b[39;00m\u001b[38;5;21;01mmodules\u001b[39;00m\u001b[38;5;21;01m.\u001b[39;00m\u001b[38;5;21;01mpreset_simulation_modules\u001b[39;00m \u001b[38;5;28;01mimport\u001b[39;00m sd\n\u001b[1;32m      3\u001b[0m step_name  \u001b[38;5;241m=\u001b[39m \u001b[38;5;124m\"\u001b[39m\u001b[38;5;124mb_vacuum_sd\u001b[39m\u001b[38;5;124m\"\u001b[39m\n\u001b[0;32m----> 5\u001b[0m sd_gromos_system  \u001b[38;5;241m=\u001b[39m sd(in_gromos_system\u001b[38;5;241m=\u001b[39m\u001b[43memin_gromos_system\u001b[49m,\n\u001b[1;32m      6\u001b[0m                               step_name\u001b[38;5;241m=\u001b[39mstep_name, \n\u001b[1;32m      7\u001b[0m                        submission_system\u001b[38;5;241m=\u001b[39msubSystem(nmpi\u001b[38;5;241m=\u001b[39m\u001b[38;5;241m1\u001b[39m),\n\u001b[1;32m      8\u001b[0m                       equilibration_runs\u001b[38;5;241m=\u001b[39m\u001b[38;5;241m1\u001b[39m, simulation_runs\u001b[38;5;241m=\u001b[39m\u001b[38;5;241m3\u001b[39m)\n\u001b[1;32m      9\u001b[0m jobID \u001b[38;5;241m=\u001b[39m sd_gromos_system\u001b[38;5;241m.\u001b[39m_last_jobID\n\u001b[1;32m     11\u001b[0m sd_gromos_system\n",
      "\u001b[0;31mNameError\u001b[0m: name 'emin_gromos_system' is not defined"
     ]
    }
   ],
   "source": [
    "from pygromos.simulations.modules.preset_simulation_modules import sd\n",
    "\n",
    "step_name  = \"b_vacuum_sd\"\n",
    "\n",
    "sd_gromos_system  = sd(in_gromos_system=emin_gromos_system,\n",
    "                              step_name=step_name, \n",
    "                       submission_system=subSystem(nmpi=1),\n",
    "                      equilibration_runs=1, simulation_runs=3)\n",
    "jobID = sd_gromos_system._last_jobID\n",
    "\n",
    "sd_gromos_system\n",
    "\n",
    "sd_gromos_system.cnf.visualize()"
   ]
  },
  {
   "cell_type": "markdown",
   "metadata": {
    "pycharm": {
     "name": "#%% md\n"
    }
   },
   "source": [
    "## Further Analysis:\n",
    "Transform the trc into a pdb traj to check it out with pymol :!)"
   ]
  },
  {
   "cell_type": "code",
   "execution_count": 13,
   "metadata": {
    "execution": {
     "iopub.execute_input": "2022-04-04T16:00:20.675711Z",
     "iopub.status.busy": "2022-04-04T16:00:20.674689Z",
     "iopub.status.idle": "2022-04-04T16:00:20.680908Z",
     "shell.execute_reply": "2022-04-04T16:00:20.680496Z"
    }
   },
   "outputs": [],
   "source": [
    "#final analysis dir:\n",
    "from pygromos.utils import bash\n",
    "\n",
    "out_ana = project_dir+\"/c_ana\"\n",
    "if(not os.path.exists(out_ana)):\n",
    "    bash.make_folder(out_ana)"
   ]
  },
  {
   "cell_type": "markdown",
   "metadata": {},
   "source": [
    "### Coordinate Analysis"
   ]
  },
  {
   "cell_type": "code",
   "execution_count": 14,
   "metadata": {
    "execution": {
     "iopub.execute_input": "2022-04-04T16:00:20.683299Z",
     "iopub.status.busy": "2022-04-04T16:00:20.683064Z",
     "iopub.status.idle": "2022-04-04T16:00:20.698363Z",
     "shell.execute_reply": "2022-04-04T16:00:20.697927Z"
    }
   },
   "outputs": [
    {
     "ename": "NameError",
     "evalue": "name 'sd_gromos_system' is not defined",
     "output_type": "error",
     "traceback": [
      "\u001b[0;31m---------------------------------------------------------------------------\u001b[0m",
      "\u001b[0;31mNameError\u001b[0m                                 Traceback (most recent call last)",
      "Input \u001b[0;32mIn [14]\u001b[0m, in \u001b[0;36m<cell line: 3>\u001b[0;34m()\u001b[0m\n\u001b[1;32m      1\u001b[0m \u001b[38;5;28;01mfrom\u001b[39;00m \u001b[38;5;21;01mpygromos\u001b[39;00m\u001b[38;5;21;01m.\u001b[39;00m\u001b[38;5;21;01mfiles\u001b[39;00m\u001b[38;5;21;01m.\u001b[39;00m\u001b[38;5;21;01mtrajectory\u001b[39;00m\u001b[38;5;21;01m.\u001b[39;00m\u001b[38;5;21;01mtrc\u001b[39;00m \u001b[38;5;28;01mimport\u001b[39;00m Trc\n\u001b[0;32m----> 3\u001b[0m trc \u001b[38;5;241m=\u001b[39m \u001b[43msd_gromos_system\u001b[49m\u001b[38;5;241m.\u001b[39mtrc\n\u001b[1;32m      4\u001b[0m trc\u001b[38;5;241m.\u001b[39mwrite_pdb(out_ana\u001b[38;5;241m+\u001b[39m\u001b[38;5;124m\"\u001b[39m\u001b[38;5;124m/sd_traj.pdb\u001b[39m\u001b[38;5;124m\"\u001b[39m, cnf_file\u001b[38;5;241m=\u001b[39mcnf_path)\u001b[38;5;66;03m#grom_system.cnf.path)\u001b[39;00m\n\u001b[1;32m      5\u001b[0m trc\n",
      "\u001b[0;31mNameError\u001b[0m: name 'sd_gromos_system' is not defined"
     ]
    }
   ],
   "source": [
    "from pygromos.files.trajectory.trc import Trc\n",
    "\n",
    "trc = sd_gromos_system.trc\n",
    "trc.write_pdb(out_ana+\"/sd_traj.pdb\", cnf_file=cnf_path)#grom_system.cnf.path)\n",
    "trc"
   ]
  },
  {
   "cell_type": "code",
   "execution_count": 15,
   "metadata": {
    "execution": {
     "iopub.execute_input": "2022-04-04T16:00:20.700855Z",
     "iopub.status.busy": "2022-04-04T16:00:20.700703Z",
     "iopub.status.idle": "2022-04-04T16:00:20.713968Z",
     "shell.execute_reply": "2022-04-04T16:00:20.713517Z"
    }
   },
   "outputs": [
    {
     "ename": "NameError",
     "evalue": "name 'trc' is not defined",
     "output_type": "error",
     "traceback": [
      "\u001b[0;31m---------------------------------------------------------------------------\u001b[0m",
      "\u001b[0;31mNameError\u001b[0m                                 Traceback (most recent call last)",
      "Input \u001b[0;32mIn [15]\u001b[0m, in \u001b[0;36m<cell line: 1>\u001b[0;34m()\u001b[0m\n\u001b[0;32m----> 1\u001b[0m traj \u001b[38;5;241m=\u001b[39m \u001b[43mtrc\u001b[49m\u001b[38;5;241m.\u001b[39mvisualize(grom_system\u001b[38;5;241m.\u001b[39mcnf)\n\u001b[1;32m      2\u001b[0m traj\n",
      "\u001b[0;31mNameError\u001b[0m: name 'trc' is not defined"
     ]
    }
   ],
   "source": [
    "traj = trc.visualize(grom_system.cnf)\n",
    "traj"
   ]
  },
  {
   "cell_type": "markdown",
   "metadata": {},
   "source": [
    "### Energy Analysis"
   ]
  },
  {
   "cell_type": "code",
   "execution_count": 16,
   "metadata": {
    "execution": {
     "iopub.execute_input": "2022-04-04T16:00:20.716606Z",
     "iopub.status.busy": "2022-04-04T16:00:20.716351Z",
     "iopub.status.idle": "2022-04-04T16:00:20.729604Z",
     "shell.execute_reply": "2022-04-04T16:00:20.729156Z"
    }
   },
   "outputs": [
    {
     "ename": "NameError",
     "evalue": "name 'sd_gromos_system' is not defined",
     "output_type": "error",
     "traceback": [
      "\u001b[0;31m---------------------------------------------------------------------------\u001b[0m",
      "\u001b[0;31mNameError\u001b[0m                                 Traceback (most recent call last)",
      "Input \u001b[0;32mIn [16]\u001b[0m, in \u001b[0;36m<cell line: 3>\u001b[0;34m()\u001b[0m\n\u001b[1;32m      1\u001b[0m \u001b[38;5;28;01mfrom\u001b[39;00m \u001b[38;5;21;01mpygromos\u001b[39;00m\u001b[38;5;21;01m.\u001b[39;00m\u001b[38;5;21;01mfiles\u001b[39;00m\u001b[38;5;21;01m.\u001b[39;00m\u001b[38;5;21;01mtrajectory\u001b[39;00m\u001b[38;5;21;01m.\u001b[39;00m\u001b[38;5;21;01mtre\u001b[39;00m \u001b[38;5;28;01mimport\u001b[39;00m Tre\n\u001b[0;32m----> 3\u001b[0m tre \u001b[38;5;241m=\u001b[39m \u001b[43msd_gromos_system\u001b[49m\u001b[38;5;241m.\u001b[39mtre\n\u001b[1;32m      4\u001b[0m tre\n",
      "\u001b[0;31mNameError\u001b[0m: name 'sd_gromos_system' is not defined"
     ]
    }
   ],
   "source": [
    "from pygromos.files.trajectory.tre import Tre\n",
    "\n",
    "tre = sd_gromos_system.tre\n",
    "tre\n"
   ]
  },
  {
   "cell_type": "code",
   "execution_count": 17,
   "metadata": {
    "execution": {
     "iopub.execute_input": "2022-04-04T16:00:20.732012Z",
     "iopub.status.busy": "2022-04-04T16:00:20.731773Z",
     "iopub.status.idle": "2022-04-04T16:00:20.750452Z",
     "shell.execute_reply": "2022-04-04T16:00:20.750008Z"
    }
   },
   "outputs": [
    {
     "ename": "NameError",
     "evalue": "name 'tre' is not defined",
     "output_type": "error",
     "traceback": [
      "\u001b[0;31m---------------------------------------------------------------------------\u001b[0m",
      "\u001b[0;31mNameError\u001b[0m                                 Traceback (most recent call last)",
      "Input \u001b[0;32mIn [17]\u001b[0m, in \u001b[0;36m<cell line: 2>\u001b[0;34m()\u001b[0m\n\u001b[1;32m      1\u001b[0m \u001b[38;5;66;03m#Plot Potential Energies\u001b[39;00m\n\u001b[0;32m----> 2\u001b[0m V_tot \u001b[38;5;241m=\u001b[39m np\u001b[38;5;241m.\u001b[39marray(\u001b[38;5;28mlist\u001b[39m(\u001b[38;5;28mmap\u001b[39m(\u001b[38;5;28;01mlambda\u001b[39;00m x: x[\u001b[38;5;241m2\u001b[39m], \u001b[43mtre\u001b[49m\u001b[38;5;241m.\u001b[39mdatabase\u001b[38;5;241m.\u001b[39mtotals)))\n\u001b[1;32m      3\u001b[0m step \u001b[38;5;241m=\u001b[39m \u001b[38;5;28mlen\u001b[39m(tre\u001b[38;5;241m.\u001b[39mdatabase\u001b[38;5;241m.\u001b[39mTIMESTEP_time)\u001b[38;5;241m/\u001b[39m\u001b[38;5;241m/\u001b[39m\u001b[38;5;241m10\u001b[39m\n\u001b[1;32m      5\u001b[0m plt\u001b[38;5;241m.\u001b[39mplot(tre\u001b[38;5;241m.\u001b[39mdatabase\u001b[38;5;241m.\u001b[39mTIMESTEP_time, V_tot)\n",
      "\u001b[0;31mNameError\u001b[0m: name 'tre' is not defined"
     ]
    }
   ],
   "source": [
    "#Plot Potential Energies\n",
    "V_tot = np.array(list(map(lambda x: x[2], tre.database.totals)))\n",
    "step = len(tre.database.TIMESTEP_time)//10\n",
    "\n",
    "plt.plot(tre.database.TIMESTEP_time, V_tot)\n",
    "plt.xticks(np.round(list(tre.database.TIMESTEP_time[::step]),2))\n",
    "plt.xlabel(\"$t~[ps]$\")\n",
    "plt.ylabel(\"$V~[kJ]$\")\n",
    "plt.title(\"V total timeseries\")\n",
    "plt.savefig(out_ana+\"/potential_energy_timeseries.png\")"
   ]
  }
 ],
 "metadata": {
  "language_info": {
   "codemirror_mode": {
    "name": "ipython",
    "version": 3
   },
   "file_extension": ".py",
   "mimetype": "text/x-python",
   "name": "python",
   "nbconvert_exporter": "python",
   "pygments_lexer": "ipython3",
   "version": "3.9.12"
  },
  "widgets": {
   "application/vnd.jupyter.widget-state+json": {
    "state": {
     "2b65740c55764a3b8ddc140fe245e8d3": {
      "model_module": "@jupyter-widgets/base",
      "model_module_version": "1.2.0",
      "model_name": "LayoutModel",
      "state": {
       "_model_module": "@jupyter-widgets/base",
       "_model_module_version": "1.2.0",
       "_model_name": "LayoutModel",
       "_view_count": null,
       "_view_module": "@jupyter-widgets/base",
       "_view_module_version": "1.2.0",
       "_view_name": "LayoutView",
       "align_content": null,
       "align_items": null,
       "align_self": null,
       "border": null,
       "bottom": null,
       "display": null,
       "flex": null,
       "flex_flow": null,
       "grid_area": null,
       "grid_auto_columns": null,
       "grid_auto_flow": null,
       "grid_auto_rows": null,
       "grid_column": null,
       "grid_gap": null,
       "grid_row": null,
       "grid_template_areas": null,
       "grid_template_columns": null,
       "grid_template_rows": null,
       "height": null,
       "justify_content": null,
       "justify_items": null,
       "left": null,
       "margin": null,
       "max_height": null,
       "max_width": null,
       "min_height": null,
       "min_width": null,
       "object_fit": null,
       "object_position": null,
       "order": null,
       "overflow": null,
       "overflow_x": null,
       "overflow_y": null,
       "padding": null,
       "right": null,
       "top": null,
       "visibility": null,
       "width": null
      }
     },
     "c2b7e5a305864a9ab24cb44898f9cebb": {
      "model_module": "nglview-js-widgets",
      "model_module_version": "3.0.1",
      "model_name": "ColormakerRegistryModel",
      "state": {
       "_dom_classes": [],
       "_model_module": "nglview-js-widgets",
       "_model_module_version": "3.0.1",
       "_model_name": "ColormakerRegistryModel",
       "_msg_ar": [],
       "_msg_q": [],
       "_ready": false,
       "_view_count": null,
       "_view_module": "nglview-js-widgets",
       "_view_module_version": "3.0.1",
       "_view_name": "ColormakerRegistryView",
       "layout": "IPY_MODEL_2b65740c55764a3b8ddc140fe245e8d3"
      }
     }
    },
    "version_major": 2,
    "version_minor": 0
   }
  }
 },
 "nbformat": 4,
 "nbformat_minor": 4
}
