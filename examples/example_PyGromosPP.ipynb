{
 "cells": [
  {
   "cell_type": "markdown",
   "metadata": {},
   "source": [
    "# Demonstration of the `PyGromosTools` implementation of the Gromos++ CLI programs"
   ]
  },
  {
   "cell_type": "code",
   "execution_count": 2,
   "metadata": {},
   "outputs": [],
   "source": [
    "from pygromos.gromos.gromosPP import GromosPP"
   ]
  },
  {
   "cell_type": "code",
   "execution_count": 3,
   "metadata": {},
   "outputs": [],
   "source": [
    "_helper = GromosPP(\"/home/fpultar/bin/gromos++/bin\")\n",
    "directory_root = \"/home/fpultar/Documents/src/gromos++-examples\""
   ]
  },
  {
   "cell_type": "markdown",
   "metadata": {},
   "source": [
    "### `bin_box`"
   ]
  },
  {
   "cell_type": "code",
   "execution_count": 4,
   "metadata": {},
   "outputs": [
    {
     "name": "stdout",
     "output_type": "stream",
     "text": [
      "/home/fpultar/bin/gromos++/bin/bin_box @topo1 /home/fpultar/Documents/src/gromos++-examples/bin_box/ERI7-all-atom_54a7.top @pos1 /home/fpultar/Documents/src/gromos++-examples/bin_box/ERI7-all-atom.cnf @topo2 /home/fpultar/Documents/src/gromos++-examples/bin_box/TUUB-all-atom_54a7.top @pos2 /home/fpultar/Documents/src/gromos++-examples/bin_box/TUUB-all-atom.cnf @nsm 8 @densit 700 @fraction 0.3\n"
     ]
    },
    {
     "data": {
      "text/plain": [
       "'/home/fpultar/Documents/src/gromos++-examples/bin_box/bin_box.cnf'"
      ]
     },
     "execution_count": 4,
     "metadata": {},
     "output_type": "execute_result"
    }
   ],
   "source": [
    "# bin_box\n",
    "work_dir = f\"{directory_root}/bin_box\"\n",
    "_helper.bin_box(f\"{work_dir}/ERI7-all-atom_54a7.top\", f\"{work_dir}/ERI7-all-atom.cnf\", \n",
    "f\"{work_dir}/TUUB-all-atom_54a7.top\", f\"{work_dir}/TUUB-all-atom.cnf\", 8, 700, 0.3, f\"{work_dir}/bin_box.cnf\", verbose=True)"
   ]
  },
  {
   "cell_type": "markdown",
   "metadata": {},
   "source": [
    "### `build_box`"
   ]
  },
  {
   "cell_type": "code",
   "execution_count": 5,
   "metadata": {},
   "outputs": [
    {
     "name": "stdout",
     "output_type": "stream",
     "text": [
      "/home/fpultar/bin/gromos++/bin/build_box @topo /home/fpultar/Documents/src/gromos++-examples/build_box/ERI7-all-atom_54a7.top @pos /home/fpultar/Documents/src/gromos++-examples/build_box/ERI7-all-atom.cnf @nsm 8 @dens 700\n"
     ]
    },
    {
     "data": {
      "text/plain": [
       "'/home/fpultar/Documents/src/gromos++-examples/build_box/build_box.cnf'"
      ]
     },
     "execution_count": 5,
     "metadata": {},
     "output_type": "execute_result"
    }
   ],
   "source": [
    "# build_box\n",
    "work_dir = f\"{directory_root}/build_box\"\n",
    "_helper.build_box(f\"{work_dir}/ERI7-all-atom_54a7.top\", f\"{work_dir}/ERI7-all-atom.cnf\", 8, 700, f\"{work_dir}/build_box.cnf\", verbose=True)"
   ]
  },
  {
   "cell_type": "markdown",
   "metadata": {},
   "source": [
    "### `check_box`"
   ]
  },
  {
   "cell_type": "code",
   "execution_count": 9,
   "metadata": {},
   "outputs": [
    {
     "name": "stdout",
     "output_type": "stream",
     "text": [
      "/home/fpultar/bin/gromos++/bin/check_box  @topo /home/fpultar/Documents/src/gromos++-examples/check_box/xphos_450acetonitrile_50water_54a7.top @pbc r cog @traj /home/fpultar/Documents/src/gromos++-examples/check_box/xphos-md-acetonitrile_1.trc.gz @cutoff 1.4  @atoms 1:a  @limit 1  @cpus 1 \n",
      "['# limit: max. 1 atom pairs per frame reported\\n', '# cutoff: 1.40 nm\\n', '# number of threads: 1\\n', '###\\n', '# Time     Distance [nm]     Atom A - Atom B      Mol:Residue Atom A -  Mol:Resiude Atom B\\n', '###\\n', '# OVERALL MIN: 100.00 nm\\n', '###\\n', '# Time parallel section: 8.68 s\\n']\n"
     ]
    }
   ],
   "source": [
    "# check_box\n",
    "work_dir = f\"{directory_root}/check_box\"\n",
    "check_box_out = f\"{work_dir}/check.out\"\n",
    "check_box_out =_helper.check_box(f\"{work_dir}/xphos_450acetonitrile_50water_54a7.top\", \"r cog\", check_box_out, [f\"{work_dir}/xphos-md-acetonitrile_1.trc.gz\"], atoms=\"1:a\", verbose=True)\n",
    "with open(check_box_out) as f:\n",
    "    print(f.readlines())"
   ]
  },
  {
   "cell_type": "markdown",
   "metadata": {},
   "source": [
    "## Ran_Box\n",
    "The program ran_box can generate liquid conformations from a single molecule topology and coordinate file. In the following notebook we show an example for the ussage of this program."
   ]
  },
  {
   "cell_type": "code",
   "execution_count": null,
   "metadata": {},
   "outputs": [],
   "source": [
    "### `build_box`"
   ]
  },
  {
   "cell_type": "code",
   "execution_count": null,
   "metadata": {},
   "outputs": [],
   "source": [
    "import os\n",
    "from pygromos.gromos.pyGromosPP.ran_box import ran_box\n",
    "from pygromos.files.coord.cnf import Cnf"
   ]
  },
  {
   "cell_type": "code",
   "execution_count": null,
   "metadata": {
    "pycharm": {
     "name": "#%%\n"
    }
   },
   "outputs": [],
   "source": [
    "# define the paths to the single molecule topology and the single molecule conformation file\n",
    "root_dir = os.getcwd()+\"/example_files/tool_examples\"\n",
    "in_cnf_path = root_dir +\"/ran_box.cnf\"\n",
    "in_top_path = root_dir +\"/ran_box.top\"\n"
   ]
  },
  {
   "cell_type": "code",
   "execution_count": null,
   "metadata": {},
   "outputs": [],
   "source": [
    "#define some properties for the new liquid conformation\n",
    "nmols=150 #42 #The number of molecules in the liquid box\n",
    "dens=1000 #The density of the liquid"
   ]
  },
  {
   "cell_type": "code",
   "execution_count": null,
   "metadata": {
    "pycharm": {
     "name": "#%%\n"
    }
   },
   "outputs": [],
   "source": [
    "#execute ran_box\n",
    "out_cnf = ran_box(in_top_path= in_top_path,\n",
    "        in_cnf_path= in_cnf_path,\n",
    "        out_cnf_path= root_dir+\"/out_ran_\"+str(nmols)+\"mol.cnf\",\n",
    "        nmolecule = nmols,\n",
    "        dens = dens)"
   ]
  },
  {
   "cell_type": "code",
   "execution_count": null,
   "metadata": {},
   "outputs": [],
   "source": [
    "#write the conformation to a pdb file\n",
    "cnfF = Cnf(out_cnf)\n",
    "cnfF.write_pdb(out_cnf.replace(\".cnf\", \".pdb\"))"
   ]
  },
  {
   "cell_type": "code",
   "execution_count": null,
   "metadata": {
    "pycharm": {
     "name": "#%%\n"
    }
   },
   "outputs": [],
   "source": [
    "# printing the new liquid conformation. The pdb can visualized with software packages like pymol.\n",
    "cnfF"
   ]
  },
  {
   "cell_type": "code",
   "execution_count": null,
   "metadata": {},
   "outputs": [],
   "source": [
    "cnfF.visualize()"
   ]
  },
  {
   "cell_type": "code",
   "execution_count": null,
   "metadata": {},
   "outputs": [],
   "source": []
  },
  {
   "cell_type": "code",
   "execution_count": null,
   "metadata": {},
   "outputs": [],
   "source": []
  }
 ],
 "metadata": {
  "kernelspec": {
   "display_name": "Python 3",
   "language": "python",
   "name": "python3"
  },
  "language_info": {
   "codemirror_mode": {
    "name": "ipython",
    "version": 3
   },
   "file_extension": ".py",
   "mimetype": "text/x-python",
   "name": "python",
   "nbconvert_exporter": "python",
   "pygments_lexer": "ipython3",
   "version": "3.9.7"
  }
 },
 "nbformat": 4,
 "nbformat_minor": 4
}
