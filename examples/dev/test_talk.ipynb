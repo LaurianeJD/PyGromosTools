{
 "cells": [
  {
   "cell_type": "markdown",
   "metadata": {
    "collapsed": true,
    "pycharm": {
     "name": "#%% md\n"
    }
   },
   "source": [
    "## Do Energy Minimization"
   ]
  },
  {
   "cell_type": "code",
   "execution_count": null,
   "outputs": [],
   "source": [
    "#Imports\n",
    "import os\n",
    "from pygromos.files import imd, cnf\n",
    "from pygromos.data.imd_templates import template_emin\n",
    "\n",
    "#file Paths\n",
    "emin_dir = \"example_files/min\"\n",
    "out_prefix = \"emin\"\n",
    "cnf_box = \"test.cnf\"\n",
    "top_box = \"test.top\"\n",
    "\n",
    "#Read CNF\n",
    "cnf_box = cnf.Cnf(input=cnf_box)\n",
    "\n",
    "#Adapt Imd\n",
    "emin_imd = imd.Imd(template_emin)\n",
    "residues, ligands, protein, noLigs = emin_imd.clean_residue_list_for_imd(cnf_box.get_residues())\n",
    "\n",
    "emin_imd.SYSTEM.NSM = len(ligands)\n",
    "emin_imd.FORCE.adapt_energy_groups(residues=residues)\n",
    "\n",
    "imd_emin_box = emin_imd.write(out_prefix+\".imd\")\n",
    "\n",
    "#write out position restraints\n",
    "cnf_reference_position = cnf_box.write_refpos(out_prefix+\"/refpos.rpf\")\n",
    "cnf_position_restraint = cnf_box.write_possrespec(out_prefix+\"/posres.pos\")\n",
    "\n",
    "#Execute Simulation\n",
    "os.chdir(emin_dir)\n",
    "gromXX.md_run(in_coord_path=cnf_box, in_topo_path=top_box,\n",
    "              in_refpos_path=cnf_reference_position, cnf_position_restraint=cnf_position_restraint,\n",
    "              in_imd_path=emin_imd,\n",
    "              out_prefix=out_prefix)\n",
    "\n"
   ],
   "metadata": {
    "collapsed": false,
    "pycharm": {
     "name": "#%%\n"
    }
   }
  },
  {
   "cell_type": "code",
   "execution_count": null,
   "outputs": [],
   "source": [
    "\n"
   ],
   "metadata": {
    "collapsed": false,
    "pycharm": {
     "name": "#%%\n"
    }
   }
  }
 ],
 "metadata": {
  "kernelspec": {
   "display_name": "Python 3",
   "language": "python",
   "name": "python3"
  },
  "language_info": {
   "codemirror_mode": {
    "name": "ipython",
    "version": 2
   },
   "file_extension": ".py",
   "mimetype": "text/x-python",
   "name": "python",
   "nbconvert_exporter": "python",
   "pygments_lexer": "ipython2",
   "version": "2.7.6"
  }
 },
 "nbformat": 4,
 "nbformat_minor": 0
}