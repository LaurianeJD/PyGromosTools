{
 "cells": [
  {
   "cell_type": "markdown",
   "metadata": {
    "pycharm": {
     "name": "#%% md\n"
    }
   },
   "source": [
    "# TI Calculation\n"
   ]
  },
  {
   "cell_type": "markdown",
   "metadata": {},
   "source": [
    "## Imports"
   ]
  },
  {
   "cell_type": "code",
   "execution_count": 1,
   "metadata": {
    "execution": {
     "iopub.execute_input": "2022-04-04T15:15:04.368950Z",
     "iopub.status.busy": "2022-04-04T15:15:04.368586Z",
     "iopub.status.idle": "2022-04-04T15:15:05.691664Z",
     "shell.execute_reply": "2022-04-04T15:15:05.691066Z"
    }
   },
   "outputs": [
    {
     "data": {
      "application/vnd.jupyter.widget-view+json": {
       "model_id": "cdae8d4203cc4679b8ef58c3f99f3137",
       "version_major": 2,
       "version_minor": 0
      },
      "text/plain": []
     },
     "metadata": {},
     "output_type": "display_data"
    }
   ],
   "source": [
    "#for analysis\n",
    "from matplotlib import pyplot as plt\n",
    "%matplotlib inline\n",
    "\n",
    "import os\n",
    "import numpy as np\n",
    "import pygromos\n",
    "from pygromos.files.gromos_system import Gromos_System\n",
    "from pygromos.simulations.hpc_queuing.submission_systems.local import LOCAL as subSystem\n",
    "from pygromos.files.blocks.imd_blocks import PERTURBATION, WRITETRAJ\n",
    "\n",
    "from pygromos.utils import bash"
   ]
  },
  {
   "cell_type": "markdown",
   "metadata": {
    "pycharm": {
     "name": "#%% md\n"
    }
   },
   "source": [
    "## Input files"
   ]
  },
  {
   "cell_type": "code",
   "execution_count": 2,
   "metadata": {
    "execution": {
     "iopub.execute_input": "2022-04-04T15:15:05.695057Z",
     "iopub.status.busy": "2022-04-04T15:15:05.694862Z",
     "iopub.status.idle": "2022-04-04T15:15:06.335241Z",
     "shell.execute_reply": "2022-04-04T15:15:06.334481Z"
    }
   },
   "outputs": [
    {
     "name": "stderr",
     "output_type": "stream",
     "text": [
      "mkdir: cannot create directory ‘/usr/share/miniconda/envs/pygromosTest/lib/python3.9/site-packages/examples/example_files/TI_Calculation/M030_to_6KET’: No such file or directory\n"
     ]
    },
    {
     "ename": "OSError",
     "evalue": "could not make folder:\n /usr/share/miniconda/envs/pygromosTest/lib/python3.9/site-packages/examples/example_files/TI_Calculation/M030_to_6KET",
     "output_type": "error",
     "traceback": [
      "\u001b[0;31m---------------------------------------------------------------------------\u001b[0m",
      "\u001b[0;31mOSError\u001b[0m                                   Traceback (most recent call last)",
      "Input \u001b[0;32mIn [2]\u001b[0m, in \u001b[0;36m<cell line: 11>\u001b[0;34m()\u001b[0m\n\u001b[1;32m      8\u001b[0m sys_name \u001b[38;5;241m=\u001b[39m \u001b[38;5;124m\"\u001b[39m\u001b[38;5;124mM030_to_6KET\u001b[39m\u001b[38;5;124m\"\u001b[39m\n\u001b[1;32m      9\u001b[0m lam \u001b[38;5;241m=\u001b[39m \u001b[38;5;241m0\u001b[39m\n\u001b[0;32m---> 11\u001b[0m project_dir \u001b[38;5;241m=\u001b[39m \u001b[43mbash\u001b[49m\u001b[38;5;241;43m.\u001b[39;49m\u001b[43mmake_folder\u001b[49m\u001b[43m(\u001b[49m\u001b[43mroot_dir\u001b[49m\u001b[38;5;241;43m+\u001b[39;49m\u001b[38;5;124;43m\"\u001b[39;49m\u001b[38;5;124;43m/\u001b[39;49m\u001b[38;5;124;43m\"\u001b[39;49m\u001b[38;5;241;43m+\u001b[39;49m\u001b[43msys_name\u001b[49m\u001b[43m)\u001b[49m\n\u001b[1;32m     12\u001b[0m input_dir \u001b[38;5;241m=\u001b[39m bash\u001b[38;5;241m.\u001b[39mmake_folder(project_dir\u001b[38;5;241m+\u001b[39m\u001b[38;5;124m\"\u001b[39m\u001b[38;5;124m/input\u001b[39m\u001b[38;5;124m\"\u001b[39m)\n",
      "File \u001b[0;32m/usr/share/miniconda/envs/pygromosTest/lib/python3.9/site-packages/pygromos/utils/bash.py:558\u001b[0m, in \u001b[0;36mmake_folder\u001b[0;34m(in_directory_path, additional_option, verbose)\u001b[0m\n\u001b[1;32m    556\u001b[0m \u001b[38;5;28;01mif\u001b[39;00m \u001b[38;5;129;01mnot\u001b[39;00m os\u001b[38;5;241m.\u001b[39mpath\u001b[38;5;241m.\u001b[39misdir(in_directory_path):\n\u001b[1;32m    557\u001b[0m     \u001b[38;5;28;01mif\u001b[39;00m os\u001b[38;5;241m.\u001b[39msystem(mk_folder):\n\u001b[0;32m--> 558\u001b[0m         \u001b[38;5;28;01mraise\u001b[39;00m \u001b[38;5;167;01mOSError\u001b[39;00m(\u001b[38;5;124m\"\u001b[39m\u001b[38;5;124mcould not make folder:\u001b[39m\u001b[38;5;130;01m\\n\u001b[39;00m\u001b[38;5;124m \u001b[39m\u001b[38;5;124m\"\u001b[39m \u001b[38;5;241m+\u001b[39m \u001b[38;5;28mstr\u001b[39m(in_directory_path))\n\u001b[1;32m    560\u001b[0m \u001b[38;5;28;01melif\u001b[39;00m verbose:\n\u001b[1;32m    561\u001b[0m     warnings\u001b[38;5;241m.\u001b[39mwarn(\u001b[38;5;124m\"\u001b[39m\u001b[38;5;124mWARNING:\u001b[39m\u001b[38;5;130;01m\\n\u001b[39;00m\u001b[38;5;130;01m\\t\u001b[39;00m\u001b[38;5;124m Did not build already existing folder: \u001b[39m\u001b[38;5;124m\"\u001b[39m \u001b[38;5;241m+\u001b[39m in_directory_path, category\u001b[38;5;241m=\u001b[39m\u001b[38;5;167;01mUserWarning\u001b[39;00m)\n",
      "\u001b[0;31mOSError\u001b[0m: could not make folder:\n /usr/share/miniconda/envs/pygromosTest/lib/python3.9/site-packages/examples/example_files/TI_Calculation/M030_to_6KET"
     ]
    }
   ],
   "source": [
    "root_dir = os.path.abspath(os.path.dirname(pygromos.__file__)+\"/../examples/example_files/TI_Calculation\")\n",
    "root_in_dir = root_dir+\"/TI_input\"\n",
    "cnf_path = root_in_dir+\"/M030_6KET.cnf\"\n",
    "top_path = root_in_dir + \"/M030_6KET.top\"\n",
    "disres_path = root_in_dir+\"/M030_6KET.disres\"\n",
    "\n",
    "\n",
    "sys_name = \"M030_to_6KET\"\n",
    "lam = 0\n",
    "\n",
    "project_dir = bash.make_folder(root_dir+\"/\"+sys_name)\n",
    "input_dir = bash.make_folder(project_dir+\"/input\")"
   ]
  },
  {
   "cell_type": "markdown",
   "metadata": {
    "pycharm": {
     "name": "#%% md\n"
    }
   },
   "source": [
    "## Vacuum Simulation\n",
    "\n",
    "### Direction A->B\n",
    "\n",
    "#### Setup:\n",
    "\n",
    "\n",
    "##### Build pertubation file\n"
   ]
  },
  {
   "cell_type": "code",
   "execution_count": 3,
   "metadata": {
    "execution": {
     "iopub.execute_input": "2022-04-04T15:15:06.338631Z",
     "iopub.status.busy": "2022-04-04T15:15:06.338244Z",
     "iopub.status.idle": "2022-04-04T15:15:06.363563Z",
     "shell.execute_reply": "2022-04-04T15:15:06.363010Z"
    }
   },
   "outputs": [
    {
     "ename": "NameError",
     "evalue": "name 'input_dir' is not defined",
     "output_type": "error",
     "traceback": [
      "\u001b[0;31m---------------------------------------------------------------------------\u001b[0m",
      "\u001b[0;31mNameError\u001b[0m                                 Traceback (most recent call last)",
      "Input \u001b[0;32mIn [3]\u001b[0m, in \u001b[0;36m<cell line: 6>\u001b[0;34m()\u001b[0m\n\u001b[1;32m      2\u001b[0m \u001b[38;5;28;01mfrom\u001b[39;00m \u001b[38;5;21;01mpygromos\u001b[39;00m\u001b[38;5;21;01m.\u001b[39;00m\u001b[38;5;21;01mfiles\u001b[39;00m\u001b[38;5;21;01m.\u001b[39;00m\u001b[38;5;21;01mblocks\u001b[39;00m\u001b[38;5;21;01m.\u001b[39;00m\u001b[38;5;21;01mtopology_blocks\u001b[39;00m \u001b[38;5;28;01mimport\u001b[39;00m pertubation_lam_state, atom_lam_pertubation_state, PERTATOMPARAM, TITLE\n\u001b[1;32m      5\u001b[0m \u001b[38;5;66;03m#External imd_changes:\u001b[39;00m\n\u001b[1;32m      6\u001b[0m grom_system \u001b[38;5;241m=\u001b[39m Gromos_System(in_cnf_path\u001b[38;5;241m=\u001b[39mcnf_path, in_top_path\u001b[38;5;241m=\u001b[39mtop_path,\n\u001b[1;32m      7\u001b[0m                             in_disres_path\u001b[38;5;241m=\u001b[39mdisres_path,\n\u001b[0;32m----> 8\u001b[0m                             system_name\u001b[38;5;241m=\u001b[39msys_name, work_folder\u001b[38;5;241m=\u001b[39m\u001b[43minput_dir\u001b[49m)\n\u001b[1;32m     11\u001b[0m \u001b[38;5;66;03m#Build up lambda - States\u001b[39;00m\n\u001b[1;32m     12\u001b[0m pert_atoms\u001b[38;5;241m=\u001b[39m[]\n",
      "\u001b[0;31mNameError\u001b[0m: name 'input_dir' is not defined"
     ]
    }
   ],
   "source": [
    "from pygromos.files.topology.ptp import Pertubation_topology\n",
    "from pygromos.files.blocks.topology_blocks import pertubation_lam_state, atom_lam_pertubation_state, PERTATOMPARAM, TITLE\n",
    "\n",
    "\n",
    "#External imd_changes:\n",
    "grom_system = Gromos_System(in_cnf_path=cnf_path, in_top_path=top_path,\n",
    "                            in_disres_path=disres_path,\n",
    "                            system_name=sys_name, work_folder=input_dir)\n",
    "\n",
    "\n",
    "#Build up lambda - States\n",
    "pert_atoms=[]\n",
    "for atom_line in grom_system.top.SOLUTEATOM:\n",
    "    states = {}\n",
    "    phys_state = pertubation_lam_state(IAC=atom_line.IAC, MASS=atom_line.MASS, CHARGE=atom_line.CG)\n",
    "    states = {atom_line.MRES: phys_state }\n",
    "\n",
    "    pert_atom = atom_lam_pertubation_state(atom_line.ATNM,RES=atom_line.MRES,NAME=atom_line.PANM, STATES=states)\n",
    "    pert_atoms.append(pert_atom)\n",
    "pert_atom_block = PERTATOMPARAM(pert_atoms)\n",
    "\n",
    "# Generate ptp file\n",
    "grom_system.ptp = Pertubation_topology(in_value = None)\n",
    "grom_system.ptp.PERTATOMPARAM = pert_atom_block\n",
    "grom_system.ptp.TITLE = TITLE(\"Automatic generated pertubation file. \")\n",
    "\n",
    "grom_system.ptp"
   ]
  },
  {
   "cell_type": "code",
   "execution_count": 4,
   "metadata": {
    "execution": {
     "iopub.execute_input": "2022-04-04T15:15:06.366381Z",
     "iopub.status.busy": "2022-04-04T15:15:06.366075Z",
     "iopub.status.idle": "2022-04-04T15:15:06.381811Z",
     "shell.execute_reply": "2022-04-04T15:15:06.381267Z"
    }
   },
   "outputs": [
    {
     "ename": "NameError",
     "evalue": "name 'grom_system' is not defined",
     "output_type": "error",
     "traceback": [
      "\u001b[0;31m---------------------------------------------------------------------------\u001b[0m",
      "\u001b[0;31mNameError\u001b[0m                                 Traceback (most recent call last)",
      "Input \u001b[0;32mIn [4]\u001b[0m, in \u001b[0;36m<cell line: 2>\u001b[0;34m()\u001b[0m\n\u001b[1;32m      1\u001b[0m \u001b[38;5;66;03m##Write out all generated files\u001b[39;00m\n\u001b[0;32m----> 2\u001b[0m \u001b[43mgrom_system\u001b[49m\u001b[38;5;241m.\u001b[39mrebase_files()\n\u001b[1;32m      4\u001b[0m \u001b[38;5;66;03m##save Input System\u001b[39;00m\n\u001b[1;32m      5\u001b[0m grom_system\u001b[38;5;241m.\u001b[39msave(root_dir\u001b[38;5;241m+\u001b[39m\u001b[38;5;124m\"\u001b[39m\u001b[38;5;124m/initial_startSys.obj\u001b[39m\u001b[38;5;124m\"\u001b[39m)\n",
      "\u001b[0;31mNameError\u001b[0m: name 'grom_system' is not defined"
     ]
    }
   ],
   "source": [
    "##Write out all generated files\n",
    "grom_system.rebase_files()\n",
    "\n",
    "##save Input System\n",
    "grom_system.save(root_dir+\"/initial_startSys.obj\")\n",
    "grom_system"
   ]
  },
  {
   "cell_type": "markdown",
   "metadata": {},
   "source": [
    "### RUN Emin"
   ]
  },
  {
   "cell_type": "code",
   "execution_count": 5,
   "metadata": {
    "execution": {
     "iopub.execute_input": "2022-04-04T15:15:06.384917Z",
     "iopub.status.busy": "2022-04-04T15:15:06.384386Z",
     "iopub.status.idle": "2022-04-04T15:15:06.656350Z",
     "shell.execute_reply": "2022-04-04T15:15:06.655697Z"
    }
   },
   "outputs": [
    {
     "ename": "FileNotFoundError",
     "evalue": "[Errno 2] No such file or directory: '/usr/share/miniconda/envs/pygromosTest/lib/python3.9/site-packages/examples/example_files/TI_Calculation/initial_startSys.obj'",
     "output_type": "error",
     "traceback": [
      "\u001b[0;31m---------------------------------------------------------------------------\u001b[0m",
      "\u001b[0;31mFileNotFoundError\u001b[0m                         Traceback (most recent call last)",
      "Input \u001b[0;32mIn [5]\u001b[0m, in \u001b[0;36m<cell line: 6>\u001b[0;34m()\u001b[0m\n\u001b[1;32m      3\u001b[0m \u001b[38;5;28;01mfrom\u001b[39;00m \u001b[38;5;21;01mpygromos\u001b[39;00m\u001b[38;5;21;01m.\u001b[39;00m\u001b[38;5;21;01mdata\u001b[39;00m\u001b[38;5;21;01m.\u001b[39;00m\u001b[38;5;21;01msimulation_parameters_templates\u001b[39;00m \u001b[38;5;28;01mimport\u001b[39;00m template_emin_vac\n\u001b[1;32m      4\u001b[0m \u001b[38;5;28;01mfrom\u001b[39;00m \u001b[38;5;21;01mpygromos\u001b[39;00m\u001b[38;5;21;01m.\u001b[39;00m\u001b[38;5;21;01msimulations\u001b[39;00m\u001b[38;5;21;01m.\u001b[39;00m\u001b[38;5;21;01mmodules\u001b[39;00m\u001b[38;5;21;01m.\u001b[39;00m\u001b[38;5;21;01mpreset_simulation_modules\u001b[39;00m \u001b[38;5;28;01mimport\u001b[39;00m emin\n\u001b[0;32m----> 6\u001b[0m grom_system \u001b[38;5;241m=\u001b[39m \u001b[43mGromos_System\u001b[49m\u001b[38;5;241;43m.\u001b[39;49m\u001b[43mload\u001b[49m\u001b[43m(\u001b[49m\u001b[43mroot_dir\u001b[49m\u001b[38;5;241;43m+\u001b[39;49m\u001b[38;5;124;43m\"\u001b[39;49m\u001b[38;5;124;43m/initial_startSys.obj\u001b[39;49m\u001b[38;5;124;43m\"\u001b[39;49m\u001b[43m)\u001b[49m\n\u001b[1;32m      7\u001b[0m step_name  \u001b[38;5;241m=\u001b[39m \u001b[38;5;124m\"\u001b[39m\u001b[38;5;124ma_emin\u001b[39m\u001b[38;5;124m\"\u001b[39m \u001b[38;5;66;03m#also the dir_name, out prefix etc.\u001b[39;00m\n\u001b[1;32m      8\u001b[0m grom_system\u001b[38;5;241m.\u001b[39mimd \u001b[38;5;241m=\u001b[39m template_emin_vac \u001b[38;5;66;03m#read template imd\u001b[39;00m\n",
      "File \u001b[0;32m/usr/share/miniconda/envs/pygromosTest/lib/python3.9/site-packages/pygromos/files/gromos_system/gromos_system.py:1195\u001b[0m, in \u001b[0;36mGromos_System.load\u001b[0;34m(cls, path)\u001b[0m\n\u001b[1;32m   1191\u001b[0m \u001b[38;5;124;03m\"\"\"\u001b[39;00m\n\u001b[1;32m   1192\u001b[0m \u001b[38;5;124;03mThis method stores the Class as binary obj to a given path or fileBuffer.\u001b[39;00m\n\u001b[1;32m   1193\u001b[0m \u001b[38;5;124;03m\"\"\"\u001b[39;00m\n\u001b[1;32m   1194\u001b[0m \u001b[38;5;28;01mif\u001b[39;00m \u001b[38;5;28misinstance\u001b[39m(path, \u001b[38;5;28mstr\u001b[39m):\n\u001b[0;32m-> 1195\u001b[0m     bufferedReader \u001b[38;5;241m=\u001b[39m \u001b[38;5;28;43mopen\u001b[39;49m\u001b[43m(\u001b[49m\u001b[43mpath\u001b[49m\u001b[43m,\u001b[49m\u001b[43m \u001b[49m\u001b[38;5;124;43m\"\u001b[39;49m\u001b[38;5;124;43mrb\u001b[39;49m\u001b[38;5;124;43m\"\u001b[39;49m\u001b[43m)\u001b[49m\n\u001b[1;32m   1196\u001b[0m \u001b[38;5;28;01melif\u001b[39;00m \u001b[38;5;28misinstance\u001b[39m(path, io\u001b[38;5;241m.\u001b[39mBufferedReader):\n\u001b[1;32m   1197\u001b[0m     bufferedReader \u001b[38;5;241m=\u001b[39m path\n",
      "\u001b[0;31mFileNotFoundError\u001b[0m: [Errno 2] No such file or directory: '/usr/share/miniconda/envs/pygromosTest/lib/python3.9/site-packages/examples/example_files/TI_Calculation/initial_startSys.obj'"
     ]
    }
   ],
   "source": [
    "# PREPARE EMIN\n",
    "## IMPORT\n",
    "from pygromos.data.simulation_parameters_templates import template_emin_vac\n",
    "from pygromos.simulations.modules.preset_simulation_modules import emin\n",
    "\n",
    "grom_system = Gromos_System.load(root_dir+\"/initial_startSys.obj\")\n",
    "step_name  = \"a_emin\" #also the dir_name, out prefix etc.\n",
    "grom_system.imd = template_emin_vac #read template imd\n",
    "\n",
    "#Pertubation for molecules to sim params\n",
    "pert_block  =  PERTURBATION(NTG=1, NRDGL=0, RLAM=lam, DLAMT=0,\n",
    "                            ALPHC=0.5, ALPHLJ=0.5, NLAM=2, NSCALE=0)\n",
    "grom_system.imd.add_block(block=pert_block)\n",
    "\n",
    "#save checkpoint system\n",
    "step_dir = project_dir+\"/\"+step_name\n"
   ]
  },
  {
   "cell_type": "code",
   "execution_count": 6,
   "metadata": {
    "execution": {
     "iopub.execute_input": "2022-04-04T15:15:06.659671Z",
     "iopub.status.busy": "2022-04-04T15:15:06.659204Z",
     "iopub.status.idle": "2022-04-04T15:15:06.675643Z",
     "shell.execute_reply": "2022-04-04T15:15:06.675130Z"
    }
   },
   "outputs": [
    {
     "ename": "NameError",
     "evalue": "name 'grom_system' is not defined",
     "output_type": "error",
     "traceback": [
      "\u001b[0;31m---------------------------------------------------------------------------\u001b[0m",
      "\u001b[0;31mNameError\u001b[0m                                 Traceback (most recent call last)",
      "Input \u001b[0;32mIn [6]\u001b[0m, in \u001b[0;36m<cell line: 2>\u001b[0;34m()\u001b[0m\n\u001b[1;32m      1\u001b[0m \u001b[38;5;66;03m#EXECUTE EMIN\u001b[39;00m\n\u001b[0;32m----> 2\u001b[0m emin_gromos_system, jobID \u001b[38;5;241m=\u001b[39m emin(in_gromos_system\u001b[38;5;241m=\u001b[39m\u001b[43mgrom_system\u001b[49m, project_dir\u001b[38;5;241m=\u001b[39mproject_dir,\n\u001b[1;32m      3\u001b[0m                           step_name\u001b[38;5;241m=\u001b[39mstep_name, submission_system\u001b[38;5;241m=\u001b[39msubSystem())\n\u001b[1;32m      5\u001b[0m emin_gromos_system\u001b[38;5;241m.\u001b[39msave(step_dir\u001b[38;5;241m+\u001b[39m\u001b[38;5;124m\"\u001b[39m\u001b[38;5;124m/emin_out.obj\u001b[39m\u001b[38;5;124m\"\u001b[39m)\n\u001b[1;32m      6\u001b[0m emin_gromos_system\n",
      "\u001b[0;31mNameError\u001b[0m: name 'grom_system' is not defined"
     ]
    }
   ],
   "source": [
    "#EXECUTE EMIN\n",
    "emin_gromos_system, jobID = emin(in_gromos_system=grom_system, project_dir=project_dir,\n",
    "                          step_name=step_name, submission_system=subSystem())\n",
    "\n",
    "emin_gromos_system.save(step_dir+\"/emin_out.obj\")\n",
    "emin_gromos_system"
   ]
  },
  {
   "cell_type": "markdown",
   "metadata": {},
   "source": [
    "## RUN Test SD EQ"
   ]
  },
  {
   "cell_type": "code",
   "execution_count": 7,
   "metadata": {
    "execution": {
     "iopub.execute_input": "2022-04-04T15:15:06.678797Z",
     "iopub.status.busy": "2022-04-04T15:15:06.678350Z",
     "iopub.status.idle": "2022-04-04T15:15:06.709066Z",
     "shell.execute_reply": "2022-04-04T15:15:06.708366Z"
    }
   },
   "outputs": [
    {
     "ename": "FileNotFoundError",
     "evalue": "[Errno 2] No such file or directory: '/usr/share/miniconda/envs/pygromosTest/lib/python3.9/site-packages/examples/example_files/TI_Calculation/M030_to_6KET/a_emin/emin_out.obj'",
     "output_type": "error",
     "traceback": [
      "\u001b[0;31m---------------------------------------------------------------------------\u001b[0m",
      "\u001b[0;31mFileNotFoundError\u001b[0m                         Traceback (most recent call last)",
      "Input \u001b[0;32mIn [7]\u001b[0m, in \u001b[0;36m<cell line: 4>\u001b[0;34m()\u001b[0m\n\u001b[1;32m      1\u001b[0m \u001b[38;5;28;01mfrom\u001b[39;00m \u001b[38;5;21;01mpygromos\u001b[39;00m\u001b[38;5;21;01m.\u001b[39;00m\u001b[38;5;21;01mdata\u001b[39;00m\u001b[38;5;21;01m.\u001b[39;00m\u001b[38;5;21;01msimulation_parameters_templates\u001b[39;00m \u001b[38;5;28;01mimport\u001b[39;00m template_sd\n\u001b[1;32m      2\u001b[0m \u001b[38;5;28;01mfrom\u001b[39;00m \u001b[38;5;21;01mpygromos\u001b[39;00m\u001b[38;5;21;01m.\u001b[39;00m\u001b[38;5;21;01msimulations\u001b[39;00m\u001b[38;5;21;01m.\u001b[39;00m\u001b[38;5;21;01mmodules\u001b[39;00m\u001b[38;5;21;01m.\u001b[39;00m\u001b[38;5;21;01mpreset_simulation_modules\u001b[39;00m \u001b[38;5;28;01mimport\u001b[39;00m sd\n\u001b[0;32m----> 4\u001b[0m grom_system \u001b[38;5;241m=\u001b[39m \u001b[43mGromos_System\u001b[49m\u001b[38;5;241;43m.\u001b[39;49m\u001b[43mload\u001b[49m\u001b[43m(\u001b[49m\u001b[43mroot_dir\u001b[49m\u001b[38;5;241;43m+\u001b[39;49m\u001b[38;5;124;43m\"\u001b[39;49m\u001b[38;5;124;43m/M030_to_6KET/a_emin/emin_out.obj\u001b[39;49m\u001b[38;5;124;43m\"\u001b[39;49m\u001b[43m)\u001b[49m\n\u001b[1;32m      5\u001b[0m step_name  \u001b[38;5;241m=\u001b[39m \u001b[38;5;124m\"\u001b[39m\u001b[38;5;124mb_vacuum_sd\u001b[39m\u001b[38;5;124m\"\u001b[39m\n\u001b[1;32m      6\u001b[0m grom_system\u001b[38;5;241m.\u001b[39mimd \u001b[38;5;241m=\u001b[39m template_sd\n",
      "File \u001b[0;32m/usr/share/miniconda/envs/pygromosTest/lib/python3.9/site-packages/pygromos/files/gromos_system/gromos_system.py:1195\u001b[0m, in \u001b[0;36mGromos_System.load\u001b[0;34m(cls, path)\u001b[0m\n\u001b[1;32m   1191\u001b[0m \u001b[38;5;124;03m\"\"\"\u001b[39;00m\n\u001b[1;32m   1192\u001b[0m \u001b[38;5;124;03mThis method stores the Class as binary obj to a given path or fileBuffer.\u001b[39;00m\n\u001b[1;32m   1193\u001b[0m \u001b[38;5;124;03m\"\"\"\u001b[39;00m\n\u001b[1;32m   1194\u001b[0m \u001b[38;5;28;01mif\u001b[39;00m \u001b[38;5;28misinstance\u001b[39m(path, \u001b[38;5;28mstr\u001b[39m):\n\u001b[0;32m-> 1195\u001b[0m     bufferedReader \u001b[38;5;241m=\u001b[39m \u001b[38;5;28;43mopen\u001b[39;49m\u001b[43m(\u001b[49m\u001b[43mpath\u001b[49m\u001b[43m,\u001b[49m\u001b[43m \u001b[49m\u001b[38;5;124;43m\"\u001b[39;49m\u001b[38;5;124;43mrb\u001b[39;49m\u001b[38;5;124;43m\"\u001b[39;49m\u001b[43m)\u001b[49m\n\u001b[1;32m   1196\u001b[0m \u001b[38;5;28;01melif\u001b[39;00m \u001b[38;5;28misinstance\u001b[39m(path, io\u001b[38;5;241m.\u001b[39mBufferedReader):\n\u001b[1;32m   1197\u001b[0m     bufferedReader \u001b[38;5;241m=\u001b[39m path\n",
      "\u001b[0;31mFileNotFoundError\u001b[0m: [Errno 2] No such file or directory: '/usr/share/miniconda/envs/pygromosTest/lib/python3.9/site-packages/examples/example_files/TI_Calculation/M030_to_6KET/a_emin/emin_out.obj'"
     ]
    }
   ],
   "source": [
    "from pygromos.data.simulation_parameters_templates import template_sd\n",
    "from pygromos.simulations.modules.preset_simulation_modules import sd\n",
    "\n",
    "grom_system = Gromos_System.load(root_dir+\"/M030_to_6KET/a_emin/emin_out.obj\")\n",
    "step_name  = \"b_vacuum_sd\"\n",
    "grom_system.imd = template_sd\n",
    "\n",
    "#Pertubation\n",
    "pert_block  =  PERTURBATION(NTG=1, NRDGL=0, RLAM=lam, DLAMT=0,\n",
    "                            ALPHC=0.5, ALPHLJ=0.5, NLAM=2, NSCALE=0)\n",
    "grom_system.imd.add_block(block=pert_block)\n",
    "\n",
    "#write out trajs:\n",
    "write_traj = WRITETRAJ(NTWX=100, NTWE=100)\n",
    "grom_system.imd.add_block(block=write_traj)\n",
    "step_dir = project_dir+\"/\"+step_name\n",
    "\n",
    "#further mods:\n",
    "grom_system.imd.CONSTRAINT.NTC = 3\n",
    "grom_system.imd.FORCE.BONDS = 0\n",
    "\n",
    "grom_system.imd.COVALENTFORM.NTBAH = 0\n",
    "grom_system.imd.COVALENTFORM.NTBDN = 0\n",
    "grom_system.imd.COVALENTFORM.NTBBH = 0\n",
    "\n",
    "grom_system.imd.STEP.NSTLIM = 30000\n",
    "\n",
    "\n"
   ]
  },
  {
   "cell_type": "code",
   "execution_count": 8,
   "metadata": {
    "execution": {
     "iopub.execute_input": "2022-04-04T15:15:06.712415Z",
     "iopub.status.busy": "2022-04-04T15:15:06.712235Z",
     "iopub.status.idle": "2022-04-04T15:15:06.728548Z",
     "shell.execute_reply": "2022-04-04T15:15:06.727989Z"
    }
   },
   "outputs": [
    {
     "ename": "NameError",
     "evalue": "name 'grom_system' is not defined",
     "output_type": "error",
     "traceback": [
      "\u001b[0;31m---------------------------------------------------------------------------\u001b[0m",
      "\u001b[0;31mNameError\u001b[0m                                 Traceback (most recent call last)",
      "Input \u001b[0;32mIn [8]\u001b[0m, in \u001b[0;36m<cell line: 1>\u001b[0;34m()\u001b[0m\n\u001b[0;32m----> 1\u001b[0m sd_gromos_system, jobID  \u001b[38;5;241m=\u001b[39m sd(in_gromos_system\u001b[38;5;241m=\u001b[39m\u001b[43mgrom_system\u001b[49m, project_dir\u001b[38;5;241m=\u001b[39mproject_dir,\n\u001b[1;32m      2\u001b[0m                               step_name\u001b[38;5;241m=\u001b[39mstep_name, submission_system\u001b[38;5;241m=\u001b[39msubSystem(), in_imd_path\u001b[38;5;241m=\u001b[39m\u001b[38;5;28;01mNone\u001b[39;00m,\n\u001b[1;32m      3\u001b[0m                       equilibration_runs\u001b[38;5;241m=\u001b[39m\u001b[38;5;241m1\u001b[39m, simulation_runs\u001b[38;5;241m=\u001b[39m\u001b[38;5;241m1\u001b[39m)\n\u001b[1;32m      4\u001b[0m sd_gromos_system\u001b[38;5;241m.\u001b[39msave(step_dir\u001b[38;5;241m+\u001b[39m\u001b[38;5;124m\"\u001b[39m\u001b[38;5;124m/sd_out_system.obj\u001b[39m\u001b[38;5;124m\"\u001b[39m)\n\u001b[1;32m      5\u001b[0m sd_gromos_system\n",
      "\u001b[0;31mNameError\u001b[0m: name 'grom_system' is not defined"
     ]
    }
   ],
   "source": [
    "sd_gromos_system, jobID  = sd(in_gromos_system=grom_system, project_dir=project_dir,\n",
    "                              step_name=step_name, submission_system=subSystem(), in_imd_path=None,\n",
    "                      equilibration_runs=1, simulation_runs=1)\n",
    "sd_gromos_system.save(step_dir+\"/sd_out_system.obj\")\n",
    "sd_gromos_system"
   ]
  },
  {
   "cell_type": "markdown",
   "metadata": {
    "pycharm": {
     "name": "#%% md\n"
    }
   },
   "source": [
    "## Further Analysis:\n",
    "Transform the trc into a pdb traj to check it out with pymol :!)"
   ]
  },
  {
   "cell_type": "code",
   "execution_count": 9,
   "metadata": {
    "execution": {
     "iopub.execute_input": "2022-04-04T15:15:06.731284Z",
     "iopub.status.busy": "2022-04-04T15:15:06.730993Z",
     "iopub.status.idle": "2022-04-04T15:15:06.747217Z",
     "shell.execute_reply": "2022-04-04T15:15:06.746694Z"
    }
   },
   "outputs": [
    {
     "ename": "NameError",
     "evalue": "name 'project_dir' is not defined",
     "output_type": "error",
     "traceback": [
      "\u001b[0;31m---------------------------------------------------------------------------\u001b[0m",
      "\u001b[0;31mNameError\u001b[0m                                 Traceback (most recent call last)",
      "Input \u001b[0;32mIn [9]\u001b[0m, in \u001b[0;36m<cell line: 4>\u001b[0;34m()\u001b[0m\n\u001b[1;32m      1\u001b[0m \u001b[38;5;66;03m#final analysis dir:\u001b[39;00m\n\u001b[1;32m      2\u001b[0m \u001b[38;5;28;01mfrom\u001b[39;00m \u001b[38;5;21;01mpygromos\u001b[39;00m\u001b[38;5;21;01m.\u001b[39;00m\u001b[38;5;21;01mutils\u001b[39;00m \u001b[38;5;28;01mimport\u001b[39;00m bash\n\u001b[0;32m----> 4\u001b[0m out_ana \u001b[38;5;241m=\u001b[39m \u001b[43mproject_dir\u001b[49m\u001b[38;5;241m+\u001b[39m\u001b[38;5;124m\"\u001b[39m\u001b[38;5;124m/c_ana\u001b[39m\u001b[38;5;124m\"\u001b[39m\n\u001b[1;32m      5\u001b[0m \u001b[38;5;28;01mif\u001b[39;00m(\u001b[38;5;129;01mnot\u001b[39;00m os\u001b[38;5;241m.\u001b[39mpath\u001b[38;5;241m.\u001b[39mexists(out_ana)):\n\u001b[1;32m      6\u001b[0m     bash\u001b[38;5;241m.\u001b[39mmake_folder(out_ana)\n",
      "\u001b[0;31mNameError\u001b[0m: name 'project_dir' is not defined"
     ]
    }
   ],
   "source": [
    "#final analysis dir:\n",
    "from pygromos.utils import bash\n",
    "\n",
    "out_ana = project_dir+\"/c_ana\"\n",
    "if(not os.path.exists(out_ana)):\n",
    "    bash.make_folder(out_ana)"
   ]
  },
  {
   "cell_type": "code",
   "execution_count": 10,
   "metadata": {
    "execution": {
     "iopub.execute_input": "2022-04-04T15:15:06.750094Z",
     "iopub.status.busy": "2022-04-04T15:15:06.749671Z",
     "iopub.status.idle": "2022-04-04T15:15:06.765445Z",
     "shell.execute_reply": "2022-04-04T15:15:06.764963Z"
    }
   },
   "outputs": [
    {
     "ename": "NameError",
     "evalue": "name 'project_dir' is not defined",
     "output_type": "error",
     "traceback": [
      "\u001b[0;31m---------------------------------------------------------------------------\u001b[0m",
      "\u001b[0;31mNameError\u001b[0m                                 Traceback (most recent call last)",
      "Input \u001b[0;32mIn [10]\u001b[0m, in \u001b[0;36m<cell line: 1>\u001b[0;34m()\u001b[0m\n\u001b[0;32m----> 1\u001b[0m \u001b[43mproject_dir\u001b[49m\n",
      "\u001b[0;31mNameError\u001b[0m: name 'project_dir' is not defined"
     ]
    }
   ],
   "source": [
    "project_dir"
   ]
  },
  {
   "cell_type": "code",
   "execution_count": 11,
   "metadata": {
    "execution": {
     "iopub.execute_input": "2022-04-04T15:15:06.768255Z",
     "iopub.status.busy": "2022-04-04T15:15:06.767982Z",
     "iopub.status.idle": "2022-04-04T15:15:06.784539Z",
     "shell.execute_reply": "2022-04-04T15:15:06.783982Z"
    }
   },
   "outputs": [
    {
     "ename": "NameError",
     "evalue": "name 'project_dir' is not defined",
     "output_type": "error",
     "traceback": [
      "\u001b[0;31m---------------------------------------------------------------------------\u001b[0m",
      "\u001b[0;31mNameError\u001b[0m                                 Traceback (most recent call last)",
      "Input \u001b[0;32mIn [11]\u001b[0m, in \u001b[0;36m<cell line: 2>\u001b[0;34m()\u001b[0m\n\u001b[1;32m      1\u001b[0m \u001b[38;5;28;01mfrom\u001b[39;00m \u001b[38;5;21;01mpygromos\u001b[39;00m\u001b[38;5;21;01m.\u001b[39;00m\u001b[38;5;21;01mfiles\u001b[39;00m\u001b[38;5;21;01m.\u001b[39;00m\u001b[38;5;21;01mcoord\u001b[39;00m \u001b[38;5;28;01mimport\u001b[39;00m Cnf\n\u001b[0;32m----> 2\u001b[0m in_path\u001b[38;5;241m=\u001b[39m\u001b[43mproject_dir\u001b[49m\u001b[38;5;241m+\u001b[39m\u001b[38;5;124m\"\u001b[39m\u001b[38;5;124m/a_emin/analysis/data/a_emin.cnf\u001b[39m\u001b[38;5;124m\"\u001b[39m\n\u001b[1;32m      3\u001b[0m cnf_file \u001b[38;5;241m=\u001b[39m Cnf(in_path)\n\u001b[1;32m      4\u001b[0m cnf_file\u001b[38;5;241m.\u001b[39mwrite_pdb(in_path\u001b[38;5;241m.\u001b[39mreplace(\u001b[38;5;124m\"\u001b[39m\u001b[38;5;124mcnf\u001b[39m\u001b[38;5;124m\"\u001b[39m, \u001b[38;5;124m\"\u001b[39m\u001b[38;5;124mpdb\u001b[39m\u001b[38;5;124m\"\u001b[39m))\n",
      "\u001b[0;31mNameError\u001b[0m: name 'project_dir' is not defined"
     ]
    }
   ],
   "source": [
    "from pygromos.files.coord import Cnf\n",
    "in_path=project_dir+\"/a_emin/analysis/data/a_emin.cnf\"\n",
    "cnf_file = Cnf(in_path)\n",
    "cnf_file.write_pdb(in_path.replace(\"cnf\", \"pdb\"))\n"
   ]
  },
  {
   "cell_type": "code",
   "execution_count": 12,
   "metadata": {
    "execution": {
     "iopub.execute_input": "2022-04-04T15:15:06.787352Z",
     "iopub.status.busy": "2022-04-04T15:15:06.787063Z",
     "iopub.status.idle": "2022-04-04T15:15:06.801884Z",
     "shell.execute_reply": "2022-04-04T15:15:06.801308Z"
    }
   },
   "outputs": [
    {
     "ename": "NameError",
     "evalue": "name 'cnf_file' is not defined",
     "output_type": "error",
     "traceback": [
      "\u001b[0;31m---------------------------------------------------------------------------\u001b[0m",
      "\u001b[0;31mNameError\u001b[0m                                 Traceback (most recent call last)",
      "Input \u001b[0;32mIn [12]\u001b[0m, in \u001b[0;36m<cell line: 1>\u001b[0;34m()\u001b[0m\n\u001b[0;32m----> 1\u001b[0m \u001b[43mcnf_file\u001b[49m\u001b[38;5;241m.\u001b[39mvisualize()\n",
      "\u001b[0;31mNameError\u001b[0m: name 'cnf_file' is not defined"
     ]
    }
   ],
   "source": [
    "cnf_file.visualize()"
   ]
  },
  {
   "cell_type": "code",
   "execution_count": 13,
   "metadata": {
    "execution": {
     "iopub.execute_input": "2022-04-04T15:15:06.804764Z",
     "iopub.status.busy": "2022-04-04T15:15:06.804407Z",
     "iopub.status.idle": "2022-04-04T15:15:06.822583Z",
     "shell.execute_reply": "2022-04-04T15:15:06.822068Z"
    }
   },
   "outputs": [
    {
     "ename": "NameError",
     "evalue": "name 'project_dir' is not defined",
     "output_type": "error",
     "traceback": [
      "\u001b[0;31m---------------------------------------------------------------------------\u001b[0m",
      "\u001b[0;31mNameError\u001b[0m                                 Traceback (most recent call last)",
      "Input \u001b[0;32mIn [13]\u001b[0m, in \u001b[0;36m<cell line: 3>\u001b[0;34m()\u001b[0m\n\u001b[1;32m      1\u001b[0m \u001b[38;5;28;01mfrom\u001b[39;00m \u001b[38;5;21;01mpygromos\u001b[39;00m\u001b[38;5;21;01m.\u001b[39;00m\u001b[38;5;21;01mfiles\u001b[39;00m\u001b[38;5;21;01m.\u001b[39;00m\u001b[38;5;21;01mtrajectory\u001b[39;00m\u001b[38;5;21;01m.\u001b[39;00m\u001b[38;5;21;01mtrc\u001b[39;00m \u001b[38;5;28;01mimport\u001b[39;00m Trc\n\u001b[0;32m----> 3\u001b[0m in_path\u001b[38;5;241m=\u001b[39m\u001b[43mproject_dir\u001b[49m\u001b[38;5;241m+\u001b[39m\u001b[38;5;124m\"\u001b[39m\u001b[38;5;124m/b_vacuum_sd/analysis/data/b_vacuum_sd.trc.h5\u001b[39m\u001b[38;5;124m\"\u001b[39m\n\u001b[1;32m      5\u001b[0m trc \u001b[38;5;241m=\u001b[39m Trc(input_value\u001b[38;5;241m=\u001b[39min_path)\n\u001b[1;32m      6\u001b[0m trc\u001b[38;5;241m.\u001b[39mwrite_pdb(out_ana\u001b[38;5;241m+\u001b[39m\u001b[38;5;124m\"\u001b[39m\u001b[38;5;124m/sd_traj.pdb\u001b[39m\u001b[38;5;124m\"\u001b[39m, cnf_file\u001b[38;5;241m=\u001b[39mcnf_path)\u001b[38;5;66;03m#grom_system.cnf.path)\u001b[39;00m\n",
      "\u001b[0;31mNameError\u001b[0m: name 'project_dir' is not defined"
     ]
    }
   ],
   "source": [
    "from pygromos.files.trajectory.trc import Trc\n",
    "\n",
    "in_path=project_dir+\"/b_vacuum_sd/analysis/data/b_vacuum_sd.trc.h5\"\n",
    "\n",
    "trc = Trc(input_value=in_path)\n",
    "trc.write_pdb(out_ana+\"/sd_traj.pdb\", cnf_file=cnf_path)#grom_system.cnf.path)\n",
    "trc"
   ]
  },
  {
   "cell_type": "code",
   "execution_count": 14,
   "metadata": {
    "execution": {
     "iopub.execute_input": "2022-04-04T15:15:06.825521Z",
     "iopub.status.busy": "2022-04-04T15:15:06.825013Z",
     "iopub.status.idle": "2022-04-04T15:15:06.840782Z",
     "shell.execute_reply": "2022-04-04T15:15:06.840279Z"
    }
   },
   "outputs": [
    {
     "ename": "NameError",
     "evalue": "name 'project_dir' is not defined",
     "output_type": "error",
     "traceback": [
      "\u001b[0;31m---------------------------------------------------------------------------\u001b[0m",
      "\u001b[0;31mNameError\u001b[0m                                 Traceback (most recent call last)",
      "Input \u001b[0;32mIn [14]\u001b[0m, in \u001b[0;36m<cell line: 3>\u001b[0;34m()\u001b[0m\n\u001b[1;32m      1\u001b[0m \u001b[38;5;28;01mfrom\u001b[39;00m \u001b[38;5;21;01mpygromos\u001b[39;00m\u001b[38;5;21;01m.\u001b[39;00m\u001b[38;5;21;01mfiles\u001b[39;00m\u001b[38;5;21;01m.\u001b[39;00m\u001b[38;5;21;01mtrajectory\u001b[39;00m\u001b[38;5;21;01m.\u001b[39;00m\u001b[38;5;21;01mtre\u001b[39;00m \u001b[38;5;28;01mimport\u001b[39;00m Tre\n\u001b[0;32m----> 3\u001b[0m in_path\u001b[38;5;241m=\u001b[39m\u001b[43mproject_dir\u001b[49m\u001b[38;5;241m+\u001b[39m\u001b[38;5;124m\"\u001b[39m\u001b[38;5;124m/b_vacuum_sd/analysis/data/b_vacuum_sd.tre.h5\u001b[39m\u001b[38;5;124m\"\u001b[39m\n\u001b[1;32m      5\u001b[0m tre \u001b[38;5;241m=\u001b[39m Tre(input_value\u001b[38;5;241m=\u001b[39min_path)\n\u001b[1;32m      6\u001b[0m tre\n",
      "\u001b[0;31mNameError\u001b[0m: name 'project_dir' is not defined"
     ]
    }
   ],
   "source": [
    "from pygromos.files.trajectory.tre import Tre\n",
    "\n",
    "in_path=project_dir+\"/b_vacuum_sd/analysis/data/b_vacuum_sd.tre.h5\"\n",
    "\n",
    "tre = Tre(input_value=in_path)\n",
    "tre\n",
    "\n"
   ]
  },
  {
   "cell_type": "code",
   "execution_count": 15,
   "metadata": {
    "execution": {
     "iopub.execute_input": "2022-04-04T15:15:06.843587Z",
     "iopub.status.busy": "2022-04-04T15:15:06.843306Z",
     "iopub.status.idle": "2022-04-04T15:15:06.864198Z",
     "shell.execute_reply": "2022-04-04T15:15:06.863605Z"
    }
   },
   "outputs": [
    {
     "ename": "NameError",
     "evalue": "name 'tre' is not defined",
     "output_type": "error",
     "traceback": [
      "\u001b[0;31m---------------------------------------------------------------------------\u001b[0m",
      "\u001b[0;31mNameError\u001b[0m                                 Traceback (most recent call last)",
      "Input \u001b[0;32mIn [15]\u001b[0m, in \u001b[0;36m<cell line: 2>\u001b[0;34m()\u001b[0m\n\u001b[1;32m      1\u001b[0m \u001b[38;5;66;03m#Plot Potential Energies\u001b[39;00m\n\u001b[0;32m----> 2\u001b[0m V_tot \u001b[38;5;241m=\u001b[39m np\u001b[38;5;241m.\u001b[39marray(\u001b[38;5;28mlist\u001b[39m(\u001b[38;5;28mmap\u001b[39m(\u001b[38;5;28;01mlambda\u001b[39;00m x: x[\u001b[38;5;241m2\u001b[39m], \u001b[43mtre\u001b[49m\u001b[38;5;241m.\u001b[39mdatabase\u001b[38;5;241m.\u001b[39mtotals)))\n\u001b[1;32m      3\u001b[0m step \u001b[38;5;241m=\u001b[39m \u001b[38;5;28mlen\u001b[39m(tre\u001b[38;5;241m.\u001b[39mdatabase\u001b[38;5;241m.\u001b[39mTIMESTEP_time)\u001b[38;5;241m/\u001b[39m\u001b[38;5;241m/\u001b[39m\u001b[38;5;241m10\u001b[39m\n\u001b[1;32m      5\u001b[0m plt\u001b[38;5;241m.\u001b[39mplot(tre\u001b[38;5;241m.\u001b[39mdatabase\u001b[38;5;241m.\u001b[39mTIMESTEP_time, V_tot)\n",
      "\u001b[0;31mNameError\u001b[0m: name 'tre' is not defined"
     ]
    }
   ],
   "source": [
    "#Plot Potential Energies\n",
    "V_tot = np.array(list(map(lambda x: x[2], tre.database.totals)))\n",
    "step = len(tre.database.TIMESTEP_time)//10\n",
    "\n",
    "plt.plot(tre.database.TIMESTEP_time, V_tot)\n",
    "plt.xticks(np.round(list(tre.database.TIMESTEP_time[::step]),2))\n",
    "plt.xlabel(\"$t~[ps]$\")\n",
    "plt.ylabel(\"$V~[kJ]$\")\n",
    "plt.title(\"V total timeseries\")\n",
    "plt.savefig(out_ana+\"/potential_energy_timeseries.png\")\n",
    "\n"
   ]
  },
  {
   "cell_type": "markdown",
   "metadata": {},
   "source": [
    "## Lambda Sampling\n",
    "\n",
    "### Setup again"
   ]
  },
  {
   "cell_type": "code",
   "execution_count": 16,
   "metadata": {
    "execution": {
     "iopub.execute_input": "2022-04-04T15:15:06.867349Z",
     "iopub.status.busy": "2022-04-04T15:15:06.866894Z",
     "iopub.status.idle": "2022-04-04T15:15:06.899163Z",
     "shell.execute_reply": "2022-04-04T15:15:06.898536Z"
    }
   },
   "outputs": [
    {
     "name": "stderr",
     "output_type": "stream",
     "text": [
      "mkdir: cannot create directory ‘/home/runner/work/PyGromosTools/PyGromosTools/docs/sphinx_project/Examples/example_files/TI_Calculation/M030_to_6KET’: No such file or directory\n"
     ]
    },
    {
     "ename": "OSError",
     "evalue": "could not make folder:\n /home/runner/work/PyGromosTools/PyGromosTools/docs/sphinx_project/Examples/example_files/TI_Calculation/M030_to_6KET",
     "output_type": "error",
     "traceback": [
      "\u001b[0;31m---------------------------------------------------------------------------\u001b[0m",
      "\u001b[0;31mOSError\u001b[0m                                   Traceback (most recent call last)",
      "Input \u001b[0;32mIn [16]\u001b[0m, in \u001b[0;36m<cell line: 10>\u001b[0;34m()\u001b[0m\n\u001b[1;32m      7\u001b[0m sys_name \u001b[38;5;241m=\u001b[39m \u001b[38;5;124m\"\u001b[39m\u001b[38;5;124mM030_to_6KET\u001b[39m\u001b[38;5;124m\"\u001b[39m\n\u001b[1;32m      8\u001b[0m root_dir \u001b[38;5;241m=\u001b[39m os\u001b[38;5;241m.\u001b[39mgetcwd()\u001b[38;5;241m+\u001b[39m\u001b[38;5;124m\"\u001b[39m\u001b[38;5;124m/example_files/TI_Calculation\u001b[39m\u001b[38;5;124m\"\u001b[39m\n\u001b[0;32m---> 10\u001b[0m project_dir \u001b[38;5;241m=\u001b[39m \u001b[43mbash\u001b[49m\u001b[38;5;241;43m.\u001b[39;49m\u001b[43mmake_folder\u001b[49m\u001b[43m(\u001b[49m\u001b[43mroot_dir\u001b[49m\u001b[38;5;241;43m+\u001b[39;49m\u001b[38;5;124;43m\"\u001b[39;49m\u001b[38;5;124;43m/\u001b[39;49m\u001b[38;5;124;43m\"\u001b[39;49m\u001b[38;5;241;43m+\u001b[39;49m\u001b[43msys_name\u001b[49m\u001b[43m)\u001b[49m\n\u001b[1;32m     11\u001b[0m sys_path \u001b[38;5;241m=\u001b[39m root_dir\u001b[38;5;241m+\u001b[39m\u001b[38;5;124m\"\u001b[39m\u001b[38;5;124m/M030_to_6KET/b_vacuum_sd/sd_out_system.obj\u001b[39m\u001b[38;5;124m\"\u001b[39m\n\u001b[1;32m     12\u001b[0m sd_gromos_system \u001b[38;5;241m=\u001b[39m Gromos_System\u001b[38;5;241m.\u001b[39mload(sys_path)\n",
      "File \u001b[0;32m/usr/share/miniconda/envs/pygromosTest/lib/python3.9/site-packages/pygromos/utils/bash.py:558\u001b[0m, in \u001b[0;36mmake_folder\u001b[0;34m(in_directory_path, additional_option, verbose)\u001b[0m\n\u001b[1;32m    556\u001b[0m \u001b[38;5;28;01mif\u001b[39;00m \u001b[38;5;129;01mnot\u001b[39;00m os\u001b[38;5;241m.\u001b[39mpath\u001b[38;5;241m.\u001b[39misdir(in_directory_path):\n\u001b[1;32m    557\u001b[0m     \u001b[38;5;28;01mif\u001b[39;00m os\u001b[38;5;241m.\u001b[39msystem(mk_folder):\n\u001b[0;32m--> 558\u001b[0m         \u001b[38;5;28;01mraise\u001b[39;00m \u001b[38;5;167;01mOSError\u001b[39;00m(\u001b[38;5;124m\"\u001b[39m\u001b[38;5;124mcould not make folder:\u001b[39m\u001b[38;5;130;01m\\n\u001b[39;00m\u001b[38;5;124m \u001b[39m\u001b[38;5;124m\"\u001b[39m \u001b[38;5;241m+\u001b[39m \u001b[38;5;28mstr\u001b[39m(in_directory_path))\n\u001b[1;32m    560\u001b[0m \u001b[38;5;28;01melif\u001b[39;00m verbose:\n\u001b[1;32m    561\u001b[0m     warnings\u001b[38;5;241m.\u001b[39mwarn(\u001b[38;5;124m\"\u001b[39m\u001b[38;5;124mWARNING:\u001b[39m\u001b[38;5;130;01m\\n\u001b[39;00m\u001b[38;5;130;01m\\t\u001b[39;00m\u001b[38;5;124m Did not build already existing folder: \u001b[39m\u001b[38;5;124m\"\u001b[39m \u001b[38;5;241m+\u001b[39m in_directory_path, category\u001b[38;5;241m=\u001b[39m\u001b[38;5;167;01mUserWarning\u001b[39;00m)\n",
      "\u001b[0;31mOSError\u001b[0m: could not make folder:\n /home/runner/work/PyGromosTools/PyGromosTools/docs/sphinx_project/Examples/example_files/TI_Calculation/M030_to_6KET"
     ]
    }
   ],
   "source": [
    "import os\n",
    "import numpy as np\n",
    "from pygromos.files.gromos_system import Gromos_System\n",
    "from pygromos.simulations.hpc_queuing.submission_systems.local import LOCAL as subSystem\n",
    "\n",
    "from pygromos.utils import bash\n",
    "sys_name = \"M030_to_6KET\"\n",
    "root_dir = os.getcwd()+\"/example_files/TI_Calculation\"\n",
    "\n",
    "project_dir = bash.make_folder(root_dir+\"/\"+sys_name)\n",
    "sys_path = root_dir+\"/M030_to_6KET/b_vacuum_sd/sd_out_system.obj\"\n",
    "sd_gromos_system = Gromos_System.load(sys_path)\n",
    "\n",
    "sd_gromos_system.imd.WRITETRAJ.NTWG =  sd_gromos_system.imd.WRITETRAJ.NTWX = sd_gromos_system.imd.WRITETRAJ.NTWE =10\n",
    "sd_gromos_system.imd.STEP = 100\n",
    "\n",
    "sd_gromos_system"
   ]
  },
  {
   "cell_type": "markdown",
   "metadata": {},
   "source": [
    "## Submission"
   ]
  },
  {
   "cell_type": "code",
   "execution_count": 17,
   "metadata": {
    "execution": {
     "iopub.execute_input": "2022-04-04T15:15:06.901895Z",
     "iopub.status.busy": "2022-04-04T15:15:06.901720Z",
     "iopub.status.idle": "2022-04-04T15:15:06.917982Z",
     "shell.execute_reply": "2022-04-04T15:15:06.917415Z"
    }
   },
   "outputs": [
    {
     "ename": "NameError",
     "evalue": "name 'sd_gromos_system' is not defined",
     "output_type": "error",
     "traceback": [
      "\u001b[0;31m---------------------------------------------------------------------------\u001b[0m",
      "\u001b[0;31mNameError\u001b[0m                                 Traceback (most recent call last)",
      "Input \u001b[0;32mIn [17]\u001b[0m, in \u001b[0;36m<cell line: 6>\u001b[0;34m()\u001b[0m\n\u001b[1;32m      1\u001b[0m \u001b[38;5;28;01mfrom\u001b[39;00m \u001b[38;5;21;01mpygromos\u001b[39;00m\u001b[38;5;21;01m.\u001b[39;00m\u001b[38;5;21;01msimulations\u001b[39;00m\u001b[38;5;21;01m.\u001b[39;00m\u001b[38;5;21;01mmodules\u001b[39;00m\u001b[38;5;21;01m.\u001b[39;00m\u001b[38;5;21;01mti_modules\u001b[39;00m \u001b[38;5;28;01mimport\u001b[39;00m TI_sampling\n\u001b[1;32m      3\u001b[0m step_name  \u001b[38;5;241m=\u001b[39m \u001b[38;5;124m\"\u001b[39m\u001b[38;5;124md_lambda_sampling\u001b[39m\u001b[38;5;124m\"\u001b[39m\n\u001b[0;32m----> 6\u001b[0m TI_sampling(in_gromos_system \u001b[38;5;241m=\u001b[39m \u001b[43msd_gromos_system\u001b[49m, project_dir\u001b[38;5;241m=\u001b[39mproject_dir, step_name  \u001b[38;5;241m=\u001b[39m step_name,\n\u001b[1;32m      7\u001b[0m             lambda_values\u001b[38;5;241m=\u001b[39m np\u001b[38;5;241m.\u001b[39marange(\u001b[38;5;241m0\u001b[39m, \u001b[38;5;241m1.1\u001b[39m, \u001b[38;5;241m0.1\u001b[39m),\n\u001b[1;32m      8\u001b[0m             subSystem\u001b[38;5;241m=\u001b[39msubSystem(), n_simulation_repetitions \u001b[38;5;241m=\u001b[39m \u001b[38;5;241m3\u001b[39m, n_equilibrations \u001b[38;5;241m=\u001b[39m \u001b[38;5;241m1\u001b[39m)\n",
      "\u001b[0;31mNameError\u001b[0m: name 'sd_gromos_system' is not defined"
     ]
    }
   ],
   "source": [
    "from pygromos.simulations.modules.ti_modules import TI_sampling\n",
    "\n",
    "step_name  = \"d_lambda_sampling\"\n",
    "\n",
    "\n",
    "TI_sampling(in_gromos_system = sd_gromos_system, project_dir=project_dir, step_name  = step_name,\n",
    "            lambda_values= np.arange(0, 1.1, 0.1),\n",
    "            subSystem=subSystem(), n_simulation_repetitions = 3, n_equilibrations = 1)\n"
   ]
  },
  {
   "cell_type": "code",
   "execution_count": null,
   "metadata": {},
   "outputs": [],
   "source": []
  }
 ],
 "metadata": {
  "language_info": {
   "codemirror_mode": {
    "name": "ipython",
    "version": 3
   },
   "file_extension": ".py",
   "mimetype": "text/x-python",
   "name": "python",
   "nbconvert_exporter": "python",
   "pygments_lexer": "ipython3",
   "version": "3.9.12"
  },
  "widgets": {
   "application/vnd.jupyter.widget-state+json": {
    "state": {
     "cdae8d4203cc4679b8ef58c3f99f3137": {
      "model_module": "nglview-js-widgets",
      "model_module_version": "3.0.1",
      "model_name": "ColormakerRegistryModel",
      "state": {
       "_dom_classes": [],
       "_model_module": "nglview-js-widgets",
       "_model_module_version": "3.0.1",
       "_model_name": "ColormakerRegistryModel",
       "_msg_ar": [],
       "_msg_q": [],
       "_ready": false,
       "_view_count": null,
       "_view_module": "nglview-js-widgets",
       "_view_module_version": "3.0.1",
       "_view_name": "ColormakerRegistryView",
       "layout": "IPY_MODEL_f80f01283a49488ebd07c81d78ffa2ef"
      }
     },
     "f80f01283a49488ebd07c81d78ffa2ef": {
      "model_module": "@jupyter-widgets/base",
      "model_module_version": "1.2.0",
      "model_name": "LayoutModel",
      "state": {
       "_model_module": "@jupyter-widgets/base",
       "_model_module_version": "1.2.0",
       "_model_name": "LayoutModel",
       "_view_count": null,
       "_view_module": "@jupyter-widgets/base",
       "_view_module_version": "1.2.0",
       "_view_name": "LayoutView",
       "align_content": null,
       "align_items": null,
       "align_self": null,
       "border": null,
       "bottom": null,
       "display": null,
       "flex": null,
       "flex_flow": null,
       "grid_area": null,
       "grid_auto_columns": null,
       "grid_auto_flow": null,
       "grid_auto_rows": null,
       "grid_column": null,
       "grid_gap": null,
       "grid_row": null,
       "grid_template_areas": null,
       "grid_template_columns": null,
       "grid_template_rows": null,
       "height": null,
       "justify_content": null,
       "justify_items": null,
       "left": null,
       "margin": null,
       "max_height": null,
       "max_width": null,
       "min_height": null,
       "min_width": null,
       "object_fit": null,
       "object_position": null,
       "order": null,
       "overflow": null,
       "overflow_x": null,
       "overflow_y": null,
       "padding": null,
       "right": null,
       "top": null,
       "visibility": null,
       "width": null
      }
     }
    },
    "version_major": 2,
    "version_minor": 0
   }
  }
 },
 "nbformat": 4,
 "nbformat_minor": 4
}
