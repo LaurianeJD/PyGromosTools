{
 "cells": [
  {
   "cell_type": "code",
   "execution_count": 1,
   "metadata": {},
   "outputs": [],
   "source": [
    "import pygromos\n",
    "from pygromos import files\n",
    "from rdkit import Chem\n",
    "from rdkit.Chem import AllChem"
   ]
  },
  {
   "cell_type": "code",
   "execution_count": 2,
   "metadata": {
    "tags": []
   },
   "outputs": [
    {
     "output_type": "stream",
     "name": "stdout",
     "text": "[&lt;pygromos.files.blocks.topology_blocks.atom_mass_type object at 0x7fe673630f50&gt;, &lt;pygromos.files.blocks.topology_blocks.atom_mass_type object at 0x7fe673630f10&gt;, &lt;pygromos.files.blocks.topology_blocks.atom_mass_type object at 0x7fe673630f90&gt;, &lt;pygromos.files.blocks.topology_blocks.atom_mass_type object at 0x7fe673639050&gt;, &lt;pygromos.files.blocks.topology_blocks.atom_mass_type object at 0x7fe6736390d0&gt;, &lt;pygromos.files.blocks.topology_blocks.atom_mass_type object at 0x7fe673639150&gt;, &lt;pygromos.files.blocks.topology_blocks.atom_mass_type object at 0x7fe673639210&gt;, &lt;pygromos.files.blocks.topology_blocks.atom_mass_type object at 0x7fe6736392d0&gt;, &lt;pygromos.files.blocks.topology_blocks.atom_mass_type object at 0x7fe673639350&gt;, &lt;pygromos.files.blocks.topology_blocks.atom_mass_type object at 0x7fe673639390&gt;, &lt;pygromos.files.blocks.topology_blocks.atom_mass_type object at 0x7fe673639310&gt;, &lt;pygromos.files.blocks.topology_blocks.atom_mass_type object at 0x7fe6736393d0&gt;, &lt;pygromos.files.blocks.topology_blocks.atom_mass_type object at 0x7fe673639450&gt;, &lt;pygromos.files.blocks.topology_blocks.atom_mass_type object at 0x7fe6736394d0&gt;, &lt;pygromos.files.blocks.topology_blocks.atom_mass_type object at 0x7fe673639550&gt;, &lt;pygromos.files.blocks.topology_blocks.atom_mass_type object at 0x7fe673639590&gt;, &lt;pygromos.files.blocks.topology_blocks.atom_mass_type object at 0x7fe6736395d0&gt;, &lt;pygromos.files.blocks.topology_blocks.atom_mass_type object at 0x7fe673639650&gt;, &lt;pygromos.files.blocks.topology_blocks.atom_mass_type object at 0x7fe673639690&gt;, &lt;pygromos.files.blocks.topology_blocks.atom_mass_type object at 0x7fe673639710&gt;, &lt;pygromos.files.blocks.topology_blocks.atom_mass_type object at 0x7fe673639790&gt;, &lt;pygromos.files.blocks.topology_blocks.atom_mass_type object at 0x7fe673639810&gt;, &lt;pygromos.files.blocks.topology_blocks.atom_mass_type object at 0x7fe673639890&gt;, &lt;pygromos.files.blocks.topology_blocks.atom_mass_type object at 0x7fe673639910&gt;, &lt;pygromos.files.blocks.topology_blocks.atom_mass_type object at 0x7fe673639990&gt;, &lt;pygromos.files.blocks.topology_blocks.atom_mass_type object at 0x7fe673639a10&gt;]\n[&lt;pygromos.files.blocks.topology_blocks.improper_dihedral_type object at 0x7fe673648c10&gt;, &lt;pygromos.files.blocks.topology_blocks.improper_dihedral_type object at 0x7fe673648b90&gt;, &lt;pygromos.files.blocks.topology_blocks.improper_dihedral_type object at 0x7fe673648cd0&gt;, &lt;pygromos.files.blocks.topology_blocks.improper_dihedral_type object at 0x7fe673648d10&gt;, &lt;pygromos.files.blocks.topology_blocks.improper_dihedral_type object at 0x7fe673648d90&gt;]\n"
    }
   ],
   "source": [
    "gromossys = files.gromos_system(folder=\"/home/thierry/Documents/dev\",name=\"test\", smiles=\"CCO\")"
   ]
  },
  {
   "cell_type": "code",
   "execution_count": 3,
   "metadata": {},
   "outputs": [
    {
     "output_type": "execute_result",
     "data": {
      "text/plain": "3"
     },
     "metadata": {},
     "execution_count": 3
    }
   ],
   "source": [
    "gromossys.mol.GetNumAtoms()"
   ]
  },
  {
   "cell_type": "code",
   "execution_count": 4,
   "metadata": {
    "tags": []
   },
   "outputs": [
    {
     "output_type": "stream",
     "name": "stdout",
     "text": "++++++++++++++++++++++++++++++\nNew Block: Adding TITLE block\n[&#39;topology generated with PyGromos from RDKit molecule: CCO    test&#39;]\n++++++++++++++++++++++++++++++\nNew Block: Adding PHYSICALCONSTANTS block\n[&#39;&#39;]\n"
    }
   ],
   "source": [
    "gromossys.rdkit2Gromos()"
   ]
  },
  {
   "cell_type": "code",
   "execution_count": 5,
   "metadata": {},
   "outputs": [],
   "source": [
    "gromossys.write_files(Top=True,Cnf=False,Imd=False,Mol=True)"
   ]
  },
  {
   "cell_type": "code",
   "execution_count": 6,
   "metadata": {},
   "outputs": [],
   "source": [
    "m=Chem.MolFromSmiles(\"CCO\")"
   ]
  },
  {
   "cell_type": "code",
   "execution_count": 9,
   "metadata": {
    "tags": []
   },
   "outputs": [
    {
     "output_type": "stream",
     "name": "stdout",
     "text": "\n     RDKit          2D\n\n  3  2  0  0  0  0  0  0  0  0999 V2000\n    0.0000    0.0000    0.0000 C   0  0  0  0  0  0  0  0  0  0  0  0\n    1.2990    0.7500    0.0000 C   0  0  0  0  0  0  0  0  0  0  0  0\n    2.5981   -0.0000    0.0000 O   0  0  0  0  0  0  0  0  0  0  0  0\n  1  2  1  0\n  2  3  1  0\nM  END\n\n"
    }
   ],
   "source": [
    "print(Chem.MolToMolBlock(m))"
   ]
  },
  {
   "cell_type": "code",
   "execution_count": 10,
   "metadata": {},
   "outputs": [
    {
     "output_type": "execute_result",
     "data": {
      "text/plain": "0"
     },
     "metadata": {},
     "execution_count": 10
    }
   ],
   "source": [
    "Chem.AddHs(m)\n",
    "AllChem.EmbedMolecule(m)"
   ]
  },
  {
   "cell_type": "code",
   "execution_count": 11,
   "metadata": {
    "tags": []
   },
   "outputs": [
    {
     "output_type": "stream",
     "name": "stdout",
     "text": "\n     RDKit          3D\n\n  3  2  0  0  0  0  0  0  0  0999 V2000\n    1.2206   -0.2596    0.0000 C   0  0  0  0  0  0  0  0  0  0  0  0\n   -0.0534    0.5565   -0.0000 C   0  0  0  0  0  0  0  0  0  0  0  0\n   -1.1672   -0.2969   -0.0000 O   0  0  0  0  0  0  0  0  0  0  0  0\n  1  2  1  0\n  2  3  1  0\nM  END\n\n"
    }
   ],
   "source": [
    "print(Chem.MolToMolBlock(m))"
   ]
  },
  {
   "cell_type": "code",
   "execution_count": 12,
   "metadata": {},
   "outputs": [],
   "source": [
    "print(Chem.MolToMolBlock(m),file=open(\"test.mol\",'w+'))"
   ]
  },
  {
   "cell_type": "code",
   "execution_count": 19,
   "metadata": {
    "tags": []
   },
   "outputs": [
    {
     "output_type": "stream",
     "name": "stdout",
     "text": "6\n6\n8\n"
    }
   ],
   "source": [
    "for a in m.GetAtoms():\n",
    "    print(a.GetAtomicNum())"
   ]
  },
  {
   "cell_type": "code",
   "execution_count": 17,
   "metadata": {},
   "outputs": [],
   "source": [
    "cnf = files.coord.Cnf(None)#\"test.cnf\")"
   ]
  },
  {
   "cell_type": "code",
   "execution_count": 18,
   "metadata": {},
   "outputs": [],
   "source": [
    "cnf.file_path = 'test.cnf'\n",
    "cnf._orig_file_path = 'test.cnf'"
   ]
  },
  {
   "cell_type": "code",
   "execution_count": 4,
   "metadata": {},
   "outputs": [
    {
     "output_type": "execute_result",
     "data": {
      "text/plain": "[]"
     },
     "metadata": {},
     "execution_count": 4
    }
   ],
   "source": [
    "cnf.get_block_names()"
   ]
  },
  {
   "cell_type": "code",
   "execution_count": 5,
   "metadata": {},
   "outputs": [],
   "source": [
    "cnf.read_blocks()"
   ]
  },
  {
   "cell_type": "code",
   "execution_count": 6,
   "metadata": {},
   "outputs": [
    {
     "output_type": "execute_result",
     "data": {
      "text/plain": "['TITLE', 'POSITION', 'GENBOX']"
     },
     "metadata": {},
     "execution_count": 6
    }
   ],
   "source": [
    "cnf.get_block_names()"
   ]
  },
  {
   "cell_type": "code",
   "execution_count": 7,
   "metadata": {},
   "outputs": [
    {
     "output_type": "execute_result",
     "data": {
      "text/plain": "-0.1243"
     },
     "metadata": {},
     "execution_count": 7
    }
   ],
   "source": [
    "cnf.POSITION.content[0].xp"
   ]
  },
  {
   "cell_type": "code",
   "execution_count": 8,
   "metadata": {},
   "outputs": [
    {
     "output_type": "execute_result",
     "data": {
      "text/plain": "{'CHE': {1: 6}}"
     },
     "metadata": {},
     "execution_count": 8
    }
   ],
   "source": [
    "cnf.get_residues(verbose=False)"
   ]
  },
  {
   "cell_type": "code",
   "execution_count": 9,
   "metadata": {},
   "outputs": [],
   "source": [
    "residues = cnf.get_residues()"
   ]
  },
  {
   "cell_type": "code",
   "execution_count": 10,
   "metadata": {},
   "outputs": [
    {
     "output_type": "execute_result",
     "data": {
      "text/plain": "{'CHE': {1: 6}}"
     },
     "metadata": {},
     "execution_count": 10
    }
   ],
   "source": [
    "residues"
   ]
  },
  {
   "cell_type": "code",
   "execution_count": 11,
   "metadata": {},
   "outputs": [],
   "source": [
    "atom=cnf.get_atomP(atomID=1)"
   ]
  },
  {
   "cell_type": "code",
   "execution_count": 12,
   "metadata": {},
   "outputs": [
    {
     "output_type": "execute_result",
     "data": {
      "text/plain": "'C1'"
     },
     "metadata": {},
     "execution_count": 12
    }
   ],
   "source": [
    "atom[0].atomType"
   ]
  },
  {
   "cell_type": "code",
   "execution_count": 13,
   "metadata": {},
   "outputs": [],
   "source": [
    "cnf2=files.coord.Cnf(\"test.cnf\")"
   ]
  },
  {
   "cell_type": "code",
   "execution_count": 14,
   "metadata": {},
   "outputs": [
    {
     "output_type": "execute_result",
     "data": {
      "text/plain": "'C1'"
     },
     "metadata": {},
     "execution_count": 14
    }
   ],
   "source": [
    "cnf2.get_atomP(atomID=1)[0].atomType"
   ]
  },
  {
   "cell_type": "code",
   "execution_count": 7,
   "metadata": {
    "tags": []
   },
   "outputs": [],
   "source": [
    "import pygromos\n",
    "from pygromos import files\n",
    "from pygromos.files.topology import *"
   ]
  },
  {
   "cell_type": "code",
   "execution_count": 8,
   "metadata": {
    "tags": []
   },
   "outputs": [
    {
     "output_type": "stream",
     "name": "stdout",
     "text": "TITLE\nPHYSICALCONSTANTS\nTOPVERSION\nATOMTYPENAME\nRESNAME\nSOLUTEATOM\nBONDSTRETCHTYPE\nBONDH\nBOND\nBONDANGLEBENDTYPE\nBONDANGLEH\nBONDANGLE\nIMPDIHEDRALTYPE\nIMPDIHEDRALH\nIMPDIHEDRAL\nTORSDIHEDRALTYPE\nDIHEDRALH\nDIHEDRAL\nCROSSDIHEDRALH\nCROSSDIHEDRAL\nLJPARAMETERS\nSOLUTEMOLECULES\nTEMPERATUREGROUPS\nPRESSUREGROUPS\nLJEXCEPTIONS\nSOLVENTATOM\nSOLVENTCONSTR\n"
    }
   ],
   "source": [
    "top = Top(\"../example_files/test2.top\")"
   ]
  },
  {
   "cell_type": "code",
   "execution_count": 9,
   "metadata": {
    "tags": []
   },
   "outputs": [
    {
     "output_type": "stream",
     "name": "stdout",
     "text": "\t1\t1\t9.90025e-07\t0.00171065\t7.414932e-07\t0.002261954\n\n"
    }
   ],
   "source": [
    "print(top.LJPARAMETERS.content[0].to_string())"
   ]
  },
  {
   "cell_type": "code",
   "execution_count": 10,
   "metadata": {},
   "outputs": [
    {
     "output_type": "execute_result",
     "data": {
      "text/plain": "PHYSICALCONSTANTS\n# FPEPSI: 1.0/(4.0*PI*EPS0) (EPS0 is the permittivity of vacuum) \n138.9354 \n# HBAR: Planck&#39;s constant HBAR = H/(2* PI) \n0.0635078 \n# SPDL: Speed of light (nm/ps) \n299792.458 \n# BOLTZ: Boltzmann&#39;s constant kB0.00831441 \nEND"
     },
     "metadata": {},
     "execution_count": 10
    }
   ],
   "source": [
    "top.PHYSICALCONSTANTS"
   ]
  },
  {
   "cell_type": "code",
   "execution_count": 11,
   "metadata": {
    "tags": []
   },
   "outputs": [
    {
     "output_type": "execute_result",
     "data": {
      "text/plain": "TOPVERSION \n 2.0\n \nEND "
     },
     "metadata": {},
     "execution_count": 11
    }
   ],
   "source": [
    "top.TOPVERSION"
   ]
  },
  {
   "cell_type": "code",
   "execution_count": 12,
   "metadata": {},
   "outputs": [
    {
     "output_type": "execute_result",
     "data": {
      "text/plain": "CROSSDIHEDRAL\n# \t NPHI: number of cross dihedrals NOT involving H atoms \n \t 0 \n# \t AP \t BP \t CP \t DP \t EP \t FP \t GP \t HP \t ICC \nEND"
     },
     "metadata": {},
     "execution_count": 12
    }
   ],
   "source": [
    "top.CROSSDIHEDRAL"
   ]
  },
  {
   "cell_type": "code",
   "execution_count": 13,
   "metadata": {
    "tags": []
   },
   "outputs": [
    {
     "output_type": "execute_result",
     "data": {
      "text/plain": "ATOMTYPENAME \n # NRATT: number of van der Waals atom types\n \t 66\n \t # TYPE: atom type names\n \t O\n \t OM\n \t OA\n \t OE\n \t OW\n \t N\n \t NT\n \t NL\n \t NR\n \t NZ\n \t # 10\n \t NE\n \t C\n \t CH0\n \t CH1\n \t CH2\n \t CH3\n \t CH4\n \t CH2r\n \t CR1\n \t HC\n \t # 20\n \t H\n \t DUM\n \t S\n \t CU1+\n \t CU2+\n \t FE\n \t ZN2+\n \t MG2+\n \t CA2+\n \t P,SI\n \t # 30\n \t AR\n \t F\n \t CL\n \t BR\n \t CMet\n \t OMet\n \t NA+\n \t CL-\n \t CChl\n \t CLChl\n \t # 40\n \t HChl\n \t SDmso\n \t CDmso\n \t ODmso\n \t CCl4\n \t CLCl4\n \t FTFE\n \t CTFE\n \t CHTFE\n \t OTFE\n \t # 50\n \t CUrea\n \t OUrea\n \t NUrea\n \t CH3p\n \t LLI+\n \t LNA+\n \t LK+\n \t LRB+\n \t LCS+\n \t LF-\n \t # 60\n \t LCL-\n \t LBR-\n \t LI-\n \t Or\n \t CH0r\n \t CH1r\n \nEND "
     },
     "metadata": {},
     "execution_count": 13
    }
   ],
   "source": [
    "top.ATOMTYPENAME"
   ]
  },
  {
   "cell_type": "code",
   "execution_count": 14,
   "metadata": {},
   "outputs": [
    {
     "output_type": "execute_result",
     "data": {
      "text/plain": "BOND\n# \t NBON: number of bonds NOT involving H atoms in solute \n \t 14 \n# \t IB \t JB \t ICB \n\t1\t2\t27\n\t2\t3\t16\n\t2\t7\t16\n\t3\t5\t16\n\t5\t11\t16\n\t7\t9\t16\n\t9\t11\t16\n\t13\t14\t27\n\t14\t15\t16\n\t14\t19\t16\n\t15\t17\t16\n\t17\t23\t16\n\t19\t21\t16\n\t21\t23\t16\nEND"
     },
     "metadata": {},
     "execution_count": 14
    }
   ],
   "source": [
    "top.BOND"
   ]
  },
  {
   "cell_type": "code",
   "execution_count": 15,
   "metadata": {},
   "outputs": [
    {
     "output_type": "execute_result",
     "data": {
      "text/plain": "CROSSDIHEDRAL\n# \t NPHI: number of cross dihedrals NOT involving H atoms \n \t 0 \n# \t AP \t BP \t CP \t DP \t EP \t FP \t GP \t HP \t ICC \nEND"
     },
     "metadata": {},
     "execution_count": 15
    }
   ],
   "source": [
    "top.CROSSDIHEDRAL"
   ]
  },
  {
   "cell_type": "code",
   "execution_count": 14,
   "metadata": {},
   "outputs": [
    {
     "output_type": "execute_result",
     "data": {
      "text/plain": "&#39;/home/thierry/Documents/dev/testtop.top&#39;"
     },
     "metadata": {},
     "execution_count": 14
    }
   ],
   "source": [
    "top.write(\"/home/thierry/Documents/dev/testtop.top\")"
   ]
  },
  {
   "cell_type": "code",
   "execution_count": 10,
   "metadata": {},
   "outputs": [],
   "source": [
    "top2 = Top(input = None)"
   ]
  },
  {
   "cell_type": "code",
   "execution_count": 9,
   "metadata": {},
   "outputs": [
    {
     "output_type": "execute_result",
     "data": {
      "text/plain": "[&#39;TITLE&#39;]"
     },
     "metadata": {},
     "execution_count": 9
    }
   ],
   "source": [
    "top2.get_block_names()"
   ]
  },
  {
   "cell_type": "code",
   "execution_count": 12,
   "metadata": {
    "tags": []
   },
   "outputs": [],
   "source": [
    "top2.add_block(block=top.SOLUTEATOM)"
   ]
  },
  {
   "cell_type": "code",
   "execution_count": 13,
   "metadata": {},
   "outputs": [
    {
     "output_type": "execute_result",
     "data": {
      "text/plain": "[&#39;TITLE&#39;, &#39;SOLUTEATOM&#39;]"
     },
     "metadata": {},
     "execution_count": 13
    }
   ],
   "source": [
    "top2.get_block_names()"
   ]
  },
  {
   "cell_type": "code",
   "execution_count": 14,
   "metadata": {},
   "outputs": [
    {
     "output_type": "execute_result",
     "data": {
      "text/plain": "&quot;TITLE\\nCOM_TOP: Combined topology using:\\n           1 : TOL_200ion_temp.top\\n   2 ..  201 : ../cl.top\\nParameters from 1, solvent from 1\\n\\n\\t &gt;&gt;&gt; Generated with python lib function_libs utilities. (riniker group)\\n\\t &gt;&gt;&gt; line_seperator: &#39;\\\\n&#39;\\t field_seperator: &#39;\\\\t&#39;\\nEND\\n&quot;"
     },
     "metadata": {},
     "execution_count": 14
    }
   ],
   "source": [
    "top2.TITLE.block_to_string()"
   ]
  },
  {
   "cell_type": "code",
   "execution_count": 15,
   "metadata": {
    "tags": []
   },
   "outputs": [],
   "source": [
    "top2.add_block(verbose=True)"
   ]
  },
  {
   "cell_type": "code",
   "execution_count": 16,
   "metadata": {},
   "outputs": [
    {
     "output_type": "execute_result",
     "data": {
      "text/plain": "pygromos.files.blocks._general_blocks.TITLE"
     },
     "metadata": {},
     "execution_count": 16
    }
   ],
   "source": [
    "type(top.TITLE)"
   ]
  },
  {
   "cell_type": "code",
   "execution_count": 17,
   "metadata": {
    "tags": []
   },
   "outputs": [
    {
     "output_type": "stream",
     "name": "stdout",
     "text": "THE NEW REEDS BLOCK?\nTHE OLD REEDS BLOCK?\n"
    }
   ],
   "source": [
    "imd=files.imd.Imd(\"/home/thierry/pygromos/pygromos/tests/testfiles/imd/in_imd_REEDS1.imd\")"
   ]
  },
  {
   "cell_type": "code",
   "execution_count": 7,
   "metadata": {
    "tags": []
   },
   "outputs": [
    {
     "output_type": "stream",
     "name": "stdout",
     "text": "[&lt;pygromos.files.blocks.topology_blocks.atom_mass_type object at 0x7f7085808810&gt;, &lt;pygromos.files.blocks.topology_blocks.atom_mass_type object at 0x7f70858087d0&gt;, &lt;pygromos.files.blocks.topology_blocks.atom_mass_type object at 0x7f708aef2f90&gt;, &lt;pygromos.files.blocks.topology_blocks.atom_mass_type object at 0x7f7085808890&gt;, &lt;pygromos.files.blocks.topology_blocks.atom_mass_type object at 0x7f7085808910&gt;, &lt;pygromos.files.blocks.topology_blocks.atom_mass_type object at 0x7f7085808990&gt;, &lt;pygromos.files.blocks.topology_blocks.atom_mass_type object at 0x7f7085808a50&gt;, &lt;pygromos.files.blocks.topology_blocks.atom_mass_type object at 0x7f7085808b10&gt;, &lt;pygromos.files.blocks.topology_blocks.atom_mass_type object at 0x7f7085808b90&gt;, &lt;pygromos.files.blocks.topology_blocks.atom_mass_type object at 0x7f7085808bd0&gt;, &lt;pygromos.files.blocks.topology_blocks.atom_mass_type object at 0x7f7085808b50&gt;, &lt;pygromos.files.blocks.topology_blocks.atom_mass_type object at 0x7f7085808c10&gt;, &lt;pygromos.files.blocks.topology_blocks.atom_mass_type object at 0x7f7085808c90&gt;, &lt;pygromos.files.blocks.topology_blocks.atom_mass_type object at 0x7f7085808d10&gt;, &lt;pygromos.files.blocks.topology_blocks.atom_mass_type object at 0x7f7085808d90&gt;, &lt;pygromos.files.blocks.topology_blocks.atom_mass_type object at 0x7f7085808dd0&gt;, &lt;pygromos.files.blocks.topology_blocks.atom_mass_type object at 0x7f7085808e10&gt;, &lt;pygromos.files.blocks.topology_blocks.atom_mass_type object at 0x7f7085808e90&gt;, &lt;pygromos.files.blocks.topology_blocks.atom_mass_type object at 0x7f7085808ed0&gt;, &lt;pygromos.files.blocks.topology_blocks.atom_mass_type object at 0x7f7085808f50&gt;, &lt;pygromos.files.blocks.topology_blocks.atom_mass_type object at 0x7f7085808fd0&gt;, &lt;pygromos.files.blocks.topology_blocks.atom_mass_type object at 0x7f7085808ad0&gt;, &lt;pygromos.files.blocks.topology_blocks.atom_mass_type object at 0x7f7085808a10&gt;, &lt;pygromos.files.blocks.topology_blocks.atom_mass_type object at 0x7f70858fd190&gt;, &lt;pygromos.files.blocks.topology_blocks.atom_mass_type object at 0x7f70858fd210&gt;, &lt;pygromos.files.blocks.topology_blocks.atom_mass_type object at 0x7f70858fd290&gt;]\n[&lt;pygromos.files.blocks.topology_blocks.atom_mass_type object at 0x7f7085808850&gt;, &lt;pygromos.files.blocks.topology_blocks.atom_mass_type object at 0x7f70858087d0&gt;, &lt;pygromos.files.blocks.topology_blocks.atom_mass_type object at 0x7f70858088d0&gt;, &lt;pygromos.files.blocks.topology_blocks.atom_mass_type object at 0x7f7085808950&gt;, &lt;pygromos.files.blocks.topology_blocks.atom_mass_type object at 0x7f70858089d0&gt;, &lt;pygromos.files.blocks.topology_blocks.atom_mass_type object at 0x7f7085808a90&gt;, &lt;pygromos.files.blocks.topology_blocks.atom_mass_type object at 0x7f7085808b90&gt;, &lt;pygromos.files.blocks.topology_blocks.atom_mass_type object at 0x7f7085808c50&gt;, &lt;pygromos.files.blocks.topology_blocks.atom_mass_type object at 0x7f7085808cd0&gt;, &lt;pygromos.files.blocks.topology_blocks.atom_mass_type object at 0x7f7085808c90&gt;, &lt;pygromos.files.blocks.topology_blocks.atom_mass_type object at 0x7f7085808c10&gt;, &lt;pygromos.files.blocks.topology_blocks.atom_mass_type object at 0x7f7085808d50&gt;, &lt;pygromos.files.blocks.topology_blocks.atom_mass_type object at 0x7f7085808d90&gt;, &lt;pygromos.files.blocks.topology_blocks.atom_mass_type object at 0x7f7085808e50&gt;, &lt;pygromos.files.blocks.topology_blocks.atom_mass_type object at 0x7f7085808e90&gt;, &lt;pygromos.files.blocks.topology_blocks.atom_mass_type object at 0x7f7085808f10&gt;, &lt;pygromos.files.blocks.topology_blocks.atom_mass_type object at 0x7f7085808ed0&gt;, &lt;pygromos.files.blocks.topology_blocks.atom_mass_type object at 0x7f7085808f50&gt;, &lt;pygromos.files.blocks.topology_blocks.atom_mass_type object at 0x7f7085808fd0&gt;, &lt;pygromos.files.blocks.topology_blocks.atom_mass_type object at 0x7f7085808a10&gt;, &lt;pygromos.files.blocks.topology_blocks.atom_mass_type object at 0x7f7085808b10&gt;, &lt;pygromos.files.blocks.topology_blocks.atom_mass_type object at 0x7f7085808b50&gt;, &lt;pygromos.files.blocks.topology_blocks.atom_mass_type object at 0x7f70858fd190&gt;, &lt;pygromos.files.blocks.topology_blocks.atom_mass_type object at 0x7f70858fd210&gt;, &lt;pygromos.files.blocks.topology_blocks.atom_mass_type object at 0x7f70858fd310&gt;, &lt;pygromos.files.blocks.topology_blocks.atom_mass_type object at 0x7f70858fd110&gt;]\n[&lt;pygromos.files.blocks.topology_blocks.improper_dihedral_type object at 0x7f7085844710&gt;, &lt;pygromos.files.blocks.topology_blocks.improper_dihedral_type object at 0x7f7085844690&gt;, &lt;pygromos.files.blocks.topology_blocks.improper_dihedral_type object at 0x7f70858447d0&gt;, &lt;pygromos.files.blocks.topology_blocks.improper_dihedral_type object at 0x7f7085844810&gt;, &lt;pygromos.files.blocks.topology_blocks.improper_dihedral_type object at 0x7f7085844890&gt;, &lt;pygromos.files.blocks.topology_blocks.improper_dihedral_type object at 0x7f7085844950&gt;, &lt;pygromos.files.blocks.topology_blocks.improper_dihedral_type object at 0x7f7085844490&gt;, &lt;pygromos.files.blocks.topology_blocks.improper_dihedral_type object at 0x7f7085844a10&gt;, &lt;pygromos.files.blocks.topology_blocks.improper_dihedral_type object at 0x7f7085844a50&gt;, &lt;pygromos.files.blocks.topology_blocks.improper_dihedral_type object at 0x7f7085844ad0&gt;]\n"
    }
   ],
   "source": [
    "ifp1=files.topology.ifp(\"/home/thierry/pygromos/pygromos/data/ff/Gromos2016H66/2016H66.ifp\")"
   ]
  },
  {
   "cell_type": "code",
   "execution_count": 8,
   "metadata": {
    "tags": []
   },
   "outputs": [
    {
     "output_type": "execute_result",
     "data": {
      "text/plain": "&#39;H&#39;"
     },
     "metadata": {},
     "execution_count": 8
    }
   ],
   "source": [
    "ifp1.BONDSTRETCHTYPECODE.content[0].atomI"
   ]
  },
  {
   "cell_type": "code",
   "execution_count": 1,
   "metadata": {},
   "outputs": [],
   "source": [
    "import pygromos\n",
    "from pygromos import files"
   ]
  },
  {
   "cell_type": "code",
   "execution_count": 2,
   "metadata": {
    "tags": []
   },
   "outputs": [
    {
     "output_type": "stream",
     "name": "stdout",
     "text": "TITLE\nPHYSICALCONSTANTS\nTOPVERSION\nATOMTYPENAME\nRESNAME\nSOLUTEATOM\nBONDSTRETCHTYPE\nBONDH\nBOND\nBONDANGLEBENDTYPE\nBONDANGLEH\nBONDANGLE\nIMPDIHEDRALTYPE\nIMPDIHEDRALH\nIMPDIHEDRAL\nTORSDIHEDRALTYPE\nDIHEDRALH\nDIHEDRAL\nCROSSDIHEDRALH\nCROSSDIHEDRAL\nLJPARAMETERS\nSOLUTEMOLECULES\nTEMPERATUREGROUPS\nPRESSUREGROUPS\nLJEXCEPTIONS\nSOLVENTATOM\nSOLVENTCONSTR\n"
    }
   ],
   "source": [
    "top33 = files.topology.Top(\"/home/thierry/Documents/dev/prot_9lig_cofactor_bo.top\")"
   ]
  },
  {
   "cell_type": "code",
   "execution_count": 3,
   "metadata": {
    "tags": []
   },
   "outputs": [
    {
     "output_type": "execute_result",
     "data": {
      "text/plain": "&#39;271&#39;"
     },
     "metadata": {},
     "execution_count": 3
    }
   ],
   "source": [
    "top33.RESNAME.content[0][0]"
   ]
  },
  {
   "cell_type": "code",
   "execution_count": 4,
   "metadata": {},
   "outputs": [
    {
     "output_type": "execute_result",
     "data": {
      "text/plain": "&#39;/home/thierry/Documents/dev/prot_9lig_cofactor_bo_pygromos.top&#39;"
     },
     "metadata": {},
     "execution_count": 4
    }
   ],
   "source": [
    "top33.write(\"/home/thierry/Documents/dev/prot_9lig_cofactor_bo_pygromos.top\")"
   ]
  },
  {
   "cell_type": "code",
   "execution_count": 9,
   "metadata": {},
   "outputs": [],
   "source": [
    "imd = files.Imd(\"/home/thierry/pygromos/pygromos/data/imd_templates/md.imd\")"
   ]
  },
  {
   "cell_type": "code",
   "execution_count": 10,
   "metadata": {},
   "outputs": [
    {
     "output_type": "execute_result",
     "data": {
      "text/plain": "&#39;FORCE&#39;"
     },
     "metadata": {},
     "execution_count": 10
    }
   ],
   "source": [
    "imd.FORCE.name"
   ]
  },
  {
   "cell_type": "code",
   "execution_count": 1,
   "metadata": {},
   "outputs": [],
   "source": [
    "from pygromos.gromos import gromosPP"
   ]
  },
  {
   "cell_type": "code",
   "execution_count": 2,
   "metadata": {},
   "outputs": [],
   "source": [
    "simbox = gromosPP._gromosPPbase(\"/home/thierry/gromosPlsPls/gromos++/BUILD/programs\")"
   ]
  },
  {
   "cell_type": "code",
   "execution_count": 3,
   "metadata": {},
   "outputs": [],
   "source": [
    "topo_path = \"/home/thierry/Documents/temp18/che.top\"\n",
    "coord_path = \"/home/thierry/Documents/temp18/min.cnf\"\n",
    "wat_path = \"/home/thierry/Documents/temp18/spc.cnf\"\n",
    "out_path = \"/home/thierry/Documents/temp18/che_box.cnf\""
   ]
  },
  {
   "cell_type": "code",
   "execution_count": 5,
   "metadata": {
    "tags": []
   },
   "outputs": [
    {
     "output_type": "stream",
     "name": "stdout",
     "text": [
      "/home/thierry/gromosPlsPls/gromos++/BUILD/programs/sim_box @topo /home/thierry/Documents/temp18/che.top @pbc r @pos /home/thierry/Documents/temp18/min.cnf @solvent /home/thierry/Documents/temp18/spc.cnf @minwall 1.5  @rotate  @thresh 0.23 > /home/thierry/Documents/temp18/che_box.cnf \n\n"
     ]
    },
    {
     "output_type": "execute_result",
     "data": {
      "text/plain": [
       "'/home/thierry/Documents/temp18/che_box.cnf'"
      ]
     },
     "metadata": {},
     "execution_count": 5
    }
   ],
   "source": [
    "\n",
    "simbox.sim_box(in_top_path=topo_path, in_cnf_path=coord_path, in_solvent_cnf_file_path=wat_path, out_cnf_path=out_path, periodic_boundary_condition=\"r\", gathering_method=None, minwall=\"1.5\", threshold=\"0.23\" , rotate=\"\", verbose=True)\n",
    "\n"
   ]
  },
  {
   "cell_type": "code",
   "execution_count": null,
   "metadata": {},
   "outputs": [],
   "source": []
  }
 ],
 "metadata": {
  "language_info": {
   "codemirror_mode": {
    "name": "ipython",
    "version": 3
   },
   "file_extension": ".py",
   "mimetype": "text/x-python",
   "name": "python",
   "nbconvert_exporter": "python",
   "pygments_lexer": "ipython3",
   "version": "3.7.8-final"
  },
  "orig_nbformat": 2,
  "kernelspec": {
   "name": "Python 3.7.8 64-bit ('gromos': conda)",
   "display_name": "Python 3.7.8 64-bit ('gromos': conda)",
   "metadata": {
    "interpreter": {
     "hash": "8dba6a64eb508a1cfa4b2d200af08c140b214d929439af43ae4caed23fca3f5c"
    }
   }
  }
 },
 "nbformat": 4,
 "nbformat_minor": 2
}
