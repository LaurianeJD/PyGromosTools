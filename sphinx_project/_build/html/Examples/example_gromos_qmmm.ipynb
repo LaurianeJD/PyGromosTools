{
 "cells": [
  {
   "cell_type": "markdown",
   "id": "241c4999",
   "metadata": {},
   "source": [
    "# QM/MM in Gromos"
   ]
  },
  {
   "cell_type": "code",
   "execution_count": 1,
   "id": "42e53815",
   "metadata": {
    "execution": {
     "iopub.execute_input": "2022-04-04T14:55:59.123544Z",
     "iopub.status.busy": "2022-04-04T14:55:59.123131Z",
     "iopub.status.idle": "2022-04-04T14:55:59.915998Z",
     "shell.execute_reply": "2022-04-04T14:55:59.915238Z"
    }
   },
   "outputs": [
    {
     "data": {
      "application/vnd.jupyter.widget-view+json": {
       "model_id": "892d0c22d125492b8b7138c7d967c80d",
       "version_major": 2,
       "version_minor": 0
      },
      "text/plain": []
     },
     "metadata": {},
     "output_type": "display_data"
    }
   ],
   "source": [
    "# necessary imports are the Gromos_System and convenience functions emin and md\n",
    "import pygromos\n",
    "from pygromos.files.simulation_parameters.imd import Imd\n",
    "from pygromos.files.qmmm.qmmm import QMMM\n",
    "from pygromos.files.gromos_system.gromos_system import Gromos_System\n",
    "from pygromos.simulations.modules.preset_simulation_modules import emin, md\n",
    "from pygromos.data.simulation_parameters_templates import template_emin\n",
    "from pygromos.simulations.hpc_queuing.submission_systems.local import LOCAL\n",
    "\n",
    "# for file paths\n",
    "import os"
   ]
  },
  {
   "cell_type": "markdown",
   "id": "ea7f87a7-1869-4560-a6cc-5511179addee",
   "metadata": {
    "tags": []
   },
   "source": [
    "## Support for QMMM functionality in `GROMOS` input files\n",
    "\n",
    "This notebook demonstrates support of `PyGromosTools` for QM/MM functionality.\n",
    "\n",
    "https://github.com/rinikerlab/PyGromosTools/blob/qmmm/examples/example_gromos_qmmm.ipynb (part of the `qmmm` branch and soon to be merged to `release3`)\n",
    "\n",
    "Author: Felix Pultar\n",
    "\n",
    "\n",
    "Features include:\n",
    "\n",
    "* QM/MM blocks in `imd` files\n",
    "* QM/MM specification files\n",
    "* Running QM/MM simulations"
   ]
  },
  {
   "cell_type": "markdown",
   "id": "821fe3c7",
   "metadata": {},
   "source": [
    "### Load an `imd` file containing a QMMM block <a class=\"anchor\" id=\"imd-files\"></a>\n",
    "Simple demonstration of how to handle `.imd` files."
   ]
  },
  {
   "cell_type": "code",
   "execution_count": 2,
   "id": "dbbf090b-19c7-48b5-86ac-ca0f6d1be117",
   "metadata": {
    "execution": {
     "iopub.execute_input": "2022-04-04T14:55:59.919597Z",
     "iopub.status.busy": "2022-04-04T14:55:59.919386Z",
     "iopub.status.idle": "2022-04-04T14:56:00.592925Z",
     "shell.execute_reply": "2022-04-04T14:56:00.592207Z"
    }
   },
   "outputs": [
    {
     "ename": "OSError",
     "evalue": "[Errno Could not find File: ] /home/runner/micromamba/envs/pygromosTest/lib/python3.9/site-packages/examples/example_files/QMMM_files/md.imd",
     "output_type": "error",
     "traceback": [
      "\u001b[0;31m---------------------------------------------------------------------------\u001b[0m",
      "\u001b[0;31mOSError\u001b[0m                                   Traceback (most recent call last)",
      "Input \u001b[0;32mIn [2]\u001b[0m, in \u001b[0;36m<cell line: 2>\u001b[0;34m()\u001b[0m\n\u001b[1;32m      1\u001b[0m imd_path \u001b[38;5;241m=\u001b[39m os\u001b[38;5;241m.\u001b[39mpath\u001b[38;5;241m.\u001b[39mabspath(os\u001b[38;5;241m.\u001b[39mpath\u001b[38;5;241m.\u001b[39mdirname(pygromos\u001b[38;5;241m.\u001b[39m\u001b[38;5;18m__file__\u001b[39m)\u001b[38;5;241m+\u001b[39m\u001b[38;5;124m\"\u001b[39m\u001b[38;5;124m/../examples/example_files/QMMM_files/md.imd\u001b[39m\u001b[38;5;124m\"\u001b[39m)\n\u001b[0;32m----> 2\u001b[0m imd_file \u001b[38;5;241m=\u001b[39m \u001b[43mImd\u001b[49m\u001b[43m(\u001b[49m\u001b[43mimd_path\u001b[49m\u001b[43m)\u001b[49m\n\u001b[1;32m      3\u001b[0m imd_file\u001b[38;5;241m.\u001b[39mTITLE\u001b[38;5;241m.\u001b[39mcontent \u001b[38;5;241m=\u001b[39m \u001b[38;5;124m\"\u001b[39m\u001b[38;5;124mDemonstration of a Gromos imd file containing a QMMM block\u001b[39m\u001b[38;5;124m\"\u001b[39m\n\u001b[1;32m      4\u001b[0m imd_file\n",
      "File \u001b[0;32m~/micromamba/envs/pygromosTest/lib/python3.9/site-packages/pygromos/files/simulation_parameters/imd.py:68\u001b[0m, in \u001b[0;36mImd.__init__\u001b[0;34m(self, in_value, _future_file)\u001b[0m\n\u001b[1;32m     67\u001b[0m \u001b[38;5;28;01mdef\u001b[39;00m \u001b[38;5;21m__init__\u001b[39m(\u001b[38;5;28mself\u001b[39m, in_value: \u001b[38;5;28mstr\u001b[39m, _future_file: \u001b[38;5;28mbool\u001b[39m \u001b[38;5;241m=\u001b[39m \u001b[38;5;28;01mFalse\u001b[39;00m):\n\u001b[0;32m---> 68\u001b[0m     \u001b[38;5;28;43msuper\u001b[39;49m\u001b[43m(\u001b[49m\u001b[43m)\u001b[49m\u001b[38;5;241;43m.\u001b[39;49m\u001b[38;5;21;43m__init__\u001b[39;49m\u001b[43m(\u001b[49m\u001b[43min_value\u001b[49m\u001b[38;5;241;43m=\u001b[39;49m\u001b[43min_value\u001b[49m\u001b[43m,\u001b[49m\u001b[43m \u001b[49m\u001b[43m_future_file\u001b[49m\u001b[38;5;241;43m=\u001b[39;49m\u001b[43m_future_file\u001b[49m\u001b[43m)\u001b[49m\n\u001b[1;32m     70\u001b[0m     \u001b[38;5;66;03m# TODO: maybe somebody can make a better solution for this. This is a ugly fix to unify the structure of the blocks\u001b[39;00m\n\u001b[1;32m     71\u001b[0m     \u001b[38;5;28;01mfor\u001b[39;00m block \u001b[38;5;129;01min\u001b[39;00m \u001b[38;5;28msorted\u001b[39m(\u001b[38;5;28mself\u001b[39m\u001b[38;5;241m.\u001b[39mget_block_names()):\n",
      "File \u001b[0;32m~/micromamba/envs/pygromosTest/lib/python3.9/site-packages/pygromos/files/_basics/_general_gromos_file.py:42\u001b[0m, in \u001b[0;36m_general_gromos_file.__init__\u001b[0;34m(self, in_value, _future_file)\u001b[0m\n\u001b[1;32m     40\u001b[0m         \u001b[38;5;28mself\u001b[39m\u001b[38;5;241m.\u001b[39mread_blocks()\n\u001b[1;32m     41\u001b[0m     \u001b[38;5;28;01melse\u001b[39;00m:\n\u001b[0;32m---> 42\u001b[0m         \u001b[38;5;28;01mraise\u001b[39;00m \u001b[38;5;167;01mIOError\u001b[39;00m(\u001b[38;5;124m\"\u001b[39m\u001b[38;5;124mCould not find File: \u001b[39m\u001b[38;5;124m\"\u001b[39m, in_value)\n\u001b[1;32m     44\u001b[0m \u001b[38;5;28;01melif\u001b[39;00m \u001b[38;5;28misinstance\u001b[39m(\u001b[38;5;28mtype\u001b[39m(in_value), \u001b[38;5;18m__class__\u001b[39m):\n\u001b[1;32m     45\u001b[0m     \u001b[38;5;28;01mraise\u001b[39;00m \u001b[38;5;167;01mNotImplementedError\u001b[39;00m(\u001b[38;5;124m\"\u001b[39m\u001b[38;5;124mThis variant is not implemented\u001b[39m\u001b[38;5;124m\"\u001b[39m)\n",
      "\u001b[0;31mOSError\u001b[0m: [Errno Could not find File: ] /home/runner/micromamba/envs/pygromosTest/lib/python3.9/site-packages/examples/example_files/QMMM_files/md.imd"
     ]
    }
   ],
   "source": [
    "imd_path = os.path.abspath(os.path.dirname(pygromos.__file__)+\"/../examples/example_files/QMMM_files/md.imd\")\n",
    "imd_file = Imd(imd_path)\n",
    "imd_file.TITLE.content = \"Demonstration of a Gromos imd file containing a QMMM block\"\n",
    "imd_file"
   ]
  },
  {
   "cell_type": "markdown",
   "id": "f48a2e4c-9b54-4c9c-9064-df84826b7b19",
   "metadata": {},
   "source": [
    "### Print out different sections of the QMMM block"
   ]
  },
  {
   "cell_type": "markdown",
   "id": "0e27e062",
   "metadata": {},
   "source": [
    "Print out selected parameters from the `QMMM` block or also the `TITLE` block."
   ]
  },
  {
   "cell_type": "code",
   "execution_count": 3,
   "id": "0794168f-e5ee-402d-aad9-a456ff4df6f8",
   "metadata": {
    "execution": {
     "iopub.execute_input": "2022-04-04T14:56:00.595979Z",
     "iopub.status.busy": "2022-04-04T14:56:00.595782Z",
     "iopub.status.idle": "2022-04-04T14:56:00.613237Z",
     "shell.execute_reply": "2022-04-04T14:56:00.612585Z"
    }
   },
   "outputs": [
    {
     "ename": "NameError",
     "evalue": "name 'imd_file' is not defined",
     "output_type": "error",
     "traceback": [
      "\u001b[0;31m---------------------------------------------------------------------------\u001b[0m",
      "\u001b[0;31mNameError\u001b[0m                                 Traceback (most recent call last)",
      "Input \u001b[0;32mIn [3]\u001b[0m, in \u001b[0;36m<cell line: 1>\u001b[0;34m()\u001b[0m\n\u001b[0;32m----> 1\u001b[0m \u001b[38;5;28mprint\u001b[39m(\u001b[43mimd_file\u001b[49m\u001b[38;5;241m.\u001b[39mQMMM\u001b[38;5;241m.\u001b[39mNTQMMM) \u001b[38;5;66;03m# QM/MM toggled on/off\u001b[39;00m\n\u001b[1;32m      2\u001b[0m \u001b[38;5;28mprint\u001b[39m(imd_file\u001b[38;5;241m.\u001b[39mQMMM\u001b[38;5;241m.\u001b[39mNTQMSW) \u001b[38;5;66;03m# which QM/MM engine\u001b[39;00m\n\u001b[1;32m      3\u001b[0m \u001b[38;5;28mprint\u001b[39m(imd_file\u001b[38;5;241m.\u001b[39mTITLE\u001b[38;5;241m.\u001b[39mcontent)\n",
      "\u001b[0;31mNameError\u001b[0m: name 'imd_file' is not defined"
     ]
    }
   ],
   "source": [
    "print(imd_file.QMMM.NTQMMM) # QM/MM toggled on/off\n",
    "print(imd_file.QMMM.NTQMSW) # which QM/MM engine\n",
    "print(imd_file.TITLE.content)"
   ]
  },
  {
   "cell_type": "markdown",
   "id": "e9ef2fb7-0205-4a34-8024-fff058a1bab8",
   "metadata": {},
   "source": [
    "### Change a block value and print again"
   ]
  },
  {
   "cell_type": "markdown",
   "id": "6db72f93",
   "metadata": {},
   "source": [
    "Just change values of the `QMMM` block like with other `PyGromosTools` blocks."
   ]
  },
  {
   "cell_type": "code",
   "execution_count": 4,
   "id": "34e14585-76c7-4509-a121-17c58b56262b",
   "metadata": {
    "execution": {
     "iopub.execute_input": "2022-04-04T14:56:00.616741Z",
     "iopub.status.busy": "2022-04-04T14:56:00.616355Z",
     "iopub.status.idle": "2022-04-04T14:56:00.632664Z",
     "shell.execute_reply": "2022-04-04T14:56:00.631962Z"
    }
   },
   "outputs": [
    {
     "ename": "NameError",
     "evalue": "name 'imd_file' is not defined",
     "output_type": "error",
     "traceback": [
      "\u001b[0;31m---------------------------------------------------------------------------\u001b[0m",
      "\u001b[0;31mNameError\u001b[0m                                 Traceback (most recent call last)",
      "Input \u001b[0;32mIn [4]\u001b[0m, in \u001b[0;36m<cell line: 1>\u001b[0;34m()\u001b[0m\n\u001b[0;32m----> 1\u001b[0m \u001b[43mimd_file\u001b[49m\u001b[38;5;241m.\u001b[39mQMMM\u001b[38;5;241m.\u001b[39mNTQMSW \u001b[38;5;241m=\u001b[39m \u001b[38;5;241m4\u001b[39m \u001b[38;5;66;03m# switch to ORCA as QM software\u001b[39;00m\n\u001b[1;32m      2\u001b[0m imd_file\u001b[38;5;241m.\u001b[39mQMMM\n",
      "\u001b[0;31mNameError\u001b[0m: name 'imd_file' is not defined"
     ]
    }
   ],
   "source": [
    "imd_file.QMMM.NTQMSW = 4 # switch to ORCA as QM software\n",
    "imd_file.QMMM"
   ]
  },
  {
   "cell_type": "markdown",
   "id": "27bbd639-1a57-4be3-aea5-67517721a6ed",
   "metadata": {},
   "source": [
    "## Directly manipulate a QMMM specification file"
   ]
  },
  {
   "cell_type": "markdown",
   "id": "9d70086b-f262-4ec7-b7d7-d636eb8a08e8",
   "metadata": {},
   "source": [
    "The QMMM object allows to directly interact with QM/MM specification files. Future releases of `PyGromosTools` will also support generation of `QMMM` files from coordinate files (`.cnf`, `.xyz`, `.pdb`)."
   ]
  },
  {
   "cell_type": "code",
   "execution_count": 5,
   "id": "025685f2-7888-43d1-8815-78bd6182d610",
   "metadata": {
    "execution": {
     "iopub.execute_input": "2022-04-04T14:56:00.635988Z",
     "iopub.status.busy": "2022-04-04T14:56:00.635662Z",
     "iopub.status.idle": "2022-04-04T14:56:00.679784Z",
     "shell.execute_reply": "2022-04-04T14:56:00.678965Z"
    }
   },
   "outputs": [
    {
     "ename": "OSError",
     "evalue": "[Errno Could not find File: ] /home/fpultar/Documents/repos/PyGromosTools/examples/example_files/QMMM_files/menthol-methanol-dmf.qmmm",
     "output_type": "error",
     "traceback": [
      "\u001b[0;31m---------------------------------------------------------------------------\u001b[0m",
      "\u001b[0;31mOSError\u001b[0m                                   Traceback (most recent call last)",
      "Input \u001b[0;32mIn [5]\u001b[0m, in \u001b[0;36m<cell line: 2>\u001b[0;34m()\u001b[0m\n\u001b[1;32m      1\u001b[0m \u001b[38;5;66;03m# instantiate the file object\u001b[39;00m\n\u001b[0;32m----> 2\u001b[0m qmmm_file \u001b[38;5;241m=\u001b[39m \u001b[43mQMMM\u001b[49m\u001b[43m(\u001b[49m\u001b[38;5;124;43m\"\u001b[39;49m\u001b[38;5;124;43m/home/fpultar/Documents/repos/PyGromosTools/examples/example_files/QMMM_files/menthol-methanol-dmf.qmmm\u001b[39;49m\u001b[38;5;124;43m\"\u001b[39;49m\u001b[43m)\u001b[49m\n\u001b[1;32m      3\u001b[0m \u001b[38;5;28mprint\u001b[39m(qmmm_file)\n",
      "File \u001b[0;32m~/micromamba/envs/pygromosTest/lib/python3.9/site-packages/pygromos/files/qmmm/qmmm.py:36\u001b[0m, in \u001b[0;36mQMMM.__init__\u001b[0;34m(self, in_value, _future_file)\u001b[0m\n\u001b[1;32m     35\u001b[0m \u001b[38;5;28;01mdef\u001b[39;00m \u001b[38;5;21m__init__\u001b[39m(\u001b[38;5;28mself\u001b[39m, in_value: \u001b[38;5;28mstr\u001b[39m, _future_file: \u001b[38;5;28mbool\u001b[39m \u001b[38;5;241m=\u001b[39m \u001b[38;5;28;01mFalse\u001b[39;00m):\n\u001b[0;32m---> 36\u001b[0m     \u001b[38;5;28;43msuper\u001b[39;49m\u001b[43m(\u001b[49m\u001b[43m)\u001b[49m\u001b[38;5;241;43m.\u001b[39;49m\u001b[38;5;21;43m__init__\u001b[39;49m\u001b[43m(\u001b[49m\u001b[43min_value\u001b[49m\u001b[38;5;241;43m=\u001b[39;49m\u001b[43min_value\u001b[49m\u001b[43m,\u001b[49m\u001b[43m \u001b[49m\u001b[43m_future_file\u001b[49m\u001b[38;5;241;43m=\u001b[39;49m\u001b[43m_future_file\u001b[49m\u001b[43m)\u001b[49m\n\u001b[1;32m     38\u001b[0m     \u001b[38;5;66;03m# TODO: maybe somebody can make a better solution for this. This is a ugly fix to unify the structure of the blocks\u001b[39;00m\n\u001b[1;32m     39\u001b[0m     \u001b[38;5;28;01mfor\u001b[39;00m block \u001b[38;5;129;01min\u001b[39;00m \u001b[38;5;28msorted\u001b[39m(\u001b[38;5;28mself\u001b[39m\u001b[38;5;241m.\u001b[39mget_block_names()):\n",
      "File \u001b[0;32m~/micromamba/envs/pygromosTest/lib/python3.9/site-packages/pygromos/files/_basics/_general_gromos_file.py:42\u001b[0m, in \u001b[0;36m_general_gromos_file.__init__\u001b[0;34m(self, in_value, _future_file)\u001b[0m\n\u001b[1;32m     40\u001b[0m         \u001b[38;5;28mself\u001b[39m\u001b[38;5;241m.\u001b[39mread_blocks()\n\u001b[1;32m     41\u001b[0m     \u001b[38;5;28;01melse\u001b[39;00m:\n\u001b[0;32m---> 42\u001b[0m         \u001b[38;5;28;01mraise\u001b[39;00m \u001b[38;5;167;01mIOError\u001b[39;00m(\u001b[38;5;124m\"\u001b[39m\u001b[38;5;124mCould not find File: \u001b[39m\u001b[38;5;124m\"\u001b[39m, in_value)\n\u001b[1;32m     44\u001b[0m \u001b[38;5;28;01melif\u001b[39;00m \u001b[38;5;28misinstance\u001b[39m(\u001b[38;5;28mtype\u001b[39m(in_value), \u001b[38;5;18m__class__\u001b[39m):\n\u001b[1;32m     45\u001b[0m     \u001b[38;5;28;01mraise\u001b[39;00m \u001b[38;5;167;01mNotImplementedError\u001b[39;00m(\u001b[38;5;124m\"\u001b[39m\u001b[38;5;124mThis variant is not implemented\u001b[39m\u001b[38;5;124m\"\u001b[39m)\n",
      "\u001b[0;31mOSError\u001b[0m: [Errno Could not find File: ] /home/fpultar/Documents/repos/PyGromosTools/examples/example_files/QMMM_files/menthol-methanol-dmf.qmmm"
     ]
    }
   ],
   "source": [
    "# instantiate the file object\n",
    "qmmm_file = QMMM(\"/home/fpultar/Documents/repos/PyGromosTools/examples/example_files/QMMM_files/menthol-methanol-dmf.qmmm\")\n",
    "print(qmmm_file)\n",
    "# There will be warnings if more than one QM engine is selected"
   ]
  },
  {
   "cell_type": "markdown",
   "id": "5ff05c79-a2a7-4759-a378-f8651eeb62e0",
   "metadata": {},
   "source": [
    "## Print out and change some blocks in the QMMM specification file"
   ]
  },
  {
   "cell_type": "markdown",
   "id": "330b78da-a354-4986-a6fe-f0640b9c7456",
   "metadata": {},
   "source": [
    "### Title block"
   ]
  },
  {
   "cell_type": "markdown",
   "id": "637b6909",
   "metadata": {},
   "source": [
    "The `QMMM` specification file can be handled like any other `GROMOS` file."
   ]
  },
  {
   "cell_type": "code",
   "execution_count": 6,
   "id": "ed139717-b743-4bf8-99e4-3732cd02f1ff",
   "metadata": {
    "execution": {
     "iopub.execute_input": "2022-04-04T14:56:00.683037Z",
     "iopub.status.busy": "2022-04-04T14:56:00.682842Z",
     "iopub.status.idle": "2022-04-04T14:56:00.698491Z",
     "shell.execute_reply": "2022-04-04T14:56:00.697751Z"
    }
   },
   "outputs": [
    {
     "ename": "NameError",
     "evalue": "name 'qmmm_file' is not defined",
     "output_type": "error",
     "traceback": [
      "\u001b[0;31m---------------------------------------------------------------------------\u001b[0m",
      "\u001b[0;31mNameError\u001b[0m                                 Traceback (most recent call last)",
      "Input \u001b[0;32mIn [6]\u001b[0m, in \u001b[0;36m<cell line: 1>\u001b[0;34m()\u001b[0m\n\u001b[0;32m----> 1\u001b[0m \u001b[38;5;28mprint\u001b[39m(\u001b[43mqmmm_file\u001b[49m\u001b[38;5;241m.\u001b[39mTITLE\u001b[38;5;241m.\u001b[39mcontent)\n\u001b[1;32m      2\u001b[0m qmmm_file\u001b[38;5;241m.\u001b[39mTITLE\u001b[38;5;241m.\u001b[39mcontent \u001b[38;5;241m=\u001b[39m \u001b[38;5;124m\"\u001b[39m\u001b[38;5;124mCustom file header\u001b[39m\u001b[38;5;124m\"\u001b[39m\n\u001b[1;32m      3\u001b[0m \u001b[38;5;28mprint\u001b[39m(qmmm_file\u001b[38;5;241m.\u001b[39mTITLE\u001b[38;5;241m.\u001b[39mcontent)\n",
      "\u001b[0;31mNameError\u001b[0m: name 'qmmm_file' is not defined"
     ]
    }
   ],
   "source": [
    "print(qmmm_file.TITLE.content)\n",
    "qmmm_file.TITLE.content = \"Custom file header\"\n",
    "print(qmmm_file.TITLE.content)"
   ]
  },
  {
   "cell_type": "markdown",
   "id": "083699b9-0a96-4380-ba54-d2529767135e",
   "metadata": {},
   "source": [
    "### QMZONE block"
   ]
  },
  {
   "cell_type": "markdown",
   "id": "e78da513",
   "metadata": {},
   "source": [
    "Print out the `QMZONE` section that defines which atoms will be treated quantum-mechanically."
   ]
  },
  {
   "cell_type": "code",
   "execution_count": 7,
   "id": "df7e4b44-9562-48b6-8597-bd4a9468e951",
   "metadata": {
    "execution": {
     "iopub.execute_input": "2022-04-04T14:56:00.702230Z",
     "iopub.status.busy": "2022-04-04T14:56:00.701860Z",
     "iopub.status.idle": "2022-04-04T14:56:00.720267Z",
     "shell.execute_reply": "2022-04-04T14:56:00.719453Z"
    }
   },
   "outputs": [
    {
     "ename": "NameError",
     "evalue": "name 'qmmm_file' is not defined",
     "output_type": "error",
     "traceback": [
      "\u001b[0;31m---------------------------------------------------------------------------\u001b[0m",
      "\u001b[0;31mNameError\u001b[0m                                 Traceback (most recent call last)",
      "Input \u001b[0;32mIn [7]\u001b[0m, in \u001b[0;36m<cell line: 5>\u001b[0;34m()\u001b[0m\n\u001b[1;32m      1\u001b[0m \u001b[38;5;66;03m# as in other Gromos files, the first bunch of characters are ignored and used to comment, e.g. name of the atom\u001b[39;00m\n\u001b[1;32m      2\u001b[0m \u001b[38;5;66;03m# second value: index of te position (starting from 1)\u001b[39;00m\n\u001b[1;32m      3\u001b[0m \u001b[38;5;66;03m# third value: element number according to the PSE\u001b[39;00m\n\u001b[1;32m      4\u001b[0m \u001b[38;5;66;03m# fourth value: indicate whether bond can be broken or not, default = 0\u001b[39;00m\n\u001b[0;32m----> 5\u001b[0m \u001b[38;5;28mprint\u001b[39m(\u001b[43mqmmm_file\u001b[49m\u001b[38;5;241m.\u001b[39mQMZONE)\n",
      "\u001b[0;31mNameError\u001b[0m: name 'qmmm_file' is not defined"
     ]
    }
   ],
   "source": [
    "# as in other Gromos files, the first bunch of characters are ignored and used to comment, e.g. name of the atom\n",
    "# second value: index of te position (starting from 1)\n",
    "# third value: element number according to the PSE\n",
    "# fourth value: indicate whether bond can be broken or not, default = 0\n",
    "print(qmmm_file.QMZONE)"
   ]
  },
  {
   "cell_type": "markdown",
   "id": "e4b47246-47df-4758-b529-5cf7a14e57cc",
   "metadata": {},
   "source": [
    "### QMUNIT block"
   ]
  },
  {
   "cell_type": "markdown",
   "id": "a75b5c8c",
   "metadata": {},
   "source": [
    "Print out the `QMUNIT` block that defines some unit conversions between the MD engine and the QM software."
   ]
  },
  {
   "cell_type": "code",
   "execution_count": 8,
   "id": "e2191cba-b23c-4ff4-9e44-0febea848195",
   "metadata": {
    "execution": {
     "iopub.execute_input": "2022-04-04T14:56:00.724002Z",
     "iopub.status.busy": "2022-04-04T14:56:00.723806Z",
     "iopub.status.idle": "2022-04-04T14:56:00.742146Z",
     "shell.execute_reply": "2022-04-04T14:56:00.741437Z"
    }
   },
   "outputs": [
    {
     "ename": "NameError",
     "evalue": "name 'qmmm_file' is not defined",
     "output_type": "error",
     "traceback": [
      "\u001b[0;31m---------------------------------------------------------------------------\u001b[0m",
      "\u001b[0;31mNameError\u001b[0m                                 Traceback (most recent call last)",
      "Input \u001b[0;32mIn [8]\u001b[0m, in \u001b[0;36m<cell line: 6>\u001b[0;34m()\u001b[0m\n\u001b[1;32m      1\u001b[0m \u001b[38;5;66;03m# usually, these conversion factors are hard-coded in Gromos; left for historical reasons\u001b[39;00m\n\u001b[1;32m      2\u001b[0m \u001b[38;5;66;03m# first value: QM length to Gromos length (e.g. Bohr to nm) \u001b[39;00m\n\u001b[1;32m      3\u001b[0m \u001b[38;5;66;03m# second value: QM energy to Gromos energy (e.g. Hartree to kJ / mol)\u001b[39;00m\n\u001b[1;32m      4\u001b[0m \u001b[38;5;66;03m# third value: Gromos charge to QM charge (the same in this case)\u001b[39;00m\n\u001b[1;32m      5\u001b[0m \u001b[38;5;66;03m# fourth value: QM input units to Gromos input units (e.g. Angstrom to nm)\u001b[39;00m\n\u001b[0;32m----> 6\u001b[0m \u001b[38;5;28mprint\u001b[39m(\u001b[43mqmmm_file\u001b[49m\u001b[38;5;241m.\u001b[39mQMUNIT)\n",
      "\u001b[0;31mNameError\u001b[0m: name 'qmmm_file' is not defined"
     ]
    }
   ],
   "source": [
    "# usually, these conversion factors are hard-coded in Gromos; left for historical reasons\n",
    "# first value: QM length to Gromos length (e.g. Bohr to nm) \n",
    "# second value: QM energy to Gromos energy (e.g. Hartree to kJ / mol)\n",
    "# third value: Gromos charge to QM charge (the same in this case)\n",
    "# fourth value: QM input units to Gromos input units (e.g. Angstrom to nm)\n",
    "print(qmmm_file.QMUNIT)"
   ]
  },
  {
   "cell_type": "markdown",
   "id": "29f0397e-dbc2-4226-bec9-a8cb1d1c07df",
   "metadata": {},
   "source": [
    "### XTBELEMENTS block"
   ]
  },
  {
   "cell_type": "markdown",
   "id": "7c127e63-9652-4119-81a8-939cdf79b14b",
   "metadata": {},
   "source": [
    "Print and update the `XTBELEMENTS` block"
   ]
  },
  {
   "cell_type": "code",
   "execution_count": 9,
   "id": "3bfec885-5481-45bf-ba22-aac8e5498be6",
   "metadata": {
    "execution": {
     "iopub.execute_input": "2022-04-04T14:56:00.745191Z",
     "iopub.status.busy": "2022-04-04T14:56:00.744983Z",
     "iopub.status.idle": "2022-04-04T14:56:00.759326Z",
     "shell.execute_reply": "2022-04-04T14:56:00.758657Z"
    }
   },
   "outputs": [
    {
     "ename": "NameError",
     "evalue": "name 'qmmm_file' is not defined",
     "output_type": "error",
     "traceback": [
      "\u001b[0;31m---------------------------------------------------------------------------\u001b[0m",
      "\u001b[0;31mNameError\u001b[0m                                 Traceback (most recent call last)",
      "Input \u001b[0;32mIn [9]\u001b[0m, in \u001b[0;36m<cell line: 1>\u001b[0;34m()\u001b[0m\n\u001b[0;32m----> 1\u001b[0m \u001b[38;5;28mprint\u001b[39m(\u001b[43mqmmm_file\u001b[49m\u001b[38;5;241m.\u001b[39mXTBELEMENTS)\n\u001b[1;32m      2\u001b[0m \u001b[38;5;28mprint\u001b[39m(qmmm_file\u001b[38;5;241m.\u001b[39mXTBELEMENTS\u001b[38;5;241m.\u001b[39mcontent)\n",
      "\u001b[0;31mNameError\u001b[0m: name 'qmmm_file' is not defined"
     ]
    }
   ],
   "source": [
    "print(qmmm_file.XTBELEMENTS)\n",
    "print(qmmm_file.XTBELEMENTS.content)"
   ]
  },
  {
   "cell_type": "code",
   "execution_count": 10,
   "id": "1503c040-bed2-4461-8f93-2262fb6b934f",
   "metadata": {
    "execution": {
     "iopub.execute_input": "2022-04-04T14:56:00.762677Z",
     "iopub.status.busy": "2022-04-04T14:56:00.762484Z",
     "iopub.status.idle": "2022-04-04T14:56:00.779376Z",
     "shell.execute_reply": "2022-04-04T14:56:00.778681Z"
    }
   },
   "outputs": [
    {
     "name": "stdout",
     "output_type": "stream",
     "text": [
      "[['1'], ['2'], ['3'], ['4'], ['5'], ['6'], ['7'], ['8'], ['9'], ['10']]\n"
     ]
    },
    {
     "ename": "NameError",
     "evalue": "name 'qmmm_file' is not defined",
     "output_type": "error",
     "traceback": [
      "\u001b[0;31m---------------------------------------------------------------------------\u001b[0m",
      "\u001b[0;31mNameError\u001b[0m                                 Traceback (most recent call last)",
      "Input \u001b[0;32mIn [10]\u001b[0m, in \u001b[0;36m<cell line: 4>\u001b[0;34m()\u001b[0m\n\u001b[1;32m      2\u001b[0m xtbelements_new  \u001b[38;5;241m=\u001b[39m [[\u001b[38;5;28mstr\u001b[39m(i) \u001b[38;5;28;01mfor\u001b[39;00m j \u001b[38;5;129;01min\u001b[39;00m \u001b[38;5;28mrange\u001b[39m(\u001b[38;5;241m1\u001b[39m)] \u001b[38;5;28;01mfor\u001b[39;00m i \u001b[38;5;129;01min\u001b[39;00m \u001b[38;5;28mrange\u001b[39m(\u001b[38;5;241m1\u001b[39m,\u001b[38;5;241m11\u001b[39m)]\n\u001b[1;32m      3\u001b[0m \u001b[38;5;28mprint\u001b[39m(xtbelements_new)\n\u001b[0;32m----> 4\u001b[0m \u001b[43mqmmm_file\u001b[49m\u001b[38;5;241m.\u001b[39mXTBELEMENTS\u001b[38;5;241m.\u001b[39mcontent \u001b[38;5;241m=\u001b[39m xtbelements_new\n",
      "\u001b[0;31mNameError\u001b[0m: name 'qmmm_file' is not defined"
     ]
    }
   ],
   "source": [
    "# replace element numbers manually with the first ten elements of the PSE\n",
    "xtbelements_new  = [[str(i) for j in range(1)] for i in range(1,11)]\n",
    "print(xtbelements_new)\n",
    "qmmm_file.XTBELEMENTS.content = xtbelements_new"
   ]
  },
  {
   "cell_type": "code",
   "execution_count": 11,
   "id": "6eb98bd1-0af0-4db5-becd-2af9a6a8bdf0",
   "metadata": {
    "execution": {
     "iopub.execute_input": "2022-04-04T14:56:00.783530Z",
     "iopub.status.busy": "2022-04-04T14:56:00.783328Z",
     "iopub.status.idle": "2022-04-04T14:56:00.797988Z",
     "shell.execute_reply": "2022-04-04T14:56:00.797281Z"
    }
   },
   "outputs": [
    {
     "ename": "NameError",
     "evalue": "name 'qmmm_file' is not defined",
     "output_type": "error",
     "traceback": [
      "\u001b[0;31m---------------------------------------------------------------------------\u001b[0m",
      "\u001b[0;31mNameError\u001b[0m                                 Traceback (most recent call last)",
      "Input \u001b[0;32mIn [11]\u001b[0m, in \u001b[0;36m<cell line: 2>\u001b[0;34m()\u001b[0m\n\u001b[1;32m      1\u001b[0m \u001b[38;5;66;03m# show the updated section in the file\u001b[39;00m\n\u001b[0;32m----> 2\u001b[0m \u001b[43mqmmm_file\u001b[49m\u001b[38;5;241m.\u001b[39mXTBELEMENTS\n",
      "\u001b[0;31mNameError\u001b[0m: name 'qmmm_file' is not defined"
     ]
    }
   ],
   "source": [
    "# show the updated section in the file\n",
    "qmmm_file.XTBELEMENTS"
   ]
  },
  {
   "cell_type": "markdown",
   "id": "11615f62-005e-4e99-84a8-7e2e32badb15",
   "metadata": {},
   "source": [
    "### A helper function that returns all QM engines specified in the QM/MM specification file"
   ]
  },
  {
   "cell_type": "markdown",
   "id": "466a4510",
   "metadata": {},
   "source": [
    "There is also a sanity check in the constructor of `QMMM` to see if you did not accidentally add more than one QM engine."
   ]
  },
  {
   "cell_type": "code",
   "execution_count": 12,
   "id": "171dcd38-50b3-4cbc-9056-1a0a83b679b0",
   "metadata": {
    "execution": {
     "iopub.execute_input": "2022-04-04T14:56:00.800978Z",
     "iopub.status.busy": "2022-04-04T14:56:00.800779Z",
     "iopub.status.idle": "2022-04-04T14:56:00.817730Z",
     "shell.execute_reply": "2022-04-04T14:56:00.817075Z"
    }
   },
   "outputs": [
    {
     "ename": "NameError",
     "evalue": "name 'qmmm_file' is not defined",
     "output_type": "error",
     "traceback": [
      "\u001b[0;31m---------------------------------------------------------------------------\u001b[0m",
      "\u001b[0;31mNameError\u001b[0m                                 Traceback (most recent call last)",
      "Input \u001b[0;32mIn [12]\u001b[0m, in \u001b[0;36m<cell line: 1>\u001b[0;34m()\u001b[0m\n\u001b[0;32m----> 1\u001b[0m \u001b[38;5;28mprint\u001b[39m(\u001b[43mqmmm_file\u001b[49m\u001b[38;5;241m.\u001b[39mget_qm_engines())\n",
      "\u001b[0;31mNameError\u001b[0m: name 'qmmm_file' is not defined"
     ]
    }
   ],
   "source": [
    "print(qmmm_file.get_qm_engines())"
   ]
  },
  {
   "cell_type": "markdown",
   "id": "6762dd06",
   "metadata": {},
   "source": [
    "### Store your QMMM specification file with all your other simulation files in a `Gromos_System` object"
   ]
  },
  {
   "cell_type": "code",
   "execution_count": 13,
   "id": "b53cc612",
   "metadata": {
    "execution": {
     "iopub.execute_input": "2022-04-04T14:56:00.821059Z",
     "iopub.status.busy": "2022-04-04T14:56:00.820864Z",
     "iopub.status.idle": "2022-04-04T14:56:01.350768Z",
     "shell.execute_reply": "2022-04-04T14:56:01.350051Z"
    }
   },
   "outputs": [
    {
     "name": "stderr",
     "output_type": "stream",
     "text": [
      "mkdir: cannot create directory ‘/home/fpultar/Documents/repos/PyGromosTools/examples/example_files/QMMM_files/menthol-methanol-dmf’: No such file or directory\n"
     ]
    },
    {
     "ename": "OSError",
     "evalue": "could not make folder:\n /home/fpultar/Documents/repos/PyGromosTools/examples/example_files/QMMM_files/menthol-methanol-dmf",
     "output_type": "error",
     "traceback": [
      "\u001b[0;31m---------------------------------------------------------------------------\u001b[0m",
      "\u001b[0;31mOSError\u001b[0m                                   Traceback (most recent call last)",
      "Input \u001b[0;32mIn [13]\u001b[0m, in \u001b[0;36m<cell line: 8>\u001b[0;34m()\u001b[0m\n\u001b[1;32m      5\u001b[0m work_folder \u001b[38;5;241m=\u001b[39m \u001b[38;5;124mf\u001b[39m\u001b[38;5;124m\"\u001b[39m\u001b[38;5;124m/home/fpultar/Documents/repos/PyGromosTools/examples/example_files/QMMM_files/\u001b[39m\u001b[38;5;132;01m{\u001b[39;00msystem_name\u001b[38;5;132;01m}\u001b[39;00m\u001b[38;5;124m\"\u001b[39m\n\u001b[1;32m      7\u001b[0m \u001b[38;5;66;03m# create a Gromos_System object from scratch\u001b[39;00m\n\u001b[0;32m----> 8\u001b[0m system \u001b[38;5;241m=\u001b[39m \u001b[43mGromos_System\u001b[49m\u001b[43m(\u001b[49m\u001b[43mwork_folder\u001b[49m\u001b[43m,\u001b[49m\u001b[43m \u001b[49m\u001b[43msystem_name\u001b[49m\u001b[43m)\u001b[49m\n\u001b[1;32m     10\u001b[0m \u001b[38;5;66;03m# specify prepared topology, configuration, QMMM specification file, and input file\u001b[39;00m\n\u001b[1;32m     11\u001b[0m system\u001b[38;5;241m.\u001b[39mtop \u001b[38;5;241m=\u001b[39m \u001b[38;5;124mf\u001b[39m\u001b[38;5;124m\"\u001b[39m\u001b[38;5;124m/home/fpultar/Documents/repos/PyGromosTools/examples/example_files/QMMM_files/\u001b[39m\u001b[38;5;132;01m{\u001b[39;00msystem_name\u001b[38;5;132;01m}\u001b[39;00m\u001b[38;5;124m-all-atom_54a7.top\u001b[39m\u001b[38;5;124m\"\u001b[39m\n",
      "File \u001b[0;32m~/micromamba/envs/pygromosTest/lib/python3.9/site-packages/pygromos/files/gromos_system/gromos_system.py:228\u001b[0m, in \u001b[0;36mGromos_System.__init__\u001b[0;34m(self, work_folder, system_name, rdkitMol, in_mol2_file, readIn, forcefield, auto_convert, adapt_imd_automatically, verbose, in_smiles, in_residue_list, in_top_path, in_cnf_path, in_imd_path, in_disres_path, in_ptp_path, in_posres_path, in_refpos_path, in_qmmm_path, in_gromosXX_bin_dir, in_gromosPP_bin_dir)\u001b[0m\n\u001b[1;32m    217\u001b[0m \u001b[38;5;66;03m# import files:\u001b[39;00m\n\u001b[1;32m    218\u001b[0m file_mapping \u001b[38;5;241m=\u001b[39m {\n\u001b[1;32m    219\u001b[0m     \u001b[38;5;124m\"\u001b[39m\u001b[38;5;124mimd\u001b[39m\u001b[38;5;124m\"\u001b[39m: in_imd_path,\n\u001b[1;32m    220\u001b[0m     \u001b[38;5;124m\"\u001b[39m\u001b[38;5;124mtop\u001b[39m\u001b[38;5;124m\"\u001b[39m: in_top_path,\n\u001b[0;32m   (...)\u001b[0m\n\u001b[1;32m    226\u001b[0m     \u001b[38;5;124m\"\u001b[39m\u001b[38;5;124mqmmm\u001b[39m\u001b[38;5;124m\"\u001b[39m: in_qmmm_path,\n\u001b[1;32m    227\u001b[0m }\n\u001b[0;32m--> 228\u001b[0m \u001b[38;5;28;43mself\u001b[39;49m\u001b[38;5;241;43m.\u001b[39;49m\u001b[43mparse_attribute_files\u001b[49m\u001b[43m(\u001b[49m\u001b[43mfile_mapping\u001b[49m\u001b[43m,\u001b[49m\u001b[43m \u001b[49m\u001b[43mreadIn\u001b[49m\u001b[38;5;241;43m=\u001b[39;49m\u001b[43mreadIn\u001b[49m\u001b[43m,\u001b[49m\u001b[43m \u001b[49m\u001b[43mverbose\u001b[49m\u001b[38;5;241;43m=\u001b[39;49m\u001b[43mverbose\u001b[49m\u001b[43m)\u001b[49m\n\u001b[1;32m    230\u001b[0m \u001b[38;5;66;03m# System Information:\u001b[39;00m\n\u001b[1;32m    231\u001b[0m \u001b[38;5;28;01mif\u001b[39;00m \u001b[38;5;129;01mnot\u001b[39;00m \u001b[38;5;28mself\u001b[39m\u001b[38;5;241m.\u001b[39m_cnf\u001b[38;5;241m.\u001b[39m_future_file:\n",
      "File \u001b[0;32m~/micromamba/envs/pygromosTest/lib/python3.9/site-packages/pygromos/files/gromos_system/gromos_system.py:830\u001b[0m, in \u001b[0;36mGromos_System.parse_attribute_files\u001b[0;34m(self, file_mapping, readIn, verbose)\u001b[0m\n\u001b[1;32m    828\u001b[0m \u001b[38;5;66;03m# Check if system folder is present\u001b[39;00m\n\u001b[1;32m    829\u001b[0m \u001b[38;5;28;01mif\u001b[39;00m \u001b[38;5;129;01mnot\u001b[39;00m os\u001b[38;5;241m.\u001b[39mpath\u001b[38;5;241m.\u001b[39mexists(\u001b[38;5;28mself\u001b[39m\u001b[38;5;241m.\u001b[39m_work_folder):\n\u001b[0;32m--> 830\u001b[0m     \u001b[43mbash\u001b[49m\u001b[38;5;241;43m.\u001b[39;49m\u001b[43mmake_folder\u001b[49m\u001b[43m(\u001b[49m\u001b[38;5;28;43mself\u001b[39;49m\u001b[38;5;241;43m.\u001b[39;49m\u001b[43m_work_folder\u001b[49m\u001b[43m)\u001b[49m\n\u001b[1;32m    831\u001b[0m check_file_paths\u001b[38;5;241m.\u001b[39mappend(\u001b[38;5;28mself\u001b[39m\u001b[38;5;241m.\u001b[39m_work_folder)\n\u001b[1;32m    833\u001b[0m \u001b[38;5;66;03m# Check if file- paths are valid\u001b[39;00m\n",
      "File \u001b[0;32m~/micromamba/envs/pygromosTest/lib/python3.9/site-packages/pygromos/utils/bash.py:558\u001b[0m, in \u001b[0;36mmake_folder\u001b[0;34m(in_directory_path, additional_option, verbose)\u001b[0m\n\u001b[1;32m    556\u001b[0m \u001b[38;5;28;01mif\u001b[39;00m \u001b[38;5;129;01mnot\u001b[39;00m os\u001b[38;5;241m.\u001b[39mpath\u001b[38;5;241m.\u001b[39misdir(in_directory_path):\n\u001b[1;32m    557\u001b[0m     \u001b[38;5;28;01mif\u001b[39;00m os\u001b[38;5;241m.\u001b[39msystem(mk_folder):\n\u001b[0;32m--> 558\u001b[0m         \u001b[38;5;28;01mraise\u001b[39;00m \u001b[38;5;167;01mOSError\u001b[39;00m(\u001b[38;5;124m\"\u001b[39m\u001b[38;5;124mcould not make folder:\u001b[39m\u001b[38;5;130;01m\\n\u001b[39;00m\u001b[38;5;124m \u001b[39m\u001b[38;5;124m\"\u001b[39m \u001b[38;5;241m+\u001b[39m \u001b[38;5;28mstr\u001b[39m(in_directory_path))\n\u001b[1;32m    560\u001b[0m \u001b[38;5;28;01melif\u001b[39;00m verbose:\n\u001b[1;32m    561\u001b[0m     warnings\u001b[38;5;241m.\u001b[39mwarn(\u001b[38;5;124m\"\u001b[39m\u001b[38;5;124mWARNING:\u001b[39m\u001b[38;5;130;01m\\n\u001b[39;00m\u001b[38;5;130;01m\\t\u001b[39;00m\u001b[38;5;124m Did not build already existing folder: \u001b[39m\u001b[38;5;124m\"\u001b[39m \u001b[38;5;241m+\u001b[39m in_directory_path, category\u001b[38;5;241m=\u001b[39m\u001b[38;5;167;01mUserWarning\u001b[39;00m)\n",
      "\u001b[0;31mOSError\u001b[0m: could not make folder:\n /home/fpultar/Documents/repos/PyGromosTools/examples/example_files/QMMM_files/menthol-methanol-dmf"
     ]
    }
   ],
   "source": [
    "# that's what we want to simulate\n",
    "system_name = \"menthol-methanol-dmf\"\n",
    "\n",
    "# that's where we want to simulate it at\n",
    "work_folder = f\"/home/fpultar/Documents/repos/PyGromosTools/examples/example_files/QMMM_files/{system_name}\"\n",
    "\n",
    "# create a Gromos_System object from scratch\n",
    "system = Gromos_System(work_folder, system_name)\n",
    "\n",
    "# specify prepared topology, configuration, QMMM specification file, and input file\n",
    "system.top = f\"/home/fpultar/Documents/repos/PyGromosTools/examples/example_files/QMMM_files/{system_name}-all-atom_54a7.top\"\n",
    "system.cnf = f\"/home/fpultar/Documents/repos/PyGromosTools/examples/example_files/QMMM_files/{system_name}-all-atom-init_54a7.cnf\"\n",
    "system.qmmm = qmmm_file\n",
    "system.imd = imd_file\n",
    "\n",
    "# clean up\n",
    "system.rebase_files()\n",
    "\n",
    "# all your simulation files now live in the work folder\n",
    "system"
   ]
  },
  {
   "cell_type": "code",
   "execution_count": 14,
   "id": "7b311787",
   "metadata": {
    "execution": {
     "iopub.execute_input": "2022-04-04T14:56:01.353958Z",
     "iopub.status.busy": "2022-04-04T14:56:01.353514Z",
     "iopub.status.idle": "2022-04-04T14:56:01.369513Z",
     "shell.execute_reply": "2022-04-04T14:56:01.368841Z"
    }
   },
   "outputs": [
    {
     "ename": "NameError",
     "evalue": "name 'system' is not defined",
     "output_type": "error",
     "traceback": [
      "\u001b[0;31m---------------------------------------------------------------------------\u001b[0m",
      "\u001b[0;31mNameError\u001b[0m                                 Traceback (most recent call last)",
      "Input \u001b[0;32mIn [14]\u001b[0m, in \u001b[0;36m<cell line: 2>\u001b[0;34m()\u001b[0m\n\u001b[1;32m      1\u001b[0m \u001b[38;5;66;03m# the imd file has been adapted (force groups, multibath, etc.)\u001b[39;00m\n\u001b[0;32m----> 2\u001b[0m \u001b[43msystem\u001b[49m\u001b[38;5;241m.\u001b[39mimd\n",
      "\u001b[0;31mNameError\u001b[0m: name 'system' is not defined"
     ]
    }
   ],
   "source": [
    "# the imd file has been adapted (force groups, multibath, etc.)\n",
    "system.imd"
   ]
  },
  {
   "cell_type": "markdown",
   "id": "b8a4dd03",
   "metadata": {},
   "source": [
    "## Run QM/MM Simulations"
   ]
  },
  {
   "cell_type": "markdown",
   "id": "6f4b1139",
   "metadata": {},
   "source": [
    "QM/MM calculations are possible with a special in-house build of `GROMOS`."
   ]
  },
  {
   "cell_type": "code",
   "execution_count": 15,
   "id": "477f3d2d",
   "metadata": {
    "execution": {
     "iopub.execute_input": "2022-04-04T14:56:01.372888Z",
     "iopub.status.busy": "2022-04-04T14:56:01.372685Z",
     "iopub.status.idle": "2022-04-04T14:56:01.433747Z",
     "shell.execute_reply": "2022-04-04T14:56:01.432998Z"
    }
   },
   "outputs": [
    {
     "name": "stderr",
     "output_type": "stream",
     "text": [
      "mkdir: cannot create directory ‘/home/fpultar/Documents/calc/pygromos/menthol-methanol-dmf’: No such file or directory\n"
     ]
    },
    {
     "ename": "OSError",
     "evalue": "could not make folder:\n /home/fpultar/Documents/calc/pygromos/menthol-methanol-dmf",
     "output_type": "error",
     "traceback": [
      "\u001b[0;31m---------------------------------------------------------------------------\u001b[0m",
      "\u001b[0;31mOSError\u001b[0m                                   Traceback (most recent call last)",
      "Input \u001b[0;32mIn [15]\u001b[0m, in \u001b[0;36m<cell line: 14>\u001b[0;34m()\u001b[0m\n\u001b[1;32m     11\u001b[0m in_top_path  \u001b[38;5;241m=\u001b[39m \u001b[38;5;124mf\u001b[39m\u001b[38;5;124m\"\u001b[39m\u001b[38;5;124m/home/fpultar/Documents/repos/PyGromosTools/examples/example_files/QMMM_files/menthol-methanol-dmf-all-atom_54a7.top\u001b[39m\u001b[38;5;124m\"\u001b[39m\n\u001b[1;32m     13\u001b[0m \u001b[38;5;66;03m# system\u001b[39;00m\n\u001b[0;32m---> 14\u001b[0m system \u001b[38;5;241m=\u001b[39m \u001b[43mGromos_System\u001b[49m\u001b[43m(\u001b[49m\n\u001b[1;32m     15\u001b[0m \u001b[43m    \u001b[49m\u001b[43mwork_folder\u001b[49m\u001b[43m,\u001b[49m\u001b[43m \u001b[49m\n\u001b[1;32m     16\u001b[0m \u001b[43m    \u001b[49m\u001b[43msystem_name\u001b[49m\u001b[43m,\u001b[49m\u001b[43m \u001b[49m\n\u001b[1;32m     17\u001b[0m \u001b[43m    \u001b[49m\u001b[43min_top_path\u001b[49m\u001b[38;5;241;43m=\u001b[39;49m\u001b[43min_top_path\u001b[49m\u001b[43m,\u001b[49m\u001b[43m \u001b[49m\n\u001b[1;32m     18\u001b[0m \u001b[43m    \u001b[49m\u001b[43min_cnf_path\u001b[49m\u001b[38;5;241;43m=\u001b[39;49m\u001b[43min_cnf_path\u001b[49m\u001b[43m,\u001b[49m\n\u001b[1;32m     19\u001b[0m \u001b[43m    \u001b[49m\u001b[43min_gromosPP_bin_dir\u001b[49m\u001b[38;5;241;43m=\u001b[39;49m\u001b[43mgromosPP\u001b[49m\u001b[43m,\u001b[49m\n\u001b[1;32m     20\u001b[0m \u001b[43m    \u001b[49m\u001b[43min_gromosXX_bin_dir\u001b[49m\u001b[38;5;241;43m=\u001b[39;49m\u001b[43mgromosXX\u001b[49m\n\u001b[1;32m     21\u001b[0m \u001b[43m)\u001b[49m\n\u001b[1;32m     23\u001b[0m system\n",
      "File \u001b[0;32m~/micromamba/envs/pygromosTest/lib/python3.9/site-packages/pygromos/files/gromos_system/gromos_system.py:228\u001b[0m, in \u001b[0;36mGromos_System.__init__\u001b[0;34m(self, work_folder, system_name, rdkitMol, in_mol2_file, readIn, forcefield, auto_convert, adapt_imd_automatically, verbose, in_smiles, in_residue_list, in_top_path, in_cnf_path, in_imd_path, in_disres_path, in_ptp_path, in_posres_path, in_refpos_path, in_qmmm_path, in_gromosXX_bin_dir, in_gromosPP_bin_dir)\u001b[0m\n\u001b[1;32m    217\u001b[0m \u001b[38;5;66;03m# import files:\u001b[39;00m\n\u001b[1;32m    218\u001b[0m file_mapping \u001b[38;5;241m=\u001b[39m {\n\u001b[1;32m    219\u001b[0m     \u001b[38;5;124m\"\u001b[39m\u001b[38;5;124mimd\u001b[39m\u001b[38;5;124m\"\u001b[39m: in_imd_path,\n\u001b[1;32m    220\u001b[0m     \u001b[38;5;124m\"\u001b[39m\u001b[38;5;124mtop\u001b[39m\u001b[38;5;124m\"\u001b[39m: in_top_path,\n\u001b[0;32m   (...)\u001b[0m\n\u001b[1;32m    226\u001b[0m     \u001b[38;5;124m\"\u001b[39m\u001b[38;5;124mqmmm\u001b[39m\u001b[38;5;124m\"\u001b[39m: in_qmmm_path,\n\u001b[1;32m    227\u001b[0m }\n\u001b[0;32m--> 228\u001b[0m \u001b[38;5;28;43mself\u001b[39;49m\u001b[38;5;241;43m.\u001b[39;49m\u001b[43mparse_attribute_files\u001b[49m\u001b[43m(\u001b[49m\u001b[43mfile_mapping\u001b[49m\u001b[43m,\u001b[49m\u001b[43m \u001b[49m\u001b[43mreadIn\u001b[49m\u001b[38;5;241;43m=\u001b[39;49m\u001b[43mreadIn\u001b[49m\u001b[43m,\u001b[49m\u001b[43m \u001b[49m\u001b[43mverbose\u001b[49m\u001b[38;5;241;43m=\u001b[39;49m\u001b[43mverbose\u001b[49m\u001b[43m)\u001b[49m\n\u001b[1;32m    230\u001b[0m \u001b[38;5;66;03m# System Information:\u001b[39;00m\n\u001b[1;32m    231\u001b[0m \u001b[38;5;28;01mif\u001b[39;00m \u001b[38;5;129;01mnot\u001b[39;00m \u001b[38;5;28mself\u001b[39m\u001b[38;5;241m.\u001b[39m_cnf\u001b[38;5;241m.\u001b[39m_future_file:\n",
      "File \u001b[0;32m~/micromamba/envs/pygromosTest/lib/python3.9/site-packages/pygromos/files/gromos_system/gromos_system.py:830\u001b[0m, in \u001b[0;36mGromos_System.parse_attribute_files\u001b[0;34m(self, file_mapping, readIn, verbose)\u001b[0m\n\u001b[1;32m    828\u001b[0m \u001b[38;5;66;03m# Check if system folder is present\u001b[39;00m\n\u001b[1;32m    829\u001b[0m \u001b[38;5;28;01mif\u001b[39;00m \u001b[38;5;129;01mnot\u001b[39;00m os\u001b[38;5;241m.\u001b[39mpath\u001b[38;5;241m.\u001b[39mexists(\u001b[38;5;28mself\u001b[39m\u001b[38;5;241m.\u001b[39m_work_folder):\n\u001b[0;32m--> 830\u001b[0m     \u001b[43mbash\u001b[49m\u001b[38;5;241;43m.\u001b[39;49m\u001b[43mmake_folder\u001b[49m\u001b[43m(\u001b[49m\u001b[38;5;28;43mself\u001b[39;49m\u001b[38;5;241;43m.\u001b[39;49m\u001b[43m_work_folder\u001b[49m\u001b[43m)\u001b[49m\n\u001b[1;32m    831\u001b[0m check_file_paths\u001b[38;5;241m.\u001b[39mappend(\u001b[38;5;28mself\u001b[39m\u001b[38;5;241m.\u001b[39m_work_folder)\n\u001b[1;32m    833\u001b[0m \u001b[38;5;66;03m# Check if file- paths are valid\u001b[39;00m\n",
      "File \u001b[0;32m~/micromamba/envs/pygromosTest/lib/python3.9/site-packages/pygromos/utils/bash.py:558\u001b[0m, in \u001b[0;36mmake_folder\u001b[0;34m(in_directory_path, additional_option, verbose)\u001b[0m\n\u001b[1;32m    556\u001b[0m \u001b[38;5;28;01mif\u001b[39;00m \u001b[38;5;129;01mnot\u001b[39;00m os\u001b[38;5;241m.\u001b[39mpath\u001b[38;5;241m.\u001b[39misdir(in_directory_path):\n\u001b[1;32m    557\u001b[0m     \u001b[38;5;28;01mif\u001b[39;00m os\u001b[38;5;241m.\u001b[39msystem(mk_folder):\n\u001b[0;32m--> 558\u001b[0m         \u001b[38;5;28;01mraise\u001b[39;00m \u001b[38;5;167;01mOSError\u001b[39;00m(\u001b[38;5;124m\"\u001b[39m\u001b[38;5;124mcould not make folder:\u001b[39m\u001b[38;5;130;01m\\n\u001b[39;00m\u001b[38;5;124m \u001b[39m\u001b[38;5;124m\"\u001b[39m \u001b[38;5;241m+\u001b[39m \u001b[38;5;28mstr\u001b[39m(in_directory_path))\n\u001b[1;32m    560\u001b[0m \u001b[38;5;28;01melif\u001b[39;00m verbose:\n\u001b[1;32m    561\u001b[0m     warnings\u001b[38;5;241m.\u001b[39mwarn(\u001b[38;5;124m\"\u001b[39m\u001b[38;5;124mWARNING:\u001b[39m\u001b[38;5;130;01m\\n\u001b[39;00m\u001b[38;5;130;01m\\t\u001b[39;00m\u001b[38;5;124m Did not build already existing folder: \u001b[39m\u001b[38;5;124m\"\u001b[39m \u001b[38;5;241m+\u001b[39m in_directory_path, category\u001b[38;5;241m=\u001b[39m\u001b[38;5;167;01mUserWarning\u001b[39;00m)\n",
      "\u001b[0;31mOSError\u001b[0m: could not make folder:\n /home/fpultar/Documents/calc/pygromos/menthol-methanol-dmf"
     ]
    }
   ],
   "source": [
    "# binaries (not yet QM/MM)\n",
    "gromosPP = \"/home/fpultar/bin/gromos++/bin\"\n",
    "gromosXX = \"/home/fpultar/bin/gromosXX/bin\" \n",
    "\n",
    "# folders and title\n",
    "system_name = \"menthol-methanol-dmf\"\n",
    "work_folder = f\"/home/fpultar/Documents/calc/pygromos/{system_name}\"\n",
    "\n",
    "# files\n",
    "in_cnf_path  = f\"/home/fpultar/Documents/repos/PyGromosTools/examples/example_files/QMMM_files/menthol-methanol-dmf-all-atom-init_54a7.cnf\"\n",
    "in_top_path  = f\"/home/fpultar/Documents/repos/PyGromosTools/examples/example_files/QMMM_files/menthol-methanol-dmf-all-atom_54a7.top\"\n",
    "\n",
    "# system\n",
    "system = Gromos_System(\n",
    "    work_folder, \n",
    "    system_name, \n",
    "    in_top_path=in_top_path, \n",
    "    in_cnf_path=in_cnf_path,\n",
    "    in_gromosPP_bin_dir=gromosPP,\n",
    "    in_gromosXX_bin_dir=gromosXX\n",
    ")\n",
    "\n",
    "system"
   ]
  },
  {
   "cell_type": "code",
   "execution_count": 16,
   "id": "9edc9650",
   "metadata": {
    "execution": {
     "iopub.execute_input": "2022-04-04T14:56:01.437032Z",
     "iopub.status.busy": "2022-04-04T14:56:01.436707Z",
     "iopub.status.idle": "2022-04-04T14:56:01.453951Z",
     "shell.execute_reply": "2022-04-04T14:56:01.453236Z"
    }
   },
   "outputs": [
    {
     "ename": "NameError",
     "evalue": "name 'system' is not defined",
     "output_type": "error",
     "traceback": [
      "\u001b[0;31m---------------------------------------------------------------------------\u001b[0m",
      "\u001b[0;31mNameError\u001b[0m                                 Traceback (most recent call last)",
      "Input \u001b[0;32mIn [16]\u001b[0m, in \u001b[0;36m<cell line: 1>\u001b[0;34m()\u001b[0m\n\u001b[0;32m----> 1\u001b[0m \u001b[43msystem\u001b[49m\u001b[38;5;241m.\u001b[39mcnf\u001b[38;5;241m.\u001b[39mvisualize()\n",
      "\u001b[0;31mNameError\u001b[0m: name 'system' is not defined"
     ]
    }
   ],
   "source": [
    "system.cnf.visualize()"
   ]
  },
  {
   "cell_type": "code",
   "execution_count": 17,
   "id": "ec3896bb",
   "metadata": {
    "execution": {
     "iopub.execute_input": "2022-04-04T14:56:01.458832Z",
     "iopub.status.busy": "2022-04-04T14:56:01.458605Z",
     "iopub.status.idle": "2022-04-04T14:56:01.476464Z",
     "shell.execute_reply": "2022-04-04T14:56:01.475782Z"
    }
   },
   "outputs": [
    {
     "ename": "NameError",
     "evalue": "name 'system' is not defined",
     "output_type": "error",
     "traceback": [
      "\u001b[0;31m---------------------------------------------------------------------------\u001b[0m",
      "\u001b[0;31mNameError\u001b[0m                                 Traceback (most recent call last)",
      "Input \u001b[0;32mIn [17]\u001b[0m, in \u001b[0;36m<cell line: 5>\u001b[0;34m()\u001b[0m\n\u001b[1;32m      2\u001b[0m submit \u001b[38;5;241m=\u001b[39m LOCAL(nomp\u001b[38;5;241m=\u001b[39m\u001b[38;5;241m8\u001b[39m)\n\u001b[1;32m      4\u001b[0m \u001b[38;5;66;03m# energy minimize the system\u001b[39;00m\n\u001b[0;32m----> 5\u001b[0m minimized_system \u001b[38;5;241m=\u001b[39m emin(\u001b[43msystem\u001b[49m, submission_system\u001b[38;5;241m=\u001b[39msubmit)\n",
      "\u001b[0;31mNameError\u001b[0m: name 'system' is not defined"
     ]
    }
   ],
   "source": [
    "# create a local submission system and specify the number of cores\n",
    "submit = LOCAL(nomp=8)\n",
    "\n",
    "# energy minimize the system\n",
    "minimized_system = emin(system, submission_system=submit)"
   ]
  },
  {
   "cell_type": "code",
   "execution_count": 18,
   "id": "4cf50815",
   "metadata": {
    "execution": {
     "iopub.execute_input": "2022-04-04T14:56:01.479755Z",
     "iopub.status.busy": "2022-04-04T14:56:01.479534Z",
     "iopub.status.idle": "2022-04-04T14:56:01.497038Z",
     "shell.execute_reply": "2022-04-04T14:56:01.496305Z"
    }
   },
   "outputs": [
    {
     "ename": "NameError",
     "evalue": "name 'minimized_system' is not defined",
     "output_type": "error",
     "traceback": [
      "\u001b[0;31m---------------------------------------------------------------------------\u001b[0m",
      "\u001b[0;31mNameError\u001b[0m                                 Traceback (most recent call last)",
      "Input \u001b[0;32mIn [18]\u001b[0m, in \u001b[0;36m<cell line: 3>\u001b[0;34m()\u001b[0m\n\u001b[1;32m      1\u001b[0m \u001b[38;5;66;03m# new imd file for equilibration\u001b[39;00m\n\u001b[1;32m      2\u001b[0m in_imd_path  \u001b[38;5;241m=\u001b[39m \u001b[38;5;124mf\u001b[39m\u001b[38;5;124m\"\u001b[39m\u001b[38;5;124m/home/fpultar/Documents/repos/PyGromosTools/examples/example_files/QMMM_files/menthol-methanol-dmf-eq.imd\u001b[39m\u001b[38;5;124m\"\u001b[39m\n\u001b[0;32m----> 3\u001b[0m \u001b[43mminimized_system\u001b[49m\u001b[38;5;241m.\u001b[39mimd \u001b[38;5;241m=\u001b[39m in_imd_path\n\u001b[1;32m      4\u001b[0m minimized_system\u001b[38;5;241m.\u001b[39mimd\u001b[38;5;241m.\u001b[39mSTEP\u001b[38;5;241m.\u001b[39mNSTLIM \u001b[38;5;241m=\u001b[39m \u001b[38;5;241m1000\u001b[39m\n\u001b[1;32m      5\u001b[0m minimized_system\u001b[38;5;241m.\u001b[39mimd\u001b[38;5;241m.\u001b[39mSTEP\u001b[38;5;241m.\u001b[39mDT \u001b[38;5;241m=\u001b[39m \u001b[38;5;241m0.002\u001b[39m \u001b[38;5;66;03m# 2.0 fs\u001b[39;00m\n",
      "\u001b[0;31mNameError\u001b[0m: name 'minimized_system' is not defined"
     ]
    }
   ],
   "source": [
    "# new imd file for equilibration\n",
    "in_imd_path  = f\"/home/fpultar/Documents/repos/PyGromosTools/examples/example_files/QMMM_files/menthol-methanol-dmf-eq.imd\"\n",
    "minimized_system.imd = in_imd_path\n",
    "minimized_system.imd.STEP.NSTLIM = 1000\n",
    "minimized_system.imd.STEP.DT = 0.002 # 2.0 fs\n",
    "minimized_system"
   ]
  },
  {
   "cell_type": "code",
   "execution_count": 19,
   "id": "7ef864f1",
   "metadata": {
    "execution": {
     "iopub.execute_input": "2022-04-04T14:56:01.500129Z",
     "iopub.status.busy": "2022-04-04T14:56:01.499933Z",
     "iopub.status.idle": "2022-04-04T14:56:01.517199Z",
     "shell.execute_reply": "2022-04-04T14:56:01.516499Z"
    }
   },
   "outputs": [
    {
     "ename": "NameError",
     "evalue": "name 'minimized_system' is not defined",
     "output_type": "error",
     "traceback": [
      "\u001b[0;31m---------------------------------------------------------------------------\u001b[0m",
      "\u001b[0;31mNameError\u001b[0m                                 Traceback (most recent call last)",
      "Input \u001b[0;32mIn [19]\u001b[0m, in \u001b[0;36m<cell line: 2>\u001b[0;34m()\u001b[0m\n\u001b[1;32m      1\u001b[0m \u001b[38;5;66;03m# equilibrate the system\u001b[39;00m\n\u001b[0;32m----> 2\u001b[0m equilibrated_system \u001b[38;5;241m=\u001b[39m md(\u001b[43mminimized_system\u001b[49m, step_name\u001b[38;5;241m=\u001b[39m\u001b[38;5;124m\"\u001b[39m\u001b[38;5;124meq\u001b[39m\u001b[38;5;124m\"\u001b[39m, submission_system\u001b[38;5;241m=\u001b[39msubmit)\n\u001b[1;32m      3\u001b[0m equilibrated_system\n",
      "\u001b[0;31mNameError\u001b[0m: name 'minimized_system' is not defined"
     ]
    }
   ],
   "source": [
    "# equilibrate the system\n",
    "equilibrated_system = md(minimized_system, step_name=\"eq\", submission_system=submit)\n",
    "equilibrated_system"
   ]
  },
  {
   "cell_type": "code",
   "execution_count": 20,
   "id": "ac863a60",
   "metadata": {
    "execution": {
     "iopub.execute_input": "2022-04-04T14:56:01.520313Z",
     "iopub.status.busy": "2022-04-04T14:56:01.519922Z",
     "iopub.status.idle": "2022-04-04T14:56:01.535655Z",
     "shell.execute_reply": "2022-04-04T14:56:01.535018Z"
    }
   },
   "outputs": [
    {
     "data": {
      "text/plain": [
       "environ{'DEPLOYMENT_BASEPATH': '/opt/runner',\n",
       "        'CONDA_PROMPT_MODIFIER': '(pygromosTest) ',\n",
       "        'DOTNET_NOLOGO': '1',\n",
       "        'USER': 'runner',\n",
       "        'CI': 'true',\n",
       "        'GITHUB_ENV': '/home/runner/work/_temp/_runner_file_commands/set_env_e7a6c27b-ed1b-43a9-8ee4-0bf95dfe9a88',\n",
       "        'PIPX_HOME': '/opt/pipx',\n",
       "        'JAVA_HOME_8_X64': '/usr/lib/jvm/temurin-8-jdk-amd64',\n",
       "        'SHLVL': '1',\n",
       "        'HOME': '/home/runner',\n",
       "        'CONDA_SHLVL': '1',\n",
       "        'OLDPWD': '/home/runner/work/PyGromosTools/PyGromosTools',\n",
       "        'RUNNER_TEMP': '/home/runner/work/_temp',\n",
       "        'GITHUB_EVENT_PATH': '/home/runner/work/_temp/_github_workflow/event.json',\n",
       "        'GRAALVM_11_ROOT': '/usr/local/graalvm/graalvm-ce-java11-22.0.0.2',\n",
       "        'PIPX_BIN_DIR': '/opt/pipx_bin',\n",
       "        'GITHUB_REPOSITORY_OWNER': 'rinikerlab',\n",
       "        'JAVA_HOME_11_X64': '/usr/lib/jvm/temurin-11-jdk-amd64',\n",
       "        'GRADLE_HOME': '/usr/share/gradle-7.4.1',\n",
       "        'ANDROID_NDK_LATEST_HOME': '/usr/local/lib/android/sdk/ndk/23.1.7779620',\n",
       "        'HOMEBREW_PREFIX': '/home/linuxbrew/.linuxbrew',\n",
       "        'GITHUB_RETENTION_DAYS': '90',\n",
       "        'POWERSHELL_DISTRIBUTION_CHANNEL': 'GitHub-Actions-ubuntu20',\n",
       "        'AZURE_EXTENSION_DIR': '/opt/az/azcliextensions',\n",
       "        'GITHUB_HEAD_REF': '',\n",
       "        'MAKEFLAGS': '',\n",
       "        'GITHUB_GRAPHQL_URL': 'https://api.github.com/graphql',\n",
       "        'NVM_DIR': '/home/runner/.nvm',\n",
       "        'DOTNET_SKIP_FIRST_TIME_EXPERIENCE': '1',\n",
       "        'ImageVersion': '20220330.0',\n",
       "        'JAVA_HOME_17_X64': '/usr/lib/jvm/temurin-17-jdk-amd64',\n",
       "        'GITHUB_API_URL': 'https://api.github.com',\n",
       "        'SWIFT_PATH': '/usr/share/swift/usr/bin',\n",
       "        'RUNNER_OS': 'Linux',\n",
       "        'GITHUB_WORKFLOW': 'pages-build-deployment',\n",
       "        'JOURNAL_STREAM': '8:21899',\n",
       "        '_': '/usr/bin/make',\n",
       "        'RUNNER_USER': 'runner',\n",
       "        'CHROMEWEBDRIVER': '/usr/local/share/chrome_driver',\n",
       "        'GOROOT_1_15_X64': '/opt/hostedtoolcache/go/1.15.15/x64',\n",
       "        'GOROOT_1_16_X64': '/opt/hostedtoolcache/go/1.16.15/x64',\n",
       "        'GITHUB_RUN_ID': '2090657588',\n",
       "        'GITHUB_REF_TYPE': 'branch',\n",
       "        'GITHUB_BASE_REF': '',\n",
       "        'GOROOT_1_17_X64': '/opt/hostedtoolcache/go/1.17.8/x64',\n",
       "        'ImageOS': 'ubuntu20',\n",
       "        'AMBERHOME': '/home/runner/micromamba/envs/pygromosTest',\n",
       "        'BOOTSTRAP_HASKELL_NONINTERACTIVE': '1',\n",
       "        'PERFLOG_LOCATION_SETTING': 'RUNNER_PERFLOG',\n",
       "        'GOROOT_1_18_X64': '/opt/hostedtoolcache/go/1.18.0/x64',\n",
       "        'GITHUB_ACTION_REPOSITORY': '',\n",
       "        'PATH': '/home/runner/micromamba/envs/pygromosTest/bin:/home/runner/micromamba/condabin:/home/runner/micromamba-bin:/home/linuxbrew/.linuxbrew/bin:/home/linuxbrew/.linuxbrew/sbin:/home/runner/.local/bin:/opt/pipx_bin:/home/runner/.cargo/bin:/home/runner/.config/composer/vendor/bin:/usr/local/.ghcup/bin:/home/runner/.dotnet/tools:/snap/bin:/usr/local/sbin:/usr/local/bin:/usr/sbin:/usr/bin:/sbin:/bin:/usr/games:/usr/local/games:/snap/bin:/home/runner/.dotnet/tools/home/fpultar/opt/gcc-8.2.0/bin',\n",
       "        'RUNNER_TOOL_CACHE': '/opt/hostedtoolcache',\n",
       "        'DOTNET_MULTILEVEL_LOOKUP': '0',\n",
       "        'INVOCATION_ID': '3591232aa2ef4dada89d5bd6cabf289c',\n",
       "        'HOMEBREW_CELLAR': '/home/linuxbrew/.linuxbrew/Cellar',\n",
       "        'ANT_HOME': '/usr/share/ant',\n",
       "        'RUNNER_TRACKING_ID': 'github_49afa072-9994-48b2-8303-d06a40086cfa',\n",
       "        'GITHUB_ACTION': '__run_3',\n",
       "        'RUNNER_ARCH': 'X64',\n",
       "        'GITHUB_RUN_NUMBER': '52',\n",
       "        'PERL5LIB': '/home/runner/micromamba/envs/pygromosTest/lib/perl/mm_pbsa',\n",
       "        'AGENT_TOOLSDIRECTORY': '/opt/hostedtoolcache',\n",
       "        'MAKELEVEL': '1',\n",
       "        'MAMBA_ROOT_PREFIX': '/home/runner/micromamba',\n",
       "        'VCPKG_INSTALLATION_ROOT': '/usr/local/share/vcpkg',\n",
       "        'LANG': 'C.UTF-8',\n",
       "        'GITHUB_REPOSITORY': 'rinikerlab/PyGromosTools',\n",
       "        'GITHUB_REF_NAME': 'main',\n",
       "        'CONDA': '/usr/share/miniconda',\n",
       "        'XDG_CONFIG_HOME': '/home/runner/.config',\n",
       "        'RUNNER_NAME': 'GitHub Actions 7',\n",
       "        'ANDROID_NDK_ROOT': '/usr/local/lib/android/sdk/ndk-bundle',\n",
       "        'GSETTINGS_SCHEMA_DIR': '/home/runner/micromamba/envs/pygromosTest/share/glib-2.0/schemas',\n",
       "        'GITHUB_ACTION_REF': '',\n",
       "        'DEBIAN_FRONTEND': 'noninteractive',\n",
       "        'GITHUB_ACTIONS': 'true',\n",
       "        'GITHUB_REF_PROTECTED': 'true',\n",
       "        'RUNNER_PERFLOG': '/home/runner/perflog',\n",
       "        'CONDA_DEFAULT_ENV': 'pygromosTest',\n",
       "        'GITHUB_JOB': 'build-and-deploy',\n",
       "        'ACCEPT_EULA': 'Y',\n",
       "        'GITHUB_WORKSPACE': '/home/runner/work/PyGromosTools/PyGromosTools',\n",
       "        'GITHUB_RUN_ATTEMPT': '1',\n",
       "        'GITHUB_SHA': '24232b7126c7bb9bc03d097649672c2bfff2d95a',\n",
       "        'GITHUB_ACTOR': 'SchroederB',\n",
       "        'GITHUB_REF': 'refs/heads/main',\n",
       "        'MAMBA_EXE': '/home/runner/micromamba-bin/micromamba',\n",
       "        'ANDROID_SDK_ROOT': '/usr/local/lib/android/sdk',\n",
       "        'LEIN_HOME': '/usr/local/lib/lein',\n",
       "        'GITHUB_PATH': '/home/runner/work/_temp/_runner_file_commands/add_path_e7a6c27b-ed1b-43a9-8ee4-0bf95dfe9a88',\n",
       "        'JAVA_HOME': '/usr/lib/jvm/temurin-11-jdk-amd64',\n",
       "        'PWD': '/home/runner/work/PyGromosTools/PyGromosTools/docs/sphinx_project',\n",
       "        'RUNNER_WORKSPACE': '/home/runner/work/PyGromosTools',\n",
       "        'GITHUB_EVENT_NAME': 'push',\n",
       "        'XDG_DATA_DIRS': '/usr/local/share:/usr/share:/var/lib/snapd/desktop',\n",
       "        'GITHUB_SERVER_URL': 'https://github.com',\n",
       "        'ANDROID_HOME': '/usr/local/lib/android/sdk',\n",
       "        'LEIN_JAR': '/usr/local/lib/lein/self-installs/leiningen-2.9.8-standalone.jar',\n",
       "        'NVM_CD_FLAGS': '',\n",
       "        'GECKOWEBDRIVER': '/usr/local/share/gecko_driver',\n",
       "        'HOMEBREW_CLEANUP_PERIODIC_FULL_DAYS': '3650',\n",
       "        'HOMEBREW_NO_AUTO_UPDATE': '1',\n",
       "        'HOMEBREW_REPOSITORY': '/home/linuxbrew/.linuxbrew/Homebrew',\n",
       "        'CONDA_PREFIX': '/home/runner/micromamba/envs/pygromosTest',\n",
       "        'SGX_AESM_ADDR': '1',\n",
       "        'MFLAGS': '',\n",
       "        'GSETTINGS_SCHEMA_DIR_CONDA_BACKUP': '',\n",
       "        'CHROME_BIN': '/usr/bin/google-chrome',\n",
       "        'SELENIUM_JAR_PATH': '/usr/share/java/selenium-server.jar',\n",
       "        'ANDROID_NDK_HOME': '/usr/local/lib/android/sdk/ndk-bundle',\n",
       "        'GITHUB_STEP_SUMMARY': '/home/runner/work/_temp/_runner_file_commands/step_summary_e7a6c27b-ed1b-43a9-8ee4-0bf95dfe9a88',\n",
       "        'DOCUTILSCONFIG': '/home/runner/work/PyGromosTools/PyGromosTools/docs/sphinx_project/docutils.conf',\n",
       "        'RDBASE': '/home/runner/micromamba/envs/pygromosTest/share/RDKit',\n",
       "        'PYDEVD_USE_FRAME_EVAL': 'NO',\n",
       "        'JPY_PARENT_PID': '3144',\n",
       "        'TERM': 'xterm-color',\n",
       "        'CLICOLOR': '1',\n",
       "        'PAGER': 'cat',\n",
       "        'GIT_PAGER': 'cat',\n",
       "        'MPLBACKEND': 'module://matplotlib_inline.backend_inline',\n",
       "        'LD_LIBRARY_PATH': '/home/fpultar/opt/gcc-8.2.0/lib:/home/fpultar/opt/gcc-8.2.0/lib64'}"
      ]
     },
     "execution_count": 20,
     "metadata": {},
     "output_type": "execute_result"
    }
   ],
   "source": [
    "# load your favorite GCC version (required for your special GROMOS QM/MM build)\n",
    "os.environ[\"PATH\"] += \"/home/fpultar/opt/gcc-8.2.0/bin\"\n",
    "os.environ[\"LD_LIBRARY_PATH\"] = \"/home/fpultar/opt/gcc-8.2.0/lib:/home/fpultar/opt/gcc-8.2.0/lib64\"\n",
    "os.environ"
   ]
  },
  {
   "cell_type": "code",
   "execution_count": 21,
   "id": "d86372ab",
   "metadata": {
    "execution": {
     "iopub.execute_input": "2022-04-04T14:56:01.538788Z",
     "iopub.status.busy": "2022-04-04T14:56:01.538589Z",
     "iopub.status.idle": "2022-04-04T14:56:01.562677Z",
     "shell.execute_reply": "2022-04-04T14:56:01.561976Z"
    }
   },
   "outputs": [
    {
     "ename": "NameError",
     "evalue": "name 'equilibrated_system' is not defined",
     "output_type": "error",
     "traceback": [
      "\u001b[0;31m---------------------------------------------------------------------------\u001b[0m",
      "\u001b[0;31mNameError\u001b[0m                                 Traceback (most recent call last)",
      "Input \u001b[0;32mIn [21]\u001b[0m, in \u001b[0;36m<cell line: 3>\u001b[0;34m()\u001b[0m\n\u001b[1;32m      1\u001b[0m \u001b[38;5;66;03m# new imd file for QM/MM run\u001b[39;00m\n\u001b[1;32m      2\u001b[0m in_imd_path  \u001b[38;5;241m=\u001b[39m \u001b[38;5;124mf\u001b[39m\u001b[38;5;124m\"\u001b[39m\u001b[38;5;124m/home/fpultar/Documents/repos/PyGromosTools/examples/example_files/QMMM_files/md.imd\u001b[39m\u001b[38;5;124m\"\u001b[39m\n\u001b[0;32m----> 3\u001b[0m \u001b[43mequilibrated_system\u001b[49m\u001b[38;5;241m.\u001b[39mimd \u001b[38;5;241m=\u001b[39m in_imd_path\n\u001b[1;32m      4\u001b[0m equilibrated_system\u001b[38;5;241m.\u001b[39mimd\u001b[38;5;241m.\u001b[39mSTEP\u001b[38;5;241m.\u001b[39mNSTLIM \u001b[38;5;241m=\u001b[39m \u001b[38;5;241m100\u001b[39m\n\u001b[1;32m      5\u001b[0m equilibrated_system\u001b[38;5;241m.\u001b[39mimd\u001b[38;5;241m.\u001b[39mSTEP\u001b[38;5;241m.\u001b[39mDT \u001b[38;5;241m=\u001b[39m \u001b[38;5;241m0.0005\u001b[39m \u001b[38;5;66;03m# 0.5 fs\u001b[39;00m\n",
      "\u001b[0;31mNameError\u001b[0m: name 'equilibrated_system' is not defined"
     ]
    }
   ],
   "source": [
    "# new imd file for QM/MM run\n",
    "in_imd_path  = f\"/home/fpultar/Documents/repos/PyGromosTools/examples/example_files/QMMM_files/md.imd\"\n",
    "equilibrated_system.imd = in_imd_path\n",
    "equilibrated_system.imd.STEP.NSTLIM = 100\n",
    "equilibrated_system.imd.STEP.DT = 0.0005 # 0.5 fs\n",
    "# qmmm specification file\n",
    "equilibrated_system.qmmm = QMMM(f\"/home/fpultar/Documents/repos/PyGromosTools/examples/example_files/QMMM_files/menthol-methanol-dmf.qmmm\")\n",
    "\n",
    "# now you want to switch to your special build of GROMOS :)\n",
    "gromosXX = \"/home/fpultar/src/gromos-qmmm/gromos-qmmm/gromosXX/build-gcc-8.2.0-release/program\"\n",
    "equilibrated_system.gromosXX = gromosXX\n",
    "\n",
    "# check if everying is correct\n",
    "# note that the new .imd file and .qmmm file still live in the old location\n",
    "# while the .cnf file and .top file result from a previous simulation (equilibration)\n",
    "equilibrated_system"
   ]
  },
  {
   "cell_type": "code",
   "execution_count": 22,
   "id": "f558f69e",
   "metadata": {
    "execution": {
     "iopub.execute_input": "2022-04-04T14:56:01.565966Z",
     "iopub.status.busy": "2022-04-04T14:56:01.565474Z",
     "iopub.status.idle": "2022-04-04T14:56:01.581592Z",
     "shell.execute_reply": "2022-04-04T14:56:01.580921Z"
    }
   },
   "outputs": [
    {
     "ename": "NameError",
     "evalue": "name 'equilibrated_system' is not defined",
     "output_type": "error",
     "traceback": [
      "\u001b[0;31m---------------------------------------------------------------------------\u001b[0m",
      "\u001b[0;31mNameError\u001b[0m                                 Traceback (most recent call last)",
      "Input \u001b[0;32mIn [22]\u001b[0m, in \u001b[0;36m<cell line: 2>\u001b[0;34m()\u001b[0m\n\u001b[1;32m      1\u001b[0m \u001b[38;5;66;03m# print the relevant QMMM block in the new imd file\u001b[39;00m\n\u001b[0;32m----> 2\u001b[0m \u001b[43mequilibrated_system\u001b[49m\u001b[38;5;241m.\u001b[39mimd\u001b[38;5;241m.\u001b[39mQMMM\n",
      "\u001b[0;31mNameError\u001b[0m: name 'equilibrated_system' is not defined"
     ]
    }
   ],
   "source": [
    "# print the relevant QMMM block in the new imd file\n",
    "equilibrated_system.imd.QMMM"
   ]
  },
  {
   "cell_type": "code",
   "execution_count": 23,
   "id": "5f0974e0",
   "metadata": {
    "execution": {
     "iopub.execute_input": "2022-04-04T14:56:01.584908Z",
     "iopub.status.busy": "2022-04-04T14:56:01.584685Z",
     "iopub.status.idle": "2022-04-04T14:56:01.603856Z",
     "shell.execute_reply": "2022-04-04T14:56:01.603139Z"
    }
   },
   "outputs": [
    {
     "ename": "NameError",
     "evalue": "name 'equilibrated_system' is not defined",
     "output_type": "error",
     "traceback": [
      "\u001b[0;31m---------------------------------------------------------------------------\u001b[0m",
      "\u001b[0;31mNameError\u001b[0m                                 Traceback (most recent call last)",
      "Input \u001b[0;32mIn [23]\u001b[0m, in \u001b[0;36m<cell line: 2>\u001b[0;34m()\u001b[0m\n\u001b[1;32m      1\u001b[0m \u001b[38;5;66;03m# go QM/MM!\u001b[39;00m\n\u001b[0;32m----> 2\u001b[0m production_system \u001b[38;5;241m=\u001b[39m md(\u001b[43mequilibrated_system\u001b[49m, submission_system\u001b[38;5;241m=\u001b[39msubmit)\n",
      "\u001b[0;31mNameError\u001b[0m: name 'equilibrated_system' is not defined"
     ]
    }
   ],
   "source": [
    "# go QM/MM!\n",
    "production_system = md(equilibrated_system, submission_system=submit)"
   ]
  },
  {
   "cell_type": "code",
   "execution_count": 24,
   "id": "abdadc91",
   "metadata": {
    "execution": {
     "iopub.execute_input": "2022-04-04T14:56:01.607152Z",
     "iopub.status.busy": "2022-04-04T14:56:01.606956Z",
     "iopub.status.idle": "2022-04-04T14:56:01.623755Z",
     "shell.execute_reply": "2022-04-04T14:56:01.623025Z"
    }
   },
   "outputs": [
    {
     "ename": "NameError",
     "evalue": "name 'production_system' is not defined",
     "output_type": "error",
     "traceback": [
      "\u001b[0;31m---------------------------------------------------------------------------\u001b[0m",
      "\u001b[0;31mNameError\u001b[0m                                 Traceback (most recent call last)",
      "Input \u001b[0;32mIn [24]\u001b[0m, in \u001b[0;36m<cell line: 2>\u001b[0;34m()\u001b[0m\n\u001b[1;32m      1\u001b[0m \u001b[38;5;66;03m# visualize the last .cnf - you are done!\u001b[39;00m\n\u001b[0;32m----> 2\u001b[0m \u001b[43mproduction_system\u001b[49m\u001b[38;5;241m.\u001b[39mcnf\u001b[38;5;241m.\u001b[39mvisualize()\n",
      "\u001b[0;31mNameError\u001b[0m: name 'production_system' is not defined"
     ]
    }
   ],
   "source": [
    "# visualize the last .cnf - you are done!\n",
    "production_system.cnf.visualize()"
   ]
  },
  {
   "cell_type": "code",
   "execution_count": null,
   "id": "e1c5194e",
   "metadata": {},
   "outputs": [],
   "source": []
  }
 ],
 "metadata": {
  "interpreter": {
   "hash": "b1b7b2ea43b8e767316eee98e01335d045804d2d47db68b6a5827e187ee91a7e"
  },
  "kernelspec": {
   "display_name": "Python 3.9.7 ('pygro2')",
   "language": "python",
   "name": "python3"
  },
  "language_info": {
   "codemirror_mode": {
    "name": "ipython",
    "version": 3
   },
   "file_extension": ".py",
   "mimetype": "text/x-python",
   "name": "python",
   "nbconvert_exporter": "python",
   "pygments_lexer": "ipython3",
   "version": "3.9.12"
  },
  "widgets": {
   "application/vnd.jupyter.widget-state+json": {
    "state": {
     "892d0c22d125492b8b7138c7d967c80d": {
      "model_module": "nglview-js-widgets",
      "model_module_version": "3.0.1",
      "model_name": "ColormakerRegistryModel",
      "state": {
       "_dom_classes": [],
       "_model_module": "nglview-js-widgets",
       "_model_module_version": "3.0.1",
       "_model_name": "ColormakerRegistryModel",
       "_msg_ar": [],
       "_msg_q": [],
       "_ready": false,
       "_view_count": null,
       "_view_module": "nglview-js-widgets",
       "_view_module_version": "3.0.1",
       "_view_name": "ColormakerRegistryView",
       "layout": "IPY_MODEL_cfc405b4c57c41dabd94fb7637a3e214"
      }
     },
     "cfc405b4c57c41dabd94fb7637a3e214": {
      "model_module": "@jupyter-widgets/base",
      "model_module_version": "1.2.0",
      "model_name": "LayoutModel",
      "state": {
       "_model_module": "@jupyter-widgets/base",
       "_model_module_version": "1.2.0",
       "_model_name": "LayoutModel",
       "_view_count": null,
       "_view_module": "@jupyter-widgets/base",
       "_view_module_version": "1.2.0",
       "_view_name": "LayoutView",
       "align_content": null,
       "align_items": null,
       "align_self": null,
       "border": null,
       "bottom": null,
       "display": null,
       "flex": null,
       "flex_flow": null,
       "grid_area": null,
       "grid_auto_columns": null,
       "grid_auto_flow": null,
       "grid_auto_rows": null,
       "grid_column": null,
       "grid_gap": null,
       "grid_row": null,
       "grid_template_areas": null,
       "grid_template_columns": null,
       "grid_template_rows": null,
       "height": null,
       "justify_content": null,
       "justify_items": null,
       "left": null,
       "margin": null,
       "max_height": null,
       "max_width": null,
       "min_height": null,
       "min_width": null,
       "object_fit": null,
       "object_position": null,
       "order": null,
       "overflow": null,
       "overflow_x": null,
       "overflow_y": null,
       "padding": null,
       "right": null,
       "top": null,
       "visibility": null,
       "width": null
      }
     }
    },
    "version_major": 2,
    "version_minor": 0
   }
  }
 },
 "nbformat": 4,
 "nbformat_minor": 5
}
