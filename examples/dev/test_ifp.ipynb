{
 "cells": [
  {
   "cell_type": "code",
   "execution_count": null,
   "metadata": {
    "pycharm": {
     "name": "#%%\n"
    }
   },
   "outputs": [],
   "source": [
    "import os, sys\n",
    "root = os.getcwd()\n",
    "ifp_path = root+\"\\\\examples\\\\test\\\\54a7.ifp\"\n",
    "\n",
    "sys.path.append(root+\"/../../\")\n",
    "\n",
    "import pygromos\n",
    "from pygromos.files.topology import ifp\n",
    "#parse forcefield file\n",
    "myfp = ifp.ifp(ifp_path)\n",
    "myfp.write(os.getcwd()+\"/fun.ifp\")"
   ]
  },
  {
   "cell_type": "code",
   "execution_count": null,
   "outputs": [],
   "source": [
    "#parse output and write out again\n",
    "test = ifp.ifp(os.getcwd()+\"/fun.ifp\")\n",
    "\n",
    "test.write(os.getcwd()+\"/fun.ifp\")"
   ],
   "metadata": {
    "collapsed": false,
    "pycharm": {
     "name": "#%%\n"
    }
   }
  }
 ],
 "metadata": {
  "kernelspec": {
   "name": "python37664bit566f5122c8374150873b1cb0c2ce5ee8",
   "language": "python",
   "display_name": "Python 3.7.6 64-bit"
  },
  "language_info": {
   "codemirror_mode": {
    "name": "ipython",
    "version": 3
   },
   "file_extension": ".py",
   "mimetype": "text/x-python",
   "name": "python",
   "nbconvert_exporter": "python",
   "pygments_lexer": "ipython3",
   "version": "3.6.10"
  }
 },
 "nbformat": 4,
 "nbformat_minor": 1
}