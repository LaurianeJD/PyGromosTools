{
 "cells": [
  {
   "cell_type": "markdown",
   "source": [
    "# Pygromos: OOP in python 3\n",
    "__ This Jupyter Notebook is giving you a codification of a Talk I gave in the IGC Seminar __\n",
    "\n",
    "* Underlying Idea PyGromos:\n",
    "    * Started during writing the RE-EDS pipeline\n",
    "    * Try to making all Gromos operations possible from python\n",
    "    * Sometimes implements the functionally, sometimes hides it\n",
    "\n",
    "* Goals:\n",
    "    * Make code easy to read\n",
    "    * Provide easy access to gromos functions and file modifications (especially in IDEs)\n",
    "    * Faster adding new features to the code base\n",
    "    * Add safety functionality/errors to functions\n",
    "\n",
    "\t     increase shareability, reusage of code\n",
    "\n",
    "In this talk I want to introduce you to Pygromos and look at some aspects of OOP in python3.\n",
    "Pleas keep in mind that Pygromos right now is an idea not a perfect package, it's under development."
   ],
   "metadata": {
    "collapsed": false
   }
  },
  {
   "cell_type": "code",
   "execution_count": null,
   "outputs": [],
   "source": [
    "import os, sys\n",
    "root_dir = os.getcwd()\n",
    "#if package is not installed and path not set correct - this helps you out :)\n",
    "sys.path.append(root_dir+\"/..\")"
   ],
   "metadata": {
    "collapsed": false,
    "pycharm": {
     "name": "#%%\n"
    }
   }
  },
  {
   "cell_type": "markdown",
   "source": [
    "## Implementations of OOP in Python3\n",
    "\n",
    "### Definition of a Class\n",
    "This is the basic definition of a class in python3\n",
    "\n",
    "#### Magic functions (__<name>__)\n",
    "    Are functions having two underscores after and before their name.\n",
    "    These functions do stuff \"under the hood\" like for example if you interact with an operator.\n",
    "    Similar to overloadings in C++/Java.\n",
    "    e.g.: __init__, __str__, __append__, etc.\n",
    "    More: https://realpython.com/operator-function-overloading/"
   ],
   "metadata": {
    "collapsed": false
   }
  },
  {
   "cell_type": "code",
   "execution_count": 3,
   "outputs": [
    {
     "name": "stdout",
     "output_type": "stream",
     "text": [
      "nice Island with 2 treasures\n"
     ]
    }
   ],
   "source": [
    "class treasure_island():\n",
    "    ## Constructor\n",
    "    def __init__(self, n_treasures:int):\n",
    "        self.n_treasures = n_treasures\n",
    "\n",
    "    ## Other magic function\n",
    "    def __str__(self)->str:\n",
    "        return \"nice Island with \"+str(self.n_treasures)+\" treasures\"\n",
    "\n",
    "#MAIN\n",
    "islandA = treasure_island(n_treasures=2)\n",
    "print(str(islandA))"
   ],
   "metadata": {
    "collapsed": false,
    "pycharm": {
     "name": "#%%\n"
    }
   }
  },
  {
   "cell_type": "markdown",
   "source": [
    "### Class Attributes\n",
    "#### Accessibility\n",
    "There is no such thing as strict accessiblitiy in python OOP.\n",
    "The only thing comming close to it, are the naming conventions and name mangling."
   ],
   "metadata": {
    "collapsed": false
   }
  },
  {
   "cell_type": "code",
   "execution_count": null,
   "outputs": [],
   "source": [
    "class treasure_island():\n",
    "    fun:int = 1 #Class Variable ~ static\n",
    "    fun_annotation:str # just an annotation (for example for IDE)\n",
    "\n",
    "    ## Constructor\n",
    "    def __init__(self, n_treasures:int, secret_treasure:str=\"beneath the palm\"):\n",
    "        self.n_treasures = n_treasures\n",
    "        self._secret_treasure = secret_treasure\n",
    "        self.__really_secret_treasure = \"in the rum barrel\"\n",
    "\n",
    "#MAIN\n",
    "islandA = treasure_island(2)\n",
    "print(islandA.n_treasures)\n",
    "print(\"Treasure 1 Location: \", islandA._secret_treasure)\n",
    "#print(\"Treasure 2 Location: \",islandA.__really_secret_treasure) #throws: treasure_island' object has no attribute '__really_secret_treasure'\n",
    "print(\"Treasure 2 Location: \",islandA._treasure_island__really_secret_treasure)"
   ],
   "metadata": {
    "collapsed": false,
    "pycharm": {
     "name": "#%%\n"
    }
   }
  },
  {
   "cell_type": "markdown",
   "source": [
    "##### Properties\n",
    "Class Properties are generated via Decorators \"@property\".\n",
    "They allow to implement getters and setters in python OOP and even allow preventing setting a variable directly if a setter is missing."
   ],
   "metadata": {
    "collapsed": false
   }
  },
  {
   "cell_type": "code",
   "execution_count": null,
   "outputs": [],
   "source": [
    "class treasure_island():\n",
    "    ## Constructor\n",
    "    def __init__(self, n_treasures:int, secret_treasure:str=\"beneath the palm\"):\n",
    "        self.n_treasures = n_treasures\n",
    "        self._secret_treasure = secret_treasure\n",
    "\n",
    "    @property           #getter\n",
    "    def treasure(self)->str:\n",
    "        self.n_treasures -= 1\n",
    "        return self._secret_treasure\n",
    "\n",
    "    @treasure.setter    #setter\n",
    "    def treasure(self, treasure_location:str):\n",
    "        self.n_treasures += 1\n",
    "        self._secret_treasure = treasure_location\n",
    "\n",
    "#MAIN\n",
    "islandA = treasure_island(1)\n",
    "print(islandA.treasure, islandA.n_treasures)\n",
    "islandA.treasure = \"under stone\"    #Throws an error if @treasure.setter is missing!\n",
    "print(islandA.n_treasures,islandA.treasure)"
   ],
   "metadata": {
    "collapsed": false,
    "pycharm": {
     "name": "#%%\n"
    }
   }
  },
  {
   "cell_type": "markdown",
   "source": [
    "#### Mutability of Class Attributes\n",
    "A very pythonic way of coding is that attributes can be set on the fly(runtime) of a class.\n",
    "This is nice in small approaches, but be careful with this feature, it's dangerous!\n",
    "\n",
    "key functionality:\n",
    "* setattr(obj, key, value)\n",
    "* hasattr(obj, key) -> bool\n",
    "* getattr(obj, key) -> value\n",
    "\n",
    "this is also possibile with functions!"
   ],
   "metadata": {
    "collapsed": false
   }
  },
  {
   "cell_type": "code",
   "execution_count": null,
   "outputs": [],
   "source": [
    "class cnf():\n",
    "    def __init__(self, content_dict):\n",
    "        for key, value in content_dict.items():\n",
    "            setattr(self, key, value)\n",
    "\n",
    "    def __str__(self)->str:\n",
    "        #Here you see a list comprehension - that is a functional element.\n",
    "        return \"\\n\".join([str(key)+\"\\t\"+str(getattr(self, key)) for key in vars(self)])\n",
    "\n",
    "#MAIN\n",
    "content_dict = {\"POSITION\": [1,2,3], \"VELOCITY\":[4,5,6]}\n",
    "c = cnf(content_dict)\n",
    "\n",
    "\n",
    "print(\"Manual:\\n is there a POSITION attribute?\\n\\t\", hasattr(c, \"POSITION\"), c.POSITION)\n",
    "print(str(c))\n"
   ],
   "metadata": {
    "collapsed": false,
    "pycharm": {
     "name": "#%%\n"
    }
   }
  },
  {
   "cell_type": "markdown",
   "source": [
    "### Methods\n",
    "#### Levels\n",
    "there are three types of methods to my knowledge in python:\n",
    "* instance methods\n",
    "* class methods\n",
    "* static methods"
   ],
   "metadata": {
    "collapsed": false
   }
  },
  {
   "cell_type": "code",
   "execution_count": null,
   "outputs": [],
   "source": [
    "class counter():\n",
    "    class_counter: int = 1\n",
    "\n",
    "    def __init__(self):\n",
    "        self.counter: int = 2\n",
    "\n",
    "    def add_1(self):\n",
    "        self.counter += 1\n",
    "\n",
    "    @classmethod\n",
    "    def class_add_1(cls):\n",
    "        cls.class_counter += 1\n",
    "    @staticmethod\n",
    "    def static_add_1(arg):\n",
    "        return arg + 1\n",
    "\n",
    "#MAIN\n",
    "print(counter.static_add_1(2))\n",
    "\n",
    "# classmethods\n",
    "print(\"Class Var: \", counter.class_counter)\n",
    "counter.class_add_1()\n",
    "print(\"Class Var: \", counter.class_counter)\n",
    "\n",
    "# normal method:\n",
    "c = counter()\n",
    "c.add_1()\n",
    "print(\"instance \", c.counter)"
   ],
   "metadata": {
    "collapsed": false,
    "pycharm": {
     "name": "#%%\n"
    }
   }
  },
  {
   "cell_type": "markdown",
   "source": [
    "#### Overwriting methods on Runtime\n",
    "In python one can overwrite methods of a class with new function definitions during runtime!"
   ],
   "metadata": {
    "collapsed": false,
    "pycharm": {
     "name": "#%% md\n"
    }
   }
  },
  {
   "cell_type": "code",
   "execution_count": 13,
   "outputs": [
    {
     "name": "stdout",
     "output_type": "stream",
     "text": [
      "Normal 3\n",
      "\"Normal\" 0\n"
     ]
    }
   ],
   "source": [
    "class counter():\n",
    "    def __init__(self):\n",
    "        self.counter: int = 2\n",
    "                \n",
    "    def add_1(self):\n",
    "        self.counter += 1\n",
    "\n",
    "    def add_1_modulo(self):\n",
    "        self.counter = (self.counter + 1) % 2\n",
    "\n",
    "#MAIN\n",
    "c = counter()\n",
    "c.add_1()\n",
    "print(\"Normal\", c.counter)\n",
    "c.add_1 = c.add_1_modulo\n",
    "c.add_1()\n",
    "print(\"\\\"Normal\\\"\", c.counter)"
   ],
   "metadata": {
    "collapsed": false,
    "pycharm": {
     "name": "#%%\n"
    }
   }
  },
  {
   "cell_type": "markdown",
   "source": [
    "### Inheritance\n",
    "This is a simple inheritance example. There are no multi-inheritances possible (like in Java, not like in C++).\n",
    "The super constructor can be called any time in the __init__ functions (recommendation: call IT!)."
   ],
   "metadata": {
    "collapsed": false
   }
  },
  {
   "cell_type": "code",
   "execution_count": null,
   "outputs": [],
   "source": [
    "class islands():\n",
    "    island_name:str\n",
    "    def __init__(self, island_name):\n",
    "        self.island_name = island_name\n",
    "\n",
    "class treasure_island(islands):\n",
    "    ## Constructor\n",
    "    def __init__(self, n_treasures:int,\n",
    "\t     secret_treasure:str=\"beneath the palm\"):\n",
    "        self.n_treasures = n_treasures\n",
    "        self._secret_treasure = secret_treasure\n",
    "        super().__init__(island_name=\"treasure island\")\n",
    "\n",
    "islandA = treasure_island(1)\n",
    "print(islandA.island_name, islandA.n_treasures)"
   ],
   "metadata": {
    "collapsed": false,
    "pycharm": {
     "name": "#%%\n"
    }
   }
  },
  {
   "cell_type": "markdown",
   "source": [
    "#### Type Testing & implicit Polymorphism\n",
    "as python is not type save, polymorphism is implicitly given.\n",
    "To ensure that you really encouter a certain class on runtime, one can use the isinstance or issubclass functions."
   ],
   "metadata": {
    "collapsed": false
   }
  },
  {
   "cell_type": "code",
   "execution_count": null,
   "outputs": [],
   "source": [
    "class islands():\n",
    "    island_name:str\n",
    "    def __init__(self, island_name):\n",
    "        self.island_name = island_name\n",
    "\n",
    "class treasure_island(islands):\n",
    "    ## Constructor\n",
    "    def __init__(self, n_treasures:int,\n",
    "\t     secret_treasure:str=\"beneath the palm\"):\n",
    "        self.n_treasures = n_treasures\n",
    "        self._secret_treasure = secret_treasure\n",
    "        super().__init__(island_name=\"treasure island\")\n",
    "\n",
    "islandA = treasure_island(1)\n",
    "boringIsland = islands(\"nothing here\")\n",
    "\n",
    "#Check\n",
    "print(\"the obj boringIsland ...\"\n",
    "      \"\\n is a treasure_island:\",  isinstance(boringIsland, treasure_island),\n",
    "      \"\\n is an island:\",isinstance(boringIsland, islands),\n",
    "      \"\\n is an int:\", isinstance(boringIsland, int))\n",
    "print(\"the class of boringIsland ...\"\n",
    "      \"\\n is a subclass of treasure_island:\",  issubclass(type(boringIsland), treasure_island),\n",
    "      \"\\n is an island:\",issubclass(type(boringIsland), islands),\n",
    "      \"\\n is an int:\", issubclass(type(boringIsland), int))\n",
    "print()\n",
    "print(\"the obj islandA ...\"\n",
    "      \"\\n is a treasure_island:\",  isinstance(islandA, treasure_island),\n",
    "      \"\\n is an island:\",isinstance(islandA, islands),\n",
    "      \"\\n is an int:\", isinstance(islandA, int))\n",
    "print(\"the class of islandA ...\"\n",
    "      \"\\n is a subclass of treasure_island:\",  issubclass(type(islandA), treasure_island),\n",
    "      \"\\n is an island:\",issubclass(type(islandA), islands),\n",
    "      \"\\n is an int:\", issubclass(type(islandA), int))\n"
   ],
   "metadata": {
    "collapsed": false,
    "pycharm": {
     "name": "#%%\n"
    }
   }
  },
  {
   "cell_type": "markdown",
   "source": [
    "## Using Pygromos\n",
    "### PyGromos Wrapper:\n",
    "#### Example gromosPP:"
   ],
   "metadata": {
    "collapsed": false
   }
  },
  {
   "cell_type": "code",
   "execution_count": null,
   "outputs": [],
   "source": [
    "from pygromos.gromos.gromosPP import GromosPP\n",
    "from pygromos.data.ff import Gromos54A7\n",
    "\n",
    "gromPP = GromosPP()\n",
    "## Make Peptide\n",
    "sequence = \"NH3+ VAL TYR ARG LYSH GLN COO-\"\n",
    "solvent = \"H2O\"\n",
    "out_top_peptide = \"example_files/topo/peptide.top\"\n",
    "\n",
    "gromPP.make_top(in_building_block_lib_path=Gromos54A7.mtb,\n",
    "\t            in_parameter_lib_path=Gromos54A7.ifp,\n",
    "                in_sequence=sequence, in_solvent=\"\",\n",
    "                out_top_path= out_top_peptide)"
   ],
   "metadata": {
    "collapsed": false,
    "pycharm": {
     "name": "#%%\n"
    }
   }
  },
  {
   "cell_type": "markdown",
   "source": [
    "#### Example for gromosXX:"
   ],
   "metadata": {
    "collapsed": false
   }
  },
  {
   "cell_type": "code",
   "execution_count": null,
   "outputs": [],
   "source": [
    "gromXX = GromosXX()\n",
    "\n",
    "# file paths\n",
    "imd_emin_vacuum = \"myPath.imd\"\n",
    "cnf_hpeptide = \"myCnf.cnf\"\n",
    "top_vacuum_system = \"myTop.top\"\n",
    "out_prefix = \"emin_out\"\n",
    "#run emin\n",
    "gromXX.md_run(in_coord_path=cnf_hpeptide,\n",
    "              in_topo_path=top_vacuum_system,\n",
    "              in_imd_path=imd_emin_vacuum,\n",
    "              out_prefix=out_prefix)"
   ],
   "metadata": {
    "collapsed": false,
    "pycharm": {
     "name": "#%%\n"
    }
   }
  },
  {
   "cell_type": "markdown",
   "source": [
    "## PyGromos Files:"
   ],
   "metadata": {
    "collapsed": false
   }
  },
  {
   "cell_type": "code",
   "execution_count": null,
   "outputs": [],
   "source": [
    "from pygromos.files import imd, Cnf\n",
    "from pygromos.data.imd_templates import template_emin\n",
    "from pygromos.data.solvents import spc\n",
    "\n",
    "cnf_file = Cnf(spc)\n",
    "residues = cnf_file.get_residues()"
   ],
   "metadata": {
    "collapsed": false,
    "pycharm": {
     "name": "#%%\n"
    }
   }
  },
  {
   "cell_type": "code",
   "execution_count": null,
   "outputs": [],
   "source": [
    "#IMD Handling\n",
    "emin_imd = imd.Imd(template_emin)\n",
    "emin_imd.SYSTEM.NSM = int(residues[\"SOLV\"]/3)\n",
    "emin_imd.FORCE.adapt_energy_groups(residues)\n",
    "emin_imd.edit_EDS(NUMSTATES=len(residues)-1,\n",
    "\t              S = 1.0, EIR=[0.0 for x in range(lig_num)])\n",
    "emin_imd.write(emin_imd_template_path)\n"
   ],
   "metadata": {
    "collapsed": false,
    "pycharm": {
     "name": "#%%\n"
    }
   }
  },
  {
   "cell_type": "markdown",
   "source": [
    "## Additional: functional programming\n",
    "Functional programming is yet another programming paradigm. In this style you try not to think in objects, but everything in functions.\n",
    "A pure functional program is not containing any stored values!\n",
    "\n",
    "### Lambda functions\n",
    "* are one line functions, some kind of lazy function definition\n",
    "* Note the functions are written into variables, which behave like \"normal\" variables and can be overwritten.\n",
    "This can happen with any function in python."
   ],
   "metadata": {
    "collapsed": false
   }
  },
  {
   "cell_type": "code",
   "execution_count": null,
   "outputs": [],
   "source": [
    "# a function\n",
    "add = lambda x,y: x+y\n",
    "print(\"add: \", add(1,2))\n",
    "\n",
    "# another function\n",
    "add_modulo = lambda x,y: (x+y)%2\n",
    "print(\"add modulo 2: \", add_modulo(1,2))\n",
    "\n",
    "#override first function (also possible in classes! see next example)\n",
    "add = add_modulo\n",
    "print(\"the new add: \", add(1,2))"
   ],
   "metadata": {
    "collapsed": false,
    "pycharm": {
     "name": "#%% Example: functional programming and Function as a variable\n"
    }
   }
  },
  {
   "cell_type": "markdown",
   "source": [
    "### preimplemented functions\n",
    "There are the standard functional functions pre implemented in gromos.\n",
    "* MAP\n",
    "* ZIP\n",
    "* FILTER"
   ],
   "metadata": {
    "collapsed": false,
    "pycharm": {
     "name": "#%% md\n"
    }
   }
  },
  {
   "cell_type": "code",
   "execution_count": 34,
   "outputs": [
    {
     "name": "stdout",
     "output_type": "stream",
     "text": [
      "Map: Add to all elements of the list +1\n",
      "  [1, 2, 3, 4, 5] \n",
      "  [2, 3, 4, 5, 6] \n",
      "\n",
      "Zip: combined lists: \n",
      "  [('a', 1), ('b', 2), ('c', 3), ('d', 4), ('e', 5)] \n",
      "\n",
      "Filter: a list with only odd numbers: \n",
      "  [1, 3, 5] \n",
      "\n"
     ]
    }
   ],
   "source": [
    "# MAP\n",
    "int_list = [1,2,3,4,5]\n",
    "new_list = list(map(lambda x: x+1, int_list))\n",
    "print(\"Map: Add to all elements of the list +1\\n \", int_list, \"\\n \", new_list,\"\\n\")\n",
    "\n",
    "# ZIP\n",
    "int_list = [1,2,3,4,5]\n",
    "letter_list = [\"a\", \"b\", \"c\", \"d\", \"e\"]\n",
    "combination = list(zip(letter_list, int_list))\n",
    "print(\"Zip: combined lists: \\n \", combination,\"\\n\")\n",
    "\n",
    "# FILTER\n",
    "int_list = [1,2,3,4,5]\n",
    "odd_list = list(filter(lambda x: x%2!=0, int_list))\n",
    "print(\"Filter: a list with only odd numbers: \\n \", odd_list,\"\\n\")"
   ],
   "metadata": {
    "collapsed": false,
    "pycharm": {
     "name": "#%%\n"
    }
   }
  },
  {
   "cell_type": "markdown",
   "source": [
    "### list/dict - comprehensions\n",
    "can be used to bring a for loop into one line."
   ],
   "metadata": {
    "collapsed": false
   }
  },
  {
   "cell_type": "code",
   "execution_count": 40,
   "outputs": [
    {
     "name": "stdout",
     "output_type": "stream",
     "text": [
      "list comprehension\n",
      "exclude odds:  [1, 3, 5]\n",
      "replace odds:  [1, 0, 3, 0, 5]\n",
      "\n",
      "dict comprehension\n",
      "combinatinos dict:  {'a': 1, 'b': 2, 'c': 3, 'd': 4, 'e': 5}\n",
      "combinatinos list:  [('a', 1), ('b', 2), ('c', 3), ('d', 4), ('e', 5)]\n",
      "\n"
     ]
    }
   ],
   "source": [
    "# list comprehension\n",
    "int_list = [1,2,3,4,5]\n",
    "odd_list = [x for x in int_list if(x%2!=0)]\n",
    "odd_replace_list = [x if(x%2!=0) else 0 for x in int_list]\n",
    "\n",
    "print(\"list comprehension\")\n",
    "print(\"exclude odds: \", odd_list)\n",
    "print(\"replace odds: \", odd_replace_list)\n",
    "print()\n",
    "\n",
    "#dict comprehension\n",
    "int_list = [1,2,3,4,5]\n",
    "letter_list = [\"a\", \"b\", \"c\", \"d\", \"e\"]\n",
    "\n",
    "combination_dict = {key: value for key, value in zip(letter_list, int_list)}\n",
    "combination_list = list(combination_dict.items()) #if it needs to be a list\n",
    "print(\"dict comprehension\")\n",
    "print(\"combinatinos dict: \", combination_dict)\n",
    "print(\"combinatinos list: \", combination_list)\n",
    "print()"
   ],
   "metadata": {
    "collapsed": false,
    "pycharm": {
     "name": "#%%\n"
    }
   }
  },
  {
   "cell_type": "markdown",
   "source": [
    "### decorators - how they work\n",
    "Decorators are actually function wrapping a function, that builds a new function! :)\n",
    "This is part of higher order functional programming and therefore for the pros."
   ],
   "metadata": {
    "collapsed": false
   }
  },
  {
   "cell_type": "code",
   "execution_count": 48,
   "outputs": [
    {
     "name": "stdout",
     "output_type": "stream",
     "text": [
      "don't tell about the island\n",
      "\n",
      "nice island, with two mountains and train traffic\n",
      "\n",
      "Damn!\n",
      "\n"
     ]
    }
   ],
   "source": [
    "#Our nice Decorator\n",
    "def secret(function:callable):\n",
    "    def disclosure(): #the \"final\" function\n",
    "        print(\"don't tell about the island\\n\")\n",
    "        function()  #the decorated function\n",
    "        print(\"\\nDamn!\\n\")\n",
    "    return disclosure\n",
    "\n",
    "#Our Application\n",
    "@secret\n",
    "def treasure_island_location():\n",
    "    print(\"\\tnice island, with two mountains and train traffic\")\n",
    "\n",
    "\n",
    "treasure_island_location()\n"
   ],
   "metadata": {
    "collapsed": false,
    "pycharm": {
     "name": "#%%\n"
    }
   }
  },
  {
   "cell_type": "markdown",
   "source": [
    "I hope you liked the talk.\n",
    "Thanks to:\n",
    "\n",
    " Sereina, Phil\n",
    "\n",
    " Salome, Marc, Candide\n",
    "\n",
    " and all the IGC Group Members!"
   ],
   "metadata": {
    "collapsed": false,
    "pycharm": {
     "name": "#%% md\n"
    }
   }
  }
 ],
 "metadata": {
  "kernelspec": {
   "display_name": "Python 3.7(pygromos)",
   "language": "python",
   "name": "pygromos"
  },
  "language_info": {
   "codemirror_mode": {
    "name": "ipython",
    "version": 3
   },
   "file_extension": ".py",
   "mimetype": "text/x-python",
   "name": "python",
   "nbconvert_exporter": "python",
   "pygments_lexer": "ipython3",
   "version": "3.7.8"
  }
 },
 "nbformat": 4,
 "nbformat_minor": 1
}