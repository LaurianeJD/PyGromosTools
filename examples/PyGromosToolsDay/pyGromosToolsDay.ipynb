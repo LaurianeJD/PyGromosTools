{
 "cells": [
  {
   "cell_type": "markdown",
   "metadata": {},
   "source": [
    "### Imports and settings for this notebool"
   ]
  },
  {
   "cell_type": "code",
   "execution_count": 1,
   "metadata": {},
   "outputs": [],
   "source": [
    "# general notebook formatting for markdown and plots\n",
    "%matplotlib inline\n",
    "%config InlineBackend.figure_format = 'retina'\n",
    "import warnings\n",
    "\n",
    "import matplotlib.pyplot as plt\n",
    "\n",
    "warnings.filterwarnings(\"ignore\", category=FutureWarning)\n",
    "warnings.filterwarnings = lambda *a, **kw: None\n",
    "from IPython.core.display import HTML"
   ]
  },
  {
   "cell_type": "code",
   "execution_count": 2,
   "metadata": {},
   "outputs": [
    {
     "name": "stderr",
     "output_type": "stream",
     "text": [
      "Warning: Unable to load toolkit 'OpenEye Toolkit'. The Open Force Field Toolkit does not require the OpenEye Toolkits, and can use RDKit/AmberTools instead. However, if you have a valid license for the OpenEye Toolkits, consider installing them for faster performance and additional file format support: https://docs.eyesopen.com/toolkits/python/quickstart-python/linuxosx.html OpenEye offers free Toolkit licenses for academics: https://www.eyesopen.com/academic-licensing\n"
     ]
    }
   ],
   "source": [
    "# imports for code examples\n",
    "import os\n",
    "\n",
    "from pygromos.files.gromos_system.gromos_system import Gromos_System\n",
    "from pygromos.files.gromos_system.ff.forcefield_system import forcefield_system\n",
    "\n",
    "from pygromos.simulations.modules.preset_simulation_modules import sd\n",
    "from pygromos.simulations.modules.preset_simulation_modules import emin\n",
    "from pygromos.data.simulation_parameters_templates import template_sd, template_emin_vac"
   ]
  },
  {
   "cell_type": "markdown",
   "metadata": {},
   "source": [
    "# PyGromosToolsDay"
   ]
  },
  {
   "cell_type": "markdown",
   "metadata": {},
   "source": [
    "## Introduction"
   ]
  },
  {
   "cell_type": "markdown",
   "metadata": {},
   "source": [
    "This notebook is created for the PyGromosToolsDay 17.02.2022    \n",
    "Author: Marc Thierry Lehner  \n",
    "\n",
    "This notbook is part of the PyGromosTools and can be found under:\n",
    "https://github.com/rinikerlab/PyGromosTools/blob/pygromosDay/examples/PyGromosToolsDay/pyGromosToolsDay.ipynb"
   ]
  },
  {
   "cell_type": "markdown",
   "metadata": {},
   "source": [
    "### Schedul for the day"
   ]
  },
  {
   "cell_type": "markdown",
   "metadata": {},
   "source": [
    "1. [Introduction](#Introduction)\n",
    "    1. [Schedule](#Schedule)\n",
    "    2. [Tutorial](#Tutorial)\n",
    "2. [PyGromosTools](#PyGromosTools)\n",
    "    1. [PyGromosTools](#PyGromosTools)\n",
    "    2. [PyGromosTools](#PyGromosTools)"
   ]
  },
  {
   "cell_type": "markdown",
   "metadata": {},
   "source": [
    "## PyGromosTools - a Python package for GROMOS users"
   ]
  },
  {
   "cell_type": "markdown",
   "metadata": {},
   "source": [
    "PyGromosTools is a Python package for GROMOS users. It tries to provide a easy to use unified interface to the GROMOS users in python. Leading to a better readability and reproducability of code, as well as easier pipelining of GROMOS simulations."
   ]
  },
  {
   "cell_type": "markdown",
   "metadata": {},
   "source": [
    "PyGromosTools is a natural grown package which tries to adhere to all GROMOS user's needs."
   ]
  },
  {
   "cell_type": "markdown",
   "metadata": {},
   "source": [
    "At the current state PyGromosTools provides:\n",
    "1. GROMOSxx wrappers\n",
    "2. GROMOS++ wrappers\n",
    "3. File handling of all GROMOS file types for automated creation/modification/analysis\n",
    "4. Automation and file management system gromos_system\n",
    "5. Simulation Submission and Execution\n",
    "6. etc.\n",
    "\n",
    "In the following sections we will see how to use PyGromosTools to automate the creation of GROMOS simulations and how these tools are intended to be used. We will show simple uscase and how to adjust existing classes to fit more complex simulations or new blocks and finally show how you can contribute to PyGromosTools."
   ]
  },
  {
   "cell_type": "markdown",
   "metadata": {},
   "source": [
    "### General File Structure"
   ]
  },
  {
   "cell_type": "markdown",
   "metadata": {},
   "source": [
    "Since the second major relase (TODO: date???) PyGromosTools is focused around a class called `gromos_system`. This class is the main class of PyGromosTools and is used to create, manage and analyse GROMOS simulations.  \n",
    "\n",
    "`gromos_system` stores information of all files of a simulation and provides methods to create, modify and analyse these files.\n",
    "\n",
    "\n",
    "<p style=\"text-align:center;\">\n",
    "    <img src=\"./figures/gromos_system_overview.png\" width=900 alt=\"gromos_system_overview\"/>\n",
    "    <div style=\"text-align:center;\">Based on B. Ries Thesis</div>\n",
    "</p> "
   ]
  },
  {
   "cell_type": "markdown",
   "metadata": {},
   "source": [
    "`gromos_system` can be create in many different ways. The simplest way is from existing files. However, it also provides the option to be created from only a smiles and a forcfield.  \n",
    "\n",
    "Although it has to be mentioned, that for all GROMOS types forcefields the correct MTB name is required.  \n",
    "\n",
    "In the following example we create first a `forcefield_system` that holds all informations about the forcfield we want to use, and then use this `forcefield_system` to create a `gromos_system` from a smiles.   \n",
    "\n",
    "If we tick the option `adapt_imd_automatically` and `auto_convert` in `gromos_system` we will automatically create not only the topology, but also the coordinate file and a adjusted INPUT file."
   ]
  },
  {
   "cell_type": "code",
   "execution_count": 3,
   "metadata": {},
   "outputs": [],
   "source": [
    "work_dir = os.path.abspath(\"./example_sys/\")"
   ]
  },
  {
   "cell_type": "code",
   "execution_count": 4,
   "metadata": {},
   "outputs": [],
   "source": [
    "ff = forcefield_system(name=\"2016H66\")\n",
    "ff.mol_name = \"BZN\""
   ]
  },
  {
   "cell_type": "code",
   "execution_count": 5,
   "metadata": {},
   "outputs": [],
   "source": [
    "groSys = Gromos_System(work_folder=work_dir,\n",
    "                system_name=\"test_system\",\n",
    "                in_smiles=\"c1ccccc1\", \n",
    "                Forcefield=ff, \n",
    "                adapt_imd_automatically=True,\n",
    "                in_imd_path=template_emin_vac, \n",
    "                auto_convert=True)"
   ]
  },
  {
   "cell_type": "markdown",
   "metadata": {},
   "source": [
    "This `gromos_system` called `groSys` now contains a topology, coordinate and a input file for Cyclohexane. All automatically generated.  \n",
    "\n",
    "We can access all these files as python classes by accessing the `groSys.top`, `groSys.cnf` and `groSys.imd` attributes.  \n",
    "All these classe are instances of the `gromos_file` class and have attributes on their own which are the gromos blocks (and of course somties additional content).  \n",
    "\n",
    "For example we can check if the new topology has a proper TITLE block by accessing the attribute `groSys.top.TITLE`. And we can see, that as expected the title block was automatically generated."
   ]
  },
  {
   "cell_type": "code",
   "execution_count": 6,
   "metadata": {},
   "outputs": [],
   "source": [
    "#help(groSys.top.TITLE)"
   ]
  },
  {
   "cell_type": "code",
   "execution_count": 7,
   "metadata": {},
   "outputs": [
    {
     "data": {
      "text/plain": [
       "TITLE\n",
       "MAKE_TOP topology, using:\n",
       "/home/mlehner/PyGromosTools/pygromos/data/ff/Gromos2016H66/2016H66.mtb\n",
       "/home/mlehner/PyGromosTools/pygromos/data/ff/Gromos2016H66/2016H66_orga.mtb\n",
       "/home/mlehner/PyGromosTools/pygromos/data/ff/Gromos2016H66/2016H66.ifp\n",
       "\n",
       "Force-field code: 2016H66\n",
       "\n",
       "\t >>> Generated with PyGromosTools (riniker group) <<< \n",
       "END"
      ]
     },
     "execution_count": 7,
     "metadata": {},
     "output_type": "execute_result"
    }
   ],
   "source": [
    "groSys.top.TITLE"
   ]
  },
  {
   "cell_type": "markdown",
   "metadata": {},
   "source": [
    "The same is also true for the other files. It's espicially worth to mention that coordinate file is automatically generated, using the RDKit conformer generator."
   ]
  },
  {
   "cell_type": "code",
   "execution_count": 8,
   "metadata": {},
   "outputs": [
    {
     "data": {
      "text/plain": [
       "POSITION\n",
       "# \t \n",
       "    1 C6H6  C          1    0.080649780   -0.114309219    0.001491900\n",
       "    1 C6H6  C          2    0.139328044    0.012683506   -0.000213298\n",
       "    1 C6H6  C          3    0.058678222    0.126992825   -0.001704768\n",
       "    1 C6H6  C          4   -0.080649753    0.114309267   -0.001491014\n",
       "    1 C6H6  C          5   -0.139327999   -0.012683547    0.000214086\n",
       "    1 C6H6  C          6   -0.058678224   -0.126992791    0.001705734\n",
       "    1 C6H6  H          7    0.143042861   -0.202741963    0.002644300\n",
       "    1 C6H6  H          8    0.247116116    0.022495575   -0.000379138\n",
       "    1 C6H6  H          9    0.104073182    0.225238122   -0.003024799\n",
       "    1 C6H6  H         10   -0.143042588    0.202742062   -0.002645445\n",
       "    1 C6H6  H         11   -0.247116080   -0.022495931    0.000378523\n",
       "    1 C6H6  H         12   -0.104073562   -0.225237908    0.003023921\n",
       "END"
      ]
     },
     "execution_count": 8,
     "metadata": {},
     "output_type": "execute_result"
    }
   ],
   "source": [
    "groSys.cnf.POSITION"
   ]
  },
  {
   "cell_type": "markdown",
   "metadata": {},
   "source": [
    "All these blocks the contain classes for the specific fields. In the case of the POSITION block we have a list of atoms. And each atom stores the name, the type and the position. This makes it easy to make adjustments, search for specific atoms or do some general scripted modifiactions to the positions.\n",
    "\n",
    "<p style=\"text-align:center;\">\n",
    "    <img src=\"./figures/gromos_file.png\" height=300 alt=\"gromos file structure\"/>\n",
    "    <div style=\"text-align:center;\">Based on B. Ries Thesis</div>\n",
    "</p> \n",
    "\n",
    "All the fields have theire own attributs and sometimes functions to modify them. For example the `POSITION` block has a `atomP` that store all the information."
   ]
  },
  {
   "cell_type": "code",
   "execution_count": 9,
   "metadata": {},
   "outputs": [
    {
     "name": "stdout",
     "output_type": "stream",
     "text": [
      "2 C C6H6 0.13932804378041846\n"
     ]
    }
   ],
   "source": [
    "atomP = groSys.cnf.POSITION[1]\n",
    "print(atomP.atomID, atomP.atomType, atomP.resName, atomP.xp)"
   ]
  },
  {
   "cell_type": "code",
   "execution_count": 10,
   "metadata": {},
   "outputs": [
    {
     "data": {
      "application/3dmoljs_load.v0": "<div id=\"3dmolviewer_16445886810042148\"  style=\"position: relative; width: 400px; height: 400px\">\n        <p id=\"3dmolwarning_16445886810042148\" style=\"background-color:#ffcccc;color:black\">You appear to be running in JupyterLab (or JavaScript failed to load for some other reason).  You need to install the 3dmol extension: <br>\n        <tt>jupyter labextension install jupyterlab_3dmol</tt></p>\n        </div>\n<script>\n\nvar loadScriptAsync = function(uri){\n  return new Promise((resolve, reject) => {\n    var tag = document.createElement('script');\n    tag.src = uri;\n    tag.async = true;\n    tag.onload = () => {\n      resolve();\n    };\n  var firstScriptTag = document.getElementsByTagName('script')[0];\n  firstScriptTag.parentNode.insertBefore(tag, firstScriptTag);\n});\n};\n\nif(typeof $3Dmolpromise === 'undefined') {\n$3Dmolpromise = null;\n  $3Dmolpromise = loadScriptAsync('https://3dmol.org/build/3Dmol.js');\n}\n\nvar viewer_16445886810042148 = null;\nvar warn = document.getElementById(\"3dmolwarning_16445886810042148\");\nif(warn) {\n    warn.parentNode.removeChild(warn);\n}\n$3Dmolpromise.then(function() {\nviewer_16445886810042148 = $3Dmol.createViewer($(\"#3dmolviewer_16445886810042148\"),{backgroundColor:\"white\"});\nviewer_16445886810042148.zoomTo();\n\tviewer_16445886810042148.addModel(\"12\\n# \\tC6H6 created from RDKit# exported wit PyGromosTools\\nC  \\t 0.806497800   -1.143092190    0.014919000\\nC  \\t 1.393280440    0.126835060   -0.002132980\\nC  \\t 0.586782220    1.269928250   -0.017047680\\nC  \\t-0.806497530    1.143092670   -0.014910140\\nC  \\t-1.393279990   -0.126835470    0.002140860\\nC  \\t-0.586782240   -1.269927910    0.017057340\\nH  \\t 1.430428610   -2.027419630    0.026443000\\nH  \\t 2.471161160    0.224955750   -0.003791380\\nH  \\t 1.040731820    2.252381220   -0.030247990\\nH  \\t-1.430425880    2.027420620   -0.026454450\\nH  \\t-2.471160800   -0.224959310    0.003785230\\nH  \\t-1.040735620   -2.252379080    0.030239210\\n\");\n\tviewer_16445886810042148.setStyle({\"model\": -1},{\"stick\": {}});\n\tviewer_16445886810042148.zoomTo();\nviewer_16445886810042148.render();\n});\n</script>",
      "text/html": [
       "<div id=\"3dmolviewer_16445886810042148\"  style=\"position: relative; width: 400px; height: 400px\">\n",
       "        <p id=\"3dmolwarning_16445886810042148\" style=\"background-color:#ffcccc;color:black\">You appear to be running in JupyterLab (or JavaScript failed to load for some other reason).  You need to install the 3dmol extension: <br>\n",
       "        <tt>jupyter labextension install jupyterlab_3dmol</tt></p>\n",
       "        </div>\n",
       "<script>\n",
       "\n",
       "var loadScriptAsync = function(uri){\n",
       "  return new Promise((resolve, reject) => {\n",
       "    var tag = document.createElement('script');\n",
       "    tag.src = uri;\n",
       "    tag.async = true;\n",
       "    tag.onload = () => {\n",
       "      resolve();\n",
       "    };\n",
       "  var firstScriptTag = document.getElementsByTagName('script')[0];\n",
       "  firstScriptTag.parentNode.insertBefore(tag, firstScriptTag);\n",
       "});\n",
       "};\n",
       "\n",
       "if(typeof $3Dmolpromise === 'undefined') {\n",
       "$3Dmolpromise = null;\n",
       "  $3Dmolpromise = loadScriptAsync('https://3dmol.org/build/3Dmol.js');\n",
       "}\n",
       "\n",
       "var viewer_16445886810042148 = null;\n",
       "var warn = document.getElementById(\"3dmolwarning_16445886810042148\");\n",
       "if(warn) {\n",
       "    warn.parentNode.removeChild(warn);\n",
       "}\n",
       "$3Dmolpromise.then(function() {\n",
       "viewer_16445886810042148 = $3Dmol.createViewer($(\"#3dmolviewer_16445886810042148\"),{backgroundColor:\"white\"});\n",
       "viewer_16445886810042148.zoomTo();\n",
       "\tviewer_16445886810042148.addModel(\"12\\n# \\tC6H6 created from RDKit# exported wit PyGromosTools\\nC  \\t 0.806497800   -1.143092190    0.014919000\\nC  \\t 1.393280440    0.126835060   -0.002132980\\nC  \\t 0.586782220    1.269928250   -0.017047680\\nC  \\t-0.806497530    1.143092670   -0.014910140\\nC  \\t-1.393279990   -0.126835470    0.002140860\\nC  \\t-0.586782240   -1.269927910    0.017057340\\nH  \\t 1.430428610   -2.027419630    0.026443000\\nH  \\t 2.471161160    0.224955750   -0.003791380\\nH  \\t 1.040731820    2.252381220   -0.030247990\\nH  \\t-1.430425880    2.027420620   -0.026454450\\nH  \\t-2.471160800   -0.224959310    0.003785230\\nH  \\t-1.040735620   -2.252379080    0.030239210\\n\");\n",
       "\tviewer_16445886810042148.setStyle({\"model\": -1},{\"stick\": {}});\n",
       "\tviewer_16445886810042148.zoomTo();\n",
       "viewer_16445886810042148.render();\n",
       "});\n",
       "</script>"
      ]
     },
     "metadata": {},
     "output_type": "display_data"
    },
    {
     "data": {
      "text/plain": [
       "<py3Dmol.view at 0x7fd1074d76d0>"
      ]
     },
     "execution_count": 10,
     "metadata": {},
     "output_type": "execute_result"
    }
   ],
   "source": [
    "groSys.cnf.visualize()"
   ]
  },
  {
   "cell_type": "markdown",
   "metadata": {},
   "source": [
    "### Simple Simulation"
   ]
  },
  {
   "cell_type": "markdown",
   "metadata": {},
   "source": [
    "PyGromosTools provides a simple way to create a GROMOS simulation. This is done by creating a `gromos_system` and then adding the necessary files to it and then simply selecting one of the preset modules.  \n",
    "\n",
    "PyGromosTools offers a wide range of preset simulations, but also general simulation templates, which can be easily modified.  \n",
    "\n",
    "These simulation modules take care of the creation of the necessary files, the execution/scheduling of the simulation, cleaning up the files and the analysis of the results.\n",
    "\n",
    "<p style=\"text-align:center;\">\n",
    "    <img src=\"./figures/simulation_structure.png\" width=600 alt=\"gromos simulation structure\"/>\n",
    "    <div style=\"text-align:center;\">Based on B. Ries Thesis</div>\n",
    "</p> \n",
    "\n",
    "The core of of all simulations is a `general_simulation` class. This class is the base class for all simulations. It provides the basic functionality to create the necessary files, the execution/scheduling of the simulation, cleaning up the files and the analysis of the results. Simple extensions to this class are classes like `MD`, `SD` and `EMIN` which manly provide preset changes in the IMD file. However PyGrromosTools also provides a wide range of more complex simulation approaches like `Hvap`, `TI`, etc. wich often require multiple lower level simulations to be run.\n",
    "\n",
    "But in all simulation modules the date is always stored and returned in a `gromos_system` object. This is done to make it easy for users to keeep files clean and analyse the results. And all simulation modules use a so called `submission_system`. These classes store the information about the submission of the simulation on a specific platform.\n"
   ]
  },
  {
   "cell_type": "code",
   "execution_count": 11,
   "metadata": {},
   "outputs": [
    {
     "name": "stdout",
     "output_type": "stream",
     "text": [
      "################################################################################\n",
      "\n",
      "emin\n",
      "################################################################################\n",
      "\n",
      "Script:  /home/mlehner/PyGromosTools/pygromos/simulations/hpc_queuing/job_scheduling/schedulers/simulation_scheduler.py\n",
      "\n",
      "################################################################################\n",
      "Simulation Setup:\n",
      "################################################################################\n",
      "\n",
      "steps_per_run:  3000\n",
      "equis:  0\n",
      "simulation runs:  1\n",
      "################################################################################\n",
      "\n",
      " submit final analysis part \n",
      "\n",
      "/home/mlehner/PyGromosTools/examples/PyGromosToolsDay/example_sys/emin/ana_out.log\n",
      "/home/mlehner/PyGromosTools/examples/PyGromosToolsDay/example_sys/emin/job_analysis.py\n",
      "#####################################################################################\n",
      "\t\tERROR in Submission\n",
      "#####################################################################################\n"
     ]
    },
    {
     "name": "stderr",
     "output_type": "stream",
     "text": [
      "Traceback (most recent call last):\n",
      "  File \"/home/mlehner/PyGromosTools/pygromos/simulations/hpc_queuing/submission_systems/local.py\", line 54, in submit_to_queue\n",
      "    process = bash.execute(command=command, catch_STD=True, env=self._enviroment)\n",
      "  File \"/home/mlehner/PyGromosTools/pygromos/utils/bash.py\", line 829, in execute\n",
      "    return execute_subprocess(command=command, verbose=verbose, catch_STD=catch_STD, env=env)\n",
      "  File \"/home/mlehner/PyGromosTools/pygromos/utils/bash.py\", line 752, in execute_subprocess\n",
      "    raise ChildProcessError(msg)\n",
      "ChildProcessError: SubProcess Failed due to returncode: 1\n",
      " COMMAND: \n",
      "\t./job_emin_ana.sh\n",
      "STDOUT:\n",
      "\tb'\\tStart cnfs\\n'\n",
      "\tb\"SEARCH PATTERN: emin + * +['.cnf']\\n\"\n",
      "\tb'walking to in_dir:  simulation found:  0\\n'\n",
      "\tb'walking to in_dir:  emin_1 found:  1\\n'\n",
      "\tb'\\n'\n",
      "\tb'foundFiles:\\n'\n",
      "\tb'\\n'\n",
      "\tb'\\t/home/mlehner/PyGromosTools/examples/PyGromosToolsDay/example_sys/emin/simulation/emin_1/emin_1.cnf\\n'\n",
      "\tb'\\n'\n",
      "\tb'/home/mlehner/PyGromosTools/examples/PyGromosToolsDay/example_sys/emin/simulation/emin/*.cnf\\n'\n",
      "STDERR:\n",
      "\tb'Traceback (most recent call last):\\n'\n",
      "\tb'  File \"/home/mlehner/PyGromosTools/examples/PyGromosToolsDay/example_sys/emin/job_analysis.py\", line 38, in <module>\\n'\n",
      "\tb'    do(in_simulation_dir=in_simulation_dir, out_analysis_dir=out_analysis_dir, sim_prefix=sim_prefix, gromosPP_bin_dir=gromosPP_bin_dir, n_processes=n_processes, control_dict=control_dict, verbose=verbose, )\\n'\n",
      "\tb'  File \"/home/mlehner/PyGromosTools/pygromos/simulations/hpc_queuing/job_scheduling/workers/analysis_workers/simulation_analysis.py\", line 73, in do\\n'\n",
      "\tb'    project_concatenation(in_folder=in_simulation_dir, in_prefix = sim_prefix,  out_folder=out_data_dir, control_dict=control_dict[\"concat\"][\"sub\"], verbose=verbose)\\n'\n",
      "\tb'  File \"/home/mlehner/PyGromosTools/pygromos/simulations/hpc_queuing/job_scheduling/workers/analysis_workers/simulation_analysis.py\", line 117, in project_concatenation\\n'\n",
      "\tb'    if(any([math.isnan(x) for x in sim_cnf.GENBOX.euler])):\\n'\n",
      "\tb\"AttributeError: 'Cnf' object has no attribute 'GENBOX'\\n\"\n",
      "\n",
      "During handling of the above exception, another exception occurred:\n",
      "\n",
      "Traceback (most recent call last):\n",
      "  File \"/home/mlehner/PyGromosTools/pygromos/simulations/hpc_queuing/job_scheduling/schedulers/simulation_scheduler.py\", line 162, in do\n",
      "    ana_previous_job_ID = submission_system.submit_to_queue(sub_job)\n",
      "  File \"/home/mlehner/PyGromosTools/pygromos/simulations/hpc_queuing/submission_systems/local.py\", line 68, in submit_to_queue\n",
      "    raise ChildProcessError(\"command failed: \\n\" +\n",
      "ChildProcessError: command failed: \n",
      "./job_emin_ana.sh\n",
      "Traceback (most recent call last):\n",
      "  File \"/home/mlehner/PyGromosTools/pygromos/simulations/hpc_queuing/submission_systems/local.py\", line 54, in submit_to_queue\n",
      "    process = bash.execute(command=command, catch_STD=True, env=self._enviroment)\n",
      "  File \"/home/mlehner/PyGromosTools/pygromos/utils/bash.py\", line 829, in execute\n",
      "    return execute_subprocess(command=command, verbose=verbose, catch_STD=catch_STD, env=env)\n",
      "  File \"/home/mlehner/PyGromosTools/pygromos/utils/bash.py\", line 752, in execute_subprocess\n",
      "    raise ChildProcessError(msg)\n",
      "ChildProcessError: SubProcess Failed due to returncode: 1\n",
      " COMMAND: \n",
      "\t./job_emin_ana.sh\n",
      "STDOUT:\n",
      "\tb'\\tStart cnfs\\n'\n",
      "\tb\"SEARCH PATTERN: emin + * +['.cnf']\\n\"\n",
      "\tb'walking to in_dir:  simulation found:  0\\n'\n",
      "\tb'walking to in_dir:  emin_1 found:  1\\n'\n",
      "\tb'\\n'\n",
      "\tb'foundFiles:\\n'\n",
      "\tb'\\n'\n",
      "\tb'\\t/home/mlehner/PyGromosTools/examples/PyGromosToolsDay/example_sys/emin/simulation/emin_1/emin_1.cnf\\n'\n",
      "\tb'\\n'\n",
      "\tb'/home/mlehner/PyGromosTools/examples/PyGromosToolsDay/example_sys/emin/simulation/emin/*.cnf\\n'\n",
      "STDERR:\n",
      "\tb'Traceback (most recent call last):\\n'\n",
      "\tb'  File \"/home/mlehner/PyGromosTools/examples/PyGromosToolsDay/example_sys/emin/job_analysis.py\", line 38, in <module>\\n'\n",
      "\tb'    do(in_simulation_dir=in_simulation_dir, out_analysis_dir=out_analysis_dir, sim_prefix=sim_prefix, gromosPP_bin_dir=gromosPP_bin_dir, n_processes=n_processes, control_dict=control_dict, verbose=verbose, )\\n'\n",
      "\tb'  File \"/home/mlehner/PyGromosTools/pygromos/simulations/hpc_queuing/job_scheduling/workers/analysis_workers/simulation_analysis.py\", line 73, in do\\n'\n",
      "\tb'    project_concatenation(in_folder=in_simulation_dir, in_prefix = sim_prefix,  out_folder=out_data_dir, control_dict=control_dict[\"concat\"][\"sub\"], verbose=verbose)\\n'\n",
      "\tb'  File \"/home/mlehner/PyGromosTools/pygromos/simulations/hpc_queuing/job_scheduling/workers/analysis_workers/simulation_analysis.py\", line 117, in project_concatenation\\n'\n",
      "\tb'    if(any([math.isnan(x) for x in sim_cnf.GENBOX.euler])):\\n'\n",
      "\tb\"AttributeError: 'Cnf' object has no attribute 'GENBOX'\\n\"\n",
      "\n",
      "During handling of the above exception, another exception occurred:\n",
      "\n",
      "Traceback (most recent call last):\n",
      "  File \"/home/mlehner/PyGromosTools/pygromos/simulations/hpc_queuing/job_scheduling/schedulers/simulation_scheduler.py\", line 162, in do\n",
      "    ana_previous_job_ID = submission_system.submit_to_queue(sub_job)\n",
      "  File \"/home/mlehner/PyGromosTools/pygromos/simulations/hpc_queuing/submission_systems/local.py\", line 68, in submit_to_queue\n",
      "    raise ChildProcessError(\"command failed: \\n\" +\n",
      "ChildProcessError: command failed: \n",
      "./job_emin_ana.sh\n",
      "\n",
      "The above exception was the direct cause of the following exception:\n",
      "\n",
      "Traceback (most recent call last):\n",
      "  File \"/home/mlehner/PyGromosTools/pygromos/simulations/modules/general_simulation_modules.py\", line 170, in simulation\n",
      "    last_jobID = simulation_scheduler.do(in_simSystem=gromos_system, out_dir_path=out_simulation_dir,\n",
      "  File \"/home/mlehner/PyGromosTools/pygromos/simulations/hpc_queuing/job_scheduling/schedulers/simulation_scheduler.py\", line 172, in do\n",
      "    raise IOError(\"ERROR in SUBMISSION!\") from err\n",
      "OSError: ERROR in SUBMISSION!\n"
     ]
    },
    {
     "ename": "Exception",
     "evalue": "Could not submit the commands\n\tERROR in SUBMISSION!",
     "output_type": "error",
     "traceback": [
      "\u001b[0;31m---------------------------------------------------------------------------\u001b[0m",
      "\u001b[0;31mChildProcessError\u001b[0m                         Traceback (most recent call last)",
      "\u001b[0;32m~/PyGromosTools/pygromos/simulations/hpc_queuing/submission_systems/local.py\u001b[0m in \u001b[0;36msubmit_to_queue\u001b[0;34m(self, sub_job)\u001b[0m\n\u001b[1;32m     53\u001b[0m             \u001b[0;32mtry\u001b[0m\u001b[0;34m:\u001b[0m\u001b[0;34m\u001b[0m\u001b[0;34m\u001b[0m\u001b[0m\n\u001b[0;32m---> 54\u001b[0;31m                 \u001b[0mprocess\u001b[0m \u001b[0;34m=\u001b[0m \u001b[0mbash\u001b[0m\u001b[0;34m.\u001b[0m\u001b[0mexecute\u001b[0m\u001b[0;34m(\u001b[0m\u001b[0mcommand\u001b[0m\u001b[0;34m=\u001b[0m\u001b[0mcommand\u001b[0m\u001b[0;34m,\u001b[0m \u001b[0mcatch_STD\u001b[0m\u001b[0;34m=\u001b[0m\u001b[0;32mTrue\u001b[0m\u001b[0;34m,\u001b[0m \u001b[0menv\u001b[0m\u001b[0;34m=\u001b[0m\u001b[0mself\u001b[0m\u001b[0;34m.\u001b[0m\u001b[0m_enviroment\u001b[0m\u001b[0;34m)\u001b[0m\u001b[0;34m\u001b[0m\u001b[0;34m\u001b[0m\u001b[0m\n\u001b[0m\u001b[1;32m     55\u001b[0m                 \u001b[0mstd_out_buff\u001b[0m \u001b[0;34m=\u001b[0m \u001b[0mmap\u001b[0m\u001b[0;34m(\u001b[0m\u001b[0mstr\u001b[0m\u001b[0;34m,\u001b[0m \u001b[0mprocess\u001b[0m\u001b[0;34m.\u001b[0m\u001b[0mstdout\u001b[0m\u001b[0;34m.\u001b[0m\u001b[0mreadlines\u001b[0m\u001b[0;34m(\u001b[0m\u001b[0;34m)\u001b[0m\u001b[0;34m)\u001b[0m\u001b[0;34m\u001b[0m\u001b[0;34m\u001b[0m\u001b[0m\n",
      "\u001b[0;32m~/PyGromosTools/pygromos/utils/bash.py\u001b[0m in \u001b[0;36mexecute\u001b[0;34m(command, verbose, catch_STD, env)\u001b[0m\n\u001b[1;32m    828\u001b[0m \u001b[0;32mdef\u001b[0m \u001b[0mexecute\u001b[0m\u001b[0;34m(\u001b[0m\u001b[0mcommand\u001b[0m\u001b[0;34m:\u001b[0m \u001b[0;34m(\u001b[0m\u001b[0mstr\u001b[0m \u001b[0;32mor\u001b[0m \u001b[0mList\u001b[0m\u001b[0;34m[\u001b[0m\u001b[0mstr\u001b[0m\u001b[0;34m]\u001b[0m\u001b[0;34m)\u001b[0m\u001b[0;34m,\u001b[0m \u001b[0mverbose\u001b[0m\u001b[0;34m:\u001b[0m \u001b[0mbool\u001b[0m \u001b[0;34m=\u001b[0m \u001b[0;32mFalse\u001b[0m\u001b[0;34m,\u001b[0m \u001b[0mcatch_STD\u001b[0m\u001b[0;34m:\u001b[0m\u001b[0mUnion\u001b[0m\u001b[0;34m[\u001b[0m\u001b[0mbool\u001b[0m\u001b[0;34m,\u001b[0m\u001b[0mstr\u001b[0m\u001b[0;34m]\u001b[0m\u001b[0;34m=\u001b[0m\u001b[0;32mFalse\u001b[0m\u001b[0;34m,\u001b[0m \u001b[0menv\u001b[0m\u001b[0;34m:\u001b[0m\u001b[0mdict\u001b[0m\u001b[0;34m=\u001b[0m\u001b[0;32mNone\u001b[0m\u001b[0;34m)\u001b[0m\u001b[0;34m:\u001b[0m\u001b[0;34m\u001b[0m\u001b[0;34m\u001b[0m\u001b[0m\n\u001b[0;32m--> 829\u001b[0;31m     \u001b[0;32mreturn\u001b[0m \u001b[0mexecute_subprocess\u001b[0m\u001b[0;34m(\u001b[0m\u001b[0mcommand\u001b[0m\u001b[0;34m=\u001b[0m\u001b[0mcommand\u001b[0m\u001b[0;34m,\u001b[0m \u001b[0mverbose\u001b[0m\u001b[0;34m=\u001b[0m\u001b[0mverbose\u001b[0m\u001b[0;34m,\u001b[0m \u001b[0mcatch_STD\u001b[0m\u001b[0;34m=\u001b[0m\u001b[0mcatch_STD\u001b[0m\u001b[0;34m,\u001b[0m \u001b[0menv\u001b[0m\u001b[0;34m=\u001b[0m\u001b[0menv\u001b[0m\u001b[0;34m)\u001b[0m\u001b[0;34m\u001b[0m\u001b[0;34m\u001b[0m\u001b[0m\n\u001b[0m",
      "\u001b[0;32m~/PyGromosTools/pygromos/utils/bash.py\u001b[0m in \u001b[0;36mexecute_subprocess\u001b[0;34m(command, catch_STD, env, verbose)\u001b[0m\n\u001b[1;32m    751\u001b[0m         \u001b[0mmsg\u001b[0m \u001b[0;34m+=\u001b[0m \u001b[0;34m\"NONE\"\u001b[0m \u001b[0;32mif\u001b[0m\u001b[0;34m(\u001b[0m\u001b[0mp\u001b[0m\u001b[0;34m.\u001b[0m\u001b[0mstdout\u001b[0m \u001b[0;32mis\u001b[0m \u001b[0;32mNone\u001b[0m\u001b[0;34m)\u001b[0m \u001b[0;32melse\u001b[0m \u001b[0;34m\"\\n\\t\"\u001b[0m\u001b[0;34m.\u001b[0m\u001b[0mjoin\u001b[0m\u001b[0;34m(\u001b[0m\u001b[0mmap\u001b[0m\u001b[0;34m(\u001b[0m\u001b[0mstr\u001b[0m\u001b[0;34m,\u001b[0m \u001b[0mp\u001b[0m\u001b[0;34m.\u001b[0m\u001b[0mstderr\u001b[0m\u001b[0;34m.\u001b[0m\u001b[0mreadlines\u001b[0m\u001b[0;34m(\u001b[0m\u001b[0;34m)\u001b[0m\u001b[0;34m)\u001b[0m\u001b[0;34m)\u001b[0m\u001b[0;34m\u001b[0m\u001b[0;34m\u001b[0m\u001b[0m\n\u001b[0;32m--> 752\u001b[0;31m         \u001b[0;32mraise\u001b[0m \u001b[0mChildProcessError\u001b[0m\u001b[0;34m(\u001b[0m\u001b[0mmsg\u001b[0m\u001b[0;34m)\u001b[0m\u001b[0;34m\u001b[0m\u001b[0;34m\u001b[0m\u001b[0m\n\u001b[0m\u001b[1;32m    753\u001b[0m     \u001b[0;32mif\u001b[0m\u001b[0;34m(\u001b[0m\u001b[0mverbose\u001b[0m\u001b[0;34m)\u001b[0m\u001b[0;34m:\u001b[0m \u001b[0mprint\u001b[0m\u001b[0;34m(\u001b[0m\u001b[0;34m\"RETURN: \"\u001b[0m\u001b[0;34m,\u001b[0m \u001b[0mr\u001b[0m\u001b[0;34m)\u001b[0m\u001b[0;34m\u001b[0m\u001b[0;34m\u001b[0m\u001b[0m\n",
      "\u001b[0;31mChildProcessError\u001b[0m: SubProcess Failed due to returncode: 1\n COMMAND: \n\t./job_emin_ana.sh\nSTDOUT:\n\tb'\\tStart cnfs\\n'\n\tb\"SEARCH PATTERN: emin + * +['.cnf']\\n\"\n\tb'walking to in_dir:  simulation found:  0\\n'\n\tb'walking to in_dir:  emin_1 found:  1\\n'\n\tb'\\n'\n\tb'foundFiles:\\n'\n\tb'\\n'\n\tb'\\t/home/mlehner/PyGromosTools/examples/PyGromosToolsDay/example_sys/emin/simulation/emin_1/emin_1.cnf\\n'\n\tb'\\n'\n\tb'/home/mlehner/PyGromosTools/examples/PyGromosToolsDay/example_sys/emin/simulation/emin/*.cnf\\n'\nSTDERR:\n\tb'Traceback (most recent call last):\\n'\n\tb'  File \"/home/mlehner/PyGromosTools/examples/PyGromosToolsDay/example_sys/emin/job_analysis.py\", line 38, in <module>\\n'\n\tb'    do(in_simulation_dir=in_simulation_dir, out_analysis_dir=out_analysis_dir, sim_prefix=sim_prefix, gromosPP_bin_dir=gromosPP_bin_dir, n_processes=n_processes, control_dict=control_dict, verbose=verbose, )\\n'\n\tb'  File \"/home/mlehner/PyGromosTools/pygromos/simulations/hpc_queuing/job_scheduling/workers/analysis_workers/simulation_analysis.py\", line 73, in do\\n'\n\tb'    project_concatenation(in_folder=in_simulation_dir, in_prefix = sim_prefix,  out_folder=out_data_dir, control_dict=control_dict[\"concat\"][\"sub\"], verbose=verbose)\\n'\n\tb'  File \"/home/mlehner/PyGromosTools/pygromos/simulations/hpc_queuing/job_scheduling/workers/analysis_workers/simulation_analysis.py\", line 117, in project_concatenation\\n'\n\tb'    if(any([math.isnan(x) for x in sim_cnf.GENBOX.euler])):\\n'\n\tb\"AttributeError: 'Cnf' object has no attribute 'GENBOX'\\n\"",
      "\nDuring handling of the above exception, another exception occurred:\n",
      "\u001b[0;31mChildProcessError\u001b[0m                         Traceback (most recent call last)",
      "\u001b[0;32m~/PyGromosTools/pygromos/simulations/hpc_queuing/job_scheduling/schedulers/simulation_scheduler.py\u001b[0m in \u001b[0;36mdo\u001b[0;34m(in_simSystem, out_dir_path, simulation_run_num, equilibration_run_num, work_dir, analysis_script_path, submission_system, previous_job_ID, no_double_submit, verbose, verbose_lvl)\u001b[0m\n\u001b[1;32m    161\u001b[0m                                     queue_after_jobID=previous_job_ID)\n\u001b[0;32m--> 162\u001b[0;31m             \u001b[0mana_previous_job_ID\u001b[0m \u001b[0;34m=\u001b[0m \u001b[0msubmission_system\u001b[0m\u001b[0;34m.\u001b[0m\u001b[0msubmit_to_queue\u001b[0m\u001b[0;34m(\u001b[0m\u001b[0msub_job\u001b[0m\u001b[0;34m)\u001b[0m\u001b[0;34m\u001b[0m\u001b[0;34m\u001b[0m\u001b[0m\n\u001b[0m\u001b[1;32m    163\u001b[0m \u001b[0;34m\u001b[0m\u001b[0m\n",
      "\u001b[0;32m~/PyGromosTools/pygromos/simulations/hpc_queuing/submission_systems/local.py\u001b[0m in \u001b[0;36msubmit_to_queue\u001b[0;34m(self, sub_job)\u001b[0m\n\u001b[1;32m     67\u001b[0m                     \u001b[0;32mpass\u001b[0m\u001b[0;34m\u001b[0m\u001b[0;34m\u001b[0m\u001b[0m\n\u001b[0;32m---> 68\u001b[0;31m                 raise ChildProcessError(\"command failed: \\n\" +\n\u001b[0m\u001b[1;32m     69\u001b[0m                                         str(command))\n",
      "\u001b[0;31mChildProcessError\u001b[0m: command failed: \n./job_emin_ana.sh",
      "\nThe above exception was the direct cause of the following exception:\n",
      "\u001b[0;31mOSError\u001b[0m                                   Traceback (most recent call last)",
      "\u001b[0;32m~/PyGromosTools/pygromos/simulations/modules/general_simulation_modules.py\u001b[0m in \u001b[0;36msimulation\u001b[0;34m(in_gromos_simulation_system, override_project_dir, step_name, in_imd_path, submission_system, simulation_runs, equilibration_runs, previous_simulation_run, force_simulation, analysis_script, analysis_control_dict, verbose, verbose_lvl, _template_imd_path)\u001b[0m\n\u001b[1;32m    169\u001b[0m         \u001b[0;32melse\u001b[0m\u001b[0;34m:\u001b[0m\u001b[0;34m\u001b[0m\u001b[0;34m\u001b[0m\u001b[0m\n\u001b[0;32m--> 170\u001b[0;31m             last_jobID = simulation_scheduler.do(in_simSystem=gromos_system, out_dir_path=out_simulation_dir,\n\u001b[0m\u001b[1;32m    171\u001b[0m                                                  \u001b[0msimulation_run_num\u001b[0m\u001b[0;34m=\u001b[0m\u001b[0msimulation_runs\u001b[0m\u001b[0;34m,\u001b[0m \u001b[0mequilibration_run_num\u001b[0m\u001b[0;34m=\u001b[0m\u001b[0mequilibration_runs\u001b[0m\u001b[0;34m,\u001b[0m\u001b[0;34m\u001b[0m\u001b[0;34m\u001b[0m\u001b[0m\n",
      "\u001b[0;32m~/PyGromosTools/pygromos/simulations/hpc_queuing/job_scheduling/schedulers/simulation_scheduler.py\u001b[0m in \u001b[0;36mdo\u001b[0;34m(in_simSystem, out_dir_path, simulation_run_num, equilibration_run_num, work_dir, analysis_script_path, submission_system, previous_job_ID, no_double_submit, verbose, verbose_lvl)\u001b[0m\n\u001b[1;32m    171\u001b[0m         \u001b[0mtraceback\u001b[0m\u001b[0;34m.\u001b[0m\u001b[0mprint_exception\u001b[0m\u001b[0;34m(\u001b[0m\u001b[0;34m*\u001b[0m\u001b[0msys\u001b[0m\u001b[0;34m.\u001b[0m\u001b[0mexc_info\u001b[0m\u001b[0;34m(\u001b[0m\u001b[0;34m)\u001b[0m\u001b[0;34m)\u001b[0m\u001b[0;34m\u001b[0m\u001b[0;34m\u001b[0m\u001b[0m\n\u001b[0;32m--> 172\u001b[0;31m         \u001b[0;32mraise\u001b[0m \u001b[0mIOError\u001b[0m\u001b[0;34m(\u001b[0m\u001b[0;34m\"ERROR in SUBMISSION!\"\u001b[0m\u001b[0;34m)\u001b[0m \u001b[0;32mfrom\u001b[0m \u001b[0merr\u001b[0m\u001b[0;34m\u001b[0m\u001b[0;34m\u001b[0m\u001b[0m\n\u001b[0m\u001b[1;32m    173\u001b[0m \u001b[0;34m\u001b[0m\u001b[0m\n",
      "\u001b[0;31mOSError\u001b[0m: ERROR in SUBMISSION!",
      "\nDuring handling of the above exception, another exception occurred:\n",
      "\u001b[0;31mException\u001b[0m                                 Traceback (most recent call last)",
      "\u001b[0;32m/tmp/ipykernel_1681/1840153824.py\u001b[0m in \u001b[0;36m<module>\u001b[0;34m\u001b[0m\n\u001b[0;32m----> 1\u001b[0;31m \u001b[0meminGroSys\u001b[0m \u001b[0;34m=\u001b[0m \u001b[0memin\u001b[0m\u001b[0;34m(\u001b[0m\u001b[0mgroSys\u001b[0m\u001b[0;34m,\u001b[0m \u001b[0min_imd_path\u001b[0m\u001b[0;34m=\u001b[0m\u001b[0mtemplate_emin_vac\u001b[0m\u001b[0;34m)\u001b[0m\u001b[0;34m\u001b[0m\u001b[0;34m\u001b[0m\u001b[0m\n\u001b[0m",
      "\u001b[0;32m~/PyGromosTools/pygromos/simulations/modules/preset_simulation_modules.py\u001b[0m in \u001b[0;36memin\u001b[0;34m(in_gromos_system, step_name, override_project_dir, in_imd_path, submission_system, simulation_runs, equilibration_runs, previous_simulation_run, _template_imd_path, analysis_script)\u001b[0m\n\u001b[1;32m     30\u001b[0m             \u001b[0mtemplate_emin_control_dict\u001b[0m\u001b[0;34m[\u001b[0m\u001b[0;34m'concat'\u001b[0m\u001b[0;34m]\u001b[0m\u001b[0;34m[\u001b[0m\u001b[0;34m'cat_trg'\u001b[0m\u001b[0;34m]\u001b[0m \u001b[0;34m=\u001b[0m \u001b[0;32mFalse\u001b[0m\u001b[0;34m\u001b[0m\u001b[0;34m\u001b[0m\u001b[0m\n\u001b[1;32m     31\u001b[0m \u001b[0;34m\u001b[0m\u001b[0m\n\u001b[0;32m---> 32\u001b[0;31m     return simulation(in_gromos_simulation_system=in_gromos_system, override_project_dir=override_project_dir, previous_simulation_run=previous_simulation_run,\n\u001b[0m\u001b[1;32m     33\u001b[0m                       \u001b[0mstep_name\u001b[0m\u001b[0;34m=\u001b[0m\u001b[0mstep_name\u001b[0m\u001b[0;34m,\u001b[0m \u001b[0min_imd_path\u001b[0m\u001b[0;34m=\u001b[0m\u001b[0min_imd_path\u001b[0m\u001b[0;34m,\u001b[0m \u001b[0msubmission_system\u001b[0m\u001b[0;34m=\u001b[0m\u001b[0msubmission_system\u001b[0m\u001b[0;34m,\u001b[0m\u001b[0;34m\u001b[0m\u001b[0;34m\u001b[0m\u001b[0m\n\u001b[1;32m     34\u001b[0m                       \u001b[0msimulation_runs\u001b[0m\u001b[0;34m=\u001b[0m\u001b[0msimulation_runs\u001b[0m\u001b[0;34m,\u001b[0m \u001b[0mequilibration_runs\u001b[0m\u001b[0;34m=\u001b[0m\u001b[0mequilibration_runs\u001b[0m\u001b[0;34m,\u001b[0m \u001b[0manalysis_control_dict\u001b[0m \u001b[0;34m=\u001b[0m \u001b[0mtemplate_emin_control_dict\u001b[0m\u001b[0;34m,\u001b[0m\u001b[0;34m\u001b[0m\u001b[0;34m\u001b[0m\u001b[0m\n",
      "\u001b[0;32m~/PyGromosTools/pygromos/simulations/modules/general_simulation_modules.py\u001b[0m in \u001b[0;36msimulation\u001b[0;34m(in_gromos_simulation_system, override_project_dir, step_name, in_imd_path, submission_system, simulation_runs, equilibration_runs, previous_simulation_run, force_simulation, analysis_script, analysis_control_dict, verbose, verbose_lvl, _template_imd_path)\u001b[0m\n\u001b[1;32m    174\u001b[0m     \u001b[0;32mexcept\u001b[0m \u001b[0mException\u001b[0m \u001b[0;32mas\u001b[0m \u001b[0merr\u001b[0m\u001b[0;34m:\u001b[0m\u001b[0;34m\u001b[0m\u001b[0;34m\u001b[0m\u001b[0m\n\u001b[1;32m    175\u001b[0m         \u001b[0mtraceback\u001b[0m\u001b[0;34m.\u001b[0m\u001b[0mprint_exception\u001b[0m\u001b[0;34m(\u001b[0m\u001b[0;34m*\u001b[0m\u001b[0msys\u001b[0m\u001b[0;34m.\u001b[0m\u001b[0mexc_info\u001b[0m\u001b[0;34m(\u001b[0m\u001b[0;34m)\u001b[0m\u001b[0;34m)\u001b[0m\u001b[0;34m\u001b[0m\u001b[0;34m\u001b[0m\u001b[0m\n\u001b[0;32m--> 176\u001b[0;31m         \u001b[0;32mraise\u001b[0m \u001b[0mException\u001b[0m\u001b[0;34m(\u001b[0m\u001b[0;34m\"Could not submit the commands\\n\\t\"\u001b[0m\u001b[0;34m+\u001b[0m\u001b[0;34m\"\\n\\t\"\u001b[0m\u001b[0;34m.\u001b[0m\u001b[0mjoin\u001b[0m\u001b[0;34m(\u001b[0m\u001b[0mmap\u001b[0m\u001b[0;34m(\u001b[0m\u001b[0mstr\u001b[0m\u001b[0;34m,\u001b[0m \u001b[0merr\u001b[0m\u001b[0;34m.\u001b[0m\u001b[0margs\u001b[0m\u001b[0;34m)\u001b[0m\u001b[0;34m)\u001b[0m\u001b[0;34m)\u001b[0m\u001b[0;34m\u001b[0m\u001b[0;34m\u001b[0m\u001b[0m\n\u001b[0m\u001b[1;32m    177\u001b[0m \u001b[0;34m\u001b[0m\u001b[0m\n\u001b[1;32m    178\u001b[0m \u001b[0;34m\u001b[0m\u001b[0m\n",
      "\u001b[0;31mException\u001b[0m: Could not submit the commands\n\tERROR in SUBMISSION!"
     ]
    }
   ],
   "source": [
    "eminGroSys = emin(groSys, in_imd_path=template_emin_vac)"
   ]
  },
  {
   "cell_type": "markdown",
   "metadata": {},
   "source": [
    "## Release 3"
   ]
  },
  {
   "cell_type": "markdown",
   "metadata": {},
   "source": [
    "## Hackathlon"
   ]
  },
  {
   "cell_type": "markdown",
   "metadata": {},
   "source": [
    "## Final Disscussion"
   ]
  }
 ],
 "metadata": {
  "interpreter": {
   "hash": "b1b7b2ea43b8e767316eee98e01335d045804d2d47db68b6a5827e187ee91a7e"
  },
  "kernelspec": {
   "display_name": "Python 3.9.7 ('pygro2')",
   "language": "python",
   "name": "python3"
  },
  "language_info": {
   "codemirror_mode": {
    "name": "ipython",
    "version": 3
   },
   "file_extension": ".py",
   "mimetype": "text/x-python",
   "name": "python",
   "nbconvert_exporter": "python",
   "pygments_lexer": "ipython3",
   "version": "3.9.7"
  },
  "orig_nbformat": 4
 },
 "nbformat": 4,
 "nbformat_minor": 2
}
