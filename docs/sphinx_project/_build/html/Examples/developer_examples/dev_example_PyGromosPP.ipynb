{
 "cells": [
  {
   "cell_type": "markdown",
   "metadata": {},
   "source": [
    "# Implemented pyGromosPP programs\n"
   ]
  },
  {
   "cell_type": "markdown",
   "metadata": {},
   "source": [
    "## Ran_Box\n",
    "The program ran_box can generate liquid conformations from a single molecule topology and coordinate file. In the following notebook we show an example for the ussage of this program."
   ]
  },
  {
   "cell_type": "code",
   "execution_count": 1,
   "metadata": {
    "execution": {
     "iopub.execute_input": "2022-04-05T06:41:15.959799Z",
     "iopub.status.busy": "2022-04-05T06:41:15.959516Z",
     "iopub.status.idle": "2022-04-05T06:41:16.876348Z",
     "shell.execute_reply": "2022-04-05T06:41:16.875488Z"
    }
   },
   "outputs": [
    {
     "data": {
      "application/vnd.jupyter.widget-view+json": {
       "model_id": "6a88cfc90d2d49febcdfd4a3b1fdc116",
       "version_major": 2,
       "version_minor": 0
      },
      "text/plain": []
     },
     "metadata": {},
     "output_type": "display_data"
    }
   ],
   "source": [
    "import os\n",
    "from pygromos.gromos.pyGromosPP.ran_box import ran_box\n",
    "from pygromos.files.coord.cnf import Cnf"
   ]
  },
  {
   "cell_type": "code",
   "execution_count": 2,
   "metadata": {
    "execution": {
     "iopub.execute_input": "2022-04-05T06:41:16.878960Z",
     "iopub.status.busy": "2022-04-05T06:41:16.878759Z",
     "iopub.status.idle": "2022-04-05T06:41:16.882497Z",
     "shell.execute_reply": "2022-04-05T06:41:16.881619Z"
    }
   },
   "outputs": [],
   "source": [
    "# define the paths to the single molecule topology and the single molecule conformation file\n",
    "root_dir = os.path.abspath(\"../example_files/tool_examples\")\n",
    "in_cnf_path = root_dir +\"/ran_box.cnf\"\n",
    "in_top_path = root_dir +\"/ran_box.top\"\n"
   ]
  },
  {
   "cell_type": "code",
   "execution_count": 3,
   "metadata": {
    "execution": {
     "iopub.execute_input": "2022-04-05T06:41:16.885726Z",
     "iopub.status.busy": "2022-04-05T06:41:16.885414Z",
     "iopub.status.idle": "2022-04-05T06:41:16.889140Z",
     "shell.execute_reply": "2022-04-05T06:41:16.888409Z"
    }
   },
   "outputs": [],
   "source": [
    "#define some properties for the new liquid conformation\n",
    "nmols=150 #42 #The number of molecules in the liquid box\n",
    "dens=1000 #The density of the liquid"
   ]
  },
  {
   "cell_type": "code",
   "execution_count": 4,
   "metadata": {
    "execution": {
     "iopub.execute_input": "2022-04-05T06:41:16.891529Z",
     "iopub.status.busy": "2022-04-05T06:41:16.891331Z",
     "iopub.status.idle": "2022-04-05T06:41:16.970030Z",
     "shell.execute_reply": "2022-04-05T06:41:16.969094Z"
    }
   },
   "outputs": [
    {
     "ename": "OSError",
     "evalue": "[Errno Could not find File: ] /home/mlehner/PyGromosTools/docs/sphinx_project/Examples/example_files/tool_examples/ran_box.top",
     "output_type": "error",
     "traceback": [
      "\u001b[0;31m---------------------------------------------------------------------------\u001b[0m",
      "\u001b[0;31mOSError\u001b[0m                                   Traceback (most recent call last)",
      "\u001b[0;32m/tmp/ipykernel_9569/213488663.py\u001b[0m in \u001b[0;36m<module>\u001b[0;34m\u001b[0m\n\u001b[1;32m      1\u001b[0m \u001b[0;31m#execute ran_box\u001b[0m\u001b[0;34m\u001b[0m\u001b[0;34m\u001b[0m\u001b[0m\n\u001b[0;32m----> 2\u001b[0;31m out_cnf = ran_box(in_top_path= in_top_path,\n\u001b[0m\u001b[1;32m      3\u001b[0m         \u001b[0min_cnf_path\u001b[0m\u001b[0;34m=\u001b[0m \u001b[0min_cnf_path\u001b[0m\u001b[0;34m,\u001b[0m\u001b[0;34m\u001b[0m\u001b[0;34m\u001b[0m\u001b[0m\n\u001b[1;32m      4\u001b[0m         \u001b[0mout_cnf_path\u001b[0m\u001b[0;34m=\u001b[0m \u001b[0mroot_dir\u001b[0m\u001b[0;34m+\u001b[0m\u001b[0;34m\"/out_ran_\"\u001b[0m\u001b[0;34m+\u001b[0m\u001b[0mstr\u001b[0m\u001b[0;34m(\u001b[0m\u001b[0mnmols\u001b[0m\u001b[0;34m)\u001b[0m\u001b[0;34m+\u001b[0m\u001b[0;34m\"mol.cnf\"\u001b[0m\u001b[0;34m,\u001b[0m\u001b[0;34m\u001b[0m\u001b[0;34m\u001b[0m\u001b[0m\n\u001b[1;32m      5\u001b[0m         \u001b[0mnmolecule\u001b[0m \u001b[0;34m=\u001b[0m \u001b[0mnmols\u001b[0m\u001b[0;34m,\u001b[0m\u001b[0;34m\u001b[0m\u001b[0;34m\u001b[0m\u001b[0m\n",
      "\u001b[0;32m~/PyGromosTools/pygromos/gromos/pyGromosPP/ran_box.py\u001b[0m in \u001b[0;36mran_box\u001b[0;34m(in_top_path, in_cnf_path, out_cnf_path, periodic_boundary_condition, nmolecule, dens, threshold, layer, boxsize, fixfirst, seed, _binary_name, verbose, return_command_only)\u001b[0m\n\u001b[1;32m     33\u001b[0m ) -> str:\n\u001b[1;32m     34\u001b[0m \u001b[0;34m\u001b[0m\u001b[0m\n\u001b[0;32m---> 35\u001b[0;31m     \u001b[0mtop\u001b[0m \u001b[0;34m=\u001b[0m \u001b[0mTop\u001b[0m\u001b[0;34m(\u001b[0m\u001b[0min_value\u001b[0m\u001b[0;34m=\u001b[0m\u001b[0min_top_path\u001b[0m\u001b[0;34m)\u001b[0m\u001b[0;34m\u001b[0m\u001b[0;34m\u001b[0m\u001b[0m\n\u001b[0m\u001b[1;32m     36\u001b[0m     \u001b[0mcnf\u001b[0m \u001b[0;34m=\u001b[0m \u001b[0mCnf\u001b[0m\u001b[0;34m(\u001b[0m\u001b[0min_value\u001b[0m\u001b[0;34m=\u001b[0m\u001b[0min_cnf_path\u001b[0m\u001b[0;34m)\u001b[0m\u001b[0;34m\u001b[0m\u001b[0;34m\u001b[0m\u001b[0m\n\u001b[1;32m     37\u001b[0m     \u001b[0mcog\u001b[0m \u001b[0;34m=\u001b[0m \u001b[0mnp\u001b[0m\u001b[0;34m.\u001b[0m\u001b[0marray\u001b[0m\u001b[0;34m(\u001b[0m\u001b[0mcnf\u001b[0m\u001b[0;34m.\u001b[0m\u001b[0mcenter_of_geometry\u001b[0m\u001b[0;34m(\u001b[0m\u001b[0;34m)\u001b[0m\u001b[0;34m)\u001b[0m\u001b[0;34m\u001b[0m\u001b[0;34m\u001b[0m\u001b[0m\n",
      "\u001b[0;32m~/PyGromosTools/pygromos/files/topology/top.py\u001b[0m in \u001b[0;36m__init__\u001b[0;34m(self, in_value, _future_file)\u001b[0m\n\u001b[1;32m     46\u001b[0m     \u001b[0;32mdef\u001b[0m \u001b[0m__init__\u001b[0m\u001b[0;34m(\u001b[0m\u001b[0mself\u001b[0m\u001b[0;34m,\u001b[0m \u001b[0min_value\u001b[0m\u001b[0;34m:\u001b[0m \u001b[0mUnion\u001b[0m\u001b[0;34m[\u001b[0m\u001b[0mstr\u001b[0m\u001b[0;34m,\u001b[0m \u001b[0mdict\u001b[0m\u001b[0;34m,\u001b[0m \u001b[0mTop_Type\u001b[0m\u001b[0;34m]\u001b[0m\u001b[0;34m,\u001b[0m \u001b[0m_future_file\u001b[0m\u001b[0;34m:\u001b[0m \u001b[0mbool\u001b[0m \u001b[0;34m=\u001b[0m \u001b[0;32mFalse\u001b[0m\u001b[0;34m)\u001b[0m\u001b[0;34m:\u001b[0m\u001b[0;34m\u001b[0m\u001b[0;34m\u001b[0m\u001b[0m\n\u001b[1;32m     47\u001b[0m         \u001b[0;32mif\u001b[0m \u001b[0mtype\u001b[0m\u001b[0;34m(\u001b[0m\u001b[0min_value\u001b[0m\u001b[0;34m)\u001b[0m \u001b[0;32mis\u001b[0m \u001b[0mstr\u001b[0m\u001b[0;34m:\u001b[0m\u001b[0;34m\u001b[0m\u001b[0;34m\u001b[0m\u001b[0m\n\u001b[0;32m---> 48\u001b[0;31m             \u001b[0msuper\u001b[0m\u001b[0;34m(\u001b[0m\u001b[0;34m)\u001b[0m\u001b[0;34m.\u001b[0m\u001b[0m__init__\u001b[0m\u001b[0;34m(\u001b[0m\u001b[0min_value\u001b[0m\u001b[0;34m=\u001b[0m\u001b[0min_value\u001b[0m\u001b[0;34m,\u001b[0m \u001b[0m_future_file\u001b[0m\u001b[0;34m=\u001b[0m\u001b[0m_future_file\u001b[0m\u001b[0;34m)\u001b[0m\u001b[0;34m\u001b[0m\u001b[0;34m\u001b[0m\u001b[0m\n\u001b[0m\u001b[1;32m     49\u001b[0m         \u001b[0;32melif\u001b[0m \u001b[0min_value\u001b[0m \u001b[0;32mis\u001b[0m \u001b[0;32mNone\u001b[0m\u001b[0;34m:\u001b[0m\u001b[0;34m\u001b[0m\u001b[0;34m\u001b[0m\u001b[0m\n\u001b[1;32m     50\u001b[0m             \u001b[0mself\u001b[0m\u001b[0;34m.\u001b[0m\u001b[0mpath\u001b[0m \u001b[0;34m=\u001b[0m \u001b[0;34m\"\"\u001b[0m\u001b[0;34m\u001b[0m\u001b[0;34m\u001b[0m\u001b[0m\n",
      "\u001b[0;32m~/PyGromosTools/pygromos/files/_basics/_general_gromos_file.py\u001b[0m in \u001b[0;36m__init__\u001b[0;34m(self, in_value, _future_file)\u001b[0m\n\u001b[1;32m     40\u001b[0m                 \u001b[0mself\u001b[0m\u001b[0;34m.\u001b[0m\u001b[0mread_blocks\u001b[0m\u001b[0;34m(\u001b[0m\u001b[0;34m)\u001b[0m\u001b[0;34m\u001b[0m\u001b[0;34m\u001b[0m\u001b[0m\n\u001b[1;32m     41\u001b[0m             \u001b[0;32melse\u001b[0m\u001b[0;34m:\u001b[0m\u001b[0;34m\u001b[0m\u001b[0;34m\u001b[0m\u001b[0m\n\u001b[0;32m---> 42\u001b[0;31m                 \u001b[0;32mraise\u001b[0m \u001b[0mIOError\u001b[0m\u001b[0;34m(\u001b[0m\u001b[0;34m\"Could not find File: \"\u001b[0m\u001b[0;34m,\u001b[0m \u001b[0min_value\u001b[0m\u001b[0;34m)\u001b[0m\u001b[0;34m\u001b[0m\u001b[0;34m\u001b[0m\u001b[0m\n\u001b[0m\u001b[1;32m     43\u001b[0m \u001b[0;34m\u001b[0m\u001b[0m\n\u001b[1;32m     44\u001b[0m         \u001b[0;32melif\u001b[0m \u001b[0misinstance\u001b[0m\u001b[0;34m(\u001b[0m\u001b[0mtype\u001b[0m\u001b[0;34m(\u001b[0m\u001b[0min_value\u001b[0m\u001b[0;34m)\u001b[0m\u001b[0;34m,\u001b[0m \u001b[0m__class__\u001b[0m\u001b[0;34m)\u001b[0m\u001b[0;34m:\u001b[0m\u001b[0;34m\u001b[0m\u001b[0;34m\u001b[0m\u001b[0m\n",
      "\u001b[0;31mOSError\u001b[0m: [Errno Could not find File: ] /home/mlehner/PyGromosTools/docs/sphinx_project/Examples/example_files/tool_examples/ran_box.top"
     ]
    }
   ],
   "source": [
    "#execute ran_box\n",
    "out_cnf = ran_box(in_top_path= in_top_path,\n",
    "        in_cnf_path= in_cnf_path,\n",
    "        out_cnf_path= root_dir+\"/out_ran_\"+str(nmols)+\"mol.cnf\",\n",
    "        nmolecule = nmols,\n",
    "        dens = dens)"
   ]
  },
  {
   "cell_type": "code",
   "execution_count": 5,
   "metadata": {
    "execution": {
     "iopub.execute_input": "2022-04-05T06:41:16.972643Z",
     "iopub.status.busy": "2022-04-05T06:41:16.972436Z",
     "iopub.status.idle": "2022-04-05T06:41:16.982332Z",
     "shell.execute_reply": "2022-04-05T06:41:16.981063Z"
    }
   },
   "outputs": [
    {
     "ename": "NameError",
     "evalue": "name 'out_cnf' is not defined",
     "output_type": "error",
     "traceback": [
      "\u001b[0;31m---------------------------------------------------------------------------\u001b[0m",
      "\u001b[0;31mNameError\u001b[0m                                 Traceback (most recent call last)",
      "\u001b[0;32m/tmp/ipykernel_9569/3408020437.py\u001b[0m in \u001b[0;36m<module>\u001b[0;34m\u001b[0m\n\u001b[1;32m      1\u001b[0m \u001b[0;31m#write the conformation to a pdb file\u001b[0m\u001b[0;34m\u001b[0m\u001b[0;34m\u001b[0m\u001b[0m\n\u001b[0;32m----> 2\u001b[0;31m \u001b[0mcnfF\u001b[0m \u001b[0;34m=\u001b[0m \u001b[0mCnf\u001b[0m\u001b[0;34m(\u001b[0m\u001b[0mout_cnf\u001b[0m\u001b[0;34m)\u001b[0m\u001b[0;34m\u001b[0m\u001b[0;34m\u001b[0m\u001b[0m\n\u001b[0m\u001b[1;32m      3\u001b[0m \u001b[0mcnfF\u001b[0m\u001b[0;34m.\u001b[0m\u001b[0mwrite_pdb\u001b[0m\u001b[0;34m(\u001b[0m\u001b[0mout_cnf\u001b[0m\u001b[0;34m.\u001b[0m\u001b[0mreplace\u001b[0m\u001b[0;34m(\u001b[0m\u001b[0;34m\".cnf\"\u001b[0m\u001b[0;34m,\u001b[0m \u001b[0;34m\".pdb\"\u001b[0m\u001b[0;34m)\u001b[0m\u001b[0;34m)\u001b[0m\u001b[0;34m\u001b[0m\u001b[0;34m\u001b[0m\u001b[0m\n",
      "\u001b[0;31mNameError\u001b[0m: name 'out_cnf' is not defined"
     ]
    }
   ],
   "source": [
    "#write the conformation to a pdb file\n",
    "cnfF = Cnf(out_cnf)\n",
    "cnfF.write_pdb(out_cnf.replace(\".cnf\", \".pdb\"))"
   ]
  },
  {
   "cell_type": "code",
   "execution_count": 6,
   "metadata": {
    "execution": {
     "iopub.execute_input": "2022-04-05T06:41:16.985131Z",
     "iopub.status.busy": "2022-04-05T06:41:16.984899Z",
     "iopub.status.idle": "2022-04-05T06:41:16.993371Z",
     "shell.execute_reply": "2022-04-05T06:41:16.992457Z"
    }
   },
   "outputs": [
    {
     "ename": "NameError",
     "evalue": "name 'cnfF' is not defined",
     "output_type": "error",
     "traceback": [
      "\u001b[0;31m---------------------------------------------------------------------------\u001b[0m",
      "\u001b[0;31mNameError\u001b[0m                                 Traceback (most recent call last)",
      "\u001b[0;32m/tmp/ipykernel_9569/805740455.py\u001b[0m in \u001b[0;36m<module>\u001b[0;34m\u001b[0m\n\u001b[1;32m      1\u001b[0m \u001b[0;31m# printing the new liquid conformation. The pdb can visualized with software packages like pymol.\u001b[0m\u001b[0;34m\u001b[0m\u001b[0;34m\u001b[0m\u001b[0m\n\u001b[0;32m----> 2\u001b[0;31m \u001b[0mcnfF\u001b[0m\u001b[0;34m\u001b[0m\u001b[0;34m\u001b[0m\u001b[0m\n\u001b[0m",
      "\u001b[0;31mNameError\u001b[0m: name 'cnfF' is not defined"
     ]
    }
   ],
   "source": [
    "# printing the new liquid conformation. The pdb can visualized with software packages like pymol.\n",
    "cnfF"
   ]
  },
  {
   "cell_type": "code",
   "execution_count": 7,
   "metadata": {
    "execution": {
     "iopub.execute_input": "2022-04-05T06:41:16.996021Z",
     "iopub.status.busy": "2022-04-05T06:41:16.995766Z",
     "iopub.status.idle": "2022-04-05T06:41:17.005702Z",
     "shell.execute_reply": "2022-04-05T06:41:17.004728Z"
    }
   },
   "outputs": [
    {
     "ename": "NameError",
     "evalue": "name 'cnfF' is not defined",
     "output_type": "error",
     "traceback": [
      "\u001b[0;31m---------------------------------------------------------------------------\u001b[0m",
      "\u001b[0;31mNameError\u001b[0m                                 Traceback (most recent call last)",
      "\u001b[0;32m/tmp/ipykernel_9569/3009082497.py\u001b[0m in \u001b[0;36m<module>\u001b[0;34m\u001b[0m\n\u001b[0;32m----> 1\u001b[0;31m \u001b[0mcnfF\u001b[0m\u001b[0;34m.\u001b[0m\u001b[0mvisualize\u001b[0m\u001b[0;34m(\u001b[0m\u001b[0;34m)\u001b[0m\u001b[0;34m\u001b[0m\u001b[0;34m\u001b[0m\u001b[0m\n\u001b[0m",
      "\u001b[0;31mNameError\u001b[0m: name 'cnfF' is not defined"
     ]
    }
   ],
   "source": [
    "cnfF.visualize()"
   ]
  },
  {
   "cell_type": "code",
   "execution_count": null,
   "metadata": {},
   "outputs": [],
   "source": []
  },
  {
   "cell_type": "code",
   "execution_count": null,
   "metadata": {},
   "outputs": [],
   "source": []
  }
 ],
 "metadata": {
  "language_info": {
   "codemirror_mode": {
    "name": "ipython",
    "version": 3
   },
   "file_extension": ".py",
   "mimetype": "text/x-python",
   "name": "python",
   "nbconvert_exporter": "python",
   "pygments_lexer": "ipython3",
   "version": "3.9.7"
  },
  "widgets": {
   "application/vnd.jupyter.widget-state+json": {
    "state": {
     "6a88cfc90d2d49febcdfd4a3b1fdc116": {
      "model_module": "nglview-js-widgets",
      "model_module_version": "3.0.1",
      "model_name": "ColormakerRegistryModel",
      "state": {
       "_dom_classes": [],
       "_model_module": "nglview-js-widgets",
       "_model_module_version": "3.0.1",
       "_model_name": "ColormakerRegistryModel",
       "_msg_ar": [],
       "_msg_q": [],
       "_ready": false,
       "_view_count": null,
       "_view_module": "nglview-js-widgets",
       "_view_module_version": "3.0.1",
       "_view_name": "ColormakerRegistryView",
       "layout": "IPY_MODEL_d32b1e570e6d40ffa80350fb58763b61"
      }
     },
     "d32b1e570e6d40ffa80350fb58763b61": {
      "model_module": "@jupyter-widgets/base",
      "model_module_version": "1.2.0",
      "model_name": "LayoutModel",
      "state": {
       "_model_module": "@jupyter-widgets/base",
       "_model_module_version": "1.2.0",
       "_model_name": "LayoutModel",
       "_view_count": null,
       "_view_module": "@jupyter-widgets/base",
       "_view_module_version": "1.2.0",
       "_view_name": "LayoutView",
       "align_content": null,
       "align_items": null,
       "align_self": null,
       "border": null,
       "bottom": null,
       "display": null,
       "flex": null,
       "flex_flow": null,
       "grid_area": null,
       "grid_auto_columns": null,
       "grid_auto_flow": null,
       "grid_auto_rows": null,
       "grid_column": null,
       "grid_gap": null,
       "grid_row": null,
       "grid_template_areas": null,
       "grid_template_columns": null,
       "grid_template_rows": null,
       "height": null,
       "justify_content": null,
       "justify_items": null,
       "left": null,
       "margin": null,
       "max_height": null,
       "max_width": null,
       "min_height": null,
       "min_width": null,
       "object_fit": null,
       "object_position": null,
       "order": null,
       "overflow": null,
       "overflow_x": null,
       "overflow_y": null,
       "padding": null,
       "right": null,
       "top": null,
       "visibility": null,
       "width": null
      }
     }
    },
    "version_major": 2,
    "version_minor": 0
   }
  }
 },
 "nbformat": 4,
 "nbformat_minor": 4
}
