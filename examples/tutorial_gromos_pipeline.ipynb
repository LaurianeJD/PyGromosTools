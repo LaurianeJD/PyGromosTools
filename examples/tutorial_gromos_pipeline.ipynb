{
 "cells": [
  {
   "cell_type": "markdown",
   "metadata": {
    "pycharm": {
     "name": "#%% md\n"
    }
   },
   "source": [
    "# Gromos Tutorial\n",
    "This tutorial will provide a quick introduction to how to setup, perform and analyze a MD simulation of a peptide in Gromos.\n",
    "\n",
    "First we will generated the required input files, afterwards the simulation will be prepared with energy minimizations and equilibration.\n",
    "Finally a short MD simulation will be executed and quickly analyzed.\n",
    "\n",
    "But first some minor definitions will be prepared."
   ]
  },
  {
   "cell_type": "code",
   "execution_count": 1,
   "metadata": {},
   "outputs": [],
   "source": [
    "import os\n",
    "\n",
    "# Check if the path to this pacakge is set, else try to add it.\n",
    "try:\n",
    "    import pygromos\n",
    "except:\n",
    "    import os, sys, copy\n",
    "    root_dir = os.getcwd()\n",
    "    sys.path.append(root_dir+\"/..\")\n",
    "\n",
    "    #if package is not installed and path not set correct - this helps you out :)\n",
    "    import pygromos\n",
    "\n",
    "from pygromos.utils import bash\n"
   ]
  },
  {
   "cell_type": "code",
   "execution_count": 2,
   "metadata": {},
   "outputs": [],
   "source": [
    "#General path definitions:\n",
    "## Project dir - The project dir will contain  all files and results generated from this notebook. \n",
    "project_dir = os.path.abspath(os.path.dirname(pygromos.__file__)+\"/../examples/example_files/Tutorial_System\")\n",
    "input_dir = project_dir+\"/input\" # contains prepared files (pdb of the peptide)\n",
    "\n",
    "## Gromos Bin Path\n",
    "gromosXX_bin = \"/home/bschroed/Documents/projects/gromosXX/gromosXX/build/bin\"\n",
    "gromosPP_bin = None #None uses the Path variable - can be used . if you require a specific compiled gromos version, add a path here.\n",
    "\n"
   ]
  },
  {
   "cell_type": "markdown",
   "metadata": {
    "pycharm": {
     "name": "#%% md\n"
    }
   },
   "source": [
    "## Build the input files\n",
    "When a simulation study of a particular system or process is to be carried out, a number of choices have to\n",
    "be made with respect to the set-up of the simulation. \n",
    "\n",
    "In PyGromosTools, the central hub to manage all these files is a GromosSystem object. Each file can be stored or generated with this object and it can be used to construct the system, that should be simulated.\n",
    "\n",
    "\n",
    "The essential files of a Simulation are:\n",
    "* a topology file, containing all the topological and force-field information of the molecular system to be studied.\n",
    "* a coordinate file, representing the system of interest.\n",
    "* a simulation parameter file, telling the simulation engine, which simulation technique should be used and which physical parameters should be set.\n",
    "  \n"
   ]
  },
  {
   "cell_type": "code",
   "execution_count": 3,
   "metadata": {},
   "outputs": [
    {
     "data": {
      "application/vnd.jupyter.widget-view+json": {
       "model_id": "4190e7d3ecac4676854b6e2f769a3cd0",
       "version_major": 2,
       "version_minor": 0
      },
      "text/plain": []
     },
     "metadata": {},
     "output_type": "display_data"
    },
    {
     "name": "stderr",
     "output_type": "stream",
     "text": [
      "Warning: importing 'simtk.openmm' is deprecated.  Import 'openmm' instead.\n",
      "Warning: Unable to load toolkit 'OpenEye Toolkit'. The Open Force Field Toolkit does not require the OpenEye Toolkits, and can use RDKit/AmberTools instead. However, if you have a valid license for the OpenEye Toolkits, consider installing them for faster performance and additional file format support: https://docs.eyesopen.com/toolkits/python/quickstart-python/linuxosx.html OpenEye offers free Toolkit licenses for academics: https://www.eyesopen.com/academic-licensing\n",
      "/home/bschroed/Documents/projects/PyGromosTools/pygromos/files/gromos_system/gromos_system.py:847: UserWarning: Did not change file path as its only promised None\n",
      "  warnings.warn(\"Did not change file path as its only promised \" + str(file_obj.path))\n"
     ]
    }
   ],
   "source": [
    "from pygromos.files.gromos_system import Gromos_System\n",
    "\n",
    "# Build Gromos System object\n",
    "build_system = Gromos_System(work_folder=project_dir, system_name='peptide')\n",
    "\n",
    "#set file building folder\n",
    "build_system.work_folder = bash.make_folder(project_dir+\"/a_build_initial_files\")\n"
   ]
  },
  {
   "cell_type": "markdown",
   "metadata": {},
   "source": [
    "**Expert Tip**:\n",
    "Whenever you wonder about what a class or a function in our package does, you can use the standard help function of Python to get the information of the Docstring of the source code! This often helps understanding the code."
   ]
  },
  {
   "cell_type": "code",
   "execution_count": 4,
   "metadata": {},
   "outputs": [
    {
     "name": "stdout",
     "output_type": "stream",
     "text": [
      "Help on Gromos_System in module pygromos.files.gromos_system.gromos_system object:\n",
      "\n",
      "class Gromos_System(builtins.object)\n",
      " |  Gromos_System(work_folder: str, system_name: str, rdkitMol: rdkit.Chem.rdchem.Mol = None, in_mol2_file: str = None, readIn=True, Forcefield: pygromos.files.gromos_system.ff.forcefield_system.forcefield_system = <pygromos.files.gromos_system.ff.forcefield_system.forcefield_system object at 0x7f42282f2580>, auto_convert: bool = False, adapt_imd_automatically: bool = True, verbose: bool = False, in_smiles: str = None, in_top_path: str = None, in_cnf_path: str = None, in_imd_path: str = None, in_disres_path: str = None, in_ptp_path: str = None, in_posres_path: str = None, in_refpos_path: str = None, in_qmmm_path: str = None, in_gromosXX_bin_dir: str = None, in_gromosPP_bin_dir: str = None)\n",
      " |  \n",
      " |  Methods defined here:\n",
      " |  \n",
      " |  __deepcopy__(self, memo)\n",
      " |  \n",
      " |  __getstate__(self)\n",
      " |      preperation for pickling:\n",
      " |      remove the non trivial pickling parts\n",
      " |  \n",
      " |  __init__(self, work_folder: str, system_name: str, rdkitMol: rdkit.Chem.rdchem.Mol = None, in_mol2_file: str = None, readIn=True, Forcefield: pygromos.files.gromos_system.ff.forcefield_system.forcefield_system = <pygromos.files.gromos_system.ff.forcefield_system.forcefield_system object at 0x7f42282f2580>, auto_convert: bool = False, adapt_imd_automatically: bool = True, verbose: bool = False, in_smiles: str = None, in_top_path: str = None, in_cnf_path: str = None, in_imd_path: str = None, in_disres_path: str = None, in_ptp_path: str = None, in_posres_path: str = None, in_refpos_path: str = None, in_qmmm_path: str = None, in_gromosXX_bin_dir: str = None, in_gromosPP_bin_dir: str = None)\n",
      " |          The Gromos_System class is the central unit of PyGromosTools for files and states.\n",
      " |          With this class all files can be read-in or the files can be automatically generated from smiles.\n",
      " |          Additionally to that can all gromos++ functions be used from the Gromos System, so system generation can be easily accomplished.\n",
      " |      \n",
      " |          if you want to remove all binary checks, do the following:\n",
      " |          >>> from pygromos.files.gromos_system.gromos_system import Gromos_System\n",
      " |          >>> Gromos_System._gromos_noBinary_checks = True\n",
      " |          >>> sys = Gromos_System()\n",
      " |      \n",
      " |      Parameters\n",
      " |      ----------\n",
      " |      work_folder : str\n",
      " |          This gives the initial working folder for the system.\n",
      " |      system_name : str\n",
      " |          the name of the system, also used as file prefix\n",
      " |      in_smiles : str, optional\n",
      " |          Molecule input SMILES for file generation, by default None\n",
      " |      in_top_path : str, optional\n",
      " |          input Gromos topology path (.top), by default None\n",
      " |      in_cnf_path : str, optional\n",
      " |          input Gromos coordinate path (.cnf), by default None\n",
      " |      in_imd_path : str, optional\n",
      " |          input Gromos simulation parameters path (.imd), by default None\n",
      " |      in_disres_path : str, optional\n",
      " |          input Gromos distance restraint path (.disres), by default None\n",
      " |      in_ptp_path : str, optional\n",
      " |          input pertubation file for free energy calculations (.ptp), by default None\n",
      " |      in_posres_path : str, optional\n",
      " |          input position restraints file (.por), by default None\n",
      " |      in_qmmm_path: str, optional\n",
      " |          qmmm parameter file (.qmmm), by default None\n",
      " |      in_refpos_path : str, optional\n",
      " |          input reference position file (.rpf), by default None\n",
      " |      in_gromosXX_bin_dir : str, optional\n",
      " |          path to the binary dir of GromosXX, by default None -> uses the set binaries in the PATH variable\n",
      " |      in_gromosPP_bin_dir : str, optional\n",
      " |          path to the binary dir of GromosPP, by default None -> uses the set binaries in the PATH variable\n",
      " |      rdkitMol : Chem.rdchem.Mol, optional\n",
      " |          input rdkit Molecule, by default None\n",
      " |      in_mol2_file : str, optional\n",
      " |          path to input mol2 file, by default None\n",
      " |      readIn : bool, optional\n",
      " |          readIn all provided files?, by default True\n",
      " |      Forcefield : forcefield_system, optional\n",
      " |          input PyGromos - forcefield Class , by default forcefield_system()\n",
      " |      auto_convert : bool, optional\n",
      " |          automatically convert rdkit MOL and smiles to gromos files, by default False\n",
      " |      adapt_imd_automatically : bool, optional\n",
      " |          adjust the input imd file to the GromosSystem, by default True\n",
      " |      verbose : bool, optional\n",
      " |          Stay a while and listen!, by default False\n",
      " |      \n",
      " |      Raises\n",
      " |      ------\n",
      " |      Warning\n",
      " |          Rises warning if files are not present.\n",
      " |  \n",
      " |  __repr__(self) -> str\n",
      " |      Return repr(self).\n",
      " |  \n",
      " |  __setstate__(self, state)\n",
      " |  \n",
      " |  __str__(self) -> str\n",
      " |      Return str(self).\n",
      " |  \n",
      " |  adapt_imd(self, not_ligand_residues: List[str] = [])\n",
      " |  \n",
      " |  auto_convert(self)\n",
      " |  \n",
      " |  copy(self)\n",
      " |  \n",
      " |  generate_posres(self, residues: list = [], keep_residues: bool = True, verbose: bool = False)\n",
      " |  \n",
      " |  get_file_paths(self) -> Dict[str, str]\n",
      " |          get the paths of the files in a dict.\n",
      " |      Returns\n",
      " |      -------\n",
      " |      Dict[str, str]\n",
      " |          returns alle file paths, with attribute file name as key.\n",
      " |  \n",
      " |  get_script_generation_command(self, var_name: str = None, var_prefixes: str = '') -> str\n",
      " |  \n",
      " |  parse_attribute_files(self, file_mapping: Dict[str, str], readIn: bool = True, verbose: bool = False)\n",
      " |          This function sets dynamically builds the output folder, the file objs of this class and checks their dependencies.\n",
      " |      \n",
      " |      Parameters\n",
      " |      ----------\n",
      " |      file_mapping: Dict[str, Union[str, None]]\n",
      " |          attribute name: input path\n",
      " |      \n",
      " |      Returns\n",
      " |      -------\n",
      " |  \n",
      " |  prepare_for_simulation(self, not_ligand_residues: List[str] = [])\n",
      " |  \n",
      " |  rdkit2Gromos(self)\n",
      " |  \n",
      " |  rdkit2GromosName(self) -> str\n",
      " |  \n",
      " |  rdkitImport(self, inputMol: rdkit.Chem.rdchem.Mol)\n",
      " |  \n",
      " |  read_files(self, verbose: bool = False)\n",
      " |  \n",
      " |  rebase_files(self)\n",
      " |  \n",
      " |  save(self, path: Union[str, _io.FileIO] = None, safe: bool = True) -> str\n",
      " |      This method stores the Class as binary obj to a given path or fileBuffer.\n",
      " |  \n",
      " |  work_folder_no_update(self, work_folder: str)\n",
      " |      # Updates the work folder without updating all file paths\n",
      " |  \n",
      " |  write_files(self, cnf: bool = False, imd: bool = False, top: bool = False, ptp: bool = False, disres: bool = False, posres: bool = False, refpos: bool = False, qmmm: bool = False, mol: bool = False, all: bool = True, verbose: bool = False)\n",
      " |  \n",
      " |  ----------------------------------------------------------------------\n",
      " |  Class methods defined here:\n",
      " |  \n",
      " |  load(path: Union[str, _io.FileIO] = None) -> object from builtins.type\n",
      " |      This method stores the Class as binary obj to a given path or fileBuffer.\n",
      " |  \n",
      " |  ----------------------------------------------------------------------\n",
      " |  Readonly properties defined here:\n",
      " |  \n",
      " |  all_file_paths\n",
      " |      Returns\n",
      " |      -------\n",
      " |  \n",
      " |  all_files\n",
      " |      Returns\n",
      " |      -------\n",
      " |  \n",
      " |  ----------------------------------------------------------------------\n",
      " |  Data descriptors defined here:\n",
      " |  \n",
      " |  __dict__\n",
      " |      dictionary for instance variables (if defined)\n",
      " |  \n",
      " |  __weakref__\n",
      " |      list of weak references to the object (if defined)\n",
      " |  \n",
      " |  cnf\n",
      " |  \n",
      " |  disres\n",
      " |  \n",
      " |  gromosPP\n",
      " |  \n",
      " |  gromosPP_bin_dir\n",
      " |  \n",
      " |  gromosXX\n",
      " |  \n",
      " |  gromosXX_bin_dir\n",
      " |  \n",
      " |  imd\n",
      " |  \n",
      " |  name\n",
      " |  \n",
      " |  posres\n",
      " |  \n",
      " |  ptp\n",
      " |  \n",
      " |  qmmm\n",
      " |  \n",
      " |  refpos\n",
      " |  \n",
      " |  top\n",
      " |  \n",
      " |  work_folder\n",
      " |  \n",
      " |  ----------------------------------------------------------------------\n",
      " |  Data and other attributes defined here:\n",
      " |  \n",
      " |  __annotations__ = {'_checkpoint_path': <class 'str'>, '_future_promise...\n",
      " |  \n",
      " |  optional_files = {'disres': <class 'pygromos.files.topology.disres.Dis...\n",
      " |  \n",
      " |  required_files = {'cnf': <class 'pygromos.files.coord.cnf.Cnf'>, 'imd'...\n",
      "\n"
     ]
    }
   ],
   "source": [
    "help(build_system)"
   ]
  },
  {
   "cell_type": "markdown",
   "metadata": {},
   "source": [
    "### The Topology File\n",
    "The first task is to generate a molecular topology file containing the topological and force-field data concerning the molecular system under consideration. Specifying a complete molecular topology for a large molecule, however, is a tedious task.\n",
    "Therefore, in GROMOS a molecular topology is generated from molecular topology building blocks which carry the topological\n",
    "information of molecules like amino acid residues, nucleotides, etc., see Vol. 3. The molecular topology building blocks can be linked together into a complete molecular topology file using the GROMOS++ program *make_top*.\n",
    "\n",
    "Many molecular topology building blocks are available in the molecular topology building block files (*\\*.mtb*), which are standard data files that come together with the GROMOS package. \n",
    "\n",
    "\n",
    "In case the needed molecular topology building blocks are not part of the standard distribution, they must be constructed. \n",
    "Constructing a new topology building block may require estimation of additional force-field parameters, which have to be added to the interaction function parameter file (*\\*.ifp*).\n",
    " \n",
    "When generating a molecular topology for the system of interest one should also address the protonation state of the molecular groups according to the pH and of the solvent and counter ions that need to be included in the simulation box. \n",
    "In case of a molecular complex, e.g. a DNA-protein complex, the two separately generated molecular topologies for the protein and the DNA can be merged using the GROMOS++ program com top.\n",
    "\n",
    "\n",
    "\n",
    "#### Building the Topology File\n",
    "In this section you should build a molecular topology of a linear charged penta-peptide with water as a solvent, including two Cl− counter ions.\n",
    "\n",
    "**programs: make_top, check_top**\n",
    "\n",
    "##### build topology for single molecule\n",
    "You will build the molecular topology file of the linear charged penta-peptide Val-Tyr-Arg-Lys-Gln by\n",
    "using the GROMOS++ program *make_top*. As input following parameters will be provided:\n",
    "* **in_building_block_lib_path**: the molecular topology building block file is specified. In the code below, you will see, that we gather the forcefield information from the *Gromos54A7* force field, which is directly provided by PyGromosTools\n",
    "* **in_parameter_lib_path**: specifies the interaction function parameter file. Also here we take the parameters directly from the *Gromos54A7* forcefield from PyGromosTools.\n",
    "* **in_solvent**: The string name of the desired solvent.\n",
    "* **in_sequence**: the sequence of the building blocks for the amino acid residues, including the amino and carboxy terminus\n",
    "is specified (*NH3+ VAL TYR ARG LYSH GLN COO-*). (Notice that both termini are charged)"
   ]
  },
  {
   "cell_type": "code",
   "execution_count": 5,
   "metadata": {},
   "outputs": [
    {
     "data": {
      "text/plain": [
       "RESNAME\n",
       "5\n",
       "VAL\n",
       "TYR\n",
       "ARG\n",
       "LYSH\n",
       "GLN\n",
       "END"
      ]
     },
     "execution_count": 5,
     "metadata": {},
     "output_type": "execute_result"
    }
   ],
   "source": [
    "from pygromos.data.ff import Gromos54A7 #Get standard information of the GROMOS54A7 force field.\n",
    "\n",
    "#Generate the topology\n",
    "build_system.make_top(in_sequence=\"NH3+ VAL TYR ARG LYSH GLN COO-\",\n",
    "                     in_solvent=\"H2O\",\n",
    "                     in_building_block_lib_path = Gromos54A7.mtb,\n",
    "                     in_parameter_lib_path= Gromos54A7.ifp)\n",
    "\n",
    "#Here the residues in the topology file will be printed out :)  - this corresponds to the RESNAME Block in the topology file:\n",
    "build_system.top.RESNAME"
   ]
  },
  {
   "cell_type": "markdown",
   "metadata": {},
   "source": [
    "### The Coordinate File\n",
    "Coordinates for biomolecules are often available from X-ray or NMR experiments and can be obtained in\n",
    "*Protein Data Bank* (*PDB*) format, which can be converted to *GROMOS* format using the GROMOS++\n",
    "program *pdb2g96*. However, the conversion is not always straightforward since the naming and numbering\n",
    "of the atoms in the *PDB* format usually do not match the *GROMOS* format. \n",
    "\n",
    "Moreover, the coordinates for hydrogen atoms are not present in the *PDB* files \n",
    "(when the structure was determined using X-ray diffraction data) and have to be generated using the GROMOS++ program *gch*.\n",
    "\n",
    "When the structure is determined using NMR data, the PDB structure often contains more hydrogen atoms than are needed for GROMOS,\n",
    "as in the GROMOS force field only polar and aromatic hydrogens are explicitly represented. Aliphatic\n",
    "hydrogens are non-existing due to the use of so-called united atoms. The aliphatic hydrogen and carbon\n",
    "atoms are merged to form united atoms which have their own parameters. If no atomic coordinates for the\n",
    "solute are available from experimental data, the coordinates have to be generated using molecular modeling\n",
    "software. Often parts of the structure (e.g. flexible loops) are not resolved in the experiment and therefore\n",
    "not available in the PDB and have to be modeled as well. \n",
    "\n",
    "#### Periodic Boxes\n",
    "When a simulation of a solute in solution is to be carried out, a (periodic) box (be it rectangular, triclinic or truncated octahedral) is put around the solute\n",
    "and filled with solvent molecules up to the required density. The solvent coordinates can e.g. be generated using the GROMOS++ program sim box. The generated box should be sufficiently large to allow the use of a reasonable non-bonded interaction cut-off radius. Putting the solute in a box of solvent using the *sim_box* program will result in several high-energy atom-atom contacts at the solute-solvent interface and at the box edges. In order to relax the generated configuration the solvent configuration should be energy minimized while positionally restraining the solute. Counter-ion atomic coordinates can then be generated using the GROMOS++ program *ion*, which can replace a number of solvent molecules by ions.\n",
    "\n",
    "**programs: pdb2g96, gch**\n",
    "\n",
    "\n",
    "#### Building the Coordinate File\n",
    "The initial coordinate *.pdb* file is already provided in the *input* directory as *peptide.pdb*. \n",
    "Open the file *peptide.pdb* and check if the atom names match the names in the molecular topology object **SOLUTEATOM** block.\n",
    "In the pdb file *peptide.pdb* the coordinates for hydrogen atoms are not given and have to be generated.\n",
    "If the atom names are correct, you can continue in the second next cell by converting the *PDB* file *peptide.pdb* into the GROMOS format using the GROMOS++ program *pdb2g96*.\n",
    "The hydrogen atoms will be added to the coordinate file according to the topological requirements.\n",
    "\n",
    "***\n",
    "**Warning**: When converting coordinate files from the Protein Data Bank to GROMOS format many difficulties may emerge. If you encounter problems using the pdb2g96 program, have a look at Sec. 4-7.3. There you can find further documentation on the advanced usage of this program. Especially the use of a library\n",
    "that matches residue and atom names might be useful in many cases. pdb2g96.lib which you can find in the directory is an example of the PDB library file.\n",
    "***\n"
   ]
  },
  {
   "cell_type": "code",
   "execution_count": 6,
   "metadata": {},
   "outputs": [
    {
     "data": {
      "text/plain": [
       "SOLUTEATOM\n",
       "#   NRP: number of solute atoms\n",
       " \t 71\n",
       "#  ATNM: atom number\n",
       "#  MRES: residue number\n",
       "#  PANM: atom name of solute atom\n",
       "#   IAC: integer (van der Waals) atom type code\n",
       "#  MASS: mass of solute atom\n",
       "#    CG: charge of solute atom\n",
       "#   CGC: charge group code (0 or 1)\n",
       "#   INE: number of excluded atoms\n",
       "# INE14: number of 1-4 interactions\n",
       "# ATNM MRES PANM IAC     MASS       CG  CGC INE\n",
       "#                                           INE14\n",
       "\t1\t1\tH1\t21\t1.008\t0.248\t0\t4\t2\t3\t4\t5\n",
       "\t\t\t\t\t\t\t\t\t\t2\t6\t9\n",
       "\t2\t1\tH2\t21\t1.008\t0.248\t0\t3\t3\t4\t5\n",
       "\t\t\t\t\t\t\t\t\t\t2\t6\t9\n",
       "\t3\t1\tN\t8\t14.0067\t0.129\t0\t4\t4\t5\t6\t9\n",
       "\t\t\t\t\t\t\t\t\t\t4\t7\t8\t10\t11\n",
       "\t4\t1\tH3\t21\t1.008\t0.248\t0\t1\t5\n",
       "\t\t\t\t\t\t\t\t\t\t2\t6\t9\n",
       "\t5\t1\tCA\t14\t13.019\t0.127\t1\t6\t6\t7\t8\t9\t10\t11\n",
       "\t\t\t\t\t\t\t\t\t\t2\t12\t13\n",
       "\t6\t1\tCB\t14\t13.019\t0.0\t0\t3\t7\t8\t9\n",
       "\t\t\t\t\t\t\t\t\t\t2\t10\t11\n",
       "\t7\t1\tCG1\t16\t15.035\t0.0\t0\t1\t8\n",
       "\t\t\t\t\t\t\t\t\t\t1\t9\n",
       "\t8\t1\tCG2\t16\t15.035\t0.0\t1\t0\n",
       "\t\t\t\t\t\t\t\t\t\t1\t9\n",
       "\t9\t1\tC\t12\t12.011\t0.45\t0\t4\t10\t11\t12\t13\n",
       "\t\t\t\t\t\t\t\t\t\t2\t14\t27\n",
       "\t10\t1\tO\t1\t15.9994\t-0.45\t1\t1\t11\n",
       "\t\t\t\t\t\t\t\t\t\t2\t12\t13\n",
       "\t11\t2\tN\t6\t14.0067\t-0.31\t0\t4\t12\t13\t14\t27\n",
       "\t\t\t\t\t\t\t\t\t\t3\t15\t28\t29\n",
       "\t12\t2\tH\t21\t1.008\t0.31\t1\t1\t13\n",
       "\t\t\t\t\t\t\t\t\t\t2\t14\t27\n",
       "\t13\t2\tCA\t14\t13.019\t0.0\t0\t5\t14\t15\t27\t28\t29\n",
       "\t\t\t\t\t\t\t\t\t\t4\t16\t18\t30\t31\n",
       "\t14\t2\tCB\t15\t14.027\t0.0\t0\t8\t15\t16\t17\t18\t19\t20\n",
       "\t\t\t\t\t\t\t\t\t\t\t22\t27\n",
       "\t\t\t\t\t\t\t\t\t\t2\t28\t29\n",
       "\t15\t2\tCG\t12\t12.011\t0.0\t1\t9\t16\t17\t18\t19\t20\t21\n",
       "\t\t\t\t\t\t\t\t\t\t\t22\t23\t24\n",
       "\t\t\t\t\t\t\t\t\t\t1\t27\n",
       "\t16\t2\tCD1\t12\t12.011\t-0.14\t0\t8\t17\t18\t19\t20\t21\t22\n",
       "\t\t\t\t\t\t\t\t\t\t\t24\t25\n",
       "\t\t\t\t\t\t\t\t\t\t0\n",
       "\t17\t2\tHD1\t20\t1.008\t0.14\t1\t4\t18\t20\t21\t24\n",
       "\t\t\t\t\t\t\t\t\t\t0\n",
       "\t18\t2\tCD2\t12\t12.011\t-0.14\t0\t6\t19\t20\t22\t23\t24\t25\n",
       "\t\t\t\t\t\t\t\t\t\t0\n",
       "\t19\t2\tHD2\t20\t1.008\t0.14\t1\t3\t22\t23\t24\n",
       "\t\t\t\t\t\t\t\t\t\t0\n",
       "\t20\t2\tCE1\t12\t12.011\t-0.14\t0\t5\t21\t22\t23\t24\t25\n",
       "\t\t\t\t\t\t\t\t\t\t1\t26\n",
       "\t21\t2\tHE1\t20\t1.008\t0.14\t1\t3\t22\t24\t25\n",
       "\t\t\t\t\t\t\t\t\t\t0\n",
       "\t22\t2\tCE2\t12\t12.011\t-0.14\t0\t3\t23\t24\t25\n",
       "\t\t\t\t\t\t\t\t\t\t1\t26\n",
       "\t23\t2\tHE2\t20\t1.008\t0.14\t1\t2\t24\t25\n",
       "\t\t\t\t\t\t\t\t\t\t0\n",
       "\t24\t2\tCZ\t12\t12.011\t0.203\t0\t2\t25\t26\n",
       "\t\t\t\t\t\t\t\t\t\t0\n",
       "\t25\t2\tOH\t3\t15.9994\t-0.611\t0\t1\t26\n",
       "\t\t\t\t\t\t\t\t\t\t0\n",
       "\t26\t2\tHH\t21\t1.008\t0.408\t1\t0\n",
       "\t\t\t\t\t\t\t\t\t\t0\n",
       "\t27\t2\tC\t12\t12.011\t0.45\t0\t4\t28\t29\t30\t31\n",
       "\t\t\t\t\t\t\t\t\t\t2\t32\t44\n",
       "\t28\t2\tO\t1\t15.9994\t-0.45\t1\t1\t29\n",
       "\t\t\t\t\t\t\t\t\t\t2\t30\t31\n",
       "\t29\t3\tN\t6\t14.0067\t-0.31\t0\t4\t30\t31\t32\t44\n",
       "\t\t\t\t\t\t\t\t\t\t3\t33\t45\t46\n",
       "\t30\t3\tH\t21\t1.008\t0.31\t1\t1\t31\n",
       "\t\t\t\t\t\t\t\t\t\t2\t32\t44\n",
       "\t31\t3\tCA\t14\t13.019\t0.0\t0\t5\t32\t33\t44\t45\t46\n",
       "\t\t\t\t\t\t\t\t\t\t3\t34\t47\t48\n",
       "\t32\t3\tCB\t15\t14.027\t0.0\t0\t3\t33\t34\t44\n",
       "\t\t\t\t\t\t\t\t\t\t3\t35\t45\t46\n",
       "\t33\t3\tCG\t15\t14.027\t0.0\t1\t2\t34\t35\n",
       "\t\t\t\t\t\t\t\t\t\t3\t36\t37\t44\n",
       "\t34\t3\tCD\t15\t14.027\t0.09\t0\t3\t35\t36\t37\n",
       "\t\t\t\t\t\t\t\t\t\t2\t38\t41\n",
       "\t35\t3\tNE\t11\t14.0067\t-0.11\t0\t4\t36\t37\t38\t41\n",
       "\t\t\t\t\t\t\t\t\t\t4\t39\t40\t42\t43\n",
       "\t36\t3\tHE\t21\t1.008\t0.24\t0\t1\t37\n",
       "\t\t\t\t\t\t\t\t\t\t2\t38\t41\n",
       "\t37\t3\tCZ\t12\t12.011\t0.34\t0\t6\t38\t39\t40\t41\t42\t43\n",
       "\t\t\t\t\t\t\t\t\t\t0\n",
       "\t38\t3\tNH1\t10\t14.0067\t-0.26\t0\t3\t39\t40\t41\n",
       "\t\t\t\t\t\t\t\t\t\t2\t42\t43\n",
       "\t39\t3\tHH11\t21\t1.008\t0.24\t0\t1\t40\n",
       "\t\t\t\t\t\t\t\t\t\t1\t41\n",
       "\t40\t3\tHH12\t21\t1.008\t0.24\t0\t0\n",
       "\t\t\t\t\t\t\t\t\t\t1\t41\n",
       "\t41\t3\tNH2\t10\t14.0067\t-0.26\t0\t2\t42\t43\n",
       "\t\t\t\t\t\t\t\t\t\t0\n",
       "\t42\t3\tHH21\t21\t1.008\t0.24\t0\t1\t43\n",
       "\t\t\t\t\t\t\t\t\t\t0\n",
       "\t43\t3\tHH22\t21\t1.008\t0.24\t1\t0\n",
       "\t\t\t\t\t\t\t\t\t\t0\n",
       "\t44\t3\tC\t12\t12.011\t0.45\t0\t4\t45\t46\t47\t48\n",
       "\t\t\t\t\t\t\t\t\t\t2\t49\t57\n",
       "\t45\t3\tO\t1\t15.9994\t-0.45\t1\t1\t46\n",
       "\t\t\t\t\t\t\t\t\t\t2\t47\t48\n",
       "\t46\t4\tN\t6\t14.0067\t-0.31\t0\t4\t47\t48\t49\t57\n",
       "\t\t\t\t\t\t\t\t\t\t3\t50\t58\t59\n",
       "\t47\t4\tH\t21\t1.008\t0.31\t1\t1\t48\n",
       "\t\t\t\t\t\t\t\t\t\t2\t49\t57\n",
       "\t48\t4\tCA\t14\t13.019\t0.0\t0\t5\t49\t50\t57\t58\t59\n",
       "\t\t\t\t\t\t\t\t\t\t3\t51\t60\t61\n",
       "\t49\t4\tCB\t15\t14.027\t0.0\t1\t3\t50\t51\t57\n",
       "\t\t\t\t\t\t\t\t\t\t3\t52\t58\t59\n",
       "\t50\t4\tCG\t15\t14.027\t0.0\t0\t2\t51\t52\n",
       "\t\t\t\t\t\t\t\t\t\t2\t53\t57\n",
       "\t51\t4\tCD\t15\t14.027\t0.0\t1\t2\t52\t53\n",
       "\t\t\t\t\t\t\t\t\t\t3\t54\t55\t56\n",
       "\t52\t4\tCE\t15\t14.027\t0.127\t0\t4\t53\t54\t55\t56\n",
       "\t\t\t\t\t\t\t\t\t\t0\n",
       "\t53\t4\tNZ\t8\t14.0067\t0.129\t0\t3\t54\t55\t56\n",
       "\t\t\t\t\t\t\t\t\t\t0\n",
       "\t54\t4\tHZ1\t21\t1.008\t0.248\t0\t2\t55\t56\n",
       "\t\t\t\t\t\t\t\t\t\t0\n",
       "\t55\t4\tHZ2\t21\t1.008\t0.248\t0\t1\t56\n",
       "\t\t\t\t\t\t\t\t\t\t0\n",
       "\t56\t4\tHZ3\t21\t1.008\t0.248\t1\t0\n",
       "\t\t\t\t\t\t\t\t\t\t0\n",
       "\t57\t4\tC\t12\t12.011\t0.45\t0\t4\t58\t59\t60\t61\n",
       "\t\t\t\t\t\t\t\t\t\t2\t62\t69\n",
       "\t58\t4\tO\t1\t15.9994\t-0.45\t1\t1\t59\n",
       "\t\t\t\t\t\t\t\t\t\t2\t60\t61\n",
       "\t59\t5\tN\t6\t14.0067\t-0.31\t0\t4\t60\t61\t62\t69\n",
       "\t\t\t\t\t\t\t\t\t\t3\t63\t70\t71\n",
       "\t60\t5\tH\t21\t1.008\t0.31\t1\t1\t61\n",
       "\t\t\t\t\t\t\t\t\t\t2\t62\t69\n",
       "\t61\t5\tCA\t14\t13.019\t0.0\t0\t5\t62\t63\t69\t70\t71\n",
       "\t\t\t\t\t\t\t\t\t\t1\t64\n",
       "\t62\t5\tCB\t15\t14.027\t0.0\t0\t3\t63\t64\t69\n",
       "\t\t\t\t\t\t\t\t\t\t4\t65\t66\t70\t71\n",
       "\t63\t5\tCG\t15\t14.027\t0.0\t1\t3\t64\t65\t66\n",
       "\t\t\t\t\t\t\t\t\t\t3\t67\t68\t69\n",
       "\t64\t5\tCD\t12\t12.011\t0.29\t0\t4\t65\t66\t67\t68\n",
       "\t\t\t\t\t\t\t\t\t\t0\n",
       "\t65\t5\tOE1\t1\t15.9994\t-0.45\t0\t1\t66\n",
       "\t\t\t\t\t\t\t\t\t\t2\t67\t68\n",
       "\t66\t5\tNE2\t7\t14.0067\t-0.72\t0\t2\t67\t68\n",
       "\t\t\t\t\t\t\t\t\t\t0\n",
       "\t67\t5\tHE21\t21\t1.008\t0.44\t0\t1\t68\n",
       "\t\t\t\t\t\t\t\t\t\t0\n",
       "\t68\t5\tHE22\t21\t1.008\t0.44\t1\t0\n",
       "\t\t\t\t\t\t\t\t\t\t0\n",
       "\t69\t5\tC\t12\t12.011\t0.27\t0\t2\t70\t71\n",
       "\t\t\t\t\t\t\t\t\t\t0\n",
       "\t70\t5\tO1\t2\t15.9994\t-0.635\t0\t1\t71\n",
       "\t\t\t\t\t\t\t\t\t\t0\n",
       "\t71\t5\tO2\t2\t15.9994\t-0.635\t1\t0\n",
       "\t\t\t\t\t\t\t\t\t\t0\n",
       "END"
      ]
     },
     "execution_count": 6,
     "metadata": {},
     "output_type": "execute_result"
    }
   ],
   "source": [
    "#Compare the atom names of the pdb file input/peptide.pdb with the printed ones here:\n",
    "build_system.top.SOLUTEATOM"
   ]
  },
  {
   "cell_type": "code",
   "execution_count": 7,
   "metadata": {},
   "outputs": [
    {
     "data": {
      "application/vnd.jupyter.widget-view+json": {
       "model_id": "c54c50df118a4e6a96071fa1da266c26",
       "version_major": 2,
       "version_minor": 0
      },
      "text/plain": [
       "NGLWidget()"
      ]
     },
     "metadata": {},
     "output_type": "display_data"
    }
   ],
   "source": [
    "# Generate coordinate file:\n",
    "build_system.pdb2gromos(in_pdb_path=input_dir+\"/peptide.pdb\")\n",
    "\n",
    "#show the coordinates that were generated.\n",
    "build_system.cnf.view"
   ]
  },
  {
   "cell_type": "markdown",
   "metadata": {},
   "source": [
    "##### Initial Write out\n",
    " Next we will write out all generated files, such we have the initial products of our efforts."
   ]
  },
  {
   "cell_type": "code",
   "execution_count": 8,
   "metadata": {},
   "outputs": [
    {
     "name": "stdout",
     "output_type": "stream",
     "text": [
      "Path before rebase: None\n",
      "File imd is empty , can not be written!\n",
      "Path after rebase: /home/bschroed/Documents/projects/PyGromosTools/examples/example_files/Tutorial_System/a_build_initial_files/peptide.cnf\n"
     ]
    },
    {
     "data": {
      "text/plain": [
       "\n",
       "GROMOS SYSTEM: peptide\n",
       "################################################################################\n",
       "WORKDIR: /home/bschroed/Documents/projects/PyGromosTools/examples/example_files/Tutorial_System/a_build_initial_files\n",
       "LAST CHECKPOINT: None\n",
       "\n",
       "GromosXX_bin: None\n",
       "GromosPP_bin: None\n",
       "FILES: \n",
       "\timd: None\n",
       "\ttop: /home/bschroed/Documents/projects/PyGromosTools/examples/example_files/Tutorial_System/a_build_initial_files/peptide.top\n",
       "\tcnf: /home/bschroed/Documents/projects/PyGromosTools/examples/example_files/Tutorial_System/a_build_initial_files/peptide.cnf\n",
       "FUTURE PROMISE: False\n",
       "SYSTEM: \n",
       "\tPROTEIN:\tprotein  nresidues: 5 natoms: 71\n",
       "\tLIGANDS:\t[]  resID: []  natoms: 0\n",
       "\tNon-LIGANDS:\t[]  nmolecules: 0  natoms: 0\n",
       "\tSOLVENT:\t[]  nmolecules: 0  natoms: 0\n",
       "\n"
      ]
     },
     "execution_count": 8,
     "metadata": {},
     "output_type": "execute_result"
    }
   ],
   "source": [
    "# Now write all files, such that you can check them directly.\n",
    "print(\"Path before rebase: \"+str(build_system.cnf.path))\n",
    "build_system.rebase_files()\n",
    "\n",
    "#check this \n",
    "print(\"Path after rebase: \"+build_system.cnf.path)\n",
    "\n",
    "#Check also how the system path and attributes were automatically updated.\n",
    "build_system\n"
   ]
  },
  {
   "cell_type": "markdown",
   "metadata": {
    "pycharm": {
     "name": "#%% md\n"
    }
   },
   "source": [
    "#### add hydrogens\n",
    "Have a look at the cnf coordinates in the GromosSystem (next cell). You will notice that the hydrogen atoms have been added\n",
    "to the coordinate file with the Cartesian coordinates being set to zero. \n"
   ]
  },
  {
   "cell_type": "code",
   "execution_count": 9,
   "metadata": {},
   "outputs": [
    {
     "name": "stdout",
     "output_type": "stream",
     "text": [
      "    1 VAL   H1         1    0.000000000    0.000000000    0.000000000\n",
      "    1 VAL   H2         2    0.000000000    0.000000000    0.000000000\n",
      "    1 VAL   N          3    1.196200000    1.413300000    1.529800000\n",
      "    1 VAL   H3         4    0.000000000    0.000000000    0.000000000\n",
      "    1 VAL   CA         5    1.237300000    1.322400000    1.421900000\n",
      "    1 VAL   CB         6    1.116100000    1.268700000    1.345400000\n",
      "    1 VAL   CG1        7    1.041700000    1.369500000    1.257600000\n",
      "    1 VAL   CG2        8    1.157800000    1.148100000    1.261100000\n",
      "    1 VAL   C          9    1.335700000    1.393300000    1.328600000\n",
      "    1 VAL   O         10    1.447800000    1.344200000    1.316600000\n",
      "\n"
     ]
    }
   ],
   "source": [
    "#print x lines of the Position Block of valine\n",
    "print(\"\".join([str(atomP) for atomP in build_system.cnf.POSITION if(\"VAL\" == atomP.resName)]))"
   ]
  },
  {
   "cell_type": "markdown",
   "metadata": {},
   "source": [
    "\n",
    "In order to generate meaningful coordinates for the hydrogen atoms run the GROMOS++ program *protonate* (or gch). It will generate the coordinates\n",
    "for hydrogen atoms by geometric means using the information from the molecular topology file.\n",
    "The argument *tolerance* sets the tolerance that is used for keeping the coordinates of hydrogens that are already present in the coordinate file.\n"
   ]
  },
  {
   "cell_type": "code",
   "execution_count": 10,
   "metadata": {},
   "outputs": [
    {
     "name": "stdout",
     "output_type": "stream",
     "text": [
      "File imd is empty , can not be written!\n"
     ]
    },
    {
     "data": {
      "application/vnd.jupyter.widget-view+json": {
       "model_id": "333e4b666c5e4418a2796b7dc8839753",
       "version_major": 2,
       "version_minor": 0
      },
      "text/plain": [
       "NGLWidget()"
      ]
     },
     "metadata": {},
     "output_type": "display_data"
    }
   ],
   "source": [
    "# Add the hydrogen positions\n",
    "build_system.add_hydrogens()\n",
    "\n",
    "#store the current files with a different name:\n",
    "build_system.name = \"peptideH\"\n",
    "build_system.rebase_files()\n",
    "\n",
    "#visualize again the nice structure\n",
    "build_system.cnf.view\n"
   ]
  },
  {
   "cell_type": "markdown",
   "metadata": {},
   "source": [
    "#### Optional: Convert cnf to pdb\n",
    "\n"
   ]
  },
  {
   "cell_type": "code",
   "execution_count": 11,
   "metadata": {},
   "outputs": [
    {
     "data": {
      "text/plain": [
       "'/home/bschroed/Documents/projects/PyGromosTools/examples/example_files/Tutorial_System/a_build_initial_files/vacuum_hpeptide.pdb'"
      ]
     },
     "execution_count": 11,
     "metadata": {},
     "output_type": "execute_result"
    }
   ],
   "source": [
    "pdb_path = build_system.cnf.write_pdb(build_system.work_folder+\"/vacuum_hpeptide.pdb\")\n",
    "pdb_path"
   ]
  },
  {
   "cell_type": "markdown",
   "metadata": {},
   "source": [
    "### Energy Minimization - Vacuum\n",
    "\n",
    "Before putting the penta-peptide into a box of solvent, its configuration can be relaxed by energy minimisation.\n",
    "\n",
    "#### Simulation Parameter File\n",
    "The GROMOS simulation parameter file (also called imd) template_emin_vac can be parsed like follows and contains the following blocks:"
   ]
  },
  {
   "cell_type": "code",
   "execution_count": 12,
   "metadata": {},
   "outputs": [],
   "source": [
    "from pygromos.data.simulation_parameters_templates import  template_emin_vac\n",
    "\n",
    "#load simulation parameter file (Imd) File\n",
    "build_system.imd = template_emin_vac\n",
    "\n",
    "#for nicer code we will store the simulation parameter file in a variable.\n",
    "emin_vac_imd_file = build_system.imd\n"
   ]
  },
  {
   "cell_type": "markdown",
   "metadata": {},
   "source": [
    "##### TITLE Block\n",
    "In the TITLE block you specify what is done with following input file, so you know what you did with it later and can easily reuse it."
   ]
  },
  {
   "cell_type": "code",
   "execution_count": 13,
   "metadata": {},
   "outputs": [
    {
     "data": {
      "text/plain": [
       "TITLE\n",
       "\tsteepest descent energy minimization of the peptide in vacuum\n",
       "\n",
       "\t>>> Generated with PyGromosTools (riniker group) <<<\n",
       "END"
      ]
     },
     "execution_count": 13,
     "metadata": {},
     "output_type": "execute_result"
    }
   ],
   "source": [
    "emin_vac_imd_file.TITLE"
   ]
  },
  {
   "cell_type": "markdown",
   "metadata": {},
   "source": [
    "##### ENERGYMIN Block\n",
    "\n",
    "The existence of the ENERGYMIN block means that Gromos will perform an energy minimisation\n",
    "(EM) run. The NTEM switch indicates which minimisation algorithm to be used. With NTEM = 1 we indicate\n",
    "that the steepest-descent algorithm (Sec. 2-11.2) is used. NCYC gives the number of steps before resetting of\n",
    "conjugate-gradient search direction in case we would use the conjugate gradient method (NTEM = 2). Using\n",
    "DELE the energy threshold (the difference in energy between two energy minimisation steps) for stopping the\n",
    "minimisation process (convergence) is specified. The initial step size and maximum step size is given in DX0\n",
    "and DXM, respectively. Using FLIM the absolute value of the forces can be limited to a maximum value before\n",
    "the algorithm is applied (see also 4-93)."
   ]
  },
  {
   "cell_type": "code",
   "execution_count": 14,
   "metadata": {},
   "outputs": [
    {
     "name": "stdout",
     "output_type": "stream",
     "text": [
      "Help on ENERGYMIN in module pygromos.files.blocks.imd_blocks object:\n",
      "\n",
      "class ENERGYMIN(_generic_imd_block)\n",
      " |  ENERGYMIN(NTEM: int = 0, NCYC: int = 0, DELE: float = 0, DX0: float = 0, DXM: float = 0, NMIN: int = 0, FLIM: float = 0, content=None)\n",
      " |  \n",
      " |  ENERGYMIN block\n",
      " |  This block takes care of managing the Energyminimization controls.\n",
      " |  \n",
      " |  Attributes\n",
      " |  ----------\n",
      " |  NTEM:   int\n",
      " |      controls energy minimisation mode.\n",
      " |      0: do not do energy minimisation (default)\n",
      " |      1: steepest-descent minimisation\n",
      " |      2: Fletcher-Reeves conjugate-gradient minimisation\n",
      " |      3: Polak-Ribiere conjugate-gradient minimisation\n",
      " |  NCYC:   int\n",
      " |      >0 number of steps before resetting the conjugate-gradient search direction\n",
      " |      =0 reset only if the energy grows in the search direction\n",
      " |  DELE:   float\n",
      " |      >0.0 energy threshold for convergence\n",
      " |      >0.0 (conjugate-gradient) RMS force threshold for convergence\n",
      " |  DX0:    float\n",
      " |      >0.0 initial step size\n",
      " |  DXM:    float\n",
      " |      >0.0 maximum step size\n",
      " |  NMIN:   float\n",
      " |      >0 minimum number of minimisation steps\n",
      " |  FLIM:   float\n",
      " |      >=0.0 limit force to maximum value (FLIM > 0.0 is not recommended)\n",
      " |  \n",
      " |  Method resolution order:\n",
      " |      ENERGYMIN\n",
      " |      _generic_imd_block\n",
      " |      pygromos.files.blocks._general_blocks._generic_gromos_block\n",
      " |      builtins.object\n",
      " |  \n",
      " |  Methods defined here:\n",
      " |  \n",
      " |  __init__(self, NTEM: int = 0, NCYC: int = 0, DELE: float = 0, DX0: float = 0, DXM: float = 0, NMIN: int = 0, FLIM: float = 0, content=None)\n",
      " |      Initialize self.  See help(type(self)) for accurate signature.\n",
      " |  \n",
      " |  ----------------------------------------------------------------------\n",
      " |  Data and other attributes defined here:\n",
      " |  \n",
      " |  __annotations__ = {'DELE': <class 'float'>, 'DX0': <class 'float'>, 'D...\n",
      " |  \n",
      " |  name = 'ENERGYMIN'\n",
      " |  \n",
      " |  ----------------------------------------------------------------------\n",
      " |  Methods inherited from _generic_imd_block:\n",
      " |  \n",
      " |  block_to_string(self) -> str\n",
      " |  \n",
      " |  read_content_from_str(self, content: List[str])\n",
      " |  \n",
      " |  ----------------------------------------------------------------------\n",
      " |  Methods inherited from pygromos.files.blocks._general_blocks._generic_gromos_block:\n",
      " |  \n",
      " |  __copy__(self)\n",
      " |  \n",
      " |  __deepcopy__(self, memo)\n",
      " |  \n",
      " |  __eq__(self, _generic_gromos_block__o: object) -> bool\n",
      " |      Return self==value.\n",
      " |  \n",
      " |  __iter__(self)\n",
      " |  \n",
      " |  __repr__(self)\n",
      " |      Return repr(self).\n",
      " |  \n",
      " |  __str__(self)\n",
      " |      Return str(self).\n",
      " |  \n",
      " |  get_name(self)\n",
      " |  \n",
      " |  ----------------------------------------------------------------------\n",
      " |  Data descriptors inherited from pygromos.files.blocks._general_blocks._generic_gromos_block:\n",
      " |  \n",
      " |  __dict__\n",
      " |      dictionary for instance variables (if defined)\n",
      " |  \n",
      " |  __weakref__\n",
      " |      list of weak references to the object (if defined)\n",
      " |  \n",
      " |  ----------------------------------------------------------------------\n",
      " |  Data and other attributes inherited from pygromos.files.blocks._general_blocks._generic_gromos_block:\n",
      " |  \n",
      " |  __hash__ = None\n",
      "\n"
     ]
    }
   ],
   "source": [
    "help(emin_vac_imd_file.ENERGYMIN)"
   ]
  },
  {
   "cell_type": "code",
   "execution_count": 15,
   "metadata": {},
   "outputs": [
    {
     "data": {
      "text/plain": [
       "ENERGYMIN\n",
       "# \t NTEM \t NCYC \t DELE \t DX0 \t DXM \t NMIN \t FLIM\n",
       " \t 1 \t 0 \t 0.100000 \t 0.010000 \t 0.050000 \t 2000 \t 0.000000 \t \n",
       "END"
      ]
     },
     "execution_count": 15,
     "metadata": {},
     "output_type": "execute_result"
    }
   ],
   "source": [
    "# The current ENERGYMIN Block\n",
    "emin_vac_imd_file.ENERGYMIN"
   ]
  },
  {
   "cell_type": "markdown",
   "metadata": {},
   "source": [
    "##### SYSTEM Block\n",
    "In the SYSTEM block you specify the number of solutes (NPM) and solvent (NSM) molecules. You only have\n",
    "one solute NPM = 1 and no solvent molecules NSM = 0 because you still did not add any solvent molecules\n",
    "to the configuration file and the peptide is still in vacuum. Otherwise you would have to tell MD++ how\n",
    "many solvent molecules you are using."
   ]
  },
  {
   "cell_type": "code",
   "execution_count": 16,
   "metadata": {},
   "outputs": [
    {
     "name": "stdout",
     "output_type": "stream",
     "text": [
      "Help on SYSTEM in module pygromos.files.blocks.imd_blocks object:\n",
      "\n",
      "class SYSTEM(_generic_imd_block)\n",
      " |  SYSTEM(NPM: int = 0, NSM: int = 0, content=None)\n",
      " |  \n",
      " |  System Block\n",
      " |  \n",
      " |      The system block defines the number of solute molecules and solvent molecules\n",
      " |  \n",
      " |  Attributes\n",
      " |  ----------\n",
      " |  NPM:    int\n",
      " |      Number of Solute Molecules\n",
      " |  NSM:    int\n",
      " |      Number of Solvent Molecules\n",
      " |  \n",
      " |  Method resolution order:\n",
      " |      SYSTEM\n",
      " |      _generic_imd_block\n",
      " |      pygromos.files.blocks._general_blocks._generic_gromos_block\n",
      " |      builtins.object\n",
      " |  \n",
      " |  Methods defined here:\n",
      " |  \n",
      " |  __init__(self, NPM: int = 0, NSM: int = 0, content=None)\n",
      " |      Initialize self.  See help(type(self)) for accurate signature.\n",
      " |  \n",
      " |  ----------------------------------------------------------------------\n",
      " |  Data and other attributes defined here:\n",
      " |  \n",
      " |  __annotations__ = {'NPM': <class 'int'>, 'NSM': <class 'int'>, 'name':...\n",
      " |  \n",
      " |  name = 'SYSTEM'\n",
      " |  \n",
      " |  ----------------------------------------------------------------------\n",
      " |  Methods inherited from _generic_imd_block:\n",
      " |  \n",
      " |  block_to_string(self) -> str\n",
      " |  \n",
      " |  read_content_from_str(self, content: List[str])\n",
      " |  \n",
      " |  ----------------------------------------------------------------------\n",
      " |  Methods inherited from pygromos.files.blocks._general_blocks._generic_gromos_block:\n",
      " |  \n",
      " |  __copy__(self)\n",
      " |  \n",
      " |  __deepcopy__(self, memo)\n",
      " |  \n",
      " |  __eq__(self, _generic_gromos_block__o: object) -> bool\n",
      " |      Return self==value.\n",
      " |  \n",
      " |  __iter__(self)\n",
      " |  \n",
      " |  __repr__(self)\n",
      " |      Return repr(self).\n",
      " |  \n",
      " |  __str__(self)\n",
      " |      Return str(self).\n",
      " |  \n",
      " |  get_name(self)\n",
      " |  \n",
      " |  ----------------------------------------------------------------------\n",
      " |  Data descriptors inherited from pygromos.files.blocks._general_blocks._generic_gromos_block:\n",
      " |  \n",
      " |  __dict__\n",
      " |      dictionary for instance variables (if defined)\n",
      " |  \n",
      " |  __weakref__\n",
      " |      list of weak references to the object (if defined)\n",
      " |  \n",
      " |  ----------------------------------------------------------------------\n",
      " |  Data and other attributes inherited from pygromos.files.blocks._general_blocks._generic_gromos_block:\n",
      " |  \n",
      " |  __hash__ = None\n",
      "\n"
     ]
    }
   ],
   "source": [
    "help(emin_vac_imd_file.SYSTEM)"
   ]
  },
  {
   "cell_type": "code",
   "execution_count": 17,
   "metadata": {},
   "outputs": [
    {
     "data": {
      "text/plain": [
       "SYSTEM\n",
       "# \t NPM \t NSM\n",
       " \t 1 \t 0 \t \n",
       "END"
      ]
     },
     "execution_count": 17,
     "metadata": {},
     "output_type": "execute_result"
    }
   ],
   "source": [
    "emin_vac_imd_file.SYSTEM\n"
   ]
  },
  {
   "cell_type": "markdown",
   "metadata": {},
   "source": [
    "##### STEP Block\n",
    "\n",
    "The step block takes core of how long and with "
   ]
  },
  {
   "cell_type": "code",
   "execution_count": 18,
   "metadata": {},
   "outputs": [
    {
     "name": "stdout",
     "output_type": "stream",
     "text": [
      "Help on STEP in module pygromos.files.blocks.imd_blocks object:\n",
      "\n",
      "class STEP(_generic_imd_block)\n",
      " |  STEP(NSTLIM: int = 0, T: float = 0, DT: float = 0, content=None)\n",
      " |  \n",
      " |  Step Block\n",
      " |  \n",
      " |      This Block gives the number of simulation steps,\n",
      " |  \n",
      " |  Attributes\n",
      " |  -----------\n",
      " |  NSTLIM: int\n",
      " |      number of simulations Step till terminating.\n",
      " |  T:  float\n",
      " |      Starting Time\n",
      " |  DT: float\n",
      " |      time step [fs]\n",
      " |  \n",
      " |  Method resolution order:\n",
      " |      STEP\n",
      " |      _generic_imd_block\n",
      " |      pygromos.files.blocks._general_blocks._generic_gromos_block\n",
      " |      builtins.object\n",
      " |  \n",
      " |  Methods defined here:\n",
      " |  \n",
      " |  __init__(self, NSTLIM: int = 0, T: float = 0, DT: float = 0, content=None)\n",
      " |      Initialize self.  See help(type(self)) for accurate signature.\n",
      " |  \n",
      " |  ----------------------------------------------------------------------\n",
      " |  Data and other attributes defined here:\n",
      " |  \n",
      " |  __annotations__ = {'DT': <class 'float'>, 'NSTLIM': <class 'int'>, 'T'...\n",
      " |  \n",
      " |  name = 'STEP'\n",
      " |  \n",
      " |  ----------------------------------------------------------------------\n",
      " |  Methods inherited from _generic_imd_block:\n",
      " |  \n",
      " |  block_to_string(self) -> str\n",
      " |  \n",
      " |  read_content_from_str(self, content: List[str])\n",
      " |  \n",
      " |  ----------------------------------------------------------------------\n",
      " |  Methods inherited from pygromos.files.blocks._general_blocks._generic_gromos_block:\n",
      " |  \n",
      " |  __copy__(self)\n",
      " |  \n",
      " |  __deepcopy__(self, memo)\n",
      " |  \n",
      " |  __eq__(self, _generic_gromos_block__o: object) -> bool\n",
      " |      Return self==value.\n",
      " |  \n",
      " |  __iter__(self)\n",
      " |  \n",
      " |  __repr__(self)\n",
      " |      Return repr(self).\n",
      " |  \n",
      " |  __str__(self)\n",
      " |      Return str(self).\n",
      " |  \n",
      " |  get_name(self)\n",
      " |  \n",
      " |  ----------------------------------------------------------------------\n",
      " |  Data descriptors inherited from pygromos.files.blocks._general_blocks._generic_gromos_block:\n",
      " |  \n",
      " |  __dict__\n",
      " |      dictionary for instance variables (if defined)\n",
      " |  \n",
      " |  __weakref__\n",
      " |      list of weak references to the object (if defined)\n",
      " |  \n",
      " |  ----------------------------------------------------------------------\n",
      " |  Data and other attributes inherited from pygromos.files.blocks._general_blocks._generic_gromos_block:\n",
      " |  \n",
      " |  __hash__ = None\n",
      "\n"
     ]
    }
   ],
   "source": [
    "help(emin_vac_imd_file.STEP)"
   ]
  },
  {
   "cell_type": "code",
   "execution_count": 19,
   "metadata": {},
   "outputs": [
    {
     "data": {
      "text/plain": [
       "STEP\n",
       "# \t NSTLIM \t T \t DT\n",
       " \t 3000 \t 0.000000 \t 0.002000 \t \n",
       "END"
      ]
     },
     "execution_count": 19,
     "metadata": {},
     "output_type": "execute_result"
    }
   ],
   "source": [
    "emin_vac_imd_file.STEP"
   ]
  },
  {
   "cell_type": "markdown",
   "metadata": {},
   "source": [
    "In the BOUNDCOND block you specify which periodic boundary conditions (PBC) you are going to use in the\n",
    "EM procedure. NTB = 0 defines a vacuum simulation: PBC are not applied. To indicate the truncated\n",
    "octahedron (t) PBC, NTB is set to -1, for rectangular (r) PBC NTB is 1, and for the triclinic (c) PBC NTB is\n",
    "2. NDFMIN defines the number of degrees of freedom subtracted from the total number of degrees of freedom\n",
    "for the calculation of the temperature.\n"
   ]
  },
  {
   "cell_type": "code",
   "execution_count": 20,
   "metadata": {},
   "outputs": [
    {
     "name": "stdout",
     "output_type": "stream",
     "text": [
      "Help on BOUNDCOND in module pygromos.files.blocks.imd_blocks object:\n",
      "\n",
      "class BOUNDCOND(_generic_imd_block)\n",
      " |  BOUNDCOND(NTB: int = 0, NDFMIN: int = 0, content=None)\n",
      " |  \n",
      " |  Boundary Condition Block\n",
      " |  \n",
      " |      This block describes the boundary condition of the coordinate system.\n",
      " |  \n",
      " |  Attributes\n",
      " |  ----------\n",
      " |      NTB : int, optional\n",
      " |          Boundary conditions, by default 0\n",
      " |          -1 : truncated octahedral\n",
      " |           0 : vacuum\n",
      " |           1 : rectangular\n",
      " |           2 : triclinic\n",
      " |      NDFMIN : int, optional\n",
      " |          number of degrees of freedom subtracted for temperature, by default 0\n",
      " |  \n",
      " |  Method resolution order:\n",
      " |      BOUNDCOND\n",
      " |      _generic_imd_block\n",
      " |      pygromos.files.blocks._general_blocks._generic_gromos_block\n",
      " |      builtins.object\n",
      " |  \n",
      " |  Methods defined here:\n",
      " |  \n",
      " |  __init__(self, NTB: int = 0, NDFMIN: int = 0, content=None)\n",
      " |      Initialize self.  See help(type(self)) for accurate signature.\n",
      " |  \n",
      " |  ----------------------------------------------------------------------\n",
      " |  Data and other attributes defined here:\n",
      " |  \n",
      " |  __annotations__ = {'NDFMIN': <class 'int'>, 'NTB': <class 'int'>, 'nam...\n",
      " |  \n",
      " |  name = 'BOUNDCOND'\n",
      " |  \n",
      " |  ----------------------------------------------------------------------\n",
      " |  Methods inherited from _generic_imd_block:\n",
      " |  \n",
      " |  block_to_string(self) -> str\n",
      " |  \n",
      " |  read_content_from_str(self, content: List[str])\n",
      " |  \n",
      " |  ----------------------------------------------------------------------\n",
      " |  Methods inherited from pygromos.files.blocks._general_blocks._generic_gromos_block:\n",
      " |  \n",
      " |  __copy__(self)\n",
      " |  \n",
      " |  __deepcopy__(self, memo)\n",
      " |  \n",
      " |  __eq__(self, _generic_gromos_block__o: object) -> bool\n",
      " |      Return self==value.\n",
      " |  \n",
      " |  __iter__(self)\n",
      " |  \n",
      " |  __repr__(self)\n",
      " |      Return repr(self).\n",
      " |  \n",
      " |  __str__(self)\n",
      " |      Return str(self).\n",
      " |  \n",
      " |  get_name(self)\n",
      " |  \n",
      " |  ----------------------------------------------------------------------\n",
      " |  Data descriptors inherited from pygromos.files.blocks._general_blocks._generic_gromos_block:\n",
      " |  \n",
      " |  __dict__\n",
      " |      dictionary for instance variables (if defined)\n",
      " |  \n",
      " |  __weakref__\n",
      " |      list of weak references to the object (if defined)\n",
      " |  \n",
      " |  ----------------------------------------------------------------------\n",
      " |  Data and other attributes inherited from pygromos.files.blocks._general_blocks._generic_gromos_block:\n",
      " |  \n",
      " |  __hash__ = None\n",
      "\n"
     ]
    }
   ],
   "source": [
    "help(emin_vac_imd_file.BOUNDCOND)"
   ]
  },
  {
   "cell_type": "code",
   "execution_count": 21,
   "metadata": {},
   "outputs": [
    {
     "data": {
      "text/plain": [
       "BOUNDCOND\n",
       "# \t NTB \t NDFMIN\n",
       " \t 0 \t 0 \t \n",
       "END"
      ]
     },
     "execution_count": 21,
     "metadata": {},
     "output_type": "execute_result"
    }
   ],
   "source": [
    "emin_vac_imd_file.BOUNDCOND"
   ]
  },
  {
   "cell_type": "markdown",
   "metadata": {},
   "source": [
    "With the PRINTOUT block you can specify how often (every NTPRth step) you are printing out the energies\n",
    "to the output file."
   ]
  },
  {
   "cell_type": "code",
   "execution_count": 22,
   "metadata": {},
   "outputs": [
    {
     "name": "stdout",
     "output_type": "stream",
     "text": [
      "Help on PRINTOUT in module pygromos.files.blocks.imd_blocks object:\n",
      "\n",
      "class PRINTOUT(_generic_imd_block)\n",
      " |  PRINTOUT(NTPR=0, NTPP=0, content=None)\n",
      " |  \n",
      " |  PRINTOUT block\n",
      " |  \n",
      " |      This Block manages the output frequency into the .omd/std-out file.\n",
      " |  \n",
      " |  Attributes\n",
      " |  ----------\n",
      " |  NTPR: int\n",
      " |      print out energies, etc. every NTPR steps\n",
      " |  NTPP: int\n",
      " |      =1 perform dihedral angle transition monitoring\n",
      " |  \n",
      " |  Method resolution order:\n",
      " |      PRINTOUT\n",
      " |      _generic_imd_block\n",
      " |      pygromos.files.blocks._general_blocks._generic_gromos_block\n",
      " |      builtins.object\n",
      " |  \n",
      " |  Methods defined here:\n",
      " |  \n",
      " |  __init__(self, NTPR=0, NTPP=0, content=None)\n",
      " |      Initialize self.  See help(type(self)) for accurate signature.\n",
      " |  \n",
      " |  ----------------------------------------------------------------------\n",
      " |  Data and other attributes defined here:\n",
      " |  \n",
      " |  __annotations__ = {'NTPP': <class 'int'>, 'NTPR': <class 'int'>, 'name...\n",
      " |  \n",
      " |  name = 'PRINTOUT'\n",
      " |  \n",
      " |  ----------------------------------------------------------------------\n",
      " |  Methods inherited from _generic_imd_block:\n",
      " |  \n",
      " |  block_to_string(self) -> str\n",
      " |  \n",
      " |  read_content_from_str(self, content: List[str])\n",
      " |  \n",
      " |  ----------------------------------------------------------------------\n",
      " |  Methods inherited from pygromos.files.blocks._general_blocks._generic_gromos_block:\n",
      " |  \n",
      " |  __copy__(self)\n",
      " |  \n",
      " |  __deepcopy__(self, memo)\n",
      " |  \n",
      " |  __eq__(self, _generic_gromos_block__o: object) -> bool\n",
      " |      Return self==value.\n",
      " |  \n",
      " |  __iter__(self)\n",
      " |  \n",
      " |  __repr__(self)\n",
      " |      Return repr(self).\n",
      " |  \n",
      " |  __str__(self)\n",
      " |      Return str(self).\n",
      " |  \n",
      " |  get_name(self)\n",
      " |  \n",
      " |  ----------------------------------------------------------------------\n",
      " |  Data descriptors inherited from pygromos.files.blocks._general_blocks._generic_gromos_block:\n",
      " |  \n",
      " |  __dict__\n",
      " |      dictionary for instance variables (if defined)\n",
      " |  \n",
      " |  __weakref__\n",
      " |      list of weak references to the object (if defined)\n",
      " |  \n",
      " |  ----------------------------------------------------------------------\n",
      " |  Data and other attributes inherited from pygromos.files.blocks._general_blocks._generic_gromos_block:\n",
      " |  \n",
      " |  __hash__ = None\n",
      "\n"
     ]
    }
   ],
   "source": [
    "help(emin_vac_imd_file.PRINTOUT)"
   ]
  },
  {
   "cell_type": "code",
   "execution_count": 23,
   "metadata": {},
   "outputs": [
    {
     "data": {
      "text/plain": [
       "PRINTOUT\n",
       "# \t NTPR \t NTPP\n",
       " \t 10 \t 0 \t \n",
       "END"
      ]
     },
     "execution_count": 23,
     "metadata": {},
     "output_type": "execute_result"
    }
   ],
   "source": [
    "emin_vac_imd_file.PRINTOUT"
   ]
  },
  {
   "cell_type": "markdown",
   "metadata": {},
   "source": [
    "Bonds vibrate at high frequencies (hν ≫ kBT ). Therefore, these vibrations are of quantum-mechanical\n",
    "nature. So constraining the bond lengths is a better approximation than treating them as classical harmonic\n",
    "oscillators. Constraining all bond lengths of the solute and solvent (NTC=3) allows the use of a rather large\n",
    "time step of 2 fs. In this example the constraints are imposed by the SHAKE algorithm for both solute\n",
    "(NTCP=1) and solvent (NTCS=1) with a tolerance of 0.0001. See 4-90 for more information."
   ]
  },
  {
   "cell_type": "code",
   "execution_count": 24,
   "metadata": {},
   "outputs": [
    {
     "name": "stdout",
     "output_type": "stream",
     "text": [
      "Help on CONSTRAINT in module pygromos.files.blocks.imd_blocks object:\n",
      "\n",
      "class CONSTRAINT(_generic_imd_block)\n",
      " |  CONSTRAINT(NTC: int = 0, NTCP: int = 0, NTCP0: float = 0, NTCS: int = 0, NTCS0: float = 0, content=None)\n",
      " |  \n",
      " |  CONSTRAINT block\n",
      " |      This block is controlling constraining the atoms during a simulation.\n",
      " |  \n",
      " |  Attributes\n",
      " |  ----------\n",
      " |  NTC:    int\n",
      " |  NTCP:   int\n",
      " |  NTCP0:  int\n",
      " |  NTCS:   int\n",
      " |  NTCS0:  int\n",
      " |  \n",
      " |  Method resolution order:\n",
      " |      CONSTRAINT\n",
      " |      _generic_imd_block\n",
      " |      pygromos.files.blocks._general_blocks._generic_gromos_block\n",
      " |      builtins.object\n",
      " |  \n",
      " |  Methods defined here:\n",
      " |  \n",
      " |  __init__(self, NTC: int = 0, NTCP: int = 0, NTCP0: float = 0, NTCS: int = 0, NTCS0: float = 0, content=None)\n",
      " |      Args:\n",
      " |          NTC:\n",
      " |          NTCP:\n",
      " |          NTCP0:\n",
      " |          NTCS:\n",
      " |          NTCS0:\n",
      " |  \n",
      " |  ----------------------------------------------------------------------\n",
      " |  Data and other attributes defined here:\n",
      " |  \n",
      " |  __annotations__ = {'NTC': <class 'int'>, 'NTCP': <class 'int'>, 'NTCP0...\n",
      " |  \n",
      " |  name = 'CONSTRAINT'\n",
      " |  \n",
      " |  ----------------------------------------------------------------------\n",
      " |  Methods inherited from _generic_imd_block:\n",
      " |  \n",
      " |  block_to_string(self) -> str\n",
      " |  \n",
      " |  read_content_from_str(self, content: List[str])\n",
      " |  \n",
      " |  ----------------------------------------------------------------------\n",
      " |  Methods inherited from pygromos.files.blocks._general_blocks._generic_gromos_block:\n",
      " |  \n",
      " |  __copy__(self)\n",
      " |  \n",
      " |  __deepcopy__(self, memo)\n",
      " |  \n",
      " |  __eq__(self, _generic_gromos_block__o: object) -> bool\n",
      " |      Return self==value.\n",
      " |  \n",
      " |  __iter__(self)\n",
      " |  \n",
      " |  __repr__(self)\n",
      " |      Return repr(self).\n",
      " |  \n",
      " |  __str__(self)\n",
      " |      Return str(self).\n",
      " |  \n",
      " |  get_name(self)\n",
      " |  \n",
      " |  ----------------------------------------------------------------------\n",
      " |  Data descriptors inherited from pygromos.files.blocks._general_blocks._generic_gromos_block:\n",
      " |  \n",
      " |  __dict__\n",
      " |      dictionary for instance variables (if defined)\n",
      " |  \n",
      " |  __weakref__\n",
      " |      list of weak references to the object (if defined)\n",
      " |  \n",
      " |  ----------------------------------------------------------------------\n",
      " |  Data and other attributes inherited from pygromos.files.blocks._general_blocks._generic_gromos_block:\n",
      " |  \n",
      " |  __hash__ = None\n",
      "\n"
     ]
    }
   ],
   "source": [
    "help(emin_vac_imd_file.CONSTRAINT)"
   ]
  },
  {
   "cell_type": "code",
   "execution_count": 25,
   "metadata": {},
   "outputs": [
    {
     "data": {
      "text/plain": [
       "CONSTRAINT\n",
       "# \t NTC\n",
       " \t 3 \t \n",
       "# \t NTCP \t NTCP0(1)\n",
       " \t 1 \t 0.000100 \t \n",
       "# \t NTCS \t NTCS0(1)\n",
       " \t 1 \t 0.000100 \t \n",
       "END"
      ]
     },
     "execution_count": 25,
     "metadata": {},
     "output_type": "execute_result"
    }
   ],
   "source": [
    "emin_vac_imd_file.CONSTRAINT"
   ]
  },
  {
   "cell_type": "markdown",
   "metadata": {},
   "source": [
    "In the FORCE block you tell MD++ which terms it should use for the energy and force calculation. For bond\n",
    "angles, improper dihedrals, torsional dihedrals and the non-bonded interactions the standard terms of the\n",
    "GROMOS force field are switched on (1). Because we are using bond-length constraints and the SHAKE\n",
    "algorithm, we have to switch off (0) the bond-stretching terms for the bonds involving hydrogen atoms and\n",
    "not involving hydrogen atoms..\n",
    "In the last line of this block, the energy groups are defined. In general, we define one or more energy\n",
    "groups for every molecule, and one comprising all the solvent molecules. The first integer is the number of\n",
    "energy groups we want to use (in the present case we only have one energy group). The following numbers\n",
    "are the atom sequence numbers of the last atom of each energy group. By defining these energy groups we\n",
    "7-9\n",
    "tell MD++ to sum up the energies between the atoms within these groups and calculate the inter-group\n",
    "energies, which can be very useful."
   ]
  },
  {
   "cell_type": "code",
   "execution_count": 26,
   "metadata": {},
   "outputs": [
    {
     "data": {
      "text/plain": [
       "FORCE\n",
       "# \t BONDS \t ANGLES \t IMPROPER \t DIHEDRAL \t ELECTROSTATIC \t VDW\n",
       " \t 0 \t 1 \t 1 \t 1 \t 1 \t 1 \t \n",
       "# \t NEGR \t NRE\n",
       " \t 1 \t 71 \t \n",
       "END"
      ]
     },
     "execution_count": 26,
     "metadata": {},
     "output_type": "execute_result"
    }
   ],
   "source": [
    "emin_vac_imd_file.FORCE"
   ]
  },
  {
   "cell_type": "markdown",
   "metadata": {},
   "source": [
    "In the PAIRLIST block you specify which algorithm you will use for the pairlist generation. The cut-off used\n",
    "in the short-range pairlist construction is given by RCUTP and for GROMOS it is usually 0.8 nm. The cut-off\n",
    "used in the long-range interactions is given by RCUTL and for GROMOS it is usually 1.4 nm. The pairlist is\n",
    "generated every 5th (NSNB) step. TYPE specifies the type of the cut-off, whether it is based on the distance\n",
    "between charge-groups (0) or on the distance between atoms (1).\n",
    "\n",
    "***\n",
    "**Warning**: Think very carefully about the definition of energy groups before running the simulation. Energies\n",
    "of energy groups can not be calculated from the trajectories in an efficient way. So, changing an energy-group\n",
    "definition will result in rerunning the simulation.\n",
    "***\n"
   ]
  },
  {
   "cell_type": "code",
   "execution_count": 27,
   "metadata": {},
   "outputs": [
    {
     "name": "stdout",
     "output_type": "stream",
     "text": [
      "Help on PAIRLIST in module pygromos.files.blocks.imd_blocks object:\n",
      "\n",
      "class PAIRLIST(_generic_imd_block)\n",
      " |  PAIRLIST(ALGORITHM: int = 0, NSNB: int = 0, RCUTP: float = 0, RCUTL: float = 0, SIZE: str = 0, TYPE: str = False, content=None)\n",
      " |  \n",
      " |  PAIRLIST Block\n",
      " |  \n",
      " |          This block is controlling the pairlist control.\n",
      " |  \n",
      " |  Attributes\n",
      " |  ----------\n",
      " |  ALGORITHM: int\n",
      " |      standard(0) (gromos96 like pairlist)\n",
      " |      grid(1) (md++ grid pairlist)\n",
      " |      grid_cell(2) (creates a mask)\n",
      " |  NSNB:   int\n",
      " |      frequency (number of steps) a pairlist is constructed\n",
      " |  RCUTPL: float\n",
      " |      short-range cut-off in twin-range\n",
      " |  RCUTL:  float\n",
      " |      intermediate-range cut-off in twin-range\n",
      " |  SIZE:   str, float\n",
      " |      grid cell size (or auto = 0.5 * RCUTP)\n",
      " |  TYPE:   str, bool\n",
      " |      chargegoup(0) (chargegroup based cutoff)\n",
      " |      atomic(1)     (atom based cutoff)\n",
      " |  \n",
      " |  Method resolution order:\n",
      " |      PAIRLIST\n",
      " |      _generic_imd_block\n",
      " |      pygromos.files.blocks._general_blocks._generic_gromos_block\n",
      " |      builtins.object\n",
      " |  \n",
      " |  Methods defined here:\n",
      " |  \n",
      " |  __init__(self, ALGORITHM: int = 0, NSNB: int = 0, RCUTP: float = 0, RCUTL: float = 0, SIZE: str = 0, TYPE: str = False, content=None)\n",
      " |      Args:\n",
      " |          ALGORITHM:\n",
      " |          NSNB:\n",
      " |          RCUTP:\n",
      " |          RCUTL:\n",
      " |          SIZE:\n",
      " |          TYPE:\n",
      " |  \n",
      " |  ----------------------------------------------------------------------\n",
      " |  Data and other attributes defined here:\n",
      " |  \n",
      " |  __annotations__ = {'ALGORITHM': <class 'int'>, 'NSNB': <class 'int'>, ...\n",
      " |  \n",
      " |  name = 'PAIRLIST'\n",
      " |  \n",
      " |  ----------------------------------------------------------------------\n",
      " |  Methods inherited from _generic_imd_block:\n",
      " |  \n",
      " |  block_to_string(self) -> str\n",
      " |  \n",
      " |  read_content_from_str(self, content: List[str])\n",
      " |  \n",
      " |  ----------------------------------------------------------------------\n",
      " |  Methods inherited from pygromos.files.blocks._general_blocks._generic_gromos_block:\n",
      " |  \n",
      " |  __copy__(self)\n",
      " |  \n",
      " |  __deepcopy__(self, memo)\n",
      " |  \n",
      " |  __eq__(self, _generic_gromos_block__o: object) -> bool\n",
      " |      Return self==value.\n",
      " |  \n",
      " |  __iter__(self)\n",
      " |  \n",
      " |  __repr__(self)\n",
      " |      Return repr(self).\n",
      " |  \n",
      " |  __str__(self)\n",
      " |      Return str(self).\n",
      " |  \n",
      " |  get_name(self)\n",
      " |  \n",
      " |  ----------------------------------------------------------------------\n",
      " |  Data descriptors inherited from pygromos.files.blocks._general_blocks._generic_gromos_block:\n",
      " |  \n",
      " |  __dict__\n",
      " |      dictionary for instance variables (if defined)\n",
      " |  \n",
      " |  __weakref__\n",
      " |      list of weak references to the object (if defined)\n",
      " |  \n",
      " |  ----------------------------------------------------------------------\n",
      " |  Data and other attributes inherited from pygromos.files.blocks._general_blocks._generic_gromos_block:\n",
      " |  \n",
      " |  __hash__ = None\n",
      "\n"
     ]
    }
   ],
   "source": [
    "help(emin_vac_imd_file.PAIRLIST)"
   ]
  },
  {
   "cell_type": "code",
   "execution_count": 28,
   "metadata": {},
   "outputs": [
    {
     "data": {
      "text/plain": [
       "PAIRLIST\n",
       "# \t ALGORITHM \t NSNB \t RCUTP \t RCUTL \t SIZE \t TYPE\n",
       " \t 0 \t 5 \t 0.800000 \t 1.400000 \t 0.4 \t 0 \t \n",
       "END"
      ]
     },
     "execution_count": 28,
     "metadata": {},
     "output_type": "execute_result"
    }
   ],
   "source": [
    "emin_vac_imd_file.PAIRLIST"
   ]
  },
  {
   "cell_type": "markdown",
   "metadata": {},
   "source": [
    "In the NONBONDED block you specify using NLRELE which method for the evaluation of long-range electrostatic\n",
    "interactions is used. Since you will use the reaction-field method, the value of NLRELE should be equal to\n",
    "1. The long-range electrostatic interactions are truncated beyond a certain cutoff (RCUTL in the PAIRLIST\n",
    "block). Beyond the reaction-field cut-off radius (RCRF) the electrostatic interactions are replaced by a static\n",
    "reaction field with a dielectric permittivity of EPSRF. RCRF and RCUTL should be identical. Because we are\n",
    "doing the energy minimisation in vacuo EPSRF is set to 1. With NSLFEXCL equal to 1, you include the\n",
    "contributions of excluded atoms to the electrostatic energy. The ionic strength of the continuum is set to 0\n",
    "(APPAK). All other switches are not used for the reaction-field method. See 4-98 for more information.\n"
   ]
  },
  {
   "cell_type": "code",
   "execution_count": 29,
   "metadata": {},
   "outputs": [
    {
     "name": "stdout",
     "output_type": "stream",
     "text": [
      "Help on NONBONDED in module pygromos.files.blocks.imd_blocks object:\n",
      "\n",
      "class NONBONDED(_generic_imd_block)\n",
      " |  NONBONDED(NLRELE: int = 0, APPAK: float = 0, RCRF: float = 0, EPSRF: float = 0, NSLFEXCL: bool = False, NSHAPE: int = 0, ASHAPE: float = 0, NA2CLC: int = 0, TOLA2: str = 0, EPSLS: float = 0, NKX: int = 0, NKY: int = 0, NKZ: int = 0, KCUT: float = 0, NGX: int = 0, NGY: int = 0, NGZ: int = 0, NASORD: int = 0, NFDORD: int = 0, NALIAS: int = 0, NSPORD: int = 0, NQEVAL: int = 0, FACCUR: float = 0, NRDGRD: bool = False, NWRGRD: bool = False, NLRLJ: bool = False, SLVDNS: float = 0, content=None)\n",
      " |  \n",
      " |  NONBONDED block\n",
      " |  \n",
      " |      This block is controlling the Nonbonded term evaluation\n",
      " |  \n",
      " |  Attributes\n",
      " |  ----------\n",
      " |  NLRELE: int\n",
      " |      1-3 method to handle electrostatic interactions\n",
      " |      -1 : reaction-field (LSERF compatibility mode)\n",
      " |      0 : no electrostatic interactions\n",
      " |      1 : reaction-field\n",
      " |      2 : Ewald method\n",
      " |      3 : P3M method\n",
      " |  APPAK: float\n",
      " |      >= 0.0 reaction-field inverse Debye screening length\n",
      " |  RCRF: float\n",
      " |      >= 0.0 reaction-field radius\n",
      " |  EPSRF: float\n",
      " |       = 0.0 || > 1.0 reaction-field permittivity\n",
      " |  NSLFEXCL: bool\n",
      " |      contribution of excluded atoms to reaction field false=off/true=on\n",
      " |  NSHAPE: float\n",
      " |      -1..10 lattice sum charge-shaping function\n",
      " |      -1 : gaussian\n",
      " |      0..10 : polynomial\n",
      " |  ASHAPE: float\n",
      " |      > 0.0 width of the lattice sum charge-shaping function\n",
      " |  NA2CLC: int\n",
      " |      0..4 controls evaluation of lattice sum A2 term\n",
      " |      0 : A2 = A2~ = 0\n",
      " |      1 : A2~ exact, A2 = A2~\n",
      " |      2 : A2 numerical, A2~ = A2\n",
      " |      3 : A2~ exact from Ewald or from mesh and atom coords, A2 numerical\n",
      " |      4 : A2~ averaged from mesh only, A2 numerical\n",
      " |  TOLA2: float\n",
      " |       > 0.0 tolerance for numerical A2 evaluation\n",
      " |  EPSLS: float\n",
      " |      = 0.0 || > 1.0 lattice sum permittivity (0.0 = tinfoil)\n",
      " |  NKX, NKY, NKZ: float\n",
      " |      > 0 maximum absolute Ewald k-vector components\n",
      " |  KCUT: float\n",
      " |      > 0.0 Ewald k-space cutoff\n",
      " |  NGX, NGY, NGZ: float\n",
      " |      > 0 P3M number of grid points\n",
      " |  NASORD: int\n",
      " |      1..5 order of mesh charge assignment function\n",
      " |  NFDORD: int\n",
      " |      0..5 order of the mesh finite difference operator\n",
      " |      0 : ik - differentiation\n",
      " |      1..5 : finite differentiation\n",
      " |  NALIAS: float\n",
      " |      > 0 number of mesh alias vectors considered\n",
      " |  NSPORD: float\n",
      " |      order of SPME B-spline functions (not available)\n",
      " |  NQEVAL: float\n",
      " |      >= 0 controls accuracy reevaluation\n",
      " |      0 : do not reevaluate\n",
      " |      > 0 : evaluate every NQEVAL steps\n",
      " |  FACCUR: float\n",
      " |      > 0.0 rms force error threshold to recompute influence function\n",
      " |  NRDGRD: bool\n",
      " |      0,1 read influence function\n",
      " |      0 : calculate influence function at simulation start up\n",
      " |      1 : read influence function from file (not yet implemented)\n",
      " |  NWRGRD: bool\n",
      " |      0,1 write influence function\n",
      " |      0 : do not write\n",
      " |      1 : write at the end of the simulation (not yet implemented)\n",
      " |  NLRLJ: bool\n",
      " |      0,1 controls long-range Lennard-Jones corrections\n",
      " |      0 : no corrections\n",
      " |      1 : do corrections (not yet implemented)\n",
      " |  SLVDNS: float\n",
      " |      > 0.0 average solvent density for long-range LJ correction (ignored)\n",
      " |  \n",
      " |  Method resolution order:\n",
      " |      NONBONDED\n",
      " |      _generic_imd_block\n",
      " |      pygromos.files.blocks._general_blocks._generic_gromos_block\n",
      " |      builtins.object\n",
      " |  \n",
      " |  Methods defined here:\n",
      " |  \n",
      " |  __init__(self, NLRELE: int = 0, APPAK: float = 0, RCRF: float = 0, EPSRF: float = 0, NSLFEXCL: bool = False, NSHAPE: int = 0, ASHAPE: float = 0, NA2CLC: int = 0, TOLA2: str = 0, EPSLS: float = 0, NKX: int = 0, NKY: int = 0, NKZ: int = 0, KCUT: float = 0, NGX: int = 0, NGY: int = 0, NGZ: int = 0, NASORD: int = 0, NFDORD: int = 0, NALIAS: int = 0, NSPORD: int = 0, NQEVAL: int = 0, FACCUR: float = 0, NRDGRD: bool = False, NWRGRD: bool = False, NLRLJ: bool = False, SLVDNS: float = 0, content=None)\n",
      " |      Initialize self.  See help(type(self)) for accurate signature.\n",
      " |  \n",
      " |  ----------------------------------------------------------------------\n",
      " |  Data and other attributes defined here:\n",
      " |  \n",
      " |  __annotations__ = {'APPAK': <class 'float'>, 'ASHAPE': <class 'float'>...\n",
      " |  \n",
      " |  name = 'NONBONDED'\n",
      " |  \n",
      " |  ----------------------------------------------------------------------\n",
      " |  Methods inherited from _generic_imd_block:\n",
      " |  \n",
      " |  block_to_string(self) -> str\n",
      " |  \n",
      " |  read_content_from_str(self, content: List[str])\n",
      " |  \n",
      " |  ----------------------------------------------------------------------\n",
      " |  Methods inherited from pygromos.files.blocks._general_blocks._generic_gromos_block:\n",
      " |  \n",
      " |  __copy__(self)\n",
      " |  \n",
      " |  __deepcopy__(self, memo)\n",
      " |  \n",
      " |  __eq__(self, _generic_gromos_block__o: object) -> bool\n",
      " |      Return self==value.\n",
      " |  \n",
      " |  __iter__(self)\n",
      " |  \n",
      " |  __repr__(self)\n",
      " |      Return repr(self).\n",
      " |  \n",
      " |  __str__(self)\n",
      " |      Return str(self).\n",
      " |  \n",
      " |  get_name(self)\n",
      " |  \n",
      " |  ----------------------------------------------------------------------\n",
      " |  Data descriptors inherited from pygromos.files.blocks._general_blocks._generic_gromos_block:\n",
      " |  \n",
      " |  __dict__\n",
      " |      dictionary for instance variables (if defined)\n",
      " |  \n",
      " |  __weakref__\n",
      " |      list of weak references to the object (if defined)\n",
      " |  \n",
      " |  ----------------------------------------------------------------------\n",
      " |  Data and other attributes inherited from pygromos.files.blocks._general_blocks._generic_gromos_block:\n",
      " |  \n",
      " |  __hash__ = None\n",
      "\n"
     ]
    }
   ],
   "source": [
    "help(emin_vac_imd_file.NONBONDED)"
   ]
  },
  {
   "cell_type": "code",
   "execution_count": 30,
   "metadata": {},
   "outputs": [
    {
     "data": {
      "text/plain": [
       "NONBONDED\n",
       "# \t NLRELE\n",
       " \t 1 \t \n",
       "# \t APPAK \t RCRF \t EPSRF \t NSLFEXCL\n",
       " \t 0.000000 \t 1.400000 \t 61.000000 \t 1 \t \n",
       "# \t NSHAPE \t ASHAPE \t NA2CLC \t TOLA2 \t EPSLS\n",
       " \t -1 \t 1.400000 \t 2 \t 1e-10 \t 0.000000 \t \n",
       "# \t NKX \t NKY \t NKZ \t KCUT\n",
       " \t 10 \t 10 \t 10 \t 100.000000 \t \n",
       "# \t NGX \t NGY \t NGZ \t NASORD \t NFDORD \t NALIAS \t NSPORD\n",
       " \t 32 \t 32 \t 32 \t 3 \t 2 \t 3 \t 4 \t \n",
       "# \t NQEVAL \t FACCUR \t NRDGRD \t NWRGRD\n",
       " \t 100000 \t 1.600000 \t 0 \t 0 \t \n",
       "# \t NLRLJ \t SLVDNS\n",
       " \t 0 \t 33.300000 \t \n",
       "END"
      ]
     },
     "execution_count": 30,
     "metadata": {},
     "output_type": "execute_result"
    }
   ],
   "source": [
    "emin_vac_imd_file.NONBONDED"
   ]
  },
  {
   "cell_type": "markdown",
   "metadata": {},
   "source": [
    "#### Perform Emin\n",
    "In order to run the MD++ program, a shell script needs to be prepared. Open the shell script em peptide.\n",
    "run and adapt the paths and the names of the files according to your system.\n"
   ]
  },
  {
   "cell_type": "code",
   "execution_count": 31,
   "metadata": {},
   "outputs": [
    {
     "data": {
      "text/plain": [
       "\n",
       "GROMOS SYSTEM: peptideH\n",
       "################################################################################\n",
       "WORKDIR: /home/bschroed/Documents/projects/PyGromosTools/examples/example_files/Tutorial_System\n",
       "LAST CHECKPOINT: None\n",
       "\n",
       "GromosXX_bin: /home/bschroed/Documents/projects/gromosXX/gromosXX/build/bin\n",
       "GromosPP_bin: None\n",
       "FILES: \n",
       "\timd: /home/bschroed/Documents/projects/PyGromosTools/pygromos/data/simulation_parameters_templates/vac_emin.imd\n",
       "\ttop: /home/bschroed/Documents/projects/PyGromosTools/examples/example_files/Tutorial_System/peptideH.top\n",
       "\tcnf: /home/bschroed/Documents/projects/PyGromosTools/examples/example_files/Tutorial_System/peptideH.cnf\n",
       "FUTURE PROMISE: False\n",
       "SYSTEM: \n",
       "\tPROTEIN:\tprotein  nresidues: 5 natoms: 71\n",
       "\tLIGANDS:\t[]  resID: []  natoms: 0\n",
       "\tNon-LIGANDS:\t[]  nmolecules: 0  natoms: 0\n",
       "\tSOLVENT:\t[]  nmolecules: 0  natoms: 0\n",
       "\n"
      ]
     },
     "execution_count": 31,
     "metadata": {},
     "output_type": "execute_result"
    }
   ],
   "source": [
    "from pygromos.simulations.modules.preset_simulation_modules import emin\n",
    "\n",
    "out_prefix = \"emin_vacuum\"\n",
    "\n",
    "## Preparing emin gromos system\n",
    "in_emin_system = build_system.copy()\n",
    "in_emin_system.work_folder = project_dir\n",
    "in_emin_system._gromosXX_bin_dir = gromosXX_bin\n",
    "in_emin_system.imd = emin_vac_imd_file # This step is not necessary, as we did this before\n",
    "\n",
    "from pygromos.files.blocks.imd_blocks import WRITETRAJ\n",
    "in_emin_system.imd.add_block(block=WRITETRAJ(NTWE=25, NTWX=25))\n",
    "\n",
    "in_emin_system.prepare_for_simulation()\n",
    "\n",
    "in_emin_system"
   ]
  },
  {
   "cell_type": "code",
   "execution_count": 32,
   "metadata": {},
   "outputs": [
    {
     "name": "stdout",
     "output_type": "stream",
     "text": [
      "################################################################################\n",
      "\n",
      "b_emin_vacuum\n",
      "################################################################################\n",
      "\n",
      "Script:  /home/bschroed/Documents/projects/PyGromosTools/pygromos/simulations/hpc_queuing/job_scheduling/schedulers/simulation_scheduler.py\n",
      "\n",
      "################################################################################\n",
      "Simulation Setup:\n",
      "################################################################################\n",
      "\n",
      "steps_per_run:  3000\n",
      "equis:  0\n",
      "simulation runs:  1\n",
      "################################################################################\n",
      "\n",
      " submit final analysis part \n",
      "\n",
      "/home/bschroed/Documents/projects/PyGromosTools/examples/example_files/Tutorial_System/b_emin_vacuum/ana_out.log\n",
      "/home/bschroed/Documents/projects/PyGromosTools/examples/example_files/Tutorial_System/b_emin_vacuum/job_analysis.py\n",
      "#####################################################################################\n",
      "\t\tERROR in Submission\n",
      "#####################################################################################\n"
     ]
    },
    {
     "name": "stderr",
     "output_type": "stream",
     "text": [
      "Traceback (most recent call last):\n",
      "  File \"/home/bschroed/Documents/projects/PyGromosTools/pygromos/simulations/hpc_queuing/submission_systems/local.py\", line 71, in submit_to_queue\n",
      "    process = bash.execute(command=command, catch_STD=True, env=self.environment)\n",
      "  File \"/home/bschroed/Documents/projects/PyGromosTools/pygromos/utils/bash.py\", line 930, in execute\n",
      "    return execute_subprocess(command=command, verbose=verbose, catch_STD=catch_STD, env=env)\n",
      "  File \"/home/bschroed/Documents/projects/PyGromosTools/pygromos/utils/bash.py\", line 826, in execute_subprocess\n",
      "    raise ChildProcessError(msg)\n",
      "ChildProcessError: SubProcess Failed due to returncode: 1\n",
      " COMMAND: \n",
      "\t./job_b_emin_vacuum_ana.sh\n",
      "STDOUT:\n",
      "\tb'\\tStart omd\\n'\n",
      "\tb\"SEARCH PATTERN: b_emin_vacuum + * +['.omd']\\n\"\n",
      "\tb'walking to in_dir:  simulation found:  0\\n'\n",
      "\tb'walking to in_dir:  b_emin_vacuum_1 found:  1\\n'\n",
      "\tb'\\n'\n",
      "\tb'foundFiles:\\n'\n",
      "\tb'\\n'\n",
      "\tb'\\t/home/bschroed/Documents/projects/PyGromosTools/examples/example_files/Tutorial_System/b_emin_vacuum/simulation/b_emin_vacuum_1/b_emin_vacuum_1.omd\\n'\n",
      "\tb'\\n'\n",
      "\tb'\\tStart Trc Cat\\n'\n",
      "\tb\"SEARCH PATTERN: b_emin_vacuum + * +['.trc', '.trc.gz', '.trc.tar.gz']\\n\"\n",
      "\tb'walking to in_dir:  simulation found:  0\\n'\n",
      "\tb'walking to in_dir:  b_emin_vacuum_1 found:  1\\n'\n",
      "\tb'\\n'\n",
      "\tb'foundFiles:\\n'\n",
      "\tb'\\n'\n",
      "\tb'\\t/home/bschroed/Documents/projects/PyGromosTools/examples/example_files/Tutorial_System/b_emin_vacuum/simulation/b_emin_vacuum_1/b_emin_vacuum_1.trc\\n'\n",
      "\tb'\\n'\n",
      "STDERR:\n",
      "\tb'/home/bschroed/Documents/projects/PyGromosTools/pygromos/simulations/hpc_queuing/job_scheduling/workers/analysis_workers/simulation_analysis.py:114: UserWarning: Skipping concatenation of tres, as there already exists one!\\n'\n",
      "\tb' If you want to generate a new trc. Please delete the old one!\\n'\n",
      "\tb'\\t Path:/home/bschroed/Documents/projects/PyGromosTools/examples/example_files/Tutorial_System/b_emin_vacuum/analysis/data/b_emin_vacuum.cnf\\n'\n",
      "\tb'  warnings.warn(\\n'\n",
      "\tb'Traceback (most recent call last):\\n'\n",
      "\tb'  File \"/home/bschroed/Documents/projects/PyGromosTools/examples/example_files/Tutorial_System/b_emin_vacuum/job_analysis.py\", line 37, in <module>\\n'\n",
      "\tb'    do(in_simulation_dir=in_simulation_dir, out_analysis_dir=out_analysis_dir, sim_prefix=sim_prefix, n_processes=n_processes, control_dict=control_dict, verbose=verbose, )\\n'\n",
      "\tb'  File \"/home/bschroed/Documents/projects/PyGromosTools/pygromos/simulations/hpc_queuing/job_scheduling/workers/analysis_workers/simulation_analysis.py\", line 72, in do\\n'\n",
      "\tb'    project_concatenation(\\n'\n",
      "\tb'  File \"/home/bschroed/Documents/projects/PyGromosTools/pygromos/simulations/hpc_queuing/job_scheduling/workers/analysis_workers/simulation_analysis.py\", line 180, in project_concatenation\\n'\n",
      "\tb'    out_trc_file.write(output_path=out_traj_path)\\n'\n",
      "\tb\"TypeError: write() got an unexpected keyword argument 'output_path'\\n\"\n",
      "\n",
      "During handling of the above exception, another exception occurred:\n",
      "\n",
      "Traceback (most recent call last):\n",
      "  File \"/home/bschroed/Documents/projects/PyGromosTools/pygromos/simulations/hpc_queuing/job_scheduling/schedulers/simulation_scheduler.py\", line 206, in do\n",
      "    ana_previous_job_ID = submission_system.submit_to_queue(sub_job)\n",
      "  File \"/home/bschroed/Documents/projects/PyGromosTools/pygromos/simulations/hpc_queuing/submission_systems/local.py\", line 84, in submit_to_queue\n",
      "    print(process)\n",
      "UnboundLocalError: local variable 'process' referenced before assignment\n",
      "Traceback (most recent call last):\n",
      "  File \"/home/bschroed/Documents/projects/PyGromosTools/pygromos/simulations/hpc_queuing/submission_systems/local.py\", line 71, in submit_to_queue\n",
      "    process = bash.execute(command=command, catch_STD=True, env=self.environment)\n",
      "  File \"/home/bschroed/Documents/projects/PyGromosTools/pygromos/utils/bash.py\", line 930, in execute\n",
      "    return execute_subprocess(command=command, verbose=verbose, catch_STD=catch_STD, env=env)\n",
      "  File \"/home/bschroed/Documents/projects/PyGromosTools/pygromos/utils/bash.py\", line 826, in execute_subprocess\n",
      "    raise ChildProcessError(msg)\n",
      "ChildProcessError: SubProcess Failed due to returncode: 1\n",
      " COMMAND: \n",
      "\t./job_b_emin_vacuum_ana.sh\n",
      "STDOUT:\n",
      "\tb'\\tStart omd\\n'\n",
      "\tb\"SEARCH PATTERN: b_emin_vacuum + * +['.omd']\\n\"\n",
      "\tb'walking to in_dir:  simulation found:  0\\n'\n",
      "\tb'walking to in_dir:  b_emin_vacuum_1 found:  1\\n'\n",
      "\tb'\\n'\n",
      "\tb'foundFiles:\\n'\n",
      "\tb'\\n'\n",
      "\tb'\\t/home/bschroed/Documents/projects/PyGromosTools/examples/example_files/Tutorial_System/b_emin_vacuum/simulation/b_emin_vacuum_1/b_emin_vacuum_1.omd\\n'\n",
      "\tb'\\n'\n",
      "\tb'\\tStart Trc Cat\\n'\n",
      "\tb\"SEARCH PATTERN: b_emin_vacuum + * +['.trc', '.trc.gz', '.trc.tar.gz']\\n\"\n",
      "\tb'walking to in_dir:  simulation found:  0\\n'\n",
      "\tb'walking to in_dir:  b_emin_vacuum_1 found:  1\\n'\n",
      "\tb'\\n'\n",
      "\tb'foundFiles:\\n'\n",
      "\tb'\\n'\n",
      "\tb'\\t/home/bschroed/Documents/projects/PyGromosTools/examples/example_files/Tutorial_System/b_emin_vacuum/simulation/b_emin_vacuum_1/b_emin_vacuum_1.trc\\n'\n",
      "\tb'\\n'\n",
      "STDERR:\n",
      "\tb'/home/bschroed/Documents/projects/PyGromosTools/pygromos/simulations/hpc_queuing/job_scheduling/workers/analysis_workers/simulation_analysis.py:114: UserWarning: Skipping concatenation of tres, as there already exists one!\\n'\n",
      "\tb' If you want to generate a new trc. Please delete the old one!\\n'\n",
      "\tb'\\t Path:/home/bschroed/Documents/projects/PyGromosTools/examples/example_files/Tutorial_System/b_emin_vacuum/analysis/data/b_emin_vacuum.cnf\\n'\n",
      "\tb'  warnings.warn(\\n'\n",
      "\tb'Traceback (most recent call last):\\n'\n",
      "\tb'  File \"/home/bschroed/Documents/projects/PyGromosTools/examples/example_files/Tutorial_System/b_emin_vacuum/job_analysis.py\", line 37, in <module>\\n'\n",
      "\tb'    do(in_simulation_dir=in_simulation_dir, out_analysis_dir=out_analysis_dir, sim_prefix=sim_prefix, n_processes=n_processes, control_dict=control_dict, verbose=verbose, )\\n'\n",
      "\tb'  File \"/home/bschroed/Documents/projects/PyGromosTools/pygromos/simulations/hpc_queuing/job_scheduling/workers/analysis_workers/simulation_analysis.py\", line 72, in do\\n'\n",
      "\tb'    project_concatenation(\\n'\n",
      "\tb'  File \"/home/bschroed/Documents/projects/PyGromosTools/pygromos/simulations/hpc_queuing/job_scheduling/workers/analysis_workers/simulation_analysis.py\", line 180, in project_concatenation\\n'\n",
      "\tb'    out_trc_file.write(output_path=out_traj_path)\\n'\n",
      "\tb\"TypeError: write() got an unexpected keyword argument 'output_path'\\n\"\n",
      "\n",
      "During handling of the above exception, another exception occurred:\n",
      "\n",
      "Traceback (most recent call last):\n",
      "  File \"/home/bschroed/Documents/projects/PyGromosTools/pygromos/simulations/hpc_queuing/job_scheduling/schedulers/simulation_scheduler.py\", line 206, in do\n",
      "    ana_previous_job_ID = submission_system.submit_to_queue(sub_job)\n",
      "  File \"/home/bschroed/Documents/projects/PyGromosTools/pygromos/simulations/hpc_queuing/submission_systems/local.py\", line 84, in submit_to_queue\n",
      "    print(process)\n",
      "UnboundLocalError: local variable 'process' referenced before assignment\n",
      "\n",
      "The above exception was the direct cause of the following exception:\n",
      "\n",
      "Traceback (most recent call last):\n",
      "  File \"/home/bschroed/Documents/projects/PyGromosTools/pygromos/simulations/modules/general_simulation_modules.py\", line 207, in simulation\n",
      "    last_jobID = simulation_scheduler.do(**MD_job_vars)\n",
      "  File \"/home/bschroed/Documents/projects/PyGromosTools/pygromos/simulations/hpc_queuing/job_scheduling/schedulers/simulation_scheduler.py\", line 217, in do\n",
      "    raise IOError(\"ERROR in SUBMISSION!\") from err\n",
      "OSError: ERROR in SUBMISSION!\n"
     ]
    },
    {
     "ename": "Exception",
     "evalue": "Could not submit the commands\n\tERROR in SUBMISSION!",
     "output_type": "error",
     "traceback": [
      "\u001b[0;31m---------------------------------------------------------------------------\u001b[0m",
      "\u001b[0;31mChildProcessError\u001b[0m                         Traceback (most recent call last)",
      "File \u001b[0;32m~/Documents/projects/PyGromosTools/pygromos/simulations/hpc_queuing/submission_systems/local.py:71\u001b[0m, in \u001b[0;36mLOCAL.submit_to_queue\u001b[0;34m(self, sub_job)\u001b[0m\n\u001b[1;32m     <a href='file:///home/bschroed/Documents/projects/PyGromosTools/pygromos/simulations/hpc_queuing/submission_systems/local.py?line=69'>70</a>\u001b[0m \u001b[39mtry\u001b[39;00m:\n\u001b[0;32m---> <a href='file:///home/bschroed/Documents/projects/PyGromosTools/pygromos/simulations/hpc_queuing/submission_systems/local.py?line=70'>71</a>\u001b[0m     process \u001b[39m=\u001b[39m bash\u001b[39m.\u001b[39;49mexecute(command\u001b[39m=\u001b[39;49mcommand, catch_STD\u001b[39m=\u001b[39;49m\u001b[39mTrue\u001b[39;49;00m, env\u001b[39m=\u001b[39;49m\u001b[39mself\u001b[39;49m\u001b[39m.\u001b[39;49menvironment)\n\u001b[1;32m     <a href='file:///home/bschroed/Documents/projects/PyGromosTools/pygromos/simulations/hpc_queuing/submission_systems/local.py?line=71'>72</a>\u001b[0m     std_out_buff \u001b[39m=\u001b[39m \u001b[39mmap\u001b[39m(\u001b[39mstr\u001b[39m, process\u001b[39m.\u001b[39mstdout\u001b[39m.\u001b[39mreadlines())\n",
      "File \u001b[0;32m~/Documents/projects/PyGromosTools/pygromos/utils/bash.py:930\u001b[0m, in \u001b[0;36mexecute\u001b[0;34m(command, verbose, catch_STD, env)\u001b[0m\n\u001b[1;32m    <a href='file:///home/bschroed/Documents/projects/PyGromosTools/pygromos/utils/bash.py?line=928'>929</a>\u001b[0m \u001b[39mdef\u001b[39;00m \u001b[39mexecute\u001b[39m(command: (\u001b[39mstr\u001b[39m \u001b[39mor\u001b[39;00m List[\u001b[39mstr\u001b[39m]), verbose: \u001b[39mbool\u001b[39m \u001b[39m=\u001b[39m \u001b[39mFalse\u001b[39;00m, catch_STD: Union[\u001b[39mbool\u001b[39m, \u001b[39mstr\u001b[39m] \u001b[39m=\u001b[39m \u001b[39mFalse\u001b[39;00m, env: \u001b[39mdict\u001b[39m \u001b[39m=\u001b[39m \u001b[39mNone\u001b[39;00m):\n\u001b[0;32m--> <a href='file:///home/bschroed/Documents/projects/PyGromosTools/pygromos/utils/bash.py?line=929'>930</a>\u001b[0m     \u001b[39mreturn\u001b[39;00m execute_subprocess(command\u001b[39m=\u001b[39;49mcommand, verbose\u001b[39m=\u001b[39;49mverbose, catch_STD\u001b[39m=\u001b[39;49mcatch_STD, env\u001b[39m=\u001b[39;49menv)\n",
      "File \u001b[0;32m~/Documents/projects/PyGromosTools/pygromos/utils/bash.py:826\u001b[0m, in \u001b[0;36mexecute_subprocess\u001b[0;34m(command, catch_STD, env, verbose)\u001b[0m\n\u001b[1;32m    <a href='file:///home/bschroed/Documents/projects/PyGromosTools/pygromos/utils/bash.py?line=824'>825</a>\u001b[0m     msg \u001b[39m+\u001b[39m\u001b[39m=\u001b[39m \u001b[39m\"\u001b[39m\u001b[39mNONE\u001b[39m\u001b[39m\"\u001b[39m \u001b[39mif\u001b[39;00m (p\u001b[39m.\u001b[39mstdout \u001b[39mis\u001b[39;00m \u001b[39mNone\u001b[39;00m) \u001b[39melse\u001b[39;00m \u001b[39m\"\u001b[39m\u001b[39m\\n\u001b[39;00m\u001b[39m\\t\u001b[39;00m\u001b[39m\"\u001b[39m\u001b[39m.\u001b[39mjoin(\u001b[39mmap\u001b[39m(\u001b[39mstr\u001b[39m, p\u001b[39m.\u001b[39mstderr\u001b[39m.\u001b[39mreadlines()))\n\u001b[0;32m--> <a href='file:///home/bschroed/Documents/projects/PyGromosTools/pygromos/utils/bash.py?line=825'>826</a>\u001b[0m     \u001b[39mraise\u001b[39;00m \u001b[39mChildProcessError\u001b[39;00m(msg)\n\u001b[1;32m    <a href='file:///home/bschroed/Documents/projects/PyGromosTools/pygromos/utils/bash.py?line=826'>827</a>\u001b[0m \u001b[39mif\u001b[39;00m verbose:\n",
      "\u001b[0;31mChildProcessError\u001b[0m: SubProcess Failed due to returncode: 1\n COMMAND: \n\t./job_b_emin_vacuum_ana.sh\nSTDOUT:\n\tb'\\tStart omd\\n'\n\tb\"SEARCH PATTERN: b_emin_vacuum + * +['.omd']\\n\"\n\tb'walking to in_dir:  simulation found:  0\\n'\n\tb'walking to in_dir:  b_emin_vacuum_1 found:  1\\n'\n\tb'\\n'\n\tb'foundFiles:\\n'\n\tb'\\n'\n\tb'\\t/home/bschroed/Documents/projects/PyGromosTools/examples/example_files/Tutorial_System/b_emin_vacuum/simulation/b_emin_vacuum_1/b_emin_vacuum_1.omd\\n'\n\tb'\\n'\n\tb'\\tStart Trc Cat\\n'\n\tb\"SEARCH PATTERN: b_emin_vacuum + * +['.trc', '.trc.gz', '.trc.tar.gz']\\n\"\n\tb'walking to in_dir:  simulation found:  0\\n'\n\tb'walking to in_dir:  b_emin_vacuum_1 found:  1\\n'\n\tb'\\n'\n\tb'foundFiles:\\n'\n\tb'\\n'\n\tb'\\t/home/bschroed/Documents/projects/PyGromosTools/examples/example_files/Tutorial_System/b_emin_vacuum/simulation/b_emin_vacuum_1/b_emin_vacuum_1.trc\\n'\n\tb'\\n'\nSTDERR:\n\tb'/home/bschroed/Documents/projects/PyGromosTools/pygromos/simulations/hpc_queuing/job_scheduling/workers/analysis_workers/simulation_analysis.py:114: UserWarning: Skipping concatenation of tres, as there already exists one!\\n'\n\tb' If you want to generate a new trc. Please delete the old one!\\n'\n\tb'\\t Path:/home/bschroed/Documents/projects/PyGromosTools/examples/example_files/Tutorial_System/b_emin_vacuum/analysis/data/b_emin_vacuum.cnf\\n'\n\tb'  warnings.warn(\\n'\n\tb'Traceback (most recent call last):\\n'\n\tb'  File \"/home/bschroed/Documents/projects/PyGromosTools/examples/example_files/Tutorial_System/b_emin_vacuum/job_analysis.py\", line 37, in <module>\\n'\n\tb'    do(in_simulation_dir=in_simulation_dir, out_analysis_dir=out_analysis_dir, sim_prefix=sim_prefix, n_processes=n_processes, control_dict=control_dict, verbose=verbose, )\\n'\n\tb'  File \"/home/bschroed/Documents/projects/PyGromosTools/pygromos/simulations/hpc_queuing/job_scheduling/workers/analysis_workers/simulation_analysis.py\", line 72, in do\\n'\n\tb'    project_concatenation(\\n'\n\tb'  File \"/home/bschroed/Documents/projects/PyGromosTools/pygromos/simulations/hpc_queuing/job_scheduling/workers/analysis_workers/simulation_analysis.py\", line 180, in project_concatenation\\n'\n\tb'    out_trc_file.write(output_path=out_traj_path)\\n'\n\tb\"TypeError: write() got an unexpected keyword argument 'output_path'\\n\"",
      "\nDuring handling of the above exception, another exception occurred:\n",
      "\u001b[0;31mUnboundLocalError\u001b[0m                         Traceback (most recent call last)",
      "File \u001b[0;32m~/Documents/projects/PyGromosTools/pygromos/simulations/hpc_queuing/job_scheduling/schedulers/simulation_scheduler.py:206\u001b[0m, in \u001b[0;36mdo\u001b[0;34m(in_simSystem, out_dir_path, simulation_run_num, equilibration_run_num, initialize_first_run, reinitialize_every_run, analysis_script_path, submission_system, previous_job_ID, _no_double_submit_check, _work_dir, verbose, verbose_lvl)\u001b[0m\n\u001b[1;32m    <a href='file:///home/bschroed/Documents/projects/PyGromosTools/pygromos/simulations/hpc_queuing/job_scheduling/schedulers/simulation_scheduler.py?line=199'>200</a>\u001b[0m sub_job \u001b[39m=\u001b[39m Submission_job(\n\u001b[1;32m    <a href='file:///home/bschroed/Documents/projects/PyGromosTools/pygromos/simulations/hpc_queuing/job_scheduling/schedulers/simulation_scheduler.py?line=200'>201</a>\u001b[0m     command\u001b[39m=\u001b[39m\u001b[39m\"\u001b[39m\u001b[39mpython3 \u001b[39m\u001b[39m\"\u001b[39m \u001b[39m+\u001b[39m analysis_script_path,\n\u001b[1;32m    <a href='file:///home/bschroed/Documents/projects/PyGromosTools/pygromos/simulations/hpc_queuing/job_scheduling/schedulers/simulation_scheduler.py?line=201'>202</a>\u001b[0m     jobName\u001b[39m=\u001b[39mtmp_jobname,\n\u001b[1;32m    <a href='file:///home/bschroed/Documents/projects/PyGromosTools/pygromos/simulations/hpc_queuing/job_scheduling/schedulers/simulation_scheduler.py?line=202'>203</a>\u001b[0m     outLog\u001b[39m=\u001b[39mana_log,\n\u001b[1;32m    <a href='file:///home/bschroed/Documents/projects/PyGromosTools/pygromos/simulations/hpc_queuing/job_scheduling/schedulers/simulation_scheduler.py?line=203'>204</a>\u001b[0m     queue_after_jobID\u001b[39m=\u001b[39mprevious_job_ID,\n\u001b[1;32m    <a href='file:///home/bschroed/Documents/projects/PyGromosTools/pygromos/simulations/hpc_queuing/job_scheduling/schedulers/simulation_scheduler.py?line=204'>205</a>\u001b[0m )\n\u001b[0;32m--> <a href='file:///home/bschroed/Documents/projects/PyGromosTools/pygromos/simulations/hpc_queuing/job_scheduling/schedulers/simulation_scheduler.py?line=205'>206</a>\u001b[0m ana_previous_job_ID \u001b[39m=\u001b[39m submission_system\u001b[39m.\u001b[39;49msubmit_to_queue(sub_job)\n\u001b[1;32m    <a href='file:///home/bschroed/Documents/projects/PyGromosTools/pygromos/simulations/hpc_queuing/job_scheduling/schedulers/simulation_scheduler.py?line=207'>208</a>\u001b[0m \u001b[39mif\u001b[39;00m verbose:\n",
      "File \u001b[0;32m~/Documents/projects/PyGromosTools/pygromos/simulations/hpc_queuing/submission_systems/local.py:84\u001b[0m, in \u001b[0;36mLOCAL.submit_to_queue\u001b[0;34m(self, sub_job)\u001b[0m\n\u001b[1;32m     <a href='file:///home/bschroed/Documents/projects/PyGromosTools/pygromos/simulations/hpc_queuing/submission_systems/local.py?line=82'>83</a>\u001b[0m \u001b[39mtry\u001b[39;00m:\n\u001b[0;32m---> <a href='file:///home/bschroed/Documents/projects/PyGromosTools/pygromos/simulations/hpc_queuing/submission_systems/local.py?line=83'>84</a>\u001b[0m     \u001b[39mprint\u001b[39m(process)\n\u001b[1;32m     <a href='file:///home/bschroed/Documents/projects/PyGromosTools/pygromos/simulations/hpc_queuing/submission_systems/local.py?line=84'>85</a>\u001b[0m \u001b[39mexcept\u001b[39;00m \u001b[39mChildProcessError\u001b[39;00m:\n",
      "\u001b[0;31mUnboundLocalError\u001b[0m: local variable 'process' referenced before assignment",
      "\nThe above exception was the direct cause of the following exception:\n",
      "\u001b[0;31mOSError\u001b[0m                                   Traceback (most recent call last)",
      "File \u001b[0;32m~/Documents/projects/PyGromosTools/pygromos/simulations/modules/general_simulation_modules.py:207\u001b[0m, in \u001b[0;36msimulation\u001b[0;34m(in_gromos_simulation_system, override_project_dir, step_name, in_imd_path, submission_system, simulation_runs, equilibration_runs, previous_simulation_run, force_simulation, initialize_first_run, reinitialize_every_run, analysis_script, analysis_control_dict, _no_double_submit_check, _work_dir, verbose, verbose_lvl, _template_imd_path)\u001b[0m\n\u001b[1;32m    <a href='file:///home/bschroed/Documents/projects/PyGromosTools/pygromos/simulations/modules/general_simulation_modules.py?line=205'>206</a>\u001b[0m     \u001b[39melse\u001b[39;00m:\n\u001b[0;32m--> <a href='file:///home/bschroed/Documents/projects/PyGromosTools/pygromos/simulations/modules/general_simulation_modules.py?line=206'>207</a>\u001b[0m         last_jobID \u001b[39m=\u001b[39m simulation_scheduler\u001b[39m.\u001b[39;49mdo(\u001b[39m*\u001b[39;49m\u001b[39m*\u001b[39;49mMD_job_vars)\n\u001b[1;32m    <a href='file:///home/bschroed/Documents/projects/PyGromosTools/pygromos/simulations/modules/general_simulation_modules.py?line=207'>208</a>\u001b[0m \u001b[39mexcept\u001b[39;00m \u001b[39mException\u001b[39;00m \u001b[39mas\u001b[39;00m err:\n",
      "File \u001b[0;32m~/Documents/projects/PyGromosTools/pygromos/simulations/hpc_queuing/job_scheduling/schedulers/simulation_scheduler.py:217\u001b[0m, in \u001b[0;36mdo\u001b[0;34m(in_simSystem, out_dir_path, simulation_run_num, equilibration_run_num, initialize_first_run, reinitialize_every_run, analysis_script_path, submission_system, previous_job_ID, _no_double_submit_check, _work_dir, verbose, verbose_lvl)\u001b[0m\n\u001b[1;32m    <a href='file:///home/bschroed/Documents/projects/PyGromosTools/pygromos/simulations/hpc_queuing/job_scheduling/schedulers/simulation_scheduler.py?line=215'>216</a>\u001b[0m     traceback\u001b[39m.\u001b[39mprint_exception(\u001b[39m*\u001b[39msys\u001b[39m.\u001b[39mexc_info())\n\u001b[0;32m--> <a href='file:///home/bschroed/Documents/projects/PyGromosTools/pygromos/simulations/hpc_queuing/job_scheduling/schedulers/simulation_scheduler.py?line=216'>217</a>\u001b[0m     \u001b[39mraise\u001b[39;00m \u001b[39mIOError\u001b[39;00m(\u001b[39m\"\u001b[39m\u001b[39mERROR in SUBMISSION!\u001b[39m\u001b[39m\"\u001b[39m) \u001b[39mfrom\u001b[39;00m \u001b[39merr\u001b[39;00m\n\u001b[1;32m    <a href='file:///home/bschroed/Documents/projects/PyGromosTools/pygromos/simulations/hpc_queuing/job_scheduling/schedulers/simulation_scheduler.py?line=218'>219</a>\u001b[0m \u001b[39m# in_simSystem._future_promise = False #reset future promising if necessary\u001b[39;00m\n",
      "\u001b[0;31mOSError\u001b[0m: ERROR in SUBMISSION!",
      "\nDuring handling of the above exception, another exception occurred:\n",
      "\u001b[0;31mException\u001b[0m                                 Traceback (most recent call last)",
      "Input \u001b[0;32mIn [32]\u001b[0m, in \u001b[0;36m<cell line: 1>\u001b[0;34m()\u001b[0m\n\u001b[0;32m----> 1\u001b[0m out_emin_system \u001b[39m=\u001b[39m emin(in_gromos_system\u001b[39m=\u001b[39;49min_emin_system,\n\u001b[1;32m      2\u001b[0m                        step_name\u001b[39m=\u001b[39;49m\u001b[39m\"\u001b[39;49m\u001b[39mb_\u001b[39;49m\u001b[39m\"\u001b[39;49m\u001b[39m+\u001b[39;49mout_prefix)\n",
      "File \u001b[0;32m~/Documents/projects/PyGromosTools/pygromos/simulations/modules/preset_simulation_modules.py:45\u001b[0m, in \u001b[0;36memin\u001b[0;34m(in_gromos_system, step_name, override_project_dir, in_imd_path, submission_system, simulation_runs, equilibration_runs, previous_simulation_run, _template_imd_path, _no_double_submit_check, initialize_first_run, analysis_script, verbose)\u001b[0m\n\u001b[1;32m     <a href='file:///home/bschroed/Documents/projects/PyGromosTools/pygromos/simulations/modules/preset_simulation_modules.py?line=41'>42</a>\u001b[0m     \u001b[39mif\u001b[39;00m in_gromos_system\u001b[39m.\u001b[39mimd\u001b[39m.\u001b[39mWRITETRAJ\u001b[39m.\u001b[39mNTWG \u001b[39m>\u001b[39m \u001b[39m0\u001b[39m:\n\u001b[1;32m     <a href='file:///home/bschroed/Documents/projects/PyGromosTools/pygromos/simulations/modules/preset_simulation_modules.py?line=42'>43</a>\u001b[0m         template_emin_control_dict[\u001b[39m\"\u001b[39m\u001b[39mconcat\u001b[39m\u001b[39m\"\u001b[39m][\u001b[39m\"\u001b[39m\u001b[39mcat_trg\u001b[39m\u001b[39m\"\u001b[39m] \u001b[39m=\u001b[39m \u001b[39mFalse\u001b[39;00m\n\u001b[0;32m---> <a href='file:///home/bschroed/Documents/projects/PyGromosTools/pygromos/simulations/modules/preset_simulation_modules.py?line=44'>45</a>\u001b[0m \u001b[39mreturn\u001b[39;00m simulation(\n\u001b[1;32m     <a href='file:///home/bschroed/Documents/projects/PyGromosTools/pygromos/simulations/modules/preset_simulation_modules.py?line=45'>46</a>\u001b[0m     in_gromos_simulation_system\u001b[39m=\u001b[39;49min_gromos_system,\n\u001b[1;32m     <a href='file:///home/bschroed/Documents/projects/PyGromosTools/pygromos/simulations/modules/preset_simulation_modules.py?line=46'>47</a>\u001b[0m     override_project_dir\u001b[39m=\u001b[39;49moverride_project_dir,\n\u001b[1;32m     <a href='file:///home/bschroed/Documents/projects/PyGromosTools/pygromos/simulations/modules/preset_simulation_modules.py?line=47'>48</a>\u001b[0m     previous_simulation_run\u001b[39m=\u001b[39;49mprevious_simulation_run,\n\u001b[1;32m     <a href='file:///home/bschroed/Documents/projects/PyGromosTools/pygromos/simulations/modules/preset_simulation_modules.py?line=48'>49</a>\u001b[0m     step_name\u001b[39m=\u001b[39;49mstep_name,\n\u001b[1;32m     <a href='file:///home/bschroed/Documents/projects/PyGromosTools/pygromos/simulations/modules/preset_simulation_modules.py?line=49'>50</a>\u001b[0m     in_imd_path\u001b[39m=\u001b[39;49min_imd_path,\n\u001b[1;32m     <a href='file:///home/bschroed/Documents/projects/PyGromosTools/pygromos/simulations/modules/preset_simulation_modules.py?line=50'>51</a>\u001b[0m     submission_system\u001b[39m=\u001b[39;49msubmission_system,\n\u001b[1;32m     <a href='file:///home/bschroed/Documents/projects/PyGromosTools/pygromos/simulations/modules/preset_simulation_modules.py?line=51'>52</a>\u001b[0m     initialize_first_run\u001b[39m=\u001b[39;49minitialize_first_run,\n\u001b[1;32m     <a href='file:///home/bschroed/Documents/projects/PyGromosTools/pygromos/simulations/modules/preset_simulation_modules.py?line=52'>53</a>\u001b[0m     simulation_runs\u001b[39m=\u001b[39;49msimulation_runs,\n\u001b[1;32m     <a href='file:///home/bschroed/Documents/projects/PyGromosTools/pygromos/simulations/modules/preset_simulation_modules.py?line=53'>54</a>\u001b[0m     equilibration_runs\u001b[39m=\u001b[39;49mequilibration_runs,\n\u001b[1;32m     <a href='file:///home/bschroed/Documents/projects/PyGromosTools/pygromos/simulations/modules/preset_simulation_modules.py?line=54'>55</a>\u001b[0m     analysis_control_dict\u001b[39m=\u001b[39;49mtemplate_emin_control_dict,\n\u001b[1;32m     <a href='file:///home/bschroed/Documents/projects/PyGromosTools/pygromos/simulations/modules/preset_simulation_modules.py?line=55'>56</a>\u001b[0m     analysis_script\u001b[39m=\u001b[39;49manalysis_script,\n\u001b[1;32m     <a href='file:///home/bschroed/Documents/projects/PyGromosTools/pygromos/simulations/modules/preset_simulation_modules.py?line=56'>57</a>\u001b[0m     _template_imd_path\u001b[39m=\u001b[39;49m_template_imd_path,\n\u001b[1;32m     <a href='file:///home/bschroed/Documents/projects/PyGromosTools/pygromos/simulations/modules/preset_simulation_modules.py?line=57'>58</a>\u001b[0m     _no_double_submit_check\u001b[39m=\u001b[39;49m_no_double_submit_check,\n\u001b[1;32m     <a href='file:///home/bschroed/Documents/projects/PyGromosTools/pygromos/simulations/modules/preset_simulation_modules.py?line=58'>59</a>\u001b[0m     verbose\u001b[39m=\u001b[39;49mverbose,\n\u001b[1;32m     <a href='file:///home/bschroed/Documents/projects/PyGromosTools/pygromos/simulations/modules/preset_simulation_modules.py?line=59'>60</a>\u001b[0m )\n",
      "File \u001b[0;32m~/Documents/projects/PyGromosTools/pygromos/simulations/modules/general_simulation_modules.py:210\u001b[0m, in \u001b[0;36msimulation\u001b[0;34m(in_gromos_simulation_system, override_project_dir, step_name, in_imd_path, submission_system, simulation_runs, equilibration_runs, previous_simulation_run, force_simulation, initialize_first_run, reinitialize_every_run, analysis_script, analysis_control_dict, _no_double_submit_check, _work_dir, verbose, verbose_lvl, _template_imd_path)\u001b[0m\n\u001b[1;32m    <a href='file:///home/bschroed/Documents/projects/PyGromosTools/pygromos/simulations/modules/general_simulation_modules.py?line=207'>208</a>\u001b[0m \u001b[39mexcept\u001b[39;00m \u001b[39mException\u001b[39;00m \u001b[39mas\u001b[39;00m err:\n\u001b[1;32m    <a href='file:///home/bschroed/Documents/projects/PyGromosTools/pygromos/simulations/modules/general_simulation_modules.py?line=208'>209</a>\u001b[0m     traceback\u001b[39m.\u001b[39mprint_exception(\u001b[39m*\u001b[39msys\u001b[39m.\u001b[39mexc_info())\n\u001b[0;32m--> <a href='file:///home/bschroed/Documents/projects/PyGromosTools/pygromos/simulations/modules/general_simulation_modules.py?line=209'>210</a>\u001b[0m     \u001b[39mraise\u001b[39;00m \u001b[39mException\u001b[39;00m(\u001b[39m\"\u001b[39m\u001b[39mCould not submit the commands\u001b[39m\u001b[39m\\n\u001b[39;00m\u001b[39m\\t\u001b[39;00m\u001b[39m\"\u001b[39m \u001b[39m+\u001b[39m \u001b[39m\"\u001b[39m\u001b[39m\\n\u001b[39;00m\u001b[39m\\t\u001b[39;00m\u001b[39m\"\u001b[39m\u001b[39m.\u001b[39mjoin(\u001b[39mmap\u001b[39m(\u001b[39mstr\u001b[39m, err\u001b[39m.\u001b[39margs)))\n\u001b[1;32m    <a href='file:///home/bschroed/Documents/projects/PyGromosTools/pygromos/simulations/modules/general_simulation_modules.py?line=211'>212</a>\u001b[0m time\u001b[39m.\u001b[39msleep(time_wait_s_for_filesystem)\n\u001b[1;32m    <a href='file:///home/bschroed/Documents/projects/PyGromosTools/pygromos/simulations/modules/general_simulation_modules.py?line=213'>214</a>\u001b[0m \u001b[39m# Return the promise final system\u001b[39;00m\n",
      "\u001b[0;31mException\u001b[0m: Could not submit the commands\n\tERROR in SUBMISSION!"
     ]
    }
   ],
   "source": [
    "out_emin_system = emin(in_gromos_system=in_emin_system,\n",
    "                       step_name=\"b_\"+out_prefix)"
   ]
  },
  {
   "cell_type": "markdown",
   "metadata": {},
   "source": [
    "#### Analysis \n",
    "Once the energy minimisation is finished, the file with the minimized coordinates, peptide min.cnf, and the general output file, em peptide.omd, that reports the progress of the minimisation, will be written out.\n",
    "Have a look at both files and check if the minimisation has finished successfully. \n",
    "\n"
   ]
  },
  {
   "cell_type": "code",
   "execution_count": null,
   "metadata": {},
   "outputs": [],
   "source": [
    "out_emin_system.cnf.view"
   ]
  },
  {
   "cell_type": "markdown",
   "metadata": {},
   "source": [
    "This is nice, but how do we actually get to this structure! In the next cell the development of the total Potential  energy over the energyminimization steps is shown. As you can see, the Potential energy of the whole system is decreasing, which indicates a relaxatio of the peptide structure and an optimization of the different forcefield terms. Ergo finding a minimal total potential system energy as possible is desirable in energyminimizations."
   ]
  },
  {
   "cell_type": "code",
   "execution_count": null,
   "metadata": {},
   "outputs": [],
   "source": [
    "out_emin_system.tre.get_totals().totene.plot(xlabel=\"steps\", ylabel=\"$V_{tot}~[kJ/mol]$\")\n",
    "pass"
   ]
  },
  {
   "cell_type": "markdown",
   "metadata": {},
   "source": [
    "The effect seend in the total potential energy can also be observed of course in the peptide molecue coordinats."
   ]
  },
  {
   "cell_type": "code",
   "execution_count": null,
   "metadata": {},
   "outputs": [],
   "source": [
    "view = out_emin_system.trc.visualize(out_emin_system.cnf)\n",
    "view"
   ]
  },
  {
   "cell_type": "markdown",
   "metadata": {},
   "source": [
    "Finally we wan to store our energy minimization results as a python pickle obj."
   ]
  },
  {
   "cell_type": "code",
   "execution_count": null,
   "metadata": {},
   "outputs": [],
   "source": [
    "out_emin_system_path = out_emin_system.save(out_emin_system.work_folder+\"/emin_vac_result.obj\")\n",
    "out_emin_system_path"
   ]
  },
  {
   "cell_type": "markdown",
   "metadata": {
    "pycharm": {
     "name": "#%% md\n"
    }
   },
   "source": [
    "## Solvatistation and Solvent Energy Minimization\n",
    "\n",
    "Now you can put the energy minimized penta-peptide in a box of solvent to simulate an aequos environment. This can be done with the *sim_box* function of the gromosSyste, which can solvate the solute in a pre-equilibrated box of solvent molecules. As input for the function *sim_box* you have to specify the following input arguments:\n",
    "* **periodic_boundary_condition**: the resulting box shape under the argument (r - rectangular, t - truncated octahedron, c - triclinic)\n",
    "* **in_solvent_cnf_file_path**: the coordinate file of the pre-equilibrated box of solvent molecules under the argument (we are using a template $H_2O$ of the SPC model provided in pygromos.data.solvent_coordinates)\n",
    "* **minwall**: minimum solute-to-wall distance in $nm$\n",
    "* **threshold**: the minimum solute-to-solvent distance ins $nm$\n",
    "* **rotate**: If you are using a rectangular box (@pbc r) it is recommended to use an additional argument. With this additional argument the solute can be rotated (before solvating) such that the largest distance between any two solute atoms is directed along the z-axis, and the largest atom-atom distance in the xy-plane lies in the y-direction. An input file sim box peptide.arg is already prepared. \n"
   ]
  },
  {
   "cell_type": "code",
   "execution_count": null,
   "metadata": {},
   "outputs": [],
   "source": [
    "help(out_emin_system.sim_box)"
   ]
  },
  {
   "cell_type": "markdown",
   "metadata": {},
   "source": [
    "### build box system\n",
    "To put the solvent box around the penta-peptide use following commands:\n"
   ]
  },
  {
   "cell_type": "code",
   "execution_count": null,
   "metadata": {},
   "outputs": [],
   "source": [
    "from pygromos.data.solvent_coordinates import spc\n",
    "\n",
    "#setup a fresh gromos System:\n",
    "box_system = out_emin_system.copy()\n",
    "#box_system = gromos_system.Gromos_System.load(out_emin_system_path) #if you do this step after a break, you could also decide to load the serialized obj from before.\n",
    "\n",
    "box_system.imd = None\n",
    "box_system.name = \"solvate_box\"\n",
    "box_system.work_folder = bash.make_folder(project_dir+\"/c_\"+box_system.name)\n",
    "\n",
    "\n",
    "## set box and solvate the system\n",
    "box_system.cnf.add_empty_box()\n",
    "box_system.sim_box(in_solvent_cnf_file_path=spc,\n",
    "                 periodic_boundary_condition=\"r\",\n",
    "                 minwall=0.8,\n",
    "                 threshold=0.23,\n",
    "                 rotate=False)\n",
    "\n",
    "#box_system.cnf\n",
    "box_system.rebase_files() #write out the files (optional) - so you can check them in the folder\n",
    "box_system.cnf.visualize() #show the results"
   ]
  },
  {
   "cell_type": "markdown",
   "metadata": {
    "pycharm": {
     "name": "#%% md\n"
    }
   },
   "source": [
    "### Add Ions\n",
    "After solvating the system, two $Cl-$ ions shall be added to the box as counter charges for the two positive peptide residues (Arginine and Lysine).\n",
    "\n",
    "To add the ions, we need to know the name of the building block in Gromos54A7. We can checkout the names of the Atomtype names in the topology of our system: "
   ]
  },
  {
   "cell_type": "code",
   "execution_count": null,
   "metadata": {},
   "outputs": [],
   "source": [
    "print([ a for a in box_system.top.ATOMTYPENAME])"
   ]
  },
  {
   "cell_type": "markdown",
   "metadata": {},
   "source": [
    "After finding the atomtype name (hint: 'CL-'), we next can use it to add two of these ions to our system with the ion function."
   ]
  },
  {
   "cell_type": "code",
   "execution_count": null,
   "metadata": {},
   "outputs": [],
   "source": [
    "help(box_system.ion)"
   ]
  },
  {
   "cell_type": "code",
   "execution_count": null,
   "metadata": {},
   "outputs": [],
   "source": [
    "from pygromos.data.solvent_coordinates import spc\n",
    "\n",
    "## Build directory and setup a fresh Gromos System\n",
    "ion_system = box_system.copy() \n",
    "ion_system.name = \"ion\"\n",
    "ion_system.work_folder = bash.make_folder(project_dir+\"/d_\"+ion_system.name)\n",
    "\n",
    "#Add the ions to the System\n",
    "ion_system.ion(negative=[2, \"CL-\"])\n",
    "\n",
    "\n",
    "ion_system.rebase_files()   #write out the files, so you can check them (optional)\n",
    "ion_system.cnf.visualize()  #show the results."
   ]
  },
  {
   "cell_type": "markdown",
   "metadata": {
    "pycharm": {
     "name": "#%% md\n"
    }
   },
   "source": [
    "### Energy Minimization BOX\n",
    "\n",
    "In order to relax the unfavorable atom-atom contacts between the solute and the solvent, energy minimization of the solvent should be performed while keeping the solute positionally restrained (i.e. connecting the atom to a reference position by a spring). In order to do that two additional files, in which the positionally restrained atoms and the reference coordinates are specified, have to be generated from the coordinate file in our gromos system. Afterwards, we are going to run the second energy minimization"
   ]
  },
  {
   "cell_type": "markdown",
   "metadata": {},
   "source": [
    "#### build posistion restraints\n",
    "To apply position restraints to our simulation for the peptide, we first need to generate a selection of residues, that shall not be modified by the energyminimization. This translates to the residues of the peptide. After this the function generate_posres can be used to generate two files.\n",
    "* **position restraints - posres(.por)**\n",
    "    This file defines the selection of atoms, that shall be restrained during the simulation.\n",
    "* **reference position - refpos (.rpf)**\n",
    "    This files defines a reference position for the system. Gromos will restrain the selected atoms in the posres file to the reference position file. So if the atom position during the simulation deviates from the refpos file, the program will restrain the atom, such it moves towards the reference position.\n"
   ]
  },
  {
   "cell_type": "code",
   "execution_count": null,
   "metadata": {},
   "outputs": [],
   "source": [
    "\n",
    "from pygromos.simulations.modules.preset_simulation_modules import emin\n",
    "from pygromos.data.simulation_parameters_templates import template_emin\n",
    "\n",
    "# Preparing emin gromos system\n",
    "in_eminBox_system = ion_system.copy()\n",
    "in_eminBox_system.name = \"emin_solvBox\"\n",
    "in_eminBox_system.work_folder = project_dir\n",
    "\n",
    "# Build position restraints\n",
    "## Build selection for residues\n",
    "restrain_res = [k for k in in_eminBox_system.cnf.residues if(not k in (\"CL-\", \"SOLV\"))]\n",
    "print(\"Selection of residues: \", restrain_res)\n",
    "## Build the restrain files\n",
    "in_eminBox_system.generate_posres(residues=restrain_res)\n",
    "\n",
    "# Check simulation params\n",
    "in_eminBox_system.imd = template_emin   #Here we use template simulation parameters, The blocks are the same as above in the vacuum case with slight deviations.\n",
    "in_eminBox_system.imd.INITIALISE.NTISHI = 1\n",
    "\n",
    "in_eminBox_system.prepare_for_simulation()\n",
    "\n",
    "in_eminBox_system"
   ]
  },
  {
   "cell_type": "markdown",
   "metadata": {},
   "source": [
    "In the ouptut of the in_eminBox_system two new files appeared the posres and refpos file:\n"
   ]
  },
  {
   "cell_type": "code",
   "execution_count": null,
   "metadata": {},
   "outputs": [],
   "source": [
    "print(in_eminBox_system.posres)"
   ]
  },
  {
   "cell_type": "code",
   "execution_count": null,
   "metadata": {},
   "outputs": [],
   "source": [
    "in_eminBox_system.refpos "
   ]
  },
  {
   "cell_type": "markdown",
   "metadata": {},
   "source": [
    "#### Perform Emin\n",
    "Now we will perform the solvent box energy minimization with the restrained peptide."
   ]
  },
  {
   "cell_type": "code",
   "execution_count": null,
   "metadata": {},
   "outputs": [],
   "source": [
    "# run emin\n",
    "out_eminBox_system = emin(in_gromos_system=in_eminBox_system, \n",
    "                          step_name=\"e_\"+in_eminBox_system.name)\n",
    "\n",
    "#show resulting coordinates\n",
    "out_eminBox_system.cnf.visualize()"
   ]
  },
  {
   "cell_type": "markdown",
   "metadata": {},
   "source": [
    "Whoops what happened here? What you see is the effect of the periodic box and the  peptide placed directly at the corners of the box. \n",
    "This is absolutely ok and there is nothing to worry about. We can recenter the peptide and then we see the expected same configuration like from the vacuum emin."
   ]
  },
  {
   "cell_type": "code",
   "execution_count": null,
   "metadata": {},
   "outputs": [],
   "source": [
    "from copy import deepcopy\n",
    "c = deepcopy(out_eminBox_system.cnf) #we don't want to modify the output of the cnf, as we want to continue with our pbc. Therefore we copy the positions.\n",
    "\n",
    "c.shift_periodic_boundary()\n",
    "c.visualize()"
   ]
  },
  {
   "cell_type": "code",
   "execution_count": null,
   "metadata": {},
   "outputs": [],
   "source": [
    "out_eminBox_system_path = out_eminBox_system.save(out_eminBox_system.work_folder+\"/emin_box_result.obj\")\n"
   ]
  },
  {
   "cell_type": "markdown",
   "metadata": {
    "pycharm": {
     "name": "#%% md\n"
    }
   },
   "source": [
    "## Thermalisation and equilibration.\n",
    "\n",
    "In the previous steps you have generated a topology and initial coordinates of your system. At this point,\n",
    "you have to generate initial velocities. In the process of thermalisation and equilibration, initial velocities\n",
    "are sampled from a Maxwell-Boltzmann distribution at a low temperature and the system is slowly heated\n",
    "up to the final production simulation temperature. The atoms of the solute are again positionally restrained and\n",
    "these restraints are loosened while heating up. With the help of these restraints you make sure that the\n",
    "random initial velocities do not disrupt the initial conformation too much.\n",
    "\n",
    "### Simulation Paramters\n",
    "To performe the described equilibration we require additional Simulation Parameter blocks that will be described in the following. First we will load a simulation parameter template for MD simulations."
   ]
  },
  {
   "cell_type": "code",
   "execution_count": null,
   "metadata": {},
   "outputs": [],
   "source": [
    "from pygromos.data.simulation_parameters_templates import template_md_tut as template_md\n",
    "from pygromos.files.simulation_parameters import imd\n",
    "\n",
    "\n",
    "md_imd_file = imd.Imd(template_md) #in_eq_system.imd\n"
   ]
  },
  {
   "cell_type": "markdown",
   "metadata": {},
   "source": [
    "#### Initialise Block\n",
    "In the INITIALISE block the NTIVEL tells GROMOS whether it should generate the initial velocities or\n",
    "read them from the configuration file. NTISHK is used to restore bond length constraints (SHAKE). NTINHT\n",
    "and NTINHB are only used for Nose-Hoover thermo- and barostats and can be ignored in our case. Every\n",
    "time an atom is leaving the periodic box and entering it from the opposite site this incident is recorded in\n",
    "the so-called lattice shift vectors. Using NTISHI we want to make sure that these vectors are initialised to\n",
    "zero. As you don’t want to use roto-translational constraints NTIRTC can be ignored. NTICOM is used for\n",
    "initial removal of centre of mass motion. NTISTI is used to reset the stochastic integrals used in stochastic\n",
    "dynamics (SD) simulations. IG is the random number generator seed and TEMPI the initial temperature used\n",
    "to generate the Maxwell-Boltzmann distribution for generation of initial velocities. See also 4-94 for more\n",
    "information."
   ]
  },
  {
   "cell_type": "code",
   "execution_count": null,
   "metadata": {},
   "outputs": [],
   "source": [
    "help(md_imd_file.INITIALISE)"
   ]
  },
  {
   "cell_type": "markdown",
   "metadata": {},
   "source": [
    "And now we will check the set options in our template:"
   ]
  },
  {
   "cell_type": "code",
   "execution_count": null,
   "metadata": {},
   "outputs": [],
   "source": [
    "md_imd_file.INITIALISE"
   ]
  },
  {
   "cell_type": "markdown",
   "metadata": {},
   "source": [
    "### System Block\n",
    "In the SYSTEM block you would need to replace NSM with the number of solvent molecules in your system, but the *prepare_simulation* function takes care of that for you. \n"
   ]
  },
  {
   "cell_type": "code",
   "execution_count": null,
   "metadata": {},
   "outputs": [],
   "source": [
    "#The last SOLV molecule can be found out like this:\n",
    "str(out_eminBox_system.cnf.POSITION[-1])"
   ]
  },
  {
   "cell_type": "code",
   "execution_count": null,
   "metadata": {},
   "outputs": [],
   "source": [
    "#the template currently contains these values - note NSM is 1172, which is wrong!\n",
    "md_imd_file.SYSTEM"
   ]
  },
  {
   "cell_type": "code",
   "execution_count": null,
   "metadata": {},
   "outputs": [],
   "source": [
    "#Pass the imd file to out_eminBox. afterwards prepare simulation, note that now the NSM value is correct.\n",
    "out_eminBox_system.imd = md_imd_file\n",
    "out_eminBox_system.prepare_for_simulation()\n",
    "md_imd_file.SYSTEM"
   ]
  },
  {
   "cell_type": "markdown",
   "metadata": {},
   "source": [
    "#### STEP Block\n",
    "In the STEP block you specify how many steps you want to simulate (NSTLIM), at what time your simulation\n",
    "starts (T) and how big the integration time step (DT) is. In this case you want to start at time 0 and you\n",
    "want to carry out a 20 ps simulation, because the time unit happens to be ps."
   ]
  },
  {
   "cell_type": "code",
   "execution_count": null,
   "metadata": {},
   "outputs": [],
   "source": [
    "help(md_imd_file.STEP)"
   ]
  },
  {
   "cell_type": "code",
   "execution_count": null,
   "metadata": {},
   "outputs": [],
   "source": [
    "md_imd_file.STEP"
   ]
  },
  {
   "cell_type": "markdown",
   "metadata": {},
   "source": [
    "#### BOUNDCOND Block\n",
    "As previously described, with the BOUNDCOND block you specify which PBC you will use. With NTB=1 you\n",
    "specify rectangular PBC."
   ]
  },
  {
   "cell_type": "code",
   "execution_count": null,
   "metadata": {},
   "outputs": [],
   "source": [
    "help(md_imd_file.BOUNDCOND)"
   ]
  },
  {
   "cell_type": "code",
   "execution_count": null,
   "metadata": {},
   "outputs": [],
   "source": [
    "md_imd_file.BOUNDCOND"
   ]
  },
  {
   "cell_type": "markdown",
   "metadata": {},
   "source": [
    "#### MULTIBATH Block\n",
    "\n",
    "In our case we want to run the simulation at constant temperature. For this purpose, we have to add the\n",
    "MULTIBATH input block (see 4-96). First we specify which algorithm we will use. In this case we will use\n",
    "the weak-coupling scheme (ALGORITHM=0). How many temperature baths we want to couple to the system\n",
    "is specified by NBATHS. You can specify the temperature using the TEMP0 parameter. TAUT is the coupling\n",
    "time used in the weak-coupling method for this bath. DOFSET specifies the number of distiguishable sets\n",
    "of degrees of freedom. LAST is pointing to the last atom for the set of degrees of freedom; thus, you put\n",
    "the number of last atom of your system instead of LSTATM. COMBATH is the temperature bath to which we\n",
    "want to couple the centre of mass motion of this set of degrees of freedom IRBATH is the temperature bath\n",
    "to which the internal and rotational degrees of freedom of this set of degrees of freedom are coupled."
   ]
  },
  {
   "cell_type": "code",
   "execution_count": null,
   "metadata": {},
   "outputs": [],
   "source": [
    "help(md_imd_file.MULTIBATH)"
   ]
  },
  {
   "cell_type": "code",
   "execution_count": null,
   "metadata": {},
   "outputs": [],
   "source": [
    "md_imd_file.MULTIBATH"
   ]
  },
  {
   "cell_type": "markdown",
   "metadata": {},
   "source": [
    "### COMTRANSROT Block\n",
    "This block is needed to remove the centre of mass motion (translation and rotation). Without this block it\n",
    "can happen that all the kinetic energy is converted to centre of mass translation (flying ice cube problem).\n",
    "With *NSCM* we specify how often the center-of-mass (COM) motion is removed. If *NSCM* is $< 0$ translation\n",
    "and rotation motion are removed every $|$ *NSCM* $|$ th step. If *NSCM* is $> 0$ only translation motion is removed\n",
    "every *NSCM*th step."
   ]
  },
  {
   "cell_type": "code",
   "execution_count": null,
   "metadata": {},
   "outputs": [],
   "source": [
    "help(md_imd_file.COMTRANSROT)"
   ]
  },
  {
   "cell_type": "code",
   "execution_count": null,
   "metadata": {},
   "outputs": [],
   "source": [
    "md_imd_file.COMTRANSROT"
   ]
  },
  {
   "cell_type": "markdown",
   "metadata": {},
   "source": [
    "### COVALENTFORM Block\n",
    "This block is needed to define which functional form we will use for bond-stretching (NTBBH), bond-angle\n",
    "bending (NTBAH) and for torsional dihedral (NTBDN). We just use the default options for all functional forms."
   ]
  },
  {
   "cell_type": "code",
   "execution_count": null,
   "metadata": {},
   "outputs": [],
   "source": [
    "help(md_imd_file.COVALENTFORM)"
   ]
  },
  {
   "cell_type": "code",
   "execution_count": null,
   "metadata": {},
   "outputs": [],
   "source": [
    "md_imd_file.COVALENTFORM"
   ]
  },
  {
   "cell_type": "markdown",
   "metadata": {},
   "source": [
    "### WRITETRAJ Block\n",
    "Gromos MD simulations produce a massive amount of data and it is impossible to store all the data it produces. The\n",
    "WRITETRAJ block meets this demand: Here you specify how often the coordinate trajectory (*NTWX*), the\n",
    "velocity trajectory (*NTWV*), the force trajectory (*NTWF*), the energy trajectory (*NTWE*), the free energy trajectory\n",
    "(*NTWG*) and the block averaged energy trajectory (*NTWB*) are written out. In the present case, we are only\n",
    "interested in the coordinates (*NTWX*) and energies (*NTWE*) and we write them every 100th step. The second\n",
    "switch (*NTWSE*) defines selection criterion for trajectories: if NTWSE = 0 the normal coordinate trajectory will\n",
    "be written, or if *NTWSE* $> 0$ a minimum energy trajectory will be written.\n",
    "\n",
    "***\n",
    "\n",
    "**Warning**: It makes no sense to write out configurations too often. First, it needs a lot of disk space. Second,\n",
    "the data is highly correlated and so no additional information is gained from it\n",
    "***"
   ]
  },
  {
   "cell_type": "code",
   "execution_count": null,
   "metadata": {},
   "outputs": [],
   "source": [
    "help(md_imd_file.WRITETRAJ)"
   ]
  },
  {
   "cell_type": "code",
   "execution_count": null,
   "metadata": {},
   "outputs": [],
   "source": [
    "md_imd_file.WRITETRAJ"
   ]
  },
  {
   "cell_type": "markdown",
   "metadata": {},
   "source": [
    "### PRINTOUT Block\n",
    "This block is very similar to the *WRITETRAJ* block but the information about the energies (*NTPR*) is printed\n",
    "to the output file (.omd). By giving *NTPP*, dihedral angle transitions are written to the special trajectory (.trs).\n"
   ]
  },
  {
   "cell_type": "code",
   "execution_count": null,
   "metadata": {},
   "outputs": [],
   "source": [
    "help(md_imd_file.PRINTOUT)"
   ]
  },
  {
   "cell_type": "code",
   "execution_count": null,
   "metadata": {},
   "outputs": [],
   "source": [
    "md_imd_file.PRINTOUT"
   ]
  },
  {
   "cell_type": "markdown",
   "metadata": {},
   "source": [
    "### PAIRLIST Block\n",
    "MD++ knows different algorithms for the generation of the pairlist, a list containing the atoms interacting\n",
    "with each other. Here, we use a grid based pairlist generation: \n",
    "the space is discretized into grid cells and only the neighboring cells are searched for interacting partners. \n",
    "The use of this algorithm results in a\n",
    "The pairlist is generated every 5th (*NSNB*) step. \n",
    "*RCUTP* and *RCUTL* are the cutoffs for the pairlist construction for the short-range and the long-range interactions.\n",
    "The pairlist is generated every 5th (*NSNB*) step. *RCUTP* and *RCUTL* are the cutoffs for the pairlist construction for\n",
    "the short-range and the long-range interactions."
   ]
  },
  {
   "cell_type": "code",
   "execution_count": null,
   "metadata": {},
   "outputs": [],
   "source": [
    "help(md_imd_file.PAIRLIST)"
   ]
  },
  {
   "cell_type": "code",
   "execution_count": null,
   "metadata": {},
   "outputs": [],
   "source": [
    "md_imd_file.PAIRLIST"
   ]
  },
  {
   "cell_type": "markdown",
   "metadata": {},
   "source": [
    "### POSITIONRES Block\n",
    "Finally, we want to restrain the position of our solute. The restraining is achieved by a harmonic special\n",
    "force term with a force constant of *CPOR*."
   ]
  },
  {
   "cell_type": "code",
   "execution_count": null,
   "metadata": {},
   "outputs": [],
   "source": [
    "from pygromos.files.blocks.imd_blocks import POSITIONRES\n",
    "\n",
    "help(POSITIONRES)"
   ]
  },
  {
   "cell_type": "code",
   "execution_count": null,
   "metadata": {},
   "outputs": [],
   "source": [
    "md_imd_file.add_block(block=POSITIONRES(NTPOR=1, NTPORB=1, CPOR=25000))\n",
    "\n",
    "md_imd_file.POSITIONRES"
   ]
  },
  {
   "cell_type": "markdown",
   "metadata": {},
   "source": [
    "Now you should know the main blocks of the Gromos input files.\n"
   ]
  },
  {
   "cell_type": "markdown",
   "metadata": {
    "tags": []
   },
   "source": [
    "### Perform Thermalisation\n",
    "Next we will run multiple simulations, which will slowly heat up the simulation system. This can easily be done by modifying parameters on the run. First we will setup a gromos system and prepare it. Next we will perform the simulations.\n",
    "\n",
    "***\n",
    "**Warning**: Depending on your system’s speed this will take up to five hours. As we are using the simulation\n",
    "directory as the working directory there will be an error message after every job which can be ignored.\n",
    "***\n",
    "\n",
    "***\n",
    " *Hint* : Have a look at all the output files eq peptide *.omd. If anything goes wrong, a message will be\n",
    "printed to the output file.\n",
    "***"
   ]
  },
  {
   "cell_type": "code",
   "execution_count": null,
   "metadata": {},
   "outputs": [],
   "source": [
    "from pygromos.simulations.modules.preset_simulation_modules import md\n",
    "\n",
    "## Preparing emin gromos system\n",
    "in_eq_system = out_eminBox_system.copy()\n",
    "in_eq_system.name = \"eq_thermalisation\"\n",
    "in_eq_system.work_folder = project_dir\n",
    "\n",
    "### Build position restraints\n",
    "restrain_res = [k for k in in_eq_system.cnf.residues if(not k in (\"CL-\", \"SOLV\"))]\n",
    "in_eq_system.generate_posres(residues=restrain_res)\n",
    "\n",
    "### Check simulation params\n",
    "in_eq_system.imd = md_imd_file\n",
    "\n",
    "in_eq_system.prepare_for_simulation(not_ligand_residues=[\"CL-\"])\n",
    "\n",
    "in_eq_system"
   ]
  },
  {
   "cell_type": "markdown",
   "metadata": {},
   "source": [
    "After preparing the system we can now start simulating."
   ]
  },
  {
   "cell_type": "code",
   "execution_count": null,
   "metadata": {},
   "outputs": [],
   "source": [
    "## run Thermalisation.\n",
    "from pygromos.simulations.modules.preset_simulation_modules import simulation\n",
    "\n",
    "temperatures = [60, 120, 180, 240, 300] #the temperatures we want to simulate.\n",
    "\n",
    "print(\"Heating upt to: \", end=\"\\t\")\n",
    "for runID, temperature in enumerate(temperatures):\n",
    "    print(temperature, end=\"\\t\")\n",
    "    \n",
    "    #adapt temperature\n",
    "    in_eq_system.imd.MULTIBATH.TEMP0 = [temperature for x in range(in_eq_system.imd.MULTIBATH.NBATHS)]\n",
    "    \n",
    "    #turn off the posres for the last run.\n",
    "    if(runID+1 == len(temperatures)): #Last Run\n",
    "        in_eq_system.imd.POSITIONRES.NTPOR = 0\n",
    "        in_eq_system.imd.POSITIONRES.CPOR = 0\n",
    "\n",
    "        out_eq_system = simulation(in_gromos_simulation_system=in_eq_system,\n",
    "                                   step_name=\"f_\"+in_eq_system.name,\n",
    "                                   simulation_runs=runID+1)\n",
    "        break\n",
    "\n",
    "    else:\n",
    "        out_eq_system = simulation(in_gromos_simulation_system=in_eq_system,\n",
    "                                   step_name=\"f_\"+in_eq_system.name,\n",
    "                                   simulation_runs=runID+1,\n",
    "                                   analysis_script=None,\n",
    "                                   verbose=False)\n",
    "print(\"done\")"
   ]
  },
  {
   "cell_type": "code",
   "execution_count": null,
   "metadata": {},
   "outputs": [],
   "source": [
    "#This took some time, so lets store it! So we can use it later again.\n",
    "out_eq_therm_system_path = out_eq_system.save(out_eq_system.work_folder+\"/eq_therm_result.obj\")\n"
   ]
  },
  {
   "cell_type": "markdown",
   "metadata": {},
   "source": [
    "### Analysis of Thermalisation:\n",
    "Next we want to check the results of our Thermalisation. We will have a look at the coordinate trajectory and the temperatures of the system."
   ]
  },
  {
   "cell_type": "markdown",
   "metadata": {},
   "source": [
    "#### Check the coordinate traj\n",
    "First we will check the trajectory of the termalisation. Again we first need to shift the coordinates, so we can se the fully connected peptide."
   ]
  },
  {
   "cell_type": "code",
   "execution_count": null,
   "metadata": {},
   "outputs": [],
   "source": [
    "coordinate_traj = out_eq_system.trc\n",
    "coordinate_traj.cog_reframe(out_eq_system.cnf)\n",
    "view = coordinate_traj.visualize(out_eq_system.cnf)\n",
    "view"
   ]
  },
  {
   "cell_type": "markdown",
   "metadata": {},
   "source": [
    "#### Check the temperature\n",
    "After this, we would like to see the temperature development. \n",
    "First lets collect all temperature calculations from the simulation:"
   ]
  },
  {
   "cell_type": "code",
   "execution_count": null,
   "metadata": {},
   "outputs": [],
   "source": [
    "energy_traj = out_eq_system.tre\n",
    "temperatures= energy_traj.get_temperature()\n",
    "temperatures"
   ]
  },
  {
   "cell_type": "markdown",
   "metadata": {},
   "source": [
    "Next we want to visualize the data to get an impresstionof what happened. \n",
    "Can you see how the Temperature was constantly raised per simulation and started to equilibrate forming plateus?"
   ]
  },
  {
   "cell_type": "code",
   "execution_count": null,
   "metadata": {},
   "outputs": [],
   "source": [
    "from matplotlib import pyplot as plt\n",
    "\n",
    "plt.plot(temperatures.index, temperatures.bath1, label=\"TBath1\")\n",
    "plt.plot(temperatures.index, temperatures.bath2, label=\"TBath2\")\n",
    "\n",
    "plt.legend()\n",
    "plt.ylabel(\"$T~[K]$\")\n",
    "plt.xlabel(\"$t~[ps]$\")"
   ]
  },
  {
   "cell_type": "markdown",
   "metadata": {},
   "source": [
    "## Molecular dynamics sampling simulation.\n",
    "The equilibration period already produced a short simulation at constant temperature and volume. At\n",
    "this point we want to elongate the simulation to a nanosecond under constant temperature and pressure.\n",
    "\n",
    "### Simulation Paramters\n",
    "First, we don’t use position restraining anymore and so, the POSITIONRES block in the next step.\n",
    "Next we want to simulate under constant pressure rather than constant volume (NVT-> NPT). For this purpose we have to add\n",
    "an additional block:\n",
    "\n"
   ]
  },
  {
   "cell_type": "code",
   "execution_count": null,
   "metadata": {},
   "outputs": [],
   "source": [
    "from pygromos.data.simulation_parameters_templates import template_md_tut as template_md\n",
    "from pygromos.files.simulation_parameters.imd import Imd\n",
    "\n",
    "imd_file = Imd(template_md)\n",
    "\n",
    "help(imd_file.PRESSURESCALE)"
   ]
  },
  {
   "cell_type": "markdown",
   "metadata": {},
   "source": [
    "In the PRESSURESCALE block we tell Gromos to calculate and scale the pressure by setting *COUPLE* to $2$. As\n",
    "the box should be isotropically scaled we set *SCALE* equal to $1$. The weak-coupling method (Sec. 2-12.2.2)\n",
    "uses two additional parameters: *COMP* is the isothermal compressibility and *TAUP* is the coupling time. We\n",
    "are calculating the molecular virial (*VIRIAL* is equal to $2$), so intramolecular forces don’t contribute to the\n",
    "pressure. The next line is only used for semi-anisotropic pressure coupling and can be ignored in our case.\n",
    "Finally, we have to specify the reference pressure in a tensor form\n"
   ]
  },
  {
   "cell_type": "code",
   "execution_count": null,
   "metadata": {},
   "outputs": [],
   "source": [
    "imd_file.PRESSURESCALE"
   ]
  },
  {
   "cell_type": "markdown",
   "metadata": {},
   "source": [
    "### Perform MD - Production\n",
    "In the other blocks only minor things have changed: the temperature was set to 300K and the trajectories\n",
    "are written out less often (every 250th step only). Next we are going to set up the Gromos System. We will remove the position restraints and the old trajectories."
   ]
  },
  {
   "cell_type": "code",
   "execution_count": null,
   "metadata": {},
   "outputs": [],
   "source": [
    "from pygromos.simulations.modules.preset_simulation_modules import md\n",
    "\n",
    "if(not hasattr(locals(), \"out_eq_system\")): #if you did a break, Here the result from eq will be loaded.\n",
    "    in_md_system = Gromos_System.load(project_dir+\"/eq_therm_result.obj\")\n",
    "    \n",
    "    ## Preparing emin gromos system\n",
    "    in_md_system.posres = None\n",
    "    in_md_system.refpos = None\n",
    "    del in_md_system.trc\n",
    "    del in_md_system.tre\n",
    "\n",
    "else: #otherwise we will continue ;) \n",
    "    ## Preparing emin gromos system\n",
    "    out_eq_system.posres = None\n",
    "    out_eq_system.refpos = None\n",
    "    del out_eq_system.trc\n",
    "    del out_eq_system.tre\n",
    "\n",
    "    in_md_system = out_eq_system.copy()\n",
    "\n",
    "in_md_system.work_folder = project_dir\n",
    "in_md_system.name = \"md\"\n",
    "\n",
    "### Check simulation params\n",
    "in_md_system.imd = imd_file \n",
    "\n",
    "## imd parameters\n",
    "in_md_system.imd.STEP.NSTLIM = 1000\n",
    "in_md_system.imd.WRITETRAJ.NTWX = 10\n",
    "in_md_system.imd.WRITETRAJ.NTWE = 10\n",
    "in_md_system.imd.INITIALISE.NTIVEL = 0\n",
    "\n",
    "in_md_system.prepare_for_simulation()\n",
    "\n",
    "in_md_system"
   ]
  },
  {
   "cell_type": "code",
   "execution_count": null,
   "metadata": {},
   "outputs": [],
   "source": [
    "out_md_system = md(in_gromos_system=in_md_system,\n",
    "                   step_name=\"g_\"+in_md_system.name,\n",
    "                   simulation_runs=3)\n",
    "out_md_system"
   ]
  },
  {
   "cell_type": "code",
   "execution_count": null,
   "metadata": {},
   "outputs": [],
   "source": [
    "out_md_system_path = out_md_system.save(out_md_system.work_folder+\"/md_result.obj\")\n"
   ]
  },
  {
   "cell_type": "markdown",
   "metadata": {},
   "source": [
    "After all the jobs are finished, you should start to analyse the trajectories.\n"
   ]
  },
  {
   "cell_type": "markdown",
   "metadata": {},
   "source": [
    "### Analysis\n",
    "\n",
    "#### First Look Analysis\n",
    "Let's first have a look on the final coordinates."
   ]
  },
  {
   "cell_type": "code",
   "execution_count": null,
   "metadata": {},
   "outputs": [],
   "source": [
    "out_md_system.cnf.shift_periodic_boundary()\n",
    "out_md_system.cnf.visualize()\n"
   ]
  },
  {
   "cell_type": "code",
   "execution_count": null,
   "metadata": {},
   "outputs": [],
   "source": [
    "coordinate_traj = out_md_system.trc\n",
    "coordinate_traj.cog_reframe(out_md_system.cnf)\n",
    "view = coordinate_traj.visualize(out_md_system.cnf)\n",
    "view"
   ]
  },
  {
   "cell_type": "markdown",
   "metadata": {
    "pycharm": {
     "name": "#%% md\n"
    }
   },
   "source": [
    "\n",
    "#### Energy Analysis\n",
    "The program calculates the average of the specified properties as well as the root-mean-square deviations\n",
    "(rmsd) and a statistical error estimate (error est.). The error estimate is calculated from block averages\n",
    "of growing sizes extrapolating to infinite block size1\n",
    "\n",
    "***\n",
    "**Warning:** Sometimes the error estimates are NaN (not a number), which is due to the fact that we do not\n",
    "have enough values to calculate a meaningful error estimate.\n",
    "***"
   ]
  },
  {
   "cell_type": "code",
   "execution_count": null,
   "metadata": {},
   "outputs": [],
   "source": [
    "energy_traj = out_md_system.tre\n",
    "total_energies = energy_traj.get_totals()\n",
    "total_energies"
   ]
  },
  {
   "cell_type": "code",
   "execution_count": null,
   "metadata": {},
   "outputs": [],
   "source": [
    "#Next we plot some data of the energies to se their development.\n",
    "\n",
    "time_axis = energy_traj.time\n",
    "total_energies.totene.plot(x=time_axis, xlabel=\"t [ps]\", ylabel=\"V [kJ/mol]\", title=\"Simulation Data\", legend=True)\n",
    "total_energies.totpot.plot(legend=True)\n",
    "total_energies.totkin.plot(legend=True)\n"
   ]
  },
  {
   "cell_type": "markdown",
   "metadata": {},
   "source": [
    "In the Following we want to see the different contributions of the molecules with their VdW and Culomb interaxtions.\n",
    " we add up the van der Waals and Coulomb energies of the peptide-peptide interactions.\n",
    "\n",
    "Now we want to look at two variables:\n",
    "* peptide_water_nonbonded\n",
    "* peptide_Cl_nonbonded\n",
    "\n",
    "The information about the nonbondeds can be retrieved from the ForceGroup Nonbonded contributions.\n",
    "If you check the used imd file, you reckognize three Force groups in the FORCEGROUP block. These are limited by the last atom of the group and you can check the group atoms in the topology or coordinate file. \n",
    "They should correspond here to:\n",
    "1. Peptide\n",
    "2. 2 Cl- ions\n",
    "3. Water molecules\n",
    "\n",
    "The interactions of these forcegroups are stored in the following pattern, which can be adapted to any force group number (PseudoCode: for i in range(1+nFroceGroups) for j in range(i, nFroceGroups)):\n",
    "\n",
    "1. ForceGroup - 1. ForceGroup: intra force group nonbondeds (peptide - peptide)\n",
    "1. ForceGroup - 2. ForceGroup: inter force group nonbondeds between force group 1 and 2 (peptide - Cl-)\n",
    "1. ForceGroup - 3. ForceGroup: inter force group nonbondeds between force group 1 and 3 (peptide - Water)\n",
    "2. ForceGroup - 2. ForceGroup: intra force group nonbondeds (Cl- - Cl-)\n",
    "3. ForceGroup - 3. ForceGroup: inter force group nonbondeds between force group 2 and 3 (Cl- - Water)\n",
    "4. ForceGroup - 3. ForceGroup: intra force group nonbondeds (Water - Water)"
   ]
  },
  {
   "cell_type": "code",
   "execution_count": null,
   "metadata": {},
   "outputs": [],
   "source": [
    "#First lets get the Force Group Energy contributions:\n",
    "forceGroupNonbondedContributions = energy_traj.get_nonbondedContributions()\n",
    "\n",
    "#Here we give each Force Group contribution category nice names:\n",
    "peptide_peptide_nonbonded = forceGroupNonbondedContributions[1][1]\n",
    "peptide_Cl_nonbonded = forceGroupNonbondedContributions[1][2]\n",
    "peptide_water_nonbonded = forceGroupNonbondedContributions[1][3]\n",
    "\n",
    "Cl_Cl_nonbonded = forceGroupNonbondedContributions[2][2]\n",
    "Cl_water_nonbonded = forceGroupNonbondedContributions[2][3]\n",
    "\n",
    "water_water_nonbonded = forceGroupNonbondedContributions[3][3]"
   ]
  },
  {
   "cell_type": "code",
   "execution_count": null,
   "metadata": {},
   "outputs": [],
   "source": [
    "#Here we look at the different Nonbonded contributions of each \n",
    "peptide_peptide_nonbonded.plot(title=\"Peptide_intra_Nonbondeds\", ylabel=\"V [kJ/mol]\", xlabel=\"writeOuts\", subplots=True)\n",
    "Cl_Cl_nonbonded.plot(title=\"CL_intra_Nonbondeds\", ylabel=\"V [kJ/mol]\", xlabel=\"writeOuts\", subplots=True)\n",
    "water_water_nonbonded.plot(title=\"Water_intra_Nonbondeds\", ylabel=\"V [kJ/mol]\", xlabel=\"writeOuts\", subplots=True)"
   ]
  },
  {
   "cell_type": "code",
   "execution_count": null,
   "metadata": {},
   "outputs": [],
   "source": [
    "#Next we calculate the sum of all contributions\n",
    "#The sum over the axis 1 sums up all contribution types for a timestep t.\n",
    "peptide_peptide_nonbonded.sum(axis=1).plot(label=\"peptide - peptide\", legend=True)\n",
    "peptide_Cl_nonbonded.sum(axis=1).plot(label=\"peptide - Cl-\", legend=True)\n",
    "peptide_water_nonbonded.sum(axis=1).plot(label=\"peptide - Water\", ylabel=\"V [kJ/mol]\", xlabel=\"steps\", title=\"Peptide Nonbondeds\", legend=True)"
   ]
  },
  {
   "cell_type": "code",
   "execution_count": null,
   "metadata": {},
   "outputs": [],
   "source": [
    "# Here we look at the total nonbonded Contributions of the peptide \n",
    "peptide_nonbonded = peptide_peptide_nonbonded+peptide_Cl_nonbonded+peptide_water_nonbonded\n",
    "#The sum over the axis 1 sums up all contribution types for a timestep t.\n",
    "peptide_nonbonded.sum(axis=1).plot( label=\"peptide\", ylabel=\"V [kJ/mol]\", xlabel=\"steps\", title=\"Total Nonbonded Contributions of peptide\", legend=True)\n"
   ]
  },
  {
   "cell_type": "markdown",
   "metadata": {
    "pycharm": {
     "name": "#%%\n"
    }
   },
   "source": [
    "#### Coordinate Analysis\n",
    "In the next step, we want to have a look at the coordinates of our simulation.\n",
    "first we will dcalculate the rmsd, second we will analyse the distance of the CL- to the positive charged atoms in the peptide. \n",
    "\n",
    "\n",
    "\n",
    "***\n",
    "**Warning**: Under Development ;)\n",
    "***"
   ]
  },
  {
   "cell_type": "code",
   "execution_count": null,
   "metadata": {},
   "outputs": [],
   "source": [
    "final_coordinate = out_md_system.cnf\n",
    "coordinate_traj = out_md_system.trc\n"
   ]
  },
  {
   "cell_type": "code",
   "execution_count": null,
   "metadata": {},
   "outputs": [],
   "source": [
    "coordinate_traj.rmsd(1).sum(axis=1).plot(ylabel=\"RMSD\", xlabel=\"writeOuts\")"
   ]
  },
  {
   "cell_type": "markdown",
   "metadata": {},
   "source": [
    "#### Distance CL- to the peptide"
   ]
  },
  {
   "cell_type": "markdown",
   "metadata": {},
   "source": [
    "#"
   ]
  },
  {
   "cell_type": "code",
   "execution_count": null,
   "metadata": {},
   "outputs": [],
   "source": [
    "print(\"CL- atoms:\", [(ap.atomType, ap.atomID) for ap in final_coordinate.POSITION if(ap.resName == \"CL-\")])\n",
    "print(\"ARG atoms:\", [(ap.atomType, ap.atomID) for ap in final_coordinate.POSITION if(ap.resName == \"ARG\")])\n",
    "print(\"LYSH atoms:\", [(ap.atomType, ap.atomID) for ap in final_coordinate.POSITION if(ap.resName == \"LYSH\")])\n",
    "print(\"NTERM atoms:\", [(ap.atomType, ap.atomID) for ap in final_coordinate.POSITION if(ap.resName == \"VAL\")])"
   ]
  },
  {
   "cell_type": "markdown",
   "metadata": {},
   "source": [
    "Calculate the distances now to the different CL- ions."
   ]
  },
  {
   "cell_type": "code",
   "execution_count": null,
   "metadata": {},
   "outputs": [],
   "source": [
    "coordinate_traj.get_atom_pair_distance_series(atomI=72, atomJ=37).plot(label=\"CL-1 - ARG-CZ\", legend=True)\n",
    "coordinate_traj.get_atom_pair_distance_series(atomI=73, atomJ=37).plot(label=\"CL-2 - ARG-CZ\", legend=True, xlabel=\"writeOuts\", ylabel=\"r [nm]\")"
   ]
  },
  {
   "cell_type": "code",
   "execution_count": null,
   "metadata": {},
   "outputs": [],
   "source": [
    "coordinate_traj.get_atom_pair_distance_series(atomI=72, atomJ=53).plot(label=\"CL-1 - LYSH-NZ\", legend=True)\n",
    "coordinate_traj.get_atom_pair_distance_series(atomI=73, atomJ=53).plot(label=\"CL-2 - LYSH-NZ\", legend=True, xlabel=\"writeOuts\", ylabel=\"r [nm]\")"
   ]
  },
  {
   "cell_type": "code",
   "execution_count": null,
   "metadata": {},
   "outputs": [],
   "source": [
    "coordinate_traj.get_atom_pair_distance_series(atomI=72, atomJ=3).plot(label=\"CL-1 - N-TERM\", legend=True)\n",
    "coordinate_traj.get_atom_pair_distance_series(atomI=73, atomJ=3).plot(label=\"CL-2 - N-TERM\", legend=True, xlabel=\"writeOuts\", ylabel=\"r [nm]\")"
   ]
  },
  {
   "cell_type": "code",
   "execution_count": null,
   "metadata": {},
   "outputs": [],
   "source": []
  }
 ],
 "metadata": {
  "interpreter": {
   "hash": "e7d5b70120806d05daeaf98b799438b40f063b8cf99696cad03a40d92a237582"
  },
  "kernelspec": {
   "display_name": "Python 3.9.10 ('pygromosDev')",
   "language": "python",
   "name": "python3"
  },
  "language_info": {
   "codemirror_mode": {
    "name": "ipython",
    "version": 3
   },
   "file_extension": ".py",
   "mimetype": "text/x-python",
   "name": "python",
   "nbconvert_exporter": "python",
   "pygments_lexer": "ipython3",
   "version": "3.9.10"
  }
 },
 "nbformat": 4,
 "nbformat_minor": 4
}
