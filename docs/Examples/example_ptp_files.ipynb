{
 "cells": [
  {
   "cell_type": "markdown",
   "metadata": {
    "collapsed": true,
    "pycharm": {
     "name": "#%% md\n"
    }
   },
   "source": [
    "# PTP-Files in PyGromos\n",
    "\n",
    "Here I try to give a few example on what s possible with the ptp obj in pygromos."
   ]
  },
  {
   "cell_type": "code",
   "execution_count": 1,
   "metadata": {
    "collapsed": false,
    "pycharm": {
     "name": "#%%\n"
    }
   },
   "outputs": [
    {
     "name": "stderr",
     "output_type": "stream",
     "text": [
      "C:\\Users\\benja\\ubuntuHome\\pygromos\\pygromos\\files\\topology\\top.py:19: UserWarning: Module topo-files is under Development and not entirely implemented!\n",
      "  warnings.warn(\"Module topo-files is under Development and not entirely implemented!\")\n"
     ]
    }
   ],
   "source": [
    "from pygromos.files.topology.top import Pertubation_topology as PTP\n",
    "from pygromos.files.blocks.topology_blocks import  atom_pertubation_state, pertubation_state\n"
   ]
  },
  {
   "cell_type": "markdown",
   "metadata": {
    "collapsed": false
   },
   "source": [
    "## defining some state types for later use :)"
   ]
  },
  {
   "cell_type": "code",
   "execution_count": 2,
   "metadata": {
    "collapsed": false,
    "pycharm": {
     "name": "#%%\n"
    }
   },
   "outputs": [],
   "source": [
    "dummy_type = pertubation_state(IAC=22, CHARGE=0.0)\n",
    "my_type = pertubation_state(IAC=99, CHARGE=-1.0)"
   ]
  },
  {
   "cell_type": "markdown",
   "metadata": {
    "collapsed": false
   },
   "source": [
    "## Read in ptp file:"
   ]
  },
  {
   "cell_type": "code",
   "execution_count": 3,
   "metadata": {
    "collapsed": false,
    "pycharm": {
     "name": "#%%\n"
    }
   },
   "outputs": [
    {
     "name": "stdout",
     "output_type": "stream",
     "text": [
      "MPERTATOM\n",
      "TITLE\n",
      "prep_eds: EDS perturbation topology using: \n",
      "/home/bschroed/code/scripts/test/testfile/ptp/ligand_1.top\n",
      "/home/bschroed/code/scripts/test/testfile/ptp/ligand_2.top\n",
      "/home/bschroed/code/scripts/test/testfile/ptp/ligand_3.top\n",
      "/home/bschroed/code/scripts/test/testfile/ptp/ligand_4.top\n",
      "/home/bschroed/code/scripts/test/testfile/ptp/ligand_5.top\n",
      "/home/bschroed/code/scripts/test/testfile/ptp/ligand_6.top\n",
      "\n",
      "\n",
      "\t >>> Generated with python lib function_libs utilities. (riniker group)\n",
      "\t >>> line_seperator: '\\n'\t field_seperator: '\\t'\n",
      "END\n",
      "MPERTATOM\n",
      "# NJLA  \t NPTB\n",
      " \t 10 \t 6\n",
      "# state_identifiers\n",
      " \t state0 \t state1 \t state2 \t state3 \t state4 \t state5\n",
      "#  NR  NAME IAC1   CHARGE1 IAC2   CHARGE2 IAC3   CHARGE3 IAC4   CHARGE4 IAC5   CHARGE5 IAC6   CHARGE6    ALPHLJ     ALPHCRF   \n",
      "    3   C17  16    0.00000  22    0.00000  22    0.00000  22    0.00000  22    0.00000  22    0.00000    1.00000    1.00000\n",
      "    4   C16  12    0.36000  22    0.00000  22    0.00000  22    0.00000  22    0.00000  22    0.00000    1.00000    1.00000\n",
      "    5   O15   4   -0.36000  22    0.00000  22    0.00000  22    0.00000  22    0.00000  22    0.00000    1.00000    1.00000\n",
      "    6   C13  12    0.45000  22    0.00000  22    0.00000  22    0.00000  22    0.00000  22    0.00000    1.00000    1.00000\n",
      "    7   O14   1   -0.45000  22    0.00000  22    0.00000  22    0.00000  22    0.00000  22    0.00000    1.00000    1.00000\n",
      "    8   C12  15    0.00000  22    0.00000  22    0.00000  22    0.00000  22    0.00000  22    0.00000    1.00000    1.00000\n",
      "    9   C10  14    0.23500  22    0.00000  22    0.00000  22    0.00000  22    0.00000  22    0.00000    1.00000    1.00000\n",
      "   10    N9   9   -0.41000  22    0.00000  22    0.00000  22    0.00000  22    0.00000  22    0.00000    1.00000    1.00000\n",
      "END\n",
      "\n"
     ]
    }
   ],
   "source": [
    "#Read in ptp file:\n",
    "path= \"../pygromos/tests/testfiles/ptp/eds_short.ptp\"\n",
    "ptp = PTP(path)\n",
    "print(ptp)\n"
   ]
  },
  {
   "cell_type": "markdown",
   "metadata": {
    "collapsed": false
   },
   "source": [
    "## Add atom or state or overwrite atominformation (except atom.NR)"
   ]
  },
  {
   "cell_type": "code",
   "execution_count": 4,
   "metadata": {
    "collapsed": false,
    "pycharm": {
     "name": "#%%\n"
    }
   },
   "outputs": [
    {
     "name": "stdout",
     "output_type": "stream",
     "text": [
      "TITLE\n",
      "prep_eds: EDS perturbation topology using: \n",
      "/home/bschroed/code/scripts/test/testfile/ptp/ligand_1.top\n",
      "/home/bschroed/code/scripts/test/testfile/ptp/ligand_2.top\n",
      "/home/bschroed/code/scripts/test/testfile/ptp/ligand_3.top\n",
      "/home/bschroed/code/scripts/test/testfile/ptp/ligand_4.top\n",
      "/home/bschroed/code/scripts/test/testfile/ptp/ligand_5.top\n",
      "/home/bschroed/code/scripts/test/testfile/ptp/ligand_6.top\n",
      "\n",
      "\n",
      "\t >>> Generated with python lib function_libs utilities. (riniker group)\n",
      "\t >>> line_seperator: '\\n'\t field_seperator: '\\t'\n",
      "END\n",
      "MPERTATOM\n",
      "# NJLA  \t NPTB\n",
      " \t 12 \t 7\n",
      "# state_identifiers\n",
      " \t state0 \t state1 \t state2 \t state3 \t state4 \t state5 \t state7\n",
      "#  NR  NAME IAC1   CHARGE1 IAC2   CHARGE2 IAC3   CHARGE3 IAC4   CHARGE4 IAC5   CHARGE5 IAC6   CHARGE6 IAC7   CHARGE7    ALPHLJ     ALPHCRF   \n",
      "    1     H  22    0.00000  22    0.00000  22    0.00000  22    0.00000  22    0.00000  22    0.00000  99   -1.00000    1.00000    1.00000\n",
      "    2     H  22    0.00000  22    0.00000  22    0.00000  22    0.00000  22    0.00000  22    0.00000  99   -1.00000    1.00000    1.00000\n",
      "    3     H  16    0.00000  22    0.00000  22    0.00000  22    0.00000  22    0.00000  22    0.00000  99   -1.00000    1.00000    1.00000\n",
      "    4   C16  12    0.36000  22    0.00000  22    0.00000  22    0.00000  22    0.00000  22    0.00000  22    0.00000    1.00000    1.00000\n",
      "    5   O15   4   -0.36000  22    0.00000  22    0.00000  22    0.00000  22    0.00000  22    0.00000  22    0.00000    1.00000    1.00000\n",
      "    6   C13  12    0.45000  22    0.00000  22    0.00000  22    0.00000  22    0.00000  22    0.00000  22    0.00000    1.00000    1.00000\n",
      "    7   O14   1   -0.45000  22    0.00000  22    0.00000  22    0.00000  22    0.00000  22    0.00000  22    0.00000    1.00000    1.00000\n",
      "    8   C12  15    0.00000  22    0.00000  22    0.00000  22    0.00000  22    0.00000  22    0.00000  22    0.00000    1.00000    1.00000\n",
      "    9   C10  14    0.23500  22    0.00000  22    0.00000  22    0.00000  22    0.00000  22    0.00000  22    0.00000    1.00000    1.00000\n",
      "   10    N9   9   -0.41000  22    0.00000  22    0.00000  22    0.00000  22    0.00000  22    0.00000  22    0.00000    1.00000    1.00000\n",
      "END\n",
      "\n"
     ]
    }
   ],
   "source": [
    "new_atoms_state = [atom_pertubation_state(NR=x, NAME=\"H\", STATES={7: my_type}) for x in range(1, 4)]\n",
    "ptp.MPERTATOM.add_state_atoms(state_atoms=new_atoms_state)\n",
    "\n",
    "print(ptp)"
   ]
  },
  {
   "cell_type": "markdown",
   "metadata": {
    "collapsed": false
   },
   "source": [
    "## delete full state"
   ]
  },
  {
   "cell_type": "code",
   "execution_count": 5,
   "metadata": {
    "collapsed": false,
    "pycharm": {
     "name": "#%%\n"
    }
   },
   "outputs": [
    {
     "name": "stdout",
     "output_type": "stream",
     "text": [
      "TITLE\n",
      "prep_eds: EDS perturbation topology using: \n",
      "/home/bschroed/code/scripts/test/testfile/ptp/ligand_1.top\n",
      "/home/bschroed/code/scripts/test/testfile/ptp/ligand_2.top\n",
      "/home/bschroed/code/scripts/test/testfile/ptp/ligand_3.top\n",
      "/home/bschroed/code/scripts/test/testfile/ptp/ligand_4.top\n",
      "/home/bschroed/code/scripts/test/testfile/ptp/ligand_5.top\n",
      "/home/bschroed/code/scripts/test/testfile/ptp/ligand_6.top\n",
      "\n",
      "\n",
      "\t >>> Generated with python lib function_libs utilities. (riniker group)\n",
      "\t >>> line_seperator: '\\n'\t field_seperator: '\\t'\n",
      "END\n",
      "MPERTATOM\n",
      "# NJLA  \t NPTB\n",
      " \t 12 \t 5\n",
      "# state_identifiers\n",
      " \t state1 \t state2 \t state4 \t state5 \t state7\n",
      "#  NR  NAME IAC2   CHARGE2 IAC4   CHARGE4 IAC5   CHARGE5 IAC6   CHARGE6 IAC7   CHARGE7    ALPHLJ     ALPHCRF   \n",
      "    1     H  22    0.00000  22    0.00000  22    0.00000  22    0.00000  99   -1.00000    1.00000    1.00000\n",
      "    2     H  22    0.00000  22    0.00000  22    0.00000  22    0.00000  99   -1.00000    1.00000    1.00000\n",
      "    3     H  22    0.00000  22    0.00000  22    0.00000  22    0.00000  99   -1.00000    1.00000    1.00000\n",
      "    4   C16  22    0.00000  22    0.00000  22    0.00000  22    0.00000  22    0.00000    1.00000    1.00000\n",
      "    5   O15  22    0.00000  22    0.00000  22    0.00000  22    0.00000  22    0.00000    1.00000    1.00000\n",
      "    6   C13  22    0.00000  22    0.00000  22    0.00000  22    0.00000  22    0.00000    1.00000    1.00000\n",
      "    7   O14  22    0.00000  22    0.00000  22    0.00000  22    0.00000  22    0.00000    1.00000    1.00000\n",
      "    8   C12  22    0.00000  22    0.00000  22    0.00000  22    0.00000  22    0.00000    1.00000    1.00000\n",
      "    9   C10  22    0.00000  22    0.00000  22    0.00000  22    0.00000  22    0.00000    1.00000    1.00000\n",
      "   10    N9  22    0.00000  22    0.00000  22    0.00000  22    0.00000  22    0.00000    1.00000    1.00000\n",
      "END\n",
      "\n"
     ]
    }
   ],
   "source": [
    "ptp.MPERTATOM.delete_state(stateIDs=[1,3])\n",
    "\n",
    "print(ptp)"
   ]
  },
  {
   "cell_type": "markdown",
   "metadata": {
    "collapsed": false
   },
   "source": [
    "## delete specific atoms"
   ]
  },
  {
   "cell_type": "code",
   "execution_count": 6,
   "metadata": {
    "collapsed": false,
    "pycharm": {
     "name": "#%%\n"
    }
   },
   "outputs": [
    {
     "name": "stdout",
     "output_type": "stream",
     "text": [
      "TITLE\n",
      "prep_eds: EDS perturbation topology using: \n",
      "/home/bschroed/code/scripts/test/testfile/ptp/ligand_1.top\n",
      "/home/bschroed/code/scripts/test/testfile/ptp/ligand_2.top\n",
      "/home/bschroed/code/scripts/test/testfile/ptp/ligand_3.top\n",
      "/home/bschroed/code/scripts/test/testfile/ptp/ligand_4.top\n",
      "/home/bschroed/code/scripts/test/testfile/ptp/ligand_5.top\n",
      "/home/bschroed/code/scripts/test/testfile/ptp/ligand_6.top\n",
      "\n",
      "\n",
      "\t >>> Generated with python lib function_libs utilities. (riniker group)\n",
      "\t >>> line_seperator: '\\n'\t field_seperator: '\\t'\n",
      "END\n",
      "MPERTATOM\n",
      "# NJLA  \t NPTB\n",
      " \t 7 \t 5\n",
      "# state_identifiers\n",
      " \t state1 \t state2 \t state4 \t state5 \t state7\n",
      "#  NR  NAME IAC2   CHARGE2 IAC4   CHARGE4 IAC5   CHARGE5 IAC6   CHARGE6 IAC7   CHARGE7    ALPHLJ     ALPHCRF   \n",
      "    3     H  22    0.00000  22    0.00000  22    0.00000  22    0.00000  99   -1.00000    1.00000    1.00000\n",
      "    4   C16  22    0.00000  22    0.00000  22    0.00000  22    0.00000  22    0.00000    1.00000    1.00000\n",
      "    5   O15  22    0.00000  22    0.00000  22    0.00000  22    0.00000  22    0.00000    1.00000    1.00000\n",
      "    6   C13  22    0.00000  22    0.00000  22    0.00000  22    0.00000  22    0.00000    1.00000    1.00000\n",
      "   10    N9  22    0.00000  22    0.00000  22    0.00000  22    0.00000  22    0.00000    1.00000    1.00000\n",
      "END\n",
      "\n"
     ]
    }
   ],
   "source": [
    "ptp.MPERTATOM.delete_atom(atomNR=[1,2,7,8,9])\n",
    "print(ptp)"
   ]
  },
  {
   "cell_type": "markdown",
   "metadata": {
    "collapsed": false,
    "pycharm": {
     "name": "#%% md\n"
    }
   },
   "source": [
    "## Write out ptp file"
   ]
  },
  {
   "cell_type": "code",
   "execution_count": 7,
   "metadata": {
    "collapsed": false,
    "pycharm": {
     "name": "#%%\n"
    }
   },
   "outputs": [
    {
     "data": {
      "text/plain": [
       "'fun.ptp'"
      ]
     },
     "execution_count": 7,
     "metadata": {},
     "output_type": "execute_result"
    }
   ],
   "source": [
    "ptp.write(\"fun.ptp\")"
   ]
  },
  {
   "cell_type": "markdown",
   "metadata": {
    "collapsed": false
   },
   "source": [
    "## Building ptp from scratch and generate all possible state combinations:"
   ]
  },
  {
   "cell_type": "code",
   "execution_count": 8,
   "metadata": {
    "collapsed": false,
    "pycharm": {
     "name": "#%%\n"
    }
   },
   "outputs": [
    {
     "name": "stdout",
     "output_type": "stream",
     "text": [
      "['NR', 'NAME', 'IAC2', 'CHARGE2', 'IAC4', 'CHARGE4', 'IAC5', 'CHARGE5', 'IAC6', 'CHARGE6', 'IAC7', 'CHARGE7', 'ALPHLJ', 'ALPHCRF']\n"
     ]
    }
   ],
   "source": [
    "print(ptp.MPERTATOM.STATEATOMHEADER)"
   ]
  },
  {
   "cell_type": "code",
   "execution_count": 1,
   "metadata": {
    "collapsed": false,
    "pycharm": {
     "name": "#%%\n"
    }
   },
   "outputs": [
    {
     "name": "stdout",
     "output_type": "stream",
     "text": [
      "gives the state number as key and all the active molecules in this state\n",
      "{1: (1,), 2: (2,), 3: (3,), 4: (1, 2), 5: (1, 3), 6: (2, 3), 7: (1, 2, 3)}\n",
      "\n",
      "gives the atom_perttubation states for all mols\n",
      "{1: [<pygromos.files.blocks.topology_blocks.atom_pertubation_state object at 0x0000021011115A48>, <pygromos.files.blocks.topology_blocks.atom_pertubation_state object at 0x0000021011115A88>, <pygromos.files.blocks.topology_blocks.atom_pertubation_state object at 0x0000021011115AC8>], 2: [<pygromos.files.blocks.topology_blocks.atom_pertubation_state object at 0x0000021011115B08>, <pygromos.files.blocks.topology_blocks.atom_pertubation_state object at 0x0000021011115B48>, <pygromos.files.blocks.topology_blocks.atom_pertubation_state object at 0x0000021011115B88>], 3: [<pygromos.files.blocks.topology_blocks.atom_pertubation_state object at 0x0000021011115BC8>, <pygromos.files.blocks.topology_blocks.atom_pertubation_state object at 0x0000021011115C08>, <pygromos.files.blocks.topology_blocks.atom_pertubation_state object at 0x0000021011115C48>]}\n",
      "\n",
      "Warning!: generated empty ptp obj!\n",
      "TITLE\n",
      "New empyt ptp-file\n",
      "\t >>> Generated with python lib function_libs utilities. (riniker group)\n",
      "\t >>> line_seperator: '\\n'\t field_seperator: '\\t'\n",
      "END\n",
      "MPERTATOM\n",
      "# NJLA  \t NPTB\n",
      " \t 9 \t 7\n",
      "# state_identifiers\n",
      " \t state1 \t state2 \t state3 \t state4 \t state5 \t state6 \t state7\n",
      "#  NR  NAME IAC1   CHARGE1 IAC2   CHARGE2 IAC3   CHARGE3 IAC4   CHARGE4 IAC5   CHARGE5 IAC6   CHARGE6 IAC7   CHARGE7    ALPHLJ     ALPHCRF   \n",
      "    1     O  16   -1.00000  22    0.00000  22    0.00000  16   -1.00000  16   -1.00000  22    0.00000  16   -1.00000    1.00000    1.00000\n",
      "    2    H1  33   -2.00000  22    0.00000  22    0.00000  33   -2.00000  33   -2.00000  22    0.00000  33   -2.00000    1.00000    1.00000\n",
      "    3    H2  33   -2.00000  22    0.00000  22    0.00000  33   -2.00000  33   -2.00000  22    0.00000  33   -2.00000    1.00000    1.00000\n",
      "    4     O  22    0.00000  16   -1.00000  22    0.00000  16   -1.00000  22    0.00000  16   -1.00000  16   -1.00000    1.00000    1.00000\n",
      "    5    H1  22    0.00000  33   -2.00000  22    0.00000  33   -2.00000  22    0.00000  33   -2.00000  33   -2.00000    1.00000    1.00000\n",
      "    6    H2  22    0.00000  33   -2.00000  22    0.00000  33   -2.00000  22    0.00000  33   -2.00000  33   -2.00000    1.00000    1.00000\n",
      "    7     O  22    0.00000  22    0.00000  16   -1.00000  22    0.00000  16   -1.00000  16   -1.00000  16   -1.00000    1.00000    1.00000\n",
      "    8    H1  22    0.00000  22    0.00000  33   -2.00000  22    0.00000  33   -2.00000  33   -2.00000  33   -2.00000    1.00000    1.00000\n",
      "    9    H2  22    0.00000  22    0.00000  33   -2.00000  22    0.00000  33   -2.00000  33   -2.00000  33   -2.00000    1.00000    1.00000\n",
      "END\n",
      "\n"
     ]
    },
    {
     "name": "stderr",
     "output_type": "stream",
     "text": [
      "C:\\Users\\benja\\ubuntuHome\\pygromos\\pygromos\\files\\topology\\top.py:19: UserWarning: Module topo-files is under Development and not entirely implemented!\n",
      "  warnings.warn(\"Module topo-files is under Development and not entirely implemented!\")\n"
     ]
    },
    {
     "data": {
      "text/plain": [
       "'fun.ptp'"
      ]
     },
     "execution_count": 1,
     "metadata": {},
     "output_type": "execute_result"
    }
   ],
   "source": [
    "import numpy as np\n",
    "from itertools import combinations\n",
    "from pygromos.files.topology.top import Pertubation_topology as PTP\n",
    "from pygromos.files.blocks.topology_blocks import  atom_pertubation_state, pertubation_state\n",
    "\n",
    "#INPUT:\n",
    "## parameters\n",
    "outpath_new_ptp = \"fun.ptp\"\n",
    "\n",
    "## the states to use:\n",
    "o_state = pertubation_state(IAC=16, CHARGE=-1.0)\n",
    "h_state = pertubation_state(IAC=33, CHARGE=-2.0)\n",
    "\n",
    "## Map for molecule ID with Atom IDS\n",
    "### First atom assumed to be O and last two Hs\n",
    "molecules_atoms = {1: [1,2,3],\n",
    "             2: [4,5,6],\n",
    "             3: [7,8,9],}\n",
    "\n",
    "\n",
    "#BUILD UP STATES\n",
    "## Generate active state mapping:\n",
    "max_active_mols_same_time = len(molecules_atoms)\n",
    "molecule_states={}\n",
    "state_ID=1\n",
    "for active_mols in range(1, max_active_mols_same_time+1):\n",
    "    combis = list(combinations(molecules_atoms, active_mols))\n",
    "    molecule_states.update({state_ID+ind: x for ind, x in enumerate(combis)})\n",
    "    state_ID = state_ID+len(combis)\n",
    "#gives the state number as key and all the active molecules in this state\n",
    "print(\"gives the state number as key and all the active molecules in this state\")\n",
    "print(molecule_states)\n",
    "print()\n",
    "\n",
    "#build state atoms for ptp\n",
    "new_atoms_state_dict = {}\n",
    "for state, molecules in molecule_states.items():\n",
    "    for molecule in molecules:\n",
    "        if(molecule in new_atoms_state_dict):\n",
    "            atoms = new_atoms_state_dict[molecule]\n",
    "            atoms[0].STATES.update({state: o_state})\n",
    "            atoms[1].STATES.update({state: h_state})\n",
    "            atoms[2].STATES.update({state: h_state})\n",
    "        else:\n",
    "            atoms = [atom_pertubation_state(NR=molecules_atoms[molecule][0], NAME=\"O\", STATES={state: o_state}),\n",
    "                     atom_pertubation_state(NR=molecules_atoms[molecule][1], NAME=\"H1\", STATES={state: h_state}) ,\n",
    "                     atom_pertubation_state(NR=molecules_atoms[molecule][2], NAME=\"H2\", STATES={state: h_state})]\n",
    "            new_atoms_state_dict.update({molecule: atoms})\n",
    "\n",
    "print(\"gives the atom_perttubation states for all mols\")\n",
    "print(new_atoms_state_dict)\n",
    "print()\n",
    "\n",
    "##finally make a list for our ptp file (#ThanksGromos)\n",
    "new_atoms_state = np.concatenate(list(new_atoms_state_dict.values()))\n",
    "#print(list(map(lambda x: x.STATES, new_atoms_state)))\n",
    "\n",
    "#BUILD PTP\n",
    "ptp = PTP()\n",
    "ptp.MPERTATOM.add_state_atoms(state_atoms=new_atoms_state)\n",
    "print(ptp)\n",
    "ptp.write(outpath_new_ptp)\n",
    "\n",
    "#TADAAAAA - DONE"
   ]
  },
  {
   "cell_type": "code",
   "execution_count": 9,
   "metadata": {
    "collapsed": false,
    "pycharm": {
     "name": "#%%\n"
    }
   },
   "outputs": [],
   "source": []
  }
 ],
 "metadata": {
  "kernelspec": {
   "display_name": "Python 3",
   "language": "python",
   "name": "python3"
  },
  "language_info": {
   "codemirror_mode": {
    "name": "ipython",
    "version": 2
   },
   "file_extension": ".py",
   "mimetype": "text/x-python",
   "name": "python",
   "nbconvert_exporter": "python",
   "pygments_lexer": "ipython2",
   "version": "2.7.6"
  }
 },
 "nbformat": 4,
 "nbformat_minor": 0
}
