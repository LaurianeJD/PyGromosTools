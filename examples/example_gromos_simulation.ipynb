{
 "cells": [
  {
   "cell_type": "markdown",
   "metadata": {
    "pycharm": {
     "name": "#%% md\n"
    }
   },
   "source": [
    "# SD Simulations with Submission System\n"
   ]
  },
  {
   "cell_type": "markdown",
   "metadata": {},
   "source": [
    "## Imports"
   ]
  },
  {
   "cell_type": "code",
   "execution_count": 1,
   "metadata": {
    "pycharm": {
     "name": "#%%\n"
    }
   },
   "outputs": [
    {
     "name": "stderr",
     "output_type": "stream",
     "text": [
      "LICENSE: Could not open license file \"oe_license.txt\" in local directory\n",
      "LICENSE: N.B. OE_LICENSE environment variable is not set\n",
      "LICENSE: N.B. OE_DIR environment variable is not set\n",
      "LICENSE: No product keys!\n",
      "LICENSE: No product keys!\n",
      "LICENSE: No product keys!\n",
      "LICENSE: No product keys!\n",
      "Warning: Unable to load toolkit 'OpenEye Toolkit'. The Open Force Field Toolkit does not require the OpenEye Toolkits, and can use RDKit/AmberTools instead. However, if you have a valid license for the OpenEye Toolkits, consider installing them for faster performance and additional file format support: https://docs.eyesopen.com/toolkits/python/quickstart-python/linuxosx.html OpenEye offers free Toolkit licenses for academics: https://www.eyesopen.com/academic-licensing\n"
     ]
    }
   ],
   "source": [
    "import os\n",
    "#for analysis\n",
    "import numpy as np\n",
    "from matplotlib import pyplot as plt\n",
    "%matplotlib inline\n",
    "\n",
    "import pygromos\n",
    "from pygromos.files.gromos_system import Gromos_System\n",
    "from pygromos.files.blocks import imd_blocks\n",
    "from pygromos.data.simulation_parameters_templates import template_emin"
   ]
  },
  {
   "cell_type": "markdown",
   "metadata": {
    "pycharm": {
     "name": "#%% md\n"
    }
   },
   "source": [
    "## Input files"
   ]
  },
  {
   "cell_type": "code",
   "execution_count": 2,
   "metadata": {
    "pycharm": {
     "name": "#%%\n"
    }
   },
   "outputs": [],
   "source": [
    "root_dir = project_dir = os.path.abspath(os.path.dirname(pygromos.__file__)+\"/../examples/example_files/SD_Simulation\")\n",
    "root_in_dir = root_dir+\"/SD_input\"\n",
    "cnf_path = root_in_dir+\"/6J29_unitedatom_optimised_geometry.cnf\"\n",
    "top_path = root_in_dir + \"/6J29.top\"\n",
    "sys_name = \"6J29\"\n",
    "\n",
    "#External imd_changes:\n",
    "grom_system = Gromos_System(in_cnf_path=cnf_path, in_top_path=top_path, in_imd_path=template_emin,\n",
    "                            system_name=sys_name, work_folder=root_in_dir)\n",
    "\n",
    "grom_system.cnf.add_empty_box()\n"
   ]
  },
  {
   "cell_type": "markdown",
   "metadata": {},
   "source": [
    "## RUN Emin"
   ]
  },
  {
   "cell_type": "code",
   "execution_count": 3,
   "metadata": {
    "pycharm": {
     "name": "#%%\n"
    }
   },
   "outputs": [
    {
     "name": "stdout",
     "output_type": "stream",
     "text": [
      "/home/fpultar/Documents/repos/PyGromosTools/pygromos\n",
      "/home/fpultar/Documents/repos/PyGromosTools/pygromos\n",
      "/home/fpultar/Documents/repos/PyGromosTools/pygromos\n"
     ]
    }
   ],
   "source": [
    "from pygromos.simulations.hpc_queuing.submission_systems.local import LOCAL as subSystem\n",
    "from pygromos.simulations.modules.preset_simulation_modules import emin\n",
    "step_name  = \"a_vacuum_emin\"\n",
    "\n",
    "#Some special adaptation\n",
    "grom_system.imd.BOUNDCOND.NTB =0\n",
    "grom_system.imd.BOUNDCOND.NDFMIN = 0\n",
    "grom_system.imd.WRITETRAJ = imd_blocks.WRITETRAJ()\n",
    "grom_system.imd.WRITETRAJ.NTWX = 100\n",
    "grom_system.imd.WRITETRAJ.NTWE = 100\n",
    "grom_system.prepare_for_simulation()"
   ]
  },
  {
   "cell_type": "code",
   "execution_count": 4,
   "metadata": {
    "pycharm": {
     "name": "#%%\n"
    }
   },
   "outputs": [
    {
     "data": {
      "text/plain": [
       "'/home/fpultar/Documents/repos/PyGromosTools/examples/example_files/SD_Simulation/test.obj'"
      ]
     },
     "execution_count": 4,
     "metadata": {},
     "output_type": "execute_result"
    }
   ],
   "source": [
    "\n",
    "grom_system.save(root_dir+\"/test.obj\", safe=False)"
   ]
  },
  {
   "cell_type": "code",
   "execution_count": 5,
   "metadata": {
    "pycharm": {
     "name": "#%%\n"
    }
   },
   "outputs": [],
   "source": [
    "grom_system = Gromos_System.load(root_dir+\"/test.obj\")"
   ]
  },
  {
   "cell_type": "code",
   "execution_count": 6,
   "metadata": {
    "pycharm": {
     "name": "#%%\n"
    }
   },
   "outputs": [
    {
     "data": {
      "text/plain": [
       "{'names': ['6J29'], 'number': 1, 'positions': [1], 'number_of_atoms': 27}"
      ]
     },
     "execution_count": 6,
     "metadata": {},
     "output_type": "execute_result"
    }
   ],
   "source": [
    "grom_system.solute_info._asdict()"
   ]
  },
  {
   "cell_type": "code",
   "execution_count": 7,
   "metadata": {},
   "outputs": [
    {
     "data": {
      "application/3dmoljs_load.v0": "<div id=\"3dmolviewer_16426030711238644\"  style=\"position: relative; width: 400px; height: 400px\">\n        <p id=\"3dmolwarning_16426030711238644\" style=\"background-color:#ffcccc;color:black\">You appear to be running in JupyterLab (or JavaScript failed to load for some other reason).  You need to install the 3dmol extension: <br>\n        <tt>jupyter labextension install jupyterlab_3dmol</tt></p>\n        </div>\n<script>\n\nvar loadScriptAsync = function(uri){\n  return new Promise((resolve, reject) => {\n    var tag = document.createElement('script');\n    tag.src = uri;\n    tag.async = true;\n    tag.onload = () => {\n      resolve();\n    };\n  var firstScriptTag = document.getElementsByTagName('script')[0];\n  firstScriptTag.parentNode.insertBefore(tag, firstScriptTag);\n});\n};\n\nif(typeof $3Dmolpromise === 'undefined') {\n$3Dmolpromise = null;\n  $3Dmolpromise = loadScriptAsync('https://3dmol.org/build/3Dmol.js');\n}\n\nvar viewer_16426030711238644 = null;\nvar warn = document.getElementById(\"3dmolwarning_16426030711238644\");\nif(warn) {\n    warn.parentNode.removeChild(warn);\n}\n$3Dmolpromise.then(function() {\nviewer_16426030711238644 = $3Dmol.createViewer($(\"#3dmolviewer_16426030711238644\"),{backgroundColor:\"white\"});\nviewer_16426030711238644.zoomTo();\n\tviewer_16426030711238644.addModel(\"27\\n# \\n# exported wit PyGromosTools\\nH  \\t 3.175184250    3.236724810   -0.033147570\\nN  \\t 2.274315940    2.781606280    0.001306810\\nH  \\t 1.416782250    3.322296160    0.001713060\\nC  \\t 2.181095070    1.431374370   -0.005592500\\nC  \\t 0.937996810    0.742676090    0.006564690\\nC  \\t-0.318071970    1.485020410    0.013966050\\nO  \\t-0.367131860    2.732825070    0.019512710\\nC  \\t-1.592929090    0.712713140    0.009120890\\nC  \\t-1.598091650   -0.696622390    0.005304070\\nC  \\t-2.816056930   -1.391920040   -0.010368410\\nH  \\t-2.796905760   -2.476715640   -0.014610250\\nC  \\t-4.020182540   -0.694735830   -0.023747170\\nH  \\t-4.961151140   -1.237360100   -0.041511190\\nC  \\t-4.017015700    0.706695500   -0.016556350\\nH  \\t-4.956973490    1.251588060   -0.027009570\\nC  \\t-2.811746860    1.403925240    0.001587960\\nH  \\t-2.792327220    2.488630510    0.007939640\\nC  \\t-0.326776420   -1.447190120    0.012811670\\nO  \\t-0.340726970   -2.702340920    0.018093800\\nC  \\t 0.927949130   -0.697080310    0.007695770\\nC  \\t 2.138587500   -1.412571620   -0.001224360\\nO  \\t 2.203375570   -2.754845160    0.006330610\\nH  \\t 1.254989310   -3.073155560    0.013027370\\nC  \\t 3.368043150   -0.706522400   -0.021501740\\nH  \\t 4.290268880   -1.279174370   -0.034881510\\nC  \\t 3.386703780    0.662102630   -0.024141980\\nH  \\t 4.336111750    1.190881090   -0.038307670\\n\");\n\tviewer_16426030711238644.setStyle({\"model\": -1},{\"stick\": {}});\n\tviewer_16426030711238644.zoomTo();\nviewer_16426030711238644.render();\n});\n</script>",
      "text/html": [
       "<div id=\"3dmolviewer_16426030711238644\"  style=\"position: relative; width: 400px; height: 400px\">\n",
       "        <p id=\"3dmolwarning_16426030711238644\" style=\"background-color:#ffcccc;color:black\">You appear to be running in JupyterLab (or JavaScript failed to load for some other reason).  You need to install the 3dmol extension: <br>\n",
       "        <tt>jupyter labextension install jupyterlab_3dmol</tt></p>\n",
       "        </div>\n",
       "<script>\n",
       "\n",
       "var loadScriptAsync = function(uri){\n",
       "  return new Promise((resolve, reject) => {\n",
       "    var tag = document.createElement('script');\n",
       "    tag.src = uri;\n",
       "    tag.async = true;\n",
       "    tag.onload = () => {\n",
       "      resolve();\n",
       "    };\n",
       "  var firstScriptTag = document.getElementsByTagName('script')[0];\n",
       "  firstScriptTag.parentNode.insertBefore(tag, firstScriptTag);\n",
       "});\n",
       "};\n",
       "\n",
       "if(typeof $3Dmolpromise === 'undefined') {\n",
       "$3Dmolpromise = null;\n",
       "  $3Dmolpromise = loadScriptAsync('https://3dmol.org/build/3Dmol.js');\n",
       "}\n",
       "\n",
       "var viewer_16426030711238644 = null;\n",
       "var warn = document.getElementById(\"3dmolwarning_16426030711238644\");\n",
       "if(warn) {\n",
       "    warn.parentNode.removeChild(warn);\n",
       "}\n",
       "$3Dmolpromise.then(function() {\n",
       "viewer_16426030711238644 = $3Dmol.createViewer($(\"#3dmolviewer_16426030711238644\"),{backgroundColor:\"white\"});\n",
       "viewer_16426030711238644.zoomTo();\n",
       "\tviewer_16426030711238644.addModel(\"27\\n# \\n# exported wit PyGromosTools\\nH  \\t 3.175184250    3.236724810   -0.033147570\\nN  \\t 2.274315940    2.781606280    0.001306810\\nH  \\t 1.416782250    3.322296160    0.001713060\\nC  \\t 2.181095070    1.431374370   -0.005592500\\nC  \\t 0.937996810    0.742676090    0.006564690\\nC  \\t-0.318071970    1.485020410    0.013966050\\nO  \\t-0.367131860    2.732825070    0.019512710\\nC  \\t-1.592929090    0.712713140    0.009120890\\nC  \\t-1.598091650   -0.696622390    0.005304070\\nC  \\t-2.816056930   -1.391920040   -0.010368410\\nH  \\t-2.796905760   -2.476715640   -0.014610250\\nC  \\t-4.020182540   -0.694735830   -0.023747170\\nH  \\t-4.961151140   -1.237360100   -0.041511190\\nC  \\t-4.017015700    0.706695500   -0.016556350\\nH  \\t-4.956973490    1.251588060   -0.027009570\\nC  \\t-2.811746860    1.403925240    0.001587960\\nH  \\t-2.792327220    2.488630510    0.007939640\\nC  \\t-0.326776420   -1.447190120    0.012811670\\nO  \\t-0.340726970   -2.702340920    0.018093800\\nC  \\t 0.927949130   -0.697080310    0.007695770\\nC  \\t 2.138587500   -1.412571620   -0.001224360\\nO  \\t 2.203375570   -2.754845160    0.006330610\\nH  \\t 1.254989310   -3.073155560    0.013027370\\nC  \\t 3.368043150   -0.706522400   -0.021501740\\nH  \\t 4.290268880   -1.279174370   -0.034881510\\nC  \\t 3.386703780    0.662102630   -0.024141980\\nH  \\t 4.336111750    1.190881090   -0.038307670\\n\");\n",
       "\tviewer_16426030711238644.setStyle({\"model\": -1},{\"stick\": {}});\n",
       "\tviewer_16426030711238644.zoomTo();\n",
       "viewer_16426030711238644.render();\n",
       "});\n",
       "</script>"
      ]
     },
     "metadata": {},
     "output_type": "display_data"
    },
    {
     "data": {
      "text/plain": [
       "<py3Dmol.view at 0x7f54ae87ba30>"
      ]
     },
     "execution_count": 7,
     "metadata": {},
     "output_type": "execute_result"
    }
   ],
   "source": [
    "grom_system.cnf.visualize()"
   ]
  },
  {
   "cell_type": "code",
   "execution_count": 8,
   "metadata": {
    "pycharm": {
     "name": "#%%\n"
    }
   },
   "outputs": [
    {
     "name": "stdout",
     "output_type": "stream",
     "text": [
      "################################################################################\n",
      "\n",
      "a_vacuum_emin\n",
      "################################################################################\n",
      "\n",
      "Script:  /home/fpultar/Documents/repos/PyGromosTools/pygromos/simulations/hpc_queuing/job_scheduling/schedulers/simulation_scheduler.py\n",
      "\n",
      "################################################################################\n",
      "Simulation Setup:\n",
      "################################################################################\n",
      "\n",
      "steps_per_run:  3000\n",
      "equis:  0\n",
      "simulation runs:  1\n",
      "################################################################################\n",
      "\n",
      " submit Final AnaLysis part \n",
      "\n",
      "/home/fpultar/Documents/repos/PyGromosTools/examples/example_files/SD_Simulation/SD_input/a_vacuum_emin/ana_out.log\n",
      "/home/fpultar/Documents/repos/PyGromosTools/examples/example_files/SD_Simulation/SD_input/a_vacuum_emin/job_analysis.py\n",
      "ANA jobID: 0\n"
     ]
    },
    {
     "data": {
      "text/plain": [
       "\n",
       "GROMOS SYSTEM: a_vacuum_emin\n",
       "################################################################################\n",
       "WORKDIR: /home/fpultar/Documents/repos/PyGromosTools/examples/example_files/SD_Simulation/SD_input\n",
       "LAST CHECKPOINT: /home/fpultar/Documents/repos/PyGromosTools/examples/example_files/SD_Simulation/test.obj\n",
       "\n",
       "GromosXX_bin: None\n",
       "GromosPP_bin: None\n",
       "FILES: \n",
       "\timd: /home/fpultar/Documents/repos/PyGromosTools/examples/example_files/SD_Simulation/SD_input/a_vacuum_emin/input/a_vacuum_emin.imd\n",
       "\ttop: /home/fpultar/Documents/repos/PyGromosTools/examples/example_files/SD_Simulation/SD_input/a_vacuum_emin/input/a_vacuum_emin.top\n",
       "\tcnf: /home/fpultar/Documents/repos/PyGromosTools/examples/example_files/SD_Simulation/SD_input/a_vacuum_emin/analysis/data/a_vacuum_emin.cnf\n",
       "FUTURE PROMISE: True\n",
       "SYSTEM: \n",
       "\tSolute:\t['6J29']  resID: [1]  natoms: 27\n",
       "\tSOLVENT:\t[]  nmolecules: 0  natoms: 0\n",
       "\n"
      ]
     },
     "execution_count": 8,
     "metadata": {},
     "output_type": "execute_result"
    }
   ],
   "source": [
    "from pygromos.simulations.modules.preset_simulation_modules import emin\n",
    "\n",
    "\n",
    "emin_gromos_system = emin(in_gromos_system=grom_system, \n",
    "                                 step_name=step_name, \n",
    "                                 submission_system=subSystem(), \n",
    "                                 in_imd_path=None)\n",
    "jobID = emin_gromos_system._last_jobID\n",
    "emin_gromos_system\n"
   ]
  },
  {
   "cell_type": "code",
   "execution_count": 9,
   "metadata": {},
   "outputs": [
    {
     "data": {
      "application/3dmoljs_load.v0": "<div id=\"3dmolviewer_16426031007446675\"  style=\"position: relative; width: 400px; height: 400px\">\n        <p id=\"3dmolwarning_16426031007446675\" style=\"background-color:#ffcccc;color:black\">You appear to be running in JupyterLab (or JavaScript failed to load for some other reason).  You need to install the 3dmol extension: <br>\n        <tt>jupyter labextension install jupyterlab_3dmol</tt></p>\n        </div>\n<script>\n\nvar loadScriptAsync = function(uri){\n  return new Promise((resolve, reject) => {\n    var tag = document.createElement('script');\n    tag.src = uri;\n    tag.async = true;\n    tag.onload = () => {\n      resolve();\n    };\n  var firstScriptTag = document.getElementsByTagName('script')[0];\n  firstScriptTag.parentNode.insertBefore(tag, firstScriptTag);\n});\n};\n\nif(typeof $3Dmolpromise === 'undefined') {\n$3Dmolpromise = null;\n  $3Dmolpromise = loadScriptAsync('https://3dmol.org/build/3Dmol.js');\n}\n\nvar viewer_16426031007446675 = null;\nvar warn = document.getElementById(\"3dmolwarning_16426031007446675\");\nif(warn) {\n    warn.parentNode.removeChild(warn);\n}\n$3Dmolpromise.then(function() {\nviewer_16426031007446675 = $3Dmol.createViewer($(\"#3dmolviewer_16426031007446675\"),{backgroundColor:\"white\"});\nviewer_16426031007446675.zoomTo();\n\tviewer_16426031007446675.addModel(\"27\\n# \\tMD++\\n# exported wit PyGromosTools\\nH  \\t 4.495836700    4.633694040   -1.199227380\\nN  \\t 3.725342740    4.138794560   -0.797464270\\nH  \\t 2.786621640    4.476828340   -0.865334390\\nC  \\t 3.862732410    2.960095430   -0.153691370\\nC  \\t 2.835032520    1.967600990   -0.091857080\\nC  \\t 1.414215260    2.273925180    0.046142330\\nO  \\t 1.054562520    3.439536390    0.319284570\\nC  \\t 0.375129750    1.192671690    0.085818060\\nC  \\t 0.769264530   -0.148367690    0.005238590\\nC  \\t-0.226493280   -1.131604250   -0.036141050\\nH  \\t 0.057792400   -2.182854640   -0.083375480\\nC  \\t-1.582742980   -0.827044200   -0.044370240\\nH  \\t-2.331310060   -1.617913090   -0.092054170\\nC  \\t-1.975957800    0.514885430    0.025349050\\nH  \\t-3.031419010    0.787480470    0.022125200\\nC  \\t-0.991847810    1.495221280    0.077455080\\nH  \\t-1.313207350    2.534220330    0.150960040\\nC  \\t 2.212186930   -0.476666300   -0.021382020\\nO  \\t 2.572344280   -1.671507110   -0.094836730\\nC  \\t 3.226135160    0.587548410   -0.046408820\\nC  \\t 4.589832710    0.301494650    0.090660250\\nO  \\t 5.151558850   -0.914933920    0.069403640\\nH  \\t 4.386895530   -1.555152040   -0.004882760\\nC  \\t 5.588687650    1.307344720    0.174053700\\nH  \\t 6.626524210    0.999009430    0.300949510\\nC  \\t 5.230989860    2.616206840    0.080312100\\nH  \\t 5.958590910    3.379925340    0.354958750\\n\");\n\tviewer_16426031007446675.setStyle({\"model\": -1},{\"stick\": {}});\n\tviewer_16426031007446675.zoomTo();\nviewer_16426031007446675.render();\n});\n</script>",
      "text/html": [
       "<div id=\"3dmolviewer_16426031007446675\"  style=\"position: relative; width: 400px; height: 400px\">\n",
       "        <p id=\"3dmolwarning_16426031007446675\" style=\"background-color:#ffcccc;color:black\">You appear to be running in JupyterLab (or JavaScript failed to load for some other reason).  You need to install the 3dmol extension: <br>\n",
       "        <tt>jupyter labextension install jupyterlab_3dmol</tt></p>\n",
       "        </div>\n",
       "<script>\n",
       "\n",
       "var loadScriptAsync = function(uri){\n",
       "  return new Promise((resolve, reject) => {\n",
       "    var tag = document.createElement('script');\n",
       "    tag.src = uri;\n",
       "    tag.async = true;\n",
       "    tag.onload = () => {\n",
       "      resolve();\n",
       "    };\n",
       "  var firstScriptTag = document.getElementsByTagName('script')[0];\n",
       "  firstScriptTag.parentNode.insertBefore(tag, firstScriptTag);\n",
       "});\n",
       "};\n",
       "\n",
       "if(typeof $3Dmolpromise === 'undefined') {\n",
       "$3Dmolpromise = null;\n",
       "  $3Dmolpromise = loadScriptAsync('https://3dmol.org/build/3Dmol.js');\n",
       "}\n",
       "\n",
       "var viewer_16426031007446675 = null;\n",
       "var warn = document.getElementById(\"3dmolwarning_16426031007446675\");\n",
       "if(warn) {\n",
       "    warn.parentNode.removeChild(warn);\n",
       "}\n",
       "$3Dmolpromise.then(function() {\n",
       "viewer_16426031007446675 = $3Dmol.createViewer($(\"#3dmolviewer_16426031007446675\"),{backgroundColor:\"white\"});\n",
       "viewer_16426031007446675.zoomTo();\n",
       "\tviewer_16426031007446675.addModel(\"27\\n# \\tMD++\\n# exported wit PyGromosTools\\nH  \\t 4.495836700    4.633694040   -1.199227380\\nN  \\t 3.725342740    4.138794560   -0.797464270\\nH  \\t 2.786621640    4.476828340   -0.865334390\\nC  \\t 3.862732410    2.960095430   -0.153691370\\nC  \\t 2.835032520    1.967600990   -0.091857080\\nC  \\t 1.414215260    2.273925180    0.046142330\\nO  \\t 1.054562520    3.439536390    0.319284570\\nC  \\t 0.375129750    1.192671690    0.085818060\\nC  \\t 0.769264530   -0.148367690    0.005238590\\nC  \\t-0.226493280   -1.131604250   -0.036141050\\nH  \\t 0.057792400   -2.182854640   -0.083375480\\nC  \\t-1.582742980   -0.827044200   -0.044370240\\nH  \\t-2.331310060   -1.617913090   -0.092054170\\nC  \\t-1.975957800    0.514885430    0.025349050\\nH  \\t-3.031419010    0.787480470    0.022125200\\nC  \\t-0.991847810    1.495221280    0.077455080\\nH  \\t-1.313207350    2.534220330    0.150960040\\nC  \\t 2.212186930   -0.476666300   -0.021382020\\nO  \\t 2.572344280   -1.671507110   -0.094836730\\nC  \\t 3.226135160    0.587548410   -0.046408820\\nC  \\t 4.589832710    0.301494650    0.090660250\\nO  \\t 5.151558850   -0.914933920    0.069403640\\nH  \\t 4.386895530   -1.555152040   -0.004882760\\nC  \\t 5.588687650    1.307344720    0.174053700\\nH  \\t 6.626524210    0.999009430    0.300949510\\nC  \\t 5.230989860    2.616206840    0.080312100\\nH  \\t 5.958590910    3.379925340    0.354958750\\n\");\n",
       "\tviewer_16426031007446675.setStyle({\"model\": -1},{\"stick\": {}});\n",
       "\tviewer_16426031007446675.zoomTo();\n",
       "viewer_16426031007446675.render();\n",
       "});\n",
       "</script>"
      ]
     },
     "metadata": {},
     "output_type": "display_data"
    },
    {
     "data": {
      "text/plain": [
       "<py3Dmol.view at 0x7f54ad893ca0>"
      ]
     },
     "execution_count": 9,
     "metadata": {},
     "output_type": "execute_result"
    }
   ],
   "source": [
    "emin_gromos_system.cnf.visualize()"
   ]
  },
  {
   "cell_type": "code",
   "execution_count": 10,
   "metadata": {
    "pycharm": {
     "name": "#%%\n"
    }
   },
   "outputs": [
    {
     "data": {
      "text/plain": [
       "\n",
       "GROMOS SYSTEM: a_vacuum_emin\n",
       "################################################################################\n",
       "WORKDIR: /home/fpultar/Documents/repos/PyGromosTools/examples/example_files/SD_Simulation/SD_input\n",
       "LAST CHECKPOINT: /home/fpultar/Documents/repos/PyGromosTools/examples/example_files/SD_Simulation/test.obj\n",
       "\n",
       "GromosXX_bin: None\n",
       "GromosPP_bin: None\n",
       "FILES: \n",
       "\timd: /home/fpultar/Documents/repos/PyGromosTools/examples/example_files/SD_Simulation/SD_input/a_vacuum_emin/input/a_vacuum_emin.imd\n",
       "\ttop: /home/fpultar/Documents/repos/PyGromosTools/examples/example_files/SD_Simulation/SD_input/a_vacuum_emin/input/a_vacuum_emin.top\n",
       "\tcnf: /home/fpultar/Documents/repos/PyGromosTools/examples/example_files/SD_Simulation/SD_input/a_vacuum_emin/analysis/data/a_vacuum_emin.cnf\n",
       "FUTURE PROMISE: True\n",
       "SYSTEM: \n",
       "\tSolute:\t['6J29']  resID: [1]  natoms: 27\n",
       "\tSOLVENT:\t[]  nmolecules: 0  natoms: 0\n",
       "\n"
      ]
     },
     "execution_count": 10,
     "metadata": {},
     "output_type": "execute_result"
    }
   ],
   "source": [
    "emin_gromos_system"
   ]
  },
  {
   "cell_type": "code",
   "execution_count": 11,
   "metadata": {},
   "outputs": [
    {
     "data": {
      "text/plain": [
       "'/home/fpultar/Documents/repos/PyGromosTools/examples/example_files/SD_Simulation/SD_input/analysis/data'"
      ]
     },
     "execution_count": 11,
     "metadata": {},
     "output_type": "execute_result"
    }
   ],
   "source": [
    "emin_gromos_system.work_folder+\"/analysis/data\""
   ]
  },
  {
   "cell_type": "markdown",
   "metadata": {},
   "source": [
    "## RUN SD Simulation"
   ]
  },
  {
   "cell_type": "code",
   "execution_count": 12,
   "metadata": {
    "pycharm": {
     "name": "#%%\n"
    }
   },
   "outputs": [
    {
     "name": "stderr",
     "output_type": "stream",
     "text": [
      "shell-init: error retrieving current directory: getcwd: cannot access parent directories: No such file or directory\n",
      "shell-init: error retrieving current directory: getcwd: cannot access parent directories: No such file or directory\n",
      "shell-init: error retrieving current directory: getcwd: cannot access parent directories: No such file or directory\n",
      "shell-init: error retrieving current directory: getcwd: cannot access parent directories: No such file or directory\n",
      "shell-init: error retrieving current directory: getcwd: cannot access parent directories: No such file or directory\n",
      "shell-init: error retrieving current directory: getcwd: cannot access parent directories: No such file or directory\n"
     ]
    },
    {
     "name": "stdout",
     "output_type": "stream",
     "text": [
      "################################################################################\n",
      "\n",
      "b_vacuum_sd\n",
      "################################################################################\n",
      "\n",
      "Script:  /home/fpultar/Documents/repos/PyGromosTools/pygromos/simulations/hpc_queuing/job_scheduling/schedulers/simulation_scheduler.py\n",
      "\n",
      "################################################################################\n",
      "Simulation Setup:\n",
      "################################################################################\n",
      "\n",
      "steps_per_run:  3000\n",
      "equis:  1\n",
      "simulation runs:  3\n",
      "Continue Waiting: \n",
      "#####################################################################################\n",
      "\t\tERROR in Submission\n",
      "#####################################################################################\n"
     ]
    },
    {
     "name": "stderr",
     "output_type": "stream",
     "text": [
      "/home/fpultar/Documents/repos/PyGromosTools/pygromos/utils/bash.py:741: UserWarning: TIME OUT WITH: ./job_b_vacuum_sd_4_cleanup.sh\n",
      "  warnings.warn(\"TIME OUT WITH: \"+str(command))\n",
      "Traceback (most recent call last):\n",
      "  File \"/home/fpultar/Documents/repos/PyGromosTools/pygromos/simulations/hpc_queuing/submission_systems/local.py\", line 54, in submit_to_queue\n",
      "    process = bash.execute(command=command, catch_STD=True, env=self._enviroment)\n",
      "  File \"/home/fpultar/Documents/repos/PyGromosTools/pygromos/utils/bash.py\", line 829, in execute\n",
      "    return execute_subprocess(command=command, verbose=verbose, catch_STD=catch_STD, env=env)\n",
      "  File \"/home/fpultar/Documents/repos/PyGromosTools/pygromos/utils/bash.py\", line 752, in execute_subprocess\n",
      "    raise ChildProcessError(msg)\n",
      "ChildProcessError: SubProcess Failed due to returncode: 1\n",
      " COMMAND: \n",
      "\t./job_b_vacuum_sd_4_cleanup.sh\n",
      "STDOUT:\n",
      "\t\n",
      "STDERR:\n",
      "\tb'Fatal Python error: init_import_site: Failed to import the site module\\n'\n",
      "\tb'Python runtime state: initialized\\n'\n",
      "\tb'Traceback (most recent call last):\\n'\n",
      "\tb'  File \"/home/fpultar/miniconda3/envs/pultar-dev-interactive/lib/python3.9/site.py\", line 589, in <module>\\n'\n",
      "\tb'    main()\\n'\n",
      "\tb'  File \"/home/fpultar/miniconda3/envs/pultar-dev-interactive/lib/python3.9/site.py\", line 576, in main\\n'\n",
      "\tb'    known_paths = addsitepackages(known_paths)\\n'\n",
      "\tb'  File \"/home/fpultar/miniconda3/envs/pultar-dev-interactive/lib/python3.9/site.py\", line 359, in addsitepackages\\n'\n",
      "\tb'    addsitedir(sitedir, known_paths)\\n'\n",
      "\tb'  File \"/home/fpultar/miniconda3/envs/pultar-dev-interactive/lib/python3.9/site.py\", line 208, in addsitedir\\n'\n",
      "\tb'    addpackage(sitedir, name, known_paths)\\n'\n",
      "\tb'  File \"/home/fpultar/miniconda3/envs/pultar-dev-interactive/lib/python3.9/site.py\", line 169, in addpackage\\n'\n",
      "\tb'    exec(line)\\n'\n",
      "\tb'  File \"<string>\", line 1, in <module>\\n'\n",
      "\tb'  File \"/home/fpultar/miniconda3/envs/pultar-dev-interactive/lib/python3.9/importlib/util.py\", line 2, in <module>\\n'\n",
      "\tb'    from . import abc\\n'\n",
      "\tb'  File \"/home/fpultar/miniconda3/envs/pultar-dev-interactive/lib/python3.9/importlib/abc.py\", line 17, in <module>\\n'\n",
      "\tb'    from typing import Protocol, runtime_checkable\\n'\n",
      "\tb'  File \"/home/fpultar/miniconda3/envs/pultar-dev-interactive/lib/python3.9/typing.py\", line 21, in <module>\\n'\n",
      "\tb'    import collections\\n'\n",
      "\tb'  File \"/home/fpultar/miniconda3/envs/pultar-dev-interactive/lib/python3.9/collections/__init__.py\", line 39, in <module>\\n'\n",
      "\tb'    from reprlib import recursive_repr as _recursive_repr\\n'\n",
      "\tb'  File \"<frozen importlib._bootstrap>\", line 1007, in _find_and_load\\n'\n",
      "\tb'  File \"<frozen importlib._bootstrap>\", line 982, in _find_and_load_unlocked\\n'\n",
      "\tb'  File \"<frozen importlib._bootstrap>\", line 925, in _find_spec\\n'\n",
      "\tb'  File \"<frozen importlib._bootstrap>\", line 740, in find_spec\\n'\n",
      "\tb'KeyboardInterrupt\\n'\n",
      "\n",
      "During handling of the above exception, another exception occurred:\n",
      "\n",
      "Traceback (most recent call last):\n",
      "  File \"/home/fpultar/Documents/repos/PyGromosTools/pygromos/simulations/hpc_queuing/job_scheduling/schedulers/simulation_scheduler.py\", line 139, in do\n",
      "    previous_job_ID, tmp_jobname, in_simSystem = chain_submission(simSystem=in_simSystem,\n",
      "  File \"/home/fpultar/Documents/repos/PyGromosTools/pygromos/simulations/hpc_queuing/job_scheduling/schedulers/scheduler_functions.py\", line 209, in chain_submission\n",
      "    clean_id = job_submission_system.submit_to_queue(sub_job)\n",
      "  File \"/home/fpultar/Documents/repos/PyGromosTools/pygromos/simulations/hpc_queuing/submission_systems/local.py\", line 68, in submit_to_queue\n",
      "    raise ChildProcessError(\"command failed: \\n\" +\n",
      "ChildProcessError: command failed: \n",
      "./job_b_vacuum_sd_4_cleanup.sh\n",
      "Traceback (most recent call last):\n",
      "  File \"/home/fpultar/Documents/repos/PyGromosTools/pygromos/simulations/hpc_queuing/submission_systems/local.py\", line 54, in submit_to_queue\n",
      "    process = bash.execute(command=command, catch_STD=True, env=self._enviroment)\n",
      "  File \"/home/fpultar/Documents/repos/PyGromosTools/pygromos/utils/bash.py\", line 829, in execute\n",
      "    return execute_subprocess(command=command, verbose=verbose, catch_STD=catch_STD, env=env)\n",
      "  File \"/home/fpultar/Documents/repos/PyGromosTools/pygromos/utils/bash.py\", line 752, in execute_subprocess\n",
      "    raise ChildProcessError(msg)\n",
      "ChildProcessError: SubProcess Failed due to returncode: 1\n",
      " COMMAND: \n",
      "\t./job_b_vacuum_sd_4_cleanup.sh\n",
      "STDOUT:\n",
      "\t\n",
      "STDERR:\n",
      "\tb'Fatal Python error: init_import_site: Failed to import the site module\\n'\n",
      "\tb'Python runtime state: initialized\\n'\n",
      "\tb'Traceback (most recent call last):\\n'\n",
      "\tb'  File \"/home/fpultar/miniconda3/envs/pultar-dev-interactive/lib/python3.9/site.py\", line 589, in <module>\\n'\n",
      "\tb'    main()\\n'\n",
      "\tb'  File \"/home/fpultar/miniconda3/envs/pultar-dev-interactive/lib/python3.9/site.py\", line 576, in main\\n'\n",
      "\tb'    known_paths = addsitepackages(known_paths)\\n'\n",
      "\tb'  File \"/home/fpultar/miniconda3/envs/pultar-dev-interactive/lib/python3.9/site.py\", line 359, in addsitepackages\\n'\n",
      "\tb'    addsitedir(sitedir, known_paths)\\n'\n",
      "\tb'  File \"/home/fpultar/miniconda3/envs/pultar-dev-interactive/lib/python3.9/site.py\", line 208, in addsitedir\\n'\n",
      "\tb'    addpackage(sitedir, name, known_paths)\\n'\n",
      "\tb'  File \"/home/fpultar/miniconda3/envs/pultar-dev-interactive/lib/python3.9/site.py\", line 169, in addpackage\\n'\n",
      "\tb'    exec(line)\\n'\n",
      "\tb'  File \"<string>\", line 1, in <module>\\n'\n",
      "\tb'  File \"/home/fpultar/miniconda3/envs/pultar-dev-interactive/lib/python3.9/importlib/util.py\", line 2, in <module>\\n'\n",
      "\tb'    from . import abc\\n'\n",
      "\tb'  File \"/home/fpultar/miniconda3/envs/pultar-dev-interactive/lib/python3.9/importlib/abc.py\", line 17, in <module>\\n'\n",
      "\tb'    from typing import Protocol, runtime_checkable\\n'\n",
      "\tb'  File \"/home/fpultar/miniconda3/envs/pultar-dev-interactive/lib/python3.9/typing.py\", line 21, in <module>\\n'\n",
      "\tb'    import collections\\n'\n",
      "\tb'  File \"/home/fpultar/miniconda3/envs/pultar-dev-interactive/lib/python3.9/collections/__init__.py\", line 39, in <module>\\n'\n",
      "\tb'    from reprlib import recursive_repr as _recursive_repr\\n'\n",
      "\tb'  File \"<frozen importlib._bootstrap>\", line 1007, in _find_and_load\\n'\n",
      "\tb'  File \"<frozen importlib._bootstrap>\", line 982, in _find_and_load_unlocked\\n'\n",
      "\tb'  File \"<frozen importlib._bootstrap>\", line 925, in _find_spec\\n'\n",
      "\tb'  File \"<frozen importlib._bootstrap>\", line 740, in find_spec\\n'\n",
      "\tb'KeyboardInterrupt\\n'\n",
      "\n",
      "During handling of the above exception, another exception occurred:\n",
      "\n",
      "Traceback (most recent call last):\n",
      "  File \"/home/fpultar/Documents/repos/PyGromosTools/pygromos/simulations/hpc_queuing/job_scheduling/schedulers/simulation_scheduler.py\", line 139, in do\n",
      "    previous_job_ID, tmp_jobname, in_simSystem = chain_submission(simSystem=in_simSystem,\n",
      "  File \"/home/fpultar/Documents/repos/PyGromosTools/pygromos/simulations/hpc_queuing/job_scheduling/schedulers/scheduler_functions.py\", line 209, in chain_submission\n",
      "    clean_id = job_submission_system.submit_to_queue(sub_job)\n",
      "  File \"/home/fpultar/Documents/repos/PyGromosTools/pygromos/simulations/hpc_queuing/submission_systems/local.py\", line 68, in submit_to_queue\n",
      "    raise ChildProcessError(\"command failed: \\n\" +\n",
      "ChildProcessError: command failed: \n",
      "./job_b_vacuum_sd_4_cleanup.sh\n",
      "\n",
      "The above exception was the direct cause of the following exception:\n",
      "\n",
      "Traceback (most recent call last):\n",
      "  File \"/home/fpultar/Documents/repos/PyGromosTools/pygromos/simulations/modules/general_simulation_modules.py\", line 170, in simulation\n",
      "    last_jobID = simulation_scheduler.do(in_simSystem=gromos_system, out_dir_path=out_simulation_dir,\n",
      "  File \"/home/fpultar/Documents/repos/PyGromosTools/pygromos/simulations/hpc_queuing/job_scheduling/schedulers/simulation_scheduler.py\", line 172, in do\n",
      "    raise IOError(\"ERROR in SUBMISSION!\") from err\n",
      "OSError: ERROR in SUBMISSION!\n"
     ]
    },
    {
     "ename": "Exception",
     "evalue": "Could not submit the commands\n\tERROR in SUBMISSION!",
     "output_type": "error",
     "traceback": [
      "\u001b[0;31m---------------------------------------------------------------------------\u001b[0m",
      "\u001b[0;31mChildProcessError\u001b[0m                         Traceback (most recent call last)",
      "\u001b[0;32m~/Documents/repos/PyGromosTools/pygromos/simulations/hpc_queuing/submission_systems/local.py\u001b[0m in \u001b[0;36msubmit_to_queue\u001b[0;34m(self, sub_job)\u001b[0m\n\u001b[1;32m     53\u001b[0m             \u001b[0;32mtry\u001b[0m\u001b[0;34m:\u001b[0m\u001b[0;34m\u001b[0m\u001b[0;34m\u001b[0m\u001b[0m\n\u001b[0;32m---> 54\u001b[0;31m                 \u001b[0mprocess\u001b[0m \u001b[0;34m=\u001b[0m \u001b[0mbash\u001b[0m\u001b[0;34m.\u001b[0m\u001b[0mexecute\u001b[0m\u001b[0;34m(\u001b[0m\u001b[0mcommand\u001b[0m\u001b[0;34m=\u001b[0m\u001b[0mcommand\u001b[0m\u001b[0;34m,\u001b[0m \u001b[0mcatch_STD\u001b[0m\u001b[0;34m=\u001b[0m\u001b[0;32mTrue\u001b[0m\u001b[0;34m,\u001b[0m \u001b[0menv\u001b[0m\u001b[0;34m=\u001b[0m\u001b[0mself\u001b[0m\u001b[0;34m.\u001b[0m\u001b[0m_enviroment\u001b[0m\u001b[0;34m)\u001b[0m\u001b[0;34m\u001b[0m\u001b[0;34m\u001b[0m\u001b[0m\n\u001b[0m\u001b[1;32m     55\u001b[0m                 \u001b[0mstd_out_buff\u001b[0m \u001b[0;34m=\u001b[0m \u001b[0mmap\u001b[0m\u001b[0;34m(\u001b[0m\u001b[0mstr\u001b[0m\u001b[0;34m,\u001b[0m \u001b[0mprocess\u001b[0m\u001b[0;34m.\u001b[0m\u001b[0mstdout\u001b[0m\u001b[0;34m.\u001b[0m\u001b[0mreadlines\u001b[0m\u001b[0;34m(\u001b[0m\u001b[0;34m)\u001b[0m\u001b[0;34m)\u001b[0m\u001b[0;34m\u001b[0m\u001b[0;34m\u001b[0m\u001b[0m\n",
      "\u001b[0;32m~/Documents/repos/PyGromosTools/pygromos/utils/bash.py\u001b[0m in \u001b[0;36mexecute\u001b[0;34m(command, verbose, catch_STD, env)\u001b[0m\n\u001b[1;32m    828\u001b[0m \u001b[0;32mdef\u001b[0m \u001b[0mexecute\u001b[0m\u001b[0;34m(\u001b[0m\u001b[0mcommand\u001b[0m\u001b[0;34m:\u001b[0m \u001b[0;34m(\u001b[0m\u001b[0mstr\u001b[0m \u001b[0;32mor\u001b[0m \u001b[0mList\u001b[0m\u001b[0;34m[\u001b[0m\u001b[0mstr\u001b[0m\u001b[0;34m]\u001b[0m\u001b[0;34m)\u001b[0m\u001b[0;34m,\u001b[0m \u001b[0mverbose\u001b[0m\u001b[0;34m:\u001b[0m \u001b[0mbool\u001b[0m \u001b[0;34m=\u001b[0m \u001b[0;32mFalse\u001b[0m\u001b[0;34m,\u001b[0m \u001b[0mcatch_STD\u001b[0m\u001b[0;34m:\u001b[0m\u001b[0mUnion\u001b[0m\u001b[0;34m[\u001b[0m\u001b[0mbool\u001b[0m\u001b[0;34m,\u001b[0m\u001b[0mstr\u001b[0m\u001b[0;34m]\u001b[0m\u001b[0;34m=\u001b[0m\u001b[0;32mFalse\u001b[0m\u001b[0;34m,\u001b[0m \u001b[0menv\u001b[0m\u001b[0;34m:\u001b[0m\u001b[0mdict\u001b[0m\u001b[0;34m=\u001b[0m\u001b[0;32mNone\u001b[0m\u001b[0;34m)\u001b[0m\u001b[0;34m:\u001b[0m\u001b[0;34m\u001b[0m\u001b[0;34m\u001b[0m\u001b[0m\n\u001b[0;32m--> 829\u001b[0;31m     \u001b[0;32mreturn\u001b[0m \u001b[0mexecute_subprocess\u001b[0m\u001b[0;34m(\u001b[0m\u001b[0mcommand\u001b[0m\u001b[0;34m=\u001b[0m\u001b[0mcommand\u001b[0m\u001b[0;34m,\u001b[0m \u001b[0mverbose\u001b[0m\u001b[0;34m=\u001b[0m\u001b[0mverbose\u001b[0m\u001b[0;34m,\u001b[0m \u001b[0mcatch_STD\u001b[0m\u001b[0;34m=\u001b[0m\u001b[0mcatch_STD\u001b[0m\u001b[0;34m,\u001b[0m \u001b[0menv\u001b[0m\u001b[0;34m=\u001b[0m\u001b[0menv\u001b[0m\u001b[0;34m)\u001b[0m\u001b[0;34m\u001b[0m\u001b[0;34m\u001b[0m\u001b[0m\n\u001b[0m",
      "\u001b[0;32m~/Documents/repos/PyGromosTools/pygromos/utils/bash.py\u001b[0m in \u001b[0;36mexecute_subprocess\u001b[0;34m(command, catch_STD, env, verbose)\u001b[0m\n\u001b[1;32m    751\u001b[0m         \u001b[0mmsg\u001b[0m \u001b[0;34m+=\u001b[0m \u001b[0;34m\"NONE\"\u001b[0m \u001b[0;32mif\u001b[0m\u001b[0;34m(\u001b[0m\u001b[0mp\u001b[0m\u001b[0;34m.\u001b[0m\u001b[0mstdout\u001b[0m \u001b[0;32mis\u001b[0m \u001b[0;32mNone\u001b[0m\u001b[0;34m)\u001b[0m \u001b[0;32melse\u001b[0m \u001b[0;34m\"\\n\\t\"\u001b[0m\u001b[0;34m.\u001b[0m\u001b[0mjoin\u001b[0m\u001b[0;34m(\u001b[0m\u001b[0mmap\u001b[0m\u001b[0;34m(\u001b[0m\u001b[0mstr\u001b[0m\u001b[0;34m,\u001b[0m \u001b[0mp\u001b[0m\u001b[0;34m.\u001b[0m\u001b[0mstderr\u001b[0m\u001b[0;34m.\u001b[0m\u001b[0mreadlines\u001b[0m\u001b[0;34m(\u001b[0m\u001b[0;34m)\u001b[0m\u001b[0;34m)\u001b[0m\u001b[0;34m)\u001b[0m\u001b[0;34m\u001b[0m\u001b[0;34m\u001b[0m\u001b[0m\n\u001b[0;32m--> 752\u001b[0;31m         \u001b[0;32mraise\u001b[0m \u001b[0mChildProcessError\u001b[0m\u001b[0;34m(\u001b[0m\u001b[0mmsg\u001b[0m\u001b[0;34m)\u001b[0m\u001b[0;34m\u001b[0m\u001b[0;34m\u001b[0m\u001b[0m\n\u001b[0m\u001b[1;32m    753\u001b[0m     \u001b[0;32mif\u001b[0m\u001b[0;34m(\u001b[0m\u001b[0mverbose\u001b[0m\u001b[0;34m)\u001b[0m\u001b[0;34m:\u001b[0m \u001b[0mprint\u001b[0m\u001b[0;34m(\u001b[0m\u001b[0;34m\"RETURN: \"\u001b[0m\u001b[0;34m,\u001b[0m \u001b[0mr\u001b[0m\u001b[0;34m)\u001b[0m\u001b[0;34m\u001b[0m\u001b[0;34m\u001b[0m\u001b[0m\n",
      "\u001b[0;31mChildProcessError\u001b[0m: SubProcess Failed due to returncode: 1\n COMMAND: \n\t./job_b_vacuum_sd_4_cleanup.sh\nSTDOUT:\n\t\nSTDERR:\n\tb'Fatal Python error: init_import_site: Failed to import the site module\\n'\n\tb'Python runtime state: initialized\\n'\n\tb'Traceback (most recent call last):\\n'\n\tb'  File \"/home/fpultar/miniconda3/envs/pultar-dev-interactive/lib/python3.9/site.py\", line 589, in <module>\\n'\n\tb'    main()\\n'\n\tb'  File \"/home/fpultar/miniconda3/envs/pultar-dev-interactive/lib/python3.9/site.py\", line 576, in main\\n'\n\tb'    known_paths = addsitepackages(known_paths)\\n'\n\tb'  File \"/home/fpultar/miniconda3/envs/pultar-dev-interactive/lib/python3.9/site.py\", line 359, in addsitepackages\\n'\n\tb'    addsitedir(sitedir, known_paths)\\n'\n\tb'  File \"/home/fpultar/miniconda3/envs/pultar-dev-interactive/lib/python3.9/site.py\", line 208, in addsitedir\\n'\n\tb'    addpackage(sitedir, name, known_paths)\\n'\n\tb'  File \"/home/fpultar/miniconda3/envs/pultar-dev-interactive/lib/python3.9/site.py\", line 169, in addpackage\\n'\n\tb'    exec(line)\\n'\n\tb'  File \"<string>\", line 1, in <module>\\n'\n\tb'  File \"/home/fpultar/miniconda3/envs/pultar-dev-interactive/lib/python3.9/importlib/util.py\", line 2, in <module>\\n'\n\tb'    from . import abc\\n'\n\tb'  File \"/home/fpultar/miniconda3/envs/pultar-dev-interactive/lib/python3.9/importlib/abc.py\", line 17, in <module>\\n'\n\tb'    from typing import Protocol, runtime_checkable\\n'\n\tb'  File \"/home/fpultar/miniconda3/envs/pultar-dev-interactive/lib/python3.9/typing.py\", line 21, in <module>\\n'\n\tb'    import collections\\n'\n\tb'  File \"/home/fpultar/miniconda3/envs/pultar-dev-interactive/lib/python3.9/collections/__init__.py\", line 39, in <module>\\n'\n\tb'    from reprlib import recursive_repr as _recursive_repr\\n'\n\tb'  File \"<frozen importlib._bootstrap>\", line 1007, in _find_and_load\\n'\n\tb'  File \"<frozen importlib._bootstrap>\", line 982, in _find_and_load_unlocked\\n'\n\tb'  File \"<frozen importlib._bootstrap>\", line 925, in _find_spec\\n'\n\tb'  File \"<frozen importlib._bootstrap>\", line 740, in find_spec\\n'\n\tb'KeyboardInterrupt\\n'",
      "\nDuring handling of the above exception, another exception occurred:\n",
      "\u001b[0;31mChildProcessError\u001b[0m                         Traceback (most recent call last)",
      "\u001b[0;32m~/Documents/repos/PyGromosTools/pygromos/simulations/hpc_queuing/job_scheduling/schedulers/simulation_scheduler.py\u001b[0m in \u001b[0;36mdo\u001b[0;34m(in_simSystem, out_dir_path, simulation_run_num, equilibration_run_num, work_dir, analysis_script_path, submission_system, previous_job_ID, no_double_submit, verbose, verbose_lvl)\u001b[0m\n\u001b[1;32m    138\u001b[0m         \u001b[0mprevious_job_ID\u001b[0m \u001b[0;34m=\u001b[0m \u001b[0mprevious_job_ID\u001b[0m \u001b[0;32mif\u001b[0m\u001b[0;34m(\u001b[0m\u001b[0meq_job_id\u001b[0m \u001b[0;32mis\u001b[0m \u001b[0;32mNone\u001b[0m\u001b[0;34m)\u001b[0m \u001b[0;32melse\u001b[0m \u001b[0meq_job_id\u001b[0m\u001b[0;34m\u001b[0m\u001b[0;34m\u001b[0m\u001b[0m\n\u001b[0;32m--> 139\u001b[0;31m         previous_job_ID, tmp_jobname, in_simSystem = chain_submission(simSystem=in_simSystem,\n\u001b[0m\u001b[1;32m    140\u001b[0m                          \u001b[0mout_dir_path\u001b[0m\u001b[0;34m=\u001b[0m \u001b[0mout_dir_path\u001b[0m\u001b[0;34m,\u001b[0m \u001b[0mout_prefix\u001b[0m\u001b[0;34m=\u001b[0m\u001b[0mtmp_outprefix\u001b[0m\u001b[0;34m,\u001b[0m\u001b[0;34m\u001b[0m\u001b[0;34m\u001b[0m\u001b[0m\n",
      "\u001b[0;32m~/Documents/repos/PyGromosTools/pygromos/simulations/hpc_queuing/job_scheduling/schedulers/scheduler_functions.py\u001b[0m in \u001b[0;36mchain_submission\u001b[0;34m(simSystem, out_dir_path, out_prefix, chain_job_repetitions, worker_script, job_submission_system, jobname, run_analysis_script_every_x_runs, in_analysis_script_path, start_run_index, prefix_command, previous_job_ID, work_dir, initialize_first_run, reinitialize, verbose, verbose_lvl)\u001b[0m\n\u001b[1;32m    208\u001b[0m                                         errLog=tmp_outdir + \"/\" + out_prefix + \"_cleanup.err\")\n\u001b[0;32m--> 209\u001b[0;31m                 \u001b[0mclean_id\u001b[0m \u001b[0;34m=\u001b[0m \u001b[0mjob_submission_system\u001b[0m\u001b[0;34m.\u001b[0m\u001b[0msubmit_to_queue\u001b[0m\u001b[0;34m(\u001b[0m\u001b[0msub_job\u001b[0m\u001b[0;34m)\u001b[0m\u001b[0;34m\u001b[0m\u001b[0;34m\u001b[0m\u001b[0m\n\u001b[0m\u001b[1;32m    210\u001b[0m \u001b[0;34m\u001b[0m\u001b[0m\n",
      "\u001b[0;32m~/Documents/repos/PyGromosTools/pygromos/simulations/hpc_queuing/submission_systems/local.py\u001b[0m in \u001b[0;36msubmit_to_queue\u001b[0;34m(self, sub_job)\u001b[0m\n\u001b[1;32m     67\u001b[0m                     \u001b[0;32mpass\u001b[0m\u001b[0;34m\u001b[0m\u001b[0;34m\u001b[0m\u001b[0m\n\u001b[0;32m---> 68\u001b[0;31m                 raise ChildProcessError(\"command failed: \\n\" +\n\u001b[0m\u001b[1;32m     69\u001b[0m                                         str(command))\n",
      "\u001b[0;31mChildProcessError\u001b[0m: command failed: \n./job_b_vacuum_sd_4_cleanup.sh",
      "\nThe above exception was the direct cause of the following exception:\n",
      "\u001b[0;31mOSError\u001b[0m                                   Traceback (most recent call last)",
      "\u001b[0;32m~/Documents/repos/PyGromosTools/pygromos/simulations/modules/general_simulation_modules.py\u001b[0m in \u001b[0;36msimulation\u001b[0;34m(in_gromos_simulation_system, override_project_dir, step_name, in_imd_path, submission_system, simulation_runs, equilibration_runs, previous_simulation_run, force_simulation, analysis_script, analysis_control_dict, verbose, verbose_lvl, _template_imd_path)\u001b[0m\n\u001b[1;32m    169\u001b[0m         \u001b[0;32melse\u001b[0m\u001b[0;34m:\u001b[0m\u001b[0;34m\u001b[0m\u001b[0;34m\u001b[0m\u001b[0m\n\u001b[0;32m--> 170\u001b[0;31m             last_jobID = simulation_scheduler.do(in_simSystem=gromos_system, out_dir_path=out_simulation_dir,\n\u001b[0m\u001b[1;32m    171\u001b[0m                                                  \u001b[0msimulation_run_num\u001b[0m\u001b[0;34m=\u001b[0m\u001b[0msimulation_runs\u001b[0m\u001b[0;34m,\u001b[0m \u001b[0mequilibration_run_num\u001b[0m\u001b[0;34m=\u001b[0m\u001b[0mequilibration_runs\u001b[0m\u001b[0;34m,\u001b[0m\u001b[0;34m\u001b[0m\u001b[0;34m\u001b[0m\u001b[0m\n",
      "\u001b[0;32m~/Documents/repos/PyGromosTools/pygromos/simulations/hpc_queuing/job_scheduling/schedulers/simulation_scheduler.py\u001b[0m in \u001b[0;36mdo\u001b[0;34m(in_simSystem, out_dir_path, simulation_run_num, equilibration_run_num, work_dir, analysis_script_path, submission_system, previous_job_ID, no_double_submit, verbose, verbose_lvl)\u001b[0m\n\u001b[1;32m    171\u001b[0m         \u001b[0mtraceback\u001b[0m\u001b[0;34m.\u001b[0m\u001b[0mprint_exception\u001b[0m\u001b[0;34m(\u001b[0m\u001b[0;34m*\u001b[0m\u001b[0msys\u001b[0m\u001b[0;34m.\u001b[0m\u001b[0mexc_info\u001b[0m\u001b[0;34m(\u001b[0m\u001b[0;34m)\u001b[0m\u001b[0;34m)\u001b[0m\u001b[0;34m\u001b[0m\u001b[0;34m\u001b[0m\u001b[0m\n\u001b[0;32m--> 172\u001b[0;31m         \u001b[0;32mraise\u001b[0m \u001b[0mIOError\u001b[0m\u001b[0;34m(\u001b[0m\u001b[0;34m\"ERROR in SUBMISSION!\"\u001b[0m\u001b[0;34m)\u001b[0m \u001b[0;32mfrom\u001b[0m \u001b[0merr\u001b[0m\u001b[0;34m\u001b[0m\u001b[0;34m\u001b[0m\u001b[0m\n\u001b[0m\u001b[1;32m    173\u001b[0m \u001b[0;34m\u001b[0m\u001b[0m\n",
      "\u001b[0;31mOSError\u001b[0m: ERROR in SUBMISSION!",
      "\nDuring handling of the above exception, another exception occurred:\n",
      "\u001b[0;31mException\u001b[0m                                 Traceback (most recent call last)",
      "\u001b[0;32m/tmp/ipykernel_15406/4108162448.py\u001b[0m in \u001b[0;36m<module>\u001b[0;34m\u001b[0m\n\u001b[1;32m      3\u001b[0m \u001b[0mstep_name\u001b[0m  \u001b[0;34m=\u001b[0m \u001b[0;34m\"b_vacuum_sd\"\u001b[0m\u001b[0;34m\u001b[0m\u001b[0;34m\u001b[0m\u001b[0m\n\u001b[1;32m      4\u001b[0m \u001b[0;34m\u001b[0m\u001b[0m\n\u001b[0;32m----> 5\u001b[0;31m sd_gromos_system  = sd(in_gromos_system=emin_gromos_system,\n\u001b[0m\u001b[1;32m      6\u001b[0m                               \u001b[0mstep_name\u001b[0m\u001b[0;34m=\u001b[0m\u001b[0mstep_name\u001b[0m\u001b[0;34m,\u001b[0m\u001b[0;34m\u001b[0m\u001b[0;34m\u001b[0m\u001b[0m\n\u001b[1;32m      7\u001b[0m                        \u001b[0msubmission_system\u001b[0m\u001b[0;34m=\u001b[0m\u001b[0msubSystem\u001b[0m\u001b[0;34m(\u001b[0m\u001b[0mnmpi\u001b[0m\u001b[0;34m=\u001b[0m\u001b[0;36m1\u001b[0m\u001b[0;34m)\u001b[0m\u001b[0;34m,\u001b[0m\u001b[0;34m\u001b[0m\u001b[0;34m\u001b[0m\u001b[0m\n",
      "\u001b[0;32m~/Documents/repos/PyGromosTools/pygromos/simulations/modules/preset_simulation_modules.py\u001b[0m in \u001b[0;36msd\u001b[0;34m(in_gromos_system, step_name, override_project_dir, in_imd_path, submission_system, simulation_runs, equilibration_runs, previous_simulation_run, _template_imd_path, analysis_script)\u001b[0m\n\u001b[1;32m     48\u001b[0m        \u001b[0msubmission_system\u001b[0m\u001b[0;34m:\u001b[0m \u001b[0m_SubmissionSystem\u001b[0m \u001b[0;34m=\u001b[0m \u001b[0mLOCAL\u001b[0m\u001b[0;34m(\u001b[0m\u001b[0;34m)\u001b[0m\u001b[0;34m,\u001b[0m \u001b[0msimulation_runs\u001b[0m\u001b[0;34m:\u001b[0m \u001b[0mint\u001b[0m \u001b[0;34m=\u001b[0m \u001b[0;36m1\u001b[0m\u001b[0;34m,\u001b[0m \u001b[0mequilibration_runs\u001b[0m\u001b[0;34m:\u001b[0m \u001b[0mint\u001b[0m \u001b[0;34m=\u001b[0m \u001b[0;36m0\u001b[0m\u001b[0;34m,\u001b[0m\u001b[0;34m\u001b[0m\u001b[0;34m\u001b[0m\u001b[0m\n\u001b[1;32m     49\u001b[0m        previous_simulation_run: int = None, _template_imd_path:str=template_sd, analysis_script: callable = simulation_analysis.do) -> Tuple[Gromos_System, int]:\n\u001b[0;32m---> 50\u001b[0;31m     return simulation(in_gromos_simulation_system=in_gromos_system, override_project_dir=override_project_dir, previous_simulation_run=previous_simulation_run,\n\u001b[0m\u001b[1;32m     51\u001b[0m                       \u001b[0mstep_name\u001b[0m\u001b[0;34m=\u001b[0m\u001b[0mstep_name\u001b[0m\u001b[0;34m,\u001b[0m \u001b[0min_imd_path\u001b[0m\u001b[0;34m=\u001b[0m\u001b[0min_imd_path\u001b[0m\u001b[0;34m,\u001b[0m \u001b[0msubmission_system\u001b[0m\u001b[0;34m=\u001b[0m\u001b[0msubmission_system\u001b[0m\u001b[0;34m,\u001b[0m\u001b[0;34m\u001b[0m\u001b[0;34m\u001b[0m\u001b[0m\n\u001b[1;32m     52\u001b[0m                       \u001b[0msimulation_runs\u001b[0m\u001b[0;34m=\u001b[0m\u001b[0msimulation_runs\u001b[0m\u001b[0;34m,\u001b[0m \u001b[0mequilibration_runs\u001b[0m\u001b[0;34m=\u001b[0m\u001b[0mequilibration_runs\u001b[0m\u001b[0;34m,\u001b[0m\u001b[0;34m\u001b[0m\u001b[0;34m\u001b[0m\u001b[0m\n",
      "\u001b[0;32m~/Documents/repos/PyGromosTools/pygromos/simulations/modules/general_simulation_modules.py\u001b[0m in \u001b[0;36msimulation\u001b[0;34m(in_gromos_simulation_system, override_project_dir, step_name, in_imd_path, submission_system, simulation_runs, equilibration_runs, previous_simulation_run, force_simulation, analysis_script, analysis_control_dict, verbose, verbose_lvl, _template_imd_path)\u001b[0m\n\u001b[1;32m    174\u001b[0m     \u001b[0;32mexcept\u001b[0m \u001b[0mException\u001b[0m \u001b[0;32mas\u001b[0m \u001b[0merr\u001b[0m\u001b[0;34m:\u001b[0m\u001b[0;34m\u001b[0m\u001b[0;34m\u001b[0m\u001b[0m\n\u001b[1;32m    175\u001b[0m         \u001b[0mtraceback\u001b[0m\u001b[0;34m.\u001b[0m\u001b[0mprint_exception\u001b[0m\u001b[0;34m(\u001b[0m\u001b[0;34m*\u001b[0m\u001b[0msys\u001b[0m\u001b[0;34m.\u001b[0m\u001b[0mexc_info\u001b[0m\u001b[0;34m(\u001b[0m\u001b[0;34m)\u001b[0m\u001b[0;34m)\u001b[0m\u001b[0;34m\u001b[0m\u001b[0;34m\u001b[0m\u001b[0m\n\u001b[0;32m--> 176\u001b[0;31m         \u001b[0;32mraise\u001b[0m \u001b[0mException\u001b[0m\u001b[0;34m(\u001b[0m\u001b[0;34m\"Could not submit the commands\\n\\t\"\u001b[0m\u001b[0;34m+\u001b[0m\u001b[0;34m\"\\n\\t\"\u001b[0m\u001b[0;34m.\u001b[0m\u001b[0mjoin\u001b[0m\u001b[0;34m(\u001b[0m\u001b[0mmap\u001b[0m\u001b[0;34m(\u001b[0m\u001b[0mstr\u001b[0m\u001b[0;34m,\u001b[0m \u001b[0merr\u001b[0m\u001b[0;34m.\u001b[0m\u001b[0margs\u001b[0m\u001b[0;34m)\u001b[0m\u001b[0;34m)\u001b[0m\u001b[0;34m)\u001b[0m\u001b[0;34m\u001b[0m\u001b[0;34m\u001b[0m\u001b[0m\n\u001b[0m\u001b[1;32m    177\u001b[0m \u001b[0;34m\u001b[0m\u001b[0m\n\u001b[1;32m    178\u001b[0m \u001b[0;34m\u001b[0m\u001b[0m\n",
      "\u001b[0;31mException\u001b[0m: Could not submit the commands\n\tERROR in SUBMISSION!"
     ]
    }
   ],
   "source": [
    "from pygromos.simulations.modules.preset_simulation_modules import sd\n",
    "\n",
    "step_name  = \"b_vacuum_sd\"\n",
    "\n",
    "sd_gromos_system  = sd(in_gromos_system=emin_gromos_system,\n",
    "                              step_name=step_name, \n",
    "                       submission_system=subSystem(nmpi=1),\n",
    "                      equilibration_runs=1, simulation_runs=3)\n",
    "jobID = sd_gromos_system._last_jobID\n",
    "\n",
    "sd_gromos_system\n",
    "\n",
    "sd_gromos_system.cnf.visualize()"
   ]
  },
  {
   "cell_type": "code",
   "execution_count": null,
   "metadata": {},
   "outputs": [],
   "source": []
  },
  {
   "cell_type": "markdown",
   "metadata": {
    "pycharm": {
     "name": "#%% md\n"
    }
   },
   "source": [
    "## Further Analysis:\n",
    "Transform the trc into a pdb traj to check it out with pymol :!)"
   ]
  },
  {
   "cell_type": "code",
   "execution_count": null,
   "metadata": {
    "pycharm": {
     "name": "#%%\n"
    }
   },
   "outputs": [],
   "source": [
    "#final analysis dir:\n",
    "from pygromos.utils import bash\n",
    "\n",
    "out_ana = project_dir+\"/c_ana\"\n",
    "if(not os.path.exists(out_ana)):\n",
    "    bash.make_folder(out_ana)"
   ]
  },
  {
   "cell_type": "markdown",
   "metadata": {},
   "source": [
    "### Coordinate Analysis"
   ]
  },
  {
   "cell_type": "code",
   "execution_count": null,
   "metadata": {
    "pycharm": {
     "name": "#%%\n"
    },
    "scrolled": true,
    "tags": []
   },
   "outputs": [],
   "source": [
    "from pygromos.files.trajectory.trc import Trc\n",
    "\n",
    "trc = sd_gromos_system.trc\n",
    "trc.write_pdb(out_ana+\"/sd_traj.pdb\", cnf_file=cnf_path)#grom_system.cnf.path)\n",
    "trc"
   ]
  },
  {
   "cell_type": "code",
   "execution_count": null,
   "metadata": {},
   "outputs": [],
   "source": [
    "traj = trc.visualize(grom_system.cnf)\n",
    "traj"
   ]
  },
  {
   "cell_type": "markdown",
   "metadata": {},
   "source": [
    "### Energy Analysis"
   ]
  },
  {
   "cell_type": "code",
   "execution_count": null,
   "metadata": {
    "pycharm": {
     "name": "#%%\n"
    }
   },
   "outputs": [],
   "source": [
    "from pygromos.files.trajectory.tre import Tre\n",
    "\n",
    "tre = sd_gromos_system.tre\n",
    "tre\n"
   ]
  },
  {
   "cell_type": "code",
   "execution_count": null,
   "metadata": {
    "pycharm": {
     "name": "#%%\n"
    }
   },
   "outputs": [],
   "source": [
    "#Plot Potential Energies\n",
    "V_tot = np.array(list(map(lambda x: x[2], tre.database.totals)))\n",
    "step = len(tre.database.TIMESTEP_time)//10\n",
    "\n",
    "plt.plot(tre.database.TIMESTEP_time, V_tot)\n",
    "plt.xticks(np.round(list(tre.database.TIMESTEP_time[::step]),2))\n",
    "plt.xlabel(\"$t~[ps]$\")\n",
    "plt.ylabel(\"$V~[kJ]$\")\n",
    "plt.title(\"V total timeseries\")\n",
    "plt.savefig(out_ana+\"/potential_energy_timeseries.png\")"
   ]
  },
  {
   "cell_type": "code",
   "execution_count": null,
   "metadata": {},
   "outputs": [],
   "source": []
  },
  {
   "cell_type": "code",
   "execution_count": null,
   "metadata": {},
   "outputs": [],
   "source": []
  }
 ],
 "metadata": {
  "kernelspec": {
   "display_name": "Python 3 (ipykernel)",
   "language": "python",
   "name": "python3"
  },
  "language_info": {
   "codemirror_mode": {
    "name": "ipython",
    "version": 3
   },
   "file_extension": ".py",
   "mimetype": "text/x-python",
   "name": "python",
   "nbconvert_exporter": "python",
   "pygments_lexer": "ipython3",
   "version": "3.9.7"
  }
 },
 "nbformat": 4,
 "nbformat_minor": 4
}
